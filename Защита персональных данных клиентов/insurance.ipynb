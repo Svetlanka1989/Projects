{
 "cells": [
  {
   "cell_type": "markdown",
   "metadata": {
    "toc": true
   },
   "source": [
    "<h1>Содержание<span class=\"tocSkip\"></span></h1>\n",
    "<div class=\"toc\"><ul class=\"toc-item\"><li><span><a href=\"#Загрузка-и-подготовка-данных\" data-toc-modified-id=\"Загрузка-и-подготовка-данных-1\"><span class=\"toc-item-num\">1&nbsp;&nbsp;</span>Загрузка и подготовка данных</a></span></li><li><span><a href=\"#Умножение-матриц\" data-toc-modified-id=\"Умножение-матриц-2\"><span class=\"toc-item-num\">2&nbsp;&nbsp;</span>Умножение матриц</a></span></li><li><span><a href=\"#Алгоритм-преобразования\" data-toc-modified-id=\"Алгоритм-преобразования-3\"><span class=\"toc-item-num\">3&nbsp;&nbsp;</span>Алгоритм преобразования</a></span></li><li><span><a href=\"#Проверка-алгоритма\" data-toc-modified-id=\"Проверка-алгоритма-4\"><span class=\"toc-item-num\">4&nbsp;&nbsp;</span>Проверка алгоритма</a></span></li></ul></div>"
   ]
  },
  {
   "cell_type": "markdown",
   "metadata": {},
   "source": [
    "# Защита персональных данных клиентов"
   ]
  },
  {
   "cell_type": "markdown",
   "metadata": {},
   "source": [
    "Защитим данные клиентов страховой компании «Хоть потоп», чтобы при преобразовании качество моделей машинного обучения не ухудшилось.Разработаем такой метод преобразования данных, чтобы по ним было сложно восстановить персональную информацию и  обоснуем корректность его работы."
   ]
  },
  {
   "cell_type": "markdown",
   "metadata": {},
   "source": [
    "## Загрузка и подготовка данных"
   ]
  },
  {
   "cell_type": "markdown",
   "metadata": {},
   "source": [
    "Откроем файл с данными, изучим общую информацию и подготовим данные.\n",
    "\n",
    "Набор данных находится в файле: \n",
    "- /datasets/insurance.csv\n",
    "\n",
    "\n",
    "\n",
    "Таким образом, исследование пройдёт в четыре этапа:\n",
    "\n",
    "- Загрузка и подготовка данных.\n",
    "- Умножение матрицы.\n",
    "- Алгоритм преобразования.\n",
    "- Проверка алгоритма."
   ]
  },
  {
   "cell_type": "code",
   "execution_count": 1,
   "metadata": {},
   "outputs": [],
   "source": [
    "# импорт библиотек\n",
    "import pandas as pd\n",
    "import numpy as np\n",
    "import seaborn as sns\n",
    "import matplotlib.pyplot as plt\n",
    "from sklearn.model_selection import train_test_split\n",
    "from sklearn.linear_model import LinearRegression\n",
    "from sklearn.metrics import r2_score\n",
    "from numpy import linalg as LA\n",
    "from numpy.linalg import inv"
   ]
  },
  {
   "cell_type": "code",
   "execution_count": 2,
   "metadata": {},
   "outputs": [],
   "source": [
    "# чтение файла с данными и сохранение \n",
    "data = pd.read_csv('/datasets/insurance.csv')"
   ]
  },
  {
   "cell_type": "markdown",
   "metadata": {},
   "source": [
    "**Описание данных**:\n",
    "\n",
    "**Признаки:**\n",
    "\n",
    "- пол\n",
    "- возраст \n",
    "- зарплата застрахованного\n",
    "- количество членов его семьи.\n",
    "\n",
    "**Целевой признак:**\n",
    "\n",
    "- количество страховых выплат клиенту за последние 5 лет."
   ]
  },
  {
   "cell_type": "code",
   "execution_count": 3,
   "metadata": {},
   "outputs": [
    {
     "data": {
      "text/html": [
       "<div>\n",
       "<style scoped>\n",
       "    .dataframe tbody tr th:only-of-type {\n",
       "        vertical-align: middle;\n",
       "    }\n",
       "\n",
       "    .dataframe tbody tr th {\n",
       "        vertical-align: top;\n",
       "    }\n",
       "\n",
       "    .dataframe thead th {\n",
       "        text-align: right;\n",
       "    }\n",
       "</style>\n",
       "<table border=\"1\" class=\"dataframe\">\n",
       "  <thead>\n",
       "    <tr style=\"text-align: right;\">\n",
       "      <th></th>\n",
       "      <th>Пол</th>\n",
       "      <th>Возраст</th>\n",
       "      <th>Зарплата</th>\n",
       "      <th>Члены семьи</th>\n",
       "      <th>Страховые выплаты</th>\n",
       "    </tr>\n",
       "  </thead>\n",
       "  <tbody>\n",
       "    <tr>\n",
       "      <th>0</th>\n",
       "      <td>1</td>\n",
       "      <td>41.0</td>\n",
       "      <td>49600.0</td>\n",
       "      <td>1</td>\n",
       "      <td>0</td>\n",
       "    </tr>\n",
       "    <tr>\n",
       "      <th>1</th>\n",
       "      <td>0</td>\n",
       "      <td>46.0</td>\n",
       "      <td>38000.0</td>\n",
       "      <td>1</td>\n",
       "      <td>1</td>\n",
       "    </tr>\n",
       "    <tr>\n",
       "      <th>2</th>\n",
       "      <td>0</td>\n",
       "      <td>29.0</td>\n",
       "      <td>21000.0</td>\n",
       "      <td>0</td>\n",
       "      <td>0</td>\n",
       "    </tr>\n",
       "    <tr>\n",
       "      <th>3</th>\n",
       "      <td>0</td>\n",
       "      <td>21.0</td>\n",
       "      <td>41700.0</td>\n",
       "      <td>2</td>\n",
       "      <td>0</td>\n",
       "    </tr>\n",
       "    <tr>\n",
       "      <th>4</th>\n",
       "      <td>1</td>\n",
       "      <td>28.0</td>\n",
       "      <td>26100.0</td>\n",
       "      <td>0</td>\n",
       "      <td>0</td>\n",
       "    </tr>\n",
       "  </tbody>\n",
       "</table>\n",
       "</div>"
      ],
      "text/plain": [
       "   Пол  Возраст  Зарплата  Члены семьи  Страховые выплаты\n",
       "0    1     41.0   49600.0            1                  0\n",
       "1    0     46.0   38000.0            1                  1\n",
       "2    0     29.0   21000.0            0                  0\n",
       "3    0     21.0   41700.0            2                  0\n",
       "4    1     28.0   26100.0            0                  0"
      ]
     },
     "execution_count": 3,
     "metadata": {},
     "output_type": "execute_result"
    }
   ],
   "source": [
    "data.head()"
   ]
  },
  {
   "cell_type": "code",
   "execution_count": 4,
   "metadata": {},
   "outputs": [
    {
     "data": {
      "text/html": [
       "<div>\n",
       "<style scoped>\n",
       "    .dataframe tbody tr th:only-of-type {\n",
       "        vertical-align: middle;\n",
       "    }\n",
       "\n",
       "    .dataframe tbody tr th {\n",
       "        vertical-align: top;\n",
       "    }\n",
       "\n",
       "    .dataframe thead th {\n",
       "        text-align: right;\n",
       "    }\n",
       "</style>\n",
       "<table border=\"1\" class=\"dataframe\">\n",
       "  <thead>\n",
       "    <tr style=\"text-align: right;\">\n",
       "      <th></th>\n",
       "      <th>Пол</th>\n",
       "      <th>Возраст</th>\n",
       "      <th>Зарплата</th>\n",
       "      <th>Члены семьи</th>\n",
       "      <th>Страховые выплаты</th>\n",
       "    </tr>\n",
       "  </thead>\n",
       "  <tbody>\n",
       "    <tr>\n",
       "      <th>count</th>\n",
       "      <td>5000.000000</td>\n",
       "      <td>5000.000000</td>\n",
       "      <td>5000.000000</td>\n",
       "      <td>5000.000000</td>\n",
       "      <td>5000.000000</td>\n",
       "    </tr>\n",
       "    <tr>\n",
       "      <th>mean</th>\n",
       "      <td>0.499000</td>\n",
       "      <td>30.952800</td>\n",
       "      <td>39916.360000</td>\n",
       "      <td>1.194200</td>\n",
       "      <td>0.148000</td>\n",
       "    </tr>\n",
       "    <tr>\n",
       "      <th>std</th>\n",
       "      <td>0.500049</td>\n",
       "      <td>8.440807</td>\n",
       "      <td>9900.083569</td>\n",
       "      <td>1.091387</td>\n",
       "      <td>0.463183</td>\n",
       "    </tr>\n",
       "    <tr>\n",
       "      <th>min</th>\n",
       "      <td>0.000000</td>\n",
       "      <td>18.000000</td>\n",
       "      <td>5300.000000</td>\n",
       "      <td>0.000000</td>\n",
       "      <td>0.000000</td>\n",
       "    </tr>\n",
       "    <tr>\n",
       "      <th>25%</th>\n",
       "      <td>0.000000</td>\n",
       "      <td>24.000000</td>\n",
       "      <td>33300.000000</td>\n",
       "      <td>0.000000</td>\n",
       "      <td>0.000000</td>\n",
       "    </tr>\n",
       "    <tr>\n",
       "      <th>50%</th>\n",
       "      <td>0.000000</td>\n",
       "      <td>30.000000</td>\n",
       "      <td>40200.000000</td>\n",
       "      <td>1.000000</td>\n",
       "      <td>0.000000</td>\n",
       "    </tr>\n",
       "    <tr>\n",
       "      <th>75%</th>\n",
       "      <td>1.000000</td>\n",
       "      <td>37.000000</td>\n",
       "      <td>46600.000000</td>\n",
       "      <td>2.000000</td>\n",
       "      <td>0.000000</td>\n",
       "    </tr>\n",
       "    <tr>\n",
       "      <th>max</th>\n",
       "      <td>1.000000</td>\n",
       "      <td>65.000000</td>\n",
       "      <td>79000.000000</td>\n",
       "      <td>6.000000</td>\n",
       "      <td>5.000000</td>\n",
       "    </tr>\n",
       "  </tbody>\n",
       "</table>\n",
       "</div>"
      ],
      "text/plain": [
       "               Пол      Возраст      Зарплата  Члены семьи  Страховые выплаты\n",
       "count  5000.000000  5000.000000   5000.000000  5000.000000        5000.000000\n",
       "mean      0.499000    30.952800  39916.360000     1.194200           0.148000\n",
       "std       0.500049     8.440807   9900.083569     1.091387           0.463183\n",
       "min       0.000000    18.000000   5300.000000     0.000000           0.000000\n",
       "25%       0.000000    24.000000  33300.000000     0.000000           0.000000\n",
       "50%       0.000000    30.000000  40200.000000     1.000000           0.000000\n",
       "75%       1.000000    37.000000  46600.000000     2.000000           0.000000\n",
       "max       1.000000    65.000000  79000.000000     6.000000           5.000000"
      ]
     },
     "execution_count": 4,
     "metadata": {},
     "output_type": "execute_result"
    }
   ],
   "source": [
    "data.describe()"
   ]
  },
  {
   "cell_type": "code",
   "execution_count": 5,
   "metadata": {},
   "outputs": [
    {
     "name": "stdout",
     "output_type": "stream",
     "text": [
      "<class 'pandas.core.frame.DataFrame'>\n",
      "RangeIndex: 5000 entries, 0 to 4999\n",
      "Data columns (total 5 columns):\n",
      " #   Column             Non-Null Count  Dtype  \n",
      "---  ------             --------------  -----  \n",
      " 0   Пол                5000 non-null   int64  \n",
      " 1   Возраст            5000 non-null   float64\n",
      " 2   Зарплата           5000 non-null   float64\n",
      " 3   Члены семьи        5000 non-null   int64  \n",
      " 4   Страховые выплаты  5000 non-null   int64  \n",
      "dtypes: float64(2), int64(3)\n",
      "memory usage: 195.4 KB\n"
     ]
    }
   ],
   "source": [
    "data.info()"
   ]
  },
  {
   "cell_type": "code",
   "execution_count": 6,
   "metadata": {},
   "outputs": [
    {
     "data": {
      "text/plain": [
       "153"
      ]
     },
     "execution_count": 6,
     "metadata": {},
     "output_type": "execute_result"
    }
   ],
   "source": [
    "#поиск дубликатов\n",
    "data.duplicated().sum() "
   ]
  },
  {
   "cell_type": "code",
   "execution_count": 7,
   "metadata": {},
   "outputs": [],
   "source": [
    "# удалим 153 дубликата\n",
    "data  = data.drop_duplicates().reset_index(drop = True) "
   ]
  },
  {
   "cell_type": "code",
   "execution_count": 8,
   "metadata": {},
   "outputs": [],
   "source": [
    "#приведем всё к нижнему регистру\n",
    "data.columns = data.columns.str.lower()"
   ]
  },
  {
   "cell_type": "code",
   "execution_count": 9,
   "metadata": {},
   "outputs": [
    {
     "data": {
      "image/png": "[encoded data removed]",
      "text/plain": [
       "<Figure size 432x288 with 2 Axes>"
      ]
     },
     "metadata": {
      "needs_background": "light"
     },
     "output_type": "display_data"
    }
   ],
   "source": [
    "ax = plt.axes()\n",
    "sns.heatmap(data.corr(), annot = True)\n",
    "plt.show()"
   ]
  },
  {
   "cell_type": "code",
   "execution_count": 10,
   "metadata": {},
   "outputs": [
    {
     "data": {
      "image/png": "[encoded data removed]",
      "text/plain": [
       "<Figure size 432x288 with 1 Axes>"
      ]
     },
     "metadata": {
      "needs_background": "light"
     },
     "output_type": "display_data"
    }
   ],
   "source": [
    "data['возраст'].hist(bins=20,range=(18,65),edgecolor='black')\n",
    "plt.title('Возраст застрахованных')\n",
    "plt.xlabel('Возраст')\n",
    "plt.ylabel('Количество выплат')\n",
    "plt.show()"
   ]
  },
  {
   "cell_type": "markdown",
   "metadata": {},
   "source": [
    "**Вывод:**\n",
    "\n",
    "- Файл содержал 5000 строк и 5 столбцов\n",
    "- 153 дубликата, которые удалили\n",
    "- Высокая корреляция между возрастом и страховыми выплатами"
   ]
  },
  {
   "cell_type": "markdown",
   "metadata": {},
   "source": [
    "## Умножение матриц"
   ]
  },
  {
   "cell_type": "code",
   "execution_count": 11,
   "metadata": {},
   "outputs": [],
   "source": [
    "features = data.drop('страховые выплаты', axis=1)\n",
    "target = data['страховые выплаты']"
   ]
  },
  {
   "cell_type": "code",
   "execution_count": 12,
   "metadata": {},
   "outputs": [
    {
     "name": "stdout",
     "output_type": "stream",
     "text": [
      "(4847, 4) (4847,)\n"
     ]
    }
   ],
   "source": [
    "print(features.shape,target.shape)"
   ]
  },
  {
   "cell_type": "markdown",
   "metadata": {},
   "source": [
    "Обозначения:\n",
    "\n",
    "- $X$ — матрица признаков (нулевой столбец состоит из единиц)\n",
    "\n",
    "- $y$ — вектор целевого признака\n",
    "\n",
    "- $P$ — матрица, на которую умножаются признаки\n",
    "\n",
    "- $w$ — вектор весов линейной регрессии (нулевой элемент равен сдвигу)"
   ]
  },
  {
   "cell_type": "markdown",
   "metadata": {},
   "source": [
    "Предсказания:\n",
    "\n",
    "$$\n",
    "a = Xw\n",
    "$$\n",
    "\n",
    "Задача обучения:\n",
    "\n",
    "$$\n",
    "w = \\arg\\min_w MSE(Xw, y)\n",
    "$$\n",
    "\n",
    "Формула обучения::\n",
    "\n",
    "$$\n",
    "w = (X^T X)^{-1} X^T y\n",
    "$$"
   ]
  },
  {
   "cell_type": "markdown",
   "metadata": {},
   "source": [
    "**Алгоритм**:"
   ]
  },
  {
   "cell_type": "code",
   "execution_count": 13,
   "metadata": {},
   "outputs": [
    {
     "data": {
      "text/plain": [
       "array([ 9.46018141e-03,  3.61640081e-02, -1.38991363e-07, -1.42517371e-02])"
      ]
     },
     "execution_count": 13,
     "metadata": {},
     "output_type": "execute_result"
    }
   ],
   "source": [
    "'''Объявляем модель'''\n",
    "model = LinearRegression()\n",
    "'''Обучаем модель'''\n",
    "model.fit(features, target)\n",
    "'''Посмотрим на результат обучения'''\n",
    "model.coef_"
   ]
  },
  {
   "cell_type": "code",
   "execution_count": 14,
   "metadata": {},
   "outputs": [
    {
     "data": {
      "text/plain": [
       "-0.9517099946520766"
      ]
     },
     "execution_count": 14,
     "metadata": {},
     "output_type": "execute_result"
    }
   ],
   "source": [
    "'''Оценка свободного коэффициента'''\n",
    "model.intercept_"
   ]
  },
  {
   "cell_type": "code",
   "execution_count": 15,
   "metadata": {},
   "outputs": [
    {
     "name": "stdout",
     "output_type": "stream",
     "text": [
      "[ 9.46018141e-03  3.61640081e-02 -1.38991363e-07 -1.42517371e-02]\n",
      "-0.95170999465196\n"
     ]
    }
   ],
   "source": [
    "'''Создадим массив с единицами'''\n",
    "X = np.concatenate((np.ones((features.shape[0], 1)), features), axis=1)\n",
    "'''Вектор целевого признака'''\n",
    "y = target\n",
    "'''Подставим данные в формулу и преобразуем'''\n",
    "w = np.linalg.inv(X.T @ X) @ X.T @ y # @ - оператор numpy для матричного умножения\n",
    "'''И Матрица w со значениями intercept и coef для моей матрицы X выглядит следующим образом'''\n",
    "print(w[1:])\n",
    "print(w[0])"
   ]
  },
  {
   "cell_type": "markdown",
   "metadata": {},
   "source": [
    "**Вывод:**\n",
    "- Коэффициенты совпадают на 100 %. Матричная форма очень полезна и значительно упрощает вычисления.При умножении признаков на обратную матрицу качество линейной регресии не меняется."
   ]
  },
  {
   "cell_type": "markdown",
   "metadata": {},
   "source": [
    "**Обоснование:**\n",
    "\n",
    "Представим новую матрицу признаков $X_1$ как произведение старой $X$ на матрицу $P$(обратимую):\n",
    "$$\n",
    "X_1 = XP\n",
    "$$\n",
    "Подставим новое значение $X_1$ в формулу $w_1$:\n",
    "$$\n",
    "w_1 = ((XP)^T XP)^{-1} (XP)^T y\n",
    "$$\n",
    "Раскроем первое произведение $(XP)^T$:\n",
    "$$\n",
    "w_1 = (P^T X^T XP)^{-1} P^T X^T y\n",
    "$$\n",
    "Перегруппируем множители в скобках, чтобы это выглядело как произведение трех множителей:\n",
    "$$\n",
    "w_1 = (P^T (X^T X)P)^{-1} P^T X^T y\n",
    "$$\n",
    "Раскроем скобки:\n",
    "$$\n",
    "w_1 = P^{-1} (X^T X)^{-1} (P^T)^{-1} P^T X^T y\n",
    "$$\n",
    "Так как $P$ по условию обратимая, то произведение $(P^T)^{-1} P^T$ равно $E$ (единичная матрица):\n",
    "$$\n",
    "w_1 = P^{-1} (X^T X)^{-1} EX^T y = P^{-1} (X^T X)^{-1} X^T y\n",
    "$$\n",
    "Можно заметить, что справа получилась формула для $w$ :\n",
    "$$\n",
    "w_1 = P^{-1} (X^T X)^{-1} X^T y = P^{-1}w\n",
    "$$\n",
    "Подставим новое значение весов $w_1$  в формулу для предсказаний линейной регрессии. Предсказания модели расчитываются по формуле:\n",
    "$$\n",
    "a = Xw\n",
    "$$\n",
    "Подставим в эту формулу значения $X_1$ и $w_1$  для того, чтобы на их основе вычислить предсказания модели $a_1$:\n",
    "$$\n",
    "a_1 = X_1w_1 = XPP^{-1}w\n",
    "$$\n",
    "Так как $P$  по условию обратимая, то произведение $PP^{-1}$ снова равно $E$:\n",
    "$$\n",
    "a_1 = XPP^{-1}w = XEw = Xw = a\n",
    "$$\n",
    "Мы доказали, что предсказания $a_1$ для матрицы признаков, умноженных на обратимую матрицу $P$ равны предсказаниям $a$. Следовательно, качество линейной регрессии при умножении признаков на обратимую матрицу не изменилось. В данном случае, параметры линейной регрессии в исходной задаче $w$ и в преобразованной $w_1$ связаны следующим образом:\n",
    "$$\n",
    "w_1 = P^{-1}w\n",
    "$$"
   ]
  },
  {
   "cell_type": "markdown",
   "metadata": {},
   "source": [
    "## Алгоритм преобразования"
   ]
  },
  {
   "cell_type": "markdown",
   "metadata": {},
   "source": [
    "Найдем метод преобразования данных, чтобы по ним было сложно восстановить персональную информацию для защиты данных клиентов страховой компании «Хоть потоп»"
   ]
  },
  {
   "cell_type": "code",
   "execution_count": 16,
   "metadata": {},
   "outputs": [],
   "source": [
    "'''Разделим данные на обучающую и тестовую выборки  в соотношении 75:25'''\n",
    "df_train, df_test= train_test_split(data, test_size=0.25, random_state=12345)"
   ]
  },
  {
   "cell_type": "code",
   "execution_count": 17,
   "metadata": {},
   "outputs": [],
   "source": [
    "'''Создадим переменные для признаков и целевого признака и запишем в них код'''\n",
    "features_train = df_train.drop(['страховые выплаты'], axis=1)\n",
    "target_train = df_train['страховые выплаты']\n",
    "features_test = df_test.drop(['страховые выплаты'], axis=1)\n",
    "target_test = df_test['страховые выплаты']"
   ]
  },
  {
   "cell_type": "code",
   "execution_count": 18,
   "metadata": {},
   "outputs": [
    {
     "name": "stdout",
     "output_type": "stream",
     "text": [
      "Признаки обучающей выборки: (3635, 4) Целевой признак обучающей выборки: (3635,) Признаки тестовой выборки: (1212, 4) Целевой признак тестовой выборки: (1212,)\n"
     ]
    }
   ],
   "source": [
    "print('Признаки обучающей выборки:',features_train.shape,  \n",
    "      'Целевой признак обучающей выборки:', target_train.shape,\n",
    "      'Признаки тестовой выборки:',features_test .shape,\n",
    "      'Целевой признак тестовой выборки:',target_test.shape)\n"
   ]
  },
  {
   "cell_type": "markdown",
   "metadata": {},
   "source": [
    "- Обучающая модель   - 75 % обучения модели\n",
    "- Тестовая модель  - 25 % "
   ]
  },
  {
   "cell_type": "markdown",
   "metadata": {},
   "source": [
    "**Алгоритм**: Для преобразования данных, чтобы по ним было сложно восстановить персональную информацию для защиты данных клиентов страховой компании «Хоть потоп» выберем матрицу со случайными величинами, у которой существует обратная к ней матрица.\n",
    "Обратная матрица — такая матрица $A^{-1}$, при умножении которой на исходную матрицу $A$ получается единичная матрица $E$:\n",
    "\n",
    "$A^{-1}A = AA^{-1} = E$\n",
    "\n",
    "\n",
    "**Обоснование**:"
   ]
  },
  {
   "cell_type": "markdown",
   "metadata": {},
   "source": [
    "Исходная матрица должна иметь необходимую размерность n*n, где n - количество признаков для регрессии. Таким образом обратная матрица будет иметь туже размерность, что и исходная матрица .Обратная матрица  существует только для квадратных невырожденных матриц (определитель которых не равен нулю)."
   ]
  },
  {
   "cell_type": "code",
   "execution_count": 19,
   "metadata": {},
   "outputs": [],
   "source": [
    "'''Создадим матрицы.'''\n",
    "features_train_matrix = features_train.values\n",
    "features_test_matrix = features_test.values"
   ]
  },
  {
   "cell_type": "code",
   "execution_count": 20,
   "metadata": {},
   "outputs": [
    {
     "data": {
      "text/plain": [
       "array([[-1.83669094,  1.05634027, -0.8171725 , -0.67986118],\n",
       "       [ 0.70247094, -0.35582039, -0.9022445 , -2.15553585],\n",
       "       [-1.26163976, -0.84134843, -0.19188231,  0.02143523],\n",
       "       [-0.51542965, -0.600834  , -0.95143427, -1.47817745]])"
      ]
     },
     "execution_count": 20,
     "metadata": {},
     "output_type": "execute_result"
    }
   ],
   "source": [
    "'''Создадим рандомную обратимую матрицу.'''\n",
    "random_matrix = np.random.randn(4, 4)\n",
    "random_matrix"
   ]
  },
  {
   "cell_type": "code",
   "execution_count": 21,
   "metadata": {},
   "outputs": [
    {
     "data": {
      "text/plain": [
       "array([[ 1., -0.,  0.,  0.],\n",
       "       [ 0.,  1., -0.,  0.],\n",
       "       [ 0., -0.,  1.,  0.],\n",
       "       [ 0.,  0.,  0.,  1.]])"
      ]
     },
     "execution_count": 21,
     "metadata": {},
     "output_type": "execute_result"
    }
   ],
   "source": [
    "'''Проверим матрицу на обратимость,умножив её на обратную ей матрицу.\n",
    "Для получения обратной матрицы будем использовать функцию inv():'''\n",
    "np.round(random_matrix @ np.linalg.inv(random_matrix))"
   ]
  },
  {
   "cell_type": "markdown",
   "metadata": {},
   "source": [
    "Единичной матрицей $E$ называется диагональная матрица, у которой на главной диагонали все элементы равны единице, а остальные элементы равны нулю.Матрица является единичной, значит рандомная матрица обратима."
   ]
  },
  {
   "cell_type": "code",
   "execution_count": 22,
   "metadata": {},
   "outputs": [],
   "source": [
    "'''Перемножим тренировочную и тестовую матрицы на получившуюся рандомную обратимую матрицу:'''\n",
    "features_train_random = features_train_matrix.dot(random_matrix)\n",
    "features_test_random = features_test_matrix.dot(random_matrix)"
   ]
  },
  {
   "cell_type": "code",
   "execution_count": 23,
   "metadata": {},
   "outputs": [],
   "source": [
    "'''Проверим'''\n",
    "features_train_random_matrix = features_train_random.dot(np.linalg.inv(random_matrix))\n",
    "features_train_new = pd.DataFrame(features_train_random_matrix, columns=features_train.columns)\n",
    "features_train_new = np.round(features_train_new)"
   ]
  },
  {
   "cell_type": "code",
   "execution_count": 24,
   "metadata": {},
   "outputs": [
    {
     "data": {
      "text/html": [
       "<div>\n",
       "<style scoped>\n",
       "    .dataframe tbody tr th:only-of-type {\n",
       "        vertical-align: middle;\n",
       "    }\n",
       "\n",
       "    .dataframe tbody tr th {\n",
       "        vertical-align: top;\n",
       "    }\n",
       "\n",
       "    .dataframe thead th {\n",
       "        text-align: right;\n",
       "    }\n",
       "</style>\n",
       "<table border=\"1\" class=\"dataframe\">\n",
       "  <thead>\n",
       "    <tr style=\"text-align: right;\">\n",
       "      <th></th>\n",
       "      <th>пол</th>\n",
       "      <th>возраст</th>\n",
       "      <th>зарплата</th>\n",
       "      <th>члены семьи</th>\n",
       "    </tr>\n",
       "  </thead>\n",
       "  <tbody>\n",
       "    <tr>\n",
       "      <th>count</th>\n",
       "      <td>3635.000000</td>\n",
       "      <td>3635.000000</td>\n",
       "      <td>3635.000000</td>\n",
       "      <td>3635.000000</td>\n",
       "    </tr>\n",
       "    <tr>\n",
       "      <th>mean</th>\n",
       "      <td>0.492435</td>\n",
       "      <td>31.022834</td>\n",
       "      <td>39885.447043</td>\n",
       "      <td>1.212380</td>\n",
       "    </tr>\n",
       "    <tr>\n",
       "      <th>std</th>\n",
       "      <td>0.500012</td>\n",
       "      <td>8.516149</td>\n",
       "      <td>9996.543984</td>\n",
       "      <td>1.095099</td>\n",
       "    </tr>\n",
       "    <tr>\n",
       "      <th>min</th>\n",
       "      <td>0.000000</td>\n",
       "      <td>18.000000</td>\n",
       "      <td>7400.000000</td>\n",
       "      <td>0.000000</td>\n",
       "    </tr>\n",
       "    <tr>\n",
       "      <th>25%</th>\n",
       "      <td>0.000000</td>\n",
       "      <td>24.000000</td>\n",
       "      <td>33000.000000</td>\n",
       "      <td>0.000000</td>\n",
       "    </tr>\n",
       "    <tr>\n",
       "      <th>50%</th>\n",
       "      <td>0.000000</td>\n",
       "      <td>30.000000</td>\n",
       "      <td>40100.000000</td>\n",
       "      <td>1.000000</td>\n",
       "    </tr>\n",
       "    <tr>\n",
       "      <th>75%</th>\n",
       "      <td>1.000000</td>\n",
       "      <td>37.000000</td>\n",
       "      <td>46700.000000</td>\n",
       "      <td>2.000000</td>\n",
       "    </tr>\n",
       "    <tr>\n",
       "      <th>max</th>\n",
       "      <td>1.000000</td>\n",
       "      <td>65.000000</td>\n",
       "      <td>74800.000000</td>\n",
       "      <td>6.000000</td>\n",
       "    </tr>\n",
       "  </tbody>\n",
       "</table>\n",
       "</div>"
      ],
      "text/plain": [
       "               пол      возраст      зарплата  члены семьи\n",
       "count  3635.000000  3635.000000   3635.000000  3635.000000\n",
       "mean      0.492435    31.022834  39885.447043     1.212380\n",
       "std       0.500012     8.516149   9996.543984     1.095099\n",
       "min       0.000000    18.000000   7400.000000     0.000000\n",
       "25%       0.000000    24.000000  33000.000000     0.000000\n",
       "50%       0.000000    30.000000  40100.000000     1.000000\n",
       "75%       1.000000    37.000000  46700.000000     2.000000\n",
       "max       1.000000    65.000000  74800.000000     6.000000"
      ]
     },
     "execution_count": 24,
     "metadata": {},
     "output_type": "execute_result"
    }
   ],
   "source": [
    "features_train_new.describe()"
   ]
  },
  {
   "cell_type": "code",
   "execution_count": 25,
   "metadata": {},
   "outputs": [
    {
     "data": {
      "text/html": [
       "<div>\n",
       "<style scoped>\n",
       "    .dataframe tbody tr th:only-of-type {\n",
       "        vertical-align: middle;\n",
       "    }\n",
       "\n",
       "    .dataframe tbody tr th {\n",
       "        vertical-align: top;\n",
       "    }\n",
       "\n",
       "    .dataframe thead th {\n",
       "        text-align: right;\n",
       "    }\n",
       "</style>\n",
       "<table border=\"1\" class=\"dataframe\">\n",
       "  <thead>\n",
       "    <tr style=\"text-align: right;\">\n",
       "      <th></th>\n",
       "      <th>пол</th>\n",
       "      <th>возраст</th>\n",
       "      <th>зарплата</th>\n",
       "      <th>члены семьи</th>\n",
       "    </tr>\n",
       "  </thead>\n",
       "  <tbody>\n",
       "    <tr>\n",
       "      <th>count</th>\n",
       "      <td>3635.000000</td>\n",
       "      <td>3635.000000</td>\n",
       "      <td>3635.000000</td>\n",
       "      <td>3635.000000</td>\n",
       "    </tr>\n",
       "    <tr>\n",
       "      <th>mean</th>\n",
       "      <td>0.492435</td>\n",
       "      <td>31.022834</td>\n",
       "      <td>39885.447043</td>\n",
       "      <td>1.212380</td>\n",
       "    </tr>\n",
       "    <tr>\n",
       "      <th>std</th>\n",
       "      <td>0.500012</td>\n",
       "      <td>8.516149</td>\n",
       "      <td>9996.543984</td>\n",
       "      <td>1.095099</td>\n",
       "    </tr>\n",
       "    <tr>\n",
       "      <th>min</th>\n",
       "      <td>0.000000</td>\n",
       "      <td>18.000000</td>\n",
       "      <td>7400.000000</td>\n",
       "      <td>0.000000</td>\n",
       "    </tr>\n",
       "    <tr>\n",
       "      <th>25%</th>\n",
       "      <td>0.000000</td>\n",
       "      <td>24.000000</td>\n",
       "      <td>33000.000000</td>\n",
       "      <td>0.000000</td>\n",
       "    </tr>\n",
       "    <tr>\n",
       "      <th>50%</th>\n",
       "      <td>0.000000</td>\n",
       "      <td>30.000000</td>\n",
       "      <td>40100.000000</td>\n",
       "      <td>1.000000</td>\n",
       "    </tr>\n",
       "    <tr>\n",
       "      <th>75%</th>\n",
       "      <td>1.000000</td>\n",
       "      <td>37.000000</td>\n",
       "      <td>46700.000000</td>\n",
       "      <td>2.000000</td>\n",
       "    </tr>\n",
       "    <tr>\n",
       "      <th>max</th>\n",
       "      <td>1.000000</td>\n",
       "      <td>65.000000</td>\n",
       "      <td>74800.000000</td>\n",
       "      <td>6.000000</td>\n",
       "    </tr>\n",
       "  </tbody>\n",
       "</table>\n",
       "</div>"
      ],
      "text/plain": [
       "               пол      возраст      зарплата  члены семьи\n",
       "count  3635.000000  3635.000000   3635.000000  3635.000000\n",
       "mean      0.492435    31.022834  39885.447043     1.212380\n",
       "std       0.500012     8.516149   9996.543984     1.095099\n",
       "min       0.000000    18.000000   7400.000000     0.000000\n",
       "25%       0.000000    24.000000  33000.000000     0.000000\n",
       "50%       0.000000    30.000000  40100.000000     1.000000\n",
       "75%       1.000000    37.000000  46700.000000     2.000000\n",
       "max       1.000000    65.000000  74800.000000     6.000000"
      ]
     },
     "execution_count": 25,
     "metadata": {},
     "output_type": "execute_result"
    }
   ],
   "source": [
    "features_train.describe()"
   ]
  },
  {
   "cell_type": "markdown",
   "metadata": {},
   "source": [
    "**Вывод:**\n",
    "- Данные совпадают на 100 %. В качестве метода преобразования данных, чтобы по ним было сложно восстановить персональную информацию для защиты данных клиентов страховой компании «Хоть потоп» применили обратную матрицу.\n",
    "\n",
    "**Шаги:**\n",
    "- Создание исходной матрицы\n",
    "- Получение рандомной обратной матрицы\n",
    "- Сранение исходной матрицы и рандомной обратной матрицы\n"
   ]
  },
  {
   "cell_type": "markdown",
   "metadata": {},
   "source": [
    "## Проверка алгоритма"
   ]
  },
  {
   "cell_type": "markdown",
   "metadata": {},
   "source": [
    "Проверим, что качество линейной регрессии из sklearn не отличается до и после преобразования. Применим метрику R2."
   ]
  },
  {
   "cell_type": "code",
   "execution_count": 26,
   "metadata": {},
   "outputs": [],
   "source": [
    "model = LinearRegression()\n",
    "model.fit(features_train_matrix, target_train)\n",
    "r2_matrix = r2_score(target_test, model.predict(features_test))"
   ]
  },
  {
   "cell_type": "code",
   "execution_count": 27,
   "metadata": {},
   "outputs": [],
   "source": [
    "model = LinearRegression()\n",
    "model.fit(features_train_random, target_train)\n",
    "r2_random = r2_score(target_test, model.predict(features_test_random))"
   ]
  },
  {
   "cell_type": "code",
   "execution_count": 28,
   "metadata": {},
   "outputs": [
    {
     "name": "stdout",
     "output_type": "stream",
     "text": [
      "R2 матрицы:           0.42307727492147584\n",
      "R2 обратной матрицы:  0.42307727492194713\n"
     ]
    }
   ],
   "source": [
    "print('R2 матрицы:          ', r2_matrix)\n",
    "print('R2 обратной матрицы: ', r2_random)"
   ]
  },
  {
   "cell_type": "markdown",
   "metadata": {},
   "source": [
    "**Вывод:**\n",
    "\n",
    "Мы проверили качества моделей Линейной регрессии с помощью метрики R2 на данных - сначала на исходных, затем умноженных на обратимую матрицу. Показатели метрики совпали. Можно сделать вывод, что алгоритм работает."
   ]
  },
  {
   "cell_type": "markdown",
   "metadata": {},
   "source": [
    "**Общий вывод:**\n",
    "\n",
    "- Загружены и изучены данные.\n",
    "- Матричная форма очень полезна и значительно упрощает вычисления.При умножении признаков на обратную матрицу качество линейной регресии не изменилось.\n",
    "- Для преобразования данных, чтобы по ним было сложно восстановить персональную информацию для защиты данных клиентов страховой компании «Хоть потоп» выбрана матрица со случайными величинами, у которой существует обратная к ней матрица. \n",
    "- Проверили качества моделей Линейной регрессии с помощью метрики R2 на данных.\n"
   ]
  }
 ],
 "metadata": {
  "ExecuteTimeLog": [
   {
    "duration": 1439,
    "start_time": "2022-05-12T17:12:51.456Z"
   },
   {
    "duration": 20,
    "start_time": "2022-05-12T17:12:52.897Z"
   },
   {
    "duration": 14,
    "start_time": "2022-05-12T17:13:12.465Z"
   },
   {
    "duration": 13,
    "start_time": "2022-05-12T17:15:39.638Z"
   },
   {
    "duration": 6,
    "start_time": "2022-05-12T17:16:26.794Z"
   },
   {
    "duration": 97,
    "start_time": "2022-05-12T17:16:47.135Z"
   },
   {
    "duration": 9,
    "start_time": "2022-05-12T17:16:54.619Z"
   },
   {
    "duration": 7,
    "start_time": "2022-05-12T17:17:00.358Z"
   },
   {
    "duration": 173,
    "start_time": "2022-05-12T17:18:06.536Z"
   },
   {
    "duration": 12,
    "start_time": "2022-05-12T17:23:18.052Z"
   },
   {
    "duration": 1602,
    "start_time": "2022-05-12T17:23:31.613Z"
   },
   {
    "duration": 14,
    "start_time": "2022-05-12T17:23:33.217Z"
   },
   {
    "duration": 137,
    "start_time": "2022-05-12T17:23:33.233Z"
   },
   {
    "duration": 0,
    "start_time": "2022-05-12T17:23:33.372Z"
   },
   {
    "duration": 0,
    "start_time": "2022-05-12T17:23:33.373Z"
   },
   {
    "duration": 0,
    "start_time": "2022-05-12T17:23:33.374Z"
   },
   {
    "duration": 0,
    "start_time": "2022-05-12T17:23:33.375Z"
   },
   {
    "duration": 1581,
    "start_time": "2022-05-12T17:23:58.652Z"
   },
   {
    "duration": 14,
    "start_time": "2022-05-12T17:24:00.235Z"
   },
   {
    "duration": 22,
    "start_time": "2022-05-12T17:24:00.250Z"
   },
   {
    "duration": 28,
    "start_time": "2022-05-12T17:24:00.274Z"
   },
   {
    "duration": 33,
    "start_time": "2022-05-12T17:24:00.304Z"
   },
   {
    "duration": 104,
    "start_time": "2022-05-12T17:24:00.339Z"
   },
   {
    "duration": 10,
    "start_time": "2022-05-12T17:24:17.054Z"
   },
   {
    "duration": 10,
    "start_time": "2022-05-12T17:26:41.877Z"
   },
   {
    "duration": 5,
    "start_time": "2022-05-12T17:27:35.471Z"
   },
   {
    "duration": 6,
    "start_time": "2022-05-12T17:28:39.383Z"
   },
   {
    "duration": 11,
    "start_time": "2022-05-12T17:29:02.715Z"
   },
   {
    "duration": 1591,
    "start_time": "2022-05-12T17:37:59.931Z"
   },
   {
    "duration": 14,
    "start_time": "2022-05-12T17:38:01.524Z"
   },
   {
    "duration": 14,
    "start_time": "2022-05-12T17:38:01.540Z"
   },
   {
    "duration": 13,
    "start_time": "2022-05-12T17:38:01.556Z"
   },
   {
    "duration": 8,
    "start_time": "2022-05-12T17:38:01.571Z"
   },
   {
    "duration": 67,
    "start_time": "2022-05-12T17:38:01.581Z"
   },
   {
    "duration": 137,
    "start_time": "2022-05-12T17:38:01.650Z"
   },
   {
    "duration": 266,
    "start_time": "2022-05-12T17:38:01.789Z"
   },
   {
    "duration": 10,
    "start_time": "2022-05-12T17:42:25.928Z"
   },
   {
    "duration": 1598,
    "start_time": "2022-05-12T17:42:51.097Z"
   },
   {
    "duration": 14,
    "start_time": "2022-05-12T17:42:52.697Z"
   },
   {
    "duration": 41,
    "start_time": "2022-05-12T17:42:52.712Z"
   },
   {
    "duration": 24,
    "start_time": "2022-05-12T17:42:52.755Z"
   },
   {
    "duration": 14,
    "start_time": "2022-05-12T17:42:52.782Z"
   },
   {
    "duration": 49,
    "start_time": "2022-05-12T17:42:52.798Z"
   },
   {
    "duration": 105,
    "start_time": "2022-05-12T17:42:52.850Z"
   },
   {
    "duration": 292,
    "start_time": "2022-05-12T17:42:52.957Z"
   },
   {
    "duration": 0,
    "start_time": "2022-05-12T17:42:53.251Z"
   },
   {
    "duration": 1653,
    "start_time": "2022-05-12T17:43:35.236Z"
   },
   {
    "duration": 13,
    "start_time": "2022-05-12T17:43:36.891Z"
   },
   {
    "duration": 14,
    "start_time": "2022-05-12T17:43:36.908Z"
   },
   {
    "duration": 21,
    "start_time": "2022-05-12T17:43:36.923Z"
   },
   {
    "duration": 5,
    "start_time": "2022-05-12T17:43:36.947Z"
   },
   {
    "duration": 19,
    "start_time": "2022-05-12T17:43:36.954Z"
   },
   {
    "duration": 11,
    "start_time": "2022-05-12T17:43:37.044Z"
   },
   {
    "duration": 478,
    "start_time": "2022-05-12T17:43:37.057Z"
   },
   {
    "duration": 0,
    "start_time": "2022-05-12T17:43:37.536Z"
   },
   {
    "duration": 14,
    "start_time": "2022-05-12T17:46:28.946Z"
   },
   {
    "duration": 13,
    "start_time": "2022-05-12T17:54:46.056Z"
   },
   {
    "duration": 14,
    "start_time": "2022-05-12T17:54:53.067Z"
   },
   {
    "duration": 73,
    "start_time": "2022-05-13T07:49:03.135Z"
   },
   {
    "duration": 2304,
    "start_time": "2022-05-13T07:49:24.371Z"
   },
   {
    "duration": 17,
    "start_time": "2022-05-13T07:49:26.679Z"
   },
   {
    "duration": 20,
    "start_time": "2022-05-13T07:49:26.699Z"
   },
   {
    "duration": 17,
    "start_time": "2022-05-13T07:49:26.722Z"
   },
   {
    "duration": 678,
    "start_time": "2022-05-13T07:49:26.741Z"
   },
   {
    "duration": 6,
    "start_time": "2022-05-13T07:49:27.421Z"
   },
   {
    "duration": 60,
    "start_time": "2022-05-13T07:49:27.429Z"
   },
   {
    "duration": 301,
    "start_time": "2022-05-13T07:49:27.492Z"
   },
   {
    "duration": 535,
    "start_time": "2022-05-13T07:49:52.734Z"
   },
   {
    "duration": 7,
    "start_time": "2022-05-13T08:00:08.734Z"
   },
   {
    "duration": 7,
    "start_time": "2022-05-13T08:25:41.299Z"
   },
   {
    "duration": 2158,
    "start_time": "2022-05-13T08:25:48.213Z"
   },
   {
    "duration": 30,
    "start_time": "2022-05-13T08:25:50.375Z"
   },
   {
    "duration": 17,
    "start_time": "2022-05-13T08:25:50.407Z"
   },
   {
    "duration": 18,
    "start_time": "2022-05-13T08:25:50.426Z"
   },
   {
    "duration": 8,
    "start_time": "2022-05-13T08:25:50.447Z"
   },
   {
    "duration": 33,
    "start_time": "2022-05-13T08:25:50.457Z"
   },
   {
    "duration": 7,
    "start_time": "2022-05-13T08:25:50.493Z"
   },
   {
    "duration": 746,
    "start_time": "2022-05-13T08:25:50.502Z"
   },
   {
    "duration": 181,
    "start_time": "2022-05-13T08:25:51.250Z"
   },
   {
    "duration": 1,
    "start_time": "2022-05-13T08:25:51.434Z"
   },
   {
    "duration": 0,
    "start_time": "2022-05-13T08:25:51.437Z"
   },
   {
    "duration": 0,
    "start_time": "2022-05-13T08:25:51.439Z"
   },
   {
    "duration": 0,
    "start_time": "2022-05-13T08:25:51.441Z"
   },
   {
    "duration": 0,
    "start_time": "2022-05-13T08:25:51.443Z"
   },
   {
    "duration": 0,
    "start_time": "2022-05-13T08:25:51.445Z"
   },
   {
    "duration": 0,
    "start_time": "2022-05-13T08:25:51.447Z"
   },
   {
    "duration": 2027,
    "start_time": "2022-05-13T08:25:58.373Z"
   },
   {
    "duration": 16,
    "start_time": "2022-05-13T08:26:00.403Z"
   },
   {
    "duration": 18,
    "start_time": "2022-05-13T08:26:00.421Z"
   },
   {
    "duration": 45,
    "start_time": "2022-05-13T08:26:00.441Z"
   },
   {
    "duration": 17,
    "start_time": "2022-05-13T08:26:00.490Z"
   },
   {
    "duration": 18,
    "start_time": "2022-05-13T08:26:00.509Z"
   },
   {
    "duration": 7,
    "start_time": "2022-05-13T08:26:00.529Z"
   },
   {
    "duration": 540,
    "start_time": "2022-05-13T08:26:00.538Z"
   },
   {
    "duration": 184,
    "start_time": "2022-05-13T08:26:01.080Z"
   },
   {
    "duration": 0,
    "start_time": "2022-05-13T08:26:01.267Z"
   },
   {
    "duration": 0,
    "start_time": "2022-05-13T08:26:01.269Z"
   },
   {
    "duration": 0,
    "start_time": "2022-05-13T08:26:01.272Z"
   },
   {
    "duration": 0,
    "start_time": "2022-05-13T08:26:01.282Z"
   },
   {
    "duration": 1,
    "start_time": "2022-05-13T08:26:01.283Z"
   },
   {
    "duration": 0,
    "start_time": "2022-05-13T08:26:01.285Z"
   },
   {
    "duration": 0,
    "start_time": "2022-05-13T08:26:01.287Z"
   },
   {
    "duration": 2078,
    "start_time": "2022-05-13T08:27:02.024Z"
   },
   {
    "duration": 16,
    "start_time": "2022-05-13T08:27:04.105Z"
   },
   {
    "duration": 21,
    "start_time": "2022-05-13T08:27:04.123Z"
   },
   {
    "duration": 37,
    "start_time": "2022-05-13T08:27:04.146Z"
   },
   {
    "duration": 14,
    "start_time": "2022-05-13T08:27:04.189Z"
   },
   {
    "duration": 8,
    "start_time": "2022-05-13T08:27:04.205Z"
   },
   {
    "duration": 4,
    "start_time": "2022-05-13T08:27:04.215Z"
   },
   {
    "duration": 578,
    "start_time": "2022-05-13T08:27:04.221Z"
   },
   {
    "duration": 6,
    "start_time": "2022-05-13T08:27:04.801Z"
   },
   {
    "duration": 88,
    "start_time": "2022-05-13T08:27:04.809Z"
   },
   {
    "duration": 255,
    "start_time": "2022-05-13T08:27:04.900Z"
   },
   {
    "duration": 1933,
    "start_time": "2022-05-13T09:47:48.699Z"
   },
   {
    "duration": 25,
    "start_time": "2022-05-13T09:47:50.634Z"
   },
   {
    "duration": 19,
    "start_time": "2022-05-13T09:47:50.661Z"
   },
   {
    "duration": 22,
    "start_time": "2022-05-13T09:47:50.682Z"
   },
   {
    "duration": 10,
    "start_time": "2022-05-13T09:47:50.709Z"
   },
   {
    "duration": 15,
    "start_time": "2022-05-13T09:47:50.721Z"
   },
   {
    "duration": 5,
    "start_time": "2022-05-13T09:47:50.738Z"
   },
   {
    "duration": 540,
    "start_time": "2022-05-13T09:47:50.745Z"
   },
   {
    "duration": 6,
    "start_time": "2022-05-13T09:47:51.287Z"
   },
   {
    "duration": 276,
    "start_time": "2022-05-13T09:47:51.295Z"
   },
   {
    "duration": 0,
    "start_time": "2022-05-13T09:47:51.581Z"
   },
   {
    "duration": 0,
    "start_time": "2022-05-13T09:47:51.583Z"
   },
   {
    "duration": 0,
    "start_time": "2022-05-13T09:47:51.586Z"
   },
   {
    "duration": 0,
    "start_time": "2022-05-13T09:47:51.588Z"
   },
   {
    "duration": 2217,
    "start_time": "2022-05-13T09:48:12.334Z"
   },
   {
    "duration": 22,
    "start_time": "2022-05-13T09:48:14.554Z"
   },
   {
    "duration": 20,
    "start_time": "2022-05-13T09:48:14.578Z"
   },
   {
    "duration": 16,
    "start_time": "2022-05-13T09:48:14.601Z"
   },
   {
    "duration": 26,
    "start_time": "2022-05-13T09:48:14.621Z"
   },
   {
    "duration": 34,
    "start_time": "2022-05-13T09:48:14.649Z"
   },
   {
    "duration": 62,
    "start_time": "2022-05-13T09:48:14.685Z"
   },
   {
    "duration": 533,
    "start_time": "2022-05-13T09:48:14.750Z"
   },
   {
    "duration": 5,
    "start_time": "2022-05-13T09:48:15.286Z"
   },
   {
    "duration": 341,
    "start_time": "2022-05-13T09:48:15.293Z"
   },
   {
    "duration": 0,
    "start_time": "2022-05-13T09:48:15.636Z"
   },
   {
    "duration": 0,
    "start_time": "2022-05-13T09:48:15.638Z"
   },
   {
    "duration": 0,
    "start_time": "2022-05-13T09:48:15.639Z"
   },
   {
    "duration": 0,
    "start_time": "2022-05-13T09:48:15.640Z"
   },
   {
    "duration": 21,
    "start_time": "2022-05-13T09:48:28.627Z"
   },
   {
    "duration": 9,
    "start_time": "2022-05-13T09:49:01.896Z"
   },
   {
    "duration": 21,
    "start_time": "2022-05-13T09:49:08.644Z"
   },
   {
    "duration": 16,
    "start_time": "2022-05-13T09:51:55.876Z"
   },
   {
    "duration": 14,
    "start_time": "2022-05-13T09:52:07.787Z"
   },
   {
    "duration": 13,
    "start_time": "2022-05-13T09:52:18.872Z"
   },
   {
    "duration": 181,
    "start_time": "2022-05-13T09:53:04.348Z"
   },
   {
    "duration": 1805,
    "start_time": "2022-05-13T09:55:49.197Z"
   },
   {
    "duration": 213,
    "start_time": "2022-05-13T09:56:02.144Z"
   },
   {
    "duration": 2249,
    "start_time": "2022-05-13T10:13:45.859Z"
   },
   {
    "duration": 271,
    "start_time": "2022-05-13T10:13:55.609Z"
   },
   {
    "duration": 296,
    "start_time": "2022-05-13T10:14:06.069Z"
   },
   {
    "duration": 241,
    "start_time": "2022-05-13T10:14:23.367Z"
   },
   {
    "duration": 328,
    "start_time": "2022-05-13T10:15:16.277Z"
   },
   {
    "duration": 241,
    "start_time": "2022-05-13T10:42:55.018Z"
   },
   {
    "duration": 10,
    "start_time": "2022-05-13T10:45:36.952Z"
   },
   {
    "duration": 13,
    "start_time": "2022-05-13T10:45:57.323Z"
   },
   {
    "duration": 11,
    "start_time": "2022-05-13T10:46:03.064Z"
   },
   {
    "duration": 11,
    "start_time": "2022-05-13T10:47:15.229Z"
   },
   {
    "duration": 9,
    "start_time": "2022-05-13T10:47:16.035Z"
   },
   {
    "duration": 11,
    "start_time": "2022-05-13T10:49:03.613Z"
   },
   {
    "duration": 10,
    "start_time": "2022-05-13T10:49:48.326Z"
   },
   {
    "duration": 16,
    "start_time": "2022-05-13T11:02:49.360Z"
   },
   {
    "duration": 12,
    "start_time": "2022-05-13T11:02:53.841Z"
   },
   {
    "duration": 11,
    "start_time": "2022-05-13T11:03:25.235Z"
   },
   {
    "duration": 13,
    "start_time": "2022-05-13T11:03:38.728Z"
   },
   {
    "duration": 16,
    "start_time": "2022-05-13T11:04:56.889Z"
   },
   {
    "duration": 11,
    "start_time": "2022-05-13T11:05:08.183Z"
   },
   {
    "duration": 892,
    "start_time": "2022-05-13T11:48:11.498Z"
   },
   {
    "duration": 18,
    "start_time": "2022-05-13T11:48:40.649Z"
   },
   {
    "duration": 42,
    "start_time": "2022-05-13T12:14:49.391Z"
   },
   {
    "duration": 241,
    "start_time": "2022-05-13T12:15:11.692Z"
   },
   {
    "duration": 46,
    "start_time": "2022-05-16T10:46:13.401Z"
   },
   {
    "duration": 1514,
    "start_time": "2022-05-16T10:46:20.979Z"
   },
   {
    "duration": 13,
    "start_time": "2022-05-16T10:46:22.495Z"
   },
   {
    "duration": 12,
    "start_time": "2022-05-16T10:46:22.510Z"
   },
   {
    "duration": 22,
    "start_time": "2022-05-16T10:46:22.524Z"
   },
   {
    "duration": 10,
    "start_time": "2022-05-16T10:46:22.549Z"
   },
   {
    "duration": 28,
    "start_time": "2022-05-16T10:46:22.561Z"
   },
   {
    "duration": 6,
    "start_time": "2022-05-16T10:46:22.590Z"
   },
   {
    "duration": 3,
    "start_time": "2022-05-16T10:46:22.598Z"
   },
   {
    "duration": 426,
    "start_time": "2022-05-16T10:46:22.603Z"
   },
   {
    "duration": 145,
    "start_time": "2022-05-16T10:46:23.031Z"
   },
   {
    "duration": 10,
    "start_time": "2022-05-16T10:46:23.178Z"
   },
   {
    "duration": 10,
    "start_time": "2022-05-16T10:46:23.190Z"
   },
   {
    "duration": 268,
    "start_time": "2022-05-16T10:46:23.202Z"
   },
   {
    "duration": 0,
    "start_time": "2022-05-16T10:46:23.472Z"
   },
   {
    "duration": 0,
    "start_time": "2022-05-16T10:46:23.473Z"
   },
   {
    "duration": 0,
    "start_time": "2022-05-16T10:46:23.475Z"
   },
   {
    "duration": 0,
    "start_time": "2022-05-16T10:46:23.488Z"
   },
   {
    "duration": 0,
    "start_time": "2022-05-16T10:46:23.489Z"
   },
   {
    "duration": 11,
    "start_time": "2022-05-16T10:48:35.798Z"
   },
   {
    "duration": 108,
    "start_time": "2022-05-16T10:49:40.570Z"
   },
   {
    "duration": 102,
    "start_time": "2022-05-16T10:50:03.249Z"
   },
   {
    "duration": 270,
    "start_time": "2022-05-16T10:50:16.098Z"
   },
   {
    "duration": 104,
    "start_time": "2022-05-16T10:52:35.473Z"
   },
   {
    "duration": 111,
    "start_time": "2022-05-16T10:53:47.518Z"
   },
   {
    "duration": 10,
    "start_time": "2022-05-16T10:53:57.969Z"
   },
   {
    "duration": 4,
    "start_time": "2022-05-16T12:10:59.037Z"
   },
   {
    "duration": 4,
    "start_time": "2022-05-16T12:18:41.661Z"
   },
   {
    "duration": 143,
    "start_time": "2022-05-16T12:19:02.437Z"
   },
   {
    "duration": 4,
    "start_time": "2022-05-16T12:19:06.333Z"
   },
   {
    "duration": 7,
    "start_time": "2022-05-16T13:00:56.464Z"
   },
   {
    "duration": 7,
    "start_time": "2022-05-16T13:00:56.631Z"
   },
   {
    "duration": 8,
    "start_time": "2022-05-16T13:05:24.734Z"
   },
   {
    "duration": 7,
    "start_time": "2022-05-16T13:05:25.144Z"
   },
   {
    "duration": 4,
    "start_time": "2022-05-16T13:14:09.518Z"
   },
   {
    "duration": 4,
    "start_time": "2022-05-16T13:14:09.804Z"
   },
   {
    "duration": 8,
    "start_time": "2022-05-16T13:14:11.886Z"
   },
   {
    "duration": 7,
    "start_time": "2022-05-16T13:14:14.555Z"
   },
   {
    "duration": 124,
    "start_time": "2022-05-16T13:17:12.161Z"
   },
   {
    "duration": 12,
    "start_time": "2022-05-16T13:27:17.123Z"
   },
   {
    "duration": 2468,
    "start_time": "2022-05-17T10:18:35.408Z"
   },
   {
    "duration": 33,
    "start_time": "2022-05-17T10:18:37.879Z"
   },
   {
    "duration": 18,
    "start_time": "2022-05-17T10:18:37.914Z"
   },
   {
    "duration": 37,
    "start_time": "2022-05-17T10:18:37.934Z"
   },
   {
    "duration": 15,
    "start_time": "2022-05-17T10:18:37.974Z"
   },
   {
    "duration": 10,
    "start_time": "2022-05-17T10:18:37.991Z"
   },
   {
    "duration": 49,
    "start_time": "2022-05-17T10:18:38.003Z"
   },
   {
    "duration": 4,
    "start_time": "2022-05-17T10:18:38.055Z"
   },
   {
    "duration": 578,
    "start_time": "2022-05-17T10:18:38.062Z"
   },
   {
    "duration": 254,
    "start_time": "2022-05-17T10:18:38.644Z"
   },
   {
    "duration": 6,
    "start_time": "2022-05-17T10:18:38.901Z"
   },
   {
    "duration": 8,
    "start_time": "2022-05-17T10:18:38.910Z"
   },
   {
    "duration": 38,
    "start_time": "2022-05-17T10:18:38.921Z"
   },
   {
    "duration": 190,
    "start_time": "2022-05-17T10:18:38.967Z"
   },
   {
    "duration": 87,
    "start_time": "2022-05-17T10:18:39.164Z"
   },
   {
    "duration": 263,
    "start_time": "2022-05-17T10:18:39.254Z"
   },
   {
    "duration": 0,
    "start_time": "2022-05-17T10:18:39.519Z"
   },
   {
    "duration": 0,
    "start_time": "2022-05-17T10:18:39.522Z"
   },
   {
    "duration": 75,
    "start_time": "2022-05-17T10:18:51.869Z"
   },
   {
    "duration": 19,
    "start_time": "2022-05-17T10:19:01.287Z"
   },
   {
    "duration": 2043,
    "start_time": "2022-05-17T10:19:11.192Z"
   },
   {
    "duration": 29,
    "start_time": "2022-05-17T10:19:13.237Z"
   },
   {
    "duration": 20,
    "start_time": "2022-05-17T10:19:13.268Z"
   },
   {
    "duration": 34,
    "start_time": "2022-05-17T10:19:13.290Z"
   },
   {
    "duration": 40,
    "start_time": "2022-05-17T10:19:13.327Z"
   },
   {
    "duration": 10,
    "start_time": "2022-05-17T10:19:13.370Z"
   },
   {
    "duration": 8,
    "start_time": "2022-05-17T10:19:13.383Z"
   },
   {
    "duration": 4,
    "start_time": "2022-05-17T10:19:13.394Z"
   },
   {
    "duration": 542,
    "start_time": "2022-05-17T10:19:13.401Z"
   },
   {
    "duration": 247,
    "start_time": "2022-05-17T10:19:13.946Z"
   },
   {
    "duration": 6,
    "start_time": "2022-05-17T10:19:14.195Z"
   },
   {
    "duration": 7,
    "start_time": "2022-05-17T10:19:14.203Z"
   },
   {
    "duration": 45,
    "start_time": "2022-05-17T10:19:14.212Z"
   },
   {
    "duration": 15,
    "start_time": "2022-05-17T10:19:14.261Z"
   },
   {
    "duration": 112,
    "start_time": "2022-05-17T10:19:14.344Z"
   },
   {
    "duration": 248,
    "start_time": "2022-05-17T10:19:14.459Z"
   },
   {
    "duration": 0,
    "start_time": "2022-05-17T10:19:14.709Z"
   },
   {
    "duration": 0,
    "start_time": "2022-05-17T10:19:14.711Z"
   },
   {
    "duration": 34,
    "start_time": "2022-05-17T10:19:28.335Z"
   },
   {
    "duration": 19,
    "start_time": "2022-05-17T10:19:33.263Z"
   },
   {
    "duration": 17,
    "start_time": "2022-05-17T10:19:38.006Z"
   },
   {
    "duration": 4,
    "start_time": "2022-05-17T10:19:44.654Z"
   },
   {
    "duration": 22,
    "start_time": "2022-05-17T10:19:44.935Z"
   },
   {
    "duration": 19,
    "start_time": "2022-05-17T10:19:45.495Z"
   },
   {
    "duration": 33,
    "start_time": "2022-05-17T10:19:45.983Z"
   },
   {
    "duration": 16,
    "start_time": "2022-05-17T10:19:46.589Z"
   },
   {
    "duration": 8,
    "start_time": "2022-05-17T10:19:47.496Z"
   },
   {
    "duration": 7,
    "start_time": "2022-05-17T10:19:50.058Z"
   },
   {
    "duration": 4,
    "start_time": "2022-05-17T10:19:50.363Z"
   },
   {
    "duration": 563,
    "start_time": "2022-05-17T10:19:51.268Z"
   },
   {
    "duration": 242,
    "start_time": "2022-05-17T10:19:51.835Z"
   },
   {
    "duration": 5,
    "start_time": "2022-05-17T10:19:56.616Z"
   },
   {
    "duration": 4,
    "start_time": "2022-05-17T10:19:57.107Z"
   },
   {
    "duration": 13,
    "start_time": "2022-05-17T10:20:00.589Z"
   },
   {
    "duration": 10,
    "start_time": "2022-05-17T10:20:06.834Z"
   },
   {
    "duration": 10,
    "start_time": "2022-05-17T10:20:14.267Z"
   },
   {
    "duration": 10,
    "start_time": "2022-05-17T10:20:17.794Z"
   },
   {
    "duration": 13,
    "start_time": "2022-05-17T10:20:31.926Z"
   },
   {
    "duration": 12,
    "start_time": "2022-05-17T11:51:18.363Z"
   },
   {
    "duration": 11,
    "start_time": "2022-05-17T11:51:51.964Z"
   },
   {
    "duration": 11,
    "start_time": "2022-05-17T11:52:16.806Z"
   },
   {
    "duration": 6,
    "start_time": "2022-05-17T11:53:13.062Z"
   },
   {
    "duration": 9,
    "start_time": "2022-05-17T11:53:26.182Z"
   },
   {
    "duration": 10,
    "start_time": "2022-05-17T11:53:29.188Z"
   },
   {
    "duration": 10,
    "start_time": "2022-05-17T11:53:30.102Z"
   },
   {
    "duration": 5,
    "start_time": "2022-05-17T11:53:30.870Z"
   },
   {
    "duration": 5,
    "start_time": "2022-05-17T11:53:38.192Z"
   },
   {
    "duration": 6,
    "start_time": "2022-05-17T11:54:34.193Z"
   },
   {
    "duration": 940,
    "start_time": "2022-05-17T11:55:28.296Z"
   },
   {
    "duration": 6,
    "start_time": "2022-05-17T11:55:47.714Z"
   },
   {
    "duration": 6,
    "start_time": "2022-05-17T11:56:49.266Z"
   },
   {
    "duration": 1910,
    "start_time": "2022-05-17T11:57:02.270Z"
   },
   {
    "duration": 21,
    "start_time": "2022-05-17T11:57:04.183Z"
   },
   {
    "duration": 17,
    "start_time": "2022-05-17T11:57:04.206Z"
   },
   {
    "duration": 40,
    "start_time": "2022-05-17T11:57:04.225Z"
   },
   {
    "duration": 15,
    "start_time": "2022-05-17T11:57:04.268Z"
   },
   {
    "duration": 9,
    "start_time": "2022-05-17T11:57:04.285Z"
   },
   {
    "duration": 7,
    "start_time": "2022-05-17T11:57:04.296Z"
   },
   {
    "duration": 9,
    "start_time": "2022-05-17T11:57:04.305Z"
   },
   {
    "duration": 490,
    "start_time": "2022-05-17T11:57:04.316Z"
   },
   {
    "duration": 223,
    "start_time": "2022-05-17T11:57:04.808Z"
   },
   {
    "duration": 13,
    "start_time": "2022-05-17T11:57:05.033Z"
   },
   {
    "duration": 9,
    "start_time": "2022-05-17T11:57:05.048Z"
   },
   {
    "duration": 12,
    "start_time": "2022-05-17T11:57:05.059Z"
   },
   {
    "duration": 10,
    "start_time": "2022-05-17T11:57:05.075Z"
   },
   {
    "duration": 7,
    "start_time": "2022-05-17T11:57:05.147Z"
   },
   {
    "duration": 100,
    "start_time": "2022-05-17T11:57:05.157Z"
   },
   {
    "duration": 254,
    "start_time": "2022-05-17T11:57:05.344Z"
   },
   {
    "duration": 0,
    "start_time": "2022-05-17T11:57:05.601Z"
   },
   {
    "duration": 0,
    "start_time": "2022-05-17T11:57:05.602Z"
   },
   {
    "duration": 13,
    "start_time": "2022-05-17T11:57:46.242Z"
   },
   {
    "duration": 11,
    "start_time": "2022-05-17T11:57:57.471Z"
   },
   {
    "duration": 14,
    "start_time": "2022-05-17T11:58:02.296Z"
   },
   {
    "duration": 4,
    "start_time": "2022-05-17T11:58:08.243Z"
   },
   {
    "duration": 19,
    "start_time": "2022-05-17T11:58:08.357Z"
   },
   {
    "duration": 12,
    "start_time": "2022-05-17T11:58:09.107Z"
   },
   {
    "duration": 34,
    "start_time": "2022-05-17T11:58:09.122Z"
   },
   {
    "duration": 16,
    "start_time": "2022-05-17T11:58:09.158Z"
   },
   {
    "duration": 7,
    "start_time": "2022-05-17T11:58:09.353Z"
   },
   {
    "duration": 7,
    "start_time": "2022-05-17T11:58:09.525Z"
   },
   {
    "duration": 4,
    "start_time": "2022-05-17T11:58:09.651Z"
   },
   {
    "duration": 484,
    "start_time": "2022-05-17T11:58:09.829Z"
   },
   {
    "duration": 227,
    "start_time": "2022-05-17T11:58:10.316Z"
   },
   {
    "duration": 6,
    "start_time": "2022-05-17T11:58:10.649Z"
   },
   {
    "duration": 5,
    "start_time": "2022-05-17T11:58:10.844Z"
   },
   {
    "duration": 11,
    "start_time": "2022-05-17T11:58:11.801Z"
   },
   {
    "duration": 10,
    "start_time": "2022-05-17T11:58:12.309Z"
   },
   {
    "duration": 5,
    "start_time": "2022-05-17T11:58:13.965Z"
   },
   {
    "duration": 7,
    "start_time": "2022-05-17T11:58:19.686Z"
   },
   {
    "duration": 5,
    "start_time": "2022-05-17T11:58:25.843Z"
   },
   {
    "duration": 2296,
    "start_time": "2022-05-17T12:10:23.031Z"
   },
   {
    "duration": 31,
    "start_time": "2022-05-17T12:10:25.331Z"
   },
   {
    "duration": 18,
    "start_time": "2022-05-17T12:10:25.365Z"
   },
   {
    "duration": 33,
    "start_time": "2022-05-17T12:10:25.385Z"
   },
   {
    "duration": 28,
    "start_time": "2022-05-17T12:10:25.421Z"
   },
   {
    "duration": 182,
    "start_time": "2022-05-17T12:10:25.452Z"
   },
   {
    "duration": 10,
    "start_time": "2022-05-17T12:10:29.303Z"
   },
   {
    "duration": 11,
    "start_time": "2022-05-17T12:10:29.316Z"
   },
   {
    "duration": 11,
    "start_time": "2022-05-17T12:10:29.330Z"
   },
   {
    "duration": 517,
    "start_time": "2022-05-17T12:10:29.343Z"
   },
   {
    "duration": 250,
    "start_time": "2022-05-17T12:10:29.864Z"
   },
   {
    "duration": 7,
    "start_time": "2022-05-17T12:10:30.117Z"
   },
   {
    "duration": 20,
    "start_time": "2022-05-17T12:10:30.127Z"
   },
   {
    "duration": 19,
    "start_time": "2022-05-17T12:10:30.151Z"
   },
   {
    "duration": 75,
    "start_time": "2022-05-17T12:10:30.172Z"
   },
   {
    "duration": 10,
    "start_time": "2022-05-17T12:10:30.250Z"
   },
   {
    "duration": 13,
    "start_time": "2022-05-17T12:10:30.347Z"
   },
   {
    "duration": 187,
    "start_time": "2022-05-17T12:10:30.362Z"
   },
   {
    "duration": 0,
    "start_time": "2022-05-17T12:10:30.551Z"
   },
   {
    "duration": 0,
    "start_time": "2022-05-17T12:10:30.553Z"
   },
   {
    "duration": 18,
    "start_time": "2022-05-17T12:10:46.201Z"
   },
   {
    "duration": 26,
    "start_time": "2022-05-17T12:11:06.770Z"
   },
   {
    "duration": 4,
    "start_time": "2022-05-18T12:13:12.574Z"
   },
   {
    "duration": 5,
    "start_time": "2022-05-18T12:13:12.837Z"
   },
   {
    "duration": 10,
    "start_time": "2022-05-18T12:13:13.545Z"
   },
   {
    "duration": 9,
    "start_time": "2022-05-18T12:13:29.786Z"
   },
   {
    "duration": 3,
    "start_time": "2022-05-18T12:13:36.336Z"
   },
   {
    "duration": 5,
    "start_time": "2022-05-18T12:23:02.565Z"
   },
   {
    "duration": 5,
    "start_time": "2022-05-18T12:23:03.110Z"
   },
   {
    "duration": 4,
    "start_time": "2022-05-18T12:23:03.376Z"
   },
   {
    "duration": 12,
    "start_time": "2022-05-18T12:23:30.055Z"
   },
   {
    "duration": 71,
    "start_time": "2022-05-18T12:32:50.356Z"
   },
   {
    "duration": 7,
    "start_time": "2022-05-18T12:33:14.933Z"
   },
   {
    "duration": 5,
    "start_time": "2022-05-18T12:33:46.533Z"
   },
   {
    "duration": 5,
    "start_time": "2022-05-18T12:33:47.252Z"
   },
   {
    "duration": 8,
    "start_time": "2022-05-18T12:42:01.984Z"
   },
   {
    "duration": 1558,
    "start_time": "2022-05-19T07:07:28.595Z"
   },
   {
    "duration": 52,
    "start_time": "2022-05-19T07:07:30.155Z"
   },
   {
    "duration": 16,
    "start_time": "2022-05-19T07:07:30.209Z"
   },
   {
    "duration": 26,
    "start_time": "2022-05-19T07:07:30.227Z"
   },
   {
    "duration": 12,
    "start_time": "2022-05-19T07:07:30.256Z"
   },
   {
    "duration": 7,
    "start_time": "2022-05-19T07:07:30.270Z"
   },
   {
    "duration": 10,
    "start_time": "2022-05-19T07:07:30.279Z"
   },
   {
    "duration": 12,
    "start_time": "2022-05-19T07:07:30.291Z"
   },
   {
    "duration": 500,
    "start_time": "2022-05-19T07:07:30.305Z"
   },
   {
    "duration": 148,
    "start_time": "2022-05-19T07:07:30.807Z"
   },
   {
    "duration": 0,
    "start_time": "2022-05-19T07:07:30.958Z"
   },
   {
    "duration": 0,
    "start_time": "2022-05-19T07:07:30.959Z"
   },
   {
    "duration": 0,
    "start_time": "2022-05-19T07:07:30.965Z"
   },
   {
    "duration": 0,
    "start_time": "2022-05-19T07:07:30.966Z"
   },
   {
    "duration": 0,
    "start_time": "2022-05-19T07:07:30.968Z"
   },
   {
    "duration": 0,
    "start_time": "2022-05-19T07:07:30.970Z"
   },
   {
    "duration": 0,
    "start_time": "2022-05-19T07:07:30.972Z"
   },
   {
    "duration": 0,
    "start_time": "2022-05-19T07:07:30.974Z"
   },
   {
    "duration": 0,
    "start_time": "2022-05-19T07:07:30.975Z"
   },
   {
    "duration": 0,
    "start_time": "2022-05-19T07:07:30.977Z"
   },
   {
    "duration": 0,
    "start_time": "2022-05-19T07:07:30.979Z"
   },
   {
    "duration": 0,
    "start_time": "2022-05-19T07:07:30.980Z"
   },
   {
    "duration": 0,
    "start_time": "2022-05-19T07:07:30.982Z"
   },
   {
    "duration": 0,
    "start_time": "2022-05-19T07:07:30.983Z"
   },
   {
    "duration": 0,
    "start_time": "2022-05-19T07:07:30.984Z"
   },
   {
    "duration": 0,
    "start_time": "2022-05-19T07:07:30.985Z"
   },
   {
    "duration": 10,
    "start_time": "2022-05-19T07:27:36.604Z"
   },
   {
    "duration": 1404,
    "start_time": "2022-05-19T07:28:16.574Z"
   },
   {
    "duration": 18,
    "start_time": "2022-05-19T07:28:17.981Z"
   },
   {
    "duration": 15,
    "start_time": "2022-05-19T07:28:18.001Z"
   },
   {
    "duration": 30,
    "start_time": "2022-05-19T07:28:18.018Z"
   },
   {
    "duration": 12,
    "start_time": "2022-05-19T07:28:18.064Z"
   },
   {
    "duration": 14,
    "start_time": "2022-05-19T07:28:18.078Z"
   },
   {
    "duration": 7,
    "start_time": "2022-05-19T07:28:18.094Z"
   },
   {
    "duration": 15,
    "start_time": "2022-05-19T07:28:18.103Z"
   },
   {
    "duration": 434,
    "start_time": "2022-05-19T07:28:18.120Z"
   },
   {
    "duration": 187,
    "start_time": "2022-05-19T07:28:18.557Z"
   },
   {
    "duration": 5,
    "start_time": "2022-05-19T07:28:18.746Z"
   },
   {
    "duration": 12,
    "start_time": "2022-05-19T07:28:18.753Z"
   },
   {
    "duration": 13,
    "start_time": "2022-05-19T07:28:18.767Z"
   },
   {
    "duration": 9,
    "start_time": "2022-05-19T07:28:18.782Z"
   },
   {
    "duration": 76,
    "start_time": "2022-05-19T07:28:18.793Z"
   },
   {
    "duration": 105,
    "start_time": "2022-05-19T07:28:18.872Z"
   },
   {
    "duration": 155,
    "start_time": "2022-05-19T07:28:18.979Z"
   },
   {
    "duration": 0,
    "start_time": "2022-05-19T07:28:19.136Z"
   },
   {
    "duration": 0,
    "start_time": "2022-05-19T07:28:19.138Z"
   },
   {
    "duration": 0,
    "start_time": "2022-05-19T07:28:19.140Z"
   },
   {
    "duration": 0,
    "start_time": "2022-05-19T07:28:19.141Z"
   },
   {
    "duration": 0,
    "start_time": "2022-05-19T07:28:19.143Z"
   },
   {
    "duration": 0,
    "start_time": "2022-05-19T07:28:19.145Z"
   },
   {
    "duration": 0,
    "start_time": "2022-05-19T07:28:19.164Z"
   },
   {
    "duration": 0,
    "start_time": "2022-05-19T07:28:19.166Z"
   },
   {
    "duration": 0,
    "start_time": "2022-05-19T07:28:19.168Z"
   },
   {
    "duration": 0,
    "start_time": "2022-05-19T07:28:19.170Z"
   },
   {
    "duration": 5,
    "start_time": "2022-05-19T07:28:38.941Z"
   },
   {
    "duration": 21,
    "start_time": "2022-05-19T07:28:39.126Z"
   },
   {
    "duration": 9,
    "start_time": "2022-05-19T07:28:39.476Z"
   },
   {
    "duration": 26,
    "start_time": "2022-05-19T07:28:39.689Z"
   },
   {
    "duration": 13,
    "start_time": "2022-05-19T07:28:39.874Z"
   },
   {
    "duration": 6,
    "start_time": "2022-05-19T07:28:40.058Z"
   },
   {
    "duration": 6,
    "start_time": "2022-05-19T07:28:40.234Z"
   },
   {
    "duration": 3,
    "start_time": "2022-05-19T07:28:40.424Z"
   },
   {
    "duration": 379,
    "start_time": "2022-05-19T07:28:40.596Z"
   },
   {
    "duration": 172,
    "start_time": "2022-05-19T07:28:40.977Z"
   },
   {
    "duration": 5,
    "start_time": "2022-05-19T07:28:41.309Z"
   },
   {
    "duration": 4,
    "start_time": "2022-05-19T07:28:41.490Z"
   },
   {
    "duration": 10,
    "start_time": "2022-05-19T07:28:42.296Z"
   },
   {
    "duration": 16,
    "start_time": "2022-05-19T07:28:42.473Z"
   },
   {
    "duration": 6,
    "start_time": "2022-05-19T07:28:43.422Z"
   },
   {
    "duration": 6,
    "start_time": "2022-05-19T07:28:43.594Z"
   },
   {
    "duration": 10,
    "start_time": "2022-05-19T07:28:43.796Z"
   },
   {
    "duration": 5,
    "start_time": "2022-05-19T07:29:49.504Z"
   },
   {
    "duration": 6,
    "start_time": "2022-05-19T07:29:50.028Z"
   },
   {
    "duration": 48,
    "start_time": "2022-05-19T07:29:50.393Z"
   },
   {
    "duration": 38,
    "start_time": "2022-05-19T07:29:57.539Z"
   },
   {
    "duration": 6,
    "start_time": "2022-05-19T07:30:06.116Z"
   },
   {
    "duration": 4,
    "start_time": "2022-05-19T07:30:09.567Z"
   },
   {
    "duration": 5,
    "start_time": "2022-05-19T07:30:09.866Z"
   },
   {
    "duration": 6,
    "start_time": "2022-05-19T07:30:10.794Z"
   },
   {
    "duration": 3,
    "start_time": "2022-05-19T07:30:11.662Z"
   },
   {
    "duration": 3,
    "start_time": "2022-05-19T07:30:11.898Z"
   },
   {
    "duration": 15,
    "start_time": "2022-05-19T07:30:12.350Z"
   },
   {
    "duration": 6,
    "start_time": "2022-05-19T07:30:30.380Z"
   },
   {
    "duration": 13,
    "start_time": "2022-05-19T07:30:45.427Z"
   },
   {
    "duration": 14,
    "start_time": "2022-05-19T07:30:52.077Z"
   },
   {
    "duration": 14,
    "start_time": "2022-05-19T07:31:19.574Z"
   },
   {
    "duration": 10,
    "start_time": "2022-05-19T07:31:25.367Z"
   },
   {
    "duration": 22,
    "start_time": "2022-05-19T07:32:14.671Z"
   },
   {
    "duration": 21,
    "start_time": "2022-05-19T07:32:15.987Z"
   },
   {
    "duration": 1384,
    "start_time": "2022-05-19T08:28:47.476Z"
   },
   {
    "duration": 50,
    "start_time": "2022-05-19T08:28:48.862Z"
   },
   {
    "duration": 12,
    "start_time": "2022-05-19T08:28:48.914Z"
   },
   {
    "duration": 24,
    "start_time": "2022-05-19T08:28:48.928Z"
   },
   {
    "duration": 11,
    "start_time": "2022-05-19T08:28:48.954Z"
   },
   {
    "duration": 10,
    "start_time": "2022-05-19T08:28:48.967Z"
   },
   {
    "duration": 9,
    "start_time": "2022-05-19T08:28:48.979Z"
   },
   {
    "duration": 5,
    "start_time": "2022-05-19T08:28:48.989Z"
   },
   {
    "duration": 465,
    "start_time": "2022-05-19T08:28:48.995Z"
   },
   {
    "duration": 148,
    "start_time": "2022-05-19T08:28:49.463Z"
   },
   {
    "duration": 4,
    "start_time": "2022-05-19T08:28:49.613Z"
   },
   {
    "duration": 3,
    "start_time": "2022-05-19T08:28:49.627Z"
   },
   {
    "duration": 14,
    "start_time": "2022-05-19T08:28:49.631Z"
   },
   {
    "duration": 182,
    "start_time": "2022-05-19T08:28:49.647Z"
   },
   {
    "duration": 7,
    "start_time": "2022-05-19T08:28:49.832Z"
   },
   {
    "duration": 89,
    "start_time": "2022-05-19T08:28:49.841Z"
   },
   {
    "duration": 10,
    "start_time": "2022-05-19T08:28:49.932Z"
   },
   {
    "duration": 12,
    "start_time": "2022-05-19T08:28:49.943Z"
   },
   {
    "duration": 7,
    "start_time": "2022-05-19T08:28:49.956Z"
   },
   {
    "duration": 8,
    "start_time": "2022-05-19T08:28:49.965Z"
   },
   {
    "duration": 53,
    "start_time": "2022-05-19T08:28:49.974Z"
   },
   {
    "duration": 11,
    "start_time": "2022-05-19T08:28:50.030Z"
   },
   {
    "duration": 271,
    "start_time": "2022-05-19T08:28:50.042Z"
   },
   {
    "duration": 0,
    "start_time": "2022-05-19T08:28:50.315Z"
   },
   {
    "duration": 0,
    "start_time": "2022-05-19T08:28:50.316Z"
   },
   {
    "duration": 0,
    "start_time": "2022-05-19T08:28:50.316Z"
   },
   {
    "duration": 0,
    "start_time": "2022-05-19T08:28:50.326Z"
   },
   {
    "duration": 1432,
    "start_time": "2022-05-19T08:37:47.786Z"
   },
   {
    "duration": 1396,
    "start_time": "2022-05-19T08:39:45.233Z"
   },
   {
    "duration": 1401,
    "start_time": "2022-05-19T08:40:11.559Z"
   },
   {
    "duration": 1546,
    "start_time": "2022-05-19T08:42:29.685Z"
   },
   {
    "duration": 1425,
    "start_time": "2022-05-19T08:43:13.616Z"
   },
   {
    "duration": 1255,
    "start_time": "2022-05-19T08:44:52.869Z"
   },
   {
    "duration": 1392,
    "start_time": "2022-05-19T08:45:52.831Z"
   },
   {
    "duration": 24,
    "start_time": "2022-05-19T09:25:07.782Z"
   },
   {
    "duration": 1518,
    "start_time": "2022-05-19T09:29:16.787Z"
   },
   {
    "duration": 17,
    "start_time": "2022-05-19T09:29:18.308Z"
   },
   {
    "duration": 20,
    "start_time": "2022-05-19T09:29:18.327Z"
   },
   {
    "duration": 41,
    "start_time": "2022-05-19T09:29:18.356Z"
   },
   {
    "duration": 12,
    "start_time": "2022-05-19T09:29:18.400Z"
   },
   {
    "duration": 52,
    "start_time": "2022-05-19T09:29:18.414Z"
   },
   {
    "duration": 12,
    "start_time": "2022-05-19T09:29:18.468Z"
   },
   {
    "duration": 11,
    "start_time": "2022-05-19T09:29:18.481Z"
   },
   {
    "duration": 462,
    "start_time": "2022-05-19T09:29:18.494Z"
   },
   {
    "duration": 192,
    "start_time": "2022-05-19T09:29:18.959Z"
   },
   {
    "duration": 169,
    "start_time": "2022-05-19T09:29:19.153Z"
   },
   {
    "duration": 0,
    "start_time": "2022-05-19T09:29:19.324Z"
   },
   {
    "duration": 0,
    "start_time": "2022-05-19T09:29:19.335Z"
   },
   {
    "duration": 0,
    "start_time": "2022-05-19T09:29:19.338Z"
   },
   {
    "duration": 0,
    "start_time": "2022-05-19T09:29:19.338Z"
   },
   {
    "duration": 0,
    "start_time": "2022-05-19T09:29:19.339Z"
   },
   {
    "duration": 0,
    "start_time": "2022-05-19T09:29:19.340Z"
   },
   {
    "duration": 0,
    "start_time": "2022-05-19T09:29:19.340Z"
   },
   {
    "duration": 0,
    "start_time": "2022-05-19T09:29:19.343Z"
   },
   {
    "duration": 0,
    "start_time": "2022-05-19T09:29:19.344Z"
   },
   {
    "duration": 0,
    "start_time": "2022-05-19T09:29:19.345Z"
   },
   {
    "duration": 0,
    "start_time": "2022-05-19T09:29:19.346Z"
   },
   {
    "duration": 0,
    "start_time": "2022-05-19T09:29:19.348Z"
   },
   {
    "duration": 0,
    "start_time": "2022-05-19T09:29:19.350Z"
   },
   {
    "duration": 0,
    "start_time": "2022-05-19T09:29:19.351Z"
   },
   {
    "duration": 0,
    "start_time": "2022-05-19T09:29:19.352Z"
   },
   {
    "duration": 0,
    "start_time": "2022-05-19T09:29:19.355Z"
   },
   {
    "duration": 0,
    "start_time": "2022-05-19T09:29:19.356Z"
   },
   {
    "duration": 0,
    "start_time": "2022-05-19T09:29:19.357Z"
   },
   {
    "duration": 1470,
    "start_time": "2022-05-19T09:29:34.072Z"
   },
   {
    "duration": 26,
    "start_time": "2022-05-19T09:29:35.551Z"
   },
   {
    "duration": 16,
    "start_time": "2022-05-19T09:29:35.579Z"
   },
   {
    "duration": 30,
    "start_time": "2022-05-19T09:29:35.597Z"
   },
   {
    "duration": 16,
    "start_time": "2022-05-19T09:29:35.644Z"
   },
   {
    "duration": 49,
    "start_time": "2022-05-19T09:29:35.664Z"
   },
   {
    "duration": 42,
    "start_time": "2022-05-19T09:29:35.715Z"
   },
   {
    "duration": 25,
    "start_time": "2022-05-19T09:29:35.759Z"
   },
   {
    "duration": 497,
    "start_time": "2022-05-19T09:29:35.786Z"
   },
   {
    "duration": 235,
    "start_time": "2022-05-19T09:29:36.286Z"
   },
   {
    "duration": 1668,
    "start_time": "2022-05-19T09:29:36.523Z"
   },
   {
    "duration": 1765,
    "start_time": "2022-05-19T09:29:38.194Z"
   },
   {
    "duration": 9,
    "start_time": "2022-05-19T09:29:39.961Z"
   },
   {
    "duration": 17,
    "start_time": "2022-05-19T09:29:39.974Z"
   },
   {
    "duration": 32,
    "start_time": "2022-05-19T09:29:39.993Z"
   },
   {
    "duration": 53,
    "start_time": "2022-05-19T09:29:40.030Z"
   },
   {
    "duration": 46,
    "start_time": "2022-05-19T09:29:40.086Z"
   },
   {
    "duration": 127,
    "start_time": "2022-05-19T09:29:40.135Z"
   },
   {
    "duration": 14,
    "start_time": "2022-05-19T09:29:40.264Z"
   },
   {
    "duration": 7,
    "start_time": "2022-05-19T09:29:40.280Z"
   },
   {
    "duration": 10,
    "start_time": "2022-05-19T09:29:40.289Z"
   },
   {
    "duration": 15,
    "start_time": "2022-05-19T09:29:40.301Z"
   },
   {
    "duration": 102,
    "start_time": "2022-05-19T09:29:40.329Z"
   },
   {
    "duration": 42,
    "start_time": "2022-05-19T09:29:40.433Z"
   },
   {
    "duration": 98,
    "start_time": "2022-05-19T09:29:40.478Z"
   },
   {
    "duration": 249,
    "start_time": "2022-05-19T09:29:40.636Z"
   },
   {
    "duration": 0,
    "start_time": "2022-05-19T09:29:40.887Z"
   },
   {
    "duration": 0,
    "start_time": "2022-05-19T09:29:40.889Z"
   },
   {
    "duration": 15,
    "start_time": "2022-05-19T09:29:52.499Z"
   },
   {
    "duration": 1542,
    "start_time": "2022-05-19T09:29:58.668Z"
   },
   {
    "duration": 28,
    "start_time": "2022-05-19T09:30:00.213Z"
   },
   {
    "duration": 44,
    "start_time": "2022-05-19T09:30:00.243Z"
   },
   {
    "duration": 35,
    "start_time": "2022-05-19T09:30:00.290Z"
   },
   {
    "duration": 18,
    "start_time": "2022-05-19T09:30:00.332Z"
   },
   {
    "duration": 35,
    "start_time": "2022-05-19T09:30:00.353Z"
   },
   {
    "duration": 11,
    "start_time": "2022-05-19T09:30:00.390Z"
   },
   {
    "duration": 11,
    "start_time": "2022-05-19T09:30:00.403Z"
   },
   {
    "duration": 573,
    "start_time": "2022-05-19T09:30:00.417Z"
   },
   {
    "duration": 206,
    "start_time": "2022-05-19T09:30:00.992Z"
   },
   {
    "duration": 1761,
    "start_time": "2022-05-19T09:30:01.200Z"
   },
   {
    "duration": 2064,
    "start_time": "2022-05-19T09:30:02.963Z"
   },
   {
    "duration": 13,
    "start_time": "2022-05-19T09:30:05.029Z"
   },
   {
    "duration": 20,
    "start_time": "2022-05-19T09:30:05.045Z"
   },
   {
    "duration": 18,
    "start_time": "2022-05-19T09:30:05.068Z"
   },
   {
    "duration": 5,
    "start_time": "2022-05-19T09:30:05.088Z"
   },
   {
    "duration": 32,
    "start_time": "2022-05-19T09:30:05.095Z"
   },
   {
    "duration": 148,
    "start_time": "2022-05-19T09:30:05.133Z"
   },
   {
    "duration": 7,
    "start_time": "2022-05-19T09:30:05.283Z"
   },
   {
    "duration": 18,
    "start_time": "2022-05-19T09:30:05.292Z"
   },
   {
    "duration": 55,
    "start_time": "2022-05-19T09:30:05.312Z"
   },
   {
    "duration": 19,
    "start_time": "2022-05-19T09:30:05.369Z"
   },
   {
    "duration": 13,
    "start_time": "2022-05-19T09:30:05.390Z"
   },
   {
    "duration": 28,
    "start_time": "2022-05-19T09:30:05.406Z"
   },
   {
    "duration": 96,
    "start_time": "2022-05-19T09:30:05.438Z"
   },
   {
    "duration": 221,
    "start_time": "2022-05-19T09:30:05.544Z"
   },
   {
    "duration": 286,
    "start_time": "2022-05-19T09:30:05.769Z"
   },
   {
    "duration": 0,
    "start_time": "2022-05-19T09:30:06.058Z"
   },
   {
    "duration": 0,
    "start_time": "2022-05-19T09:30:06.060Z"
   },
   {
    "duration": 20,
    "start_time": "2022-05-19T09:30:22.124Z"
   },
   {
    "duration": 10,
    "start_time": "2022-05-19T09:31:07.808Z"
   },
   {
    "duration": 1520,
    "start_time": "2022-05-19T09:31:17.022Z"
   },
   {
    "duration": 23,
    "start_time": "2022-05-19T09:31:18.554Z"
   },
   {
    "duration": 14,
    "start_time": "2022-05-19T09:31:18.579Z"
   },
   {
    "duration": 29,
    "start_time": "2022-05-19T09:31:18.595Z"
   },
   {
    "duration": 19,
    "start_time": "2022-05-19T09:31:18.626Z"
   },
   {
    "duration": 40,
    "start_time": "2022-05-19T09:31:18.647Z"
   },
   {
    "duration": 10,
    "start_time": "2022-05-19T09:31:18.688Z"
   },
   {
    "duration": 12,
    "start_time": "2022-05-19T09:31:18.700Z"
   },
   {
    "duration": 471,
    "start_time": "2022-05-19T09:31:18.713Z"
   },
   {
    "duration": 207,
    "start_time": "2022-05-19T09:31:19.189Z"
   },
   {
    "duration": 1614,
    "start_time": "2022-05-19T09:31:19.398Z"
   },
   {
    "duration": 1669,
    "start_time": "2022-05-19T09:31:21.014Z"
   },
   {
    "duration": 5,
    "start_time": "2022-05-19T09:31:22.685Z"
   },
   {
    "duration": 8,
    "start_time": "2022-05-19T09:31:22.692Z"
   },
   {
    "duration": 11,
    "start_time": "2022-05-19T09:31:22.702Z"
   },
   {
    "duration": 49,
    "start_time": "2022-05-19T09:31:22.715Z"
   },
   {
    "duration": 13,
    "start_time": "2022-05-19T09:31:22.766Z"
   },
   {
    "duration": 54,
    "start_time": "2022-05-19T09:31:22.781Z"
   },
   {
    "duration": 30,
    "start_time": "2022-05-19T09:31:22.837Z"
   },
   {
    "duration": 42,
    "start_time": "2022-05-19T09:31:22.928Z"
   },
   {
    "duration": 9,
    "start_time": "2022-05-19T09:31:22.973Z"
   },
   {
    "duration": 6,
    "start_time": "2022-05-19T09:31:22.984Z"
   },
   {
    "duration": 9,
    "start_time": "2022-05-19T09:31:22.991Z"
   },
   {
    "duration": 20,
    "start_time": "2022-05-19T09:31:23.002Z"
   },
   {
    "duration": 131,
    "start_time": "2022-05-19T09:31:23.038Z"
   },
   {
    "duration": 19,
    "start_time": "2022-05-19T09:31:23.171Z"
   },
   {
    "duration": 176,
    "start_time": "2022-05-19T09:31:23.194Z"
   },
   {
    "duration": 226,
    "start_time": "2022-05-19T09:31:23.428Z"
   },
   {
    "duration": 0,
    "start_time": "2022-05-19T09:31:23.656Z"
   },
   {
    "duration": 0,
    "start_time": "2022-05-19T09:31:23.657Z"
   },
   {
    "duration": 16,
    "start_time": "2022-05-19T09:32:06.958Z"
   },
   {
    "duration": 10,
    "start_time": "2022-05-19T09:46:02.693Z"
   },
   {
    "duration": 3,
    "start_time": "2022-05-19T09:46:55.950Z"
   },
   {
    "duration": 10,
    "start_time": "2022-05-19T09:46:56.974Z"
   },
   {
    "duration": 4,
    "start_time": "2022-05-19T09:47:12.248Z"
   },
   {
    "duration": 11,
    "start_time": "2022-05-19T09:47:12.950Z"
   },
   {
    "duration": 11,
    "start_time": "2022-05-19T09:47:18.817Z"
   },
   {
    "duration": 3,
    "start_time": "2022-05-19T09:48:04.601Z"
   },
   {
    "duration": 20,
    "start_time": "2022-05-19T09:48:38.842Z"
   },
   {
    "duration": 4,
    "start_time": "2022-05-19T09:48:40.178Z"
   },
   {
    "duration": 10,
    "start_time": "2022-05-19T09:48:41.162Z"
   },
   {
    "duration": 3,
    "start_time": "2022-05-19T09:48:52.888Z"
   },
   {
    "duration": 5,
    "start_time": "2022-05-19T09:49:06.318Z"
   },
   {
    "duration": 5,
    "start_time": "2022-05-19T09:49:15.545Z"
   },
   {
    "duration": 4,
    "start_time": "2022-05-19T09:49:27.054Z"
   },
   {
    "duration": 5,
    "start_time": "2022-05-19T09:49:43.772Z"
   },
   {
    "duration": 4,
    "start_time": "2022-05-19T09:49:44.700Z"
   },
   {
    "duration": 46,
    "start_time": "2022-05-19T09:51:49.529Z"
   },
   {
    "duration": 2298,
    "start_time": "2022-05-19T09:53:24.414Z"
   },
   {
    "duration": 37,
    "start_time": "2022-05-19T09:53:26.715Z"
   },
   {
    "duration": 36,
    "start_time": "2022-05-19T09:53:26.754Z"
   },
   {
    "duration": 31,
    "start_time": "2022-05-19T09:53:26.792Z"
   },
   {
    "duration": 25,
    "start_time": "2022-05-19T09:53:26.825Z"
   },
   {
    "duration": 26,
    "start_time": "2022-05-19T09:53:26.852Z"
   },
   {
    "duration": 7,
    "start_time": "2022-05-19T09:53:26.880Z"
   },
   {
    "duration": 4,
    "start_time": "2022-05-19T09:53:26.889Z"
   },
   {
    "duration": 528,
    "start_time": "2022-05-19T09:53:26.895Z"
   },
   {
    "duration": 214,
    "start_time": "2022-05-19T09:53:27.425Z"
   },
   {
    "duration": 1710,
    "start_time": "2022-05-19T09:53:27.644Z"
   },
   {
    "duration": 1830,
    "start_time": "2022-05-19T09:53:29.359Z"
   },
   {
    "duration": 5,
    "start_time": "2022-05-19T09:53:31.191Z"
   },
   {
    "duration": 19,
    "start_time": "2022-05-19T09:53:31.200Z"
   },
   {
    "duration": 70,
    "start_time": "2022-05-19T09:53:31.222Z"
   },
   {
    "duration": 19,
    "start_time": "2022-05-19T09:53:31.295Z"
   },
   {
    "duration": 72,
    "start_time": "2022-05-19T09:53:31.316Z"
   },
   {
    "duration": 39,
    "start_time": "2022-05-19T09:53:31.390Z"
   },
   {
    "duration": 130,
    "start_time": "2022-05-19T09:53:31.432Z"
   },
   {
    "duration": 16,
    "start_time": "2022-05-19T09:53:31.565Z"
   },
   {
    "duration": 23,
    "start_time": "2022-05-19T09:53:31.583Z"
   },
   {
    "duration": 24,
    "start_time": "2022-05-19T09:53:31.609Z"
   },
   {
    "duration": 57,
    "start_time": "2022-05-19T09:53:31.636Z"
   },
   {
    "duration": 81,
    "start_time": "2022-05-19T09:53:31.695Z"
   },
   {
    "duration": 93,
    "start_time": "2022-05-19T09:53:31.827Z"
   },
   {
    "duration": 312,
    "start_time": "2022-05-19T09:53:31.922Z"
   },
   {
    "duration": 205,
    "start_time": "2022-05-19T09:53:32.256Z"
   },
   {
    "duration": 0,
    "start_time": "2022-05-19T09:53:32.468Z"
   },
   {
    "duration": 0,
    "start_time": "2022-05-19T09:53:32.469Z"
   },
   {
    "duration": 14,
    "start_time": "2022-05-19T09:54:31.976Z"
   },
   {
    "duration": 311,
    "start_time": "2022-05-19T09:55:31.274Z"
   },
   {
    "duration": 244,
    "start_time": "2022-05-19T09:56:40.075Z"
   },
   {
    "duration": 153,
    "start_time": "2022-05-19T09:59:39.564Z"
   },
   {
    "duration": 79,
    "start_time": "2022-05-19T10:00:25.669Z"
   },
   {
    "duration": 10,
    "start_time": "2022-05-19T10:03:49.918Z"
   },
   {
    "duration": 13,
    "start_time": "2022-05-19T10:03:51.101Z"
   },
   {
    "duration": 149,
    "start_time": "2022-05-19T10:04:14.970Z"
   },
   {
    "duration": 45,
    "start_time": "2022-05-19T10:04:28.078Z"
   },
   {
    "duration": 10,
    "start_time": "2022-05-19T10:13:51.808Z"
   },
   {
    "duration": 17,
    "start_time": "2022-05-19T10:26:03.146Z"
   },
   {
    "duration": 12,
    "start_time": "2022-05-19T10:26:03.608Z"
   },
   {
    "duration": 1449,
    "start_time": "2022-05-19T10:26:09.356Z"
   },
   {
    "duration": 18,
    "start_time": "2022-05-19T10:26:10.807Z"
   },
   {
    "duration": 51,
    "start_time": "2022-05-19T10:26:10.826Z"
   },
   {
    "duration": 55,
    "start_time": "2022-05-19T10:26:10.879Z"
   },
   {
    "duration": 13,
    "start_time": "2022-05-19T10:26:10.937Z"
   },
   {
    "duration": 34,
    "start_time": "2022-05-19T10:26:10.952Z"
   },
   {
    "duration": 17,
    "start_time": "2022-05-19T10:26:10.988Z"
   },
   {
    "duration": 48,
    "start_time": "2022-05-19T10:26:11.007Z"
   },
   {
    "duration": 440,
    "start_time": "2022-05-19T10:26:11.057Z"
   },
   {
    "duration": 186,
    "start_time": "2022-05-19T10:26:11.499Z"
   },
   {
    "duration": 4,
    "start_time": "2022-05-19T10:26:11.686Z"
   },
   {
    "duration": 13,
    "start_time": "2022-05-19T10:26:11.692Z"
   },
   {
    "duration": 16,
    "start_time": "2022-05-19T10:26:11.707Z"
   },
   {
    "duration": 14,
    "start_time": "2022-05-19T10:26:11.737Z"
   },
   {
    "duration": 12,
    "start_time": "2022-05-19T10:26:11.753Z"
   },
   {
    "duration": 180,
    "start_time": "2022-05-19T10:26:11.768Z"
   },
   {
    "duration": 13,
    "start_time": "2022-05-19T10:26:11.950Z"
   },
   {
    "duration": 7,
    "start_time": "2022-05-19T10:26:11.965Z"
   },
   {
    "duration": 12,
    "start_time": "2022-05-19T10:26:11.974Z"
   },
   {
    "duration": 7,
    "start_time": "2022-05-19T10:26:11.988Z"
   },
   {
    "duration": 17,
    "start_time": "2022-05-19T10:26:11.998Z"
   },
   {
    "duration": 112,
    "start_time": "2022-05-19T10:26:12.017Z"
   },
   {
    "duration": 32,
    "start_time": "2022-05-19T10:26:12.131Z"
   },
   {
    "duration": 89,
    "start_time": "2022-05-19T10:26:12.165Z"
   },
   {
    "duration": 318,
    "start_time": "2022-05-19T10:26:12.258Z"
   },
   {
    "duration": 0,
    "start_time": "2022-05-19T10:26:12.577Z"
   },
   {
    "duration": 0,
    "start_time": "2022-05-19T10:26:12.583Z"
   },
   {
    "duration": 47,
    "start_time": "2022-05-19T10:40:10.071Z"
   },
   {
    "duration": 18,
    "start_time": "2022-05-19T10:40:16.807Z"
   },
   {
    "duration": 21,
    "start_time": "2022-05-19T10:40:32.553Z"
   },
   {
    "duration": 10,
    "start_time": "2022-05-19T10:40:54.624Z"
   },
   {
    "duration": 26,
    "start_time": "2022-05-19T10:46:41.395Z"
   },
   {
    "duration": 36,
    "start_time": "2022-05-19T10:46:42.821Z"
   },
   {
    "duration": 30,
    "start_time": "2022-05-19T10:48:09.133Z"
   },
   {
    "duration": 23,
    "start_time": "2022-05-19T10:48:10.198Z"
   },
   {
    "duration": 1537,
    "start_time": "2022-05-19T10:48:23.288Z"
   },
   {
    "duration": 42,
    "start_time": "2022-05-19T10:48:24.828Z"
   },
   {
    "duration": 56,
    "start_time": "2022-05-19T10:48:24.877Z"
   },
   {
    "duration": 62,
    "start_time": "2022-05-19T10:48:24.935Z"
   },
   {
    "duration": 14,
    "start_time": "2022-05-19T10:48:25.000Z"
   },
   {
    "duration": 40,
    "start_time": "2022-05-19T10:48:25.019Z"
   },
   {
    "duration": 8,
    "start_time": "2022-05-19T10:48:25.061Z"
   },
   {
    "duration": 27,
    "start_time": "2022-05-19T10:48:25.071Z"
   },
   {
    "duration": 468,
    "start_time": "2022-05-19T10:48:25.100Z"
   },
   {
    "duration": 218,
    "start_time": "2022-05-19T10:48:25.570Z"
   },
   {
    "duration": 5,
    "start_time": "2022-05-19T10:48:25.790Z"
   },
   {
    "duration": 10,
    "start_time": "2022-05-19T10:48:25.797Z"
   },
   {
    "duration": 49,
    "start_time": "2022-05-19T10:48:25.809Z"
   },
   {
    "duration": 22,
    "start_time": "2022-05-19T10:48:25.862Z"
   },
   {
    "duration": 20,
    "start_time": "2022-05-19T10:48:25.886Z"
   },
   {
    "duration": 127,
    "start_time": "2022-05-19T10:48:25.931Z"
   },
   {
    "duration": 38,
    "start_time": "2022-05-19T10:48:26.060Z"
   },
   {
    "duration": 78,
    "start_time": "2022-05-19T10:48:26.100Z"
   },
   {
    "duration": 81,
    "start_time": "2022-05-19T10:48:26.180Z"
   },
   {
    "duration": 50,
    "start_time": "2022-05-19T10:48:26.264Z"
   },
   {
    "duration": 75,
    "start_time": "2022-05-19T10:48:26.316Z"
   },
   {
    "duration": 90,
    "start_time": "2022-05-19T10:48:26.392Z"
   },
   {
    "duration": 63,
    "start_time": "2022-05-19T10:48:26.530Z"
   },
   {
    "duration": 167,
    "start_time": "2022-05-19T10:48:26.598Z"
   },
   {
    "duration": 41,
    "start_time": "2022-05-19T10:48:26.768Z"
   },
   {
    "duration": 135,
    "start_time": "2022-05-19T10:48:26.811Z"
   },
   {
    "duration": 234,
    "start_time": "2022-05-19T10:48:26.953Z"
   },
   {
    "duration": 0,
    "start_time": "2022-05-19T10:48:27.189Z"
   },
   {
    "duration": 0,
    "start_time": "2022-05-19T10:48:27.191Z"
   },
   {
    "duration": 2421,
    "start_time": "2022-05-19T11:12:03.399Z"
   },
   {
    "duration": 21,
    "start_time": "2022-05-19T11:12:05.825Z"
   },
   {
    "duration": 60,
    "start_time": "2022-05-19T11:12:05.851Z"
   },
   {
    "duration": 45,
    "start_time": "2022-05-19T11:12:05.914Z"
   },
   {
    "duration": 16,
    "start_time": "2022-05-19T11:12:05.961Z"
   },
   {
    "duration": 27,
    "start_time": "2022-05-19T11:12:05.979Z"
   },
   {
    "duration": 21,
    "start_time": "2022-05-19T11:12:06.008Z"
   },
   {
    "duration": 27,
    "start_time": "2022-05-19T11:12:06.031Z"
   },
   {
    "duration": 503,
    "start_time": "2022-05-19T11:12:06.061Z"
   },
   {
    "duration": 236,
    "start_time": "2022-05-19T11:12:06.568Z"
   },
   {
    "duration": 6,
    "start_time": "2022-05-19T11:12:06.807Z"
   },
   {
    "duration": 66,
    "start_time": "2022-05-19T11:12:06.815Z"
   },
   {
    "duration": 38,
    "start_time": "2022-05-19T11:12:06.884Z"
   },
   {
    "duration": 28,
    "start_time": "2022-05-19T11:12:06.924Z"
   },
   {
    "duration": 72,
    "start_time": "2022-05-19T11:12:06.954Z"
   },
   {
    "duration": 9,
    "start_time": "2022-05-19T11:12:07.029Z"
   },
   {
    "duration": 98,
    "start_time": "2022-05-19T11:12:07.039Z"
   },
   {
    "duration": 12,
    "start_time": "2022-05-19T11:12:07.140Z"
   },
   {
    "duration": 11,
    "start_time": "2022-05-19T11:12:07.154Z"
   },
   {
    "duration": 13,
    "start_time": "2022-05-19T11:12:07.167Z"
   },
   {
    "duration": 10,
    "start_time": "2022-05-19T11:12:07.182Z"
   },
   {
    "duration": 169,
    "start_time": "2022-05-19T11:12:07.194Z"
   },
   {
    "duration": 25,
    "start_time": "2022-05-19T11:12:07.365Z"
   },
   {
    "duration": 167,
    "start_time": "2022-05-19T11:12:07.391Z"
   },
   {
    "duration": 32,
    "start_time": "2022-05-19T11:12:07.560Z"
   },
   {
    "duration": 57,
    "start_time": "2022-05-19T11:12:07.594Z"
   },
   {
    "duration": 11,
    "start_time": "2022-05-19T11:14:02.468Z"
   },
   {
    "duration": 11,
    "start_time": "2022-05-19T11:14:24.503Z"
   },
   {
    "duration": 10,
    "start_time": "2022-05-19T11:14:39.693Z"
   },
   {
    "duration": 17,
    "start_time": "2022-05-19T11:14:47.465Z"
   },
   {
    "duration": 1417,
    "start_time": "2022-05-19T11:36:08.970Z"
   },
   {
    "duration": 23,
    "start_time": "2022-05-19T11:36:10.390Z"
   },
   {
    "duration": 46,
    "start_time": "2022-05-19T11:36:10.415Z"
   },
   {
    "duration": 74,
    "start_time": "2022-05-19T11:36:10.464Z"
   },
   {
    "duration": 55,
    "start_time": "2022-05-19T11:36:10.541Z"
   },
   {
    "duration": 37,
    "start_time": "2022-05-19T11:36:10.598Z"
   },
   {
    "duration": 26,
    "start_time": "2022-05-19T11:36:10.637Z"
   },
   {
    "duration": 33,
    "start_time": "2022-05-19T11:36:10.665Z"
   },
   {
    "duration": 523,
    "start_time": "2022-05-19T11:36:10.700Z"
   },
   {
    "duration": 240,
    "start_time": "2022-05-19T11:36:11.226Z"
   },
   {
    "duration": 5,
    "start_time": "2022-05-19T11:36:11.468Z"
   },
   {
    "duration": 27,
    "start_time": "2022-05-19T11:36:11.475Z"
   },
   {
    "duration": 24,
    "start_time": "2022-05-19T11:36:11.505Z"
   },
   {
    "duration": 16,
    "start_time": "2022-05-19T11:36:11.532Z"
   },
   {
    "duration": 77,
    "start_time": "2022-05-19T11:36:11.552Z"
   },
   {
    "duration": 111,
    "start_time": "2022-05-19T11:36:11.631Z"
   },
   {
    "duration": 19,
    "start_time": "2022-05-19T11:36:11.744Z"
   },
   {
    "duration": 17,
    "start_time": "2022-05-19T11:36:11.765Z"
   },
   {
    "duration": 14,
    "start_time": "2022-05-19T11:36:11.784Z"
   },
   {
    "duration": 22,
    "start_time": "2022-05-19T11:36:11.801Z"
   },
   {
    "duration": 9,
    "start_time": "2022-05-19T11:36:11.826Z"
   },
   {
    "duration": 134,
    "start_time": "2022-05-19T11:36:11.837Z"
   },
   {
    "duration": 10,
    "start_time": "2022-05-19T11:36:12.027Z"
   },
   {
    "duration": 206,
    "start_time": "2022-05-19T11:36:12.039Z"
   },
   {
    "duration": 108,
    "start_time": "2022-05-19T11:36:12.247Z"
   },
   {
    "duration": 176,
    "start_time": "2022-05-19T11:36:12.357Z"
   },
   {
    "duration": 16,
    "start_time": "2022-05-19T11:36:44.010Z"
   },
   {
    "duration": 31,
    "start_time": "2022-05-19T11:37:12.910Z"
   },
   {
    "duration": 14,
    "start_time": "2022-05-19T11:37:53.971Z"
   },
   {
    "duration": 7,
    "start_time": "2022-05-19T11:38:38.745Z"
   },
   {
    "duration": 272,
    "start_time": "2022-05-19T11:42:22.399Z"
   },
   {
    "duration": 12,
    "start_time": "2022-05-19T11:42:31.116Z"
   },
   {
    "duration": 1478,
    "start_time": "2022-05-19T11:45:38.175Z"
   },
   {
    "duration": 17,
    "start_time": "2022-05-19T11:45:39.655Z"
   },
   {
    "duration": 22,
    "start_time": "2022-05-19T11:45:39.674Z"
   },
   {
    "duration": 42,
    "start_time": "2022-05-19T11:45:39.699Z"
   },
   {
    "duration": 11,
    "start_time": "2022-05-19T11:45:39.744Z"
   },
   {
    "duration": 12,
    "start_time": "2022-05-19T11:45:39.757Z"
   },
   {
    "duration": 8,
    "start_time": "2022-05-19T11:45:39.771Z"
   },
   {
    "duration": 7,
    "start_time": "2022-05-19T11:45:39.781Z"
   },
   {
    "duration": 440,
    "start_time": "2022-05-19T11:45:39.790Z"
   },
   {
    "duration": 177,
    "start_time": "2022-05-19T11:45:40.232Z"
   },
   {
    "duration": 4,
    "start_time": "2022-05-19T11:45:40.412Z"
   },
   {
    "duration": 27,
    "start_time": "2022-05-19T11:45:40.427Z"
   },
   {
    "duration": 25,
    "start_time": "2022-05-19T11:45:40.456Z"
   },
   {
    "duration": 16,
    "start_time": "2022-05-19T11:45:40.484Z"
   },
   {
    "duration": 25,
    "start_time": "2022-05-19T11:45:40.502Z"
   },
   {
    "duration": 203,
    "start_time": "2022-05-19T11:45:40.528Z"
   },
   {
    "duration": 12,
    "start_time": "2022-05-19T11:45:40.734Z"
   },
   {
    "duration": 34,
    "start_time": "2022-05-19T11:45:40.748Z"
   },
   {
    "duration": 12,
    "start_time": "2022-05-19T11:45:40.784Z"
   },
   {
    "duration": 25,
    "start_time": "2022-05-19T11:45:40.798Z"
   },
   {
    "duration": 25,
    "start_time": "2022-05-19T11:45:40.825Z"
   },
   {
    "duration": 77,
    "start_time": "2022-05-19T11:45:40.852Z"
   },
   {
    "duration": 114,
    "start_time": "2022-05-19T11:45:40.931Z"
   },
   {
    "duration": 182,
    "start_time": "2022-05-19T11:45:41.052Z"
   },
   {
    "duration": 59,
    "start_time": "2022-05-19T11:45:41.237Z"
   },
   {
    "duration": 16,
    "start_time": "2022-05-19T11:45:41.300Z"
   },
   {
    "duration": 27,
    "start_time": "2022-05-19T11:45:41.318Z"
   },
   {
    "duration": 22,
    "start_time": "2022-05-19T11:45:41.347Z"
   },
   {
    "duration": 157,
    "start_time": "2022-05-19T11:45:41.372Z"
   },
   {
    "duration": 88,
    "start_time": "2022-05-19T11:50:16.954Z"
   },
   {
    "duration": 273,
    "start_time": "2022-05-19T11:52:02.241Z"
   },
   {
    "duration": 23,
    "start_time": "2022-05-19T11:52:03.239Z"
   },
   {
    "duration": 55,
    "start_time": "2022-05-19T11:53:23.074Z"
   },
   {
    "duration": 16,
    "start_time": "2022-05-19T11:53:30.312Z"
   },
   {
    "duration": 1342,
    "start_time": "2022-05-19T11:53:36.717Z"
   },
   {
    "duration": 17,
    "start_time": "2022-05-19T11:53:38.061Z"
   },
   {
    "duration": 18,
    "start_time": "2022-05-19T11:53:38.081Z"
   },
   {
    "duration": 30,
    "start_time": "2022-05-19T11:53:38.100Z"
   },
   {
    "duration": 12,
    "start_time": "2022-05-19T11:53:38.133Z"
   },
   {
    "duration": 16,
    "start_time": "2022-05-19T11:53:38.147Z"
   },
   {
    "duration": 13,
    "start_time": "2022-05-19T11:53:38.167Z"
   },
   {
    "duration": 4,
    "start_time": "2022-05-19T11:53:38.182Z"
   },
   {
    "duration": 419,
    "start_time": "2022-05-19T11:53:38.187Z"
   },
   {
    "duration": 172,
    "start_time": "2022-05-19T11:53:38.608Z"
   },
   {
    "duration": 5,
    "start_time": "2022-05-19T11:53:38.782Z"
   },
   {
    "duration": 10,
    "start_time": "2022-05-19T11:53:38.789Z"
   },
   {
    "duration": 28,
    "start_time": "2022-05-19T11:53:38.802Z"
   },
   {
    "duration": 5,
    "start_time": "2022-05-19T11:53:38.834Z"
   },
   {
    "duration": 8,
    "start_time": "2022-05-19T11:53:38.840Z"
   },
   {
    "duration": 182,
    "start_time": "2022-05-19T11:53:38.852Z"
   },
   {
    "duration": 9,
    "start_time": "2022-05-19T11:53:39.037Z"
   },
   {
    "duration": 25,
    "start_time": "2022-05-19T11:53:39.048Z"
   },
   {
    "duration": 15,
    "start_time": "2022-05-19T11:53:39.075Z"
   },
   {
    "duration": 22,
    "start_time": "2022-05-19T11:53:39.095Z"
   },
   {
    "duration": 48,
    "start_time": "2022-05-19T11:53:39.119Z"
   },
   {
    "duration": 159,
    "start_time": "2022-05-19T11:53:39.169Z"
   },
   {
    "duration": 20,
    "start_time": "2022-05-19T11:53:39.331Z"
   },
   {
    "duration": 193,
    "start_time": "2022-05-19T11:53:39.357Z"
   },
   {
    "duration": 30,
    "start_time": "2022-05-19T11:53:39.554Z"
   },
   {
    "duration": 53,
    "start_time": "2022-05-19T11:53:39.587Z"
   },
   {
    "duration": 295,
    "start_time": "2022-05-19T11:53:39.643Z"
   },
   {
    "duration": 0,
    "start_time": "2022-05-19T11:53:39.940Z"
   },
   {
    "duration": 0,
    "start_time": "2022-05-19T11:53:39.942Z"
   },
   {
    "duration": 0,
    "start_time": "2022-05-19T11:53:39.944Z"
   },
   {
    "duration": 0,
    "start_time": "2022-05-19T11:53:39.945Z"
   },
   {
    "duration": 12,
    "start_time": "2022-05-19T11:54:03.622Z"
   },
   {
    "duration": 6,
    "start_time": "2022-05-19T11:54:04.514Z"
   },
   {
    "duration": 4,
    "start_time": "2022-05-19T11:54:05.662Z"
   },
   {
    "duration": 15,
    "start_time": "2022-05-19T11:55:22.636Z"
   },
   {
    "duration": 13,
    "start_time": "2022-05-19T11:55:31.857Z"
   },
   {
    "duration": 10,
    "start_time": "2022-05-19T11:59:41.119Z"
   },
   {
    "duration": 8,
    "start_time": "2022-05-19T11:59:41.652Z"
   },
   {
    "duration": 5,
    "start_time": "2022-05-19T11:59:42.164Z"
   },
   {
    "duration": 14,
    "start_time": "2022-05-19T11:59:43.877Z"
   },
   {
    "duration": 7,
    "start_time": "2022-05-19T12:01:25.459Z"
   },
   {
    "duration": 12,
    "start_time": "2022-05-19T12:01:32.876Z"
   },
   {
    "duration": 8,
    "start_time": "2022-05-19T12:02:21.545Z"
   },
   {
    "duration": 17,
    "start_time": "2022-05-19T12:08:34.808Z"
   },
   {
    "duration": 8,
    "start_time": "2022-05-19T12:08:36.460Z"
   },
   {
    "duration": 5,
    "start_time": "2022-05-19T12:08:36.936Z"
   },
   {
    "duration": 1454,
    "start_time": "2022-05-19T12:11:47.146Z"
   },
   {
    "duration": 19,
    "start_time": "2022-05-19T12:11:48.603Z"
   },
   {
    "duration": 18,
    "start_time": "2022-05-19T12:11:48.625Z"
   },
   {
    "duration": 38,
    "start_time": "2022-05-19T12:11:48.646Z"
   },
   {
    "duration": 16,
    "start_time": "2022-05-19T12:11:48.686Z"
   },
   {
    "duration": 8,
    "start_time": "2022-05-19T12:11:48.728Z"
   },
   {
    "duration": 15,
    "start_time": "2022-05-19T12:11:48.740Z"
   },
   {
    "duration": 14,
    "start_time": "2022-05-19T12:11:48.758Z"
   },
   {
    "duration": 520,
    "start_time": "2022-05-19T12:11:48.773Z"
   },
   {
    "duration": 177,
    "start_time": "2022-05-19T12:11:49.298Z"
   },
   {
    "duration": 6,
    "start_time": "2022-05-19T12:11:49.477Z"
   },
   {
    "duration": 15,
    "start_time": "2022-05-19T12:11:49.485Z"
   },
   {
    "duration": 25,
    "start_time": "2022-05-19T12:11:49.502Z"
   },
   {
    "duration": 11,
    "start_time": "2022-05-19T12:11:49.529Z"
   },
   {
    "duration": 24,
    "start_time": "2022-05-19T12:11:49.542Z"
   },
   {
    "duration": 63,
    "start_time": "2022-05-19T12:11:49.569Z"
   },
   {
    "duration": 101,
    "start_time": "2022-05-19T12:11:49.635Z"
   },
   {
    "duration": 12,
    "start_time": "2022-05-19T12:11:49.739Z"
   },
   {
    "duration": 6,
    "start_time": "2022-05-19T12:11:49.753Z"
   },
   {
    "duration": 7,
    "start_time": "2022-05-19T12:11:49.761Z"
   },
   {
    "duration": 13,
    "start_time": "2022-05-19T12:11:49.770Z"
   },
   {
    "duration": 49,
    "start_time": "2022-05-19T12:11:49.785Z"
   },
   {
    "duration": 93,
    "start_time": "2022-05-19T12:11:49.839Z"
   },
   {
    "duration": 105,
    "start_time": "2022-05-19T12:11:49.943Z"
   },
   {
    "duration": 90,
    "start_time": "2022-05-19T12:11:50.056Z"
   },
   {
    "duration": 8,
    "start_time": "2022-05-19T12:11:50.148Z"
   },
   {
    "duration": 21,
    "start_time": "2022-05-19T12:11:50.158Z"
   },
   {
    "duration": 8,
    "start_time": "2022-05-19T12:11:50.183Z"
   },
   {
    "duration": 7,
    "start_time": "2022-05-19T12:13:11.167Z"
   },
   {
    "duration": 4,
    "start_time": "2022-05-19T12:13:12.628Z"
   },
   {
    "duration": 10,
    "start_time": "2022-05-19T12:13:27.457Z"
   },
   {
    "duration": 7,
    "start_time": "2022-05-19T12:14:24.829Z"
   },
   {
    "duration": 3,
    "start_time": "2022-05-19T12:14:25.228Z"
   },
   {
    "duration": 4,
    "start_time": "2022-05-19T12:14:25.727Z"
   },
   {
    "duration": 7,
    "start_time": "2022-05-19T12:14:26.674Z"
   },
   {
    "duration": 4,
    "start_time": "2022-05-19T12:14:32.204Z"
   },
   {
    "duration": 15,
    "start_time": "2022-05-19T12:16:46.490Z"
   },
   {
    "duration": 1385,
    "start_time": "2022-05-19T12:23:46.235Z"
   },
   {
    "duration": 20,
    "start_time": "2022-05-19T12:23:47.623Z"
   },
   {
    "duration": 19,
    "start_time": "2022-05-19T12:23:47.645Z"
   },
   {
    "duration": 31,
    "start_time": "2022-05-19T12:23:47.667Z"
   },
   {
    "duration": 33,
    "start_time": "2022-05-19T12:23:47.700Z"
   },
   {
    "duration": 8,
    "start_time": "2022-05-19T12:23:47.735Z"
   },
   {
    "duration": 14,
    "start_time": "2022-05-19T12:23:47.745Z"
   },
   {
    "duration": 6,
    "start_time": "2022-05-19T12:23:47.762Z"
   },
   {
    "duration": 445,
    "start_time": "2022-05-19T12:23:47.770Z"
   },
   {
    "duration": 168,
    "start_time": "2022-05-19T12:23:48.227Z"
   },
   {
    "duration": 5,
    "start_time": "2022-05-19T12:23:48.398Z"
   },
   {
    "duration": 10,
    "start_time": "2022-05-19T12:23:48.405Z"
   },
   {
    "duration": 11,
    "start_time": "2022-05-19T12:23:48.427Z"
   },
   {
    "duration": 11,
    "start_time": "2022-05-19T12:23:48.440Z"
   },
   {
    "duration": 14,
    "start_time": "2022-05-19T12:23:48.453Z"
   },
   {
    "duration": 66,
    "start_time": "2022-05-19T12:23:48.468Z"
   },
   {
    "duration": 106,
    "start_time": "2022-05-19T12:23:48.536Z"
   },
   {
    "duration": 17,
    "start_time": "2022-05-19T12:23:48.644Z"
   },
   {
    "duration": 19,
    "start_time": "2022-05-19T12:23:48.663Z"
   },
   {
    "duration": 11,
    "start_time": "2022-05-19T12:23:48.685Z"
   },
   {
    "duration": 8,
    "start_time": "2022-05-19T12:23:48.698Z"
   },
   {
    "duration": 21,
    "start_time": "2022-05-19T12:23:48.708Z"
   },
   {
    "duration": 101,
    "start_time": "2022-05-19T12:23:48.731Z"
   },
   {
    "duration": 115,
    "start_time": "2022-05-19T12:23:48.834Z"
   },
   {
    "duration": 96,
    "start_time": "2022-05-19T12:23:48.951Z"
   },
   {
    "duration": 9,
    "start_time": "2022-05-19T12:23:49.050Z"
   },
   {
    "duration": 7,
    "start_time": "2022-05-19T12:23:49.061Z"
   },
   {
    "duration": 4,
    "start_time": "2022-05-19T12:23:49.072Z"
   },
   {
    "duration": 1394,
    "start_time": "2022-05-19T12:24:49.099Z"
   },
   {
    "duration": 19,
    "start_time": "2022-05-19T12:24:50.496Z"
   },
   {
    "duration": 23,
    "start_time": "2022-05-19T12:24:50.517Z"
   },
   {
    "duration": 37,
    "start_time": "2022-05-19T12:24:50.551Z"
   },
   {
    "duration": 18,
    "start_time": "2022-05-19T12:24:50.591Z"
   },
   {
    "duration": 27,
    "start_time": "2022-05-19T12:24:50.611Z"
   },
   {
    "duration": 11,
    "start_time": "2022-05-19T12:24:50.640Z"
   },
   {
    "duration": 13,
    "start_time": "2022-05-19T12:24:50.653Z"
   },
   {
    "duration": 447,
    "start_time": "2022-05-19T12:24:50.668Z"
   },
   {
    "duration": 193,
    "start_time": "2022-05-19T12:24:51.119Z"
   },
   {
    "duration": 4,
    "start_time": "2022-05-19T12:24:51.314Z"
   },
   {
    "duration": 26,
    "start_time": "2022-05-19T12:24:51.327Z"
   },
   {
    "duration": 29,
    "start_time": "2022-05-19T12:24:51.355Z"
   },
   {
    "duration": 27,
    "start_time": "2022-05-19T12:24:51.386Z"
   },
   {
    "duration": 36,
    "start_time": "2022-05-19T12:24:51.415Z"
   },
   {
    "duration": 198,
    "start_time": "2022-05-19T12:24:51.453Z"
   },
   {
    "duration": 19,
    "start_time": "2022-05-19T12:24:51.653Z"
   },
   {
    "duration": 28,
    "start_time": "2022-05-19T12:24:51.674Z"
   },
   {
    "duration": 17,
    "start_time": "2022-05-19T12:24:51.704Z"
   },
   {
    "duration": 27,
    "start_time": "2022-05-19T12:24:51.723Z"
   },
   {
    "duration": 25,
    "start_time": "2022-05-19T12:24:51.752Z"
   },
   {
    "duration": 62,
    "start_time": "2022-05-19T12:24:51.779Z"
   },
   {
    "duration": 89,
    "start_time": "2022-05-19T12:24:51.844Z"
   },
   {
    "duration": 195,
    "start_time": "2022-05-19T12:24:51.936Z"
   },
   {
    "duration": 55,
    "start_time": "2022-05-19T12:24:52.134Z"
   },
   {
    "duration": 31,
    "start_time": "2022-05-19T12:24:52.191Z"
   },
   {
    "duration": 45,
    "start_time": "2022-05-19T12:24:52.224Z"
   },
   {
    "duration": 24,
    "start_time": "2022-05-19T12:24:52.272Z"
   },
   {
    "duration": 1476,
    "start_time": "2022-05-19T12:27:12.032Z"
   },
   {
    "duration": 17,
    "start_time": "2022-05-19T12:27:13.509Z"
   },
   {
    "duration": 14,
    "start_time": "2022-05-19T12:27:13.528Z"
   },
   {
    "duration": 29,
    "start_time": "2022-05-19T12:27:13.544Z"
   },
   {
    "duration": 12,
    "start_time": "2022-05-19T12:27:13.576Z"
   },
   {
    "duration": 36,
    "start_time": "2022-05-19T12:27:13.591Z"
   },
   {
    "duration": 6,
    "start_time": "2022-05-19T12:27:13.629Z"
   },
   {
    "duration": 4,
    "start_time": "2022-05-19T12:27:13.637Z"
   },
   {
    "duration": 400,
    "start_time": "2022-05-19T12:27:13.643Z"
   },
   {
    "duration": 182,
    "start_time": "2022-05-19T12:27:14.045Z"
   },
   {
    "duration": 8,
    "start_time": "2022-05-19T12:27:14.229Z"
   },
   {
    "duration": 9,
    "start_time": "2022-05-19T12:27:14.241Z"
   },
   {
    "duration": 16,
    "start_time": "2022-05-19T12:27:14.251Z"
   },
   {
    "duration": 9,
    "start_time": "2022-05-19T12:27:14.271Z"
   },
   {
    "duration": 46,
    "start_time": "2022-05-19T12:27:14.282Z"
   },
   {
    "duration": 101,
    "start_time": "2022-05-19T12:27:14.330Z"
   },
   {
    "duration": 11,
    "start_time": "2022-05-19T12:27:14.433Z"
   },
   {
    "duration": 26,
    "start_time": "2022-05-19T12:27:14.446Z"
   },
   {
    "duration": 14,
    "start_time": "2022-05-19T12:27:14.473Z"
   },
   {
    "duration": 12,
    "start_time": "2022-05-19T12:27:14.490Z"
   },
   {
    "duration": 19,
    "start_time": "2022-05-19T12:27:14.504Z"
   },
   {
    "duration": 23,
    "start_time": "2022-05-19T12:27:14.527Z"
   },
   {
    "duration": 82,
    "start_time": "2022-05-19T12:27:14.552Z"
   },
   {
    "duration": 107,
    "start_time": "2022-05-19T12:27:14.637Z"
   },
   {
    "duration": 25,
    "start_time": "2022-05-19T12:27:14.827Z"
   },
   {
    "duration": 8,
    "start_time": "2022-05-19T12:27:14.854Z"
   },
   {
    "duration": 20,
    "start_time": "2022-05-19T12:27:14.863Z"
   },
   {
    "duration": 19,
    "start_time": "2022-05-19T12:27:14.884Z"
   },
   {
    "duration": 1346,
    "start_time": "2022-05-19T12:29:16.846Z"
   },
   {
    "duration": 18,
    "start_time": "2022-05-19T12:29:18.194Z"
   },
   {
    "duration": 18,
    "start_time": "2022-05-19T12:29:18.213Z"
   },
   {
    "duration": 48,
    "start_time": "2022-05-19T12:29:18.234Z"
   },
   {
    "duration": 19,
    "start_time": "2022-05-19T12:29:18.284Z"
   },
   {
    "duration": 45,
    "start_time": "2022-05-19T12:29:18.305Z"
   },
   {
    "duration": 37,
    "start_time": "2022-05-19T12:29:18.351Z"
   },
   {
    "duration": 27,
    "start_time": "2022-05-19T12:29:18.390Z"
   },
   {
    "duration": 457,
    "start_time": "2022-05-19T12:29:18.419Z"
   },
   {
    "duration": 195,
    "start_time": "2022-05-19T12:29:18.879Z"
   },
   {
    "duration": 5,
    "start_time": "2022-05-19T12:29:19.075Z"
   },
   {
    "duration": 28,
    "start_time": "2022-05-19T12:29:19.081Z"
   },
   {
    "duration": 45,
    "start_time": "2022-05-19T12:29:19.110Z"
   },
   {
    "duration": 30,
    "start_time": "2022-05-19T12:29:19.157Z"
   },
   {
    "duration": 39,
    "start_time": "2022-05-19T12:29:19.189Z"
   },
   {
    "duration": 98,
    "start_time": "2022-05-19T12:29:19.231Z"
   },
   {
    "duration": 7,
    "start_time": "2022-05-19T12:29:19.331Z"
   },
   {
    "duration": 90,
    "start_time": "2022-05-19T12:29:19.340Z"
   },
   {
    "duration": 30,
    "start_time": "2022-05-19T12:29:19.433Z"
   },
   {
    "duration": 17,
    "start_time": "2022-05-19T12:29:19.465Z"
   },
   {
    "duration": 25,
    "start_time": "2022-05-19T12:29:19.484Z"
   },
   {
    "duration": 30,
    "start_time": "2022-05-19T12:29:19.511Z"
   },
   {
    "duration": 98,
    "start_time": "2022-05-19T12:29:19.543Z"
   },
   {
    "duration": 184,
    "start_time": "2022-05-19T12:29:19.644Z"
   },
   {
    "duration": 22,
    "start_time": "2022-05-19T12:29:19.831Z"
   },
   {
    "duration": 33,
    "start_time": "2022-05-19T12:29:19.855Z"
   },
   {
    "duration": 16,
    "start_time": "2022-05-19T12:29:19.890Z"
   },
   {
    "duration": 20,
    "start_time": "2022-05-19T12:29:19.910Z"
   },
   {
    "duration": 1519,
    "start_time": "2022-06-15T18:20:37.346Z"
   },
   {
    "duration": 87,
    "start_time": "2022-06-15T18:20:38.867Z"
   },
   {
    "duration": 15,
    "start_time": "2022-06-15T18:20:38.956Z"
   },
   {
    "duration": 24,
    "start_time": "2022-06-15T18:20:38.973Z"
   },
   {
    "duration": 11,
    "start_time": "2022-06-15T18:20:39.000Z"
   },
   {
    "duration": 6,
    "start_time": "2022-06-15T18:20:39.013Z"
   },
   {
    "duration": 10,
    "start_time": "2022-06-15T18:20:39.020Z"
   },
   {
    "duration": 20,
    "start_time": "2022-06-15T18:20:39.033Z"
   },
   {
    "duration": 412,
    "start_time": "2022-06-15T18:20:39.054Z"
   },
   {
    "duration": 144,
    "start_time": "2022-06-15T18:20:39.468Z"
   },
   {
    "duration": 5,
    "start_time": "2022-06-15T18:20:39.614Z"
   },
   {
    "duration": 30,
    "start_time": "2022-06-15T18:20:39.628Z"
   },
   {
    "duration": 15,
    "start_time": "2022-06-15T18:20:39.659Z"
   },
   {
    "duration": 56,
    "start_time": "2022-06-15T18:20:39.677Z"
   },
   {
    "duration": 117,
    "start_time": "2022-06-15T18:20:39.740Z"
   },
   {
    "duration": 72,
    "start_time": "2022-06-15T18:20:39.859Z"
   },
   {
    "duration": 7,
    "start_time": "2022-06-15T18:20:39.933Z"
   },
   {
    "duration": 91,
    "start_time": "2022-06-15T18:20:39.942Z"
   },
   {
    "duration": 28,
    "start_time": "2022-06-15T18:20:40.035Z"
   },
   {
    "duration": 14,
    "start_time": "2022-06-15T18:20:40.065Z"
   },
   {
    "duration": 15,
    "start_time": "2022-06-15T18:20:40.081Z"
   },
   {
    "duration": 30,
    "start_time": "2022-06-15T18:20:40.099Z"
   },
   {
    "duration": 103,
    "start_time": "2022-06-15T18:20:40.131Z"
   },
   {
    "duration": 122,
    "start_time": "2022-06-15T18:20:40.236Z"
   },
   {
    "duration": 90,
    "start_time": "2022-06-15T18:20:40.359Z"
   },
   {
    "duration": 9,
    "start_time": "2022-06-15T18:20:40.451Z"
   },
   {
    "duration": 7,
    "start_time": "2022-06-15T18:20:40.462Z"
   },
   {
    "duration": 14,
    "start_time": "2022-06-15T18:20:40.471Z"
   }
  ],
  "kernelspec": {
   "display_name": "Python 3 (ipykernel)",
   "language": "python",
   "name": "python3"
  },
  "language_info": {
   "codemirror_mode": {
    "name": "ipython",
    "version": 3
   },
   "file_extension": ".py",
   "mimetype": "text/x-python",
   "name": "python",
   "nbconvert_exporter": "python",
   "pygments_lexer": "ipython3",
   "version": "3.9.5"
  },
  "toc": {
   "base_numbering": 1,
   "nav_menu": {},
   "number_sections": true,
   "sideBar": true,
   "skip_h1_title": true,
   "title_cell": "Содержание",
   "title_sidebar": "Contents",
   "toc_cell": true,
   "toc_position": {},
   "toc_section_display": true,
   "toc_window_display": true
  }
 },
 "nbformat": 4,
 "nbformat_minor": 2
}
