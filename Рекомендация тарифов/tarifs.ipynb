{
 "cells": [
  {
   "cell_type": "markdown",
   "id": "ddf28531",
   "metadata": {},
   "source": [
    "# Построение системы, способной проанализировать поведение клиентов и предложить пользователям новый тариф: «Смарт» или «Ультра» "
   ]
  },
  {
   "cell_type": "markdown",
   "id": "815f1405",
   "metadata": {},
   "source": [
    "Оператор мобильной связи «Мегалайн» выяснил: многие клиенты пользуются архивными тарифами.В нашем распоряжении данные о поведении клиентов, которые уже перешли на эти тарифы. \n",
    "-  Поcтроим модель для задачи классификации, которая выберет подходящий тариф. \n",
    "-  Построим модель с максимально большим значением accuracy. \n",
    "-  Доведем долю правильных ответов до 0.75. Проверим accuracy на тестовой выборке самостоятельно."
   ]
  },
  {
   "cell_type": "markdown",
   "id": "40abb802",
   "metadata": {},
   "source": [
    "## Изучение данных из файла"
   ]
  },
  {
   "cell_type": "markdown",
   "id": "be193e15",
   "metadata": {},
   "source": [
    "Откроем файл с данными и изучим общую информацию.\n",
    "\n",
    "Путь к файлу:\n",
    "\n",
    "-  datasets/users_behavior.csv\n",
    "\n",
    "Описание данных:\n",
    "\n",
    "Каждый объект в наборе данных — это информация о поведении одного пользователя за месяц. \n",
    "\n",
    "Известно:\n",
    "\n",
    "- **сalls** — количество звонков,\n",
    "- **minutes** — суммарная длительность звонков в минутах,\n",
    "- **messages** — количество sms-сообщений,\n",
    "- **mb_used** — израсходованный интернет-трафик в Мб,\n",
    "- **is_ultra** — каким тарифом пользовался в течение месяца («Ультра» — 1, «Смарт» — 0).\n",
    "\n",
    "\n",
    "Таким образом, исследование пройдёт в **пять этапов**:\n",
    "\n",
    "- Изучим данные и разделим исходные данные на обучающую, валидационную и тестовую выборки.\n",
    "- Исследуем качество разных моделей, меняя гиперпараметры. Кратко напишите выводы исследования.\n",
    "- Проверим качество модели на тестовой выборке.\n",
    "- Попробуем проверить модели на вменяемость.\n",
    "- Общий вывод."
   ]
  },
  {
   "cell_type": "markdown",
   "id": "3b60b5fa",
   "metadata": {},
   "source": [
    "Исследование:"
   ]
  },
  {
   "cell_type": "code",
   "execution_count": 1,
   "id": "6d87bd8f",
   "metadata": {},
   "outputs": [],
   "source": [
    "# импорт библиотек\n",
    "\n",
    "import pandas as pd \n",
    "from sklearn.model_selection import train_test_split\n",
    "from sklearn.tree import DecisionTreeClassifier\n",
    "from sklearn.ensemble import RandomForestClassifier\n",
    "from sklearn.linear_model import LogisticRegression\n",
    "\n",
    "\n",
    "# импорт функции расчёта accuracy из библиотеки sklearn \n",
    "\n",
    "from sklearn.metrics import accuracy_score\n",
    "\n",
    "from sklearn.dummy import DummyClassifier\n",
    "from sklearn.svm import SVC"
   ]
  },
  {
   "cell_type": "code",
   "execution_count": 2,
   "id": "4fdb4b5c",
   "metadata": {},
   "outputs": [],
   "source": [
    "# чтение файла с данными и сохранение  \n",
    "df = pd.read_csv('/datasets/users_behavior.csv') "
   ]
  },
  {
   "cell_type": "code",
   "execution_count": 3,
   "id": "b75fb3ae",
   "metadata": {},
   "outputs": [
    {
     "data": {
      "text/html": [
       "<div>\n",
       "<style scoped>\n",
       "    .dataframe tbody tr th:only-of-type {\n",
       "        vertical-align: middle;\n",
       "    }\n",
       "\n",
       "    .dataframe tbody tr th {\n",
       "        vertical-align: top;\n",
       "    }\n",
       "\n",
       "    .dataframe thead th {\n",
       "        text-align: right;\n",
       "    }\n",
       "</style>\n",
       "<table border=\"1\" class=\"dataframe\">\n",
       "  <thead>\n",
       "    <tr style=\"text-align: right;\">\n",
       "      <th></th>\n",
       "      <th>calls</th>\n",
       "      <th>minutes</th>\n",
       "      <th>messages</th>\n",
       "      <th>mb_used</th>\n",
       "      <th>is_ultra</th>\n",
       "    </tr>\n",
       "  </thead>\n",
       "  <tbody>\n",
       "    <tr>\n",
       "      <th>0</th>\n",
       "      <td>40.0</td>\n",
       "      <td>311.90</td>\n",
       "      <td>83.0</td>\n",
       "      <td>19915.42</td>\n",
       "      <td>0</td>\n",
       "    </tr>\n",
       "    <tr>\n",
       "      <th>1</th>\n",
       "      <td>85.0</td>\n",
       "      <td>516.75</td>\n",
       "      <td>56.0</td>\n",
       "      <td>22696.96</td>\n",
       "      <td>0</td>\n",
       "    </tr>\n",
       "    <tr>\n",
       "      <th>2</th>\n",
       "      <td>77.0</td>\n",
       "      <td>467.66</td>\n",
       "      <td>86.0</td>\n",
       "      <td>21060.45</td>\n",
       "      <td>0</td>\n",
       "    </tr>\n",
       "    <tr>\n",
       "      <th>3</th>\n",
       "      <td>106.0</td>\n",
       "      <td>745.53</td>\n",
       "      <td>81.0</td>\n",
       "      <td>8437.39</td>\n",
       "      <td>1</td>\n",
       "    </tr>\n",
       "    <tr>\n",
       "      <th>4</th>\n",
       "      <td>66.0</td>\n",
       "      <td>418.74</td>\n",
       "      <td>1.0</td>\n",
       "      <td>14502.75</td>\n",
       "      <td>0</td>\n",
       "    </tr>\n",
       "  </tbody>\n",
       "</table>\n",
       "</div>"
      ],
      "text/plain": [
       "   calls  minutes  messages   mb_used  is_ultra\n",
       "0   40.0   311.90      83.0  19915.42         0\n",
       "1   85.0   516.75      56.0  22696.96         0\n",
       "2   77.0   467.66      86.0  21060.45         0\n",
       "3  106.0   745.53      81.0   8437.39         1\n",
       "4   66.0   418.74       1.0  14502.75         0"
      ]
     },
     "execution_count": 3,
     "metadata": {},
     "output_type": "execute_result"
    }
   ],
   "source": [
    "df.head()"
   ]
  },
  {
   "cell_type": "code",
   "execution_count": 4,
   "id": "dffdbbcc",
   "metadata": {},
   "outputs": [
    {
     "data": {
      "text/html": [
       "<div>\n",
       "<style scoped>\n",
       "    .dataframe tbody tr th:only-of-type {\n",
       "        vertical-align: middle;\n",
       "    }\n",
       "\n",
       "    .dataframe tbody tr th {\n",
       "        vertical-align: top;\n",
       "    }\n",
       "\n",
       "    .dataframe thead th {\n",
       "        text-align: right;\n",
       "    }\n",
       "</style>\n",
       "<table border=\"1\" class=\"dataframe\">\n",
       "  <thead>\n",
       "    <tr style=\"text-align: right;\">\n",
       "      <th></th>\n",
       "      <th>calls</th>\n",
       "      <th>minutes</th>\n",
       "      <th>messages</th>\n",
       "      <th>mb_used</th>\n",
       "      <th>is_ultra</th>\n",
       "    </tr>\n",
       "  </thead>\n",
       "  <tbody>\n",
       "    <tr>\n",
       "      <th>count</th>\n",
       "      <td>3214.000000</td>\n",
       "      <td>3214.000000</td>\n",
       "      <td>3214.000000</td>\n",
       "      <td>3214.000000</td>\n",
       "      <td>3214.000000</td>\n",
       "    </tr>\n",
       "    <tr>\n",
       "      <th>mean</th>\n",
       "      <td>63.038892</td>\n",
       "      <td>438.208787</td>\n",
       "      <td>38.281269</td>\n",
       "      <td>17207.673836</td>\n",
       "      <td>0.306472</td>\n",
       "    </tr>\n",
       "    <tr>\n",
       "      <th>std</th>\n",
       "      <td>33.236368</td>\n",
       "      <td>234.569872</td>\n",
       "      <td>36.148326</td>\n",
       "      <td>7570.968246</td>\n",
       "      <td>0.461100</td>\n",
       "    </tr>\n",
       "    <tr>\n",
       "      <th>min</th>\n",
       "      <td>0.000000</td>\n",
       "      <td>0.000000</td>\n",
       "      <td>0.000000</td>\n",
       "      <td>0.000000</td>\n",
       "      <td>0.000000</td>\n",
       "    </tr>\n",
       "    <tr>\n",
       "      <th>25%</th>\n",
       "      <td>40.000000</td>\n",
       "      <td>274.575000</td>\n",
       "      <td>9.000000</td>\n",
       "      <td>12491.902500</td>\n",
       "      <td>0.000000</td>\n",
       "    </tr>\n",
       "    <tr>\n",
       "      <th>50%</th>\n",
       "      <td>62.000000</td>\n",
       "      <td>430.600000</td>\n",
       "      <td>30.000000</td>\n",
       "      <td>16943.235000</td>\n",
       "      <td>0.000000</td>\n",
       "    </tr>\n",
       "    <tr>\n",
       "      <th>75%</th>\n",
       "      <td>82.000000</td>\n",
       "      <td>571.927500</td>\n",
       "      <td>57.000000</td>\n",
       "      <td>21424.700000</td>\n",
       "      <td>1.000000</td>\n",
       "    </tr>\n",
       "    <tr>\n",
       "      <th>max</th>\n",
       "      <td>244.000000</td>\n",
       "      <td>1632.060000</td>\n",
       "      <td>224.000000</td>\n",
       "      <td>49745.730000</td>\n",
       "      <td>1.000000</td>\n",
       "    </tr>\n",
       "  </tbody>\n",
       "</table>\n",
       "</div>"
      ],
      "text/plain": [
       "             calls      minutes     messages       mb_used     is_ultra\n",
       "count  3214.000000  3214.000000  3214.000000   3214.000000  3214.000000\n",
       "mean     63.038892   438.208787    38.281269  17207.673836     0.306472\n",
       "std      33.236368   234.569872    36.148326   7570.968246     0.461100\n",
       "min       0.000000     0.000000     0.000000      0.000000     0.000000\n",
       "25%      40.000000   274.575000     9.000000  12491.902500     0.000000\n",
       "50%      62.000000   430.600000    30.000000  16943.235000     0.000000\n",
       "75%      82.000000   571.927500    57.000000  21424.700000     1.000000\n",
       "max     244.000000  1632.060000   224.000000  49745.730000     1.000000"
      ]
     },
     "execution_count": 4,
     "metadata": {},
     "output_type": "execute_result"
    }
   ],
   "source": [
    "df.describe()"
   ]
  },
  {
   "cell_type": "code",
   "execution_count": 5,
   "id": "d0079dcc",
   "metadata": {},
   "outputs": [
    {
     "name": "stdout",
     "output_type": "stream",
     "text": [
      "<class 'pandas.core.frame.DataFrame'>\n",
      "RangeIndex: 3214 entries, 0 to 3213\n",
      "Data columns (total 5 columns):\n",
      " #   Column    Non-Null Count  Dtype  \n",
      "---  ------    --------------  -----  \n",
      " 0   calls     3214 non-null   float64\n",
      " 1   minutes   3214 non-null   float64\n",
      " 2   messages  3214 non-null   float64\n",
      " 3   mb_used   3214 non-null   float64\n",
      " 4   is_ultra  3214 non-null   int64  \n",
      "dtypes: float64(4), int64(1)\n",
      "memory usage: 125.7 KB\n"
     ]
    }
   ],
   "source": [
    "df.info()"
   ]
  },
  {
   "cell_type": "markdown",
   "id": "7b05eb02",
   "metadata": {},
   "source": [
    "**Вывод**\n",
    "\n",
    "- Датасет состоит из 3214 объектов и 5 признаков, 4 столбца float64, 1 столбец int64.\n",
    "- Признак, который нужно предсказать, — целевой: в нашей задаче это is_ultra, модель в нашем проекте будет предсказывать тариф «Ультра» — 1, тариф «Смарт» — 0. Наш целевой признак является категориальным."
   ]
  },
  {
   "cell_type": "markdown",
   "id": "d81d6e2e",
   "metadata": {},
   "source": [
    "## Разделим исходные данные на обучающую, валидационную и тестовую выборки"
   ]
  },
  {
   "cell_type": "markdown",
   "id": "9e2fa3db",
   "metadata": {},
   "source": [
    "Разделите данные на обучающую и валидационную выборки:\n",
    "- Функция train_test_split() возвращает два новых набора данных — обучающий и валидационный"
   ]
  },
  {
   "cell_type": "code",
   "execution_count": 6,
   "id": "dd8aee51",
   "metadata": {},
   "outputs": [],
   "source": [
    "df_train, df_valid = train_test_split(df, test_size=0.4, random_state=12345) "
   ]
  },
  {
   "cell_type": "markdown",
   "id": "43a736e5",
   "metadata": {},
   "source": [
    "0.2 разделим на валидационную, 0.2 – на тестовую:\n",
    "- Функция train_test_split() возвращает два новых набора данных — валидационный и тестовый"
   ]
  },
  {
   "cell_type": "code",
   "execution_count": 7,
   "id": "8bf416d5",
   "metadata": {},
   "outputs": [],
   "source": [
    "df_valid, df_test = train_test_split(df_valid, test_size=0.5, random_state=12345)"
   ]
  },
  {
   "cell_type": "markdown",
   "id": "8fb8ff6f",
   "metadata": {},
   "source": [
    "**Вывод:**\n",
    "\n",
    "- Обучающая модель  df_train - 60 %\n",
    "- Валидационная модель df_valid - 20 %\n",
    "- Тетовая модель df_test - 20 %"
   ]
  },
  {
   "cell_type": "markdown",
   "id": "61bb09af",
   "metadata": {},
   "source": [
    "# Исследуем качество разных моделей, меняя гиперпараметры"
   ]
  },
  {
   "cell_type": "markdown",
   "id": "b27652cb",
   "metadata": {},
   "source": [
    "Объявим две переменные:\n",
    "- features (англ. «признаки») — запишем в неё признаки;\n",
    "- target (англ. «цель») — целевой признак."
   ]
  },
  {
   "cell_type": "code",
   "execution_count": 8,
   "id": "3303ed18",
   "metadata": {},
   "outputs": [],
   "source": [
    "# создадим переменные для признаков и целевого признака и запишем в них код\n",
    "features_train = df_train.drop(['is_ultra'], axis=1)\n",
    "target_train = df_train['is_ultra']\n",
    "features_valid = df_valid.drop(['is_ultra'], axis=1)\n",
    "target_valid = df_valid['is_ultra']"
   ]
  },
  {
   "cell_type": "markdown",
   "id": "fa35721b",
   "metadata": {},
   "source": [
    "## Решающее дерево"
   ]
  },
  {
   "cell_type": "markdown",
   "id": "466c4267",
   "metadata": {},
   "source": [
    "Рассмотрим одну популярную модель — **решающее дерево**. Оно может описывать процесс принятия решения почти в любой ситуации."
   ]
  },
  {
   "cell_type": "code",
   "execution_count": 9,
   "id": "f1f28764",
   "metadata": {
    "scrolled": true
   },
   "outputs": [
    {
     "name": "stdout",
     "output_type": "stream",
     "text": [
      "Максимальная глубина деревьев =  1 : Accuracy наилучшей модели на валидационной выборке =  0.7542768273716952\n",
      "Максимальная глубина деревьев =  2 : Accuracy наилучшей модели на валидационной выборке =  0.7822706065318819\n",
      "Максимальная глубина деревьев =  3 : Accuracy наилучшей модели на валидационной выборке =  0.7853810264385692\n",
      "Максимальная глубина деревьев =  4 : Accuracy наилучшей модели на валидационной выборке =  0.7791601866251944\n",
      "Максимальная глубина деревьев =  5 : Accuracy наилучшей модели на валидационной выборке =  0.7791601866251944\n",
      "Максимальная глубина деревьев =  6 : Accuracy наилучшей модели на валидационной выборке =  0.7838258164852255\n",
      "Максимальная глубина деревьев =  7 : Accuracy наилучшей модели на валидационной выборке =  0.7822706065318819\n",
      "Максимальная глубина деревьев =  8 : Accuracy наилучшей модели на валидационной выборке =  0.7791601866251944\n",
      "Максимальная глубина деревьев =  9 : Accuracy наилучшей модели на валидационной выборке =  0.7822706065318819\n"
     ]
    }
   ],
   "source": [
    "\n",
    "for depth in range(1, 10):\n",
    "    # обучим модель с заданной глубиной дерева\n",
    "    model = DecisionTreeClassifier(random_state=12345, max_depth=depth)\n",
    "\n",
    "    # обучим модель\n",
    "    model.fit(features_train, target_train)\n",
    "    \n",
    "    # найдем предсказания на валидационной выборке \n",
    "    predictions_valid = model.predict(features_valid)\n",
    "    \n",
    "\n",
    "\n",
    "    print(\"Максимальная глубина деревьев = \", depth, \": \", end='')\n",
    "    print(\"Accuracy наилучшей модели на валидационной выборке = \",accuracy_score(target_valid, predictions_valid))   "
   ]
  },
  {
   "cell_type": "markdown",
   "id": "b7cf5f78",
   "metadata": {},
   "source": [
    "**Вывод:**\n",
    "\n",
    "Судя по валидационной выборке, решающее дерево имеет самую высокую оценку правильности 0.7853810264385692, когда задан гиперпараметр глубины равный 3."
   ]
  },
  {
   "cell_type": "markdown",
   "id": "5377fab5",
   "metadata": {},
   "source": [
    "## Случайный лес"
   ]
  },
  {
   "cell_type": "markdown",
   "id": "f6fc7b8c",
   "metadata": {},
   "source": [
    "Попробуем алгоритм классификации — **случайный лес** (англ. random forest). Алгоритм обучает большое количество независимых друг от друга деревьев, а потом принимает решение на основе голосования. Случайный лес помогает улучшить результат предсказания и избежать переобучения."
   ]
  },
  {
   "cell_type": "code",
   "execution_count": 10,
   "id": "c2f160a6",
   "metadata": {},
   "outputs": [
    {
     "name": "stdout",
     "output_type": "stream",
     "text": [
      "Число деревьев =  1 : Accuracy наилучшей модели на валидационной выборке = 0.7107309486780715\n",
      "Число деревьев =  2 : Accuracy наилучшей модели на валидационной выборке = 0.7636080870917574\n",
      "Число деревьев =  4 : Accuracy наилучшей модели на валидационной выборке = 0.7713841368584758\n",
      "Число деревьев =  6 : Accuracy наилучшей модели на валидационной выборке = 0.7807153965785381\n",
      "Число деревьев =  8 : Accuracy наилучшей модели на валидационной выборке = 0.7822706065318819\n",
      "Число деревьев =  10 : Accuracy наилучшей модели на валидационной выборке = 0.7853810264385692\n",
      "Число деревьев =  12 : Accuracy наилучшей модели на валидационной выборке = 0.7869362363919129\n",
      "Число деревьев =  18 : Accuracy наилучшей модели на валидационной выборке = 0.7931570762052877\n",
      "Число деревьев =  23 : Accuracy наилучшей модели на валидационной выборке = 0.7947122861586314\n"
     ]
    }
   ],
   "source": [
    "best_model = None\n",
    "best_result = 0\n",
    "for est in range(1,101):\n",
    "    model = RandomForestClassifier(random_state=12345, n_estimators=est) # обучим модель с заданным количеством деревьев\n",
    "    model.fit(features_train, target_train) # обучим модель на тренировочной выборке\n",
    "    result = model.score(features_valid, target_valid) # посчитаем качество модели на валидационной выборке\n",
    "    if result > best_result:\n",
    "        best_model = model # сохраним наилучшую модель\n",
    "        best_result = result #  сохраним наилучшее значение метрики accuracy на валидационных данных\n",
    "        print(\"Число деревьев = \", est, \": \", end='')        \n",
    "        print(\"Accuracy наилучшей модели на валидационной выборке =\", best_result)"
   ]
  },
  {
   "cell_type": "markdown",
   "id": "443e81ae",
   "metadata": {},
   "source": [
    "**Вывод:**\n",
    "\n",
    "Модель случайного леса предсказывает тариф точнее, но, как мы видим, не на много – 0.7947122861586314, когда задано количество деревьев 23."
   ]
  },
  {
   "cell_type": "markdown",
   "id": "51a62cd4",
   "metadata": {},
   "source": [
    "## Логистическая регрессия"
   ]
  },
  {
   "cell_type": "markdown",
   "id": "223e554a",
   "metadata": {},
   "source": [
    "Если сделать гиперпараметр n_estimators больше, модель начнёт разрастаться и медленно обучаться. Это плохо. Мало деревьев и результаты не лучше. Тоже плохо. Сколько можно быть зависимым от деревьев? Попробуем ещё один алгоритм — **логистическую регрессию**."
   ]
  },
  {
   "cell_type": "code",
   "execution_count": 11,
   "id": "cfb8bbc8",
   "metadata": {},
   "outputs": [
    {
     "name": "stdout",
     "output_type": "stream",
     "text": [
      "0.7131742738589212\n"
     ]
    }
   ],
   "source": [
    "model = LogisticRegression(random_state=12345, solver='lbfgs',max_iter=1000) # инициализируем модель логистической регрессии с параметром random_state=12345\n",
    "model.fit(features_train, target_train) # обучим модель на тренировочной выборке\n",
    "result = model.score(features_train, target_train) # получим метрику качества модели на валидационной выборке\n",
    "print(result)"
   ]
  },
  {
   "cell_type": "markdown",
   "id": "ac6935c8",
   "metadata": {},
   "source": [
    "**Вывод:**\n",
    "\n",
    "Логистическая регрессия дала самый худший результат – 0.7131742738589212."
   ]
  },
  {
   "cell_type": "markdown",
   "id": "877f275f",
   "metadata": {},
   "source": [
    "**Вывод:**\n",
    "    \n",
    "    \n",
    "- Лучше всех показал себя случаный лес -0.7947122861586314 c количеством деревьев 23\n",
    "- На втором месте немного остает решающее дерево - 0.7853810264385692 c решающей глубиной 3\n",
    "- Ото всех отстает логистическая регрессия с результатом – 0.7131742738589212\n"
   ]
  },
  {
   "cell_type": "markdown",
   "id": "2839774f",
   "metadata": {},
   "source": [
    "# Проверим качество модели на тестовой выборке"
   ]
  },
  {
   "cell_type": "markdown",
   "id": "14272441",
   "metadata": {},
   "source": [
    "Одновременно работать с тремя моделями не нужно. У каждой — свои достоинства и недостатки. Оценим модели по качеству (accuracy) и скорости работы.\n",
    "\n",
    "1. Качество (accuracy). Это самый важный критерий для бизнеса: чем выше качество, тем больше прибыли приносит продукт.\n",
    "- Самое высокое качество у случайного леса: вместо одного решающего дерева используется целый ансамбль.\n",
    "- На втором месте - дерево решений. Если глубина меньше трех, оно недообучается, когда больше — переобучается.\n",
    "- Самое низкое качество предсказания у логистической регрессии.Модель несложная, а значит, переобучение ей не грозит.\n",
    "\n",
    "2. Скорость работы. Не менее значимый критерий: если сервис работает медленно, оттока пользователей не избежать.\n",
    "- Высокая скорость работы у логистической регрессии: у неё меньше всего параметров.\n",
    "- Скорость решающего дерева тоже высокая и зависит от глубины. Помним, в экспериментах наилучшее качество модели получилось при глубине, равной 3. Ответ на вопрос модель получила всего-то за три проверки значений признаков — а это очень быстро!\n",
    "- Случайный лес медленнее всех: чем больше деревьев, тем неторопливее работает модель."
   ]
  },
  {
   "cell_type": "markdown",
   "id": "40f823ec",
   "metadata": {},
   "source": [
    "Проверим как поведет себя модель на тестовой выборке"
   ]
  },
  {
   "cell_type": "code",
   "execution_count": 12,
   "id": "3250f3e5",
   "metadata": {},
   "outputs": [
    {
     "name": "stdout",
     "output_type": "stream",
     "text": [
      "Обучающая выборка: 0.8075726141078838\n",
      "Тестовая выборка: 0.7791601866251944\n"
     ]
    }
   ],
   "source": [
    "features_test = df_test.drop(['is_ultra'], axis=1)\n",
    "target_test = df_test['is_ultra']\n",
    "\n",
    "model = DecisionTreeClassifier(random_state=12345,max_depth=3)\n",
    "model.fit(features_train, target_train)\n",
    "\n",
    "predictions_train = model.predict(features_train)\n",
    "predictions_test = model.predict(features_test)\n",
    "\n",
    "\n",
    "accuracy_score(target_test, predictions_test)\n",
    "\n",
    "print(\"Обучающая выборка:\" ,accuracy_score(target_train, predictions_train)) \n",
    "print(\"Тестовая выборка:\" ,accuracy_score(target_test, predictions_test)) "
   ]
  },
  {
   "cell_type": "markdown",
   "id": "f24cafb0",
   "metadata": {},
   "source": [
    "**Вывод:**\n",
    "На тестовой выборке модель повела приближенно к тренировочной выборке,что свидетельствует о том,что нет проблем с недообучением или переобучением   "
   ]
  },
  {
   "cell_type": "code",
   "execution_count": 13,
   "id": "2c9d7985",
   "metadata": {},
   "outputs": [
    {
     "name": "stdout",
     "output_type": "stream",
     "text": [
      "Обучающая выборка: 0.9937759336099585\n",
      "Тестовая выборка: 0.7807153965785381\n"
     ]
    }
   ],
   "source": [
    "features_test = df_test.drop(['is_ultra'], axis=1)\n",
    "target_test = df_test['is_ultra']\n",
    "\n",
    "model = RandomForestClassifier(random_state=12345, n_estimators=23) \n",
    "model.fit(features_train, target_train)\n",
    "\n",
    "predictions_train = model.predict(features_train)\n",
    "predictions_test = model.predict(features_test)\n",
    "\n",
    "\n",
    "accuracy_score(target_test, predictions_test)\n",
    "\n",
    "print(\"Обучающая выборка:\" ,accuracy_score(target_train, predictions_train)) \n",
    "print(\"Тестовая выборка:\" ,accuracy_score(target_test, predictions_test)) "
   ]
  },
  {
   "cell_type": "markdown",
   "id": "8d5dc3fd",
   "metadata": {},
   "source": [
    "**Вывод:**\n",
    "\n",
    "Accuracy на тестовой выборке модели ниже, чем на обучающей.\n",
    "Модель хорошо объяснила примеры из обучающего набора данных, но запуталась в тестовой выборке и не смогла ответить правильно. Мы столкнулись с проблемой переобучения."
   ]
  },
  {
   "cell_type": "markdown",
   "id": "ed45e43e",
   "metadata": {},
   "source": [
    "# Проверим модели на вменяемость"
   ]
  },
  {
   "cell_type": "markdown",
   "id": "88f90a00",
   "metadata": {},
   "source": [
    "**DummyClassifier** делает прогнозы, которые игнорируют входные функции.\n",
    "Этот классификатор служит простой базовой линией для сравнения с другими более сложными классификаторами"
   ]
  },
  {
   "cell_type": "code",
   "execution_count": 14,
   "id": "f48d7144",
   "metadata": {},
   "outputs": [
    {
     "data": {
      "text/plain": [
       "0.6924273858921162"
      ]
     },
     "execution_count": 14,
     "metadata": {},
     "output_type": "execute_result"
    }
   ],
   "source": [
    "dummy_clf = DummyClassifier(strategy='most_frequent', random_state=0)\n",
    "dummy_clf.fit(features_train, target_train)\n",
    "dummy_clf.score(features_train, target_train)"
   ]
  },
  {
   "cell_type": "markdown",
   "id": "759da304",
   "metadata": {},
   "source": [
    "Здесь мы можем использовать DummyClassifier, чтобы всегда предсказать «не мошенничество», просто чтобы показать, насколько может быть обманчива точность."
   ]
  },
  {
   "cell_type": "code",
   "execution_count": 15,
   "id": "91754ccd",
   "metadata": {},
   "outputs": [
    {
     "data": {
      "text/plain": [
       "0.6842923794712286"
      ]
     },
     "execution_count": 15,
     "metadata": {},
     "output_type": "execute_result"
    }
   ],
   "source": [
    "dummy = DummyClassifier(strategy='most_frequent').fit(features_train, target_train)\n",
    "dummy_pred = dummy.predict(features_test)\n",
    "accuracy_score(target_test, dummy_pred)"
   ]
  },
  {
   "cell_type": "markdown",
   "id": "6d7399a2",
   "metadata": {},
   "source": [
    "Мы получили оценку точности 68,4 %"
   ]
  },
  {
   "cell_type": "markdown",
   "id": "a95b21b2",
   "metadata": {},
   "source": [
    "**Вывод:**\n",
    "\n",
    "Таким образом, мы можем считать модель адекватной для использования."
   ]
  },
  {
   "cell_type": "markdown",
   "id": "dd8d4632",
   "metadata": {},
   "source": [
    "# Общий вывод"
   ]
  },
  {
   "cell_type": "markdown",
   "id": "bc399ac6",
   "metadata": {},
   "source": [
    "- 2 из 3 моделей показали значение правильных ответов более 0.75 - это решающее дерево с Accuracy 0.78 и случайный лес с Accuracy 0.79, самый худший показател у логистической регрессии и 0.71. \n",
    "- Лучше всех показал себя алгоритм классификации — **решающее дерево**.\n",
    "- Модель можно считать вменяемой"
   ]
  }
 ],
 "metadata": {
  "ExecuteTimeLog": [
   {
    "duration": 1903,
    "start_time": "2022-03-24T11:16:07.949Z"
   },
   {
    "duration": 285,
    "start_time": "2022-03-24T11:16:09.854Z"
   },
   {
    "duration": 0,
    "start_time": "2022-03-24T11:16:10.141Z"
   },
   {
    "duration": 0,
    "start_time": "2022-03-24T11:16:10.143Z"
   },
   {
    "duration": 0,
    "start_time": "2022-03-24T11:16:10.144Z"
   },
   {
    "duration": 0,
    "start_time": "2022-03-24T11:16:10.145Z"
   },
   {
    "duration": 0,
    "start_time": "2022-03-24T11:16:10.147Z"
   },
   {
    "duration": 0,
    "start_time": "2022-03-24T11:16:10.148Z"
   },
   {
    "duration": 0,
    "start_time": "2022-03-24T11:16:10.149Z"
   },
   {
    "duration": 0,
    "start_time": "2022-03-24T11:16:10.150Z"
   },
   {
    "duration": 0,
    "start_time": "2022-03-24T11:16:10.152Z"
   },
   {
    "duration": 0,
    "start_time": "2022-03-24T11:16:10.153Z"
   },
   {
    "duration": 0,
    "start_time": "2022-03-24T11:16:10.154Z"
   },
   {
    "duration": 0,
    "start_time": "2022-03-24T11:16:10.155Z"
   },
   {
    "duration": 21,
    "start_time": "2022-03-24T11:17:15.190Z"
   },
   {
    "duration": 2042,
    "start_time": "2022-03-24T11:17:21.599Z"
   },
   {
    "duration": 14,
    "start_time": "2022-03-24T11:17:23.643Z"
   },
   {
    "duration": 18,
    "start_time": "2022-03-24T11:17:23.659Z"
   },
   {
    "duration": 79,
    "start_time": "2022-03-24T11:17:23.679Z"
   },
   {
    "duration": 10,
    "start_time": "2022-03-24T11:17:23.760Z"
   },
   {
    "duration": 69,
    "start_time": "2022-03-24T11:17:23.772Z"
   },
   {
    "duration": 10,
    "start_time": "2022-03-24T11:17:23.843Z"
   },
   {
    "duration": 8,
    "start_time": "2022-03-24T11:17:23.855Z"
   },
   {
    "duration": 178,
    "start_time": "2022-03-24T11:17:23.865Z"
   },
   {
    "duration": 43039,
    "start_time": "2022-03-24T11:17:24.045Z"
   },
   {
    "duration": 26,
    "start_time": "2022-03-24T11:18:07.139Z"
   },
   {
    "duration": 184,
    "start_time": "2022-03-24T11:18:07.167Z"
   },
   {
    "duration": 6,
    "start_time": "2022-03-24T11:18:07.353Z"
   },
   {
    "duration": 22,
    "start_time": "2022-03-24T11:18:07.360Z"
   },
   {
    "duration": 15387,
    "start_time": "2022-03-24T11:23:01.534Z"
   },
   {
    "duration": 211415,
    "start_time": "2022-03-24T11:24:05.357Z"
   },
   {
    "duration": 5,
    "start_time": "2022-03-24T11:27:47.542Z"
   },
   {
    "duration": 127,
    "start_time": "2022-03-24T11:28:52.156Z"
   },
   {
    "duration": 69,
    "start_time": "2022-03-24T14:03:18.227Z"
   },
   {
    "duration": 3,
    "start_time": "2022-03-24T14:03:19.882Z"
   },
   {
    "duration": 73,
    "start_time": "2022-03-24T14:03:20.657Z"
   },
   {
    "duration": 66,
    "start_time": "2022-03-24T14:03:24.517Z"
   },
   {
    "duration": 18,
    "start_time": "2022-03-24T14:03:30.460Z"
   },
   {
    "duration": 1317,
    "start_time": "2022-03-24T14:03:36.919Z"
   },
   {
    "duration": 14,
    "start_time": "2022-03-24T14:03:38.237Z"
   },
   {
    "duration": 17,
    "start_time": "2022-03-24T14:03:38.252Z"
   },
   {
    "duration": 23,
    "start_time": "2022-03-24T14:03:38.271Z"
   },
   {
    "duration": 10,
    "start_time": "2022-03-24T14:03:38.295Z"
   },
   {
    "duration": 9,
    "start_time": "2022-03-24T14:03:38.307Z"
   },
   {
    "duration": 5,
    "start_time": "2022-03-24T14:03:38.338Z"
   },
   {
    "duration": 7,
    "start_time": "2022-03-24T14:03:38.345Z"
   },
   {
    "duration": 63,
    "start_time": "2022-03-24T14:03:38.354Z"
   },
   {
    "duration": 18344,
    "start_time": "2022-03-24T14:03:38.419Z"
   },
   {
    "duration": 26,
    "start_time": "2022-03-24T14:03:56.764Z"
   },
   {
    "duration": 14,
    "start_time": "2022-03-24T14:03:56.792Z"
   },
   {
    "duration": 131,
    "start_time": "2022-03-24T14:03:56.808Z"
   },
   {
    "duration": 6,
    "start_time": "2022-03-24T14:03:56.940Z"
   },
   {
    "duration": 6,
    "start_time": "2022-03-24T14:03:56.948Z"
   },
   {
    "duration": 1154,
    "start_time": "2022-03-25T07:00:56.389Z"
   },
   {
    "duration": 162,
    "start_time": "2022-03-25T07:00:57.545Z"
   },
   {
    "duration": 0,
    "start_time": "2022-03-25T07:00:57.709Z"
   },
   {
    "duration": 0,
    "start_time": "2022-03-25T07:00:57.710Z"
   },
   {
    "duration": 0,
    "start_time": "2022-03-25T07:00:57.711Z"
   },
   {
    "duration": 0,
    "start_time": "2022-03-25T07:00:57.713Z"
   },
   {
    "duration": 0,
    "start_time": "2022-03-25T07:00:57.714Z"
   },
   {
    "duration": 0,
    "start_time": "2022-03-25T07:00:57.715Z"
   },
   {
    "duration": 0,
    "start_time": "2022-03-25T07:00:57.716Z"
   },
   {
    "duration": 0,
    "start_time": "2022-03-25T07:00:57.719Z"
   },
   {
    "duration": 0,
    "start_time": "2022-03-25T07:00:57.721Z"
   },
   {
    "duration": 0,
    "start_time": "2022-03-25T07:00:57.722Z"
   },
   {
    "duration": 0,
    "start_time": "2022-03-25T07:00:57.723Z"
   },
   {
    "duration": 0,
    "start_time": "2022-03-25T07:00:57.725Z"
   },
   {
    "duration": 0,
    "start_time": "2022-03-25T07:00:57.726Z"
   },
   {
    "duration": 53,
    "start_time": "2022-03-25T07:01:35.755Z"
   },
   {
    "duration": 67,
    "start_time": "2022-03-25T07:01:45.459Z"
   },
   {
    "duration": 1165,
    "start_time": "2022-03-25T07:05:41.488Z"
   },
   {
    "duration": 139,
    "start_time": "2022-03-25T07:05:42.655Z"
   },
   {
    "duration": 0,
    "start_time": "2022-03-25T07:05:42.796Z"
   },
   {
    "duration": 0,
    "start_time": "2022-03-25T07:05:42.798Z"
   },
   {
    "duration": 0,
    "start_time": "2022-03-25T07:05:42.799Z"
   },
   {
    "duration": 0,
    "start_time": "2022-03-25T07:05:42.808Z"
   },
   {
    "duration": 0,
    "start_time": "2022-03-25T07:05:42.809Z"
   },
   {
    "duration": 0,
    "start_time": "2022-03-25T07:05:42.810Z"
   },
   {
    "duration": 0,
    "start_time": "2022-03-25T07:05:42.813Z"
   },
   {
    "duration": 0,
    "start_time": "2022-03-25T07:05:42.814Z"
   },
   {
    "duration": 0,
    "start_time": "2022-03-25T07:05:42.816Z"
   },
   {
    "duration": 0,
    "start_time": "2022-03-25T07:05:42.817Z"
   },
   {
    "duration": 0,
    "start_time": "2022-03-25T07:05:42.818Z"
   },
   {
    "duration": 0,
    "start_time": "2022-03-25T07:05:42.819Z"
   },
   {
    "duration": 0,
    "start_time": "2022-03-25T07:05:42.820Z"
   },
   {
    "duration": 49,
    "start_time": "2022-03-25T07:15:25.069Z"
   },
   {
    "duration": 18,
    "start_time": "2022-03-25T07:15:47.116Z"
   },
   {
    "duration": 16,
    "start_time": "2022-03-25T07:15:55.758Z"
   },
   {
    "duration": 1159,
    "start_time": "2022-03-25T07:16:01.412Z"
   },
   {
    "duration": 14,
    "start_time": "2022-03-25T07:16:02.573Z"
   },
   {
    "duration": 18,
    "start_time": "2022-03-25T07:16:02.588Z"
   },
   {
    "duration": 22,
    "start_time": "2022-03-25T07:16:02.608Z"
   },
   {
    "duration": 10,
    "start_time": "2022-03-25T07:16:02.632Z"
   },
   {
    "duration": 6,
    "start_time": "2022-03-25T07:16:02.644Z"
   },
   {
    "duration": 6,
    "start_time": "2022-03-25T07:16:02.651Z"
   },
   {
    "duration": 6,
    "start_time": "2022-03-25T07:16:02.658Z"
   },
   {
    "duration": 94,
    "start_time": "2022-03-25T07:16:02.665Z"
   },
   {
    "duration": 1296,
    "start_time": "2022-03-28T10:04:56.113Z"
   },
   {
    "duration": 15,
    "start_time": "2022-03-28T10:04:57.411Z"
   },
   {
    "duration": 21,
    "start_time": "2022-03-28T10:04:57.427Z"
   },
   {
    "duration": 25,
    "start_time": "2022-03-28T10:04:57.450Z"
   },
   {
    "duration": 33,
    "start_time": "2022-03-28T10:04:57.478Z"
   },
   {
    "duration": 7,
    "start_time": "2022-03-28T10:04:57.513Z"
   },
   {
    "duration": 8,
    "start_time": "2022-03-28T10:04:57.522Z"
   },
   {
    "duration": 7,
    "start_time": "2022-03-28T10:04:57.532Z"
   },
   {
    "duration": 10,
    "start_time": "2022-03-28T10:04:57.541Z"
   },
   {
    "duration": 107,
    "start_time": "2022-03-28T10:04:57.554Z"
   },
   {
    "duration": 20768,
    "start_time": "2022-03-28T10:04:57.663Z"
   },
   {
    "duration": 25,
    "start_time": "2022-03-28T10:05:18.433Z"
   },
   {
    "duration": 14,
    "start_time": "2022-03-28T10:05:18.461Z"
   },
   {
    "duration": 143,
    "start_time": "2022-03-28T10:05:18.478Z"
   },
   {
    "duration": 7,
    "start_time": "2022-03-28T10:05:18.623Z"
   },
   {
    "duration": 8,
    "start_time": "2022-03-28T10:05:18.632Z"
   },
   {
    "duration": 1338,
    "start_time": "2022-03-29T07:26:37.708Z"
   },
   {
    "duration": 19,
    "start_time": "2022-03-29T07:26:39.048Z"
   },
   {
    "duration": 16,
    "start_time": "2022-03-29T07:26:39.068Z"
   },
   {
    "duration": 19,
    "start_time": "2022-03-29T07:26:39.086Z"
   },
   {
    "duration": 10,
    "start_time": "2022-03-29T07:26:39.107Z"
   },
   {
    "duration": 7,
    "start_time": "2022-03-29T07:26:39.118Z"
   },
   {
    "duration": 7,
    "start_time": "2022-03-29T07:26:39.126Z"
   },
   {
    "duration": 5,
    "start_time": "2022-03-29T07:26:39.134Z"
   },
   {
    "duration": 8,
    "start_time": "2022-03-29T07:26:39.140Z"
   },
   {
    "duration": 83,
    "start_time": "2022-03-29T07:26:39.149Z"
   },
   {
    "duration": 19155,
    "start_time": "2022-03-29T07:26:41.433Z"
   },
   {
    "duration": 27,
    "start_time": "2022-03-29T07:27:00.590Z"
   },
   {
    "duration": 13,
    "start_time": "2022-03-29T07:27:00.619Z"
   },
   {
    "duration": 118,
    "start_time": "2022-03-29T07:27:00.634Z"
   },
   {
    "duration": 5,
    "start_time": "2022-03-29T07:27:00.754Z"
   },
   {
    "duration": 7,
    "start_time": "2022-03-29T07:27:00.761Z"
   },
   {
    "duration": 1266,
    "start_time": "2022-03-29T07:27:34.904Z"
   },
   {
    "duration": 30,
    "start_time": "2022-03-29T07:27:36.172Z"
   },
   {
    "duration": 16,
    "start_time": "2022-03-29T07:27:36.204Z"
   },
   {
    "duration": 29,
    "start_time": "2022-03-29T07:27:36.222Z"
   },
   {
    "duration": 14,
    "start_time": "2022-03-29T07:27:36.253Z"
   },
   {
    "duration": 12,
    "start_time": "2022-03-29T07:27:36.270Z"
   },
   {
    "duration": 5,
    "start_time": "2022-03-29T07:27:36.306Z"
   },
   {
    "duration": 16,
    "start_time": "2022-03-29T07:27:36.312Z"
   },
   {
    "duration": 72,
    "start_time": "2022-03-29T07:27:36.329Z"
   },
   {
    "duration": 18414,
    "start_time": "2022-03-29T07:27:36.403Z"
   },
   {
    "duration": 22,
    "start_time": "2022-03-29T07:27:54.818Z"
   },
   {
    "duration": 13,
    "start_time": "2022-03-29T07:27:54.842Z"
   },
   {
    "duration": 130,
    "start_time": "2022-03-29T07:27:54.857Z"
   },
   {
    "duration": 13,
    "start_time": "2022-03-29T07:27:54.989Z"
   },
   {
    "duration": 6,
    "start_time": "2022-03-29T07:27:55.003Z"
   },
   {
    "duration": 1296,
    "start_time": "2022-03-29T07:39:16.215Z"
   },
   {
    "duration": 30,
    "start_time": "2022-03-29T07:39:17.514Z"
   },
   {
    "duration": 18,
    "start_time": "2022-03-29T07:39:17.546Z"
   },
   {
    "duration": 22,
    "start_time": "2022-03-29T07:39:17.566Z"
   },
   {
    "duration": 10,
    "start_time": "2022-03-29T07:39:17.590Z"
   },
   {
    "duration": 7,
    "start_time": "2022-03-29T07:39:17.601Z"
   },
   {
    "duration": 5,
    "start_time": "2022-03-29T07:39:17.609Z"
   },
   {
    "duration": 6,
    "start_time": "2022-03-29T07:39:17.615Z"
   },
   {
    "duration": 65,
    "start_time": "2022-03-29T07:39:17.623Z"
   },
   {
    "duration": 23049,
    "start_time": "2022-03-29T07:39:17.701Z"
   },
   {
    "duration": 38,
    "start_time": "2022-03-29T07:39:40.752Z"
   },
   {
    "duration": 28,
    "start_time": "2022-03-29T07:39:40.802Z"
   },
   {
    "duration": 177,
    "start_time": "2022-03-29T07:39:40.832Z"
   },
   {
    "duration": 6,
    "start_time": "2022-03-29T07:39:41.013Z"
   },
   {
    "duration": 8,
    "start_time": "2022-03-29T07:39:41.022Z"
   }
  ],
  "kernelspec": {
   "display_name": "Python 3 (ipykernel)",
   "language": "python",
   "name": "python3"
  },
  "language_info": {
   "codemirror_mode": {
    "name": "ipython",
    "version": 3
   },
   "file_extension": ".py",
   "mimetype": "text/x-python",
   "name": "python",
   "nbconvert_exporter": "python",
   "pygments_lexer": "ipython3",
   "version": "3.9.5"
  },
  "toc": {
   "base_numbering": 1,
   "nav_menu": {},
   "number_sections": true,
   "sideBar": true,
   "skip_h1_title": false,
   "title_cell": "Table of Contents",
   "title_sidebar": "Contents",
   "toc_cell": false,
   "toc_position": {},
   "toc_section_display": true,
   "toc_window_display": false
  }
 },
 "nbformat": 4,
 "nbformat_minor": 5
}
