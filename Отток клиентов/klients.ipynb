{
 "cells": [
  {
   "cell_type": "markdown",
   "metadata": {
    "toc": true
   },
   "source": [
    "<h1>Содержание<span class=\"tocSkip\"></span></h1>\n",
    "<div class=\"toc\"><ul class=\"toc-item\"><li><span><a href=\"#Изучение-данных-из-файла\" data-toc-modified-id=\"Изучение-данных-из-файла-1\"><span class=\"toc-item-num\">1&nbsp;&nbsp;</span>Изучение данных из файла</a></span></li><li><span><a href=\"#Подготовка-данных\" data-toc-modified-id=\"Подготовка-данных-2\"><span class=\"toc-item-num\">2&nbsp;&nbsp;</span>Подготовка данных</a></span><ul class=\"toc-item\"><li><span><a href=\"#Разделим-исходные-данные-на-обучающую,-валидационную-и-тестовую-выборки\" data-toc-modified-id=\"Разделим-исходные-данные-на-обучающую,-валидационную-и-тестовую-выборки-2.1\"><span class=\"toc-item-num\">2.1&nbsp;&nbsp;</span>Разделим исходные данные на обучающую, валидационную и тестовую выборки</a></span></li><li><span><a href=\"#Стандартизируем-численные-признаки\" data-toc-modified-id=\"Стандартизируем-численные-признаки-2.2\"><span class=\"toc-item-num\">2.2&nbsp;&nbsp;</span>Стандартизируем численные признаки</a></span></li><li><span><a href=\"#Баланс-классов\" data-toc-modified-id=\"Баланс-классов-2.3\"><span class=\"toc-item-num\">2.3&nbsp;&nbsp;</span>Баланс классов</a></span></li></ul></li><li><span><a href=\"#Проведение-исследовательского-анализа-данных\" data-toc-modified-id=\"Проведение-исследовательского-анализа-данных-3\"><span class=\"toc-item-num\">3&nbsp;&nbsp;</span>Проведение исследовательского анализа данных</a></span><ul class=\"toc-item\"><li><span><a href=\"#Решающее-дерево\" data-toc-modified-id=\"Решающее-дерево-3.1\"><span class=\"toc-item-num\">3.1&nbsp;&nbsp;</span>Решающее дерево</a></span></li><li><span><a href=\"#Случайный-лес\" data-toc-modified-id=\"Случайный-лес-3.2\"><span class=\"toc-item-num\">3.2&nbsp;&nbsp;</span>Случайный лес</a></span></li><li><span><a href=\"#Логистическая-регрессия\" data-toc-modified-id=\"Логистическая-регрессия-3.3\"><span class=\"toc-item-num\">3.3&nbsp;&nbsp;</span>Логистическая регрессия</a></span></li></ul></li><li><span><a href=\"#Борьба-с-дисбалансом\" data-toc-modified-id=\"Борьба-с-дисбалансом-4\"><span class=\"toc-item-num\">4&nbsp;&nbsp;</span>Борьба с дисбалансом</a></span><ul class=\"toc-item\"><li><span><a href=\"#Обучение-решающего-дерева-на-сбаланированной-выборке\" data-toc-modified-id=\"Обучение-решающего-дерева-на-сбаланированной-выборке-4.1\"><span class=\"toc-item-num\">4.1&nbsp;&nbsp;</span>Обучение решающего дерева на сбаланированной выборке</a></span></li><li><span><a href=\"#Обучение-случайного-леса-на-сбаланированной-выборке\" data-toc-modified-id=\"Обучение-случайного-леса-на-сбаланированной-выборке-4.2\"><span class=\"toc-item-num\">4.2&nbsp;&nbsp;</span>Обучение случайного леса на сбаланированной выборке</a></span></li><li><span><a href=\"#Обучение-логистической-регрессии-на-сбаланированной-выборке\" data-toc-modified-id=\"Обучение-логистической-регрессии-на-сбаланированной-выборке-4.3\"><span class=\"toc-item-num\">4.3&nbsp;&nbsp;</span>Обучение логистической регрессии на сбаланированной выборке</a></span></li><li><span><a href=\"#Улучшение-случайного-леса-на-сбаланcированной-выборке\" data-toc-modified-id=\"Улучшение-случайного-леса-на-сбаланcированной-выборке-4.4\"><span class=\"toc-item-num\">4.4&nbsp;&nbsp;</span>Улучшение случайного леса на сбаланcированной выборке</a></span></li></ul></li><li><span><a href=\"#Тестирование-модели\" data-toc-modified-id=\"Тестирование-модели-5\"><span class=\"toc-item-num\">5&nbsp;&nbsp;</span>Тестирование модели</a></span></li><li><span><a href=\"#Общий-вывод\" data-toc-modified-id=\"Общий-вывод-6\"><span class=\"toc-item-num\">6&nbsp;&nbsp;</span>Общий вывод</a></span></li></ul></div>"
   ]
  },
  {
   "cell_type": "markdown",
   "metadata": {},
   "source": [
    "\n",
    "# Исследование оттока клиентов"
   ]
  },
  {
   "cell_type": "markdown",
   "metadata": {},
   "source": [
    "Из «Бета-Банка» стали уходить клиенты. Каждый месяц. Немного, но заметно. Банковские маркетологи посчитали: сохранять текущих клиентов дешевле, чем привлекать новых.\n",
    "\n",
    "Нужно спрогнозировать, уйдёт клиент из банка в ближайшее время или нет. Нам предоставлены исторические данные о поведении клиентов и расторжении договоров с банком. \n",
    "\n",
    "Построить модель с предельно большим значением *F1*-меры. Нужно довести метрику до 0.59. Проверить *F1*-меру на тестовой выборке.\n",
    "\n",
    "Дополнительно измерить *AUC-ROC*, сравнить её значение с *F1*-мерой.\n"
   ]
  },
  {
   "cell_type": "markdown",
   "metadata": {},
   "source": [
    "## Изучение данных из файла\n",
    "\n",
    "Откройем файл с данными и изучим общую информацию.\n",
    "\n",
    "Путь к файлу:\n",
    "/datasets/Churn.csv\n",
    "\n",
    "О качестве данных ничего не известно. Поэтому перед проверкой понадобится обзор данных.\n",
    "Проверяем данные на ошибки и оцениваем их влияние на исследование. \n",
    "Затем, на этапе изучения и подготовки данных ищем возможность исправить самые критичные ошибки данных.\n",
    "\n",
    "Таким образом, исследование пройдёт в **пять этапов**:\n",
    "\n",
    "-  Изучение данных.\n",
    "-  Подготовка данных.\n",
    "-  Проведение исследовательского анализа данных.\n",
    "-  Борьба с дисбалансом.\n",
    "-  Тестирование модели.\n",
    "-  Общий вывод."
   ]
  },
  {
   "cell_type": "markdown",
   "metadata": {},
   "source": [
    "Исследование:"
   ]
  },
  {
   "cell_type": "code",
   "execution_count": 1,
   "metadata": {},
   "outputs": [],
   "source": [
    "# импорт библиотек\n",
    "import pandas as pd\n",
    "import seaborn as sns\n",
    "import numpy as np\n",
    "import matplotlib.pyplot as plt\n",
    "from sklearn.linear_model import LinearRegression\n",
    "from sklearn.tree import DecisionTreeRegressor\n",
    "from sklearn.ensemble import RandomForestRegressor\n",
    "from sklearn.tree import DecisionTreeClassifier #решающее дерево\n",
    "from sklearn.ensemble import RandomForestClassifier #случайный лес\n",
    "from sklearn.linear_model import LogisticRegression #логистическая регрессия\n",
    "from sklearn.preprocessing import StandardScaler #стандартное масштабирование\n",
    "from sklearn.metrics import accuracy_score #метика accuracy\n",
    "from sklearn.metrics import recall_score #полнота\n",
    "from sklearn.metrics import r2_score\n",
    "from sklearn.metrics import precision_recall_curve\n",
    "from sklearn.metrics import precision_score #точность\n",
    "from sklearn.metrics import roc_auc_score #AUC-ROC\n",
    "from sklearn.metrics import roc_curve #ROC-кривая\n",
    "from scipy import stats as st\n",
    "from sklearn.model_selection import train_test_split\n",
    "from sklearn.metrics import mean_absolute_error\n",
    "from sklearn.metrics import f1_score  #F-1 мера\n",
    "from sklearn.metrics import confusion_matrix #матрица ошибок\n",
    "from sklearn.utils import shuffle\n",
    "from sklearn.svm import SVC\n",
    "from sklearn.dummy import DummyClassifier"
   ]
  },
  {
   "cell_type": "code",
   "execution_count": 2,
   "metadata": {},
   "outputs": [],
   "source": [
    "# чтение файла с данными и сохранение \n",
    "df = pd.read_csv('/datasets/Churn.csv')"
   ]
  },
  {
   "cell_type": "markdown",
   "metadata": {},
   "source": [
    "**Описание данных**:\n",
    "\n",
    "**Признаки:**\n",
    "\n",
    "- RowNumber — индекс строки в данных\n",
    "- CustomerId — уникальный идентификатор клиента\n",
    "- Surname — фамилия\n",
    "- CreditScore — кредитный рейтинг\n",
    "- Geography — страна проживания\n",
    "- Gender — пол\n",
    "- Age — возраст\n",
    "- Tenure — сколько лет человек является клиентом банка\n",
    "- Balance — баланс на счёте\n",
    "- NumOfProducts — количество продуктов банка, используемых клиентом\n",
    "- HasCrCard — наличие кредитной карты\n",
    "- IsActiveMember — активность клиента\n",
    "- EstimatedSalary — предполагаемая зарплата\n",
    "\n",
    "**Целевой признак:**\n",
    "\n",
    "Exited — факт ухода клиента"
   ]
  },
  {
   "cell_type": "code",
   "execution_count": 3,
   "metadata": {},
   "outputs": [
    {
     "data": {
      "text/html": [
       "<div>\n",
       "<style scoped>\n",
       "    .dataframe tbody tr th:only-of-type {\n",
       "        vertical-align: middle;\n",
       "    }\n",
       "\n",
       "    .dataframe tbody tr th {\n",
       "        vertical-align: top;\n",
       "    }\n",
       "\n",
       "    .dataframe thead th {\n",
       "        text-align: right;\n",
       "    }\n",
       "</style>\n",
       "<table border=\"1\" class=\"dataframe\">\n",
       "  <thead>\n",
       "    <tr style=\"text-align: right;\">\n",
       "      <th></th>\n",
       "      <th>RowNumber</th>\n",
       "      <th>CustomerId</th>\n",
       "      <th>Surname</th>\n",
       "      <th>CreditScore</th>\n",
       "      <th>Geography</th>\n",
       "      <th>Gender</th>\n",
       "      <th>Age</th>\n",
       "      <th>Tenure</th>\n",
       "      <th>Balance</th>\n",
       "      <th>NumOfProducts</th>\n",
       "      <th>HasCrCard</th>\n",
       "      <th>IsActiveMember</th>\n",
       "      <th>EstimatedSalary</th>\n",
       "      <th>Exited</th>\n",
       "    </tr>\n",
       "  </thead>\n",
       "  <tbody>\n",
       "    <tr>\n",
       "      <th>0</th>\n",
       "      <td>1</td>\n",
       "      <td>15634602</td>\n",
       "      <td>Hargrave</td>\n",
       "      <td>619</td>\n",
       "      <td>France</td>\n",
       "      <td>Female</td>\n",
       "      <td>42</td>\n",
       "      <td>2.0</td>\n",
       "      <td>0.00</td>\n",
       "      <td>1</td>\n",
       "      <td>1</td>\n",
       "      <td>1</td>\n",
       "      <td>101348.88</td>\n",
       "      <td>1</td>\n",
       "    </tr>\n",
       "    <tr>\n",
       "      <th>1</th>\n",
       "      <td>2</td>\n",
       "      <td>15647311</td>\n",
       "      <td>Hill</td>\n",
       "      <td>608</td>\n",
       "      <td>Spain</td>\n",
       "      <td>Female</td>\n",
       "      <td>41</td>\n",
       "      <td>1.0</td>\n",
       "      <td>83807.86</td>\n",
       "      <td>1</td>\n",
       "      <td>0</td>\n",
       "      <td>1</td>\n",
       "      <td>112542.58</td>\n",
       "      <td>0</td>\n",
       "    </tr>\n",
       "    <tr>\n",
       "      <th>2</th>\n",
       "      <td>3</td>\n",
       "      <td>15619304</td>\n",
       "      <td>Onio</td>\n",
       "      <td>502</td>\n",
       "      <td>France</td>\n",
       "      <td>Female</td>\n",
       "      <td>42</td>\n",
       "      <td>8.0</td>\n",
       "      <td>159660.80</td>\n",
       "      <td>3</td>\n",
       "      <td>1</td>\n",
       "      <td>0</td>\n",
       "      <td>113931.57</td>\n",
       "      <td>1</td>\n",
       "    </tr>\n",
       "    <tr>\n",
       "      <th>3</th>\n",
       "      <td>4</td>\n",
       "      <td>15701354</td>\n",
       "      <td>Boni</td>\n",
       "      <td>699</td>\n",
       "      <td>France</td>\n",
       "      <td>Female</td>\n",
       "      <td>39</td>\n",
       "      <td>1.0</td>\n",
       "      <td>0.00</td>\n",
       "      <td>2</td>\n",
       "      <td>0</td>\n",
       "      <td>0</td>\n",
       "      <td>93826.63</td>\n",
       "      <td>0</td>\n",
       "    </tr>\n",
       "    <tr>\n",
       "      <th>4</th>\n",
       "      <td>5</td>\n",
       "      <td>15737888</td>\n",
       "      <td>Mitchell</td>\n",
       "      <td>850</td>\n",
       "      <td>Spain</td>\n",
       "      <td>Female</td>\n",
       "      <td>43</td>\n",
       "      <td>2.0</td>\n",
       "      <td>125510.82</td>\n",
       "      <td>1</td>\n",
       "      <td>1</td>\n",
       "      <td>1</td>\n",
       "      <td>79084.10</td>\n",
       "      <td>0</td>\n",
       "    </tr>\n",
       "  </tbody>\n",
       "</table>\n",
       "</div>"
      ],
      "text/plain": [
       "   RowNumber  CustomerId   Surname  CreditScore Geography  Gender  Age  \\\n",
       "0          1    15634602  Hargrave          619    France  Female   42   \n",
       "1          2    15647311      Hill          608     Spain  Female   41   \n",
       "2          3    15619304      Onio          502    France  Female   42   \n",
       "3          4    15701354      Boni          699    France  Female   39   \n",
       "4          5    15737888  Mitchell          850     Spain  Female   43   \n",
       "\n",
       "   Tenure    Balance  NumOfProducts  HasCrCard  IsActiveMember  \\\n",
       "0     2.0       0.00              1          1               1   \n",
       "1     1.0   83807.86              1          0               1   \n",
       "2     8.0  159660.80              3          1               0   \n",
       "3     1.0       0.00              2          0               0   \n",
       "4     2.0  125510.82              1          1               1   \n",
       "\n",
       "   EstimatedSalary  Exited  \n",
       "0        101348.88       1  \n",
       "1        112542.58       0  \n",
       "2        113931.57       1  \n",
       "3         93826.63       0  \n",
       "4         79084.10       0  "
      ]
     },
     "execution_count": 3,
     "metadata": {},
     "output_type": "execute_result"
    }
   ],
   "source": [
    "df.head()"
   ]
  },
  {
   "cell_type": "code",
   "execution_count": 4,
   "metadata": {},
   "outputs": [
    {
     "data": {
      "text/html": [
       "<div>\n",
       "<style scoped>\n",
       "    .dataframe tbody tr th:only-of-type {\n",
       "        vertical-align: middle;\n",
       "    }\n",
       "\n",
       "    .dataframe tbody tr th {\n",
       "        vertical-align: top;\n",
       "    }\n",
       "\n",
       "    .dataframe thead th {\n",
       "        text-align: right;\n",
       "    }\n",
       "</style>\n",
       "<table border=\"1\" class=\"dataframe\">\n",
       "  <thead>\n",
       "    <tr style=\"text-align: right;\">\n",
       "      <th></th>\n",
       "      <th>RowNumber</th>\n",
       "      <th>CustomerId</th>\n",
       "      <th>CreditScore</th>\n",
       "      <th>Age</th>\n",
       "      <th>Tenure</th>\n",
       "      <th>Balance</th>\n",
       "      <th>NumOfProducts</th>\n",
       "      <th>HasCrCard</th>\n",
       "      <th>IsActiveMember</th>\n",
       "      <th>EstimatedSalary</th>\n",
       "      <th>Exited</th>\n",
       "    </tr>\n",
       "  </thead>\n",
       "  <tbody>\n",
       "    <tr>\n",
       "      <th>count</th>\n",
       "      <td>10000.00000</td>\n",
       "      <td>1.000000e+04</td>\n",
       "      <td>10000.000000</td>\n",
       "      <td>10000.000000</td>\n",
       "      <td>9091.000000</td>\n",
       "      <td>10000.000000</td>\n",
       "      <td>10000.000000</td>\n",
       "      <td>10000.00000</td>\n",
       "      <td>10000.000000</td>\n",
       "      <td>10000.000000</td>\n",
       "      <td>10000.000000</td>\n",
       "    </tr>\n",
       "    <tr>\n",
       "      <th>mean</th>\n",
       "      <td>5000.50000</td>\n",
       "      <td>1.569094e+07</td>\n",
       "      <td>650.528800</td>\n",
       "      <td>38.921800</td>\n",
       "      <td>4.997690</td>\n",
       "      <td>76485.889288</td>\n",
       "      <td>1.530200</td>\n",
       "      <td>0.70550</td>\n",
       "      <td>0.515100</td>\n",
       "      <td>100090.239881</td>\n",
       "      <td>0.203700</td>\n",
       "    </tr>\n",
       "    <tr>\n",
       "      <th>std</th>\n",
       "      <td>2886.89568</td>\n",
       "      <td>7.193619e+04</td>\n",
       "      <td>96.653299</td>\n",
       "      <td>10.487806</td>\n",
       "      <td>2.894723</td>\n",
       "      <td>62397.405202</td>\n",
       "      <td>0.581654</td>\n",
       "      <td>0.45584</td>\n",
       "      <td>0.499797</td>\n",
       "      <td>57510.492818</td>\n",
       "      <td>0.402769</td>\n",
       "    </tr>\n",
       "    <tr>\n",
       "      <th>min</th>\n",
       "      <td>1.00000</td>\n",
       "      <td>1.556570e+07</td>\n",
       "      <td>350.000000</td>\n",
       "      <td>18.000000</td>\n",
       "      <td>0.000000</td>\n",
       "      <td>0.000000</td>\n",
       "      <td>1.000000</td>\n",
       "      <td>0.00000</td>\n",
       "      <td>0.000000</td>\n",
       "      <td>11.580000</td>\n",
       "      <td>0.000000</td>\n",
       "    </tr>\n",
       "    <tr>\n",
       "      <th>25%</th>\n",
       "      <td>2500.75000</td>\n",
       "      <td>1.562853e+07</td>\n",
       "      <td>584.000000</td>\n",
       "      <td>32.000000</td>\n",
       "      <td>2.000000</td>\n",
       "      <td>0.000000</td>\n",
       "      <td>1.000000</td>\n",
       "      <td>0.00000</td>\n",
       "      <td>0.000000</td>\n",
       "      <td>51002.110000</td>\n",
       "      <td>0.000000</td>\n",
       "    </tr>\n",
       "    <tr>\n",
       "      <th>50%</th>\n",
       "      <td>5000.50000</td>\n",
       "      <td>1.569074e+07</td>\n",
       "      <td>652.000000</td>\n",
       "      <td>37.000000</td>\n",
       "      <td>5.000000</td>\n",
       "      <td>97198.540000</td>\n",
       "      <td>1.000000</td>\n",
       "      <td>1.00000</td>\n",
       "      <td>1.000000</td>\n",
       "      <td>100193.915000</td>\n",
       "      <td>0.000000</td>\n",
       "    </tr>\n",
       "    <tr>\n",
       "      <th>75%</th>\n",
       "      <td>7500.25000</td>\n",
       "      <td>1.575323e+07</td>\n",
       "      <td>718.000000</td>\n",
       "      <td>44.000000</td>\n",
       "      <td>7.000000</td>\n",
       "      <td>127644.240000</td>\n",
       "      <td>2.000000</td>\n",
       "      <td>1.00000</td>\n",
       "      <td>1.000000</td>\n",
       "      <td>149388.247500</td>\n",
       "      <td>0.000000</td>\n",
       "    </tr>\n",
       "    <tr>\n",
       "      <th>max</th>\n",
       "      <td>10000.00000</td>\n",
       "      <td>1.581569e+07</td>\n",
       "      <td>850.000000</td>\n",
       "      <td>92.000000</td>\n",
       "      <td>10.000000</td>\n",
       "      <td>250898.090000</td>\n",
       "      <td>4.000000</td>\n",
       "      <td>1.00000</td>\n",
       "      <td>1.000000</td>\n",
       "      <td>199992.480000</td>\n",
       "      <td>1.000000</td>\n",
       "    </tr>\n",
       "  </tbody>\n",
       "</table>\n",
       "</div>"
      ],
      "text/plain": [
       "         RowNumber    CustomerId   CreditScore           Age       Tenure  \\\n",
       "count  10000.00000  1.000000e+04  10000.000000  10000.000000  9091.000000   \n",
       "mean    5000.50000  1.569094e+07    650.528800     38.921800     4.997690   \n",
       "std     2886.89568  7.193619e+04     96.653299     10.487806     2.894723   \n",
       "min        1.00000  1.556570e+07    350.000000     18.000000     0.000000   \n",
       "25%     2500.75000  1.562853e+07    584.000000     32.000000     2.000000   \n",
       "50%     5000.50000  1.569074e+07    652.000000     37.000000     5.000000   \n",
       "75%     7500.25000  1.575323e+07    718.000000     44.000000     7.000000   \n",
       "max    10000.00000  1.581569e+07    850.000000     92.000000    10.000000   \n",
       "\n",
       "             Balance  NumOfProducts    HasCrCard  IsActiveMember  \\\n",
       "count   10000.000000   10000.000000  10000.00000    10000.000000   \n",
       "mean    76485.889288       1.530200      0.70550        0.515100   \n",
       "std     62397.405202       0.581654      0.45584        0.499797   \n",
       "min         0.000000       1.000000      0.00000        0.000000   \n",
       "25%         0.000000       1.000000      0.00000        0.000000   \n",
       "50%     97198.540000       1.000000      1.00000        1.000000   \n",
       "75%    127644.240000       2.000000      1.00000        1.000000   \n",
       "max    250898.090000       4.000000      1.00000        1.000000   \n",
       "\n",
       "       EstimatedSalary        Exited  \n",
       "count     10000.000000  10000.000000  \n",
       "mean     100090.239881      0.203700  \n",
       "std       57510.492818      0.402769  \n",
       "min          11.580000      0.000000  \n",
       "25%       51002.110000      0.000000  \n",
       "50%      100193.915000      0.000000  \n",
       "75%      149388.247500      0.000000  \n",
       "max      199992.480000      1.000000  "
      ]
     },
     "execution_count": 4,
     "metadata": {},
     "output_type": "execute_result"
    }
   ],
   "source": [
    "df.describe()"
   ]
  },
  {
   "cell_type": "code",
   "execution_count": 5,
   "metadata": {},
   "outputs": [
    {
     "name": "stdout",
     "output_type": "stream",
     "text": [
      "<class 'pandas.core.frame.DataFrame'>\n",
      "RangeIndex: 10000 entries, 0 to 9999\n",
      "Data columns (total 14 columns):\n",
      " #   Column           Non-Null Count  Dtype  \n",
      "---  ------           --------------  -----  \n",
      " 0   RowNumber        10000 non-null  int64  \n",
      " 1   CustomerId       10000 non-null  int64  \n",
      " 2   Surname          10000 non-null  object \n",
      " 3   CreditScore      10000 non-null  int64  \n",
      " 4   Geography        10000 non-null  object \n",
      " 5   Gender           10000 non-null  object \n",
      " 6   Age              10000 non-null  int64  \n",
      " 7   Tenure           9091 non-null   float64\n",
      " 8   Balance          10000 non-null  float64\n",
      " 9   NumOfProducts    10000 non-null  int64  \n",
      " 10  HasCrCard        10000 non-null  int64  \n",
      " 11  IsActiveMember   10000 non-null  int64  \n",
      " 12  EstimatedSalary  10000 non-null  float64\n",
      " 13  Exited           10000 non-null  int64  \n",
      "dtypes: float64(3), int64(8), object(3)\n",
      "memory usage: 1.1+ MB\n"
     ]
    }
   ],
   "source": [
    "df.info()"
   ]
  },
  {
   "cell_type": "code",
   "execution_count": 6,
   "metadata": {},
   "outputs": [
    {
     "data": {
      "text/plain": [
       "<AxesSubplot:>"
      ]
     },
     "execution_count": 6,
     "metadata": {},
     "output_type": "execute_result"
    },
    {
     "data": {
      "image/png": "[encoded data removed]",
      "text/plain": [
       "<Figure size 432x288 with 2 Axes>"
      ]
     },
     "metadata": {
      "needs_background": "light"
     },
     "output_type": "display_data"
    }
   ],
   "source": [
    "cols = df.columns[:20] \n",
    "colours = ['#000099', '#ffff00'] \n",
    "sns.heatmap(df[cols].isnull(), cmap=sns.color_palette(colours)) # желтый - пропущенные данные, синий - не пропущенные"
   ]
  },
  {
   "cell_type": "code",
   "execution_count": 7,
   "metadata": {},
   "outputs": [
    {
     "data": {
      "text/plain": [
       "0"
      ]
     },
     "execution_count": 7,
     "metadata": {},
     "output_type": "execute_result"
    }
   ],
   "source": [
    "#поиск дубликатов\n",
    "df.duplicated().sum() "
   ]
  },
  {
   "cell_type": "code",
   "execution_count": 8,
   "metadata": {},
   "outputs": [
    {
     "data": {
      "text/plain": [
       "Tenure             909\n",
       "RowNumber            0\n",
       "CustomerId           0\n",
       "Surname              0\n",
       "CreditScore          0\n",
       "Geography            0\n",
       "Gender               0\n",
       "Age                  0\n",
       "Balance              0\n",
       "NumOfProducts        0\n",
       "HasCrCard            0\n",
       "IsActiveMember       0\n",
       "EstimatedSalary      0\n",
       "Exited               0\n",
       "dtype: int64"
      ]
     },
     "execution_count": 8,
     "metadata": {},
     "output_type": "execute_result"
    }
   ],
   "source": [
    "df.isna().sum().sort_values(ascending = False)"
   ]
  },
  {
   "cell_type": "code",
   "execution_count": 9,
   "metadata": {},
   "outputs": [
    {
     "data": {
      "text/plain": [
       "Tenure             9.0\n",
       "RowNumber          0.0\n",
       "CustomerId         0.0\n",
       "Surname            0.0\n",
       "CreditScore        0.0\n",
       "Geography          0.0\n",
       "Gender             0.0\n",
       "Age                0.0\n",
       "Balance            0.0\n",
       "NumOfProducts      0.0\n",
       "HasCrCard          0.0\n",
       "IsActiveMember     0.0\n",
       "EstimatedSalary    0.0\n",
       "Exited             0.0\n",
       "dtype: float64"
      ]
     },
     "execution_count": 9,
     "metadata": {},
     "output_type": "execute_result"
    }
   ],
   "source": [
    "round(df.isna().sum()/df.shape[0]*100).sort_values(ascending = False) "
   ]
  },
  {
   "cell_type": "code",
   "execution_count": 10,
   "metadata": {},
   "outputs": [
    {
     "data": {
      "text/plain": [
       "460"
      ]
     },
     "execution_count": 10,
     "metadata": {},
     "output_type": "execute_result"
    }
   ],
   "source": [
    "#проверим уникальные значения в столбце кредитный рейтинг\n",
    "len(df['CreditScore'].unique())"
   ]
  },
  {
   "cell_type": "code",
   "execution_count": 11,
   "metadata": {},
   "outputs": [
    {
     "data": {
      "text/plain": [
       "3"
      ]
     },
     "execution_count": 11,
     "metadata": {},
     "output_type": "execute_result"
    }
   ],
   "source": [
    "#проверим уникальные значения в столбце страна проживания\n",
    "len(df['Geography'].unique())"
   ]
  },
  {
   "cell_type": "code",
   "execution_count": 12,
   "metadata": {},
   "outputs": [
    {
     "data": {
      "text/plain": [
       "France     5014\n",
       "Germany    2509\n",
       "Spain      2477\n",
       "Name: Geography, dtype: int64"
      ]
     },
     "execution_count": 12,
     "metadata": {},
     "output_type": "execute_result"
    }
   ],
   "source": [
    "#проверим уникальные значения в столбце пол\n",
    "df['Geography'].value_counts()"
   ]
  },
  {
   "cell_type": "code",
   "execution_count": 13,
   "metadata": {},
   "outputs": [
    {
     "data": {
      "text/plain": [
       "2"
      ]
     },
     "execution_count": 13,
     "metadata": {},
     "output_type": "execute_result"
    }
   ],
   "source": [
    "#проверим уникальные значения в столбце пол\n",
    "len(df['Gender'].unique())"
   ]
  },
  {
   "cell_type": "code",
   "execution_count": 14,
   "metadata": {},
   "outputs": [
    {
     "data": {
      "text/plain": [
       "Male      5457\n",
       "Female    4543\n",
       "Name: Gender, dtype: int64"
      ]
     },
     "execution_count": 14,
     "metadata": {},
     "output_type": "execute_result"
    }
   ],
   "source": [
    "#проверим уникальные значения в столбце пол\n",
    "df['Gender'].value_counts()"
   ]
  },
  {
   "cell_type": "code",
   "execution_count": 15,
   "metadata": {},
   "outputs": [
    {
     "data": {
      "text/plain": [
       "70"
      ]
     },
     "execution_count": 15,
     "metadata": {},
     "output_type": "execute_result"
    }
   ],
   "source": [
    "#проверим уникальные значения в столбце возраст\n",
    "len(df['Age'].unique())"
   ]
  },
  {
   "cell_type": "code",
   "execution_count": 16,
   "metadata": {},
   "outputs": [
    {
     "data": {
      "text/plain": [
       "37    478\n",
       "38    477\n",
       "35    474\n",
       "36    456\n",
       "34    447\n",
       "     ... \n",
       "92      2\n",
       "88      1\n",
       "82      1\n",
       "85      1\n",
       "83      1\n",
       "Name: Age, Length: 70, dtype: int64"
      ]
     },
     "execution_count": 16,
     "metadata": {},
     "output_type": "execute_result"
    }
   ],
   "source": [
    "#проверим уникальные значения в столбце возраст\n",
    "df['Age'].value_counts()"
   ]
  },
  {
   "cell_type": "code",
   "execution_count": 17,
   "metadata": {},
   "outputs": [
    {
     "data": {
      "text/plain": [
       "12"
      ]
     },
     "execution_count": 17,
     "metadata": {},
     "output_type": "execute_result"
    }
   ],
   "source": [
    "#проверим уникальные значения в столбце сколько лет человек является клиентом банка\n",
    "len(df['Tenure'].unique())"
   ]
  },
  {
   "cell_type": "code",
   "execution_count": 18,
   "metadata": {},
   "outputs": [
    {
     "data": {
      "text/plain": [
       "1.0     952\n",
       "2.0     950\n",
       "8.0     933\n",
       "3.0     928\n",
       "5.0     927\n",
       "7.0     925\n",
       "4.0     885\n",
       "9.0     882\n",
       "6.0     881\n",
       "10.0    446\n",
       "0.0     382\n",
       "Name: Tenure, dtype: int64"
      ]
     },
     "execution_count": 18,
     "metadata": {},
     "output_type": "execute_result"
    }
   ],
   "source": [
    "#проверим уникальные значения в столбце сколько лет человек является клиентом банка\n",
    "df['Tenure'].value_counts()"
   ]
  },
  {
   "cell_type": "code",
   "execution_count": 19,
   "metadata": {},
   "outputs": [
    {
     "data": {
      "text/plain": [
       "4"
      ]
     },
     "execution_count": 19,
     "metadata": {},
     "output_type": "execute_result"
    }
   ],
   "source": [
    "#проверим уникальные значения в столбце количество продуктов банка, используемых клиентом\n",
    "len(df['NumOfProducts'].unique())"
   ]
  },
  {
   "cell_type": "code",
   "execution_count": 20,
   "metadata": {},
   "outputs": [
    {
     "data": {
      "text/plain": [
       "1    5084\n",
       "2    4590\n",
       "3     266\n",
       "4      60\n",
       "Name: NumOfProducts, dtype: int64"
      ]
     },
     "execution_count": 20,
     "metadata": {},
     "output_type": "execute_result"
    }
   ],
   "source": [
    "#проверим уникальные значения в столбце количество продуктов банка, используемых клиентом\n",
    "df['NumOfProducts'].value_counts()"
   ]
  },
  {
   "cell_type": "code",
   "execution_count": 21,
   "metadata": {},
   "outputs": [
    {
     "data": {
      "text/plain": [
       "2"
      ]
     },
     "execution_count": 21,
     "metadata": {},
     "output_type": "execute_result"
    }
   ],
   "source": [
    "#проверим уникальные значения в столбце наличие кредитной карты\n",
    "len(df['HasCrCard'].unique())"
   ]
  },
  {
   "cell_type": "code",
   "execution_count": 22,
   "metadata": {},
   "outputs": [
    {
     "data": {
      "text/plain": [
       "1    7055\n",
       "0    2945\n",
       "Name: HasCrCard, dtype: int64"
      ]
     },
     "execution_count": 22,
     "metadata": {},
     "output_type": "execute_result"
    }
   ],
   "source": [
    "#проверим уникальные значения в столбце наличие кредитной карты\n",
    "df['HasCrCard'].value_counts()"
   ]
  },
  {
   "cell_type": "code",
   "execution_count": 23,
   "metadata": {},
   "outputs": [
    {
     "data": {
      "text/plain": [
       "2"
      ]
     },
     "execution_count": 23,
     "metadata": {},
     "output_type": "execute_result"
    }
   ],
   "source": [
    "#проверим уникальные значения в столбце активность клиента\n",
    "len(df['IsActiveMember'].unique())"
   ]
  },
  {
   "cell_type": "code",
   "execution_count": 24,
   "metadata": {},
   "outputs": [
    {
     "data": {
      "text/plain": [
       "1    5151\n",
       "0    4849\n",
       "Name: IsActiveMember, dtype: int64"
      ]
     },
     "execution_count": 24,
     "metadata": {},
     "output_type": "execute_result"
    }
   ],
   "source": [
    "#проверим уникальные значения в столбце активность клиента\n",
    "df['IsActiveMember'].value_counts()"
   ]
  },
  {
   "cell_type": "code",
   "execution_count": 25,
   "metadata": {},
   "outputs": [
    {
     "data": {
      "text/plain": [
       "2"
      ]
     },
     "execution_count": 25,
     "metadata": {},
     "output_type": "execute_result"
    }
   ],
   "source": [
    "#проверим уникальные значения в столбце факт ухода клиента\n",
    "len(df['Exited'].unique())"
   ]
  },
  {
   "cell_type": "code",
   "execution_count": 26,
   "metadata": {},
   "outputs": [
    {
     "data": {
      "text/plain": [
       "0    7963\n",
       "1    2037\n",
       "Name: Exited, dtype: int64"
      ]
     },
     "execution_count": 26,
     "metadata": {},
     "output_type": "execute_result"
    }
   ],
   "source": [
    "#проверим уникальные значения в столбце факт ухода клиента\n",
    "df['Exited'].value_counts()"
   ]
  },
  {
   "cell_type": "markdown",
   "metadata": {},
   "source": [
    "**Вывод:**\n",
    "\n",
    "В данных 14 столбцов и 10000 строк.\n",
    "    \n",
    "1.**Пропуски с столбцах**:\n",
    "\n",
    "-Tenure — сколько лет человек является клиентом банка **909**\n",
    "\n",
    "2.**Строчные с прописными буквами** \n",
    "\n"
   ]
  },
  {
   "cell_type": "markdown",
   "metadata": {},
   "source": [
    "## Подготовка данных"
   ]
  },
  {
   "cell_type": "code",
   "execution_count": 27,
   "metadata": {},
   "outputs": [],
   "source": [
    "#приведем всё к нижнему регистру\n",
    "df.columns = df.columns.str.lower()"
   ]
  },
  {
   "cell_type": "code",
   "execution_count": 28,
   "metadata": {},
   "outputs": [],
   "source": [
    "#для переименования столбцов вызывают метод датафреймов rename()\n",
    "df = df.rename(columns={'rownumber': 'number', 'customerid': 'id',\n",
    "                        'creditscore': 'credit_score', 'numofproducts': 'products', 'hascrcard': 'card'\n",
    "                        , 'isactivemember': 'activ', 'estimatedsalary': 'salary'}) "
   ]
  },
  {
   "cell_type": "code",
   "execution_count": 29,
   "metadata": {
    "scrolled": true
   },
   "outputs": [
    {
     "data": {
      "text/html": [
       "<div>\n",
       "<style scoped>\n",
       "    .dataframe tbody tr th:only-of-type {\n",
       "        vertical-align: middle;\n",
       "    }\n",
       "\n",
       "    .dataframe tbody tr th {\n",
       "        vertical-align: top;\n",
       "    }\n",
       "\n",
       "    .dataframe thead th {\n",
       "        text-align: right;\n",
       "    }\n",
       "</style>\n",
       "<table border=\"1\" class=\"dataframe\">\n",
       "  <thead>\n",
       "    <tr style=\"text-align: right;\">\n",
       "      <th></th>\n",
       "      <th>number</th>\n",
       "      <th>id</th>\n",
       "      <th>surname</th>\n",
       "      <th>credit_score</th>\n",
       "      <th>geography</th>\n",
       "      <th>gender</th>\n",
       "      <th>age</th>\n",
       "      <th>tenure</th>\n",
       "      <th>balance</th>\n",
       "      <th>products</th>\n",
       "      <th>card</th>\n",
       "      <th>activ</th>\n",
       "      <th>salary</th>\n",
       "      <th>exited</th>\n",
       "    </tr>\n",
       "  </thead>\n",
       "  <tbody>\n",
       "    <tr>\n",
       "      <th>0</th>\n",
       "      <td>1</td>\n",
       "      <td>15634602</td>\n",
       "      <td>Hargrave</td>\n",
       "      <td>619</td>\n",
       "      <td>France</td>\n",
       "      <td>Female</td>\n",
       "      <td>42</td>\n",
       "      <td>2.0</td>\n",
       "      <td>0.00</td>\n",
       "      <td>1</td>\n",
       "      <td>1</td>\n",
       "      <td>1</td>\n",
       "      <td>101348.88</td>\n",
       "      <td>1</td>\n",
       "    </tr>\n",
       "    <tr>\n",
       "      <th>1</th>\n",
       "      <td>2</td>\n",
       "      <td>15647311</td>\n",
       "      <td>Hill</td>\n",
       "      <td>608</td>\n",
       "      <td>Spain</td>\n",
       "      <td>Female</td>\n",
       "      <td>41</td>\n",
       "      <td>1.0</td>\n",
       "      <td>83807.86</td>\n",
       "      <td>1</td>\n",
       "      <td>0</td>\n",
       "      <td>1</td>\n",
       "      <td>112542.58</td>\n",
       "      <td>0</td>\n",
       "    </tr>\n",
       "    <tr>\n",
       "      <th>2</th>\n",
       "      <td>3</td>\n",
       "      <td>15619304</td>\n",
       "      <td>Onio</td>\n",
       "      <td>502</td>\n",
       "      <td>France</td>\n",
       "      <td>Female</td>\n",
       "      <td>42</td>\n",
       "      <td>8.0</td>\n",
       "      <td>159660.80</td>\n",
       "      <td>3</td>\n",
       "      <td>1</td>\n",
       "      <td>0</td>\n",
       "      <td>113931.57</td>\n",
       "      <td>1</td>\n",
       "    </tr>\n",
       "    <tr>\n",
       "      <th>3</th>\n",
       "      <td>4</td>\n",
       "      <td>15701354</td>\n",
       "      <td>Boni</td>\n",
       "      <td>699</td>\n",
       "      <td>France</td>\n",
       "      <td>Female</td>\n",
       "      <td>39</td>\n",
       "      <td>1.0</td>\n",
       "      <td>0.00</td>\n",
       "      <td>2</td>\n",
       "      <td>0</td>\n",
       "      <td>0</td>\n",
       "      <td>93826.63</td>\n",
       "      <td>0</td>\n",
       "    </tr>\n",
       "    <tr>\n",
       "      <th>4</th>\n",
       "      <td>5</td>\n",
       "      <td>15737888</td>\n",
       "      <td>Mitchell</td>\n",
       "      <td>850</td>\n",
       "      <td>Spain</td>\n",
       "      <td>Female</td>\n",
       "      <td>43</td>\n",
       "      <td>2.0</td>\n",
       "      <td>125510.82</td>\n",
       "      <td>1</td>\n",
       "      <td>1</td>\n",
       "      <td>1</td>\n",
       "      <td>79084.10</td>\n",
       "      <td>0</td>\n",
       "    </tr>\n",
       "    <tr>\n",
       "      <th>...</th>\n",
       "      <td>...</td>\n",
       "      <td>...</td>\n",
       "      <td>...</td>\n",
       "      <td>...</td>\n",
       "      <td>...</td>\n",
       "      <td>...</td>\n",
       "      <td>...</td>\n",
       "      <td>...</td>\n",
       "      <td>...</td>\n",
       "      <td>...</td>\n",
       "      <td>...</td>\n",
       "      <td>...</td>\n",
       "      <td>...</td>\n",
       "      <td>...</td>\n",
       "    </tr>\n",
       "    <tr>\n",
       "      <th>9995</th>\n",
       "      <td>9996</td>\n",
       "      <td>15606229</td>\n",
       "      <td>Obijiaku</td>\n",
       "      <td>771</td>\n",
       "      <td>France</td>\n",
       "      <td>Male</td>\n",
       "      <td>39</td>\n",
       "      <td>5.0</td>\n",
       "      <td>0.00</td>\n",
       "      <td>2</td>\n",
       "      <td>1</td>\n",
       "      <td>0</td>\n",
       "      <td>96270.64</td>\n",
       "      <td>0</td>\n",
       "    </tr>\n",
       "    <tr>\n",
       "      <th>9996</th>\n",
       "      <td>9997</td>\n",
       "      <td>15569892</td>\n",
       "      <td>Johnstone</td>\n",
       "      <td>516</td>\n",
       "      <td>France</td>\n",
       "      <td>Male</td>\n",
       "      <td>35</td>\n",
       "      <td>10.0</td>\n",
       "      <td>57369.61</td>\n",
       "      <td>1</td>\n",
       "      <td>1</td>\n",
       "      <td>1</td>\n",
       "      <td>101699.77</td>\n",
       "      <td>0</td>\n",
       "    </tr>\n",
       "    <tr>\n",
       "      <th>9997</th>\n",
       "      <td>9998</td>\n",
       "      <td>15584532</td>\n",
       "      <td>Liu</td>\n",
       "      <td>709</td>\n",
       "      <td>France</td>\n",
       "      <td>Female</td>\n",
       "      <td>36</td>\n",
       "      <td>7.0</td>\n",
       "      <td>0.00</td>\n",
       "      <td>1</td>\n",
       "      <td>0</td>\n",
       "      <td>1</td>\n",
       "      <td>42085.58</td>\n",
       "      <td>1</td>\n",
       "    </tr>\n",
       "    <tr>\n",
       "      <th>9998</th>\n",
       "      <td>9999</td>\n",
       "      <td>15682355</td>\n",
       "      <td>Sabbatini</td>\n",
       "      <td>772</td>\n",
       "      <td>Germany</td>\n",
       "      <td>Male</td>\n",
       "      <td>42</td>\n",
       "      <td>3.0</td>\n",
       "      <td>75075.31</td>\n",
       "      <td>2</td>\n",
       "      <td>1</td>\n",
       "      <td>0</td>\n",
       "      <td>92888.52</td>\n",
       "      <td>1</td>\n",
       "    </tr>\n",
       "    <tr>\n",
       "      <th>9999</th>\n",
       "      <td>10000</td>\n",
       "      <td>15628319</td>\n",
       "      <td>Walker</td>\n",
       "      <td>792</td>\n",
       "      <td>France</td>\n",
       "      <td>Female</td>\n",
       "      <td>28</td>\n",
       "      <td>NaN</td>\n",
       "      <td>130142.79</td>\n",
       "      <td>1</td>\n",
       "      <td>1</td>\n",
       "      <td>0</td>\n",
       "      <td>38190.78</td>\n",
       "      <td>0</td>\n",
       "    </tr>\n",
       "  </tbody>\n",
       "</table>\n",
       "<p>10000 rows × 14 columns</p>\n",
       "</div>"
      ],
      "text/plain": [
       "      number        id    surname  credit_score geography  gender  age  \\\n",
       "0          1  15634602   Hargrave           619    France  Female   42   \n",
       "1          2  15647311       Hill           608     Spain  Female   41   \n",
       "2          3  15619304       Onio           502    France  Female   42   \n",
       "3          4  15701354       Boni           699    France  Female   39   \n",
       "4          5  15737888   Mitchell           850     Spain  Female   43   \n",
       "...      ...       ...        ...           ...       ...     ...  ...   \n",
       "9995    9996  15606229   Obijiaku           771    France    Male   39   \n",
       "9996    9997  15569892  Johnstone           516    France    Male   35   \n",
       "9997    9998  15584532        Liu           709    France  Female   36   \n",
       "9998    9999  15682355  Sabbatini           772   Germany    Male   42   \n",
       "9999   10000  15628319     Walker           792    France  Female   28   \n",
       "\n",
       "      tenure    balance  products  card  activ     salary  exited  \n",
       "0        2.0       0.00         1     1      1  101348.88       1  \n",
       "1        1.0   83807.86         1     0      1  112542.58       0  \n",
       "2        8.0  159660.80         3     1      0  113931.57       1  \n",
       "3        1.0       0.00         2     0      0   93826.63       0  \n",
       "4        2.0  125510.82         1     1      1   79084.10       0  \n",
       "...      ...        ...       ...   ...    ...        ...     ...  \n",
       "9995     5.0       0.00         2     1      0   96270.64       0  \n",
       "9996    10.0   57369.61         1     1      1  101699.77       0  \n",
       "9997     7.0       0.00         1     0      1   42085.58       1  \n",
       "9998     3.0   75075.31         2     1      0   92888.52       1  \n",
       "9999     NaN  130142.79         1     1      0   38190.78       0  \n",
       "\n",
       "[10000 rows x 14 columns]"
      ]
     },
     "execution_count": 29,
     "metadata": {},
     "output_type": "execute_result"
    }
   ],
   "source": [
    "#проверим\n",
    "df"
   ]
  },
  {
   "cell_type": "code",
   "execution_count": 30,
   "metadata": {},
   "outputs": [],
   "source": [
    "#заменим пропуски в столбце сколько лет человек является клиентом банка на -1\n",
    "df['tenure'] = df['tenure'].fillna(-1)"
   ]
  },
  {
   "cell_type": "markdown",
   "metadata": {},
   "source": [
    "Преобразуйте колонку gender и geography  техникой One-Hot Encoding. Вызовим  функцию pd.get_dummies()"
   ]
  },
  {
   "cell_type": "code",
   "execution_count": 31,
   "metadata": {},
   "outputs": [
    {
     "data": {
      "text/html": [
       "<div>\n",
       "<style scoped>\n",
       "    .dataframe tbody tr th:only-of-type {\n",
       "        vertical-align: middle;\n",
       "    }\n",
       "\n",
       "    .dataframe tbody tr th {\n",
       "        vertical-align: top;\n",
       "    }\n",
       "\n",
       "    .dataframe thead th {\n",
       "        text-align: right;\n",
       "    }\n",
       "</style>\n",
       "<table border=\"1\" class=\"dataframe\">\n",
       "  <thead>\n",
       "    <tr style=\"text-align: right;\">\n",
       "      <th></th>\n",
       "      <th>Male</th>\n",
       "    </tr>\n",
       "  </thead>\n",
       "  <tbody>\n",
       "    <tr>\n",
       "      <th>0</th>\n",
       "      <td>0</td>\n",
       "    </tr>\n",
       "    <tr>\n",
       "      <th>1</th>\n",
       "      <td>0</td>\n",
       "    </tr>\n",
       "    <tr>\n",
       "      <th>2</th>\n",
       "      <td>0</td>\n",
       "    </tr>\n",
       "    <tr>\n",
       "      <th>3</th>\n",
       "      <td>0</td>\n",
       "    </tr>\n",
       "    <tr>\n",
       "      <th>4</th>\n",
       "      <td>0</td>\n",
       "    </tr>\n",
       "  </tbody>\n",
       "</table>\n",
       "</div>"
      ],
      "text/plain": [
       "   Male\n",
       "0     0\n",
       "1     0\n",
       "2     0\n",
       "3     0\n",
       "4     0"
      ]
     },
     "execution_count": 31,
     "metadata": {},
     "output_type": "execute_result"
    }
   ],
   "source": [
    "pd.get_dummies(df['gender'],drop_first=True).head()"
   ]
  },
  {
   "cell_type": "code",
   "execution_count": 32,
   "metadata": {},
   "outputs": [
    {
     "data": {
      "text/html": [
       "<div>\n",
       "<style scoped>\n",
       "    .dataframe tbody tr th:only-of-type {\n",
       "        vertical-align: middle;\n",
       "    }\n",
       "\n",
       "    .dataframe tbody tr th {\n",
       "        vertical-align: top;\n",
       "    }\n",
       "\n",
       "    .dataframe thead th {\n",
       "        text-align: right;\n",
       "    }\n",
       "</style>\n",
       "<table border=\"1\" class=\"dataframe\">\n",
       "  <thead>\n",
       "    <tr style=\"text-align: right;\">\n",
       "      <th></th>\n",
       "      <th>Germany</th>\n",
       "      <th>Spain</th>\n",
       "    </tr>\n",
       "  </thead>\n",
       "  <tbody>\n",
       "    <tr>\n",
       "      <th>0</th>\n",
       "      <td>0</td>\n",
       "      <td>0</td>\n",
       "    </tr>\n",
       "    <tr>\n",
       "      <th>1</th>\n",
       "      <td>0</td>\n",
       "      <td>1</td>\n",
       "    </tr>\n",
       "    <tr>\n",
       "      <th>2</th>\n",
       "      <td>0</td>\n",
       "      <td>0</td>\n",
       "    </tr>\n",
       "    <tr>\n",
       "      <th>3</th>\n",
       "      <td>0</td>\n",
       "      <td>0</td>\n",
       "    </tr>\n",
       "    <tr>\n",
       "      <th>4</th>\n",
       "      <td>0</td>\n",
       "      <td>1</td>\n",
       "    </tr>\n",
       "  </tbody>\n",
       "</table>\n",
       "</div>"
      ],
      "text/plain": [
       "   Germany  Spain\n",
       "0        0      0\n",
       "1        0      1\n",
       "2        0      0\n",
       "3        0      0\n",
       "4        0      1"
      ]
     },
     "execution_count": 32,
     "metadata": {},
     "output_type": "execute_result"
    }
   ],
   "source": [
    "pd.get_dummies(df['geography'],drop_first=True).head()"
   ]
  },
  {
   "cell_type": "markdown",
   "metadata": {},
   "source": [
    "Удалим строки, которые не понадобятся в исследовании: number,surname и id."
   ]
  },
  {
   "cell_type": "code",
   "execution_count": 33,
   "metadata": {},
   "outputs": [
    {
     "data": {
      "text/html": [
       "<div>\n",
       "<style scoped>\n",
       "    .dataframe tbody tr th:only-of-type {\n",
       "        vertical-align: middle;\n",
       "    }\n",
       "\n",
       "    .dataframe tbody tr th {\n",
       "        vertical-align: top;\n",
       "    }\n",
       "\n",
       "    .dataframe thead th {\n",
       "        text-align: right;\n",
       "    }\n",
       "</style>\n",
       "<table border=\"1\" class=\"dataframe\">\n",
       "  <thead>\n",
       "    <tr style=\"text-align: right;\">\n",
       "      <th></th>\n",
       "      <th>credit_score</th>\n",
       "      <th>geography</th>\n",
       "      <th>gender</th>\n",
       "      <th>age</th>\n",
       "      <th>tenure</th>\n",
       "      <th>balance</th>\n",
       "      <th>products</th>\n",
       "      <th>card</th>\n",
       "      <th>activ</th>\n",
       "      <th>salary</th>\n",
       "      <th>exited</th>\n",
       "    </tr>\n",
       "  </thead>\n",
       "  <tbody>\n",
       "    <tr>\n",
       "      <th>0</th>\n",
       "      <td>619</td>\n",
       "      <td>France</td>\n",
       "      <td>Female</td>\n",
       "      <td>42</td>\n",
       "      <td>2.0</td>\n",
       "      <td>0.00</td>\n",
       "      <td>1</td>\n",
       "      <td>1</td>\n",
       "      <td>1</td>\n",
       "      <td>101348.88</td>\n",
       "      <td>1</td>\n",
       "    </tr>\n",
       "    <tr>\n",
       "      <th>1</th>\n",
       "      <td>608</td>\n",
       "      <td>Spain</td>\n",
       "      <td>Female</td>\n",
       "      <td>41</td>\n",
       "      <td>1.0</td>\n",
       "      <td>83807.86</td>\n",
       "      <td>1</td>\n",
       "      <td>0</td>\n",
       "      <td>1</td>\n",
       "      <td>112542.58</td>\n",
       "      <td>0</td>\n",
       "    </tr>\n",
       "    <tr>\n",
       "      <th>2</th>\n",
       "      <td>502</td>\n",
       "      <td>France</td>\n",
       "      <td>Female</td>\n",
       "      <td>42</td>\n",
       "      <td>8.0</td>\n",
       "      <td>159660.80</td>\n",
       "      <td>3</td>\n",
       "      <td>1</td>\n",
       "      <td>0</td>\n",
       "      <td>113931.57</td>\n",
       "      <td>1</td>\n",
       "    </tr>\n",
       "    <tr>\n",
       "      <th>3</th>\n",
       "      <td>699</td>\n",
       "      <td>France</td>\n",
       "      <td>Female</td>\n",
       "      <td>39</td>\n",
       "      <td>1.0</td>\n",
       "      <td>0.00</td>\n",
       "      <td>2</td>\n",
       "      <td>0</td>\n",
       "      <td>0</td>\n",
       "      <td>93826.63</td>\n",
       "      <td>0</td>\n",
       "    </tr>\n",
       "    <tr>\n",
       "      <th>4</th>\n",
       "      <td>850</td>\n",
       "      <td>Spain</td>\n",
       "      <td>Female</td>\n",
       "      <td>43</td>\n",
       "      <td>2.0</td>\n",
       "      <td>125510.82</td>\n",
       "      <td>1</td>\n",
       "      <td>1</td>\n",
       "      <td>1</td>\n",
       "      <td>79084.10</td>\n",
       "      <td>0</td>\n",
       "    </tr>\n",
       "  </tbody>\n",
       "</table>\n",
       "</div>"
      ],
      "text/plain": [
       "   credit_score geography  gender  age  tenure    balance  products  card  \\\n",
       "0           619    France  Female   42     2.0       0.00         1     1   \n",
       "1           608     Spain  Female   41     1.0   83807.86         1     0   \n",
       "2           502    France  Female   42     8.0  159660.80         3     1   \n",
       "3           699    France  Female   39     1.0       0.00         2     0   \n",
       "4           850     Spain  Female   43     2.0  125510.82         1     1   \n",
       "\n",
       "   activ     salary  exited  \n",
       "0      1  101348.88       1  \n",
       "1      1  112542.58       0  \n",
       "2      0  113931.57       1  \n",
       "3      0   93826.63       0  \n",
       "4      1   79084.10       0  "
      ]
     },
     "execution_count": 33,
     "metadata": {},
     "output_type": "execute_result"
    }
   ],
   "source": [
    "df = df.drop(['number','id','surname'], axis=1)\n",
    "df.head()"
   ]
  },
  {
   "cell_type": "markdown",
   "metadata": {},
   "source": [
    "Применим прямое кодирование ко всему датафрейму. Вызовите функцию pd.get_dummies() c аргументом drop_first. Сохраним таблицу в переменной data:"
   ]
  },
  {
   "cell_type": "code",
   "execution_count": 34,
   "metadata": {},
   "outputs": [
    {
     "data": {
      "text/html": [
       "<div>\n",
       "<style scoped>\n",
       "    .dataframe tbody tr th:only-of-type {\n",
       "        vertical-align: middle;\n",
       "    }\n",
       "\n",
       "    .dataframe tbody tr th {\n",
       "        vertical-align: top;\n",
       "    }\n",
       "\n",
       "    .dataframe thead th {\n",
       "        text-align: right;\n",
       "    }\n",
       "</style>\n",
       "<table border=\"1\" class=\"dataframe\">\n",
       "  <thead>\n",
       "    <tr style=\"text-align: right;\">\n",
       "      <th></th>\n",
       "      <th>credit_score</th>\n",
       "      <th>age</th>\n",
       "      <th>tenure</th>\n",
       "      <th>balance</th>\n",
       "      <th>products</th>\n",
       "      <th>card</th>\n",
       "      <th>activ</th>\n",
       "      <th>salary</th>\n",
       "      <th>exited</th>\n",
       "      <th>geography_Germany</th>\n",
       "      <th>geography_Spain</th>\n",
       "      <th>gender_Male</th>\n",
       "    </tr>\n",
       "  </thead>\n",
       "  <tbody>\n",
       "    <tr>\n",
       "      <th>0</th>\n",
       "      <td>619</td>\n",
       "      <td>42</td>\n",
       "      <td>2.0</td>\n",
       "      <td>0.00</td>\n",
       "      <td>1</td>\n",
       "      <td>1</td>\n",
       "      <td>1</td>\n",
       "      <td>101348.88</td>\n",
       "      <td>1</td>\n",
       "      <td>0</td>\n",
       "      <td>0</td>\n",
       "      <td>0</td>\n",
       "    </tr>\n",
       "    <tr>\n",
       "      <th>1</th>\n",
       "      <td>608</td>\n",
       "      <td>41</td>\n",
       "      <td>1.0</td>\n",
       "      <td>83807.86</td>\n",
       "      <td>1</td>\n",
       "      <td>0</td>\n",
       "      <td>1</td>\n",
       "      <td>112542.58</td>\n",
       "      <td>0</td>\n",
       "      <td>0</td>\n",
       "      <td>1</td>\n",
       "      <td>0</td>\n",
       "    </tr>\n",
       "    <tr>\n",
       "      <th>2</th>\n",
       "      <td>502</td>\n",
       "      <td>42</td>\n",
       "      <td>8.0</td>\n",
       "      <td>159660.80</td>\n",
       "      <td>3</td>\n",
       "      <td>1</td>\n",
       "      <td>0</td>\n",
       "      <td>113931.57</td>\n",
       "      <td>1</td>\n",
       "      <td>0</td>\n",
       "      <td>0</td>\n",
       "      <td>0</td>\n",
       "    </tr>\n",
       "    <tr>\n",
       "      <th>3</th>\n",
       "      <td>699</td>\n",
       "      <td>39</td>\n",
       "      <td>1.0</td>\n",
       "      <td>0.00</td>\n",
       "      <td>2</td>\n",
       "      <td>0</td>\n",
       "      <td>0</td>\n",
       "      <td>93826.63</td>\n",
       "      <td>0</td>\n",
       "      <td>0</td>\n",
       "      <td>0</td>\n",
       "      <td>0</td>\n",
       "    </tr>\n",
       "    <tr>\n",
       "      <th>4</th>\n",
       "      <td>850</td>\n",
       "      <td>43</td>\n",
       "      <td>2.0</td>\n",
       "      <td>125510.82</td>\n",
       "      <td>1</td>\n",
       "      <td>1</td>\n",
       "      <td>1</td>\n",
       "      <td>79084.10</td>\n",
       "      <td>0</td>\n",
       "      <td>0</td>\n",
       "      <td>1</td>\n",
       "      <td>0</td>\n",
       "    </tr>\n",
       "    <tr>\n",
       "      <th>...</th>\n",
       "      <td>...</td>\n",
       "      <td>...</td>\n",
       "      <td>...</td>\n",
       "      <td>...</td>\n",
       "      <td>...</td>\n",
       "      <td>...</td>\n",
       "      <td>...</td>\n",
       "      <td>...</td>\n",
       "      <td>...</td>\n",
       "      <td>...</td>\n",
       "      <td>...</td>\n",
       "      <td>...</td>\n",
       "    </tr>\n",
       "    <tr>\n",
       "      <th>9995</th>\n",
       "      <td>771</td>\n",
       "      <td>39</td>\n",
       "      <td>5.0</td>\n",
       "      <td>0.00</td>\n",
       "      <td>2</td>\n",
       "      <td>1</td>\n",
       "      <td>0</td>\n",
       "      <td>96270.64</td>\n",
       "      <td>0</td>\n",
       "      <td>0</td>\n",
       "      <td>0</td>\n",
       "      <td>1</td>\n",
       "    </tr>\n",
       "    <tr>\n",
       "      <th>9996</th>\n",
       "      <td>516</td>\n",
       "      <td>35</td>\n",
       "      <td>10.0</td>\n",
       "      <td>57369.61</td>\n",
       "      <td>1</td>\n",
       "      <td>1</td>\n",
       "      <td>1</td>\n",
       "      <td>101699.77</td>\n",
       "      <td>0</td>\n",
       "      <td>0</td>\n",
       "      <td>0</td>\n",
       "      <td>1</td>\n",
       "    </tr>\n",
       "    <tr>\n",
       "      <th>9997</th>\n",
       "      <td>709</td>\n",
       "      <td>36</td>\n",
       "      <td>7.0</td>\n",
       "      <td>0.00</td>\n",
       "      <td>1</td>\n",
       "      <td>0</td>\n",
       "      <td>1</td>\n",
       "      <td>42085.58</td>\n",
       "      <td>1</td>\n",
       "      <td>0</td>\n",
       "      <td>0</td>\n",
       "      <td>0</td>\n",
       "    </tr>\n",
       "    <tr>\n",
       "      <th>9998</th>\n",
       "      <td>772</td>\n",
       "      <td>42</td>\n",
       "      <td>3.0</td>\n",
       "      <td>75075.31</td>\n",
       "      <td>2</td>\n",
       "      <td>1</td>\n",
       "      <td>0</td>\n",
       "      <td>92888.52</td>\n",
       "      <td>1</td>\n",
       "      <td>1</td>\n",
       "      <td>0</td>\n",
       "      <td>1</td>\n",
       "    </tr>\n",
       "    <tr>\n",
       "      <th>9999</th>\n",
       "      <td>792</td>\n",
       "      <td>28</td>\n",
       "      <td>-1.0</td>\n",
       "      <td>130142.79</td>\n",
       "      <td>1</td>\n",
       "      <td>1</td>\n",
       "      <td>0</td>\n",
       "      <td>38190.78</td>\n",
       "      <td>0</td>\n",
       "      <td>0</td>\n",
       "      <td>0</td>\n",
       "      <td>0</td>\n",
       "    </tr>\n",
       "  </tbody>\n",
       "</table>\n",
       "<p>10000 rows × 12 columns</p>\n",
       "</div>"
      ],
      "text/plain": [
       "      credit_score  age  tenure    balance  products  card  activ     salary  \\\n",
       "0              619   42     2.0       0.00         1     1      1  101348.88   \n",
       "1              608   41     1.0   83807.86         1     0      1  112542.58   \n",
       "2              502   42     8.0  159660.80         3     1      0  113931.57   \n",
       "3              699   39     1.0       0.00         2     0      0   93826.63   \n",
       "4              850   43     2.0  125510.82         1     1      1   79084.10   \n",
       "...            ...  ...     ...        ...       ...   ...    ...        ...   \n",
       "9995           771   39     5.0       0.00         2     1      0   96270.64   \n",
       "9996           516   35    10.0   57369.61         1     1      1  101699.77   \n",
       "9997           709   36     7.0       0.00         1     0      1   42085.58   \n",
       "9998           772   42     3.0   75075.31         2     1      0   92888.52   \n",
       "9999           792   28    -1.0  130142.79         1     1      0   38190.78   \n",
       "\n",
       "      exited  geography_Germany  geography_Spain  gender_Male  \n",
       "0          1                  0                0            0  \n",
       "1          0                  0                1            0  \n",
       "2          1                  0                0            0  \n",
       "3          0                  0                0            0  \n",
       "4          0                  0                1            0  \n",
       "...      ...                ...              ...          ...  \n",
       "9995       0                  0                0            1  \n",
       "9996       0                  0                0            1  \n",
       "9997       1                  0                0            0  \n",
       "9998       1                  1                0            1  \n",
       "9999       0                  0                0            0  \n",
       "\n",
       "[10000 rows x 12 columns]"
      ]
     },
     "execution_count": 34,
     "metadata": {},
     "output_type": "execute_result"
    }
   ],
   "source": [
    "data =  pd.get_dummies(df,drop_first=True)\n",
    "data"
   ]
  },
  {
   "cell_type": "markdown",
   "metadata": {},
   "source": [
    "**Вывод:**\n",
    "\n",
    "У нас получились во такие колонки:\n",
    "\n",
    "\n",
    "**Признаки:**\n",
    "\n",
    "\n",
    "\n",
    "- credit_score\t — кредитный рейтинг\n",
    "- geography — страна проживания\n",
    "- gender — пол\n",
    "- age — возраст\n",
    "- tenure — сколько лет человек является клиентом банка\n",
    "- balance — баланс на счёте\n",
    "- products\t — количество продуктов банка, используемых клиентом\n",
    "- card\t — наличие кредитной карты\n",
    "- activ — активность клиента\n",
    "- salary — предполагаемая зарплата\n",
    "\n",
    "**Целевой признак:**\n",
    "\n",
    "- exited — факт ухода клиента\n",
    "\n",
    "\n",
    "В новом датафрейме data мы получили 12 столбцов. Столбец geography содержал 3 класса, gender 2 класса — в результате мы получили только 2 и 1 столбцов соответственно, что позволяет избежать дамми-ловушки (англ. dummy trap, «ловушка фиктивных признаков»)"
   ]
  },
  {
   "cell_type": "markdown",
   "metadata": {},
   "source": [
    "### Разделим исходные данные на обучающую, валидационную и тестовую выборки"
   ]
  },
  {
   "cell_type": "raw",
   "metadata": {},
   "source": [
    "Разделите данные на обучающую и валидационную выборки:\n",
    "- Функция train_test_split() возвращает два новых набора данных — обучающий и валидационный"
   ]
  },
  {
   "cell_type": "code",
   "execution_count": 35,
   "metadata": {},
   "outputs": [],
   "source": [
    "df_train, df_valid = train_test_split(data, test_size=0.4, random_state=12345) "
   ]
  },
  {
   "cell_type": "markdown",
   "metadata": {},
   "source": [
    "0.2 разделим на валидационную, 0.2 – на тестовую:\n",
    "- Функция train_test_split() возвращает два новых набора данных — валидационный и тестовый"
   ]
  },
  {
   "cell_type": "code",
   "execution_count": 36,
   "metadata": {},
   "outputs": [],
   "source": [
    "df_valid, df_test = train_test_split(df_valid, test_size=0.5, random_state=12345)"
   ]
  },
  {
   "cell_type": "markdown",
   "metadata": {},
   "source": [
    "Объявим две переменные:\n",
    "- features (англ. «признаки») — запишем в неё признаки;\n",
    "- target (англ. «цель») — целевой признак."
   ]
  },
  {
   "cell_type": "code",
   "execution_count": 37,
   "metadata": {},
   "outputs": [],
   "source": [
    "# создадим переменные для признаков и целевого признака и запишем в них код\n",
    "features_train = df_train.drop(['exited'], axis=1)\n",
    "target_train = df_train['exited']\n",
    "features_valid = df_valid.drop(['exited'], axis=1)\n",
    "target_valid = df_valid['exited']\n",
    "features_test = df_test.drop(['exited'], axis=1)\n",
    "target_test = df_test['exited']"
   ]
  },
  {
   "cell_type": "code",
   "execution_count": 38,
   "metadata": {},
   "outputs": [
    {
     "data": {
      "text/plain": [
       "'Признаки обучающей выборки:'"
      ]
     },
     "metadata": {},
     "output_type": "display_data"
    },
    {
     "data": {
      "text/plain": [
       "(6000, 11)"
      ]
     },
     "metadata": {},
     "output_type": "display_data"
    },
    {
     "data": {
      "text/plain": [
       "'Целевой признак обучающей выборки:'"
      ]
     },
     "metadata": {},
     "output_type": "display_data"
    },
    {
     "data": {
      "text/plain": [
       "(6000,)"
      ]
     },
     "metadata": {},
     "output_type": "display_data"
    },
    {
     "data": {
      "text/plain": [
       "'Признаки валидационной выборки'"
      ]
     },
     "metadata": {},
     "output_type": "display_data"
    },
    {
     "data": {
      "text/plain": [
       "(2000, 11)"
      ]
     },
     "metadata": {},
     "output_type": "display_data"
    },
    {
     "data": {
      "text/plain": [
       "'Целевой признак валидационной выборки:'"
      ]
     },
     "metadata": {},
     "output_type": "display_data"
    },
    {
     "data": {
      "text/plain": [
       "(2000,)"
      ]
     },
     "metadata": {},
     "output_type": "display_data"
    },
    {
     "data": {
      "text/plain": [
       "'Признаки тестовой выборки:'"
      ]
     },
     "metadata": {},
     "output_type": "display_data"
    },
    {
     "data": {
      "text/plain": [
       "(2000, 11)"
      ]
     },
     "metadata": {},
     "output_type": "display_data"
    },
    {
     "data": {
      "text/plain": [
       "'Целевой признак тестовой выборки:'"
      ]
     },
     "metadata": {},
     "output_type": "display_data"
    },
    {
     "data": {
      "text/plain": [
       "(2000,)"
      ]
     },
     "metadata": {},
     "output_type": "display_data"
    }
   ],
   "source": [
    "display('Признаки обучающей выборки:',features_train.shape,  \n",
    "      'Целевой признак обучающей выборки:', target_train.shape, \n",
    "      'Признаки валидационной выборки', features_valid.shape,\n",
    "      'Целевой признак валидационной выборки:',target_valid.shape,\n",
    "      'Признаки тестовой выборки:',features_test.shape,  \n",
    "      'Целевой признак тестовой выборки:', target_test.shape)"
   ]
  },
  {
   "cell_type": "markdown",
   "metadata": {},
   "source": [
    "**Вывод:**\n",
    "\n",
    "- Обучающая модель   - 60 % обучения модели\n",
    "- Валидационная модель  - 20 % для выбора лучшего алгоритма и оптимальных параметров\n",
    "- Тетовая модель - 20 % для финального теста лучшей модели."
   ]
  },
  {
   "cell_type": "markdown",
   "metadata": {},
   "source": [
    "### Стандартизируем численные признаки"
   ]
  },
  {
   "cell_type": "markdown",
   "metadata": {},
   "source": [
    "Что делать, если у признаков разный масштаб? Стандартизировать их!Создадим объект структуры StandardScaler() и настром его на обучающих данных"
   ]
  },
  {
   "cell_type": "code",
   "execution_count": 39,
   "metadata": {},
   "outputs": [
    {
     "data": {
      "text/html": [
       "<div>\n",
       "<style scoped>\n",
       "    .dataframe tbody tr th:only-of-type {\n",
       "        vertical-align: middle;\n",
       "    }\n",
       "\n",
       "    .dataframe tbody tr th {\n",
       "        vertical-align: top;\n",
       "    }\n",
       "\n",
       "    .dataframe thead th {\n",
       "        text-align: right;\n",
       "    }\n",
       "</style>\n",
       "<table border=\"1\" class=\"dataframe\">\n",
       "  <thead>\n",
       "    <tr style=\"text-align: right;\">\n",
       "      <th></th>\n",
       "      <th>credit_score</th>\n",
       "      <th>age</th>\n",
       "      <th>tenure</th>\n",
       "      <th>balance</th>\n",
       "      <th>products</th>\n",
       "      <th>card</th>\n",
       "      <th>activ</th>\n",
       "      <th>salary</th>\n",
       "      <th>geography_Germany</th>\n",
       "      <th>geography_Spain</th>\n",
       "      <th>gender_Male</th>\n",
       "    </tr>\n",
       "  </thead>\n",
       "  <tbody>\n",
       "    <tr>\n",
       "      <th>7479</th>\n",
       "      <td>-0.886751</td>\n",
       "      <td>-0.373192</td>\n",
       "      <td>1.083651</td>\n",
       "      <td>1.232271</td>\n",
       "      <td>-0.891560</td>\n",
       "      <td>1</td>\n",
       "      <td>0</td>\n",
       "      <td>-0.187705</td>\n",
       "      <td>0</td>\n",
       "      <td>1</td>\n",
       "      <td>1</td>\n",
       "    </tr>\n",
       "    <tr>\n",
       "      <th>3411</th>\n",
       "      <td>0.608663</td>\n",
       "      <td>-0.183385</td>\n",
       "      <td>1.083651</td>\n",
       "      <td>0.600563</td>\n",
       "      <td>-0.891560</td>\n",
       "      <td>0</td>\n",
       "      <td>0</td>\n",
       "      <td>-0.333945</td>\n",
       "      <td>0</td>\n",
       "      <td>0</td>\n",
       "      <td>0</td>\n",
       "    </tr>\n",
       "    <tr>\n",
       "      <th>6027</th>\n",
       "      <td>2.052152</td>\n",
       "      <td>0.480939</td>\n",
       "      <td>-0.452862</td>\n",
       "      <td>1.027098</td>\n",
       "      <td>0.830152</td>\n",
       "      <td>0</td>\n",
       "      <td>1</td>\n",
       "      <td>1.503095</td>\n",
       "      <td>1</td>\n",
       "      <td>0</td>\n",
       "      <td>1</td>\n",
       "    </tr>\n",
       "    <tr>\n",
       "      <th>1247</th>\n",
       "      <td>-1.457915</td>\n",
       "      <td>-1.417129</td>\n",
       "      <td>0.469046</td>\n",
       "      <td>-1.233163</td>\n",
       "      <td>0.830152</td>\n",
       "      <td>1</td>\n",
       "      <td>0</td>\n",
       "      <td>-1.071061</td>\n",
       "      <td>0</td>\n",
       "      <td>0</td>\n",
       "      <td>1</td>\n",
       "    </tr>\n",
       "    <tr>\n",
       "      <th>3716</th>\n",
       "      <td>0.130961</td>\n",
       "      <td>-1.132419</td>\n",
       "      <td>-0.760164</td>\n",
       "      <td>1.140475</td>\n",
       "      <td>-0.891560</td>\n",
       "      <td>0</td>\n",
       "      <td>0</td>\n",
       "      <td>1.524268</td>\n",
       "      <td>1</td>\n",
       "      <td>0</td>\n",
       "      <td>0</td>\n",
       "    </tr>\n",
       "  </tbody>\n",
       "</table>\n",
       "</div>"
      ],
      "text/plain": [
       "      credit_score       age    tenure   balance  products  card  activ  \\\n",
       "7479     -0.886751 -0.373192  1.083651  1.232271 -0.891560     1      0   \n",
       "3411      0.608663 -0.183385  1.083651  0.600563 -0.891560     0      0   \n",
       "6027      2.052152  0.480939 -0.452862  1.027098  0.830152     0      1   \n",
       "1247     -1.457915 -1.417129  0.469046 -1.233163  0.830152     1      0   \n",
       "3716      0.130961 -1.132419 -0.760164  1.140475 -0.891560     0      0   \n",
       "\n",
       "        salary  geography_Germany  geography_Spain  gender_Male  \n",
       "7479 -0.187705                  0                1            1  \n",
       "3411 -0.333945                  0                0            0  \n",
       "6027  1.503095                  1                0            1  \n",
       "1247 -1.071061                  0                0            1  \n",
       "3716  1.524268                  1                0            0  "
      ]
     },
     "execution_count": 39,
     "metadata": {},
     "output_type": "execute_result"
    }
   ],
   "source": [
    "numeric = ['credit_score', 'age', 'tenure', 'balance', 'products','salary']\n",
    "scaler = StandardScaler()\n",
    "scaler.fit(features_train[numeric]) \n",
    "features_train[numeric] = scaler.transform(features_train[numeric])\n",
    "features_train.head()"
   ]
  },
  {
   "cell_type": "code",
   "execution_count": 40,
   "metadata": {},
   "outputs": [
    {
     "data": {
      "text/html": [
       "<div>\n",
       "<style scoped>\n",
       "    .dataframe tbody tr th:only-of-type {\n",
       "        vertical-align: middle;\n",
       "    }\n",
       "\n",
       "    .dataframe tbody tr th {\n",
       "        vertical-align: top;\n",
       "    }\n",
       "\n",
       "    .dataframe thead th {\n",
       "        text-align: right;\n",
       "    }\n",
       "</style>\n",
       "<table border=\"1\" class=\"dataframe\">\n",
       "  <thead>\n",
       "    <tr style=\"text-align: right;\">\n",
       "      <th></th>\n",
       "      <th>credit_score</th>\n",
       "      <th>age</th>\n",
       "      <th>tenure</th>\n",
       "      <th>balance</th>\n",
       "      <th>products</th>\n",
       "      <th>card</th>\n",
       "      <th>activ</th>\n",
       "      <th>salary</th>\n",
       "      <th>geography_Germany</th>\n",
       "      <th>geography_Spain</th>\n",
       "      <th>gender_Male</th>\n",
       "    </tr>\n",
       "  </thead>\n",
       "  <tbody>\n",
       "    <tr>\n",
       "      <th>8532</th>\n",
       "      <td>-0.699824</td>\n",
       "      <td>-0.373192</td>\n",
       "      <td>-0.760164</td>\n",
       "      <td>-1.233163</td>\n",
       "      <td>0.830152</td>\n",
       "      <td>1</td>\n",
       "      <td>0</td>\n",
       "      <td>-0.015173</td>\n",
       "      <td>0</td>\n",
       "      <td>0</td>\n",
       "      <td>0</td>\n",
       "    </tr>\n",
       "    <tr>\n",
       "      <th>5799</th>\n",
       "      <td>-0.284431</td>\n",
       "      <td>0.575842</td>\n",
       "      <td>-0.452862</td>\n",
       "      <td>-1.233163</td>\n",
       "      <td>-0.891560</td>\n",
       "      <td>1</td>\n",
       "      <td>1</td>\n",
       "      <td>1.471724</td>\n",
       "      <td>0</td>\n",
       "      <td>0</td>\n",
       "      <td>0</td>\n",
       "    </tr>\n",
       "    <tr>\n",
       "      <th>5511</th>\n",
       "      <td>0.151731</td>\n",
       "      <td>-0.657902</td>\n",
       "      <td>-1.374769</td>\n",
       "      <td>0.438711</td>\n",
       "      <td>-0.891560</td>\n",
       "      <td>1</td>\n",
       "      <td>0</td>\n",
       "      <td>-1.367107</td>\n",
       "      <td>1</td>\n",
       "      <td>0</td>\n",
       "      <td>1</td>\n",
       "    </tr>\n",
       "    <tr>\n",
       "      <th>7365</th>\n",
       "      <td>-0.876366</td>\n",
       "      <td>-0.278288</td>\n",
       "      <td>1.698257</td>\n",
       "      <td>1.239884</td>\n",
       "      <td>-0.891560</td>\n",
       "      <td>1</td>\n",
       "      <td>1</td>\n",
       "      <td>-0.786517</td>\n",
       "      <td>0</td>\n",
       "      <td>1</td>\n",
       "      <td>0</td>\n",
       "    </tr>\n",
       "    <tr>\n",
       "      <th>7367</th>\n",
       "      <td>-0.481743</td>\n",
       "      <td>0.291132</td>\n",
       "      <td>1.698257</td>\n",
       "      <td>-1.233163</td>\n",
       "      <td>0.830152</td>\n",
       "      <td>1</td>\n",
       "      <td>0</td>\n",
       "      <td>1.358533</td>\n",
       "      <td>0</td>\n",
       "      <td>1</td>\n",
       "      <td>1</td>\n",
       "    </tr>\n",
       "  </tbody>\n",
       "</table>\n",
       "</div>"
      ],
      "text/plain": [
       "      credit_score       age    tenure   balance  products  card  activ  \\\n",
       "8532     -0.699824 -0.373192 -0.760164 -1.233163  0.830152     1      0   \n",
       "5799     -0.284431  0.575842 -0.452862 -1.233163 -0.891560     1      1   \n",
       "5511      0.151731 -0.657902 -1.374769  0.438711 -0.891560     1      0   \n",
       "7365     -0.876366 -0.278288  1.698257  1.239884 -0.891560     1      1   \n",
       "7367     -0.481743  0.291132  1.698257 -1.233163  0.830152     1      0   \n",
       "\n",
       "        salary  geography_Germany  geography_Spain  gender_Male  \n",
       "8532 -0.015173                  0                0            0  \n",
       "5799  1.471724                  0                0            0  \n",
       "5511 -1.367107                  1                0            1  \n",
       "7365 -0.786517                  0                1            0  \n",
       "7367  1.358533                  0                1            1  "
      ]
     },
     "execution_count": 40,
     "metadata": {},
     "output_type": "execute_result"
    }
   ],
   "source": [
    "features_valid[numeric]  = scaler.transform(features_valid[numeric])\n",
    "features_valid.head()"
   ]
  },
  {
   "cell_type": "code",
   "execution_count": 41,
   "metadata": {},
   "outputs": [
    {
     "data": {
      "text/html": [
       "<div>\n",
       "<style scoped>\n",
       "    .dataframe tbody tr th:only-of-type {\n",
       "        vertical-align: middle;\n",
       "    }\n",
       "\n",
       "    .dataframe tbody tr th {\n",
       "        vertical-align: top;\n",
       "    }\n",
       "\n",
       "    .dataframe thead th {\n",
       "        text-align: right;\n",
       "    }\n",
       "</style>\n",
       "<table border=\"1\" class=\"dataframe\">\n",
       "  <thead>\n",
       "    <tr style=\"text-align: right;\">\n",
       "      <th></th>\n",
       "      <th>credit_score</th>\n",
       "      <th>age</th>\n",
       "      <th>tenure</th>\n",
       "      <th>balance</th>\n",
       "      <th>products</th>\n",
       "      <th>card</th>\n",
       "      <th>activ</th>\n",
       "      <th>salary</th>\n",
       "      <th>geography_Germany</th>\n",
       "      <th>geography_Spain</th>\n",
       "      <th>gender_Male</th>\n",
       "    </tr>\n",
       "  </thead>\n",
       "  <tbody>\n",
       "    <tr>\n",
       "      <th>7041</th>\n",
       "      <td>-2.226392</td>\n",
       "      <td>-0.088482</td>\n",
       "      <td>-0.760164</td>\n",
       "      <td>-1.233163</td>\n",
       "      <td>0.830152</td>\n",
       "      <td>1</td>\n",
       "      <td>0</td>\n",
       "      <td>0.647083</td>\n",
       "      <td>0</td>\n",
       "      <td>0</td>\n",
       "      <td>1</td>\n",
       "    </tr>\n",
       "    <tr>\n",
       "      <th>5709</th>\n",
       "      <td>-0.087120</td>\n",
       "      <td>0.006422</td>\n",
       "      <td>1.390954</td>\n",
       "      <td>-1.233163</td>\n",
       "      <td>-0.891560</td>\n",
       "      <td>1</td>\n",
       "      <td>0</td>\n",
       "      <td>-1.658410</td>\n",
       "      <td>0</td>\n",
       "      <td>0</td>\n",
       "      <td>0</td>\n",
       "    </tr>\n",
       "    <tr>\n",
       "      <th>7117</th>\n",
       "      <td>-0.917905</td>\n",
       "      <td>-0.752805</td>\n",
       "      <td>0.161744</td>\n",
       "      <td>0.722307</td>\n",
       "      <td>-0.891560</td>\n",
       "      <td>1</td>\n",
       "      <td>1</td>\n",
       "      <td>-1.369334</td>\n",
       "      <td>0</td>\n",
       "      <td>1</td>\n",
       "      <td>1</td>\n",
       "    </tr>\n",
       "    <tr>\n",
       "      <th>7775</th>\n",
       "      <td>-0.253277</td>\n",
       "      <td>0.101325</td>\n",
       "      <td>1.698257</td>\n",
       "      <td>-1.233163</td>\n",
       "      <td>0.830152</td>\n",
       "      <td>1</td>\n",
       "      <td>0</td>\n",
       "      <td>0.075086</td>\n",
       "      <td>0</td>\n",
       "      <td>1</td>\n",
       "      <td>1</td>\n",
       "    </tr>\n",
       "    <tr>\n",
       "      <th>8735</th>\n",
       "      <td>0.785204</td>\n",
       "      <td>-0.847708</td>\n",
       "      <td>1.698257</td>\n",
       "      <td>0.615625</td>\n",
       "      <td>-0.891560</td>\n",
       "      <td>0</td>\n",
       "      <td>1</td>\n",
       "      <td>-1.070919</td>\n",
       "      <td>0</td>\n",
       "      <td>0</td>\n",
       "      <td>1</td>\n",
       "    </tr>\n",
       "  </tbody>\n",
       "</table>\n",
       "</div>"
      ],
      "text/plain": [
       "      credit_score       age    tenure   balance  products  card  activ  \\\n",
       "7041     -2.226392 -0.088482 -0.760164 -1.233163  0.830152     1      0   \n",
       "5709     -0.087120  0.006422  1.390954 -1.233163 -0.891560     1      0   \n",
       "7117     -0.917905 -0.752805  0.161744  0.722307 -0.891560     1      1   \n",
       "7775     -0.253277  0.101325  1.698257 -1.233163  0.830152     1      0   \n",
       "8735      0.785204 -0.847708  1.698257  0.615625 -0.891560     0      1   \n",
       "\n",
       "        salary  geography_Germany  geography_Spain  gender_Male  \n",
       "7041  0.647083                  0                0            1  \n",
       "5709 -1.658410                  0                0            0  \n",
       "7117 -1.369334                  0                1            1  \n",
       "7775  0.075086                  0                1            1  \n",
       "8735 -1.070919                  0                0            1  "
      ]
     },
     "execution_count": 41,
     "metadata": {},
     "output_type": "execute_result"
    }
   ],
   "source": [
    "features_test[numeric] = scaler.transform(features_test[numeric])\n",
    "features_test.head()"
   ]
  },
  {
   "cell_type": "markdown",
   "metadata": {},
   "source": [
    "**Вывод:**\n",
    "\n",
    "- Привели к одному масштабу все три выборки.\n"
   ]
  },
  {
   "cell_type": "markdown",
   "metadata": {},
   "source": [
    "### Баланс классов"
   ]
  },
  {
   "cell_type": "code",
   "execution_count": 42,
   "metadata": {},
   "outputs": [
    {
     "data": {
      "text/plain": [
       "0    0.800667\n",
       "1    0.199333\n",
       "Name: exited, dtype: float64"
      ]
     },
     "execution_count": 42,
     "metadata": {},
     "output_type": "execute_result"
    }
   ],
   "source": [
    "target_train.value_counts(normalize = 1)"
   ]
  },
  {
   "cell_type": "code",
   "execution_count": 43,
   "metadata": {},
   "outputs": [
    {
     "data": {
      "text/plain": [
       "0    0.791\n",
       "1    0.209\n",
       "Name: exited, dtype: float64"
      ]
     },
     "execution_count": 43,
     "metadata": {},
     "output_type": "execute_result"
    }
   ],
   "source": [
    "target_valid.value_counts(normalize = 1)"
   ]
  },
  {
   "cell_type": "markdown",
   "metadata": {},
   "source": [
    "**Вывод:**\n",
    "\n",
    "У обучающией и валидационной выборок наблюдается заметный дисбаланс класов.\n",
    "Можно ожидать, что результаты предсказаний моделей будут сильно склоняться к одному варианту ответов."
   ]
  },
  {
   "cell_type": "markdown",
   "metadata": {},
   "source": [
    "## Проведение исследовательского анализа данных"
   ]
  },
  {
   "cell_type": "markdown",
   "metadata": {},
   "source": [
    "Для исследовательского обучения используем три модели"
   ]
  },
  {
   "cell_type": "markdown",
   "metadata": {},
   "source": [
    "### Решающее дерево"
   ]
  },
  {
   "cell_type": "markdown",
   "metadata": {},
   "source": [
    "Рассмотрим одну популярную модель — **решающее дерево**. Оно может описывать процесс принятия решения почти в любой ситуации."
   ]
  },
  {
   "cell_type": "code",
   "execution_count": 44,
   "metadata": {},
   "outputs": [
    {
     "name": "stdout",
     "output_type": "stream",
     "text": [
      "Максимальная глубина деревьев =  1 : Accuracy наилучшей модели на валидационной выборке =  0.791\n",
      "Максимальная глубина деревьев =  2 : Accuracy наилучшей модели на валидационной выборке =  0.824\n",
      "Максимальная глубина деревьев =  3 : Accuracy наилучшей модели на валидационной выборке =  0.838\n",
      "Максимальная глубина деревьев =  4 : Accuracy наилучшей модели на валидационной выборке =  0.852\n",
      "Максимальная глубина деревьев =  5 : Accuracy наилучшей модели на валидационной выборке =  0.853\n",
      "Максимальная глубина деревьев =  6 : Accuracy наилучшей модели на валидационной выборке =  0.858\n",
      "Максимальная глубина деревьев =  7 : Accuracy наилучшей модели на валидационной выборке =  0.8465\n",
      "Максимальная глубина деревьев =  8 : Accuracy наилучшей модели на валидационной выборке =  0.847\n",
      "Максимальная глубина деревьев =  9 : Accuracy наилучшей модели на валидационной выборке =  0.8465\n"
     ]
    }
   ],
   "source": [
    "for depth in range(1, 10):\n",
    "    # обучим модель с заданной глубиной дерева\n",
    "    model_DTC = DecisionTreeClassifier(random_state=12345, max_depth=depth)\n",
    "    # обучим модель\n",
    "    model_DTC.fit(features_train, target_train)\n",
    "    # найдем предсказания на валидационной выборке \n",
    "    predictions_valid = model_DTC.predict(features_valid)\n",
    "    print(\"Максимальная глубина деревьев = \", depth, \": \", end='')\n",
    "    print(\"Accuracy наилучшей модели на валидационной выборке = \",accuracy_score(target_valid, predictions_valid))   "
   ]
  },
  {
   "cell_type": "code",
   "execution_count": 45,
   "metadata": {},
   "outputs": [
    {
     "name": "stdout",
     "output_type": "stream",
     "text": [
      "Максимальная глубина деревьев =  1 : F1-мера решающего дерева =  0.0\n",
      "Максимальная глубина деревьев =  2 : F1-мера решающего дерева =  0.5217391304347825\n",
      "Максимальная глубина деревьев =  3 : F1-мера решающего дерева =  0.4234875444839857\n",
      "Максимальная глубина деревьев =  4 : F1-мера решающего дерева =  0.5528700906344411\n",
      "Максимальная глубина деревьев =  5 : F1-мера решающего дерева =  0.5406249999999999\n",
      "Максимальная глубина деревьев =  6 : F1-мера решающего дерева =  0.5696969696969697\n",
      "Максимальная глубина деревьев =  7 : F1-мера решающего дерева =  0.5255023183925811\n",
      "Максимальная глубина деревьев =  8 : F1-мера решающего дерева =  0.5335365853658538\n",
      "Максимальная глубина деревьев =  9 : F1-мера решающего дерева =  0.5633001422475106\n"
     ]
    }
   ],
   "source": [
    "for depth in range(1, 10):\n",
    "    # обучим модель с заданной глубиной дерева\n",
    "    model_DTC = DecisionTreeClassifier(random_state=12345, max_depth=depth)\n",
    "    # обучим модель\n",
    "    model_DTC.fit(features_train, target_train)\n",
    "    # найдем предсказания на валидационной выборке \n",
    "    predictions_valid = model_DTC.predict(features_valid)\n",
    "    f1_score_DTC = f1_score(target_valid,predictions_valid)\n",
    "    print(\"Максимальная глубина деревьев = \", depth, \": \", end='')\n",
    "    print(\"F1-мера решающего дерева = \",f1_score(target_valid, predictions_valid))   "
   ]
  },
  {
   "cell_type": "markdown",
   "metadata": {},
   "source": [
    "**Вывод:**\n",
    "\n",
    "F1-мера решающего дерева - 0.5696 , когда задано количество деревьев 6."
   ]
  },
  {
   "cell_type": "code",
   "execution_count": 46,
   "metadata": {},
   "outputs": [
    {
     "name": "stdout",
     "output_type": "stream",
     "text": [
      "Accuracy: 0.858\n"
     ]
    }
   ],
   "source": [
    "model_DTC = DecisionTreeClassifier(random_state=12345, max_depth=6)\n",
    "model_DTC.fit(features_train, target_train)\n",
    "predictions_valid_DTC = model_DTC.predict(features_valid)\n",
    "accuracy_valid_DTC = accuracy_score(target_valid, predictions_valid_DTC)\n",
    "print('Accuracy:', accuracy_valid_DTC)   "
   ]
  },
  {
   "cell_type": "markdown",
   "metadata": {},
   "source": [
    "<div class=\"alert alert-block alert-info\">\n",
    "<b>Совет: </b> Лучше было бы печатать f-меру, а не точность.\n",
    "</div>"
   ]
  },
  {
   "cell_type": "markdown",
   "metadata": {},
   "source": [
    "**Частота классов решающего дерева:**"
   ]
  },
  {
   "cell_type": "code",
   "execution_count": 47,
   "metadata": {},
   "outputs": [
    {
     "name": "stdout",
     "output_type": "stream",
     "text": [
      "0    0.879\n",
      "1    0.121\n",
      "dtype: float64\n"
     ]
    },
    {
     "data": {
      "text/plain": [
       "<AxesSubplot:>"
      ]
     },
     "execution_count": 47,
     "metadata": {},
     "output_type": "execute_result"
    },
    {
     "data": {
      "image/png": "[encoded data removed]",
      "text/plain": [
       "<Figure size 432x288 with 1 Axes>"
      ]
     },
     "metadata": {
      "needs_background": "light"
     },
     "output_type": "display_data"
    }
   ],
   "source": [
    "model_DTC = DecisionTreeClassifier(random_state=12345, max_depth=6)\n",
    "model_DTC.fit(features_train, target_train)\n",
    "predictions_valid_DTC  = pd.Series(model_DTC.predict(features_valid))\n",
    "class_frequency = predictions_valid_DTC.value_counts(normalize=True)\n",
    "print(class_frequency)\n",
    "class_frequency.plot(kind='bar')         "
   ]
  },
  {
   "cell_type": "markdown",
   "metadata": {},
   "source": [
    "**Матрица ошибок решающего дерева:**"
   ]
  },
  {
   "cell_type": "code",
   "execution_count": 48,
   "metadata": {},
   "outputs": [
    {
     "name": "stdout",
     "output_type": "stream",
     "text": [
      "[[1528   54]\n",
      " [ 230  188]]\n"
     ]
    }
   ],
   "source": [
    "model_DTC = DecisionTreeClassifier(random_state=12345, max_depth=6)\n",
    "model_DTC.fit(features_train, target_train)\n",
    "predictions_valid_DTC  = model_DTC.predict(features_valid)\n",
    "print(confusion_matrix(target_valid, predictions_valid_DTC)) "
   ]
  },
  {
   "cell_type": "markdown",
   "metadata": {},
   "source": [
    "**Полнота решающего дерева:**"
   ]
  },
  {
   "cell_type": "markdown",
   "metadata": {},
   "source": [
    "Полнота — это доля TP-ответов среди всех, у которых истинная метка 1. Хорошо, когда значение recall близко к единице: модель хорошо ищет положительные объекты. Если ближе к нулю — модель надо перепроверить и починить."
   ]
  },
  {
   "cell_type": "code",
   "execution_count": 49,
   "metadata": {},
   "outputs": [
    {
     "name": "stdout",
     "output_type": "stream",
     "text": [
      "Полнота решающего дерева: 0.44976076555023925\n"
     ]
    }
   ],
   "source": [
    "model_DTC = DecisionTreeClassifier(random_state=12345, max_depth=6)\n",
    "model_DTC.fit(features_train, target_train)\n",
    "predictions_valid_DTC  = model_DTC.predict(features_valid)\n",
    "recall_score_DTC = recall_score(target_valid,predictions_valid_DTC)\n",
    "print('Полнота решающего дерева:', recall_score_DTC)"
   ]
  },
  {
   "cell_type": "markdown",
   "metadata": {},
   "source": [
    "**Точность решающего дерева:**"
   ]
  },
  {
   "cell_type": "code",
   "execution_count": 50,
   "metadata": {},
   "outputs": [
    {
     "name": "stdout",
     "output_type": "stream",
     "text": [
      "Точность решающего дерева: 0.7768595041322314\n"
     ]
    }
   ],
   "source": [
    "model_DTC = DecisionTreeClassifier(random_state=12345, max_depth=6)\n",
    "model_DTC.fit(features_train, target_train)\n",
    "predictions_valid_DTC  = model_DTC.predict(features_valid)\n",
    "precision_score_DTC = precision_score(target_valid,predictions_valid_DTC)\n",
    "print('Точность решающего дерева:',precision_score_DTC)"
   ]
  },
  {
   "cell_type": "markdown",
   "metadata": {},
   "source": [
    "По отдельности полнота и точность не слишком информативны. Нужно одновременно повышать показатели обеих. Или обратиться к новой метрике, которая их объединит.\n",
    "Полнота и точность оценивают качество прогноза положительного класса с разных позиций. Recall описывает, как хорошо модель разобралась в особенностях этого класса и распознала его. Precision выявляет, не переусердствует ли модель, присваивая положительные метки.\n",
    "Важны обе метрики. Контролировать их параллельно помогают агрегирующие метрики, одна из которых — F1-мера (англ. F1-score). Это среднее гармоническое полноты и точности. Единица в F1 означает, что соотношение полноты и точности равно 1:1."
   ]
  },
  {
   "cell_type": "markdown",
   "metadata": {},
   "source": [
    "**F1-мера решающего дерева:**"
   ]
  },
  {
   "cell_type": "code",
   "execution_count": 51,
   "metadata": {},
   "outputs": [
    {
     "name": "stdout",
     "output_type": "stream",
     "text": [
      "F1-мера решающего дерева: 0.5696969696969697\n"
     ]
    }
   ],
   "source": [
    "model_DTC = DecisionTreeClassifier(random_state=12345, max_depth=6)\n",
    "model_DTC.fit(features_train, target_train)\n",
    "predictions_valid_DTC  = model_DTC.predict(features_valid)\n",
    "f1_score_DTC = f1_score(target_valid,predictions_valid_DTC)\n",
    "print('F1-мера решающего дерева:',f1_score_DTC)"
   ]
  },
  {
   "cell_type": "markdown",
   "metadata": {},
   "source": [
    "Низкое значние F1-меры свидетельствует о низком качестве модели, проблема в точности"
   ]
  },
  {
   "cell_type": "markdown",
   "metadata": {},
   "source": [
    "**PR-кривая решающего дерева:**"
   ]
  },
  {
   "cell_type": "code",
   "execution_count": 52,
   "metadata": {},
   "outputs": [
    {
     "data": {
      "image/png": "[encoded data removed]",
      "text/plain": [
       "<Figure size 432x432 with 1 Axes>"
      ]
     },
     "metadata": {
      "needs_background": "light"
     },
     "output_type": "display_data"
    }
   ],
   "source": [
    "model_DTC = DecisionTreeClassifier(random_state=12345, max_depth=6)\n",
    "model_DTC.fit(features_train, target_train)\n",
    "\n",
    "probabilities_valid = model_DTC.predict_proba(features_valid)\n",
    "precision, recall, thresholds = precision_recall_curve(target_valid, probabilities_valid[:, 1])\n",
    "\n",
    "plt.figure(figsize=(6, 6))\n",
    "plt.step(recall, precision, where='post')\n",
    "plt.xlabel('Recall')\n",
    "plt.ylabel('Precision')\n",
    "plt.ylim([0.0, 1.05])\n",
    "plt.xlim([0.0, 1.0])\n",
    "plt.title('Кривая Precision-Recall')\n",
    "plt.show() "
   ]
  },
  {
   "cell_type": "markdown",
   "metadata": {},
   "source": [
    "Чтобы выявить, как сильно наша модель отличается от случайной, посчитаем площадь под ROC-кривой — AUC-ROC (от англ. Area Under Curve ROC, «площадь под ROC-кривой»). Это новая метрика качества, которая изменяется от 0 до 1. "
   ]
  },
  {
   "cell_type": "markdown",
   "metadata": {},
   "source": [
    "**ROC-кривая решающего дерева:**"
   ]
  },
  {
   "cell_type": "code",
   "execution_count": 53,
   "metadata": {},
   "outputs": [
    {
     "name": "stdout",
     "output_type": "stream",
     "text": [
      "Auc_roc: 0.8164631712023421\n"
     ]
    },
    {
     "data": {
      "image/png": "[encoded data removed]",
      "text/plain": [
       "<Figure size 432x288 with 1 Axes>"
      ]
     },
     "metadata": {
      "needs_background": "light"
     },
     "output_type": "display_data"
    }
   ],
   "source": [
    "model_DTC = DecisionTreeClassifier(random_state=12345, max_depth=6)\n",
    "model_DTC.fit(features_train, target_train)\n",
    "probabilities_valid = model_DTC.predict_proba(features_valid)\n",
    "probabilities_one_valid = probabilities_valid[:, 1]\n",
    "auc_roc_DTC = roc_auc_score(target_valid, probabilities_one_valid)\n",
    "print('Auc_roc:',auc_roc_DTC)\n",
    "fpr, tpr, thresholds = roc_curve(target_valid, probabilities_one_valid) \n",
    "plt.figure()\n",
    "plt.plot(fpr, tpr)\n",
    "plt.plot([0, 1], [0, 1], linestyle='--')\n",
    "plt.xlim([0.0, 1.0])\n",
    "plt.ylim([0.0, 1.0])\n",
    "plt.xlabel('False Positive Rate')\n",
    "plt.ylabel('True Positive Rate')\n",
    "plt.title('ROC-кривая')\n",
    "plt.show() "
   ]
  },
  {
   "cell_type": "markdown",
   "metadata": {},
   "source": [
    "**Вывод:**\n",
    "\n",
    "- Судя по валидационной выборке решающее дерево - 0.858.\n",
    "- Полнота  - 0.4497\n",
    "- Точность  - 0.7768\n",
    "- F1- мера  - 0.5696\n",
    "- Auc_roc - 0.8164"
   ]
  },
  {
   "cell_type": "markdown",
   "metadata": {},
   "source": [
    "###  Случайный лес"
   ]
  },
  {
   "cell_type": "markdown",
   "metadata": {},
   "source": [
    "Попробуем алгоритм классификации — **случайный лес** (англ. random forest). Алгоритм обучает большое количество независимых друг от друга деревьев, а потом принимает решение на основе голосования. Случайный лес помогает улучшить результат предсказания и избежать переобучения."
   ]
  },
  {
   "cell_type": "code",
   "execution_count": 54,
   "metadata": {},
   "outputs": [
    {
     "name": "stdout",
     "output_type": "stream",
     "text": [
      "Число деревьев =  1 : Accuracy наилучшей модели на валидационной выборке = 0.764\n",
      "Число деревьев =  2 : Accuracy наилучшей модели на валидационной выборке = 0.8155\n",
      "Число деревьев =  3 : Accuracy наилучшей модели на валидационной выборке = 0.8175\n",
      "Число деревьев =  4 : Accuracy наилучшей модели на валидационной выборке = 0.832\n",
      "Число деревьев =  5 : Accuracy наилучшей модели на валидационной выборке = 0.836\n",
      "Число деревьев =  6 : Accuracy наилучшей модели на валидационной выборке = 0.843\n",
      "Число деревьев =  7 : Accuracy наилучшей модели на валидационной выборке = 0.848\n",
      "Число деревьев =  8 : Accuracy наилучшей модели на валидационной выборке = 0.8495\n",
      "Число деревьев =  9 : Accuracy наилучшей модели на валидационной выборке = 0.85\n",
      "Число деревьев =  12 : Accuracy наилучшей модели на валидационной выборке = 0.854\n",
      "Число деревьев =  14 : Accuracy наилучшей модели на валидационной выборке = 0.857\n",
      "Число деревьев =  19 : Accuracy наилучшей модели на валидационной выборке = 0.858\n",
      "Число деревьев =  21 : Accuracy наилучшей модели на валидационной выборке = 0.86\n",
      "Число деревьев =  24 : Accuracy наилучшей модели на валидационной выборке = 0.8615\n",
      "Число деревьев =  38 : Accuracy наилучшей модели на валидационной выборке = 0.862\n",
      "Число деревьев =  39 : Accuracy наилучшей модели на валидационной выборке = 0.863\n",
      "Число деревьев =  40 : Accuracy наилучшей модели на валидационной выборке = 0.864\n",
      "Число деревьев =  41 : Accuracy наилучшей модели на валидационной выборке = 0.8645\n"
     ]
    }
   ],
   "source": [
    "best_model = None\n",
    "best_result = 0\n",
    "for est in range(1,50):\n",
    "    model_RFC = RandomForestClassifier(random_state=12345, n_estimators=est) # обучим модель с заданным количеством деревьев\n",
    "    model_RFC.fit(features_train, target_train) # обучим модель на тренировочной выборке\n",
    "    result = model_RFC.score(features_valid, target_valid) # посчитаем качество модели на валидационной выборке\n",
    "    if result > best_result:\n",
    "        best_model = model_RFC # сохраним наилучшую модель\n",
    "        best_result = result #  сохраним наилучшее значение метрики accuracy на валидационных данных\n",
    "        print(\"Число деревьев = \", est, \": \", end='')        \n",
    "        print(\"Accuracy наилучшей модели на валидационной выборке =\", best_result)"
   ]
  },
  {
   "cell_type": "code",
   "execution_count": 55,
   "metadata": {},
   "outputs": [
    {
     "name": "stdout",
     "output_type": "stream",
     "text": [
      "Число деревьев =  1 : F1-мера  наилучшей модели на валидационной выборке = 0.43809523809523815\n",
      "Число деревьев =  3 : F1-мера  наилучшей модели на валидационной выборке = 0.5152722443559097\n",
      "Число деревьев =  5 : F1-мера  наилучшей модели на валидационной выборке = 0.5406162464985994\n",
      "Число деревьев =  7 : F1-мера  наилучшей модели на валидационной выборке = 0.571830985915493\n",
      "Число деревьев =  9 : F1-мера  наилучшей модели на валидационной выборке = 0.575070821529745\n",
      "Число деревьев =  13 : F1-мера  наилучшей модели на валидационной выборке = 0.5754985754985754\n",
      "Число деревьев =  14 : F1-мера  наилучшей модели на валидационной выборке = 0.576923076923077\n",
      "Число деревьев =  15 : F1-мера  наилучшей модели на валидационной выборке = 0.5900709219858157\n",
      "Число деревьев =  19 : F1-мера  наилучшей модели на валидационной выборке = 0.590778097982709\n",
      "Число деревьев =  21 : F1-мера  наилучшей модели на валидационной выборке = 0.5977011494252874\n"
     ]
    }
   ],
   "source": [
    "best_model = None\n",
    "best_result = 0\n",
    "for est in range(1,50):\n",
    "    model_RFC = RandomForestClassifier(random_state=12345, n_estimators=est) # обучим модель с заданным количеством деревьев\n",
    "    model_RFC.fit(features_train, target_train)\n",
    "    predictions_valid_RFC  = model_RFC.predict(features_valid)# обучим модель на тренировочной выборке\n",
    "    result = f1_score(target_valid,predictions_valid_RFC) # посчитаем качество модели на валидационной выборке\n",
    "    if result > best_result:\n",
    "        best_model = model_RFC # сохраним наилучшую модель\n",
    "        best_result = result #  сохраним наилучшее значение метрики accuracy на валидационных данных\n",
    "        print(\"Число деревьев = \", est, \": \", end='')        \n",
    "        print(\"F1-мера  наилучшей модели на валидационной выборке =\", best_result)"
   ]
  },
  {
   "cell_type": "markdown",
   "metadata": {},
   "source": [
    "**Вывод:**\n",
    "\n",
    "F1-мера логистической регрессии  – 0.5977, с количеством деревьев - 21"
   ]
  },
  {
   "cell_type": "code",
   "execution_count": 56,
   "metadata": {},
   "outputs": [
    {
     "name": "stdout",
     "output_type": "stream",
     "text": [
      "Accuracy: 0.86\n"
     ]
    }
   ],
   "source": [
    "model_RFC = RandomForestClassifier(random_state=12345, n_estimators = 21)\n",
    "model_RFC.fit(features_train, target_train)\n",
    "predictions_valid_RFC  = model_RFC.predict(features_valid)\n",
    "accuracy_valid_RFC = accuracy_score(target_valid, predictions_valid_RFC)\n",
    "print('Accuracy:',accuracy_valid_RFC)   "
   ]
  },
  {
   "cell_type": "markdown",
   "metadata": {},
   "source": [
    "**Частоту классов случайного леса:**"
   ]
  },
  {
   "cell_type": "code",
   "execution_count": 57,
   "metadata": {},
   "outputs": [
    {
     "name": "stdout",
     "output_type": "stream",
     "text": [
      "0    0.861\n",
      "1    0.139\n",
      "dtype: float64\n"
     ]
    },
    {
     "data": {
      "text/plain": [
       "<AxesSubplot:>"
      ]
     },
     "execution_count": 57,
     "metadata": {},
     "output_type": "execute_result"
    },
    {
     "data": {
      "image/png": "[encoded data removed]",
      "text/plain": [
       "<Figure size 432x288 with 1 Axes>"
      ]
     },
     "metadata": {
      "needs_background": "light"
     },
     "output_type": "display_data"
    }
   ],
   "source": [
    "model_RFC = RandomForestClassifier(random_state=12345, n_estimators = 21)\n",
    "model_RFC.fit(features_train, target_train)\n",
    "predictions_valid_RFC   = pd.Series(model_RFC.predict(features_valid))\n",
    "class_frequency = predictions_valid_RFC.value_counts(normalize=True)\n",
    "print(class_frequency)\n",
    "class_frequency.plot(kind='bar')     "
   ]
  },
  {
   "cell_type": "markdown",
   "metadata": {},
   "source": [
    "**Матрица ошибок случайного леса:**"
   ]
  },
  {
   "cell_type": "code",
   "execution_count": 58,
   "metadata": {},
   "outputs": [
    {
     "name": "stdout",
     "output_type": "stream",
     "text": [
      "[[1512   70]\n",
      " [ 210  208]]\n"
     ]
    }
   ],
   "source": [
    "model_RFC = RandomForestClassifier(random_state=12345, n_estimators = 21)\n",
    "model_RFC.fit(features_train, target_train)\n",
    "predictions_valid_RFC  = model_RFC.predict(features_valid)\n",
    "print(confusion_matrix(target_valid, predictions_valid_RFC)) "
   ]
  },
  {
   "cell_type": "markdown",
   "metadata": {},
   "source": [
    "Случайный лес имеет примерно равную пропорцию позитивных и негативных предсказаний, выдает заметно больше качественных предсказаний, но также сильно склоняется к ложно позитивным предсказаниям (FP)"
   ]
  },
  {
   "cell_type": "markdown",
   "metadata": {},
   "source": [
    "**Полнота случайного леса:**"
   ]
  },
  {
   "cell_type": "code",
   "execution_count": 59,
   "metadata": {},
   "outputs": [
    {
     "name": "stdout",
     "output_type": "stream",
     "text": [
      "Полнота случайного леса: 0.49760765550239233\n"
     ]
    }
   ],
   "source": [
    "model_RFC = RandomForestClassifier(random_state=12345, n_estimators = 21)\n",
    "model_RFC.fit(features_train, target_train)\n",
    "predictions_valid_RFC  = model_RFC.predict(features_valid)\n",
    "recall_score_RFC = recall_score(target_valid,predictions_valid_RFC)\n",
    "print('Полнота случайного леса:',recall_score_RFC)"
   ]
  },
  {
   "cell_type": "markdown",
   "metadata": {},
   "source": [
    "**Точность случайного леса:**"
   ]
  },
  {
   "cell_type": "markdown",
   "metadata": {},
   "source": [
    "Ещё одна метрика для оценки качества прогноза целевого класса — точность (англ. precision).\n",
    "Точность определяет, как много отрицательных ответов нашла модель, пока искала положительные. Чем больше отрицательных, тем ниже точность"
   ]
  },
  {
   "cell_type": "code",
   "execution_count": 60,
   "metadata": {},
   "outputs": [
    {
     "name": "stdout",
     "output_type": "stream",
     "text": [
      "Точность случайного леса: 0.7482014388489209\n"
     ]
    }
   ],
   "source": [
    "model_RFC = RandomForestClassifier(random_state=12345, n_estimators = 21)\n",
    "model_RFC.fit(features_train, target_train)\n",
    "predictions_valid_RFC  = model_RFC.predict(features_valid)\n",
    "precision_score_RFC = precision_score(target_valid,predictions_valid_RFC) \n",
    "print('Точность случайного леса:', precision_score_RFC)"
   ]
  },
  {
   "cell_type": "markdown",
   "metadata": {},
   "source": [
    "**F1-мера случайного леса:**"
   ]
  },
  {
   "cell_type": "code",
   "execution_count": 61,
   "metadata": {},
   "outputs": [
    {
     "name": "stdout",
     "output_type": "stream",
     "text": [
      "F1-мера случайного леса: 0.5977011494252874\n"
     ]
    }
   ],
   "source": [
    "model_RFC = RandomForestClassifier(random_state=12345, n_estimators = 21)\n",
    "model_RFC.fit(features_train, target_train)\n",
    "predictions_valid_RFC  = model_RFC.predict(features_valid)\n",
    "f1_score_RFC = f1_score(target_valid,predictions_valid_RFC)\n",
    "print('F1-мера случайного леса:',f1_score_RFC)"
   ]
  },
  {
   "cell_type": "markdown",
   "metadata": {},
   "source": [
    "**PR-кривая случайного леса:**"
   ]
  },
  {
   "cell_type": "code",
   "execution_count": 62,
   "metadata": {},
   "outputs": [
    {
     "data": {
      "image/png": "[encoded data removed]",
      "text/plain": [
       "<Figure size 432x432 with 1 Axes>"
      ]
     },
     "metadata": {
      "needs_background": "light"
     },
     "output_type": "display_data"
    }
   ],
   "source": [
    "model_RFC = RandomForestClassifier(random_state=12345, n_estimators = 21)\n",
    "model_RFC.fit(features_train, target_train)\n",
    "\n",
    "probabilities_valid = model_RFC.predict_proba(features_valid)\n",
    "precision, recall, thresholds = precision_recall_curve(target_valid, probabilities_valid[:, 1])\n",
    "\n",
    "plt.figure(figsize=(6, 6))\n",
    "plt.step(recall, precision, where='post')\n",
    "plt.xlabel('Recall')\n",
    "plt.ylabel('Precision')\n",
    "plt.ylim([0.0, 1.05])\n",
    "plt.xlim([0.0, 1.0])\n",
    "plt.title('Кривая Precision-Recall')\n",
    "plt.show() "
   ]
  },
  {
   "cell_type": "markdown",
   "metadata": {},
   "source": [
    "**ROC-кривая случайного леса:**"
   ]
  },
  {
   "cell_type": "code",
   "execution_count": 63,
   "metadata": {},
   "outputs": [
    {
     "name": "stdout",
     "output_type": "stream",
     "text": [
      "Auc_roc: 0.824184606730019\n"
     ]
    },
    {
     "data": {
      "image/png": "[encoded data removed]",
      "text/plain": [
       "<Figure size 432x288 with 1 Axes>"
      ]
     },
     "metadata": {
      "needs_background": "light"
     },
     "output_type": "display_data"
    }
   ],
   "source": [
    "model_RFC = RandomForestClassifier(random_state=12345, n_estimators = 21)\n",
    "model_RFC.fit(features_train, target_train)\n",
    "probabilities_valid = model_RFC.predict_proba(features_valid)\n",
    "probabilities_one_valid = probabilities_valid[:, 1]\n",
    "auc_roc_RFC = roc_auc_score(target_valid, probabilities_one_valid)\n",
    "print('Auc_roc:',auc_roc_RFC)\n",
    "fpr, tpr, thresholds = roc_curve(target_valid, probabilities_one_valid) \n",
    "plt.figure()\n",
    "plt.plot(fpr, tpr)\n",
    "plt.plot([0, 1], [0, 1], linestyle='--')\n",
    "plt.xlim([0.0, 1.0])\n",
    "plt.ylim([0.0, 1.0])\n",
    "plt.xlabel('False Positive Rate')\n",
    "plt.ylabel('True Positive Rate')\n",
    "plt.title('ROC-кривая')\n",
    "plt.show() "
   ]
  },
  {
   "cell_type": "markdown",
   "metadata": {},
   "source": [
    "**Вывод:**\n",
    "\n",
    "- Модель случайного леса предсказывает точнее – 0.86.\n",
    "- Полнота  - 0.4976\n",
    "- Точность  - 0.7482\n",
    "- F1- мера  - 0.5977\n",
    "- Auc_roc - 0.8241"
   ]
  },
  {
   "cell_type": "markdown",
   "metadata": {},
   "source": [
    "###  Логистическая регрессия"
   ]
  },
  {
   "cell_type": "markdown",
   "metadata": {},
   "source": [
    "Попробуем ещё один алгоритм — **логистическую регрессию**."
   ]
  },
  {
   "cell_type": "code",
   "execution_count": 64,
   "metadata": {},
   "outputs": [
    {
     "name": "stdout",
     "output_type": "stream",
     "text": [
      "Accuracy: 0.8025\n"
     ]
    }
   ],
   "source": [
    "model_LR = LogisticRegression(random_state=12345, solver='liblinear',max_iter=1000)\n",
    "model_LR.fit(features_train, target_train)\n",
    "predictions_valid_LR = model_LR.predict(features_valid)\n",
    "accuracy_valid_LR = accuracy_score(target_valid, predictions_valid_LR)\n",
    "print('Accuracy:',accuracy_valid_LR)   "
   ]
  },
  {
   "cell_type": "markdown",
   "metadata": {},
   "source": [
    "**Частота классов логистической регрессии:**"
   ]
  },
  {
   "cell_type": "code",
   "execution_count": 65,
   "metadata": {},
   "outputs": [
    {
     "name": "stdout",
     "output_type": "stream",
     "text": [
      "0    0.9125\n",
      "1    0.0875\n",
      "dtype: float64\n"
     ]
    },
    {
     "data": {
      "text/plain": [
       "<AxesSubplot:>"
      ]
     },
     "execution_count": 65,
     "metadata": {},
     "output_type": "execute_result"
    },
    {
     "data": {
      "image/png": "[encoded data removed]",
      "text/plain": [
       "<Figure size 432x288 with 1 Axes>"
      ]
     },
     "metadata": {
      "needs_background": "light"
     },
     "output_type": "display_data"
    }
   ],
   "source": [
    "model_LR = LogisticRegression(random_state=12345, solver='liblinear',max_iter=1000)\n",
    "model_LR.fit(features_train, target_train)\n",
    "predictions_valid_LR = pd.Series(model_LR.predict(features_valid))\n",
    "class_frequency = predictions_valid_LR.value_counts(normalize=True)\n",
    "print(class_frequency)\n",
    "class_frequency.plot(kind='bar')     "
   ]
  },
  {
   "cell_type": "markdown",
   "metadata": {},
   "source": [
    "**Матрица ошибок логистической регрессии:**"
   ]
  },
  {
   "cell_type": "code",
   "execution_count": 66,
   "metadata": {},
   "outputs": [
    {
     "name": "stdout",
     "output_type": "stream",
     "text": [
      "[[1506   76]\n",
      " [ 319   99]]\n"
     ]
    }
   ],
   "source": [
    "model_LR = LogisticRegression(random_state=12345, solver='liblinear',max_iter=1000)\n",
    "model_LR.fit(features_train, target_train)\n",
    "predictions_valid_LR = model_LR.predict(features_valid)\n",
    "print(confusion_matrix(target_valid, predictions_valid_LR)) "
   ]
  },
  {
   "cell_type": "markdown",
   "metadata": {},
   "source": [
    "**Полнота логистической регрессии:**"
   ]
  },
  {
   "cell_type": "code",
   "execution_count": 67,
   "metadata": {},
   "outputs": [
    {
     "name": "stdout",
     "output_type": "stream",
     "text": [
      "Полнота логистической регрессии: 0.23684210526315788\n"
     ]
    }
   ],
   "source": [
    "model_LR = LogisticRegression(random_state=12345, solver='liblinear',max_iter=1000)\n",
    "model_LR.fit(features_train, target_train)\n",
    "predictions_valid_LR = model_LR.predict(features_valid)\n",
    "recall_score_LR = recall_score(target_valid,predictions_valid_LR)\n",
    "print('Полнота логистической регрессии:', recall_score_LR)"
   ]
  },
  {
   "cell_type": "markdown",
   "metadata": {},
   "source": [
    "**Точность логистической регрессии:**"
   ]
  },
  {
   "cell_type": "code",
   "execution_count": 68,
   "metadata": {},
   "outputs": [
    {
     "name": "stdout",
     "output_type": "stream",
     "text": [
      "Точность логистической регрессии: 0.5657142857142857\n"
     ]
    }
   ],
   "source": [
    "model_LR = LogisticRegression(random_state=12345, solver='liblinear',max_iter=1000)\n",
    "model_LR.fit(features_train, target_train)\n",
    "predictions_valid_LR = model_LR.predict(features_valid)\n",
    "precision_score_LR = precision_score(target_valid,predictions_valid_LR)\n",
    "print('Точность логистической регрессии:',precision_score_LR)"
   ]
  },
  {
   "cell_type": "markdown",
   "metadata": {},
   "source": [
    "**F1-мера логистической регрессии:**"
   ]
  },
  {
   "cell_type": "code",
   "execution_count": 69,
   "metadata": {},
   "outputs": [
    {
     "name": "stdout",
     "output_type": "stream",
     "text": [
      "F1-мера логистической регрессии: 0.33389544688026984\n"
     ]
    }
   ],
   "source": [
    "model_LR = LogisticRegression(random_state=12345, solver='liblinear', max_iter=1000)\n",
    "model_LR.fit(features_train, target_train)\n",
    "predictions_valid_LR = model_LR.predict(features_valid)\n",
    "f1_score_LR = f1_score(target_valid,predictions_valid_LR)\n",
    "print('F1-мера логистической регрессии:',f1_score_LR)"
   ]
  },
  {
   "cell_type": "markdown",
   "metadata": {},
   "source": [
    "Изобразим на графике, как выглядят значения метрик при изменении порога.\n",
    "На графике по вертикали наносится значение точности, по горизонтали — полноты. Кривая, показывающая их значения, называется PR-кривой (от англ. Precision и Recall). Чем выше кривая, тем лучше модель."
   ]
  },
  {
   "cell_type": "markdown",
   "metadata": {},
   "source": [
    "**PR-кривая логистической регрессии:**"
   ]
  },
  {
   "cell_type": "code",
   "execution_count": 70,
   "metadata": {},
   "outputs": [
    {
     "data": {
      "image/png": "[encoded data removed]",
      "text/plain": [
       "<Figure size 432x432 with 1 Axes>"
      ]
     },
     "metadata": {
      "needs_background": "light"
     },
     "output_type": "display_data"
    }
   ],
   "source": [
    "model_LR = LogisticRegression(random_state=12345, solver='liblinear', max_iter=1000)\n",
    "model_LR.fit(features_train, target_train)\n",
    "\n",
    "probabilities_valid = model_LR.predict_proba(features_valid)\n",
    "precision, recall, thresholds = precision_recall_curve(target_valid, probabilities_valid[:, 1])\n",
    "\n",
    "plt.figure(figsize=(6, 6))\n",
    "plt.step(recall, precision, where='post')\n",
    "plt.xlabel('Recall')\n",
    "plt.ylabel('Precision')\n",
    "plt.ylim([0.0, 1.05])\n",
    "plt.xlim([0.0, 1.0])\n",
    "plt.title('Кривая Precision-Recall')\n",
    "plt.show() "
   ]
  },
  {
   "cell_type": "markdown",
   "metadata": {},
   "source": [
    "**Придадим объектам редкого класса больший вес:**"
   ]
  },
  {
   "cell_type": "code",
   "execution_count": 71,
   "metadata": {},
   "outputs": [
    {
     "name": "stdout",
     "output_type": "stream",
     "text": [
      "F1-мера логистической регрессии: 0.4888888888888888\n"
     ]
    }
   ],
   "source": [
    "model_LR = LogisticRegression(random_state=12345, solver='liblinear', max_iter=1000,class_weight='balanced')\n",
    "model_LR.fit(features_train, target_train)\n",
    "predictions_valid_LR = model_LR.predict(features_valid)\n",
    "f1_score_LR = f1_score(target_valid, predictions_valid_LR)\n",
    "print('F1-мера логистической регрессии:', f1_score_LR)"
   ]
  },
  {
   "cell_type": "markdown",
   "metadata": {},
   "source": [
    "**ROC-кривая логистической регрессии:**"
   ]
  },
  {
   "cell_type": "code",
   "execution_count": 72,
   "metadata": {},
   "outputs": [
    {
     "name": "stdout",
     "output_type": "stream",
     "text": [
      "Auc_roc: 0.7585576975423272\n"
     ]
    },
    {
     "data": {
      "image/png": "[encoded data removed]",
      "text/plain": [
       "<Figure size 432x288 with 1 Axes>"
      ]
     },
     "metadata": {
      "needs_background": "light"
     },
     "output_type": "display_data"
    }
   ],
   "source": [
    "model_LR = LogisticRegression(random_state=12345, solver='liblinear', max_iter=1000)\n",
    "model_LR.fit(features_train, target_train)\n",
    "probabilities_valid = model_LR.predict_proba(features_valid)\n",
    "probabilities_one_valid = probabilities_valid[:, 1]\n",
    "auc_roc_LR = roc_auc_score(target_valid, probabilities_one_valid)\n",
    "print('Auc_roc:',auc_roc_LR)\n",
    "fpr, tpr, thresholds = roc_curve(target_valid, probabilities_one_valid) \n",
    "plt.figure()\n",
    "plt.plot(fpr, tpr)\n",
    "plt.plot([0, 1], [0, 1], linestyle='--')\n",
    "plt.xlim([0.0, 1.0])\n",
    "plt.ylim([0.0, 1.0])\n",
    "plt.xlabel('False Positive Rate')\n",
    "plt.ylabel('True Positive Rate')\n",
    "plt.title('ROC-кривая')\n",
    "plt.show() "
   ]
  },
  {
   "cell_type": "markdown",
   "metadata": {},
   "source": [
    "**Вывод:**\n",
    "\n",
    "- Логистическая регрессия показала  – 0.8025.\n",
    "- Полнота  - 0.2368\n",
    "- Точность  - 0.5657\n",
    "- F1- мера - 0.3338\n",
    "- Auc_roc - 0.7585\n",
    "\n",
    "Низкое значние F1- меры свидетельствует о низком качестве модели, проблема в точности"
   ]
  },
  {
   "cell_type": "markdown",
   "metadata": {},
   "source": [
    "**Вывод:**\n",
    "\n",
    "Долю правильных ответов, близкую к 100 %, мы получили. А вот понимания,  уйдёт клиент из банка в ближайшее время, — нет. В нашей задаче наблюдается сильный дисбаланс классов (англ. class imbalance), что плохо сказывается на обучении модели.\n",
    "\n",
    "- Лучше всех показал себя случаный лес - 0.86 c количеством деревьев 21\n",
    " - Полнота  - 0.4976\n",
    " - Точность  - 0.7482\n",
    " - F1- мера  - 0.5977\n",
    " - Auc_roc - 0.8241\n",
    "\n",
    "- На втором месте немного остает решающее дерево - 0.858 c решающей глубиной 6\n",
    " - Полнота  - 0.4497\n",
    " - Точность  - 0.7768\n",
    " - F1- мера  - 0.5696\n",
    " - Auc_roc - 0.8164\n",
    "\n",
    "\n",
    "- Ото всех отстает логистическая регрессия с результатом – 0.8025\n",
    " - Полнота  - 0.2368\n",
    " - Точность  - 0.5657\n",
    " - F1- мера - 0.3338 (0.4888)\n",
    " - Auc_roc - 0.7585"
   ]
  },
  {
   "cell_type": "markdown",
   "metadata": {},
   "source": [
    "## Борьба с дисбалансом"
   ]
  },
  {
   "cell_type": "markdown",
   "metadata": {},
   "source": [
    "- Разделим обучающую выборку на отрицательные и положительные объекты;\n",
    "- Скопируем несколько раз положительные объекты;\n",
    "- С учётом полученных данных создадим новую обучающую выборку;\n",
    "- Перемешаем данные."
   ]
  },
  {
   "cell_type": "markdown",
   "metadata": {},
   "source": [
    "Объявим четыре переменные и запишите в них:\n",
    "\n",
    "- features_zeros — признаки объектов с ответом «0»;\n",
    "- features_ones — признаки объектов с ответом «1»;\n",
    "- target_zeros — целевой признак объектов, у которых ответы только «0»;\n",
    "- target_ones — целевой признак объектов, у которых ответы только «1».\n",
    "\n",
    "Продублируем объекты положительного класса и объединим их с объектами отрицательного класса. Чтобы соединить таблицы, воспользуемся функцией pd.concat() (от англ. concatenate, «сцепить»).\n",
    "\n",
    "\n",
    "Перемешаем данные функцией shuffle()\n",
    "\n"
   ]
  },
  {
   "cell_type": "code",
   "execution_count": 73,
   "metadata": {},
   "outputs": [
    {
     "data": {
      "text/plain": [
       "<AxesSubplot:ylabel='Frequency'>"
      ]
     },
     "execution_count": 73,
     "metadata": {},
     "output_type": "execute_result"
    },
    {
     "data": {
      "image/png": "[encoded data removed]",
      "text/plain": [
       "<Figure size 72x72 with 1 Axes>"
      ]
     },
     "metadata": {
      "needs_background": "light"
     },
     "output_type": "display_data"
    }
   ],
   "source": [
    "target_train.plot(kind ='hist', bins=2, figsize=(1,1))"
   ]
  },
  {
   "cell_type": "code",
   "execution_count": 74,
   "metadata": {},
   "outputs": [
    {
     "name": "stdout",
     "output_type": "stream",
     "text": [
      "(9588, 11)\n",
      "(9588,)\n"
     ]
    }
   ],
   "source": [
    "def upsample(features, target, repeat):\n",
    "    features_zeros = features[target == 0]\n",
    "    features_ones = features[target == 1]\n",
    "    target_zeros = target[target == 0]\n",
    "    target_ones = target[target == 1]\n",
    "\n",
    "    features_upsampled = pd.concat([features_zeros] + [features_ones] * repeat)\n",
    "    target_upsampled = pd.concat([target_zeros] + [target_ones] * repeat)\n",
    "    \n",
    "    features_upsampled, target_upsampled = shuffle(\n",
    "        features_upsampled, target_upsampled, random_state=12345)\n",
    "    \n",
    "    return features_upsampled, target_upsampled\n",
    "\n",
    "features_upsampled, target_upsampled = upsample(features_train, target_train, 4)\n",
    "\n",
    "print(features_upsampled.shape)\n",
    "print(target_upsampled.shape)"
   ]
  },
  {
   "cell_type": "code",
   "execution_count": 75,
   "metadata": {},
   "outputs": [
    {
     "data": {
      "text/plain": [
       "<AxesSubplot:ylabel='Frequency'>"
      ]
     },
     "execution_count": 75,
     "metadata": {},
     "output_type": "execute_result"
    },
    {
     "data": {
      "image/png": "[encoded data removed]",
      "text/plain": [
       "<Figure size 72x72 with 1 Axes>"
      ]
     },
     "metadata": {
      "needs_background": "light"
     },
     "output_type": "display_data"
    }
   ],
   "source": [
    "target_upsampled.plot(kind ='hist', bins=2, figsize=(1,1))"
   ]
  },
  {
   "cell_type": "markdown",
   "metadata": {},
   "source": [
    "**Вывод:**\n",
    "\n",
    "Мы получили сбалансированное количество классов методом upsampling — увеличили количество значений позитивного класса в 4 раза, перейдем к обучению моделей на новых данных  features_upsampled и target_upsampled.Так мы достигли баланса классов в обучающей выборке."
   ]
  },
  {
   "cell_type": "markdown",
   "metadata": {},
   "source": [
    "### Обучение решающего дерева на сбаланированной выборке"
   ]
  },
  {
   "cell_type": "code",
   "execution_count": 76,
   "metadata": {},
   "outputs": [
    {
     "name": "stdout",
     "output_type": "stream",
     "text": [
      "Accuracy: 0.7665\n",
      "Accuracy до сбалансированной выборки: 0.858\n"
     ]
    }
   ],
   "source": [
    "model_DTC = DecisionTreeClassifier(random_state=12345, max_depth=6)\n",
    "model_DTC.fit(features_upsampled, target_upsampled)\n",
    "predictions_valid_DTC = model_DTC.predict(features_valid)\n",
    "accuracy_valid_DTC_balance = accuracy_score(target_valid, predictions_valid_DTC)\n",
    "print('Accuracy:',accuracy_valid_DTC_balance)\n",
    "print('Accuracy до сбалансированной выборки:',accuracy_valid_DTC)"
   ]
  },
  {
   "cell_type": "code",
   "execution_count": 77,
   "metadata": {},
   "outputs": [
    {
     "name": "stdout",
     "output_type": "stream",
     "text": [
      "CPU times: user 30 ms, sys: 4.15 ms, total: 34.2 ms\n",
      "Wall time: 51.9 ms\n"
     ]
    },
    {
     "data": {
      "text/plain": [
       "DecisionTreeClassifier(max_depth=6, random_state=12345)"
      ]
     },
     "execution_count": 77,
     "metadata": {},
     "output_type": "execute_result"
    }
   ],
   "source": [
    "%%time\n",
    "\n",
    "model_DTC = DecisionTreeClassifier(random_state=12345, max_depth=6)\n",
    "model_DTC.fit(features_upsampled, target_upsampled) "
   ]
  },
  {
   "cell_type": "markdown",
   "metadata": {},
   "source": [
    "**Полнота решающего дерева:**"
   ]
  },
  {
   "cell_type": "code",
   "execution_count": 78,
   "metadata": {},
   "outputs": [
    {
     "name": "stdout",
     "output_type": "stream",
     "text": [
      "Полнота решающего дерева: 0.7057416267942583\n",
      "Полнота решающего дерева до сбалансированной выборки: 0.44976076555023925\n"
     ]
    }
   ],
   "source": [
    "model_DTC = DecisionTreeClassifier(random_state=12345, max_depth=6)\n",
    "model_DTC.fit(features_upsampled, target_upsampled)\n",
    "predictions_valid_DTC  = model_DTC.predict(features_valid)\n",
    "recall_score_DTC_balance = recall_score(target_valid,predictions_valid_DTC)\n",
    "print('Полнота решающего дерева:', recall_score_DTC_balance)\n",
    "print('Полнота решающего дерева до сбалансированной выборки:', recall_score_DTC)"
   ]
  },
  {
   "cell_type": "markdown",
   "metadata": {},
   "source": [
    "**Точность решающего дерева:**"
   ]
  },
  {
   "cell_type": "code",
   "execution_count": 79,
   "metadata": {},
   "outputs": [
    {
     "name": "stdout",
     "output_type": "stream",
     "text": [
      "Точность решающего дерева: 0.4616588419405321\n",
      "Точность решающего дерева до сбалансированной выборки: 0.7768595041322314\n"
     ]
    }
   ],
   "source": [
    "model_DTC = DecisionTreeClassifier(random_state=12345, max_depth=6)\n",
    "model_DTC.fit(features_upsampled, target_upsampled)\n",
    "predictions_valid_DTC  = model_DTC.predict(features_valid)\n",
    "precision_score_DTC_balance = precision_score(target_valid,predictions_valid_DTC)\n",
    "print('Точность решающего дерева:',precision_score_DTC_balance)\n",
    "print('Точность решающего дерева до сбалансированной выборки:',precision_score_DTC)"
   ]
  },
  {
   "cell_type": "markdown",
   "metadata": {},
   "source": [
    "**F1-мера решающего дерева:**"
   ]
  },
  {
   "cell_type": "code",
   "execution_count": 80,
   "metadata": {},
   "outputs": [
    {
     "name": "stdout",
     "output_type": "stream",
     "text": [
      "F1-мера решающего дерева: 0.5581835383159887\n",
      "F1-мера решающего дерева  до сбалансированной выборки: 0.5696969696969697\n"
     ]
    }
   ],
   "source": [
    "model_DTC = DecisionTreeClassifier(random_state=12345, max_depth=6)\n",
    "model_DTC.fit(features_upsampled, target_upsampled)\n",
    "predicted_valid_DTC = model_DTC.predict(features_valid)\n",
    "f1_score_DTC_balanc = f1_score(target_valid,predicted_valid_DTC)\n",
    "print('F1-мера решающего дерева:',f1_score_DTC_balanc)\n",
    "print('F1-мера решающего дерева  до сбалансированной выборки:',f1_score_DTC)"
   ]
  },
  {
   "cell_type": "markdown",
   "metadata": {},
   "source": [
    "**Auc_roc решающего дерева:**"
   ]
  },
  {
   "cell_type": "code",
   "execution_count": 81,
   "metadata": {},
   "outputs": [
    {
     "name": "stdout",
     "output_type": "stream",
     "text": [
      "Auc_roc решающего дерева: 0.7988132035640186\n",
      "Auc_roc решающего дерева до сбалансированной выборки: 0.8164631712023421\n"
     ]
    }
   ],
   "source": [
    "model_DTC = DecisionTreeClassifier(random_state=12345, max_depth=6)\n",
    "model_DTC.fit(features_upsampled, target_upsampled)\n",
    "probabilities_valid = model_DTC.predict_proba(features_valid)\n",
    "probabilities_one_valid = probabilities_valid[:, 1]\n",
    "auc_roc_DTC_balance = roc_auc_score(target_valid, probabilities_one_valid)\n",
    "print('Auc_roc решающего дерева:',auc_roc_DTC_balance)\n",
    "print('Auc_roc решающего дерева до сбалансированной выборки:',auc_roc_DTC)"
   ]
  },
  {
   "cell_type": "markdown",
   "metadata": {},
   "source": [
    "**Вывод:**\n",
    "\n",
    "На сбалансированной выборке показатели решающего дерева по параметрам accuracy, точность, F1-мера, auc_roc уменьшились,а полнота увеличилась"
   ]
  },
  {
   "cell_type": "markdown",
   "metadata": {},
   "source": [
    "### Обучение случайного леса на сбаланированной выборке"
   ]
  },
  {
   "cell_type": "code",
   "execution_count": 82,
   "metadata": {},
   "outputs": [
    {
     "name": "stdout",
     "output_type": "stream",
     "text": [
      "Accuracy: 0.848\n",
      "Accuracy до сбалансированной выборки: 0.86\n"
     ]
    }
   ],
   "source": [
    "model_RFC = RandomForestClassifier(random_state=12345, n_estimators = 21)\n",
    "model_RFC.fit(features_upsampled, target_upsampled)\n",
    "predictions_valid_RFC  = model_RFC.predict(features_valid)\n",
    "accuracy_valid_RFC_balance = accuracy_score(target_valid, predictions_valid_RFC)\n",
    "print('Accuracy:',accuracy_valid_RFC_balance)   \n",
    "print('Accuracy до сбалансированной выборки:',accuracy_valid_RFC)  "
   ]
  },
  {
   "cell_type": "code",
   "execution_count": 83,
   "metadata": {},
   "outputs": [
    {
     "name": "stdout",
     "output_type": "stream",
     "text": [
      "CPU times: user 286 ms, sys: 7.8 ms, total: 294 ms\n",
      "Wall time: 303 ms\n"
     ]
    },
    {
     "data": {
      "text/plain": [
       "RandomForestClassifier(n_estimators=21, random_state=12345)"
      ]
     },
     "execution_count": 83,
     "metadata": {},
     "output_type": "execute_result"
    }
   ],
   "source": [
    "%%time\n",
    "\n",
    "model_RFC= RandomForestClassifier(random_state=12345, n_estimators = 21)\n",
    "model_RFC.fit(features_upsampled, target_upsampled) "
   ]
  },
  {
   "cell_type": "markdown",
   "metadata": {},
   "source": [
    "**Полнота случайного леса:**"
   ]
  },
  {
   "cell_type": "code",
   "execution_count": 84,
   "metadata": {},
   "outputs": [
    {
     "name": "stdout",
     "output_type": "stream",
     "text": [
      "Полнота случайного леса: 0.5574162679425837\n",
      "Полнота случайного леса до сбалансированной выборки: 0.49760765550239233\n"
     ]
    }
   ],
   "source": [
    "model_RFC = RandomForestClassifier(random_state=12345, n_estimators = 21)\n",
    "model_RFC.fit(features_upsampled, target_upsampled)\n",
    "predictions_valid_RFC  = model_RFC.predict(features_valid)\n",
    "recall_score_RFC_balance = recall_score(target_valid,predictions_valid_RFC)\n",
    "print('Полнота случайного леса:',recall_score_RFC_balance)\n",
    "print('Полнота случайного леса до сбалансированной выборки:',recall_score_RFC)"
   ]
  },
  {
   "cell_type": "markdown",
   "metadata": {},
   "source": [
    "**Точность случайного леса:**"
   ]
  },
  {
   "cell_type": "code",
   "execution_count": 85,
   "metadata": {},
   "outputs": [
    {
     "name": "stdout",
     "output_type": "stream",
     "text": [
      "Точность случайного леса: 0.6619318181818182\n",
      "Точность случайного леса до сбалансированной выборки: 0.7482014388489209\n"
     ]
    }
   ],
   "source": [
    "model_RFC = RandomForestClassifier(random_state=12345, n_estimators = 21)\n",
    "model_RFC.fit(features_upsampled, target_upsampled)\n",
    "predictions_valid_RFC  = model_RFC.predict(features_valid)\n",
    "precision_score_RFC_balance = precision_score(target_valid,predictions_valid_RFC) \n",
    "print('Точность случайного леса:', precision_score_RFC_balance)\n",
    "print('Точность случайного леса до сбалансированной выборки:', precision_score_RFC)"
   ]
  },
  {
   "cell_type": "markdown",
   "metadata": {},
   "source": [
    "**F1-мера случайного леса:**"
   ]
  },
  {
   "cell_type": "code",
   "execution_count": 86,
   "metadata": {},
   "outputs": [
    {
     "name": "stdout",
     "output_type": "stream",
     "text": [
      "F1-мера случайного леса: 0.6051948051948052\n",
      "F1-мера случайного леса до сбалансированной выборки: 0.5977011494252874\n"
     ]
    }
   ],
   "source": [
    "model_RFC = RandomForestClassifier(random_state=12345, n_estimators = 21)\n",
    "model_RFC.fit(features_upsampled, target_upsampled)\n",
    "predicted_valid_RFC = model_RFC.predict(features_valid)\n",
    "f1_score_RFC_balanc = f1_score(target_valid,predicted_valid_RFC)\n",
    "print('F1-мера случайного леса:',f1_score_RFC_balanc)\n",
    "print('F1-мера случайного леса до сбалансированной выборки:',f1_score_RFC)"
   ]
  },
  {
   "cell_type": "markdown",
   "metadata": {},
   "source": [
    "**Auc_roc случайного леса:**"
   ]
  },
  {
   "cell_type": "code",
   "execution_count": 87,
   "metadata": {},
   "outputs": [
    {
     "name": "stdout",
     "output_type": "stream",
     "text": [
      "Auc_roc случайного леса: 0.8293821339349985\n",
      "Auc_roc случайного леса до сбалансированной выборки: 0.824184606730019\n"
     ]
    }
   ],
   "source": [
    "model_RFC = RandomForestClassifier(random_state=12345, n_estimators =21)\n",
    "model_RFC.fit(features_upsampled, target_upsampled)\n",
    "probabilities_valid = model_RFC.predict_proba(features_valid)\n",
    "probabilities_one_valid = probabilities_valid[:, 1]\n",
    "auc_roc_RFC_balance = roc_auc_score(target_valid, probabilities_one_valid)\n",
    "print('Auc_roc случайного леса:',auc_roc_RFC_balance)\n",
    "print('Auc_roc случайного леса до сбалансированной выборки:',auc_roc_RFC)"
   ]
  },
  {
   "cell_type": "markdown",
   "metadata": {},
   "source": [
    "**Вывод:**\n",
    "\n",
    "На сбалансированной выборке показатели случайного леса по параметрам accuracy и auc_roc незначително уменьшились, полнота улучшилась, незначительно улучилась F1- мера, точность заметно ухудшилась."
   ]
  },
  {
   "cell_type": "markdown",
   "metadata": {},
   "source": [
    "### Обучение логистической регрессии на сбаланированной выборке"
   ]
  },
  {
   "cell_type": "code",
   "execution_count": 88,
   "metadata": {},
   "outputs": [
    {
     "name": "stdout",
     "output_type": "stream",
     "text": [
      "Accuracy: 0.7005\n",
      "Accuracy до сбалансированной выборки: 0.8025\n"
     ]
    }
   ],
   "source": [
    "model_LR = LogisticRegression(random_state=12345, solver='liblinear',max_iter=1000)\n",
    "model_LR.fit(features_upsampled, target_upsampled)\n",
    "predictions_valid_LR = model_LR.predict(features_valid)\n",
    "accuracy_valid_LR_balance = accuracy_score(target_valid, predictions_valid_LR)\n",
    "print('Accuracy:',accuracy_valid_LR_balance)\n",
    "print('Accuracy до сбалансированной выборки:',accuracy_valid_LR) "
   ]
  },
  {
   "cell_type": "code",
   "execution_count": 89,
   "metadata": {},
   "outputs": [
    {
     "name": "stdout",
     "output_type": "stream",
     "text": [
      "CPU times: user 39.6 ms, sys: 28.4 ms, total: 67.9 ms\n",
      "Wall time: 32.9 ms\n"
     ]
    },
    {
     "data": {
      "text/plain": [
       "LogisticRegression(max_iter=1000, random_state=12345, solver='liblinear')"
      ]
     },
     "execution_count": 89,
     "metadata": {},
     "output_type": "execute_result"
    }
   ],
   "source": [
    "%%time\n",
    "\n",
    "model_LR = LogisticRegression(random_state=12345, solver='liblinear',max_iter=1000)\n",
    "model_LR.fit(features_upsampled, target_upsampled) "
   ]
  },
  {
   "cell_type": "markdown",
   "metadata": {},
   "source": [
    "**Полнота логистической регрессии:**"
   ]
  },
  {
   "cell_type": "code",
   "execution_count": 90,
   "metadata": {},
   "outputs": [
    {
     "name": "stdout",
     "output_type": "stream",
     "text": [
      "Полнота логистической регрессии: 0.6818181818181818\n",
      "Полнота логистической регрессии до сбалансированной выборки: 0.23684210526315788\n"
     ]
    }
   ],
   "source": [
    "model_LR = LogisticRegression(random_state=12345, solver='liblinear',max_iter=1000)\n",
    "model_LR.fit(features_upsampled, target_upsampled)\n",
    "predictions_valid_LR = model_LR.predict(features_valid)\n",
    "recall_score_LR_balance = recall_score(target_valid,predictions_valid_LR)\n",
    "print('Полнота логистической регрессии:', recall_score_LR_balance)\n",
    "print('Полнота логистической регрессии до сбалансированной выборки:', recall_score_LR)"
   ]
  },
  {
   "cell_type": "markdown",
   "metadata": {},
   "source": [
    "**Точность логистической регрессии:**"
   ]
  },
  {
   "cell_type": "code",
   "execution_count": 91,
   "metadata": {},
   "outputs": [
    {
     "name": "stdout",
     "output_type": "stream",
     "text": [
      "Точность логистической регрессии: 0.3794940079893475\n",
      "Точность логистической регрессии до сбалансированной выборки: 0.5657142857142857\n"
     ]
    }
   ],
   "source": [
    "model_LR = LogisticRegression(random_state=12345, solver='liblinear',max_iter=1000)\n",
    "model_LR.fit(features_upsampled, target_upsampled)\n",
    "predictions_valid_LR = model_LR.predict(features_valid)\n",
    "precision_score_LR_balance = precision_score(target_valid,predictions_valid_LR)\n",
    "print('Точность логистической регрессии:',precision_score_LR_balance)\n",
    "print('Точность логистической регрессии до сбалансированной выборки:',precision_score_LR)"
   ]
  },
  {
   "cell_type": "markdown",
   "metadata": {},
   "source": [
    "**F1-мера логистической регрессии:**"
   ]
  },
  {
   "cell_type": "code",
   "execution_count": 92,
   "metadata": {},
   "outputs": [
    {
     "name": "stdout",
     "output_type": "stream",
     "text": [
      "F1-мера логистической регрессии: 0.4875962360992301\n",
      "F1-мера логистической регрессии до сбалансированной выборки: 0.4888888888888888\n"
     ]
    }
   ],
   "source": [
    "model_LR = LogisticRegression(random_state=12345, solver='liblinear', max_iter=1000)\n",
    "model_LR.fit(features_upsampled, target_upsampled)\n",
    "predicted_valid_LR = model_LR.predict(features_valid)\n",
    "f1_score_LR_balanc = f1_score(target_valid, predicted_valid_LR)\n",
    "print('F1-мера логистической регрессии:', f1_score_LR_balanc)\n",
    "print('F1-мера логистической регрессии до сбалансированной выборки:', f1_score_LR)"
   ]
  },
  {
   "cell_type": "markdown",
   "metadata": {},
   "source": [
    "**Auc_roc логистической регрессии:**"
   ]
  },
  {
   "cell_type": "code",
   "execution_count": 93,
   "metadata": {},
   "outputs": [
    {
     "name": "stdout",
     "output_type": "stream",
     "text": [
      "Auc_roc логистической регрессии: 0.763399851196777\n",
      "Auc_roc логистической регрессии до сбалансированной выборки: 0.7585576975423272\n"
     ]
    }
   ],
   "source": [
    "model_LR = LogisticRegression(random_state=12345, solver='liblinear', max_iter=1000)\n",
    "model_LR.fit(features_upsampled, target_upsampled)\n",
    "probabilities_valid = model_LR.predict_proba(features_valid)\n",
    "probabilities_one_valid = probabilities_valid[:, 1]\n",
    "auc_roc_LR_balance = roc_auc_score(target_valid, probabilities_one_valid)\n",
    "print('Auc_roc логистической регрессии:',auc_roc_LR_balance)\n",
    "print('Auc_roc логистической регрессии до сбалансированной выборки:',auc_roc_LR)"
   ]
  },
  {
   "cell_type": "markdown",
   "metadata": {},
   "source": [
    "**Вывод:**\n",
    "\n",
    "На сбалансированной выборке показатели  логистической регрессии по параметрам accuracy ухудшились, полнота значительно выросла, точность значительно ухудшилась, F1-мера и auc_roc незначительно уменьшилась."
   ]
  },
  {
   "cell_type": "markdown",
   "metadata": {},
   "source": [
    "**Вывод:**\n",
    "\n",
    "Лучшие результаты показывает алгоритм случайный лес"
   ]
  },
  {
   "cell_type": "markdown",
   "metadata": {},
   "source": [
    "### Улучшение случайного леса на сбаланcированной выборке"
   ]
  },
  {
   "cell_type": "code",
   "execution_count": 94,
   "metadata": {},
   "outputs": [
    {
     "name": "stdout",
     "output_type": "stream",
     "text": [
      "F1 наилучшей модели на валидационной выборке =  0.6248715313463514\n",
      "depth: 8,n_estimators: 42\n"
     ]
    }
   ],
   "source": [
    "best_model = None\n",
    "best_result = 0\n",
    "best_depth = 0\n",
    "best_est = 0\n",
    "for est in range(10, 51, 2):\n",
    "    for depth in range(1,45):\n",
    "        model_RFC = RandomForestClassifier(random_state=12345, n_estimators=est, max_depth=depth) # обучим модель \n",
    "        model_RFC.fit(features_upsampled, target_upsampled)\n",
    "        predictions_RFC = model_RFC.predict(features_valid)\n",
    "        result = f1_score(target_valid, predictions_RFC) # посчитаем качество модели на валидационной выборке\n",
    "        if result > best_result:\n",
    "            best_model = model_RFC # сохраним наилучшую модель\n",
    "            best_result = result #  сохраним наилучшее значение на валидационных данных\n",
    "            best_depth = depth\n",
    "            best_est = est\n",
    "print('F1 наилучшей модели на валидационной выборке = ', best_result)        \n",
    "print('depth: {},n_estimators: {}'.format(best_depth,best_est))"
   ]
  },
  {
   "cell_type": "code",
   "execution_count": 95,
   "metadata": {},
   "outputs": [
    {
     "name": "stdout",
     "output_type": "stream",
     "text": [
      "Accuracy: 0.8175\n"
     ]
    }
   ],
   "source": [
    "model_RFC = RandomForestClassifier(random_state=12345, n_estimators=42, max_depth=8)\n",
    "model_RFC.fit(features_upsampled, target_upsampled)\n",
    "predictions_valid_RFC  = model_RFC.predict(features_valid)\n",
    "accuracy_valid_RFC_balance = accuracy_score(target_valid, predictions_valid_RFC)\n",
    "print('Accuracy:',accuracy_valid_RFC_balance)   "
   ]
  },
  {
   "cell_type": "code",
   "execution_count": 96,
   "metadata": {},
   "outputs": [
    {
     "name": "stdout",
     "output_type": "stream",
     "text": [
      "Полнота случайного леса: 0.7272727272727273\n"
     ]
    }
   ],
   "source": [
    "model_RFC = RandomForestClassifier(random_state=12345, n_estimators=42, max_depth=8)\n",
    "model_RFC.fit(features_upsampled, target_upsampled)\n",
    "predictions_valid_RFC  = model_RFC.predict(features_valid)\n",
    "recall_score_RFC_balance = recall_score(target_valid,predictions_valid_RFC)\n",
    "print('Полнота случайного леса:',recall_score_RFC_balance)\n"
   ]
  },
  {
   "cell_type": "code",
   "execution_count": 97,
   "metadata": {},
   "outputs": [
    {
     "name": "stdout",
     "output_type": "stream",
     "text": [
      "Точность случайного леса: 0.5477477477477477\n"
     ]
    }
   ],
   "source": [
    "model_RFC = RandomForestClassifier(random_state=12345, n_estimators=42, max_depth=8)\n",
    "model_RFC.fit(features_upsampled, target_upsampled)\n",
    "predictions_valid_RFC  = model_RFC.predict(features_valid)\n",
    "precision_score_RFC_balance = precision_score(target_valid,predictions_valid_RFC) \n",
    "print('Точность случайного леса:', precision_score_RFC_balance)"
   ]
  },
  {
   "cell_type": "code",
   "execution_count": 98,
   "metadata": {},
   "outputs": [
    {
     "name": "stdout",
     "output_type": "stream",
     "text": [
      "F1-мера случайного леса: 0.6248715313463514\n"
     ]
    }
   ],
   "source": [
    "model_RFC = RandomForestClassifier(random_state=12345, n_estimators=42, max_depth=8)\n",
    "model_RFC.fit(features_upsampled, target_upsampled)\n",
    "predicted_valid_RFC = model_RFC.predict(features_valid)\n",
    "f1_score_RFC_balanc = f1_score(target_valid,predicted_valid_RFC)\n",
    "print('F1-мера случайного леса:',f1_score_RFC_balanc)"
   ]
  },
  {
   "cell_type": "code",
   "execution_count": 99,
   "metadata": {},
   "outputs": [
    {
     "name": "stdout",
     "output_type": "stream",
     "text": [
      "Auc_roc случайного леса: 0.8523695098567012\n"
     ]
    },
    {
     "data": {
      "image/png": "[encoded data removed]",
      "text/plain": [
       "<Figure size 432x288 with 1 Axes>"
      ]
     },
     "metadata": {
      "needs_background": "light"
     },
     "output_type": "display_data"
    }
   ],
   "source": [
    "model_RFC = RandomForestClassifier(random_state=12345, n_estimators=42, max_depth=8)\n",
    "model_RFC.fit(features_upsampled, target_upsampled)\n",
    "probabilities_valid = model_RFC.predict_proba(features_valid)\n",
    "probabilities_one_valid = probabilities_valid[:, 1]\n",
    "auc_roc_RFC_balance = roc_auc_score(target_valid, probabilities_one_valid)\n",
    "print('Auc_roc случайного леса:',auc_roc_RFC_balance)\n",
    "fpr, tpr, thresholds = roc_curve(target_valid, probabilities_one_valid) \n",
    "plt.figure()\n",
    "plt.plot(fpr, tpr)\n",
    "plt.plot([0, 1], [0, 1], linestyle='--')\n",
    "plt.xlim([0.0, 1.0])\n",
    "plt.ylim([0.0, 1.0])\n",
    "plt.xlabel('False Positive Rate')\n",
    "plt.ylabel('True Positive Rate')\n",
    "plt.title('ROC-кривая')\n",
    "plt.show() "
   ]
  },
  {
   "cell_type": "markdown",
   "metadata": {},
   "source": [
    "**Вывод:**\n",
    "\n",
    "- В первоначальные данных наблюдался значительный дисбаланс (80% ответов целевого признака были негативными и только 20% позитивными), из-за чего обученная на этих данных модель не проходила проверку на адекватность. Все модели не первоначальных данных характеризовались высокой степенью ошибок и низким качеством взвешенной величины (F1) — модели показывали низкие результаты полноты\n",
    "- Мы устранили дисбаланс классов в обучающей выборки методом upsampling — увеличили количество значений позитивного класса в 4 раза. Так мы достигли баланса классов в обучающей выборке\n",
    "-На новых данных не все модели показали результат выше, чем на несбалансированной выборке. Лучшие показатели были у модели случайного леса:\n",
    " - Полнота 0.7272\n",
    " - Точность 0.5477\n",
    " - F1-мера 0.6248\n",
    " - AUC-ROC 0.8523"
   ]
  },
  {
   "cell_type": "markdown",
   "metadata": {},
   "source": [
    "## Тестирование модели"
   ]
  },
  {
   "cell_type": "markdown",
   "metadata": {},
   "source": [
    "Проверим как поведет себя модель на тестовой выборке"
   ]
  },
  {
   "cell_type": "code",
   "execution_count": 100,
   "metadata": {},
   "outputs": [
    {
     "data": {
      "image/png": "[encoded data removed]",
      "text/plain": [
       "<Figure size 432x288 with 1 Axes>"
      ]
     },
     "metadata": {
      "needs_background": "light"
     },
     "output_type": "display_data"
    },
    {
     "data": {
      "image/png": "[encoded data removed]",
      "text/plain": [
       "<Figure size 432x288 with 1 Axes>"
      ]
     },
     "metadata": {
      "needs_background": "light"
     },
     "output_type": "display_data"
    },
    {
     "name": "stdout",
     "output_type": "stream",
     "text": [
      "Обучающая выборка:Accuracy: 0.8175 Полнота: 0.7272727272727273 Точность: 0.5477477477477477 F1-мера: 0.6248715313463514 Auc_roc: 0.8523695098567012\n",
      "Тестовая выборка:Accuracy: 0.8095 Полнота: 0.706855791962175 Точность: 0.5377697841726619 F1-мера: 0.6108273748723188 Auc_roc: 0.8537951732274375\n"
     ]
    }
   ],
   "source": [
    "model_RFC = RandomForestClassifier(random_state=12345, n_estimators=42, max_depth=8)\n",
    "model_RFC.fit(features_upsampled, target_upsampled)\n",
    "predictions_train = model_RFC.predict(features_upsampled)\n",
    "predictions_test = model_RFC.predict(features_test)\n",
    "accuracy_score(target_test, predictions_test)\n",
    "recall_score(target_test, predictions_test)\n",
    "precision_score(target_test, predictions_test) \n",
    "f1_score(target_test, predictions_test)\n",
    "\n",
    "probabilities_valid = model_RFC.predict_proba(features_valid)\n",
    "probabilities_one_valid = probabilities_valid[:, 1]\n",
    "auc_roc_RFC_balance = roc_auc_score(target_valid, probabilities_one_valid)\n",
    "\n",
    "probabilities_valid_test = model_RFC.predict_proba(features_test)\n",
    "probabilities_one_valid_test = probabilities_valid_test[:, 1]\n",
    "auc_roc_RFC_balance_test = roc_auc_score(target_test, probabilities_one_valid_test)\n",
    "\n",
    "fpr, tpr, thresholds = roc_curve(target_valid, probabilities_one_valid) \n",
    "plt.figure()\n",
    "plt.plot(fpr, tpr)\n",
    "plt.plot([0, 1], [0, 1], linestyle='--')\n",
    "plt.xlim([0.0, 1.0])\n",
    "plt.ylim([0.0, 1.0])\n",
    "plt.xlabel('False Positive Rate')\n",
    "plt.ylabel('True Positive Rate')\n",
    "plt.title('ROC-кривая обучающая')\n",
    "fpr, tpr, thresholds = roc_curve(target_test, probabilities_one_valid_test) \n",
    "plt.figure()\n",
    "plt.plot(fpr, tpr)\n",
    "plt.plot([0, 1], [0, 1], linestyle='--')\n",
    "plt.xlim([0.0, 1.0])\n",
    "plt.ylim([0.0, 1.0])\n",
    "plt.xlabel('False Positive Rate')\n",
    "plt.ylabel('True Positive Rate')\n",
    "plt.title('ROC-кривая тестовая')\n",
    "plt.show() \n",
    "\n",
    "\n",
    "print(\"Обучающая выборка:\" 'Accuracy:',accuracy_score(target_valid, predictions_valid_RFC),'Полнота:'\n",
    "      ,recall_score(target_valid,predictions_valid_RFC),'Точность:',precision_score(target_valid,predictions_valid_RFC)\n",
    "      ,'F1-мера:',f1_score(target_valid,predicted_valid_RFC),'Auc_roc:',auc_roc_RFC_balance) \n",
    "print(\"Тестовая выборка:\" 'Accuracy:',accuracy_score(target_test, predictions_test),'Полнота:'\n",
    "      ,recall_score(target_test, predictions_test),'Точность:',precision_score(target_test, predictions_test)\n",
    "      ,'F1-мера:',f1_score(target_test, predictions_test),'Auc_roc:',auc_roc_RFC_balance_test)\n"
   ]
  },
  {
   "cell_type": "code",
   "execution_count": 101,
   "metadata": {},
   "outputs": [
    {
     "name": "stdout",
     "output_type": "stream",
     "text": [
      "CPU times: user 417 ms, sys: 1e+03 ns, total: 417 ms\n",
      "Wall time: 427 ms\n"
     ]
    },
    {
     "data": {
      "text/plain": [
       "RandomForestClassifier(max_depth=8, n_estimators=42, random_state=12345)"
      ]
     },
     "execution_count": 101,
     "metadata": {},
     "output_type": "execute_result"
    }
   ],
   "source": [
    "%%time\n",
    "\n",
    "model_RFC = RandomForestClassifier(random_state=12345, n_estimators=42, max_depth=8)\n",
    "model_RFC.fit(features_upsampled, target_upsampled)"
   ]
  },
  {
   "cell_type": "markdown",
   "metadata": {},
   "source": [
    "Проверим модели на вменяемость"
   ]
  },
  {
   "cell_type": "code",
   "execution_count": 102,
   "metadata": {},
   "outputs": [
    {
     "data": {
      "text/plain": [
       "0.5010429703796412"
      ]
     },
     "execution_count": 102,
     "metadata": {},
     "output_type": "execute_result"
    }
   ],
   "source": [
    "dummy_clf = DummyClassifier(strategy='most_frequent', random_state=12345)\n",
    "dummy_clf.fit(features_upsampled, target_upsampled)\n",
    "dummy_clf.score(features_upsampled, target_upsampled)"
   ]
  },
  {
   "cell_type": "markdown",
   "metadata": {},
   "source": [
    "Мы получили оценку точности 50 %"
   ]
  },
  {
   "cell_type": "code",
   "execution_count": 103,
   "metadata": {},
   "outputs": [
    {
     "data": {
      "text/plain": [
       "0.7885"
      ]
     },
     "execution_count": 103,
     "metadata": {},
     "output_type": "execute_result"
    }
   ],
   "source": [
    "dummy_clf = DummyClassifier(strategy='most_frequent', random_state=12345)\n",
    "dummy_clf.fit(features_test, target_test)\n",
    "dummy_clf.score(features_test, target_test)"
   ]
  },
  {
   "cell_type": "markdown",
   "metadata": {},
   "source": [
    "Мы получили оценку точности 78,85 %"
   ]
  },
  {
   "cell_type": "markdown",
   "metadata": {},
   "source": [
    "**Вывод:**\n",
    "\n",
    "- Таким образом, мы можем считать модель адекватной для использования.\n",
    "- На тестовой выборке модель повела приближенно к тренировочной выборке,что свидетельствует о том,что нет проблем с недообучением или переобучением   \n"
   ]
  },
  {
   "cell_type": "markdown",
   "metadata": {},
   "source": [
    "## Общий вывод"
   ]
  },
  {
   "cell_type": "markdown",
   "metadata": {},
   "source": [
    "- Финальная достигла заданой метрики (F1 > 0.59) и показывает адекватные результаты.\n",
    "- Модель характеризуется высоким показателем полноты = 0.7272 (min = 0, max = 1), поэтому она с высокой вероятностью предскажит уход клиента из банка.\n",
    "- Показатель точности не высокий = 0.5477 (min = 0, max = 1) — модель верно предсказывает только половину ухода клиентов.\n",
    "- С точки зрения бизнеса полученная модель поможет маркетологам лучше определять килентов, которые могут уйти в ближайшее время. Важно, что модель покрывает большое количество клиентов, в данном случае это важнее чем точность.\n",
    "\n",
    "**Предложение:**\n",
    "Для улучшения модели следует использовать данные, отражающие отношения клиента с банком в динамике."
   ]
  }
 ],
 "metadata": {
  "ExecuteTimeLog": [
   {
    "duration": 1118,
    "start_time": "2022-03-26T18:38:26.665Z"
   },
   {
    "duration": 22,
    "start_time": "2022-03-26T18:38:27.785Z"
   },
   {
    "duration": 18,
    "start_time": "2022-03-26T18:38:27.808Z"
   },
   {
    "duration": 42,
    "start_time": "2022-03-26T18:38:27.827Z"
   },
   {
    "duration": 12,
    "start_time": "2022-03-26T18:38:27.871Z"
   },
   {
    "duration": 119,
    "start_time": "2022-03-26T18:38:27.884Z"
   },
   {
    "duration": 0,
    "start_time": "2022-03-26T18:38:28.004Z"
   },
   {
    "duration": 0,
    "start_time": "2022-03-26T18:38:28.005Z"
   },
   {
    "duration": 0,
    "start_time": "2022-03-26T18:38:28.006Z"
   },
   {
    "duration": 1609,
    "start_time": "2022-03-26T18:41:07.179Z"
   },
   {
    "duration": 23,
    "start_time": "2022-03-26T18:41:08.790Z"
   },
   {
    "duration": 16,
    "start_time": "2022-03-26T18:41:08.815Z"
   },
   {
    "duration": 41,
    "start_time": "2022-03-26T18:41:08.833Z"
   },
   {
    "duration": 11,
    "start_time": "2022-03-26T18:41:08.876Z"
   },
   {
    "duration": 599,
    "start_time": "2022-03-26T18:41:08.889Z"
   },
   {
    "duration": 11,
    "start_time": "2022-03-26T18:41:09.490Z"
   },
   {
    "duration": 7,
    "start_time": "2022-03-26T18:41:09.502Z"
   },
   {
    "duration": 8,
    "start_time": "2022-03-26T18:41:09.511Z"
   },
   {
    "duration": 5,
    "start_time": "2022-03-26T18:43:13.980Z"
   },
   {
    "duration": 4,
    "start_time": "2022-03-26T18:44:39.928Z"
   },
   {
    "duration": 5,
    "start_time": "2022-03-26T18:45:00.861Z"
   },
   {
    "duration": 6,
    "start_time": "2022-03-26T18:45:58.790Z"
   },
   {
    "duration": 2237,
    "start_time": "2022-03-26T18:46:56.963Z"
   },
   {
    "duration": 4,
    "start_time": "2022-03-26T18:47:01.815Z"
   },
   {
    "duration": 6,
    "start_time": "2022-03-26T18:47:21.546Z"
   },
   {
    "duration": 5,
    "start_time": "2022-03-26T18:48:44.482Z"
   },
   {
    "duration": 5,
    "start_time": "2022-03-26T18:49:01.932Z"
   },
   {
    "duration": 4,
    "start_time": "2022-03-26T18:50:46.759Z"
   },
   {
    "duration": 5,
    "start_time": "2022-03-26T18:50:57.296Z"
   },
   {
    "duration": 7,
    "start_time": "2022-03-26T18:51:06.944Z"
   },
   {
    "duration": 5,
    "start_time": "2022-03-26T18:51:16.631Z"
   },
   {
    "duration": 5,
    "start_time": "2022-03-26T18:51:17.383Z"
   },
   {
    "duration": 4,
    "start_time": "2022-03-26T18:52:03.113Z"
   },
   {
    "duration": 6,
    "start_time": "2022-03-26T18:52:28.838Z"
   },
   {
    "duration": 4,
    "start_time": "2022-03-26T18:53:19.335Z"
   },
   {
    "duration": 5,
    "start_time": "2022-03-26T18:53:50.726Z"
   },
   {
    "duration": 3,
    "start_time": "2022-03-26T18:58:37.593Z"
   },
   {
    "duration": 20,
    "start_time": "2022-03-26T18:58:47.837Z"
   },
   {
    "duration": 30,
    "start_time": "2022-03-26T19:00:04.916Z"
   },
   {
    "duration": 1869,
    "start_time": "2022-03-26T19:08:44.103Z"
   },
   {
    "duration": 31,
    "start_time": "2022-03-26T19:08:45.975Z"
   },
   {
    "duration": 22,
    "start_time": "2022-03-26T19:08:46.009Z"
   },
   {
    "duration": 66,
    "start_time": "2022-03-26T19:08:46.033Z"
   },
   {
    "duration": 16,
    "start_time": "2022-03-26T19:08:46.101Z"
   },
   {
    "duration": 765,
    "start_time": "2022-03-26T19:08:46.119Z"
   },
   {
    "duration": 13,
    "start_time": "2022-03-26T19:08:46.887Z"
   },
   {
    "duration": 10,
    "start_time": "2022-03-26T19:08:46.902Z"
   },
   {
    "duration": 11,
    "start_time": "2022-03-26T19:08:46.913Z"
   },
   {
    "duration": 5,
    "start_time": "2022-03-26T19:08:46.926Z"
   },
   {
    "duration": 34,
    "start_time": "2022-03-26T19:08:46.933Z"
   },
   {
    "duration": 8,
    "start_time": "2022-03-26T19:08:46.969Z"
   },
   {
    "duration": 10,
    "start_time": "2022-03-26T19:08:46.978Z"
   },
   {
    "duration": 5,
    "start_time": "2022-03-26T19:08:46.991Z"
   },
   {
    "duration": 7,
    "start_time": "2022-03-26T19:08:46.998Z"
   },
   {
    "duration": 5,
    "start_time": "2022-03-26T19:08:47.007Z"
   },
   {
    "duration": 10,
    "start_time": "2022-03-26T19:08:47.013Z"
   },
   {
    "duration": 7,
    "start_time": "2022-03-26T19:08:47.025Z"
   },
   {
    "duration": 45,
    "start_time": "2022-03-26T19:08:47.033Z"
   },
   {
    "duration": 7,
    "start_time": "2022-03-26T19:08:47.080Z"
   },
   {
    "duration": 7,
    "start_time": "2022-03-26T19:08:47.088Z"
   },
   {
    "duration": 8,
    "start_time": "2022-03-26T19:08:47.096Z"
   },
   {
    "duration": 6,
    "start_time": "2022-03-26T19:08:47.106Z"
   },
   {
    "duration": 5,
    "start_time": "2022-03-26T19:08:47.113Z"
   },
   {
    "duration": 157,
    "start_time": "2022-03-26T19:08:47.119Z"
   },
   {
    "duration": 0,
    "start_time": "2022-03-26T19:08:47.279Z"
   },
   {
    "duration": 0,
    "start_time": "2022-03-26T19:08:47.279Z"
   },
   {
    "duration": 6,
    "start_time": "2022-03-26T19:09:21.904Z"
   },
   {
    "duration": 29,
    "start_time": "2022-03-26T19:09:50.212Z"
   },
   {
    "duration": 20,
    "start_time": "2022-03-26T19:10:08.985Z"
   },
   {
    "duration": 1948,
    "start_time": "2022-03-28T09:36:08.883Z"
   },
   {
    "duration": 32,
    "start_time": "2022-03-28T09:36:10.834Z"
   },
   {
    "duration": 19,
    "start_time": "2022-03-28T09:36:10.868Z"
   },
   {
    "duration": 51,
    "start_time": "2022-03-28T09:36:10.889Z"
   },
   {
    "duration": 14,
    "start_time": "2022-03-28T09:36:10.943Z"
   },
   {
    "duration": 648,
    "start_time": "2022-03-28T09:36:10.959Z"
   },
   {
    "duration": 12,
    "start_time": "2022-03-28T09:36:11.609Z"
   },
   {
    "duration": 8,
    "start_time": "2022-03-28T09:36:11.623Z"
   },
   {
    "duration": 13,
    "start_time": "2022-03-28T09:36:11.633Z"
   },
   {
    "duration": 4,
    "start_time": "2022-03-28T09:36:11.648Z"
   },
   {
    "duration": 8,
    "start_time": "2022-03-28T09:36:11.654Z"
   },
   {
    "duration": 41,
    "start_time": "2022-03-28T09:36:11.664Z"
   },
   {
    "duration": 8,
    "start_time": "2022-03-28T09:36:11.707Z"
   },
   {
    "duration": 8,
    "start_time": "2022-03-28T09:36:11.719Z"
   },
   {
    "duration": 8,
    "start_time": "2022-03-28T09:36:11.728Z"
   },
   {
    "duration": 7,
    "start_time": "2022-03-28T09:36:11.738Z"
   },
   {
    "duration": 18,
    "start_time": "2022-03-28T09:36:11.746Z"
   },
   {
    "duration": 7,
    "start_time": "2022-03-28T09:36:11.766Z"
   },
   {
    "duration": 32,
    "start_time": "2022-03-28T09:36:11.774Z"
   },
   {
    "duration": 6,
    "start_time": "2022-03-28T09:36:11.808Z"
   },
   {
    "duration": 10,
    "start_time": "2022-03-28T09:36:11.816Z"
   },
   {
    "duration": 8,
    "start_time": "2022-03-28T09:36:11.828Z"
   },
   {
    "duration": 10,
    "start_time": "2022-03-28T09:36:11.838Z"
   },
   {
    "duration": 8,
    "start_time": "2022-03-28T09:36:11.850Z"
   },
   {
    "duration": 10,
    "start_time": "2022-03-28T09:36:11.859Z"
   },
   {
    "duration": 50,
    "start_time": "2022-03-28T09:36:11.871Z"
   },
   {
    "duration": 29,
    "start_time": "2022-03-28T09:36:11.923Z"
   },
   {
    "duration": 4167,
    "start_time": "2022-03-28T09:44:30.623Z"
   },
   {
    "duration": 1791,
    "start_time": "2022-03-28T09:44:48.005Z"
   },
   {
    "duration": 27,
    "start_time": "2022-03-28T09:44:49.798Z"
   },
   {
    "duration": 20,
    "start_time": "2022-03-28T09:44:49.827Z"
   },
   {
    "duration": 83,
    "start_time": "2022-03-28T09:44:49.850Z"
   },
   {
    "duration": 17,
    "start_time": "2022-03-28T09:44:49.935Z"
   },
   {
    "duration": 616,
    "start_time": "2022-03-28T09:44:49.954Z"
   },
   {
    "duration": 12,
    "start_time": "2022-03-28T09:44:50.572Z"
   },
   {
    "duration": 22,
    "start_time": "2022-03-28T09:44:50.585Z"
   },
   {
    "duration": 17,
    "start_time": "2022-03-28T09:44:50.608Z"
   },
   {
    "duration": 5,
    "start_time": "2022-03-28T09:44:50.628Z"
   },
   {
    "duration": 8,
    "start_time": "2022-03-28T09:44:50.634Z"
   },
   {
    "duration": 9,
    "start_time": "2022-03-28T09:44:50.644Z"
   },
   {
    "duration": 17,
    "start_time": "2022-03-28T09:44:50.654Z"
   },
   {
    "duration": 63,
    "start_time": "2022-03-28T09:44:50.673Z"
   },
   {
    "duration": 10,
    "start_time": "2022-03-28T09:44:50.738Z"
   },
   {
    "duration": 13,
    "start_time": "2022-03-28T09:44:50.750Z"
   },
   {
    "duration": 8,
    "start_time": "2022-03-28T09:44:50.766Z"
   },
   {
    "duration": 29,
    "start_time": "2022-03-28T09:44:50.777Z"
   },
   {
    "duration": 14,
    "start_time": "2022-03-28T09:44:50.808Z"
   },
   {
    "duration": 23,
    "start_time": "2022-03-28T09:44:50.823Z"
   },
   {
    "duration": 13,
    "start_time": "2022-03-28T09:44:50.848Z"
   },
   {
    "duration": 17,
    "start_time": "2022-03-28T09:44:50.863Z"
   },
   {
    "duration": 10,
    "start_time": "2022-03-28T09:44:50.882Z"
   },
   {
    "duration": 24,
    "start_time": "2022-03-28T09:44:50.893Z"
   },
   {
    "duration": 9,
    "start_time": "2022-03-28T09:44:50.919Z"
   },
   {
    "duration": 11,
    "start_time": "2022-03-28T09:44:50.930Z"
   },
   {
    "duration": 30,
    "start_time": "2022-03-28T09:44:50.943Z"
   },
   {
    "duration": 30,
    "start_time": "2022-03-28T09:44:50.977Z"
   },
   {
    "duration": 1926,
    "start_time": "2022-03-28T09:45:38.610Z"
   },
   {
    "duration": 30,
    "start_time": "2022-03-28T09:45:40.538Z"
   },
   {
    "duration": 18,
    "start_time": "2022-03-28T09:45:40.570Z"
   },
   {
    "duration": 52,
    "start_time": "2022-03-28T09:45:40.590Z"
   },
   {
    "duration": 14,
    "start_time": "2022-03-28T09:45:40.643Z"
   },
   {
    "duration": 588,
    "start_time": "2022-03-28T09:45:40.659Z"
   },
   {
    "duration": 13,
    "start_time": "2022-03-28T09:45:41.248Z"
   },
   {
    "duration": 10,
    "start_time": "2022-03-28T09:45:41.262Z"
   },
   {
    "duration": 33,
    "start_time": "2022-03-28T09:45:41.273Z"
   },
   {
    "duration": 4,
    "start_time": "2022-03-28T09:45:41.309Z"
   },
   {
    "duration": 8,
    "start_time": "2022-03-28T09:45:41.315Z"
   },
   {
    "duration": 11,
    "start_time": "2022-03-28T09:45:41.324Z"
   },
   {
    "duration": 9,
    "start_time": "2022-03-28T09:45:41.337Z"
   },
   {
    "duration": 8,
    "start_time": "2022-03-28T09:45:41.347Z"
   },
   {
    "duration": 7,
    "start_time": "2022-03-28T09:45:41.356Z"
   },
   {
    "duration": 41,
    "start_time": "2022-03-28T09:45:41.365Z"
   },
   {
    "duration": 12,
    "start_time": "2022-03-28T09:45:41.408Z"
   },
   {
    "duration": 12,
    "start_time": "2022-03-28T09:45:41.422Z"
   },
   {
    "duration": 13,
    "start_time": "2022-03-28T09:45:41.436Z"
   },
   {
    "duration": 11,
    "start_time": "2022-03-28T09:45:41.451Z"
   },
   {
    "duration": 15,
    "start_time": "2022-03-28T09:45:41.464Z"
   },
   {
    "duration": 21,
    "start_time": "2022-03-28T09:45:41.481Z"
   },
   {
    "duration": 7,
    "start_time": "2022-03-28T09:45:41.504Z"
   },
   {
    "duration": 11,
    "start_time": "2022-03-28T09:45:41.512Z"
   },
   {
    "duration": 9,
    "start_time": "2022-03-28T09:45:41.525Z"
   },
   {
    "duration": 10,
    "start_time": "2022-03-28T09:45:41.536Z"
   },
   {
    "duration": 7,
    "start_time": "2022-03-28T09:45:41.548Z"
   },
   {
    "duration": 7,
    "start_time": "2022-03-28T09:45:41.559Z"
   },
   {
    "duration": 48,
    "start_time": "2022-03-28T09:45:41.568Z"
   },
   {
    "duration": 22,
    "start_time": "2022-03-28T09:45:41.618Z"
   },
   {
    "duration": 4632,
    "start_time": "2022-03-28T09:48:29.388Z"
   },
   {
    "duration": 4,
    "start_time": "2022-03-28T09:48:39.183Z"
   },
   {
    "duration": 1721,
    "start_time": "2022-03-28T10:05:31.323Z"
   },
   {
    "duration": 27,
    "start_time": "2022-03-28T10:05:33.047Z"
   },
   {
    "duration": 26,
    "start_time": "2022-03-28T10:05:33.076Z"
   },
   {
    "duration": 56,
    "start_time": "2022-03-28T10:05:33.105Z"
   },
   {
    "duration": 40,
    "start_time": "2022-03-28T10:05:33.163Z"
   },
   {
    "duration": 578,
    "start_time": "2022-03-28T10:05:33.205Z"
   },
   {
    "duration": 18,
    "start_time": "2022-03-28T10:05:33.785Z"
   },
   {
    "duration": 9,
    "start_time": "2022-03-28T10:05:33.805Z"
   },
   {
    "duration": 12,
    "start_time": "2022-03-28T10:05:33.816Z"
   },
   {
    "duration": 5,
    "start_time": "2022-03-28T10:05:33.830Z"
   },
   {
    "duration": 11,
    "start_time": "2022-03-28T10:05:33.837Z"
   },
   {
    "duration": 17,
    "start_time": "2022-03-28T10:05:33.850Z"
   },
   {
    "duration": 35,
    "start_time": "2022-03-28T10:05:33.868Z"
   },
   {
    "duration": 10,
    "start_time": "2022-03-28T10:05:33.905Z"
   },
   {
    "duration": 7,
    "start_time": "2022-03-28T10:05:33.917Z"
   },
   {
    "duration": 10,
    "start_time": "2022-03-28T10:05:33.926Z"
   },
   {
    "duration": 8,
    "start_time": "2022-03-28T10:05:33.938Z"
   },
   {
    "duration": 12,
    "start_time": "2022-03-28T10:05:33.948Z"
   },
   {
    "duration": 9,
    "start_time": "2022-03-28T10:05:33.961Z"
   },
   {
    "duration": 33,
    "start_time": "2022-03-28T10:05:33.972Z"
   },
   {
    "duration": 9,
    "start_time": "2022-03-28T10:05:34.007Z"
   },
   {
    "duration": 13,
    "start_time": "2022-03-28T10:05:34.018Z"
   },
   {
    "duration": 11,
    "start_time": "2022-03-28T10:05:34.033Z"
   },
   {
    "duration": 19,
    "start_time": "2022-03-28T10:05:34.046Z"
   },
   {
    "duration": 13,
    "start_time": "2022-03-28T10:05:34.067Z"
   },
   {
    "duration": 20,
    "start_time": "2022-03-28T10:05:34.082Z"
   },
   {
    "duration": 8,
    "start_time": "2022-03-28T10:05:34.104Z"
   },
   {
    "duration": 10,
    "start_time": "2022-03-28T10:05:34.116Z"
   },
   {
    "duration": 31,
    "start_time": "2022-03-28T10:05:34.128Z"
   },
   {
    "duration": 5,
    "start_time": "2022-03-28T10:05:34.161Z"
   },
   {
    "duration": 12,
    "start_time": "2022-03-28T10:05:34.168Z"
   },
   {
    "duration": 20,
    "start_time": "2022-03-28T10:05:34.182Z"
   },
   {
    "duration": 6,
    "start_time": "2022-03-28T10:05:34.204Z"
   },
   {
    "duration": 13,
    "start_time": "2022-03-28T10:05:34.212Z"
   },
   {
    "duration": 122,
    "start_time": "2022-03-28T10:09:35.918Z"
   },
   {
    "duration": 8,
    "start_time": "2022-03-28T10:09:45.359Z"
   },
   {
    "duration": 6,
    "start_time": "2022-03-28T10:09:46.254Z"
   },
   {
    "duration": 21,
    "start_time": "2022-03-28T10:10:14.218Z"
   },
   {
    "duration": 6,
    "start_time": "2022-03-28T10:10:35.602Z"
   },
   {
    "duration": 18,
    "start_time": "2022-03-28T10:11:04.618Z"
   },
   {
    "duration": 10,
    "start_time": "2022-03-28T10:21:19.877Z"
   },
   {
    "duration": 11,
    "start_time": "2022-03-28T10:21:28.986Z"
   },
   {
    "duration": 11,
    "start_time": "2022-03-28T10:21:32.481Z"
   },
   {
    "duration": 20,
    "start_time": "2022-03-28T10:23:46.575Z"
   },
   {
    "duration": 16,
    "start_time": "2022-03-28T10:23:59.835Z"
   },
   {
    "duration": 16,
    "start_time": "2022-03-28T10:24:23.531Z"
   },
   {
    "duration": 1791,
    "start_time": "2022-03-28T10:24:34.205Z"
   },
   {
    "duration": 35,
    "start_time": "2022-03-28T10:24:35.998Z"
   },
   {
    "duration": 16,
    "start_time": "2022-03-28T10:24:36.035Z"
   },
   {
    "duration": 61,
    "start_time": "2022-03-28T10:24:36.053Z"
   },
   {
    "duration": 13,
    "start_time": "2022-03-28T10:24:36.116Z"
   },
   {
    "duration": 645,
    "start_time": "2022-03-28T10:24:36.131Z"
   },
   {
    "duration": 13,
    "start_time": "2022-03-28T10:24:36.778Z"
   },
   {
    "duration": 9,
    "start_time": "2022-03-28T10:24:36.802Z"
   },
   {
    "duration": 10,
    "start_time": "2022-03-28T10:24:36.813Z"
   },
   {
    "duration": 5,
    "start_time": "2022-03-28T10:24:36.825Z"
   },
   {
    "duration": 7,
    "start_time": "2022-03-28T10:24:36.832Z"
   },
   {
    "duration": 11,
    "start_time": "2022-03-28T10:24:36.841Z"
   },
   {
    "duration": 7,
    "start_time": "2022-03-28T10:24:36.854Z"
   },
   {
    "duration": 6,
    "start_time": "2022-03-28T10:24:36.902Z"
   },
   {
    "duration": 8,
    "start_time": "2022-03-28T10:24:36.910Z"
   },
   {
    "duration": 10,
    "start_time": "2022-03-28T10:24:36.921Z"
   },
   {
    "duration": 5,
    "start_time": "2022-03-28T10:24:36.934Z"
   },
   {
    "duration": 12,
    "start_time": "2022-03-28T10:24:36.940Z"
   },
   {
    "duration": 8,
    "start_time": "2022-03-28T10:24:36.954Z"
   },
   {
    "duration": 11,
    "start_time": "2022-03-28T10:24:36.963Z"
   },
   {
    "duration": 5,
    "start_time": "2022-03-28T10:24:37.000Z"
   },
   {
    "duration": 8,
    "start_time": "2022-03-28T10:24:37.007Z"
   },
   {
    "duration": 11,
    "start_time": "2022-03-28T10:24:37.017Z"
   },
   {
    "duration": 9,
    "start_time": "2022-03-28T10:24:37.030Z"
   },
   {
    "duration": 7,
    "start_time": "2022-03-28T10:24:37.041Z"
   },
   {
    "duration": 10,
    "start_time": "2022-03-28T10:24:37.050Z"
   },
   {
    "duration": 11,
    "start_time": "2022-03-28T10:24:37.063Z"
   },
   {
    "duration": 27,
    "start_time": "2022-03-28T10:24:37.076Z"
   },
   {
    "duration": 23,
    "start_time": "2022-03-28T10:24:37.105Z"
   },
   {
    "duration": 8,
    "start_time": "2022-03-28T10:24:37.130Z"
   },
   {
    "duration": 13,
    "start_time": "2022-03-28T10:24:37.140Z"
   },
   {
    "duration": 9,
    "start_time": "2022-03-28T10:24:37.155Z"
   },
   {
    "duration": 176,
    "start_time": "2022-03-28T10:24:37.166Z"
   },
   {
    "duration": 0,
    "start_time": "2022-03-28T10:24:37.344Z"
   },
   {
    "duration": 0,
    "start_time": "2022-03-28T10:24:37.345Z"
   },
   {
    "duration": 0,
    "start_time": "2022-03-28T10:24:37.346Z"
   },
   {
    "duration": 0,
    "start_time": "2022-03-28T10:24:37.347Z"
   },
   {
    "duration": 0,
    "start_time": "2022-03-28T10:24:37.348Z"
   },
   {
    "duration": 16,
    "start_time": "2022-03-28T10:24:44.218Z"
   },
   {
    "duration": 7,
    "start_time": "2022-03-28T10:24:58.555Z"
   },
   {
    "duration": 6,
    "start_time": "2022-03-28T10:24:59.674Z"
   },
   {
    "duration": 8,
    "start_time": "2022-03-28T10:25:00.670Z"
   },
   {
    "duration": 16,
    "start_time": "2022-03-28T10:25:01.694Z"
   },
   {
    "duration": 20,
    "start_time": "2022-03-28T10:25:12.170Z"
   },
   {
    "duration": 8,
    "start_time": "2022-03-28T10:29:47.227Z"
   },
   {
    "duration": 9,
    "start_time": "2022-03-28T10:29:50.477Z"
   },
   {
    "duration": 222,
    "start_time": "2022-03-28T10:30:59.704Z"
   },
   {
    "duration": 211,
    "start_time": "2022-03-28T10:31:43.372Z"
   },
   {
    "duration": 85,
    "start_time": "2022-03-28T10:32:04.922Z"
   },
   {
    "duration": 27,
    "start_time": "2022-03-28T10:32:06.161Z"
   },
   {
    "duration": 36,
    "start_time": "2022-03-28T10:32:07.397Z"
   },
   {
    "duration": 18,
    "start_time": "2022-03-28T10:32:10.139Z"
   },
   {
    "duration": 37,
    "start_time": "2022-03-28T10:32:18.139Z"
   },
   {
    "duration": 1586,
    "start_time": "2022-03-28T10:34:22.442Z"
   },
   {
    "duration": 25,
    "start_time": "2022-03-28T10:34:24.030Z"
   },
   {
    "duration": 17,
    "start_time": "2022-03-28T10:34:24.057Z"
   },
   {
    "duration": 51,
    "start_time": "2022-03-28T10:34:24.075Z"
   },
   {
    "duration": 13,
    "start_time": "2022-03-28T10:34:24.128Z"
   },
   {
    "duration": 608,
    "start_time": "2022-03-28T10:34:24.143Z"
   },
   {
    "duration": 13,
    "start_time": "2022-03-28T10:34:24.753Z"
   },
   {
    "duration": 9,
    "start_time": "2022-03-28T10:34:24.768Z"
   },
   {
    "duration": 31,
    "start_time": "2022-03-28T10:34:24.779Z"
   },
   {
    "duration": 5,
    "start_time": "2022-03-28T10:34:24.812Z"
   },
   {
    "duration": 9,
    "start_time": "2022-03-28T10:34:24.818Z"
   },
   {
    "duration": 9,
    "start_time": "2022-03-28T10:34:24.829Z"
   },
   {
    "duration": 7,
    "start_time": "2022-03-28T10:34:24.840Z"
   },
   {
    "duration": 13,
    "start_time": "2022-03-28T10:34:24.850Z"
   },
   {
    "duration": 9,
    "start_time": "2022-03-28T10:34:24.864Z"
   },
   {
    "duration": 31,
    "start_time": "2022-03-28T10:34:24.875Z"
   },
   {
    "duration": 24,
    "start_time": "2022-03-28T10:34:24.908Z"
   },
   {
    "duration": 13,
    "start_time": "2022-03-28T10:34:24.934Z"
   },
   {
    "duration": 12,
    "start_time": "2022-03-28T10:34:24.949Z"
   },
   {
    "duration": 14,
    "start_time": "2022-03-28T10:34:24.963Z"
   },
   {
    "duration": 15,
    "start_time": "2022-03-28T10:34:24.979Z"
   },
   {
    "duration": 24,
    "start_time": "2022-03-28T10:34:24.996Z"
   },
   {
    "duration": 19,
    "start_time": "2022-03-28T10:34:25.022Z"
   },
   {
    "duration": 13,
    "start_time": "2022-03-28T10:34:25.043Z"
   },
   {
    "duration": 14,
    "start_time": "2022-03-28T10:34:25.058Z"
   },
   {
    "duration": 11,
    "start_time": "2022-03-28T10:34:25.074Z"
   },
   {
    "duration": 20,
    "start_time": "2022-03-28T10:34:25.087Z"
   },
   {
    "duration": 15,
    "start_time": "2022-03-28T10:34:25.108Z"
   },
   {
    "duration": 32,
    "start_time": "2022-03-28T10:34:25.125Z"
   },
   {
    "duration": 6,
    "start_time": "2022-03-28T10:34:25.159Z"
   },
   {
    "duration": 12,
    "start_time": "2022-03-28T10:34:25.167Z"
   },
   {
    "duration": 14,
    "start_time": "2022-03-28T10:34:25.180Z"
   },
   {
    "duration": 15,
    "start_time": "2022-03-28T10:34:25.196Z"
   },
   {
    "duration": 17,
    "start_time": "2022-03-28T10:34:25.213Z"
   },
   {
    "duration": 6,
    "start_time": "2022-03-28T10:34:25.232Z"
   },
   {
    "duration": 8,
    "start_time": "2022-03-28T10:34:25.240Z"
   },
   {
    "duration": 10,
    "start_time": "2022-03-28T10:34:25.250Z"
   },
   {
    "duration": 44,
    "start_time": "2022-03-28T10:34:25.262Z"
   },
   {
    "duration": 17,
    "start_time": "2022-03-28T10:34:25.308Z"
   },
   {
    "duration": 16,
    "start_time": "2022-03-28T10:36:01.211Z"
   },
   {
    "duration": 25,
    "start_time": "2022-03-28T10:36:09.118Z"
   },
   {
    "duration": 1874,
    "start_time": "2022-03-28T10:39:32.196Z"
   },
   {
    "duration": 32,
    "start_time": "2022-03-28T10:39:34.072Z"
   },
   {
    "duration": 18,
    "start_time": "2022-03-28T10:39:34.106Z"
   },
   {
    "duration": 46,
    "start_time": "2022-03-28T10:39:34.126Z"
   },
   {
    "duration": 36,
    "start_time": "2022-03-28T10:39:34.174Z"
   },
   {
    "duration": 580,
    "start_time": "2022-03-28T10:39:34.211Z"
   },
   {
    "duration": 19,
    "start_time": "2022-03-28T10:39:34.793Z"
   },
   {
    "duration": 10,
    "start_time": "2022-03-28T10:39:34.814Z"
   },
   {
    "duration": 12,
    "start_time": "2022-03-28T10:39:34.826Z"
   },
   {
    "duration": 9,
    "start_time": "2022-03-28T10:39:34.841Z"
   },
   {
    "duration": 71,
    "start_time": "2022-03-28T10:39:34.852Z"
   },
   {
    "duration": 13,
    "start_time": "2022-03-28T10:39:34.925Z"
   },
   {
    "duration": 8,
    "start_time": "2022-03-28T10:39:34.940Z"
   },
   {
    "duration": 9,
    "start_time": "2022-03-28T10:39:34.952Z"
   },
   {
    "duration": 10,
    "start_time": "2022-03-28T10:39:34.962Z"
   },
   {
    "duration": 13,
    "start_time": "2022-03-28T10:39:34.974Z"
   },
   {
    "duration": 13,
    "start_time": "2022-03-28T10:39:34.989Z"
   },
   {
    "duration": 11,
    "start_time": "2022-03-28T10:39:35.005Z"
   },
   {
    "duration": 10,
    "start_time": "2022-03-28T10:39:35.018Z"
   },
   {
    "duration": 13,
    "start_time": "2022-03-28T10:39:35.030Z"
   },
   {
    "duration": 11,
    "start_time": "2022-03-28T10:39:35.045Z"
   },
   {
    "duration": 10,
    "start_time": "2022-03-28T10:39:35.058Z"
   },
   {
    "duration": 9,
    "start_time": "2022-03-28T10:39:35.070Z"
   },
   {
    "duration": 6,
    "start_time": "2022-03-28T10:39:35.101Z"
   },
   {
    "duration": 13,
    "start_time": "2022-03-28T10:39:35.109Z"
   },
   {
    "duration": 11,
    "start_time": "2022-03-28T10:39:35.124Z"
   },
   {
    "duration": 7,
    "start_time": "2022-03-28T10:39:35.137Z"
   },
   {
    "duration": 9,
    "start_time": "2022-03-28T10:39:35.146Z"
   },
   {
    "duration": 26,
    "start_time": "2022-03-28T10:39:35.157Z"
   },
   {
    "duration": 18,
    "start_time": "2022-03-28T10:39:35.185Z"
   },
   {
    "duration": 10,
    "start_time": "2022-03-28T10:39:35.205Z"
   },
   {
    "duration": 8,
    "start_time": "2022-03-28T10:39:35.217Z"
   },
   {
    "duration": 21,
    "start_time": "2022-03-28T10:39:35.227Z"
   },
   {
    "duration": 53,
    "start_time": "2022-03-28T10:39:35.250Z"
   },
   {
    "duration": 6,
    "start_time": "2022-03-28T10:39:35.305Z"
   },
   {
    "duration": 7,
    "start_time": "2022-03-28T10:39:35.313Z"
   },
   {
    "duration": 10,
    "start_time": "2022-03-28T10:39:35.322Z"
   },
   {
    "duration": 22,
    "start_time": "2022-03-28T10:39:35.334Z"
   },
   {
    "duration": 32,
    "start_time": "2022-03-28T10:49:42.818Z"
   },
   {
    "duration": 16,
    "start_time": "2022-03-28T10:49:53.923Z"
   },
   {
    "duration": 26,
    "start_time": "2022-03-28T10:52:27.463Z"
   },
   {
    "duration": 24,
    "start_time": "2022-03-28T10:52:28.771Z"
   },
   {
    "duration": 24,
    "start_time": "2022-03-28T10:52:30.296Z"
   },
   {
    "duration": 40,
    "start_time": "2022-03-28T10:54:32.187Z"
   },
   {
    "duration": 27,
    "start_time": "2022-03-28T10:54:46.667Z"
   },
   {
    "duration": 20,
    "start_time": "2022-03-28T10:54:47.555Z"
   },
   {
    "duration": 23,
    "start_time": "2022-03-28T10:54:48.455Z"
   },
   {
    "duration": 1661,
    "start_time": "2022-03-28T10:59:43.054Z"
   },
   {
    "duration": 25,
    "start_time": "2022-03-28T10:59:44.718Z"
   },
   {
    "duration": 21,
    "start_time": "2022-03-28T10:59:44.745Z"
   },
   {
    "duration": 84,
    "start_time": "2022-03-28T10:59:44.768Z"
   },
   {
    "duration": 19,
    "start_time": "2022-03-28T10:59:44.856Z"
   },
   {
    "duration": 886,
    "start_time": "2022-03-28T10:59:44.877Z"
   },
   {
    "duration": 17,
    "start_time": "2022-03-28T10:59:45.765Z"
   },
   {
    "duration": 23,
    "start_time": "2022-03-28T10:59:45.785Z"
   },
   {
    "duration": 15,
    "start_time": "2022-03-28T10:59:45.810Z"
   },
   {
    "duration": 5,
    "start_time": "2022-03-28T10:59:45.828Z"
   },
   {
    "duration": 12,
    "start_time": "2022-03-28T10:59:45.835Z"
   },
   {
    "duration": 10,
    "start_time": "2022-03-28T10:59:45.849Z"
   },
   {
    "duration": 45,
    "start_time": "2022-03-28T10:59:45.861Z"
   },
   {
    "duration": 10,
    "start_time": "2022-03-28T10:59:45.910Z"
   },
   {
    "duration": 11,
    "start_time": "2022-03-28T10:59:45.923Z"
   },
   {
    "duration": 13,
    "start_time": "2022-03-28T10:59:45.936Z"
   },
   {
    "duration": 10,
    "start_time": "2022-03-28T10:59:45.950Z"
   },
   {
    "duration": 54,
    "start_time": "2022-03-28T10:59:45.963Z"
   },
   {
    "duration": 6,
    "start_time": "2022-03-28T10:59:46.020Z"
   },
   {
    "duration": 9,
    "start_time": "2022-03-28T10:59:46.028Z"
   },
   {
    "duration": 11,
    "start_time": "2022-03-28T10:59:46.039Z"
   },
   {
    "duration": 10,
    "start_time": "2022-03-28T10:59:46.052Z"
   },
   {
    "duration": 10,
    "start_time": "2022-03-28T10:59:46.063Z"
   },
   {
    "duration": 26,
    "start_time": "2022-03-28T10:59:46.076Z"
   },
   {
    "duration": 10,
    "start_time": "2022-03-28T10:59:46.105Z"
   },
   {
    "duration": 12,
    "start_time": "2022-03-28T10:59:46.117Z"
   },
   {
    "duration": 12,
    "start_time": "2022-03-28T10:59:46.132Z"
   },
   {
    "duration": 9,
    "start_time": "2022-03-28T10:59:46.146Z"
   },
   {
    "duration": 53,
    "start_time": "2022-03-28T10:59:46.157Z"
   },
   {
    "duration": 7,
    "start_time": "2022-03-28T10:59:46.212Z"
   },
   {
    "duration": 11,
    "start_time": "2022-03-28T10:59:46.222Z"
   },
   {
    "duration": 11,
    "start_time": "2022-03-28T10:59:46.235Z"
   },
   {
    "duration": 19,
    "start_time": "2022-03-28T10:59:46.249Z"
   },
   {
    "duration": 29,
    "start_time": "2022-03-28T10:59:46.302Z"
   },
   {
    "duration": 8,
    "start_time": "2022-03-28T10:59:46.333Z"
   },
   {
    "duration": 10,
    "start_time": "2022-03-28T10:59:46.343Z"
   },
   {
    "duration": 12,
    "start_time": "2022-03-28T10:59:46.356Z"
   },
   {
    "duration": 46,
    "start_time": "2022-03-28T10:59:46.371Z"
   },
   {
    "duration": 26,
    "start_time": "2022-03-28T10:59:46.419Z"
   },
   {
    "duration": 61,
    "start_time": "2022-03-28T10:59:46.446Z"
   },
   {
    "duration": 23,
    "start_time": "2022-03-28T10:59:46.512Z"
   },
   {
    "duration": 193,
    "start_time": "2022-03-28T11:04:52.921Z"
   },
   {
    "duration": 1720,
    "start_time": "2022-03-28T11:05:10.150Z"
   },
   {
    "duration": 26,
    "start_time": "2022-03-28T11:05:11.872Z"
   },
   {
    "duration": 19,
    "start_time": "2022-03-28T11:05:11.901Z"
   },
   {
    "duration": 44,
    "start_time": "2022-03-28T11:05:11.922Z"
   },
   {
    "duration": 44,
    "start_time": "2022-03-28T11:05:11.969Z"
   },
   {
    "duration": 609,
    "start_time": "2022-03-28T11:05:12.015Z"
   },
   {
    "duration": 15,
    "start_time": "2022-03-28T11:05:12.626Z"
   },
   {
    "duration": 10,
    "start_time": "2022-03-28T11:05:12.643Z"
   },
   {
    "duration": 12,
    "start_time": "2022-03-28T11:05:12.655Z"
   },
   {
    "duration": 36,
    "start_time": "2022-03-28T11:05:12.668Z"
   },
   {
    "duration": 8,
    "start_time": "2022-03-28T11:05:12.706Z"
   },
   {
    "duration": 10,
    "start_time": "2022-03-28T11:05:12.715Z"
   },
   {
    "duration": 7,
    "start_time": "2022-03-28T11:05:12.726Z"
   },
   {
    "duration": 6,
    "start_time": "2022-03-28T11:05:12.737Z"
   },
   {
    "duration": 8,
    "start_time": "2022-03-28T11:05:12.745Z"
   },
   {
    "duration": 51,
    "start_time": "2022-03-28T11:05:12.754Z"
   },
   {
    "duration": 11,
    "start_time": "2022-03-28T11:05:12.807Z"
   },
   {
    "duration": 9,
    "start_time": "2022-03-28T11:05:12.820Z"
   },
   {
    "duration": 6,
    "start_time": "2022-03-28T11:05:12.832Z"
   },
   {
    "duration": 13,
    "start_time": "2022-03-28T11:05:12.840Z"
   },
   {
    "duration": 45,
    "start_time": "2022-03-28T11:05:12.856Z"
   },
   {
    "duration": 8,
    "start_time": "2022-03-28T11:05:12.903Z"
   },
   {
    "duration": 12,
    "start_time": "2022-03-28T11:05:12.913Z"
   },
   {
    "duration": 11,
    "start_time": "2022-03-28T11:05:12.927Z"
   },
   {
    "duration": 13,
    "start_time": "2022-03-28T11:05:12.940Z"
   },
   {
    "duration": 13,
    "start_time": "2022-03-28T11:05:12.955Z"
   },
   {
    "duration": 11,
    "start_time": "2022-03-28T11:05:12.970Z"
   },
   {
    "duration": 22,
    "start_time": "2022-03-28T11:05:12.983Z"
   },
   {
    "duration": 34,
    "start_time": "2022-03-28T11:05:13.007Z"
   },
   {
    "duration": 11,
    "start_time": "2022-03-28T11:05:13.044Z"
   },
   {
    "duration": 46,
    "start_time": "2022-03-28T11:05:13.057Z"
   },
   {
    "duration": 12,
    "start_time": "2022-03-28T11:05:13.106Z"
   },
   {
    "duration": 21,
    "start_time": "2022-03-28T11:05:13.120Z"
   },
   {
    "duration": 59,
    "start_time": "2022-03-28T11:05:13.143Z"
   },
   {
    "duration": 6,
    "start_time": "2022-03-28T11:05:13.205Z"
   },
   {
    "duration": 12,
    "start_time": "2022-03-28T11:05:13.213Z"
   },
   {
    "duration": 12,
    "start_time": "2022-03-28T11:05:13.227Z"
   },
   {
    "duration": 22,
    "start_time": "2022-03-28T11:05:13.241Z"
   },
   {
    "duration": 71,
    "start_time": "2022-03-28T11:05:13.265Z"
   },
   {
    "duration": 27,
    "start_time": "2022-03-28T11:05:13.338Z"
   },
   {
    "duration": 53,
    "start_time": "2022-03-28T11:05:13.369Z"
   },
   {
    "duration": 199,
    "start_time": "2022-03-28T11:05:13.423Z"
   },
   {
    "duration": 2025,
    "start_time": "2022-03-28T11:08:31.531Z"
   },
   {
    "duration": 26,
    "start_time": "2022-03-28T11:08:33.559Z"
   },
   {
    "duration": 24,
    "start_time": "2022-03-28T11:08:33.587Z"
   },
   {
    "duration": 44,
    "start_time": "2022-03-28T11:08:33.613Z"
   },
   {
    "duration": 13,
    "start_time": "2022-03-28T11:08:33.659Z"
   },
   {
    "duration": 607,
    "start_time": "2022-03-28T11:08:33.675Z"
   },
   {
    "duration": 20,
    "start_time": "2022-03-28T11:08:34.284Z"
   },
   {
    "duration": 9,
    "start_time": "2022-03-28T11:08:34.306Z"
   },
   {
    "duration": 14,
    "start_time": "2022-03-28T11:08:34.317Z"
   },
   {
    "duration": 7,
    "start_time": "2022-03-28T11:08:34.334Z"
   },
   {
    "duration": 7,
    "start_time": "2022-03-28T11:08:34.343Z"
   },
   {
    "duration": 47,
    "start_time": "2022-03-28T11:08:34.353Z"
   },
   {
    "duration": 8,
    "start_time": "2022-03-28T11:08:34.402Z"
   },
   {
    "duration": 10,
    "start_time": "2022-03-28T11:08:34.414Z"
   },
   {
    "duration": 8,
    "start_time": "2022-03-28T11:08:34.425Z"
   },
   {
    "duration": 12,
    "start_time": "2022-03-28T11:08:34.434Z"
   },
   {
    "duration": 7,
    "start_time": "2022-03-28T11:08:34.448Z"
   },
   {
    "duration": 44,
    "start_time": "2022-03-28T11:08:34.457Z"
   },
   {
    "duration": 6,
    "start_time": "2022-03-28T11:08:34.504Z"
   },
   {
    "duration": 7,
    "start_time": "2022-03-28T11:08:34.512Z"
   },
   {
    "duration": 11,
    "start_time": "2022-03-28T11:08:34.521Z"
   },
   {
    "duration": 9,
    "start_time": "2022-03-28T11:08:34.534Z"
   },
   {
    "duration": 8,
    "start_time": "2022-03-28T11:08:34.545Z"
   },
   {
    "duration": 9,
    "start_time": "2022-03-28T11:08:34.555Z"
   },
   {
    "duration": 5,
    "start_time": "2022-03-28T11:08:34.602Z"
   },
   {
    "duration": 7,
    "start_time": "2022-03-28T11:08:34.609Z"
   },
   {
    "duration": 7,
    "start_time": "2022-03-28T11:08:34.618Z"
   },
   {
    "duration": 11,
    "start_time": "2022-03-28T11:08:34.627Z"
   },
   {
    "duration": 62,
    "start_time": "2022-03-28T11:08:34.640Z"
   },
   {
    "duration": 4,
    "start_time": "2022-03-28T11:08:34.704Z"
   },
   {
    "duration": 13,
    "start_time": "2022-03-28T11:08:34.711Z"
   },
   {
    "duration": 11,
    "start_time": "2022-03-28T11:08:34.726Z"
   },
   {
    "duration": 19,
    "start_time": "2022-03-28T11:08:34.739Z"
   },
   {
    "duration": 70,
    "start_time": "2022-03-28T11:08:34.760Z"
   },
   {
    "duration": 8,
    "start_time": "2022-03-28T11:08:34.833Z"
   },
   {
    "duration": 11,
    "start_time": "2022-03-28T11:08:34.843Z"
   },
   {
    "duration": 8,
    "start_time": "2022-03-28T11:08:34.856Z"
   },
   {
    "duration": 47,
    "start_time": "2022-03-28T11:08:34.866Z"
   },
   {
    "duration": 29,
    "start_time": "2022-03-28T11:08:34.915Z"
   },
   {
    "duration": 57,
    "start_time": "2022-03-28T11:08:34.947Z"
   },
   {
    "duration": 21,
    "start_time": "2022-03-28T11:08:35.009Z"
   },
   {
    "duration": 145,
    "start_time": "2022-03-28T11:08:35.032Z"
   },
   {
    "duration": 1978,
    "start_time": "2022-03-28T11:15:17.749Z"
   },
   {
    "duration": 27,
    "start_time": "2022-03-28T11:15:19.729Z"
   },
   {
    "duration": 24,
    "start_time": "2022-03-28T11:15:19.758Z"
   },
   {
    "duration": 64,
    "start_time": "2022-03-28T11:15:19.785Z"
   },
   {
    "duration": 18,
    "start_time": "2022-03-28T11:15:19.850Z"
   },
   {
    "duration": 678,
    "start_time": "2022-03-28T11:15:19.870Z"
   },
   {
    "duration": 14,
    "start_time": "2022-03-28T11:15:20.550Z"
   },
   {
    "duration": 10,
    "start_time": "2022-03-28T11:15:20.565Z"
   },
   {
    "duration": 35,
    "start_time": "2022-03-28T11:15:20.577Z"
   },
   {
    "duration": 20,
    "start_time": "2022-03-28T11:15:20.617Z"
   },
   {
    "duration": 8,
    "start_time": "2022-03-28T11:15:20.639Z"
   },
   {
    "duration": 12,
    "start_time": "2022-03-28T11:15:20.649Z"
   },
   {
    "duration": 13,
    "start_time": "2022-03-28T11:15:20.664Z"
   },
   {
    "duration": 30,
    "start_time": "2022-03-28T11:15:20.680Z"
   },
   {
    "duration": 23,
    "start_time": "2022-03-28T11:15:20.713Z"
   },
   {
    "duration": 13,
    "start_time": "2022-03-28T11:15:20.738Z"
   },
   {
    "duration": 10,
    "start_time": "2022-03-28T11:15:20.753Z"
   },
   {
    "duration": 15,
    "start_time": "2022-03-28T11:15:20.765Z"
   },
   {
    "duration": 16,
    "start_time": "2022-03-28T11:15:20.782Z"
   },
   {
    "duration": 33,
    "start_time": "2022-03-28T11:15:20.800Z"
   },
   {
    "duration": 22,
    "start_time": "2022-03-28T11:15:20.835Z"
   },
   {
    "duration": 16,
    "start_time": "2022-03-28T11:15:20.859Z"
   },
   {
    "duration": 10,
    "start_time": "2022-03-28T11:15:20.878Z"
   },
   {
    "duration": 12,
    "start_time": "2022-03-28T11:15:20.890Z"
   },
   {
    "duration": 37,
    "start_time": "2022-03-28T11:15:20.904Z"
   },
   {
    "duration": 9,
    "start_time": "2022-03-28T11:15:20.944Z"
   },
   {
    "duration": 8,
    "start_time": "2022-03-28T11:15:20.955Z"
   },
   {
    "duration": 13,
    "start_time": "2022-03-28T11:15:20.967Z"
   },
   {
    "duration": 43,
    "start_time": "2022-03-28T11:15:20.983Z"
   },
   {
    "duration": 15,
    "start_time": "2022-03-28T11:15:21.028Z"
   },
   {
    "duration": 17,
    "start_time": "2022-03-28T11:15:21.046Z"
   },
   {
    "duration": 12,
    "start_time": "2022-03-28T11:15:21.065Z"
   },
   {
    "duration": 22,
    "start_time": "2022-03-28T11:15:21.079Z"
   },
   {
    "duration": 46,
    "start_time": "2022-03-28T11:15:21.105Z"
   },
   {
    "duration": 7,
    "start_time": "2022-03-28T11:15:21.153Z"
   },
   {
    "duration": 12,
    "start_time": "2022-03-28T11:15:21.162Z"
   },
   {
    "duration": 16,
    "start_time": "2022-03-28T11:15:21.176Z"
   },
   {
    "duration": 25,
    "start_time": "2022-03-28T11:15:21.194Z"
   },
   {
    "duration": 52,
    "start_time": "2022-03-28T11:15:21.221Z"
   },
   {
    "duration": 44,
    "start_time": "2022-03-28T11:15:21.276Z"
   },
   {
    "duration": 25,
    "start_time": "2022-03-28T11:15:21.322Z"
   },
   {
    "duration": 69,
    "start_time": "2022-03-28T11:15:21.350Z"
   },
   {
    "duration": 183,
    "start_time": "2022-03-28T11:15:31.168Z"
   },
   {
    "duration": 559,
    "start_time": "2022-03-28T11:16:50.915Z"
   },
   {
    "duration": 194,
    "start_time": "2022-03-28T11:17:04.887Z"
   },
   {
    "duration": 120,
    "start_time": "2022-03-28T11:19:53.050Z"
   },
   {
    "duration": 1679,
    "start_time": "2022-03-28T11:21:14.940Z"
   },
   {
    "duration": 30,
    "start_time": "2022-03-28T11:21:16.622Z"
   },
   {
    "duration": 25,
    "start_time": "2022-03-28T11:21:16.655Z"
   },
   {
    "duration": 74,
    "start_time": "2022-03-28T11:21:16.682Z"
   },
   {
    "duration": 18,
    "start_time": "2022-03-28T11:21:16.760Z"
   },
   {
    "duration": 747,
    "start_time": "2022-03-28T11:21:16.780Z"
   },
   {
    "duration": 14,
    "start_time": "2022-03-28T11:21:17.529Z"
   },
   {
    "duration": 12,
    "start_time": "2022-03-28T11:21:17.545Z"
   },
   {
    "duration": 11,
    "start_time": "2022-03-28T11:21:17.559Z"
   },
   {
    "duration": 31,
    "start_time": "2022-03-28T11:21:17.573Z"
   },
   {
    "duration": 13,
    "start_time": "2022-03-28T11:21:17.606Z"
   },
   {
    "duration": 11,
    "start_time": "2022-03-28T11:21:17.621Z"
   },
   {
    "duration": 20,
    "start_time": "2022-03-28T11:21:17.634Z"
   },
   {
    "duration": 8,
    "start_time": "2022-03-28T11:21:17.659Z"
   },
   {
    "duration": 7,
    "start_time": "2022-03-28T11:21:17.670Z"
   },
   {
    "duration": 29,
    "start_time": "2022-03-28T11:21:17.679Z"
   },
   {
    "duration": 7,
    "start_time": "2022-03-28T11:21:17.711Z"
   },
   {
    "duration": 20,
    "start_time": "2022-03-28T11:21:17.720Z"
   },
   {
    "duration": 12,
    "start_time": "2022-03-28T11:21:17.743Z"
   },
   {
    "duration": 12,
    "start_time": "2022-03-28T11:21:17.757Z"
   },
   {
    "duration": 8,
    "start_time": "2022-03-28T11:21:17.771Z"
   },
   {
    "duration": 7,
    "start_time": "2022-03-28T11:21:17.800Z"
   },
   {
    "duration": 7,
    "start_time": "2022-03-28T11:21:17.809Z"
   },
   {
    "duration": 15,
    "start_time": "2022-03-28T11:21:17.818Z"
   },
   {
    "duration": 13,
    "start_time": "2022-03-28T11:21:17.834Z"
   },
   {
    "duration": 12,
    "start_time": "2022-03-28T11:21:17.850Z"
   },
   {
    "duration": 11,
    "start_time": "2022-03-28T11:21:17.863Z"
   },
   {
    "duration": 25,
    "start_time": "2022-03-28T11:21:17.876Z"
   },
   {
    "duration": 25,
    "start_time": "2022-03-28T11:21:17.903Z"
   },
   {
    "duration": 6,
    "start_time": "2022-03-28T11:21:17.929Z"
   },
   {
    "duration": 18,
    "start_time": "2022-03-28T11:21:17.937Z"
   },
   {
    "duration": 11,
    "start_time": "2022-03-28T11:21:17.957Z"
   },
   {
    "duration": 42,
    "start_time": "2022-03-28T11:21:17.970Z"
   },
   {
    "duration": 30,
    "start_time": "2022-03-28T11:21:18.014Z"
   },
   {
    "duration": 7,
    "start_time": "2022-03-28T11:21:18.046Z"
   },
   {
    "duration": 7,
    "start_time": "2022-03-28T11:21:18.055Z"
   },
   {
    "duration": 36,
    "start_time": "2022-03-28T11:21:18.065Z"
   },
   {
    "duration": 31,
    "start_time": "2022-03-28T11:21:18.103Z"
   },
   {
    "duration": 41,
    "start_time": "2022-03-28T11:21:18.137Z"
   },
   {
    "duration": 38,
    "start_time": "2022-03-28T11:21:18.180Z"
   },
   {
    "duration": 21,
    "start_time": "2022-03-28T11:21:18.222Z"
   },
   {
    "duration": 73,
    "start_time": "2022-03-28T11:21:18.245Z"
   },
   {
    "duration": 166,
    "start_time": "2022-03-28T11:21:18.320Z"
   },
   {
    "duration": 136,
    "start_time": "2022-03-28T11:21:18.488Z"
   },
   {
    "duration": 0,
    "start_time": "2022-03-28T11:21:18.627Z"
   },
   {
    "duration": 1890,
    "start_time": "2022-03-28T11:22:46.627Z"
   },
   {
    "duration": 27,
    "start_time": "2022-03-28T11:22:48.520Z"
   },
   {
    "duration": 19,
    "start_time": "2022-03-28T11:22:48.550Z"
   },
   {
    "duration": 64,
    "start_time": "2022-03-28T11:22:48.570Z"
   },
   {
    "duration": 15,
    "start_time": "2022-03-28T11:22:48.637Z"
   },
   {
    "duration": 597,
    "start_time": "2022-03-28T11:22:48.654Z"
   },
   {
    "duration": 13,
    "start_time": "2022-03-28T11:22:49.253Z"
   },
   {
    "duration": 9,
    "start_time": "2022-03-28T11:22:49.267Z"
   },
   {
    "duration": 32,
    "start_time": "2022-03-28T11:22:49.278Z"
   },
   {
    "duration": 5,
    "start_time": "2022-03-28T11:22:49.312Z"
   },
   {
    "duration": 6,
    "start_time": "2022-03-28T11:22:49.320Z"
   },
   {
    "duration": 9,
    "start_time": "2022-03-28T11:22:49.328Z"
   },
   {
    "duration": 8,
    "start_time": "2022-03-28T11:22:49.339Z"
   },
   {
    "duration": 8,
    "start_time": "2022-03-28T11:22:49.351Z"
   },
   {
    "duration": 45,
    "start_time": "2022-03-28T11:22:49.361Z"
   },
   {
    "duration": 11,
    "start_time": "2022-03-28T11:22:49.408Z"
   },
   {
    "duration": 9,
    "start_time": "2022-03-28T11:22:49.420Z"
   },
   {
    "duration": 10,
    "start_time": "2022-03-28T11:22:49.431Z"
   },
   {
    "duration": 9,
    "start_time": "2022-03-28T11:22:49.443Z"
   },
   {
    "duration": 14,
    "start_time": "2022-03-28T11:22:49.454Z"
   },
   {
    "duration": 8,
    "start_time": "2022-03-28T11:22:49.470Z"
   },
   {
    "duration": 27,
    "start_time": "2022-03-28T11:22:49.480Z"
   },
   {
    "duration": 5,
    "start_time": "2022-03-28T11:22:49.509Z"
   },
   {
    "duration": 10,
    "start_time": "2022-03-28T11:22:49.516Z"
   },
   {
    "duration": 9,
    "start_time": "2022-03-28T11:22:49.528Z"
   },
   {
    "duration": 16,
    "start_time": "2022-03-28T11:22:49.539Z"
   },
   {
    "duration": 13,
    "start_time": "2022-03-28T11:22:49.556Z"
   },
   {
    "duration": 30,
    "start_time": "2022-03-28T11:22:49.571Z"
   },
   {
    "duration": 27,
    "start_time": "2022-03-28T11:22:49.603Z"
   },
   {
    "duration": 4,
    "start_time": "2022-03-28T11:22:49.632Z"
   },
   {
    "duration": 14,
    "start_time": "2022-03-28T11:22:49.637Z"
   },
   {
    "duration": 9,
    "start_time": "2022-03-28T11:22:49.653Z"
   },
   {
    "duration": 45,
    "start_time": "2022-03-28T11:22:49.665Z"
   },
   {
    "duration": 27,
    "start_time": "2022-03-28T11:22:49.712Z"
   },
   {
    "duration": 7,
    "start_time": "2022-03-28T11:22:49.741Z"
   },
   {
    "duration": 8,
    "start_time": "2022-03-28T11:22:49.750Z"
   },
   {
    "duration": 9,
    "start_time": "2022-03-28T11:22:49.760Z"
   },
   {
    "duration": 46,
    "start_time": "2022-03-28T11:22:49.771Z"
   },
   {
    "duration": 27,
    "start_time": "2022-03-28T11:22:49.819Z"
   },
   {
    "duration": 53,
    "start_time": "2022-03-28T11:22:49.848Z"
   },
   {
    "duration": 27,
    "start_time": "2022-03-28T11:22:49.907Z"
   },
   {
    "duration": 39,
    "start_time": "2022-03-28T11:22:49.937Z"
   },
   {
    "duration": 172,
    "start_time": "2022-03-28T11:22:50.001Z"
   },
   {
    "duration": 784,
    "start_time": "2022-03-28T11:22:50.175Z"
   },
   {
    "duration": 40523,
    "start_time": "2022-03-28T11:22:50.961Z"
   },
   {
    "duration": 316,
    "start_time": "2022-03-28T11:28:11.586Z"
   },
   {
    "duration": 1916,
    "start_time": "2022-03-28T11:29:47.038Z"
   },
   {
    "duration": 37,
    "start_time": "2022-03-28T11:29:48.957Z"
   },
   {
    "duration": 25,
    "start_time": "2022-03-28T11:29:48.997Z"
   },
   {
    "duration": 58,
    "start_time": "2022-03-28T11:29:49.024Z"
   },
   {
    "duration": 18,
    "start_time": "2022-03-28T11:29:49.104Z"
   },
   {
    "duration": 659,
    "start_time": "2022-03-28T11:29:49.124Z"
   },
   {
    "duration": 22,
    "start_time": "2022-03-28T11:29:49.785Z"
   },
   {
    "duration": 12,
    "start_time": "2022-03-28T11:29:49.809Z"
   },
   {
    "duration": 20,
    "start_time": "2022-03-28T11:29:49.823Z"
   },
   {
    "duration": 5,
    "start_time": "2022-03-28T11:29:49.845Z"
   },
   {
    "duration": 31,
    "start_time": "2022-03-28T11:29:49.852Z"
   },
   {
    "duration": 27,
    "start_time": "2022-03-28T11:29:49.885Z"
   },
   {
    "duration": 12,
    "start_time": "2022-03-28T11:29:49.914Z"
   },
   {
    "duration": 10,
    "start_time": "2022-03-28T11:29:49.930Z"
   },
   {
    "duration": 8,
    "start_time": "2022-03-28T11:29:49.942Z"
   },
   {
    "duration": 16,
    "start_time": "2022-03-28T11:29:49.952Z"
   },
   {
    "duration": 19,
    "start_time": "2022-03-28T11:29:49.971Z"
   },
   {
    "duration": 7,
    "start_time": "2022-03-28T11:29:50.002Z"
   },
   {
    "duration": 12,
    "start_time": "2022-03-28T11:29:50.011Z"
   },
   {
    "duration": 15,
    "start_time": "2022-03-28T11:29:50.025Z"
   },
   {
    "duration": 14,
    "start_time": "2022-03-28T11:29:50.042Z"
   },
   {
    "duration": 17,
    "start_time": "2022-03-28T11:29:50.058Z"
   },
   {
    "duration": 28,
    "start_time": "2022-03-28T11:29:50.077Z"
   },
   {
    "duration": 8,
    "start_time": "2022-03-28T11:29:50.110Z"
   },
   {
    "duration": 14,
    "start_time": "2022-03-28T11:29:50.120Z"
   },
   {
    "duration": 24,
    "start_time": "2022-03-28T11:29:50.136Z"
   },
   {
    "duration": 17,
    "start_time": "2022-03-28T11:29:50.162Z"
   },
   {
    "duration": 11,
    "start_time": "2022-03-28T11:29:50.181Z"
   },
   {
    "duration": 37,
    "start_time": "2022-03-28T11:29:50.194Z"
   },
   {
    "duration": 6,
    "start_time": "2022-03-28T11:29:50.233Z"
   },
   {
    "duration": 15,
    "start_time": "2022-03-28T11:29:50.241Z"
   },
   {
    "duration": 11,
    "start_time": "2022-03-28T11:29:50.259Z"
   },
   {
    "duration": 40,
    "start_time": "2022-03-28T11:29:50.273Z"
   },
   {
    "duration": 30,
    "start_time": "2022-03-28T11:29:50.315Z"
   },
   {
    "duration": 8,
    "start_time": "2022-03-28T11:29:50.347Z"
   },
   {
    "duration": 6,
    "start_time": "2022-03-28T11:29:50.358Z"
   },
   {
    "duration": 39,
    "start_time": "2022-03-28T11:29:50.366Z"
   },
   {
    "duration": 22,
    "start_time": "2022-03-28T11:29:50.407Z"
   },
   {
    "duration": 27,
    "start_time": "2022-03-28T11:29:50.431Z"
   },
   {
    "duration": 66,
    "start_time": "2022-03-28T11:29:50.460Z"
   },
   {
    "duration": 27,
    "start_time": "2022-03-28T11:29:50.531Z"
   },
   {
    "duration": 78,
    "start_time": "2022-03-28T11:29:50.560Z"
   },
   {
    "duration": 790,
    "start_time": "2022-03-28T11:29:50.641Z"
   },
   {
    "duration": 173,
    "start_time": "2022-03-28T11:29:51.432Z"
   },
   {
    "duration": 129,
    "start_time": "2022-03-28T11:33:34.469Z"
   },
   {
    "duration": 159,
    "start_time": "2022-03-28T11:34:59.543Z"
   },
   {
    "duration": 881,
    "start_time": "2022-03-28T11:36:22.150Z"
   },
   {
    "duration": 723,
    "start_time": "2022-03-28T11:36:48.376Z"
   },
   {
    "duration": 7,
    "start_time": "2022-03-28T11:46:59.638Z"
   },
   {
    "duration": 7,
    "start_time": "2022-03-28T11:47:13.433Z"
   },
   {
    "duration": 7,
    "start_time": "2022-03-28T11:50:18.665Z"
   },
   {
    "duration": 7,
    "start_time": "2022-03-28T11:50:19.194Z"
   },
   {
    "duration": 74,
    "start_time": "2022-03-28T12:18:31.754Z"
   },
   {
    "duration": 2273,
    "start_time": "2022-03-28T12:18:38.312Z"
   },
   {
    "duration": 37,
    "start_time": "2022-03-28T12:18:40.588Z"
   },
   {
    "duration": 25,
    "start_time": "2022-03-28T12:18:40.627Z"
   },
   {
    "duration": 77,
    "start_time": "2022-03-28T12:18:40.654Z"
   },
   {
    "duration": 17,
    "start_time": "2022-03-28T12:18:40.734Z"
   },
   {
    "duration": 845,
    "start_time": "2022-03-28T12:18:40.753Z"
   },
   {
    "duration": 16,
    "start_time": "2022-03-28T12:18:41.600Z"
   },
   {
    "duration": 11,
    "start_time": "2022-03-28T12:18:41.619Z"
   },
   {
    "duration": 14,
    "start_time": "2022-03-28T12:18:41.632Z"
   },
   {
    "duration": 38,
    "start_time": "2022-03-28T12:18:41.649Z"
   },
   {
    "duration": 15,
    "start_time": "2022-03-28T12:18:41.690Z"
   },
   {
    "duration": 10,
    "start_time": "2022-03-28T12:18:41.707Z"
   },
   {
    "duration": 8,
    "start_time": "2022-03-28T12:18:41.719Z"
   },
   {
    "duration": 12,
    "start_time": "2022-03-28T12:18:41.734Z"
   },
   {
    "duration": 6,
    "start_time": "2022-03-28T12:18:41.785Z"
   },
   {
    "duration": 11,
    "start_time": "2022-03-28T12:18:41.793Z"
   },
   {
    "duration": 6,
    "start_time": "2022-03-28T12:18:41.807Z"
   },
   {
    "duration": 11,
    "start_time": "2022-03-28T12:18:41.816Z"
   },
   {
    "duration": 12,
    "start_time": "2022-03-28T12:18:41.830Z"
   },
   {
    "duration": 44,
    "start_time": "2022-03-28T12:18:41.844Z"
   },
   {
    "duration": 6,
    "start_time": "2022-03-28T12:18:41.890Z"
   },
   {
    "duration": 12,
    "start_time": "2022-03-28T12:18:41.898Z"
   },
   {
    "duration": 15,
    "start_time": "2022-03-28T12:18:41.912Z"
   },
   {
    "duration": 13,
    "start_time": "2022-03-28T12:18:41.929Z"
   },
   {
    "duration": 40,
    "start_time": "2022-03-28T12:18:41.945Z"
   },
   {
    "duration": 8,
    "start_time": "2022-03-28T12:18:41.987Z"
   },
   {
    "duration": 8,
    "start_time": "2022-03-28T12:18:41.997Z"
   },
   {
    "duration": 10,
    "start_time": "2022-03-28T12:18:42.008Z"
   },
   {
    "duration": 71,
    "start_time": "2022-03-28T12:18:42.020Z"
   },
   {
    "duration": 6,
    "start_time": "2022-03-28T12:18:42.094Z"
   },
   {
    "duration": 19,
    "start_time": "2022-03-28T12:18:42.102Z"
   },
   {
    "duration": 16,
    "start_time": "2022-03-28T12:18:42.124Z"
   },
   {
    "duration": 60,
    "start_time": "2022-03-28T12:18:42.143Z"
   },
   {
    "duration": 44,
    "start_time": "2022-03-28T12:18:42.205Z"
   },
   {
    "duration": 30,
    "start_time": "2022-03-28T12:18:42.251Z"
   },
   {
    "duration": 16,
    "start_time": "2022-03-28T12:18:42.283Z"
   },
   {
    "duration": 13,
    "start_time": "2022-03-28T12:18:42.301Z"
   },
   {
    "duration": 32,
    "start_time": "2022-03-28T12:18:42.316Z"
   },
   {
    "duration": 65,
    "start_time": "2022-03-28T12:18:42.351Z"
   },
   {
    "duration": 30,
    "start_time": "2022-03-28T12:18:42.419Z"
   },
   {
    "duration": 51,
    "start_time": "2022-03-28T12:18:42.456Z"
   },
   {
    "duration": 51,
    "start_time": "2022-03-28T12:18:42.509Z"
   },
   {
    "duration": 254,
    "start_time": "2022-03-28T12:18:42.583Z"
   },
   {
    "duration": 1082,
    "start_time": "2022-03-28T12:18:42.840Z"
   },
   {
    "duration": 1436,
    "start_time": "2022-03-28T12:18:43.924Z"
   },
   {
    "duration": 323,
    "start_time": "2022-03-28T12:18:45.362Z"
   },
   {
    "duration": 819,
    "start_time": "2022-03-28T12:18:45.689Z"
   },
   {
    "duration": 8,
    "start_time": "2022-03-28T12:18:46.510Z"
   },
   {
    "duration": 11,
    "start_time": "2022-03-28T12:18:46.520Z"
   },
   {
    "duration": 79,
    "start_time": "2022-03-28T12:18:46.533Z"
   },
   {
    "duration": 3,
    "start_time": "2022-03-28T12:19:51.978Z"
   },
   {
    "duration": 8,
    "start_time": "2022-03-28T12:20:22.474Z"
   },
   {
    "duration": 8,
    "start_time": "2022-03-28T12:20:22.741Z"
   },
   {
    "duration": 51,
    "start_time": "2022-03-28T12:20:23.945Z"
   },
   {
    "duration": 994,
    "start_time": "2022-03-28T12:21:51.972Z"
   },
   {
    "duration": 249,
    "start_time": "2022-03-28T12:26:28.643Z"
   },
   {
    "duration": 2008,
    "start_time": "2022-03-28T12:28:02.607Z"
   },
   {
    "duration": 31,
    "start_time": "2022-03-28T12:28:04.618Z"
   },
   {
    "duration": 34,
    "start_time": "2022-03-28T12:28:04.652Z"
   },
   {
    "duration": 59,
    "start_time": "2022-03-28T12:28:04.688Z"
   },
   {
    "duration": 38,
    "start_time": "2022-03-28T12:28:04.750Z"
   },
   {
    "duration": 861,
    "start_time": "2022-03-28T12:28:04.790Z"
   },
   {
    "duration": 32,
    "start_time": "2022-03-28T12:28:05.653Z"
   },
   {
    "duration": 11,
    "start_time": "2022-03-28T12:28:05.688Z"
   },
   {
    "duration": 18,
    "start_time": "2022-03-28T12:28:05.701Z"
   },
   {
    "duration": 12,
    "start_time": "2022-03-28T12:28:05.721Z"
   },
   {
    "duration": 25,
    "start_time": "2022-03-28T12:28:05.735Z"
   },
   {
    "duration": 26,
    "start_time": "2022-03-28T12:28:05.763Z"
   },
   {
    "duration": 16,
    "start_time": "2022-03-28T12:28:05.791Z"
   },
   {
    "duration": 36,
    "start_time": "2022-03-28T12:28:05.811Z"
   },
   {
    "duration": 21,
    "start_time": "2022-03-28T12:28:05.850Z"
   },
   {
    "duration": 30,
    "start_time": "2022-03-28T12:28:05.874Z"
   },
   {
    "duration": 9,
    "start_time": "2022-03-28T12:28:05.906Z"
   },
   {
    "duration": 27,
    "start_time": "2022-03-28T12:28:05.917Z"
   },
   {
    "duration": 10,
    "start_time": "2022-03-28T12:28:05.946Z"
   },
   {
    "duration": 8,
    "start_time": "2022-03-28T12:28:05.958Z"
   },
   {
    "duration": 10,
    "start_time": "2022-03-28T12:28:05.968Z"
   },
   {
    "duration": 10,
    "start_time": "2022-03-28T12:28:05.980Z"
   },
   {
    "duration": 8,
    "start_time": "2022-03-28T12:28:05.992Z"
   },
   {
    "duration": 13,
    "start_time": "2022-03-28T12:28:06.002Z"
   },
   {
    "duration": 16,
    "start_time": "2022-03-28T12:28:06.017Z"
   },
   {
    "duration": 9,
    "start_time": "2022-03-28T12:28:06.035Z"
   },
   {
    "duration": 38,
    "start_time": "2022-03-28T12:28:06.046Z"
   },
   {
    "duration": 13,
    "start_time": "2022-03-28T12:28:06.086Z"
   },
   {
    "duration": 34,
    "start_time": "2022-03-28T12:28:06.101Z"
   },
   {
    "duration": 12,
    "start_time": "2022-03-28T12:28:06.137Z"
   },
   {
    "duration": 32,
    "start_time": "2022-03-28T12:28:06.152Z"
   },
   {
    "duration": 12,
    "start_time": "2022-03-28T12:28:06.186Z"
   },
   {
    "duration": 25,
    "start_time": "2022-03-28T12:28:06.200Z"
   },
   {
    "duration": 63,
    "start_time": "2022-03-28T12:28:06.228Z"
   },
   {
    "duration": 10,
    "start_time": "2022-03-28T12:28:06.294Z"
   },
   {
    "duration": 8,
    "start_time": "2022-03-28T12:28:06.306Z"
   },
   {
    "duration": 11,
    "start_time": "2022-03-28T12:28:06.316Z"
   },
   {
    "duration": 67,
    "start_time": "2022-03-28T12:28:06.330Z"
   },
   {
    "duration": 35,
    "start_time": "2022-03-28T12:28:06.399Z"
   },
   {
    "duration": 64,
    "start_time": "2022-03-28T12:28:06.436Z"
   },
   {
    "duration": 25,
    "start_time": "2022-03-28T12:28:06.505Z"
   },
   {
    "duration": 8,
    "start_time": "2022-03-28T12:28:06.532Z"
   },
   {
    "duration": 44,
    "start_time": "2022-03-28T12:28:06.542Z"
   },
   {
    "duration": 50,
    "start_time": "2022-03-28T12:28:06.588Z"
   },
   {
    "duration": 245,
    "start_time": "2022-03-28T12:28:06.640Z"
   },
   {
    "duration": 51,
    "start_time": "2022-03-28T12:28:06.888Z"
   },
   {
    "duration": 1043,
    "start_time": "2022-03-28T12:28:06.941Z"
   },
   {
    "duration": 1170,
    "start_time": "2022-03-28T12:28:07.986Z"
   },
   {
    "duration": 1048,
    "start_time": "2022-03-28T12:28:09.158Z"
   },
   {
    "duration": 277,
    "start_time": "2022-03-28T12:28:10.208Z"
   },
   {
    "duration": 712,
    "start_time": "2022-03-28T12:28:10.488Z"
   },
   {
    "duration": 290,
    "start_time": "2022-03-28T12:28:11.202Z"
   },
   {
    "duration": 52,
    "start_time": "2022-03-28T12:29:40.117Z"
   },
   {
    "duration": 1033,
    "start_time": "2022-03-28T12:31:31.291Z"
   },
   {
    "duration": 181,
    "start_time": "2022-03-28T12:32:42.609Z"
   },
   {
    "duration": 50,
    "start_time": "2022-03-28T12:35:25.526Z"
   },
   {
    "duration": 187,
    "start_time": "2022-03-28T12:37:44.203Z"
   },
   {
    "duration": 53,
    "start_time": "2022-03-28T12:38:43.220Z"
   },
   {
    "duration": 50,
    "start_time": "2022-03-28T12:38:46.699Z"
   },
   {
    "duration": 50,
    "start_time": "2022-03-28T12:42:29.331Z"
   },
   {
    "duration": 1023,
    "start_time": "2022-03-28T12:43:45.119Z"
   },
   {
    "duration": 1017,
    "start_time": "2022-03-28T12:43:59.928Z"
   },
   {
    "duration": 2091,
    "start_time": "2022-03-28T12:49:02.284Z"
   },
   {
    "duration": 33,
    "start_time": "2022-03-28T12:49:04.377Z"
   },
   {
    "duration": 25,
    "start_time": "2022-03-28T12:49:04.412Z"
   },
   {
    "duration": 81,
    "start_time": "2022-03-28T12:49:04.440Z"
   },
   {
    "duration": 19,
    "start_time": "2022-03-28T12:49:04.523Z"
   },
   {
    "duration": 807,
    "start_time": "2022-03-28T12:49:04.544Z"
   },
   {
    "duration": 32,
    "start_time": "2022-03-28T12:49:05.353Z"
   },
   {
    "duration": 11,
    "start_time": "2022-03-28T12:49:05.387Z"
   },
   {
    "duration": 16,
    "start_time": "2022-03-28T12:49:05.401Z"
   },
   {
    "duration": 10,
    "start_time": "2022-03-28T12:49:05.421Z"
   },
   {
    "duration": 12,
    "start_time": "2022-03-28T12:49:05.433Z"
   },
   {
    "duration": 38,
    "start_time": "2022-03-28T12:49:05.447Z"
   },
   {
    "duration": 8,
    "start_time": "2022-03-28T12:49:05.488Z"
   },
   {
    "duration": 10,
    "start_time": "2022-03-28T12:49:05.499Z"
   },
   {
    "duration": 14,
    "start_time": "2022-03-28T12:49:05.511Z"
   },
   {
    "duration": 15,
    "start_time": "2022-03-28T12:49:05.527Z"
   },
   {
    "duration": 40,
    "start_time": "2022-03-28T12:49:05.544Z"
   },
   {
    "duration": 8,
    "start_time": "2022-03-28T12:49:05.586Z"
   },
   {
    "duration": 12,
    "start_time": "2022-03-28T12:49:05.596Z"
   },
   {
    "duration": 12,
    "start_time": "2022-03-28T12:49:05.611Z"
   },
   {
    "duration": 26,
    "start_time": "2022-03-28T12:49:05.625Z"
   },
   {
    "duration": 15,
    "start_time": "2022-03-28T12:49:05.654Z"
   },
   {
    "duration": 6,
    "start_time": "2022-03-28T12:49:05.683Z"
   },
   {
    "duration": 22,
    "start_time": "2022-03-28T12:49:05.691Z"
   },
   {
    "duration": 9,
    "start_time": "2022-03-28T12:49:05.715Z"
   },
   {
    "duration": 14,
    "start_time": "2022-03-28T12:49:05.726Z"
   },
   {
    "duration": 7,
    "start_time": "2022-03-28T12:49:05.742Z"
   },
   {
    "duration": 29,
    "start_time": "2022-03-28T12:49:05.755Z"
   },
   {
    "duration": 35,
    "start_time": "2022-03-28T12:49:05.786Z"
   },
   {
    "duration": 10,
    "start_time": "2022-03-28T12:49:05.824Z"
   },
   {
    "duration": 20,
    "start_time": "2022-03-28T12:49:05.836Z"
   },
   {
    "duration": 31,
    "start_time": "2022-03-28T12:49:05.859Z"
   },
   {
    "duration": 21,
    "start_time": "2022-03-28T12:49:05.893Z"
   },
   {
    "duration": 42,
    "start_time": "2022-03-28T12:49:05.917Z"
   },
   {
    "duration": 9,
    "start_time": "2022-03-28T12:49:05.984Z"
   },
   {
    "duration": 7,
    "start_time": "2022-03-28T12:49:05.995Z"
   },
   {
    "duration": 21,
    "start_time": "2022-03-28T12:49:06.004Z"
   },
   {
    "duration": 59,
    "start_time": "2022-03-28T12:49:06.028Z"
   },
   {
    "duration": 40,
    "start_time": "2022-03-28T12:49:06.090Z"
   },
   {
    "duration": 69,
    "start_time": "2022-03-28T12:49:06.133Z"
   },
   {
    "duration": 30,
    "start_time": "2022-03-28T12:49:06.205Z"
   },
   {
    "duration": 10,
    "start_time": "2022-03-28T12:49:06.238Z"
   },
   {
    "duration": 16,
    "start_time": "2022-03-28T12:49:06.284Z"
   },
   {
    "duration": 65,
    "start_time": "2022-03-28T12:49:06.302Z"
   },
   {
    "duration": 236,
    "start_time": "2022-03-28T12:49:06.369Z"
   },
   {
    "duration": 50,
    "start_time": "2022-03-28T12:49:06.607Z"
   },
   {
    "duration": 70,
    "start_time": "2022-03-28T12:49:06.659Z"
   },
   {
    "duration": 66,
    "start_time": "2022-03-28T12:49:06.732Z"
   },
   {
    "duration": 50,
    "start_time": "2022-03-28T12:49:06.801Z"
   },
   {
    "duration": 1049,
    "start_time": "2022-03-28T12:49:06.854Z"
   },
   {
    "duration": 1300,
    "start_time": "2022-03-28T12:49:07.905Z"
   },
   {
    "duration": 1230,
    "start_time": "2022-03-28T12:49:09.208Z"
   },
   {
    "duration": 1069,
    "start_time": "2022-03-28T12:49:10.441Z"
   },
   {
    "duration": 1150,
    "start_time": "2022-03-28T12:49:11.513Z"
   },
   {
    "duration": 1048,
    "start_time": "2022-03-28T12:49:12.666Z"
   },
   {
    "duration": 368,
    "start_time": "2022-03-28T12:49:13.717Z"
   },
   {
    "duration": 527,
    "start_time": "2022-03-28T12:49:14.089Z"
   },
   {
    "duration": 267,
    "start_time": "2022-03-28T12:49:14.618Z"
   },
   {
    "duration": 295,
    "start_time": "2022-03-28T12:49:14.889Z"
   },
   {
    "duration": 202,
    "start_time": "2022-03-28T12:49:15.187Z"
   },
   {
    "duration": 196,
    "start_time": "2022-03-28T12:49:15.391Z"
   },
   {
    "duration": 0,
    "start_time": "2022-03-28T12:49:15.591Z"
   },
   {
    "duration": 346,
    "start_time": "2022-03-28T12:49:51.940Z"
   },
   {
    "duration": 1085,
    "start_time": "2022-03-28T12:55:10.552Z"
   },
   {
    "duration": 2042,
    "start_time": "2022-03-28T13:07:06.045Z"
   },
   {
    "duration": 32,
    "start_time": "2022-03-28T13:07:08.089Z"
   },
   {
    "duration": 25,
    "start_time": "2022-03-28T13:07:08.123Z"
   },
   {
    "duration": 104,
    "start_time": "2022-03-28T13:07:08.151Z"
   },
   {
    "duration": 34,
    "start_time": "2022-03-28T13:07:08.257Z"
   },
   {
    "duration": 810,
    "start_time": "2022-03-28T13:07:08.294Z"
   },
   {
    "duration": 17,
    "start_time": "2022-03-28T13:07:09.106Z"
   },
   {
    "duration": 10,
    "start_time": "2022-03-28T13:07:09.125Z"
   },
   {
    "duration": 47,
    "start_time": "2022-03-28T13:07:09.137Z"
   },
   {
    "duration": 7,
    "start_time": "2022-03-28T13:07:09.189Z"
   },
   {
    "duration": 11,
    "start_time": "2022-03-28T13:07:09.199Z"
   },
   {
    "duration": 11,
    "start_time": "2022-03-28T13:07:09.213Z"
   },
   {
    "duration": 8,
    "start_time": "2022-03-28T13:07:09.227Z"
   },
   {
    "duration": 48,
    "start_time": "2022-03-28T13:07:09.238Z"
   },
   {
    "duration": 8,
    "start_time": "2022-03-28T13:07:09.288Z"
   },
   {
    "duration": 12,
    "start_time": "2022-03-28T13:07:09.298Z"
   },
   {
    "duration": 11,
    "start_time": "2022-03-28T13:07:09.312Z"
   },
   {
    "duration": 11,
    "start_time": "2022-03-28T13:07:09.325Z"
   },
   {
    "duration": 46,
    "start_time": "2022-03-28T13:07:09.338Z"
   },
   {
    "duration": 7,
    "start_time": "2022-03-28T13:07:09.387Z"
   },
   {
    "duration": 13,
    "start_time": "2022-03-28T13:07:09.397Z"
   },
   {
    "duration": 11,
    "start_time": "2022-03-28T13:07:09.412Z"
   },
   {
    "duration": 7,
    "start_time": "2022-03-28T13:07:09.426Z"
   },
   {
    "duration": 50,
    "start_time": "2022-03-28T13:07:09.435Z"
   },
   {
    "duration": 6,
    "start_time": "2022-03-28T13:07:09.487Z"
   },
   {
    "duration": 22,
    "start_time": "2022-03-28T13:07:09.495Z"
   },
   {
    "duration": 8,
    "start_time": "2022-03-28T13:07:09.520Z"
   },
   {
    "duration": 9,
    "start_time": "2022-03-28T13:07:09.534Z"
   },
   {
    "duration": 53,
    "start_time": "2022-03-28T13:07:09.545Z"
   },
   {
    "duration": 5,
    "start_time": "2022-03-28T13:07:09.600Z"
   },
   {
    "duration": 13,
    "start_time": "2022-03-28T13:07:09.607Z"
   },
   {
    "duration": 12,
    "start_time": "2022-03-28T13:07:09.622Z"
   },
   {
    "duration": 56,
    "start_time": "2022-03-28T13:07:09.636Z"
   },
   {
    "duration": 40,
    "start_time": "2022-03-28T13:07:09.695Z"
   },
   {
    "duration": 9,
    "start_time": "2022-03-28T13:07:09.737Z"
   },
   {
    "duration": 11,
    "start_time": "2022-03-28T13:07:09.748Z"
   },
   {
    "duration": 10,
    "start_time": "2022-03-28T13:07:09.785Z"
   },
   {
    "duration": 28,
    "start_time": "2022-03-28T13:07:09.797Z"
   },
   {
    "duration": 72,
    "start_time": "2022-03-28T13:07:09.827Z"
   },
   {
    "duration": 28,
    "start_time": "2022-03-28T13:07:09.901Z"
   },
   {
    "duration": 54,
    "start_time": "2022-03-28T13:07:09.931Z"
   },
   {
    "duration": 10,
    "start_time": "2022-03-28T13:07:09.987Z"
   },
   {
    "duration": 19,
    "start_time": "2022-03-28T13:07:09.999Z"
   },
   {
    "duration": 79,
    "start_time": "2022-03-28T13:07:10.020Z"
   },
   {
    "duration": 245,
    "start_time": "2022-03-28T13:07:10.102Z"
   },
   {
    "duration": 64,
    "start_time": "2022-03-28T13:07:10.349Z"
   },
   {
    "duration": 52,
    "start_time": "2022-03-28T13:07:10.416Z"
   },
   {
    "duration": 50,
    "start_time": "2022-03-28T13:07:10.485Z"
   },
   {
    "duration": 75,
    "start_time": "2022-03-28T13:07:10.537Z"
   },
   {
    "duration": 1142,
    "start_time": "2022-03-28T13:07:10.614Z"
   },
   {
    "duration": 1266,
    "start_time": "2022-03-28T13:07:11.759Z"
   },
   {
    "duration": 1045,
    "start_time": "2022-03-28T13:07:13.027Z"
   },
   {
    "duration": 1063,
    "start_time": "2022-03-28T13:07:14.074Z"
   },
   {
    "duration": 1059,
    "start_time": "2022-03-28T13:07:15.139Z"
   },
   {
    "duration": 1208,
    "start_time": "2022-03-28T13:07:16.200Z"
   },
   {
    "duration": 273,
    "start_time": "2022-03-28T13:07:17.410Z"
   },
   {
    "duration": 536,
    "start_time": "2022-03-28T13:07:17.686Z"
   },
   {
    "duration": 263,
    "start_time": "2022-03-28T13:07:18.224Z"
   },
   {
    "duration": 393,
    "start_time": "2022-03-28T13:07:18.491Z"
   },
   {
    "duration": 399,
    "start_time": "2022-03-28T13:07:18.888Z"
   },
   {
    "duration": 396,
    "start_time": "2022-03-28T13:07:19.290Z"
   },
   {
    "duration": 37,
    "start_time": "2022-03-28T13:20:12.013Z"
   },
   {
    "duration": 1010,
    "start_time": "2022-03-28T13:21:05.068Z"
   },
   {
    "duration": 1096,
    "start_time": "2022-03-28T13:21:26.365Z"
   },
   {
    "duration": 50,
    "start_time": "2022-03-28T13:23:29.616Z"
   },
   {
    "duration": 13,
    "start_time": "2022-03-28T13:27:59.118Z"
   },
   {
    "duration": 10,
    "start_time": "2022-03-28T13:30:57.622Z"
   },
   {
    "duration": 174,
    "start_time": "2022-03-28T13:33:08.300Z"
   },
   {
    "duration": 2099,
    "start_time": "2022-03-28T13:33:49.003Z"
   },
   {
    "duration": 31,
    "start_time": "2022-03-28T13:33:51.105Z"
   },
   {
    "duration": 26,
    "start_time": "2022-03-28T13:33:51.138Z"
   },
   {
    "duration": 73,
    "start_time": "2022-03-28T13:33:51.166Z"
   },
   {
    "duration": 42,
    "start_time": "2022-03-28T13:33:51.243Z"
   },
   {
    "duration": 817,
    "start_time": "2022-03-28T13:33:51.287Z"
   },
   {
    "duration": 17,
    "start_time": "2022-03-28T13:33:59.195Z"
   },
   {
    "duration": 11,
    "start_time": "2022-03-28T13:33:59.214Z"
   },
   {
    "duration": 36,
    "start_time": "2022-03-28T13:33:59.227Z"
   },
   {
    "duration": 5,
    "start_time": "2022-03-28T13:33:59.474Z"
   },
   {
    "duration": 11,
    "start_time": "2022-03-28T13:33:59.482Z"
   },
   {
    "duration": 15,
    "start_time": "2022-03-28T13:33:59.495Z"
   },
   {
    "duration": 7,
    "start_time": "2022-03-28T13:33:59.680Z"
   },
   {
    "duration": 16,
    "start_time": "2022-03-28T13:33:59.690Z"
   },
   {
    "duration": 19,
    "start_time": "2022-03-28T13:33:59.708Z"
   },
   {
    "duration": 9,
    "start_time": "2022-03-28T13:33:59.905Z"
   },
   {
    "duration": 15,
    "start_time": "2022-03-28T13:33:59.917Z"
   },
   {
    "duration": 10,
    "start_time": "2022-03-28T13:33:59.935Z"
   },
   {
    "duration": 6,
    "start_time": "2022-03-28T13:34:00.360Z"
   },
   {
    "duration": 10,
    "start_time": "2022-03-28T13:34:00.369Z"
   },
   {
    "duration": 9,
    "start_time": "2022-03-28T13:34:00.382Z"
   },
   {
    "duration": 8,
    "start_time": "2022-03-28T13:34:00.784Z"
   },
   {
    "duration": 11,
    "start_time": "2022-03-28T13:34:00.794Z"
   },
   {
    "duration": 8,
    "start_time": "2022-03-28T13:34:00.942Z"
   },
   {
    "duration": 16,
    "start_time": "2022-03-28T13:34:00.953Z"
   },
   {
    "duration": 18,
    "start_time": "2022-03-28T13:34:00.971Z"
   },
   {
    "duration": 16,
    "start_time": "2022-03-28T13:34:00.992Z"
   },
   {
    "duration": 18,
    "start_time": "2022-03-28T13:34:01.010Z"
   },
   {
    "duration": 36,
    "start_time": "2022-03-28T13:34:01.030Z"
   },
   {
    "duration": 5,
    "start_time": "2022-03-28T13:34:01.195Z"
   },
   {
    "duration": 38,
    "start_time": "2022-03-28T13:34:01.202Z"
   },
   {
    "duration": 26,
    "start_time": "2022-03-28T13:34:01.243Z"
   },
   {
    "duration": 19,
    "start_time": "2022-03-28T13:34:01.601Z"
   },
   {
    "duration": 67,
    "start_time": "2022-03-28T13:34:01.623Z"
   },
   {
    "duration": 8,
    "start_time": "2022-03-28T13:34:01.692Z"
   },
   {
    "duration": 16,
    "start_time": "2022-03-28T13:34:01.703Z"
   },
   {
    "duration": 21,
    "start_time": "2022-03-28T13:34:01.722Z"
   },
   {
    "duration": 48,
    "start_time": "2022-03-28T13:34:01.747Z"
   },
   {
    "duration": 38,
    "start_time": "2022-03-28T13:34:01.797Z"
   },
   {
    "duration": 66,
    "start_time": "2022-03-28T13:34:01.839Z"
   },
   {
    "duration": 26,
    "start_time": "2022-03-28T13:34:01.907Z"
   },
   {
    "duration": 8,
    "start_time": "2022-03-28T13:34:01.935Z"
   },
   {
    "duration": 48,
    "start_time": "2022-03-28T13:34:01.945Z"
   },
   {
    "duration": 59,
    "start_time": "2022-03-28T13:34:01.995Z"
   },
   {
    "duration": 256,
    "start_time": "2022-03-28T13:34:02.058Z"
   },
   {
    "duration": 52,
    "start_time": "2022-03-28T13:34:02.317Z"
   },
   {
    "duration": 50,
    "start_time": "2022-03-28T13:34:02.384Z"
   },
   {
    "duration": 72,
    "start_time": "2022-03-28T13:34:02.437Z"
   },
   {
    "duration": 50,
    "start_time": "2022-03-28T13:34:02.511Z"
   },
   {
    "duration": 1052,
    "start_time": "2022-03-28T13:34:02.563Z"
   },
   {
    "duration": 1205,
    "start_time": "2022-03-28T13:34:03.617Z"
   },
   {
    "duration": 1126,
    "start_time": "2022-03-28T13:34:04.825Z"
   },
   {
    "duration": 1032,
    "start_time": "2022-03-28T13:34:05.954Z"
   },
   {
    "duration": 1039,
    "start_time": "2022-03-28T13:34:06.989Z"
   },
   {
    "duration": 1060,
    "start_time": "2022-03-28T13:34:08.031Z"
   },
   {
    "duration": 297,
    "start_time": "2022-03-28T13:34:09.094Z"
   },
   {
    "duration": 641,
    "start_time": "2022-03-28T13:34:09.394Z"
   },
   {
    "duration": 448,
    "start_time": "2022-03-28T13:34:10.037Z"
   },
   {
    "duration": 392,
    "start_time": "2022-03-28T13:34:10.493Z"
   },
   {
    "duration": 391,
    "start_time": "2022-03-28T13:34:10.892Z"
   },
   {
    "duration": 696,
    "start_time": "2022-03-28T13:34:11.288Z"
   },
   {
    "duration": 98,
    "start_time": "2022-03-28T13:34:11.986Z"
   },
   {
    "duration": 98,
    "start_time": "2022-03-28T13:34:12.088Z"
   },
   {
    "duration": 14,
    "start_time": "2022-03-28T13:34:12.188Z"
   },
   {
    "duration": 125,
    "start_time": "2022-03-28T13:34:12.204Z"
   },
   {
    "duration": 39,
    "start_time": "2022-03-28T13:35:44.506Z"
   },
   {
    "duration": 108,
    "start_time": "2022-03-28T13:35:55.876Z"
   },
   {
    "duration": 49,
    "start_time": "2022-03-28T13:36:52.736Z"
   },
   {
    "duration": 167,
    "start_time": "2022-03-28T13:37:07.133Z"
   },
   {
    "duration": 62,
    "start_time": "2022-03-28T13:37:31.684Z"
   },
   {
    "duration": 40,
    "start_time": "2022-03-28T13:39:21.644Z"
   },
   {
    "duration": 1459,
    "start_time": "2022-03-28T13:40:08.671Z"
   },
   {
    "duration": 68,
    "start_time": "2022-03-28T13:40:12.216Z"
   },
   {
    "duration": 117,
    "start_time": "2022-03-28T13:44:24.439Z"
   },
   {
    "duration": 14,
    "start_time": "2022-03-28T13:44:28.183Z"
   },
   {
    "duration": 14,
    "start_time": "2022-03-28T13:46:05.177Z"
   },
   {
    "duration": 13,
    "start_time": "2022-03-28T13:46:14.801Z"
   },
   {
    "duration": 17,
    "start_time": "2022-03-28T13:46:52.673Z"
   },
   {
    "duration": 13,
    "start_time": "2022-03-28T13:46:54.178Z"
   },
   {
    "duration": 113,
    "start_time": "2022-03-28T13:49:06.318Z"
   },
   {
    "duration": 2412,
    "start_time": "2022-03-28T13:53:35.603Z"
   },
   {
    "duration": 33,
    "start_time": "2022-03-28T13:53:38.017Z"
   },
   {
    "duration": 35,
    "start_time": "2022-03-28T13:53:38.052Z"
   },
   {
    "duration": 63,
    "start_time": "2022-03-28T13:53:38.089Z"
   },
   {
    "duration": 42,
    "start_time": "2022-03-28T13:53:38.156Z"
   },
   {
    "duration": 851,
    "start_time": "2022-03-28T13:53:38.201Z"
   },
   {
    "duration": 30,
    "start_time": "2022-03-28T13:53:39.055Z"
   },
   {
    "duration": 11,
    "start_time": "2022-03-28T13:53:39.088Z"
   },
   {
    "duration": 22,
    "start_time": "2022-03-28T13:53:39.101Z"
   },
   {
    "duration": 11,
    "start_time": "2022-03-28T13:53:39.126Z"
   },
   {
    "duration": 46,
    "start_time": "2022-03-28T13:53:39.139Z"
   },
   {
    "duration": 9,
    "start_time": "2022-03-28T13:53:39.188Z"
   },
   {
    "duration": 11,
    "start_time": "2022-03-28T13:53:39.199Z"
   },
   {
    "duration": 14,
    "start_time": "2022-03-28T13:53:39.214Z"
   },
   {
    "duration": 22,
    "start_time": "2022-03-28T13:53:39.230Z"
   },
   {
    "duration": 39,
    "start_time": "2022-03-28T13:53:39.254Z"
   },
   {
    "duration": 9,
    "start_time": "2022-03-28T13:53:39.295Z"
   },
   {
    "duration": 10,
    "start_time": "2022-03-28T13:53:39.307Z"
   },
   {
    "duration": 16,
    "start_time": "2022-03-28T13:53:39.319Z"
   },
   {
    "duration": 49,
    "start_time": "2022-03-28T13:53:39.337Z"
   },
   {
    "duration": 9,
    "start_time": "2022-03-28T13:53:39.388Z"
   },
   {
    "duration": 12,
    "start_time": "2022-03-28T13:53:39.399Z"
   },
   {
    "duration": 10,
    "start_time": "2022-03-28T13:53:39.413Z"
   },
   {
    "duration": 9,
    "start_time": "2022-03-28T13:53:39.425Z"
   },
   {
    "duration": 50,
    "start_time": "2022-03-28T13:53:39.436Z"
   },
   {
    "duration": 12,
    "start_time": "2022-03-28T13:53:39.488Z"
   },
   {
    "duration": 8,
    "start_time": "2022-03-28T13:53:39.502Z"
   },
   {
    "duration": 11,
    "start_time": "2022-03-28T13:53:39.512Z"
   },
   {
    "duration": 63,
    "start_time": "2022-03-28T13:53:39.525Z"
   },
   {
    "duration": 5,
    "start_time": "2022-03-28T13:53:39.591Z"
   },
   {
    "duration": 17,
    "start_time": "2022-03-28T13:53:39.599Z"
   },
   {
    "duration": 12,
    "start_time": "2022-03-28T13:53:39.619Z"
   },
   {
    "duration": 59,
    "start_time": "2022-03-28T13:53:39.633Z"
   },
   {
    "duration": 42,
    "start_time": "2022-03-28T13:53:39.694Z"
   },
   {
    "duration": 9,
    "start_time": "2022-03-28T13:53:39.739Z"
   },
   {
    "duration": 34,
    "start_time": "2022-03-28T13:53:39.750Z"
   },
   {
    "duration": 13,
    "start_time": "2022-03-28T13:53:39.787Z"
   },
   {
    "duration": 31,
    "start_time": "2022-03-28T13:53:39.802Z"
   },
   {
    "duration": 78,
    "start_time": "2022-03-28T13:53:39.835Z"
   },
   {
    "duration": 28,
    "start_time": "2022-03-28T13:53:39.915Z"
   },
   {
    "duration": 63,
    "start_time": "2022-03-28T13:53:39.949Z"
   },
   {
    "duration": 18,
    "start_time": "2022-03-28T13:53:40.016Z"
   },
   {
    "duration": 15,
    "start_time": "2022-03-28T13:53:40.037Z"
   },
   {
    "duration": 90,
    "start_time": "2022-03-28T13:53:40.055Z"
   },
   {
    "duration": 258,
    "start_time": "2022-03-28T13:53:40.147Z"
   },
   {
    "duration": 50,
    "start_time": "2022-03-28T13:53:40.408Z"
   },
   {
    "duration": 68,
    "start_time": "2022-03-28T13:53:40.461Z"
   },
   {
    "duration": 79,
    "start_time": "2022-03-28T13:53:40.531Z"
   },
   {
    "duration": 52,
    "start_time": "2022-03-28T13:53:40.612Z"
   },
   {
    "duration": 1078,
    "start_time": "2022-03-28T13:53:40.685Z"
   },
   {
    "duration": 1219,
    "start_time": "2022-03-28T13:53:41.765Z"
   },
   {
    "duration": 1066,
    "start_time": "2022-03-28T13:53:42.986Z"
   },
   {
    "duration": 1060,
    "start_time": "2022-03-28T13:53:44.054Z"
   },
   {
    "duration": 1526,
    "start_time": "2022-03-28T13:53:45.116Z"
   },
   {
    "duration": 1642,
    "start_time": "2022-03-28T13:53:46.645Z"
   },
   {
    "duration": 205,
    "start_time": "2022-03-28T13:53:48.289Z"
   },
   {
    "duration": 642,
    "start_time": "2022-03-28T13:53:48.586Z"
   },
   {
    "duration": 161,
    "start_time": "2022-03-28T13:53:49.230Z"
   },
   {
    "duration": 297,
    "start_time": "2022-03-28T13:53:49.395Z"
   },
   {
    "duration": 492,
    "start_time": "2022-03-28T13:53:49.695Z"
   },
   {
    "duration": 395,
    "start_time": "2022-03-28T13:53:50.191Z"
   },
   {
    "duration": 195,
    "start_time": "2022-03-28T13:53:50.589Z"
   },
   {
    "duration": 225,
    "start_time": "2022-03-28T13:53:50.788Z"
   },
   {
    "duration": 17,
    "start_time": "2022-03-28T13:53:51.016Z"
   },
   {
    "duration": 136,
    "start_time": "2022-03-28T13:53:51.036Z"
   },
   {
    "duration": 67,
    "start_time": "2022-03-28T13:53:51.175Z"
   },
   {
    "duration": 104,
    "start_time": "2022-03-28T13:53:51.245Z"
   },
   {
    "duration": 0,
    "start_time": "2022-03-28T13:53:51.352Z"
   },
   {
    "duration": 0,
    "start_time": "2022-03-28T13:53:51.354Z"
   },
   {
    "duration": 0,
    "start_time": "2022-03-28T13:53:51.357Z"
   },
   {
    "duration": 2312,
    "start_time": "2022-03-29T10:42:12.817Z"
   },
   {
    "duration": 38,
    "start_time": "2022-03-29T10:42:15.132Z"
   },
   {
    "duration": 25,
    "start_time": "2022-03-29T10:42:15.172Z"
   },
   {
    "duration": 62,
    "start_time": "2022-03-29T10:42:15.199Z"
   },
   {
    "duration": 32,
    "start_time": "2022-03-29T10:42:15.264Z"
   },
   {
    "duration": 869,
    "start_time": "2022-03-29T10:42:15.298Z"
   },
   {
    "duration": 24,
    "start_time": "2022-03-29T10:42:16.170Z"
   },
   {
    "duration": 14,
    "start_time": "2022-03-29T10:42:16.196Z"
   },
   {
    "duration": 31,
    "start_time": "2022-03-29T10:42:16.213Z"
   },
   {
    "duration": 6,
    "start_time": "2022-03-29T10:42:16.246Z"
   },
   {
    "duration": 33,
    "start_time": "2022-03-29T10:42:16.253Z"
   },
   {
    "duration": 14,
    "start_time": "2022-03-29T10:42:16.289Z"
   },
   {
    "duration": 15,
    "start_time": "2022-03-29T10:42:16.305Z"
   },
   {
    "duration": 32,
    "start_time": "2022-03-29T10:42:16.324Z"
   },
   {
    "duration": 28,
    "start_time": "2022-03-29T10:42:16.358Z"
   },
   {
    "duration": 12,
    "start_time": "2022-03-29T10:42:16.388Z"
   },
   {
    "duration": 7,
    "start_time": "2022-03-29T10:42:16.403Z"
   },
   {
    "duration": 12,
    "start_time": "2022-03-29T10:42:16.412Z"
   },
   {
    "duration": 15,
    "start_time": "2022-03-29T10:42:16.426Z"
   },
   {
    "duration": 41,
    "start_time": "2022-03-29T10:42:16.444Z"
   },
   {
    "duration": 6,
    "start_time": "2022-03-29T10:42:16.487Z"
   },
   {
    "duration": 9,
    "start_time": "2022-03-29T10:42:16.495Z"
   },
   {
    "duration": 10,
    "start_time": "2022-03-29T10:42:16.506Z"
   },
   {
    "duration": 10,
    "start_time": "2022-03-29T10:42:16.518Z"
   },
   {
    "duration": 17,
    "start_time": "2022-03-29T10:42:16.531Z"
   },
   {
    "duration": 38,
    "start_time": "2022-03-29T10:42:16.551Z"
   },
   {
    "duration": 8,
    "start_time": "2022-03-29T10:42:16.591Z"
   },
   {
    "duration": 7,
    "start_time": "2022-03-29T10:42:16.601Z"
   },
   {
    "duration": 34,
    "start_time": "2022-03-29T10:42:16.611Z"
   },
   {
    "duration": 36,
    "start_time": "2022-03-29T10:42:16.648Z"
   },
   {
    "duration": 12,
    "start_time": "2022-03-29T10:42:16.686Z"
   },
   {
    "duration": 18,
    "start_time": "2022-03-29T10:42:16.700Z"
   },
   {
    "duration": 19,
    "start_time": "2022-03-29T10:42:16.720Z"
   },
   {
    "duration": 65,
    "start_time": "2022-03-29T10:42:16.741Z"
   },
   {
    "duration": 10,
    "start_time": "2022-03-29T10:42:16.809Z"
   },
   {
    "duration": 8,
    "start_time": "2022-03-29T10:42:16.821Z"
   },
   {
    "duration": 12,
    "start_time": "2022-03-29T10:42:16.832Z"
   },
   {
    "duration": 29,
    "start_time": "2022-03-29T10:42:16.883Z"
   },
   {
    "duration": 89,
    "start_time": "2022-03-29T10:42:16.915Z"
   },
   {
    "duration": 27,
    "start_time": "2022-03-29T10:42:17.006Z"
   },
   {
    "duration": 52,
    "start_time": "2022-03-29T10:42:17.039Z"
   },
   {
    "duration": 8,
    "start_time": "2022-03-29T10:42:17.093Z"
   },
   {
    "duration": 9,
    "start_time": "2022-03-29T10:42:17.103Z"
   },
   {
    "duration": 79,
    "start_time": "2022-03-29T10:42:17.114Z"
   },
   {
    "duration": 242,
    "start_time": "2022-03-29T10:42:17.195Z"
   },
   {
    "duration": 62,
    "start_time": "2022-03-29T10:42:17.440Z"
   },
   {
    "duration": 50,
    "start_time": "2022-03-29T10:42:17.505Z"
   },
   {
    "duration": 70,
    "start_time": "2022-03-29T10:42:17.557Z"
   },
   {
    "duration": 67,
    "start_time": "2022-03-29T10:42:17.630Z"
   },
   {
    "duration": 1058,
    "start_time": "2022-03-29T10:42:17.700Z"
   },
   {
    "duration": 1218,
    "start_time": "2022-03-29T10:42:18.760Z"
   },
   {
    "duration": 1179,
    "start_time": "2022-03-29T10:42:19.983Z"
   },
   {
    "duration": 1076,
    "start_time": "2022-03-29T10:42:21.165Z"
   },
   {
    "duration": 1058,
    "start_time": "2022-03-29T10:42:22.244Z"
   },
   {
    "duration": 1121,
    "start_time": "2022-03-29T10:42:23.304Z"
   },
   {
    "duration": 261,
    "start_time": "2022-03-29T10:42:24.427Z"
   },
   {
    "duration": 1038,
    "start_time": "2022-03-29T10:42:24.691Z"
   },
   {
    "duration": 253,
    "start_time": "2022-03-29T10:42:25.732Z"
   },
   {
    "duration": 395,
    "start_time": "2022-03-29T10:42:25.993Z"
   },
   {
    "duration": 391,
    "start_time": "2022-03-29T10:42:26.394Z"
   },
   {
    "duration": 397,
    "start_time": "2022-03-29T10:42:26.788Z"
   },
   {
    "duration": 195,
    "start_time": "2022-03-29T10:42:27.189Z"
   },
   {
    "duration": 212,
    "start_time": "2022-03-29T10:42:27.388Z"
   },
   {
    "duration": 18,
    "start_time": "2022-03-29T10:42:27.603Z"
   },
   {
    "duration": 133,
    "start_time": "2022-03-29T10:42:27.623Z"
   },
   {
    "duration": 78,
    "start_time": "2022-03-29T10:42:27.758Z"
   },
   {
    "duration": 111,
    "start_time": "2022-03-29T10:42:27.839Z"
   },
   {
    "duration": 0,
    "start_time": "2022-03-29T10:42:27.952Z"
   },
   {
    "duration": 0,
    "start_time": "2022-03-29T10:42:27.954Z"
   },
   {
    "duration": 0,
    "start_time": "2022-03-29T10:42:27.955Z"
   },
   {
    "duration": 233,
    "start_time": "2022-03-29T10:43:27.845Z"
   },
   {
    "duration": 61,
    "start_time": "2022-03-29T10:44:27.099Z"
   },
   {
    "duration": 61,
    "start_time": "2022-03-29T10:44:59.274Z"
   },
   {
    "duration": 60,
    "start_time": "2022-03-29T10:45:36.988Z"
   },
   {
    "duration": 2028,
    "start_time": "2022-03-29T11:07:49.722Z"
   },
   {
    "duration": 31,
    "start_time": "2022-03-29T11:07:51.753Z"
   },
   {
    "duration": 26,
    "start_time": "2022-03-29T11:07:51.786Z"
   },
   {
    "duration": 84,
    "start_time": "2022-03-29T11:07:51.814Z"
   },
   {
    "duration": 19,
    "start_time": "2022-03-29T11:07:51.901Z"
   },
   {
    "duration": 841,
    "start_time": "2022-03-29T11:07:51.922Z"
   },
   {
    "duration": 21,
    "start_time": "2022-03-29T11:07:52.765Z"
   },
   {
    "duration": 10,
    "start_time": "2022-03-29T11:07:52.788Z"
   },
   {
    "duration": 16,
    "start_time": "2022-03-29T11:07:52.800Z"
   },
   {
    "duration": 7,
    "start_time": "2022-03-29T11:07:52.818Z"
   },
   {
    "duration": 11,
    "start_time": "2022-03-29T11:07:52.828Z"
   },
   {
    "duration": 9,
    "start_time": "2022-03-29T11:07:52.884Z"
   },
   {
    "duration": 10,
    "start_time": "2022-03-29T11:07:52.896Z"
   },
   {
    "duration": 10,
    "start_time": "2022-03-29T11:07:52.912Z"
   },
   {
    "duration": 11,
    "start_time": "2022-03-29T11:07:52.925Z"
   },
   {
    "duration": 50,
    "start_time": "2022-03-29T11:07:52.939Z"
   },
   {
    "duration": 6,
    "start_time": "2022-03-29T11:07:52.991Z"
   },
   {
    "duration": 12,
    "start_time": "2022-03-29T11:07:52.999Z"
   },
   {
    "duration": 8,
    "start_time": "2022-03-29T11:07:53.013Z"
   },
   {
    "duration": 11,
    "start_time": "2022-03-29T11:07:53.023Z"
   },
   {
    "duration": 14,
    "start_time": "2022-03-29T11:07:53.036Z"
   },
   {
    "duration": 40,
    "start_time": "2022-03-29T11:07:53.052Z"
   },
   {
    "duration": 8,
    "start_time": "2022-03-29T11:07:53.094Z"
   },
   {
    "duration": 10,
    "start_time": "2022-03-29T11:07:53.104Z"
   },
   {
    "duration": 9,
    "start_time": "2022-03-29T11:07:53.116Z"
   },
   {
    "duration": 15,
    "start_time": "2022-03-29T11:07:53.127Z"
   },
   {
    "duration": 10,
    "start_time": "2022-03-29T11:07:53.144Z"
   },
   {
    "duration": 31,
    "start_time": "2022-03-29T11:07:53.156Z"
   },
   {
    "duration": 34,
    "start_time": "2022-03-29T11:07:53.189Z"
   },
   {
    "duration": 6,
    "start_time": "2022-03-29T11:07:53.225Z"
   },
   {
    "duration": 16,
    "start_time": "2022-03-29T11:07:53.233Z"
   },
   {
    "duration": 41,
    "start_time": "2022-03-29T11:07:53.251Z"
   },
   {
    "duration": 19,
    "start_time": "2022-03-29T11:07:53.294Z"
   },
   {
    "duration": 43,
    "start_time": "2022-03-29T11:07:53.315Z"
   },
   {
    "duration": 8,
    "start_time": "2022-03-29T11:07:53.384Z"
   },
   {
    "duration": 15,
    "start_time": "2022-03-29T11:07:53.394Z"
   },
   {
    "duration": 9,
    "start_time": "2022-03-29T11:07:53.411Z"
   },
   {
    "duration": 63,
    "start_time": "2022-03-29T11:07:53.423Z"
   },
   {
    "duration": 37,
    "start_time": "2022-03-29T11:07:53.488Z"
   },
   {
    "duration": 27,
    "start_time": "2022-03-29T11:07:53.527Z"
   },
   {
    "duration": 28,
    "start_time": "2022-03-29T11:07:53.584Z"
   },
   {
    "duration": 9,
    "start_time": "2022-03-29T11:07:53.614Z"
   },
   {
    "duration": 16,
    "start_time": "2022-03-29T11:07:53.625Z"
   },
   {
    "duration": 83,
    "start_time": "2022-03-29T11:07:53.643Z"
   },
   {
    "duration": 243,
    "start_time": "2022-03-29T11:07:53.729Z"
   },
   {
    "duration": 57,
    "start_time": "2022-03-29T11:07:53.975Z"
   },
   {
    "duration": 71,
    "start_time": "2022-03-29T11:07:54.035Z"
   },
   {
    "duration": 51,
    "start_time": "2022-03-29T11:07:54.109Z"
   },
   {
    "duration": 69,
    "start_time": "2022-03-29T11:07:54.163Z"
   },
   {
    "duration": 1060,
    "start_time": "2022-03-29T11:07:54.234Z"
   },
   {
    "duration": 1168,
    "start_time": "2022-03-29T11:07:55.297Z"
   },
   {
    "duration": 1046,
    "start_time": "2022-03-29T11:07:56.467Z"
   },
   {
    "duration": 1017,
    "start_time": "2022-03-29T11:07:57.516Z"
   },
   {
    "duration": 1012,
    "start_time": "2022-03-29T11:07:58.535Z"
   },
   {
    "duration": 1119,
    "start_time": "2022-03-29T11:07:59.550Z"
   },
   {
    "duration": 125,
    "start_time": "2022-03-29T11:08:00.671Z"
   },
   {
    "duration": 538,
    "start_time": "2022-03-29T11:08:00.883Z"
   },
   {
    "duration": 262,
    "start_time": "2022-03-29T11:08:01.424Z"
   },
   {
    "duration": 396,
    "start_time": "2022-03-29T11:08:01.689Z"
   },
   {
    "duration": 403,
    "start_time": "2022-03-29T11:08:02.089Z"
   },
   {
    "duration": 404,
    "start_time": "2022-03-29T11:08:02.587Z"
   },
   {
    "duration": 201,
    "start_time": "2022-03-29T11:08:02.994Z"
   },
   {
    "duration": 297,
    "start_time": "2022-03-29T11:08:03.198Z"
   },
   {
    "duration": 20,
    "start_time": "2022-03-29T11:08:03.498Z"
   },
   {
    "duration": 143,
    "start_time": "2022-03-29T11:08:03.520Z"
   },
   {
    "duration": 79,
    "start_time": "2022-03-29T11:08:03.666Z"
   },
   {
    "duration": 1470,
    "start_time": "2022-03-29T11:08:03.748Z"
   },
   {
    "duration": 70,
    "start_time": "2022-03-29T11:08:05.221Z"
   },
   {
    "duration": 7,
    "start_time": "2022-03-29T11:12:20.330Z"
   },
   {
    "duration": 74,
    "start_time": "2022-03-29T11:18:37.178Z"
   },
   {
    "duration": 213,
    "start_time": "2022-03-29T11:26:03.329Z"
   },
   {
    "duration": 50,
    "start_time": "2022-03-29T11:26:10.329Z"
   },
   {
    "duration": 52,
    "start_time": "2022-03-29T11:27:39.434Z"
   },
   {
    "duration": 52,
    "start_time": "2022-03-29T11:28:06.776Z"
   },
   {
    "duration": 51,
    "start_time": "2022-03-29T11:28:36.189Z"
   },
   {
    "duration": 49,
    "start_time": "2022-03-29T11:29:11.075Z"
   },
   {
    "duration": 50,
    "start_time": "2022-03-29T11:29:25.383Z"
   },
   {
    "duration": 1019,
    "start_time": "2022-03-29T11:29:58.024Z"
   },
   {
    "duration": 1012,
    "start_time": "2022-03-29T11:30:49.476Z"
   },
   {
    "duration": 256,
    "start_time": "2022-03-29T11:32:05.028Z"
   },
   {
    "duration": 61,
    "start_time": "2022-03-29T11:35:23.208Z"
   },
   {
    "duration": 2071,
    "start_time": "2022-03-29T11:37:44.330Z"
   },
   {
    "duration": 36,
    "start_time": "2022-03-29T11:37:46.404Z"
   },
   {
    "duration": 25,
    "start_time": "2022-03-29T11:37:46.443Z"
   },
   {
    "duration": 66,
    "start_time": "2022-03-29T11:37:46.471Z"
   },
   {
    "duration": 18,
    "start_time": "2022-03-29T11:37:46.541Z"
   },
   {
    "duration": 830,
    "start_time": "2022-03-29T11:37:46.561Z"
   },
   {
    "duration": 18,
    "start_time": "2022-03-29T11:37:47.394Z"
   },
   {
    "duration": 12,
    "start_time": "2022-03-29T11:37:47.414Z"
   },
   {
    "duration": 55,
    "start_time": "2022-03-29T11:37:47.429Z"
   },
   {
    "duration": 6,
    "start_time": "2022-03-29T11:37:47.487Z"
   },
   {
    "duration": 9,
    "start_time": "2022-03-29T11:37:47.495Z"
   },
   {
    "duration": 10,
    "start_time": "2022-03-29T11:37:47.506Z"
   },
   {
    "duration": 11,
    "start_time": "2022-03-29T11:37:47.518Z"
   },
   {
    "duration": 50,
    "start_time": "2022-03-29T11:37:47.535Z"
   },
   {
    "duration": 9,
    "start_time": "2022-03-29T11:37:47.588Z"
   },
   {
    "duration": 19,
    "start_time": "2022-03-29T11:37:47.600Z"
   },
   {
    "duration": 15,
    "start_time": "2022-03-29T11:37:47.621Z"
   },
   {
    "duration": 19,
    "start_time": "2022-03-29T11:37:47.638Z"
   },
   {
    "duration": 26,
    "start_time": "2022-03-29T11:37:47.659Z"
   },
   {
    "duration": 14,
    "start_time": "2022-03-29T11:37:47.688Z"
   },
   {
    "duration": 17,
    "start_time": "2022-03-29T11:37:47.705Z"
   },
   {
    "duration": 19,
    "start_time": "2022-03-29T11:37:47.724Z"
   },
   {
    "duration": 23,
    "start_time": "2022-03-29T11:37:47.745Z"
   },
   {
    "duration": 19,
    "start_time": "2022-03-29T11:37:47.770Z"
   },
   {
    "duration": 19,
    "start_time": "2022-03-29T11:37:47.792Z"
   },
   {
    "duration": 21,
    "start_time": "2022-03-29T11:37:47.814Z"
   },
   {
    "duration": 6,
    "start_time": "2022-03-29T11:37:47.837Z"
   },
   {
    "duration": 12,
    "start_time": "2022-03-29T11:37:47.846Z"
   },
   {
    "duration": 47,
    "start_time": "2022-03-29T11:37:47.860Z"
   },
   {
    "duration": 4,
    "start_time": "2022-03-29T11:37:47.910Z"
   },
   {
    "duration": 31,
    "start_time": "2022-03-29T11:37:47.917Z"
   },
   {
    "duration": 20,
    "start_time": "2022-03-29T11:37:47.951Z"
   },
   {
    "duration": 33,
    "start_time": "2022-03-29T11:37:47.973Z"
   },
   {
    "duration": 50,
    "start_time": "2022-03-29T11:37:48.009Z"
   },
   {
    "duration": 9,
    "start_time": "2022-03-29T11:37:48.061Z"
   },
   {
    "duration": 18,
    "start_time": "2022-03-29T11:37:48.072Z"
   },
   {
    "duration": 25,
    "start_time": "2022-03-29T11:37:48.092Z"
   },
   {
    "duration": 43,
    "start_time": "2022-03-29T11:37:48.119Z"
   },
   {
    "duration": 45,
    "start_time": "2022-03-29T11:37:48.164Z"
   },
   {
    "duration": 27,
    "start_time": "2022-03-29T11:37:48.212Z"
   },
   {
    "duration": 52,
    "start_time": "2022-03-29T11:37:48.249Z"
   },
   {
    "duration": 9,
    "start_time": "2022-03-29T11:37:48.304Z"
   },
   {
    "duration": 14,
    "start_time": "2022-03-29T11:37:48.316Z"
   },
   {
    "duration": 85,
    "start_time": "2022-03-29T11:37:48.333Z"
   },
   {
    "duration": 249,
    "start_time": "2022-03-29T11:37:48.420Z"
   },
   {
    "duration": 56,
    "start_time": "2022-03-29T11:37:48.671Z"
   },
   {
    "duration": 67,
    "start_time": "2022-03-29T11:37:48.729Z"
   },
   {
    "duration": 50,
    "start_time": "2022-03-29T11:37:48.798Z"
   },
   {
    "duration": 72,
    "start_time": "2022-03-29T11:37:48.850Z"
   },
   {
    "duration": 1038,
    "start_time": "2022-03-29T11:37:48.924Z"
   },
   {
    "duration": 1238,
    "start_time": "2022-03-29T11:37:49.964Z"
   },
   {
    "duration": 1150,
    "start_time": "2022-03-29T11:37:51.204Z"
   },
   {
    "duration": 1042,
    "start_time": "2022-03-29T11:37:52.357Z"
   },
   {
    "duration": 1020,
    "start_time": "2022-03-29T11:37:53.401Z"
   },
   {
    "duration": 1134,
    "start_time": "2022-03-29T11:37:54.423Z"
   },
   {
    "duration": 327,
    "start_time": "2022-03-29T11:37:55.560Z"
   },
   {
    "duration": 639,
    "start_time": "2022-03-29T11:37:55.891Z"
   },
   {
    "duration": 352,
    "start_time": "2022-03-29T11:37:56.532Z"
   },
   {
    "duration": 398,
    "start_time": "2022-03-29T11:37:56.888Z"
   },
   {
    "duration": 395,
    "start_time": "2022-03-29T11:37:57.292Z"
   },
   {
    "duration": 398,
    "start_time": "2022-03-29T11:37:57.690Z"
   },
   {
    "duration": 195,
    "start_time": "2022-03-29T11:37:58.091Z"
   },
   {
    "duration": 217,
    "start_time": "2022-03-29T11:37:58.291Z"
   },
   {
    "duration": 17,
    "start_time": "2022-03-29T11:37:58.510Z"
   },
   {
    "duration": 134,
    "start_time": "2022-03-29T11:37:58.529Z"
   },
   {
    "duration": 71,
    "start_time": "2022-03-29T11:37:58.666Z"
   },
   {
    "duration": 1493,
    "start_time": "2022-03-29T11:37:58.739Z"
   },
   {
    "duration": 59,
    "start_time": "2022-03-29T11:38:00.234Z"
   },
   {
    "duration": 170,
    "start_time": "2022-03-29T11:38:57.670Z"
   },
   {
    "duration": 60,
    "start_time": "2022-03-29T11:39:04.152Z"
   },
   {
    "duration": 60,
    "start_time": "2022-03-29T11:40:03.164Z"
   },
   {
    "duration": 61,
    "start_time": "2022-03-29T11:41:32.125Z"
   },
   {
    "duration": 1484,
    "start_time": "2022-03-29T11:43:23.904Z"
   },
   {
    "duration": 1479,
    "start_time": "2022-03-29T11:44:21.247Z"
   },
   {
    "duration": 1830,
    "start_time": "2022-03-29T11:46:01.502Z"
   },
   {
    "duration": 312,
    "start_time": "2022-03-29T11:47:21.976Z"
   },
   {
    "duration": 50,
    "start_time": "2022-03-29T11:55:38.731Z"
   },
   {
    "duration": 1772,
    "start_time": "2022-03-29T11:55:45.957Z"
   },
   {
    "duration": 42,
    "start_time": "2022-03-29T11:55:47.731Z"
   },
   {
    "duration": 15,
    "start_time": "2022-03-29T11:55:47.775Z"
   },
   {
    "duration": 36,
    "start_time": "2022-03-29T11:55:47.792Z"
   },
   {
    "duration": 12,
    "start_time": "2022-03-29T11:55:47.830Z"
   },
   {
    "duration": 618,
    "start_time": "2022-03-29T11:55:47.844Z"
   },
   {
    "duration": 11,
    "start_time": "2022-03-29T11:55:48.463Z"
   },
   {
    "duration": 15,
    "start_time": "2022-03-29T11:55:48.475Z"
   },
   {
    "duration": 16,
    "start_time": "2022-03-29T11:55:48.492Z"
   },
   {
    "duration": 47,
    "start_time": "2022-03-29T11:55:48.510Z"
   },
   {
    "duration": 35,
    "start_time": "2022-03-29T11:55:48.558Z"
   },
   {
    "duration": 31,
    "start_time": "2022-03-29T11:55:48.595Z"
   },
   {
    "duration": 20,
    "start_time": "2022-03-29T11:55:48.628Z"
   },
   {
    "duration": 17,
    "start_time": "2022-03-29T11:55:48.651Z"
   },
   {
    "duration": 12,
    "start_time": "2022-03-29T11:55:48.670Z"
   },
   {
    "duration": 28,
    "start_time": "2022-03-29T11:55:48.684Z"
   },
   {
    "duration": 11,
    "start_time": "2022-03-29T11:55:48.714Z"
   },
   {
    "duration": 12,
    "start_time": "2022-03-29T11:55:48.727Z"
   },
   {
    "duration": 18,
    "start_time": "2022-03-29T11:55:48.740Z"
   },
   {
    "duration": 14,
    "start_time": "2022-03-29T11:55:48.760Z"
   },
   {
    "duration": 15,
    "start_time": "2022-03-29T11:55:48.776Z"
   },
   {
    "duration": 12,
    "start_time": "2022-03-29T11:55:48.793Z"
   },
   {
    "duration": 12,
    "start_time": "2022-03-29T11:55:48.807Z"
   },
   {
    "duration": 17,
    "start_time": "2022-03-29T11:55:48.821Z"
   },
   {
    "duration": 18,
    "start_time": "2022-03-29T11:55:48.839Z"
   },
   {
    "duration": 15,
    "start_time": "2022-03-29T11:55:48.859Z"
   },
   {
    "duration": 13,
    "start_time": "2022-03-29T11:55:48.876Z"
   },
   {
    "duration": 17,
    "start_time": "2022-03-29T11:55:48.891Z"
   },
   {
    "duration": 32,
    "start_time": "2022-03-29T11:55:48.910Z"
   },
   {
    "duration": 13,
    "start_time": "2022-03-29T11:55:48.943Z"
   },
   {
    "duration": 21,
    "start_time": "2022-03-29T11:55:48.958Z"
   },
   {
    "duration": 16,
    "start_time": "2022-03-29T11:55:48.981Z"
   },
   {
    "duration": 19,
    "start_time": "2022-03-29T11:55:48.999Z"
   },
   {
    "duration": 31,
    "start_time": "2022-03-29T11:55:49.019Z"
   },
   {
    "duration": 6,
    "start_time": "2022-03-29T11:55:49.051Z"
   },
   {
    "duration": 14,
    "start_time": "2022-03-29T11:55:49.059Z"
   },
   {
    "duration": 17,
    "start_time": "2022-03-29T11:55:49.074Z"
   },
   {
    "duration": 25,
    "start_time": "2022-03-29T11:55:49.093Z"
   },
   {
    "duration": 23,
    "start_time": "2022-03-29T11:55:49.119Z"
   },
   {
    "duration": 15,
    "start_time": "2022-03-29T11:55:49.144Z"
   },
   {
    "duration": 40,
    "start_time": "2022-03-29T11:55:49.162Z"
   },
   {
    "duration": 6,
    "start_time": "2022-03-29T11:55:49.203Z"
   },
   {
    "duration": 8,
    "start_time": "2022-03-29T11:55:49.210Z"
   },
   {
    "duration": 35,
    "start_time": "2022-03-29T11:55:49.220Z"
   },
   {
    "duration": 155,
    "start_time": "2022-03-29T11:55:49.257Z"
   },
   {
    "duration": 36,
    "start_time": "2022-03-29T11:55:49.413Z"
   },
   {
    "duration": 34,
    "start_time": "2022-03-29T11:55:49.450Z"
   },
   {
    "duration": 36,
    "start_time": "2022-03-29T11:55:49.501Z"
   },
   {
    "duration": 35,
    "start_time": "2022-03-29T11:55:49.538Z"
   },
   {
    "duration": 689,
    "start_time": "2022-03-29T11:55:49.574Z"
   },
   {
    "duration": 739,
    "start_time": "2022-03-29T11:55:50.264Z"
   },
   {
    "duration": 672,
    "start_time": "2022-03-29T11:55:51.004Z"
   },
   {
    "duration": 662,
    "start_time": "2022-03-29T11:55:51.677Z"
   },
   {
    "duration": 664,
    "start_time": "2022-03-29T11:55:52.341Z"
   },
   {
    "duration": 737,
    "start_time": "2022-03-29T11:55:53.007Z"
   },
   {
    "duration": 164,
    "start_time": "2022-03-29T11:55:53.746Z"
   },
   {
    "duration": 518,
    "start_time": "2022-03-29T11:55:54.003Z"
   },
   {
    "duration": 283,
    "start_time": "2022-03-29T11:55:54.523Z"
   },
   {
    "duration": 205,
    "start_time": "2022-03-29T11:55:54.809Z"
   },
   {
    "duration": 296,
    "start_time": "2022-03-29T11:55:55.016Z"
   },
   {
    "duration": 205,
    "start_time": "2022-03-29T11:55:55.402Z"
   },
   {
    "duration": 202,
    "start_time": "2022-03-29T11:55:55.610Z"
   },
   {
    "duration": 247,
    "start_time": "2022-03-29T11:55:55.814Z"
   },
   {
    "duration": 13,
    "start_time": "2022-03-29T11:55:56.063Z"
   },
   {
    "duration": 88,
    "start_time": "2022-03-29T11:55:56.078Z"
   },
   {
    "duration": 60,
    "start_time": "2022-03-29T11:55:56.168Z"
   },
   {
    "duration": 39,
    "start_time": "2022-03-29T11:55:56.230Z"
   },
   {
    "duration": 54,
    "start_time": "2022-03-29T11:55:56.271Z"
   },
   {
    "duration": 43,
    "start_time": "2022-03-29T11:55:56.327Z"
   },
   {
    "duration": 923,
    "start_time": "2022-03-29T11:55:56.371Z"
   },
   {
    "duration": 945,
    "start_time": "2022-03-29T11:55:57.295Z"
   },
   {
    "duration": 944,
    "start_time": "2022-03-29T11:55:58.242Z"
   },
   {
    "duration": 899,
    "start_time": "2022-03-29T11:55:59.188Z"
   },
   {
    "duration": 217,
    "start_time": "2022-03-29T11:56:00.088Z"
   },
   {
    "duration": 303,
    "start_time": "2022-03-29T11:56:00.307Z"
   },
   {
    "duration": 119,
    "start_time": "2022-03-29T11:56:00.703Z"
   },
   {
    "duration": 170,
    "start_time": "2022-03-29T11:56:51.136Z"
   },
   {
    "duration": 1012,
    "start_time": "2022-03-29T12:06:08.800Z"
   },
   {
    "duration": 901,
    "start_time": "2022-03-29T12:06:35.174Z"
   },
   {
    "duration": 947,
    "start_time": "2022-03-29T12:07:14.193Z"
   },
   {
    "duration": 910,
    "start_time": "2022-03-29T12:07:34.449Z"
   },
   {
    "duration": 145,
    "start_time": "2022-03-29T12:09:12.220Z"
   },
   {
    "duration": 49,
    "start_time": "2022-03-29T12:12:54.227Z"
   },
   {
    "duration": 3332,
    "start_time": "2022-03-29T12:15:58.677Z"
   },
   {
    "duration": 29,
    "start_time": "2022-03-29T12:16:02.012Z"
   },
   {
    "duration": 16,
    "start_time": "2022-03-29T12:16:02.043Z"
   },
   {
    "duration": 43,
    "start_time": "2022-03-29T12:16:02.061Z"
   },
   {
    "duration": 14,
    "start_time": "2022-03-29T12:16:02.106Z"
   },
   {
    "duration": 571,
    "start_time": "2022-03-29T12:16:02.122Z"
   },
   {
    "duration": 15,
    "start_time": "2022-03-29T12:16:02.694Z"
   },
   {
    "duration": 10,
    "start_time": "2022-03-29T12:16:02.712Z"
   },
   {
    "duration": 9,
    "start_time": "2022-03-29T12:16:02.723Z"
   },
   {
    "duration": 4,
    "start_time": "2022-03-29T12:16:02.734Z"
   },
   {
    "duration": 6,
    "start_time": "2022-03-29T12:16:02.740Z"
   },
   {
    "duration": 8,
    "start_time": "2022-03-29T12:16:02.748Z"
   },
   {
    "duration": 48,
    "start_time": "2022-03-29T12:16:02.757Z"
   },
   {
    "duration": 8,
    "start_time": "2022-03-29T12:16:02.813Z"
   },
   {
    "duration": 8,
    "start_time": "2022-03-29T12:16:02.823Z"
   },
   {
    "duration": 19,
    "start_time": "2022-03-29T12:16:02.833Z"
   },
   {
    "duration": 15,
    "start_time": "2022-03-29T12:16:02.853Z"
   },
   {
    "duration": 10,
    "start_time": "2022-03-29T12:16:02.870Z"
   },
   {
    "duration": 13,
    "start_time": "2022-03-29T12:16:02.882Z"
   },
   {
    "duration": 16,
    "start_time": "2022-03-29T12:16:02.897Z"
   },
   {
    "duration": 17,
    "start_time": "2022-03-29T12:16:02.915Z"
   },
   {
    "duration": 13,
    "start_time": "2022-03-29T12:16:02.933Z"
   },
   {
    "duration": 10,
    "start_time": "2022-03-29T12:16:02.947Z"
   },
   {
    "duration": 8,
    "start_time": "2022-03-29T12:16:02.959Z"
   },
   {
    "duration": 9,
    "start_time": "2022-03-29T12:16:02.968Z"
   },
   {
    "duration": 12,
    "start_time": "2022-03-29T12:16:02.979Z"
   },
   {
    "duration": 7,
    "start_time": "2022-03-29T12:16:02.993Z"
   },
   {
    "duration": 23,
    "start_time": "2022-03-29T12:16:03.002Z"
   },
   {
    "duration": 22,
    "start_time": "2022-03-29T12:16:03.027Z"
   },
   {
    "duration": 7,
    "start_time": "2022-03-29T12:16:03.051Z"
   },
   {
    "duration": 11,
    "start_time": "2022-03-29T12:16:03.060Z"
   },
   {
    "duration": 9,
    "start_time": "2022-03-29T12:16:03.073Z"
   },
   {
    "duration": 17,
    "start_time": "2022-03-29T12:16:03.084Z"
   },
   {
    "duration": 33,
    "start_time": "2022-03-29T12:16:03.103Z"
   },
   {
    "duration": 6,
    "start_time": "2022-03-29T12:16:03.138Z"
   },
   {
    "duration": 11,
    "start_time": "2022-03-29T12:16:03.145Z"
   },
   {
    "duration": 11,
    "start_time": "2022-03-29T12:16:03.158Z"
   },
   {
    "duration": 40,
    "start_time": "2022-03-29T12:16:03.171Z"
   },
   {
    "duration": 31,
    "start_time": "2022-03-29T12:16:03.214Z"
   },
   {
    "duration": 18,
    "start_time": "2022-03-29T12:16:03.246Z"
   },
   {
    "duration": 54,
    "start_time": "2022-03-29T12:16:03.269Z"
   },
   {
    "duration": 6,
    "start_time": "2022-03-29T12:16:03.325Z"
   },
   {
    "duration": 6,
    "start_time": "2022-03-29T12:16:03.333Z"
   },
   {
    "duration": 203,
    "start_time": "2022-03-29T12:16:03.340Z"
   },
   {
    "duration": 0,
    "start_time": "2022-03-29T12:16:03.545Z"
   },
   {
    "duration": 0,
    "start_time": "2022-03-29T12:16:03.546Z"
   },
   {
    "duration": 0,
    "start_time": "2022-03-29T12:16:03.547Z"
   },
   {
    "duration": 0,
    "start_time": "2022-03-29T12:16:03.548Z"
   },
   {
    "duration": 0,
    "start_time": "2022-03-29T12:16:03.549Z"
   },
   {
    "duration": 0,
    "start_time": "2022-03-29T12:16:03.551Z"
   },
   {
    "duration": 0,
    "start_time": "2022-03-29T12:16:03.552Z"
   },
   {
    "duration": 0,
    "start_time": "2022-03-29T12:16:03.554Z"
   },
   {
    "duration": 0,
    "start_time": "2022-03-29T12:16:03.555Z"
   },
   {
    "duration": 0,
    "start_time": "2022-03-29T12:16:03.556Z"
   },
   {
    "duration": 0,
    "start_time": "2022-03-29T12:16:03.557Z"
   },
   {
    "duration": 0,
    "start_time": "2022-03-29T12:16:03.559Z"
   },
   {
    "duration": 0,
    "start_time": "2022-03-29T12:16:03.560Z"
   },
   {
    "duration": 0,
    "start_time": "2022-03-29T12:16:03.561Z"
   },
   {
    "duration": 0,
    "start_time": "2022-03-29T12:16:03.562Z"
   },
   {
    "duration": 0,
    "start_time": "2022-03-29T12:16:03.563Z"
   },
   {
    "duration": 0,
    "start_time": "2022-03-29T12:16:03.565Z"
   },
   {
    "duration": 0,
    "start_time": "2022-03-29T12:16:03.566Z"
   },
   {
    "duration": 0,
    "start_time": "2022-03-29T12:16:03.602Z"
   },
   {
    "duration": 0,
    "start_time": "2022-03-29T12:16:03.605Z"
   },
   {
    "duration": 0,
    "start_time": "2022-03-29T12:16:03.606Z"
   },
   {
    "duration": 0,
    "start_time": "2022-03-29T12:16:03.608Z"
   },
   {
    "duration": 0,
    "start_time": "2022-03-29T12:16:03.609Z"
   },
   {
    "duration": 0,
    "start_time": "2022-03-29T12:16:03.611Z"
   },
   {
    "duration": 0,
    "start_time": "2022-03-29T12:16:03.612Z"
   },
   {
    "duration": 0,
    "start_time": "2022-03-29T12:16:03.614Z"
   },
   {
    "duration": 0,
    "start_time": "2022-03-29T12:16:03.615Z"
   },
   {
    "duration": 0,
    "start_time": "2022-03-29T12:16:03.617Z"
   },
   {
    "duration": 0,
    "start_time": "2022-03-29T12:16:03.618Z"
   },
   {
    "duration": 0,
    "start_time": "2022-03-29T12:16:03.620Z"
   },
   {
    "duration": 0,
    "start_time": "2022-03-29T12:16:03.621Z"
   },
   {
    "duration": 0,
    "start_time": "2022-03-29T12:16:03.622Z"
   },
   {
    "duration": 0,
    "start_time": "2022-03-29T12:16:03.623Z"
   },
   {
    "duration": 1614,
    "start_time": "2022-03-29T12:16:25.679Z"
   },
   {
    "duration": 29,
    "start_time": "2022-03-29T12:16:27.295Z"
   },
   {
    "duration": 15,
    "start_time": "2022-03-29T12:16:27.325Z"
   },
   {
    "duration": 36,
    "start_time": "2022-03-29T12:16:27.341Z"
   },
   {
    "duration": 10,
    "start_time": "2022-03-29T12:16:27.379Z"
   },
   {
    "duration": 518,
    "start_time": "2022-03-29T12:16:27.390Z"
   },
   {
    "duration": 10,
    "start_time": "2022-03-29T12:16:27.910Z"
   },
   {
    "duration": 8,
    "start_time": "2022-03-29T12:16:27.922Z"
   },
   {
    "duration": 9,
    "start_time": "2022-03-29T12:16:27.932Z"
   },
   {
    "duration": 3,
    "start_time": "2022-03-29T12:16:27.943Z"
   },
   {
    "duration": 7,
    "start_time": "2022-03-29T12:16:27.948Z"
   },
   {
    "duration": 6,
    "start_time": "2022-03-29T12:16:27.956Z"
   },
   {
    "duration": 40,
    "start_time": "2022-03-29T12:16:27.964Z"
   },
   {
    "duration": 8,
    "start_time": "2022-03-29T12:16:28.007Z"
   },
   {
    "duration": 5,
    "start_time": "2022-03-29T12:16:28.017Z"
   },
   {
    "duration": 9,
    "start_time": "2022-03-29T12:16:28.024Z"
   },
   {
    "duration": 8,
    "start_time": "2022-03-29T12:16:28.035Z"
   },
   {
    "duration": 14,
    "start_time": "2022-03-29T12:16:28.045Z"
   },
   {
    "duration": 8,
    "start_time": "2022-03-29T12:16:28.061Z"
   },
   {
    "duration": 31,
    "start_time": "2022-03-29T12:16:28.071Z"
   },
   {
    "duration": 5,
    "start_time": "2022-03-29T12:16:28.104Z"
   },
   {
    "duration": 8,
    "start_time": "2022-03-29T12:16:28.111Z"
   },
   {
    "duration": 9,
    "start_time": "2022-03-29T12:16:28.121Z"
   },
   {
    "duration": 11,
    "start_time": "2022-03-29T12:16:28.132Z"
   },
   {
    "duration": 8,
    "start_time": "2022-03-29T12:16:28.145Z"
   },
   {
    "duration": 14,
    "start_time": "2022-03-29T12:16:28.154Z"
   },
   {
    "duration": 10,
    "start_time": "2022-03-29T12:16:28.169Z"
   },
   {
    "duration": 21,
    "start_time": "2022-03-29T12:16:28.180Z"
   },
   {
    "duration": 19,
    "start_time": "2022-03-29T12:16:28.203Z"
   },
   {
    "duration": 3,
    "start_time": "2022-03-29T12:16:28.223Z"
   },
   {
    "duration": 12,
    "start_time": "2022-03-29T12:16:28.228Z"
   },
   {
    "duration": 8,
    "start_time": "2022-03-29T12:16:28.242Z"
   },
   {
    "duration": 14,
    "start_time": "2022-03-29T12:16:28.251Z"
   },
   {
    "duration": 45,
    "start_time": "2022-03-29T12:16:28.266Z"
   },
   {
    "duration": 6,
    "start_time": "2022-03-29T12:16:28.312Z"
   },
   {
    "duration": 6,
    "start_time": "2022-03-29T12:16:28.320Z"
   },
   {
    "duration": 11,
    "start_time": "2022-03-29T12:16:28.327Z"
   },
   {
    "duration": 19,
    "start_time": "2022-03-29T12:16:28.339Z"
   },
   {
    "duration": 47,
    "start_time": "2022-03-29T12:16:28.360Z"
   },
   {
    "duration": 16,
    "start_time": "2022-03-29T12:16:28.408Z"
   },
   {
    "duration": 14,
    "start_time": "2022-03-29T12:16:28.429Z"
   },
   {
    "duration": 4,
    "start_time": "2022-03-29T12:16:28.445Z"
   },
   {
    "duration": 5,
    "start_time": "2022-03-29T12:16:28.451Z"
   },
   {
    "duration": 66,
    "start_time": "2022-03-29T12:16:28.457Z"
   },
   {
    "duration": 146,
    "start_time": "2022-03-29T12:16:28.525Z"
   },
   {
    "duration": 0,
    "start_time": "2022-03-29T12:16:28.673Z"
   },
   {
    "duration": 0,
    "start_time": "2022-03-29T12:16:28.674Z"
   },
   {
    "duration": 0,
    "start_time": "2022-03-29T12:16:28.675Z"
   },
   {
    "duration": 0,
    "start_time": "2022-03-29T12:16:28.675Z"
   },
   {
    "duration": 0,
    "start_time": "2022-03-29T12:16:28.676Z"
   },
   {
    "duration": 0,
    "start_time": "2022-03-29T12:16:28.677Z"
   },
   {
    "duration": 0,
    "start_time": "2022-03-29T12:16:28.678Z"
   },
   {
    "duration": 0,
    "start_time": "2022-03-29T12:16:28.679Z"
   },
   {
    "duration": 0,
    "start_time": "2022-03-29T12:16:28.680Z"
   },
   {
    "duration": 0,
    "start_time": "2022-03-29T12:16:28.681Z"
   },
   {
    "duration": 0,
    "start_time": "2022-03-29T12:16:28.682Z"
   },
   {
    "duration": 0,
    "start_time": "2022-03-29T12:16:28.683Z"
   },
   {
    "duration": 0,
    "start_time": "2022-03-29T12:16:28.683Z"
   },
   {
    "duration": 0,
    "start_time": "2022-03-29T12:16:28.701Z"
   },
   {
    "duration": 0,
    "start_time": "2022-03-29T12:16:28.702Z"
   },
   {
    "duration": 0,
    "start_time": "2022-03-29T12:16:28.704Z"
   },
   {
    "duration": 0,
    "start_time": "2022-03-29T12:16:28.705Z"
   },
   {
    "duration": 0,
    "start_time": "2022-03-29T12:16:28.706Z"
   },
   {
    "duration": 0,
    "start_time": "2022-03-29T12:16:28.706Z"
   },
   {
    "duration": 0,
    "start_time": "2022-03-29T12:16:28.707Z"
   },
   {
    "duration": 0,
    "start_time": "2022-03-29T12:16:28.709Z"
   },
   {
    "duration": 0,
    "start_time": "2022-03-29T12:16:28.710Z"
   },
   {
    "duration": 0,
    "start_time": "2022-03-29T12:16:28.711Z"
   },
   {
    "duration": 0,
    "start_time": "2022-03-29T12:16:28.712Z"
   },
   {
    "duration": 0,
    "start_time": "2022-03-29T12:16:28.713Z"
   },
   {
    "duration": 0,
    "start_time": "2022-03-29T12:16:28.714Z"
   },
   {
    "duration": 0,
    "start_time": "2022-03-29T12:16:28.715Z"
   },
   {
    "duration": 0,
    "start_time": "2022-03-29T12:16:28.716Z"
   },
   {
    "duration": 0,
    "start_time": "2022-03-29T12:16:28.717Z"
   },
   {
    "duration": 0,
    "start_time": "2022-03-29T12:16:28.718Z"
   },
   {
    "duration": 0,
    "start_time": "2022-03-29T12:16:28.719Z"
   },
   {
    "duration": 0,
    "start_time": "2022-03-29T12:16:28.720Z"
   },
   {
    "duration": 147,
    "start_time": "2022-03-29T12:16:52.599Z"
   },
   {
    "duration": 36,
    "start_time": "2022-03-29T12:17:15.231Z"
   },
   {
    "duration": 1637,
    "start_time": "2022-03-29T12:18:54.366Z"
   },
   {
    "duration": 42,
    "start_time": "2022-03-29T12:18:56.005Z"
   },
   {
    "duration": 20,
    "start_time": "2022-03-29T12:18:56.049Z"
   },
   {
    "duration": 41,
    "start_time": "2022-03-29T12:18:56.072Z"
   },
   {
    "duration": 13,
    "start_time": "2022-03-29T12:18:56.115Z"
   },
   {
    "duration": 587,
    "start_time": "2022-03-29T12:18:56.129Z"
   },
   {
    "duration": 12,
    "start_time": "2022-03-29T12:18:56.717Z"
   },
   {
    "duration": 17,
    "start_time": "2022-03-29T12:18:56.730Z"
   },
   {
    "duration": 19,
    "start_time": "2022-03-29T12:18:56.748Z"
   },
   {
    "duration": 25,
    "start_time": "2022-03-29T12:18:56.770Z"
   },
   {
    "duration": 30,
    "start_time": "2022-03-29T12:18:56.796Z"
   },
   {
    "duration": 8,
    "start_time": "2022-03-29T12:18:56.827Z"
   },
   {
    "duration": 5,
    "start_time": "2022-03-29T12:18:56.838Z"
   },
   {
    "duration": 8,
    "start_time": "2022-03-29T12:18:56.845Z"
   },
   {
    "duration": 6,
    "start_time": "2022-03-29T12:18:56.854Z"
   },
   {
    "duration": 9,
    "start_time": "2022-03-29T12:18:56.862Z"
   },
   {
    "duration": 9,
    "start_time": "2022-03-29T12:18:56.873Z"
   },
   {
    "duration": 20,
    "start_time": "2022-03-29T12:18:56.883Z"
   },
   {
    "duration": 7,
    "start_time": "2022-03-29T12:18:56.904Z"
   },
   {
    "duration": 10,
    "start_time": "2022-03-29T12:18:56.913Z"
   },
   {
    "duration": 8,
    "start_time": "2022-03-29T12:18:56.924Z"
   },
   {
    "duration": 9,
    "start_time": "2022-03-29T12:18:56.934Z"
   },
   {
    "duration": 11,
    "start_time": "2022-03-29T12:18:56.944Z"
   },
   {
    "duration": 14,
    "start_time": "2022-03-29T12:18:56.957Z"
   },
   {
    "duration": 16,
    "start_time": "2022-03-29T12:18:56.972Z"
   },
   {
    "duration": 15,
    "start_time": "2022-03-29T12:18:56.989Z"
   },
   {
    "duration": 7,
    "start_time": "2022-03-29T12:18:57.006Z"
   },
   {
    "duration": 6,
    "start_time": "2022-03-29T12:18:57.018Z"
   },
   {
    "duration": 24,
    "start_time": "2022-03-29T12:18:57.026Z"
   },
   {
    "duration": 8,
    "start_time": "2022-03-29T12:18:57.052Z"
   },
   {
    "duration": 16,
    "start_time": "2022-03-29T12:18:57.062Z"
   },
   {
    "duration": 8,
    "start_time": "2022-03-29T12:18:57.080Z"
   },
   {
    "duration": 13,
    "start_time": "2022-03-29T12:18:57.102Z"
   },
   {
    "duration": 28,
    "start_time": "2022-03-29T12:18:57.117Z"
   },
   {
    "duration": 7,
    "start_time": "2022-03-29T12:18:57.147Z"
   },
   {
    "duration": 6,
    "start_time": "2022-03-29T12:18:57.155Z"
   },
   {
    "duration": 8,
    "start_time": "2022-03-29T12:18:57.163Z"
   },
   {
    "duration": 16,
    "start_time": "2022-03-29T12:18:57.200Z"
   },
   {
    "duration": 23,
    "start_time": "2022-03-29T12:18:57.218Z"
   },
   {
    "duration": 20,
    "start_time": "2022-03-29T12:18:57.243Z"
   },
   {
    "duration": 50,
    "start_time": "2022-03-29T12:18:57.265Z"
   },
   {
    "duration": 5,
    "start_time": "2022-03-29T12:18:57.317Z"
   },
   {
    "duration": 8,
    "start_time": "2022-03-29T12:18:57.323Z"
   },
   {
    "duration": 39,
    "start_time": "2022-03-29T12:18:57.332Z"
   },
   {
    "duration": 157,
    "start_time": "2022-03-29T12:18:57.372Z"
   },
   {
    "duration": 37,
    "start_time": "2022-03-29T12:18:57.530Z"
   },
   {
    "duration": 154,
    "start_time": "2022-03-29T12:18:57.569Z"
   },
   {
    "duration": 0,
    "start_time": "2022-03-29T12:18:57.725Z"
   },
   {
    "duration": 0,
    "start_time": "2022-03-29T12:18:57.727Z"
   },
   {
    "duration": 0,
    "start_time": "2022-03-29T12:18:57.728Z"
   },
   {
    "duration": 0,
    "start_time": "2022-03-29T12:18:57.729Z"
   },
   {
    "duration": 0,
    "start_time": "2022-03-29T12:18:57.730Z"
   },
   {
    "duration": 0,
    "start_time": "2022-03-29T12:18:57.732Z"
   },
   {
    "duration": 0,
    "start_time": "2022-03-29T12:18:57.733Z"
   },
   {
    "duration": 0,
    "start_time": "2022-03-29T12:18:57.734Z"
   },
   {
    "duration": 0,
    "start_time": "2022-03-29T12:18:57.735Z"
   },
   {
    "duration": 0,
    "start_time": "2022-03-29T12:18:57.736Z"
   },
   {
    "duration": 0,
    "start_time": "2022-03-29T12:18:57.737Z"
   },
   {
    "duration": 0,
    "start_time": "2022-03-29T12:18:57.739Z"
   },
   {
    "duration": 0,
    "start_time": "2022-03-29T12:18:57.739Z"
   },
   {
    "duration": 1,
    "start_time": "2022-03-29T12:18:57.740Z"
   },
   {
    "duration": 0,
    "start_time": "2022-03-29T12:18:57.742Z"
   },
   {
    "duration": 0,
    "start_time": "2022-03-29T12:18:57.743Z"
   },
   {
    "duration": 0,
    "start_time": "2022-03-29T12:18:57.745Z"
   },
   {
    "duration": 0,
    "start_time": "2022-03-29T12:18:57.746Z"
   },
   {
    "duration": 0,
    "start_time": "2022-03-29T12:18:57.747Z"
   },
   {
    "duration": 0,
    "start_time": "2022-03-29T12:18:57.748Z"
   },
   {
    "duration": 0,
    "start_time": "2022-03-29T12:18:57.749Z"
   },
   {
    "duration": 0,
    "start_time": "2022-03-29T12:18:57.751Z"
   },
   {
    "duration": 0,
    "start_time": "2022-03-29T12:18:57.752Z"
   },
   {
    "duration": 0,
    "start_time": "2022-03-29T12:18:57.801Z"
   },
   {
    "duration": 0,
    "start_time": "2022-03-29T12:18:57.803Z"
   },
   {
    "duration": 0,
    "start_time": "2022-03-29T12:18:57.804Z"
   },
   {
    "duration": 0,
    "start_time": "2022-03-29T12:18:57.805Z"
   },
   {
    "duration": 0,
    "start_time": "2022-03-29T12:18:57.807Z"
   },
   {
    "duration": 0,
    "start_time": "2022-03-29T12:18:57.808Z"
   },
   {
    "duration": 0,
    "start_time": "2022-03-29T12:18:57.809Z"
   },
   {
    "duration": 1623,
    "start_time": "2022-03-29T12:19:47.961Z"
   },
   {
    "duration": 40,
    "start_time": "2022-03-29T12:19:49.586Z"
   },
   {
    "duration": 16,
    "start_time": "2022-03-29T12:19:49.627Z"
   },
   {
    "duration": 41,
    "start_time": "2022-03-29T12:19:49.644Z"
   },
   {
    "duration": 10,
    "start_time": "2022-03-29T12:19:49.687Z"
   },
   {
    "duration": 522,
    "start_time": "2022-03-29T12:19:49.701Z"
   },
   {
    "duration": 10,
    "start_time": "2022-03-29T12:19:50.225Z"
   },
   {
    "duration": 7,
    "start_time": "2022-03-29T12:19:50.237Z"
   },
   {
    "duration": 9,
    "start_time": "2022-03-29T12:19:50.246Z"
   },
   {
    "duration": 7,
    "start_time": "2022-03-29T12:19:50.257Z"
   },
   {
    "duration": 6,
    "start_time": "2022-03-29T12:19:50.265Z"
   },
   {
    "duration": 34,
    "start_time": "2022-03-29T12:19:50.272Z"
   },
   {
    "duration": 6,
    "start_time": "2022-03-29T12:19:50.307Z"
   },
   {
    "duration": 6,
    "start_time": "2022-03-29T12:19:50.317Z"
   },
   {
    "duration": 5,
    "start_time": "2022-03-29T12:19:50.325Z"
   },
   {
    "duration": 10,
    "start_time": "2022-03-29T12:19:50.331Z"
   },
   {
    "duration": 9,
    "start_time": "2022-03-29T12:19:50.342Z"
   },
   {
    "duration": 10,
    "start_time": "2022-03-29T12:19:50.353Z"
   },
   {
    "duration": 36,
    "start_time": "2022-03-29T12:19:50.365Z"
   },
   {
    "duration": 7,
    "start_time": "2022-03-29T12:19:50.403Z"
   },
   {
    "duration": 6,
    "start_time": "2022-03-29T12:19:50.411Z"
   },
   {
    "duration": 7,
    "start_time": "2022-03-29T12:19:50.420Z"
   },
   {
    "duration": 9,
    "start_time": "2022-03-29T12:19:50.428Z"
   },
   {
    "duration": 8,
    "start_time": "2022-03-29T12:19:50.439Z"
   },
   {
    "duration": 7,
    "start_time": "2022-03-29T12:19:50.449Z"
   },
   {
    "duration": 11,
    "start_time": "2022-03-29T12:19:50.458Z"
   },
   {
    "duration": 31,
    "start_time": "2022-03-29T12:19:50.470Z"
   },
   {
    "duration": 5,
    "start_time": "2022-03-29T12:19:50.503Z"
   },
   {
    "duration": 22,
    "start_time": "2022-03-29T12:19:50.509Z"
   },
   {
    "duration": 3,
    "start_time": "2022-03-29T12:19:50.533Z"
   },
   {
    "duration": 12,
    "start_time": "2022-03-29T12:19:50.537Z"
   },
   {
    "duration": 12,
    "start_time": "2022-03-29T12:19:50.551Z"
   },
   {
    "duration": 12,
    "start_time": "2022-03-29T12:19:50.565Z"
   },
   {
    "duration": 43,
    "start_time": "2022-03-29T12:19:50.578Z"
   },
   {
    "duration": 6,
    "start_time": "2022-03-29T12:19:50.623Z"
   },
   {
    "duration": 5,
    "start_time": "2022-03-29T12:19:50.631Z"
   },
   {
    "duration": 10,
    "start_time": "2022-03-29T12:19:50.638Z"
   },
   {
    "duration": 19,
    "start_time": "2022-03-29T12:19:50.650Z"
   },
   {
    "duration": 51,
    "start_time": "2022-03-29T12:19:50.670Z"
   },
   {
    "duration": 16,
    "start_time": "2022-03-29T12:19:50.722Z"
   },
   {
    "duration": 15,
    "start_time": "2022-03-29T12:19:50.742Z"
   },
   {
    "duration": 4,
    "start_time": "2022-03-29T12:19:50.759Z"
   },
   {
    "duration": 37,
    "start_time": "2022-03-29T12:19:50.765Z"
   },
   {
    "duration": 35,
    "start_time": "2022-03-29T12:19:50.804Z"
   },
   {
    "duration": 138,
    "start_time": "2022-03-29T12:19:50.841Z"
   },
   {
    "duration": 45,
    "start_time": "2022-03-29T12:19:50.981Z"
   },
   {
    "duration": 36,
    "start_time": "2022-03-29T12:19:51.027Z"
   },
   {
    "duration": 51,
    "start_time": "2022-03-29T12:19:51.065Z"
   },
   {
    "duration": 36,
    "start_time": "2022-03-29T12:19:51.118Z"
   },
   {
    "duration": 652,
    "start_time": "2022-03-29T12:19:51.155Z"
   },
   {
    "duration": 783,
    "start_time": "2022-03-29T12:19:51.809Z"
   },
   {
    "duration": 737,
    "start_time": "2022-03-29T12:19:52.600Z"
   },
   {
    "duration": 768,
    "start_time": "2022-03-29T12:19:53.339Z"
   },
   {
    "duration": 715,
    "start_time": "2022-03-29T12:19:54.109Z"
   },
   {
    "duration": 778,
    "start_time": "2022-03-29T12:19:54.826Z"
   },
   {
    "duration": 195,
    "start_time": "2022-03-29T12:19:55.607Z"
   },
   {
    "duration": 480,
    "start_time": "2022-03-29T12:19:55.805Z"
   },
   {
    "duration": 212,
    "start_time": "2022-03-29T12:19:56.302Z"
   },
   {
    "duration": 294,
    "start_time": "2022-03-29T12:19:56.518Z"
   },
   {
    "duration": 210,
    "start_time": "2022-03-29T12:19:56.815Z"
   },
   {
    "duration": 202,
    "start_time": "2022-03-29T12:19:57.102Z"
   },
   {
    "duration": 121,
    "start_time": "2022-03-29T12:19:57.306Z"
   },
   {
    "duration": 238,
    "start_time": "2022-03-29T12:19:57.501Z"
   },
   {
    "duration": 12,
    "start_time": "2022-03-29T12:19:57.741Z"
   },
   {
    "duration": 108,
    "start_time": "2022-03-29T12:19:57.755Z"
   },
   {
    "duration": 47,
    "start_time": "2022-03-29T12:19:57.864Z"
   },
   {
    "duration": 43,
    "start_time": "2022-03-29T12:19:57.916Z"
   },
   {
    "duration": 220,
    "start_time": "2022-03-29T12:19:58.000Z"
   },
   {
    "duration": 0,
    "start_time": "2022-03-29T12:19:58.222Z"
   },
   {
    "duration": 0,
    "start_time": "2022-03-29T12:19:58.224Z"
   },
   {
    "duration": 0,
    "start_time": "2022-03-29T12:19:58.225Z"
   },
   {
    "duration": 0,
    "start_time": "2022-03-29T12:19:58.226Z"
   },
   {
    "duration": 0,
    "start_time": "2022-03-29T12:19:58.227Z"
   },
   {
    "duration": 0,
    "start_time": "2022-03-29T12:19:58.228Z"
   },
   {
    "duration": 0,
    "start_time": "2022-03-29T12:19:58.229Z"
   },
   {
    "duration": 0,
    "start_time": "2022-03-29T12:19:58.230Z"
   },
   {
    "duration": 0,
    "start_time": "2022-03-29T12:19:58.232Z"
   },
   {
    "duration": 40,
    "start_time": "2022-03-29T12:22:21.353Z"
   },
   {
    "duration": 41,
    "start_time": "2022-03-29T12:22:24.690Z"
   },
   {
    "duration": 888,
    "start_time": "2022-03-29T12:22:29.125Z"
   },
   {
    "duration": 891,
    "start_time": "2022-03-29T12:22:31.571Z"
   },
   {
    "duration": 920,
    "start_time": "2022-03-29T12:22:34.516Z"
   },
   {
    "duration": 1010,
    "start_time": "2022-03-29T12:22:36.918Z"
   },
   {
    "duration": 225,
    "start_time": "2022-03-29T12:22:40.577Z"
   },
   {
    "duration": 209,
    "start_time": "2022-03-29T12:22:44.897Z"
   },
   {
    "duration": 160,
    "start_time": "2022-03-29T12:23:10.346Z"
   },
   {
    "duration": 430,
    "start_time": "2022-03-29T12:23:35.173Z"
   },
   {
    "duration": 29,
    "start_time": "2022-03-29T12:23:55.706Z"
   },
   {
    "duration": 1979,
    "start_time": "2022-03-29T12:31:49.296Z"
   },
   {
    "duration": 30,
    "start_time": "2022-03-29T12:31:51.277Z"
   },
   {
    "duration": 16,
    "start_time": "2022-03-29T12:31:51.308Z"
   },
   {
    "duration": 42,
    "start_time": "2022-03-29T12:31:51.326Z"
   },
   {
    "duration": 10,
    "start_time": "2022-03-29T12:31:51.370Z"
   },
   {
    "duration": 542,
    "start_time": "2022-03-29T12:31:51.381Z"
   },
   {
    "duration": 11,
    "start_time": "2022-03-29T12:31:51.925Z"
   },
   {
    "duration": 8,
    "start_time": "2022-03-29T12:31:51.937Z"
   },
   {
    "duration": 9,
    "start_time": "2022-03-29T12:31:51.947Z"
   },
   {
    "duration": 4,
    "start_time": "2022-03-29T12:31:51.959Z"
   },
   {
    "duration": 7,
    "start_time": "2022-03-29T12:31:51.964Z"
   },
   {
    "duration": 30,
    "start_time": "2022-03-29T12:31:51.973Z"
   },
   {
    "duration": 8,
    "start_time": "2022-03-29T12:31:52.005Z"
   },
   {
    "duration": 6,
    "start_time": "2022-03-29T12:31:52.015Z"
   },
   {
    "duration": 8,
    "start_time": "2022-03-29T12:31:52.022Z"
   },
   {
    "duration": 10,
    "start_time": "2022-03-29T12:31:52.031Z"
   },
   {
    "duration": 8,
    "start_time": "2022-03-29T12:31:52.043Z"
   },
   {
    "duration": 11,
    "start_time": "2022-03-29T12:31:52.053Z"
   },
   {
    "duration": 18,
    "start_time": "2022-03-29T12:31:52.065Z"
   },
   {
    "duration": 11,
    "start_time": "2022-03-29T12:31:52.084Z"
   },
   {
    "duration": 12,
    "start_time": "2022-03-29T12:31:52.097Z"
   },
   {
    "duration": 11,
    "start_time": "2022-03-29T12:31:52.110Z"
   },
   {
    "duration": 8,
    "start_time": "2022-03-29T12:31:52.122Z"
   },
   {
    "duration": 10,
    "start_time": "2022-03-29T12:31:52.131Z"
   },
   {
    "duration": 8,
    "start_time": "2022-03-29T12:31:52.143Z"
   },
   {
    "duration": 14,
    "start_time": "2022-03-29T12:31:52.152Z"
   },
   {
    "duration": 7,
    "start_time": "2022-03-29T12:31:52.167Z"
   },
   {
    "duration": 6,
    "start_time": "2022-03-29T12:31:52.178Z"
   },
   {
    "duration": 23,
    "start_time": "2022-03-29T12:31:52.185Z"
   },
   {
    "duration": 16,
    "start_time": "2022-03-29T12:31:52.209Z"
   },
   {
    "duration": 16,
    "start_time": "2022-03-29T12:31:52.226Z"
   },
   {
    "duration": 15,
    "start_time": "2022-03-29T12:31:52.243Z"
   },
   {
    "duration": 19,
    "start_time": "2022-03-29T12:31:52.259Z"
   },
   {
    "duration": 36,
    "start_time": "2022-03-29T12:31:52.279Z"
   },
   {
    "duration": 5,
    "start_time": "2022-03-29T12:31:52.316Z"
   },
   {
    "duration": 17,
    "start_time": "2022-03-29T12:31:52.323Z"
   },
   {
    "duration": 19,
    "start_time": "2022-03-29T12:31:52.342Z"
   },
   {
    "duration": 21,
    "start_time": "2022-03-29T12:31:52.363Z"
   },
   {
    "duration": 25,
    "start_time": "2022-03-29T12:31:52.386Z"
   },
   {
    "duration": 19,
    "start_time": "2022-03-29T12:31:52.413Z"
   },
   {
    "duration": 17,
    "start_time": "2022-03-29T12:31:52.433Z"
   },
   {
    "duration": 5,
    "start_time": "2022-03-29T12:31:52.452Z"
   },
   {
    "duration": 12,
    "start_time": "2022-03-29T12:31:52.458Z"
   },
   {
    "duration": 54,
    "start_time": "2022-03-29T12:31:52.471Z"
   },
   {
    "duration": 140,
    "start_time": "2022-03-29T12:31:52.527Z"
   },
   {
    "duration": 48,
    "start_time": "2022-03-29T12:31:52.669Z"
   },
   {
    "duration": 36,
    "start_time": "2022-03-29T12:31:52.718Z"
   },
   {
    "duration": 46,
    "start_time": "2022-03-29T12:31:52.756Z"
   },
   {
    "duration": 34,
    "start_time": "2022-03-29T12:31:52.803Z"
   },
   {
    "duration": 676,
    "start_time": "2022-03-29T12:31:52.839Z"
   },
   {
    "duration": 750,
    "start_time": "2022-03-29T12:31:53.518Z"
   },
   {
    "duration": 747,
    "start_time": "2022-03-29T12:31:54.270Z"
   },
   {
    "duration": 854,
    "start_time": "2022-03-29T12:31:55.019Z"
   },
   {
    "duration": 764,
    "start_time": "2022-03-29T12:31:55.875Z"
   },
   {
    "duration": 816,
    "start_time": "2022-03-29T12:31:56.641Z"
   },
   {
    "duration": 242,
    "start_time": "2022-03-29T12:31:57.459Z"
   },
   {
    "duration": 664,
    "start_time": "2022-03-29T12:31:57.705Z"
   },
   {
    "duration": 239,
    "start_time": "2022-03-29T12:31:58.370Z"
   },
   {
    "duration": 392,
    "start_time": "2022-03-29T12:31:58.611Z"
   },
   {
    "duration": 301,
    "start_time": "2022-03-29T12:31:59.005Z"
   },
   {
    "duration": 393,
    "start_time": "2022-03-29T12:31:59.308Z"
   },
   {
    "duration": 112,
    "start_time": "2022-03-29T12:31:59.704Z"
   },
   {
    "duration": 239,
    "start_time": "2022-03-29T12:31:59.818Z"
   },
   {
    "duration": 12,
    "start_time": "2022-03-29T12:32:00.059Z"
   },
   {
    "duration": 89,
    "start_time": "2022-03-29T12:32:00.072Z"
   },
   {
    "duration": 51,
    "start_time": "2022-03-29T12:32:00.162Z"
   },
   {
    "duration": 43,
    "start_time": "2022-03-29T12:32:00.215Z"
   },
   {
    "duration": 59,
    "start_time": "2022-03-29T12:32:00.260Z"
   },
   {
    "duration": 43,
    "start_time": "2022-03-29T12:32:00.320Z"
   },
   {
    "duration": 947,
    "start_time": "2022-03-29T12:32:00.364Z"
   },
   {
    "duration": 925,
    "start_time": "2022-03-29T12:32:01.312Z"
   },
   {
    "duration": 900,
    "start_time": "2022-03-29T12:32:02.240Z"
   },
   {
    "duration": 921,
    "start_time": "2022-03-29T12:32:03.142Z"
   },
   {
    "duration": 239,
    "start_time": "2022-03-29T12:32:04.066Z"
   },
   {
    "duration": 597,
    "start_time": "2022-03-29T12:32:04.307Z"
   },
   {
    "duration": 392,
    "start_time": "2022-03-29T12:32:04.909Z"
   },
   {
    "duration": 114,
    "start_time": "2022-03-29T12:32:05.309Z"
   },
   {
    "duration": 1611,
    "start_time": "2022-03-29T12:54:44.689Z"
   },
   {
    "duration": 43,
    "start_time": "2022-03-29T12:54:46.302Z"
   },
   {
    "duration": 17,
    "start_time": "2022-03-29T12:54:46.346Z"
   },
   {
    "duration": 38,
    "start_time": "2022-03-29T12:54:46.365Z"
   },
   {
    "duration": 12,
    "start_time": "2022-03-29T12:54:46.405Z"
   },
   {
    "duration": 527,
    "start_time": "2022-03-29T12:54:46.419Z"
   },
   {
    "duration": 10,
    "start_time": "2022-03-29T12:54:46.948Z"
   },
   {
    "duration": 8,
    "start_time": "2022-03-29T12:54:46.960Z"
   },
   {
    "duration": 9,
    "start_time": "2022-03-29T12:54:46.969Z"
   },
   {
    "duration": 4,
    "start_time": "2022-03-29T12:54:47.003Z"
   },
   {
    "duration": 6,
    "start_time": "2022-03-29T12:54:47.008Z"
   },
   {
    "duration": 6,
    "start_time": "2022-03-29T12:54:47.015Z"
   },
   {
    "duration": 10,
    "start_time": "2022-03-29T12:54:47.022Z"
   },
   {
    "duration": 6,
    "start_time": "2022-03-29T12:54:47.033Z"
   },
   {
    "duration": 9,
    "start_time": "2022-03-29T12:54:47.040Z"
   },
   {
    "duration": 11,
    "start_time": "2022-03-29T12:54:47.051Z"
   },
   {
    "duration": 10,
    "start_time": "2022-03-29T12:54:47.063Z"
   },
   {
    "duration": 27,
    "start_time": "2022-03-29T12:54:47.075Z"
   },
   {
    "duration": 4,
    "start_time": "2022-03-29T12:54:47.103Z"
   },
   {
    "duration": 7,
    "start_time": "2022-03-29T12:54:47.109Z"
   },
   {
    "duration": 8,
    "start_time": "2022-03-29T12:54:47.118Z"
   },
   {
    "duration": 13,
    "start_time": "2022-03-29T12:54:47.128Z"
   },
   {
    "duration": 7,
    "start_time": "2022-03-29T12:54:47.142Z"
   },
   {
    "duration": 9,
    "start_time": "2022-03-29T12:54:47.151Z"
   },
   {
    "duration": 9,
    "start_time": "2022-03-29T12:54:47.161Z"
   },
   {
    "duration": 15,
    "start_time": "2022-03-29T12:54:47.172Z"
   },
   {
    "duration": 13,
    "start_time": "2022-03-29T12:54:47.188Z"
   },
   {
    "duration": 6,
    "start_time": "2022-03-29T12:54:47.205Z"
   },
   {
    "duration": 22,
    "start_time": "2022-03-29T12:54:47.212Z"
   },
   {
    "duration": 5,
    "start_time": "2022-03-29T12:54:47.236Z"
   },
   {
    "duration": 12,
    "start_time": "2022-03-29T12:54:47.243Z"
   },
   {
    "duration": 9,
    "start_time": "2022-03-29T12:54:47.257Z"
   },
   {
    "duration": 14,
    "start_time": "2022-03-29T12:54:47.267Z"
   },
   {
    "duration": 24,
    "start_time": "2022-03-29T12:54:47.301Z"
   },
   {
    "duration": 6,
    "start_time": "2022-03-29T12:54:47.327Z"
   },
   {
    "duration": 4,
    "start_time": "2022-03-29T12:54:47.335Z"
   },
   {
    "duration": 11,
    "start_time": "2022-03-29T12:54:47.341Z"
   },
   {
    "duration": 53,
    "start_time": "2022-03-29T12:54:47.353Z"
   },
   {
    "duration": 24,
    "start_time": "2022-03-29T12:54:47.407Z"
   },
   {
    "duration": 15,
    "start_time": "2022-03-29T12:54:47.433Z"
   },
   {
    "duration": 13,
    "start_time": "2022-03-29T12:54:47.450Z"
   },
   {
    "duration": 5,
    "start_time": "2022-03-29T12:54:47.465Z"
   },
   {
    "duration": 6,
    "start_time": "2022-03-29T12:54:47.501Z"
   },
   {
    "duration": 38,
    "start_time": "2022-03-29T12:54:47.508Z"
   },
   {
    "duration": 156,
    "start_time": "2022-03-29T12:54:47.548Z"
   },
   {
    "duration": 34,
    "start_time": "2022-03-29T12:54:47.706Z"
   },
   {
    "duration": 33,
    "start_time": "2022-03-29T12:54:47.741Z"
   },
   {
    "duration": 53,
    "start_time": "2022-03-29T12:54:47.775Z"
   },
   {
    "duration": 34,
    "start_time": "2022-03-29T12:54:47.830Z"
   },
   {
    "duration": 692,
    "start_time": "2022-03-29T12:54:47.865Z"
   },
   {
    "duration": 763,
    "start_time": "2022-03-29T12:54:48.559Z"
   },
   {
    "duration": 664,
    "start_time": "2022-03-29T12:54:49.323Z"
   },
   {
    "duration": 659,
    "start_time": "2022-03-29T12:54:49.988Z"
   },
   {
    "duration": 655,
    "start_time": "2022-03-29T12:54:50.649Z"
   },
   {
    "duration": 731,
    "start_time": "2022-03-29T12:54:51.305Z"
   },
   {
    "duration": 74,
    "start_time": "2022-03-29T12:54:52.038Z"
   },
   {
    "duration": 444,
    "start_time": "2022-03-29T12:54:52.114Z"
   },
   {
    "duration": 246,
    "start_time": "2022-03-29T12:54:52.559Z"
   },
   {
    "duration": 295,
    "start_time": "2022-03-29T12:54:52.807Z"
   },
   {
    "duration": 300,
    "start_time": "2022-03-29T12:54:53.105Z"
   },
   {
    "duration": 297,
    "start_time": "2022-03-29T12:54:53.407Z"
   },
   {
    "duration": 111,
    "start_time": "2022-03-29T12:54:53.706Z"
   },
   {
    "duration": 245,
    "start_time": "2022-03-29T12:54:53.819Z"
   },
   {
    "duration": 12,
    "start_time": "2022-03-29T12:54:54.066Z"
   },
   {
    "duration": 93,
    "start_time": "2022-03-29T12:54:54.079Z"
   },
   {
    "duration": 51,
    "start_time": "2022-03-29T12:54:54.174Z"
   },
   {
    "duration": 41,
    "start_time": "2022-03-29T12:54:54.227Z"
   },
   {
    "duration": 59,
    "start_time": "2022-03-29T12:54:54.270Z"
   },
   {
    "duration": 44,
    "start_time": "2022-03-29T12:54:54.331Z"
   },
   {
    "duration": 1065,
    "start_time": "2022-03-29T12:54:54.378Z"
   },
   {
    "duration": 900,
    "start_time": "2022-03-29T12:54:55.445Z"
   },
   {
    "duration": 898,
    "start_time": "2022-03-29T12:54:56.347Z"
   },
   {
    "duration": 901,
    "start_time": "2022-03-29T12:54:57.247Z"
   },
   {
    "duration": 154,
    "start_time": "2022-03-29T12:54:58.150Z"
   },
   {
    "duration": 201,
    "start_time": "2022-03-29T12:54:58.305Z"
   },
   {
    "duration": 206,
    "start_time": "2022-03-29T12:54:58.508Z"
   },
   {
    "duration": 121,
    "start_time": "2022-03-29T12:54:58.800Z"
   },
   {
    "duration": 28,
    "start_time": "2022-03-29T12:57:20.202Z"
   },
   {
    "duration": 26,
    "start_time": "2022-03-29T12:57:26.626Z"
   },
   {
    "duration": 27,
    "start_time": "2022-03-29T12:57:41.017Z"
   },
   {
    "duration": 20,
    "start_time": "2022-03-29T12:58:54.013Z"
   },
   {
    "duration": 277,
    "start_time": "2022-03-29T12:58:56.195Z"
   },
   {
    "duration": 20,
    "start_time": "2022-03-29T12:59:02.083Z"
   },
   {
    "duration": 23,
    "start_time": "2022-03-29T12:59:15.964Z"
   },
   {
    "duration": 301,
    "start_time": "2022-03-29T13:06:56.788Z"
   },
   {
    "duration": 1618,
    "start_time": "2022-03-29T13:07:24.868Z"
   },
   {
    "duration": 29,
    "start_time": "2022-03-29T13:07:26.488Z"
   },
   {
    "duration": 16,
    "start_time": "2022-03-29T13:07:26.519Z"
   },
   {
    "duration": 40,
    "start_time": "2022-03-29T13:07:26.537Z"
   },
   {
    "duration": 28,
    "start_time": "2022-03-29T13:07:26.579Z"
   },
   {
    "duration": 503,
    "start_time": "2022-03-29T13:07:26.609Z"
   },
   {
    "duration": 10,
    "start_time": "2022-03-29T13:07:27.114Z"
   },
   {
    "duration": 15,
    "start_time": "2022-03-29T13:07:27.125Z"
   },
   {
    "duration": 19,
    "start_time": "2022-03-29T13:07:27.142Z"
   },
   {
    "duration": 17,
    "start_time": "2022-03-29T13:07:27.162Z"
   },
   {
    "duration": 22,
    "start_time": "2022-03-29T13:07:27.181Z"
   },
   {
    "duration": 29,
    "start_time": "2022-03-29T13:07:27.204Z"
   },
   {
    "duration": 25,
    "start_time": "2022-03-29T13:07:27.234Z"
   },
   {
    "duration": 37,
    "start_time": "2022-03-29T13:07:27.262Z"
   },
   {
    "duration": 9,
    "start_time": "2022-03-29T13:07:27.300Z"
   },
   {
    "duration": 31,
    "start_time": "2022-03-29T13:07:27.311Z"
   },
   {
    "duration": 22,
    "start_time": "2022-03-29T13:07:27.344Z"
   },
   {
    "duration": 26,
    "start_time": "2022-03-29T13:07:27.367Z"
   },
   {
    "duration": 25,
    "start_time": "2022-03-29T13:07:27.395Z"
   },
   {
    "duration": 31,
    "start_time": "2022-03-29T13:07:27.422Z"
   },
   {
    "duration": 39,
    "start_time": "2022-03-29T13:07:27.454Z"
   },
   {
    "duration": 16,
    "start_time": "2022-03-29T13:07:27.495Z"
   },
   {
    "duration": 24,
    "start_time": "2022-03-29T13:07:27.512Z"
   },
   {
    "duration": 26,
    "start_time": "2022-03-29T13:07:27.538Z"
   },
   {
    "duration": 13,
    "start_time": "2022-03-29T13:07:27.566Z"
   },
   {
    "duration": 23,
    "start_time": "2022-03-29T13:07:27.581Z"
   },
   {
    "duration": 19,
    "start_time": "2022-03-29T13:07:27.606Z"
   },
   {
    "duration": 20,
    "start_time": "2022-03-29T13:07:27.627Z"
   },
   {
    "duration": 37,
    "start_time": "2022-03-29T13:07:27.649Z"
   },
   {
    "duration": 9,
    "start_time": "2022-03-29T13:07:27.688Z"
   },
   {
    "duration": 27,
    "start_time": "2022-03-29T13:07:27.698Z"
   },
   {
    "duration": 10,
    "start_time": "2022-03-29T13:07:27.727Z"
   },
   {
    "duration": 24,
    "start_time": "2022-03-29T13:07:27.739Z"
   },
   {
    "duration": 39,
    "start_time": "2022-03-29T13:07:27.764Z"
   },
   {
    "duration": 6,
    "start_time": "2022-03-29T13:07:27.805Z"
   },
   {
    "duration": 32,
    "start_time": "2022-03-29T13:07:27.813Z"
   },
   {
    "duration": 27,
    "start_time": "2022-03-29T13:07:27.847Z"
   },
   {
    "duration": 29,
    "start_time": "2022-03-29T13:07:27.876Z"
   },
   {
    "duration": 26,
    "start_time": "2022-03-29T13:07:27.906Z"
   },
   {
    "duration": 21,
    "start_time": "2022-03-29T13:07:27.934Z"
   },
   {
    "duration": 16,
    "start_time": "2022-03-29T13:07:27.960Z"
   },
   {
    "duration": 24,
    "start_time": "2022-03-29T13:07:27.978Z"
   },
   {
    "duration": 18,
    "start_time": "2022-03-29T13:07:28.003Z"
   },
   {
    "duration": 46,
    "start_time": "2022-03-29T13:07:28.023Z"
   },
   {
    "duration": 152,
    "start_time": "2022-03-29T13:07:28.071Z"
   },
   {
    "duration": 35,
    "start_time": "2022-03-29T13:07:28.225Z"
   },
   {
    "duration": 51,
    "start_time": "2022-03-29T13:07:28.262Z"
   },
   {
    "duration": 32,
    "start_time": "2022-03-29T13:07:28.315Z"
   },
   {
    "duration": 33,
    "start_time": "2022-03-29T13:07:28.349Z"
   },
   {
    "duration": 708,
    "start_time": "2022-03-29T13:07:28.383Z"
   },
   {
    "duration": 751,
    "start_time": "2022-03-29T13:07:29.101Z"
   },
   {
    "duration": 666,
    "start_time": "2022-03-29T13:07:29.854Z"
   },
   {
    "duration": 673,
    "start_time": "2022-03-29T13:07:30.522Z"
   },
   {
    "duration": 661,
    "start_time": "2022-03-29T13:07:31.201Z"
   },
   {
    "duration": 757,
    "start_time": "2022-03-29T13:07:31.864Z"
   },
   {
    "duration": 84,
    "start_time": "2022-03-29T13:07:32.622Z"
   },
   {
    "duration": 353,
    "start_time": "2022-03-29T13:07:32.709Z"
   },
   {
    "duration": 38,
    "start_time": "2022-03-29T13:07:33.064Z"
   },
   {
    "duration": 201,
    "start_time": "2022-03-29T13:07:33.105Z"
   },
   {
    "duration": 194,
    "start_time": "2022-03-29T13:07:33.309Z"
   },
   {
    "duration": 112,
    "start_time": "2022-03-29T13:07:33.505Z"
   },
   {
    "duration": 188,
    "start_time": "2022-03-29T13:07:33.619Z"
   },
   {
    "duration": 246,
    "start_time": "2022-03-29T13:07:33.810Z"
   },
   {
    "duration": 11,
    "start_time": "2022-03-29T13:07:34.058Z"
   },
   {
    "duration": 83,
    "start_time": "2022-03-29T13:07:34.071Z"
   },
   {
    "duration": 52,
    "start_time": "2022-03-29T13:07:34.156Z"
   },
   {
    "duration": 39,
    "start_time": "2022-03-29T13:07:34.210Z"
   },
   {
    "duration": 55,
    "start_time": "2022-03-29T13:07:34.251Z"
   },
   {
    "duration": 38,
    "start_time": "2022-03-29T13:07:34.308Z"
   },
   {
    "duration": 909,
    "start_time": "2022-03-29T13:07:34.347Z"
   },
   {
    "duration": 907,
    "start_time": "2022-03-29T13:07:35.258Z"
   },
   {
    "duration": 912,
    "start_time": "2022-03-29T13:07:36.167Z"
   },
   {
    "duration": 907,
    "start_time": "2022-03-29T13:07:37.081Z"
   },
   {
    "duration": 293,
    "start_time": "2022-03-29T13:07:37.990Z"
   },
   {
    "duration": 0,
    "start_time": "2022-03-29T13:07:38.284Z"
   },
   {
    "duration": 0,
    "start_time": "2022-03-29T13:07:38.286Z"
   },
   {
    "duration": 0,
    "start_time": "2022-03-29T13:07:38.287Z"
   },
   {
    "duration": 0,
    "start_time": "2022-03-29T13:07:38.301Z"
   },
   {
    "duration": 218,
    "start_time": "2022-03-29T13:09:06.212Z"
   },
   {
    "duration": 73,
    "start_time": "2022-03-29T13:13:25.940Z"
   },
   {
    "duration": 1572,
    "start_time": "2022-03-29T13:14:25.242Z"
   },
   {
    "duration": 29,
    "start_time": "2022-03-29T13:14:26.817Z"
   },
   {
    "duration": 15,
    "start_time": "2022-03-29T13:14:26.848Z"
   },
   {
    "duration": 60,
    "start_time": "2022-03-29T13:14:26.866Z"
   },
   {
    "duration": 13,
    "start_time": "2022-03-29T13:14:26.928Z"
   },
   {
    "duration": 580,
    "start_time": "2022-03-29T13:14:26.943Z"
   },
   {
    "duration": 12,
    "start_time": "2022-03-29T13:14:27.525Z"
   },
   {
    "duration": 9,
    "start_time": "2022-03-29T13:14:27.539Z"
   },
   {
    "duration": 9,
    "start_time": "2022-03-29T13:14:27.549Z"
   },
   {
    "duration": 4,
    "start_time": "2022-03-29T13:14:27.560Z"
   },
   {
    "duration": 36,
    "start_time": "2022-03-29T13:14:27.566Z"
   },
   {
    "duration": 8,
    "start_time": "2022-03-29T13:14:27.604Z"
   },
   {
    "duration": 5,
    "start_time": "2022-03-29T13:14:27.614Z"
   },
   {
    "duration": 7,
    "start_time": "2022-03-29T13:14:27.621Z"
   },
   {
    "duration": 7,
    "start_time": "2022-03-29T13:14:27.629Z"
   },
   {
    "duration": 10,
    "start_time": "2022-03-29T13:14:27.638Z"
   },
   {
    "duration": 8,
    "start_time": "2022-03-29T13:14:27.649Z"
   },
   {
    "duration": 10,
    "start_time": "2022-03-29T13:14:27.659Z"
   },
   {
    "duration": 34,
    "start_time": "2022-03-29T13:14:27.671Z"
   },
   {
    "duration": 7,
    "start_time": "2022-03-29T13:14:27.707Z"
   },
   {
    "duration": 6,
    "start_time": "2022-03-29T13:14:27.716Z"
   },
   {
    "duration": 10,
    "start_time": "2022-03-29T13:14:27.724Z"
   },
   {
    "duration": 8,
    "start_time": "2022-03-29T13:14:27.736Z"
   },
   {
    "duration": 9,
    "start_time": "2022-03-29T13:14:27.746Z"
   },
   {
    "duration": 10,
    "start_time": "2022-03-29T13:14:27.757Z"
   },
   {
    "duration": 33,
    "start_time": "2022-03-29T13:14:27.769Z"
   },
   {
    "duration": 2,
    "start_time": "2022-03-29T13:14:27.804Z"
   },
   {
    "duration": 5,
    "start_time": "2022-03-29T13:14:27.810Z"
   },
   {
    "duration": 32,
    "start_time": "2022-03-29T13:14:27.816Z"
   },
   {
    "duration": 14,
    "start_time": "2022-03-29T13:14:27.849Z"
   },
   {
    "duration": 15,
    "start_time": "2022-03-29T13:14:27.865Z"
   },
   {
    "duration": 14,
    "start_time": "2022-03-29T13:14:27.883Z"
   },
   {
    "duration": 16,
    "start_time": "2022-03-29T13:14:27.901Z"
   },
   {
    "duration": 33,
    "start_time": "2022-03-29T13:14:27.919Z"
   },
   {
    "duration": 6,
    "start_time": "2022-03-29T13:14:27.954Z"
   },
   {
    "duration": 11,
    "start_time": "2022-03-29T13:14:27.962Z"
   },
   {
    "duration": 26,
    "start_time": "2022-03-29T13:14:27.975Z"
   },
   {
    "duration": 28,
    "start_time": "2022-03-29T13:14:28.003Z"
   },
   {
    "duration": 45,
    "start_time": "2022-03-29T13:14:28.033Z"
   },
   {
    "duration": 30,
    "start_time": "2022-03-29T13:14:28.080Z"
   },
   {
    "duration": 25,
    "start_time": "2022-03-29T13:14:28.112Z"
   },
   {
    "duration": 6,
    "start_time": "2022-03-29T13:14:28.139Z"
   },
   {
    "duration": 13,
    "start_time": "2022-03-29T13:14:28.147Z"
   },
   {
    "duration": 60,
    "start_time": "2022-03-29T13:14:28.162Z"
   },
   {
    "duration": 191,
    "start_time": "2022-03-29T13:14:28.224Z"
   },
   {
    "duration": 36,
    "start_time": "2022-03-29T13:14:28.417Z"
   },
   {
    "duration": 53,
    "start_time": "2022-03-29T13:14:28.455Z"
   },
   {
    "duration": 36,
    "start_time": "2022-03-29T13:14:28.509Z"
   },
   {
    "duration": 35,
    "start_time": "2022-03-29T13:14:28.546Z"
   },
   {
    "duration": 980,
    "start_time": "2022-03-29T13:14:28.601Z"
   },
   {
    "duration": 1081,
    "start_time": "2022-03-29T13:14:29.583Z"
   },
   {
    "duration": 924,
    "start_time": "2022-03-29T13:14:30.667Z"
   },
   {
    "duration": 892,
    "start_time": "2022-03-29T13:14:31.593Z"
   },
   {
    "duration": 974,
    "start_time": "2022-03-29T13:14:32.487Z"
   },
   {
    "duration": 1016,
    "start_time": "2022-03-29T13:14:33.463Z"
   },
   {
    "duration": 38,
    "start_time": "2022-03-29T13:14:34.481Z"
   },
   {
    "duration": 403,
    "start_time": "2022-03-29T13:14:34.600Z"
   },
   {
    "duration": 26,
    "start_time": "2022-03-29T13:14:35.005Z"
   },
   {
    "duration": 176,
    "start_time": "2022-03-29T13:14:35.034Z"
   },
   {
    "duration": 192,
    "start_time": "2022-03-29T13:14:35.212Z"
   },
   {
    "duration": 118,
    "start_time": "2022-03-29T13:14:35.410Z"
   },
   {
    "duration": 350,
    "start_time": "2022-03-29T13:14:35.531Z"
   },
   {
    "duration": 0,
    "start_time": "2022-03-29T13:14:35.883Z"
   },
   {
    "duration": 0,
    "start_time": "2022-03-29T13:14:35.885Z"
   },
   {
    "duration": 0,
    "start_time": "2022-03-29T13:14:35.886Z"
   },
   {
    "duration": 0,
    "start_time": "2022-03-29T13:14:35.887Z"
   },
   {
    "duration": 0,
    "start_time": "2022-03-29T13:14:35.888Z"
   },
   {
    "duration": 0,
    "start_time": "2022-03-29T13:14:35.901Z"
   },
   {
    "duration": 0,
    "start_time": "2022-03-29T13:14:35.902Z"
   },
   {
    "duration": 0,
    "start_time": "2022-03-29T13:14:35.903Z"
   },
   {
    "duration": 0,
    "start_time": "2022-03-29T13:14:35.905Z"
   },
   {
    "duration": 0,
    "start_time": "2022-03-29T13:14:35.905Z"
   },
   {
    "duration": 0,
    "start_time": "2022-03-29T13:14:35.906Z"
   },
   {
    "duration": 0,
    "start_time": "2022-03-29T13:14:35.908Z"
   },
   {
    "duration": 0,
    "start_time": "2022-03-29T13:14:35.909Z"
   },
   {
    "duration": 0,
    "start_time": "2022-03-29T13:14:35.910Z"
   },
   {
    "duration": 0,
    "start_time": "2022-03-29T13:14:35.911Z"
   },
   {
    "duration": 0,
    "start_time": "2022-03-29T13:14:35.912Z"
   },
   {
    "duration": 72,
    "start_time": "2022-03-29T13:14:59.035Z"
   },
   {
    "duration": 1682,
    "start_time": "2022-03-29T13:15:55.430Z"
   },
   {
    "duration": 30,
    "start_time": "2022-03-29T13:15:57.114Z"
   },
   {
    "duration": 15,
    "start_time": "2022-03-29T13:15:57.145Z"
   },
   {
    "duration": 37,
    "start_time": "2022-03-29T13:15:57.161Z"
   },
   {
    "duration": 16,
    "start_time": "2022-03-29T13:15:57.201Z"
   },
   {
    "duration": 775,
    "start_time": "2022-03-29T13:15:57.219Z"
   },
   {
    "duration": 16,
    "start_time": "2022-03-29T13:15:57.996Z"
   },
   {
    "duration": 11,
    "start_time": "2022-03-29T13:15:58.014Z"
   },
   {
    "duration": 11,
    "start_time": "2022-03-29T13:15:58.027Z"
   },
   {
    "duration": 5,
    "start_time": "2022-03-29T13:15:58.040Z"
   },
   {
    "duration": 6,
    "start_time": "2022-03-29T13:15:58.047Z"
   },
   {
    "duration": 48,
    "start_time": "2022-03-29T13:15:58.055Z"
   },
   {
    "duration": 7,
    "start_time": "2022-03-29T13:15:58.105Z"
   },
   {
    "duration": 7,
    "start_time": "2022-03-29T13:15:58.115Z"
   },
   {
    "duration": 6,
    "start_time": "2022-03-29T13:15:58.123Z"
   },
   {
    "duration": 8,
    "start_time": "2022-03-29T13:15:58.130Z"
   },
   {
    "duration": 10,
    "start_time": "2022-03-29T13:15:58.139Z"
   },
   {
    "duration": 11,
    "start_time": "2022-03-29T13:15:58.151Z"
   },
   {
    "duration": 7,
    "start_time": "2022-03-29T13:15:58.164Z"
   },
   {
    "duration": 34,
    "start_time": "2022-03-29T13:15:58.172Z"
   },
   {
    "duration": 5,
    "start_time": "2022-03-29T13:15:58.208Z"
   },
   {
    "duration": 10,
    "start_time": "2022-03-29T13:15:58.215Z"
   },
   {
    "duration": 12,
    "start_time": "2022-03-29T13:15:58.226Z"
   },
   {
    "duration": 9,
    "start_time": "2022-03-29T13:15:58.239Z"
   },
   {
    "duration": 11,
    "start_time": "2022-03-29T13:15:58.250Z"
   },
   {
    "duration": 12,
    "start_time": "2022-03-29T13:15:58.263Z"
   },
   {
    "duration": 24,
    "start_time": "2022-03-29T13:15:58.277Z"
   },
   {
    "duration": 6,
    "start_time": "2022-03-29T13:15:58.303Z"
   },
   {
    "duration": 22,
    "start_time": "2022-03-29T13:15:58.311Z"
   },
   {
    "duration": 4,
    "start_time": "2022-03-29T13:15:58.334Z"
   },
   {
    "duration": 12,
    "start_time": "2022-03-29T13:15:58.339Z"
   },
   {
    "duration": 9,
    "start_time": "2022-03-29T13:15:58.352Z"
   },
   {
    "duration": 12,
    "start_time": "2022-03-29T13:15:58.363Z"
   },
   {
    "duration": 22,
    "start_time": "2022-03-29T13:15:58.401Z"
   },
   {
    "duration": 5,
    "start_time": "2022-03-29T13:15:58.425Z"
   },
   {
    "duration": 4,
    "start_time": "2022-03-29T13:15:58.432Z"
   },
   {
    "duration": 9,
    "start_time": "2022-03-29T13:15:58.438Z"
   },
   {
    "duration": 53,
    "start_time": "2022-03-29T13:15:58.449Z"
   },
   {
    "duration": 23,
    "start_time": "2022-03-29T13:15:58.504Z"
   },
   {
    "duration": 16,
    "start_time": "2022-03-29T13:15:58.528Z"
   },
   {
    "duration": 17,
    "start_time": "2022-03-29T13:15:58.548Z"
   },
   {
    "duration": 6,
    "start_time": "2022-03-29T13:15:58.566Z"
   },
   {
    "duration": 6,
    "start_time": "2022-03-29T13:15:58.602Z"
   },
   {
    "duration": 39,
    "start_time": "2022-03-29T13:15:58.609Z"
   },
   {
    "duration": 168,
    "start_time": "2022-03-29T13:15:58.650Z"
   },
   {
    "duration": 35,
    "start_time": "2022-03-29T13:15:58.820Z"
   },
   {
    "duration": 48,
    "start_time": "2022-03-29T13:15:58.857Z"
   },
   {
    "duration": 35,
    "start_time": "2022-03-29T13:15:58.907Z"
   },
   {
    "duration": 34,
    "start_time": "2022-03-29T13:15:58.944Z"
   },
   {
    "duration": 692,
    "start_time": "2022-03-29T13:15:58.979Z"
   },
   {
    "duration": 756,
    "start_time": "2022-03-29T13:15:59.673Z"
   },
   {
    "duration": 696,
    "start_time": "2022-03-29T13:16:00.431Z"
   },
   {
    "duration": 684,
    "start_time": "2022-03-29T13:16:01.129Z"
   },
   {
    "duration": 691,
    "start_time": "2022-03-29T13:16:01.815Z"
   },
   {
    "duration": 699,
    "start_time": "2022-03-29T13:16:02.508Z"
   },
   {
    "duration": 92,
    "start_time": "2022-03-29T13:16:03.209Z"
   },
   {
    "duration": 382,
    "start_time": "2022-03-29T13:16:03.303Z"
   },
   {
    "duration": 38,
    "start_time": "2022-03-29T13:16:03.687Z"
   },
   {
    "duration": 180,
    "start_time": "2022-03-29T13:16:03.727Z"
   },
   {
    "duration": 26,
    "start_time": "2022-03-29T13:16:04.001Z"
   },
   {
    "duration": 179,
    "start_time": "2022-03-29T13:16:04.031Z"
   },
   {
    "duration": 633,
    "start_time": "2022-03-29T13:16:04.216Z"
   },
   {
    "duration": 54,
    "start_time": "2022-03-29T13:16:04.851Z"
   },
   {
    "duration": 194,
    "start_time": "2022-03-29T13:16:04.908Z"
   },
   {
    "duration": 13,
    "start_time": "2022-03-29T13:16:05.104Z"
   },
   {
    "duration": 89,
    "start_time": "2022-03-29T13:16:05.118Z"
   },
   {
    "duration": 42,
    "start_time": "2022-03-29T13:16:05.208Z"
   },
   {
    "duration": 58,
    "start_time": "2022-03-29T13:16:05.252Z"
   },
   {
    "duration": 42,
    "start_time": "2022-03-29T13:16:05.312Z"
   },
   {
    "duration": 58,
    "start_time": "2022-03-29T13:16:05.356Z"
   },
   {
    "duration": 954,
    "start_time": "2022-03-29T13:16:05.417Z"
   },
   {
    "duration": 964,
    "start_time": "2022-03-29T13:16:06.373Z"
   },
   {
    "duration": 938,
    "start_time": "2022-03-29T13:16:07.339Z"
   },
   {
    "duration": 964,
    "start_time": "2022-03-29T13:16:08.279Z"
   },
   {
    "duration": 62,
    "start_time": "2022-03-29T13:16:09.245Z"
   },
   {
    "duration": 110,
    "start_time": "2022-03-29T13:16:09.310Z"
   },
   {
    "duration": 118,
    "start_time": "2022-03-29T13:16:09.502Z"
   },
   {
    "duration": 194,
    "start_time": "2022-03-29T13:16:09.622Z"
   },
   {
    "duration": 298,
    "start_time": "2022-03-29T13:17:20.203Z"
   },
   {
    "duration": 767,
    "start_time": "2022-03-29T13:17:39.999Z"
   },
   {
    "duration": 130,
    "start_time": "2022-03-29T13:18:43.703Z"
   },
   {
    "duration": 23,
    "start_time": "2022-03-29T13:23:29.582Z"
   },
   {
    "duration": 294,
    "start_time": "2022-03-29T13:24:24.748Z"
   },
   {
    "duration": 281,
    "start_time": "2022-03-29T13:24:49.626Z"
   },
   {
    "duration": 318,
    "start_time": "2022-03-29T13:25:01.105Z"
   },
   {
    "duration": 289,
    "start_time": "2022-03-29T13:25:35.655Z"
   },
   {
    "duration": 268,
    "start_time": "2022-03-29T13:25:47.254Z"
   },
   {
    "duration": 742,
    "start_time": "2022-03-29T13:27:55.404Z"
   },
   {
    "duration": 222,
    "start_time": "2022-03-29T13:28:58.537Z"
   },
   {
    "duration": 135,
    "start_time": "2022-03-29T13:29:03.379Z"
   },
   {
    "duration": 306,
    "start_time": "2022-03-29T13:30:25.803Z"
   },
   {
    "duration": 208,
    "start_time": "2022-03-29T13:32:36.282Z"
   },
   {
    "duration": 39,
    "start_time": "2022-03-29T13:32:44.211Z"
   },
   {
    "duration": 82,
    "start_time": "2022-03-29T13:35:13.021Z"
   },
   {
    "duration": 977,
    "start_time": "2022-03-29T13:39:25.089Z"
   },
   {
    "duration": 954,
    "start_time": "2022-03-29T13:40:18.142Z"
   },
   {
    "duration": 2554,
    "start_time": "2022-03-29T13:40:35.363Z"
   },
   {
    "duration": 31,
    "start_time": "2022-03-29T13:40:37.919Z"
   },
   {
    "duration": 16,
    "start_time": "2022-03-29T13:40:37.952Z"
   },
   {
    "duration": 47,
    "start_time": "2022-03-29T13:40:37.970Z"
   },
   {
    "duration": 11,
    "start_time": "2022-03-29T13:40:38.019Z"
   },
   {
    "duration": 545,
    "start_time": "2022-03-29T13:40:38.032Z"
   },
   {
    "duration": 11,
    "start_time": "2022-03-29T13:40:38.579Z"
   },
   {
    "duration": 7,
    "start_time": "2022-03-29T13:40:38.601Z"
   },
   {
    "duration": 9,
    "start_time": "2022-03-29T13:40:38.610Z"
   },
   {
    "duration": 4,
    "start_time": "2022-03-29T13:40:38.622Z"
   },
   {
    "duration": 5,
    "start_time": "2022-03-29T13:40:38.627Z"
   },
   {
    "duration": 7,
    "start_time": "2022-03-29T13:40:38.634Z"
   },
   {
    "duration": 6,
    "start_time": "2022-03-29T13:40:38.643Z"
   },
   {
    "duration": 9,
    "start_time": "2022-03-29T13:40:38.650Z"
   },
   {
    "duration": 41,
    "start_time": "2022-03-29T13:40:38.661Z"
   },
   {
    "duration": 6,
    "start_time": "2022-03-29T13:40:38.704Z"
   },
   {
    "duration": 4,
    "start_time": "2022-03-29T13:40:38.712Z"
   },
   {
    "duration": 9,
    "start_time": "2022-03-29T13:40:38.717Z"
   },
   {
    "duration": 8,
    "start_time": "2022-03-29T13:40:38.727Z"
   },
   {
    "duration": 9,
    "start_time": "2022-03-29T13:40:38.737Z"
   },
   {
    "duration": 8,
    "start_time": "2022-03-29T13:40:38.747Z"
   },
   {
    "duration": 7,
    "start_time": "2022-03-29T13:40:38.757Z"
   },
   {
    "duration": 8,
    "start_time": "2022-03-29T13:40:38.766Z"
   },
   {
    "duration": 5,
    "start_time": "2022-03-29T13:40:38.802Z"
   },
   {
    "duration": 8,
    "start_time": "2022-03-29T13:40:38.808Z"
   },
   {
    "duration": 8,
    "start_time": "2022-03-29T13:40:38.818Z"
   },
   {
    "duration": 7,
    "start_time": "2022-03-29T13:40:38.827Z"
   },
   {
    "duration": 6,
    "start_time": "2022-03-29T13:40:38.838Z"
   },
   {
    "duration": 24,
    "start_time": "2022-03-29T13:40:38.846Z"
   },
   {
    "duration": 6,
    "start_time": "2022-03-29T13:40:38.871Z"
   },
   {
    "duration": 29,
    "start_time": "2022-03-29T13:40:38.878Z"
   },
   {
    "duration": 7,
    "start_time": "2022-03-29T13:40:38.909Z"
   },
   {
    "duration": 11,
    "start_time": "2022-03-29T13:40:38.918Z"
   },
   {
    "duration": 25,
    "start_time": "2022-03-29T13:40:38.931Z"
   },
   {
    "duration": 6,
    "start_time": "2022-03-29T13:40:38.958Z"
   },
   {
    "duration": 35,
    "start_time": "2022-03-29T13:40:38.966Z"
   },
   {
    "duration": 9,
    "start_time": "2022-03-29T13:40:39.003Z"
   },
   {
    "duration": 19,
    "start_time": "2022-03-29T13:40:39.013Z"
   },
   {
    "duration": 24,
    "start_time": "2022-03-29T13:40:39.033Z"
   },
   {
    "duration": 49,
    "start_time": "2022-03-29T13:40:39.058Z"
   },
   {
    "duration": 16,
    "start_time": "2022-03-29T13:40:39.109Z"
   },
   {
    "duration": 5,
    "start_time": "2022-03-29T13:40:39.126Z"
   },
   {
    "duration": 6,
    "start_time": "2022-03-29T13:40:39.132Z"
   },
   {
    "duration": 36,
    "start_time": "2022-03-29T13:40:39.140Z"
   },
   {
    "duration": 148,
    "start_time": "2022-03-29T13:40:39.200Z"
   },
   {
    "duration": 36,
    "start_time": "2022-03-29T13:40:39.349Z"
   },
   {
    "duration": 49,
    "start_time": "2022-03-29T13:40:39.386Z"
   },
   {
    "duration": 36,
    "start_time": "2022-03-29T13:40:39.436Z"
   },
   {
    "duration": 52,
    "start_time": "2022-03-29T13:40:39.474Z"
   },
   {
    "duration": 148,
    "start_time": "2022-03-29T13:40:39.527Z"
   },
   {
    "duration": 210,
    "start_time": "2022-03-29T13:40:39.677Z"
   },
   {
    "duration": 694,
    "start_time": "2022-03-29T13:40:39.888Z"
   },
   {
    "duration": 759,
    "start_time": "2022-03-29T13:40:40.583Z"
   },
   {
    "duration": 658,
    "start_time": "2022-03-29T13:40:41.343Z"
   },
   {
    "duration": 662,
    "start_time": "2022-03-29T13:40:42.003Z"
   },
   {
    "duration": 701,
    "start_time": "2022-03-29T13:40:42.667Z"
   },
   {
    "duration": 658,
    "start_time": "2022-03-29T13:40:43.370Z"
   },
   {
    "duration": 785,
    "start_time": "2022-03-29T13:40:44.030Z"
   },
   {
    "duration": 785,
    "start_time": "2022-03-29T13:40:44.817Z"
   },
   {
    "duration": 24,
    "start_time": "2022-03-29T13:40:45.603Z"
   },
   {
    "duration": 371,
    "start_time": "2022-03-29T13:40:45.702Z"
   },
   {
    "duration": 41,
    "start_time": "2022-03-29T13:40:46.075Z"
   },
   {
    "duration": 185,
    "start_time": "2022-03-29T13:40:46.118Z"
   },
   {
    "duration": 113,
    "start_time": "2022-03-29T13:40:46.306Z"
   },
   {
    "duration": 192,
    "start_time": "2022-03-29T13:40:46.422Z"
   },
   {
    "duration": 391,
    "start_time": "2022-03-29T13:40:46.616Z"
   },
   {
    "duration": 21,
    "start_time": "2022-03-29T13:40:47.008Z"
   },
   {
    "duration": 384,
    "start_time": "2022-03-29T13:40:47.101Z"
   },
   {
    "duration": 75,
    "start_time": "2022-03-29T13:40:47.487Z"
   },
   {
    "duration": 11,
    "start_time": "2022-03-29T13:40:47.564Z"
   },
   {
    "duration": 83,
    "start_time": "2022-03-29T13:40:47.577Z"
   },
   {
    "duration": 47,
    "start_time": "2022-03-29T13:40:47.661Z"
   },
   {
    "duration": 40,
    "start_time": "2022-03-29T13:40:47.710Z"
   },
   {
    "duration": 55,
    "start_time": "2022-03-29T13:40:47.752Z"
   },
   {
    "duration": 43,
    "start_time": "2022-03-29T13:40:47.808Z"
   },
   {
    "duration": 60,
    "start_time": "2022-03-29T13:40:47.853Z"
   },
   {
    "duration": 960,
    "start_time": "2022-03-29T13:40:47.914Z"
   },
   {
    "duration": 976,
    "start_time": "2022-03-29T13:40:48.876Z"
   },
   {
    "duration": 893,
    "start_time": "2022-03-29T13:40:49.854Z"
   },
   {
    "duration": 919,
    "start_time": "2022-03-29T13:40:50.749Z"
   },
   {
    "duration": 901,
    "start_time": "2022-03-29T13:40:51.670Z"
   },
   {
    "duration": 41,
    "start_time": "2022-03-29T13:40:52.575Z"
   },
   {
    "duration": 120,
    "start_time": "2022-03-29T13:40:52.702Z"
   },
   {
    "duration": 201,
    "start_time": "2022-03-29T13:40:52.824Z"
   },
   {
    "duration": 198,
    "start_time": "2022-03-29T13:40:53.103Z"
   },
   {
    "duration": 197,
    "start_time": "2022-03-29T13:40:53.304Z"
   },
   {
    "duration": 136,
    "start_time": "2022-03-30T12:43:10.126Z"
   },
   {
    "duration": 92,
    "start_time": "2022-03-30T12:46:34.522Z"
   },
   {
    "duration": 1508,
    "start_time": "2022-03-30T12:46:46.226Z"
   },
   {
    "duration": 30,
    "start_time": "2022-03-30T12:46:47.736Z"
   },
   {
    "duration": 16,
    "start_time": "2022-03-30T12:46:47.768Z"
   },
   {
    "duration": 44,
    "start_time": "2022-03-30T12:46:47.786Z"
   },
   {
    "duration": 11,
    "start_time": "2022-03-30T12:46:47.833Z"
   },
   {
    "duration": 660,
    "start_time": "2022-03-30T12:46:47.846Z"
   },
   {
    "duration": 11,
    "start_time": "2022-03-30T12:46:48.509Z"
   },
   {
    "duration": 7,
    "start_time": "2022-03-30T12:46:48.521Z"
   },
   {
    "duration": 11,
    "start_time": "2022-03-30T12:46:48.530Z"
   },
   {
    "duration": 3,
    "start_time": "2022-03-30T12:46:48.543Z"
   },
   {
    "duration": 11,
    "start_time": "2022-03-30T12:46:48.548Z"
   },
   {
    "duration": 9,
    "start_time": "2022-03-30T12:46:48.561Z"
   },
   {
    "duration": 8,
    "start_time": "2022-03-30T12:46:48.572Z"
   },
   {
    "duration": 8,
    "start_time": "2022-03-30T12:46:48.611Z"
   },
   {
    "duration": 6,
    "start_time": "2022-03-30T12:46:48.620Z"
   },
   {
    "duration": 7,
    "start_time": "2022-03-30T12:46:48.628Z"
   },
   {
    "duration": 5,
    "start_time": "2022-03-30T12:46:48.637Z"
   },
   {
    "duration": 12,
    "start_time": "2022-03-30T12:46:48.644Z"
   },
   {
    "duration": 4,
    "start_time": "2022-03-30T12:46:48.657Z"
   },
   {
    "duration": 7,
    "start_time": "2022-03-30T12:46:48.663Z"
   },
   {
    "duration": 39,
    "start_time": "2022-03-30T12:46:48.671Z"
   },
   {
    "duration": 6,
    "start_time": "2022-03-30T12:46:48.712Z"
   },
   {
    "duration": 9,
    "start_time": "2022-03-30T12:46:48.719Z"
   },
   {
    "duration": 7,
    "start_time": "2022-03-30T12:46:48.730Z"
   },
   {
    "duration": 18,
    "start_time": "2022-03-30T12:46:48.738Z"
   },
   {
    "duration": 6,
    "start_time": "2022-03-30T12:46:48.758Z"
   },
   {
    "duration": 7,
    "start_time": "2022-03-30T12:46:48.766Z"
   },
   {
    "duration": 7,
    "start_time": "2022-03-30T12:46:48.775Z"
   },
   {
    "duration": 35,
    "start_time": "2022-03-30T12:46:48.783Z"
   },
   {
    "duration": 4,
    "start_time": "2022-03-30T12:46:48.819Z"
   },
   {
    "duration": 10,
    "start_time": "2022-03-30T12:46:48.824Z"
   },
   {
    "duration": 7,
    "start_time": "2022-03-30T12:46:48.836Z"
   },
   {
    "duration": 15,
    "start_time": "2022-03-30T12:46:48.845Z"
   },
   {
    "duration": 50,
    "start_time": "2022-03-30T12:46:48.861Z"
   },
   {
    "duration": 6,
    "start_time": "2022-03-30T12:46:48.912Z"
   },
   {
    "duration": 5,
    "start_time": "2022-03-30T12:46:48.919Z"
   },
   {
    "duration": 7,
    "start_time": "2022-03-30T12:46:48.925Z"
   },
   {
    "duration": 18,
    "start_time": "2022-03-30T12:46:48.934Z"
   },
   {
    "duration": 72,
    "start_time": "2022-03-30T12:46:48.954Z"
   },
   {
    "duration": 17,
    "start_time": "2022-03-30T12:46:49.028Z"
   },
   {
    "duration": 17,
    "start_time": "2022-03-30T12:46:49.051Z"
   },
   {
    "duration": 6,
    "start_time": "2022-03-30T12:46:49.070Z"
   },
   {
    "duration": 32,
    "start_time": "2022-03-30T12:46:49.078Z"
   },
   {
    "duration": 40,
    "start_time": "2022-03-30T12:46:49.111Z"
   },
   {
    "duration": 160,
    "start_time": "2022-03-30T12:46:49.152Z"
   },
   {
    "duration": 36,
    "start_time": "2022-03-30T12:46:49.314Z"
   },
   {
    "duration": 35,
    "start_time": "2022-03-30T12:46:49.352Z"
   },
   {
    "duration": 36,
    "start_time": "2022-03-30T12:46:49.410Z"
   },
   {
    "duration": 36,
    "start_time": "2022-03-30T12:46:49.448Z"
   },
   {
    "duration": 194,
    "start_time": "2022-03-30T12:46:49.486Z"
   },
   {
    "duration": 218,
    "start_time": "2022-03-30T12:46:49.681Z"
   },
   {
    "duration": 680,
    "start_time": "2022-03-30T12:46:49.909Z"
   },
   {
    "duration": 774,
    "start_time": "2022-03-30T12:46:50.591Z"
   },
   {
    "duration": 703,
    "start_time": "2022-03-30T12:46:51.366Z"
   },
   {
    "duration": 700,
    "start_time": "2022-03-30T12:46:52.071Z"
   },
   {
    "duration": 681,
    "start_time": "2022-03-30T12:46:52.772Z"
   },
   {
    "duration": 685,
    "start_time": "2022-03-30T12:46:53.455Z"
   },
   {
    "duration": 799,
    "start_time": "2022-03-30T12:46:54.141Z"
   },
   {
    "duration": 777,
    "start_time": "2022-03-30T12:46:54.941Z"
   },
   {
    "duration": 25,
    "start_time": "2022-03-30T12:46:55.720Z"
   },
   {
    "duration": 357,
    "start_time": "2022-03-30T12:46:55.810Z"
   },
   {
    "duration": 42,
    "start_time": "2022-03-30T12:46:56.168Z"
   },
   {
    "duration": 196,
    "start_time": "2022-03-30T12:46:56.212Z"
   },
   {
    "duration": 111,
    "start_time": "2022-03-30T12:46:56.411Z"
   },
   {
    "duration": 203,
    "start_time": "2022-03-30T12:46:56.528Z"
   },
   {
    "duration": 474,
    "start_time": "2022-03-30T12:46:56.736Z"
   },
   {
    "duration": 100,
    "start_time": "2022-03-30T12:46:57.212Z"
   },
   {
    "duration": 402,
    "start_time": "2022-03-30T12:46:57.315Z"
   },
   {
    "duration": 75,
    "start_time": "2022-03-30T12:46:57.719Z"
   },
   {
    "duration": 12,
    "start_time": "2022-03-30T12:46:57.809Z"
   },
   {
    "duration": 99,
    "start_time": "2022-03-30T12:46:57.823Z"
   },
   {
    "duration": 42,
    "start_time": "2022-03-30T12:46:57.924Z"
   },
   {
    "duration": 55,
    "start_time": "2022-03-30T12:46:57.968Z"
   },
   {
    "duration": 41,
    "start_time": "2022-03-30T12:46:58.025Z"
   },
   {
    "duration": 69,
    "start_time": "2022-03-30T12:46:58.068Z"
   },
   {
    "duration": 47,
    "start_time": "2022-03-30T12:46:58.139Z"
   },
   {
    "duration": 966,
    "start_time": "2022-03-30T12:46:58.188Z"
   },
   {
    "duration": 896,
    "start_time": "2022-03-30T12:46:59.156Z"
   },
   {
    "duration": 949,
    "start_time": "2022-03-30T12:47:00.054Z"
   },
   {
    "duration": 975,
    "start_time": "2022-03-30T12:47:01.005Z"
   },
   {
    "duration": 964,
    "start_time": "2022-03-30T12:47:01.981Z"
   },
   {
    "duration": 974,
    "start_time": "2022-03-30T12:47:02.947Z"
   },
   {
    "duration": 30,
    "start_time": "2022-03-30T12:47:03.923Z"
   },
   {
    "duration": 176,
    "start_time": "2022-03-30T12:47:03.955Z"
   },
   {
    "duration": 121,
    "start_time": "2022-03-30T12:47:04.209Z"
   },
   {
    "duration": 197,
    "start_time": "2022-03-30T12:47:04.332Z"
   },
   {
    "duration": 193,
    "start_time": "2022-03-30T12:47:04.532Z"
   },
   {
    "duration": 46,
    "start_time": "2022-03-30T12:47:34.758Z"
   },
   {
    "duration": 38,
    "start_time": "2022-03-30T12:47:56.288Z"
   },
   {
    "duration": 2016,
    "start_time": "2022-03-30T12:56:39.993Z"
   },
   {
    "duration": 2781,
    "start_time": "2022-03-30T12:56:53.945Z"
   },
   {
    "duration": 18463,
    "start_time": "2022-03-30T12:57:02.816Z"
   },
   {
    "duration": 4730,
    "start_time": "2022-03-30T12:59:19.168Z"
   },
   {
    "duration": 13899,
    "start_time": "2022-03-30T13:00:44.258Z"
   },
   {
    "duration": 7216,
    "start_time": "2022-03-30T13:01:05.438Z"
   },
   {
    "duration": 4773,
    "start_time": "2022-03-30T13:01:26.383Z"
   },
   {
    "duration": 7094,
    "start_time": "2022-03-30T13:01:38.654Z"
   },
   {
    "duration": 303,
    "start_time": "2022-03-30T13:05:32.035Z"
   },
   {
    "duration": 2173,
    "start_time": "2022-03-31T10:45:48.808Z"
   },
   {
    "duration": 36,
    "start_time": "2022-03-31T10:45:50.984Z"
   },
   {
    "duration": 26,
    "start_time": "2022-03-31T10:45:51.023Z"
   },
   {
    "duration": 74,
    "start_time": "2022-03-31T10:45:51.053Z"
   },
   {
    "duration": 45,
    "start_time": "2022-03-31T10:45:51.129Z"
   },
   {
    "duration": 872,
    "start_time": "2022-03-31T10:45:51.177Z"
   },
   {
    "duration": 25,
    "start_time": "2022-03-31T10:45:52.052Z"
   },
   {
    "duration": 10,
    "start_time": "2022-03-31T10:45:52.079Z"
   },
   {
    "duration": 13,
    "start_time": "2022-03-31T10:45:52.091Z"
   },
   {
    "duration": 6,
    "start_time": "2022-03-31T10:45:52.108Z"
   },
   {
    "duration": 10,
    "start_time": "2022-03-31T10:45:52.116Z"
   },
   {
    "duration": 50,
    "start_time": "2022-03-31T10:45:52.128Z"
   },
   {
    "duration": 8,
    "start_time": "2022-03-31T10:45:52.181Z"
   },
   {
    "duration": 8,
    "start_time": "2022-03-31T10:45:52.191Z"
   },
   {
    "duration": 9,
    "start_time": "2022-03-31T10:45:52.201Z"
   },
   {
    "duration": 9,
    "start_time": "2022-03-31T10:45:52.212Z"
   },
   {
    "duration": 7,
    "start_time": "2022-03-31T10:45:52.223Z"
   },
   {
    "duration": 46,
    "start_time": "2022-03-31T10:45:52.232Z"
   },
   {
    "duration": 7,
    "start_time": "2022-03-31T10:45:52.280Z"
   },
   {
    "duration": 9,
    "start_time": "2022-03-31T10:45:52.289Z"
   },
   {
    "duration": 6,
    "start_time": "2022-03-31T10:45:52.300Z"
   },
   {
    "duration": 8,
    "start_time": "2022-03-31T10:45:52.308Z"
   },
   {
    "duration": 9,
    "start_time": "2022-03-31T10:45:52.318Z"
   },
   {
    "duration": 49,
    "start_time": "2022-03-31T10:45:52.329Z"
   },
   {
    "duration": 16,
    "start_time": "2022-03-31T10:45:52.380Z"
   },
   {
    "duration": 12,
    "start_time": "2022-03-31T10:45:52.398Z"
   },
   {
    "duration": 9,
    "start_time": "2022-03-31T10:45:52.412Z"
   },
   {
    "duration": 6,
    "start_time": "2022-03-31T10:45:52.428Z"
   },
   {
    "duration": 54,
    "start_time": "2022-03-31T10:45:52.437Z"
   },
   {
    "duration": 5,
    "start_time": "2022-03-31T10:45:52.493Z"
   },
   {
    "duration": 16,
    "start_time": "2022-03-31T10:45:52.499Z"
   },
   {
    "duration": 11,
    "start_time": "2022-03-31T10:45:52.517Z"
   },
   {
    "duration": 55,
    "start_time": "2022-03-31T10:45:52.530Z"
   },
   {
    "duration": 41,
    "start_time": "2022-03-31T10:45:52.587Z"
   },
   {
    "duration": 9,
    "start_time": "2022-03-31T10:45:52.630Z"
   },
   {
    "duration": 34,
    "start_time": "2022-03-31T10:45:52.641Z"
   },
   {
    "duration": 9,
    "start_time": "2022-03-31T10:45:52.677Z"
   },
   {
    "duration": 24,
    "start_time": "2022-03-31T10:45:52.688Z"
   },
   {
    "duration": 79,
    "start_time": "2022-03-31T10:45:52.713Z"
   },
   {
    "duration": 28,
    "start_time": "2022-03-31T10:45:52.795Z"
   },
   {
    "duration": 52,
    "start_time": "2022-03-31T10:45:52.825Z"
   },
   {
    "duration": 8,
    "start_time": "2022-03-31T10:45:52.879Z"
   },
   {
    "duration": 8,
    "start_time": "2022-03-31T10:45:52.890Z"
   },
   {
    "duration": 80,
    "start_time": "2022-03-31T10:45:52.900Z"
   },
   {
    "duration": 239,
    "start_time": "2022-03-31T10:45:52.982Z"
   },
   {
    "duration": 57,
    "start_time": "2022-03-31T10:45:53.223Z"
   },
   {
    "duration": 50,
    "start_time": "2022-03-31T10:45:53.283Z"
   },
   {
    "duration": 75,
    "start_time": "2022-03-31T10:45:53.335Z"
   },
   {
    "duration": 62,
    "start_time": "2022-03-31T10:45:53.412Z"
   },
   {
    "duration": 234,
    "start_time": "2022-03-31T10:45:53.477Z"
   },
   {
    "duration": 291,
    "start_time": "2022-03-31T10:45:53.713Z"
   },
   {
    "duration": 978,
    "start_time": "2022-03-31T10:45:54.006Z"
   },
   {
    "duration": 1117,
    "start_time": "2022-03-31T10:45:54.986Z"
   },
   {
    "duration": 977,
    "start_time": "2022-03-31T10:45:56.105Z"
   },
   {
    "duration": 964,
    "start_time": "2022-03-31T10:45:57.084Z"
   },
   {
    "duration": 964,
    "start_time": "2022-03-31T10:45:58.050Z"
   },
   {
    "duration": 964,
    "start_time": "2022-03-31T10:45:59.016Z"
   },
   {
    "duration": 1165,
    "start_time": "2022-03-31T10:45:59.982Z"
   },
   {
    "duration": 1164,
    "start_time": "2022-03-31T10:46:01.150Z"
   },
   {
    "duration": 66,
    "start_time": "2022-03-31T10:46:02.316Z"
   },
   {
    "duration": 343,
    "start_time": "2022-03-31T10:46:02.475Z"
   },
   {
    "duration": 59,
    "start_time": "2022-03-31T10:46:02.820Z"
   },
   {
    "duration": 101,
    "start_time": "2022-03-31T10:46:02.974Z"
   },
   {
    "duration": 121,
    "start_time": "2022-03-31T10:46:03.078Z"
   },
   {
    "duration": 198,
    "start_time": "2022-03-31T10:46:03.276Z"
   },
   {
    "duration": 470,
    "start_time": "2022-03-31T10:46:03.478Z"
   },
   {
    "duration": 45,
    "start_time": "2022-03-31T10:46:03.950Z"
   },
   {
    "duration": 550,
    "start_time": "2022-03-31T10:46:03.998Z"
   },
   {
    "duration": 114,
    "start_time": "2022-03-31T10:46:04.551Z"
   },
   {
    "duration": 18,
    "start_time": "2022-03-31T10:46:04.673Z"
   },
   {
    "duration": 136,
    "start_time": "2022-03-31T10:46:04.693Z"
   },
   {
    "duration": 72,
    "start_time": "2022-03-31T10:46:04.831Z"
   },
   {
    "duration": 56,
    "start_time": "2022-03-31T10:46:04.905Z"
   },
   {
    "duration": 60,
    "start_time": "2022-03-31T10:46:04.974Z"
   },
   {
    "duration": 80,
    "start_time": "2022-03-31T10:46:05.036Z"
   },
   {
    "duration": 71,
    "start_time": "2022-03-31T10:46:05.118Z"
   },
   {
    "duration": 59,
    "start_time": "2022-03-31T10:46:05.192Z"
   },
   {
    "duration": 1406,
    "start_time": "2022-03-31T10:46:05.253Z"
   },
   {
    "duration": 1324,
    "start_time": "2022-03-31T10:46:06.662Z"
   },
   {
    "duration": 1374,
    "start_time": "2022-03-31T10:46:07.988Z"
   },
   {
    "duration": 1377,
    "start_time": "2022-03-31T10:46:09.365Z"
   },
   {
    "duration": 1388,
    "start_time": "2022-03-31T10:46:10.753Z"
   },
   {
    "duration": 1384,
    "start_time": "2022-03-31T10:46:12.144Z"
   },
   {
    "duration": 59,
    "start_time": "2022-03-31T10:46:13.530Z"
   },
   {
    "duration": 1509,
    "start_time": "2022-03-31T10:46:13.592Z"
   },
   {
    "duration": 71,
    "start_time": "2022-03-31T10:46:15.104Z"
   },
   {
    "duration": 197,
    "start_time": "2022-03-31T10:46:15.179Z"
   },
   {
    "duration": 196,
    "start_time": "2022-03-31T10:46:15.379Z"
   },
   {
    "duration": 196,
    "start_time": "2022-03-31T10:46:15.579Z"
   },
   {
    "duration": 10549,
    "start_time": "2022-03-31T10:46:15.779Z"
   },
   {
    "duration": 479,
    "start_time": "2022-03-31T10:46:26.330Z"
   },
   {
    "duration": 290,
    "start_time": "2022-03-31T10:46:26.813Z"
   },
   {
    "duration": 32,
    "start_time": "2022-03-31T10:47:06.054Z"
   },
   {
    "duration": 181,
    "start_time": "2022-03-31T10:47:43.911Z"
   },
   {
    "duration": 216,
    "start_time": "2022-03-31T10:47:52.885Z"
   },
   {
    "duration": 48,
    "start_time": "2022-03-31T10:48:05.971Z"
   },
   {
    "duration": 214,
    "start_time": "2022-03-31T10:48:11.786Z"
   },
   {
    "duration": 33,
    "start_time": "2022-03-31T10:48:19.323Z"
   },
   {
    "duration": 33,
    "start_time": "2022-03-31T10:48:26.613Z"
   },
   {
    "duration": 34,
    "start_time": "2022-03-31T10:48:32.187Z"
   },
   {
    "duration": 51,
    "start_time": "2022-03-31T10:48:38.325Z"
   },
   {
    "duration": 32,
    "start_time": "2022-03-31T10:48:45.113Z"
   },
   {
    "duration": 206,
    "start_time": "2022-03-31T10:48:55.703Z"
   },
   {
    "duration": 230,
    "start_time": "2022-03-31T10:49:02.888Z"
   },
   {
    "duration": 49445,
    "start_time": "2022-03-31T10:49:29.541Z"
   },
   {
    "duration": 424,
    "start_time": "2022-03-31T10:50:30.232Z"
   },
   {
    "duration": 550,
    "start_time": "2022-03-31T10:50:41.683Z"
   },
   {
    "duration": 412,
    "start_time": "2022-03-31T10:50:49.062Z"
   },
   {
    "duration": 426,
    "start_time": "2022-03-31T10:50:55.356Z"
   },
   {
    "duration": 494,
    "start_time": "2022-03-31T10:51:01.272Z"
   },
   {
    "duration": 408,
    "start_time": "2022-03-31T10:51:05.620Z"
   },
   {
    "duration": 590,
    "start_time": "2022-03-31T10:51:12.923Z"
   },
   {
    "duration": 683,
    "start_time": "2022-03-31T10:51:19.755Z"
   },
   {
    "duration": 384,
    "start_time": "2022-03-31T10:51:55.266Z"
   },
   {
    "duration": 418,
    "start_time": "2022-03-31T10:52:03.328Z"
   },
   {
    "duration": 41,
    "start_time": "2022-03-31T10:52:55.795Z"
   },
   {
    "duration": 39,
    "start_time": "2022-03-31T10:53:05.341Z"
   },
   {
    "duration": 44,
    "start_time": "2022-03-31T10:53:09.555Z"
   },
   {
    "duration": 42,
    "start_time": "2022-03-31T10:53:15.722Z"
   },
   {
    "duration": 42,
    "start_time": "2022-03-31T10:53:21.934Z"
   },
   {
    "duration": 51,
    "start_time": "2022-03-31T10:53:27.766Z"
   },
   {
    "duration": 599,
    "start_time": "2022-03-31T10:54:01.429Z"
   },
   {
    "duration": 540,
    "start_time": "2022-03-31T10:54:09.011Z"
   },
   {
    "duration": 567,
    "start_time": "2022-03-31T10:54:14.062Z"
   },
   {
    "duration": 570,
    "start_time": "2022-03-31T10:54:19.281Z"
   },
   {
    "duration": 581,
    "start_time": "2022-03-31T10:54:24.726Z"
   },
   {
    "duration": 610,
    "start_time": "2022-03-31T10:54:31.648Z"
   },
   {
    "duration": 13844,
    "start_time": "2022-03-31T10:55:03.602Z"
   },
   {
    "duration": 6978,
    "start_time": "2022-03-31T10:55:19.708Z"
   },
   {
    "duration": 442,
    "start_time": "2022-03-31T10:55:33.755Z"
   },
   {
    "duration": 1992,
    "start_time": "2022-03-31T10:58:40.859Z"
   },
   {
    "duration": 35,
    "start_time": "2022-03-31T10:58:42.854Z"
   },
   {
    "duration": 25,
    "start_time": "2022-03-31T10:58:42.892Z"
   },
   {
    "duration": 76,
    "start_time": "2022-03-31T10:58:42.920Z"
   },
   {
    "duration": 17,
    "start_time": "2022-03-31T10:58:42.999Z"
   },
   {
    "duration": 827,
    "start_time": "2022-03-31T10:58:43.019Z"
   },
   {
    "duration": 26,
    "start_time": "2022-03-31T10:58:43.848Z"
   },
   {
    "duration": 10,
    "start_time": "2022-03-31T10:58:43.877Z"
   },
   {
    "duration": 13,
    "start_time": "2022-03-31T10:58:43.889Z"
   },
   {
    "duration": 6,
    "start_time": "2022-03-31T10:58:43.906Z"
   },
   {
    "duration": 6,
    "start_time": "2022-03-31T10:58:43.914Z"
   },
   {
    "duration": 52,
    "start_time": "2022-03-31T10:58:43.923Z"
   },
   {
    "duration": 8,
    "start_time": "2022-03-31T10:58:43.977Z"
   },
   {
    "duration": 9,
    "start_time": "2022-03-31T10:58:43.987Z"
   },
   {
    "duration": 8,
    "start_time": "2022-03-31T10:58:43.998Z"
   },
   {
    "duration": 7,
    "start_time": "2022-03-31T10:58:44.008Z"
   },
   {
    "duration": 9,
    "start_time": "2022-03-31T10:58:44.017Z"
   },
   {
    "duration": 8,
    "start_time": "2022-03-31T10:58:44.074Z"
   },
   {
    "duration": 6,
    "start_time": "2022-03-31T10:58:44.084Z"
   },
   {
    "duration": 7,
    "start_time": "2022-03-31T10:58:44.092Z"
   },
   {
    "duration": 5,
    "start_time": "2022-03-31T10:58:44.101Z"
   },
   {
    "duration": 8,
    "start_time": "2022-03-31T10:58:44.109Z"
   },
   {
    "duration": 55,
    "start_time": "2022-03-31T10:58:44.120Z"
   },
   {
    "duration": 10,
    "start_time": "2022-03-31T10:58:44.178Z"
   },
   {
    "duration": 8,
    "start_time": "2022-03-31T10:58:44.190Z"
   },
   {
    "duration": 9,
    "start_time": "2022-03-31T10:58:44.200Z"
   },
   {
    "duration": 5,
    "start_time": "2022-03-31T10:58:44.211Z"
   },
   {
    "duration": 6,
    "start_time": "2022-03-31T10:58:44.277Z"
   },
   {
    "duration": 36,
    "start_time": "2022-03-31T10:58:44.285Z"
   },
   {
    "duration": 7,
    "start_time": "2022-03-31T10:58:44.324Z"
   },
   {
    "duration": 42,
    "start_time": "2022-03-31T10:58:44.333Z"
   },
   {
    "duration": 14,
    "start_time": "2022-03-31T10:58:44.378Z"
   },
   {
    "duration": 19,
    "start_time": "2022-03-31T10:58:44.395Z"
   },
   {
    "duration": 70,
    "start_time": "2022-03-31T10:58:44.416Z"
   },
   {
    "duration": 8,
    "start_time": "2022-03-31T10:58:44.488Z"
   },
   {
    "duration": 6,
    "start_time": "2022-03-31T10:58:44.498Z"
   },
   {
    "duration": 9,
    "start_time": "2022-03-31T10:58:44.506Z"
   },
   {
    "duration": 62,
    "start_time": "2022-03-31T10:58:44.517Z"
   },
   {
    "duration": 35,
    "start_time": "2022-03-31T10:58:44.581Z"
   },
   {
    "duration": 62,
    "start_time": "2022-03-31T10:58:44.619Z"
   },
   {
    "duration": 24,
    "start_time": "2022-03-31T10:58:44.683Z"
   },
   {
    "duration": 8,
    "start_time": "2022-03-31T10:58:44.709Z"
   },
   {
    "duration": 10,
    "start_time": "2022-03-31T10:58:44.719Z"
   },
   {
    "duration": 242,
    "start_time": "2022-03-31T10:58:44.731Z"
   },
   {
    "duration": 30,
    "start_time": "2022-03-31T10:58:44.975Z"
   },
   {
    "duration": 208,
    "start_time": "2022-03-31T10:58:45.007Z"
   },
   {
    "duration": 34,
    "start_time": "2022-03-31T10:58:45.217Z"
   },
   {
    "duration": 51,
    "start_time": "2022-03-31T10:58:45.253Z"
   },
   {
    "duration": 33,
    "start_time": "2022-03-31T10:58:45.305Z"
   },
   {
    "duration": 58,
    "start_time": "2022-03-31T10:58:45.340Z"
   },
   {
    "duration": 225,
    "start_time": "2022-03-31T10:58:45.400Z"
   },
   {
    "duration": 292,
    "start_time": "2022-03-31T10:58:45.627Z"
   },
   {
    "duration": 193,
    "start_time": "2022-03-31T10:58:45.921Z"
   },
   {
    "duration": 0,
    "start_time": "2022-03-31T10:58:46.117Z"
   },
   {
    "duration": 0,
    "start_time": "2022-03-31T10:58:46.118Z"
   },
   {
    "duration": 0,
    "start_time": "2022-03-31T10:58:46.120Z"
   },
   {
    "duration": 0,
    "start_time": "2022-03-31T10:58:46.121Z"
   },
   {
    "duration": 0,
    "start_time": "2022-03-31T10:58:46.123Z"
   },
   {
    "duration": 0,
    "start_time": "2022-03-31T10:58:46.124Z"
   },
   {
    "duration": 0,
    "start_time": "2022-03-31T10:58:46.125Z"
   },
   {
    "duration": 0,
    "start_time": "2022-03-31T10:58:46.128Z"
   },
   {
    "duration": 0,
    "start_time": "2022-03-31T10:58:46.130Z"
   },
   {
    "duration": 0,
    "start_time": "2022-03-31T10:58:46.132Z"
   },
   {
    "duration": 0,
    "start_time": "2022-03-31T10:58:46.134Z"
   },
   {
    "duration": 0,
    "start_time": "2022-03-31T10:58:46.136Z"
   },
   {
    "duration": 0,
    "start_time": "2022-03-31T10:58:46.138Z"
   },
   {
    "duration": 0,
    "start_time": "2022-03-31T10:58:46.139Z"
   },
   {
    "duration": 0,
    "start_time": "2022-03-31T10:58:46.175Z"
   },
   {
    "duration": 0,
    "start_time": "2022-03-31T10:58:46.177Z"
   },
   {
    "duration": 0,
    "start_time": "2022-03-31T10:58:46.180Z"
   },
   {
    "duration": 0,
    "start_time": "2022-03-31T10:58:46.182Z"
   },
   {
    "duration": 0,
    "start_time": "2022-03-31T10:58:46.184Z"
   },
   {
    "duration": 0,
    "start_time": "2022-03-31T10:58:46.187Z"
   },
   {
    "duration": 0,
    "start_time": "2022-03-31T10:58:46.189Z"
   },
   {
    "duration": 0,
    "start_time": "2022-03-31T10:58:46.191Z"
   },
   {
    "duration": 0,
    "start_time": "2022-03-31T10:58:46.193Z"
   },
   {
    "duration": 0,
    "start_time": "2022-03-31T10:58:46.195Z"
   },
   {
    "duration": 0,
    "start_time": "2022-03-31T10:58:46.197Z"
   },
   {
    "duration": 0,
    "start_time": "2022-03-31T10:58:46.199Z"
   },
   {
    "duration": 0,
    "start_time": "2022-03-31T10:58:46.201Z"
   },
   {
    "duration": 0,
    "start_time": "2022-03-31T10:58:46.203Z"
   },
   {
    "duration": 0,
    "start_time": "2022-03-31T10:58:46.205Z"
   },
   {
    "duration": 0,
    "start_time": "2022-03-31T10:58:46.207Z"
   },
   {
    "duration": 0,
    "start_time": "2022-03-31T10:58:46.209Z"
   },
   {
    "duration": 0,
    "start_time": "2022-03-31T10:58:46.211Z"
   },
   {
    "duration": 0,
    "start_time": "2022-03-31T10:58:46.213Z"
   },
   {
    "duration": 0,
    "start_time": "2022-03-31T10:58:46.275Z"
   },
   {
    "duration": 0,
    "start_time": "2022-03-31T10:58:46.277Z"
   },
   {
    "duration": 0,
    "start_time": "2022-03-31T10:58:46.279Z"
   },
   {
    "duration": 0,
    "start_time": "2022-03-31T10:58:46.281Z"
   },
   {
    "duration": 0,
    "start_time": "2022-03-31T10:58:46.283Z"
   },
   {
    "duration": 0,
    "start_time": "2022-03-31T10:58:46.285Z"
   },
   {
    "duration": 0,
    "start_time": "2022-03-31T10:58:46.287Z"
   },
   {
    "duration": 49797,
    "start_time": "2022-03-31T11:08:53.727Z"
   },
   {
    "duration": 425,
    "start_time": "2022-03-31T11:09:43.526Z"
   },
   {
    "duration": 1889,
    "start_time": "2022-03-31T11:10:10.676Z"
   },
   {
    "duration": 36,
    "start_time": "2022-03-31T11:10:12.568Z"
   },
   {
    "duration": 24,
    "start_time": "2022-03-31T11:10:12.606Z"
   },
   {
    "duration": 73,
    "start_time": "2022-03-31T11:10:12.632Z"
   },
   {
    "duration": 16,
    "start_time": "2022-03-31T11:10:12.708Z"
   },
   {
    "duration": 784,
    "start_time": "2022-03-31T11:10:12.726Z"
   },
   {
    "duration": 17,
    "start_time": "2022-03-31T11:10:13.512Z"
   },
   {
    "duration": 10,
    "start_time": "2022-03-31T11:10:13.531Z"
   },
   {
    "duration": 43,
    "start_time": "2022-03-31T11:10:13.543Z"
   },
   {
    "duration": 5,
    "start_time": "2022-03-31T11:10:13.588Z"
   },
   {
    "duration": 9,
    "start_time": "2022-03-31T11:10:13.595Z"
   },
   {
    "duration": 12,
    "start_time": "2022-03-31T11:10:13.606Z"
   },
   {
    "duration": 7,
    "start_time": "2022-03-31T11:10:13.620Z"
   },
   {
    "duration": 44,
    "start_time": "2022-03-31T11:10:13.632Z"
   },
   {
    "duration": 7,
    "start_time": "2022-03-31T11:10:13.678Z"
   },
   {
    "duration": 13,
    "start_time": "2022-03-31T11:10:13.687Z"
   },
   {
    "duration": 8,
    "start_time": "2022-03-31T11:10:13.702Z"
   },
   {
    "duration": 10,
    "start_time": "2022-03-31T11:10:13.712Z"
   },
   {
    "duration": 7,
    "start_time": "2022-03-31T11:10:13.724Z"
   },
   {
    "duration": 44,
    "start_time": "2022-03-31T11:10:13.733Z"
   },
   {
    "duration": 5,
    "start_time": "2022-03-31T11:10:13.780Z"
   },
   {
    "duration": 12,
    "start_time": "2022-03-31T11:10:13.787Z"
   },
   {
    "duration": 6,
    "start_time": "2022-03-31T11:10:13.801Z"
   },
   {
    "duration": 7,
    "start_time": "2022-03-31T11:10:13.809Z"
   },
   {
    "duration": 10,
    "start_time": "2022-03-31T11:10:13.818Z"
   },
   {
    "duration": 46,
    "start_time": "2022-03-31T11:10:13.830Z"
   },
   {
    "duration": 6,
    "start_time": "2022-03-31T11:10:13.878Z"
   },
   {
    "duration": 9,
    "start_time": "2022-03-31T11:10:13.886Z"
   },
   {
    "duration": 33,
    "start_time": "2022-03-31T11:10:13.897Z"
   },
   {
    "duration": 4,
    "start_time": "2022-03-31T11:10:13.933Z"
   },
   {
    "duration": 40,
    "start_time": "2022-03-31T11:10:13.938Z"
   },
   {
    "duration": 10,
    "start_time": "2022-03-31T11:10:13.980Z"
   },
   {
    "duration": 18,
    "start_time": "2022-03-31T11:10:13.992Z"
   },
   {
    "duration": 64,
    "start_time": "2022-03-31T11:10:14.013Z"
   },
   {
    "duration": 9,
    "start_time": "2022-03-31T11:10:14.079Z"
   },
   {
    "duration": 6,
    "start_time": "2022-03-31T11:10:14.090Z"
   },
   {
    "duration": 9,
    "start_time": "2022-03-31T11:10:14.098Z"
   },
   {
    "duration": 68,
    "start_time": "2022-03-31T11:10:14.109Z"
   },
   {
    "duration": 35,
    "start_time": "2022-03-31T11:10:14.179Z"
   },
   {
    "duration": 24,
    "start_time": "2022-03-31T11:10:14.216Z"
   },
   {
    "duration": 26,
    "start_time": "2022-03-31T11:10:14.276Z"
   },
   {
    "duration": 8,
    "start_time": "2022-03-31T11:10:14.304Z"
   },
   {
    "duration": 8,
    "start_time": "2022-03-31T11:10:14.314Z"
   },
   {
    "duration": 236,
    "start_time": "2022-03-31T11:10:14.324Z"
   },
   {
    "duration": 38,
    "start_time": "2022-03-31T11:10:14.562Z"
   },
   {
    "duration": 194,
    "start_time": "2022-03-31T11:10:14.603Z"
   },
   {
    "duration": 33,
    "start_time": "2022-03-31T11:10:14.799Z"
   },
   {
    "duration": 52,
    "start_time": "2022-03-31T11:10:14.834Z"
   },
   {
    "duration": 32,
    "start_time": "2022-03-31T11:10:14.888Z"
   },
   {
    "duration": 52,
    "start_time": "2022-03-31T11:10:14.922Z"
   },
   {
    "duration": 226,
    "start_time": "2022-03-31T11:10:14.976Z"
   },
   {
    "duration": 293,
    "start_time": "2022-03-31T11:10:15.204Z"
   },
   {
    "duration": 430,
    "start_time": "2022-03-31T11:11:06.260Z"
   },
   {
    "duration": 585,
    "start_time": "2022-03-31T11:11:06.692Z"
   },
   {
    "duration": 419,
    "start_time": "2022-03-31T11:11:07.279Z"
   },
   {
    "duration": 431,
    "start_time": "2022-03-31T11:11:07.700Z"
   },
   {
    "duration": 424,
    "start_time": "2022-03-31T11:11:08.133Z"
   },
   {
    "duration": 421,
    "start_time": "2022-03-31T11:11:08.560Z"
   },
   {
    "duration": 594,
    "start_time": "2022-03-31T11:11:08.983Z"
   },
   {
    "duration": 597,
    "start_time": "2022-03-31T11:11:09.579Z"
   },
   {
    "duration": 30,
    "start_time": "2022-03-31T11:11:10.178Z"
   },
   {
    "duration": 432,
    "start_time": "2022-03-31T11:11:10.275Z"
   },
   {
    "duration": 66,
    "start_time": "2022-03-31T11:11:10.709Z"
   },
   {
    "duration": 122,
    "start_time": "2022-03-31T11:11:10.778Z"
   },
   {
    "duration": 200,
    "start_time": "2022-03-31T11:11:10.976Z"
   },
   {
    "duration": 197,
    "start_time": "2022-03-31T11:11:11.180Z"
   },
   {
    "duration": 469,
    "start_time": "2022-03-31T11:11:11.380Z"
   },
   {
    "duration": 43,
    "start_time": "2022-03-31T11:11:11.851Z"
   },
   {
    "duration": 547,
    "start_time": "2022-03-31T11:11:11.897Z"
   },
   {
    "duration": 114,
    "start_time": "2022-03-31T11:11:12.447Z"
   },
   {
    "duration": 21,
    "start_time": "2022-03-31T11:11:12.564Z"
   },
   {
    "duration": 125,
    "start_time": "2022-03-31T11:11:12.587Z"
   },
   {
    "duration": 40,
    "start_time": "2022-03-31T11:11:12.714Z"
   },
   {
    "duration": 39,
    "start_time": "2022-03-31T11:11:12.773Z"
   },
   {
    "duration": 60,
    "start_time": "2022-03-31T11:11:12.814Z"
   },
   {
    "duration": 42,
    "start_time": "2022-03-31T11:11:12.876Z"
   },
   {
    "duration": 62,
    "start_time": "2022-03-31T11:11:12.920Z"
   },
   {
    "duration": 43,
    "start_time": "2022-03-31T11:11:12.984Z"
   },
   {
    "duration": 612,
    "start_time": "2022-03-31T11:11:13.029Z"
   },
   {
    "duration": 558,
    "start_time": "2022-03-31T11:11:13.643Z"
   },
   {
    "duration": 582,
    "start_time": "2022-03-31T11:11:14.203Z"
   },
   {
    "duration": 593,
    "start_time": "2022-03-31T11:11:14.787Z"
   },
   {
    "duration": 601,
    "start_time": "2022-03-31T11:11:15.382Z"
   },
   {
    "duration": 585,
    "start_time": "2022-03-31T11:11:15.985Z"
   },
   {
    "duration": 101,
    "start_time": "2022-03-31T11:11:16.574Z"
   },
   {
    "duration": 649,
    "start_time": "2022-03-31T11:11:16.678Z"
   },
   {
    "duration": 60,
    "start_time": "2022-03-31T11:11:17.329Z"
   },
   {
    "duration": 206,
    "start_time": "2022-03-31T11:11:17.475Z"
   },
   {
    "duration": 199,
    "start_time": "2022-03-31T11:11:17.685Z"
   },
   {
    "duration": 201,
    "start_time": "2022-03-31T11:11:17.975Z"
   },
   {
    "duration": 7842,
    "start_time": "2022-03-31T11:11:18.178Z"
   },
   {
    "duration": 766,
    "start_time": "2022-03-31T11:11:26.022Z"
   },
   {
    "duration": 13619,
    "start_time": "2022-03-31T11:11:26.800Z"
   },
   {
    "duration": 212,
    "start_time": "2022-03-31T11:26:19.450Z"
   },
   {
    "duration": 2076,
    "start_time": "2022-03-31T11:26:28.401Z"
   },
   {
    "duration": 31,
    "start_time": "2022-03-31T11:26:30.480Z"
   },
   {
    "duration": 24,
    "start_time": "2022-03-31T11:26:30.514Z"
   },
   {
    "duration": 83,
    "start_time": "2022-03-31T11:26:30.541Z"
   },
   {
    "duration": 19,
    "start_time": "2022-03-31T11:26:30.627Z"
   },
   {
    "duration": 829,
    "start_time": "2022-03-31T11:26:30.648Z"
   },
   {
    "duration": 16,
    "start_time": "2022-03-31T11:26:31.479Z"
   },
   {
    "duration": 15,
    "start_time": "2022-03-31T11:26:31.497Z"
   },
   {
    "duration": 37,
    "start_time": "2022-03-31T11:26:31.514Z"
   },
   {
    "duration": 13,
    "start_time": "2022-03-31T11:26:31.553Z"
   },
   {
    "duration": 28,
    "start_time": "2022-03-31T11:26:31.568Z"
   },
   {
    "duration": 44,
    "start_time": "2022-03-31T11:26:31.598Z"
   },
   {
    "duration": 15,
    "start_time": "2022-03-31T11:26:31.644Z"
   },
   {
    "duration": 26,
    "start_time": "2022-03-31T11:26:31.664Z"
   },
   {
    "duration": 10,
    "start_time": "2022-03-31T11:26:31.692Z"
   },
   {
    "duration": 32,
    "start_time": "2022-03-31T11:26:31.704Z"
   },
   {
    "duration": 32,
    "start_time": "2022-03-31T11:26:31.738Z"
   },
   {
    "duration": 23,
    "start_time": "2022-03-31T11:26:31.772Z"
   },
   {
    "duration": 38,
    "start_time": "2022-03-31T11:26:31.797Z"
   },
   {
    "duration": 30,
    "start_time": "2022-03-31T11:26:31.837Z"
   },
   {
    "duration": 33,
    "start_time": "2022-03-31T11:26:31.869Z"
   },
   {
    "duration": 27,
    "start_time": "2022-03-31T11:26:31.904Z"
   },
   {
    "duration": 18,
    "start_time": "2022-03-31T11:26:31.933Z"
   },
   {
    "duration": 25,
    "start_time": "2022-03-31T11:26:31.953Z"
   },
   {
    "duration": 59,
    "start_time": "2022-03-31T11:26:31.981Z"
   },
   {
    "duration": 31,
    "start_time": "2022-03-31T11:26:32.042Z"
   },
   {
    "duration": 8,
    "start_time": "2022-03-31T11:26:32.075Z"
   },
   {
    "duration": 9,
    "start_time": "2022-03-31T11:26:32.085Z"
   },
   {
    "duration": 33,
    "start_time": "2022-03-31T11:26:32.097Z"
   },
   {
    "duration": 4,
    "start_time": "2022-03-31T11:26:32.133Z"
   },
   {
    "duration": 37,
    "start_time": "2022-03-31T11:26:32.139Z"
   },
   {
    "duration": 11,
    "start_time": "2022-03-31T11:26:32.178Z"
   },
   {
    "duration": 19,
    "start_time": "2022-03-31T11:26:32.191Z"
   },
   {
    "duration": 65,
    "start_time": "2022-03-31T11:26:32.212Z"
   },
   {
    "duration": 9,
    "start_time": "2022-03-31T11:26:32.279Z"
   },
   {
    "duration": 9,
    "start_time": "2022-03-31T11:26:32.290Z"
   },
   {
    "duration": 13,
    "start_time": "2022-03-31T11:26:32.301Z"
   },
   {
    "duration": 67,
    "start_time": "2022-03-31T11:26:32.316Z"
   },
   {
    "duration": 37,
    "start_time": "2022-03-31T11:26:32.386Z"
   },
   {
    "duration": 65,
    "start_time": "2022-03-31T11:26:32.426Z"
   },
   {
    "duration": 27,
    "start_time": "2022-03-31T11:26:32.500Z"
   },
   {
    "duration": 9,
    "start_time": "2022-03-31T11:26:32.530Z"
   },
   {
    "duration": 10,
    "start_time": "2022-03-31T11:26:32.573Z"
   },
   {
    "duration": 233,
    "start_time": "2022-03-31T11:26:32.586Z"
   },
   {
    "duration": 31,
    "start_time": "2022-03-31T11:26:32.821Z"
   },
   {
    "duration": 185,
    "start_time": "2022-03-31T11:26:32.875Z"
   },
   {
    "duration": 34,
    "start_time": "2022-03-31T11:26:33.075Z"
   },
   {
    "duration": 32,
    "start_time": "2022-03-31T11:26:33.111Z"
   },
   {
    "duration": 57,
    "start_time": "2022-03-31T11:26:33.145Z"
   },
   {
    "duration": 30,
    "start_time": "2022-03-31T11:26:33.204Z"
   },
   {
    "duration": 231,
    "start_time": "2022-03-31T11:26:33.236Z"
   },
   {
    "duration": 286,
    "start_time": "2022-03-31T11:26:33.473Z"
   },
   {
    "duration": 13204,
    "start_time": "2022-03-31T11:26:33.762Z"
   },
   {
    "duration": 426,
    "start_time": "2022-03-31T11:26:46.968Z"
   },
   {
    "duration": 580,
    "start_time": "2022-03-31T11:26:47.396Z"
   },
   {
    "duration": 451,
    "start_time": "2022-03-31T11:26:47.979Z"
   },
   {
    "duration": 442,
    "start_time": "2022-03-31T11:26:48.433Z"
   },
   {
    "duration": 436,
    "start_time": "2022-03-31T11:26:48.878Z"
   },
   {
    "duration": 468,
    "start_time": "2022-03-31T11:26:49.317Z"
   },
   {
    "duration": 626,
    "start_time": "2022-03-31T11:26:49.788Z"
   },
   {
    "duration": 608,
    "start_time": "2022-03-31T11:26:50.417Z"
   },
   {
    "duration": 56,
    "start_time": "2022-03-31T11:26:51.027Z"
   },
   {
    "duration": 527,
    "start_time": "2022-03-31T11:26:51.085Z"
   },
   {
    "duration": 62,
    "start_time": "2022-03-31T11:26:51.614Z"
   },
   {
    "duration": 197,
    "start_time": "2022-03-31T11:26:51.680Z"
   },
   {
    "duration": 193,
    "start_time": "2022-03-31T11:26:51.881Z"
   },
   {
    "duration": 199,
    "start_time": "2022-03-31T11:26:52.078Z"
   },
   {
    "duration": 475,
    "start_time": "2022-03-31T11:26:52.280Z"
   },
   {
    "duration": 46,
    "start_time": "2022-03-31T11:26:52.757Z"
   },
   {
    "duration": 541,
    "start_time": "2022-03-31T11:26:52.806Z"
   },
   {
    "duration": 123,
    "start_time": "2022-03-31T11:26:53.350Z"
   },
   {
    "duration": 17,
    "start_time": "2022-03-31T11:26:53.476Z"
   },
   {
    "duration": 129,
    "start_time": "2022-03-31T11:26:53.495Z"
   },
   {
    "duration": 49,
    "start_time": "2022-03-31T11:26:53.626Z"
   },
   {
    "duration": 38,
    "start_time": "2022-03-31T11:26:53.677Z"
   },
   {
    "duration": 65,
    "start_time": "2022-03-31T11:26:53.718Z"
   },
   {
    "duration": 40,
    "start_time": "2022-03-31T11:26:53.786Z"
   },
   {
    "duration": 62,
    "start_time": "2022-03-31T11:26:53.828Z"
   },
   {
    "duration": 41,
    "start_time": "2022-03-31T11:26:53.892Z"
   },
   {
    "duration": 597,
    "start_time": "2022-03-31T11:26:53.936Z"
   },
   {
    "duration": 568,
    "start_time": "2022-03-31T11:26:54.536Z"
   },
   {
    "duration": 601,
    "start_time": "2022-03-31T11:26:55.106Z"
   },
   {
    "duration": 585,
    "start_time": "2022-03-31T11:26:55.710Z"
   },
   {
    "duration": 586,
    "start_time": "2022-03-31T11:26:56.298Z"
   },
   {
    "duration": 594,
    "start_time": "2022-03-31T11:26:56.886Z"
   },
   {
    "duration": 98,
    "start_time": "2022-03-31T11:26:57.483Z"
   },
   {
    "duration": 614,
    "start_time": "2022-03-31T11:26:57.674Z"
   },
   {
    "duration": 87,
    "start_time": "2022-03-31T11:26:58.291Z"
   },
   {
    "duration": 194,
    "start_time": "2022-03-31T11:26:58.381Z"
   },
   {
    "duration": 197,
    "start_time": "2022-03-31T11:26:58.578Z"
   },
   {
    "duration": 195,
    "start_time": "2022-03-31T11:26:58.780Z"
   },
   {
    "duration": 8362,
    "start_time": "2022-03-31T11:26:58.978Z"
   },
   {
    "duration": 428,
    "start_time": "2022-03-31T11:27:07.342Z"
   },
   {
    "duration": 43,
    "start_time": "2022-03-31T11:28:17.862Z"
   },
   {
    "duration": 553,
    "start_time": "2022-03-31T11:39:34.053Z"
   },
   {
    "duration": 40,
    "start_time": "2022-03-31T11:40:05.174Z"
   },
   {
    "duration": 766,
    "start_time": "2022-03-31T11:41:53.627Z"
   },
   {
    "duration": 563,
    "start_time": "2022-03-31T11:42:06.433Z"
   },
   {
    "duration": 163,
    "start_time": "2022-03-31T11:44:14.199Z"
   },
   {
    "duration": 2018,
    "start_time": "2022-03-31T11:44:59.224Z"
   },
   {
    "duration": 36,
    "start_time": "2022-03-31T11:45:01.245Z"
   },
   {
    "duration": 26,
    "start_time": "2022-03-31T11:45:01.284Z"
   },
   {
    "duration": 79,
    "start_time": "2022-03-31T11:45:01.312Z"
   },
   {
    "duration": 17,
    "start_time": "2022-03-31T11:45:01.395Z"
   },
   {
    "duration": 807,
    "start_time": "2022-03-31T11:45:01.414Z"
   },
   {
    "duration": 17,
    "start_time": "2022-03-31T11:45:02.224Z"
   },
   {
    "duration": 32,
    "start_time": "2022-03-31T11:45:02.243Z"
   },
   {
    "duration": 14,
    "start_time": "2022-03-31T11:45:02.277Z"
   },
   {
    "duration": 5,
    "start_time": "2022-03-31T11:45:02.294Z"
   },
   {
    "duration": 13,
    "start_time": "2022-03-31T11:45:02.302Z"
   },
   {
    "duration": 19,
    "start_time": "2022-03-31T11:45:02.318Z"
   },
   {
    "duration": 36,
    "start_time": "2022-03-31T11:45:02.339Z"
   },
   {
    "duration": 15,
    "start_time": "2022-03-31T11:45:02.379Z"
   },
   {
    "duration": 12,
    "start_time": "2022-03-31T11:45:02.396Z"
   },
   {
    "duration": 10,
    "start_time": "2022-03-31T11:45:02.410Z"
   },
   {
    "duration": 20,
    "start_time": "2022-03-31T11:45:02.422Z"
   },
   {
    "duration": 14,
    "start_time": "2022-03-31T11:45:02.444Z"
   },
   {
    "duration": 20,
    "start_time": "2022-03-31T11:45:02.460Z"
   },
   {
    "duration": 9,
    "start_time": "2022-03-31T11:45:02.482Z"
   },
   {
    "duration": 7,
    "start_time": "2022-03-31T11:45:02.493Z"
   },
   {
    "duration": 8,
    "start_time": "2022-03-31T11:45:02.502Z"
   },
   {
    "duration": 8,
    "start_time": "2022-03-31T11:45:02.512Z"
   },
   {
    "duration": 22,
    "start_time": "2022-03-31T11:45:02.522Z"
   },
   {
    "duration": 5,
    "start_time": "2022-03-31T11:45:02.575Z"
   },
   {
    "duration": 8,
    "start_time": "2022-03-31T11:45:02.582Z"
   },
   {
    "duration": 13,
    "start_time": "2022-03-31T11:45:02.592Z"
   },
   {
    "duration": 9,
    "start_time": "2022-03-31T11:45:02.606Z"
   },
   {
    "duration": 59,
    "start_time": "2022-03-31T11:45:02.617Z"
   },
   {
    "duration": 5,
    "start_time": "2022-03-31T11:45:02.678Z"
   },
   {
    "duration": 14,
    "start_time": "2022-03-31T11:45:02.685Z"
   },
   {
    "duration": 15,
    "start_time": "2022-03-31T11:45:02.701Z"
   },
   {
    "duration": 18,
    "start_time": "2022-03-31T11:45:02.718Z"
   },
   {
    "duration": 66,
    "start_time": "2022-03-31T11:45:02.739Z"
   },
   {
    "duration": 10,
    "start_time": "2022-03-31T11:45:02.807Z"
   },
   {
    "duration": 8,
    "start_time": "2022-03-31T11:45:02.819Z"
   },
   {
    "duration": 48,
    "start_time": "2022-03-31T11:45:02.829Z"
   },
   {
    "duration": 31,
    "start_time": "2022-03-31T11:45:02.880Z"
   },
   {
    "duration": 87,
    "start_time": "2022-03-31T11:45:02.913Z"
   },
   {
    "duration": 29,
    "start_time": "2022-03-31T11:45:03.002Z"
   },
   {
    "duration": 50,
    "start_time": "2022-03-31T11:45:03.039Z"
   },
   {
    "duration": 8,
    "start_time": "2022-03-31T11:45:03.091Z"
   },
   {
    "duration": 9,
    "start_time": "2022-03-31T11:45:03.100Z"
   },
   {
    "duration": 232,
    "start_time": "2022-03-31T11:45:03.112Z"
   },
   {
    "duration": 49,
    "start_time": "2022-03-31T11:45:03.346Z"
   },
   {
    "duration": 189,
    "start_time": "2022-03-31T11:45:03.397Z"
   },
   {
    "duration": 34,
    "start_time": "2022-03-31T11:45:03.588Z"
   },
   {
    "duration": 62,
    "start_time": "2022-03-31T11:45:03.624Z"
   },
   {
    "duration": 34,
    "start_time": "2022-03-31T11:45:03.689Z"
   },
   {
    "duration": 58,
    "start_time": "2022-03-31T11:45:03.725Z"
   },
   {
    "duration": 227,
    "start_time": "2022-03-31T11:45:03.786Z"
   },
   {
    "duration": 308,
    "start_time": "2022-03-31T11:45:04.016Z"
   },
   {
    "duration": 12670,
    "start_time": "2022-03-31T11:45:04.328Z"
   },
   {
    "duration": 419,
    "start_time": "2022-03-31T11:45:17.000Z"
   },
   {
    "duration": 565,
    "start_time": "2022-03-31T11:45:17.421Z"
   },
   {
    "duration": 444,
    "start_time": "2022-03-31T11:45:17.988Z"
   },
   {
    "duration": 443,
    "start_time": "2022-03-31T11:45:18.434Z"
   },
   {
    "duration": 448,
    "start_time": "2022-03-31T11:45:18.879Z"
   },
   {
    "duration": 449,
    "start_time": "2022-03-31T11:45:19.330Z"
   },
   {
    "duration": 633,
    "start_time": "2022-03-31T11:45:19.782Z"
   },
   {
    "duration": 724,
    "start_time": "2022-03-31T11:45:20.418Z"
   },
   {
    "duration": 128,
    "start_time": "2022-03-31T11:45:21.145Z"
   },
   {
    "duration": 431,
    "start_time": "2022-03-31T11:45:21.277Z"
   },
   {
    "duration": 71,
    "start_time": "2022-03-31T11:45:21.710Z"
   },
   {
    "duration": 190,
    "start_time": "2022-03-31T11:45:21.783Z"
   },
   {
    "duration": 121,
    "start_time": "2022-03-31T11:45:21.977Z"
   },
   {
    "duration": 194,
    "start_time": "2022-03-31T11:45:22.101Z"
   },
   {
    "duration": 552,
    "start_time": "2022-03-31T11:45:22.298Z"
   },
   {
    "duration": 43,
    "start_time": "2022-03-31T11:45:22.852Z"
   },
   {
    "duration": 551,
    "start_time": "2022-03-31T11:45:22.898Z"
   },
   {
    "duration": 128,
    "start_time": "2022-03-31T11:45:23.452Z"
   },
   {
    "duration": 19,
    "start_time": "2022-03-31T11:45:23.582Z"
   },
   {
    "duration": 133,
    "start_time": "2022-03-31T11:45:23.603Z"
   },
   {
    "duration": 53,
    "start_time": "2022-03-31T11:45:23.738Z"
   },
   {
    "duration": 39,
    "start_time": "2022-03-31T11:45:23.793Z"
   },
   {
    "duration": 79,
    "start_time": "2022-03-31T11:45:23.834Z"
   },
   {
    "duration": 43,
    "start_time": "2022-03-31T11:45:23.916Z"
   },
   {
    "duration": 55,
    "start_time": "2022-03-31T11:45:23.973Z"
   },
   {
    "duration": 66,
    "start_time": "2022-03-31T11:45:24.030Z"
   },
   {
    "duration": 593,
    "start_time": "2022-03-31T11:45:24.098Z"
   },
   {
    "duration": 743,
    "start_time": "2022-03-31T11:45:24.694Z"
   },
   {
    "duration": 647,
    "start_time": "2022-03-31T11:45:25.439Z"
   },
   {
    "duration": 593,
    "start_time": "2022-03-31T11:45:26.088Z"
   },
   {
    "duration": 592,
    "start_time": "2022-03-31T11:45:26.683Z"
   },
   {
    "duration": 589,
    "start_time": "2022-03-31T11:45:27.278Z"
   },
   {
    "duration": 113,
    "start_time": "2022-03-31T11:45:27.869Z"
   },
   {
    "duration": 40,
    "start_time": "2022-03-31T11:45:28.074Z"
   },
   {
    "duration": 70,
    "start_time": "2022-03-31T11:45:28.116Z"
   },
   {
    "duration": 218,
    "start_time": "2022-03-31T11:45:28.189Z"
   },
   {
    "duration": 197,
    "start_time": "2022-03-31T11:45:28.476Z"
   },
   {
    "duration": 197,
    "start_time": "2022-03-31T11:45:28.677Z"
   },
   {
    "duration": 8021,
    "start_time": "2022-03-31T11:45:28.877Z"
   },
   {
    "duration": 665,
    "start_time": "2022-03-31T11:45:36.900Z"
   },
   {
    "duration": 567,
    "start_time": "2022-03-31T11:45:37.567Z"
   },
   {
    "duration": 8,
    "start_time": "2022-03-31T11:45:38.136Z"
   },
   {
    "duration": 7186,
    "start_time": "2022-03-31T11:47:44.068Z"
   },
   {
    "duration": 168,
    "start_time": "2022-03-31T11:51:15.110Z"
   },
   {
    "duration": 2287,
    "start_time": "2022-03-31T11:51:43.144Z"
   },
   {
    "duration": 0,
    "start_time": "2022-03-31T11:51:45.438Z"
   },
   {
    "duration": 0,
    "start_time": "2022-03-31T11:51:45.440Z"
   },
   {
    "duration": 0,
    "start_time": "2022-03-31T11:51:45.442Z"
   },
   {
    "duration": 0,
    "start_time": "2022-03-31T11:51:45.444Z"
   },
   {
    "duration": 0,
    "start_time": "2022-03-31T11:51:45.446Z"
   },
   {
    "duration": 0,
    "start_time": "2022-03-31T11:51:45.473Z"
   },
   {
    "duration": 0,
    "start_time": "2022-03-31T11:51:45.475Z"
   },
   {
    "duration": 0,
    "start_time": "2022-03-31T11:51:45.479Z"
   },
   {
    "duration": 0,
    "start_time": "2022-03-31T11:51:45.480Z"
   },
   {
    "duration": 0,
    "start_time": "2022-03-31T11:51:45.482Z"
   },
   {
    "duration": 0,
    "start_time": "2022-03-31T11:51:45.483Z"
   },
   {
    "duration": 0,
    "start_time": "2022-03-31T11:51:45.485Z"
   },
   {
    "duration": 0,
    "start_time": "2022-03-31T11:51:45.487Z"
   },
   {
    "duration": 0,
    "start_time": "2022-03-31T11:51:45.488Z"
   },
   {
    "duration": 0,
    "start_time": "2022-03-31T11:51:45.491Z"
   },
   {
    "duration": 0,
    "start_time": "2022-03-31T11:51:45.492Z"
   },
   {
    "duration": 0,
    "start_time": "2022-03-31T11:51:45.494Z"
   },
   {
    "duration": 0,
    "start_time": "2022-03-31T11:51:45.495Z"
   },
   {
    "duration": 0,
    "start_time": "2022-03-31T11:51:45.497Z"
   },
   {
    "duration": 0,
    "start_time": "2022-03-31T11:51:45.498Z"
   },
   {
    "duration": 0,
    "start_time": "2022-03-31T11:51:45.500Z"
   },
   {
    "duration": 0,
    "start_time": "2022-03-31T11:51:45.501Z"
   },
   {
    "duration": 0,
    "start_time": "2022-03-31T11:51:45.503Z"
   },
   {
    "duration": 0,
    "start_time": "2022-03-31T11:51:45.505Z"
   },
   {
    "duration": 0,
    "start_time": "2022-03-31T11:51:45.506Z"
   },
   {
    "duration": 0,
    "start_time": "2022-03-31T11:51:45.507Z"
   },
   {
    "duration": 0,
    "start_time": "2022-03-31T11:51:45.509Z"
   },
   {
    "duration": 0,
    "start_time": "2022-03-31T11:51:45.574Z"
   },
   {
    "duration": 0,
    "start_time": "2022-03-31T11:51:45.576Z"
   },
   {
    "duration": 0,
    "start_time": "2022-03-31T11:51:45.577Z"
   },
   {
    "duration": 0,
    "start_time": "2022-03-31T11:51:45.579Z"
   },
   {
    "duration": 0,
    "start_time": "2022-03-31T11:51:45.581Z"
   },
   {
    "duration": 0,
    "start_time": "2022-03-31T11:51:45.582Z"
   },
   {
    "duration": 0,
    "start_time": "2022-03-31T11:51:45.584Z"
   },
   {
    "duration": 0,
    "start_time": "2022-03-31T11:51:45.585Z"
   },
   {
    "duration": 0,
    "start_time": "2022-03-31T11:51:45.587Z"
   },
   {
    "duration": 0,
    "start_time": "2022-03-31T11:51:45.589Z"
   },
   {
    "duration": 0,
    "start_time": "2022-03-31T11:51:45.590Z"
   },
   {
    "duration": 0,
    "start_time": "2022-03-31T11:51:45.591Z"
   },
   {
    "duration": 0,
    "start_time": "2022-03-31T11:51:45.593Z"
   },
   {
    "duration": 0,
    "start_time": "2022-03-31T11:51:45.595Z"
   },
   {
    "duration": 0,
    "start_time": "2022-03-31T11:51:45.596Z"
   },
   {
    "duration": 0,
    "start_time": "2022-03-31T11:51:45.597Z"
   },
   {
    "duration": 0,
    "start_time": "2022-03-31T11:51:45.599Z"
   },
   {
    "duration": 0,
    "start_time": "2022-03-31T11:51:45.601Z"
   },
   {
    "duration": 0,
    "start_time": "2022-03-31T11:51:45.602Z"
   },
   {
    "duration": 0,
    "start_time": "2022-03-31T11:51:45.603Z"
   },
   {
    "duration": 0,
    "start_time": "2022-03-31T11:51:45.605Z"
   },
   {
    "duration": 0,
    "start_time": "2022-03-31T11:51:45.606Z"
   },
   {
    "duration": 0,
    "start_time": "2022-03-31T11:51:45.608Z"
   },
   {
    "duration": 0,
    "start_time": "2022-03-31T11:51:45.609Z"
   },
   {
    "duration": 0,
    "start_time": "2022-03-31T11:51:45.611Z"
   },
   {
    "duration": 0,
    "start_time": "2022-03-31T11:51:45.612Z"
   },
   {
    "duration": 1,
    "start_time": "2022-03-31T11:51:45.674Z"
   },
   {
    "duration": 0,
    "start_time": "2022-03-31T11:51:45.676Z"
   },
   {
    "duration": 0,
    "start_time": "2022-03-31T11:51:45.678Z"
   },
   {
    "duration": 0,
    "start_time": "2022-03-31T11:51:45.679Z"
   },
   {
    "duration": 0,
    "start_time": "2022-03-31T11:51:45.681Z"
   },
   {
    "duration": 0,
    "start_time": "2022-03-31T11:51:45.682Z"
   },
   {
    "duration": 0,
    "start_time": "2022-03-31T11:51:45.684Z"
   },
   {
    "duration": 0,
    "start_time": "2022-03-31T11:51:45.686Z"
   },
   {
    "duration": 0,
    "start_time": "2022-03-31T11:51:45.693Z"
   },
   {
    "duration": 0,
    "start_time": "2022-03-31T11:51:45.694Z"
   },
   {
    "duration": 0,
    "start_time": "2022-03-31T11:51:45.696Z"
   },
   {
    "duration": 0,
    "start_time": "2022-03-31T11:51:45.698Z"
   },
   {
    "duration": 0,
    "start_time": "2022-03-31T11:51:45.699Z"
   },
   {
    "duration": 0,
    "start_time": "2022-03-31T11:51:45.701Z"
   },
   {
    "duration": 0,
    "start_time": "2022-03-31T11:51:45.704Z"
   },
   {
    "duration": 0,
    "start_time": "2022-03-31T11:51:45.706Z"
   },
   {
    "duration": 0,
    "start_time": "2022-03-31T11:51:45.708Z"
   },
   {
    "duration": 0,
    "start_time": "2022-03-31T11:51:45.709Z"
   },
   {
    "duration": 0,
    "start_time": "2022-03-31T11:51:45.711Z"
   },
   {
    "duration": 0,
    "start_time": "2022-03-31T11:51:45.712Z"
   },
   {
    "duration": 0,
    "start_time": "2022-03-31T11:51:45.774Z"
   },
   {
    "duration": 0,
    "start_time": "2022-03-31T11:51:45.775Z"
   },
   {
    "duration": 0,
    "start_time": "2022-03-31T11:51:45.777Z"
   },
   {
    "duration": 0,
    "start_time": "2022-03-31T11:51:45.779Z"
   },
   {
    "duration": 0,
    "start_time": "2022-03-31T11:51:45.780Z"
   },
   {
    "duration": 0,
    "start_time": "2022-03-31T11:51:45.781Z"
   },
   {
    "duration": 0,
    "start_time": "2022-03-31T11:51:45.784Z"
   },
   {
    "duration": 0,
    "start_time": "2022-03-31T11:51:45.785Z"
   },
   {
    "duration": 0,
    "start_time": "2022-03-31T11:51:45.786Z"
   },
   {
    "duration": 0,
    "start_time": "2022-03-31T11:51:45.788Z"
   },
   {
    "duration": 0,
    "start_time": "2022-03-31T11:51:45.789Z"
   },
   {
    "duration": 0,
    "start_time": "2022-03-31T11:51:45.792Z"
   },
   {
    "duration": 0,
    "start_time": "2022-03-31T11:51:45.793Z"
   },
   {
    "duration": 0,
    "start_time": "2022-03-31T11:51:45.794Z"
   },
   {
    "duration": 0,
    "start_time": "2022-03-31T11:51:45.795Z"
   },
   {
    "duration": 0,
    "start_time": "2022-03-31T11:51:45.796Z"
   },
   {
    "duration": 0,
    "start_time": "2022-03-31T11:51:45.797Z"
   },
   {
    "duration": 0,
    "start_time": "2022-03-31T11:51:45.800Z"
   },
   {
    "duration": 0,
    "start_time": "2022-03-31T11:51:45.802Z"
   },
   {
    "duration": 0,
    "start_time": "2022-03-31T11:51:45.803Z"
   },
   {
    "duration": 0,
    "start_time": "2022-03-31T11:51:45.805Z"
   },
   {
    "duration": 0,
    "start_time": "2022-03-31T11:51:45.807Z"
   },
   {
    "duration": 2504,
    "start_time": "2022-03-31T11:56:23.026Z"
   },
   {
    "duration": 60,
    "start_time": "2022-03-31T11:56:25.533Z"
   },
   {
    "duration": 80,
    "start_time": "2022-03-31T11:56:25.596Z"
   },
   {
    "duration": 110,
    "start_time": "2022-03-31T11:56:25.678Z"
   },
   {
    "duration": 19,
    "start_time": "2022-03-31T11:56:25.791Z"
   },
   {
    "duration": 964,
    "start_time": "2022-03-31T11:56:25.812Z"
   },
   {
    "duration": 16,
    "start_time": "2022-03-31T11:56:26.779Z"
   },
   {
    "duration": 11,
    "start_time": "2022-03-31T11:56:26.798Z"
   },
   {
    "duration": 15,
    "start_time": "2022-03-31T11:56:26.811Z"
   },
   {
    "duration": 6,
    "start_time": "2022-03-31T11:56:26.828Z"
   },
   {
    "duration": 8,
    "start_time": "2022-03-31T11:56:26.873Z"
   },
   {
    "duration": 17,
    "start_time": "2022-03-31T11:56:26.884Z"
   },
   {
    "duration": 10,
    "start_time": "2022-03-31T11:56:26.903Z"
   },
   {
    "duration": 13,
    "start_time": "2022-03-31T11:56:26.918Z"
   },
   {
    "duration": 41,
    "start_time": "2022-03-31T11:56:26.933Z"
   },
   {
    "duration": 9,
    "start_time": "2022-03-31T11:56:26.976Z"
   },
   {
    "duration": 7,
    "start_time": "2022-03-31T11:56:26.987Z"
   },
   {
    "duration": 9,
    "start_time": "2022-03-31T11:56:26.996Z"
   },
   {
    "duration": 10,
    "start_time": "2022-03-31T11:56:27.007Z"
   },
   {
    "duration": 9,
    "start_time": "2022-03-31T11:56:27.019Z"
   },
   {
    "duration": 45,
    "start_time": "2022-03-31T11:56:27.030Z"
   },
   {
    "duration": 44,
    "start_time": "2022-03-31T11:56:27.077Z"
   },
   {
    "duration": 6,
    "start_time": "2022-03-31T11:56:27.123Z"
   },
   {
    "duration": 12,
    "start_time": "2022-03-31T11:56:27.132Z"
   },
   {
    "duration": 6,
    "start_time": "2022-03-31T11:56:27.146Z"
   },
   {
    "duration": 20,
    "start_time": "2022-03-31T11:56:27.155Z"
   },
   {
    "duration": 5,
    "start_time": "2022-03-31T11:56:27.177Z"
   },
   {
    "duration": 11,
    "start_time": "2022-03-31T11:56:27.185Z"
   },
   {
    "duration": 46,
    "start_time": "2022-03-31T11:56:27.199Z"
   },
   {
    "duration": 28,
    "start_time": "2022-03-31T11:56:27.247Z"
   },
   {
    "duration": 23,
    "start_time": "2022-03-31T11:56:27.278Z"
   },
   {
    "duration": 12,
    "start_time": "2022-03-31T11:56:27.303Z"
   },
   {
    "duration": 26,
    "start_time": "2022-03-31T11:56:27.317Z"
   },
   {
    "duration": 55,
    "start_time": "2022-03-31T11:56:27.346Z"
   },
   {
    "duration": 10,
    "start_time": "2022-03-31T11:56:27.403Z"
   },
   {
    "duration": 15,
    "start_time": "2022-03-31T11:56:27.415Z"
   },
   {
    "duration": 13,
    "start_time": "2022-03-31T11:56:27.432Z"
   },
   {
    "duration": 52,
    "start_time": "2022-03-31T11:56:27.447Z"
   },
   {
    "duration": 98,
    "start_time": "2022-03-31T11:56:27.502Z"
   },
   {
    "duration": 26,
    "start_time": "2022-03-31T11:56:27.603Z"
   },
   {
    "duration": 51,
    "start_time": "2022-03-31T11:56:27.637Z"
   },
   {
    "duration": 9,
    "start_time": "2022-03-31T11:56:27.690Z"
   },
   {
    "duration": 16,
    "start_time": "2022-03-31T11:56:27.701Z"
   },
   {
    "duration": 247,
    "start_time": "2022-03-31T11:56:27.720Z"
   },
   {
    "duration": 31,
    "start_time": "2022-03-31T11:56:27.973Z"
   },
   {
    "duration": 200,
    "start_time": "2022-03-31T11:56:28.007Z"
   },
   {
    "duration": 34,
    "start_time": "2022-03-31T11:56:28.210Z"
   },
   {
    "duration": 50,
    "start_time": "2022-03-31T11:56:28.246Z"
   },
   {
    "duration": 34,
    "start_time": "2022-03-31T11:56:28.298Z"
   },
   {
    "duration": 59,
    "start_time": "2022-03-31T11:56:28.335Z"
   },
   {
    "duration": 315,
    "start_time": "2022-03-31T11:56:28.397Z"
   },
   {
    "duration": 310,
    "start_time": "2022-03-31T11:56:28.716Z"
   },
   {
    "duration": 12370,
    "start_time": "2022-03-31T11:56:29.028Z"
   },
   {
    "duration": 420,
    "start_time": "2022-03-31T11:56:41.400Z"
   },
   {
    "duration": 590,
    "start_time": "2022-03-31T11:56:41.822Z"
   },
   {
    "duration": 427,
    "start_time": "2022-03-31T11:56:42.414Z"
   },
   {
    "duration": 442,
    "start_time": "2022-03-31T11:56:42.843Z"
   },
   {
    "duration": 452,
    "start_time": "2022-03-31T11:56:43.287Z"
   },
   {
    "duration": 465,
    "start_time": "2022-03-31T11:56:43.741Z"
   },
   {
    "duration": 610,
    "start_time": "2022-03-31T11:56:44.209Z"
   },
   {
    "duration": 615,
    "start_time": "2022-03-31T11:56:44.821Z"
   },
   {
    "duration": 49,
    "start_time": "2022-03-31T11:56:45.438Z"
   },
   {
    "duration": 441,
    "start_time": "2022-03-31T11:56:45.575Z"
   },
   {
    "duration": 57,
    "start_time": "2022-03-31T11:56:46.018Z"
   },
   {
    "duration": 197,
    "start_time": "2022-03-31T11:56:46.079Z"
   },
   {
    "duration": 117,
    "start_time": "2022-03-31T11:56:46.280Z"
   },
   {
    "duration": 198,
    "start_time": "2022-03-31T11:56:46.476Z"
   },
   {
    "duration": 470,
    "start_time": "2022-03-31T11:56:46.677Z"
   },
   {
    "duration": 46,
    "start_time": "2022-03-31T11:56:47.149Z"
   },
   {
    "duration": 556,
    "start_time": "2022-03-31T11:56:47.198Z"
   },
   {
    "duration": 120,
    "start_time": "2022-03-31T11:56:47.756Z"
   },
   {
    "duration": 18,
    "start_time": "2022-03-31T11:56:47.878Z"
   },
   {
    "duration": 127,
    "start_time": "2022-03-31T11:56:47.898Z"
   },
   {
    "duration": 57,
    "start_time": "2022-03-31T11:56:48.028Z"
   },
   {
    "duration": 41,
    "start_time": "2022-03-31T11:56:48.087Z"
   },
   {
    "duration": 71,
    "start_time": "2022-03-31T11:56:48.130Z"
   },
   {
    "duration": 42,
    "start_time": "2022-03-31T11:56:48.203Z"
   },
   {
    "duration": 57,
    "start_time": "2022-03-31T11:56:48.248Z"
   },
   {
    "duration": 42,
    "start_time": "2022-03-31T11:56:48.307Z"
   },
   {
    "duration": 610,
    "start_time": "2022-03-31T11:56:48.351Z"
   },
   {
    "duration": 570,
    "start_time": "2022-03-31T11:56:48.963Z"
   },
   {
    "duration": 595,
    "start_time": "2022-03-31T11:56:49.536Z"
   },
   {
    "duration": 599,
    "start_time": "2022-03-31T11:56:50.134Z"
   },
   {
    "duration": 608,
    "start_time": "2022-03-31T11:56:50.736Z"
   },
   {
    "duration": 599,
    "start_time": "2022-03-31T11:56:51.347Z"
   },
   {
    "duration": 128,
    "start_time": "2022-03-31T11:56:51.948Z"
   },
   {
    "duration": 130,
    "start_time": "2022-03-31T11:56:52.080Z"
   },
   {
    "duration": 165,
    "start_time": "2022-03-31T11:56:52.212Z"
   },
   {
    "duration": 192,
    "start_time": "2022-03-31T11:56:52.381Z"
   },
   {
    "duration": 197,
    "start_time": "2022-03-31T11:56:52.577Z"
   },
   {
    "duration": 197,
    "start_time": "2022-03-31T11:56:52.778Z"
   },
   {
    "duration": 7083,
    "start_time": "2022-03-31T11:56:52.979Z"
   },
   {
    "duration": 3717,
    "start_time": "2022-03-31T11:57:00.064Z"
   },
   {
    "duration": 660,
    "start_time": "2022-03-31T11:57:03.783Z"
   },
   {
    "duration": 558,
    "start_time": "2022-03-31T11:57:04.446Z"
   },
   {
    "duration": 11,
    "start_time": "2022-03-31T11:57:05.007Z"
   },
   {
    "duration": 1213,
    "start_time": "2022-03-31T12:00:04.274Z"
   },
   {
    "duration": 1131,
    "start_time": "2022-03-31T12:00:43.179Z"
   },
   {
    "duration": 666,
    "start_time": "2022-03-31T12:04:56.010Z"
   },
   {
    "duration": 554,
    "start_time": "2022-03-31T12:04:58.889Z"
   },
   {
    "duration": 2054,
    "start_time": "2022-03-31T12:11:15.400Z"
   },
   {
    "duration": 36,
    "start_time": "2022-03-31T12:11:17.457Z"
   },
   {
    "duration": 23,
    "start_time": "2022-03-31T12:11:17.495Z"
   },
   {
    "duration": 81,
    "start_time": "2022-03-31T12:11:17.520Z"
   },
   {
    "duration": 17,
    "start_time": "2022-03-31T12:11:17.604Z"
   },
   {
    "duration": 830,
    "start_time": "2022-03-31T12:11:17.623Z"
   },
   {
    "duration": 30,
    "start_time": "2022-03-31T12:11:18.455Z"
   },
   {
    "duration": 10,
    "start_time": "2022-03-31T12:11:18.487Z"
   },
   {
    "duration": 36,
    "start_time": "2022-03-31T12:11:18.499Z"
   },
   {
    "duration": 18,
    "start_time": "2022-03-31T12:11:18.537Z"
   },
   {
    "duration": 34,
    "start_time": "2022-03-31T12:11:18.557Z"
   },
   {
    "duration": 34,
    "start_time": "2022-03-31T12:11:18.593Z"
   },
   {
    "duration": 22,
    "start_time": "2022-03-31T12:11:18.629Z"
   },
   {
    "duration": 38,
    "start_time": "2022-03-31T12:11:18.656Z"
   },
   {
    "duration": 21,
    "start_time": "2022-03-31T12:11:18.696Z"
   },
   {
    "duration": 30,
    "start_time": "2022-03-31T12:11:18.719Z"
   },
   {
    "duration": 32,
    "start_time": "2022-03-31T12:11:18.752Z"
   },
   {
    "duration": 16,
    "start_time": "2022-03-31T12:11:18.786Z"
   },
   {
    "duration": 29,
    "start_time": "2022-03-31T12:11:18.804Z"
   },
   {
    "duration": 25,
    "start_time": "2022-03-31T12:11:18.835Z"
   },
   {
    "duration": 23,
    "start_time": "2022-03-31T12:11:18.862Z"
   },
   {
    "duration": 36,
    "start_time": "2022-03-31T12:11:18.887Z"
   },
   {
    "duration": 22,
    "start_time": "2022-03-31T12:11:18.926Z"
   },
   {
    "duration": 43,
    "start_time": "2022-03-31T12:11:18.950Z"
   },
   {
    "duration": 39,
    "start_time": "2022-03-31T12:11:18.995Z"
   },
   {
    "duration": 42,
    "start_time": "2022-03-31T12:11:19.036Z"
   },
   {
    "duration": 34,
    "start_time": "2022-03-31T12:11:19.080Z"
   },
   {
    "duration": 14,
    "start_time": "2022-03-31T12:11:19.116Z"
   },
   {
    "duration": 69,
    "start_time": "2022-03-31T12:11:19.133Z"
   },
   {
    "duration": 41,
    "start_time": "2022-03-31T12:11:19.205Z"
   },
   {
    "duration": 28,
    "start_time": "2022-03-31T12:11:19.248Z"
   },
   {
    "duration": 37,
    "start_time": "2022-03-31T12:11:19.278Z"
   },
   {
    "duration": 41,
    "start_time": "2022-03-31T12:11:19.317Z"
   },
   {
    "duration": 68,
    "start_time": "2022-03-31T12:11:19.361Z"
   },
   {
    "duration": 8,
    "start_time": "2022-03-31T12:11:19.433Z"
   },
   {
    "duration": 32,
    "start_time": "2022-03-31T12:11:19.443Z"
   },
   {
    "duration": 23,
    "start_time": "2022-03-31T12:11:19.477Z"
   },
   {
    "duration": 60,
    "start_time": "2022-03-31T12:11:19.502Z"
   },
   {
    "duration": 48,
    "start_time": "2022-03-31T12:11:19.565Z"
   },
   {
    "duration": 26,
    "start_time": "2022-03-31T12:11:19.615Z"
   },
   {
    "duration": 42,
    "start_time": "2022-03-31T12:11:19.648Z"
   },
   {
    "duration": 8,
    "start_time": "2022-03-31T12:11:19.692Z"
   },
   {
    "duration": 43,
    "start_time": "2022-03-31T12:11:19.701Z"
   },
   {
    "duration": 238,
    "start_time": "2022-03-31T12:11:19.747Z"
   },
   {
    "duration": 33,
    "start_time": "2022-03-31T12:11:19.988Z"
   },
   {
    "duration": 262,
    "start_time": "2022-03-31T12:11:20.024Z"
   },
   {
    "duration": 34,
    "start_time": "2022-03-31T12:11:20.289Z"
   },
   {
    "duration": 56,
    "start_time": "2022-03-31T12:11:20.326Z"
   },
   {
    "duration": 34,
    "start_time": "2022-03-31T12:11:20.385Z"
   },
   {
    "duration": 59,
    "start_time": "2022-03-31T12:11:20.422Z"
   },
   {
    "duration": 230,
    "start_time": "2022-03-31T12:11:20.484Z"
   },
   {
    "duration": 307,
    "start_time": "2022-03-31T12:11:20.717Z"
   },
   {
    "duration": 13407,
    "start_time": "2022-03-31T12:11:21.026Z"
   },
   {
    "duration": 418,
    "start_time": "2022-03-31T12:11:34.435Z"
   },
   {
    "duration": 856,
    "start_time": "2022-03-31T12:11:34.855Z"
   },
   {
    "duration": 618,
    "start_time": "2022-03-31T12:11:35.714Z"
   },
   {
    "duration": 628,
    "start_time": "2022-03-31T12:11:36.335Z"
   },
   {
    "duration": 637,
    "start_time": "2022-03-31T12:11:36.966Z"
   },
   {
    "duration": 429,
    "start_time": "2022-03-31T12:11:37.606Z"
   },
   {
    "duration": 593,
    "start_time": "2022-03-31T12:11:38.037Z"
   },
   {
    "duration": 600,
    "start_time": "2022-03-31T12:11:38.633Z"
   },
   {
    "duration": 43,
    "start_time": "2022-03-31T12:11:39.235Z"
   },
   {
    "duration": 542,
    "start_time": "2022-03-31T12:11:39.281Z"
   },
   {
    "duration": 154,
    "start_time": "2022-03-31T12:11:39.826Z"
   },
   {
    "duration": 194,
    "start_time": "2022-03-31T12:11:39.983Z"
   },
   {
    "duration": 196,
    "start_time": "2022-03-31T12:11:40.181Z"
   },
   {
    "duration": 196,
    "start_time": "2022-03-31T12:11:40.381Z"
   },
   {
    "duration": 536,
    "start_time": "2022-03-31T12:11:40.580Z"
   },
   {
    "duration": 68,
    "start_time": "2022-03-31T12:11:41.120Z"
   },
   {
    "duration": 524,
    "start_time": "2022-03-31T12:11:41.276Z"
   },
   {
    "duration": 157,
    "start_time": "2022-03-31T12:11:41.802Z"
   },
   {
    "duration": 26,
    "start_time": "2022-03-31T12:11:41.962Z"
   },
   {
    "duration": 167,
    "start_time": "2022-03-31T12:11:41.990Z"
   },
   {
    "duration": 24,
    "start_time": "2022-03-31T12:11:42.160Z"
   },
   {
    "duration": 76,
    "start_time": "2022-03-31T12:11:42.187Z"
   },
   {
    "duration": 50,
    "start_time": "2022-03-31T12:11:42.266Z"
   },
   {
    "duration": 75,
    "start_time": "2022-03-31T12:11:42.318Z"
   },
   {
    "duration": 41,
    "start_time": "2022-03-31T12:11:42.394Z"
   },
   {
    "duration": 65,
    "start_time": "2022-03-31T12:11:42.437Z"
   },
   {
    "duration": 21,
    "start_time": "2022-03-31T12:11:42.504Z"
   },
   {
    "duration": 70,
    "start_time": "2022-03-31T12:11:42.527Z"
   },
   {
    "duration": 597,
    "start_time": "2022-03-31T12:11:42.600Z"
   },
   {
    "duration": 574,
    "start_time": "2022-03-31T12:11:43.199Z"
   },
   {
    "duration": 623,
    "start_time": "2022-03-31T12:11:43.775Z"
   },
   {
    "duration": 592,
    "start_time": "2022-03-31T12:11:44.400Z"
   },
   {
    "duration": 610,
    "start_time": "2022-03-31T12:11:44.994Z"
   },
   {
    "duration": 603,
    "start_time": "2022-03-31T12:11:45.607Z"
   },
   {
    "duration": 71,
    "start_time": "2022-03-31T12:11:46.212Z"
   },
   {
    "duration": 198,
    "start_time": "2022-03-31T12:11:46.286Z"
   },
   {
    "duration": 92,
    "start_time": "2022-03-31T12:11:46.487Z"
   },
   {
    "duration": 131,
    "start_time": "2022-03-31T12:11:46.584Z"
   },
   {
    "duration": 196,
    "start_time": "2022-03-31T12:11:46.776Z"
   },
   {
    "duration": 197,
    "start_time": "2022-03-31T12:11:46.977Z"
   },
   {
    "duration": 785,
    "start_time": "2022-03-31T12:11:47.178Z"
   },
   {
    "duration": 611,
    "start_time": "2022-03-31T12:11:47.966Z"
   },
   {
    "duration": 9,
    "start_time": "2022-03-31T12:11:48.579Z"
   },
   {
    "duration": 20,
    "start_time": "2022-03-31T12:12:22.021Z"
   },
   {
    "duration": 163,
    "start_time": "2022-03-31T12:40:13.894Z"
   },
   {
    "duration": 85,
    "start_time": "2022-03-31T12:40:44.909Z"
   },
   {
    "duration": 2009,
    "start_time": "2022-03-31T12:41:40.564Z"
   },
   {
    "duration": 32,
    "start_time": "2022-03-31T12:41:42.576Z"
   },
   {
    "duration": 24,
    "start_time": "2022-03-31T12:41:42.610Z"
   },
   {
    "duration": 77,
    "start_time": "2022-03-31T12:41:42.636Z"
   },
   {
    "duration": 17,
    "start_time": "2022-03-31T12:41:42.719Z"
   },
   {
    "duration": 807,
    "start_time": "2022-03-31T12:41:42.739Z"
   },
   {
    "duration": 35,
    "start_time": "2022-03-31T12:41:43.549Z"
   },
   {
    "duration": 12,
    "start_time": "2022-03-31T12:41:43.586Z"
   },
   {
    "duration": 18,
    "start_time": "2022-03-31T12:41:43.600Z"
   },
   {
    "duration": 7,
    "start_time": "2022-03-31T12:41:43.621Z"
   },
   {
    "duration": 10,
    "start_time": "2022-03-31T12:41:43.630Z"
   },
   {
    "duration": 9,
    "start_time": "2022-03-31T12:41:43.674Z"
   },
   {
    "duration": 7,
    "start_time": "2022-03-31T12:41:43.685Z"
   },
   {
    "duration": 8,
    "start_time": "2022-03-31T12:41:43.697Z"
   },
   {
    "duration": 9,
    "start_time": "2022-03-31T12:41:43.707Z"
   },
   {
    "duration": 9,
    "start_time": "2022-03-31T12:41:43.718Z"
   },
   {
    "duration": 48,
    "start_time": "2022-03-31T12:41:43.729Z"
   },
   {
    "duration": 12,
    "start_time": "2022-03-31T12:41:43.780Z"
   },
   {
    "duration": 8,
    "start_time": "2022-03-31T12:41:43.795Z"
   },
   {
    "duration": 8,
    "start_time": "2022-03-31T12:41:43.805Z"
   },
   {
    "duration": 6,
    "start_time": "2022-03-31T12:41:43.815Z"
   },
   {
    "duration": 7,
    "start_time": "2022-03-31T12:41:43.823Z"
   },
   {
    "duration": 6,
    "start_time": "2022-03-31T12:41:43.875Z"
   },
   {
    "duration": 15,
    "start_time": "2022-03-31T12:41:43.883Z"
   },
   {
    "duration": 12,
    "start_time": "2022-03-31T12:41:43.900Z"
   },
   {
    "duration": 10,
    "start_time": "2022-03-31T12:41:43.915Z"
   },
   {
    "duration": 6,
    "start_time": "2022-03-31T12:41:43.927Z"
   },
   {
    "duration": 39,
    "start_time": "2022-03-31T12:41:43.935Z"
   },
   {
    "duration": 32,
    "start_time": "2022-03-31T12:41:43.977Z"
   },
   {
    "duration": 9,
    "start_time": "2022-03-31T12:41:44.011Z"
   },
   {
    "duration": 16,
    "start_time": "2022-03-31T12:41:44.022Z"
   },
   {
    "duration": 38,
    "start_time": "2022-03-31T12:41:44.040Z"
   },
   {
    "duration": 22,
    "start_time": "2022-03-31T12:41:44.080Z"
   },
   {
    "duration": 38,
    "start_time": "2022-03-31T12:41:44.104Z"
   },
   {
    "duration": 33,
    "start_time": "2022-03-31T12:41:44.144Z"
   },
   {
    "duration": 6,
    "start_time": "2022-03-31T12:41:44.179Z"
   },
   {
    "duration": 9,
    "start_time": "2022-03-31T12:41:44.187Z"
   },
   {
    "duration": 24,
    "start_time": "2022-03-31T12:41:44.199Z"
   },
   {
    "duration": 79,
    "start_time": "2022-03-31T12:41:44.225Z"
   },
   {
    "duration": 25,
    "start_time": "2022-03-31T12:41:44.306Z"
   },
   {
    "duration": 51,
    "start_time": "2022-03-31T12:41:44.338Z"
   },
   {
    "duration": 8,
    "start_time": "2022-03-31T12:41:44.392Z"
   },
   {
    "duration": 10,
    "start_time": "2022-03-31T12:41:44.403Z"
   },
   {
    "duration": 245,
    "start_time": "2022-03-31T12:41:44.416Z"
   },
   {
    "duration": 41,
    "start_time": "2022-03-31T12:41:44.663Z"
   },
   {
    "duration": 213,
    "start_time": "2022-03-31T12:41:44.707Z"
   },
   {
    "duration": 32,
    "start_time": "2022-03-31T12:41:44.923Z"
   },
   {
    "duration": 45,
    "start_time": "2022-03-31T12:41:44.957Z"
   },
   {
    "duration": 32,
    "start_time": "2022-03-31T12:41:45.005Z"
   },
   {
    "duration": 57,
    "start_time": "2022-03-31T12:41:45.039Z"
   },
   {
    "duration": 230,
    "start_time": "2022-03-31T12:41:45.098Z"
   },
   {
    "duration": 308,
    "start_time": "2022-03-31T12:41:45.330Z"
   },
   {
    "duration": 12392,
    "start_time": "2022-03-31T12:41:45.642Z"
   },
   {
    "duration": 454,
    "start_time": "2022-03-31T12:41:58.036Z"
   },
   {
    "duration": 585,
    "start_time": "2022-03-31T12:41:58.492Z"
   },
   {
    "duration": 423,
    "start_time": "2022-03-31T12:41:59.079Z"
   },
   {
    "duration": 417,
    "start_time": "2022-03-31T12:41:59.505Z"
   },
   {
    "duration": 422,
    "start_time": "2022-03-31T12:41:59.924Z"
   },
   {
    "duration": 432,
    "start_time": "2022-03-31T12:42:00.349Z"
   },
   {
    "duration": 611,
    "start_time": "2022-03-31T12:42:00.783Z"
   },
   {
    "duration": 615,
    "start_time": "2022-03-31T12:42:01.396Z"
   },
   {
    "duration": 61,
    "start_time": "2022-03-31T12:42:02.013Z"
   },
   {
    "duration": 432,
    "start_time": "2022-03-31T12:42:02.081Z"
   },
   {
    "duration": 59,
    "start_time": "2022-03-31T12:42:02.516Z"
   },
   {
    "duration": 198,
    "start_time": "2022-03-31T12:42:02.579Z"
   },
   {
    "duration": 193,
    "start_time": "2022-03-31T12:42:02.781Z"
   },
   {
    "duration": 196,
    "start_time": "2022-03-31T12:42:02.978Z"
   },
   {
    "duration": 470,
    "start_time": "2022-03-31T12:42:03.178Z"
   },
   {
    "duration": 43,
    "start_time": "2022-03-31T12:42:03.650Z"
   },
   {
    "duration": 551,
    "start_time": "2022-03-31T12:42:03.696Z"
   },
   {
    "duration": 116,
    "start_time": "2022-03-31T12:42:04.249Z"
   },
   {
    "duration": 16,
    "start_time": "2022-03-31T12:42:04.374Z"
   },
   {
    "duration": 128,
    "start_time": "2022-03-31T12:42:04.392Z"
   },
   {
    "duration": 53,
    "start_time": "2022-03-31T12:42:04.522Z"
   },
   {
    "duration": 38,
    "start_time": "2022-03-31T12:42:04.577Z"
   },
   {
    "duration": 61,
    "start_time": "2022-03-31T12:42:04.618Z"
   },
   {
    "duration": 41,
    "start_time": "2022-03-31T12:42:04.681Z"
   },
   {
    "duration": 62,
    "start_time": "2022-03-31T12:42:04.724Z"
   },
   {
    "duration": 40,
    "start_time": "2022-03-31T12:42:04.788Z"
   },
   {
    "duration": 595,
    "start_time": "2022-03-31T12:42:04.830Z"
   },
   {
    "duration": 565,
    "start_time": "2022-03-31T12:42:05.427Z"
   },
   {
    "duration": 587,
    "start_time": "2022-03-31T12:42:05.994Z"
   },
   {
    "duration": 593,
    "start_time": "2022-03-31T12:42:06.583Z"
   },
   {
    "duration": 619,
    "start_time": "2022-03-31T12:42:07.178Z"
   },
   {
    "duration": 582,
    "start_time": "2022-03-31T12:42:07.800Z"
   },
   {
    "duration": 95,
    "start_time": "2022-03-31T12:42:08.384Z"
   },
   {
    "duration": 127,
    "start_time": "2022-03-31T12:42:08.483Z"
   },
   {
    "duration": 165,
    "start_time": "2022-03-31T12:42:08.612Z"
   },
   {
    "duration": 196,
    "start_time": "2022-03-31T12:42:08.780Z"
   },
   {
    "duration": 194,
    "start_time": "2022-03-31T12:42:08.979Z"
   },
   {
    "duration": 198,
    "start_time": "2022-03-31T12:42:09.177Z"
   },
   {
    "duration": 158,
    "start_time": "2022-03-31T12:42:09.379Z"
   },
   {
    "duration": 0,
    "start_time": "2022-03-31T12:42:09.540Z"
   },
   {
    "duration": 0,
    "start_time": "2022-03-31T12:42:09.542Z"
   },
   {
    "duration": 0,
    "start_time": "2022-03-31T12:42:09.543Z"
   },
   {
    "duration": 124,
    "start_time": "2022-03-31T12:44:25.978Z"
   },
   {
    "duration": 559116,
    "start_time": "2022-03-31T12:45:19.747Z"
   },
   {
    "duration": 166,
    "start_time": "2022-03-31T12:59:03.858Z"
   },
   {
    "duration": 15,
    "start_time": "2022-03-31T12:59:08.830Z"
   },
   {
    "duration": 2124,
    "start_time": "2022-03-31T13:15:14.923Z"
   },
   {
    "duration": 31,
    "start_time": "2022-03-31T13:15:17.051Z"
   },
   {
    "duration": 24,
    "start_time": "2022-03-31T13:15:17.084Z"
   },
   {
    "duration": 74,
    "start_time": "2022-03-31T13:15:17.110Z"
   },
   {
    "duration": 17,
    "start_time": "2022-03-31T13:15:17.187Z"
   },
   {
    "duration": 838,
    "start_time": "2022-03-31T13:15:17.206Z"
   },
   {
    "duration": 15,
    "start_time": "2022-03-31T13:15:18.046Z"
   },
   {
    "duration": 10,
    "start_time": "2022-03-31T13:15:18.074Z"
   },
   {
    "duration": 13,
    "start_time": "2022-03-31T13:15:18.086Z"
   },
   {
    "duration": 5,
    "start_time": "2022-03-31T13:15:18.101Z"
   },
   {
    "duration": 11,
    "start_time": "2022-03-31T13:15:18.108Z"
   },
   {
    "duration": 51,
    "start_time": "2022-03-31T13:15:18.122Z"
   },
   {
    "duration": 6,
    "start_time": "2022-03-31T13:15:18.176Z"
   },
   {
    "duration": 8,
    "start_time": "2022-03-31T13:15:18.188Z"
   },
   {
    "duration": 7,
    "start_time": "2022-03-31T13:15:18.199Z"
   },
   {
    "duration": 10,
    "start_time": "2022-03-31T13:15:18.209Z"
   },
   {
    "duration": 54,
    "start_time": "2022-03-31T13:15:18.222Z"
   },
   {
    "duration": 11,
    "start_time": "2022-03-31T13:15:18.278Z"
   },
   {
    "duration": 6,
    "start_time": "2022-03-31T13:15:18.291Z"
   },
   {
    "duration": 11,
    "start_time": "2022-03-31T13:15:18.299Z"
   },
   {
    "duration": 5,
    "start_time": "2022-03-31T13:15:18.313Z"
   },
   {
    "duration": 7,
    "start_time": "2022-03-31T13:15:18.320Z"
   },
   {
    "duration": 55,
    "start_time": "2022-03-31T13:15:18.329Z"
   },
   {
    "duration": 10,
    "start_time": "2022-03-31T13:15:18.387Z"
   },
   {
    "duration": 6,
    "start_time": "2022-03-31T13:15:18.399Z"
   },
   {
    "duration": 8,
    "start_time": "2022-03-31T13:15:18.407Z"
   },
   {
    "duration": 4,
    "start_time": "2022-03-31T13:15:18.417Z"
   },
   {
    "duration": 51,
    "start_time": "2022-03-31T13:15:18.424Z"
   },
   {
    "duration": 32,
    "start_time": "2022-03-31T13:15:18.477Z"
   },
   {
    "duration": 5,
    "start_time": "2022-03-31T13:15:18.511Z"
   },
   {
    "duration": 12,
    "start_time": "2022-03-31T13:15:18.517Z"
   },
   {
    "duration": 44,
    "start_time": "2022-03-31T13:15:18.531Z"
   },
   {
    "duration": 18,
    "start_time": "2022-03-31T13:15:18.577Z"
   },
   {
    "duration": 37,
    "start_time": "2022-03-31T13:15:18.598Z"
   },
   {
    "duration": 41,
    "start_time": "2022-03-31T13:15:18.638Z"
   },
   {
    "duration": 9,
    "start_time": "2022-03-31T13:15:18.681Z"
   },
   {
    "duration": 10,
    "start_time": "2022-03-31T13:15:18.692Z"
   },
   {
    "duration": 76,
    "start_time": "2022-03-31T13:15:18.704Z"
   },
   {
    "duration": 36,
    "start_time": "2022-03-31T13:15:18.782Z"
   },
   {
    "duration": 55,
    "start_time": "2022-03-31T13:15:18.820Z"
   },
   {
    "duration": 27,
    "start_time": "2022-03-31T13:15:18.883Z"
   },
   {
    "duration": 7,
    "start_time": "2022-03-31T13:15:18.913Z"
   },
   {
    "duration": 9,
    "start_time": "2022-03-31T13:15:18.922Z"
   },
   {
    "duration": 235,
    "start_time": "2022-03-31T13:15:18.933Z"
   },
   {
    "duration": 29,
    "start_time": "2022-03-31T13:15:19.170Z"
   },
   {
    "duration": 200,
    "start_time": "2022-03-31T13:15:19.201Z"
   },
   {
    "duration": 33,
    "start_time": "2022-03-31T13:15:19.403Z"
   },
   {
    "duration": 52,
    "start_time": "2022-03-31T13:15:19.438Z"
   },
   {
    "duration": 33,
    "start_time": "2022-03-31T13:15:19.492Z"
   },
   {
    "duration": 55,
    "start_time": "2022-03-31T13:15:19.527Z"
   },
   {
    "duration": 236,
    "start_time": "2022-03-31T13:15:19.585Z"
   },
   {
    "duration": 302,
    "start_time": "2022-03-31T13:15:19.823Z"
   },
   {
    "duration": 12832,
    "start_time": "2022-03-31T13:15:20.127Z"
   },
   {
    "duration": 436,
    "start_time": "2022-03-31T13:15:32.962Z"
   },
   {
    "duration": 589,
    "start_time": "2022-03-31T13:15:33.401Z"
   },
   {
    "duration": 432,
    "start_time": "2022-03-31T13:15:33.993Z"
   },
   {
    "duration": 424,
    "start_time": "2022-03-31T13:15:34.427Z"
   },
   {
    "duration": 423,
    "start_time": "2022-03-31T13:15:34.853Z"
   },
   {
    "duration": 423,
    "start_time": "2022-03-31T13:15:35.278Z"
   },
   {
    "duration": 596,
    "start_time": "2022-03-31T13:15:35.703Z"
   },
   {
    "duration": 601,
    "start_time": "2022-03-31T13:15:36.301Z"
   },
   {
    "duration": 80,
    "start_time": "2022-03-31T13:15:36.904Z"
   },
   {
    "duration": 342,
    "start_time": "2022-03-31T13:15:37.075Z"
   },
   {
    "duration": 56,
    "start_time": "2022-03-31T13:15:37.419Z"
   },
   {
    "duration": 197,
    "start_time": "2022-03-31T13:15:37.479Z"
   },
   {
    "duration": 195,
    "start_time": "2022-03-31T13:15:37.679Z"
   },
   {
    "duration": 125,
    "start_time": "2022-03-31T13:15:37.877Z"
   },
   {
    "duration": 470,
    "start_time": "2022-03-31T13:15:38.076Z"
   },
   {
    "duration": 43,
    "start_time": "2022-03-31T13:15:38.548Z"
   },
   {
    "duration": 471,
    "start_time": "2022-03-31T13:15:38.673Z"
   },
   {
    "duration": 112,
    "start_time": "2022-03-31T13:15:39.146Z"
   },
   {
    "duration": 24,
    "start_time": "2022-03-31T13:15:39.260Z"
   },
   {
    "duration": 125,
    "start_time": "2022-03-31T13:15:39.286Z"
   },
   {
    "duration": 40,
    "start_time": "2022-03-31T13:15:39.413Z"
   },
   {
    "duration": 54,
    "start_time": "2022-03-31T13:15:39.455Z"
   },
   {
    "duration": 64,
    "start_time": "2022-03-31T13:15:39.511Z"
   },
   {
    "duration": 43,
    "start_time": "2022-03-31T13:15:39.578Z"
   },
   {
    "duration": 70,
    "start_time": "2022-03-31T13:15:39.624Z"
   },
   {
    "duration": 42,
    "start_time": "2022-03-31T13:15:39.697Z"
   },
   {
    "duration": 602,
    "start_time": "2022-03-31T13:15:39.741Z"
   },
   {
    "duration": 573,
    "start_time": "2022-03-31T13:15:40.345Z"
   },
   {
    "duration": 592,
    "start_time": "2022-03-31T13:15:40.920Z"
   },
   {
    "duration": 590,
    "start_time": "2022-03-31T13:15:41.514Z"
   },
   {
    "duration": 599,
    "start_time": "2022-03-31T13:15:42.106Z"
   },
   {
    "duration": 602,
    "start_time": "2022-03-31T13:15:42.707Z"
   },
   {
    "duration": 71,
    "start_time": "2022-03-31T13:15:43.312Z"
   },
   {
    "duration": 217,
    "start_time": "2022-03-31T13:15:43.387Z"
   },
   {
    "duration": 77,
    "start_time": "2022-03-31T13:15:43.606Z"
   },
   {
    "duration": 103,
    "start_time": "2022-03-31T13:15:43.773Z"
   },
   {
    "duration": 194,
    "start_time": "2022-03-31T13:15:43.879Z"
   },
   {
    "duration": 197,
    "start_time": "2022-03-31T13:15:44.077Z"
   },
   {
    "duration": 565940,
    "start_time": "2022-03-31T13:15:44.278Z"
   },
   {
    "duration": 229,
    "start_time": "2022-03-31T13:25:10.220Z"
   },
   {
    "duration": 0,
    "start_time": "2022-03-31T13:25:10.451Z"
   },
   {
    "duration": 0,
    "start_time": "2022-03-31T13:25:10.452Z"
   },
   {
    "duration": 0,
    "start_time": "2022-03-31T13:25:10.453Z"
   },
   {
    "duration": 0,
    "start_time": "2022-03-31T13:25:10.455Z"
   },
   {
    "duration": 85345,
    "start_time": "2022-03-31T13:25:23.015Z"
   },
   {
    "duration": 88184,
    "start_time": "2022-03-31T13:27:29.416Z"
   },
   {
    "duration": 86571,
    "start_time": "2022-03-31T13:29:17.006Z"
   },
   {
    "duration": 369111,
    "start_time": "2022-03-31T13:32:28.844Z"
   },
   {
    "duration": 307,
    "start_time": "2022-03-31T13:38:45.220Z"
   },
   {
    "duration": 102,
    "start_time": "2022-03-31T13:39:19.424Z"
   },
   {
    "duration": 97,
    "start_time": "2022-03-31T13:39:47.369Z"
   },
   {
    "duration": 706,
    "start_time": "2022-03-31T13:41:12.756Z"
   },
   {
    "duration": 436,
    "start_time": "2022-03-31T13:42:31.325Z"
   },
   {
    "duration": 439,
    "start_time": "2022-03-31T13:42:40.504Z"
   },
   {
    "duration": 426,
    "start_time": "2022-03-31T13:43:06.810Z"
   },
   {
    "duration": 16,
    "start_time": "2022-03-31T13:43:31.001Z"
   },
   {
    "duration": 438,
    "start_time": "2022-03-31T13:44:06.957Z"
   },
   {
    "duration": 245,
    "start_time": "2022-03-31T13:44:49.293Z"
   },
   {
    "duration": 448,
    "start_time": "2022-03-31T13:44:55.563Z"
   },
   {
    "duration": 615,
    "start_time": "2022-03-31T13:46:26.992Z"
   },
   {
    "duration": 15,
    "start_time": "2022-03-31T13:47:07.790Z"
   },
   {
    "duration": 507,
    "start_time": "2022-03-31T13:47:23.862Z"
   },
   {
    "duration": 419,
    "start_time": "2022-03-31T13:47:45.076Z"
   },
   {
    "duration": 13,
    "start_time": "2022-03-31T13:48:09.775Z"
   },
   {
    "duration": 9,
    "start_time": "2022-03-31T13:48:20.749Z"
   },
   {
    "duration": 1766,
    "start_time": "2022-04-01T09:28:02.199Z"
   },
   {
    "duration": 27,
    "start_time": "2022-04-01T09:28:03.967Z"
   },
   {
    "duration": 16,
    "start_time": "2022-04-01T09:28:03.996Z"
   },
   {
    "duration": 37,
    "start_time": "2022-04-01T09:28:04.014Z"
   },
   {
    "duration": 12,
    "start_time": "2022-04-01T09:28:04.053Z"
   },
   {
    "duration": 578,
    "start_time": "2022-04-01T09:28:04.067Z"
   },
   {
    "duration": 10,
    "start_time": "2022-04-01T09:28:04.646Z"
   },
   {
    "duration": 8,
    "start_time": "2022-04-01T09:28:04.657Z"
   },
   {
    "duration": 11,
    "start_time": "2022-04-01T09:28:04.666Z"
   },
   {
    "duration": 23,
    "start_time": "2022-04-01T09:28:04.679Z"
   },
   {
    "duration": 7,
    "start_time": "2022-04-01T09:28:04.704Z"
   },
   {
    "duration": 7,
    "start_time": "2022-04-01T09:28:04.713Z"
   },
   {
    "duration": 6,
    "start_time": "2022-04-01T09:28:04.721Z"
   },
   {
    "duration": 9,
    "start_time": "2022-04-01T09:28:04.730Z"
   },
   {
    "duration": 6,
    "start_time": "2022-04-01T09:28:04.741Z"
   },
   {
    "duration": 10,
    "start_time": "2022-04-01T09:28:04.748Z"
   },
   {
    "duration": 7,
    "start_time": "2022-04-01T09:28:04.759Z"
   },
   {
    "duration": 33,
    "start_time": "2022-04-01T09:28:04.768Z"
   },
   {
    "duration": 4,
    "start_time": "2022-04-01T09:28:04.803Z"
   },
   {
    "duration": 7,
    "start_time": "2022-04-01T09:28:04.808Z"
   },
   {
    "duration": 8,
    "start_time": "2022-04-01T09:28:04.817Z"
   },
   {
    "duration": 8,
    "start_time": "2022-04-01T09:28:04.827Z"
   },
   {
    "duration": 9,
    "start_time": "2022-04-01T09:28:04.836Z"
   },
   {
    "duration": 11,
    "start_time": "2022-04-01T09:28:04.847Z"
   },
   {
    "duration": 9,
    "start_time": "2022-04-01T09:28:04.860Z"
   },
   {
    "duration": 9,
    "start_time": "2022-04-01T09:28:04.870Z"
   },
   {
    "duration": 4,
    "start_time": "2022-04-01T09:28:04.901Z"
   },
   {
    "duration": 13,
    "start_time": "2022-04-01T09:28:04.906Z"
   },
   {
    "duration": 23,
    "start_time": "2022-04-01T09:28:04.920Z"
   },
   {
    "duration": 3,
    "start_time": "2022-04-01T09:28:04.945Z"
   },
   {
    "duration": 12,
    "start_time": "2022-04-01T09:28:04.949Z"
   },
   {
    "duration": 8,
    "start_time": "2022-04-01T09:28:04.963Z"
   },
   {
    "duration": 29,
    "start_time": "2022-04-01T09:28:04.973Z"
   },
   {
    "duration": 24,
    "start_time": "2022-04-01T09:28:05.004Z"
   },
   {
    "duration": 6,
    "start_time": "2022-04-01T09:28:05.029Z"
   },
   {
    "duration": 7,
    "start_time": "2022-04-01T09:28:05.036Z"
   },
   {
    "duration": 9,
    "start_time": "2022-04-01T09:28:05.045Z"
   },
   {
    "duration": 51,
    "start_time": "2022-04-01T09:28:05.056Z"
   },
   {
    "duration": 24,
    "start_time": "2022-04-01T09:28:05.109Z"
   },
   {
    "duration": 17,
    "start_time": "2022-04-01T09:28:05.135Z"
   },
   {
    "duration": 50,
    "start_time": "2022-04-01T09:28:05.157Z"
   },
   {
    "duration": 6,
    "start_time": "2022-04-01T09:28:05.209Z"
   },
   {
    "duration": 8,
    "start_time": "2022-04-01T09:28:05.217Z"
   },
   {
    "duration": 154,
    "start_time": "2022-04-01T09:28:05.226Z"
   },
   {
    "duration": 29,
    "start_time": "2022-04-01T09:28:05.382Z"
   },
   {
    "duration": 114,
    "start_time": "2022-04-01T09:28:05.413Z"
   },
   {
    "duration": 23,
    "start_time": "2022-04-01T09:28:05.528Z"
   },
   {
    "duration": 21,
    "start_time": "2022-04-01T09:28:05.552Z"
   },
   {
    "duration": 42,
    "start_time": "2022-04-01T09:28:05.575Z"
   },
   {
    "duration": 22,
    "start_time": "2022-04-01T09:28:05.619Z"
   },
   {
    "duration": 136,
    "start_time": "2022-04-01T09:28:05.643Z"
   },
   {
    "duration": 195,
    "start_time": "2022-04-01T09:28:05.780Z"
   },
   {
    "duration": 8520,
    "start_time": "2022-04-01T09:28:05.976Z"
   },
   {
    "duration": 282,
    "start_time": "2022-04-01T09:28:14.498Z"
   },
   {
    "duration": 367,
    "start_time": "2022-04-01T09:28:14.782Z"
   },
   {
    "duration": 300,
    "start_time": "2022-04-01T09:28:15.151Z"
   },
   {
    "duration": 303,
    "start_time": "2022-04-01T09:28:15.453Z"
   },
   {
    "duration": 301,
    "start_time": "2022-04-01T09:28:15.758Z"
   },
   {
    "duration": 296,
    "start_time": "2022-04-01T09:28:16.061Z"
   },
   {
    "duration": 383,
    "start_time": "2022-04-01T09:28:16.358Z"
   },
   {
    "duration": 385,
    "start_time": "2022-04-01T09:28:16.743Z"
   },
   {
    "duration": 18,
    "start_time": "2022-04-01T09:28:17.129Z"
   },
   {
    "duration": 412,
    "start_time": "2022-04-01T09:28:17.149Z"
   },
   {
    "duration": 44,
    "start_time": "2022-04-01T09:28:17.562Z"
   },
   {
    "duration": 195,
    "start_time": "2022-04-01T09:28:17.607Z"
   },
   {
    "duration": 111,
    "start_time": "2022-04-01T09:28:17.804Z"
   },
   {
    "duration": 192,
    "start_time": "2022-04-01T09:28:17.917Z"
   },
   {
    "duration": 473,
    "start_time": "2022-04-01T09:28:18.116Z"
   },
   {
    "duration": 22,
    "start_time": "2022-04-01T09:28:18.601Z"
   },
   {
    "duration": 390,
    "start_time": "2022-04-01T09:28:18.701Z"
   },
   {
    "duration": 67,
    "start_time": "2022-04-01T09:28:19.102Z"
   },
   {
    "duration": 12,
    "start_time": "2022-04-01T09:28:19.171Z"
   },
   {
    "duration": 67,
    "start_time": "2022-04-01T09:28:19.201Z"
   },
   {
    "duration": 43,
    "start_time": "2022-04-01T09:28:19.269Z"
   },
   {
    "duration": 28,
    "start_time": "2022-04-01T09:28:19.314Z"
   },
   {
    "duration": 29,
    "start_time": "2022-04-01T09:28:19.343Z"
   },
   {
    "duration": 55,
    "start_time": "2022-04-01T09:28:19.374Z"
   },
   {
    "duration": 29,
    "start_time": "2022-04-01T09:28:19.431Z"
   },
   {
    "duration": 50,
    "start_time": "2022-04-01T09:28:19.462Z"
   },
   {
    "duration": 380,
    "start_time": "2022-04-01T09:28:19.514Z"
   },
   {
    "duration": 381,
    "start_time": "2022-04-01T09:28:19.901Z"
   },
   {
    "duration": 403,
    "start_time": "2022-04-01T09:28:20.284Z"
   },
   {
    "duration": 393,
    "start_time": "2022-04-01T09:28:20.689Z"
   },
   {
    "duration": 387,
    "start_time": "2022-04-01T09:28:21.084Z"
   },
   {
    "duration": 398,
    "start_time": "2022-04-01T09:28:21.473Z"
   },
   {
    "duration": 38,
    "start_time": "2022-04-01T09:28:21.872Z"
   },
   {
    "duration": 115,
    "start_time": "2022-04-01T09:28:22.002Z"
   },
   {
    "duration": 27,
    "start_time": "2022-04-01T09:28:22.118Z"
   },
   {
    "duration": 115,
    "start_time": "2022-04-01T09:28:22.203Z"
   },
   {
    "duration": 199,
    "start_time": "2022-04-01T09:28:22.321Z"
   },
   {
    "duration": 195,
    "start_time": "2022-04-01T09:28:22.523Z"
   },
   {
    "duration": 225946,
    "start_time": "2022-04-01T09:28:22.720Z"
   },
   {
    "duration": 294,
    "start_time": "2022-04-01T09:32:08.668Z"
   },
   {
    "duration": 284,
    "start_time": "2022-04-01T09:32:08.964Z"
   },
   {
    "duration": 288,
    "start_time": "2022-04-01T09:32:09.250Z"
   },
   {
    "duration": 293,
    "start_time": "2022-04-01T09:32:09.540Z"
   },
   {
    "duration": 408,
    "start_time": "2022-04-01T09:32:09.835Z"
   },
   {
    "duration": 348,
    "start_time": "2022-04-01T09:32:10.245Z"
   },
   {
    "duration": 284,
    "start_time": "2022-04-01T09:32:10.595Z"
   },
   {
    "duration": 6,
    "start_time": "2022-04-01T09:32:10.881Z"
   },
   {
    "duration": 1765,
    "start_time": "2022-04-01T09:42:08.932Z"
   },
   {
    "duration": 30,
    "start_time": "2022-04-01T09:42:10.699Z"
   },
   {
    "duration": 17,
    "start_time": "2022-04-01T09:42:10.731Z"
   },
   {
    "duration": 39,
    "start_time": "2022-04-01T09:42:10.750Z"
   },
   {
    "duration": 20,
    "start_time": "2022-04-01T09:42:10.791Z"
   },
   {
    "duration": 532,
    "start_time": "2022-04-01T09:42:10.813Z"
   },
   {
    "duration": 11,
    "start_time": "2022-04-01T09:42:11.347Z"
   },
   {
    "duration": 7,
    "start_time": "2022-04-01T09:42:11.360Z"
   },
   {
    "duration": 10,
    "start_time": "2022-04-01T09:42:11.369Z"
   },
   {
    "duration": 4,
    "start_time": "2022-04-01T09:42:11.403Z"
   },
   {
    "duration": 5,
    "start_time": "2022-04-01T09:42:11.409Z"
   },
   {
    "duration": 9,
    "start_time": "2022-04-01T09:42:11.416Z"
   },
   {
    "duration": 8,
    "start_time": "2022-04-01T09:42:11.427Z"
   },
   {
    "duration": 7,
    "start_time": "2022-04-01T09:42:11.437Z"
   },
   {
    "duration": 6,
    "start_time": "2022-04-01T09:42:11.445Z"
   },
   {
    "duration": 11,
    "start_time": "2022-04-01T09:42:11.452Z"
   },
   {
    "duration": 9,
    "start_time": "2022-04-01T09:42:11.465Z"
   },
   {
    "duration": 6,
    "start_time": "2022-04-01T09:42:11.501Z"
   },
   {
    "duration": 6,
    "start_time": "2022-04-01T09:42:11.509Z"
   },
   {
    "duration": 8,
    "start_time": "2022-04-01T09:42:11.517Z"
   },
   {
    "duration": 12,
    "start_time": "2022-04-01T09:42:11.527Z"
   },
   {
    "duration": 8,
    "start_time": "2022-04-01T09:42:11.541Z"
   },
   {
    "duration": 8,
    "start_time": "2022-04-01T09:42:11.551Z"
   },
   {
    "duration": 9,
    "start_time": "2022-04-01T09:42:11.562Z"
   },
   {
    "duration": 28,
    "start_time": "2022-04-01T09:42:11.573Z"
   },
   {
    "duration": 6,
    "start_time": "2022-04-01T09:42:11.603Z"
   },
   {
    "duration": 6,
    "start_time": "2022-04-01T09:42:11.611Z"
   },
   {
    "duration": 4,
    "start_time": "2022-04-01T09:42:11.623Z"
   },
   {
    "duration": 22,
    "start_time": "2022-04-01T09:42:11.629Z"
   },
   {
    "duration": 5,
    "start_time": "2022-04-01T09:42:11.654Z"
   },
   {
    "duration": 13,
    "start_time": "2022-04-01T09:42:11.661Z"
   },
   {
    "duration": 34,
    "start_time": "2022-04-01T09:42:11.675Z"
   },
   {
    "duration": 12,
    "start_time": "2022-04-01T09:42:11.710Z"
   },
   {
    "duration": 24,
    "start_time": "2022-04-01T09:42:11.724Z"
   },
   {
    "duration": 6,
    "start_time": "2022-04-01T09:42:11.750Z"
   },
   {
    "duration": 12,
    "start_time": "2022-04-01T09:42:11.757Z"
   },
   {
    "duration": 30,
    "start_time": "2022-04-01T09:42:11.771Z"
   },
   {
    "duration": 23,
    "start_time": "2022-04-01T09:42:11.803Z"
   },
   {
    "duration": 25,
    "start_time": "2022-04-01T09:42:11.827Z"
   },
   {
    "duration": 50,
    "start_time": "2022-04-01T09:42:11.853Z"
   },
   {
    "duration": 19,
    "start_time": "2022-04-01T09:42:11.904Z"
   },
   {
    "duration": 6,
    "start_time": "2022-04-01T09:42:11.925Z"
   },
   {
    "duration": 6,
    "start_time": "2022-04-01T09:42:11.933Z"
   },
   {
    "duration": 174,
    "start_time": "2022-04-01T09:42:11.941Z"
   },
   {
    "duration": 22,
    "start_time": "2022-04-01T09:42:12.117Z"
   },
   {
    "duration": 128,
    "start_time": "2022-04-01T09:42:12.141Z"
   },
   {
    "duration": 38,
    "start_time": "2022-04-01T09:42:12.271Z"
   },
   {
    "duration": 24,
    "start_time": "2022-04-01T09:42:12.311Z"
   },
   {
    "duration": 23,
    "start_time": "2022-04-01T09:42:12.336Z"
   },
   {
    "duration": 49,
    "start_time": "2022-04-01T09:42:12.360Z"
   },
   {
    "duration": 136,
    "start_time": "2022-04-01T09:42:12.410Z"
   },
   {
    "duration": 209,
    "start_time": "2022-04-01T09:42:12.548Z"
   },
   {
    "duration": 8467,
    "start_time": "2022-04-01T09:42:12.759Z"
   },
   {
    "duration": 302,
    "start_time": "2022-04-01T09:42:21.227Z"
   },
   {
    "duration": 375,
    "start_time": "2022-04-01T09:42:21.531Z"
   },
   {
    "duration": 287,
    "start_time": "2022-04-01T09:42:21.908Z"
   },
   {
    "duration": 285,
    "start_time": "2022-04-01T09:42:22.201Z"
   },
   {
    "duration": 285,
    "start_time": "2022-04-01T09:42:22.488Z"
   },
   {
    "duration": 314,
    "start_time": "2022-04-01T09:42:22.775Z"
   },
   {
    "duration": 391,
    "start_time": "2022-04-01T09:42:23.091Z"
   },
   {
    "duration": 382,
    "start_time": "2022-04-01T09:42:23.484Z"
   },
   {
    "duration": 19,
    "start_time": "2022-04-01T09:42:23.867Z"
   },
   {
    "duration": 370,
    "start_time": "2022-04-01T09:42:23.901Z"
   },
   {
    "duration": 37,
    "start_time": "2022-04-01T09:42:24.273Z"
   },
   {
    "duration": 197,
    "start_time": "2022-04-01T09:42:24.313Z"
   },
   {
    "duration": 194,
    "start_time": "2022-04-01T09:42:24.512Z"
   },
   {
    "duration": 199,
    "start_time": "2022-04-01T09:42:24.709Z"
   },
   {
    "duration": 479,
    "start_time": "2022-04-01T09:42:24.911Z"
   },
   {
    "duration": 21,
    "start_time": "2022-04-01T09:42:25.401Z"
   },
   {
    "duration": 461,
    "start_time": "2022-04-01T09:42:25.424Z"
   },
   {
    "duration": 79,
    "start_time": "2022-04-01T09:42:25.886Z"
   },
   {
    "duration": 13,
    "start_time": "2022-04-01T09:42:25.967Z"
   },
   {
    "duration": 84,
    "start_time": "2022-04-01T09:42:25.981Z"
   },
   {
    "duration": 44,
    "start_time": "2022-04-01T09:42:26.067Z"
   },
   {
    "duration": 28,
    "start_time": "2022-04-01T09:42:26.112Z"
   },
   {
    "duration": 28,
    "start_time": "2022-04-01T09:42:26.142Z"
   },
   {
    "duration": 49,
    "start_time": "2022-04-01T09:42:26.171Z"
   },
   {
    "duration": 26,
    "start_time": "2022-04-01T09:42:26.222Z"
   },
   {
    "duration": 28,
    "start_time": "2022-04-01T09:42:26.249Z"
   },
   {
    "duration": 364,
    "start_time": "2022-04-01T09:42:26.301Z"
   },
   {
    "duration": 351,
    "start_time": "2022-04-01T09:42:26.667Z"
   },
   {
    "duration": 369,
    "start_time": "2022-04-01T09:42:27.023Z"
   },
   {
    "duration": 374,
    "start_time": "2022-04-01T09:42:27.393Z"
   },
   {
    "duration": 377,
    "start_time": "2022-04-01T09:42:27.768Z"
   },
   {
    "duration": 383,
    "start_time": "2022-04-01T09:42:28.147Z"
   },
   {
    "duration": 76,
    "start_time": "2022-04-01T09:42:28.531Z"
   },
   {
    "duration": 111,
    "start_time": "2022-04-01T09:42:28.610Z"
   },
   {
    "duration": 79,
    "start_time": "2022-04-01T09:42:28.723Z"
   },
   {
    "duration": 196,
    "start_time": "2022-04-01T09:42:28.805Z"
   },
   {
    "duration": 120,
    "start_time": "2022-04-01T09:42:29.003Z"
   },
   {
    "duration": 187,
    "start_time": "2022-04-01T09:42:29.125Z"
   },
   {
    "duration": 224938,
    "start_time": "2022-04-01T09:42:29.314Z"
   },
   {
    "duration": 297,
    "start_time": "2022-04-01T09:46:14.254Z"
   },
   {
    "duration": 306,
    "start_time": "2022-04-01T09:46:14.553Z"
   },
   {
    "duration": 297,
    "start_time": "2022-04-01T09:46:14.862Z"
   },
   {
    "duration": 285,
    "start_time": "2022-04-01T09:46:15.160Z"
   },
   {
    "duration": 387,
    "start_time": "2022-04-01T09:46:15.447Z"
   },
   {
    "duration": 334,
    "start_time": "2022-04-01T09:46:15.835Z"
   },
   {
    "duration": 272,
    "start_time": "2022-04-01T09:46:16.171Z"
   },
   {
    "duration": 7,
    "start_time": "2022-04-01T09:46:16.444Z"
   },
   {
    "duration": 1721,
    "start_time": "2022-04-04T08:47:37.464Z"
   },
   {
    "duration": 29,
    "start_time": "2022-04-04T08:47:39.187Z"
   },
   {
    "duration": 14,
    "start_time": "2022-04-04T08:47:39.218Z"
   },
   {
    "duration": 34,
    "start_time": "2022-04-04T08:47:39.234Z"
   },
   {
    "duration": 19,
    "start_time": "2022-04-04T08:47:39.269Z"
   },
   {
    "duration": 537,
    "start_time": "2022-04-04T08:47:39.289Z"
   },
   {
    "duration": 9,
    "start_time": "2022-04-04T08:47:39.828Z"
   },
   {
    "duration": 7,
    "start_time": "2022-04-04T08:47:39.839Z"
   },
   {
    "duration": 11,
    "start_time": "2022-04-04T08:47:39.848Z"
   },
   {
    "duration": 21,
    "start_time": "2022-04-04T08:47:39.862Z"
   },
   {
    "duration": 12,
    "start_time": "2022-04-04T08:47:39.884Z"
   },
   {
    "duration": 7,
    "start_time": "2022-04-04T08:47:39.897Z"
   },
   {
    "duration": 5,
    "start_time": "2022-04-04T08:47:39.905Z"
   },
   {
    "duration": 6,
    "start_time": "2022-04-04T08:47:39.912Z"
   },
   {
    "duration": 5,
    "start_time": "2022-04-04T08:47:39.920Z"
   },
   {
    "duration": 11,
    "start_time": "2022-04-04T08:47:39.926Z"
   },
   {
    "duration": 7,
    "start_time": "2022-04-04T08:47:39.938Z"
   },
   {
    "duration": 6,
    "start_time": "2022-04-04T08:47:39.946Z"
   },
   {
    "duration": 28,
    "start_time": "2022-04-04T08:47:39.953Z"
   },
   {
    "duration": 5,
    "start_time": "2022-04-04T08:47:39.983Z"
   },
   {
    "duration": 6,
    "start_time": "2022-04-04T08:47:39.989Z"
   },
   {
    "duration": 6,
    "start_time": "2022-04-04T08:47:39.996Z"
   },
   {
    "duration": 7,
    "start_time": "2022-04-04T08:47:40.004Z"
   },
   {
    "duration": 12,
    "start_time": "2022-04-04T08:47:40.013Z"
   },
   {
    "duration": 6,
    "start_time": "2022-04-04T08:47:40.026Z"
   },
   {
    "duration": 8,
    "start_time": "2022-04-04T08:47:40.033Z"
   },
   {
    "duration": 8,
    "start_time": "2022-04-04T08:47:40.042Z"
   },
   {
    "duration": 5,
    "start_time": "2022-04-04T08:47:40.054Z"
   },
   {
    "duration": 38,
    "start_time": "2022-04-04T08:47:40.060Z"
   },
   {
    "duration": 7,
    "start_time": "2022-04-04T08:47:40.099Z"
   },
   {
    "duration": 9,
    "start_time": "2022-04-04T08:47:40.108Z"
   },
   {
    "duration": 9,
    "start_time": "2022-04-04T08:47:40.118Z"
   },
   {
    "duration": 12,
    "start_time": "2022-04-04T08:47:40.129Z"
   },
   {
    "duration": 50,
    "start_time": "2022-04-04T08:47:40.143Z"
   },
   {
    "duration": 6,
    "start_time": "2022-04-04T08:47:40.195Z"
   },
   {
    "duration": 5,
    "start_time": "2022-04-04T08:47:40.202Z"
   },
   {
    "duration": 7,
    "start_time": "2022-04-04T08:47:40.209Z"
   },
   {
    "duration": 20,
    "start_time": "2022-04-04T08:47:40.217Z"
   },
   {
    "duration": 55,
    "start_time": "2022-04-04T08:47:40.238Z"
   },
   {
    "duration": 16,
    "start_time": "2022-04-04T08:47:40.294Z"
   },
   {
    "duration": 14,
    "start_time": "2022-04-04T08:47:40.312Z"
   },
   {
    "duration": 4,
    "start_time": "2022-04-04T08:47:40.328Z"
   },
   {
    "duration": 9,
    "start_time": "2022-04-04T08:47:40.334Z"
   },
   {
    "duration": 164,
    "start_time": "2022-04-04T08:47:40.345Z"
   },
   {
    "duration": 19,
    "start_time": "2022-04-04T08:47:40.510Z"
   },
   {
    "duration": 108,
    "start_time": "2022-04-04T08:47:40.530Z"
   },
   {
    "duration": 21,
    "start_time": "2022-04-04T08:47:40.639Z"
   },
   {
    "duration": 37,
    "start_time": "2022-04-04T08:47:40.662Z"
   },
   {
    "duration": 21,
    "start_time": "2022-04-04T08:47:40.701Z"
   },
   {
    "duration": 21,
    "start_time": "2022-04-04T08:47:40.724Z"
   },
   {
    "duration": 136,
    "start_time": "2022-04-04T08:47:40.746Z"
   },
   {
    "duration": 199,
    "start_time": "2022-04-04T08:47:40.884Z"
   },
   {
    "duration": 7815,
    "start_time": "2022-04-04T08:47:41.084Z"
   },
   {
    "duration": 269,
    "start_time": "2022-04-04T08:47:48.901Z"
   },
   {
    "duration": 350,
    "start_time": "2022-04-04T08:47:49.172Z"
   },
   {
    "duration": 264,
    "start_time": "2022-04-04T08:47:49.524Z"
   },
   {
    "duration": 263,
    "start_time": "2022-04-04T08:47:49.789Z"
   },
   {
    "duration": 264,
    "start_time": "2022-04-04T08:47:50.054Z"
   },
   {
    "duration": 266,
    "start_time": "2022-04-04T08:47:50.320Z"
   },
   {
    "duration": 375,
    "start_time": "2022-04-04T08:47:50.588Z"
   },
   {
    "duration": 368,
    "start_time": "2022-04-04T08:47:50.965Z"
   },
   {
    "duration": 19,
    "start_time": "2022-04-04T08:47:51.334Z"
   },
   {
    "duration": 360,
    "start_time": "2022-04-04T08:47:51.381Z"
   },
   {
    "duration": 41,
    "start_time": "2022-04-04T08:47:51.742Z"
   },
   {
    "duration": 200,
    "start_time": "2022-04-04T08:47:51.785Z"
   },
   {
    "duration": 198,
    "start_time": "2022-04-04T08:47:51.987Z"
   },
   {
    "duration": 116,
    "start_time": "2022-04-04T08:47:52.187Z"
   },
   {
    "duration": 457,
    "start_time": "2022-04-04T08:47:52.305Z"
   },
   {
    "duration": 29,
    "start_time": "2022-04-04T08:47:52.763Z"
   },
   {
    "duration": 463,
    "start_time": "2022-04-04T08:47:52.794Z"
   },
   {
    "duration": 73,
    "start_time": "2022-04-04T08:47:53.259Z"
   },
   {
    "duration": 11,
    "start_time": "2022-04-04T08:47:53.334Z"
   },
   {
    "duration": 86,
    "start_time": "2022-04-04T08:47:53.347Z"
   },
   {
    "duration": 26,
    "start_time": "2022-04-04T08:47:53.434Z"
   },
   {
    "duration": 39,
    "start_time": "2022-04-04T08:47:53.461Z"
   },
   {
    "duration": 28,
    "start_time": "2022-04-04T08:47:53.501Z"
   },
   {
    "duration": 27,
    "start_time": "2022-04-04T08:47:53.531Z"
   },
   {
    "duration": 27,
    "start_time": "2022-04-04T08:47:53.580Z"
   },
   {
    "duration": 28,
    "start_time": "2022-04-04T08:47:53.609Z"
   },
   {
    "duration": 389,
    "start_time": "2022-04-04T08:47:53.638Z"
   },
   {
    "duration": 353,
    "start_time": "2022-04-04T08:47:54.028Z"
   },
   {
    "duration": 370,
    "start_time": "2022-04-04T08:47:54.386Z"
   },
   {
    "duration": 375,
    "start_time": "2022-04-04T08:47:54.758Z"
   },
   {
    "duration": 374,
    "start_time": "2022-04-04T08:47:55.135Z"
   },
   {
    "duration": 363,
    "start_time": "2022-04-04T08:47:55.511Z"
   },
   {
    "duration": 32,
    "start_time": "2022-04-04T08:47:55.875Z"
   },
   {
    "duration": 183,
    "start_time": "2022-04-04T08:47:55.908Z"
   },
   {
    "duration": 27,
    "start_time": "2022-04-04T08:47:56.092Z"
   },
   {
    "duration": 119,
    "start_time": "2022-04-04T08:47:56.182Z"
   },
   {
    "duration": 188,
    "start_time": "2022-04-04T08:47:56.303Z"
   },
   {
    "duration": 198,
    "start_time": "2022-04-04T08:47:56.494Z"
   },
   {
    "duration": 212919,
    "start_time": "2022-04-04T08:47:56.694Z"
   },
   {
    "duration": 267,
    "start_time": "2022-04-04T08:51:29.614Z"
   },
   {
    "duration": 273,
    "start_time": "2022-04-04T08:51:29.883Z"
   },
   {
    "duration": 267,
    "start_time": "2022-04-04T08:51:30.157Z"
   },
   {
    "duration": 272,
    "start_time": "2022-04-04T08:51:30.426Z"
   },
   {
    "duration": 383,
    "start_time": "2022-04-04T08:51:30.700Z"
   },
   {
    "duration": 314,
    "start_time": "2022-04-04T08:51:31.084Z"
   },
   {
    "duration": 254,
    "start_time": "2022-04-04T08:51:31.400Z"
   },
   {
    "duration": 6,
    "start_time": "2022-04-04T08:51:31.655Z"
   },
   {
    "duration": 117,
    "start_time": "2022-04-04T08:51:31.681Z"
   },
   {
    "duration": 151,
    "start_time": "2022-04-04T08:52:05.938Z"
   },
   {
    "duration": 744,
    "start_time": "2022-04-04T08:52:15.327Z"
   },
   {
    "duration": 144,
    "start_time": "2022-04-04T08:52:33.562Z"
   },
   {
    "duration": 151,
    "start_time": "2022-04-04T08:53:52.931Z"
   },
   {
    "duration": 21,
    "start_time": "2022-04-04T08:58:55.654Z"
   },
   {
    "duration": 22,
    "start_time": "2022-04-04T08:59:03.664Z"
   },
   {
    "duration": 8336,
    "start_time": "2022-04-04T08:59:35.732Z"
   },
   {
    "duration": 26,
    "start_time": "2022-04-04T08:59:44.070Z"
   },
   {
    "duration": 7956,
    "start_time": "2022-04-04T09:03:17.949Z"
   },
   {
    "duration": 139,
    "start_time": "2022-04-04T09:29:33.829Z"
   },
   {
    "duration": 214,
    "start_time": "2022-04-04T09:29:42.334Z"
   },
   {
    "duration": 141,
    "start_time": "2022-04-04T09:29:47.446Z"
   },
   {
    "duration": 141,
    "start_time": "2022-04-04T09:29:58.156Z"
   },
   {
    "duration": 142,
    "start_time": "2022-04-04T09:30:12.098Z"
   },
   {
    "duration": 143,
    "start_time": "2022-04-04T09:30:24.215Z"
   },
   {
    "duration": 233,
    "start_time": "2022-04-04T09:30:34.837Z"
   },
   {
    "duration": 242,
    "start_time": "2022-04-04T09:30:40.997Z"
   },
   {
    "duration": 196,
    "start_time": "2022-04-04T09:32:55.900Z"
   },
   {
    "duration": 186,
    "start_time": "2022-04-04T09:33:07.492Z"
   },
   {
    "duration": 193,
    "start_time": "2022-04-04T09:33:13.775Z"
   },
   {
    "duration": 196,
    "start_time": "2022-04-04T09:33:20.821Z"
   },
   {
    "duration": 189,
    "start_time": "2022-04-04T09:33:26.036Z"
   },
   {
    "duration": 197,
    "start_time": "2022-04-04T09:33:32.207Z"
   },
   {
    "duration": 281,
    "start_time": "2022-04-04T09:35:15.634Z"
   },
   {
    "duration": 277,
    "start_time": "2022-04-04T09:35:17.238Z"
   },
   {
    "duration": 267,
    "start_time": "2022-04-04T09:35:18.422Z"
   },
   {
    "duration": 321,
    "start_time": "2022-04-04T09:38:23.077Z"
   },
   {
    "duration": 309,
    "start_time": "2022-04-04T09:41:14.116Z"
   },
   {
    "duration": 308,
    "start_time": "2022-04-04T09:41:42.789Z"
   },
   {
    "duration": 317,
    "start_time": "2022-04-04T09:45:14.223Z"
   },
   {
    "duration": 324,
    "start_time": "2022-04-04T09:45:54.932Z"
   },
   {
    "duration": 320,
    "start_time": "2022-04-04T09:48:30.937Z"
   },
   {
    "duration": 314,
    "start_time": "2022-04-04T09:57:41.824Z"
   },
   {
    "duration": 259,
    "start_time": "2022-04-04T09:59:56.332Z"
   },
   {
    "duration": 316,
    "start_time": "2022-04-04T10:00:23.751Z"
   },
   {
    "duration": 266,
    "start_time": "2022-04-04T10:05:44.766Z"
   },
   {
    "duration": 254,
    "start_time": "2022-04-04T10:05:46.529Z"
   },
   {
    "duration": 265,
    "start_time": "2022-04-04T10:06:02.300Z"
   },
   {
    "duration": 343,
    "start_time": "2022-04-04T10:06:57.203Z"
   },
   {
    "duration": 359,
    "start_time": "2022-04-04T10:07:29.722Z"
   },
   {
    "duration": 361,
    "start_time": "2022-04-04T10:08:16.134Z"
   },
   {
    "duration": 333,
    "start_time": "2022-04-04T10:09:49.884Z"
   },
   {
    "duration": 5,
    "start_time": "2022-04-04T10:12:22.157Z"
   },
   {
    "duration": 66,
    "start_time": "2022-04-04T10:28:35.579Z"
   },
   {
    "duration": 14,
    "start_time": "2022-04-04T10:29:10.452Z"
   },
   {
    "duration": 12,
    "start_time": "2022-04-04T10:29:19.522Z"
   },
   {
    "duration": 1519,
    "start_time": "2022-04-04T10:29:41.392Z"
   },
   {
    "duration": 29,
    "start_time": "2022-04-04T10:29:42.913Z"
   },
   {
    "duration": 15,
    "start_time": "2022-04-04T10:29:42.943Z"
   },
   {
    "duration": 42,
    "start_time": "2022-04-04T10:29:42.959Z"
   },
   {
    "duration": 11,
    "start_time": "2022-04-04T10:29:43.003Z"
   },
   {
    "duration": 512,
    "start_time": "2022-04-04T10:29:43.016Z"
   },
   {
    "duration": 11,
    "start_time": "2022-04-04T10:29:43.530Z"
   },
   {
    "duration": 7,
    "start_time": "2022-04-04T10:29:43.543Z"
   },
   {
    "duration": 34,
    "start_time": "2022-04-04T10:29:43.552Z"
   },
   {
    "duration": 4,
    "start_time": "2022-04-04T10:29:43.588Z"
   },
   {
    "duration": 7,
    "start_time": "2022-04-04T10:29:43.594Z"
   },
   {
    "duration": 7,
    "start_time": "2022-04-04T10:29:43.603Z"
   },
   {
    "duration": 7,
    "start_time": "2022-04-04T10:29:43.611Z"
   },
   {
    "duration": 6,
    "start_time": "2022-04-04T10:29:43.621Z"
   },
   {
    "duration": 4,
    "start_time": "2022-04-04T10:29:43.629Z"
   },
   {
    "duration": 7,
    "start_time": "2022-04-04T10:29:43.635Z"
   },
   {
    "duration": 5,
    "start_time": "2022-04-04T10:29:43.681Z"
   },
   {
    "duration": 10,
    "start_time": "2022-04-04T10:29:43.688Z"
   },
   {
    "duration": 9,
    "start_time": "2022-04-04T10:29:43.699Z"
   },
   {
    "duration": 6,
    "start_time": "2022-04-04T10:29:43.709Z"
   },
   {
    "duration": 5,
    "start_time": "2022-04-04T10:29:43.717Z"
   },
   {
    "duration": 6,
    "start_time": "2022-04-04T10:29:43.724Z"
   },
   {
    "duration": 5,
    "start_time": "2022-04-04T10:29:43.732Z"
   },
   {
    "duration": 7,
    "start_time": "2022-04-04T10:29:43.739Z"
   },
   {
    "duration": 34,
    "start_time": "2022-04-04T10:29:43.748Z"
   },
   {
    "duration": 6,
    "start_time": "2022-04-04T10:29:43.783Z"
   },
   {
    "duration": 7,
    "start_time": "2022-04-04T10:29:43.790Z"
   },
   {
    "duration": 8,
    "start_time": "2022-04-04T10:29:43.799Z"
   },
   {
    "duration": 19,
    "start_time": "2022-04-04T10:29:43.808Z"
   },
   {
    "duration": 14,
    "start_time": "2022-04-04T10:29:43.828Z"
   },
   {
    "duration": 10,
    "start_time": "2022-04-04T10:29:43.844Z"
   },
   {
    "duration": 27,
    "start_time": "2022-04-04T10:29:43.855Z"
   },
   {
    "duration": 12,
    "start_time": "2022-04-04T10:29:43.884Z"
   },
   {
    "duration": 26,
    "start_time": "2022-04-04T10:29:43.897Z"
   },
   {
    "duration": 6,
    "start_time": "2022-04-04T10:29:43.925Z"
   },
   {
    "duration": 5,
    "start_time": "2022-04-04T10:29:43.932Z"
   },
   {
    "duration": 9,
    "start_time": "2022-04-04T10:29:43.938Z"
   },
   {
    "duration": 45,
    "start_time": "2022-04-04T10:29:43.948Z"
   },
   {
    "duration": 21,
    "start_time": "2022-04-04T10:29:43.995Z"
   },
   {
    "duration": 14,
    "start_time": "2022-04-04T10:29:44.018Z"
   },
   {
    "duration": 52,
    "start_time": "2022-04-04T10:29:44.036Z"
   },
   {
    "duration": 5,
    "start_time": "2022-04-04T10:29:44.089Z"
   },
   {
    "duration": 13,
    "start_time": "2022-04-04T10:29:44.096Z"
   },
   {
    "duration": 145,
    "start_time": "2022-04-04T10:29:44.110Z"
   },
   {
    "duration": 152,
    "start_time": "2022-04-04T10:29:44.256Z"
   },
   {
    "duration": 20,
    "start_time": "2022-04-04T10:29:44.409Z"
   },
   {
    "duration": 162,
    "start_time": "2022-04-04T10:29:44.430Z"
   },
   {
    "duration": 24,
    "start_time": "2022-04-04T10:29:44.594Z"
   },
   {
    "duration": 20,
    "start_time": "2022-04-04T10:29:44.620Z"
   },
   {
    "duration": 42,
    "start_time": "2022-04-04T10:29:44.641Z"
   },
   {
    "duration": 21,
    "start_time": "2022-04-04T10:29:44.685Z"
   },
   {
    "duration": 133,
    "start_time": "2022-04-04T10:29:44.708Z"
   },
   {
    "duration": 192,
    "start_time": "2022-04-04T10:29:44.843Z"
   },
   {
    "duration": 7959,
    "start_time": "2022-04-04T10:29:45.036Z"
   },
   {
    "duration": 8562,
    "start_time": "2022-04-04T10:29:52.997Z"
   },
   {
    "duration": 158,
    "start_time": "2022-04-04T10:30:01.561Z"
   },
   {
    "duration": 331,
    "start_time": "2022-04-04T10:30:01.721Z"
   },
   {
    "duration": 222,
    "start_time": "2022-04-04T10:30:02.054Z"
   },
   {
    "duration": 213,
    "start_time": "2022-04-04T10:30:02.281Z"
   },
   {
    "duration": 176,
    "start_time": "2022-04-04T10:30:02.496Z"
   },
   {
    "duration": 156,
    "start_time": "2022-04-04T10:30:02.674Z"
   },
   {
    "duration": 253,
    "start_time": "2022-04-04T10:30:02.832Z"
   },
   {
    "duration": 255,
    "start_time": "2022-04-04T10:30:03.087Z"
   },
   {
    "duration": 43,
    "start_time": "2022-04-04T10:30:03.344Z"
   },
   {
    "duration": 357,
    "start_time": "2022-04-04T10:30:03.389Z"
   },
   {
    "duration": 137,
    "start_time": "2022-04-04T10:30:03.748Z"
   },
   {
    "duration": 112,
    "start_time": "2022-04-04T10:30:03.888Z"
   },
   {
    "duration": 279,
    "start_time": "2022-04-04T10:30:04.002Z"
   },
   {
    "duration": 199,
    "start_time": "2022-04-04T10:30:04.283Z"
   },
   {
    "duration": 444,
    "start_time": "2022-04-04T10:30:04.484Z"
   },
   {
    "duration": 59,
    "start_time": "2022-04-04T10:30:04.930Z"
   },
   {
    "duration": 378,
    "start_time": "2022-04-04T10:30:04.992Z"
   },
   {
    "duration": 67,
    "start_time": "2022-04-04T10:30:05.381Z"
   },
   {
    "duration": 13,
    "start_time": "2022-04-04T10:30:05.449Z"
   },
   {
    "duration": 67,
    "start_time": "2022-04-04T10:30:05.481Z"
   },
   {
    "duration": 44,
    "start_time": "2022-04-04T10:30:05.550Z"
   },
   {
    "duration": 33,
    "start_time": "2022-04-04T10:30:05.596Z"
   },
   {
    "duration": 53,
    "start_time": "2022-04-04T10:30:05.631Z"
   },
   {
    "duration": 29,
    "start_time": "2022-04-04T10:30:05.686Z"
   },
   {
    "duration": 28,
    "start_time": "2022-04-04T10:30:05.717Z"
   },
   {
    "duration": 52,
    "start_time": "2022-04-04T10:30:05.747Z"
   },
   {
    "duration": 204,
    "start_time": "2022-04-04T10:30:05.801Z"
   },
   {
    "duration": 189,
    "start_time": "2022-04-04T10:30:06.007Z"
   },
   {
    "duration": 205,
    "start_time": "2022-04-04T10:30:06.198Z"
   },
   {
    "duration": 196,
    "start_time": "2022-04-04T10:30:06.405Z"
   },
   {
    "duration": 201,
    "start_time": "2022-04-04T10:30:06.602Z"
   },
   {
    "duration": 197,
    "start_time": "2022-04-04T10:30:06.805Z"
   },
   {
    "duration": 93,
    "start_time": "2022-04-04T10:30:07.003Z"
   },
   {
    "duration": 24,
    "start_time": "2022-04-04T10:30:07.181Z"
   },
   {
    "duration": 27,
    "start_time": "2022-04-04T10:30:07.207Z"
   },
   {
    "duration": 121,
    "start_time": "2022-04-04T10:30:07.282Z"
   },
   {
    "duration": 187,
    "start_time": "2022-04-04T10:30:07.406Z"
   },
   {
    "duration": 200,
    "start_time": "2022-04-04T10:30:07.595Z"
   },
   {
    "duration": 220426,
    "start_time": "2022-04-04T10:30:07.797Z"
   },
   {
    "duration": 276,
    "start_time": "2022-04-04T10:33:48.224Z"
   },
   {
    "duration": 267,
    "start_time": "2022-04-04T10:33:48.501Z"
   },
   {
    "duration": 268,
    "start_time": "2022-04-04T10:33:48.771Z"
   },
   {
    "duration": 280,
    "start_time": "2022-04-04T10:33:49.045Z"
   },
   {
    "duration": 365,
    "start_time": "2022-04-04T10:33:49.327Z"
   },
   {
    "duration": 436,
    "start_time": "2022-04-04T10:33:49.693Z"
   },
   {
    "duration": 0,
    "start_time": "2022-04-04T10:33:50.130Z"
   },
   {
    "duration": 0,
    "start_time": "2022-04-04T10:33:50.132Z"
   },
   {
    "duration": 0,
    "start_time": "2022-04-04T10:33:50.133Z"
   },
   {
    "duration": 530,
    "start_time": "2022-04-04T10:34:51.436Z"
   },
   {
    "duration": 541,
    "start_time": "2022-04-04T10:37:29.593Z"
   },
   {
    "duration": 495,
    "start_time": "2022-04-04T10:38:02.290Z"
   },
   {
    "duration": 617,
    "start_time": "2022-04-04T10:38:59.930Z"
   },
   {
    "duration": 1580,
    "start_time": "2022-04-04T10:39:32.656Z"
   },
   {
    "duration": 39,
    "start_time": "2022-04-04T10:39:34.238Z"
   },
   {
    "duration": 14,
    "start_time": "2022-04-04T10:39:34.279Z"
   },
   {
    "duration": 38,
    "start_time": "2022-04-04T10:39:34.295Z"
   },
   {
    "duration": 11,
    "start_time": "2022-04-04T10:39:34.334Z"
   },
   {
    "duration": 529,
    "start_time": "2022-04-04T10:39:34.346Z"
   },
   {
    "duration": 10,
    "start_time": "2022-04-04T10:39:34.880Z"
   },
   {
    "duration": 7,
    "start_time": "2022-04-04T10:39:34.891Z"
   },
   {
    "duration": 8,
    "start_time": "2022-04-04T10:39:34.900Z"
   },
   {
    "duration": 3,
    "start_time": "2022-04-04T10:39:34.910Z"
   },
   {
    "duration": 7,
    "start_time": "2022-04-04T10:39:34.914Z"
   },
   {
    "duration": 6,
    "start_time": "2022-04-04T10:39:34.922Z"
   },
   {
    "duration": 6,
    "start_time": "2022-04-04T10:39:34.929Z"
   },
   {
    "duration": 7,
    "start_time": "2022-04-04T10:39:34.936Z"
   },
   {
    "duration": 37,
    "start_time": "2022-04-04T10:39:34.945Z"
   },
   {
    "duration": 5,
    "start_time": "2022-04-04T10:39:34.983Z"
   },
   {
    "duration": 7,
    "start_time": "2022-04-04T10:39:34.989Z"
   },
   {
    "duration": 6,
    "start_time": "2022-04-04T10:39:34.997Z"
   },
   {
    "duration": 5,
    "start_time": "2022-04-04T10:39:35.005Z"
   },
   {
    "duration": 8,
    "start_time": "2022-04-04T10:39:35.012Z"
   },
   {
    "duration": 7,
    "start_time": "2022-04-04T10:39:35.021Z"
   },
   {
    "duration": 7,
    "start_time": "2022-04-04T10:39:35.029Z"
   },
   {
    "duration": 13,
    "start_time": "2022-04-04T10:39:35.037Z"
   },
   {
    "duration": 33,
    "start_time": "2022-04-04T10:39:35.051Z"
   },
   {
    "duration": 9,
    "start_time": "2022-04-04T10:39:35.086Z"
   },
   {
    "duration": 7,
    "start_time": "2022-04-04T10:39:35.096Z"
   },
   {
    "duration": 9,
    "start_time": "2022-04-04T10:39:35.104Z"
   },
   {
    "duration": 3,
    "start_time": "2022-04-04T10:39:35.117Z"
   },
   {
    "duration": 22,
    "start_time": "2022-04-04T10:39:35.122Z"
   },
   {
    "duration": 6,
    "start_time": "2022-04-04T10:39:35.145Z"
   },
   {
    "duration": 10,
    "start_time": "2022-04-04T10:39:35.152Z"
   },
   {
    "duration": 23,
    "start_time": "2022-04-04T10:39:35.163Z"
   },
   {
    "duration": 10,
    "start_time": "2022-04-04T10:39:35.188Z"
   },
   {
    "duration": 23,
    "start_time": "2022-04-04T10:39:35.200Z"
   },
   {
    "duration": 5,
    "start_time": "2022-04-04T10:39:35.225Z"
   },
   {
    "duration": 4,
    "start_time": "2022-04-04T10:39:35.231Z"
   },
   {
    "duration": 8,
    "start_time": "2022-04-04T10:39:35.236Z"
   },
   {
    "duration": 43,
    "start_time": "2022-04-04T10:39:35.246Z"
   },
   {
    "duration": 22,
    "start_time": "2022-04-04T10:39:35.290Z"
   },
   {
    "duration": 15,
    "start_time": "2022-04-04T10:39:35.313Z"
   },
   {
    "duration": 15,
    "start_time": "2022-04-04T10:39:35.330Z"
   },
   {
    "duration": 37,
    "start_time": "2022-04-04T10:39:35.347Z"
   },
   {
    "duration": 8,
    "start_time": "2022-04-04T10:39:35.386Z"
   },
   {
    "duration": 141,
    "start_time": "2022-04-04T10:39:35.395Z"
   },
   {
    "duration": 160,
    "start_time": "2022-04-04T10:39:35.538Z"
   },
   {
    "duration": 19,
    "start_time": "2022-04-04T10:39:35.699Z"
   },
   {
    "duration": 115,
    "start_time": "2022-04-04T10:39:35.720Z"
   },
   {
    "duration": 21,
    "start_time": "2022-04-04T10:39:35.836Z"
   },
   {
    "duration": 34,
    "start_time": "2022-04-04T10:39:35.859Z"
   },
   {
    "duration": 21,
    "start_time": "2022-04-04T10:39:35.894Z"
   },
   {
    "duration": 20,
    "start_time": "2022-04-04T10:39:35.917Z"
   },
   {
    "duration": 135,
    "start_time": "2022-04-04T10:39:35.938Z"
   },
   {
    "duration": 191,
    "start_time": "2022-04-04T10:39:36.075Z"
   },
   {
    "duration": 7795,
    "start_time": "2022-04-04T10:39:36.267Z"
   },
   {
    "duration": 7862,
    "start_time": "2022-04-04T10:39:44.063Z"
   },
   {
    "duration": 214,
    "start_time": "2022-04-04T10:39:51.927Z"
   },
   {
    "duration": 282,
    "start_time": "2022-04-04T10:39:52.143Z"
   },
   {
    "duration": 150,
    "start_time": "2022-04-04T10:39:52.426Z"
   },
   {
    "duration": 145,
    "start_time": "2022-04-04T10:39:52.581Z"
   },
   {
    "duration": 151,
    "start_time": "2022-04-04T10:39:52.727Z"
   },
   {
    "duration": 150,
    "start_time": "2022-04-04T10:39:52.881Z"
   },
   {
    "duration": 250,
    "start_time": "2022-04-04T10:39:53.032Z"
   },
   {
    "duration": 245,
    "start_time": "2022-04-04T10:39:53.284Z"
   },
   {
    "duration": 55,
    "start_time": "2022-04-04T10:39:53.530Z"
   },
   {
    "duration": 353,
    "start_time": "2022-04-04T10:39:53.588Z"
   },
   {
    "duration": 41,
    "start_time": "2022-04-04T10:39:53.943Z"
   },
   {
    "duration": 196,
    "start_time": "2022-04-04T10:39:53.986Z"
   },
   {
    "duration": 111,
    "start_time": "2022-04-04T10:39:54.186Z"
   },
   {
    "duration": 188,
    "start_time": "2022-04-04T10:39:54.299Z"
   },
   {
    "duration": 476,
    "start_time": "2022-04-04T10:39:54.489Z"
   },
   {
    "duration": 33,
    "start_time": "2022-04-04T10:39:54.967Z"
   },
   {
    "duration": 463,
    "start_time": "2022-04-04T10:39:55.003Z"
   },
   {
    "duration": 70,
    "start_time": "2022-04-04T10:39:55.468Z"
   },
   {
    "duration": 10,
    "start_time": "2022-04-04T10:39:55.540Z"
   },
   {
    "duration": 79,
    "start_time": "2022-04-04T10:39:55.552Z"
   },
   {
    "duration": 25,
    "start_time": "2022-04-04T10:39:55.633Z"
   },
   {
    "duration": 41,
    "start_time": "2022-04-04T10:39:55.659Z"
   },
   {
    "duration": 27,
    "start_time": "2022-04-04T10:39:55.702Z"
   },
   {
    "duration": 27,
    "start_time": "2022-04-04T10:39:55.730Z"
   },
   {
    "duration": 49,
    "start_time": "2022-04-04T10:39:55.758Z"
   },
   {
    "duration": 26,
    "start_time": "2022-04-04T10:39:55.809Z"
   },
   {
    "duration": 215,
    "start_time": "2022-04-04T10:39:55.840Z"
   },
   {
    "duration": 185,
    "start_time": "2022-04-04T10:39:56.056Z"
   },
   {
    "duration": 197,
    "start_time": "2022-04-04T10:39:56.243Z"
   },
   {
    "duration": 195,
    "start_time": "2022-04-04T10:39:56.441Z"
   },
   {
    "duration": 194,
    "start_time": "2022-04-04T10:39:56.638Z"
   },
   {
    "duration": 195,
    "start_time": "2022-04-04T10:39:56.834Z"
   },
   {
    "duration": 71,
    "start_time": "2022-04-04T10:39:57.031Z"
   },
   {
    "duration": 24,
    "start_time": "2022-04-04T10:39:57.182Z"
   },
   {
    "duration": 83,
    "start_time": "2022-04-04T10:39:57.207Z"
   },
   {
    "duration": 205,
    "start_time": "2022-04-04T10:39:57.292Z"
   },
   {
    "duration": 198,
    "start_time": "2022-04-04T10:39:57.501Z"
   },
   {
    "duration": 202,
    "start_time": "2022-04-04T10:39:57.701Z"
   },
   {
    "duration": 216796,
    "start_time": "2022-04-04T10:39:57.905Z"
   },
   {
    "duration": 266,
    "start_time": "2022-04-04T10:43:34.703Z"
   },
   {
    "duration": 264,
    "start_time": "2022-04-04T10:43:34.971Z"
   },
   {
    "duration": 271,
    "start_time": "2022-04-04T10:43:35.237Z"
   },
   {
    "duration": 272,
    "start_time": "2022-04-04T10:43:35.510Z"
   },
   {
    "duration": 364,
    "start_time": "2022-04-04T10:43:35.784Z"
   },
   {
    "duration": 544,
    "start_time": "2022-04-04T10:43:36.150Z"
   },
   {
    "duration": 260,
    "start_time": "2022-04-04T10:43:36.695Z"
   },
   {
    "duration": 6,
    "start_time": "2022-04-04T10:43:36.956Z"
   },
   {
    "duration": 20,
    "start_time": "2022-04-04T10:43:36.964Z"
   },
   {
    "duration": 2212,
    "start_time": "2022-04-11T15:05:24.039Z"
   },
   {
    "duration": 36,
    "start_time": "2022-04-11T15:05:26.254Z"
   },
   {
    "duration": 27,
    "start_time": "2022-04-11T15:05:26.292Z"
   },
   {
    "duration": 80,
    "start_time": "2022-04-11T15:05:26.321Z"
   },
   {
    "duration": 18,
    "start_time": "2022-04-11T15:05:26.406Z"
   },
   {
    "duration": 795,
    "start_time": "2022-04-11T15:05:26.427Z"
   },
   {
    "duration": 17,
    "start_time": "2022-04-11T15:05:27.225Z"
   },
   {
    "duration": 32,
    "start_time": "2022-04-11T15:05:27.245Z"
   },
   {
    "duration": 13,
    "start_time": "2022-04-11T15:05:27.279Z"
   },
   {
    "duration": 5,
    "start_time": "2022-04-11T15:05:27.294Z"
   },
   {
    "duration": 15,
    "start_time": "2022-04-11T15:05:27.301Z"
   },
   {
    "duration": 13,
    "start_time": "2022-04-11T15:05:27.318Z"
   },
   {
    "duration": 42,
    "start_time": "2022-04-11T15:05:27.333Z"
   },
   {
    "duration": 9,
    "start_time": "2022-04-11T15:05:27.379Z"
   },
   {
    "duration": 14,
    "start_time": "2022-04-11T15:05:27.391Z"
   },
   {
    "duration": 13,
    "start_time": "2022-04-11T15:05:27.407Z"
   },
   {
    "duration": 7,
    "start_time": "2022-04-11T15:05:27.423Z"
   },
   {
    "duration": 43,
    "start_time": "2022-04-11T15:05:27.432Z"
   },
   {
    "duration": 7,
    "start_time": "2022-04-11T15:05:27.477Z"
   },
   {
    "duration": 14,
    "start_time": "2022-04-11T15:05:27.487Z"
   },
   {
    "duration": 13,
    "start_time": "2022-04-11T15:05:27.503Z"
   },
   {
    "duration": 18,
    "start_time": "2022-04-11T15:05:27.518Z"
   },
   {
    "duration": 11,
    "start_time": "2022-04-11T15:05:27.538Z"
   },
   {
    "duration": 12,
    "start_time": "2022-04-11T15:05:27.573Z"
   },
   {
    "duration": 11,
    "start_time": "2022-04-11T15:05:27.587Z"
   },
   {
    "duration": 9,
    "start_time": "2022-04-11T15:05:27.599Z"
   },
   {
    "duration": 7,
    "start_time": "2022-04-11T15:05:27.610Z"
   },
   {
    "duration": 11,
    "start_time": "2022-04-11T15:05:27.619Z"
   },
   {
    "duration": 54,
    "start_time": "2022-04-11T15:05:27.632Z"
   },
   {
    "duration": 5,
    "start_time": "2022-04-11T15:05:27.688Z"
   },
   {
    "duration": 12,
    "start_time": "2022-04-11T15:05:27.695Z"
   },
   {
    "duration": 12,
    "start_time": "2022-04-11T15:05:27.709Z"
   },
   {
    "duration": 20,
    "start_time": "2022-04-11T15:05:27.723Z"
   },
   {
    "duration": 64,
    "start_time": "2022-04-11T15:05:27.745Z"
   },
   {
    "duration": 8,
    "start_time": "2022-04-11T15:05:27.811Z"
   },
   {
    "duration": 5,
    "start_time": "2022-04-11T15:05:27.821Z"
   },
   {
    "duration": 10,
    "start_time": "2022-04-11T15:05:27.828Z"
   },
   {
    "duration": 54,
    "start_time": "2022-04-11T15:05:27.840Z"
   },
   {
    "duration": 35,
    "start_time": "2022-04-11T15:05:27.896Z"
   },
   {
    "duration": 26,
    "start_time": "2022-04-11T15:05:27.973Z"
   },
   {
    "duration": 26,
    "start_time": "2022-04-11T15:05:28.006Z"
   },
   {
    "duration": 40,
    "start_time": "2022-04-11T15:05:28.034Z"
   },
   {
    "duration": 8,
    "start_time": "2022-04-11T15:05:28.076Z"
   },
   {
    "duration": 229,
    "start_time": "2022-04-11T15:05:28.086Z"
   },
   {
    "duration": 257,
    "start_time": "2022-04-11T15:05:28.318Z"
   },
   {
    "duration": 31,
    "start_time": "2022-04-11T15:05:28.577Z"
   },
   {
    "duration": 194,
    "start_time": "2022-04-11T15:05:28.611Z"
   },
   {
    "duration": 32,
    "start_time": "2022-04-11T15:05:28.808Z"
   },
   {
    "duration": 52,
    "start_time": "2022-04-11T15:05:28.842Z"
   },
   {
    "duration": 32,
    "start_time": "2022-04-11T15:05:28.896Z"
   },
   {
    "duration": 60,
    "start_time": "2022-04-11T15:05:28.931Z"
   },
   {
    "duration": 228,
    "start_time": "2022-04-11T15:05:28.993Z"
   },
   {
    "duration": 297,
    "start_time": "2022-04-11T15:05:29.224Z"
   },
   {
    "duration": 13719,
    "start_time": "2022-04-11T15:05:29.524Z"
   },
   {
    "duration": 1916,
    "start_time": "2022-04-11T15:05:48.814Z"
   },
   {
    "duration": 31,
    "start_time": "2022-04-11T15:05:50.732Z"
   },
   {
    "duration": 29,
    "start_time": "2022-04-11T15:05:50.765Z"
   },
   {
    "duration": 59,
    "start_time": "2022-04-11T15:05:50.796Z"
   },
   {
    "duration": 18,
    "start_time": "2022-04-11T15:05:50.876Z"
   },
   {
    "duration": 810,
    "start_time": "2022-04-11T15:05:50.896Z"
   },
   {
    "duration": 16,
    "start_time": "2022-04-11T15:05:51.708Z"
   },
   {
    "duration": 9,
    "start_time": "2022-04-11T15:05:51.726Z"
   },
   {
    "duration": 43,
    "start_time": "2022-04-11T15:05:51.737Z"
   },
   {
    "duration": 5,
    "start_time": "2022-04-11T15:05:51.782Z"
   },
   {
    "duration": 18,
    "start_time": "2022-04-11T15:05:51.789Z"
   },
   {
    "duration": 9,
    "start_time": "2022-04-11T15:05:51.809Z"
   },
   {
    "duration": 7,
    "start_time": "2022-04-11T15:05:51.820Z"
   },
   {
    "duration": 8,
    "start_time": "2022-04-11T15:05:51.831Z"
   },
   {
    "duration": 6,
    "start_time": "2022-04-11T15:05:51.873Z"
   },
   {
    "duration": 11,
    "start_time": "2022-04-11T15:05:51.881Z"
   },
   {
    "duration": 9,
    "start_time": "2022-04-11T15:05:51.894Z"
   },
   {
    "duration": 12,
    "start_time": "2022-04-11T15:05:51.905Z"
   },
   {
    "duration": 14,
    "start_time": "2022-04-11T15:05:51.919Z"
   },
   {
    "duration": 43,
    "start_time": "2022-04-11T15:05:51.935Z"
   },
   {
    "duration": 8,
    "start_time": "2022-04-11T15:05:51.980Z"
   },
   {
    "duration": 12,
    "start_time": "2022-04-11T15:05:51.990Z"
   },
   {
    "duration": 8,
    "start_time": "2022-04-11T15:05:52.004Z"
   },
   {
    "duration": 14,
    "start_time": "2022-04-11T15:05:52.014Z"
   },
   {
    "duration": 9,
    "start_time": "2022-04-11T15:05:52.030Z"
   },
   {
    "duration": 8,
    "start_time": "2022-04-11T15:05:52.073Z"
   },
   {
    "duration": 5,
    "start_time": "2022-04-11T15:05:52.084Z"
   },
   {
    "duration": 8,
    "start_time": "2022-04-11T15:05:52.091Z"
   },
   {
    "duration": 30,
    "start_time": "2022-04-11T15:05:52.101Z"
   },
   {
    "duration": 40,
    "start_time": "2022-04-11T15:05:52.134Z"
   },
   {
    "duration": 13,
    "start_time": "2022-04-11T15:05:52.176Z"
   },
   {
    "duration": 11,
    "start_time": "2022-04-11T15:05:52.191Z"
   },
   {
    "duration": 17,
    "start_time": "2022-04-11T15:05:52.204Z"
   },
   {
    "duration": 71,
    "start_time": "2022-04-11T15:05:52.223Z"
   },
   {
    "duration": 8,
    "start_time": "2022-04-11T15:05:52.297Z"
   },
   {
    "duration": 5,
    "start_time": "2022-04-11T15:05:52.307Z"
   },
   {
    "duration": 11,
    "start_time": "2022-04-11T15:05:52.314Z"
   },
   {
    "duration": 57,
    "start_time": "2022-04-11T15:05:52.327Z"
   },
   {
    "duration": 35,
    "start_time": "2022-04-11T15:05:52.386Z"
   },
   {
    "duration": 62,
    "start_time": "2022-04-11T15:05:52.422Z"
   },
   {
    "duration": 25,
    "start_time": "2022-04-11T15:05:52.491Z"
   },
   {
    "duration": 8,
    "start_time": "2022-04-11T15:05:52.518Z"
   },
   {
    "duration": 10,
    "start_time": "2022-04-11T15:05:52.527Z"
   },
   {
    "duration": 245,
    "start_time": "2022-04-11T15:05:52.538Z"
   },
   {
    "duration": 245,
    "start_time": "2022-04-11T15:05:52.785Z"
   },
   {
    "duration": 49,
    "start_time": "2022-04-11T15:05:53.032Z"
   },
   {
    "duration": 205,
    "start_time": "2022-04-11T15:05:53.084Z"
   },
   {
    "duration": 36,
    "start_time": "2022-04-11T15:05:53.292Z"
   },
   {
    "duration": 57,
    "start_time": "2022-04-11T15:05:53.330Z"
   },
   {
    "duration": 32,
    "start_time": "2022-04-11T15:05:53.389Z"
   },
   {
    "duration": 55,
    "start_time": "2022-04-11T15:05:53.424Z"
   },
   {
    "duration": 228,
    "start_time": "2022-04-11T15:05:53.482Z"
   },
   {
    "duration": 319,
    "start_time": "2022-04-11T15:05:53.712Z"
   },
   {
    "duration": 12463,
    "start_time": "2022-04-11T15:05:54.033Z"
   },
   {
    "duration": 12960,
    "start_time": "2022-04-11T15:06:06.499Z"
   },
   {
    "duration": 235,
    "start_time": "2022-04-11T15:06:19.461Z"
   },
   {
    "duration": 530,
    "start_time": "2022-04-11T15:06:19.698Z"
   },
   {
    "duration": 268,
    "start_time": "2022-04-11T15:06:20.230Z"
   },
   {
    "duration": 239,
    "start_time": "2022-04-11T15:06:20.501Z"
   },
   {
    "duration": 274,
    "start_time": "2022-04-11T15:06:20.743Z"
   },
   {
    "duration": 239,
    "start_time": "2022-04-11T15:06:21.019Z"
   },
   {
    "duration": 450,
    "start_time": "2022-04-11T15:06:21.261Z"
   },
   {
    "duration": 415,
    "start_time": "2022-04-11T15:06:21.713Z"
   },
   {
    "duration": 55,
    "start_time": "2022-04-11T15:06:22.130Z"
   },
   {
    "duration": 529,
    "start_time": "2022-04-11T15:06:22.188Z"
   },
   {
    "duration": 158,
    "start_time": "2022-04-11T15:06:22.719Z"
   },
   {
    "duration": 109,
    "start_time": "2022-04-11T15:06:22.880Z"
   },
   {
    "duration": 121,
    "start_time": "2022-04-11T15:06:23.079Z"
   },
   {
    "duration": 188,
    "start_time": "2022-04-11T15:06:23.203Z"
   },
   {
    "duration": 555,
    "start_time": "2022-04-11T15:06:23.395Z"
   },
   {
    "duration": 125,
    "start_time": "2022-04-11T15:06:23.952Z"
   },
   {
    "duration": 564,
    "start_time": "2022-04-11T15:06:24.081Z"
   },
   {
    "duration": 176,
    "start_time": "2022-04-11T15:06:24.648Z"
   },
   {
    "duration": 18,
    "start_time": "2022-04-11T15:06:24.826Z"
   },
   {
    "duration": 135,
    "start_time": "2022-04-11T15:06:24.847Z"
   },
   {
    "duration": 41,
    "start_time": "2022-04-11T15:06:24.985Z"
   },
   {
    "duration": 59,
    "start_time": "2022-04-11T15:06:25.028Z"
   },
   {
    "duration": 42,
    "start_time": "2022-04-11T15:06:25.089Z"
   },
   {
    "duration": 68,
    "start_time": "2022-04-11T15:06:25.134Z"
   },
   {
    "duration": 43,
    "start_time": "2022-04-11T15:06:25.205Z"
   },
   {
    "duration": 63,
    "start_time": "2022-04-11T15:06:25.251Z"
   },
   {
    "duration": 342,
    "start_time": "2022-04-11T15:06:25.316Z"
   },
   {
    "duration": 309,
    "start_time": "2022-04-11T15:06:25.660Z"
   },
   {
    "duration": 320,
    "start_time": "2022-04-11T15:06:25.974Z"
   },
   {
    "duration": 331,
    "start_time": "2022-04-11T15:06:26.296Z"
   },
   {
    "duration": 327,
    "start_time": "2022-04-11T15:06:26.629Z"
   },
   {
    "duration": 327,
    "start_time": "2022-04-11T15:06:26.958Z"
   },
   {
    "duration": 94,
    "start_time": "2022-04-11T15:06:27.288Z"
   },
   {
    "duration": 126,
    "start_time": "2022-04-11T15:06:27.385Z"
   },
   {
    "duration": 169,
    "start_time": "2022-04-11T15:06:27.514Z"
   },
   {
    "duration": 287,
    "start_time": "2022-04-11T15:06:27.687Z"
   },
   {
    "duration": 110,
    "start_time": "2022-04-11T15:06:27.977Z"
   },
   {
    "duration": 216,
    "start_time": "2022-04-11T15:06:28.090Z"
   },
   {
    "duration": 392093,
    "start_time": "2022-04-11T15:06:28.310Z"
   },
   {
    "duration": 624,
    "start_time": "2022-04-11T15:13:00.405Z"
   },
   {
    "duration": 467,
    "start_time": "2022-04-11T15:13:01.032Z"
   },
   {
    "duration": 467,
    "start_time": "2022-04-11T15:13:01.501Z"
   },
   {
    "duration": 666,
    "start_time": "2022-04-11T15:13:01.973Z"
   },
   {
    "duration": 688,
    "start_time": "2022-04-11T15:13:02.642Z"
   },
   {
    "duration": 957,
    "start_time": "2022-04-11T15:13:03.333Z"
   },
   {
    "duration": 435,
    "start_time": "2022-04-11T15:13:04.293Z"
   },
   {
    "duration": 9,
    "start_time": "2022-04-11T15:13:04.730Z"
   },
   {
    "duration": 15,
    "start_time": "2022-04-11T15:13:04.741Z"
   }
  ],
  "kernelspec": {
   "display_name": "Python 3 (ipykernel)",
   "language": "python",
   "name": "python3"
  },
  "language_info": {
   "codemirror_mode": {
    "name": "ipython",
    "version": 3
   },
   "file_extension": ".py",
   "mimetype": "text/x-python",
   "name": "python",
   "nbconvert_exporter": "python",
   "pygments_lexer": "ipython3",
   "version": "3.9.5"
  },
  "toc": {
   "base_numbering": 1,
   "nav_menu": {},
   "number_sections": true,
   "sideBar": true,
   "skip_h1_title": true,
   "title_cell": "Содержание",
   "title_sidebar": "Contents",
   "toc_cell": true,
   "toc_position": {},
   "toc_section_display": true,
   "toc_window_display": false
  }
 },
 "nbformat": 4,
 "nbformat_minor": 2
}
