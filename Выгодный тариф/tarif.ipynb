{
 "cells": [
  {
   "cell_type": "markdown",
   "metadata": {},
   "source": [
    "# Определение перспективного тарифа для телеком-компании"
   ]
  },
  {
   "cell_type": "markdown",
   "metadata": {},
   "source": [
    "**«Мегалайн»** — федеральый оператор сотовой связи. Клиентам предлагают два тарифных плана: «Смарт» и «Ультра». Чтобы скорректировать рекламный бюджет, коммерческий департамент хочет понять, какой тариф приносит больше денег.\n",
    "Необходимо сделать предварительный анализ тарифов на небольшой выборке клиентов. В нашем распоряжении данные 500 пользователей «Мегалайна»: кто они, откуда, каким тарифом пользуются, сколько звонков и сообщений каждый отправил за 2018 год. Проанализируем поведение клиентов и сделем вывод — какой тариф лучше."
   ]
  },
  {
   "cell_type": "markdown",
   "metadata": {},
   "source": [
    " **Описание тарифов**\n",
    " \n",
    " **Тариф «Смарт»**\n",
    "-  Ежемесячная плата: 550 рублей\n",
    "-  Включено 500 минут разговора, 50 сообщений и 15 Гб интернет-трафика\n",
    "-  Стоимость услуг сверх тарифного пакета:\n",
    "-  минута разговора: 3 рубля\n",
    "-  сообщение: 3 рубля\n",
    "-  1 Гб интернет-трафика: 200 рублей\n",
    "\n",
    " **Тариф «Ультра»**\n",
    "-  Ежемесячная плата: 1950 рублей\n",
    "-  Включено 3000 минут разговора, 1000 сообщений и 30 Гб интернет-трафика\n",
    "-  Стоимость услуг сверх тарифного пакета:\n",
    "-  минута разговора: 1 рубль\n",
    "-  сообщение: 1 рубль\n",
    "-  1 Гб интернет-трафика: 150 рублей\n",
    "\n",
    "**Примечание:**\n",
    "\n",
    "«Мегалайн» всегда округляет секунды до минут, а мегабайты — до гигабайт. Каждый звонок округляется отдельно: даже если он длился всего 1 секунду, будет засчитан как 1 минута.\n",
    "\n",
    "Для веб-трафика отдельные сессии не считаются. Вместо этого общая сумма за месяц округляется в бо́льшую сторону. Если абонент использует 1025 мегабайт в этом месяце, с него возьмут плату за 2 гигабайта."
   ]
  },
  {
   "cell_type": "markdown",
   "metadata": {},
   "source": [
    "## Изучение данных из файла"
   ]
  },
  {
   "cell_type": "markdown",
   "metadata": {},
   "source": [
    "Откройем файл с данными и изучим общую информацию.\n",
    "\n",
    "Путь к файлам:\n",
    "\n",
    "-  /datasets/calls.csv \n",
    "-  /datasets/internet.csv \n",
    "-  /datasets/messages.csv \n",
    "-  /datasets/tariffs.csv \n",
    "-  /datasets/users.csv\n",
    "\n",
    "О качестве данных ничего не известно. Поэтому перед проверкой понадобится обзор данных.\n",
    "Проверяем данные на ошибки и оцениваем их влияние на исследование. \n",
    "Затем, на этапе изучения и подготовки данных ищем возможность исправить самые критичные ошибки данных.\n",
    "\n",
    "Таким образом, исследование пройдёт в **пять этапов**:\n",
    "\n",
    "- Изучение даннх\n",
    "- Подготовка данных\n",
    "- Анализ данных\n",
    "- Проверка гипотез\n",
    "- Общий вывод"
   ]
  },
  {
   "cell_type": "markdown",
   "metadata": {},
   "source": [
    "Исследование:"
   ]
  },
  {
   "cell_type": "code",
   "execution_count": 1,
   "metadata": {},
   "outputs": [],
   "source": [
    "import pandas as pd # импорт библиотек\n",
    "import numpy as np\n",
    "import matplotlib.pyplot as plt\n",
    "import seaborn as sns\n",
    "from scipy import stats as st"
   ]
  },
  {
   "cell_type": "code",
   "execution_count": 2,
   "metadata": {},
   "outputs": [],
   "source": [
    "calls = pd.read_csv('/datasets/calls.csv') # чтение файла с данными и сохранение  \n",
    "internet = pd.read_csv('/datasets/internet.csv')    \n",
    "messages = pd.read_csv('/datasets/messages.csv')\n",
    "tariffs = pd.read_csv('/datasets/tariffs.csv')\n",
    "users = pd.read_csv('/datasets/users.csv')         "
   ]
  },
  {
   "cell_type": "markdown",
   "metadata": {},
   "source": [
    "### Таблица calls (информация о звонках)"
   ]
  },
  {
   "cell_type": "markdown",
   "metadata": {},
   "source": [
    "\n",
    "Таблица calls (информация о звонках):\n",
    "    \n",
    "- id — уникальный номер звонка\n",
    "- call_date — дата звонка\n",
    "- duration — длительность звонка в минутах\n",
    "- user_id — идентификатор пользователя, сделавшего звонок\n"
   ]
  },
  {
   "cell_type": "code",
   "execution_count": 3,
   "metadata": {},
   "outputs": [
    {
     "data": {
      "text/html": [
       "<div>\n",
       "<style scoped>\n",
       "    .dataframe tbody tr th:only-of-type {\n",
       "        vertical-align: middle;\n",
       "    }\n",
       "\n",
       "    .dataframe tbody tr th {\n",
       "        vertical-align: top;\n",
       "    }\n",
       "\n",
       "    .dataframe thead th {\n",
       "        text-align: right;\n",
       "    }\n",
       "</style>\n",
       "<table border=\"1\" class=\"dataframe\">\n",
       "  <thead>\n",
       "    <tr style=\"text-align: right;\">\n",
       "      <th></th>\n",
       "      <th>id</th>\n",
       "      <th>call_date</th>\n",
       "      <th>duration</th>\n",
       "      <th>user_id</th>\n",
       "    </tr>\n",
       "  </thead>\n",
       "  <tbody>\n",
       "    <tr>\n",
       "      <th>0</th>\n",
       "      <td>1000_0</td>\n",
       "      <td>2018-07-25</td>\n",
       "      <td>0.00</td>\n",
       "      <td>1000</td>\n",
       "    </tr>\n",
       "    <tr>\n",
       "      <th>1</th>\n",
       "      <td>1000_1</td>\n",
       "      <td>2018-08-17</td>\n",
       "      <td>0.00</td>\n",
       "      <td>1000</td>\n",
       "    </tr>\n",
       "    <tr>\n",
       "      <th>2</th>\n",
       "      <td>1000_2</td>\n",
       "      <td>2018-06-11</td>\n",
       "      <td>2.85</td>\n",
       "      <td>1000</td>\n",
       "    </tr>\n",
       "    <tr>\n",
       "      <th>3</th>\n",
       "      <td>1000_3</td>\n",
       "      <td>2018-09-21</td>\n",
       "      <td>13.80</td>\n",
       "      <td>1000</td>\n",
       "    </tr>\n",
       "    <tr>\n",
       "      <th>4</th>\n",
       "      <td>1000_4</td>\n",
       "      <td>2018-12-15</td>\n",
       "      <td>5.18</td>\n",
       "      <td>1000</td>\n",
       "    </tr>\n",
       "  </tbody>\n",
       "</table>\n",
       "</div>"
      ],
      "text/plain": [
       "       id   call_date  duration  user_id\n",
       "0  1000_0  2018-07-25      0.00     1000\n",
       "1  1000_1  2018-08-17      0.00     1000\n",
       "2  1000_2  2018-06-11      2.85     1000\n",
       "3  1000_3  2018-09-21     13.80     1000\n",
       "4  1000_4  2018-12-15      5.18     1000"
      ]
     },
     "execution_count": 3,
     "metadata": {},
     "output_type": "execute_result"
    }
   ],
   "source": [
    "calls.head()"
   ]
  },
  {
   "cell_type": "code",
   "execution_count": 4,
   "metadata": {},
   "outputs": [
    {
     "data": {
      "text/html": [
       "<div>\n",
       "<style scoped>\n",
       "    .dataframe tbody tr th:only-of-type {\n",
       "        vertical-align: middle;\n",
       "    }\n",
       "\n",
       "    .dataframe tbody tr th {\n",
       "        vertical-align: top;\n",
       "    }\n",
       "\n",
       "    .dataframe thead th {\n",
       "        text-align: right;\n",
       "    }\n",
       "</style>\n",
       "<table border=\"1\" class=\"dataframe\">\n",
       "  <thead>\n",
       "    <tr style=\"text-align: right;\">\n",
       "      <th></th>\n",
       "      <th>duration</th>\n",
       "      <th>user_id</th>\n",
       "    </tr>\n",
       "  </thead>\n",
       "  <tbody>\n",
       "    <tr>\n",
       "      <th>count</th>\n",
       "      <td>202607.000000</td>\n",
       "      <td>202607.000000</td>\n",
       "    </tr>\n",
       "    <tr>\n",
       "      <th>mean</th>\n",
       "      <td>6.755887</td>\n",
       "      <td>1253.940619</td>\n",
       "    </tr>\n",
       "    <tr>\n",
       "      <th>std</th>\n",
       "      <td>5.843365</td>\n",
       "      <td>144.722751</td>\n",
       "    </tr>\n",
       "    <tr>\n",
       "      <th>min</th>\n",
       "      <td>0.000000</td>\n",
       "      <td>1000.000000</td>\n",
       "    </tr>\n",
       "    <tr>\n",
       "      <th>25%</th>\n",
       "      <td>1.300000</td>\n",
       "      <td>1126.000000</td>\n",
       "    </tr>\n",
       "    <tr>\n",
       "      <th>50%</th>\n",
       "      <td>6.000000</td>\n",
       "      <td>1260.000000</td>\n",
       "    </tr>\n",
       "    <tr>\n",
       "      <th>75%</th>\n",
       "      <td>10.700000</td>\n",
       "      <td>1379.000000</td>\n",
       "    </tr>\n",
       "    <tr>\n",
       "      <th>max</th>\n",
       "      <td>38.000000</td>\n",
       "      <td>1499.000000</td>\n",
       "    </tr>\n",
       "  </tbody>\n",
       "</table>\n",
       "</div>"
      ],
      "text/plain": [
       "            duration        user_id\n",
       "count  202607.000000  202607.000000\n",
       "mean        6.755887    1253.940619\n",
       "std         5.843365     144.722751\n",
       "min         0.000000    1000.000000\n",
       "25%         1.300000    1126.000000\n",
       "50%         6.000000    1260.000000\n",
       "75%        10.700000    1379.000000\n",
       "max        38.000000    1499.000000"
      ]
     },
     "execution_count": 4,
     "metadata": {},
     "output_type": "execute_result"
    }
   ],
   "source": [
    "calls.describe()"
   ]
  },
  {
   "cell_type": "code",
   "execution_count": 5,
   "metadata": {},
   "outputs": [
    {
     "name": "stdout",
     "output_type": "stream",
     "text": [
      "<class 'pandas.core.frame.DataFrame'>\n",
      "RangeIndex: 202607 entries, 0 to 202606\n",
      "Data columns (total 4 columns):\n",
      " #   Column     Non-Null Count   Dtype  \n",
      "---  ------     --------------   -----  \n",
      " 0   id         202607 non-null  object \n",
      " 1   call_date  202607 non-null  object \n",
      " 2   duration   202607 non-null  float64\n",
      " 3   user_id    202607 non-null  int64  \n",
      "dtypes: float64(1), int64(1), object(2)\n",
      "memory usage: 6.2+ MB\n"
     ]
    }
   ],
   "source": [
    "calls.info()"
   ]
  },
  {
   "cell_type": "markdown",
   "metadata": {},
   "source": [
    "**Вывод:** \n",
    "\n",
    "- дата не в правильном формате object\n",
    "- длительность звонка в минутах обозначен в минутах и секундах, а по условиям «Мегалайн» всегда округляет секунды до минут, а 0 звонки  считаются за звонок."
   ]
  },
  {
   "cell_type": "code",
   "execution_count": 6,
   "metadata": {},
   "outputs": [],
   "source": [
    "calls['call_date'] = pd.to_datetime(calls['call_date'], format=\"%Y-%m-%d\") # приводим к типу даты дату звонка"
   ]
  },
  {
   "cell_type": "code",
   "execution_count": 7,
   "metadata": {},
   "outputs": [],
   "source": [
    "calls['duration'] = np.ceil(calls['duration']).astype('int') # приводим к целым числам длительность звонка"
   ]
  },
  {
   "cell_type": "code",
   "execution_count": 8,
   "metadata": {},
   "outputs": [],
   "source": [
    "calls['duration'] = calls['duration'].replace(0, 1) # 0 звонки меняем на 1 - минутные."
   ]
  },
  {
   "cell_type": "markdown",
   "metadata": {},
   "source": [
    "Проверяем что получилось:"
   ]
  },
  {
   "cell_type": "code",
   "execution_count": 9,
   "metadata": {},
   "outputs": [
    {
     "data": {
      "text/html": [
       "<div>\n",
       "<style scoped>\n",
       "    .dataframe tbody tr th:only-of-type {\n",
       "        vertical-align: middle;\n",
       "    }\n",
       "\n",
       "    .dataframe tbody tr th {\n",
       "        vertical-align: top;\n",
       "    }\n",
       "\n",
       "    .dataframe thead th {\n",
       "        text-align: right;\n",
       "    }\n",
       "</style>\n",
       "<table border=\"1\" class=\"dataframe\">\n",
       "  <thead>\n",
       "    <tr style=\"text-align: right;\">\n",
       "      <th></th>\n",
       "      <th>id</th>\n",
       "      <th>call_date</th>\n",
       "      <th>duration</th>\n",
       "      <th>user_id</th>\n",
       "    </tr>\n",
       "  </thead>\n",
       "  <tbody>\n",
       "    <tr>\n",
       "      <th>0</th>\n",
       "      <td>1000_0</td>\n",
       "      <td>2018-07-25</td>\n",
       "      <td>1</td>\n",
       "      <td>1000</td>\n",
       "    </tr>\n",
       "    <tr>\n",
       "      <th>1</th>\n",
       "      <td>1000_1</td>\n",
       "      <td>2018-08-17</td>\n",
       "      <td>1</td>\n",
       "      <td>1000</td>\n",
       "    </tr>\n",
       "    <tr>\n",
       "      <th>2</th>\n",
       "      <td>1000_2</td>\n",
       "      <td>2018-06-11</td>\n",
       "      <td>3</td>\n",
       "      <td>1000</td>\n",
       "    </tr>\n",
       "    <tr>\n",
       "      <th>3</th>\n",
       "      <td>1000_3</td>\n",
       "      <td>2018-09-21</td>\n",
       "      <td>14</td>\n",
       "      <td>1000</td>\n",
       "    </tr>\n",
       "    <tr>\n",
       "      <th>4</th>\n",
       "      <td>1000_4</td>\n",
       "      <td>2018-12-15</td>\n",
       "      <td>6</td>\n",
       "      <td>1000</td>\n",
       "    </tr>\n",
       "  </tbody>\n",
       "</table>\n",
       "</div>"
      ],
      "text/plain": [
       "       id  call_date  duration  user_id\n",
       "0  1000_0 2018-07-25         1     1000\n",
       "1  1000_1 2018-08-17         1     1000\n",
       "2  1000_2 2018-06-11         3     1000\n",
       "3  1000_3 2018-09-21        14     1000\n",
       "4  1000_4 2018-12-15         6     1000"
      ]
     },
     "execution_count": 9,
     "metadata": {},
     "output_type": "execute_result"
    }
   ],
   "source": [
    "calls.head()"
   ]
  },
  {
   "cell_type": "code",
   "execution_count": 10,
   "metadata": {},
   "outputs": [
    {
     "name": "stdout",
     "output_type": "stream",
     "text": [
      "<class 'pandas.core.frame.DataFrame'>\n",
      "RangeIndex: 202607 entries, 0 to 202606\n",
      "Data columns (total 4 columns):\n",
      " #   Column     Non-Null Count   Dtype         \n",
      "---  ------     --------------   -----         \n",
      " 0   id         202607 non-null  object        \n",
      " 1   call_date  202607 non-null  datetime64[ns]\n",
      " 2   duration   202607 non-null  int64         \n",
      " 3   user_id    202607 non-null  int64         \n",
      "dtypes: datetime64[ns](1), int64(2), object(1)\n",
      "memory usage: 6.2+ MB\n"
     ]
    }
   ],
   "source": [
    "calls.info()"
   ]
  },
  {
   "cell_type": "markdown",
   "metadata": {},
   "source": [
    "### Таблица internet (информация об интернет-сессиях)"
   ]
  },
  {
   "cell_type": "markdown",
   "metadata": {},
   "source": [
    "Таблица internet (информация об интернет-сессиях):\n",
    "    \n",
    "- id — уникальный номер сессии\n",
    "- mb_used — объём потраченного за сессию интернет-трафика (в мегабайтах)\n",
    "- session_date — дата интернет-сессии\n",
    "- user_id — идентификатор пользователя"
   ]
  },
  {
   "cell_type": "code",
   "execution_count": 11,
   "metadata": {},
   "outputs": [
    {
     "data": {
      "text/html": [
       "<div>\n",
       "<style scoped>\n",
       "    .dataframe tbody tr th:only-of-type {\n",
       "        vertical-align: middle;\n",
       "    }\n",
       "\n",
       "    .dataframe tbody tr th {\n",
       "        vertical-align: top;\n",
       "    }\n",
       "\n",
       "    .dataframe thead th {\n",
       "        text-align: right;\n",
       "    }\n",
       "</style>\n",
       "<table border=\"1\" class=\"dataframe\">\n",
       "  <thead>\n",
       "    <tr style=\"text-align: right;\">\n",
       "      <th></th>\n",
       "      <th>Unnamed: 0</th>\n",
       "      <th>id</th>\n",
       "      <th>mb_used</th>\n",
       "      <th>session_date</th>\n",
       "      <th>user_id</th>\n",
       "    </tr>\n",
       "  </thead>\n",
       "  <tbody>\n",
       "    <tr>\n",
       "      <th>0</th>\n",
       "      <td>0</td>\n",
       "      <td>1000_0</td>\n",
       "      <td>112.95</td>\n",
       "      <td>2018-11-25</td>\n",
       "      <td>1000</td>\n",
       "    </tr>\n",
       "    <tr>\n",
       "      <th>1</th>\n",
       "      <td>1</td>\n",
       "      <td>1000_1</td>\n",
       "      <td>1052.81</td>\n",
       "      <td>2018-09-07</td>\n",
       "      <td>1000</td>\n",
       "    </tr>\n",
       "    <tr>\n",
       "      <th>2</th>\n",
       "      <td>2</td>\n",
       "      <td>1000_2</td>\n",
       "      <td>1197.26</td>\n",
       "      <td>2018-06-25</td>\n",
       "      <td>1000</td>\n",
       "    </tr>\n",
       "    <tr>\n",
       "      <th>3</th>\n",
       "      <td>3</td>\n",
       "      <td>1000_3</td>\n",
       "      <td>550.27</td>\n",
       "      <td>2018-08-22</td>\n",
       "      <td>1000</td>\n",
       "    </tr>\n",
       "    <tr>\n",
       "      <th>4</th>\n",
       "      <td>4</td>\n",
       "      <td>1000_4</td>\n",
       "      <td>302.56</td>\n",
       "      <td>2018-09-24</td>\n",
       "      <td>1000</td>\n",
       "    </tr>\n",
       "  </tbody>\n",
       "</table>\n",
       "</div>"
      ],
      "text/plain": [
       "   Unnamed: 0      id  mb_used session_date  user_id\n",
       "0           0  1000_0   112.95   2018-11-25     1000\n",
       "1           1  1000_1  1052.81   2018-09-07     1000\n",
       "2           2  1000_2  1197.26   2018-06-25     1000\n",
       "3           3  1000_3   550.27   2018-08-22     1000\n",
       "4           4  1000_4   302.56   2018-09-24     1000"
      ]
     },
     "execution_count": 11,
     "metadata": {},
     "output_type": "execute_result"
    }
   ],
   "source": [
    "internet.head()"
   ]
  },
  {
   "cell_type": "code",
   "execution_count": 12,
   "metadata": {},
   "outputs": [
    {
     "data": {
      "text/html": [
       "<div>\n",
       "<style scoped>\n",
       "    .dataframe tbody tr th:only-of-type {\n",
       "        vertical-align: middle;\n",
       "    }\n",
       "\n",
       "    .dataframe tbody tr th {\n",
       "        vertical-align: top;\n",
       "    }\n",
       "\n",
       "    .dataframe thead th {\n",
       "        text-align: right;\n",
       "    }\n",
       "</style>\n",
       "<table border=\"1\" class=\"dataframe\">\n",
       "  <thead>\n",
       "    <tr style=\"text-align: right;\">\n",
       "      <th></th>\n",
       "      <th>Unnamed: 0</th>\n",
       "      <th>mb_used</th>\n",
       "      <th>user_id</th>\n",
       "    </tr>\n",
       "  </thead>\n",
       "  <tbody>\n",
       "    <tr>\n",
       "      <th>count</th>\n",
       "      <td>149396.000000</td>\n",
       "      <td>149396.000000</td>\n",
       "      <td>149396.000000</td>\n",
       "    </tr>\n",
       "    <tr>\n",
       "      <th>mean</th>\n",
       "      <td>74697.500000</td>\n",
       "      <td>370.192426</td>\n",
       "      <td>1252.099842</td>\n",
       "    </tr>\n",
       "    <tr>\n",
       "      <th>std</th>\n",
       "      <td>43127.054745</td>\n",
       "      <td>278.300951</td>\n",
       "      <td>144.050823</td>\n",
       "    </tr>\n",
       "    <tr>\n",
       "      <th>min</th>\n",
       "      <td>0.000000</td>\n",
       "      <td>0.000000</td>\n",
       "      <td>1000.000000</td>\n",
       "    </tr>\n",
       "    <tr>\n",
       "      <th>25%</th>\n",
       "      <td>37348.750000</td>\n",
       "      <td>138.187500</td>\n",
       "      <td>1130.000000</td>\n",
       "    </tr>\n",
       "    <tr>\n",
       "      <th>50%</th>\n",
       "      <td>74697.500000</td>\n",
       "      <td>348.015000</td>\n",
       "      <td>1251.000000</td>\n",
       "    </tr>\n",
       "    <tr>\n",
       "      <th>75%</th>\n",
       "      <td>112046.250000</td>\n",
       "      <td>559.552500</td>\n",
       "      <td>1380.000000</td>\n",
       "    </tr>\n",
       "    <tr>\n",
       "      <th>max</th>\n",
       "      <td>149395.000000</td>\n",
       "      <td>1724.830000</td>\n",
       "      <td>1499.000000</td>\n",
       "    </tr>\n",
       "  </tbody>\n",
       "</table>\n",
       "</div>"
      ],
      "text/plain": [
       "          Unnamed: 0        mb_used        user_id\n",
       "count  149396.000000  149396.000000  149396.000000\n",
       "mean    74697.500000     370.192426    1252.099842\n",
       "std     43127.054745     278.300951     144.050823\n",
       "min         0.000000       0.000000    1000.000000\n",
       "25%     37348.750000     138.187500    1130.000000\n",
       "50%     74697.500000     348.015000    1251.000000\n",
       "75%    112046.250000     559.552500    1380.000000\n",
       "max    149395.000000    1724.830000    1499.000000"
      ]
     },
     "execution_count": 12,
     "metadata": {},
     "output_type": "execute_result"
    }
   ],
   "source": [
    "internet.describe()"
   ]
  },
  {
   "cell_type": "code",
   "execution_count": 13,
   "metadata": {},
   "outputs": [
    {
     "name": "stdout",
     "output_type": "stream",
     "text": [
      "<class 'pandas.core.frame.DataFrame'>\n",
      "RangeIndex: 149396 entries, 0 to 149395\n",
      "Data columns (total 5 columns):\n",
      " #   Column        Non-Null Count   Dtype  \n",
      "---  ------        --------------   -----  \n",
      " 0   Unnamed: 0    149396 non-null  int64  \n",
      " 1   id            149396 non-null  object \n",
      " 2   mb_used       149396 non-null  float64\n",
      " 3   session_date  149396 non-null  object \n",
      " 4   user_id       149396 non-null  int64  \n",
      "dtypes: float64(1), int64(2), object(2)\n",
      "memory usage: 5.7+ MB\n"
     ]
    }
   ],
   "source": [
    "internet.info()"
   ]
  },
  {
   "cell_type": "markdown",
   "metadata": {},
   "source": [
    "**Вывод:**\n",
    "- у уникального номера сессии не правильный формат object\n",
    "- дата не в правильном формате object"
   ]
  },
  {
   "cell_type": "code",
   "execution_count": 14,
   "metadata": {},
   "outputs": [],
   "source": [
    "internet['id'] = internet['id'].astype('int') # изменяем тип данных уникального номера сессии"
   ]
  },
  {
   "cell_type": "code",
   "execution_count": 15,
   "metadata": {},
   "outputs": [],
   "source": [
    "internet['session_date'] = pd.to_datetime(internet['session_date'], format=\"%Y-%m-%d\")  # приводим к типу даты дату интернет-сессии"
   ]
  },
  {
   "cell_type": "markdown",
   "metadata": {},
   "source": [
    "Проверяем что получилось:"
   ]
  },
  {
   "cell_type": "code",
   "execution_count": 16,
   "metadata": {},
   "outputs": [
    {
     "data": {
      "text/html": [
       "<div>\n",
       "<style scoped>\n",
       "    .dataframe tbody tr th:only-of-type {\n",
       "        vertical-align: middle;\n",
       "    }\n",
       "\n",
       "    .dataframe tbody tr th {\n",
       "        vertical-align: top;\n",
       "    }\n",
       "\n",
       "    .dataframe thead th {\n",
       "        text-align: right;\n",
       "    }\n",
       "</style>\n",
       "<table border=\"1\" class=\"dataframe\">\n",
       "  <thead>\n",
       "    <tr style=\"text-align: right;\">\n",
       "      <th></th>\n",
       "      <th>Unnamed: 0</th>\n",
       "      <th>id</th>\n",
       "      <th>mb_used</th>\n",
       "      <th>session_date</th>\n",
       "      <th>user_id</th>\n",
       "    </tr>\n",
       "  </thead>\n",
       "  <tbody>\n",
       "    <tr>\n",
       "      <th>0</th>\n",
       "      <td>0</td>\n",
       "      <td>10000</td>\n",
       "      <td>112.95</td>\n",
       "      <td>2018-11-25</td>\n",
       "      <td>1000</td>\n",
       "    </tr>\n",
       "    <tr>\n",
       "      <th>1</th>\n",
       "      <td>1</td>\n",
       "      <td>10001</td>\n",
       "      <td>1052.81</td>\n",
       "      <td>2018-09-07</td>\n",
       "      <td>1000</td>\n",
       "    </tr>\n",
       "    <tr>\n",
       "      <th>2</th>\n",
       "      <td>2</td>\n",
       "      <td>10002</td>\n",
       "      <td>1197.26</td>\n",
       "      <td>2018-06-25</td>\n",
       "      <td>1000</td>\n",
       "    </tr>\n",
       "    <tr>\n",
       "      <th>3</th>\n",
       "      <td>3</td>\n",
       "      <td>10003</td>\n",
       "      <td>550.27</td>\n",
       "      <td>2018-08-22</td>\n",
       "      <td>1000</td>\n",
       "    </tr>\n",
       "    <tr>\n",
       "      <th>4</th>\n",
       "      <td>4</td>\n",
       "      <td>10004</td>\n",
       "      <td>302.56</td>\n",
       "      <td>2018-09-24</td>\n",
       "      <td>1000</td>\n",
       "    </tr>\n",
       "  </tbody>\n",
       "</table>\n",
       "</div>"
      ],
      "text/plain": [
       "   Unnamed: 0     id  mb_used session_date  user_id\n",
       "0           0  10000   112.95   2018-11-25     1000\n",
       "1           1  10001  1052.81   2018-09-07     1000\n",
       "2           2  10002  1197.26   2018-06-25     1000\n",
       "3           3  10003   550.27   2018-08-22     1000\n",
       "4           4  10004   302.56   2018-09-24     1000"
      ]
     },
     "execution_count": 16,
     "metadata": {},
     "output_type": "execute_result"
    }
   ],
   "source": [
    "internet.head()"
   ]
  },
  {
   "cell_type": "code",
   "execution_count": 17,
   "metadata": {},
   "outputs": [
    {
     "name": "stdout",
     "output_type": "stream",
     "text": [
      "<class 'pandas.core.frame.DataFrame'>\n",
      "RangeIndex: 149396 entries, 0 to 149395\n",
      "Data columns (total 5 columns):\n",
      " #   Column        Non-Null Count   Dtype         \n",
      "---  ------        --------------   -----         \n",
      " 0   Unnamed: 0    149396 non-null  int64         \n",
      " 1   id            149396 non-null  int64         \n",
      " 2   mb_used       149396 non-null  float64       \n",
      " 3   session_date  149396 non-null  datetime64[ns]\n",
      " 4   user_id       149396 non-null  int64         \n",
      "dtypes: datetime64[ns](1), float64(1), int64(3)\n",
      "memory usage: 5.7 MB\n"
     ]
    }
   ],
   "source": [
    "internet.info()"
   ]
  },
  {
   "cell_type": "markdown",
   "metadata": {},
   "source": [
    "### Таблица messages (информация о сообщениях)"
   ]
  },
  {
   "cell_type": "markdown",
   "metadata": {},
   "source": [
    "Таблица messages (информация о сообщениях):\n",
    "    \n",
    "- id — уникальный номер сообщения\n",
    "- message_date — дата сообщения\n",
    "- ser_id — идентификатор пользователя, отправившего сообщение"
   ]
  },
  {
   "cell_type": "code",
   "execution_count": 18,
   "metadata": {},
   "outputs": [
    {
     "data": {
      "text/html": [
       "<div>\n",
       "<style scoped>\n",
       "    .dataframe tbody tr th:only-of-type {\n",
       "        vertical-align: middle;\n",
       "    }\n",
       "\n",
       "    .dataframe tbody tr th {\n",
       "        vertical-align: top;\n",
       "    }\n",
       "\n",
       "    .dataframe thead th {\n",
       "        text-align: right;\n",
       "    }\n",
       "</style>\n",
       "<table border=\"1\" class=\"dataframe\">\n",
       "  <thead>\n",
       "    <tr style=\"text-align: right;\">\n",
       "      <th></th>\n",
       "      <th>id</th>\n",
       "      <th>message_date</th>\n",
       "      <th>user_id</th>\n",
       "    </tr>\n",
       "  </thead>\n",
       "  <tbody>\n",
       "    <tr>\n",
       "      <th>0</th>\n",
       "      <td>1000_0</td>\n",
       "      <td>2018-06-27</td>\n",
       "      <td>1000</td>\n",
       "    </tr>\n",
       "    <tr>\n",
       "      <th>1</th>\n",
       "      <td>1000_1</td>\n",
       "      <td>2018-10-08</td>\n",
       "      <td>1000</td>\n",
       "    </tr>\n",
       "    <tr>\n",
       "      <th>2</th>\n",
       "      <td>1000_2</td>\n",
       "      <td>2018-08-04</td>\n",
       "      <td>1000</td>\n",
       "    </tr>\n",
       "    <tr>\n",
       "      <th>3</th>\n",
       "      <td>1000_3</td>\n",
       "      <td>2018-06-16</td>\n",
       "      <td>1000</td>\n",
       "    </tr>\n",
       "    <tr>\n",
       "      <th>4</th>\n",
       "      <td>1000_4</td>\n",
       "      <td>2018-12-05</td>\n",
       "      <td>1000</td>\n",
       "    </tr>\n",
       "  </tbody>\n",
       "</table>\n",
       "</div>"
      ],
      "text/plain": [
       "       id message_date  user_id\n",
       "0  1000_0   2018-06-27     1000\n",
       "1  1000_1   2018-10-08     1000\n",
       "2  1000_2   2018-08-04     1000\n",
       "3  1000_3   2018-06-16     1000\n",
       "4  1000_4   2018-12-05     1000"
      ]
     },
     "execution_count": 18,
     "metadata": {},
     "output_type": "execute_result"
    }
   ],
   "source": [
    "messages.head()"
   ]
  },
  {
   "cell_type": "code",
   "execution_count": 19,
   "metadata": {},
   "outputs": [
    {
     "data": {
      "text/html": [
       "<div>\n",
       "<style scoped>\n",
       "    .dataframe tbody tr th:only-of-type {\n",
       "        vertical-align: middle;\n",
       "    }\n",
       "\n",
       "    .dataframe tbody tr th {\n",
       "        vertical-align: top;\n",
       "    }\n",
       "\n",
       "    .dataframe thead th {\n",
       "        text-align: right;\n",
       "    }\n",
       "</style>\n",
       "<table border=\"1\" class=\"dataframe\">\n",
       "  <thead>\n",
       "    <tr style=\"text-align: right;\">\n",
       "      <th></th>\n",
       "      <th>user_id</th>\n",
       "    </tr>\n",
       "  </thead>\n",
       "  <tbody>\n",
       "    <tr>\n",
       "      <th>count</th>\n",
       "      <td>123036.000000</td>\n",
       "    </tr>\n",
       "    <tr>\n",
       "      <th>mean</th>\n",
       "      <td>1256.989410</td>\n",
       "    </tr>\n",
       "    <tr>\n",
       "      <th>std</th>\n",
       "      <td>143.523967</td>\n",
       "    </tr>\n",
       "    <tr>\n",
       "      <th>min</th>\n",
       "      <td>1000.000000</td>\n",
       "    </tr>\n",
       "    <tr>\n",
       "      <th>25%</th>\n",
       "      <td>1134.000000</td>\n",
       "    </tr>\n",
       "    <tr>\n",
       "      <th>50%</th>\n",
       "      <td>1271.000000</td>\n",
       "    </tr>\n",
       "    <tr>\n",
       "      <th>75%</th>\n",
       "      <td>1381.000000</td>\n",
       "    </tr>\n",
       "    <tr>\n",
       "      <th>max</th>\n",
       "      <td>1499.000000</td>\n",
       "    </tr>\n",
       "  </tbody>\n",
       "</table>\n",
       "</div>"
      ],
      "text/plain": [
       "             user_id\n",
       "count  123036.000000\n",
       "mean     1256.989410\n",
       "std       143.523967\n",
       "min      1000.000000\n",
       "25%      1134.000000\n",
       "50%      1271.000000\n",
       "75%      1381.000000\n",
       "max      1499.000000"
      ]
     },
     "execution_count": 19,
     "metadata": {},
     "output_type": "execute_result"
    }
   ],
   "source": [
    "messages.describe()"
   ]
  },
  {
   "cell_type": "code",
   "execution_count": 20,
   "metadata": {},
   "outputs": [
    {
     "name": "stdout",
     "output_type": "stream",
     "text": [
      "<class 'pandas.core.frame.DataFrame'>\n",
      "RangeIndex: 123036 entries, 0 to 123035\n",
      "Data columns (total 3 columns):\n",
      " #   Column        Non-Null Count   Dtype \n",
      "---  ------        --------------   ----- \n",
      " 0   id            123036 non-null  object\n",
      " 1   message_date  123036 non-null  object\n",
      " 2   user_id       123036 non-null  int64 \n",
      "dtypes: int64(1), object(2)\n",
      "memory usage: 2.8+ MB\n"
     ]
    }
   ],
   "source": [
    "messages.info()"
   ]
  },
  {
   "cell_type": "markdown",
   "metadata": {},
   "source": [
    "**Вывод:**\n",
    "- у уникального номера сообщения не правильный формат object\n",
    "- дата не в правильном формате object"
   ]
  },
  {
   "cell_type": "code",
   "execution_count": 21,
   "metadata": {},
   "outputs": [],
   "source": [
    "messages['id'] = messages['id'].astype('int')  # изменяем тип данных уникального номера сообщения"
   ]
  },
  {
   "cell_type": "code",
   "execution_count": 22,
   "metadata": {},
   "outputs": [],
   "source": [
    "messages['message_date'] = pd.to_datetime(messages['message_date'], format=\"%Y-%m-%d\")  # приводим к типу даты дату сообщения"
   ]
  },
  {
   "cell_type": "markdown",
   "metadata": {},
   "source": [
    "Проверяем что получилось:"
   ]
  },
  {
   "cell_type": "code",
   "execution_count": 23,
   "metadata": {},
   "outputs": [
    {
     "data": {
      "text/html": [
       "<div>\n",
       "<style scoped>\n",
       "    .dataframe tbody tr th:only-of-type {\n",
       "        vertical-align: middle;\n",
       "    }\n",
       "\n",
       "    .dataframe tbody tr th {\n",
       "        vertical-align: top;\n",
       "    }\n",
       "\n",
       "    .dataframe thead th {\n",
       "        text-align: right;\n",
       "    }\n",
       "</style>\n",
       "<table border=\"1\" class=\"dataframe\">\n",
       "  <thead>\n",
       "    <tr style=\"text-align: right;\">\n",
       "      <th></th>\n",
       "      <th>id</th>\n",
       "      <th>message_date</th>\n",
       "      <th>user_id</th>\n",
       "    </tr>\n",
       "  </thead>\n",
       "  <tbody>\n",
       "    <tr>\n",
       "      <th>0</th>\n",
       "      <td>10000</td>\n",
       "      <td>2018-06-27</td>\n",
       "      <td>1000</td>\n",
       "    </tr>\n",
       "    <tr>\n",
       "      <th>1</th>\n",
       "      <td>10001</td>\n",
       "      <td>2018-10-08</td>\n",
       "      <td>1000</td>\n",
       "    </tr>\n",
       "    <tr>\n",
       "      <th>2</th>\n",
       "      <td>10002</td>\n",
       "      <td>2018-08-04</td>\n",
       "      <td>1000</td>\n",
       "    </tr>\n",
       "    <tr>\n",
       "      <th>3</th>\n",
       "      <td>10003</td>\n",
       "      <td>2018-06-16</td>\n",
       "      <td>1000</td>\n",
       "    </tr>\n",
       "    <tr>\n",
       "      <th>4</th>\n",
       "      <td>10004</td>\n",
       "      <td>2018-12-05</td>\n",
       "      <td>1000</td>\n",
       "    </tr>\n",
       "  </tbody>\n",
       "</table>\n",
       "</div>"
      ],
      "text/plain": [
       "      id message_date  user_id\n",
       "0  10000   2018-06-27     1000\n",
       "1  10001   2018-10-08     1000\n",
       "2  10002   2018-08-04     1000\n",
       "3  10003   2018-06-16     1000\n",
       "4  10004   2018-12-05     1000"
      ]
     },
     "execution_count": 23,
     "metadata": {},
     "output_type": "execute_result"
    }
   ],
   "source": [
    "messages.head()"
   ]
  },
  {
   "cell_type": "code",
   "execution_count": 24,
   "metadata": {},
   "outputs": [
    {
     "name": "stdout",
     "output_type": "stream",
     "text": [
      "<class 'pandas.core.frame.DataFrame'>\n",
      "RangeIndex: 123036 entries, 0 to 123035\n",
      "Data columns (total 3 columns):\n",
      " #   Column        Non-Null Count   Dtype         \n",
      "---  ------        --------------   -----         \n",
      " 0   id            123036 non-null  int64         \n",
      " 1   message_date  123036 non-null  datetime64[ns]\n",
      " 2   user_id       123036 non-null  int64         \n",
      "dtypes: datetime64[ns](1), int64(2)\n",
      "memory usage: 2.8 MB\n"
     ]
    }
   ],
   "source": [
    "messages.info()"
   ]
  },
  {
   "cell_type": "markdown",
   "metadata": {},
   "source": [
    "### Таблица tariffs (информация о тарифах)"
   ]
  },
  {
   "cell_type": "markdown",
   "metadata": {},
   "source": [
    "Таблица tariffs (информация о тарифах):\n",
    "    \n",
    "- tariff_name — название тарифа\n",
    "- rub_monthly_fee — ежемесячная абонентская плата в рублях\n",
    "- minutes_included — количество минут разговора в месяц, включённых в абонентскую плату\n",
    "- messages_included — количество сообщений в месяц, включённых в абонентскую плату\n",
    "- mb_per_month_included — объём интернет-трафика, включённого в абонентскую плату (в мегабайтах)\n",
    "- rub_per_minute — стоимость минуты разговора сверх тарифного пакета (например, если в тарифе 100 минут разговора в месяц, то со 101 минуты будет взиматься плата)\n",
    "- rub_per_message — стоимость отправки сообщения сверх тарифного пакета\n",
    "- rub_per_gb — стоимость дополнительного гигабайта интернет-трафика сверх тарифного пакета (1 гигабайт = 1024 мегабайта)\n"
   ]
  },
  {
   "cell_type": "code",
   "execution_count": 25,
   "metadata": {},
   "outputs": [
    {
     "data": {
      "text/html": [
       "<div>\n",
       "<style scoped>\n",
       "    .dataframe tbody tr th:only-of-type {\n",
       "        vertical-align: middle;\n",
       "    }\n",
       "\n",
       "    .dataframe tbody tr th {\n",
       "        vertical-align: top;\n",
       "    }\n",
       "\n",
       "    .dataframe thead th {\n",
       "        text-align: right;\n",
       "    }\n",
       "</style>\n",
       "<table border=\"1\" class=\"dataframe\">\n",
       "  <thead>\n",
       "    <tr style=\"text-align: right;\">\n",
       "      <th></th>\n",
       "      <th>messages_included</th>\n",
       "      <th>mb_per_month_included</th>\n",
       "      <th>minutes_included</th>\n",
       "      <th>rub_monthly_fee</th>\n",
       "      <th>rub_per_gb</th>\n",
       "      <th>rub_per_message</th>\n",
       "      <th>rub_per_minute</th>\n",
       "      <th>tariff_name</th>\n",
       "    </tr>\n",
       "  </thead>\n",
       "  <tbody>\n",
       "    <tr>\n",
       "      <th>0</th>\n",
       "      <td>50</td>\n",
       "      <td>15360</td>\n",
       "      <td>500</td>\n",
       "      <td>550</td>\n",
       "      <td>200</td>\n",
       "      <td>3</td>\n",
       "      <td>3</td>\n",
       "      <td>smart</td>\n",
       "    </tr>\n",
       "    <tr>\n",
       "      <th>1</th>\n",
       "      <td>1000</td>\n",
       "      <td>30720</td>\n",
       "      <td>3000</td>\n",
       "      <td>1950</td>\n",
       "      <td>150</td>\n",
       "      <td>1</td>\n",
       "      <td>1</td>\n",
       "      <td>ultra</td>\n",
       "    </tr>\n",
       "  </tbody>\n",
       "</table>\n",
       "</div>"
      ],
      "text/plain": [
       "   messages_included  mb_per_month_included  minutes_included  \\\n",
       "0                 50                  15360               500   \n",
       "1               1000                  30720              3000   \n",
       "\n",
       "   rub_monthly_fee  rub_per_gb  rub_per_message  rub_per_minute tariff_name  \n",
       "0              550         200                3               3       smart  \n",
       "1             1950         150                1               1       ultra  "
      ]
     },
     "execution_count": 25,
     "metadata": {},
     "output_type": "execute_result"
    }
   ],
   "source": [
    "tariffs.head()"
   ]
  },
  {
   "cell_type": "code",
   "execution_count": 26,
   "metadata": {},
   "outputs": [
    {
     "data": {
      "text/html": [
       "<div>\n",
       "<style scoped>\n",
       "    .dataframe tbody tr th:only-of-type {\n",
       "        vertical-align: middle;\n",
       "    }\n",
       "\n",
       "    .dataframe tbody tr th {\n",
       "        vertical-align: top;\n",
       "    }\n",
       "\n",
       "    .dataframe thead th {\n",
       "        text-align: right;\n",
       "    }\n",
       "</style>\n",
       "<table border=\"1\" class=\"dataframe\">\n",
       "  <thead>\n",
       "    <tr style=\"text-align: right;\">\n",
       "      <th></th>\n",
       "      <th>messages_included</th>\n",
       "      <th>mb_per_month_included</th>\n",
       "      <th>minutes_included</th>\n",
       "      <th>rub_monthly_fee</th>\n",
       "      <th>rub_per_gb</th>\n",
       "      <th>rub_per_message</th>\n",
       "      <th>rub_per_minute</th>\n",
       "    </tr>\n",
       "  </thead>\n",
       "  <tbody>\n",
       "    <tr>\n",
       "      <th>count</th>\n",
       "      <td>2.000000</td>\n",
       "      <td>2.000000</td>\n",
       "      <td>2.000000</td>\n",
       "      <td>2.000000</td>\n",
       "      <td>2.000000</td>\n",
       "      <td>2.000000</td>\n",
       "      <td>2.000000</td>\n",
       "    </tr>\n",
       "    <tr>\n",
       "      <th>mean</th>\n",
       "      <td>525.000000</td>\n",
       "      <td>23040.000000</td>\n",
       "      <td>1750.000000</td>\n",
       "      <td>1250.000000</td>\n",
       "      <td>175.000000</td>\n",
       "      <td>2.000000</td>\n",
       "      <td>2.000000</td>\n",
       "    </tr>\n",
       "    <tr>\n",
       "      <th>std</th>\n",
       "      <td>671.751442</td>\n",
       "      <td>10861.160159</td>\n",
       "      <td>1767.766953</td>\n",
       "      <td>989.949494</td>\n",
       "      <td>35.355339</td>\n",
       "      <td>1.414214</td>\n",
       "      <td>1.414214</td>\n",
       "    </tr>\n",
       "    <tr>\n",
       "      <th>min</th>\n",
       "      <td>50.000000</td>\n",
       "      <td>15360.000000</td>\n",
       "      <td>500.000000</td>\n",
       "      <td>550.000000</td>\n",
       "      <td>150.000000</td>\n",
       "      <td>1.000000</td>\n",
       "      <td>1.000000</td>\n",
       "    </tr>\n",
       "    <tr>\n",
       "      <th>25%</th>\n",
       "      <td>287.500000</td>\n",
       "      <td>19200.000000</td>\n",
       "      <td>1125.000000</td>\n",
       "      <td>900.000000</td>\n",
       "      <td>162.500000</td>\n",
       "      <td>1.500000</td>\n",
       "      <td>1.500000</td>\n",
       "    </tr>\n",
       "    <tr>\n",
       "      <th>50%</th>\n",
       "      <td>525.000000</td>\n",
       "      <td>23040.000000</td>\n",
       "      <td>1750.000000</td>\n",
       "      <td>1250.000000</td>\n",
       "      <td>175.000000</td>\n",
       "      <td>2.000000</td>\n",
       "      <td>2.000000</td>\n",
       "    </tr>\n",
       "    <tr>\n",
       "      <th>75%</th>\n",
       "      <td>762.500000</td>\n",
       "      <td>26880.000000</td>\n",
       "      <td>2375.000000</td>\n",
       "      <td>1600.000000</td>\n",
       "      <td>187.500000</td>\n",
       "      <td>2.500000</td>\n",
       "      <td>2.500000</td>\n",
       "    </tr>\n",
       "    <tr>\n",
       "      <th>max</th>\n",
       "      <td>1000.000000</td>\n",
       "      <td>30720.000000</td>\n",
       "      <td>3000.000000</td>\n",
       "      <td>1950.000000</td>\n",
       "      <td>200.000000</td>\n",
       "      <td>3.000000</td>\n",
       "      <td>3.000000</td>\n",
       "    </tr>\n",
       "  </tbody>\n",
       "</table>\n",
       "</div>"
      ],
      "text/plain": [
       "       messages_included  mb_per_month_included  minutes_included  \\\n",
       "count           2.000000               2.000000          2.000000   \n",
       "mean          525.000000           23040.000000       1750.000000   \n",
       "std           671.751442           10861.160159       1767.766953   \n",
       "min            50.000000           15360.000000        500.000000   \n",
       "25%           287.500000           19200.000000       1125.000000   \n",
       "50%           525.000000           23040.000000       1750.000000   \n",
       "75%           762.500000           26880.000000       2375.000000   \n",
       "max          1000.000000           30720.000000       3000.000000   \n",
       "\n",
       "       rub_monthly_fee  rub_per_gb  rub_per_message  rub_per_minute  \n",
       "count         2.000000    2.000000         2.000000        2.000000  \n",
       "mean       1250.000000  175.000000         2.000000        2.000000  \n",
       "std         989.949494   35.355339         1.414214        1.414214  \n",
       "min         550.000000  150.000000         1.000000        1.000000  \n",
       "25%         900.000000  162.500000         1.500000        1.500000  \n",
       "50%        1250.000000  175.000000         2.000000        2.000000  \n",
       "75%        1600.000000  187.500000         2.500000        2.500000  \n",
       "max        1950.000000  200.000000         3.000000        3.000000  "
      ]
     },
     "execution_count": 26,
     "metadata": {},
     "output_type": "execute_result"
    }
   ],
   "source": [
    "tariffs.describe()"
   ]
  },
  {
   "cell_type": "code",
   "execution_count": 27,
   "metadata": {},
   "outputs": [
    {
     "name": "stdout",
     "output_type": "stream",
     "text": [
      "<class 'pandas.core.frame.DataFrame'>\n",
      "RangeIndex: 2 entries, 0 to 1\n",
      "Data columns (total 8 columns):\n",
      " #   Column                 Non-Null Count  Dtype \n",
      "---  ------                 --------------  ----- \n",
      " 0   messages_included      2 non-null      int64 \n",
      " 1   mb_per_month_included  2 non-null      int64 \n",
      " 2   minutes_included       2 non-null      int64 \n",
      " 3   rub_monthly_fee        2 non-null      int64 \n",
      " 4   rub_per_gb             2 non-null      int64 \n",
      " 5   rub_per_message        2 non-null      int64 \n",
      " 6   rub_per_minute         2 non-null      int64 \n",
      " 7   tariff_name            2 non-null      object\n",
      "dtypes: int64(7), object(1)\n",
      "memory usage: 256.0+ bytes\n"
     ]
    }
   ],
   "source": [
    "tariffs.info()"
   ]
  },
  {
   "cell_type": "markdown",
   "metadata": {},
   "source": [
    "**Вывод:**\n",
    "- изменим название тарифа колонки tariff_name"
   ]
  },
  {
   "cell_type": "code",
   "execution_count": 28,
   "metadata": {},
   "outputs": [],
   "source": [
    "tariffs = tariffs.rename(columns={'tariff_name': 'tariff'}) #для переименования столбцов вызывают метод датафреймов rename(). "
   ]
  },
  {
   "cell_type": "markdown",
   "metadata": {},
   "source": [
    "### Таблица users (информация о пользователях)"
   ]
  },
  {
   "cell_type": "markdown",
   "metadata": {},
   "source": [
    "Таблица users (информация о пользователях):\n",
    "\n",
    "- user_id — уникальный идентификатор пользователя\n",
    "- first_name — имя пользователя\n",
    "- ast_name — фамилия пользователя\n",
    "- age — возраст пользователя (годы)\n",
    "- reg_date — дата подключения тарифа (день, месяц, год)\n",
    "- churn_date — дата прекращения пользования тарифом (если значение пропущено, то тариф ещё действовал на момент выгрузки данных)\n",
    "- city — город проживания пользователя\n",
    "- tarif — название тарифного плана"
   ]
  },
  {
   "cell_type": "code",
   "execution_count": 29,
   "metadata": {},
   "outputs": [
    {
     "data": {
      "text/html": [
       "<div>\n",
       "<style scoped>\n",
       "    .dataframe tbody tr th:only-of-type {\n",
       "        vertical-align: middle;\n",
       "    }\n",
       "\n",
       "    .dataframe tbody tr th {\n",
       "        vertical-align: top;\n",
       "    }\n",
       "\n",
       "    .dataframe thead th {\n",
       "        text-align: right;\n",
       "    }\n",
       "</style>\n",
       "<table border=\"1\" class=\"dataframe\">\n",
       "  <thead>\n",
       "    <tr style=\"text-align: right;\">\n",
       "      <th></th>\n",
       "      <th>user_id</th>\n",
       "      <th>age</th>\n",
       "      <th>churn_date</th>\n",
       "      <th>city</th>\n",
       "      <th>first_name</th>\n",
       "      <th>last_name</th>\n",
       "      <th>reg_date</th>\n",
       "      <th>tariff</th>\n",
       "    </tr>\n",
       "  </thead>\n",
       "  <tbody>\n",
       "    <tr>\n",
       "      <th>0</th>\n",
       "      <td>1000</td>\n",
       "      <td>52</td>\n",
       "      <td>NaN</td>\n",
       "      <td>Краснодар</td>\n",
       "      <td>Рафаил</td>\n",
       "      <td>Верещагин</td>\n",
       "      <td>2018-05-25</td>\n",
       "      <td>ultra</td>\n",
       "    </tr>\n",
       "    <tr>\n",
       "      <th>1</th>\n",
       "      <td>1001</td>\n",
       "      <td>41</td>\n",
       "      <td>NaN</td>\n",
       "      <td>Москва</td>\n",
       "      <td>Иван</td>\n",
       "      <td>Ежов</td>\n",
       "      <td>2018-11-01</td>\n",
       "      <td>smart</td>\n",
       "    </tr>\n",
       "    <tr>\n",
       "      <th>2</th>\n",
       "      <td>1002</td>\n",
       "      <td>59</td>\n",
       "      <td>NaN</td>\n",
       "      <td>Стерлитамак</td>\n",
       "      <td>Евгений</td>\n",
       "      <td>Абрамович</td>\n",
       "      <td>2018-06-17</td>\n",
       "      <td>smart</td>\n",
       "    </tr>\n",
       "    <tr>\n",
       "      <th>3</th>\n",
       "      <td>1003</td>\n",
       "      <td>23</td>\n",
       "      <td>NaN</td>\n",
       "      <td>Москва</td>\n",
       "      <td>Белла</td>\n",
       "      <td>Белякова</td>\n",
       "      <td>2018-08-17</td>\n",
       "      <td>ultra</td>\n",
       "    </tr>\n",
       "    <tr>\n",
       "      <th>4</th>\n",
       "      <td>1004</td>\n",
       "      <td>68</td>\n",
       "      <td>NaN</td>\n",
       "      <td>Новокузнецк</td>\n",
       "      <td>Татьяна</td>\n",
       "      <td>Авдеенко</td>\n",
       "      <td>2018-05-14</td>\n",
       "      <td>ultra</td>\n",
       "    </tr>\n",
       "  </tbody>\n",
       "</table>\n",
       "</div>"
      ],
      "text/plain": [
       "   user_id  age churn_date         city first_name  last_name    reg_date  \\\n",
       "0     1000   52        NaN    Краснодар     Рафаил  Верещагин  2018-05-25   \n",
       "1     1001   41        NaN       Москва       Иван       Ежов  2018-11-01   \n",
       "2     1002   59        NaN  Стерлитамак    Евгений  Абрамович  2018-06-17   \n",
       "3     1003   23        NaN       Москва      Белла   Белякова  2018-08-17   \n",
       "4     1004   68        NaN  Новокузнецк    Татьяна   Авдеенко  2018-05-14   \n",
       "\n",
       "  tariff  \n",
       "0  ultra  \n",
       "1  smart  \n",
       "2  smart  \n",
       "3  ultra  \n",
       "4  ultra  "
      ]
     },
     "execution_count": 29,
     "metadata": {},
     "output_type": "execute_result"
    }
   ],
   "source": [
    "users.head()"
   ]
  },
  {
   "cell_type": "code",
   "execution_count": 30,
   "metadata": {},
   "outputs": [
    {
     "data": {
      "text/html": [
       "<div>\n",
       "<style scoped>\n",
       "    .dataframe tbody tr th:only-of-type {\n",
       "        vertical-align: middle;\n",
       "    }\n",
       "\n",
       "    .dataframe tbody tr th {\n",
       "        vertical-align: top;\n",
       "    }\n",
       "\n",
       "    .dataframe thead th {\n",
       "        text-align: right;\n",
       "    }\n",
       "</style>\n",
       "<table border=\"1\" class=\"dataframe\">\n",
       "  <thead>\n",
       "    <tr style=\"text-align: right;\">\n",
       "      <th></th>\n",
       "      <th>user_id</th>\n",
       "      <th>age</th>\n",
       "    </tr>\n",
       "  </thead>\n",
       "  <tbody>\n",
       "    <tr>\n",
       "      <th>count</th>\n",
       "      <td>500.000000</td>\n",
       "      <td>500.00000</td>\n",
       "    </tr>\n",
       "    <tr>\n",
       "      <th>mean</th>\n",
       "      <td>1249.500000</td>\n",
       "      <td>46.58800</td>\n",
       "    </tr>\n",
       "    <tr>\n",
       "      <th>std</th>\n",
       "      <td>144.481833</td>\n",
       "      <td>16.66763</td>\n",
       "    </tr>\n",
       "    <tr>\n",
       "      <th>min</th>\n",
       "      <td>1000.000000</td>\n",
       "      <td>18.00000</td>\n",
       "    </tr>\n",
       "    <tr>\n",
       "      <th>25%</th>\n",
       "      <td>1124.750000</td>\n",
       "      <td>32.00000</td>\n",
       "    </tr>\n",
       "    <tr>\n",
       "      <th>50%</th>\n",
       "      <td>1249.500000</td>\n",
       "      <td>46.00000</td>\n",
       "    </tr>\n",
       "    <tr>\n",
       "      <th>75%</th>\n",
       "      <td>1374.250000</td>\n",
       "      <td>62.00000</td>\n",
       "    </tr>\n",
       "    <tr>\n",
       "      <th>max</th>\n",
       "      <td>1499.000000</td>\n",
       "      <td>75.00000</td>\n",
       "    </tr>\n",
       "  </tbody>\n",
       "</table>\n",
       "</div>"
      ],
      "text/plain": [
       "           user_id        age\n",
       "count   500.000000  500.00000\n",
       "mean   1249.500000   46.58800\n",
       "std     144.481833   16.66763\n",
       "min    1000.000000   18.00000\n",
       "25%    1124.750000   32.00000\n",
       "50%    1249.500000   46.00000\n",
       "75%    1374.250000   62.00000\n",
       "max    1499.000000   75.00000"
      ]
     },
     "execution_count": 30,
     "metadata": {},
     "output_type": "execute_result"
    }
   ],
   "source": [
    "users.describe()"
   ]
  },
  {
   "cell_type": "code",
   "execution_count": 31,
   "metadata": {},
   "outputs": [
    {
     "name": "stdout",
     "output_type": "stream",
     "text": [
      "<class 'pandas.core.frame.DataFrame'>\n",
      "RangeIndex: 500 entries, 0 to 499\n",
      "Data columns (total 8 columns):\n",
      " #   Column      Non-Null Count  Dtype \n",
      "---  ------      --------------  ----- \n",
      " 0   user_id     500 non-null    int64 \n",
      " 1   age         500 non-null    int64 \n",
      " 2   churn_date  38 non-null     object\n",
      " 3   city        500 non-null    object\n",
      " 4   first_name  500 non-null    object\n",
      " 5   last_name   500 non-null    object\n",
      " 6   reg_date    500 non-null    object\n",
      " 7   tariff      500 non-null    object\n",
      "dtypes: int64(2), object(6)\n",
      "memory usage: 31.4+ KB\n"
     ]
    }
   ],
   "source": [
    "users.info()"
   ]
  },
  {
   "cell_type": "markdown",
   "metadata": {},
   "source": [
    "**Вывод:**\n",
    "- у уникального номера сообщения не правильный формат object\n",
    "- дата не в правильном формате object\n",
    "- 38 пользователей прекратили пользоваться тарифом"
   ]
  },
  {
   "cell_type": "code",
   "execution_count": 32,
   "metadata": {},
   "outputs": [],
   "source": [
    "users['churn_date'] = pd.to_datetime(users['churn_date'], format=\"%Y-%m-%d\") # приводим к типу даты дату прекращения пользования тарифом"
   ]
  },
  {
   "cell_type": "code",
   "execution_count": 33,
   "metadata": {},
   "outputs": [],
   "source": [
    "users['reg_date'] = pd.to_datetime(users['reg_date'], format=\"%Y-%m-%d\") # приводим к типу даты дату подключения тарифа"
   ]
  },
  {
   "cell_type": "markdown",
   "metadata": {},
   "source": [
    "Проверяем что получилось:"
   ]
  },
  {
   "cell_type": "code",
   "execution_count": 34,
   "metadata": {},
   "outputs": [
    {
     "data": {
      "text/html": [
       "<div>\n",
       "<style scoped>\n",
       "    .dataframe tbody tr th:only-of-type {\n",
       "        vertical-align: middle;\n",
       "    }\n",
       "\n",
       "    .dataframe tbody tr th {\n",
       "        vertical-align: top;\n",
       "    }\n",
       "\n",
       "    .dataframe thead th {\n",
       "        text-align: right;\n",
       "    }\n",
       "</style>\n",
       "<table border=\"1\" class=\"dataframe\">\n",
       "  <thead>\n",
       "    <tr style=\"text-align: right;\">\n",
       "      <th></th>\n",
       "      <th>user_id</th>\n",
       "      <th>age</th>\n",
       "      <th>churn_date</th>\n",
       "      <th>city</th>\n",
       "      <th>first_name</th>\n",
       "      <th>last_name</th>\n",
       "      <th>reg_date</th>\n",
       "      <th>tariff</th>\n",
       "    </tr>\n",
       "  </thead>\n",
       "  <tbody>\n",
       "    <tr>\n",
       "      <th>0</th>\n",
       "      <td>1000</td>\n",
       "      <td>52</td>\n",
       "      <td>NaT</td>\n",
       "      <td>Краснодар</td>\n",
       "      <td>Рафаил</td>\n",
       "      <td>Верещагин</td>\n",
       "      <td>2018-05-25</td>\n",
       "      <td>ultra</td>\n",
       "    </tr>\n",
       "    <tr>\n",
       "      <th>1</th>\n",
       "      <td>1001</td>\n",
       "      <td>41</td>\n",
       "      <td>NaT</td>\n",
       "      <td>Москва</td>\n",
       "      <td>Иван</td>\n",
       "      <td>Ежов</td>\n",
       "      <td>2018-11-01</td>\n",
       "      <td>smart</td>\n",
       "    </tr>\n",
       "    <tr>\n",
       "      <th>2</th>\n",
       "      <td>1002</td>\n",
       "      <td>59</td>\n",
       "      <td>NaT</td>\n",
       "      <td>Стерлитамак</td>\n",
       "      <td>Евгений</td>\n",
       "      <td>Абрамович</td>\n",
       "      <td>2018-06-17</td>\n",
       "      <td>smart</td>\n",
       "    </tr>\n",
       "    <tr>\n",
       "      <th>3</th>\n",
       "      <td>1003</td>\n",
       "      <td>23</td>\n",
       "      <td>NaT</td>\n",
       "      <td>Москва</td>\n",
       "      <td>Белла</td>\n",
       "      <td>Белякова</td>\n",
       "      <td>2018-08-17</td>\n",
       "      <td>ultra</td>\n",
       "    </tr>\n",
       "    <tr>\n",
       "      <th>4</th>\n",
       "      <td>1004</td>\n",
       "      <td>68</td>\n",
       "      <td>NaT</td>\n",
       "      <td>Новокузнецк</td>\n",
       "      <td>Татьяна</td>\n",
       "      <td>Авдеенко</td>\n",
       "      <td>2018-05-14</td>\n",
       "      <td>ultra</td>\n",
       "    </tr>\n",
       "  </tbody>\n",
       "</table>\n",
       "</div>"
      ],
      "text/plain": [
       "   user_id  age churn_date         city first_name  last_name   reg_date  \\\n",
       "0     1000   52        NaT    Краснодар     Рафаил  Верещагин 2018-05-25   \n",
       "1     1001   41        NaT       Москва       Иван       Ежов 2018-11-01   \n",
       "2     1002   59        NaT  Стерлитамак    Евгений  Абрамович 2018-06-17   \n",
       "3     1003   23        NaT       Москва      Белла   Белякова 2018-08-17   \n",
       "4     1004   68        NaT  Новокузнецк    Татьяна   Авдеенко 2018-05-14   \n",
       "\n",
       "  tariff  \n",
       "0  ultra  \n",
       "1  smart  \n",
       "2  smart  \n",
       "3  ultra  \n",
       "4  ultra  "
      ]
     },
     "execution_count": 34,
     "metadata": {},
     "output_type": "execute_result"
    }
   ],
   "source": [
    "users.head()"
   ]
  },
  {
   "cell_type": "code",
   "execution_count": 35,
   "metadata": {},
   "outputs": [
    {
     "name": "stdout",
     "output_type": "stream",
     "text": [
      "<class 'pandas.core.frame.DataFrame'>\n",
      "RangeIndex: 500 entries, 0 to 499\n",
      "Data columns (total 8 columns):\n",
      " #   Column      Non-Null Count  Dtype         \n",
      "---  ------      --------------  -----         \n",
      " 0   user_id     500 non-null    int64         \n",
      " 1   age         500 non-null    int64         \n",
      " 2   churn_date  38 non-null     datetime64[ns]\n",
      " 3   city        500 non-null    object        \n",
      " 4   first_name  500 non-null    object        \n",
      " 5   last_name   500 non-null    object        \n",
      " 6   reg_date    500 non-null    datetime64[ns]\n",
      " 7   tariff      500 non-null    object        \n",
      "dtypes: datetime64[ns](2), int64(2), object(4)\n",
      "memory usage: 31.4+ KB\n"
     ]
    }
   ],
   "source": [
    "users.info()"
   ]
  },
  {
   "cell_type": "markdown",
   "metadata": {},
   "source": [
    "**Вывод:**\n",
    "\n",
    "- в данных изменили только форматы дат и перевели их в datetime\n",
    "- по условия задачи «Мегалайн» всегда округляет секунды до минуты,для расчетов перевели эти данные в целые минуты\n",
    "- 38 пользователей прекратили пользоваться тарифом"
   ]
  },
  {
   "cell_type": "markdown",
   "metadata": {},
   "source": [
    "## Подготовка данных"
   ]
  },
  {
   "cell_type": "markdown",
   "metadata": {},
   "source": [
    "**Посчитаем для каждого пользователя:**\n",
    "- количество сделанных звонков и израсходованных минут разговора по месяцам;\n",
    "- количество отправленных сообщений по месяцам;\n",
    "- объем израсходованного интернет-трафика по месяцам;\n",
    "- помесячную выручку с каждого пользователя."
   ]
  },
  {
   "cell_type": "markdown",
   "metadata": {},
   "source": [
    "### Количество сделанных звонков и израсходованных минут разговора по месяцам"
   ]
  },
  {
   "cell_type": "markdown",
   "metadata": {},
   "source": [
    "Для начала разделим данные по месяцам и создадим новый столбец:"
   ]
  },
  {
   "cell_type": "code",
   "execution_count": 36,
   "metadata": {},
   "outputs": [],
   "source": [
    "calls['month'] = calls['call_date'].dt.month"
   ]
  },
  {
   "cell_type": "code",
   "execution_count": 37,
   "metadata": {},
   "outputs": [
    {
     "data": {
      "text/html": [
       "<div>\n",
       "<style scoped>\n",
       "    .dataframe tbody tr th:only-of-type {\n",
       "        vertical-align: middle;\n",
       "    }\n",
       "\n",
       "    .dataframe tbody tr th {\n",
       "        vertical-align: top;\n",
       "    }\n",
       "\n",
       "    .dataframe thead th {\n",
       "        text-align: right;\n",
       "    }\n",
       "</style>\n",
       "<table border=\"1\" class=\"dataframe\">\n",
       "  <thead>\n",
       "    <tr style=\"text-align: right;\">\n",
       "      <th></th>\n",
       "      <th>id</th>\n",
       "      <th>call_date</th>\n",
       "      <th>duration</th>\n",
       "      <th>user_id</th>\n",
       "      <th>month</th>\n",
       "    </tr>\n",
       "  </thead>\n",
       "  <tbody>\n",
       "    <tr>\n",
       "      <th>0</th>\n",
       "      <td>1000_0</td>\n",
       "      <td>2018-07-25</td>\n",
       "      <td>1</td>\n",
       "      <td>1000</td>\n",
       "      <td>7</td>\n",
       "    </tr>\n",
       "    <tr>\n",
       "      <th>1</th>\n",
       "      <td>1000_1</td>\n",
       "      <td>2018-08-17</td>\n",
       "      <td>1</td>\n",
       "      <td>1000</td>\n",
       "      <td>8</td>\n",
       "    </tr>\n",
       "    <tr>\n",
       "      <th>2</th>\n",
       "      <td>1000_2</td>\n",
       "      <td>2018-06-11</td>\n",
       "      <td>3</td>\n",
       "      <td>1000</td>\n",
       "      <td>6</td>\n",
       "    </tr>\n",
       "    <tr>\n",
       "      <th>3</th>\n",
       "      <td>1000_3</td>\n",
       "      <td>2018-09-21</td>\n",
       "      <td>14</td>\n",
       "      <td>1000</td>\n",
       "      <td>9</td>\n",
       "    </tr>\n",
       "    <tr>\n",
       "      <th>4</th>\n",
       "      <td>1000_4</td>\n",
       "      <td>2018-12-15</td>\n",
       "      <td>6</td>\n",
       "      <td>1000</td>\n",
       "      <td>12</td>\n",
       "    </tr>\n",
       "  </tbody>\n",
       "</table>\n",
       "</div>"
      ],
      "text/plain": [
       "       id  call_date  duration  user_id  month\n",
       "0  1000_0 2018-07-25         1     1000      7\n",
       "1  1000_1 2018-08-17         1     1000      8\n",
       "2  1000_2 2018-06-11         3     1000      6\n",
       "3  1000_3 2018-09-21        14     1000      9\n",
       "4  1000_4 2018-12-15         6     1000     12"
      ]
     },
     "execution_count": 37,
     "metadata": {},
     "output_type": "execute_result"
    }
   ],
   "source": [
    "calls.head()"
   ]
  },
  {
   "cell_type": "markdown",
   "metadata": {},
   "source": [
    "Посчитаем количество сделанных звонков и израсходованных минут разговора по месяцам:"
   ]
  },
  {
   "cell_type": "code",
   "execution_count": 38,
   "metadata": {},
   "outputs": [],
   "source": [
    "calls_month = calls.groupby(['user_id', 'month']) \\\n",
    "    .agg({\n",
    "        'duration': 'sum',\n",
    "        'id': 'count'}) \\\n",
    "    .reset_index() \\\n",
    "    .rename(columns={\n",
    "        'duration': 'month_duration',\n",
    "        'id': 'month_calls'}) "
   ]
  },
  {
   "cell_type": "code",
   "execution_count": 39,
   "metadata": {},
   "outputs": [
    {
     "data": {
      "text/html": [
       "<div>\n",
       "<style scoped>\n",
       "    .dataframe tbody tr th:only-of-type {\n",
       "        vertical-align: middle;\n",
       "    }\n",
       "\n",
       "    .dataframe tbody tr th {\n",
       "        vertical-align: top;\n",
       "    }\n",
       "\n",
       "    .dataframe thead th {\n",
       "        text-align: right;\n",
       "    }\n",
       "</style>\n",
       "<table border=\"1\" class=\"dataframe\">\n",
       "  <thead>\n",
       "    <tr style=\"text-align: right;\">\n",
       "      <th></th>\n",
       "      <th>user_id</th>\n",
       "      <th>month</th>\n",
       "      <th>month_duration</th>\n",
       "      <th>month_calls</th>\n",
       "    </tr>\n",
       "  </thead>\n",
       "  <tbody>\n",
       "    <tr>\n",
       "      <th>0</th>\n",
       "      <td>1000</td>\n",
       "      <td>5</td>\n",
       "      <td>164</td>\n",
       "      <td>22</td>\n",
       "    </tr>\n",
       "    <tr>\n",
       "      <th>1</th>\n",
       "      <td>1000</td>\n",
       "      <td>6</td>\n",
       "      <td>187</td>\n",
       "      <td>43</td>\n",
       "    </tr>\n",
       "    <tr>\n",
       "      <th>2</th>\n",
       "      <td>1000</td>\n",
       "      <td>7</td>\n",
       "      <td>346</td>\n",
       "      <td>47</td>\n",
       "    </tr>\n",
       "    <tr>\n",
       "      <th>3</th>\n",
       "      <td>1000</td>\n",
       "      <td>8</td>\n",
       "      <td>418</td>\n",
       "      <td>52</td>\n",
       "    </tr>\n",
       "    <tr>\n",
       "      <th>4</th>\n",
       "      <td>1000</td>\n",
       "      <td>9</td>\n",
       "      <td>478</td>\n",
       "      <td>58</td>\n",
       "    </tr>\n",
       "  </tbody>\n",
       "</table>\n",
       "</div>"
      ],
      "text/plain": [
       "   user_id  month  month_duration  month_calls\n",
       "0     1000      5             164           22\n",
       "1     1000      6             187           43\n",
       "2     1000      7             346           47\n",
       "3     1000      8             418           52\n",
       "4     1000      9             478           58"
      ]
     },
     "execution_count": 39,
     "metadata": {},
     "output_type": "execute_result"
    }
   ],
   "source": [
    "calls_month.head()"
   ]
  },
  {
   "cell_type": "markdown",
   "metadata": {},
   "source": [
    "### Количество отправленных сообщений по месяцам"
   ]
  },
  {
   "cell_type": "markdown",
   "metadata": {},
   "source": [
    "Для начала разделим данные по месяцам и создадим новый столбец:"
   ]
  },
  {
   "cell_type": "code",
   "execution_count": 40,
   "metadata": {},
   "outputs": [],
   "source": [
    "messages['month'] = messages['message_date'].dt.month"
   ]
  },
  {
   "cell_type": "code",
   "execution_count": 41,
   "metadata": {},
   "outputs": [
    {
     "data": {
      "text/html": [
       "<div>\n",
       "<style scoped>\n",
       "    .dataframe tbody tr th:only-of-type {\n",
       "        vertical-align: middle;\n",
       "    }\n",
       "\n",
       "    .dataframe tbody tr th {\n",
       "        vertical-align: top;\n",
       "    }\n",
       "\n",
       "    .dataframe thead th {\n",
       "        text-align: right;\n",
       "    }\n",
       "</style>\n",
       "<table border=\"1\" class=\"dataframe\">\n",
       "  <thead>\n",
       "    <tr style=\"text-align: right;\">\n",
       "      <th></th>\n",
       "      <th>id</th>\n",
       "      <th>message_date</th>\n",
       "      <th>user_id</th>\n",
       "      <th>month</th>\n",
       "    </tr>\n",
       "  </thead>\n",
       "  <tbody>\n",
       "    <tr>\n",
       "      <th>0</th>\n",
       "      <td>10000</td>\n",
       "      <td>2018-06-27</td>\n",
       "      <td>1000</td>\n",
       "      <td>6</td>\n",
       "    </tr>\n",
       "    <tr>\n",
       "      <th>1</th>\n",
       "      <td>10001</td>\n",
       "      <td>2018-10-08</td>\n",
       "      <td>1000</td>\n",
       "      <td>10</td>\n",
       "    </tr>\n",
       "    <tr>\n",
       "      <th>2</th>\n",
       "      <td>10002</td>\n",
       "      <td>2018-08-04</td>\n",
       "      <td>1000</td>\n",
       "      <td>8</td>\n",
       "    </tr>\n",
       "    <tr>\n",
       "      <th>3</th>\n",
       "      <td>10003</td>\n",
       "      <td>2018-06-16</td>\n",
       "      <td>1000</td>\n",
       "      <td>6</td>\n",
       "    </tr>\n",
       "    <tr>\n",
       "      <th>4</th>\n",
       "      <td>10004</td>\n",
       "      <td>2018-12-05</td>\n",
       "      <td>1000</td>\n",
       "      <td>12</td>\n",
       "    </tr>\n",
       "  </tbody>\n",
       "</table>\n",
       "</div>"
      ],
      "text/plain": [
       "      id message_date  user_id  month\n",
       "0  10000   2018-06-27     1000      6\n",
       "1  10001   2018-10-08     1000     10\n",
       "2  10002   2018-08-04     1000      8\n",
       "3  10003   2018-06-16     1000      6\n",
       "4  10004   2018-12-05     1000     12"
      ]
     },
     "execution_count": 41,
     "metadata": {},
     "output_type": "execute_result"
    }
   ],
   "source": [
    "messages.head()"
   ]
  },
  {
   "cell_type": "markdown",
   "metadata": {},
   "source": [
    "Посчитаем количество отправленных сообщений по месяцам:"
   ]
  },
  {
   "cell_type": "code",
   "execution_count": 42,
   "metadata": {},
   "outputs": [],
   "source": [
    "messages_month = messages.groupby(['user_id', 'month'])\\\n",
    ".agg({'id':'count'}).reset_index().rename(columns={'id':'month_message'})"
   ]
  },
  {
   "cell_type": "code",
   "execution_count": 43,
   "metadata": {},
   "outputs": [
    {
     "data": {
      "text/html": [
       "<div>\n",
       "<style scoped>\n",
       "    .dataframe tbody tr th:only-of-type {\n",
       "        vertical-align: middle;\n",
       "    }\n",
       "\n",
       "    .dataframe tbody tr th {\n",
       "        vertical-align: top;\n",
       "    }\n",
       "\n",
       "    .dataframe thead th {\n",
       "        text-align: right;\n",
       "    }\n",
       "</style>\n",
       "<table border=\"1\" class=\"dataframe\">\n",
       "  <thead>\n",
       "    <tr style=\"text-align: right;\">\n",
       "      <th></th>\n",
       "      <th>user_id</th>\n",
       "      <th>month</th>\n",
       "      <th>month_message</th>\n",
       "    </tr>\n",
       "  </thead>\n",
       "  <tbody>\n",
       "    <tr>\n",
       "      <th>0</th>\n",
       "      <td>1000</td>\n",
       "      <td>5</td>\n",
       "      <td>22</td>\n",
       "    </tr>\n",
       "    <tr>\n",
       "      <th>1</th>\n",
       "      <td>1000</td>\n",
       "      <td>6</td>\n",
       "      <td>60</td>\n",
       "    </tr>\n",
       "    <tr>\n",
       "      <th>2</th>\n",
       "      <td>1000</td>\n",
       "      <td>7</td>\n",
       "      <td>75</td>\n",
       "    </tr>\n",
       "    <tr>\n",
       "      <th>3</th>\n",
       "      <td>1000</td>\n",
       "      <td>8</td>\n",
       "      <td>81</td>\n",
       "    </tr>\n",
       "    <tr>\n",
       "      <th>4</th>\n",
       "      <td>1000</td>\n",
       "      <td>9</td>\n",
       "      <td>57</td>\n",
       "    </tr>\n",
       "  </tbody>\n",
       "</table>\n",
       "</div>"
      ],
      "text/plain": [
       "   user_id  month  month_message\n",
       "0     1000      5             22\n",
       "1     1000      6             60\n",
       "2     1000      7             75\n",
       "3     1000      8             81\n",
       "4     1000      9             57"
      ]
     },
     "execution_count": 43,
     "metadata": {},
     "output_type": "execute_result"
    }
   ],
   "source": [
    "messages_month.head()"
   ]
  },
  {
   "cell_type": "markdown",
   "metadata": {},
   "source": [
    "### Объем израсходованного интернет-трафика по месяцам"
   ]
  },
  {
   "cell_type": "markdown",
   "metadata": {},
   "source": [
    "Для начала разделим данные по месяцам и создадим новый столбец:"
   ]
  },
  {
   "cell_type": "code",
   "execution_count": 44,
   "metadata": {},
   "outputs": [],
   "source": [
    "internet['month'] = internet['session_date'].dt.month"
   ]
  },
  {
   "cell_type": "code",
   "execution_count": 45,
   "metadata": {},
   "outputs": [
    {
     "data": {
      "text/html": [
       "<div>\n",
       "<style scoped>\n",
       "    .dataframe tbody tr th:only-of-type {\n",
       "        vertical-align: middle;\n",
       "    }\n",
       "\n",
       "    .dataframe tbody tr th {\n",
       "        vertical-align: top;\n",
       "    }\n",
       "\n",
       "    .dataframe thead th {\n",
       "        text-align: right;\n",
       "    }\n",
       "</style>\n",
       "<table border=\"1\" class=\"dataframe\">\n",
       "  <thead>\n",
       "    <tr style=\"text-align: right;\">\n",
       "      <th></th>\n",
       "      <th>Unnamed: 0</th>\n",
       "      <th>id</th>\n",
       "      <th>mb_used</th>\n",
       "      <th>session_date</th>\n",
       "      <th>user_id</th>\n",
       "      <th>month</th>\n",
       "    </tr>\n",
       "  </thead>\n",
       "  <tbody>\n",
       "    <tr>\n",
       "      <th>0</th>\n",
       "      <td>0</td>\n",
       "      <td>10000</td>\n",
       "      <td>112.95</td>\n",
       "      <td>2018-11-25</td>\n",
       "      <td>1000</td>\n",
       "      <td>11</td>\n",
       "    </tr>\n",
       "    <tr>\n",
       "      <th>1</th>\n",
       "      <td>1</td>\n",
       "      <td>10001</td>\n",
       "      <td>1052.81</td>\n",
       "      <td>2018-09-07</td>\n",
       "      <td>1000</td>\n",
       "      <td>9</td>\n",
       "    </tr>\n",
       "    <tr>\n",
       "      <th>2</th>\n",
       "      <td>2</td>\n",
       "      <td>10002</td>\n",
       "      <td>1197.26</td>\n",
       "      <td>2018-06-25</td>\n",
       "      <td>1000</td>\n",
       "      <td>6</td>\n",
       "    </tr>\n",
       "    <tr>\n",
       "      <th>3</th>\n",
       "      <td>3</td>\n",
       "      <td>10003</td>\n",
       "      <td>550.27</td>\n",
       "      <td>2018-08-22</td>\n",
       "      <td>1000</td>\n",
       "      <td>8</td>\n",
       "    </tr>\n",
       "    <tr>\n",
       "      <th>4</th>\n",
       "      <td>4</td>\n",
       "      <td>10004</td>\n",
       "      <td>302.56</td>\n",
       "      <td>2018-09-24</td>\n",
       "      <td>1000</td>\n",
       "      <td>9</td>\n",
       "    </tr>\n",
       "  </tbody>\n",
       "</table>\n",
       "</div>"
      ],
      "text/plain": [
       "   Unnamed: 0     id  mb_used session_date  user_id  month\n",
       "0           0  10000   112.95   2018-11-25     1000     11\n",
       "1           1  10001  1052.81   2018-09-07     1000      9\n",
       "2           2  10002  1197.26   2018-06-25     1000      6\n",
       "3           3  10003   550.27   2018-08-22     1000      8\n",
       "4           4  10004   302.56   2018-09-24     1000      9"
      ]
     },
     "execution_count": 45,
     "metadata": {},
     "output_type": "execute_result"
    }
   ],
   "source": [
    "internet.head()"
   ]
  },
  {
   "cell_type": "markdown",
   "metadata": {},
   "source": [
    "Посчитаем объем израсходованного интернет-трафика по месяцам"
   ]
  },
  {
   "cell_type": "code",
   "execution_count": 46,
   "metadata": {},
   "outputs": [],
   "source": [
    "internet_month = internet.groupby(['user_id', 'month'])\\\n",
    ".agg({'mb_used':'sum'}).reset_index().rename(columns={'mb_used':'month_internet'})"
   ]
  },
  {
   "cell_type": "code",
   "execution_count": 47,
   "metadata": {},
   "outputs": [
    {
     "data": {
      "text/html": [
       "<div>\n",
       "<style scoped>\n",
       "    .dataframe tbody tr th:only-of-type {\n",
       "        vertical-align: middle;\n",
       "    }\n",
       "\n",
       "    .dataframe tbody tr th {\n",
       "        vertical-align: top;\n",
       "    }\n",
       "\n",
       "    .dataframe thead th {\n",
       "        text-align: right;\n",
       "    }\n",
       "</style>\n",
       "<table border=\"1\" class=\"dataframe\">\n",
       "  <thead>\n",
       "    <tr style=\"text-align: right;\">\n",
       "      <th></th>\n",
       "      <th>user_id</th>\n",
       "      <th>month</th>\n",
       "      <th>month_internet</th>\n",
       "    </tr>\n",
       "  </thead>\n",
       "  <tbody>\n",
       "    <tr>\n",
       "      <th>0</th>\n",
       "      <td>1000</td>\n",
       "      <td>5</td>\n",
       "      <td>2253.49</td>\n",
       "    </tr>\n",
       "    <tr>\n",
       "      <th>1</th>\n",
       "      <td>1000</td>\n",
       "      <td>6</td>\n",
       "      <td>23233.77</td>\n",
       "    </tr>\n",
       "    <tr>\n",
       "      <th>2</th>\n",
       "      <td>1000</td>\n",
       "      <td>7</td>\n",
       "      <td>14003.64</td>\n",
       "    </tr>\n",
       "    <tr>\n",
       "      <th>3</th>\n",
       "      <td>1000</td>\n",
       "      <td>8</td>\n",
       "      <td>14055.93</td>\n",
       "    </tr>\n",
       "    <tr>\n",
       "      <th>4</th>\n",
       "      <td>1000</td>\n",
       "      <td>9</td>\n",
       "      <td>14568.91</td>\n",
       "    </tr>\n",
       "  </tbody>\n",
       "</table>\n",
       "</div>"
      ],
      "text/plain": [
       "   user_id  month  month_internet\n",
       "0     1000      5         2253.49\n",
       "1     1000      6        23233.77\n",
       "2     1000      7        14003.64\n",
       "3     1000      8        14055.93\n",
       "4     1000      9        14568.91"
      ]
     },
     "execution_count": 47,
     "metadata": {},
     "output_type": "execute_result"
    }
   ],
   "source": [
    "internet_month.head()"
   ]
  },
  {
   "cell_type": "markdown",
   "metadata": {},
   "source": [
    "### Помесячная выручка с каждого пользователя"
   ]
  },
  {
   "cell_type": "markdown",
   "metadata": {},
   "source": [
    "Посмотрим наши таблички:"
   ]
  },
  {
   "cell_type": "code",
   "execution_count": 48,
   "metadata": {},
   "outputs": [
    {
     "data": {
      "text/html": [
       "<div>\n",
       "<style scoped>\n",
       "    .dataframe tbody tr th:only-of-type {\n",
       "        vertical-align: middle;\n",
       "    }\n",
       "\n",
       "    .dataframe tbody tr th {\n",
       "        vertical-align: top;\n",
       "    }\n",
       "\n",
       "    .dataframe thead th {\n",
       "        text-align: right;\n",
       "    }\n",
       "</style>\n",
       "<table border=\"1\" class=\"dataframe\">\n",
       "  <thead>\n",
       "    <tr style=\"text-align: right;\">\n",
       "      <th></th>\n",
       "      <th>user_id</th>\n",
       "      <th>month</th>\n",
       "      <th>month_duration</th>\n",
       "      <th>month_calls</th>\n",
       "    </tr>\n",
       "  </thead>\n",
       "  <tbody>\n",
       "    <tr>\n",
       "      <th>0</th>\n",
       "      <td>1000</td>\n",
       "      <td>5</td>\n",
       "      <td>164</td>\n",
       "      <td>22</td>\n",
       "    </tr>\n",
       "    <tr>\n",
       "      <th>1</th>\n",
       "      <td>1000</td>\n",
       "      <td>6</td>\n",
       "      <td>187</td>\n",
       "      <td>43</td>\n",
       "    </tr>\n",
       "    <tr>\n",
       "      <th>2</th>\n",
       "      <td>1000</td>\n",
       "      <td>7</td>\n",
       "      <td>346</td>\n",
       "      <td>47</td>\n",
       "    </tr>\n",
       "    <tr>\n",
       "      <th>3</th>\n",
       "      <td>1000</td>\n",
       "      <td>8</td>\n",
       "      <td>418</td>\n",
       "      <td>52</td>\n",
       "    </tr>\n",
       "    <tr>\n",
       "      <th>4</th>\n",
       "      <td>1000</td>\n",
       "      <td>9</td>\n",
       "      <td>478</td>\n",
       "      <td>58</td>\n",
       "    </tr>\n",
       "  </tbody>\n",
       "</table>\n",
       "</div>"
      ],
      "text/plain": [
       "   user_id  month  month_duration  month_calls\n",
       "0     1000      5             164           22\n",
       "1     1000      6             187           43\n",
       "2     1000      7             346           47\n",
       "3     1000      8             418           52\n",
       "4     1000      9             478           58"
      ]
     },
     "execution_count": 48,
     "metadata": {},
     "output_type": "execute_result"
    }
   ],
   "source": [
    "calls_month.head()"
   ]
  },
  {
   "cell_type": "code",
   "execution_count": 49,
   "metadata": {},
   "outputs": [
    {
     "name": "stdout",
     "output_type": "stream",
     "text": [
      "<class 'pandas.core.frame.DataFrame'>\n",
      "RangeIndex: 3174 entries, 0 to 3173\n",
      "Data columns (total 4 columns):\n",
      " #   Column          Non-Null Count  Dtype\n",
      "---  ------          --------------  -----\n",
      " 0   user_id         3174 non-null   int64\n",
      " 1   month           3174 non-null   int64\n",
      " 2   month_duration  3174 non-null   int64\n",
      " 3   month_calls     3174 non-null   int64\n",
      "dtypes: int64(4)\n",
      "memory usage: 99.3 KB\n"
     ]
    }
   ],
   "source": [
    "calls_month.info()"
   ]
  },
  {
   "cell_type": "code",
   "execution_count": 50,
   "metadata": {},
   "outputs": [
    {
     "data": {
      "text/html": [
       "<div>\n",
       "<style scoped>\n",
       "    .dataframe tbody tr th:only-of-type {\n",
       "        vertical-align: middle;\n",
       "    }\n",
       "\n",
       "    .dataframe tbody tr th {\n",
       "        vertical-align: top;\n",
       "    }\n",
       "\n",
       "    .dataframe thead th {\n",
       "        text-align: right;\n",
       "    }\n",
       "</style>\n",
       "<table border=\"1\" class=\"dataframe\">\n",
       "  <thead>\n",
       "    <tr style=\"text-align: right;\">\n",
       "      <th></th>\n",
       "      <th>user_id</th>\n",
       "      <th>month</th>\n",
       "      <th>month_message</th>\n",
       "    </tr>\n",
       "  </thead>\n",
       "  <tbody>\n",
       "    <tr>\n",
       "      <th>0</th>\n",
       "      <td>1000</td>\n",
       "      <td>5</td>\n",
       "      <td>22</td>\n",
       "    </tr>\n",
       "    <tr>\n",
       "      <th>1</th>\n",
       "      <td>1000</td>\n",
       "      <td>6</td>\n",
       "      <td>60</td>\n",
       "    </tr>\n",
       "    <tr>\n",
       "      <th>2</th>\n",
       "      <td>1000</td>\n",
       "      <td>7</td>\n",
       "      <td>75</td>\n",
       "    </tr>\n",
       "    <tr>\n",
       "      <th>3</th>\n",
       "      <td>1000</td>\n",
       "      <td>8</td>\n",
       "      <td>81</td>\n",
       "    </tr>\n",
       "    <tr>\n",
       "      <th>4</th>\n",
       "      <td>1000</td>\n",
       "      <td>9</td>\n",
       "      <td>57</td>\n",
       "    </tr>\n",
       "  </tbody>\n",
       "</table>\n",
       "</div>"
      ],
      "text/plain": [
       "   user_id  month  month_message\n",
       "0     1000      5             22\n",
       "1     1000      6             60\n",
       "2     1000      7             75\n",
       "3     1000      8             81\n",
       "4     1000      9             57"
      ]
     },
     "execution_count": 50,
     "metadata": {},
     "output_type": "execute_result"
    }
   ],
   "source": [
    "messages_month.head()"
   ]
  },
  {
   "cell_type": "code",
   "execution_count": 51,
   "metadata": {},
   "outputs": [
    {
     "name": "stdout",
     "output_type": "stream",
     "text": [
      "<class 'pandas.core.frame.DataFrame'>\n",
      "RangeIndex: 2717 entries, 0 to 2716\n",
      "Data columns (total 3 columns):\n",
      " #   Column         Non-Null Count  Dtype\n",
      "---  ------         --------------  -----\n",
      " 0   user_id        2717 non-null   int64\n",
      " 1   month          2717 non-null   int64\n",
      " 2   month_message  2717 non-null   int64\n",
      "dtypes: int64(3)\n",
      "memory usage: 63.8 KB\n"
     ]
    }
   ],
   "source": [
    "messages_month.info()"
   ]
  },
  {
   "cell_type": "code",
   "execution_count": 52,
   "metadata": {},
   "outputs": [
    {
     "data": {
      "text/html": [
       "<div>\n",
       "<style scoped>\n",
       "    .dataframe tbody tr th:only-of-type {\n",
       "        vertical-align: middle;\n",
       "    }\n",
       "\n",
       "    .dataframe tbody tr th {\n",
       "        vertical-align: top;\n",
       "    }\n",
       "\n",
       "    .dataframe thead th {\n",
       "        text-align: right;\n",
       "    }\n",
       "</style>\n",
       "<table border=\"1\" class=\"dataframe\">\n",
       "  <thead>\n",
       "    <tr style=\"text-align: right;\">\n",
       "      <th></th>\n",
       "      <th>user_id</th>\n",
       "      <th>month</th>\n",
       "      <th>month_internet</th>\n",
       "    </tr>\n",
       "  </thead>\n",
       "  <tbody>\n",
       "    <tr>\n",
       "      <th>0</th>\n",
       "      <td>1000</td>\n",
       "      <td>5</td>\n",
       "      <td>2253.49</td>\n",
       "    </tr>\n",
       "    <tr>\n",
       "      <th>1</th>\n",
       "      <td>1000</td>\n",
       "      <td>6</td>\n",
       "      <td>23233.77</td>\n",
       "    </tr>\n",
       "    <tr>\n",
       "      <th>2</th>\n",
       "      <td>1000</td>\n",
       "      <td>7</td>\n",
       "      <td>14003.64</td>\n",
       "    </tr>\n",
       "    <tr>\n",
       "      <th>3</th>\n",
       "      <td>1000</td>\n",
       "      <td>8</td>\n",
       "      <td>14055.93</td>\n",
       "    </tr>\n",
       "    <tr>\n",
       "      <th>4</th>\n",
       "      <td>1000</td>\n",
       "      <td>9</td>\n",
       "      <td>14568.91</td>\n",
       "    </tr>\n",
       "  </tbody>\n",
       "</table>\n",
       "</div>"
      ],
      "text/plain": [
       "   user_id  month  month_internet\n",
       "0     1000      5         2253.49\n",
       "1     1000      6        23233.77\n",
       "2     1000      7        14003.64\n",
       "3     1000      8        14055.93\n",
       "4     1000      9        14568.91"
      ]
     },
     "execution_count": 52,
     "metadata": {},
     "output_type": "execute_result"
    }
   ],
   "source": [
    "internet_month.head()"
   ]
  },
  {
   "cell_type": "code",
   "execution_count": 53,
   "metadata": {},
   "outputs": [
    {
     "name": "stdout",
     "output_type": "stream",
     "text": [
      "<class 'pandas.core.frame.DataFrame'>\n",
      "RangeIndex: 3203 entries, 0 to 3202\n",
      "Data columns (total 3 columns):\n",
      " #   Column          Non-Null Count  Dtype  \n",
      "---  ------          --------------  -----  \n",
      " 0   user_id         3203 non-null   int64  \n",
      " 1   month           3203 non-null   int64  \n",
      " 2   month_internet  3203 non-null   float64\n",
      "dtypes: float64(1), int64(2)\n",
      "memory usage: 75.2 KB\n"
     ]
    }
   ],
   "source": [
    "internet_month.info()"
   ]
  },
  {
   "cell_type": "markdown",
   "metadata": {},
   "source": [
    "У всех табличек одинаковые столбцы user_id и month по которым нам необходимо \"склеить\" наши данные по столбцам:\n",
    "- month_duration - израсходованные минуты разговора в месяц\n",
    "- month_calls - количество сделанных звонков в месяц\n",
    "- month_message - количество отправленных сообщений в месяц\n",
    "- month_internet - объем израсходованного интернет-трафика в месяц"
   ]
  },
  {
   "cell_type": "markdown",
   "metadata": {},
   "source": [
    "Объединяем наши таблички в одну df:\n",
    " - Количество сделанных звонков и израсходованных минут разговора calls_month\n",
    " - Количество отправленных сообщений messages_month\n",
    " - Объем израсходованного интернет-трафика internet_month"
   ]
  },
  {
   "cell_type": "code",
   "execution_count": 54,
   "metadata": {},
   "outputs": [],
   "source": [
    "df = calls_month.merge(messages_month, on=['user_id','month'], how = 'outer')"
   ]
  },
  {
   "cell_type": "code",
   "execution_count": 55,
   "metadata": {},
   "outputs": [],
   "source": [
    "df = df.merge(internet_month, on=['user_id','month'], how='outer')"
   ]
  },
  {
   "cell_type": "code",
   "execution_count": 56,
   "metadata": {},
   "outputs": [
    {
     "data": {
      "text/html": [
       "<div>\n",
       "<style scoped>\n",
       "    .dataframe tbody tr th:only-of-type {\n",
       "        vertical-align: middle;\n",
       "    }\n",
       "\n",
       "    .dataframe tbody tr th {\n",
       "        vertical-align: top;\n",
       "    }\n",
       "\n",
       "    .dataframe thead th {\n",
       "        text-align: right;\n",
       "    }\n",
       "</style>\n",
       "<table border=\"1\" class=\"dataframe\">\n",
       "  <thead>\n",
       "    <tr style=\"text-align: right;\">\n",
       "      <th></th>\n",
       "      <th>user_id</th>\n",
       "      <th>month</th>\n",
       "      <th>month_duration</th>\n",
       "      <th>month_calls</th>\n",
       "      <th>month_message</th>\n",
       "      <th>month_internet</th>\n",
       "    </tr>\n",
       "  </thead>\n",
       "  <tbody>\n",
       "    <tr>\n",
       "      <th>0</th>\n",
       "      <td>1000</td>\n",
       "      <td>5</td>\n",
       "      <td>164.0</td>\n",
       "      <td>22.0</td>\n",
       "      <td>22.0</td>\n",
       "      <td>2253.49</td>\n",
       "    </tr>\n",
       "    <tr>\n",
       "      <th>1</th>\n",
       "      <td>1000</td>\n",
       "      <td>6</td>\n",
       "      <td>187.0</td>\n",
       "      <td>43.0</td>\n",
       "      <td>60.0</td>\n",
       "      <td>23233.77</td>\n",
       "    </tr>\n",
       "    <tr>\n",
       "      <th>2</th>\n",
       "      <td>1000</td>\n",
       "      <td>7</td>\n",
       "      <td>346.0</td>\n",
       "      <td>47.0</td>\n",
       "      <td>75.0</td>\n",
       "      <td>14003.64</td>\n",
       "    </tr>\n",
       "    <tr>\n",
       "      <th>3</th>\n",
       "      <td>1000</td>\n",
       "      <td>8</td>\n",
       "      <td>418.0</td>\n",
       "      <td>52.0</td>\n",
       "      <td>81.0</td>\n",
       "      <td>14055.93</td>\n",
       "    </tr>\n",
       "    <tr>\n",
       "      <th>4</th>\n",
       "      <td>1000</td>\n",
       "      <td>9</td>\n",
       "      <td>478.0</td>\n",
       "      <td>58.0</td>\n",
       "      <td>57.0</td>\n",
       "      <td>14568.91</td>\n",
       "    </tr>\n",
       "  </tbody>\n",
       "</table>\n",
       "</div>"
      ],
      "text/plain": [
       "   user_id  month  month_duration  month_calls  month_message  month_internet\n",
       "0     1000      5           164.0         22.0           22.0         2253.49\n",
       "1     1000      6           187.0         43.0           60.0        23233.77\n",
       "2     1000      7           346.0         47.0           75.0        14003.64\n",
       "3     1000      8           418.0         52.0           81.0        14055.93\n",
       "4     1000      9           478.0         58.0           57.0        14568.91"
      ]
     },
     "execution_count": 56,
     "metadata": {},
     "output_type": "execute_result"
    }
   ],
   "source": [
    "df.head()"
   ]
  },
  {
   "cell_type": "markdown",
   "metadata": {},
   "source": [
    "Добавим пользователей в таблицу из таблицы users (информация о пользователях):\n",
    "\n",
    "- user_id — уникальный идентификатор пользователя\n",
    "- first_name — имя пользователя\n",
    "- ast_name — фамилия пользователя\n",
    "- reg_date — дата подключения тарифа (день, месяц, год)\n",
    "- churn_date — дата прекращения пользования тарифом (если значение пропущено, то тариф ещё действовал на момент выгрузки данных)\n",
    "- city — город проживания пользователя\n",
    "- tarif — название тарифного плана"
   ]
  },
  {
   "cell_type": "code",
   "execution_count": 57,
   "metadata": {},
   "outputs": [
    {
     "data": {
      "text/html": [
       "<div>\n",
       "<style scoped>\n",
       "    .dataframe tbody tr th:only-of-type {\n",
       "        vertical-align: middle;\n",
       "    }\n",
       "\n",
       "    .dataframe tbody tr th {\n",
       "        vertical-align: top;\n",
       "    }\n",
       "\n",
       "    .dataframe thead th {\n",
       "        text-align: right;\n",
       "    }\n",
       "</style>\n",
       "<table border=\"1\" class=\"dataframe\">\n",
       "  <thead>\n",
       "    <tr style=\"text-align: right;\">\n",
       "      <th></th>\n",
       "      <th>user_id</th>\n",
       "      <th>age</th>\n",
       "      <th>churn_date</th>\n",
       "      <th>city</th>\n",
       "      <th>first_name</th>\n",
       "      <th>last_name</th>\n",
       "      <th>reg_date</th>\n",
       "      <th>tariff</th>\n",
       "    </tr>\n",
       "  </thead>\n",
       "  <tbody>\n",
       "    <tr>\n",
       "      <th>0</th>\n",
       "      <td>1000</td>\n",
       "      <td>52</td>\n",
       "      <td>NaT</td>\n",
       "      <td>Краснодар</td>\n",
       "      <td>Рафаил</td>\n",
       "      <td>Верещагин</td>\n",
       "      <td>2018-05-25</td>\n",
       "      <td>ultra</td>\n",
       "    </tr>\n",
       "    <tr>\n",
       "      <th>1</th>\n",
       "      <td>1001</td>\n",
       "      <td>41</td>\n",
       "      <td>NaT</td>\n",
       "      <td>Москва</td>\n",
       "      <td>Иван</td>\n",
       "      <td>Ежов</td>\n",
       "      <td>2018-11-01</td>\n",
       "      <td>smart</td>\n",
       "    </tr>\n",
       "    <tr>\n",
       "      <th>2</th>\n",
       "      <td>1002</td>\n",
       "      <td>59</td>\n",
       "      <td>NaT</td>\n",
       "      <td>Стерлитамак</td>\n",
       "      <td>Евгений</td>\n",
       "      <td>Абрамович</td>\n",
       "      <td>2018-06-17</td>\n",
       "      <td>smart</td>\n",
       "    </tr>\n",
       "    <tr>\n",
       "      <th>3</th>\n",
       "      <td>1003</td>\n",
       "      <td>23</td>\n",
       "      <td>NaT</td>\n",
       "      <td>Москва</td>\n",
       "      <td>Белла</td>\n",
       "      <td>Белякова</td>\n",
       "      <td>2018-08-17</td>\n",
       "      <td>ultra</td>\n",
       "    </tr>\n",
       "    <tr>\n",
       "      <th>4</th>\n",
       "      <td>1004</td>\n",
       "      <td>68</td>\n",
       "      <td>NaT</td>\n",
       "      <td>Новокузнецк</td>\n",
       "      <td>Татьяна</td>\n",
       "      <td>Авдеенко</td>\n",
       "      <td>2018-05-14</td>\n",
       "      <td>ultra</td>\n",
       "    </tr>\n",
       "  </tbody>\n",
       "</table>\n",
       "</div>"
      ],
      "text/plain": [
       "   user_id  age churn_date         city first_name  last_name   reg_date  \\\n",
       "0     1000   52        NaT    Краснодар     Рафаил  Верещагин 2018-05-25   \n",
       "1     1001   41        NaT       Москва       Иван       Ежов 2018-11-01   \n",
       "2     1002   59        NaT  Стерлитамак    Евгений  Абрамович 2018-06-17   \n",
       "3     1003   23        NaT       Москва      Белла   Белякова 2018-08-17   \n",
       "4     1004   68        NaT  Новокузнецк    Татьяна   Авдеенко 2018-05-14   \n",
       "\n",
       "  tariff  \n",
       "0  ultra  \n",
       "1  smart  \n",
       "2  smart  \n",
       "3  ultra  \n",
       "4  ultra  "
      ]
     },
     "execution_count": 57,
     "metadata": {},
     "output_type": "execute_result"
    }
   ],
   "source": [
    "users.head()"
   ]
  },
  {
   "cell_type": "code",
   "execution_count": 58,
   "metadata": {},
   "outputs": [],
   "source": [
    "df = df.merge(users, on='user_id', how='left')"
   ]
  },
  {
   "cell_type": "code",
   "execution_count": 59,
   "metadata": {},
   "outputs": [
    {
     "data": {
      "text/html": [
       "<div>\n",
       "<style scoped>\n",
       "    .dataframe tbody tr th:only-of-type {\n",
       "        vertical-align: middle;\n",
       "    }\n",
       "\n",
       "    .dataframe tbody tr th {\n",
       "        vertical-align: top;\n",
       "    }\n",
       "\n",
       "    .dataframe thead th {\n",
       "        text-align: right;\n",
       "    }\n",
       "</style>\n",
       "<table border=\"1\" class=\"dataframe\">\n",
       "  <thead>\n",
       "    <tr style=\"text-align: right;\">\n",
       "      <th></th>\n",
       "      <th>user_id</th>\n",
       "      <th>month</th>\n",
       "      <th>month_duration</th>\n",
       "      <th>month_calls</th>\n",
       "      <th>month_message</th>\n",
       "      <th>month_internet</th>\n",
       "      <th>age</th>\n",
       "      <th>churn_date</th>\n",
       "      <th>city</th>\n",
       "      <th>first_name</th>\n",
       "      <th>last_name</th>\n",
       "      <th>reg_date</th>\n",
       "      <th>tariff</th>\n",
       "    </tr>\n",
       "  </thead>\n",
       "  <tbody>\n",
       "    <tr>\n",
       "      <th>0</th>\n",
       "      <td>1000</td>\n",
       "      <td>5</td>\n",
       "      <td>164.0</td>\n",
       "      <td>22.0</td>\n",
       "      <td>22.0</td>\n",
       "      <td>2253.49</td>\n",
       "      <td>52</td>\n",
       "      <td>NaT</td>\n",
       "      <td>Краснодар</td>\n",
       "      <td>Рафаил</td>\n",
       "      <td>Верещагин</td>\n",
       "      <td>2018-05-25</td>\n",
       "      <td>ultra</td>\n",
       "    </tr>\n",
       "    <tr>\n",
       "      <th>1</th>\n",
       "      <td>1000</td>\n",
       "      <td>6</td>\n",
       "      <td>187.0</td>\n",
       "      <td>43.0</td>\n",
       "      <td>60.0</td>\n",
       "      <td>23233.77</td>\n",
       "      <td>52</td>\n",
       "      <td>NaT</td>\n",
       "      <td>Краснодар</td>\n",
       "      <td>Рафаил</td>\n",
       "      <td>Верещагин</td>\n",
       "      <td>2018-05-25</td>\n",
       "      <td>ultra</td>\n",
       "    </tr>\n",
       "    <tr>\n",
       "      <th>2</th>\n",
       "      <td>1000</td>\n",
       "      <td>7</td>\n",
       "      <td>346.0</td>\n",
       "      <td>47.0</td>\n",
       "      <td>75.0</td>\n",
       "      <td>14003.64</td>\n",
       "      <td>52</td>\n",
       "      <td>NaT</td>\n",
       "      <td>Краснодар</td>\n",
       "      <td>Рафаил</td>\n",
       "      <td>Верещагин</td>\n",
       "      <td>2018-05-25</td>\n",
       "      <td>ultra</td>\n",
       "    </tr>\n",
       "    <tr>\n",
       "      <th>3</th>\n",
       "      <td>1000</td>\n",
       "      <td>8</td>\n",
       "      <td>418.0</td>\n",
       "      <td>52.0</td>\n",
       "      <td>81.0</td>\n",
       "      <td>14055.93</td>\n",
       "      <td>52</td>\n",
       "      <td>NaT</td>\n",
       "      <td>Краснодар</td>\n",
       "      <td>Рафаил</td>\n",
       "      <td>Верещагин</td>\n",
       "      <td>2018-05-25</td>\n",
       "      <td>ultra</td>\n",
       "    </tr>\n",
       "    <tr>\n",
       "      <th>4</th>\n",
       "      <td>1000</td>\n",
       "      <td>9</td>\n",
       "      <td>478.0</td>\n",
       "      <td>58.0</td>\n",
       "      <td>57.0</td>\n",
       "      <td>14568.91</td>\n",
       "      <td>52</td>\n",
       "      <td>NaT</td>\n",
       "      <td>Краснодар</td>\n",
       "      <td>Рафаил</td>\n",
       "      <td>Верещагин</td>\n",
       "      <td>2018-05-25</td>\n",
       "      <td>ultra</td>\n",
       "    </tr>\n",
       "  </tbody>\n",
       "</table>\n",
       "</div>"
      ],
      "text/plain": [
       "   user_id  month  month_duration  month_calls  month_message  month_internet  \\\n",
       "0     1000      5           164.0         22.0           22.0         2253.49   \n",
       "1     1000      6           187.0         43.0           60.0        23233.77   \n",
       "2     1000      7           346.0         47.0           75.0        14003.64   \n",
       "3     1000      8           418.0         52.0           81.0        14055.93   \n",
       "4     1000      9           478.0         58.0           57.0        14568.91   \n",
       "\n",
       "   age churn_date       city first_name  last_name   reg_date tariff  \n",
       "0   52        NaT  Краснодар     Рафаил  Верещагин 2018-05-25  ultra  \n",
       "1   52        NaT  Краснодар     Рафаил  Верещагин 2018-05-25  ultra  \n",
       "2   52        NaT  Краснодар     Рафаил  Верещагин 2018-05-25  ultra  \n",
       "3   52        NaT  Краснодар     Рафаил  Верещагин 2018-05-25  ultra  \n",
       "4   52        NaT  Краснодар     Рафаил  Верещагин 2018-05-25  ultra  "
      ]
     },
     "execution_count": 59,
     "metadata": {},
     "output_type": "execute_result"
    }
   ],
   "source": [
    "df.head()"
   ]
  },
  {
   "cell_type": "markdown",
   "metadata": {},
   "source": [
    "Добавим  тариф из таблицы tariffs (информация о тарифах):\n",
    "\n",
    "- tariff_name — название тарифа\n",
    "- rub_monthly_fee — ежемесячная абонентская плата в рублях\n",
    "- minutes_included — количество минут разговора в месяц, включённых в абонентскую плату\n",
    "- messages_included — количество сообщений в месяц, включённых в абонентскую плату\n",
    "- mb_per_month_included — объём интернет-трафика, включённого в абонентскую плату (в мегабайтах)\n",
    "- rub_per_minute — стоимость минуты разговора сверх тарифного пакета (например, если в тарифе 100 минут разговора в месяц, то со 101 минуты будет взиматься плата)\n",
    "- rub_per_message — стоимость отправки сообщения сверх тарифного пакета\n",
    "- rub_per_gb — стоимость дополнительного гигабайта интернет-трафика сверх тарифного пакета (1 гигабайт = 1024 мегабайта)"
   ]
  },
  {
   "cell_type": "code",
   "execution_count": 60,
   "metadata": {},
   "outputs": [
    {
     "data": {
      "text/html": [
       "<div>\n",
       "<style scoped>\n",
       "    .dataframe tbody tr th:only-of-type {\n",
       "        vertical-align: middle;\n",
       "    }\n",
       "\n",
       "    .dataframe tbody tr th {\n",
       "        vertical-align: top;\n",
       "    }\n",
       "\n",
       "    .dataframe thead th {\n",
       "        text-align: right;\n",
       "    }\n",
       "</style>\n",
       "<table border=\"1\" class=\"dataframe\">\n",
       "  <thead>\n",
       "    <tr style=\"text-align: right;\">\n",
       "      <th></th>\n",
       "      <th>messages_included</th>\n",
       "      <th>mb_per_month_included</th>\n",
       "      <th>minutes_included</th>\n",
       "      <th>rub_monthly_fee</th>\n",
       "      <th>rub_per_gb</th>\n",
       "      <th>rub_per_message</th>\n",
       "      <th>rub_per_minute</th>\n",
       "      <th>tariff</th>\n",
       "    </tr>\n",
       "  </thead>\n",
       "  <tbody>\n",
       "    <tr>\n",
       "      <th>0</th>\n",
       "      <td>50</td>\n",
       "      <td>15360</td>\n",
       "      <td>500</td>\n",
       "      <td>550</td>\n",
       "      <td>200</td>\n",
       "      <td>3</td>\n",
       "      <td>3</td>\n",
       "      <td>smart</td>\n",
       "    </tr>\n",
       "    <tr>\n",
       "      <th>1</th>\n",
       "      <td>1000</td>\n",
       "      <td>30720</td>\n",
       "      <td>3000</td>\n",
       "      <td>1950</td>\n",
       "      <td>150</td>\n",
       "      <td>1</td>\n",
       "      <td>1</td>\n",
       "      <td>ultra</td>\n",
       "    </tr>\n",
       "  </tbody>\n",
       "</table>\n",
       "</div>"
      ],
      "text/plain": [
       "   messages_included  mb_per_month_included  minutes_included  \\\n",
       "0                 50                  15360               500   \n",
       "1               1000                  30720              3000   \n",
       "\n",
       "   rub_monthly_fee  rub_per_gb  rub_per_message  rub_per_minute tariff  \n",
       "0              550         200                3               3  smart  \n",
       "1             1950         150                1               1  ultra  "
      ]
     },
     "execution_count": 60,
     "metadata": {},
     "output_type": "execute_result"
    }
   ],
   "source": [
    "tariffs.head()"
   ]
  },
  {
   "cell_type": "code",
   "execution_count": 61,
   "metadata": {},
   "outputs": [],
   "source": [
    "df = df.merge(tariffs, on='tariff', how='left')"
   ]
  },
  {
   "cell_type": "code",
   "execution_count": 62,
   "metadata": {},
   "outputs": [
    {
     "data": {
      "text/html": [
       "<div>\n",
       "<style scoped>\n",
       "    .dataframe tbody tr th:only-of-type {\n",
       "        vertical-align: middle;\n",
       "    }\n",
       "\n",
       "    .dataframe tbody tr th {\n",
       "        vertical-align: top;\n",
       "    }\n",
       "\n",
       "    .dataframe thead th {\n",
       "        text-align: right;\n",
       "    }\n",
       "</style>\n",
       "<table border=\"1\" class=\"dataframe\">\n",
       "  <thead>\n",
       "    <tr style=\"text-align: right;\">\n",
       "      <th></th>\n",
       "      <th>user_id</th>\n",
       "      <th>month</th>\n",
       "      <th>month_duration</th>\n",
       "      <th>month_calls</th>\n",
       "      <th>month_message</th>\n",
       "      <th>month_internet</th>\n",
       "      <th>age</th>\n",
       "      <th>churn_date</th>\n",
       "      <th>city</th>\n",
       "      <th>first_name</th>\n",
       "      <th>last_name</th>\n",
       "      <th>reg_date</th>\n",
       "      <th>tariff</th>\n",
       "      <th>messages_included</th>\n",
       "      <th>mb_per_month_included</th>\n",
       "      <th>minutes_included</th>\n",
       "      <th>rub_monthly_fee</th>\n",
       "      <th>rub_per_gb</th>\n",
       "      <th>rub_per_message</th>\n",
       "      <th>rub_per_minute</th>\n",
       "    </tr>\n",
       "  </thead>\n",
       "  <tbody>\n",
       "    <tr>\n",
       "      <th>0</th>\n",
       "      <td>1000</td>\n",
       "      <td>5</td>\n",
       "      <td>164.0</td>\n",
       "      <td>22.0</td>\n",
       "      <td>22.0</td>\n",
       "      <td>2253.49</td>\n",
       "      <td>52</td>\n",
       "      <td>NaT</td>\n",
       "      <td>Краснодар</td>\n",
       "      <td>Рафаил</td>\n",
       "      <td>Верещагин</td>\n",
       "      <td>2018-05-25</td>\n",
       "      <td>ultra</td>\n",
       "      <td>1000</td>\n",
       "      <td>30720</td>\n",
       "      <td>3000</td>\n",
       "      <td>1950</td>\n",
       "      <td>150</td>\n",
       "      <td>1</td>\n",
       "      <td>1</td>\n",
       "    </tr>\n",
       "    <tr>\n",
       "      <th>1</th>\n",
       "      <td>1000</td>\n",
       "      <td>6</td>\n",
       "      <td>187.0</td>\n",
       "      <td>43.0</td>\n",
       "      <td>60.0</td>\n",
       "      <td>23233.77</td>\n",
       "      <td>52</td>\n",
       "      <td>NaT</td>\n",
       "      <td>Краснодар</td>\n",
       "      <td>Рафаил</td>\n",
       "      <td>Верещагин</td>\n",
       "      <td>2018-05-25</td>\n",
       "      <td>ultra</td>\n",
       "      <td>1000</td>\n",
       "      <td>30720</td>\n",
       "      <td>3000</td>\n",
       "      <td>1950</td>\n",
       "      <td>150</td>\n",
       "      <td>1</td>\n",
       "      <td>1</td>\n",
       "    </tr>\n",
       "    <tr>\n",
       "      <th>2</th>\n",
       "      <td>1000</td>\n",
       "      <td>7</td>\n",
       "      <td>346.0</td>\n",
       "      <td>47.0</td>\n",
       "      <td>75.0</td>\n",
       "      <td>14003.64</td>\n",
       "      <td>52</td>\n",
       "      <td>NaT</td>\n",
       "      <td>Краснодар</td>\n",
       "      <td>Рафаил</td>\n",
       "      <td>Верещагин</td>\n",
       "      <td>2018-05-25</td>\n",
       "      <td>ultra</td>\n",
       "      <td>1000</td>\n",
       "      <td>30720</td>\n",
       "      <td>3000</td>\n",
       "      <td>1950</td>\n",
       "      <td>150</td>\n",
       "      <td>1</td>\n",
       "      <td>1</td>\n",
       "    </tr>\n",
       "    <tr>\n",
       "      <th>3</th>\n",
       "      <td>1000</td>\n",
       "      <td>8</td>\n",
       "      <td>418.0</td>\n",
       "      <td>52.0</td>\n",
       "      <td>81.0</td>\n",
       "      <td>14055.93</td>\n",
       "      <td>52</td>\n",
       "      <td>NaT</td>\n",
       "      <td>Краснодар</td>\n",
       "      <td>Рафаил</td>\n",
       "      <td>Верещагин</td>\n",
       "      <td>2018-05-25</td>\n",
       "      <td>ultra</td>\n",
       "      <td>1000</td>\n",
       "      <td>30720</td>\n",
       "      <td>3000</td>\n",
       "      <td>1950</td>\n",
       "      <td>150</td>\n",
       "      <td>1</td>\n",
       "      <td>1</td>\n",
       "    </tr>\n",
       "    <tr>\n",
       "      <th>4</th>\n",
       "      <td>1000</td>\n",
       "      <td>9</td>\n",
       "      <td>478.0</td>\n",
       "      <td>58.0</td>\n",
       "      <td>57.0</td>\n",
       "      <td>14568.91</td>\n",
       "      <td>52</td>\n",
       "      <td>NaT</td>\n",
       "      <td>Краснодар</td>\n",
       "      <td>Рафаил</td>\n",
       "      <td>Верещагин</td>\n",
       "      <td>2018-05-25</td>\n",
       "      <td>ultra</td>\n",
       "      <td>1000</td>\n",
       "      <td>30720</td>\n",
       "      <td>3000</td>\n",
       "      <td>1950</td>\n",
       "      <td>150</td>\n",
       "      <td>1</td>\n",
       "      <td>1</td>\n",
       "    </tr>\n",
       "  </tbody>\n",
       "</table>\n",
       "</div>"
      ],
      "text/plain": [
       "   user_id  month  month_duration  month_calls  month_message  month_internet  \\\n",
       "0     1000      5           164.0         22.0           22.0         2253.49   \n",
       "1     1000      6           187.0         43.0           60.0        23233.77   \n",
       "2     1000      7           346.0         47.0           75.0        14003.64   \n",
       "3     1000      8           418.0         52.0           81.0        14055.93   \n",
       "4     1000      9           478.0         58.0           57.0        14568.91   \n",
       "\n",
       "   age churn_date       city first_name  last_name   reg_date tariff  \\\n",
       "0   52        NaT  Краснодар     Рафаил  Верещагин 2018-05-25  ultra   \n",
       "1   52        NaT  Краснодар     Рафаил  Верещагин 2018-05-25  ultra   \n",
       "2   52        NaT  Краснодар     Рафаил  Верещагин 2018-05-25  ultra   \n",
       "3   52        NaT  Краснодар     Рафаил  Верещагин 2018-05-25  ultra   \n",
       "4   52        NaT  Краснодар     Рафаил  Верещагин 2018-05-25  ultra   \n",
       "\n",
       "   messages_included  mb_per_month_included  minutes_included  \\\n",
       "0               1000                  30720              3000   \n",
       "1               1000                  30720              3000   \n",
       "2               1000                  30720              3000   \n",
       "3               1000                  30720              3000   \n",
       "4               1000                  30720              3000   \n",
       "\n",
       "   rub_monthly_fee  rub_per_gb  rub_per_message  rub_per_minute  \n",
       "0             1950         150                1               1  \n",
       "1             1950         150                1               1  \n",
       "2             1950         150                1               1  \n",
       "3             1950         150                1               1  \n",
       "4             1950         150                1               1  "
      ]
     },
     "execution_count": 62,
     "metadata": {},
     "output_type": "execute_result"
    }
   ],
   "source": [
    "df.head()"
   ]
  },
  {
   "cell_type": "code",
   "execution_count": 63,
   "metadata": {},
   "outputs": [
    {
     "data": {
      "text/html": [
       "<div>\n",
       "<style scoped>\n",
       "    .dataframe tbody tr th:only-of-type {\n",
       "        vertical-align: middle;\n",
       "    }\n",
       "\n",
       "    .dataframe tbody tr th {\n",
       "        vertical-align: top;\n",
       "    }\n",
       "\n",
       "    .dataframe thead th {\n",
       "        text-align: right;\n",
       "    }\n",
       "</style>\n",
       "<table border=\"1\" class=\"dataframe\">\n",
       "  <thead>\n",
       "    <tr style=\"text-align: right;\">\n",
       "      <th></th>\n",
       "      <th>user_id</th>\n",
       "      <th>month</th>\n",
       "      <th>month_duration</th>\n",
       "      <th>month_calls</th>\n",
       "      <th>month_message</th>\n",
       "      <th>month_internet</th>\n",
       "      <th>age</th>\n",
       "      <th>churn_date</th>\n",
       "      <th>city</th>\n",
       "      <th>first_name</th>\n",
       "      <th>last_name</th>\n",
       "      <th>reg_date</th>\n",
       "      <th>tariff</th>\n",
       "      <th>messages_included</th>\n",
       "      <th>mb_per_month_included</th>\n",
       "      <th>minutes_included</th>\n",
       "      <th>rub_monthly_fee</th>\n",
       "      <th>rub_per_gb</th>\n",
       "      <th>rub_per_message</th>\n",
       "      <th>rub_per_minute</th>\n",
       "    </tr>\n",
       "  </thead>\n",
       "  <tbody>\n",
       "    <tr>\n",
       "      <th>3209</th>\n",
       "      <td>1489</td>\n",
       "      <td>9</td>\n",
       "      <td>NaN</td>\n",
       "      <td>NaN</td>\n",
       "      <td>32.0</td>\n",
       "      <td>17206.30</td>\n",
       "      <td>35</td>\n",
       "      <td>NaT</td>\n",
       "      <td>Санкт-Петербург</td>\n",
       "      <td>Павел</td>\n",
       "      <td>Гончаров</td>\n",
       "      <td>2018-08-15</td>\n",
       "      <td>smart</td>\n",
       "      <td>50</td>\n",
       "      <td>15360</td>\n",
       "      <td>500</td>\n",
       "      <td>550</td>\n",
       "      <td>200</td>\n",
       "      <td>3</td>\n",
       "      <td>3</td>\n",
       "    </tr>\n",
       "    <tr>\n",
       "      <th>3210</th>\n",
       "      <td>1489</td>\n",
       "      <td>10</td>\n",
       "      <td>NaN</td>\n",
       "      <td>NaN</td>\n",
       "      <td>21.0</td>\n",
       "      <td>19559.44</td>\n",
       "      <td>35</td>\n",
       "      <td>NaT</td>\n",
       "      <td>Санкт-Петербург</td>\n",
       "      <td>Павел</td>\n",
       "      <td>Гончаров</td>\n",
       "      <td>2018-08-15</td>\n",
       "      <td>smart</td>\n",
       "      <td>50</td>\n",
       "      <td>15360</td>\n",
       "      <td>500</td>\n",
       "      <td>550</td>\n",
       "      <td>200</td>\n",
       "      <td>3</td>\n",
       "      <td>3</td>\n",
       "    </tr>\n",
       "    <tr>\n",
       "      <th>3211</th>\n",
       "      <td>1489</td>\n",
       "      <td>11</td>\n",
       "      <td>NaN</td>\n",
       "      <td>NaN</td>\n",
       "      <td>20.0</td>\n",
       "      <td>17491.56</td>\n",
       "      <td>35</td>\n",
       "      <td>NaT</td>\n",
       "      <td>Санкт-Петербург</td>\n",
       "      <td>Павел</td>\n",
       "      <td>Гончаров</td>\n",
       "      <td>2018-08-15</td>\n",
       "      <td>smart</td>\n",
       "      <td>50</td>\n",
       "      <td>15360</td>\n",
       "      <td>500</td>\n",
       "      <td>550</td>\n",
       "      <td>200</td>\n",
       "      <td>3</td>\n",
       "      <td>3</td>\n",
       "    </tr>\n",
       "    <tr>\n",
       "      <th>3212</th>\n",
       "      <td>1489</td>\n",
       "      <td>12</td>\n",
       "      <td>NaN</td>\n",
       "      <td>NaN</td>\n",
       "      <td>35.0</td>\n",
       "      <td>17322.51</td>\n",
       "      <td>35</td>\n",
       "      <td>NaT</td>\n",
       "      <td>Санкт-Петербург</td>\n",
       "      <td>Павел</td>\n",
       "      <td>Гончаров</td>\n",
       "      <td>2018-08-15</td>\n",
       "      <td>smart</td>\n",
       "      <td>50</td>\n",
       "      <td>15360</td>\n",
       "      <td>500</td>\n",
       "      <td>550</td>\n",
       "      <td>200</td>\n",
       "      <td>3</td>\n",
       "      <td>3</td>\n",
       "    </tr>\n",
       "    <tr>\n",
       "      <th>3213</th>\n",
       "      <td>1476</td>\n",
       "      <td>4</td>\n",
       "      <td>NaN</td>\n",
       "      <td>NaN</td>\n",
       "      <td>NaN</td>\n",
       "      <td>530.78</td>\n",
       "      <td>50</td>\n",
       "      <td>NaT</td>\n",
       "      <td>Москва</td>\n",
       "      <td>Валентина</td>\n",
       "      <td>Семенова</td>\n",
       "      <td>2018-04-30</td>\n",
       "      <td>ultra</td>\n",
       "      <td>1000</td>\n",
       "      <td>30720</td>\n",
       "      <td>3000</td>\n",
       "      <td>1950</td>\n",
       "      <td>150</td>\n",
       "      <td>1</td>\n",
       "      <td>1</td>\n",
       "    </tr>\n",
       "  </tbody>\n",
       "</table>\n",
       "</div>"
      ],
      "text/plain": [
       "      user_id  month  month_duration  month_calls  month_message  \\\n",
       "3209     1489      9             NaN          NaN           32.0   \n",
       "3210     1489     10             NaN          NaN           21.0   \n",
       "3211     1489     11             NaN          NaN           20.0   \n",
       "3212     1489     12             NaN          NaN           35.0   \n",
       "3213     1476      4             NaN          NaN            NaN   \n",
       "\n",
       "      month_internet  age churn_date             city first_name last_name  \\\n",
       "3209        17206.30   35        NaT  Санкт-Петербург      Павел  Гончаров   \n",
       "3210        19559.44   35        NaT  Санкт-Петербург      Павел  Гончаров   \n",
       "3211        17491.56   35        NaT  Санкт-Петербург      Павел  Гончаров   \n",
       "3212        17322.51   35        NaT  Санкт-Петербург      Павел  Гончаров   \n",
       "3213          530.78   50        NaT           Москва  Валентина  Семенова   \n",
       "\n",
       "       reg_date tariff  messages_included  mb_per_month_included  \\\n",
       "3209 2018-08-15  smart                 50                  15360   \n",
       "3210 2018-08-15  smart                 50                  15360   \n",
       "3211 2018-08-15  smart                 50                  15360   \n",
       "3212 2018-08-15  smart                 50                  15360   \n",
       "3213 2018-04-30  ultra               1000                  30720   \n",
       "\n",
       "      minutes_included  rub_monthly_fee  rub_per_gb  rub_per_message  \\\n",
       "3209               500              550         200                3   \n",
       "3210               500              550         200                3   \n",
       "3211               500              550         200                3   \n",
       "3212               500              550         200                3   \n",
       "3213              3000             1950         150                1   \n",
       "\n",
       "      rub_per_minute  \n",
       "3209               3  \n",
       "3210               3  \n",
       "3211               3  \n",
       "3212               3  \n",
       "3213               1  "
      ]
     },
     "execution_count": 63,
     "metadata": {},
     "output_type": "execute_result"
    }
   ],
   "source": [
    "df.tail() "
   ]
  },
  {
   "cell_type": "code",
   "execution_count": 64,
   "metadata": {},
   "outputs": [
    {
     "name": "stdout",
     "output_type": "stream",
     "text": [
      "<class 'pandas.core.frame.DataFrame'>\n",
      "Int64Index: 3214 entries, 0 to 3213\n",
      "Data columns (total 20 columns):\n",
      " #   Column                 Non-Null Count  Dtype         \n",
      "---  ------                 --------------  -----         \n",
      " 0   user_id                3214 non-null   int64         \n",
      " 1   month                  3214 non-null   int64         \n",
      " 2   month_duration         3174 non-null   float64       \n",
      " 3   month_calls            3174 non-null   float64       \n",
      " 4   month_message          2717 non-null   float64       \n",
      " 5   month_internet         3203 non-null   float64       \n",
      " 6   age                    3214 non-null   int64         \n",
      " 7   churn_date             187 non-null    datetime64[ns]\n",
      " 8   city                   3214 non-null   object        \n",
      " 9   first_name             3214 non-null   object        \n",
      " 10  last_name              3214 non-null   object        \n",
      " 11  reg_date               3214 non-null   datetime64[ns]\n",
      " 12  tariff                 3214 non-null   object        \n",
      " 13  messages_included      3214 non-null   int64         \n",
      " 14  mb_per_month_included  3214 non-null   int64         \n",
      " 15  minutes_included       3214 non-null   int64         \n",
      " 16  rub_monthly_fee        3214 non-null   int64         \n",
      " 17  rub_per_gb             3214 non-null   int64         \n",
      " 18  rub_per_message        3214 non-null   int64         \n",
      " 19  rub_per_minute         3214 non-null   int64         \n",
      "dtypes: datetime64[ns](2), float64(4), int64(10), object(4)\n",
      "memory usage: 527.3+ KB\n"
     ]
    }
   ],
   "source": [
    "df.info()"
   ]
  },
  {
   "cell_type": "code",
   "execution_count": 65,
   "metadata": {},
   "outputs": [
    {
     "data": {
      "text/html": [
       "<div>\n",
       "<style scoped>\n",
       "    .dataframe tbody tr th:only-of-type {\n",
       "        vertical-align: middle;\n",
       "    }\n",
       "\n",
       "    .dataframe tbody tr th {\n",
       "        vertical-align: top;\n",
       "    }\n",
       "\n",
       "    .dataframe thead th {\n",
       "        text-align: right;\n",
       "    }\n",
       "</style>\n",
       "<table border=\"1\" class=\"dataframe\">\n",
       "  <thead>\n",
       "    <tr style=\"text-align: right;\">\n",
       "      <th></th>\n",
       "      <th>user_id</th>\n",
       "      <th>month</th>\n",
       "      <th>month_duration</th>\n",
       "      <th>month_calls</th>\n",
       "      <th>month_message</th>\n",
       "      <th>month_internet</th>\n",
       "      <th>age</th>\n",
       "      <th>churn_date</th>\n",
       "      <th>city</th>\n",
       "      <th>first_name</th>\n",
       "      <th>last_name</th>\n",
       "      <th>reg_date</th>\n",
       "      <th>tariff</th>\n",
       "      <th>messages_included</th>\n",
       "      <th>mb_per_month_included</th>\n",
       "      <th>minutes_included</th>\n",
       "      <th>rub_monthly_fee</th>\n",
       "      <th>rub_per_gb</th>\n",
       "      <th>rub_per_message</th>\n",
       "      <th>rub_per_minute</th>\n",
       "    </tr>\n",
       "  </thead>\n",
       "  <tbody>\n",
       "    <tr>\n",
       "      <th>1055</th>\n",
       "      <td>1169</td>\n",
       "      <td>11</td>\n",
       "      <td>425.0</td>\n",
       "      <td>58.0</td>\n",
       "      <td>15.0</td>\n",
       "      <td>19335.88</td>\n",
       "      <td>52</td>\n",
       "      <td>NaT</td>\n",
       "      <td>Сочи</td>\n",
       "      <td>Георгина</td>\n",
       "      <td>Карташова</td>\n",
       "      <td>2018-06-25</td>\n",
       "      <td>smart</td>\n",
       "      <td>50</td>\n",
       "      <td>15360</td>\n",
       "      <td>500</td>\n",
       "      <td>550</td>\n",
       "      <td>200</td>\n",
       "      <td>3</td>\n",
       "      <td>3</td>\n",
       "    </tr>\n",
       "  </tbody>\n",
       "</table>\n",
       "</div>"
      ],
      "text/plain": [
       "      user_id  month  month_duration  month_calls  month_message  \\\n",
       "1055     1169     11           425.0         58.0           15.0   \n",
       "\n",
       "      month_internet  age churn_date  city first_name  last_name   reg_date  \\\n",
       "1055        19335.88   52        NaT  Сочи   Георгина  Карташова 2018-06-25   \n",
       "\n",
       "     tariff  messages_included  mb_per_month_included  minutes_included  \\\n",
       "1055  smart                 50                  15360               500   \n",
       "\n",
       "      rub_monthly_fee  rub_per_gb  rub_per_message  rub_per_minute  \n",
       "1055              550         200                3               3  "
      ]
     },
     "execution_count": 65,
     "metadata": {},
     "output_type": "execute_result"
    }
   ],
   "source": [
    "df.sample()"
   ]
  },
  {
   "cell_type": "code",
   "execution_count": 66,
   "metadata": {},
   "outputs": [
    {
     "data": {
      "text/html": [
       "<div>\n",
       "<style scoped>\n",
       "    .dataframe tbody tr th:only-of-type {\n",
       "        vertical-align: middle;\n",
       "    }\n",
       "\n",
       "    .dataframe tbody tr th {\n",
       "        vertical-align: top;\n",
       "    }\n",
       "\n",
       "    .dataframe thead th {\n",
       "        text-align: right;\n",
       "    }\n",
       "</style>\n",
       "<table border=\"1\" class=\"dataframe\">\n",
       "  <thead>\n",
       "    <tr style=\"text-align: right;\">\n",
       "      <th></th>\n",
       "      <th>user_id</th>\n",
       "      <th>month</th>\n",
       "      <th>month_duration</th>\n",
       "      <th>month_calls</th>\n",
       "      <th>month_message</th>\n",
       "      <th>month_internet</th>\n",
       "      <th>age</th>\n",
       "      <th>messages_included</th>\n",
       "      <th>mb_per_month_included</th>\n",
       "      <th>minutes_included</th>\n",
       "      <th>rub_monthly_fee</th>\n",
       "      <th>rub_per_gb</th>\n",
       "      <th>rub_per_message</th>\n",
       "      <th>rub_per_minute</th>\n",
       "    </tr>\n",
       "  </thead>\n",
       "  <tbody>\n",
       "    <tr>\n",
       "      <th>count</th>\n",
       "      <td>3214.000000</td>\n",
       "      <td>3214.000000</td>\n",
       "      <td>3174.000000</td>\n",
       "      <td>3174.000000</td>\n",
       "      <td>2717.000000</td>\n",
       "      <td>3203.000000</td>\n",
       "      <td>3214.000000</td>\n",
       "      <td>3214.000000</td>\n",
       "      <td>3214.000000</td>\n",
       "      <td>3214.000000</td>\n",
       "      <td>3214.000000</td>\n",
       "      <td>3214.000000</td>\n",
       "      <td>3214.000000</td>\n",
       "      <td>3214.000000</td>\n",
       "    </tr>\n",
       "    <tr>\n",
       "      <th>mean</th>\n",
       "      <td>1251.590230</td>\n",
       "      <td>8.317362</td>\n",
       "      <td>469.412098</td>\n",
       "      <td>63.833333</td>\n",
       "      <td>45.283769</td>\n",
       "      <td>17266.708626</td>\n",
       "      <td>46.641568</td>\n",
       "      <td>341.148102</td>\n",
       "      <td>20067.405103</td>\n",
       "      <td>1266.179216</td>\n",
       "      <td>979.060361</td>\n",
       "      <td>184.676416</td>\n",
       "      <td>2.387057</td>\n",
       "      <td>2.387057</td>\n",
       "    </tr>\n",
       "    <tr>\n",
       "      <th>std</th>\n",
       "      <td>144.659172</td>\n",
       "      <td>2.905413</td>\n",
       "      <td>243.916429</td>\n",
       "      <td>32.678036</td>\n",
       "      <td>35.051363</td>\n",
       "      <td>7516.356902</td>\n",
       "      <td>16.586109</td>\n",
       "      <td>438.044726</td>\n",
       "      <td>7082.491569</td>\n",
       "      <td>1152.749279</td>\n",
       "      <td>645.539596</td>\n",
       "      <td>23.054986</td>\n",
       "      <td>0.922199</td>\n",
       "      <td>0.922199</td>\n",
       "    </tr>\n",
       "    <tr>\n",
       "      <th>min</th>\n",
       "      <td>1000.000000</td>\n",
       "      <td>1.000000</td>\n",
       "      <td>1.000000</td>\n",
       "      <td>1.000000</td>\n",
       "      <td>1.000000</td>\n",
       "      <td>0.000000</td>\n",
       "      <td>18.000000</td>\n",
       "      <td>50.000000</td>\n",
       "      <td>15360.000000</td>\n",
       "      <td>500.000000</td>\n",
       "      <td>550.000000</td>\n",
       "      <td>150.000000</td>\n",
       "      <td>1.000000</td>\n",
       "      <td>1.000000</td>\n",
       "    </tr>\n",
       "    <tr>\n",
       "      <th>25%</th>\n",
       "      <td>1125.000000</td>\n",
       "      <td>6.000000</td>\n",
       "      <td>298.000000</td>\n",
       "      <td>41.000000</td>\n",
       "      <td>19.000000</td>\n",
       "      <td>12526.905000</td>\n",
       "      <td>32.000000</td>\n",
       "      <td>50.000000</td>\n",
       "      <td>15360.000000</td>\n",
       "      <td>500.000000</td>\n",
       "      <td>550.000000</td>\n",
       "      <td>150.000000</td>\n",
       "      <td>1.000000</td>\n",
       "      <td>1.000000</td>\n",
       "    </tr>\n",
       "    <tr>\n",
       "      <th>50%</th>\n",
       "      <td>1253.000000</td>\n",
       "      <td>9.000000</td>\n",
       "      <td>458.000000</td>\n",
       "      <td>63.000000</td>\n",
       "      <td>38.000000</td>\n",
       "      <td>16963.110000</td>\n",
       "      <td>46.000000</td>\n",
       "      <td>50.000000</td>\n",
       "      <td>15360.000000</td>\n",
       "      <td>500.000000</td>\n",
       "      <td>550.000000</td>\n",
       "      <td>200.000000</td>\n",
       "      <td>3.000000</td>\n",
       "      <td>3.000000</td>\n",
       "    </tr>\n",
       "    <tr>\n",
       "      <th>75%</th>\n",
       "      <td>1378.750000</td>\n",
       "      <td>11.000000</td>\n",
       "      <td>608.000000</td>\n",
       "      <td>83.000000</td>\n",
       "      <td>63.000000</td>\n",
       "      <td>21432.175000</td>\n",
       "      <td>62.000000</td>\n",
       "      <td>1000.000000</td>\n",
       "      <td>30720.000000</td>\n",
       "      <td>3000.000000</td>\n",
       "      <td>1950.000000</td>\n",
       "      <td>200.000000</td>\n",
       "      <td>3.000000</td>\n",
       "      <td>3.000000</td>\n",
       "    </tr>\n",
       "    <tr>\n",
       "      <th>max</th>\n",
       "      <td>1499.000000</td>\n",
       "      <td>12.000000</td>\n",
       "      <td>1727.000000</td>\n",
       "      <td>244.000000</td>\n",
       "      <td>224.000000</td>\n",
       "      <td>49745.690000</td>\n",
       "      <td>75.000000</td>\n",
       "      <td>1000.000000</td>\n",
       "      <td>30720.000000</td>\n",
       "      <td>3000.000000</td>\n",
       "      <td>1950.000000</td>\n",
       "      <td>200.000000</td>\n",
       "      <td>3.000000</td>\n",
       "      <td>3.000000</td>\n",
       "    </tr>\n",
       "  </tbody>\n",
       "</table>\n",
       "</div>"
      ],
      "text/plain": [
       "           user_id        month  month_duration  month_calls  month_message  \\\n",
       "count  3214.000000  3214.000000     3174.000000  3174.000000    2717.000000   \n",
       "mean   1251.590230     8.317362      469.412098    63.833333      45.283769   \n",
       "std     144.659172     2.905413      243.916429    32.678036      35.051363   \n",
       "min    1000.000000     1.000000        1.000000     1.000000       1.000000   \n",
       "25%    1125.000000     6.000000      298.000000    41.000000      19.000000   \n",
       "50%    1253.000000     9.000000      458.000000    63.000000      38.000000   \n",
       "75%    1378.750000    11.000000      608.000000    83.000000      63.000000   \n",
       "max    1499.000000    12.000000     1727.000000   244.000000     224.000000   \n",
       "\n",
       "       month_internet          age  messages_included  mb_per_month_included  \\\n",
       "count     3203.000000  3214.000000        3214.000000            3214.000000   \n",
       "mean     17266.708626    46.641568         341.148102           20067.405103   \n",
       "std       7516.356902    16.586109         438.044726            7082.491569   \n",
       "min          0.000000    18.000000          50.000000           15360.000000   \n",
       "25%      12526.905000    32.000000          50.000000           15360.000000   \n",
       "50%      16963.110000    46.000000          50.000000           15360.000000   \n",
       "75%      21432.175000    62.000000        1000.000000           30720.000000   \n",
       "max      49745.690000    75.000000        1000.000000           30720.000000   \n",
       "\n",
       "       minutes_included  rub_monthly_fee   rub_per_gb  rub_per_message  \\\n",
       "count       3214.000000      3214.000000  3214.000000      3214.000000   \n",
       "mean        1266.179216       979.060361   184.676416         2.387057   \n",
       "std         1152.749279       645.539596    23.054986         0.922199   \n",
       "min          500.000000       550.000000   150.000000         1.000000   \n",
       "25%          500.000000       550.000000   150.000000         1.000000   \n",
       "50%          500.000000       550.000000   200.000000         3.000000   \n",
       "75%         3000.000000      1950.000000   200.000000         3.000000   \n",
       "max         3000.000000      1950.000000   200.000000         3.000000   \n",
       "\n",
       "       rub_per_minute  \n",
       "count     3214.000000  \n",
       "mean         2.387057  \n",
       "std          0.922199  \n",
       "min          1.000000  \n",
       "25%          1.000000  \n",
       "50%          3.000000  \n",
       "75%          3.000000  \n",
       "max          3.000000  "
      ]
     },
     "execution_count": 66,
     "metadata": {},
     "output_type": "execute_result"
    }
   ],
   "source": [
    "df.describe()"
   ]
  },
  {
   "cell_type": "code",
   "execution_count": 67,
   "metadata": {},
   "outputs": [],
   "source": [
    "cols = df.columns[:20] "
   ]
  },
  {
   "cell_type": "code",
   "execution_count": 68,
   "metadata": {},
   "outputs": [],
   "source": [
    "colours = ['#000099', '#ffff00'] "
   ]
  },
  {
   "cell_type": "code",
   "execution_count": 69,
   "metadata": {},
   "outputs": [
    {
     "data": {
      "text/plain": [
       "<AxesSubplot:>"
      ]
     },
     "execution_count": 69,
     "metadata": {},
     "output_type": "execute_result"
    },
    {
     "data": {
      "image/png": "[encoded data removed]",
      "text/plain": [
       "<Figure size 432x288 with 2 Axes>"
      ]
     },
     "metadata": {
      "needs_background": "light"
     },
     "output_type": "display_data"
    }
   ],
   "source": [
    "sns.heatmap(df[cols].isnull(), cmap=sns.color_palette(colours)) # желтый - пропущенные данные, синий - не пропущенные"
   ]
  },
  {
   "cell_type": "code",
   "execution_count": 70,
   "metadata": {},
   "outputs": [
    {
     "data": {
      "text/plain": [
       "0"
      ]
     },
     "execution_count": 70,
     "metadata": {},
     "output_type": "execute_result"
    }
   ],
   "source": [
    "df.duplicated().sum() #поиск дубликатов."
   ]
  },
  {
   "cell_type": "code",
   "execution_count": 71,
   "metadata": {},
   "outputs": [
    {
     "data": {
      "text/plain": [
       "churn_date               3027\n",
       "month_message             497\n",
       "month_duration             40\n",
       "month_calls                40\n",
       "month_internet             11\n",
       "user_id                     0\n",
       "messages_included           0\n",
       "rub_per_message             0\n",
       "rub_per_gb                  0\n",
       "rub_monthly_fee             0\n",
       "minutes_included            0\n",
       "mb_per_month_included       0\n",
       "last_name                   0\n",
       "tariff                      0\n",
       "reg_date                    0\n",
       "month                       0\n",
       "first_name                  0\n",
       "city                        0\n",
       "age                         0\n",
       "rub_per_minute              0\n",
       "dtype: int64"
      ]
     },
     "execution_count": 71,
     "metadata": {},
     "output_type": "execute_result"
    }
   ],
   "source": [
    "df.isna().sum().sort_values(ascending = False)"
   ]
  },
  {
   "cell_type": "code",
   "execution_count": 72,
   "metadata": {},
   "outputs": [
    {
     "data": {
      "text/plain": [
       "churn_date               94.0\n",
       "month_message            15.0\n",
       "month_duration            1.0\n",
       "month_calls               1.0\n",
       "user_id                   0.0\n",
       "tariff                    0.0\n",
       "rub_per_message           0.0\n",
       "rub_per_gb                0.0\n",
       "rub_monthly_fee           0.0\n",
       "minutes_included          0.0\n",
       "mb_per_month_included     0.0\n",
       "messages_included         0.0\n",
       "last_name                 0.0\n",
       "reg_date                  0.0\n",
       "month                     0.0\n",
       "first_name                0.0\n",
       "city                      0.0\n",
       "age                       0.0\n",
       "month_internet            0.0\n",
       "rub_per_minute            0.0\n",
       "dtype: float64"
      ]
     },
     "execution_count": 72,
     "metadata": {},
     "output_type": "execute_result"
    }
   ],
   "source": [
    "round(df.isna().sum()/df.shape[0]*100).sort_values(ascending = False) "
   ]
  },
  {
   "cell_type": "markdown",
   "metadata": {},
   "source": [
    "Пропуски в колонках:\n",
    "- churn_date — дата прекращения пользования тарифом выглядит не критично,т.к. 94% пользователей действующие.\n",
    "- month_message - количество отправленных сообщений в месяц 15% означает,что сообщения не отправляли, что логично заменить на 0.\n",
    "- month_duration - израсходованные минуты разговора в месяц 1% означает, что не разговаривали в этом месяце по телефону, что логино заменить на 0.\n",
    "- month_calls - количество сделанных звонков в месяц 1% означает, что не звонили ни разу, что логично совпадает с колонкой month_duration.\n",
    "- month_internet - объем израсходованного интернет-трафика в месяц, совсем малая чачть не пользовались вовсе интернетом, что также заменим на 0."
   ]
  },
  {
   "cell_type": "code",
   "execution_count": 73,
   "metadata": {},
   "outputs": [],
   "source": [
    "df['month_message'] = df['month_message'].fillna(0)"
   ]
  },
  {
   "cell_type": "code",
   "execution_count": 74,
   "metadata": {},
   "outputs": [],
   "source": [
    "df['month_duration'] = df['month_duration'].fillna(0)"
   ]
  },
  {
   "cell_type": "code",
   "execution_count": 75,
   "metadata": {},
   "outputs": [],
   "source": [
    "df['month_calls'] = df['month_calls'].fillna(0)"
   ]
  },
  {
   "cell_type": "code",
   "execution_count": 76,
   "metadata": {},
   "outputs": [],
   "source": [
    "df['month_internet'] = df['month_internet'].fillna(0)"
   ]
  },
  {
   "cell_type": "markdown",
   "metadata": {},
   "source": [
    "Проверяем что получилось:"
   ]
  },
  {
   "cell_type": "code",
   "execution_count": 77,
   "metadata": {},
   "outputs": [
    {
     "data": {
      "text/plain": [
       "churn_date               3027\n",
       "user_id                     0\n",
       "reg_date                    0\n",
       "rub_per_message             0\n",
       "rub_per_gb                  0\n",
       "rub_monthly_fee             0\n",
       "minutes_included            0\n",
       "mb_per_month_included       0\n",
       "messages_included           0\n",
       "tariff                      0\n",
       "last_name                   0\n",
       "month                       0\n",
       "first_name                  0\n",
       "city                        0\n",
       "age                         0\n",
       "month_internet              0\n",
       "month_message               0\n",
       "month_calls                 0\n",
       "month_duration              0\n",
       "rub_per_minute              0\n",
       "dtype: int64"
      ]
     },
     "execution_count": 77,
     "metadata": {},
     "output_type": "execute_result"
    }
   ],
   "source": [
    "df.isna().sum().sort_values(ascending = False)"
   ]
  },
  {
   "cell_type": "code",
   "execution_count": 78,
   "metadata": {},
   "outputs": [
    {
     "name": "stdout",
     "output_type": "stream",
     "text": [
      "<class 'pandas.core.frame.DataFrame'>\n",
      "Int64Index: 3214 entries, 0 to 3213\n",
      "Data columns (total 20 columns):\n",
      " #   Column                 Non-Null Count  Dtype         \n",
      "---  ------                 --------------  -----         \n",
      " 0   user_id                3214 non-null   int64         \n",
      " 1   month                  3214 non-null   int64         \n",
      " 2   month_duration         3214 non-null   float64       \n",
      " 3   month_calls            3214 non-null   float64       \n",
      " 4   month_message          3214 non-null   float64       \n",
      " 5   month_internet         3214 non-null   float64       \n",
      " 6   age                    3214 non-null   int64         \n",
      " 7   churn_date             187 non-null    datetime64[ns]\n",
      " 8   city                   3214 non-null   object        \n",
      " 9   first_name             3214 non-null   object        \n",
      " 10  last_name              3214 non-null   object        \n",
      " 11  reg_date               3214 non-null   datetime64[ns]\n",
      " 12  tariff                 3214 non-null   object        \n",
      " 13  messages_included      3214 non-null   int64         \n",
      " 14  mb_per_month_included  3214 non-null   int64         \n",
      " 15  minutes_included       3214 non-null   int64         \n",
      " 16  rub_monthly_fee        3214 non-null   int64         \n",
      " 17  rub_per_gb             3214 non-null   int64         \n",
      " 18  rub_per_message        3214 non-null   int64         \n",
      " 19  rub_per_minute         3214 non-null   int64         \n",
      "dtypes: datetime64[ns](2), float64(4), int64(10), object(4)\n",
      "memory usage: 527.3+ KB\n"
     ]
    }
   ],
   "source": [
    "df.info()"
   ]
  },
  {
   "cell_type": "code",
   "execution_count": 79,
   "metadata": {},
   "outputs": [
    {
     "data": {
      "text/html": [
       "<div>\n",
       "<style scoped>\n",
       "    .dataframe tbody tr th:only-of-type {\n",
       "        vertical-align: middle;\n",
       "    }\n",
       "\n",
       "    .dataframe tbody tr th {\n",
       "        vertical-align: top;\n",
       "    }\n",
       "\n",
       "    .dataframe thead th {\n",
       "        text-align: right;\n",
       "    }\n",
       "</style>\n",
       "<table border=\"1\" class=\"dataframe\">\n",
       "  <thead>\n",
       "    <tr style=\"text-align: right;\">\n",
       "      <th></th>\n",
       "      <th>user_id</th>\n",
       "      <th>month</th>\n",
       "      <th>month_duration</th>\n",
       "      <th>month_calls</th>\n",
       "      <th>month_message</th>\n",
       "      <th>month_internet</th>\n",
       "      <th>age</th>\n",
       "      <th>churn_date</th>\n",
       "      <th>city</th>\n",
       "      <th>first_name</th>\n",
       "      <th>last_name</th>\n",
       "      <th>reg_date</th>\n",
       "      <th>tariff</th>\n",
       "      <th>messages_included</th>\n",
       "      <th>mb_per_month_included</th>\n",
       "      <th>minutes_included</th>\n",
       "      <th>rub_monthly_fee</th>\n",
       "      <th>rub_per_gb</th>\n",
       "      <th>rub_per_message</th>\n",
       "      <th>rub_per_minute</th>\n",
       "    </tr>\n",
       "  </thead>\n",
       "  <tbody>\n",
       "    <tr>\n",
       "      <th>0</th>\n",
       "      <td>1000</td>\n",
       "      <td>5</td>\n",
       "      <td>164.0</td>\n",
       "      <td>22.0</td>\n",
       "      <td>22.0</td>\n",
       "      <td>2253.49</td>\n",
       "      <td>52</td>\n",
       "      <td>NaT</td>\n",
       "      <td>Краснодар</td>\n",
       "      <td>Рафаил</td>\n",
       "      <td>Верещагин</td>\n",
       "      <td>2018-05-25</td>\n",
       "      <td>ultra</td>\n",
       "      <td>1000</td>\n",
       "      <td>30720</td>\n",
       "      <td>3000</td>\n",
       "      <td>1950</td>\n",
       "      <td>150</td>\n",
       "      <td>1</td>\n",
       "      <td>1</td>\n",
       "    </tr>\n",
       "    <tr>\n",
       "      <th>1</th>\n",
       "      <td>1000</td>\n",
       "      <td>6</td>\n",
       "      <td>187.0</td>\n",
       "      <td>43.0</td>\n",
       "      <td>60.0</td>\n",
       "      <td>23233.77</td>\n",
       "      <td>52</td>\n",
       "      <td>NaT</td>\n",
       "      <td>Краснодар</td>\n",
       "      <td>Рафаил</td>\n",
       "      <td>Верещагин</td>\n",
       "      <td>2018-05-25</td>\n",
       "      <td>ultra</td>\n",
       "      <td>1000</td>\n",
       "      <td>30720</td>\n",
       "      <td>3000</td>\n",
       "      <td>1950</td>\n",
       "      <td>150</td>\n",
       "      <td>1</td>\n",
       "      <td>1</td>\n",
       "    </tr>\n",
       "    <tr>\n",
       "      <th>2</th>\n",
       "      <td>1000</td>\n",
       "      <td>7</td>\n",
       "      <td>346.0</td>\n",
       "      <td>47.0</td>\n",
       "      <td>75.0</td>\n",
       "      <td>14003.64</td>\n",
       "      <td>52</td>\n",
       "      <td>NaT</td>\n",
       "      <td>Краснодар</td>\n",
       "      <td>Рафаил</td>\n",
       "      <td>Верещагин</td>\n",
       "      <td>2018-05-25</td>\n",
       "      <td>ultra</td>\n",
       "      <td>1000</td>\n",
       "      <td>30720</td>\n",
       "      <td>3000</td>\n",
       "      <td>1950</td>\n",
       "      <td>150</td>\n",
       "      <td>1</td>\n",
       "      <td>1</td>\n",
       "    </tr>\n",
       "    <tr>\n",
       "      <th>3</th>\n",
       "      <td>1000</td>\n",
       "      <td>8</td>\n",
       "      <td>418.0</td>\n",
       "      <td>52.0</td>\n",
       "      <td>81.0</td>\n",
       "      <td>14055.93</td>\n",
       "      <td>52</td>\n",
       "      <td>NaT</td>\n",
       "      <td>Краснодар</td>\n",
       "      <td>Рафаил</td>\n",
       "      <td>Верещагин</td>\n",
       "      <td>2018-05-25</td>\n",
       "      <td>ultra</td>\n",
       "      <td>1000</td>\n",
       "      <td>30720</td>\n",
       "      <td>3000</td>\n",
       "      <td>1950</td>\n",
       "      <td>150</td>\n",
       "      <td>1</td>\n",
       "      <td>1</td>\n",
       "    </tr>\n",
       "    <tr>\n",
       "      <th>4</th>\n",
       "      <td>1000</td>\n",
       "      <td>9</td>\n",
       "      <td>478.0</td>\n",
       "      <td>58.0</td>\n",
       "      <td>57.0</td>\n",
       "      <td>14568.91</td>\n",
       "      <td>52</td>\n",
       "      <td>NaT</td>\n",
       "      <td>Краснодар</td>\n",
       "      <td>Рафаил</td>\n",
       "      <td>Верещагин</td>\n",
       "      <td>2018-05-25</td>\n",
       "      <td>ultra</td>\n",
       "      <td>1000</td>\n",
       "      <td>30720</td>\n",
       "      <td>3000</td>\n",
       "      <td>1950</td>\n",
       "      <td>150</td>\n",
       "      <td>1</td>\n",
       "      <td>1</td>\n",
       "    </tr>\n",
       "  </tbody>\n",
       "</table>\n",
       "</div>"
      ],
      "text/plain": [
       "   user_id  month  month_duration  month_calls  month_message  month_internet  \\\n",
       "0     1000      5           164.0         22.0           22.0         2253.49   \n",
       "1     1000      6           187.0         43.0           60.0        23233.77   \n",
       "2     1000      7           346.0         47.0           75.0        14003.64   \n",
       "3     1000      8           418.0         52.0           81.0        14055.93   \n",
       "4     1000      9           478.0         58.0           57.0        14568.91   \n",
       "\n",
       "   age churn_date       city first_name  last_name   reg_date tariff  \\\n",
       "0   52        NaT  Краснодар     Рафаил  Верещагин 2018-05-25  ultra   \n",
       "1   52        NaT  Краснодар     Рафаил  Верещагин 2018-05-25  ultra   \n",
       "2   52        NaT  Краснодар     Рафаил  Верещагин 2018-05-25  ultra   \n",
       "3   52        NaT  Краснодар     Рафаил  Верещагин 2018-05-25  ultra   \n",
       "4   52        NaT  Краснодар     Рафаил  Верещагин 2018-05-25  ultra   \n",
       "\n",
       "   messages_included  mb_per_month_included  minutes_included  \\\n",
       "0               1000                  30720              3000   \n",
       "1               1000                  30720              3000   \n",
       "2               1000                  30720              3000   \n",
       "3               1000                  30720              3000   \n",
       "4               1000                  30720              3000   \n",
       "\n",
       "   rub_monthly_fee  rub_per_gb  rub_per_message  rub_per_minute  \n",
       "0             1950         150                1               1  \n",
       "1             1950         150                1               1  \n",
       "2             1950         150                1               1  \n",
       "3             1950         150                1               1  \n",
       "4             1950         150                1               1  "
      ]
     },
     "execution_count": 79,
     "metadata": {},
     "output_type": "execute_result"
    }
   ],
   "source": [
    "df.head()"
   ]
  },
  {
   "cell_type": "markdown",
   "metadata": {},
   "source": [
    "Находим помесячную выручку с каждого пользователя:\n",
    "- month_gain - общая выручка в месяц\n",
    "- over_the_norm - перерасход\n",
    "\n",
    "«Мегалайн» всегда округляет общую сумму веб-трафика в большую сторону.Переведем мбт в Гбт и округлим."
   ]
  },
  {
   "cell_type": "code",
   "execution_count": 80,
   "metadata": {},
   "outputs": [],
   "source": [
    "def over_the_norm(row):\n",
    "    message_over = (row['month_message'] - row['messages_included']) * row['rub_per_message']\n",
    "    minutes_over = (row['month_duration'] - row['minutes_included']) * row['rub_per_minute']\n",
    "    internet_over = np.ceil((row['month_internet'] - row['mb_per_month_included'])/1024) * row['rub_per_gb']\n",
    "    total = 0 \n",
    "    total = 0\n",
    "    for i in [message_over, minutes_over,  internet_over]:\n",
    "        if i > 0:\n",
    "            total += i\n",
    "    return total"
   ]
  },
  {
   "cell_type": "code",
   "execution_count": 81,
   "metadata": {},
   "outputs": [],
   "source": [
    "df['over_the_norm'] = df.apply(lambda x: over_the_norm(x), axis=1)"
   ]
  },
  {
   "cell_type": "code",
   "execution_count": 82,
   "metadata": {},
   "outputs": [],
   "source": [
    "df['month_gain'] = df['over_the_norm'] + df['rub_monthly_fee']"
   ]
  },
  {
   "cell_type": "code",
   "execution_count": 83,
   "metadata": {},
   "outputs": [
    {
     "data": {
      "text/html": [
       "<div>\n",
       "<style scoped>\n",
       "    .dataframe tbody tr th:only-of-type {\n",
       "        vertical-align: middle;\n",
       "    }\n",
       "\n",
       "    .dataframe tbody tr th {\n",
       "        vertical-align: top;\n",
       "    }\n",
       "\n",
       "    .dataframe thead th {\n",
       "        text-align: right;\n",
       "    }\n",
       "</style>\n",
       "<table border=\"1\" class=\"dataframe\">\n",
       "  <thead>\n",
       "    <tr style=\"text-align: right;\">\n",
       "      <th></th>\n",
       "      <th>user_id</th>\n",
       "      <th>month</th>\n",
       "      <th>month_duration</th>\n",
       "      <th>month_calls</th>\n",
       "      <th>month_message</th>\n",
       "      <th>month_internet</th>\n",
       "      <th>age</th>\n",
       "      <th>churn_date</th>\n",
       "      <th>city</th>\n",
       "      <th>first_name</th>\n",
       "      <th>...</th>\n",
       "      <th>tariff</th>\n",
       "      <th>messages_included</th>\n",
       "      <th>mb_per_month_included</th>\n",
       "      <th>minutes_included</th>\n",
       "      <th>rub_monthly_fee</th>\n",
       "      <th>rub_per_gb</th>\n",
       "      <th>rub_per_message</th>\n",
       "      <th>rub_per_minute</th>\n",
       "      <th>over_the_norm</th>\n",
       "      <th>month_gain</th>\n",
       "    </tr>\n",
       "  </thead>\n",
       "  <tbody>\n",
       "    <tr>\n",
       "      <th>8</th>\n",
       "      <td>1001</td>\n",
       "      <td>11</td>\n",
       "      <td>444.0</td>\n",
       "      <td>59.0</td>\n",
       "      <td>0.0</td>\n",
       "      <td>18429.34</td>\n",
       "      <td>41</td>\n",
       "      <td>NaT</td>\n",
       "      <td>Москва</td>\n",
       "      <td>Иван</td>\n",
       "      <td>...</td>\n",
       "      <td>smart</td>\n",
       "      <td>50</td>\n",
       "      <td>15360</td>\n",
       "      <td>500</td>\n",
       "      <td>550</td>\n",
       "      <td>200</td>\n",
       "      <td>3</td>\n",
       "      <td>3</td>\n",
       "      <td>600.0</td>\n",
       "      <td>1150.0</td>\n",
       "    </tr>\n",
       "    <tr>\n",
       "      <th>11</th>\n",
       "      <td>1002</td>\n",
       "      <td>7</td>\n",
       "      <td>219.0</td>\n",
       "      <td>26.0</td>\n",
       "      <td>11.0</td>\n",
       "      <td>17580.10</td>\n",
       "      <td>59</td>\n",
       "      <td>NaT</td>\n",
       "      <td>Стерлитамак</td>\n",
       "      <td>Евгений</td>\n",
       "      <td>...</td>\n",
       "      <td>smart</td>\n",
       "      <td>50</td>\n",
       "      <td>15360</td>\n",
       "      <td>500</td>\n",
       "      <td>550</td>\n",
       "      <td>200</td>\n",
       "      <td>3</td>\n",
       "      <td>3</td>\n",
       "      <td>600.0</td>\n",
       "      <td>1150.0</td>\n",
       "    </tr>\n",
       "    <tr>\n",
       "      <th>12</th>\n",
       "      <td>1002</td>\n",
       "      <td>8</td>\n",
       "      <td>294.0</td>\n",
       "      <td>42.0</td>\n",
       "      <td>13.0</td>\n",
       "      <td>20319.26</td>\n",
       "      <td>59</td>\n",
       "      <td>NaT</td>\n",
       "      <td>Стерлитамак</td>\n",
       "      <td>Евгений</td>\n",
       "      <td>...</td>\n",
       "      <td>smart</td>\n",
       "      <td>50</td>\n",
       "      <td>15360</td>\n",
       "      <td>500</td>\n",
       "      <td>550</td>\n",
       "      <td>200</td>\n",
       "      <td>3</td>\n",
       "      <td>3</td>\n",
       "      <td>1000.0</td>\n",
       "      <td>1550.0</td>\n",
       "    </tr>\n",
       "    <tr>\n",
       "      <th>13</th>\n",
       "      <td>1002</td>\n",
       "      <td>9</td>\n",
       "      <td>217.0</td>\n",
       "      <td>36.0</td>\n",
       "      <td>4.0</td>\n",
       "      <td>16691.08</td>\n",
       "      <td>59</td>\n",
       "      <td>NaT</td>\n",
       "      <td>Стерлитамак</td>\n",
       "      <td>Евгений</td>\n",
       "      <td>...</td>\n",
       "      <td>smart</td>\n",
       "      <td>50</td>\n",
       "      <td>15360</td>\n",
       "      <td>500</td>\n",
       "      <td>550</td>\n",
       "      <td>200</td>\n",
       "      <td>3</td>\n",
       "      <td>3</td>\n",
       "      <td>400.0</td>\n",
       "      <td>950.0</td>\n",
       "    </tr>\n",
       "    <tr>\n",
       "      <th>15</th>\n",
       "      <td>1002</td>\n",
       "      <td>11</td>\n",
       "      <td>250.0</td>\n",
       "      <td>32.0</td>\n",
       "      <td>16.0</td>\n",
       "      <td>18587.28</td>\n",
       "      <td>59</td>\n",
       "      <td>NaT</td>\n",
       "      <td>Стерлитамак</td>\n",
       "      <td>Евгений</td>\n",
       "      <td>...</td>\n",
       "      <td>smart</td>\n",
       "      <td>50</td>\n",
       "      <td>15360</td>\n",
       "      <td>500</td>\n",
       "      <td>550</td>\n",
       "      <td>200</td>\n",
       "      <td>3</td>\n",
       "      <td>3</td>\n",
       "      <td>800.0</td>\n",
       "      <td>1350.0</td>\n",
       "    </tr>\n",
       "    <tr>\n",
       "      <th>...</th>\n",
       "      <td>...</td>\n",
       "      <td>...</td>\n",
       "      <td>...</td>\n",
       "      <td>...</td>\n",
       "      <td>...</td>\n",
       "      <td>...</td>\n",
       "      <td>...</td>\n",
       "      <td>...</td>\n",
       "      <td>...</td>\n",
       "      <td>...</td>\n",
       "      <td>...</td>\n",
       "      <td>...</td>\n",
       "      <td>...</td>\n",
       "      <td>...</td>\n",
       "      <td>...</td>\n",
       "      <td>...</td>\n",
       "      <td>...</td>\n",
       "      <td>...</td>\n",
       "      <td>...</td>\n",
       "      <td>...</td>\n",
       "      <td>...</td>\n",
       "    </tr>\n",
       "    <tr>\n",
       "      <th>3201</th>\n",
       "      <td>1328</td>\n",
       "      <td>12</td>\n",
       "      <td>0.0</td>\n",
       "      <td>0.0</td>\n",
       "      <td>7.0</td>\n",
       "      <td>39419.73</td>\n",
       "      <td>44</td>\n",
       "      <td>NaT</td>\n",
       "      <td>Мурманск</td>\n",
       "      <td>Рауль</td>\n",
       "      <td>...</td>\n",
       "      <td>ultra</td>\n",
       "      <td>1000</td>\n",
       "      <td>30720</td>\n",
       "      <td>3000</td>\n",
       "      <td>1950</td>\n",
       "      <td>150</td>\n",
       "      <td>1</td>\n",
       "      <td>1</td>\n",
       "      <td>1350.0</td>\n",
       "      <td>3300.0</td>\n",
       "    </tr>\n",
       "    <tr>\n",
       "      <th>3209</th>\n",
       "      <td>1489</td>\n",
       "      <td>9</td>\n",
       "      <td>0.0</td>\n",
       "      <td>0.0</td>\n",
       "      <td>32.0</td>\n",
       "      <td>17206.30</td>\n",
       "      <td>35</td>\n",
       "      <td>NaT</td>\n",
       "      <td>Санкт-Петербург</td>\n",
       "      <td>Павел</td>\n",
       "      <td>...</td>\n",
       "      <td>smart</td>\n",
       "      <td>50</td>\n",
       "      <td>15360</td>\n",
       "      <td>500</td>\n",
       "      <td>550</td>\n",
       "      <td>200</td>\n",
       "      <td>3</td>\n",
       "      <td>3</td>\n",
       "      <td>400.0</td>\n",
       "      <td>950.0</td>\n",
       "    </tr>\n",
       "    <tr>\n",
       "      <th>3210</th>\n",
       "      <td>1489</td>\n",
       "      <td>10</td>\n",
       "      <td>0.0</td>\n",
       "      <td>0.0</td>\n",
       "      <td>21.0</td>\n",
       "      <td>19559.44</td>\n",
       "      <td>35</td>\n",
       "      <td>NaT</td>\n",
       "      <td>Санкт-Петербург</td>\n",
       "      <td>Павел</td>\n",
       "      <td>...</td>\n",
       "      <td>smart</td>\n",
       "      <td>50</td>\n",
       "      <td>15360</td>\n",
       "      <td>500</td>\n",
       "      <td>550</td>\n",
       "      <td>200</td>\n",
       "      <td>3</td>\n",
       "      <td>3</td>\n",
       "      <td>1000.0</td>\n",
       "      <td>1550.0</td>\n",
       "    </tr>\n",
       "    <tr>\n",
       "      <th>3211</th>\n",
       "      <td>1489</td>\n",
       "      <td>11</td>\n",
       "      <td>0.0</td>\n",
       "      <td>0.0</td>\n",
       "      <td>20.0</td>\n",
       "      <td>17491.56</td>\n",
       "      <td>35</td>\n",
       "      <td>NaT</td>\n",
       "      <td>Санкт-Петербург</td>\n",
       "      <td>Павел</td>\n",
       "      <td>...</td>\n",
       "      <td>smart</td>\n",
       "      <td>50</td>\n",
       "      <td>15360</td>\n",
       "      <td>500</td>\n",
       "      <td>550</td>\n",
       "      <td>200</td>\n",
       "      <td>3</td>\n",
       "      <td>3</td>\n",
       "      <td>600.0</td>\n",
       "      <td>1150.0</td>\n",
       "    </tr>\n",
       "    <tr>\n",
       "      <th>3212</th>\n",
       "      <td>1489</td>\n",
       "      <td>12</td>\n",
       "      <td>0.0</td>\n",
       "      <td>0.0</td>\n",
       "      <td>35.0</td>\n",
       "      <td>17322.51</td>\n",
       "      <td>35</td>\n",
       "      <td>NaT</td>\n",
       "      <td>Санкт-Петербург</td>\n",
       "      <td>Павел</td>\n",
       "      <td>...</td>\n",
       "      <td>smart</td>\n",
       "      <td>50</td>\n",
       "      <td>15360</td>\n",
       "      <td>500</td>\n",
       "      <td>550</td>\n",
       "      <td>200</td>\n",
       "      <td>3</td>\n",
       "      <td>3</td>\n",
       "      <td>400.0</td>\n",
       "      <td>950.0</td>\n",
       "    </tr>\n",
       "  </tbody>\n",
       "</table>\n",
       "<p>1807 rows × 22 columns</p>\n",
       "</div>"
      ],
      "text/plain": [
       "      user_id  month  month_duration  month_calls  month_message  \\\n",
       "8        1001     11           444.0         59.0            0.0   \n",
       "11       1002      7           219.0         26.0           11.0   \n",
       "12       1002      8           294.0         42.0           13.0   \n",
       "13       1002      9           217.0         36.0            4.0   \n",
       "15       1002     11           250.0         32.0           16.0   \n",
       "...       ...    ...             ...          ...            ...   \n",
       "3201     1328     12             0.0          0.0            7.0   \n",
       "3209     1489      9             0.0          0.0           32.0   \n",
       "3210     1489     10             0.0          0.0           21.0   \n",
       "3211     1489     11             0.0          0.0           20.0   \n",
       "3212     1489     12             0.0          0.0           35.0   \n",
       "\n",
       "      month_internet  age churn_date             city first_name  ... tariff  \\\n",
       "8           18429.34   41        NaT           Москва       Иван  ...  smart   \n",
       "11          17580.10   59        NaT      Стерлитамак    Евгений  ...  smart   \n",
       "12          20319.26   59        NaT      Стерлитамак    Евгений  ...  smart   \n",
       "13          16691.08   59        NaT      Стерлитамак    Евгений  ...  smart   \n",
       "15          18587.28   59        NaT      Стерлитамак    Евгений  ...  smart   \n",
       "...              ...  ...        ...              ...        ...  ...    ...   \n",
       "3201        39419.73   44        NaT         Мурманск      Рауль  ...  ultra   \n",
       "3209        17206.30   35        NaT  Санкт-Петербург      Павел  ...  smart   \n",
       "3210        19559.44   35        NaT  Санкт-Петербург      Павел  ...  smart   \n",
       "3211        17491.56   35        NaT  Санкт-Петербург      Павел  ...  smart   \n",
       "3212        17322.51   35        NaT  Санкт-Петербург      Павел  ...  smart   \n",
       "\n",
       "     messages_included mb_per_month_included  minutes_included  \\\n",
       "8                   50                 15360               500   \n",
       "11                  50                 15360               500   \n",
       "12                  50                 15360               500   \n",
       "13                  50                 15360               500   \n",
       "15                  50                 15360               500   \n",
       "...                ...                   ...               ...   \n",
       "3201              1000                 30720              3000   \n",
       "3209                50                 15360               500   \n",
       "3210                50                 15360               500   \n",
       "3211                50                 15360               500   \n",
       "3212                50                 15360               500   \n",
       "\n",
       "      rub_monthly_fee  rub_per_gb  rub_per_message  rub_per_minute  \\\n",
       "8                 550         200                3               3   \n",
       "11                550         200                3               3   \n",
       "12                550         200                3               3   \n",
       "13                550         200                3               3   \n",
       "15                550         200                3               3   \n",
       "...               ...         ...              ...             ...   \n",
       "3201             1950         150                1               1   \n",
       "3209              550         200                3               3   \n",
       "3210              550         200                3               3   \n",
       "3211              550         200                3               3   \n",
       "3212              550         200                3               3   \n",
       "\n",
       "      over_the_norm  month_gain  \n",
       "8             600.0      1150.0  \n",
       "11            600.0      1150.0  \n",
       "12           1000.0      1550.0  \n",
       "13            400.0       950.0  \n",
       "15            800.0      1350.0  \n",
       "...             ...         ...  \n",
       "3201         1350.0      3300.0  \n",
       "3209          400.0       950.0  \n",
       "3210         1000.0      1550.0  \n",
       "3211          600.0      1150.0  \n",
       "3212          400.0       950.0  \n",
       "\n",
       "[1807 rows x 22 columns]"
      ]
     },
     "execution_count": 83,
     "metadata": {},
     "output_type": "execute_result"
    }
   ],
   "source": [
    "df[df['month_gain']>df['rub_monthly_fee']]"
   ]
  },
  {
   "cell_type": "markdown",
   "metadata": {},
   "source": [
    "**Вывод**\n",
    "\n",
    "В колонках были пропуски, которые были не критичны:\n",
    "- 6 % не действующие абоненты\n",
    "- 15 % клиентов не отправляют сообщения\n",
    "- 1 % не пользуются сотовой звонками\n",
    "- и всего малая часть - 0,3 % не пользуются интернетом\n"
   ]
  },
  {
   "cell_type": "markdown",
   "metadata": {},
   "source": [
    "## Анализ данных"
   ]
  },
  {
   "cell_type": "markdown",
   "metadata": {},
   "source": [
    "Опишем поведение клиентов оператора, исходя из выборки:\n",
    "        \n",
    "- сколько минут разговора требуется пользователям каждого тарифа в месяц;\n",
    "- сколько сообщений требуется пользователям каждого тарифа в месяц;\n",
    "- какой объём интернет-трафика требуется пользователям каждого тарифа в месяц.\n",
    "\n",
    "Посчитаем среднее количество, дисперсию и стандартное отклонение.\n",
    "    \n",
    "Построим гистограммы. \n",
    "\n",
    "Опишем распределения."
   ]
  },
  {
   "cell_type": "code",
   "execution_count": 84,
   "metadata": {},
   "outputs": [
    {
     "data": {
      "text/plain": [
       "smart    2229\n",
       "ultra     985\n",
       "Name: tariff, dtype: int64"
      ]
     },
     "execution_count": 84,
     "metadata": {},
     "output_type": "execute_result"
    }
   ],
   "source": [
    "df['tariff'].value_counts()"
   ]
  },
  {
   "cell_type": "markdown",
   "metadata": {},
   "source": [
    "Описание тарифов:\n",
    "\n",
    "Тариф «Смарт»:\n",
    "- Ежемесячная плата: 550 рублей\n",
    "- Включено 500 минут разговора, 50 сообщений и 15 Гб интернет-трафика\n",
    "\n",
    "Стоимость услуг сверх тарифного пакета:\n",
    "- минута разговора: 3 рубля\n",
    "- сообщение: 3 рубля\n",
    "- 1 Гб интернет-трафика: 200 рублей\n",
    "\n",
    "Тариф «Ультра»:\n",
    "- Ежемесячная плата: 1950 рублей\n",
    "- Включено 3000 минут разговора, 1000 сообщений и 30 Гб интернет-трафика\n",
    "\n",
    "Стоимость услуг сверх тарифного пакета:\n",
    "- минута разговора: 1 рубль\n",
    "- сообщение: 1 рубль\n",
    "- 1 Гб интернет-трафика: 150 рублей"
   ]
  },
  {
   "cell_type": "markdown",
   "metadata": {},
   "source": [
    "Рассмотрим общую выручку в разрезе тарифов smart и ультра"
   ]
  },
  {
   "cell_type": "markdown",
   "metadata": {},
   "source": [
    "Посчитаем среднее количество, дисперсию и стандартное отклонение по:\n",
    "- month_gain - общая выручка в месяц\n",
    "- over_the_norm - перерасход"
   ]
  },
  {
   "cell_type": "code",
   "execution_count": 85,
   "metadata": {},
   "outputs": [
    {
     "data": {
      "text/html": [
       "<style  type=\"text/css\" >\n",
       "</style><table id=\"T_bfee8_\" ><thead>    <tr>        <th class=\"blank level0\" ></th>        <th class=\"col_heading level0 col0\" colspan=\"4\">month_gain</th>    </tr>    <tr>        <th class=\"blank level1\" ></th>        <th class=\"col_heading level1 col0\" >median</th>        <th class=\"col_heading level1 col1\" >mean</th>        <th class=\"col_heading level1 col2\" >var</th>        <th class=\"col_heading level1 col3\" >std</th>    </tr>    <tr>        <th class=\"index_name level0\" >tariff</th>        <th class=\"blank\" ></th>        <th class=\"blank\" ></th>        <th class=\"blank\" ></th>        <th class=\"blank\" ></th>    </tr></thead><tbody>\n",
       "                <tr>\n",
       "                        <th id=\"T_bfee8_level0_row0\" class=\"row_heading level0 row0\" >smart</th>\n",
       "                        <td id=\"T_bfee8_row0_col0\" class=\"data row0 col0\" >1062.00</td>\n",
       "                        <td id=\"T_bfee8_row0_col1\" class=\"data row0 col1\" >1306.95</td>\n",
       "                        <td id=\"T_bfee8_row0_col2\" class=\"data row0 col2\" >684832.72</td>\n",
       "                        <td id=\"T_bfee8_row0_col3\" class=\"data row0 col3\" >827.55</td>\n",
       "            </tr>\n",
       "            <tr>\n",
       "                        <th id=\"T_bfee8_level0_row1\" class=\"row_heading level0 row1\" >ultra</th>\n",
       "                        <td id=\"T_bfee8_row1_col0\" class=\"data row1 col0\" >1950.00</td>\n",
       "                        <td id=\"T_bfee8_row1_col1\" class=\"data row1 col1\" >2070.15</td>\n",
       "                        <td id=\"T_bfee8_row1_col2\" class=\"data row1 col2\" >141516.75</td>\n",
       "                        <td id=\"T_bfee8_row1_col3\" class=\"data row1 col3\" >376.19</td>\n",
       "            </tr>\n",
       "    </tbody></table>"
      ],
      "text/plain": [
       "<pandas.io.formats.style.Styler at 0x7f3f2e71a2b0>"
      ]
     },
     "execution_count": 85,
     "metadata": {},
     "output_type": "execute_result"
    }
   ],
   "source": [
    "df.groupby('tariff').agg({'month_gain':['median','mean','var','std']}).style.format(\"{:.2f}\")"
   ]
  },
  {
   "cell_type": "code",
   "execution_count": 86,
   "metadata": {},
   "outputs": [
    {
     "data": {
      "image/png": "[encoded data removed]",
      "text/plain": [
       "<Figure size 432x288 with 1 Axes>"
      ]
     },
     "metadata": {
      "needs_background": "light"
     },
     "output_type": "display_data"
    }
   ],
   "source": [
    "df[df['tariff'] == 'smart']['month_gain'].plot(grid=True,kind='hist', bins=5,edgecolor='black', color='tab:purple')\n",
    "plt.title('Выручка в месяц smart')\n",
    "plt.show()"
   ]
  },
  {
   "cell_type": "code",
   "execution_count": 87,
   "metadata": {
    "scrolled": true
   },
   "outputs": [
    {
     "data": {
      "image/png": "[encoded data removed]",
      "text/plain": [
       "<Figure size 432x288 with 1 Axes>"
      ]
     },
     "metadata": {
      "needs_background": "light"
     },
     "output_type": "display_data"
    }
   ],
   "source": [
    "df[df['tariff'] == 'ultra']['month_gain'].plot(grid=True,kind='hist', bins=5,edgecolor='black', color='tab:cyan')\n",
    "plt.title('Выручка в месяц ultra')\n",
    "plt.show()"
   ]
  },
  {
   "cell_type": "code",
   "execution_count": 88,
   "metadata": {},
   "outputs": [
    {
     "data": {
      "text/plain": [
       "count    3214.000000\n",
       "mean     1540.849409\n",
       "std       801.291720\n",
       "min       550.000000\n",
       "25%       750.000000\n",
       "50%      1689.000000\n",
       "75%      1950.000000\n",
       "max      6824.000000\n",
       "Name: month_gain, dtype: float64"
      ]
     },
     "execution_count": 88,
     "metadata": {},
     "output_type": "execute_result"
    }
   ],
   "source": [
    "df['month_gain'].describe()"
   ]
  },
  {
   "cell_type": "code",
   "execution_count": 89,
   "metadata": {},
   "outputs": [
    {
     "data": {
      "image/png": "[encoded data removed]",
      "text/plain": [
       "<Figure size 432x288 with 1 Axes>"
      ]
     },
     "metadata": {
      "needs_background": "light"
     },
     "output_type": "display_data"
    }
   ],
   "source": [
    "df['month_gain'].plot(grid=True,kind='hist', bins=10,edgecolor='black',color='tab:orange')\n",
    "plt.title('Выручка в месяц')\n",
    "plt.show()"
   ]
  },
  {
   "cell_type": "code",
   "execution_count": 90,
   "metadata": {
    "scrolled": true
   },
   "outputs": [
    {
     "data": {
      "text/html": [
       "<style  type=\"text/css\" >\n",
       "</style><table id=\"T_fed9e_\" ><thead>    <tr>        <th class=\"blank level0\" ></th>        <th class=\"col_heading level0 col0\" colspan=\"4\">over_the_norm</th>    </tr>    <tr>        <th class=\"blank level1\" ></th>        <th class=\"col_heading level1 col0\" >median</th>        <th class=\"col_heading level1 col1\" >mean</th>        <th class=\"col_heading level1 col2\" >var</th>        <th class=\"col_heading level1 col3\" >std</th>    </tr>    <tr>        <th class=\"index_name level0\" >tariff</th>        <th class=\"blank\" ></th>        <th class=\"blank\" ></th>        <th class=\"blank\" ></th>        <th class=\"blank\" ></th>    </tr></thead><tbody>\n",
       "                <tr>\n",
       "                        <th id=\"T_fed9e_level0_row0\" class=\"row_heading level0 row0\" >smart</th>\n",
       "                        <td id=\"T_fed9e_row0_col0\" class=\"data row0 col0\" >512.00</td>\n",
       "                        <td id=\"T_fed9e_row0_col1\" class=\"data row0 col1\" >756.95</td>\n",
       "                        <td id=\"T_fed9e_row0_col2\" class=\"data row0 col2\" >684832.72</td>\n",
       "                        <td id=\"T_fed9e_row0_col3\" class=\"data row0 col3\" >827.55</td>\n",
       "            </tr>\n",
       "            <tr>\n",
       "                        <th id=\"T_fed9e_level0_row1\" class=\"row_heading level0 row1\" >ultra</th>\n",
       "                        <td id=\"T_fed9e_row1_col0\" class=\"data row1 col0\" >0.00</td>\n",
       "                        <td id=\"T_fed9e_row1_col1\" class=\"data row1 col1\" >120.15</td>\n",
       "                        <td id=\"T_fed9e_row1_col2\" class=\"data row1 col2\" >141516.75</td>\n",
       "                        <td id=\"T_fed9e_row1_col3\" class=\"data row1 col3\" >376.19</td>\n",
       "            </tr>\n",
       "    </tbody></table>"
      ],
      "text/plain": [
       "<pandas.io.formats.style.Styler at 0x7f3f2e40abb0>"
      ]
     },
     "execution_count": 90,
     "metadata": {},
     "output_type": "execute_result"
    }
   ],
   "source": [
    "df.groupby('tariff').agg({'over_the_norm':['median','mean','var','std']}).style.format(\"{:.2f}\")"
   ]
  },
  {
   "cell_type": "code",
   "execution_count": 91,
   "metadata": {},
   "outputs": [
    {
     "data": {
      "image/png": "[encoded data removed]",
      "text/plain": [
       "<Figure size 432x288 with 1 Axes>"
      ]
     },
     "metadata": {
      "needs_background": "light"
     },
     "output_type": "display_data"
    },
    {
     "data": {
      "image/png": "[encoded data removed]",
      "text/plain": [
       "<Figure size 432x288 with 1 Axes>"
      ]
     },
     "metadata": {
      "needs_background": "light"
     },
     "output_type": "display_data"
    }
   ],
   "source": [
    "df[df['tariff'] == 'smart']['over_the_norm'].plot(grid=True,kind='hist', bins=5,edgecolor='black', color='tab:purple')\n",
    "plt.title('Перерасход в месяц smart')\n",
    "plt.show()\n",
    "df[df['tariff'] == 'ultra']['over_the_norm'].plot(grid=True,kind='hist', bins=5,edgecolor='black', color='tab:cyan')\n",
    "plt.title('Перерасход в месяц ultra')\n",
    "plt.show()"
   ]
  },
  {
   "cell_type": "code",
   "execution_count": 92,
   "metadata": {},
   "outputs": [
    {
     "data": {
      "text/plain": [
       "count    3214.000000\n",
       "mean      561.789048\n",
       "std       777.459105\n",
       "min         0.000000\n",
       "25%         0.000000\n",
       "50%       192.000000\n",
       "75%       988.000000\n",
       "max      6274.000000\n",
       "Name: over_the_norm, dtype: float64"
      ]
     },
     "execution_count": 92,
     "metadata": {},
     "output_type": "execute_result"
    }
   ],
   "source": [
    "df['over_the_norm'].describe()"
   ]
  },
  {
   "cell_type": "code",
   "execution_count": 93,
   "metadata": {},
   "outputs": [
    {
     "data": {
      "image/png": "[encoded data removed]",
      "text/plain": [
       "<Figure size 432x288 with 1 Axes>"
      ]
     },
     "metadata": {
      "needs_background": "light"
     },
     "output_type": "display_data"
    }
   ],
   "source": [
    "df['over_the_norm'].plot(grid=True,kind='hist', bins=10,edgecolor='black',color='tab:orange')\n",
    "plt.title('Перерасход в месяц')\n",
    "plt.show()"
   ]
  },
  {
   "cell_type": "markdown",
   "metadata": {},
   "source": [
    "**Вывод:**\n",
    "\n",
    "smart чаще выходят за пределы тарифа, ultra почти не перерасходуют лимиты по тарифам."
   ]
  },
  {
   "cell_type": "code",
   "execution_count": 94,
   "metadata": {},
   "outputs": [
    {
     "data": {
      "text/html": [
       "<div>\n",
       "<style scoped>\n",
       "    .dataframe tbody tr th:only-of-type {\n",
       "        vertical-align: middle;\n",
       "    }\n",
       "\n",
       "    .dataframe tbody tr th {\n",
       "        vertical-align: top;\n",
       "    }\n",
       "\n",
       "    .dataframe thead th {\n",
       "        text-align: right;\n",
       "    }\n",
       "</style>\n",
       "<table border=\"1\" class=\"dataframe\">\n",
       "  <thead>\n",
       "    <tr style=\"text-align: right;\">\n",
       "      <th></th>\n",
       "      <th>user_id</th>\n",
       "      <th>month</th>\n",
       "      <th>month_duration</th>\n",
       "      <th>month_calls</th>\n",
       "      <th>month_message</th>\n",
       "      <th>month_internet</th>\n",
       "      <th>age</th>\n",
       "      <th>messages_included</th>\n",
       "      <th>mb_per_month_included</th>\n",
       "      <th>minutes_included</th>\n",
       "      <th>rub_monthly_fee</th>\n",
       "      <th>rub_per_gb</th>\n",
       "      <th>rub_per_message</th>\n",
       "      <th>rub_per_minute</th>\n",
       "      <th>over_the_norm</th>\n",
       "      <th>month_gain</th>\n",
       "    </tr>\n",
       "  </thead>\n",
       "  <tbody>\n",
       "    <tr>\n",
       "      <th>count</th>\n",
       "      <td>3214.000000</td>\n",
       "      <td>3214.000000</td>\n",
       "      <td>3214.000000</td>\n",
       "      <td>3214.000000</td>\n",
       "      <td>3214.000000</td>\n",
       "      <td>3214.000000</td>\n",
       "      <td>3214.000000</td>\n",
       "      <td>3214.000000</td>\n",
       "      <td>3214.000000</td>\n",
       "      <td>3214.000000</td>\n",
       "      <td>3214.000000</td>\n",
       "      <td>3214.000000</td>\n",
       "      <td>3214.000000</td>\n",
       "      <td>3214.000000</td>\n",
       "      <td>3214.000000</td>\n",
       "      <td>3214.000000</td>\n",
       "    </tr>\n",
       "    <tr>\n",
       "      <th>mean</th>\n",
       "      <td>1251.590230</td>\n",
       "      <td>8.317362</td>\n",
       "      <td>463.570006</td>\n",
       "      <td>63.038892</td>\n",
       "      <td>38.281269</td>\n",
       "      <td>17207.612859</td>\n",
       "      <td>46.641568</td>\n",
       "      <td>341.148102</td>\n",
       "      <td>20067.405103</td>\n",
       "      <td>1266.179216</td>\n",
       "      <td>979.060361</td>\n",
       "      <td>184.676416</td>\n",
       "      <td>2.387057</td>\n",
       "      <td>2.387057</td>\n",
       "      <td>561.789048</td>\n",
       "      <td>1540.849409</td>\n",
       "    </tr>\n",
       "    <tr>\n",
       "      <th>std</th>\n",
       "      <td>144.659172</td>\n",
       "      <td>2.905413</td>\n",
       "      <td>247.918544</td>\n",
       "      <td>33.236368</td>\n",
       "      <td>36.148326</td>\n",
       "      <td>7570.958771</td>\n",
       "      <td>16.586109</td>\n",
       "      <td>438.044726</td>\n",
       "      <td>7082.491569</td>\n",
       "      <td>1152.749279</td>\n",
       "      <td>645.539596</td>\n",
       "      <td>23.054986</td>\n",
       "      <td>0.922199</td>\n",
       "      <td>0.922199</td>\n",
       "      <td>777.459105</td>\n",
       "      <td>801.291720</td>\n",
       "    </tr>\n",
       "    <tr>\n",
       "      <th>min</th>\n",
       "      <td>1000.000000</td>\n",
       "      <td>1.000000</td>\n",
       "      <td>0.000000</td>\n",
       "      <td>0.000000</td>\n",
       "      <td>0.000000</td>\n",
       "      <td>0.000000</td>\n",
       "      <td>18.000000</td>\n",
       "      <td>50.000000</td>\n",
       "      <td>15360.000000</td>\n",
       "      <td>500.000000</td>\n",
       "      <td>550.000000</td>\n",
       "      <td>150.000000</td>\n",
       "      <td>1.000000</td>\n",
       "      <td>1.000000</td>\n",
       "      <td>0.000000</td>\n",
       "      <td>550.000000</td>\n",
       "    </tr>\n",
       "    <tr>\n",
       "      <th>25%</th>\n",
       "      <td>1125.000000</td>\n",
       "      <td>6.000000</td>\n",
       "      <td>291.000000</td>\n",
       "      <td>40.000000</td>\n",
       "      <td>9.000000</td>\n",
       "      <td>12491.890000</td>\n",
       "      <td>32.000000</td>\n",
       "      <td>50.000000</td>\n",
       "      <td>15360.000000</td>\n",
       "      <td>500.000000</td>\n",
       "      <td>550.000000</td>\n",
       "      <td>150.000000</td>\n",
       "      <td>1.000000</td>\n",
       "      <td>1.000000</td>\n",
       "      <td>0.000000</td>\n",
       "      <td>750.000000</td>\n",
       "    </tr>\n",
       "    <tr>\n",
       "      <th>50%</th>\n",
       "      <td>1253.000000</td>\n",
       "      <td>9.000000</td>\n",
       "      <td>456.000000</td>\n",
       "      <td>62.000000</td>\n",
       "      <td>30.000000</td>\n",
       "      <td>16943.175000</td>\n",
       "      <td>46.000000</td>\n",
       "      <td>50.000000</td>\n",
       "      <td>15360.000000</td>\n",
       "      <td>500.000000</td>\n",
       "      <td>550.000000</td>\n",
       "      <td>200.000000</td>\n",
       "      <td>3.000000</td>\n",
       "      <td>3.000000</td>\n",
       "      <td>192.000000</td>\n",
       "      <td>1689.000000</td>\n",
       "    </tr>\n",
       "    <tr>\n",
       "      <th>75%</th>\n",
       "      <td>1378.750000</td>\n",
       "      <td>11.000000</td>\n",
       "      <td>605.000000</td>\n",
       "      <td>82.000000</td>\n",
       "      <td>57.000000</td>\n",
       "      <td>21424.625000</td>\n",
       "      <td>62.000000</td>\n",
       "      <td>1000.000000</td>\n",
       "      <td>30720.000000</td>\n",
       "      <td>3000.000000</td>\n",
       "      <td>1950.000000</td>\n",
       "      <td>200.000000</td>\n",
       "      <td>3.000000</td>\n",
       "      <td>3.000000</td>\n",
       "      <td>988.000000</td>\n",
       "      <td>1950.000000</td>\n",
       "    </tr>\n",
       "    <tr>\n",
       "      <th>max</th>\n",
       "      <td>1499.000000</td>\n",
       "      <td>12.000000</td>\n",
       "      <td>1727.000000</td>\n",
       "      <td>244.000000</td>\n",
       "      <td>224.000000</td>\n",
       "      <td>49745.690000</td>\n",
       "      <td>75.000000</td>\n",
       "      <td>1000.000000</td>\n",
       "      <td>30720.000000</td>\n",
       "      <td>3000.000000</td>\n",
       "      <td>1950.000000</td>\n",
       "      <td>200.000000</td>\n",
       "      <td>3.000000</td>\n",
       "      <td>3.000000</td>\n",
       "      <td>6274.000000</td>\n",
       "      <td>6824.000000</td>\n",
       "    </tr>\n",
       "  </tbody>\n",
       "</table>\n",
       "</div>"
      ],
      "text/plain": [
       "           user_id        month  month_duration  month_calls  month_message  \\\n",
       "count  3214.000000  3214.000000     3214.000000  3214.000000    3214.000000   \n",
       "mean   1251.590230     8.317362      463.570006    63.038892      38.281269   \n",
       "std     144.659172     2.905413      247.918544    33.236368      36.148326   \n",
       "min    1000.000000     1.000000        0.000000     0.000000       0.000000   \n",
       "25%    1125.000000     6.000000      291.000000    40.000000       9.000000   \n",
       "50%    1253.000000     9.000000      456.000000    62.000000      30.000000   \n",
       "75%    1378.750000    11.000000      605.000000    82.000000      57.000000   \n",
       "max    1499.000000    12.000000     1727.000000   244.000000     224.000000   \n",
       "\n",
       "       month_internet          age  messages_included  mb_per_month_included  \\\n",
       "count     3214.000000  3214.000000        3214.000000            3214.000000   \n",
       "mean     17207.612859    46.641568         341.148102           20067.405103   \n",
       "std       7570.958771    16.586109         438.044726            7082.491569   \n",
       "min          0.000000    18.000000          50.000000           15360.000000   \n",
       "25%      12491.890000    32.000000          50.000000           15360.000000   \n",
       "50%      16943.175000    46.000000          50.000000           15360.000000   \n",
       "75%      21424.625000    62.000000        1000.000000           30720.000000   \n",
       "max      49745.690000    75.000000        1000.000000           30720.000000   \n",
       "\n",
       "       minutes_included  rub_monthly_fee   rub_per_gb  rub_per_message  \\\n",
       "count       3214.000000      3214.000000  3214.000000      3214.000000   \n",
       "mean        1266.179216       979.060361   184.676416         2.387057   \n",
       "std         1152.749279       645.539596    23.054986         0.922199   \n",
       "min          500.000000       550.000000   150.000000         1.000000   \n",
       "25%          500.000000       550.000000   150.000000         1.000000   \n",
       "50%          500.000000       550.000000   200.000000         3.000000   \n",
       "75%         3000.000000      1950.000000   200.000000         3.000000   \n",
       "max         3000.000000      1950.000000   200.000000         3.000000   \n",
       "\n",
       "       rub_per_minute  over_the_norm   month_gain  \n",
       "count     3214.000000    3214.000000  3214.000000  \n",
       "mean         2.387057     561.789048  1540.849409  \n",
       "std          0.922199     777.459105   801.291720  \n",
       "min          1.000000       0.000000   550.000000  \n",
       "25%          1.000000       0.000000   750.000000  \n",
       "50%          3.000000     192.000000  1689.000000  \n",
       "75%          3.000000     988.000000  1950.000000  \n",
       "max          3.000000    6274.000000  6824.000000  "
      ]
     },
     "execution_count": 94,
     "metadata": {},
     "output_type": "execute_result"
    }
   ],
   "source": [
    "df.describe()"
   ]
  },
  {
   "cell_type": "markdown",
   "metadata": {},
   "source": [
    "### Сколько минут разговора требуется пользователям каждого тарифа в месяц"
   ]
  },
  {
   "cell_type": "code",
   "execution_count": 95,
   "metadata": {},
   "outputs": [
    {
     "data": {
      "text/html": [
       "<style  type=\"text/css\" >\n",
       "</style><table id=\"T_c1388_\" ><thead>    <tr>        <th class=\"blank level0\" ></th>        <th class=\"col_heading level0 col0\" colspan=\"4\">month_duration</th>    </tr>    <tr>        <th class=\"blank level1\" ></th>        <th class=\"col_heading level1 col0\" >median</th>        <th class=\"col_heading level1 col1\" >mean</th>        <th class=\"col_heading level1 col2\" >var</th>        <th class=\"col_heading level1 col3\" >std</th>    </tr>    <tr>        <th class=\"index_name level0\" >tariff</th>        <th class=\"blank\" ></th>        <th class=\"blank\" ></th>        <th class=\"blank\" ></th>        <th class=\"blank\" ></th>    </tr></thead><tbody>\n",
       "                <tr>\n",
       "                        <th id=\"T_c1388_level0_row0\" class=\"row_heading level0 row0\" >smart</th>\n",
       "                        <td id=\"T_c1388_row0_col0\" class=\"data row0 col0\" >435.00</td>\n",
       "                        <td id=\"T_c1388_row0_col1\" class=\"data row0 col1\" >429.45</td>\n",
       "                        <td id=\"T_c1388_row0_col2\" class=\"data row0 col2\" >37974.77</td>\n",
       "                        <td id=\"T_c1388_row0_col3\" class=\"data row0 col3\" >194.87</td>\n",
       "            </tr>\n",
       "            <tr>\n",
       "                        <th id=\"T_c1388_level0_row1\" class=\"row_heading level0 row1\" >ultra</th>\n",
       "                        <td id=\"T_c1388_row1_col0\" class=\"data row1 col0\" >532.00</td>\n",
       "                        <td id=\"T_c1388_row1_col1\" class=\"data row1 col1\" >540.78</td>\n",
       "                        <td id=\"T_c1388_row1_col2\" class=\"data row1 col2\" >106105.73</td>\n",
       "                        <td id=\"T_c1388_row1_col3\" class=\"data row1 col3\" >325.74</td>\n",
       "            </tr>\n",
       "    </tbody></table>"
      ],
      "text/plain": [
       "<pandas.io.formats.style.Styler at 0x7f3f21e010d0>"
      ]
     },
     "execution_count": 95,
     "metadata": {},
     "output_type": "execute_result"
    }
   ],
   "source": [
    "df.groupby('tariff').agg({'month_duration':['median','mean','var','std']}).style.format(\"{:.2f}\")"
   ]
  },
  {
   "cell_type": "code",
   "execution_count": 96,
   "metadata": {},
   "outputs": [
    {
     "data": {
      "image/png": "[encoded data removed]",
      "text/plain": [
       "<Figure size 360x360 with 1 Axes>"
      ]
     },
     "metadata": {
      "needs_background": "light"
     },
     "output_type": "display_data"
    }
   ],
   "source": [
    "df.pivot_table(index='tariff', values='month_duration').plot(grid=True, figsize=(5, 5), kind = 'bar',edgecolor='black')\n",
    "plt.title('Минуты')\n",
    "plt.show()"
   ]
  },
  {
   "cell_type": "code",
   "execution_count": 97,
   "metadata": {},
   "outputs": [
    {
     "data": {
      "image/png": "[encoded data removed]",
      "text/plain": [
       "<Figure size 432x288 with 1 Axes>"
      ]
     },
     "metadata": {
      "needs_background": "light"
     },
     "output_type": "display_data"
    },
    {
     "data": {
      "image/png": "[encoded data removed]",
      "text/plain": [
       "<Figure size 432x288 with 1 Axes>"
      ]
     },
     "metadata": {
      "needs_background": "light"
     },
     "output_type": "display_data"
    }
   ],
   "source": [
    "df[df['tariff'] == 'smart']['month_duration'].plot(grid=True,kind='hist', bins=10,edgecolor='black',color ='tab:purple')\n",
    "plt.title('Тариф «Смарт»')\n",
    "plt.xlabel('Минуты')\n",
    "plt.show()\n",
    "df[df['tariff'] == 'ultra']['month_duration'].plot(grid=True,kind='hist', bins=10,edgecolor='black', color='tab:cyan')\n",
    "plt.title('Тариф «Ультра»')\n",
    "plt.xlabel('Минуты')\n",
    "plt.show()"
   ]
  },
  {
   "cell_type": "code",
   "execution_count": 98,
   "metadata": {},
   "outputs": [
    {
     "data": {
      "text/plain": [
       "count    3214.000000\n",
       "mean      463.570006\n",
       "std       247.918544\n",
       "min         0.000000\n",
       "25%       291.000000\n",
       "50%       456.000000\n",
       "75%       605.000000\n",
       "max      1727.000000\n",
       "Name: month_duration, dtype: float64"
      ]
     },
     "execution_count": 98,
     "metadata": {},
     "output_type": "execute_result"
    }
   ],
   "source": [
    "df['month_duration'].describe()"
   ]
  },
  {
   "cell_type": "code",
   "execution_count": 99,
   "metadata": {},
   "outputs": [
    {
     "data": {
      "image/png": "[encoded data removed]",
      "text/plain": [
       "<Figure size 432x288 with 1 Axes>"
      ]
     },
     "metadata": {
      "needs_background": "light"
     },
     "output_type": "display_data"
    }
   ],
   "source": [
    "df['month_duration'].plot(grid=True,kind='hist', bins=10,edgecolor='black',color='tab:orange')\n",
    "plt.title('Тарифы')\n",
    "plt.xlabel('Минуты')\n",
    "plt.show()"
   ]
  },
  {
   "cell_type": "markdown",
   "metadata": {},
   "source": [
    "**Вывод:**\n",
    "\n",
    "На smart в среднем говорят 435 минут (включено 500 минут разговора), на ultra 532 минуты (включено 3000 минут разговора). Из этого следует, что по минутам ни на одном из тарифов нет перерасхода,но клиенты smart близки к порогу перерасхода."
   ]
  },
  {
   "cell_type": "markdown",
   "metadata": {},
   "source": [
    "### Cколько сообщений требуется пользователям каждого тарифа в месяц"
   ]
  },
  {
   "cell_type": "code",
   "execution_count": 100,
   "metadata": {},
   "outputs": [
    {
     "data": {
      "text/html": [
       "<style  type=\"text/css\" >\n",
       "</style><table id=\"T_6a926_\" ><thead>    <tr>        <th class=\"blank level0\" ></th>        <th class=\"col_heading level0 col0\" colspan=\"4\">month_message</th>    </tr>    <tr>        <th class=\"blank level1\" ></th>        <th class=\"col_heading level1 col0\" >median</th>        <th class=\"col_heading level1 col1\" >mean</th>        <th class=\"col_heading level1 col2\" >var</th>        <th class=\"col_heading level1 col3\" >std</th>    </tr>    <tr>        <th class=\"index_name level0\" >tariff</th>        <th class=\"blank\" ></th>        <th class=\"blank\" ></th>        <th class=\"blank\" ></th>        <th class=\"blank\" ></th>    </tr></thead><tbody>\n",
       "                <tr>\n",
       "                        <th id=\"T_6a926_level0_row0\" class=\"row_heading level0 row0\" >smart</th>\n",
       "                        <td id=\"T_6a926_row0_col0\" class=\"data row0 col0\" >28.00</td>\n",
       "                        <td id=\"T_6a926_row0_col1\" class=\"data row0 col1\" >33.38</td>\n",
       "                        <td id=\"T_6a926_row0_col2\" class=\"data row0 col2\" >796.81</td>\n",
       "                        <td id=\"T_6a926_row0_col3\" class=\"data row0 col3\" >28.23</td>\n",
       "            </tr>\n",
       "            <tr>\n",
       "                        <th id=\"T_6a926_level0_row1\" class=\"row_heading level0 row1\" >ultra</th>\n",
       "                        <td id=\"T_6a926_row1_col0\" class=\"data row1 col0\" >38.00</td>\n",
       "                        <td id=\"T_6a926_row1_col1\" class=\"data row1 col1\" >49.36</td>\n",
       "                        <td id=\"T_6a926_row1_col2\" class=\"data row1 col2\" >2285.27</td>\n",
       "                        <td id=\"T_6a926_row1_col3\" class=\"data row1 col3\" >47.80</td>\n",
       "            </tr>\n",
       "    </tbody></table>"
      ],
      "text/plain": [
       "<pandas.io.formats.style.Styler at 0x7f3f2e4e87c0>"
      ]
     },
     "execution_count": 100,
     "metadata": {},
     "output_type": "execute_result"
    }
   ],
   "source": [
    "df.groupby('tariff').agg({'month_message':['median','mean','var','std']}).style.format(\"{:.2f}\")"
   ]
  },
  {
   "cell_type": "code",
   "execution_count": 101,
   "metadata": {},
   "outputs": [
    {
     "data": {
      "image/png": "[encoded data removed]",
      "text/plain": [
       "<Figure size 360x360 with 1 Axes>"
      ]
     },
     "metadata": {
      "needs_background": "light"
     },
     "output_type": "display_data"
    }
   ],
   "source": [
    "df.pivot_table(index='tariff', values='month_message').plot(grid=True, figsize=(5, 5), kind = 'bar',edgecolor='black')\n",
    "plt.title('Сообщения')\n",
    "plt.show()"
   ]
  },
  {
   "cell_type": "code",
   "execution_count": 102,
   "metadata": {},
   "outputs": [
    {
     "data": {
      "image/png": "[encoded data removed]",
      "text/plain": [
       "<Figure size 432x288 with 1 Axes>"
      ]
     },
     "metadata": {
      "needs_background": "light"
     },
     "output_type": "display_data"
    },
    {
     "data": {
      "image/png": "[encoded data removed]",
      "text/plain": [
       "<Figure size 432x288 with 1 Axes>"
      ]
     },
     "metadata": {
      "needs_background": "light"
     },
     "output_type": "display_data"
    }
   ],
   "source": [
    "df[df['tariff'] == 'ultra']['month_message'].plot(grid=True,kind='hist', bins=10,edgecolor='black',color='tab:purple')\n",
    "plt.title('Тариф «Ультра»')\n",
    "plt.xlabel('Сообщения')\n",
    "plt.show()\n",
    "df[df['tariff'] == 'smart']['month_message'].plot(grid=True,kind='hist', bins=10,edgecolor='black',color='tab:cyan')\n",
    "plt.title('Тариф «Смарт»')\n",
    "plt.xlabel('Сообщения')\n",
    "plt.show()"
   ]
  },
  {
   "cell_type": "code",
   "execution_count": 103,
   "metadata": {},
   "outputs": [
    {
     "data": {
      "text/plain": [
       "count    3214.000000\n",
       "mean       38.281269\n",
       "std        36.148326\n",
       "min         0.000000\n",
       "25%         9.000000\n",
       "50%        30.000000\n",
       "75%        57.000000\n",
       "max       224.000000\n",
       "Name: month_message, dtype: float64"
      ]
     },
     "execution_count": 103,
     "metadata": {},
     "output_type": "execute_result"
    }
   ],
   "source": [
    "df['month_message'].describe()"
   ]
  },
  {
   "cell_type": "code",
   "execution_count": 104,
   "metadata": {},
   "outputs": [
    {
     "data": {
      "image/png": "[encoded data removed]",
      "text/plain": [
       "<Figure size 432x288 with 1 Axes>"
      ]
     },
     "metadata": {
      "needs_background": "light"
     },
     "output_type": "display_data"
    }
   ],
   "source": [
    "df['month_message'].plot(grid=True,kind='hist', bins=10,edgecolor='black',color='tab:orange')\n",
    "plt.title('Тарифы')\n",
    "plt.xlabel('Сообщения')\n",
    "plt.show()"
   ]
  },
  {
   "cell_type": "markdown",
   "metadata": {},
   "source": [
    "**Вывод:**\n",
    "\n",
    "На smart в среднем тратят 28 сообщений (включено 50 сообщений), на ultra 38 сообщений  (включено 1000 сообщений). Из этого следует, что клиенты обоих тарифов почти не пользуются отправкой сообщений и далеки от перерасхода ссобщений."
   ]
  },
  {
   "cell_type": "markdown",
   "metadata": {},
   "source": [
    "### Какой объём интернет-трафика требуется пользователям каждого тарифа в месяц"
   ]
  },
  {
   "cell_type": "code",
   "execution_count": 105,
   "metadata": {},
   "outputs": [
    {
     "data": {
      "text/html": [
       "<style  type=\"text/css\" >\n",
       "</style><table id=\"T_672e1_\" ><thead>    <tr>        <th class=\"blank level0\" ></th>        <th class=\"col_heading level0 col0\" colspan=\"4\">month_internet</th>    </tr>    <tr>        <th class=\"blank level1\" ></th>        <th class=\"col_heading level1 col0\" >median</th>        <th class=\"col_heading level1 col1\" >mean</th>        <th class=\"col_heading level1 col2\" >var</th>        <th class=\"col_heading level1 col3\" >std</th>    </tr>    <tr>        <th class=\"index_name level0\" >tariff</th>        <th class=\"blank\" ></th>        <th class=\"blank\" ></th>        <th class=\"blank\" ></th>        <th class=\"blank\" ></th>    </tr></thead><tbody>\n",
       "                <tr>\n",
       "                        <th id=\"T_672e1_level0_row0\" class=\"row_heading level0 row0\" >smart</th>\n",
       "                        <td id=\"T_672e1_row0_col0\" class=\"data row0 col0\" >16506.84</td>\n",
       "                        <td id=\"T_672e1_row0_col1\" class=\"data row0 col1\" >16208.39</td>\n",
       "                        <td id=\"T_672e1_row0_col2\" class=\"data row0 col2\" >34462496.46</td>\n",
       "                        <td id=\"T_672e1_row0_col3\" class=\"data row0 col3\" >5870.48</td>\n",
       "            </tr>\n",
       "            <tr>\n",
       "                        <th id=\"T_672e1_level0_row1\" class=\"row_heading level0 row1\" >ultra</th>\n",
       "                        <td id=\"T_672e1_row1_col0\" class=\"data row1 col0\" >19308.01</td>\n",
       "                        <td id=\"T_672e1_row1_col1\" class=\"data row1 col1\" >19468.81</td>\n",
       "                        <td id=\"T_672e1_row1_col2\" class=\"data row1 col2\" >101751013.78</td>\n",
       "                        <td id=\"T_672e1_row1_col3\" class=\"data row1 col3\" >10087.17</td>\n",
       "            </tr>\n",
       "    </tbody></table>"
      ],
      "text/plain": [
       "<pandas.io.formats.style.Styler at 0x7f3f21c8c280>"
      ]
     },
     "execution_count": 105,
     "metadata": {},
     "output_type": "execute_result"
    }
   ],
   "source": [
    "df.groupby('tariff').agg({'month_internet':['median','mean','var','std']}).style.format(\"{:.2f}\")"
   ]
  },
  {
   "cell_type": "code",
   "execution_count": 106,
   "metadata": {},
   "outputs": [
    {
     "data": {
      "image/png": "[encoded data removed]",
      "text/plain": [
       "<Figure size 360x360 with 1 Axes>"
      ]
     },
     "metadata": {
      "needs_background": "light"
     },
     "output_type": "display_data"
    }
   ],
   "source": [
    "df.pivot_table(index='tariff', values='month_internet').plot(grid=True, figsize=(5, 5), kind = 'bar',edgecolor='black')\n",
    "plt.title('Мб интернета')\n",
    "plt.show()"
   ]
  },
  {
   "cell_type": "code",
   "execution_count": 107,
   "metadata": {},
   "outputs": [
    {
     "data": {
      "image/png": "[encoded data removed]",
      "text/plain": [
       "<Figure size 432x288 with 1 Axes>"
      ]
     },
     "metadata": {
      "needs_background": "light"
     },
     "output_type": "display_data"
    },
    {
     "data": {
      "image/png": "[encoded data removed]",
      "text/plain": [
       "<Figure size 432x288 with 1 Axes>"
      ]
     },
     "metadata": {
      "needs_background": "light"
     },
     "output_type": "display_data"
    }
   ],
   "source": [
    "df[df['tariff'] == 'smart']['month_internet'].plot(grid=True, kind='hist', bins=10,edgecolor='black',color='tab:cyan')\n",
    "plt.title('Тариф «Смарт»')\n",
    "plt.xlabel('Интернет в мб')\n",
    "plt.show()\n",
    "df[df['tariff'] == 'ultra']['month_internet'].plot(grid=True,kind='hist', bins=10,edgecolor='black',color='tab:purple')\n",
    "plt.title('Тариф «Ультра»')\n",
    "plt.xlabel('Интернет в мб')\n",
    "plt.show()"
   ]
  },
  {
   "cell_type": "code",
   "execution_count": 108,
   "metadata": {},
   "outputs": [
    {
     "data": {
      "text/plain": [
       "count     3214.000000\n",
       "mean     17207.612859\n",
       "std       7570.958771\n",
       "min          0.000000\n",
       "25%      12491.890000\n",
       "50%      16943.175000\n",
       "75%      21424.625000\n",
       "max      49745.690000\n",
       "Name: month_internet, dtype: float64"
      ]
     },
     "execution_count": 108,
     "metadata": {},
     "output_type": "execute_result"
    }
   ],
   "source": [
    "df['month_internet'].describe()"
   ]
  },
  {
   "cell_type": "code",
   "execution_count": 109,
   "metadata": {},
   "outputs": [
    {
     "data": {
      "image/png": "[encoded data removed]",
      "text/plain": [
       "<Figure size 432x288 with 1 Axes>"
      ]
     },
     "metadata": {
      "needs_background": "light"
     },
     "output_type": "display_data"
    }
   ],
   "source": [
    "df['month_internet'].plot(grid=True,kind='hist', bins=10,edgecolor='black',color='tab:orange')\n",
    "plt.title('Тарифы')\n",
    "plt.xlabel('Интернет в мб')\n",
    "plt.show()"
   ]
  },
  {
   "cell_type": "markdown",
   "metadata": {},
   "source": [
    "**Вывод:**\n",
    "\n",
    "На smart в среднем используют  16507 Мб (16 Гб) интернета (включено 15 Гб интернет-трафика), на ultra 19308 Мб (19 Гб) интернета (включено 30 Гб интернет-трафика). Из этого следует, что smart привышают лимит по интернету, а у ultra еще большой запас остается до границы лимита."
   ]
  },
  {
   "cell_type": "markdown",
   "metadata": {},
   "source": [
    "**Вывод:**\n",
    "- Smart чаще выходят за пределы тарифа, ultra почти не перерасходуют лимиты по тарифам\n",
    "- По минутам ни на одном из тарифов нет сильного перерасхода,но клиенты smart близки к порогу перерасхода.\n",
    "- Клиенты обоих тарифов почти не пользуются отправкой сообщений и далеки от перерасхода сообщений.\n",
    "- Все в равной степени любят пользоваться интернетом, т.к. smart привышают лимит по интернету, а у ultra еще большой запас остается до границы лимита."
   ]
  },
  {
   "cell_type": "markdown",
   "metadata": {},
   "source": [
    "## Проверьте гипотезы"
   ]
  },
  {
   "cell_type": "markdown",
   "metadata": {},
   "source": [
    "-  Различаются ли средняя выручка пользователей тарифов «Ультра» и «Смарт» ;\n",
    "-  Отличается ли средняя выручка пользователей из Москвы  от выручки пользователей из других регионов.\n",
    "\n",
    "Поясним как  формулировали нулевую и альтернативную гипотезы и какой критерий использовали для проверки гипотез и почему."
   ]
  },
  {
   "cell_type": "markdown",
   "metadata": {},
   "source": [
    "### Различаются ли средняя выручка пользователей тарифов «Ультра» и «Смарт» "
   ]
  },
  {
   "cell_type": "markdown",
   "metadata": {},
   "source": [
    "Формулируем нулевую гипотезу H₀, исходя из H₀ формулируем альтернативную гипотезу H₁.Оно может звучать так: «Средняя выручка пользователей тарифов «Ультра» и «Смарт» различается».\n",
    "    "
   ]
  },
  {
   "cell_type": "markdown",
   "metadata": {},
   "source": [
    "**Гипотеза**\n",
    "\n",
    "H₀:Средняя выручка пользователей тарифов «Ультра» и «Смарт» не различается\n",
    "\n",
    "H₁:Средняя выручка пользователей тарифов «Ультра» и «Смарт» различается"
   ]
  },
  {
   "cell_type": "code",
   "execution_count": 110,
   "metadata": {},
   "outputs": [],
   "source": [
    "ultra = df[df['tariff'] == 'ultra']"
   ]
  },
  {
   "cell_type": "code",
   "execution_count": 111,
   "metadata": {},
   "outputs": [],
   "source": [
    "ultra = ultra['month_gain']"
   ]
  },
  {
   "cell_type": "code",
   "execution_count": 112,
   "metadata": {},
   "outputs": [],
   "source": [
    "smart = df[df['tariff'] == 'smart']"
   ]
  },
  {
   "cell_type": "code",
   "execution_count": 113,
   "metadata": {},
   "outputs": [],
   "source": [
    "smart = smart['month_gain']"
   ]
  },
  {
   "cell_type": "code",
   "execution_count": 114,
   "metadata": {},
   "outputs": [],
   "source": [
    "alpha = .05 # критический уровень статистической значимости"
   ]
  },
  {
   "cell_type": "code",
   "execution_count": 115,
   "metadata": {},
   "outputs": [],
   "source": [
    "results = st.ttest_ind(ultra, smart,equal_var = False)"
   ]
  },
  {
   "cell_type": "code",
   "execution_count": 116,
   "metadata": {},
   "outputs": [
    {
     "name": "stdout",
     "output_type": "stream",
     "text": [
      "p-значение: 4.7897104728368674e-238\n",
      "Отвергаем нулевую гипотезу\n"
     ]
    }
   ],
   "source": [
    "print('p-значение:', results.pvalue)\n",
    "\n",
    "if results.pvalue < alpha:\n",
    "    print(\"Отвергаем нулевую гипотезу\")\n",
    "else:\n",
    "    print(\"Не получилось отвергнуть нулевую гипотезу\")"
   ]
  },
  {
   "cell_type": "markdown",
   "metadata": {},
   "source": [
    "**Вывод:**\n",
    "\n",
    "Средняя выручка пользователей тарифов «Ультра» и «Смарт» различается"
   ]
  },
  {
   "cell_type": "markdown",
   "metadata": {},
   "source": [
    "### Отличается ли средняя выручка пользователей из Москвы  от выручки пользователей из других регионов"
   ]
  },
  {
   "cell_type": "markdown",
   "metadata": {},
   "source": [
    "**Гипотеза**\n",
    "\n",
    "H₀:Средняя выручка пользователей из Москвы и из других регионов не отичается\n",
    "\n",
    "H₁:Средняя выручка пользователей из Москвы и из других регионов отличается"
   ]
  },
  {
   "cell_type": "code",
   "execution_count": 117,
   "metadata": {},
   "outputs": [
    {
     "data": {
      "text/plain": [
       "array(['Архангельск', 'Астрахань', 'Балашиха', 'Барнаул', 'Белгород',\n",
       "       'Брянск', 'Владивосток', 'Владикавказ', 'Владимир', 'Волгоград',\n",
       "       'Волжский', 'Вологда', 'Воронеж', 'Грозный', 'Екатеринбург',\n",
       "       'Иваново', 'Ижевск', 'Иркутск', 'Казань', 'Калининград', 'Калуга',\n",
       "       'Кемерово', 'Киров', 'Кострома', 'Краснодар', 'Красноярск',\n",
       "       'Курган', 'Курск', 'Липецк', 'Магнитогорск', 'Махачкала', 'Москва',\n",
       "       'Мурманск', 'Набережные Челны', 'Нижневартовск', 'Нижний Новгород',\n",
       "       'Нижний Тагил', 'Новокузнецк', 'Новороссийск', 'Новосибирск',\n",
       "       'Омск', 'Оренбург', 'Орёл', 'Пенза', 'Пермь', 'Петрозаводск',\n",
       "       'Подольск', 'Ростов-на-Дону', 'Рязань', 'Самара',\n",
       "       'Санкт-Петербург', 'Саранск', 'Саратов', 'Севастополь', 'Смоленск',\n",
       "       'Сочи', 'Ставрополь', 'Стерлитамак', 'Сургут', 'Тамбов', 'Тверь',\n",
       "       'Тольятти', 'Томск', 'Тула', 'Тюмень', 'Улан-Удэ', 'Ульяновск',\n",
       "       'Уфа', 'Хабаровск', 'Химки', 'Чебоксары', 'Челябинск', 'Череповец',\n",
       "       'Чита', 'Якутск', 'Ярославль'], dtype=object)"
      ]
     },
     "execution_count": 117,
     "metadata": {},
     "output_type": "execute_result"
    }
   ],
   "source": [
    "df['city'].sort_values().unique() #смотрим уникальные значения в названии населённого пункта"
   ]
  },
  {
   "cell_type": "code",
   "execution_count": 118,
   "metadata": {},
   "outputs": [
    {
     "data": {
      "text/plain": [
       "Москва             611\n",
       "Санкт-Петербург    270\n",
       "Новосибирск         98\n",
       "Уфа                 95\n",
       "Краснодар           86\n",
       "Ульяновск           83\n",
       "Казань              77\n",
       "Омск                72\n",
       "Пермь               68\n",
       "Самара              67\n",
       "Name: city, dtype: int64"
      ]
     },
     "execution_count": 118,
     "metadata": {},
     "output_type": "execute_result"
    }
   ],
   "source": [
    "df['city'].value_counts(dropna=False).head(10) "
   ]
  },
  {
   "cell_type": "code",
   "execution_count": 119,
   "metadata": {},
   "outputs": [
    {
     "data": {
      "text/plain": [
       "76"
      ]
     },
     "execution_count": 119,
     "metadata": {},
     "output_type": "execute_result"
    }
   ],
   "source": [
    "len(df['city'].unique()) #считаем уникальные значения в названии населённого пункта"
   ]
  },
  {
   "cell_type": "code",
   "execution_count": 120,
   "metadata": {},
   "outputs": [],
   "source": [
    "moscow = df[df['city'] == 'Москва']"
   ]
  },
  {
   "cell_type": "code",
   "execution_count": 121,
   "metadata": {},
   "outputs": [],
   "source": [
    "moscow = moscow['month_gain']"
   ]
  },
  {
   "cell_type": "code",
   "execution_count": 122,
   "metadata": {},
   "outputs": [],
   "source": [
    "region = df[df['city'] != 'Москва']"
   ]
  },
  {
   "cell_type": "code",
   "execution_count": 123,
   "metadata": {},
   "outputs": [],
   "source": [
    "region = region['month_gain']"
   ]
  },
  {
   "cell_type": "code",
   "execution_count": 124,
   "metadata": {},
   "outputs": [],
   "source": [
    "alpha = .05 # критический уровень статистической значимости"
   ]
  },
  {
   "cell_type": "code",
   "execution_count": 125,
   "metadata": {},
   "outputs": [],
   "source": [
    "results = st.ttest_ind(moscow, region ,equal_var = False)"
   ]
  },
  {
   "cell_type": "code",
   "execution_count": 126,
   "metadata": {},
   "outputs": [
    {
     "name": "stdout",
     "output_type": "stream",
     "text": [
      "p-значение: 0.5749090668370982\n",
      "Не получилось отвергнуть нулевую гипотезу\n"
     ]
    }
   ],
   "source": [
    "print('p-значение:', results.pvalue)\n",
    "\n",
    "if results.pvalue < alpha:\n",
    "    print(\"Отвергаем нулевую гипотезу\")\n",
    "else:\n",
    "    print(\"Не получилось отвергнуть нулевую гипотезу\")"
   ]
  },
  {
   "cell_type": "markdown",
   "metadata": {},
   "source": [
    "**Вывод:**\n",
    "\n",
    "Cредняя выручка пользователей из Москвы не отличается от выручки пользователей из других регионов."
   ]
  },
  {
   "cell_type": "markdown",
   "metadata": {},
   "source": [
    "## Общий вывод"
   ]
  },
  {
   "cell_type": "markdown",
   "metadata": {},
   "source": [
    "- Пользователи  тарифа «Смарт» чаще выходят за пределы тарифа, пользователи тарифа «Ультра» почти не перерасходуют лимиты по тарифам.\n",
    "- На тарифе «Смарт» в среднем говорят 435 минут (включено 500 минут разговора), на тарифе «Ультра» 532 минуты (включено 3000 минут разговора). Из этого следует, что по минутам ни на одном из тарифов нет перерасхода,но пользователи тарифа «Смарт» близки к порогу перерасхода.\n",
    "- На тарифе «Смарт» в среднем используют 16507 Мб (16 Гб) интернета (включено 15 Гб интернет-трафика), на тарифе «Ультра» 19308 Мб (19 Гб) интернета (включено 30 Гб интернет-трафика). Из этого следует, что пользователи тарифа «Смарт» привышают лимит по интернету, а у пользователей тарифа «Ультра» еще большой запас остается до границы лимита.\n",
    "- На тарифе «Смарт» в среднем тратят 28 сообщений (включено 50 сообщений), на тарифе «Ультра» 38 сообщений (включено 1000 сообщений). Из этого следует, что клиенты обоих тарифов почти не пользуются отправкой сообщений и далеки от перерасхода собщений.Сообщения не актуальны у обоих тарифов.\n",
    "- Средняя выручка пользователей тарифов «Ультра» и «Смарт» различается.\n",
    "- Выручка пользователей из Москвы и из других регионов существенно не отичается.\n",
    "- Чаще всего перерасход происходит за счет пользования интернетом, затем за счет звонков и очень редко кто перерасходует сообщения, в основном на тарифе «Смарт».\n",
    "- Пользователи разных тарифов «Смарт» и «Ультра» ведут себя по разному,т.к. каждый скорее всего выбирал себе тариф \"по душе\" и пользователи тарифа «Ультра» чаще всего далеки до пределов лимита, а пользователи «Смарт» немного перерасходуют установленный лимит.\n",
    "\n",
    "**Вывод:**\n",
    "Для пользователей тарифов «Смарт» и «Ультра» их тариф лучший, если нет альтернатив.\n",
    "\n",
    "**Рекомендации:**\n",
    "Рассмотреть для некоторых пользователей создание нового тарифа.Пример:\n",
    "\n",
    "**Тариф «Стандарт»**\n",
    "\n",
    "-  Ежемесячная плата: 1500 рублей\n",
    "-  Включено 500 минут разговора, 50 сообщений и 20000 Мб интернет-трафика\n",
    "-  Стоимость услуг сверх тарифного пакета:\n",
    "-  минута разговора: 2,5 рубля\n",
    "-  сообщение: 2,5 рубля\n",
    "-  1 Гб интернет-трафика: 200 рублей\n",
    "\n",
    "\n",
    "\n"
   ]
  }
 ],
 "metadata": {
  "ExecuteTimeLog": [
   {
    "duration": 1168,
    "start_time": "2022-02-21T07:45:26.199Z"
   },
   {
    "duration": 57,
    "start_time": "2022-02-21T07:45:29.751Z"
   },
   {
    "duration": 67,
    "start_time": "2022-02-21T07:59:45.437Z"
   },
   {
    "duration": 93,
    "start_time": "2022-02-21T08:00:14.072Z"
   },
   {
    "duration": 2,
    "start_time": "2022-02-21T08:00:23.587Z"
   },
   {
    "duration": 78,
    "start_time": "2022-02-21T08:00:24.378Z"
   },
   {
    "duration": 346,
    "start_time": "2022-02-21T08:00:32.238Z"
   },
   {
    "duration": 3,
    "start_time": "2022-02-21T08:00:35.544Z"
   },
   {
    "duration": 353,
    "start_time": "2022-02-21T08:00:36.099Z"
   },
   {
    "duration": 13,
    "start_time": "2022-02-21T08:01:31.077Z"
   },
   {
    "duration": 8,
    "start_time": "2022-02-21T08:01:41.748Z"
   },
   {
    "duration": 662,
    "start_time": "2022-02-21T08:02:24.556Z"
   },
   {
    "duration": 8,
    "start_time": "2022-02-21T08:02:25.388Z"
   },
   {
    "duration": 328,
    "start_time": "2022-02-21T08:02:43.437Z"
   },
   {
    "duration": 7,
    "start_time": "2022-02-21T08:02:44.803Z"
   },
   {
    "duration": 7,
    "start_time": "2022-02-21T08:02:53.806Z"
   },
   {
    "duration": 6,
    "start_time": "2022-02-21T08:02:59.288Z"
   },
   {
    "duration": 277,
    "start_time": "2022-02-21T08:03:16.468Z"
   },
   {
    "duration": 14,
    "start_time": "2022-02-21T08:04:12.836Z"
   },
   {
    "duration": 11,
    "start_time": "2022-02-21T08:04:36.886Z"
   },
   {
    "duration": 10,
    "start_time": "2022-02-21T08:04:46.232Z"
   },
   {
    "duration": 8,
    "start_time": "2022-02-21T08:05:02.386Z"
   },
   {
    "duration": 10,
    "start_time": "2022-02-21T08:05:02.995Z"
   },
   {
    "duration": 8,
    "start_time": "2022-02-21T08:05:04.146Z"
   },
   {
    "duration": 6,
    "start_time": "2022-02-21T08:05:04.834Z"
   },
   {
    "duration": 253,
    "start_time": "2022-02-21T08:08:30.116Z"
   },
   {
    "duration": 180,
    "start_time": "2022-02-21T08:08:48.478Z"
   },
   {
    "duration": 231,
    "start_time": "2022-02-21T08:09:25.013Z"
   },
   {
    "duration": 235,
    "start_time": "2022-02-21T08:09:28.878Z"
   },
   {
    "duration": 216,
    "start_time": "2022-02-21T08:09:49.004Z"
   },
   {
    "duration": 264,
    "start_time": "2022-02-21T08:11:08.938Z"
   },
   {
    "duration": 307,
    "start_time": "2022-02-21T08:11:48.801Z"
   },
   {
    "duration": 7,
    "start_time": "2022-02-21T08:11:50.314Z"
   },
   {
    "duration": 96,
    "start_time": "2022-02-21T08:12:03.459Z"
   },
   {
    "duration": 372,
    "start_time": "2022-02-21T08:12:09.797Z"
   },
   {
    "duration": 204,
    "start_time": "2022-02-21T08:13:29.509Z"
   },
   {
    "duration": 6,
    "start_time": "2022-02-21T08:13:33.976Z"
   },
   {
    "duration": 295,
    "start_time": "2022-02-21T08:13:43.218Z"
   },
   {
    "duration": 203,
    "start_time": "2022-02-21T08:13:53.268Z"
   },
   {
    "duration": 7,
    "start_time": "2022-02-21T08:17:59.410Z"
   },
   {
    "duration": 5,
    "start_time": "2022-02-21T08:18:24.974Z"
   },
   {
    "duration": 9,
    "start_time": "2022-02-21T08:18:49.845Z"
   },
   {
    "duration": 194,
    "start_time": "2022-02-21T08:18:59.725Z"
   },
   {
    "duration": 201,
    "start_time": "2022-02-21T09:22:08.990Z"
   },
   {
    "duration": 3,
    "start_time": "2022-02-21T09:22:11.797Z"
   },
   {
    "duration": 333,
    "start_time": "2022-02-21T09:22:12.277Z"
   },
   {
    "duration": 6,
    "start_time": "2022-02-21T09:22:15.163Z"
   },
   {
    "duration": 14,
    "start_time": "2022-02-21T09:22:43.368Z"
   },
   {
    "duration": 3,
    "start_time": "2022-02-21T09:24:18.648Z"
   },
   {
    "duration": 332,
    "start_time": "2022-02-21T09:24:20.993Z"
   },
   {
    "duration": 6,
    "start_time": "2022-02-21T09:24:26.036Z"
   },
   {
    "duration": 1106,
    "start_time": "2022-02-21T09:24:45.454Z"
   },
   {
    "duration": 382,
    "start_time": "2022-02-21T09:24:47.324Z"
   },
   {
    "duration": 9,
    "start_time": "2022-02-21T09:24:47.708Z"
   },
   {
    "duration": 265,
    "start_time": "2022-02-21T09:24:47.718Z"
   },
   {
    "duration": 14,
    "start_time": "2022-02-21T09:24:47.985Z"
   },
   {
    "duration": 269,
    "start_time": "2022-02-21T09:24:48.000Z"
   },
   {
    "duration": -579,
    "start_time": "2022-02-21T09:24:48.851Z"
   },
   {
    "duration": -580,
    "start_time": "2022-02-21T09:24:48.853Z"
   },
   {
    "duration": 1074,
    "start_time": "2022-02-21T09:28:05.092Z"
   },
   {
    "duration": 350,
    "start_time": "2022-02-21T09:28:06.168Z"
   },
   {
    "duration": 9,
    "start_time": "2022-02-21T09:28:06.520Z"
   },
   {
    "duration": 268,
    "start_time": "2022-02-21T09:28:06.531Z"
   },
   {
    "duration": 18,
    "start_time": "2022-02-21T09:28:06.801Z"
   },
   {
    "duration": 6,
    "start_time": "2022-02-21T09:28:06.820Z"
   },
   {
    "duration": 169,
    "start_time": "2022-02-21T09:28:06.828Z"
   },
   {
    "duration": 19,
    "start_time": "2022-02-21T09:28:06.999Z"
   },
   {
    "duration": 6,
    "start_time": "2022-02-21T09:28:07.020Z"
   },
   {
    "duration": 327,
    "start_time": "2022-02-21T09:28:07.028Z"
   },
   {
    "duration": -31,
    "start_time": "2022-02-21T09:28:07.388Z"
   },
   {
    "duration": -106,
    "start_time": "2022-02-21T09:28:07.464Z"
   },
   {
    "duration": -107,
    "start_time": "2022-02-21T09:28:07.466Z"
   },
   {
    "duration": -109,
    "start_time": "2022-02-21T09:28:07.469Z"
   },
   {
    "duration": -111,
    "start_time": "2022-02-21T09:28:07.472Z"
   },
   {
    "duration": -112,
    "start_time": "2022-02-21T09:28:07.474Z"
   },
   {
    "duration": -113,
    "start_time": "2022-02-21T09:28:07.476Z"
   },
   {
    "duration": 2,
    "start_time": "2022-02-21T09:30:45.910Z"
   },
   {
    "duration": 325,
    "start_time": "2022-02-21T09:30:46.388Z"
   },
   {
    "duration": 9,
    "start_time": "2022-02-21T09:30:46.986Z"
   },
   {
    "duration": 25,
    "start_time": "2022-02-21T09:30:47.960Z"
   },
   {
    "duration": 21,
    "start_time": "2022-02-21T09:30:49.188Z"
   },
   {
    "duration": 8,
    "start_time": "2022-02-21T09:30:49.633Z"
   },
   {
    "duration": 28,
    "start_time": "2022-02-21T09:30:51.139Z"
   },
   {
    "duration": 17,
    "start_time": "2022-02-21T09:30:57.287Z"
   },
   {
    "duration": 7,
    "start_time": "2022-02-21T09:30:57.710Z"
   },
   {
    "duration": 204,
    "start_time": "2022-02-21T09:30:58.622Z"
   },
   {
    "duration": 203,
    "start_time": "2022-02-21T09:30:59.289Z"
   },
   {
    "duration": 1115,
    "start_time": "2022-02-21T09:31:26.847Z"
   },
   {
    "duration": 369,
    "start_time": "2022-02-21T09:31:27.964Z"
   },
   {
    "duration": 11,
    "start_time": "2022-02-21T09:31:28.335Z"
   },
   {
    "duration": 31,
    "start_time": "2022-02-21T09:31:28.348Z"
   },
   {
    "duration": 21,
    "start_time": "2022-02-21T09:31:28.380Z"
   },
   {
    "duration": 25,
    "start_time": "2022-02-21T09:31:28.402Z"
   },
   {
    "duration": 37,
    "start_time": "2022-02-21T09:31:28.428Z"
   },
   {
    "duration": 18,
    "start_time": "2022-02-21T09:31:28.466Z"
   },
   {
    "duration": 33,
    "start_time": "2022-02-21T09:31:28.486Z"
   },
   {
    "duration": 13,
    "start_time": "2022-02-21T09:31:28.521Z"
   },
   {
    "duration": 15,
    "start_time": "2022-02-21T09:31:28.536Z"
   },
   {
    "duration": 9,
    "start_time": "2022-02-21T09:31:28.552Z"
   },
   {
    "duration": 61,
    "start_time": "2022-02-21T09:31:28.562Z"
   },
   {
    "duration": 5,
    "start_time": "2022-02-21T09:31:28.625Z"
   },
   {
    "duration": 11,
    "start_time": "2022-02-21T09:31:28.632Z"
   },
   {
    "duration": 16,
    "start_time": "2022-02-21T09:31:28.645Z"
   },
   {
    "duration": 11,
    "start_time": "2022-02-21T09:31:28.663Z"
   },
   {
    "duration": 78,
    "start_time": "2022-02-21T09:35:12.699Z"
   },
   {
    "duration": 3,
    "start_time": "2022-02-21T09:35:29.281Z"
   },
   {
    "duration": 367,
    "start_time": "2022-02-21T09:35:30.352Z"
   },
   {
    "duration": 9,
    "start_time": "2022-02-21T09:35:32.188Z"
   },
   {
    "duration": 28,
    "start_time": "2022-02-21T09:35:33.207Z"
   },
   {
    "duration": 1121,
    "start_time": "2022-02-21T09:51:12.586Z"
   },
   {
    "duration": 366,
    "start_time": "2022-02-21T09:51:13.709Z"
   },
   {
    "duration": 10,
    "start_time": "2022-02-21T09:51:14.077Z"
   },
   {
    "duration": 32,
    "start_time": "2022-02-21T09:51:14.089Z"
   },
   {
    "duration": 19,
    "start_time": "2022-02-21T09:51:14.122Z"
   },
   {
    "duration": 24,
    "start_time": "2022-02-21T09:51:14.143Z"
   },
   {
    "duration": 53,
    "start_time": "2022-02-21T09:51:14.169Z"
   },
   {
    "duration": 5,
    "start_time": "2022-02-21T09:51:14.224Z"
   },
   {
    "duration": 279,
    "start_time": "2022-02-21T09:51:14.231Z"
   },
   {
    "duration": -65,
    "start_time": "2022-02-21T09:51:14.577Z"
   },
   {
    "duration": -69,
    "start_time": "2022-02-21T09:51:14.583Z"
   },
   {
    "duration": -81,
    "start_time": "2022-02-21T09:51:14.596Z"
   },
   {
    "duration": -82,
    "start_time": "2022-02-21T09:51:14.598Z"
   },
   {
    "duration": -83,
    "start_time": "2022-02-21T09:51:14.600Z"
   },
   {
    "duration": -86,
    "start_time": "2022-02-21T09:51:14.604Z"
   },
   {
    "duration": -87,
    "start_time": "2022-02-21T09:51:14.606Z"
   },
   {
    "duration": -88,
    "start_time": "2022-02-21T09:51:14.608Z"
   },
   {
    "duration": -263,
    "start_time": "2022-02-21T09:51:14.784Z"
   },
   {
    "duration": -277,
    "start_time": "2022-02-21T09:51:14.799Z"
   },
   {
    "duration": -281,
    "start_time": "2022-02-21T09:51:14.804Z"
   },
   {
    "duration": -283,
    "start_time": "2022-02-21T09:51:14.808Z"
   },
   {
    "duration": -284,
    "start_time": "2022-02-21T09:51:14.810Z"
   },
   {
    "duration": -286,
    "start_time": "2022-02-21T09:51:14.813Z"
   },
   {
    "duration": -315,
    "start_time": "2022-02-21T09:51:14.842Z"
   },
   {
    "duration": -321,
    "start_time": "2022-02-21T09:51:14.849Z"
   },
   {
    "duration": 1039,
    "start_time": "2022-02-21T09:52:02.434Z"
   },
   {
    "duration": 377,
    "start_time": "2022-02-21T09:52:03.474Z"
   },
   {
    "duration": 11,
    "start_time": "2022-02-21T09:52:03.853Z"
   },
   {
    "duration": 30,
    "start_time": "2022-02-21T09:52:03.866Z"
   },
   {
    "duration": 31,
    "start_time": "2022-02-21T09:52:03.898Z"
   },
   {
    "duration": 24,
    "start_time": "2022-02-21T09:52:03.931Z"
   },
   {
    "duration": 25,
    "start_time": "2022-02-21T09:52:03.957Z"
   },
   {
    "duration": 4,
    "start_time": "2022-02-21T09:52:03.985Z"
   },
   {
    "duration": 28,
    "start_time": "2022-02-21T09:52:03.991Z"
   },
   {
    "duration": 8,
    "start_time": "2022-02-21T09:52:04.021Z"
   },
   {
    "duration": 36,
    "start_time": "2022-02-21T09:52:04.030Z"
   },
   {
    "duration": 6,
    "start_time": "2022-02-21T09:52:04.068Z"
   },
   {
    "duration": 9,
    "start_time": "2022-02-21T09:52:04.075Z"
   },
   {
    "duration": 25,
    "start_time": "2022-02-21T09:52:04.119Z"
   },
   {
    "duration": 15,
    "start_time": "2022-02-21T09:52:04.146Z"
   },
   {
    "duration": 6,
    "start_time": "2022-02-21T09:52:04.163Z"
   },
   {
    "duration": 50,
    "start_time": "2022-02-21T09:52:04.171Z"
   },
   {
    "duration": 16,
    "start_time": "2022-02-21T09:52:04.222Z"
   },
   {
    "duration": 10,
    "start_time": "2022-02-21T09:52:04.240Z"
   },
   {
    "duration": 27,
    "start_time": "2022-02-21T09:52:04.252Z"
   },
   {
    "duration": 42,
    "start_time": "2022-02-21T09:52:04.281Z"
   },
   {
    "duration": 12,
    "start_time": "2022-02-21T09:52:04.324Z"
   },
   {
    "duration": 15,
    "start_time": "2022-02-21T09:52:04.339Z"
   },
   {
    "duration": 9,
    "start_time": "2022-02-21T09:52:04.355Z"
   },
   {
    "duration": 17,
    "start_time": "2022-02-21T09:57:14.691Z"
   },
   {
    "duration": 20,
    "start_time": "2022-02-21T09:57:15.766Z"
   },
   {
    "duration": 9,
    "start_time": "2022-02-21T09:57:17.168Z"
   },
   {
    "duration": 10,
    "start_time": "2022-02-21T09:57:18.492Z"
   },
   {
    "duration": 6,
    "start_time": "2022-02-21T10:04:01.575Z"
   },
   {
    "duration": 1074,
    "start_time": "2022-02-21T10:09:10.766Z"
   },
   {
    "duration": 361,
    "start_time": "2022-02-21T10:09:11.843Z"
   },
   {
    "duration": 11,
    "start_time": "2022-02-21T10:09:12.207Z"
   },
   {
    "duration": 37,
    "start_time": "2022-02-21T10:09:12.220Z"
   },
   {
    "duration": 19,
    "start_time": "2022-02-21T10:09:12.259Z"
   },
   {
    "duration": 40,
    "start_time": "2022-02-21T10:09:12.281Z"
   },
   {
    "duration": 28,
    "start_time": "2022-02-21T10:09:12.323Z"
   },
   {
    "duration": 5,
    "start_time": "2022-02-21T10:09:12.352Z"
   },
   {
    "duration": 7,
    "start_time": "2022-02-21T10:09:12.360Z"
   },
   {
    "duration": 7,
    "start_time": "2022-02-21T10:09:12.369Z"
   },
   {
    "duration": 51,
    "start_time": "2022-02-21T10:09:12.378Z"
   },
   {
    "duration": 7,
    "start_time": "2022-02-21T10:09:12.431Z"
   },
   {
    "duration": 29,
    "start_time": "2022-02-21T10:09:12.440Z"
   },
   {
    "duration": 17,
    "start_time": "2022-02-21T10:09:12.471Z"
   },
   {
    "duration": 40,
    "start_time": "2022-02-21T10:09:12.489Z"
   },
   {
    "duration": 22,
    "start_time": "2022-02-21T10:09:12.531Z"
   },
   {
    "duration": 11,
    "start_time": "2022-02-21T10:09:12.554Z"
   },
   {
    "duration": 12,
    "start_time": "2022-02-21T10:09:12.567Z"
   },
   {
    "duration": 45,
    "start_time": "2022-02-21T10:09:12.581Z"
   },
   {
    "duration": 16,
    "start_time": "2022-02-21T10:09:12.628Z"
   },
   {
    "duration": 14,
    "start_time": "2022-02-21T10:09:12.646Z"
   },
   {
    "duration": 15,
    "start_time": "2022-02-21T10:09:12.662Z"
   },
   {
    "duration": 56,
    "start_time": "2022-02-21T10:09:12.679Z"
   },
   {
    "duration": 7,
    "start_time": "2022-02-21T10:09:12.737Z"
   },
   {
    "duration": 8,
    "start_time": "2022-02-21T10:09:12.746Z"
   },
   {
    "duration": 8,
    "start_time": "2022-02-21T10:09:12.756Z"
   },
   {
    "duration": 68,
    "start_time": "2022-02-21T10:09:12.767Z"
   },
   {
    "duration": 6,
    "start_time": "2022-02-21T10:09:12.837Z"
   },
   {
    "duration": 71,
    "start_time": "2022-02-21T10:09:12.844Z"
   },
   {
    "duration": -49,
    "start_time": "2022-02-21T10:09:12.966Z"
   },
   {
    "duration": -50,
    "start_time": "2022-02-21T10:09:12.968Z"
   },
   {
    "duration": -53,
    "start_time": "2022-02-21T10:09:12.972Z"
   },
   {
    "duration": -54,
    "start_time": "2022-02-21T10:09:12.974Z"
   },
   {
    "duration": -56,
    "start_time": "2022-02-21T10:09:12.977Z"
   },
   {
    "duration": -59,
    "start_time": "2022-02-21T10:09:12.981Z"
   },
   {
    "duration": -61,
    "start_time": "2022-02-21T10:09:12.984Z"
   },
   {
    "duration": -62,
    "start_time": "2022-02-21T10:09:12.986Z"
   },
   {
    "duration": 1182,
    "start_time": "2022-02-21T10:09:24.405Z"
   },
   {
    "duration": 378,
    "start_time": "2022-02-21T10:09:25.588Z"
   },
   {
    "duration": 11,
    "start_time": "2022-02-21T10:09:25.968Z"
   },
   {
    "duration": 31,
    "start_time": "2022-02-21T10:09:25.981Z"
   },
   {
    "duration": 20,
    "start_time": "2022-02-21T10:09:26.013Z"
   },
   {
    "duration": 25,
    "start_time": "2022-02-21T10:09:26.034Z"
   },
   {
    "duration": 28,
    "start_time": "2022-02-21T10:09:26.061Z"
   },
   {
    "duration": 31,
    "start_time": "2022-02-21T10:09:26.090Z"
   },
   {
    "duration": 10,
    "start_time": "2022-02-21T10:09:26.124Z"
   },
   {
    "duration": 11,
    "start_time": "2022-02-21T10:09:26.136Z"
   },
   {
    "duration": 19,
    "start_time": "2022-02-21T10:09:26.148Z"
   },
   {
    "duration": 8,
    "start_time": "2022-02-21T10:09:26.169Z"
   },
   {
    "duration": 64,
    "start_time": "2022-02-21T10:09:26.179Z"
   },
   {
    "duration": 20,
    "start_time": "2022-02-21T10:09:26.245Z"
   },
   {
    "duration": 18,
    "start_time": "2022-02-21T10:09:26.267Z"
   },
   {
    "duration": 22,
    "start_time": "2022-02-21T10:09:26.319Z"
   },
   {
    "duration": 11,
    "start_time": "2022-02-21T10:09:26.343Z"
   },
   {
    "duration": 12,
    "start_time": "2022-02-21T10:09:26.356Z"
   },
   {
    "duration": 48,
    "start_time": "2022-02-21T10:09:26.370Z"
   },
   {
    "duration": 23,
    "start_time": "2022-02-21T10:09:26.420Z"
   },
   {
    "duration": 14,
    "start_time": "2022-02-21T10:09:26.445Z"
   },
   {
    "duration": 17,
    "start_time": "2022-02-21T10:09:26.461Z"
   },
   {
    "duration": 43,
    "start_time": "2022-02-21T10:09:26.479Z"
   },
   {
    "duration": 8,
    "start_time": "2022-02-21T10:09:26.524Z"
   },
   {
    "duration": 10,
    "start_time": "2022-02-21T10:09:26.534Z"
   },
   {
    "duration": 7,
    "start_time": "2022-02-21T10:09:26.546Z"
   },
   {
    "duration": 28,
    "start_time": "2022-02-21T10:09:26.556Z"
   },
   {
    "duration": 6,
    "start_time": "2022-02-21T10:09:26.619Z"
   },
   {
    "duration": 12,
    "start_time": "2022-02-21T10:09:26.626Z"
   },
   {
    "duration": 15,
    "start_time": "2022-02-21T10:09:26.640Z"
   },
   {
    "duration": 8,
    "start_time": "2022-02-21T10:09:26.657Z"
   },
   {
    "duration": 6,
    "start_time": "2022-02-21T10:09:26.667Z"
   },
   {
    "duration": 334,
    "start_time": "2022-02-21T10:09:26.674Z"
   },
   {
    "duration": -45,
    "start_time": "2022-02-21T10:09:27.055Z"
   },
   {
    "duration": -47,
    "start_time": "2022-02-21T10:09:27.058Z"
   },
   {
    "duration": -54,
    "start_time": "2022-02-21T10:09:27.066Z"
   },
   {
    "duration": 5,
    "start_time": "2022-02-21T10:11:38.198Z"
   },
   {
    "duration": 5,
    "start_time": "2022-02-21T10:11:38.742Z"
   },
   {
    "duration": 75,
    "start_time": "2022-02-21T10:11:39.712Z"
   },
   {
    "duration": 4,
    "start_time": "2022-02-21T10:11:45.146Z"
   },
   {
    "duration": 11,
    "start_time": "2022-02-21T10:11:46.309Z"
   },
   {
    "duration": 7,
    "start_time": "2022-02-21T10:11:48.439Z"
   },
   {
    "duration": 16,
    "start_time": "2022-02-21T10:22:11.138Z"
   },
   {
    "duration": 8,
    "start_time": "2022-02-21T10:22:19.384Z"
   },
   {
    "duration": 15,
    "start_time": "2022-02-21T10:22:26.033Z"
   },
   {
    "duration": 10,
    "start_time": "2022-02-21T10:22:26.534Z"
   },
   {
    "duration": 37,
    "start_time": "2022-02-21T10:23:12.795Z"
   },
   {
    "duration": 8,
    "start_time": "2022-02-21T10:23:13.497Z"
   },
   {
    "duration": 71,
    "start_time": "2022-02-21T10:26:16.992Z"
   },
   {
    "duration": 209,
    "start_time": "2022-02-21T10:26:30.932Z"
   },
   {
    "duration": 9,
    "start_time": "2022-02-21T10:26:31.480Z"
   },
   {
    "duration": 1086,
    "start_time": "2022-02-21T10:26:42.880Z"
   },
   {
    "duration": 367,
    "start_time": "2022-02-21T10:26:43.968Z"
   },
   {
    "duration": 14,
    "start_time": "2022-02-21T10:26:44.337Z"
   },
   {
    "duration": 29,
    "start_time": "2022-02-21T10:26:44.352Z"
   },
   {
    "duration": 19,
    "start_time": "2022-02-21T10:26:44.383Z"
   },
   {
    "duration": 34,
    "start_time": "2022-02-21T10:26:44.404Z"
   },
   {
    "duration": 27,
    "start_time": "2022-02-21T10:26:44.440Z"
   },
   {
    "duration": 4,
    "start_time": "2022-02-21T10:26:44.468Z"
   },
   {
    "duration": 13,
    "start_time": "2022-02-21T10:26:44.475Z"
   },
   {
    "duration": 32,
    "start_time": "2022-02-21T10:26:44.490Z"
   },
   {
    "duration": 12,
    "start_time": "2022-02-21T10:26:44.524Z"
   },
   {
    "duration": 8,
    "start_time": "2022-02-21T10:26:44.538Z"
   },
   {
    "duration": 29,
    "start_time": "2022-02-21T10:26:44.547Z"
   },
   {
    "duration": 54,
    "start_time": "2022-02-21T10:26:44.578Z"
   },
   {
    "duration": 17,
    "start_time": "2022-02-21T10:26:44.633Z"
   },
   {
    "duration": 21,
    "start_time": "2022-02-21T10:26:44.651Z"
   },
   {
    "duration": 9,
    "start_time": "2022-02-21T10:26:44.674Z"
   },
   {
    "duration": 40,
    "start_time": "2022-02-21T10:26:44.684Z"
   },
   {
    "duration": 7,
    "start_time": "2022-02-21T10:26:44.726Z"
   },
   {
    "duration": 15,
    "start_time": "2022-02-21T10:26:44.734Z"
   },
   {
    "duration": 16,
    "start_time": "2022-02-21T10:26:44.750Z"
   },
   {
    "duration": 51,
    "start_time": "2022-02-21T10:26:44.768Z"
   },
   {
    "duration": 19,
    "start_time": "2022-02-21T10:26:44.821Z"
   },
   {
    "duration": 8,
    "start_time": "2022-02-21T10:26:44.842Z"
   },
   {
    "duration": 10,
    "start_time": "2022-02-21T10:26:44.851Z"
   },
   {
    "duration": 7,
    "start_time": "2022-02-21T10:26:44.863Z"
   },
   {
    "duration": 66,
    "start_time": "2022-02-21T10:26:44.874Z"
   },
   {
    "duration": 6,
    "start_time": "2022-02-21T10:26:44.942Z"
   },
   {
    "duration": 12,
    "start_time": "2022-02-21T10:26:44.949Z"
   },
   {
    "duration": 15,
    "start_time": "2022-02-21T10:26:44.962Z"
   },
   {
    "duration": 40,
    "start_time": "2022-02-21T10:26:44.979Z"
   },
   {
    "duration": 21,
    "start_time": "2022-02-21T10:26:45.021Z"
   },
   {
    "duration": 12,
    "start_time": "2022-02-21T10:26:45.044Z"
   },
   {
    "duration": 15,
    "start_time": "2022-02-21T10:26:45.057Z"
   },
   {
    "duration": 8,
    "start_time": "2022-02-21T10:26:45.074Z"
   },
   {
    "duration": 5,
    "start_time": "2022-02-21T10:26:45.084Z"
   },
   {
    "duration": 297,
    "start_time": "2022-02-21T10:26:45.091Z"
   },
   {
    "duration": -38,
    "start_time": "2022-02-21T10:26:45.428Z"
   },
   {
    "duration": -40,
    "start_time": "2022-02-21T10:26:45.431Z"
   },
   {
    "duration": 16,
    "start_time": "2022-02-21T10:28:16.299Z"
   },
   {
    "duration": 9,
    "start_time": "2022-02-21T10:28:17.262Z"
   },
   {
    "duration": 70,
    "start_time": "2022-02-21T10:28:19.338Z"
   },
   {
    "duration": 17,
    "start_time": "2022-02-21T10:28:40.888Z"
   },
   {
    "duration": 9,
    "start_time": "2022-02-21T10:28:54.077Z"
   },
   {
    "duration": 9,
    "start_time": "2022-02-21T10:29:15.146Z"
   },
   {
    "duration": 7,
    "start_time": "2022-02-21T10:29:24.636Z"
   },
   {
    "duration": 6,
    "start_time": "2022-02-21T10:29:34.489Z"
   },
   {
    "duration": 15,
    "start_time": "2022-02-21T10:31:41.198Z"
   },
   {
    "duration": 7,
    "start_time": "2022-02-21T10:31:41.651Z"
   },
   {
    "duration": 12,
    "start_time": "2022-02-21T10:31:45.601Z"
   },
   {
    "duration": 6,
    "start_time": "2022-02-21T10:31:46.351Z"
   },
   {
    "duration": 8,
    "start_time": "2022-02-21T10:32:46.139Z"
   },
   {
    "duration": 21,
    "start_time": "2022-02-21T10:32:49.939Z"
   },
   {
    "duration": 9,
    "start_time": "2022-02-21T10:32:50.580Z"
   },
   {
    "duration": 22,
    "start_time": "2022-02-21T10:32:57.288Z"
   },
   {
    "duration": 8,
    "start_time": "2022-02-21T10:32:57.788Z"
   },
   {
    "duration": 8,
    "start_time": "2022-02-21T10:33:34.014Z"
   },
   {
    "duration": 25,
    "start_time": "2022-02-21T10:33:34.649Z"
   },
   {
    "duration": 190,
    "start_time": "2022-02-21T10:33:51.751Z"
   },
   {
    "duration": 6,
    "start_time": "2022-02-21T10:34:02.495Z"
   },
   {
    "duration": 17,
    "start_time": "2022-02-21T10:41:34.883Z"
   },
   {
    "duration": 8,
    "start_time": "2022-02-21T10:41:35.689Z"
   },
   {
    "duration": 16,
    "start_time": "2022-02-21T10:41:37.466Z"
   },
   {
    "duration": 13,
    "start_time": "2022-02-21T10:41:39.319Z"
   },
   {
    "duration": 14,
    "start_time": "2022-02-21T10:53:25.232Z"
   },
   {
    "duration": 5420,
    "start_time": "2022-02-21T10:53:25.978Z"
   },
   {
    "duration": -102,
    "start_time": "2022-02-21T10:53:31.502Z"
   },
   {
    "duration": 3,
    "start_time": "2022-02-21T10:53:53.116Z"
   },
   {
    "duration": 9,
    "start_time": "2022-02-21T10:53:53.960Z"
   },
   {
    "duration": 16,
    "start_time": "2022-02-21T10:54:08.436Z"
   },
   {
    "duration": 10,
    "start_time": "2022-02-21T10:54:09.224Z"
   },
   {
    "duration": 14,
    "start_time": "2022-02-21T10:54:10.626Z"
   },
   {
    "duration": 3,
    "start_time": "2022-02-21T10:54:15.162Z"
   },
   {
    "duration": 9,
    "start_time": "2022-02-21T10:54:15.705Z"
   },
   {
    "duration": 13,
    "start_time": "2022-02-21T10:54:49.772Z"
   },
   {
    "duration": 2,
    "start_time": "2022-02-21T10:54:50.452Z"
   },
   {
    "duration": 9,
    "start_time": "2022-02-21T10:54:51.766Z"
   },
   {
    "duration": 15,
    "start_time": "2022-02-21T10:56:44.872Z"
   },
   {
    "duration": 7,
    "start_time": "2022-02-21T10:56:45.542Z"
   },
   {
    "duration": 12,
    "start_time": "2022-02-21T10:57:26.111Z"
   },
   {
    "duration": 2,
    "start_time": "2022-02-21T10:57:26.707Z"
   },
   {
    "duration": 9,
    "start_time": "2022-02-21T10:57:27.696Z"
   },
   {
    "duration": 23,
    "start_time": "2022-02-21T10:57:40.408Z"
   },
   {
    "duration": 9,
    "start_time": "2022-02-21T10:57:41.081Z"
   },
   {
    "duration": 16,
    "start_time": "2022-02-21T10:57:43.870Z"
   },
   {
    "duration": 7,
    "start_time": "2022-02-21T10:57:45.043Z"
   },
   {
    "duration": 14,
    "start_time": "2022-02-21T10:58:18.652Z"
   },
   {
    "duration": 8,
    "start_time": "2022-02-21T10:58:19.199Z"
   },
   {
    "duration": 13,
    "start_time": "2022-02-21T10:58:21.092Z"
   },
   {
    "duration": 6,
    "start_time": "2022-02-21T10:58:21.662Z"
   },
   {
    "duration": 18,
    "start_time": "2022-02-21T10:58:26.747Z"
   },
   {
    "duration": 9,
    "start_time": "2022-02-21T10:58:27.336Z"
   },
   {
    "duration": 13,
    "start_time": "2022-02-21T10:58:30.150Z"
   },
   {
    "duration": 2,
    "start_time": "2022-02-21T10:58:30.719Z"
   },
   {
    "duration": 9,
    "start_time": "2022-02-21T10:58:31.371Z"
   },
   {
    "duration": 218,
    "start_time": "2022-02-21T11:02:35.004Z"
   },
   {
    "duration": 10,
    "start_time": "2022-02-21T11:05:26.470Z"
   },
   {
    "duration": 14,
    "start_time": "2022-02-21T11:05:27.440Z"
   },
   {
    "duration": 2,
    "start_time": "2022-02-21T11:05:27.994Z"
   },
   {
    "duration": 9,
    "start_time": "2022-02-21T11:05:28.512Z"
   },
   {
    "duration": 1116,
    "start_time": "2022-02-21T11:05:41.360Z"
   },
   {
    "duration": 369,
    "start_time": "2022-02-21T11:05:42.478Z"
   },
   {
    "duration": 10,
    "start_time": "2022-02-21T11:05:42.851Z"
   },
   {
    "duration": 33,
    "start_time": "2022-02-21T11:05:42.863Z"
   },
   {
    "duration": 32,
    "start_time": "2022-02-21T11:05:42.897Z"
   },
   {
    "duration": 24,
    "start_time": "2022-02-21T11:05:42.931Z"
   },
   {
    "duration": 28,
    "start_time": "2022-02-21T11:05:42.957Z"
   },
   {
    "duration": 4,
    "start_time": "2022-02-21T11:05:42.988Z"
   },
   {
    "duration": 5,
    "start_time": "2022-02-21T11:05:43.019Z"
   },
   {
    "duration": 7,
    "start_time": "2022-02-21T11:05:43.026Z"
   },
   {
    "duration": 13,
    "start_time": "2022-02-21T11:05:43.035Z"
   },
   {
    "duration": 9,
    "start_time": "2022-02-21T11:05:43.050Z"
   },
   {
    "duration": 59,
    "start_time": "2022-02-21T11:05:43.061Z"
   },
   {
    "duration": 18,
    "start_time": "2022-02-21T11:05:43.122Z"
   },
   {
    "duration": 19,
    "start_time": "2022-02-21T11:05:43.143Z"
   },
   {
    "duration": 20,
    "start_time": "2022-02-21T11:05:43.164Z"
   },
   {
    "duration": 11,
    "start_time": "2022-02-21T11:05:43.218Z"
   },
   {
    "duration": 11,
    "start_time": "2022-02-21T11:05:43.231Z"
   },
   {
    "duration": 7,
    "start_time": "2022-02-21T11:05:43.244Z"
   },
   {
    "duration": 14,
    "start_time": "2022-02-21T11:05:43.253Z"
   },
   {
    "duration": 52,
    "start_time": "2022-02-21T11:05:43.269Z"
   },
   {
    "duration": 23,
    "start_time": "2022-02-21T11:05:43.323Z"
   },
   {
    "duration": 17,
    "start_time": "2022-02-21T11:05:43.348Z"
   },
   {
    "duration": 7,
    "start_time": "2022-02-21T11:05:43.367Z"
   },
   {
    "duration": 48,
    "start_time": "2022-02-21T11:05:43.375Z"
   },
   {
    "duration": 8,
    "start_time": "2022-02-21T11:05:43.428Z"
   },
   {
    "duration": 29,
    "start_time": "2022-02-21T11:05:43.438Z"
   },
   {
    "duration": 6,
    "start_time": "2022-02-21T11:05:43.468Z"
   },
   {
    "duration": 44,
    "start_time": "2022-02-21T11:05:43.475Z"
   },
   {
    "duration": 16,
    "start_time": "2022-02-21T11:05:43.521Z"
   },
   {
    "duration": 5,
    "start_time": "2022-02-21T11:05:43.539Z"
   },
   {
    "duration": 8,
    "start_time": "2022-02-21T11:05:43.546Z"
   },
   {
    "duration": 6,
    "start_time": "2022-02-21T11:05:43.556Z"
   },
   {
    "duration": 11,
    "start_time": "2022-02-21T11:05:43.563Z"
   },
   {
    "duration": 46,
    "start_time": "2022-02-21T11:05:43.576Z"
   },
   {
    "duration": 22,
    "start_time": "2022-02-21T11:05:43.624Z"
   },
   {
    "duration": 8,
    "start_time": "2022-02-21T11:05:43.647Z"
   },
   {
    "duration": 27,
    "start_time": "2022-02-21T11:05:43.657Z"
   },
   {
    "duration": 33,
    "start_time": "2022-02-21T11:05:43.686Z"
   },
   {
    "duration": 16,
    "start_time": "2022-02-21T11:05:43.722Z"
   },
   {
    "duration": 10,
    "start_time": "2022-02-21T11:05:43.739Z"
   },
   {
    "duration": 14,
    "start_time": "2022-02-21T11:05:43.752Z"
   },
   {
    "duration": 7,
    "start_time": "2022-02-21T11:05:43.768Z"
   },
   {
    "duration": 18,
    "start_time": "2022-02-21T11:05:43.820Z"
   },
   {
    "duration": 10,
    "start_time": "2022-02-21T11:05:43.840Z"
   },
   {
    "duration": 16,
    "start_time": "2022-02-21T11:05:43.853Z"
   },
   {
    "duration": 2,
    "start_time": "2022-02-21T11:05:43.871Z"
   },
   {
    "duration": 49,
    "start_time": "2022-02-21T11:05:43.875Z"
   },
   {
    "duration": 18,
    "start_time": "2022-02-21T11:07:03.980Z"
   },
   {
    "duration": 9,
    "start_time": "2022-02-21T11:07:05.214Z"
   },
   {
    "duration": 16,
    "start_time": "2022-02-21T11:07:26.119Z"
   },
   {
    "duration": 9,
    "start_time": "2022-02-21T11:07:26.929Z"
   },
   {
    "duration": 11,
    "start_time": "2022-02-21T11:07:28.617Z"
   },
   {
    "duration": 7,
    "start_time": "2022-02-21T11:07:29.124Z"
   },
   {
    "duration": 16,
    "start_time": "2022-02-21T11:07:32.857Z"
   },
   {
    "duration": 9,
    "start_time": "2022-02-21T11:07:33.568Z"
   },
   {
    "duration": 13,
    "start_time": "2022-02-21T11:07:37.604Z"
   },
   {
    "duration": 3,
    "start_time": "2022-02-21T11:07:38.213Z"
   },
   {
    "duration": 9,
    "start_time": "2022-02-21T11:07:38.931Z"
   },
   {
    "duration": 8,
    "start_time": "2022-02-21T11:09:26.395Z"
   },
   {
    "duration": 13,
    "start_time": "2022-02-21T11:09:58.713Z"
   },
   {
    "duration": 6,
    "start_time": "2022-02-21T11:09:59.401Z"
   },
   {
    "duration": 8,
    "start_time": "2022-02-21T11:10:00.020Z"
   },
   {
    "duration": 59,
    "start_time": "2022-02-21T11:12:43.019Z"
   },
   {
    "duration": 14,
    "start_time": "2022-02-21T11:12:49.220Z"
   },
   {
    "duration": 66,
    "start_time": "2022-02-21T11:12:49.700Z"
   },
   {
    "duration": 8,
    "start_time": "2022-02-21T11:13:01.653Z"
   },
   {
    "duration": 13,
    "start_time": "2022-02-21T11:13:03.022Z"
   },
   {
    "duration": 4,
    "start_time": "2022-02-21T11:13:04.478Z"
   },
   {
    "duration": 7,
    "start_time": "2022-02-21T11:13:05.357Z"
   },
   {
    "duration": 1082,
    "start_time": "2022-02-21T11:13:37.989Z"
   },
   {
    "duration": 362,
    "start_time": "2022-02-21T11:13:39.073Z"
   },
   {
    "duration": 14,
    "start_time": "2022-02-21T11:13:39.437Z"
   },
   {
    "duration": 40,
    "start_time": "2022-02-21T11:13:39.453Z"
   },
   {
    "duration": 19,
    "start_time": "2022-02-21T11:13:39.495Z"
   },
   {
    "duration": 26,
    "start_time": "2022-02-21T11:13:39.516Z"
   },
   {
    "duration": 36,
    "start_time": "2022-02-21T11:13:39.544Z"
   },
   {
    "duration": 4,
    "start_time": "2022-02-21T11:13:39.582Z"
   },
   {
    "duration": 21,
    "start_time": "2022-02-21T11:13:39.588Z"
   },
   {
    "duration": 22,
    "start_time": "2022-02-21T11:13:39.610Z"
   },
   {
    "duration": 21,
    "start_time": "2022-02-21T11:13:39.635Z"
   },
   {
    "duration": 20,
    "start_time": "2022-02-21T11:13:39.658Z"
   },
   {
    "duration": 61,
    "start_time": "2022-02-21T11:13:39.679Z"
   },
   {
    "duration": 15,
    "start_time": "2022-02-21T11:13:39.742Z"
   },
   {
    "duration": 29,
    "start_time": "2022-02-21T11:13:39.759Z"
   },
   {
    "duration": 41,
    "start_time": "2022-02-21T11:13:39.790Z"
   },
   {
    "duration": 14,
    "start_time": "2022-02-21T11:13:39.832Z"
   },
   {
    "duration": 43,
    "start_time": "2022-02-21T11:13:39.848Z"
   },
   {
    "duration": 12,
    "start_time": "2022-02-21T11:13:39.893Z"
   },
   {
    "duration": 46,
    "start_time": "2022-02-21T11:13:39.907Z"
   },
   {
    "duration": 14,
    "start_time": "2022-02-21T11:13:39.955Z"
   },
   {
    "duration": 26,
    "start_time": "2022-02-21T11:13:39.970Z"
   },
   {
    "duration": 22,
    "start_time": "2022-02-21T11:13:40.000Z"
   },
   {
    "duration": 25,
    "start_time": "2022-02-21T11:13:40.025Z"
   },
   {
    "duration": 12,
    "start_time": "2022-02-21T11:13:40.052Z"
   },
   {
    "duration": 8,
    "start_time": "2022-02-21T11:13:40.065Z"
   },
   {
    "duration": 57,
    "start_time": "2022-02-21T11:13:40.075Z"
   },
   {
    "duration": 7,
    "start_time": "2022-02-21T11:13:40.134Z"
   },
   {
    "duration": 27,
    "start_time": "2022-02-21T11:13:40.142Z"
   },
   {
    "duration": 31,
    "start_time": "2022-02-21T11:13:40.170Z"
   },
   {
    "duration": 20,
    "start_time": "2022-02-21T11:13:40.203Z"
   },
   {
    "duration": 26,
    "start_time": "2022-02-21T11:13:40.224Z"
   },
   {
    "duration": 19,
    "start_time": "2022-02-21T11:13:40.251Z"
   },
   {
    "duration": 23,
    "start_time": "2022-02-21T11:13:40.272Z"
   },
   {
    "duration": 15,
    "start_time": "2022-02-21T11:13:40.296Z"
   },
   {
    "duration": 38,
    "start_time": "2022-02-21T11:13:40.313Z"
   },
   {
    "duration": 11,
    "start_time": "2022-02-21T11:13:40.352Z"
   },
   {
    "duration": 51,
    "start_time": "2022-02-21T11:13:40.365Z"
   },
   {
    "duration": 9,
    "start_time": "2022-02-21T11:13:40.417Z"
   },
   {
    "duration": 19,
    "start_time": "2022-02-21T11:13:40.427Z"
   },
   {
    "duration": 21,
    "start_time": "2022-02-21T11:13:40.448Z"
   },
   {
    "duration": 25,
    "start_time": "2022-02-21T11:13:40.471Z"
   },
   {
    "duration": 6,
    "start_time": "2022-02-21T11:13:40.498Z"
   },
   {
    "duration": 35,
    "start_time": "2022-02-21T11:13:40.505Z"
   },
   {
    "duration": 9,
    "start_time": "2022-02-21T11:13:40.542Z"
   },
   {
    "duration": 20,
    "start_time": "2022-02-21T11:13:40.552Z"
   },
   {
    "duration": 33,
    "start_time": "2022-02-21T11:13:40.573Z"
   },
   {
    "duration": 18,
    "start_time": "2022-02-21T11:13:40.608Z"
   },
   {
    "duration": 8,
    "start_time": "2022-02-21T11:21:58.250Z"
   },
   {
    "duration": 9,
    "start_time": "2022-02-21T11:21:58.864Z"
   },
   {
    "duration": 6,
    "start_time": "2022-02-21T11:21:59.398Z"
   },
   {
    "duration": 7,
    "start_time": "2022-02-21T11:22:31.143Z"
   },
   {
    "duration": 6,
    "start_time": "2022-02-21T11:23:00.645Z"
   },
   {
    "duration": 8,
    "start_time": "2022-02-21T11:23:01.952Z"
   },
   {
    "duration": 7,
    "start_time": "2022-02-21T11:23:05.070Z"
   },
   {
    "duration": 302,
    "start_time": "2022-02-21T11:36:00.381Z"
   },
   {
    "duration": 8,
    "start_time": "2022-02-21T11:36:31.400Z"
   },
   {
    "duration": 8,
    "start_time": "2022-02-21T11:36:32.605Z"
   },
   {
    "duration": 10,
    "start_time": "2022-02-21T11:36:34.263Z"
   },
   {
    "duration": 7,
    "start_time": "2022-02-21T11:39:39.880Z"
   },
   {
    "duration": 64,
    "start_time": "2022-02-21T11:55:58.541Z"
   },
   {
    "duration": 6,
    "start_time": "2022-02-21T11:56:39.695Z"
   },
   {
    "duration": 14,
    "start_time": "2022-02-21T11:56:41.207Z"
   },
   {
    "duration": 9,
    "start_time": "2022-02-21T11:57:54.224Z"
   },
   {
    "duration": 19,
    "start_time": "2022-02-21T11:57:54.833Z"
   },
   {
    "duration": 11,
    "start_time": "2022-02-21T11:58:06.934Z"
   },
   {
    "duration": 27,
    "start_time": "2022-02-21T11:58:07.474Z"
   },
   {
    "duration": 11,
    "start_time": "2022-02-21T11:59:15.710Z"
   },
   {
    "duration": 11,
    "start_time": "2022-02-21T12:00:42.728Z"
   },
   {
    "duration": 25,
    "start_time": "2022-02-21T12:00:43.589Z"
   },
   {
    "duration": 1141,
    "start_time": "2022-02-21T12:00:54.915Z"
   },
   {
    "duration": 362,
    "start_time": "2022-02-21T12:00:56.058Z"
   },
   {
    "duration": 12,
    "start_time": "2022-02-21T12:00:56.422Z"
   },
   {
    "duration": 35,
    "start_time": "2022-02-21T12:00:56.436Z"
   },
   {
    "duration": 51,
    "start_time": "2022-02-21T12:00:56.473Z"
   },
   {
    "duration": 25,
    "start_time": "2022-02-21T12:00:56.526Z"
   },
   {
    "duration": 28,
    "start_time": "2022-02-21T12:00:56.552Z"
   },
   {
    "duration": 6,
    "start_time": "2022-02-21T12:00:56.583Z"
   },
   {
    "duration": 9,
    "start_time": "2022-02-21T12:00:56.619Z"
   },
   {
    "duration": 7,
    "start_time": "2022-02-21T12:00:56.629Z"
   },
   {
    "duration": 17,
    "start_time": "2022-02-21T12:00:56.637Z"
   },
   {
    "duration": 7,
    "start_time": "2022-02-21T12:00:56.656Z"
   },
   {
    "duration": 27,
    "start_time": "2022-02-21T12:00:56.665Z"
   },
   {
    "duration": 16,
    "start_time": "2022-02-21T12:00:56.719Z"
   },
   {
    "duration": 15,
    "start_time": "2022-02-21T12:00:56.736Z"
   },
   {
    "duration": 17,
    "start_time": "2022-02-21T12:00:56.753Z"
   },
   {
    "duration": 8,
    "start_time": "2022-02-21T12:00:56.772Z"
   },
   {
    "duration": 39,
    "start_time": "2022-02-21T12:00:56.781Z"
   },
   {
    "duration": 8,
    "start_time": "2022-02-21T12:00:56.822Z"
   },
   {
    "duration": 17,
    "start_time": "2022-02-21T12:00:56.831Z"
   },
   {
    "duration": 14,
    "start_time": "2022-02-21T12:00:56.850Z"
   },
   {
    "duration": 15,
    "start_time": "2022-02-21T12:00:56.866Z"
   },
   {
    "duration": 16,
    "start_time": "2022-02-21T12:00:56.921Z"
   },
   {
    "duration": 8,
    "start_time": "2022-02-21T12:00:56.939Z"
   },
   {
    "duration": 10,
    "start_time": "2022-02-21T12:00:56.948Z"
   },
   {
    "duration": 8,
    "start_time": "2022-02-21T12:00:56.960Z"
   },
   {
    "duration": 63,
    "start_time": "2022-02-21T12:00:56.969Z"
   },
   {
    "duration": 6,
    "start_time": "2022-02-21T12:00:57.033Z"
   },
   {
    "duration": 12,
    "start_time": "2022-02-21T12:00:57.041Z"
   },
   {
    "duration": 15,
    "start_time": "2022-02-21T12:00:57.054Z"
   },
   {
    "duration": 5,
    "start_time": "2022-02-21T12:00:57.071Z"
   },
   {
    "duration": 41,
    "start_time": "2022-02-21T12:00:57.078Z"
   },
   {
    "duration": 9,
    "start_time": "2022-02-21T12:00:57.120Z"
   },
   {
    "duration": 13,
    "start_time": "2022-02-21T12:00:57.130Z"
   },
   {
    "duration": 7,
    "start_time": "2022-02-21T12:00:57.144Z"
   },
   {
    "duration": 25,
    "start_time": "2022-02-21T12:00:57.152Z"
   },
   {
    "duration": 8,
    "start_time": "2022-02-21T12:00:57.178Z"
   },
   {
    "duration": 57,
    "start_time": "2022-02-21T12:00:57.188Z"
   },
   {
    "duration": 7,
    "start_time": "2022-02-21T12:00:57.247Z"
   },
   {
    "duration": 15,
    "start_time": "2022-02-21T12:00:57.256Z"
   },
   {
    "duration": 7,
    "start_time": "2022-02-21T12:00:57.273Z"
   },
   {
    "duration": 45,
    "start_time": "2022-02-21T12:00:57.281Z"
   },
   {
    "duration": 6,
    "start_time": "2022-02-21T12:00:57.327Z"
   },
   {
    "duration": 19,
    "start_time": "2022-02-21T12:00:57.335Z"
   },
   {
    "duration": 10,
    "start_time": "2022-02-21T12:00:57.355Z"
   },
   {
    "duration": 19,
    "start_time": "2022-02-21T12:00:57.366Z"
   },
   {
    "duration": 5,
    "start_time": "2022-02-21T12:00:57.419Z"
   },
   {
    "duration": 8,
    "start_time": "2022-02-21T12:00:57.426Z"
   },
   {
    "duration": 7,
    "start_time": "2022-02-21T12:00:57.436Z"
   },
   {
    "duration": 7,
    "start_time": "2022-02-21T12:00:57.444Z"
   },
   {
    "duration": 7,
    "start_time": "2022-02-21T12:00:57.452Z"
   },
   {
    "duration": 6,
    "start_time": "2022-02-21T12:00:57.460Z"
   },
   {
    "duration": 52,
    "start_time": "2022-02-21T12:00:57.468Z"
   },
   {
    "duration": 6,
    "start_time": "2022-02-21T12:00:57.521Z"
   },
   {
    "duration": 9,
    "start_time": "2022-02-21T12:00:57.529Z"
   },
   {
    "duration": 14,
    "start_time": "2022-02-21T12:00:57.540Z"
   },
   {
    "duration": 12,
    "start_time": "2022-02-21T12:00:57.556Z"
   },
   {
    "duration": 20,
    "start_time": "2022-02-21T12:00:57.569Z"
   },
   {
    "duration": 27,
    "start_time": "2022-02-21T12:00:57.591Z"
   },
   {
    "duration": 14,
    "start_time": "2022-02-21T12:00:57.620Z"
   },
   {
    "duration": 9,
    "start_time": "2022-02-21T12:05:34.727Z"
   },
   {
    "duration": 19,
    "start_time": "2022-02-21T12:05:35.758Z"
   },
   {
    "duration": 9,
    "start_time": "2022-02-21T12:05:37.559Z"
   },
   {
    "duration": 300,
    "start_time": "2022-02-21T12:05:38.449Z"
   },
   {
    "duration": 224,
    "start_time": "2022-02-21T12:06:00.246Z"
   },
   {
    "duration": 1109,
    "start_time": "2022-02-21T12:07:09.469Z"
   },
   {
    "duration": 392,
    "start_time": "2022-02-21T12:07:10.583Z"
   },
   {
    "duration": 12,
    "start_time": "2022-02-21T12:07:10.977Z"
   },
   {
    "duration": 76,
    "start_time": "2022-02-21T12:07:10.991Z"
   },
   {
    "duration": 30,
    "start_time": "2022-02-21T12:07:11.069Z"
   },
   {
    "duration": 38,
    "start_time": "2022-02-21T12:07:11.101Z"
   },
   {
    "duration": 36,
    "start_time": "2022-02-21T12:07:11.141Z"
   },
   {
    "duration": 11,
    "start_time": "2022-02-21T12:07:11.181Z"
   },
   {
    "duration": 36,
    "start_time": "2022-02-21T12:07:11.195Z"
   },
   {
    "duration": 8,
    "start_time": "2022-02-21T12:07:11.233Z"
   },
   {
    "duration": 15,
    "start_time": "2022-02-21T12:07:11.243Z"
   },
   {
    "duration": 9,
    "start_time": "2022-02-21T12:07:11.259Z"
   },
   {
    "duration": 52,
    "start_time": "2022-02-21T12:07:11.270Z"
   },
   {
    "duration": 18,
    "start_time": "2022-02-21T12:07:11.324Z"
   },
   {
    "duration": 19,
    "start_time": "2022-02-21T12:07:11.345Z"
   },
   {
    "duration": 53,
    "start_time": "2022-02-21T12:07:11.366Z"
   },
   {
    "duration": 9,
    "start_time": "2022-02-21T12:07:11.421Z"
   },
   {
    "duration": 13,
    "start_time": "2022-02-21T12:07:11.432Z"
   },
   {
    "duration": 7,
    "start_time": "2022-02-21T12:07:11.447Z"
   },
   {
    "duration": 19,
    "start_time": "2022-02-21T12:07:11.456Z"
   },
   {
    "duration": 47,
    "start_time": "2022-02-21T12:07:11.477Z"
   },
   {
    "duration": 15,
    "start_time": "2022-02-21T12:07:11.526Z"
   },
   {
    "duration": 22,
    "start_time": "2022-02-21T12:07:11.543Z"
   },
   {
    "duration": 9,
    "start_time": "2022-02-21T12:07:11.566Z"
   },
   {
    "duration": 45,
    "start_time": "2022-02-21T12:07:11.577Z"
   },
   {
    "duration": 9,
    "start_time": "2022-02-21T12:07:11.627Z"
   },
   {
    "duration": 30,
    "start_time": "2022-02-21T12:07:11.638Z"
   },
   {
    "duration": 6,
    "start_time": "2022-02-21T12:07:11.670Z"
   },
   {
    "duration": 48,
    "start_time": "2022-02-21T12:07:11.677Z"
   },
   {
    "duration": 19,
    "start_time": "2022-02-21T12:07:11.727Z"
   },
   {
    "duration": 7,
    "start_time": "2022-02-21T12:07:11.748Z"
   },
   {
    "duration": 7,
    "start_time": "2022-02-21T12:07:11.756Z"
   },
   {
    "duration": 8,
    "start_time": "2022-02-21T12:07:11.765Z"
   },
   {
    "duration": 17,
    "start_time": "2022-02-21T12:07:11.775Z"
   },
   {
    "duration": 10,
    "start_time": "2022-02-21T12:07:11.819Z"
   },
   {
    "duration": 27,
    "start_time": "2022-02-21T12:07:11.831Z"
   },
   {
    "duration": 9,
    "start_time": "2022-02-21T12:07:11.860Z"
   },
   {
    "duration": 59,
    "start_time": "2022-02-21T12:07:11.870Z"
   },
   {
    "duration": 8,
    "start_time": "2022-02-21T12:07:11.931Z"
   },
   {
    "duration": 19,
    "start_time": "2022-02-21T12:07:11.940Z"
   },
   {
    "duration": 8,
    "start_time": "2022-02-21T12:07:11.961Z"
   },
   {
    "duration": 25,
    "start_time": "2022-02-21T12:07:11.971Z"
   },
   {
    "duration": 27,
    "start_time": "2022-02-21T12:07:11.998Z"
   },
   {
    "duration": 23,
    "start_time": "2022-02-21T12:07:12.027Z"
   },
   {
    "duration": 8,
    "start_time": "2022-02-21T12:07:12.052Z"
   },
   {
    "duration": 20,
    "start_time": "2022-02-21T12:07:12.062Z"
   },
   {
    "duration": 34,
    "start_time": "2022-02-21T12:07:12.085Z"
   },
   {
    "duration": 7,
    "start_time": "2022-02-21T12:07:12.121Z"
   },
   {
    "duration": 8,
    "start_time": "2022-02-21T12:07:12.130Z"
   },
   {
    "duration": 7,
    "start_time": "2022-02-21T12:07:12.140Z"
   },
   {
    "duration": 9,
    "start_time": "2022-02-21T12:07:12.149Z"
   },
   {
    "duration": 7,
    "start_time": "2022-02-21T12:07:12.161Z"
   },
   {
    "duration": 54,
    "start_time": "2022-02-21T12:07:12.170Z"
   },
   {
    "duration": 8,
    "start_time": "2022-02-21T12:07:12.226Z"
   },
   {
    "duration": 10,
    "start_time": "2022-02-21T12:07:12.236Z"
   },
   {
    "duration": 7,
    "start_time": "2022-02-21T12:07:12.248Z"
   },
   {
    "duration": 11,
    "start_time": "2022-02-21T12:07:12.257Z"
   },
   {
    "duration": 51,
    "start_time": "2022-02-21T12:07:12.269Z"
   },
   {
    "duration": 10,
    "start_time": "2022-02-21T12:07:12.323Z"
   },
   {
    "duration": 15,
    "start_time": "2022-02-21T12:07:12.335Z"
   },
   {
    "duration": 7,
    "start_time": "2022-02-21T12:07:12.352Z"
   },
   {
    "duration": 305,
    "start_time": "2022-02-21T12:07:12.361Z"
   },
   {
    "duration": -680,
    "start_time": "2022-02-21T12:07:13.348Z"
   },
   {
    "duration": 189,
    "start_time": "2022-02-21T12:08:15.418Z"
   },
   {
    "duration": 188,
    "start_time": "2022-02-21T12:10:42.716Z"
   },
   {
    "duration": 199,
    "start_time": "2022-02-21T12:11:08.146Z"
   },
   {
    "duration": 62,
    "start_time": "2022-02-21T12:13:50.816Z"
   },
   {
    "duration": 5,
    "start_time": "2022-02-21T12:14:43.221Z"
   },
   {
    "duration": 1104,
    "start_time": "2022-02-21T12:14:48.472Z"
   },
   {
    "duration": 380,
    "start_time": "2022-02-21T12:14:49.578Z"
   },
   {
    "duration": 11,
    "start_time": "2022-02-21T12:14:49.960Z"
   },
   {
    "duration": 31,
    "start_time": "2022-02-21T12:14:49.973Z"
   },
   {
    "duration": 21,
    "start_time": "2022-02-21T12:14:50.006Z"
   },
   {
    "duration": 30,
    "start_time": "2022-02-21T12:14:50.028Z"
   },
   {
    "duration": 27,
    "start_time": "2022-02-21T12:14:50.059Z"
   },
   {
    "duration": 4,
    "start_time": "2022-02-21T12:14:50.088Z"
   },
   {
    "duration": 28,
    "start_time": "2022-02-21T12:14:50.094Z"
   },
   {
    "duration": 11,
    "start_time": "2022-02-21T12:14:50.124Z"
   },
   {
    "duration": 16,
    "start_time": "2022-02-21T12:14:50.136Z"
   },
   {
    "duration": 8,
    "start_time": "2022-02-21T12:14:50.154Z"
   },
   {
    "duration": 57,
    "start_time": "2022-02-21T12:14:50.164Z"
   },
   {
    "duration": 17,
    "start_time": "2022-02-21T12:14:50.222Z"
   },
   {
    "duration": 16,
    "start_time": "2022-02-21T12:14:50.241Z"
   },
   {
    "duration": 20,
    "start_time": "2022-02-21T12:14:50.259Z"
   },
   {
    "duration": 9,
    "start_time": "2022-02-21T12:14:50.280Z"
   },
   {
    "duration": 11,
    "start_time": "2022-02-21T12:14:50.319Z"
   },
   {
    "duration": 7,
    "start_time": "2022-02-21T12:14:50.331Z"
   },
   {
    "duration": 17,
    "start_time": "2022-02-21T12:14:50.340Z"
   },
   {
    "duration": 13,
    "start_time": "2022-02-21T12:14:50.359Z"
   },
   {
    "duration": 47,
    "start_time": "2022-02-21T12:14:50.374Z"
   },
   {
    "duration": 16,
    "start_time": "2022-02-21T12:14:50.422Z"
   },
   {
    "duration": 7,
    "start_time": "2022-02-21T12:14:50.439Z"
   },
   {
    "duration": 9,
    "start_time": "2022-02-21T12:14:50.448Z"
   },
   {
    "duration": 6,
    "start_time": "2022-02-21T12:14:50.459Z"
   },
   {
    "duration": 70,
    "start_time": "2022-02-21T12:14:50.469Z"
   },
   {
    "duration": 6,
    "start_time": "2022-02-21T12:14:50.541Z"
   },
   {
    "duration": 5,
    "start_time": "2022-02-21T12:14:50.548Z"
   },
   {
    "duration": 12,
    "start_time": "2022-02-21T12:14:50.555Z"
   },
   {
    "duration": 15,
    "start_time": "2022-02-21T12:14:50.568Z"
   },
   {
    "duration": 35,
    "start_time": "2022-02-21T12:14:50.584Z"
   },
   {
    "duration": 10,
    "start_time": "2022-02-21T12:14:50.621Z"
   },
   {
    "duration": 10,
    "start_time": "2022-02-21T12:14:50.632Z"
   },
   {
    "duration": 13,
    "start_time": "2022-02-21T12:14:50.643Z"
   },
   {
    "duration": 9,
    "start_time": "2022-02-21T12:14:50.658Z"
   },
   {
    "duration": 52,
    "start_time": "2022-02-21T12:14:50.668Z"
   },
   {
    "duration": 9,
    "start_time": "2022-02-21T12:14:50.721Z"
   },
   {
    "duration": 29,
    "start_time": "2022-02-21T12:14:50.731Z"
   },
   {
    "duration": 6,
    "start_time": "2022-02-21T12:14:50.761Z"
   },
   {
    "duration": 23,
    "start_time": "2022-02-21T12:14:50.769Z"
   },
   {
    "duration": 29,
    "start_time": "2022-02-21T12:14:50.793Z"
   },
   {
    "duration": 14,
    "start_time": "2022-02-21T12:14:50.823Z"
   },
   {
    "duration": 6,
    "start_time": "2022-02-21T12:14:50.839Z"
   },
   {
    "duration": 24,
    "start_time": "2022-02-21T12:14:50.846Z"
   },
   {
    "duration": 8,
    "start_time": "2022-02-21T12:14:50.872Z"
   },
   {
    "duration": 51,
    "start_time": "2022-02-21T12:14:50.882Z"
   },
   {
    "duration": 5,
    "start_time": "2022-02-21T12:14:50.935Z"
   },
   {
    "duration": 10,
    "start_time": "2022-02-21T12:14:50.942Z"
   },
   {
    "duration": 14,
    "start_time": "2022-02-21T12:14:50.953Z"
   },
   {
    "duration": 7,
    "start_time": "2022-02-21T12:14:50.969Z"
   },
   {
    "duration": 8,
    "start_time": "2022-02-21T12:14:50.977Z"
   },
   {
    "duration": 38,
    "start_time": "2022-02-21T12:14:50.986Z"
   },
   {
    "duration": 9,
    "start_time": "2022-02-21T12:14:51.026Z"
   },
   {
    "duration": 9,
    "start_time": "2022-02-21T12:14:51.036Z"
   },
   {
    "duration": 13,
    "start_time": "2022-02-21T12:14:51.047Z"
   },
   {
    "duration": 7,
    "start_time": "2022-02-21T12:14:51.062Z"
   },
   {
    "duration": 9,
    "start_time": "2022-02-21T12:14:51.071Z"
   },
   {
    "duration": 14,
    "start_time": "2022-02-21T12:14:51.081Z"
   },
   {
    "duration": 8,
    "start_time": "2022-02-21T12:14:51.119Z"
   },
   {
    "duration": 13,
    "start_time": "2022-02-21T12:14:51.128Z"
   },
   {
    "duration": 7,
    "start_time": "2022-02-21T12:14:51.143Z"
   },
   {
    "duration": 10,
    "start_time": "2022-02-21T12:14:51.151Z"
   },
   {
    "duration": 15,
    "start_time": "2022-02-21T12:14:51.163Z"
   },
   {
    "duration": 9,
    "start_time": "2022-02-21T12:15:23.979Z"
   },
   {
    "duration": 17,
    "start_time": "2022-02-21T12:18:20.207Z"
   },
   {
    "duration": 16,
    "start_time": "2022-02-21T12:18:21.304Z"
   },
   {
    "duration": 9,
    "start_time": "2022-02-21T12:18:22.663Z"
   },
   {
    "duration": 19,
    "start_time": "2022-02-21T12:18:24.875Z"
   },
   {
    "duration": 50,
    "start_time": "2022-02-21T12:18:36.311Z"
   },
   {
    "duration": 3,
    "start_time": "2022-02-21T12:18:42.717Z"
   },
   {
    "duration": 3,
    "start_time": "2022-02-21T12:18:47.919Z"
   },
   {
    "duration": 3,
    "start_time": "2022-02-21T12:18:48.611Z"
   },
   {
    "duration": 553,
    "start_time": "2022-02-21T12:18:49.823Z"
   },
   {
    "duration": 11,
    "start_time": "2022-02-21T12:18:56.739Z"
   },
   {
    "duration": 7,
    "start_time": "2022-02-21T12:18:58.118Z"
   },
   {
    "duration": 9,
    "start_time": "2022-02-21T12:19:43.754Z"
   },
   {
    "duration": 8,
    "start_time": "2022-02-21T12:20:05.780Z"
   },
   {
    "duration": 9,
    "start_time": "2022-02-21T12:20:18.548Z"
   },
   {
    "duration": 9,
    "start_time": "2022-02-21T12:20:20.315Z"
   },
   {
    "duration": 3,
    "start_time": "2022-02-21T12:31:20.853Z"
   },
   {
    "duration": 4,
    "start_time": "2022-02-21T12:31:21.722Z"
   },
   {
    "duration": 4,
    "start_time": "2022-02-21T12:31:22.257Z"
   },
   {
    "duration": 4,
    "start_time": "2022-02-21T12:31:22.745Z"
   },
   {
    "duration": 8,
    "start_time": "2022-02-21T12:32:04.204Z"
   },
   {
    "duration": 10,
    "start_time": "2022-02-21T12:32:26.248Z"
   },
   {
    "duration": 1177,
    "start_time": "2022-02-21T12:34:46.698Z"
   },
   {
    "duration": 384,
    "start_time": "2022-02-21T12:34:47.877Z"
   },
   {
    "duration": 10,
    "start_time": "2022-02-21T12:34:48.263Z"
   },
   {
    "duration": 33,
    "start_time": "2022-02-21T12:34:48.275Z"
   },
   {
    "duration": 21,
    "start_time": "2022-02-21T12:34:48.310Z"
   },
   {
    "duration": 26,
    "start_time": "2022-02-21T12:34:48.333Z"
   },
   {
    "duration": 28,
    "start_time": "2022-02-21T12:34:48.361Z"
   },
   {
    "duration": 4,
    "start_time": "2022-02-21T12:34:48.391Z"
   },
   {
    "duration": 22,
    "start_time": "2022-02-21T12:34:48.398Z"
   },
   {
    "duration": 9,
    "start_time": "2022-02-21T12:34:48.422Z"
   },
   {
    "duration": 16,
    "start_time": "2022-02-21T12:34:48.432Z"
   },
   {
    "duration": 8,
    "start_time": "2022-02-21T12:34:48.449Z"
   },
   {
    "duration": 73,
    "start_time": "2022-02-21T12:34:48.459Z"
   },
   {
    "duration": 18,
    "start_time": "2022-02-21T12:34:48.533Z"
   },
   {
    "duration": 21,
    "start_time": "2022-02-21T12:34:48.552Z"
   },
   {
    "duration": 44,
    "start_time": "2022-02-21T12:34:48.575Z"
   },
   {
    "duration": 9,
    "start_time": "2022-02-21T12:34:48.621Z"
   },
   {
    "duration": 18,
    "start_time": "2022-02-21T12:34:48.631Z"
   },
   {
    "duration": 7,
    "start_time": "2022-02-21T12:34:48.651Z"
   },
   {
    "duration": 20,
    "start_time": "2022-02-21T12:34:48.660Z"
   },
   {
    "duration": 39,
    "start_time": "2022-02-21T12:34:48.682Z"
   },
   {
    "duration": 15,
    "start_time": "2022-02-21T12:34:48.723Z"
   },
   {
    "duration": 21,
    "start_time": "2022-02-21T12:34:48.739Z"
   },
   {
    "duration": 7,
    "start_time": "2022-02-21T12:34:48.762Z"
   },
   {
    "duration": 11,
    "start_time": "2022-02-21T12:34:48.771Z"
   },
   {
    "duration": 41,
    "start_time": "2022-02-21T12:34:48.784Z"
   },
   {
    "duration": 28,
    "start_time": "2022-02-21T12:34:48.830Z"
   },
   {
    "duration": 6,
    "start_time": "2022-02-21T12:34:48.861Z"
   },
   {
    "duration": 6,
    "start_time": "2022-02-21T12:34:48.869Z"
   },
   {
    "duration": 48,
    "start_time": "2022-02-21T12:34:48.876Z"
   },
   {
    "duration": 30,
    "start_time": "2022-02-21T12:34:48.926Z"
   },
   {
    "duration": 15,
    "start_time": "2022-02-21T12:34:48.957Z"
   },
   {
    "duration": 25,
    "start_time": "2022-02-21T12:34:48.974Z"
   },
   {
    "duration": 21,
    "start_time": "2022-02-21T12:34:49.001Z"
   },
   {
    "duration": 27,
    "start_time": "2022-02-21T12:34:49.024Z"
   },
   {
    "duration": 46,
    "start_time": "2022-02-21T12:34:49.054Z"
   },
   {
    "duration": 64,
    "start_time": "2022-02-21T12:34:49.102Z"
   },
   {
    "duration": 9,
    "start_time": "2022-02-21T12:34:49.168Z"
   },
   {
    "duration": 32,
    "start_time": "2022-02-21T12:34:49.180Z"
   },
   {
    "duration": 8,
    "start_time": "2022-02-21T12:34:49.214Z"
   },
   {
    "duration": 20,
    "start_time": "2022-02-21T12:34:49.223Z"
   },
   {
    "duration": 9,
    "start_time": "2022-02-21T12:34:49.245Z"
   },
   {
    "duration": 16,
    "start_time": "2022-02-21T12:34:49.256Z"
   },
   {
    "duration": 7,
    "start_time": "2022-02-21T12:34:49.273Z"
   },
   {
    "duration": 48,
    "start_time": "2022-02-21T12:34:49.282Z"
   },
   {
    "duration": 10,
    "start_time": "2022-02-21T12:34:49.332Z"
   },
   {
    "duration": 24,
    "start_time": "2022-02-21T12:34:49.344Z"
   },
   {
    "duration": 6,
    "start_time": "2022-02-21T12:34:49.369Z"
   },
   {
    "duration": 43,
    "start_time": "2022-02-21T12:34:49.376Z"
   },
   {
    "duration": 7,
    "start_time": "2022-02-21T12:34:49.421Z"
   },
   {
    "duration": 12,
    "start_time": "2022-02-21T12:34:49.430Z"
   },
   {
    "duration": 50,
    "start_time": "2022-02-21T12:34:49.444Z"
   },
   {
    "duration": 16,
    "start_time": "2022-02-21T12:34:49.496Z"
   },
   {
    "duration": 12,
    "start_time": "2022-02-21T12:34:49.514Z"
   },
   {
    "duration": 8,
    "start_time": "2022-02-21T12:34:49.528Z"
   },
   {
    "duration": 10,
    "start_time": "2022-02-21T12:34:49.538Z"
   },
   {
    "duration": 10,
    "start_time": "2022-02-21T12:34:49.549Z"
   },
   {
    "duration": 12,
    "start_time": "2022-02-21T12:34:49.560Z"
   },
   {
    "duration": 51,
    "start_time": "2022-02-21T12:34:49.574Z"
   },
   {
    "duration": 11,
    "start_time": "2022-02-21T12:34:49.627Z"
   },
   {
    "duration": 14,
    "start_time": "2022-02-21T12:34:49.640Z"
   },
   {
    "duration": 8,
    "start_time": "2022-02-21T12:34:49.655Z"
   },
   {
    "duration": 10,
    "start_time": "2022-02-21T12:34:49.664Z"
   },
   {
    "duration": 59,
    "start_time": "2022-02-21T12:34:49.676Z"
   },
   {
    "duration": 17,
    "start_time": "2022-02-21T12:34:49.736Z"
   },
   {
    "duration": 9,
    "start_time": "2022-02-21T12:34:49.754Z"
   },
   {
    "duration": 13,
    "start_time": "2022-02-21T12:34:49.765Z"
   },
   {
    "duration": 85,
    "start_time": "2022-02-21T12:34:49.780Z"
   },
   {
    "duration": 3,
    "start_time": "2022-02-21T12:34:49.867Z"
   },
   {
    "duration": 5,
    "start_time": "2022-02-21T12:34:49.872Z"
   },
   {
    "duration": 640,
    "start_time": "2022-02-21T12:34:49.879Z"
   },
   {
    "duration": 10,
    "start_time": "2022-02-21T12:34:50.521Z"
   },
   {
    "duration": 7,
    "start_time": "2022-02-21T12:34:50.533Z"
   },
   {
    "duration": 10,
    "start_time": "2022-02-21T12:34:50.542Z"
   },
   {
    "duration": 4,
    "start_time": "2022-02-21T12:34:50.553Z"
   },
   {
    "duration": 7,
    "start_time": "2022-02-21T12:34:50.558Z"
   },
   {
    "duration": 7,
    "start_time": "2022-02-21T12:34:50.567Z"
   },
   {
    "duration": 44,
    "start_time": "2022-02-21T12:34:50.575Z"
   },
   {
    "duration": 13,
    "start_time": "2022-02-21T12:34:50.621Z"
   },
   {
    "duration": 9,
    "start_time": "2022-02-21T12:34:50.635Z"
   },
   {
    "duration": 16,
    "start_time": "2022-02-21T12:36:32.391Z"
   },
   {
    "duration": 1120,
    "start_time": "2022-02-21T13:18:08.046Z"
   },
   {
    "duration": 388,
    "start_time": "2022-02-21T13:18:09.168Z"
   },
   {
    "duration": 11,
    "start_time": "2022-02-21T13:18:09.559Z"
   },
   {
    "duration": 35,
    "start_time": "2022-02-21T13:18:09.571Z"
   },
   {
    "duration": 19,
    "start_time": "2022-02-21T13:18:09.608Z"
   },
   {
    "duration": 23,
    "start_time": "2022-02-21T13:18:09.629Z"
   },
   {
    "duration": 27,
    "start_time": "2022-02-21T13:18:09.655Z"
   },
   {
    "duration": 4,
    "start_time": "2022-02-21T13:18:09.684Z"
   },
   {
    "duration": 29,
    "start_time": "2022-02-21T13:18:09.691Z"
   },
   {
    "duration": 8,
    "start_time": "2022-02-21T13:18:09.723Z"
   },
   {
    "duration": 13,
    "start_time": "2022-02-21T13:18:09.733Z"
   },
   {
    "duration": 8,
    "start_time": "2022-02-21T13:18:09.748Z"
   },
   {
    "duration": 29,
    "start_time": "2022-02-21T13:18:09.758Z"
   },
   {
    "duration": 41,
    "start_time": "2022-02-21T13:18:09.789Z"
   },
   {
    "duration": 19,
    "start_time": "2022-02-21T13:18:09.832Z"
   },
   {
    "duration": 23,
    "start_time": "2022-02-21T13:18:09.853Z"
   },
   {
    "duration": 9,
    "start_time": "2022-02-21T13:18:09.878Z"
   },
   {
    "duration": 38,
    "start_time": "2022-02-21T13:18:09.888Z"
   },
   {
    "duration": 8,
    "start_time": "2022-02-21T13:18:09.928Z"
   },
   {
    "duration": 15,
    "start_time": "2022-02-21T13:18:09.937Z"
   },
   {
    "duration": 14,
    "start_time": "2022-02-21T13:18:09.953Z"
   },
   {
    "duration": 13,
    "start_time": "2022-02-21T13:18:09.969Z"
   },
   {
    "duration": 42,
    "start_time": "2022-02-21T13:18:09.983Z"
   },
   {
    "duration": 8,
    "start_time": "2022-02-21T13:18:10.027Z"
   },
   {
    "duration": 11,
    "start_time": "2022-02-21T13:18:10.036Z"
   },
   {
    "duration": 7,
    "start_time": "2022-02-21T13:18:10.049Z"
   },
   {
    "duration": 61,
    "start_time": "2022-02-21T13:18:10.060Z"
   },
   {
    "duration": 7,
    "start_time": "2022-02-21T13:18:10.123Z"
   },
   {
    "duration": 12,
    "start_time": "2022-02-21T13:18:10.132Z"
   },
   {
    "duration": 20,
    "start_time": "2022-02-21T13:18:10.145Z"
   },
   {
    "duration": 23,
    "start_time": "2022-02-21T13:18:10.167Z"
   },
   {
    "duration": 10,
    "start_time": "2022-02-21T13:18:10.191Z"
   },
   {
    "duration": 8,
    "start_time": "2022-02-21T13:18:10.203Z"
   },
   {
    "duration": 14,
    "start_time": "2022-02-21T13:18:10.213Z"
   },
   {
    "duration": 28,
    "start_time": "2022-02-21T13:18:10.228Z"
   },
   {
    "duration": 18,
    "start_time": "2022-02-21T13:18:10.258Z"
   },
   {
    "duration": 56,
    "start_time": "2022-02-21T13:18:10.277Z"
   },
   {
    "duration": 9,
    "start_time": "2022-02-21T13:18:10.336Z"
   },
   {
    "duration": 32,
    "start_time": "2022-02-21T13:18:10.347Z"
   },
   {
    "duration": 7,
    "start_time": "2022-02-21T13:18:10.380Z"
   },
   {
    "duration": 33,
    "start_time": "2022-02-21T13:18:10.389Z"
   },
   {
    "duration": 7,
    "start_time": "2022-02-21T13:18:10.424Z"
   },
   {
    "duration": 16,
    "start_time": "2022-02-21T13:18:10.433Z"
   },
   {
    "duration": 7,
    "start_time": "2022-02-21T13:18:10.450Z"
   },
   {
    "duration": 25,
    "start_time": "2022-02-21T13:18:10.459Z"
   },
   {
    "duration": 10,
    "start_time": "2022-02-21T13:18:10.486Z"
   },
   {
    "duration": 18,
    "start_time": "2022-02-21T13:18:10.519Z"
   },
   {
    "duration": 7,
    "start_time": "2022-02-21T13:18:10.538Z"
   },
   {
    "duration": 13,
    "start_time": "2022-02-21T13:18:10.547Z"
   },
   {
    "duration": 19,
    "start_time": "2022-02-21T13:18:10.561Z"
   },
   {
    "duration": 12,
    "start_time": "2022-02-21T13:18:10.582Z"
   },
   {
    "duration": 10,
    "start_time": "2022-02-21T13:18:10.595Z"
   },
   {
    "duration": 16,
    "start_time": "2022-02-21T13:18:10.606Z"
   },
   {
    "duration": 13,
    "start_time": "2022-02-21T13:18:10.624Z"
   },
   {
    "duration": 16,
    "start_time": "2022-02-21T13:18:10.638Z"
   },
   {
    "duration": 10,
    "start_time": "2022-02-21T13:18:10.656Z"
   },
   {
    "duration": 9,
    "start_time": "2022-02-21T13:18:10.668Z"
   },
   {
    "duration": 9,
    "start_time": "2022-02-21T13:18:10.679Z"
   },
   {
    "duration": 9,
    "start_time": "2022-02-21T13:18:10.690Z"
   },
   {
    "duration": 24,
    "start_time": "2022-02-21T13:18:10.701Z"
   },
   {
    "duration": 13,
    "start_time": "2022-02-21T13:18:10.727Z"
   },
   {
    "duration": 7,
    "start_time": "2022-02-21T13:18:10.742Z"
   },
   {
    "duration": 21,
    "start_time": "2022-02-21T13:18:10.750Z"
   },
   {
    "duration": 16,
    "start_time": "2022-02-21T13:18:10.773Z"
   },
   {
    "duration": 39,
    "start_time": "2022-02-21T13:18:10.790Z"
   },
   {
    "duration": 8,
    "start_time": "2022-02-21T13:18:10.831Z"
   },
   {
    "duration": 13,
    "start_time": "2022-02-21T13:18:10.840Z"
   },
   {
    "duration": 66,
    "start_time": "2022-02-21T13:18:10.855Z"
   },
   {
    "duration": 3,
    "start_time": "2022-02-21T13:18:10.923Z"
   },
   {
    "duration": 8,
    "start_time": "2022-02-21T13:18:10.927Z"
   },
   {
    "duration": 551,
    "start_time": "2022-02-21T13:18:10.937Z"
   },
   {
    "duration": 11,
    "start_time": "2022-02-21T13:18:11.490Z"
   },
   {
    "duration": 22,
    "start_time": "2022-02-21T13:18:11.502Z"
   },
   {
    "duration": 8,
    "start_time": "2022-02-21T13:18:11.526Z"
   },
   {
    "duration": 3,
    "start_time": "2022-02-21T13:18:11.536Z"
   },
   {
    "duration": 5,
    "start_time": "2022-02-21T13:18:11.541Z"
   },
   {
    "duration": 7,
    "start_time": "2022-02-21T13:18:11.547Z"
   },
   {
    "duration": 4,
    "start_time": "2022-02-21T13:18:11.555Z"
   },
   {
    "duration": 7,
    "start_time": "2022-02-21T13:18:11.560Z"
   },
   {
    "duration": 7,
    "start_time": "2022-02-21T13:18:11.569Z"
   },
   {
    "duration": 51,
    "start_time": "2022-02-21T13:18:11.581Z"
   },
   {
    "duration": 265,
    "start_time": "2022-02-21T13:18:11.634Z"
   },
   {
    "duration": 210,
    "start_time": "2022-02-21T13:18:21.872Z"
   },
   {
    "duration": 4,
    "start_time": "2022-02-21T13:29:18.084Z"
   },
   {
    "duration": 8059,
    "start_time": "2022-02-21T13:30:01.064Z"
   },
   {
    "duration": 4,
    "start_time": "2022-02-21T13:30:55.535Z"
   },
   {
    "duration": 224,
    "start_time": "2022-02-21T13:30:56.713Z"
   },
   {
    "duration": 5,
    "start_time": "2022-02-21T13:33:03.311Z"
   },
   {
    "duration": 35,
    "start_time": "2022-02-21T13:33:28.594Z"
   },
   {
    "duration": 24,
    "start_time": "2022-02-21T13:34:06.615Z"
   },
   {
    "duration": 33,
    "start_time": "2022-02-21T13:34:30.871Z"
   },
   {
    "duration": 237,
    "start_time": "2022-02-21T13:36:00.003Z"
   },
   {
    "duration": 32,
    "start_time": "2022-02-21T13:36:21.231Z"
   },
   {
    "duration": 33,
    "start_time": "2022-02-21T13:38:10.218Z"
   },
   {
    "duration": 9,
    "start_time": "2022-02-21T13:38:49.928Z"
   },
   {
    "duration": 1193,
    "start_time": "2022-02-21T13:41:56.997Z"
   },
   {
    "duration": 394,
    "start_time": "2022-02-21T13:41:58.192Z"
   },
   {
    "duration": 13,
    "start_time": "2022-02-21T13:41:58.588Z"
   },
   {
    "duration": 36,
    "start_time": "2022-02-21T13:41:58.603Z"
   },
   {
    "duration": 20,
    "start_time": "2022-02-21T13:41:58.641Z"
   },
   {
    "duration": 25,
    "start_time": "2022-02-21T13:41:58.663Z"
   },
   {
    "duration": 49,
    "start_time": "2022-02-21T13:41:58.691Z"
   },
   {
    "duration": 4,
    "start_time": "2022-02-21T13:41:58.742Z"
   },
   {
    "duration": 6,
    "start_time": "2022-02-21T13:41:58.748Z"
   },
   {
    "duration": 7,
    "start_time": "2022-02-21T13:41:58.756Z"
   },
   {
    "duration": 14,
    "start_time": "2022-02-21T13:41:58.765Z"
   },
   {
    "duration": 46,
    "start_time": "2022-02-21T13:41:58.780Z"
   },
   {
    "duration": 26,
    "start_time": "2022-02-21T13:41:58.828Z"
   },
   {
    "duration": 18,
    "start_time": "2022-02-21T13:41:58.856Z"
   },
   {
    "duration": 45,
    "start_time": "2022-02-21T13:41:58.876Z"
   },
   {
    "duration": 25,
    "start_time": "2022-02-21T13:41:58.923Z"
   },
   {
    "duration": 8,
    "start_time": "2022-02-21T13:41:58.950Z"
   },
   {
    "duration": 12,
    "start_time": "2022-02-21T13:41:58.960Z"
   },
   {
    "duration": 7,
    "start_time": "2022-02-21T13:41:58.974Z"
   },
   {
    "duration": 48,
    "start_time": "2022-02-21T13:41:58.982Z"
   },
   {
    "duration": 14,
    "start_time": "2022-02-21T13:41:59.032Z"
   },
   {
    "duration": 13,
    "start_time": "2022-02-21T13:41:59.050Z"
   },
   {
    "duration": 16,
    "start_time": "2022-02-21T13:41:59.066Z"
   },
   {
    "duration": 40,
    "start_time": "2022-02-21T13:41:59.084Z"
   },
   {
    "duration": 9,
    "start_time": "2022-02-21T13:41:59.125Z"
   },
   {
    "duration": 9,
    "start_time": "2022-02-21T13:41:59.136Z"
   },
   {
    "duration": 33,
    "start_time": "2022-02-21T13:41:59.146Z"
   },
   {
    "duration": 6,
    "start_time": "2022-02-21T13:41:59.180Z"
   },
   {
    "duration": 37,
    "start_time": "2022-02-21T13:41:59.188Z"
   },
   {
    "duration": 17,
    "start_time": "2022-02-21T13:41:59.227Z"
   },
   {
    "duration": 28,
    "start_time": "2022-02-21T13:41:59.246Z"
   },
   {
    "duration": 5,
    "start_time": "2022-02-21T13:41:59.276Z"
   },
   {
    "duration": 6,
    "start_time": "2022-02-21T13:41:59.283Z"
   },
   {
    "duration": 5,
    "start_time": "2022-02-21T13:41:59.291Z"
   },
   {
    "duration": 25,
    "start_time": "2022-02-21T13:41:59.297Z"
   },
   {
    "duration": 7,
    "start_time": "2022-02-21T13:41:59.324Z"
   },
   {
    "duration": 22,
    "start_time": "2022-02-21T13:41:59.333Z"
   },
   {
    "duration": 8,
    "start_time": "2022-02-21T13:41:59.357Z"
   },
   {
    "duration": 69,
    "start_time": "2022-02-21T13:41:59.366Z"
   },
   {
    "duration": 6,
    "start_time": "2022-02-21T13:41:59.437Z"
   },
   {
    "duration": 20,
    "start_time": "2022-02-21T13:41:59.445Z"
   },
   {
    "duration": 8,
    "start_time": "2022-02-21T13:41:59.467Z"
   },
   {
    "duration": 42,
    "start_time": "2022-02-21T13:41:59.477Z"
   },
   {
    "duration": 7,
    "start_time": "2022-02-21T13:41:59.520Z"
   },
   {
    "duration": 18,
    "start_time": "2022-02-21T13:41:59.528Z"
   },
   {
    "duration": 8,
    "start_time": "2022-02-21T13:41:59.548Z"
   },
   {
    "duration": 16,
    "start_time": "2022-02-21T13:41:59.558Z"
   },
   {
    "duration": 5,
    "start_time": "2022-02-21T13:41:59.576Z"
   },
   {
    "duration": 42,
    "start_time": "2022-02-21T13:41:59.582Z"
   },
   {
    "duration": 8,
    "start_time": "2022-02-21T13:41:59.625Z"
   },
   {
    "duration": 7,
    "start_time": "2022-02-21T13:41:59.634Z"
   },
   {
    "duration": 9,
    "start_time": "2022-02-21T13:41:59.642Z"
   },
   {
    "duration": 8,
    "start_time": "2022-02-21T13:41:59.653Z"
   },
   {
    "duration": 8,
    "start_time": "2022-02-21T13:41:59.663Z"
   },
   {
    "duration": 49,
    "start_time": "2022-02-21T13:41:59.673Z"
   },
   {
    "duration": 8,
    "start_time": "2022-02-21T13:41:59.724Z"
   },
   {
    "duration": 7,
    "start_time": "2022-02-21T13:41:59.734Z"
   },
   {
    "duration": 10,
    "start_time": "2022-02-21T13:41:59.742Z"
   },
   {
    "duration": 11,
    "start_time": "2022-02-21T13:41:59.753Z"
   },
   {
    "duration": 9,
    "start_time": "2022-02-21T13:41:59.765Z"
   },
   {
    "duration": 51,
    "start_time": "2022-02-21T13:41:59.776Z"
   },
   {
    "duration": 9,
    "start_time": "2022-02-21T13:41:59.829Z"
   },
   {
    "duration": 38,
    "start_time": "2022-02-21T13:41:59.840Z"
   },
   {
    "duration": 40,
    "start_time": "2022-02-21T13:41:59.880Z"
   },
   {
    "duration": 39,
    "start_time": "2022-02-21T13:41:59.922Z"
   },
   {
    "duration": 27,
    "start_time": "2022-02-21T13:41:59.964Z"
   },
   {
    "duration": 26,
    "start_time": "2022-02-21T13:41:59.996Z"
   },
   {
    "duration": 80,
    "start_time": "2022-02-21T13:42:00.024Z"
   },
   {
    "duration": 3,
    "start_time": "2022-02-21T13:42:00.105Z"
   },
   {
    "duration": 41,
    "start_time": "2022-02-21T13:42:00.109Z"
   },
   {
    "duration": 635,
    "start_time": "2022-02-21T13:42:00.152Z"
   },
   {
    "duration": 10,
    "start_time": "2022-02-21T13:42:00.790Z"
   },
   {
    "duration": 34,
    "start_time": "2022-02-21T13:42:00.802Z"
   },
   {
    "duration": 47,
    "start_time": "2022-02-21T13:42:00.838Z"
   },
   {
    "duration": 20,
    "start_time": "2022-02-21T13:42:00.888Z"
   },
   {
    "duration": 42,
    "start_time": "2022-02-21T13:42:00.910Z"
   },
   {
    "duration": 77,
    "start_time": "2022-02-21T13:42:00.953Z"
   },
   {
    "duration": 13,
    "start_time": "2022-02-21T13:42:01.032Z"
   },
   {
    "duration": 28,
    "start_time": "2022-02-21T13:42:01.047Z"
   },
   {
    "duration": 16,
    "start_time": "2022-02-21T13:42:01.077Z"
   },
   {
    "duration": 15,
    "start_time": "2022-02-21T13:42:01.095Z"
   },
   {
    "duration": 5,
    "start_time": "2022-02-21T13:42:01.112Z"
   },
   {
    "duration": 207,
    "start_time": "2022-02-21T13:42:01.119Z"
   },
   {
    "duration": 3,
    "start_time": "2022-02-21T13:42:01.328Z"
   },
   {
    "duration": 32,
    "start_time": "2022-02-21T13:42:01.333Z"
   },
   {
    "duration": 8,
    "start_time": "2022-02-21T13:42:01.367Z"
   },
   {
    "duration": 1158,
    "start_time": "2022-02-21T13:47:15.731Z"
   },
   {
    "duration": 389,
    "start_time": "2022-02-21T13:47:16.892Z"
   },
   {
    "duration": 12,
    "start_time": "2022-02-21T13:47:17.283Z"
   },
   {
    "duration": 37,
    "start_time": "2022-02-21T13:47:17.298Z"
   },
   {
    "duration": 23,
    "start_time": "2022-02-21T13:47:17.337Z"
   },
   {
    "duration": 30,
    "start_time": "2022-02-21T13:47:17.362Z"
   },
   {
    "duration": 51,
    "start_time": "2022-02-21T13:47:17.394Z"
   },
   {
    "duration": 5,
    "start_time": "2022-02-21T13:47:17.447Z"
   },
   {
    "duration": 6,
    "start_time": "2022-02-21T13:47:17.455Z"
   },
   {
    "duration": 9,
    "start_time": "2022-02-21T13:47:17.463Z"
   },
   {
    "duration": 52,
    "start_time": "2022-02-21T13:47:17.474Z"
   },
   {
    "duration": 10,
    "start_time": "2022-02-21T13:47:17.528Z"
   },
   {
    "duration": 35,
    "start_time": "2022-02-21T13:47:17.540Z"
   },
   {
    "duration": 56,
    "start_time": "2022-02-21T13:47:17.577Z"
   },
   {
    "duration": 30,
    "start_time": "2022-02-21T13:47:17.635Z"
   },
   {
    "duration": 33,
    "start_time": "2022-02-21T13:47:17.667Z"
   },
   {
    "duration": 8,
    "start_time": "2022-02-21T13:47:17.702Z"
   },
   {
    "duration": 11,
    "start_time": "2022-02-21T13:47:17.718Z"
   },
   {
    "duration": 7,
    "start_time": "2022-02-21T13:47:17.731Z"
   },
   {
    "duration": 29,
    "start_time": "2022-02-21T13:47:17.740Z"
   },
   {
    "duration": 15,
    "start_time": "2022-02-21T13:47:17.771Z"
   },
   {
    "duration": 32,
    "start_time": "2022-02-21T13:47:17.788Z"
   },
   {
    "duration": 18,
    "start_time": "2022-02-21T13:47:17.822Z"
   },
   {
    "duration": 8,
    "start_time": "2022-02-21T13:47:17.841Z"
   },
   {
    "duration": 10,
    "start_time": "2022-02-21T13:47:17.851Z"
   },
   {
    "duration": 8,
    "start_time": "2022-02-21T13:47:17.863Z"
   },
   {
    "duration": 68,
    "start_time": "2022-02-21T13:47:17.875Z"
   },
   {
    "duration": 6,
    "start_time": "2022-02-21T13:47:17.946Z"
   },
   {
    "duration": 5,
    "start_time": "2022-02-21T13:47:17.954Z"
   },
   {
    "duration": 13,
    "start_time": "2022-02-21T13:47:17.961Z"
   },
   {
    "duration": 52,
    "start_time": "2022-02-21T13:47:17.976Z"
   },
   {
    "duration": 7,
    "start_time": "2022-02-21T13:47:18.030Z"
   },
   {
    "duration": 7,
    "start_time": "2022-02-21T13:47:18.039Z"
   },
   {
    "duration": 5,
    "start_time": "2022-02-21T13:47:18.048Z"
   },
   {
    "duration": 40,
    "start_time": "2022-02-21T13:47:18.055Z"
   },
   {
    "duration": 8,
    "start_time": "2022-02-21T13:47:18.098Z"
   },
   {
    "duration": 24,
    "start_time": "2022-02-21T13:47:18.118Z"
   },
   {
    "duration": 9,
    "start_time": "2022-02-21T13:47:18.144Z"
   },
   {
    "duration": 32,
    "start_time": "2022-02-21T13:47:18.155Z"
   },
   {
    "duration": 31,
    "start_time": "2022-02-21T13:47:18.189Z"
   },
   {
    "duration": 39,
    "start_time": "2022-02-21T13:47:18.222Z"
   },
   {
    "duration": 7,
    "start_time": "2022-02-21T13:47:18.263Z"
   },
   {
    "duration": 17,
    "start_time": "2022-02-21T13:47:18.272Z"
   },
   {
    "duration": 6,
    "start_time": "2022-02-21T13:47:18.291Z"
   },
   {
    "duration": 37,
    "start_time": "2022-02-21T13:47:18.298Z"
   },
   {
    "duration": 8,
    "start_time": "2022-02-21T13:47:18.337Z"
   },
   {
    "duration": 16,
    "start_time": "2022-02-21T13:47:18.347Z"
   },
   {
    "duration": 5,
    "start_time": "2022-02-21T13:47:18.365Z"
   },
   {
    "duration": 8,
    "start_time": "2022-02-21T13:47:18.372Z"
   },
   {
    "duration": 42,
    "start_time": "2022-02-21T13:47:18.382Z"
   },
   {
    "duration": 6,
    "start_time": "2022-02-21T13:47:18.426Z"
   },
   {
    "duration": 6,
    "start_time": "2022-02-21T13:47:18.434Z"
   },
   {
    "duration": 6,
    "start_time": "2022-02-21T13:47:18.442Z"
   },
   {
    "duration": 8,
    "start_time": "2022-02-21T13:47:18.449Z"
   },
   {
    "duration": 5,
    "start_time": "2022-02-21T13:47:18.459Z"
   },
   {
    "duration": 56,
    "start_time": "2022-02-21T13:47:18.466Z"
   },
   {
    "duration": 8,
    "start_time": "2022-02-21T13:47:18.524Z"
   },
   {
    "duration": 10,
    "start_time": "2022-02-21T13:47:18.534Z"
   },
   {
    "duration": 10,
    "start_time": "2022-02-21T13:47:18.545Z"
   },
   {
    "duration": 11,
    "start_time": "2022-02-21T13:47:18.557Z"
   },
   {
    "duration": 53,
    "start_time": "2022-02-21T13:47:18.570Z"
   },
   {
    "duration": 8,
    "start_time": "2022-02-21T13:47:18.625Z"
   },
   {
    "duration": 12,
    "start_time": "2022-02-21T13:47:18.635Z"
   },
   {
    "duration": 16,
    "start_time": "2022-02-21T13:47:18.649Z"
   },
   {
    "duration": 16,
    "start_time": "2022-02-21T13:47:18.667Z"
   },
   {
    "duration": 41,
    "start_time": "2022-02-21T13:47:18.684Z"
   },
   {
    "duration": 15,
    "start_time": "2022-02-21T13:47:18.727Z"
   },
   {
    "duration": 50,
    "start_time": "2022-02-21T13:47:18.744Z"
   },
   {
    "duration": 24,
    "start_time": "2022-02-21T13:47:18.795Z"
   },
   {
    "duration": 5,
    "start_time": "2022-02-21T13:47:18.822Z"
   },
   {
    "duration": 590,
    "start_time": "2022-02-21T13:47:18.829Z"
   },
   {
    "duration": 12,
    "start_time": "2022-02-21T13:47:19.421Z"
   },
   {
    "duration": 9,
    "start_time": "2022-02-21T13:47:19.435Z"
   },
   {
    "duration": 10,
    "start_time": "2022-02-21T13:47:19.446Z"
   },
   {
    "duration": 4,
    "start_time": "2022-02-21T13:47:19.458Z"
   },
   {
    "duration": 4,
    "start_time": "2022-02-21T13:47:19.464Z"
   },
   {
    "duration": 49,
    "start_time": "2022-02-21T13:47:19.470Z"
   },
   {
    "duration": 4,
    "start_time": "2022-02-21T13:47:19.522Z"
   },
   {
    "duration": 9,
    "start_time": "2022-02-21T13:47:19.528Z"
   },
   {
    "duration": 10,
    "start_time": "2022-02-21T13:47:19.539Z"
   },
   {
    "duration": 64,
    "start_time": "2022-02-21T13:47:19.555Z"
   },
   {
    "duration": 4,
    "start_time": "2022-02-21T13:47:19.621Z"
   },
   {
    "duration": 216,
    "start_time": "2022-02-21T13:47:19.626Z"
   },
   {
    "duration": 4,
    "start_time": "2022-02-21T13:47:19.844Z"
   },
   {
    "duration": 32,
    "start_time": "2022-02-21T13:47:19.850Z"
   },
   {
    "duration": 40,
    "start_time": "2022-02-21T13:47:19.884Z"
   },
   {
    "duration": 6,
    "start_time": "2022-02-21T13:52:28.939Z"
   },
   {
    "duration": 558,
    "start_time": "2022-02-21T13:55:13.542Z"
   },
   {
    "duration": 422,
    "start_time": "2022-02-21T13:56:11.962Z"
   },
   {
    "duration": 432,
    "start_time": "2022-02-21T13:56:36.463Z"
   },
   {
    "duration": 248,
    "start_time": "2022-02-21T13:57:19.954Z"
   },
   {
    "duration": 308,
    "start_time": "2022-02-21T13:57:31.966Z"
   },
   {
    "duration": 61,
    "start_time": "2022-02-21T13:58:16.523Z"
   },
   {
    "duration": 263,
    "start_time": "2022-02-21T13:58:22.997Z"
   },
   {
    "duration": 247,
    "start_time": "2022-02-21T13:58:47.260Z"
   },
   {
    "duration": 64,
    "start_time": "2022-02-21T13:59:46.897Z"
   },
   {
    "duration": 1138,
    "start_time": "2022-02-21T14:04:16.784Z"
   },
   {
    "duration": 389,
    "start_time": "2022-02-21T14:04:17.924Z"
   },
   {
    "duration": 10,
    "start_time": "2022-02-21T14:04:18.316Z"
   },
   {
    "duration": 34,
    "start_time": "2022-02-21T14:04:18.329Z"
   },
   {
    "duration": 24,
    "start_time": "2022-02-21T14:04:18.365Z"
   },
   {
    "duration": 25,
    "start_time": "2022-02-21T14:04:18.419Z"
   },
   {
    "duration": 29,
    "start_time": "2022-02-21T14:04:18.446Z"
   },
   {
    "duration": 5,
    "start_time": "2022-02-21T14:04:18.477Z"
   },
   {
    "duration": 35,
    "start_time": "2022-02-21T14:04:18.484Z"
   },
   {
    "duration": 8,
    "start_time": "2022-02-21T14:04:18.521Z"
   },
   {
    "duration": 14,
    "start_time": "2022-02-21T14:04:18.531Z"
   },
   {
    "duration": 9,
    "start_time": "2022-02-21T14:04:18.547Z"
   },
   {
    "duration": 74,
    "start_time": "2022-02-21T14:04:18.558Z"
   },
   {
    "duration": 20,
    "start_time": "2022-02-21T14:04:18.634Z"
   },
   {
    "duration": 19,
    "start_time": "2022-02-21T14:04:18.657Z"
   },
   {
    "duration": 51,
    "start_time": "2022-02-21T14:04:18.678Z"
   },
   {
    "duration": 11,
    "start_time": "2022-02-21T14:04:18.731Z"
   },
   {
    "duration": 13,
    "start_time": "2022-02-21T14:04:18.743Z"
   },
   {
    "duration": 8,
    "start_time": "2022-02-21T14:04:18.758Z"
   },
   {
    "duration": 53,
    "start_time": "2022-02-21T14:04:18.767Z"
   },
   {
    "duration": 15,
    "start_time": "2022-02-21T14:04:18.821Z"
   },
   {
    "duration": 14,
    "start_time": "2022-02-21T14:04:18.838Z"
   },
   {
    "duration": 19,
    "start_time": "2022-02-21T14:04:18.854Z"
   },
   {
    "duration": 8,
    "start_time": "2022-02-21T14:04:18.875Z"
   },
   {
    "duration": 39,
    "start_time": "2022-02-21T14:04:18.885Z"
   },
   {
    "duration": 10,
    "start_time": "2022-02-21T14:04:18.927Z"
   },
   {
    "duration": 29,
    "start_time": "2022-02-21T14:04:18.941Z"
   },
   {
    "duration": 52,
    "start_time": "2022-02-21T14:04:18.974Z"
   },
   {
    "duration": 6,
    "start_time": "2022-02-21T14:04:19.028Z"
   },
   {
    "duration": 13,
    "start_time": "2022-02-21T14:04:19.036Z"
   },
   {
    "duration": 17,
    "start_time": "2022-02-21T14:04:19.050Z"
   },
   {
    "duration": 7,
    "start_time": "2022-02-21T14:04:19.070Z"
   },
   {
    "duration": 5,
    "start_time": "2022-02-21T14:04:19.119Z"
   },
   {
    "duration": 5,
    "start_time": "2022-02-21T14:04:19.126Z"
   },
   {
    "duration": 12,
    "start_time": "2022-02-21T14:04:19.133Z"
   },
   {
    "duration": 11,
    "start_time": "2022-02-21T14:04:19.147Z"
   },
   {
    "duration": 29,
    "start_time": "2022-02-21T14:04:19.161Z"
   },
   {
    "duration": 8,
    "start_time": "2022-02-21T14:04:19.220Z"
   },
   {
    "duration": 32,
    "start_time": "2022-02-21T14:04:19.230Z"
   },
   {
    "duration": 7,
    "start_time": "2022-02-21T14:04:19.264Z"
   },
   {
    "duration": 47,
    "start_time": "2022-02-21T14:04:19.273Z"
   },
   {
    "duration": 8,
    "start_time": "2022-02-21T14:04:19.322Z"
   },
   {
    "duration": 16,
    "start_time": "2022-02-21T14:04:19.331Z"
   },
   {
    "duration": 6,
    "start_time": "2022-02-21T14:04:19.349Z"
   },
   {
    "duration": 32,
    "start_time": "2022-02-21T14:04:19.357Z"
   },
   {
    "duration": 32,
    "start_time": "2022-02-21T14:04:19.391Z"
   },
   {
    "duration": 17,
    "start_time": "2022-02-21T14:04:19.425Z"
   },
   {
    "duration": 5,
    "start_time": "2022-02-21T14:04:19.444Z"
   },
   {
    "duration": 7,
    "start_time": "2022-02-21T14:04:19.451Z"
   },
   {
    "duration": 9,
    "start_time": "2022-02-21T14:04:19.460Z"
   },
   {
    "duration": 6,
    "start_time": "2022-02-21T14:04:19.471Z"
   },
   {
    "duration": 8,
    "start_time": "2022-02-21T14:04:19.520Z"
   },
   {
    "duration": 7,
    "start_time": "2022-02-21T14:04:19.530Z"
   },
   {
    "duration": 8,
    "start_time": "2022-02-21T14:04:19.539Z"
   },
   {
    "duration": 9,
    "start_time": "2022-02-21T14:04:19.549Z"
   },
   {
    "duration": 11,
    "start_time": "2022-02-21T14:04:19.560Z"
   },
   {
    "duration": 55,
    "start_time": "2022-02-21T14:04:19.573Z"
   },
   {
    "duration": 10,
    "start_time": "2022-02-21T14:04:19.630Z"
   },
   {
    "duration": 13,
    "start_time": "2022-02-21T14:04:19.643Z"
   },
   {
    "duration": 11,
    "start_time": "2022-02-21T14:04:19.660Z"
   },
   {
    "duration": 62,
    "start_time": "2022-02-21T14:04:19.673Z"
   },
   {
    "duration": 11,
    "start_time": "2022-02-21T14:04:19.737Z"
   },
   {
    "duration": 10,
    "start_time": "2022-02-21T14:04:19.750Z"
   },
   {
    "duration": 59,
    "start_time": "2022-02-21T14:04:19.762Z"
   },
   {
    "duration": 16,
    "start_time": "2022-02-21T14:04:19.823Z"
   },
   {
    "duration": 8,
    "start_time": "2022-02-21T14:04:19.841Z"
   },
   {
    "duration": 15,
    "start_time": "2022-02-21T14:04:19.850Z"
   },
   {
    "duration": 84,
    "start_time": "2022-02-21T14:04:19.866Z"
   },
   {
    "duration": 2,
    "start_time": "2022-02-21T14:04:19.952Z"
   },
   {
    "duration": 5,
    "start_time": "2022-02-21T14:04:19.956Z"
   },
   {
    "duration": 624,
    "start_time": "2022-02-21T14:04:19.963Z"
   },
   {
    "duration": 11,
    "start_time": "2022-02-21T14:04:20.589Z"
   },
   {
    "duration": 21,
    "start_time": "2022-02-21T14:04:20.602Z"
   },
   {
    "duration": 8,
    "start_time": "2022-02-21T14:04:20.625Z"
   },
   {
    "duration": 9,
    "start_time": "2022-02-21T14:04:20.635Z"
   },
   {
    "duration": 5,
    "start_time": "2022-02-21T14:04:20.645Z"
   },
   {
    "duration": 7,
    "start_time": "2022-02-21T14:04:20.652Z"
   },
   {
    "duration": 5,
    "start_time": "2022-02-21T14:04:20.661Z"
   },
   {
    "duration": 14,
    "start_time": "2022-02-21T14:04:20.668Z"
   },
   {
    "duration": 41,
    "start_time": "2022-02-21T14:04:20.684Z"
   },
   {
    "duration": 16,
    "start_time": "2022-02-21T14:04:20.731Z"
   },
   {
    "duration": 4,
    "start_time": "2022-02-21T14:04:20.749Z"
   },
   {
    "duration": 245,
    "start_time": "2022-02-21T14:04:20.755Z"
   },
   {
    "duration": 3,
    "start_time": "2022-02-21T14:04:21.003Z"
   },
   {
    "duration": 42,
    "start_time": "2022-02-21T14:04:21.008Z"
   },
   {
    "duration": 15,
    "start_time": "2022-02-21T14:04:21.052Z"
   },
   {
    "duration": 9,
    "start_time": "2022-02-21T14:04:21.070Z"
   },
   {
    "duration": 266,
    "start_time": "2022-02-21T14:04:21.081Z"
   },
   {
    "duration": 216,
    "start_time": "2022-02-21T14:04:21.349Z"
   },
   {
    "duration": 187,
    "start_time": "2022-02-21T14:05:04.470Z"
   },
   {
    "duration": 230,
    "start_time": "2022-02-21T14:07:07.221Z"
   },
   {
    "duration": 273,
    "start_time": "2022-02-21T14:07:09.258Z"
   },
   {
    "duration": 21,
    "start_time": "2022-02-21T14:09:38.125Z"
   },
   {
    "duration": 237,
    "start_time": "2022-02-21T14:11:00.641Z"
   },
   {
    "duration": 590,
    "start_time": "2022-02-21T14:11:20.141Z"
   },
   {
    "duration": 23,
    "start_time": "2022-02-21T14:11:59.743Z"
   },
   {
    "duration": 1091,
    "start_time": "2022-02-21T14:20:02.786Z"
   },
   {
    "duration": 375,
    "start_time": "2022-02-21T14:20:03.879Z"
   },
   {
    "duration": 12,
    "start_time": "2022-02-21T14:20:04.256Z"
   },
   {
    "duration": 40,
    "start_time": "2022-02-21T14:20:04.269Z"
   },
   {
    "duration": 23,
    "start_time": "2022-02-21T14:20:04.311Z"
   },
   {
    "duration": 28,
    "start_time": "2022-02-21T14:20:04.336Z"
   },
   {
    "duration": 30,
    "start_time": "2022-02-21T14:20:04.365Z"
   },
   {
    "duration": 25,
    "start_time": "2022-02-21T14:20:04.396Z"
   },
   {
    "duration": 6,
    "start_time": "2022-02-21T14:20:04.424Z"
   },
   {
    "duration": 12,
    "start_time": "2022-02-21T14:20:04.432Z"
   },
   {
    "duration": 31,
    "start_time": "2022-02-21T14:20:04.446Z"
   },
   {
    "duration": 8,
    "start_time": "2022-02-21T14:20:04.479Z"
   },
   {
    "duration": 46,
    "start_time": "2022-02-21T14:20:04.488Z"
   },
   {
    "duration": 20,
    "start_time": "2022-02-21T14:20:04.536Z"
   },
   {
    "duration": 24,
    "start_time": "2022-02-21T14:20:04.558Z"
   },
   {
    "duration": 42,
    "start_time": "2022-02-21T14:20:04.585Z"
   },
   {
    "duration": 9,
    "start_time": "2022-02-21T14:20:04.629Z"
   },
   {
    "duration": 19,
    "start_time": "2022-02-21T14:20:04.640Z"
   },
   {
    "duration": 7,
    "start_time": "2022-02-21T14:20:04.660Z"
   },
   {
    "duration": 18,
    "start_time": "2022-02-21T14:20:04.668Z"
   },
   {
    "duration": 40,
    "start_time": "2022-02-21T14:20:04.687Z"
   },
   {
    "duration": 30,
    "start_time": "2022-02-21T14:20:04.729Z"
   },
   {
    "duration": 39,
    "start_time": "2022-02-21T14:20:04.761Z"
   },
   {
    "duration": 17,
    "start_time": "2022-02-21T14:20:04.802Z"
   },
   {
    "duration": 23,
    "start_time": "2022-02-21T14:20:04.821Z"
   },
   {
    "duration": 17,
    "start_time": "2022-02-21T14:20:04.846Z"
   },
   {
    "duration": 41,
    "start_time": "2022-02-21T14:20:04.868Z"
   },
   {
    "duration": 6,
    "start_time": "2022-02-21T14:20:04.912Z"
   },
   {
    "duration": 14,
    "start_time": "2022-02-21T14:20:04.919Z"
   },
   {
    "duration": 25,
    "start_time": "2022-02-21T14:20:04.935Z"
   },
   {
    "duration": 22,
    "start_time": "2022-02-21T14:20:04.962Z"
   },
   {
    "duration": 18,
    "start_time": "2022-02-21T14:20:04.986Z"
   },
   {
    "duration": 17,
    "start_time": "2022-02-21T14:20:05.006Z"
   },
   {
    "duration": 34,
    "start_time": "2022-02-21T14:20:05.025Z"
   },
   {
    "duration": 38,
    "start_time": "2022-02-21T14:20:05.061Z"
   },
   {
    "duration": 25,
    "start_time": "2022-02-21T14:20:05.100Z"
   },
   {
    "duration": 43,
    "start_time": "2022-02-21T14:20:05.127Z"
   },
   {
    "duration": 8,
    "start_time": "2022-02-21T14:20:05.172Z"
   },
   {
    "duration": 54,
    "start_time": "2022-02-21T14:20:05.181Z"
   },
   {
    "duration": 7,
    "start_time": "2022-02-21T14:20:05.237Z"
   },
   {
    "duration": 27,
    "start_time": "2022-02-21T14:20:05.245Z"
   },
   {
    "duration": 8,
    "start_time": "2022-02-21T14:20:05.274Z"
   },
   {
    "duration": 37,
    "start_time": "2022-02-21T14:20:05.284Z"
   },
   {
    "duration": 7,
    "start_time": "2022-02-21T14:20:05.323Z"
   },
   {
    "duration": 36,
    "start_time": "2022-02-21T14:20:05.331Z"
   },
   {
    "duration": 16,
    "start_time": "2022-02-21T14:20:05.369Z"
   },
   {
    "duration": 26,
    "start_time": "2022-02-21T14:20:05.387Z"
   },
   {
    "duration": 10,
    "start_time": "2022-02-21T14:20:05.415Z"
   },
   {
    "duration": 19,
    "start_time": "2022-02-21T14:20:05.426Z"
   },
   {
    "duration": 21,
    "start_time": "2022-02-21T14:20:05.447Z"
   },
   {
    "duration": 18,
    "start_time": "2022-02-21T14:20:05.470Z"
   },
   {
    "duration": 7,
    "start_time": "2022-02-21T14:20:05.490Z"
   },
   {
    "duration": 23,
    "start_time": "2022-02-21T14:20:05.499Z"
   },
   {
    "duration": 19,
    "start_time": "2022-02-21T14:20:05.524Z"
   },
   {
    "duration": 21,
    "start_time": "2022-02-21T14:20:05.545Z"
   },
   {
    "duration": 33,
    "start_time": "2022-02-21T14:20:05.568Z"
   },
   {
    "duration": 31,
    "start_time": "2022-02-21T14:20:05.603Z"
   },
   {
    "duration": 20,
    "start_time": "2022-02-21T14:20:05.635Z"
   },
   {
    "duration": 12,
    "start_time": "2022-02-21T14:20:05.657Z"
   },
   {
    "duration": 21,
    "start_time": "2022-02-21T14:20:05.671Z"
   },
   {
    "duration": 13,
    "start_time": "2022-02-21T14:20:05.693Z"
   },
   {
    "duration": 9,
    "start_time": "2022-02-21T14:20:05.720Z"
   },
   {
    "duration": 23,
    "start_time": "2022-02-21T14:20:05.731Z"
   },
   {
    "duration": 26,
    "start_time": "2022-02-21T14:20:05.756Z"
   },
   {
    "duration": 21,
    "start_time": "2022-02-21T14:20:05.784Z"
   },
   {
    "duration": 32,
    "start_time": "2022-02-21T14:20:05.807Z"
   },
   {
    "duration": 64,
    "start_time": "2022-02-21T14:20:05.841Z"
   },
   {
    "duration": 2,
    "start_time": "2022-02-21T14:20:05.907Z"
   },
   {
    "duration": 10,
    "start_time": "2022-02-21T14:20:05.918Z"
   },
   {
    "duration": 577,
    "start_time": "2022-02-21T14:20:05.930Z"
   },
   {
    "duration": 15,
    "start_time": "2022-02-21T14:20:06.509Z"
   },
   {
    "duration": 8,
    "start_time": "2022-02-21T14:20:06.525Z"
   },
   {
    "duration": 8,
    "start_time": "2022-02-21T14:20:06.535Z"
   },
   {
    "duration": 13,
    "start_time": "2022-02-21T14:20:06.545Z"
   },
   {
    "duration": 14,
    "start_time": "2022-02-21T14:20:06.560Z"
   },
   {
    "duration": 11,
    "start_time": "2022-02-21T14:20:06.575Z"
   },
   {
    "duration": 32,
    "start_time": "2022-02-21T14:20:06.587Z"
   },
   {
    "duration": 8,
    "start_time": "2022-02-21T14:20:06.621Z"
   },
   {
    "duration": 13,
    "start_time": "2022-02-21T14:20:06.630Z"
   },
   {
    "duration": 23,
    "start_time": "2022-02-21T14:20:06.646Z"
   },
   {
    "duration": 4,
    "start_time": "2022-02-21T14:20:06.674Z"
   },
   {
    "duration": 263,
    "start_time": "2022-02-21T14:20:06.680Z"
   },
   {
    "duration": 3,
    "start_time": "2022-02-21T14:20:06.945Z"
   },
   {
    "duration": 32,
    "start_time": "2022-02-21T14:20:06.950Z"
   },
   {
    "duration": 46,
    "start_time": "2022-02-21T14:20:06.984Z"
   },
   {
    "duration": 10,
    "start_time": "2022-02-21T14:20:07.032Z"
   },
   {
    "duration": 6,
    "start_time": "2022-02-21T14:20:07.044Z"
   },
   {
    "duration": 233,
    "start_time": "2022-02-21T14:20:07.052Z"
   },
   {
    "duration": 187,
    "start_time": "2022-02-21T14:20:07.287Z"
   },
   {
    "duration": 199,
    "start_time": "2022-02-21T14:20:50.429Z"
   },
   {
    "duration": 171,
    "start_time": "2022-02-21T14:20:51.445Z"
   },
   {
    "duration": 258,
    "start_time": "2022-02-21T14:21:25.896Z"
   },
   {
    "duration": 181,
    "start_time": "2022-02-21T14:21:27.999Z"
   },
   {
    "duration": 190430,
    "start_time": "2022-02-21T14:24:29.640Z"
   },
   {
    "duration": 188,
    "start_time": "2022-02-21T14:28:21.364Z"
   },
   {
    "duration": 189,
    "start_time": "2022-02-21T14:29:25.312Z"
   },
   {
    "duration": 283,
    "start_time": "2022-02-21T14:31:32.262Z"
   },
   {
    "duration": 10505,
    "start_time": "2022-02-21T14:32:25.167Z"
   },
   {
    "duration": 17,
    "start_time": "2022-02-21T14:33:50.930Z"
   },
   {
    "duration": 12,
    "start_time": "2022-02-21T14:36:02.711Z"
   },
   {
    "duration": 13,
    "start_time": "2022-02-21T14:36:03.611Z"
   },
   {
    "duration": 56,
    "start_time": "2022-02-21T14:47:57.709Z"
   },
   {
    "duration": 12,
    "start_time": "2022-02-21T14:48:19.166Z"
   },
   {
    "duration": 11,
    "start_time": "2022-02-21T14:49:38.258Z"
   },
   {
    "duration": 172,
    "start_time": "2022-02-21T14:50:27.620Z"
   },
   {
    "duration": 197,
    "start_time": "2022-02-21T14:51:36.978Z"
   },
   {
    "duration": 195,
    "start_time": "2022-02-21T14:51:37.980Z"
   },
   {
    "duration": 202,
    "start_time": "2022-02-21T14:56:57.854Z"
   },
   {
    "duration": 63,
    "start_time": "2022-02-21T14:56:59.452Z"
   },
   {
    "duration": 206,
    "start_time": "2022-02-21T14:57:09.332Z"
   },
   {
    "duration": 154,
    "start_time": "2022-02-21T14:57:48.753Z"
   },
   {
    "duration": 150,
    "start_time": "2022-02-21T14:58:07.313Z"
   },
   {
    "duration": 172,
    "start_time": "2022-02-21T14:58:38.758Z"
   },
   {
    "duration": 171,
    "start_time": "2022-02-21T14:58:40.700Z"
   },
   {
    "duration": 267,
    "start_time": "2022-02-21T15:00:14.497Z"
   },
   {
    "duration": 172,
    "start_time": "2022-02-21T15:00:18.213Z"
   },
   {
    "duration": 193,
    "start_time": "2022-02-21T15:01:01.385Z"
   },
   {
    "duration": 167,
    "start_time": "2022-02-21T15:01:02.871Z"
   },
   {
    "duration": 12,
    "start_time": "2022-02-21T15:01:11.238Z"
   },
   {
    "duration": 10,
    "start_time": "2022-02-21T15:01:17.854Z"
   },
   {
    "duration": 52,
    "start_time": "2022-02-21T15:01:20.403Z"
   },
   {
    "duration": 11,
    "start_time": "2022-02-21T15:01:23.973Z"
   },
   {
    "duration": 170,
    "start_time": "2022-02-21T15:01:24.715Z"
   },
   {
    "duration": 204,
    "start_time": "2022-02-21T15:01:25.319Z"
   },
   {
    "duration": 201,
    "start_time": "2022-02-21T15:01:27.247Z"
   },
   {
    "duration": 1123,
    "start_time": "2022-02-21T15:05:39.889Z"
   },
   {
    "duration": 352,
    "start_time": "2022-02-21T15:05:41.014Z"
   },
   {
    "duration": 11,
    "start_time": "2022-02-21T15:05:41.368Z"
   },
   {
    "duration": 46,
    "start_time": "2022-02-21T15:05:41.380Z"
   },
   {
    "duration": 19,
    "start_time": "2022-02-21T15:05:41.427Z"
   },
   {
    "duration": 30,
    "start_time": "2022-02-21T15:05:41.447Z"
   },
   {
    "duration": 45,
    "start_time": "2022-02-21T15:05:41.478Z"
   },
   {
    "duration": 5,
    "start_time": "2022-02-21T15:05:41.525Z"
   },
   {
    "duration": 7,
    "start_time": "2022-02-21T15:05:41.532Z"
   },
   {
    "duration": 7,
    "start_time": "2022-02-21T15:05:41.541Z"
   },
   {
    "duration": 17,
    "start_time": "2022-02-21T15:05:41.550Z"
   },
   {
    "duration": 8,
    "start_time": "2022-02-21T15:05:41.569Z"
   },
   {
    "duration": 65,
    "start_time": "2022-02-21T15:05:41.579Z"
   },
   {
    "duration": 17,
    "start_time": "2022-02-21T15:05:41.645Z"
   },
   {
    "duration": 16,
    "start_time": "2022-02-21T15:05:41.664Z"
   },
   {
    "duration": 43,
    "start_time": "2022-02-21T15:05:41.681Z"
   },
   {
    "duration": 9,
    "start_time": "2022-02-21T15:05:41.725Z"
   },
   {
    "duration": 10,
    "start_time": "2022-02-21T15:05:41.736Z"
   },
   {
    "duration": 6,
    "start_time": "2022-02-21T15:05:41.748Z"
   },
   {
    "duration": 14,
    "start_time": "2022-02-21T15:05:41.756Z"
   },
   {
    "duration": 50,
    "start_time": "2022-02-21T15:05:41.772Z"
   },
   {
    "duration": 13,
    "start_time": "2022-02-21T15:05:41.824Z"
   },
   {
    "duration": 15,
    "start_time": "2022-02-21T15:05:41.841Z"
   },
   {
    "duration": 7,
    "start_time": "2022-02-21T15:05:41.858Z"
   },
   {
    "duration": 11,
    "start_time": "2022-02-21T15:05:41.866Z"
   },
   {
    "duration": 42,
    "start_time": "2022-02-21T15:05:41.878Z"
   },
   {
    "duration": 27,
    "start_time": "2022-02-21T15:05:41.921Z"
   },
   {
    "duration": 6,
    "start_time": "2022-02-21T15:05:41.949Z"
   },
   {
    "duration": 6,
    "start_time": "2022-02-21T15:05:41.956Z"
   },
   {
    "duration": 12,
    "start_time": "2022-02-21T15:05:41.964Z"
   },
   {
    "duration": 51,
    "start_time": "2022-02-21T15:05:41.977Z"
   },
   {
    "duration": 8,
    "start_time": "2022-02-21T15:05:42.030Z"
   },
   {
    "duration": 6,
    "start_time": "2022-02-21T15:05:42.040Z"
   },
   {
    "duration": 6,
    "start_time": "2022-02-21T15:05:42.047Z"
   },
   {
    "duration": 11,
    "start_time": "2022-02-21T15:05:42.055Z"
   },
   {
    "duration": 10,
    "start_time": "2022-02-21T15:05:42.068Z"
   },
   {
    "duration": 53,
    "start_time": "2022-02-21T15:05:42.080Z"
   },
   {
    "duration": 9,
    "start_time": "2022-02-21T15:05:42.135Z"
   },
   {
    "duration": 29,
    "start_time": "2022-02-21T15:05:42.146Z"
   },
   {
    "duration": 8,
    "start_time": "2022-02-21T15:05:42.176Z"
   },
   {
    "duration": 47,
    "start_time": "2022-02-21T15:05:42.186Z"
   },
   {
    "duration": 8,
    "start_time": "2022-02-21T15:05:42.235Z"
   },
   {
    "duration": 16,
    "start_time": "2022-02-21T15:05:42.244Z"
   },
   {
    "duration": 6,
    "start_time": "2022-02-21T15:05:42.261Z"
   },
   {
    "duration": 53,
    "start_time": "2022-02-21T15:05:42.268Z"
   },
   {
    "duration": 9,
    "start_time": "2022-02-21T15:05:42.323Z"
   },
   {
    "duration": 22,
    "start_time": "2022-02-21T15:05:42.333Z"
   },
   {
    "duration": 7,
    "start_time": "2022-02-21T15:05:42.356Z"
   },
   {
    "duration": 8,
    "start_time": "2022-02-21T15:05:42.364Z"
   },
   {
    "duration": 7,
    "start_time": "2022-02-21T15:05:42.373Z"
   },
   {
    "duration": 41,
    "start_time": "2022-02-21T15:05:42.381Z"
   },
   {
    "duration": 8,
    "start_time": "2022-02-21T15:05:42.424Z"
   },
   {
    "duration": 9,
    "start_time": "2022-02-21T15:05:42.434Z"
   },
   {
    "duration": 6,
    "start_time": "2022-02-21T15:05:42.445Z"
   },
   {
    "duration": 8,
    "start_time": "2022-02-21T15:05:42.453Z"
   },
   {
    "duration": 7,
    "start_time": "2022-02-21T15:05:42.463Z"
   },
   {
    "duration": 48,
    "start_time": "2022-02-21T15:05:42.472Z"
   },
   {
    "duration": 10,
    "start_time": "2022-02-21T15:05:42.522Z"
   },
   {
    "duration": 9,
    "start_time": "2022-02-21T15:05:42.534Z"
   },
   {
    "duration": 14,
    "start_time": "2022-02-21T15:05:42.545Z"
   },
   {
    "duration": 7,
    "start_time": "2022-02-21T15:05:42.560Z"
   },
   {
    "duration": 50,
    "start_time": "2022-02-21T15:05:42.569Z"
   },
   {
    "duration": 16,
    "start_time": "2022-02-21T15:05:42.621Z"
   },
   {
    "duration": 16,
    "start_time": "2022-02-21T15:05:42.639Z"
   },
   {
    "duration": 7,
    "start_time": "2022-02-21T15:05:42.657Z"
   },
   {
    "duration": 13,
    "start_time": "2022-02-21T15:05:42.666Z"
   },
   {
    "duration": 76,
    "start_time": "2022-02-21T15:05:42.680Z"
   },
   {
    "duration": 3,
    "start_time": "2022-02-21T15:05:42.761Z"
   },
   {
    "duration": 4,
    "start_time": "2022-02-21T15:05:42.766Z"
   },
   {
    "duration": 606,
    "start_time": "2022-02-21T15:05:42.771Z"
   },
   {
    "duration": 10,
    "start_time": "2022-02-21T15:05:43.379Z"
   },
   {
    "duration": 28,
    "start_time": "2022-02-21T15:05:43.391Z"
   },
   {
    "duration": 10,
    "start_time": "2022-02-21T15:05:43.421Z"
   },
   {
    "duration": 3,
    "start_time": "2022-02-21T15:05:43.432Z"
   },
   {
    "duration": 6,
    "start_time": "2022-02-21T15:05:43.437Z"
   },
   {
    "duration": 5,
    "start_time": "2022-02-21T15:05:43.444Z"
   },
   {
    "duration": 4,
    "start_time": "2022-02-21T15:05:43.451Z"
   },
   {
    "duration": 8,
    "start_time": "2022-02-21T15:05:43.456Z"
   },
   {
    "duration": 56,
    "start_time": "2022-02-21T15:05:43.466Z"
   },
   {
    "duration": 17,
    "start_time": "2022-02-21T15:05:43.524Z"
   },
   {
    "duration": 6,
    "start_time": "2022-02-21T15:05:43.542Z"
   },
   {
    "duration": 236,
    "start_time": "2022-02-21T15:05:43.550Z"
   },
   {
    "duration": 5,
    "start_time": "2022-02-21T15:05:43.787Z"
   },
   {
    "duration": 41,
    "start_time": "2022-02-21T15:05:43.794Z"
   },
   {
    "duration": 12,
    "start_time": "2022-02-21T15:05:43.837Z"
   },
   {
    "duration": 7,
    "start_time": "2022-02-21T15:05:43.851Z"
   },
   {
    "duration": 209,
    "start_time": "2022-02-21T15:05:43.860Z"
   },
   {
    "duration": 205,
    "start_time": "2022-02-21T15:05:44.071Z"
   },
   {
    "duration": 183,
    "start_time": "2022-02-21T15:05:44.278Z"
   },
   {
    "duration": 420,
    "start_time": "2022-02-21T15:05:44.463Z"
   },
   {
    "duration": 13,
    "start_time": "2022-02-21T15:05:44.885Z"
   },
   {
    "duration": 70,
    "start_time": "2022-02-21T15:05:44.899Z"
   },
   {
    "duration": 11,
    "start_time": "2022-02-21T15:05:44.971Z"
   },
   {
    "duration": 201,
    "start_time": "2022-02-21T15:05:44.984Z"
   },
   {
    "duration": 216,
    "start_time": "2022-02-21T15:05:45.187Z"
   },
   {
    "duration": 218,
    "start_time": "2022-02-21T15:05:45.405Z"
   },
   {
    "duration": 324,
    "start_time": "2022-02-21T15:05:45.625Z"
   },
   {
    "duration": 12,
    "start_time": "2022-02-21T15:14:17.652Z"
   },
   {
    "duration": 154,
    "start_time": "2022-02-21T15:15:01.240Z"
   },
   {
    "duration": 11,
    "start_time": "2022-02-21T15:15:05.244Z"
   },
   {
    "duration": 197,
    "start_time": "2022-02-21T15:16:36.219Z"
   },
   {
    "duration": 211,
    "start_time": "2022-02-21T15:16:38.593Z"
   },
   {
    "duration": 14,
    "start_time": "2022-02-21T15:16:41.518Z"
   },
   {
    "duration": 168,
    "start_time": "2022-02-21T15:16:43.055Z"
   },
   {
    "duration": 189,
    "start_time": "2022-02-21T15:16:44.935Z"
   },
   {
    "duration": 204,
    "start_time": "2022-02-21T15:16:47.568Z"
   },
   {
    "duration": 202,
    "start_time": "2022-02-21T15:22:19.626Z"
   },
   {
    "duration": 292,
    "start_time": "2022-02-21T15:22:24.363Z"
   },
   {
    "duration": 162,
    "start_time": "2022-02-21T15:22:38.896Z"
   },
   {
    "duration": 1254,
    "start_time": "2022-02-21T15:23:16.956Z"
   },
   {
    "duration": 365,
    "start_time": "2022-02-21T15:23:18.212Z"
   },
   {
    "duration": 12,
    "start_time": "2022-02-21T15:23:18.580Z"
   },
   {
    "duration": 34,
    "start_time": "2022-02-21T15:23:18.594Z"
   },
   {
    "duration": 21,
    "start_time": "2022-02-21T15:23:18.630Z"
   },
   {
    "duration": 24,
    "start_time": "2022-02-21T15:23:18.653Z"
   },
   {
    "duration": 52,
    "start_time": "2022-02-21T15:23:18.679Z"
   },
   {
    "duration": 6,
    "start_time": "2022-02-21T15:23:18.733Z"
   },
   {
    "duration": 7,
    "start_time": "2022-02-21T15:23:18.742Z"
   },
   {
    "duration": 11,
    "start_time": "2022-02-21T15:23:18.751Z"
   },
   {
    "duration": 13,
    "start_time": "2022-02-21T15:23:18.764Z"
   },
   {
    "duration": 46,
    "start_time": "2022-02-21T15:23:18.778Z"
   },
   {
    "duration": 31,
    "start_time": "2022-02-21T15:23:18.825Z"
   },
   {
    "duration": 17,
    "start_time": "2022-02-21T15:23:18.857Z"
   },
   {
    "duration": 44,
    "start_time": "2022-02-21T15:23:18.875Z"
   },
   {
    "duration": 20,
    "start_time": "2022-02-21T15:23:18.921Z"
   },
   {
    "duration": 8,
    "start_time": "2022-02-21T15:23:18.943Z"
   },
   {
    "duration": 13,
    "start_time": "2022-02-21T15:23:18.953Z"
   },
   {
    "duration": 8,
    "start_time": "2022-02-21T15:23:18.968Z"
   },
   {
    "duration": 50,
    "start_time": "2022-02-21T15:23:18.978Z"
   },
   {
    "duration": 24,
    "start_time": "2022-02-21T15:23:19.030Z"
   },
   {
    "duration": 15,
    "start_time": "2022-02-21T15:23:19.055Z"
   },
   {
    "duration": 52,
    "start_time": "2022-02-21T15:23:19.072Z"
   },
   {
    "duration": 9,
    "start_time": "2022-02-21T15:23:19.126Z"
   },
   {
    "duration": 9,
    "start_time": "2022-02-21T15:23:19.137Z"
   },
   {
    "duration": 7,
    "start_time": "2022-02-21T15:23:19.148Z"
   },
   {
    "duration": 63,
    "start_time": "2022-02-21T15:23:19.160Z"
   },
   {
    "duration": 6,
    "start_time": "2022-02-21T15:23:19.227Z"
   },
   {
    "duration": 5,
    "start_time": "2022-02-21T15:23:19.235Z"
   },
   {
    "duration": 10,
    "start_time": "2022-02-21T15:23:19.242Z"
   },
   {
    "duration": 15,
    "start_time": "2022-02-21T15:23:19.254Z"
   },
   {
    "duration": 47,
    "start_time": "2022-02-21T15:23:19.271Z"
   },
   {
    "duration": 7,
    "start_time": "2022-02-21T15:23:19.320Z"
   },
   {
    "duration": 7,
    "start_time": "2022-02-21T15:23:19.329Z"
   },
   {
    "duration": 17,
    "start_time": "2022-02-21T15:23:19.337Z"
   },
   {
    "duration": 7,
    "start_time": "2022-02-21T15:23:19.356Z"
   },
   {
    "duration": 60,
    "start_time": "2022-02-21T15:23:19.365Z"
   },
   {
    "duration": 10,
    "start_time": "2022-02-21T15:23:19.427Z"
   },
   {
    "duration": 51,
    "start_time": "2022-02-21T15:23:19.439Z"
   },
   {
    "duration": 7,
    "start_time": "2022-02-21T15:23:19.493Z"
   },
   {
    "duration": 42,
    "start_time": "2022-02-21T15:23:19.502Z"
   },
   {
    "duration": 9,
    "start_time": "2022-02-21T15:23:19.547Z"
   },
   {
    "duration": 47,
    "start_time": "2022-02-21T15:23:19.558Z"
   },
   {
    "duration": 7,
    "start_time": "2022-02-21T15:23:19.607Z"
   },
   {
    "duration": 18,
    "start_time": "2022-02-21T15:23:19.615Z"
   },
   {
    "duration": 10,
    "start_time": "2022-02-21T15:23:19.634Z"
   },
   {
    "duration": 25,
    "start_time": "2022-02-21T15:23:19.646Z"
   },
   {
    "duration": 7,
    "start_time": "2022-02-21T15:23:19.673Z"
   },
   {
    "duration": 38,
    "start_time": "2022-02-21T15:23:19.682Z"
   },
   {
    "duration": 6,
    "start_time": "2022-02-21T15:23:19.722Z"
   },
   {
    "duration": 9,
    "start_time": "2022-02-21T15:23:19.730Z"
   },
   {
    "duration": 7,
    "start_time": "2022-02-21T15:23:19.741Z"
   },
   {
    "duration": 10,
    "start_time": "2022-02-21T15:23:19.750Z"
   },
   {
    "duration": 7,
    "start_time": "2022-02-21T15:23:19.762Z"
   },
   {
    "duration": 48,
    "start_time": "2022-02-21T15:23:19.771Z"
   },
   {
    "duration": 10,
    "start_time": "2022-02-21T15:23:19.821Z"
   },
   {
    "duration": 10,
    "start_time": "2022-02-21T15:23:19.832Z"
   },
   {
    "duration": 14,
    "start_time": "2022-02-21T15:23:19.843Z"
   },
   {
    "duration": 8,
    "start_time": "2022-02-21T15:23:19.859Z"
   },
   {
    "duration": 62,
    "start_time": "2022-02-21T15:23:19.869Z"
   },
   {
    "duration": 9,
    "start_time": "2022-02-21T15:23:19.933Z"
   },
   {
    "duration": 29,
    "start_time": "2022-02-21T15:23:19.944Z"
   },
   {
    "duration": 51,
    "start_time": "2022-02-21T15:23:19.975Z"
   },
   {
    "duration": 30,
    "start_time": "2022-02-21T15:23:20.029Z"
   },
   {
    "duration": 8,
    "start_time": "2022-02-21T15:23:20.061Z"
   },
   {
    "duration": 13,
    "start_time": "2022-02-21T15:23:20.071Z"
   },
   {
    "duration": 68,
    "start_time": "2022-02-21T15:23:20.086Z"
   },
   {
    "duration": 3,
    "start_time": "2022-02-21T15:23:20.155Z"
   },
   {
    "duration": 8,
    "start_time": "2022-02-21T15:23:20.159Z"
   },
   {
    "duration": 620,
    "start_time": "2022-02-21T15:23:20.168Z"
   },
   {
    "duration": 11,
    "start_time": "2022-02-21T15:23:20.790Z"
   },
   {
    "duration": 8,
    "start_time": "2022-02-21T15:23:20.819Z"
   },
   {
    "duration": 7,
    "start_time": "2022-02-21T15:23:20.829Z"
   },
   {
    "duration": 3,
    "start_time": "2022-02-21T15:23:20.838Z"
   },
   {
    "duration": 4,
    "start_time": "2022-02-21T15:23:20.843Z"
   },
   {
    "duration": 10,
    "start_time": "2022-02-21T15:23:20.849Z"
   },
   {
    "duration": 5,
    "start_time": "2022-02-21T15:23:20.861Z"
   },
   {
    "duration": 9,
    "start_time": "2022-02-21T15:23:20.868Z"
   },
   {
    "duration": 47,
    "start_time": "2022-02-21T15:23:20.879Z"
   },
   {
    "duration": 16,
    "start_time": "2022-02-21T15:23:20.928Z"
   },
   {
    "duration": 4,
    "start_time": "2022-02-21T15:23:20.951Z"
   },
   {
    "duration": 252,
    "start_time": "2022-02-21T15:23:20.958Z"
   },
   {
    "duration": 8,
    "start_time": "2022-02-21T15:23:21.212Z"
   },
   {
    "duration": 31,
    "start_time": "2022-02-21T15:23:21.221Z"
   },
   {
    "duration": 8,
    "start_time": "2022-02-21T15:23:21.254Z"
   },
   {
    "duration": 5,
    "start_time": "2022-02-21T15:23:21.264Z"
   },
   {
    "duration": 223,
    "start_time": "2022-02-21T15:23:21.271Z"
   },
   {
    "duration": 217,
    "start_time": "2022-02-21T15:23:21.496Z"
   },
   {
    "duration": 191,
    "start_time": "2022-02-21T15:23:21.718Z"
   },
   {
    "duration": 361,
    "start_time": "2022-02-21T15:23:21.919Z"
   },
   {
    "duration": 13,
    "start_time": "2022-02-21T15:23:22.282Z"
   },
   {
    "duration": 74,
    "start_time": "2022-02-21T15:23:22.297Z"
   },
   {
    "duration": 11,
    "start_time": "2022-02-21T15:23:22.373Z"
   },
   {
    "duration": 192,
    "start_time": "2022-02-21T15:23:22.386Z"
   },
   {
    "duration": 224,
    "start_time": "2022-02-21T15:23:22.580Z"
   },
   {
    "duration": 224,
    "start_time": "2022-02-21T15:23:22.806Z"
   },
   {
    "duration": 12,
    "start_time": "2022-02-21T15:23:23.032Z"
   },
   {
    "duration": 176,
    "start_time": "2022-02-21T15:23:23.046Z"
   },
   {
    "duration": 224,
    "start_time": "2022-02-21T15:23:23.224Z"
   },
   {
    "duration": 221,
    "start_time": "2022-02-21T15:23:23.450Z"
   },
   {
    "duration": 183,
    "start_time": "2022-02-21T15:24:24.049Z"
   },
   {
    "duration": 166,
    "start_time": "2022-02-21T15:24:59.843Z"
   },
   {
    "duration": 202,
    "start_time": "2022-02-21T15:25:46.990Z"
   },
   {
    "duration": 207,
    "start_time": "2022-02-21T15:25:48.537Z"
   },
   {
    "duration": 1151,
    "start_time": "2022-02-21T15:28:25.220Z"
   },
   {
    "duration": 377,
    "start_time": "2022-02-21T15:28:26.375Z"
   },
   {
    "duration": 11,
    "start_time": "2022-02-21T15:28:26.754Z"
   },
   {
    "duration": 32,
    "start_time": "2022-02-21T15:28:26.767Z"
   },
   {
    "duration": 21,
    "start_time": "2022-02-21T15:28:26.801Z"
   },
   {
    "duration": 30,
    "start_time": "2022-02-21T15:28:26.825Z"
   },
   {
    "duration": 31,
    "start_time": "2022-02-21T15:28:26.857Z"
   },
   {
    "duration": 5,
    "start_time": "2022-02-21T15:28:26.890Z"
   },
   {
    "duration": 22,
    "start_time": "2022-02-21T15:28:26.897Z"
   },
   {
    "duration": 9,
    "start_time": "2022-02-21T15:28:26.920Z"
   },
   {
    "duration": 15,
    "start_time": "2022-02-21T15:28:26.931Z"
   },
   {
    "duration": 9,
    "start_time": "2022-02-21T15:28:26.947Z"
   },
   {
    "duration": 63,
    "start_time": "2022-02-21T15:28:26.958Z"
   },
   {
    "duration": 15,
    "start_time": "2022-02-21T15:28:27.023Z"
   },
   {
    "duration": 17,
    "start_time": "2022-02-21T15:28:27.040Z"
   },
   {
    "duration": 22,
    "start_time": "2022-02-21T15:28:27.058Z"
   },
   {
    "duration": 8,
    "start_time": "2022-02-21T15:28:27.082Z"
   },
   {
    "duration": 36,
    "start_time": "2022-02-21T15:28:27.092Z"
   },
   {
    "duration": 7,
    "start_time": "2022-02-21T15:28:27.129Z"
   },
   {
    "duration": 19,
    "start_time": "2022-02-21T15:28:27.137Z"
   },
   {
    "duration": 14,
    "start_time": "2022-02-21T15:28:27.157Z"
   },
   {
    "duration": 49,
    "start_time": "2022-02-21T15:28:27.172Z"
   },
   {
    "duration": 16,
    "start_time": "2022-02-21T15:28:27.223Z"
   },
   {
    "duration": 7,
    "start_time": "2022-02-21T15:28:27.241Z"
   },
   {
    "duration": 7,
    "start_time": "2022-02-21T15:28:27.250Z"
   },
   {
    "duration": 7,
    "start_time": "2022-02-21T15:28:27.261Z"
   },
   {
    "duration": 62,
    "start_time": "2022-02-21T15:28:27.271Z"
   },
   {
    "duration": 6,
    "start_time": "2022-02-21T15:28:27.334Z"
   },
   {
    "duration": 5,
    "start_time": "2022-02-21T15:28:27.341Z"
   },
   {
    "duration": 12,
    "start_time": "2022-02-21T15:28:27.347Z"
   },
   {
    "duration": 17,
    "start_time": "2022-02-21T15:28:27.360Z"
   },
   {
    "duration": 42,
    "start_time": "2022-02-21T15:28:27.379Z"
   },
   {
    "duration": 6,
    "start_time": "2022-02-21T15:28:27.423Z"
   },
   {
    "duration": 6,
    "start_time": "2022-02-21T15:28:27.430Z"
   },
   {
    "duration": 13,
    "start_time": "2022-02-21T15:28:27.437Z"
   },
   {
    "duration": 12,
    "start_time": "2022-02-21T15:28:27.451Z"
   },
   {
    "duration": 27,
    "start_time": "2022-02-21T15:28:27.464Z"
   },
   {
    "duration": 8,
    "start_time": "2022-02-21T15:28:27.519Z"
   },
   {
    "duration": 33,
    "start_time": "2022-02-21T15:28:27.528Z"
   },
   {
    "duration": 6,
    "start_time": "2022-02-21T15:28:27.563Z"
   },
   {
    "duration": 19,
    "start_time": "2022-02-21T15:28:27.571Z"
   },
   {
    "duration": 31,
    "start_time": "2022-02-21T15:28:27.591Z"
   },
   {
    "duration": 16,
    "start_time": "2022-02-21T15:28:27.624Z"
   },
   {
    "duration": 6,
    "start_time": "2022-02-21T15:28:27.642Z"
   },
   {
    "duration": 19,
    "start_time": "2022-02-21T15:28:27.650Z"
   },
   {
    "duration": 49,
    "start_time": "2022-02-21T15:28:27.671Z"
   },
   {
    "duration": 23,
    "start_time": "2022-02-21T15:28:27.722Z"
   },
   {
    "duration": 8,
    "start_time": "2022-02-21T15:28:27.747Z"
   },
   {
    "duration": 9,
    "start_time": "2022-02-21T15:28:27.756Z"
   },
   {
    "duration": 7,
    "start_time": "2022-02-21T15:28:27.767Z"
   },
   {
    "duration": 10,
    "start_time": "2022-02-21T15:28:27.776Z"
   },
   {
    "duration": 32,
    "start_time": "2022-02-21T15:28:27.787Z"
   },
   {
    "duration": 9,
    "start_time": "2022-02-21T15:28:27.821Z"
   },
   {
    "duration": 7,
    "start_time": "2022-02-21T15:28:27.831Z"
   },
   {
    "duration": 8,
    "start_time": "2022-02-21T15:28:27.839Z"
   },
   {
    "duration": 8,
    "start_time": "2022-02-21T15:28:27.849Z"
   },
   {
    "duration": 10,
    "start_time": "2022-02-21T15:28:27.858Z"
   },
   {
    "duration": 51,
    "start_time": "2022-02-21T15:28:27.869Z"
   },
   {
    "duration": 10,
    "start_time": "2022-02-21T15:28:27.922Z"
   },
   {
    "duration": 17,
    "start_time": "2022-02-21T15:28:27.934Z"
   },
   {
    "duration": 7,
    "start_time": "2022-02-21T15:28:27.952Z"
   },
   {
    "duration": 9,
    "start_time": "2022-02-21T15:28:27.961Z"
   },
   {
    "duration": 48,
    "start_time": "2022-02-21T15:28:27.972Z"
   },
   {
    "duration": 17,
    "start_time": "2022-02-21T15:28:28.022Z"
   },
   {
    "duration": 11,
    "start_time": "2022-02-21T15:28:28.040Z"
   },
   {
    "duration": 12,
    "start_time": "2022-02-21T15:28:28.053Z"
   },
   {
    "duration": 78,
    "start_time": "2022-02-21T15:28:28.067Z"
   },
   {
    "duration": 3,
    "start_time": "2022-02-21T15:28:28.147Z"
   },
   {
    "duration": 9,
    "start_time": "2022-02-21T15:28:28.151Z"
   },
   {
    "duration": 612,
    "start_time": "2022-02-21T15:28:28.162Z"
   },
   {
    "duration": 9,
    "start_time": "2022-02-21T15:28:28.776Z"
   },
   {
    "duration": 6,
    "start_time": "2022-02-21T15:28:28.787Z"
   },
   {
    "duration": 28,
    "start_time": "2022-02-21T15:28:28.795Z"
   },
   {
    "duration": 3,
    "start_time": "2022-02-21T15:28:28.825Z"
   },
   {
    "duration": 8,
    "start_time": "2022-02-21T15:28:28.829Z"
   },
   {
    "duration": 7,
    "start_time": "2022-02-21T15:28:28.839Z"
   },
   {
    "duration": 4,
    "start_time": "2022-02-21T15:28:28.848Z"
   },
   {
    "duration": 8,
    "start_time": "2022-02-21T15:28:28.854Z"
   },
   {
    "duration": 6,
    "start_time": "2022-02-21T15:28:28.864Z"
   },
   {
    "duration": 50,
    "start_time": "2022-02-21T15:28:28.876Z"
   },
   {
    "duration": 3,
    "start_time": "2022-02-21T15:28:28.928Z"
   },
   {
    "duration": 217,
    "start_time": "2022-02-21T15:28:28.933Z"
   },
   {
    "duration": 4,
    "start_time": "2022-02-21T15:28:29.152Z"
   },
   {
    "duration": 31,
    "start_time": "2022-02-21T15:28:29.157Z"
   },
   {
    "duration": 9,
    "start_time": "2022-02-21T15:28:29.189Z"
   },
   {
    "duration": 5,
    "start_time": "2022-02-21T15:28:29.219Z"
   },
   {
    "duration": 177,
    "start_time": "2022-02-21T15:28:29.226Z"
   },
   {
    "duration": 200,
    "start_time": "2022-02-21T15:28:29.405Z"
   },
   {
    "duration": 179,
    "start_time": "2022-02-21T15:28:29.607Z"
   },
   {
    "duration": 367,
    "start_time": "2022-02-21T15:28:29.788Z"
   },
   {
    "duration": 12,
    "start_time": "2022-02-21T15:28:30.157Z"
   },
   {
    "duration": 75,
    "start_time": "2022-02-21T15:28:30.171Z"
   },
   {
    "duration": 11,
    "start_time": "2022-02-21T15:28:30.248Z"
   },
   {
    "duration": 176,
    "start_time": "2022-02-21T15:28:30.260Z"
   },
   {
    "duration": 209,
    "start_time": "2022-02-21T15:28:30.438Z"
   },
   {
    "duration": 230,
    "start_time": "2022-02-21T15:28:30.650Z"
   },
   {
    "duration": 12,
    "start_time": "2022-02-21T15:28:30.881Z"
   },
   {
    "duration": 179,
    "start_time": "2022-02-21T15:28:30.894Z"
   },
   {
    "duration": 200,
    "start_time": "2022-02-21T15:28:31.075Z"
   },
   {
    "duration": 197,
    "start_time": "2022-02-21T15:28:31.276Z"
   },
   {
    "duration": 206,
    "start_time": "2022-02-21T15:29:15.641Z"
   },
   {
    "duration": 13,
    "start_time": "2022-02-21T15:32:41.547Z"
   },
   {
    "duration": 167,
    "start_time": "2022-02-21T15:33:32.434Z"
   },
   {
    "duration": 174,
    "start_time": "2022-02-21T15:36:17.724Z"
   },
   {
    "duration": 12,
    "start_time": "2022-02-21T15:36:20.938Z"
   },
   {
    "duration": 173,
    "start_time": "2022-02-21T15:36:21.652Z"
   },
   {
    "duration": 277,
    "start_time": "2022-02-21T15:36:22.521Z"
   },
   {
    "duration": 211,
    "start_time": "2022-02-21T15:36:23.684Z"
   },
   {
    "duration": 163,
    "start_time": "2022-02-21T15:36:43.577Z"
   },
   {
    "duration": 206,
    "start_time": "2022-02-21T15:36:44.862Z"
   },
   {
    "duration": 186,
    "start_time": "2022-02-21T15:36:46.735Z"
   },
   {
    "duration": 170,
    "start_time": "2022-02-21T15:44:49.223Z"
   },
   {
    "duration": 7,
    "start_time": "2022-02-21T15:46:32.202Z"
   },
   {
    "duration": 185,
    "start_time": "2022-02-21T15:46:39.966Z"
   },
   {
    "duration": 178,
    "start_time": "2022-02-21T15:46:40.892Z"
   },
   {
    "duration": 1097,
    "start_time": "2022-02-21T15:46:47.782Z"
   },
   {
    "duration": 364,
    "start_time": "2022-02-21T15:46:48.881Z"
   },
   {
    "duration": 11,
    "start_time": "2022-02-21T15:46:49.247Z"
   },
   {
    "duration": 33,
    "start_time": "2022-02-21T15:46:49.260Z"
   },
   {
    "duration": 29,
    "start_time": "2022-02-21T15:46:49.295Z"
   },
   {
    "duration": 24,
    "start_time": "2022-02-21T15:46:49.326Z"
   },
   {
    "duration": 26,
    "start_time": "2022-02-21T15:46:49.352Z"
   },
   {
    "duration": 5,
    "start_time": "2022-02-21T15:46:49.379Z"
   },
   {
    "duration": 38,
    "start_time": "2022-02-21T15:46:49.386Z"
   },
   {
    "duration": 8,
    "start_time": "2022-02-21T15:46:49.427Z"
   },
   {
    "duration": 14,
    "start_time": "2022-02-21T15:46:49.437Z"
   },
   {
    "duration": 8,
    "start_time": "2022-02-21T15:46:49.452Z"
   },
   {
    "duration": 73,
    "start_time": "2022-02-21T15:46:49.462Z"
   },
   {
    "duration": 17,
    "start_time": "2022-02-21T15:46:49.537Z"
   },
   {
    "duration": 17,
    "start_time": "2022-02-21T15:46:49.555Z"
   },
   {
    "duration": 48,
    "start_time": "2022-02-21T15:46:49.574Z"
   },
   {
    "duration": 9,
    "start_time": "2022-02-21T15:46:49.624Z"
   },
   {
    "duration": 13,
    "start_time": "2022-02-21T15:46:49.635Z"
   },
   {
    "duration": 7,
    "start_time": "2022-02-21T15:46:49.650Z"
   },
   {
    "duration": 16,
    "start_time": "2022-02-21T15:46:49.659Z"
   },
   {
    "duration": 54,
    "start_time": "2022-02-21T15:46:49.677Z"
   },
   {
    "duration": 14,
    "start_time": "2022-02-21T15:46:49.733Z"
   },
   {
    "duration": 18,
    "start_time": "2022-02-21T15:46:49.750Z"
   },
   {
    "duration": 9,
    "start_time": "2022-02-21T15:46:49.771Z"
   },
   {
    "duration": 45,
    "start_time": "2022-02-21T15:46:49.781Z"
   },
   {
    "duration": 8,
    "start_time": "2022-02-21T15:46:49.828Z"
   },
   {
    "duration": 29,
    "start_time": "2022-02-21T15:46:49.843Z"
   },
   {
    "duration": 45,
    "start_time": "2022-02-21T15:46:49.874Z"
   },
   {
    "duration": 4,
    "start_time": "2022-02-21T15:46:49.921Z"
   },
   {
    "duration": 11,
    "start_time": "2022-02-21T15:46:49.927Z"
   },
   {
    "duration": 17,
    "start_time": "2022-02-21T15:46:49.939Z"
   },
   {
    "duration": 7,
    "start_time": "2022-02-21T15:46:49.959Z"
   },
   {
    "duration": 4,
    "start_time": "2022-02-21T15:46:49.968Z"
   },
   {
    "duration": 45,
    "start_time": "2022-02-21T15:46:49.974Z"
   },
   {
    "duration": 20,
    "start_time": "2022-02-21T15:46:50.021Z"
   },
   {
    "duration": 8,
    "start_time": "2022-02-21T15:46:50.043Z"
   },
   {
    "duration": 25,
    "start_time": "2022-02-21T15:46:50.053Z"
   },
   {
    "duration": 9,
    "start_time": "2022-02-21T15:46:50.079Z"
   },
   {
    "duration": 64,
    "start_time": "2022-02-21T15:46:50.090Z"
   },
   {
    "duration": 7,
    "start_time": "2022-02-21T15:46:50.156Z"
   },
   {
    "duration": 14,
    "start_time": "2022-02-21T15:46:50.165Z"
   },
   {
    "duration": 43,
    "start_time": "2022-02-21T15:46:50.181Z"
   },
   {
    "duration": 13,
    "start_time": "2022-02-21T15:46:50.226Z"
   },
   {
    "duration": 6,
    "start_time": "2022-02-21T15:46:50.241Z"
   },
   {
    "duration": 22,
    "start_time": "2022-02-21T15:46:50.249Z"
   },
   {
    "duration": 8,
    "start_time": "2022-02-21T15:46:50.273Z"
   },
   {
    "duration": 52,
    "start_time": "2022-02-21T15:46:50.283Z"
   },
   {
    "duration": 6,
    "start_time": "2022-02-21T15:46:50.337Z"
   },
   {
    "duration": 8,
    "start_time": "2022-02-21T15:46:50.345Z"
   },
   {
    "duration": 6,
    "start_time": "2022-02-21T15:46:50.355Z"
   },
   {
    "duration": 8,
    "start_time": "2022-02-21T15:46:50.362Z"
   },
   {
    "duration": 47,
    "start_time": "2022-02-21T15:46:50.372Z"
   },
   {
    "duration": 7,
    "start_time": "2022-02-21T15:46:50.420Z"
   },
   {
    "duration": 6,
    "start_time": "2022-02-21T15:46:50.429Z"
   },
   {
    "duration": 8,
    "start_time": "2022-02-21T15:46:50.437Z"
   },
   {
    "duration": 8,
    "start_time": "2022-02-21T15:46:50.446Z"
   },
   {
    "duration": 10,
    "start_time": "2022-02-21T15:46:50.456Z"
   },
   {
    "duration": 62,
    "start_time": "2022-02-21T15:46:50.467Z"
   },
   {
    "duration": 16,
    "start_time": "2022-02-21T15:46:50.531Z"
   },
   {
    "duration": 19,
    "start_time": "2022-02-21T15:46:50.549Z"
   },
   {
    "duration": 13,
    "start_time": "2022-02-21T15:46:50.570Z"
   },
   {
    "duration": 47,
    "start_time": "2022-02-21T15:46:50.585Z"
   },
   {
    "duration": 22,
    "start_time": "2022-02-21T15:46:50.634Z"
   },
   {
    "duration": 16,
    "start_time": "2022-02-21T15:46:50.658Z"
   },
   {
    "duration": 8,
    "start_time": "2022-02-21T15:46:50.676Z"
   },
   {
    "duration": 43,
    "start_time": "2022-02-21T15:46:50.685Z"
   },
   {
    "duration": 50,
    "start_time": "2022-02-21T15:46:50.731Z"
   },
   {
    "duration": 3,
    "start_time": "2022-02-21T15:46:50.783Z"
   },
   {
    "duration": 8,
    "start_time": "2022-02-21T15:46:50.787Z"
   },
   {
    "duration": 544,
    "start_time": "2022-02-21T15:46:50.820Z"
   },
   {
    "duration": 13,
    "start_time": "2022-02-21T15:46:51.366Z"
   },
   {
    "duration": 8,
    "start_time": "2022-02-21T15:46:51.380Z"
   },
   {
    "duration": 37,
    "start_time": "2022-02-21T15:46:51.389Z"
   },
   {
    "duration": 4,
    "start_time": "2022-02-21T15:46:51.427Z"
   },
   {
    "duration": 11,
    "start_time": "2022-02-21T15:46:51.432Z"
   },
   {
    "duration": 5,
    "start_time": "2022-02-21T15:46:51.445Z"
   },
   {
    "duration": 4,
    "start_time": "2022-02-21T15:46:51.452Z"
   },
   {
    "duration": 10,
    "start_time": "2022-02-21T15:46:51.458Z"
   },
   {
    "duration": 50,
    "start_time": "2022-02-21T15:46:51.470Z"
   },
   {
    "duration": 16,
    "start_time": "2022-02-21T15:46:51.522Z"
   },
   {
    "duration": 4,
    "start_time": "2022-02-21T15:46:51.545Z"
   },
   {
    "duration": 238,
    "start_time": "2022-02-21T15:46:51.552Z"
   },
   {
    "duration": 4,
    "start_time": "2022-02-21T15:46:51.792Z"
   },
   {
    "duration": 37,
    "start_time": "2022-02-21T15:46:51.797Z"
   },
   {
    "duration": 8,
    "start_time": "2022-02-21T15:46:51.835Z"
   },
   {
    "duration": 5,
    "start_time": "2022-02-21T15:46:51.845Z"
   },
   {
    "duration": 219,
    "start_time": "2022-02-21T15:46:51.852Z"
   },
   {
    "duration": 178,
    "start_time": "2022-02-21T15:46:52.073Z"
   },
   {
    "duration": 339,
    "start_time": "2022-02-21T15:46:52.253Z"
   },
   {
    "duration": 13,
    "start_time": "2022-02-21T15:46:52.594Z"
   },
   {
    "duration": 55,
    "start_time": "2022-02-21T15:46:52.609Z"
   },
   {
    "duration": 13,
    "start_time": "2022-02-21T15:46:52.666Z"
   },
   {
    "duration": 184,
    "start_time": "2022-02-21T15:46:52.680Z"
   },
   {
    "duration": 197,
    "start_time": "2022-02-21T15:46:52.866Z"
   },
   {
    "duration": 212,
    "start_time": "2022-02-21T15:46:53.066Z"
   },
   {
    "duration": 12,
    "start_time": "2022-02-21T15:46:53.280Z"
   },
   {
    "duration": 172,
    "start_time": "2022-02-21T15:46:53.294Z"
   },
   {
    "duration": 193,
    "start_time": "2022-02-21T15:46:53.468Z"
   },
   {
    "duration": 198,
    "start_time": "2022-02-21T15:46:53.662Z"
   },
   {
    "duration": 11,
    "start_time": "2022-02-21T15:46:53.861Z"
   },
   {
    "duration": 189,
    "start_time": "2022-02-21T15:46:53.874Z"
   },
   {
    "duration": 206,
    "start_time": "2022-02-21T15:46:54.065Z"
   },
   {
    "duration": 217,
    "start_time": "2022-02-21T15:46:54.273Z"
   },
   {
    "duration": 163,
    "start_time": "2022-02-21T15:47:57.918Z"
   },
   {
    "duration": 247,
    "start_time": "2022-02-21T15:49:00.647Z"
   },
   {
    "duration": 202,
    "start_time": "2022-02-21T15:49:05.917Z"
   },
   {
    "duration": 213,
    "start_time": "2022-02-21T15:49:07.708Z"
   },
   {
    "duration": 11,
    "start_time": "2022-02-21T15:49:10.116Z"
   },
   {
    "duration": 163,
    "start_time": "2022-02-21T15:49:10.372Z"
   },
   {
    "duration": 197,
    "start_time": "2022-02-21T15:49:10.580Z"
   },
   {
    "duration": 228,
    "start_time": "2022-02-21T15:49:10.780Z"
   },
   {
    "duration": 12,
    "start_time": "2022-02-21T15:49:11.362Z"
   },
   {
    "duration": 174,
    "start_time": "2022-02-21T15:49:11.562Z"
   },
   {
    "duration": 226,
    "start_time": "2022-02-21T15:49:11.742Z"
   },
   {
    "duration": 211,
    "start_time": "2022-02-21T15:49:11.970Z"
   },
   {
    "duration": 1172,
    "start_time": "2022-02-21T15:53:21.005Z"
   },
   {
    "duration": 410,
    "start_time": "2022-02-21T15:53:22.180Z"
   },
   {
    "duration": 12,
    "start_time": "2022-02-21T15:53:22.594Z"
   },
   {
    "duration": 36,
    "start_time": "2022-02-21T15:53:22.608Z"
   },
   {
    "duration": 24,
    "start_time": "2022-02-21T15:53:22.647Z"
   },
   {
    "duration": 25,
    "start_time": "2022-02-21T15:53:22.673Z"
   },
   {
    "duration": 57,
    "start_time": "2022-02-21T15:53:22.700Z"
   },
   {
    "duration": 5,
    "start_time": "2022-02-21T15:53:22.760Z"
   },
   {
    "duration": 6,
    "start_time": "2022-02-21T15:53:22.768Z"
   },
   {
    "duration": 8,
    "start_time": "2022-02-21T15:53:22.776Z"
   },
   {
    "duration": 39,
    "start_time": "2022-02-21T15:53:22.786Z"
   },
   {
    "duration": 10,
    "start_time": "2022-02-21T15:53:22.826Z"
   },
   {
    "duration": 39,
    "start_time": "2022-02-21T15:53:22.838Z"
   },
   {
    "duration": 40,
    "start_time": "2022-02-21T15:53:22.879Z"
   },
   {
    "duration": 18,
    "start_time": "2022-02-21T15:53:22.920Z"
   },
   {
    "duration": 33,
    "start_time": "2022-02-21T15:53:22.941Z"
   },
   {
    "duration": 9,
    "start_time": "2022-02-21T15:53:22.976Z"
   },
   {
    "duration": 42,
    "start_time": "2022-02-21T15:53:22.987Z"
   },
   {
    "duration": 8,
    "start_time": "2022-02-21T15:53:23.031Z"
   },
   {
    "duration": 18,
    "start_time": "2022-02-21T15:53:23.041Z"
   },
   {
    "duration": 15,
    "start_time": "2022-02-21T15:53:23.061Z"
   },
   {
    "duration": 49,
    "start_time": "2022-02-21T15:53:23.078Z"
   },
   {
    "duration": 24,
    "start_time": "2022-02-21T15:53:23.129Z"
   },
   {
    "duration": 10,
    "start_time": "2022-02-21T15:53:23.155Z"
   },
   {
    "duration": 11,
    "start_time": "2022-02-21T15:53:23.167Z"
   },
   {
    "duration": 11,
    "start_time": "2022-02-21T15:53:23.183Z"
   },
   {
    "duration": 52,
    "start_time": "2022-02-21T15:53:23.196Z"
   },
   {
    "duration": 6,
    "start_time": "2022-02-21T15:53:23.249Z"
   },
   {
    "duration": 6,
    "start_time": "2022-02-21T15:53:23.256Z"
   },
   {
    "duration": 13,
    "start_time": "2022-02-21T15:53:23.264Z"
   },
   {
    "duration": 63,
    "start_time": "2022-02-21T15:53:23.279Z"
   },
   {
    "duration": 7,
    "start_time": "2022-02-21T15:53:23.344Z"
   },
   {
    "duration": 10,
    "start_time": "2022-02-21T15:53:23.353Z"
   },
   {
    "duration": 6,
    "start_time": "2022-02-21T15:53:23.365Z"
   },
   {
    "duration": 15,
    "start_time": "2022-02-21T15:53:23.373Z"
   },
   {
    "duration": 33,
    "start_time": "2022-02-21T15:53:23.390Z"
   },
   {
    "duration": 25,
    "start_time": "2022-02-21T15:53:23.425Z"
   },
   {
    "duration": 8,
    "start_time": "2022-02-21T15:53:23.452Z"
   },
   {
    "duration": 34,
    "start_time": "2022-02-21T15:53:23.462Z"
   },
   {
    "duration": 8,
    "start_time": "2022-02-21T15:53:23.519Z"
   },
   {
    "duration": 17,
    "start_time": "2022-02-21T15:53:23.528Z"
   },
   {
    "duration": 8,
    "start_time": "2022-02-21T15:53:23.546Z"
   },
   {
    "duration": 43,
    "start_time": "2022-02-21T15:53:23.556Z"
   },
   {
    "duration": 7,
    "start_time": "2022-02-21T15:53:23.601Z"
   },
   {
    "duration": 33,
    "start_time": "2022-02-21T15:53:23.609Z"
   },
   {
    "duration": 29,
    "start_time": "2022-02-21T15:53:23.643Z"
   },
   {
    "duration": 21,
    "start_time": "2022-02-21T15:53:23.674Z"
   },
   {
    "duration": 38,
    "start_time": "2022-02-21T15:53:23.698Z"
   },
   {
    "duration": 20,
    "start_time": "2022-02-21T15:53:23.738Z"
   },
   {
    "duration": 15,
    "start_time": "2022-02-21T15:53:23.760Z"
   },
   {
    "duration": 20,
    "start_time": "2022-02-21T15:53:23.777Z"
   },
   {
    "duration": 41,
    "start_time": "2022-02-21T15:53:23.799Z"
   },
   {
    "duration": 26,
    "start_time": "2022-02-21T15:53:23.842Z"
   },
   {
    "duration": 24,
    "start_time": "2022-02-21T15:53:23.869Z"
   },
   {
    "duration": 37,
    "start_time": "2022-02-21T15:53:23.894Z"
   },
   {
    "duration": 20,
    "start_time": "2022-02-21T15:53:23.933Z"
   },
   {
    "duration": 35,
    "start_time": "2022-02-21T15:53:23.955Z"
   },
   {
    "duration": 20,
    "start_time": "2022-02-21T15:53:23.992Z"
   },
   {
    "duration": 15,
    "start_time": "2022-02-21T15:53:24.014Z"
   },
   {
    "duration": 27,
    "start_time": "2022-02-21T15:53:24.031Z"
   },
   {
    "duration": 39,
    "start_time": "2022-02-21T15:53:24.060Z"
   },
   {
    "duration": 26,
    "start_time": "2022-02-21T15:53:24.100Z"
   },
   {
    "duration": 49,
    "start_time": "2022-02-21T15:53:24.128Z"
   },
   {
    "duration": 28,
    "start_time": "2022-02-21T15:53:24.179Z"
   },
   {
    "duration": 8,
    "start_time": "2022-02-21T15:53:24.209Z"
   },
   {
    "duration": 25,
    "start_time": "2022-02-21T15:53:24.219Z"
   },
   {
    "duration": 62,
    "start_time": "2022-02-21T15:53:24.246Z"
   },
   {
    "duration": 3,
    "start_time": "2022-02-21T15:53:24.310Z"
   },
   {
    "duration": 24,
    "start_time": "2022-02-21T15:53:24.318Z"
   },
   {
    "duration": 644,
    "start_time": "2022-02-21T15:53:24.344Z"
   },
   {
    "duration": 10,
    "start_time": "2022-02-21T15:53:24.990Z"
   },
   {
    "duration": 33,
    "start_time": "2022-02-21T15:53:25.001Z"
   },
   {
    "duration": 16,
    "start_time": "2022-02-21T15:53:25.036Z"
   },
   {
    "duration": 32,
    "start_time": "2022-02-21T15:53:25.054Z"
   },
   {
    "duration": 23,
    "start_time": "2022-02-21T15:53:25.088Z"
   },
   {
    "duration": 20,
    "start_time": "2022-02-21T15:53:25.113Z"
   },
   {
    "duration": 31,
    "start_time": "2022-02-21T15:53:25.134Z"
   },
   {
    "duration": 14,
    "start_time": "2022-02-21T15:53:25.168Z"
   },
   {
    "duration": 40,
    "start_time": "2022-02-21T15:53:25.184Z"
   },
   {
    "duration": 35,
    "start_time": "2022-02-21T15:53:25.230Z"
   },
   {
    "duration": 21,
    "start_time": "2022-02-21T15:53:25.267Z"
   },
   {
    "duration": 243,
    "start_time": "2022-02-21T15:53:25.289Z"
   },
   {
    "duration": 5,
    "start_time": "2022-02-21T15:53:25.534Z"
   },
   {
    "duration": 57,
    "start_time": "2022-02-21T15:53:25.541Z"
   },
   {
    "duration": 10,
    "start_time": "2022-02-21T15:53:25.600Z"
   },
   {
    "duration": 19,
    "start_time": "2022-02-21T15:53:25.613Z"
   },
   {
    "duration": 220,
    "start_time": "2022-02-21T15:53:25.634Z"
   },
   {
    "duration": 201,
    "start_time": "2022-02-21T15:53:25.856Z"
   },
   {
    "duration": 396,
    "start_time": "2022-02-21T15:53:26.059Z"
   },
   {
    "duration": 16,
    "start_time": "2022-02-21T15:53:26.457Z"
   },
   {
    "duration": 73,
    "start_time": "2022-02-21T15:53:26.475Z"
   },
   {
    "duration": 15,
    "start_time": "2022-02-21T15:53:26.550Z"
   },
   {
    "duration": 191,
    "start_time": "2022-02-21T15:53:26.567Z"
   },
   {
    "duration": 216,
    "start_time": "2022-02-21T15:53:26.760Z"
   },
   {
    "duration": 212,
    "start_time": "2022-02-21T15:53:26.977Z"
   },
   {
    "duration": 11,
    "start_time": "2022-02-21T15:53:27.191Z"
   },
   {
    "duration": 168,
    "start_time": "2022-02-21T15:53:27.203Z"
   },
   {
    "duration": 199,
    "start_time": "2022-02-21T15:53:27.373Z"
   },
   {
    "duration": 212,
    "start_time": "2022-02-21T15:53:27.574Z"
   },
   {
    "duration": 17,
    "start_time": "2022-02-21T15:53:27.788Z"
   },
   {
    "duration": 184,
    "start_time": "2022-02-21T15:53:27.806Z"
   },
   {
    "duration": 213,
    "start_time": "2022-02-21T15:53:27.992Z"
   },
   {
    "duration": 206,
    "start_time": "2022-02-21T15:53:28.207Z"
   },
   {
    "duration": 3,
    "start_time": "2022-02-21T16:10:50.799Z"
   },
   {
    "duration": 457,
    "start_time": "2022-02-21T16:10:51.874Z"
   },
   {
    "duration": 1200,
    "start_time": "2022-02-21T16:11:00.892Z"
   },
   {
    "duration": 374,
    "start_time": "2022-02-21T16:11:02.094Z"
   },
   {
    "duration": 11,
    "start_time": "2022-02-21T16:11:02.470Z"
   },
   {
    "duration": 30,
    "start_time": "2022-02-21T16:11:02.483Z"
   },
   {
    "duration": 31,
    "start_time": "2022-02-21T16:11:02.515Z"
   },
   {
    "duration": 24,
    "start_time": "2022-02-21T16:11:02.548Z"
   },
   {
    "duration": 48,
    "start_time": "2022-02-21T16:11:02.574Z"
   },
   {
    "duration": 7,
    "start_time": "2022-02-21T16:11:02.625Z"
   },
   {
    "duration": 8,
    "start_time": "2022-02-21T16:11:02.635Z"
   },
   {
    "duration": 7,
    "start_time": "2022-02-21T16:11:02.645Z"
   },
   {
    "duration": 14,
    "start_time": "2022-02-21T16:11:02.654Z"
   },
   {
    "duration": 8,
    "start_time": "2022-02-21T16:11:02.669Z"
   },
   {
    "duration": 90,
    "start_time": "2022-02-21T16:11:02.678Z"
   },
   {
    "duration": 17,
    "start_time": "2022-02-21T16:11:02.769Z"
   },
   {
    "duration": 16,
    "start_time": "2022-02-21T16:11:02.788Z"
   },
   {
    "duration": 39,
    "start_time": "2022-02-21T16:11:02.807Z"
   },
   {
    "duration": 8,
    "start_time": "2022-02-21T16:11:02.848Z"
   },
   {
    "duration": 16,
    "start_time": "2022-02-21T16:11:02.858Z"
   },
   {
    "duration": 7,
    "start_time": "2022-02-21T16:11:02.876Z"
   },
   {
    "duration": 49,
    "start_time": "2022-02-21T16:11:02.885Z"
   },
   {
    "duration": 15,
    "start_time": "2022-02-21T16:11:02.937Z"
   },
   {
    "duration": 14,
    "start_time": "2022-02-21T16:11:02.954Z"
   },
   {
    "duration": 15,
    "start_time": "2022-02-21T16:11:02.973Z"
   },
   {
    "duration": 10,
    "start_time": "2022-02-21T16:11:03.018Z"
   },
   {
    "duration": 10,
    "start_time": "2022-02-21T16:11:03.031Z"
   },
   {
    "duration": 8,
    "start_time": "2022-02-21T16:11:03.043Z"
   },
   {
    "duration": 72,
    "start_time": "2022-02-21T16:11:03.054Z"
   },
   {
    "duration": 7,
    "start_time": "2022-02-21T16:11:03.130Z"
   },
   {
    "duration": 10,
    "start_time": "2022-02-21T16:11:03.139Z"
   },
   {
    "duration": 17,
    "start_time": "2022-02-21T16:11:03.151Z"
   },
   {
    "duration": 20,
    "start_time": "2022-02-21T16:11:03.169Z"
   },
   {
    "duration": 30,
    "start_time": "2022-02-21T16:11:03.190Z"
   },
   {
    "duration": 7,
    "start_time": "2022-02-21T16:11:03.222Z"
   },
   {
    "duration": 7,
    "start_time": "2022-02-21T16:11:03.232Z"
   },
   {
    "duration": 11,
    "start_time": "2022-02-21T16:11:03.241Z"
   },
   {
    "duration": 8,
    "start_time": "2022-02-21T16:11:03.253Z"
   },
   {
    "duration": 62,
    "start_time": "2022-02-21T16:11:03.262Z"
   },
   {
    "duration": 12,
    "start_time": "2022-02-21T16:11:03.326Z"
   },
   {
    "duration": 26,
    "start_time": "2022-02-21T16:11:03.340Z"
   },
   {
    "duration": 6,
    "start_time": "2022-02-21T16:11:03.368Z"
   },
   {
    "duration": 46,
    "start_time": "2022-02-21T16:11:03.376Z"
   },
   {
    "duration": 11,
    "start_time": "2022-02-21T16:11:03.425Z"
   },
   {
    "duration": 15,
    "start_time": "2022-02-21T16:11:03.438Z"
   },
   {
    "duration": 6,
    "start_time": "2022-02-21T16:11:03.455Z"
   },
   {
    "duration": 20,
    "start_time": "2022-02-21T16:11:03.463Z"
   },
   {
    "duration": 47,
    "start_time": "2022-02-21T16:11:03.484Z"
   },
   {
    "duration": 20,
    "start_time": "2022-02-21T16:11:03.535Z"
   },
   {
    "duration": 8,
    "start_time": "2022-02-21T16:11:03.556Z"
   },
   {
    "duration": 9,
    "start_time": "2022-02-21T16:11:03.565Z"
   },
   {
    "duration": 49,
    "start_time": "2022-02-21T16:11:03.576Z"
   },
   {
    "duration": 10,
    "start_time": "2022-02-21T16:11:03.629Z"
   },
   {
    "duration": 6,
    "start_time": "2022-02-21T16:11:03.641Z"
   },
   {
    "duration": 11,
    "start_time": "2022-02-21T16:11:03.649Z"
   },
   {
    "duration": 7,
    "start_time": "2022-02-21T16:11:03.661Z"
   },
   {
    "duration": 55,
    "start_time": "2022-02-21T16:11:03.670Z"
   },
   {
    "duration": 14,
    "start_time": "2022-02-21T16:11:03.728Z"
   },
   {
    "duration": 11,
    "start_time": "2022-02-21T16:11:03.743Z"
   },
   {
    "duration": 28,
    "start_time": "2022-02-21T16:11:03.756Z"
   },
   {
    "duration": 20,
    "start_time": "2022-02-21T16:11:03.786Z"
   },
   {
    "duration": 27,
    "start_time": "2022-02-21T16:11:03.808Z"
   },
   {
    "duration": 8,
    "start_time": "2022-02-21T16:11:03.837Z"
   },
   {
    "duration": 11,
    "start_time": "2022-02-21T16:11:03.848Z"
   },
   {
    "duration": 64,
    "start_time": "2022-02-21T16:11:03.860Z"
   },
   {
    "duration": 22,
    "start_time": "2022-02-21T16:11:03.927Z"
   },
   {
    "duration": 9,
    "start_time": "2022-02-21T16:11:03.951Z"
   },
   {
    "duration": 15,
    "start_time": "2022-02-21T16:11:03.962Z"
   },
   {
    "duration": 93,
    "start_time": "2022-02-21T16:11:03.979Z"
   },
   {
    "duration": 3,
    "start_time": "2022-02-21T16:11:04.078Z"
   },
   {
    "duration": 5,
    "start_time": "2022-02-21T16:11:04.083Z"
   },
   {
    "duration": 656,
    "start_time": "2022-02-21T16:11:04.089Z"
   },
   {
    "duration": 11,
    "start_time": "2022-02-21T16:11:04.747Z"
   },
   {
    "duration": 10,
    "start_time": "2022-02-21T16:11:04.760Z"
   },
   {
    "duration": 10,
    "start_time": "2022-02-21T16:11:04.772Z"
   },
   {
    "duration": 6,
    "start_time": "2022-02-21T16:11:04.821Z"
   },
   {
    "duration": 6,
    "start_time": "2022-02-21T16:11:04.830Z"
   },
   {
    "duration": 4,
    "start_time": "2022-02-21T16:11:04.838Z"
   },
   {
    "duration": 10,
    "start_time": "2022-02-21T16:11:04.844Z"
   },
   {
    "duration": 10,
    "start_time": "2022-02-21T16:11:04.855Z"
   },
   {
    "duration": 9,
    "start_time": "2022-02-21T16:11:04.867Z"
   },
   {
    "duration": 25,
    "start_time": "2022-02-21T16:11:04.919Z"
   },
   {
    "duration": 4,
    "start_time": "2022-02-21T16:11:04.946Z"
   },
   {
    "duration": 269,
    "start_time": "2022-02-21T16:11:04.952Z"
   },
   {
    "duration": 6,
    "start_time": "2022-02-21T16:11:05.223Z"
   },
   {
    "duration": 50,
    "start_time": "2022-02-21T16:11:05.231Z"
   },
   {
    "duration": 10,
    "start_time": "2022-02-21T16:11:05.283Z"
   },
   {
    "duration": 28,
    "start_time": "2022-02-21T16:11:05.295Z"
   },
   {
    "duration": 257,
    "start_time": "2022-02-21T16:11:05.327Z"
   },
   {
    "duration": 230,
    "start_time": "2022-02-21T16:11:05.586Z"
   },
   {
    "duration": 399,
    "start_time": "2022-02-21T16:11:05.818Z"
   },
   {
    "duration": 21,
    "start_time": "2022-02-21T16:11:06.219Z"
   },
   {
    "duration": 90,
    "start_time": "2022-02-21T16:11:06.242Z"
   },
   {
    "duration": 13,
    "start_time": "2022-02-21T16:11:06.334Z"
   },
   {
    "duration": 214,
    "start_time": "2022-02-21T16:11:06.349Z"
   },
   {
    "duration": 236,
    "start_time": "2022-02-21T16:11:06.565Z"
   },
   {
    "duration": 262,
    "start_time": "2022-02-21T16:11:06.803Z"
   },
   {
    "duration": 15,
    "start_time": "2022-02-21T16:11:07.067Z"
   },
   {
    "duration": 207,
    "start_time": "2022-02-21T16:11:07.084Z"
   },
   {
    "duration": 264,
    "start_time": "2022-02-21T16:11:07.293Z"
   },
   {
    "duration": 253,
    "start_time": "2022-02-21T16:11:07.559Z"
   },
   {
    "duration": 20,
    "start_time": "2022-02-21T16:11:07.814Z"
   },
   {
    "duration": 236,
    "start_time": "2022-02-21T16:11:07.837Z"
   },
   {
    "duration": 248,
    "start_time": "2022-02-21T16:11:08.075Z"
   },
   {
    "duration": 241,
    "start_time": "2022-02-21T16:11:08.326Z"
   },
   {
    "duration": 5,
    "start_time": "2022-02-21T16:18:54.803Z"
   },
   {
    "duration": 3,
    "start_time": "2022-02-21T16:18:55.500Z"
   },
   {
    "duration": 7,
    "start_time": "2022-02-21T16:18:56.119Z"
   },
   {
    "duration": 4,
    "start_time": "2022-02-21T16:18:57.183Z"
   },
   {
    "duration": 3,
    "start_time": "2022-02-21T16:18:58.733Z"
   },
   {
    "duration": 5,
    "start_time": "2022-02-21T16:18:59.506Z"
   },
   {
    "duration": 988,
    "start_time": "2022-02-21T16:19:09.284Z"
   },
   {
    "duration": 4,
    "start_time": "2022-02-21T16:19:52.908Z"
   },
   {
    "duration": 247,
    "start_time": "2022-02-21T16:19:59.096Z"
   },
   {
    "duration": 4,
    "start_time": "2022-02-21T16:22:09.094Z"
   },
   {
    "duration": 4,
    "start_time": "2022-02-21T16:22:09.988Z"
   },
   {
    "duration": 5,
    "start_time": "2022-02-21T16:26:19.727Z"
   },
   {
    "duration": 6,
    "start_time": "2022-02-21T16:26:20.419Z"
   },
   {
    "duration": 4,
    "start_time": "2022-02-21T16:27:05.955Z"
   },
   {
    "duration": 4,
    "start_time": "2022-02-21T16:27:06.738Z"
   },
   {
    "duration": 3,
    "start_time": "2022-02-21T16:27:14.788Z"
   },
   {
    "duration": 4,
    "start_time": "2022-02-21T16:27:15.353Z"
   },
   {
    "duration": 3,
    "start_time": "2022-02-21T16:29:20.266Z"
   },
   {
    "duration": 1167,
    "start_time": "2022-02-21T16:32:54.431Z"
   },
   {
    "duration": 385,
    "start_time": "2022-02-21T16:32:55.600Z"
   },
   {
    "duration": 12,
    "start_time": "2022-02-21T16:32:55.987Z"
   },
   {
    "duration": 45,
    "start_time": "2022-02-21T16:32:56.001Z"
   },
   {
    "duration": 20,
    "start_time": "2022-02-21T16:32:56.048Z"
   },
   {
    "duration": 25,
    "start_time": "2022-02-21T16:32:56.070Z"
   },
   {
    "duration": 54,
    "start_time": "2022-02-21T16:32:56.097Z"
   },
   {
    "duration": 5,
    "start_time": "2022-02-21T16:32:56.153Z"
   },
   {
    "duration": 6,
    "start_time": "2022-02-21T16:32:56.163Z"
   },
   {
    "duration": 10,
    "start_time": "2022-02-21T16:32:56.171Z"
   },
   {
    "duration": 49,
    "start_time": "2022-02-21T16:32:56.182Z"
   },
   {
    "duration": 9,
    "start_time": "2022-02-21T16:32:56.234Z"
   },
   {
    "duration": 33,
    "start_time": "2022-02-21T16:32:56.245Z"
   },
   {
    "duration": 57,
    "start_time": "2022-02-21T16:32:56.280Z"
   },
   {
    "duration": 16,
    "start_time": "2022-02-21T16:32:56.339Z"
   },
   {
    "duration": 20,
    "start_time": "2022-02-21T16:32:56.357Z"
   },
   {
    "duration": 9,
    "start_time": "2022-02-21T16:32:56.379Z"
   },
   {
    "duration": 16,
    "start_time": "2022-02-21T16:32:56.420Z"
   },
   {
    "duration": 7,
    "start_time": "2022-02-21T16:32:56.437Z"
   },
   {
    "duration": 14,
    "start_time": "2022-02-21T16:32:56.446Z"
   },
   {
    "duration": 14,
    "start_time": "2022-02-21T16:32:56.462Z"
   },
   {
    "duration": 21,
    "start_time": "2022-02-21T16:32:56.519Z"
   },
   {
    "duration": 17,
    "start_time": "2022-02-21T16:32:56.542Z"
   },
   {
    "duration": 7,
    "start_time": "2022-02-21T16:32:56.561Z"
   },
   {
    "duration": 10,
    "start_time": "2022-02-21T16:32:56.570Z"
   },
   {
    "duration": 46,
    "start_time": "2022-02-21T16:32:56.582Z"
   },
   {
    "duration": 31,
    "start_time": "2022-02-21T16:32:56.635Z"
   },
   {
    "duration": 6,
    "start_time": "2022-02-21T16:32:56.669Z"
   },
   {
    "duration": 8,
    "start_time": "2022-02-21T16:32:56.676Z"
   },
   {
    "duration": 48,
    "start_time": "2022-02-21T16:32:56.686Z"
   },
   {
    "duration": 17,
    "start_time": "2022-02-21T16:32:56.737Z"
   },
   {
    "duration": 7,
    "start_time": "2022-02-21T16:32:56.756Z"
   },
   {
    "duration": 6,
    "start_time": "2022-02-21T16:32:56.765Z"
   },
   {
    "duration": 47,
    "start_time": "2022-02-21T16:32:56.773Z"
   },
   {
    "duration": 21,
    "start_time": "2022-02-21T16:32:56.823Z"
   },
   {
    "duration": 8,
    "start_time": "2022-02-21T16:32:56.845Z"
   },
   {
    "duration": 24,
    "start_time": "2022-02-21T16:32:56.855Z"
   },
   {
    "duration": 7,
    "start_time": "2022-02-21T16:32:56.881Z"
   },
   {
    "duration": 61,
    "start_time": "2022-02-21T16:32:56.890Z"
   },
   {
    "duration": 9,
    "start_time": "2022-02-21T16:32:56.953Z"
   },
   {
    "duration": 16,
    "start_time": "2022-02-21T16:32:56.964Z"
   },
   {
    "duration": 8,
    "start_time": "2022-02-21T16:32:56.981Z"
   },
   {
    "duration": 44,
    "start_time": "2022-02-21T16:32:56.991Z"
   },
   {
    "duration": 6,
    "start_time": "2022-02-21T16:32:57.037Z"
   },
   {
    "duration": 20,
    "start_time": "2022-02-21T16:32:57.045Z"
   },
   {
    "duration": 8,
    "start_time": "2022-02-21T16:32:57.067Z"
   },
   {
    "duration": 58,
    "start_time": "2022-02-21T16:32:57.077Z"
   },
   {
    "duration": 7,
    "start_time": "2022-02-21T16:32:57.137Z"
   },
   {
    "duration": 7,
    "start_time": "2022-02-21T16:32:57.146Z"
   },
   {
    "duration": 6,
    "start_time": "2022-02-21T16:32:57.155Z"
   },
   {
    "duration": 7,
    "start_time": "2022-02-21T16:32:57.163Z"
   },
   {
    "duration": 50,
    "start_time": "2022-02-21T16:32:57.171Z"
   },
   {
    "duration": 12,
    "start_time": "2022-02-21T16:32:57.226Z"
   },
   {
    "duration": 6,
    "start_time": "2022-02-21T16:32:57.239Z"
   },
   {
    "duration": 8,
    "start_time": "2022-02-21T16:32:57.246Z"
   },
   {
    "duration": 7,
    "start_time": "2022-02-21T16:32:57.255Z"
   },
   {
    "duration": 9,
    "start_time": "2022-02-21T16:32:57.264Z"
   },
   {
    "duration": 59,
    "start_time": "2022-02-21T16:32:57.275Z"
   },
   {
    "duration": 9,
    "start_time": "2022-02-21T16:32:57.336Z"
   },
   {
    "duration": 14,
    "start_time": "2022-02-21T16:32:57.347Z"
   },
   {
    "duration": 9,
    "start_time": "2022-02-21T16:32:57.363Z"
   },
   {
    "duration": 47,
    "start_time": "2022-02-21T16:32:57.373Z"
   },
   {
    "duration": 23,
    "start_time": "2022-02-21T16:32:57.422Z"
   },
   {
    "duration": 17,
    "start_time": "2022-02-21T16:32:57.446Z"
   },
   {
    "duration": 8,
    "start_time": "2022-02-21T16:32:57.465Z"
   },
   {
    "duration": 52,
    "start_time": "2022-02-21T16:32:57.475Z"
   },
   {
    "duration": 50,
    "start_time": "2022-02-21T16:32:57.532Z"
   },
   {
    "duration": 3,
    "start_time": "2022-02-21T16:32:57.583Z"
   },
   {
    "duration": 33,
    "start_time": "2022-02-21T16:32:57.588Z"
   },
   {
    "duration": 581,
    "start_time": "2022-02-21T16:32:57.623Z"
   },
   {
    "duration": 27,
    "start_time": "2022-02-21T16:32:58.207Z"
   },
   {
    "duration": 7,
    "start_time": "2022-02-21T16:32:58.237Z"
   },
   {
    "duration": 9,
    "start_time": "2022-02-21T16:32:58.246Z"
   },
   {
    "duration": 3,
    "start_time": "2022-02-21T16:32:58.257Z"
   },
   {
    "duration": 5,
    "start_time": "2022-02-21T16:32:58.261Z"
   },
   {
    "duration": 4,
    "start_time": "2022-02-21T16:32:58.268Z"
   },
   {
    "duration": 46,
    "start_time": "2022-02-21T16:32:58.274Z"
   },
   {
    "duration": 12,
    "start_time": "2022-02-21T16:32:58.323Z"
   },
   {
    "duration": 11,
    "start_time": "2022-02-21T16:32:58.337Z"
   },
   {
    "duration": 17,
    "start_time": "2022-02-21T16:32:58.349Z"
   },
   {
    "duration": 4,
    "start_time": "2022-02-21T16:32:58.372Z"
   },
   {
    "duration": 270,
    "start_time": "2022-02-21T16:32:58.378Z"
   },
   {
    "duration": 4,
    "start_time": "2022-02-21T16:32:58.649Z"
   },
   {
    "duration": 32,
    "start_time": "2022-02-21T16:32:58.655Z"
   },
   {
    "duration": 8,
    "start_time": "2022-02-21T16:32:58.689Z"
   },
   {
    "duration": 13,
    "start_time": "2022-02-21T16:32:58.719Z"
   },
   {
    "duration": 234,
    "start_time": "2022-02-21T16:32:58.735Z"
   },
   {
    "duration": 207,
    "start_time": "2022-02-21T16:32:58.970Z"
   },
   {
    "duration": 596,
    "start_time": "2022-02-21T16:32:59.180Z"
   },
   {
    "duration": 14,
    "start_time": "2022-02-21T16:32:59.778Z"
   },
   {
    "duration": 80,
    "start_time": "2022-02-21T16:32:59.793Z"
   },
   {
    "duration": 11,
    "start_time": "2022-02-21T16:32:59.875Z"
   },
   {
    "duration": 194,
    "start_time": "2022-02-21T16:32:59.888Z"
   },
   {
    "duration": 223,
    "start_time": "2022-02-21T16:33:00.084Z"
   },
   {
    "duration": 244,
    "start_time": "2022-02-21T16:33:00.308Z"
   },
   {
    "duration": 11,
    "start_time": "2022-02-21T16:33:00.554Z"
   },
   {
    "duration": 193,
    "start_time": "2022-02-21T16:33:00.566Z"
   },
   {
    "duration": 235,
    "start_time": "2022-02-21T16:33:00.760Z"
   },
   {
    "duration": 234,
    "start_time": "2022-02-21T16:33:00.996Z"
   },
   {
    "duration": 12,
    "start_time": "2022-02-21T16:33:01.233Z"
   },
   {
    "duration": 205,
    "start_time": "2022-02-21T16:33:01.247Z"
   },
   {
    "duration": 231,
    "start_time": "2022-02-21T16:33:01.454Z"
   },
   {
    "duration": 223,
    "start_time": "2022-02-21T16:33:01.686Z"
   },
   {
    "duration": 6,
    "start_time": "2022-02-21T16:33:01.919Z"
   },
   {
    "duration": 5,
    "start_time": "2022-02-21T16:33:01.928Z"
   },
   {
    "duration": 6,
    "start_time": "2022-02-21T16:33:01.936Z"
   },
   {
    "duration": 7,
    "start_time": "2022-02-21T16:33:01.944Z"
   },
   {
    "duration": 10,
    "start_time": "2022-02-21T16:33:01.952Z"
   },
   {
    "duration": 5,
    "start_time": "2022-02-21T16:33:01.964Z"
   },
   {
    "duration": 7,
    "start_time": "2022-02-21T16:33:01.971Z"
   },
   {
    "duration": 5,
    "start_time": "2022-02-21T16:34:07.245Z"
   },
   {
    "duration": 2,
    "start_time": "2022-02-21T16:34:07.489Z"
   },
   {
    "duration": 5,
    "start_time": "2022-02-21T16:34:07.670Z"
   },
   {
    "duration": 3,
    "start_time": "2022-02-21T16:34:07.871Z"
   },
   {
    "duration": 3,
    "start_time": "2022-02-21T16:34:08.055Z"
   },
   {
    "duration": 4,
    "start_time": "2022-02-21T16:34:08.254Z"
   },
   {
    "duration": 5,
    "start_time": "2022-02-21T16:34:08.454Z"
   },
   {
    "duration": 233,
    "start_time": "2022-02-21T16:37:04.615Z"
   },
   {
    "duration": 1123,
    "start_time": "2022-02-21T16:37:48.444Z"
   },
   {
    "duration": 353,
    "start_time": "2022-02-21T16:37:49.569Z"
   },
   {
    "duration": 11,
    "start_time": "2022-02-21T16:37:49.925Z"
   },
   {
    "duration": 37,
    "start_time": "2022-02-21T16:37:49.937Z"
   },
   {
    "duration": 17,
    "start_time": "2022-02-21T16:37:49.976Z"
   },
   {
    "duration": 30,
    "start_time": "2022-02-21T16:37:50.019Z"
   },
   {
    "duration": 25,
    "start_time": "2022-02-21T16:37:50.051Z"
   },
   {
    "duration": 4,
    "start_time": "2022-02-21T16:37:50.079Z"
   },
   {
    "duration": 10,
    "start_time": "2022-02-21T16:37:50.084Z"
   },
   {
    "duration": 27,
    "start_time": "2022-02-21T16:37:50.096Z"
   },
   {
    "duration": 16,
    "start_time": "2022-02-21T16:37:50.124Z"
   },
   {
    "duration": 10,
    "start_time": "2022-02-21T16:37:50.142Z"
   },
   {
    "duration": 27,
    "start_time": "2022-02-21T16:37:50.153Z"
   },
   {
    "duration": 23,
    "start_time": "2022-02-21T16:37:50.218Z"
   },
   {
    "duration": 15,
    "start_time": "2022-02-21T16:37:50.243Z"
   },
   {
    "duration": 18,
    "start_time": "2022-02-21T16:37:50.260Z"
   },
   {
    "duration": 8,
    "start_time": "2022-02-21T16:37:50.280Z"
   },
   {
    "duration": 43,
    "start_time": "2022-02-21T16:37:50.289Z"
   },
   {
    "duration": 7,
    "start_time": "2022-02-21T16:37:50.335Z"
   },
   {
    "duration": 14,
    "start_time": "2022-02-21T16:37:50.344Z"
   },
   {
    "duration": 14,
    "start_time": "2022-02-21T16:37:50.359Z"
   },
   {
    "duration": 61,
    "start_time": "2022-02-21T16:37:50.375Z"
   },
   {
    "duration": 15,
    "start_time": "2022-02-21T16:37:50.440Z"
   },
   {
    "duration": 6,
    "start_time": "2022-02-21T16:37:50.458Z"
   },
   {
    "duration": 32,
    "start_time": "2022-02-21T16:37:50.465Z"
   },
   {
    "duration": 8,
    "start_time": "2022-02-21T16:37:50.498Z"
   },
   {
    "duration": 35,
    "start_time": "2022-02-21T16:37:50.519Z"
   },
   {
    "duration": 6,
    "start_time": "2022-02-21T16:37:50.556Z"
   },
   {
    "duration": 9,
    "start_time": "2022-02-21T16:37:50.564Z"
   },
   {
    "duration": 14,
    "start_time": "2022-02-21T16:37:50.575Z"
   },
   {
    "duration": 37,
    "start_time": "2022-02-21T16:37:50.598Z"
   },
   {
    "duration": 8,
    "start_time": "2022-02-21T16:37:50.638Z"
   },
   {
    "duration": 9,
    "start_time": "2022-02-21T16:37:50.648Z"
   },
   {
    "duration": 6,
    "start_time": "2022-02-21T16:37:50.659Z"
   },
   {
    "duration": 15,
    "start_time": "2022-02-21T16:37:50.667Z"
   },
   {
    "duration": 46,
    "start_time": "2022-02-21T16:37:50.683Z"
   },
   {
    "duration": 23,
    "start_time": "2022-02-21T16:37:50.732Z"
   },
   {
    "duration": 9,
    "start_time": "2022-02-21T16:37:50.757Z"
   },
   {
    "duration": 60,
    "start_time": "2022-02-21T16:37:50.767Z"
   },
   {
    "duration": 10,
    "start_time": "2022-02-21T16:37:50.829Z"
   },
   {
    "duration": 19,
    "start_time": "2022-02-21T16:37:50.841Z"
   },
   {
    "duration": 10,
    "start_time": "2022-02-21T16:37:50.861Z"
   },
   {
    "duration": 24,
    "start_time": "2022-02-21T16:37:50.873Z"
   },
   {
    "duration": 10,
    "start_time": "2022-02-21T16:37:50.919Z"
   },
   {
    "duration": 20,
    "start_time": "2022-02-21T16:37:50.931Z"
   },
   {
    "duration": 8,
    "start_time": "2022-02-21T16:37:50.952Z"
   },
   {
    "duration": 15,
    "start_time": "2022-02-21T16:37:50.962Z"
   },
   {
    "duration": 7,
    "start_time": "2022-02-21T16:37:50.978Z"
   },
   {
    "duration": 13,
    "start_time": "2022-02-21T16:37:51.019Z"
   },
   {
    "duration": 5,
    "start_time": "2022-02-21T16:37:51.034Z"
   },
   {
    "duration": 8,
    "start_time": "2022-02-21T16:37:51.041Z"
   },
   {
    "duration": 8,
    "start_time": "2022-02-21T16:37:51.050Z"
   },
   {
    "duration": 8,
    "start_time": "2022-02-21T16:37:51.060Z"
   },
   {
    "duration": 50,
    "start_time": "2022-02-21T16:37:51.070Z"
   },
   {
    "duration": 13,
    "start_time": "2022-02-21T16:37:51.124Z"
   },
   {
    "duration": 8,
    "start_time": "2022-02-21T16:37:51.138Z"
   },
   {
    "duration": 10,
    "start_time": "2022-02-21T16:37:51.147Z"
   },
   {
    "duration": 11,
    "start_time": "2022-02-21T16:37:51.158Z"
   },
   {
    "duration": 9,
    "start_time": "2022-02-21T16:37:51.170Z"
   },
   {
    "duration": 55,
    "start_time": "2022-02-21T16:37:51.181Z"
   },
   {
    "duration": 8,
    "start_time": "2022-02-21T16:37:51.238Z"
   },
   {
    "duration": 8,
    "start_time": "2022-02-21T16:37:51.248Z"
   },
   {
    "duration": 17,
    "start_time": "2022-02-21T16:37:51.258Z"
   },
   {
    "duration": 59,
    "start_time": "2022-02-21T16:37:51.276Z"
   },
   {
    "duration": 11,
    "start_time": "2022-02-21T16:37:51.337Z"
   },
   {
    "duration": 13,
    "start_time": "2022-02-21T16:37:51.350Z"
   },
   {
    "duration": 80,
    "start_time": "2022-02-21T16:37:51.365Z"
   },
   {
    "duration": 2,
    "start_time": "2022-02-21T16:37:51.450Z"
   },
   {
    "duration": 6,
    "start_time": "2022-02-21T16:37:51.454Z"
   },
   {
    "duration": 629,
    "start_time": "2022-02-21T16:37:51.462Z"
   },
   {
    "duration": 10,
    "start_time": "2022-02-21T16:37:52.093Z"
   },
   {
    "duration": 22,
    "start_time": "2022-02-21T16:37:52.104Z"
   },
   {
    "duration": 10,
    "start_time": "2022-02-21T16:37:52.129Z"
   },
   {
    "duration": 5,
    "start_time": "2022-02-21T16:37:52.141Z"
   },
   {
    "duration": 5,
    "start_time": "2022-02-21T16:37:52.147Z"
   },
   {
    "duration": 5,
    "start_time": "2022-02-21T16:37:52.154Z"
   },
   {
    "duration": 4,
    "start_time": "2022-02-21T16:37:52.160Z"
   },
   {
    "duration": 58,
    "start_time": "2022-02-21T16:37:52.166Z"
   },
   {
    "duration": 11,
    "start_time": "2022-02-21T16:37:52.226Z"
   },
   {
    "duration": 18,
    "start_time": "2022-02-21T16:37:52.239Z"
   },
   {
    "duration": 6,
    "start_time": "2022-02-21T16:37:52.258Z"
   },
   {
    "duration": 239,
    "start_time": "2022-02-21T16:37:52.266Z"
   },
   {
    "duration": 3,
    "start_time": "2022-02-21T16:37:52.507Z"
   },
   {
    "duration": 34,
    "start_time": "2022-02-21T16:37:52.519Z"
   },
   {
    "duration": 9,
    "start_time": "2022-02-21T16:37:52.554Z"
   },
   {
    "duration": 6,
    "start_time": "2022-02-21T16:37:52.564Z"
   },
   {
    "duration": 240,
    "start_time": "2022-02-21T16:37:52.572Z"
   },
   {
    "duration": 205,
    "start_time": "2022-02-21T16:37:52.813Z"
   },
   {
    "duration": 429,
    "start_time": "2022-02-21T16:37:53.022Z"
   },
   {
    "duration": 18,
    "start_time": "2022-02-21T16:37:53.454Z"
   },
   {
    "duration": 79,
    "start_time": "2022-02-21T16:37:53.474Z"
   },
   {
    "duration": 11,
    "start_time": "2022-02-21T16:37:53.554Z"
   },
   {
    "duration": 192,
    "start_time": "2022-02-21T16:37:53.566Z"
   },
   {
    "duration": 228,
    "start_time": "2022-02-21T16:37:53.760Z"
   },
   {
    "duration": 216,
    "start_time": "2022-02-21T16:37:53.989Z"
   },
   {
    "duration": 23,
    "start_time": "2022-02-21T16:37:54.207Z"
   },
   {
    "duration": 175,
    "start_time": "2022-02-21T16:37:54.232Z"
   },
   {
    "duration": 204,
    "start_time": "2022-02-21T16:37:54.409Z"
   },
   {
    "duration": 227,
    "start_time": "2022-02-21T16:37:54.614Z"
   },
   {
    "duration": 10,
    "start_time": "2022-02-21T16:37:54.843Z"
   },
   {
    "duration": 196,
    "start_time": "2022-02-21T16:37:54.855Z"
   },
   {
    "duration": 227,
    "start_time": "2022-02-21T16:37:55.053Z"
   },
   {
    "duration": 217,
    "start_time": "2022-02-21T16:37:55.282Z"
   },
   {
    "duration": 4,
    "start_time": "2022-02-21T16:37:55.501Z"
   },
   {
    "duration": 14,
    "start_time": "2022-02-21T16:37:55.506Z"
   },
   {
    "duration": 11,
    "start_time": "2022-02-21T16:37:55.522Z"
   },
   {
    "duration": 3,
    "start_time": "2022-02-21T16:37:55.536Z"
   },
   {
    "duration": 4,
    "start_time": "2022-02-21T16:37:55.541Z"
   },
   {
    "duration": 6,
    "start_time": "2022-02-21T16:37:55.547Z"
   },
   {
    "duration": 5,
    "start_time": "2022-02-21T16:37:55.554Z"
   },
   {
    "duration": 78,
    "start_time": "2022-02-21T16:41:41.183Z"
   },
   {
    "duration": 4,
    "start_time": "2022-02-21T16:45:11.432Z"
   },
   {
    "duration": 7,
    "start_time": "2022-02-21T16:46:05.648Z"
   },
   {
    "duration": 5,
    "start_time": "2022-02-21T16:46:28.905Z"
   },
   {
    "duration": 5,
    "start_time": "2022-02-21T16:49:23.068Z"
   },
   {
    "duration": 5,
    "start_time": "2022-02-21T16:49:23.807Z"
   },
   {
    "duration": 4,
    "start_time": "2022-02-21T16:49:48.136Z"
   },
   {
    "duration": 6,
    "start_time": "2022-02-21T16:49:48.666Z"
   },
   {
    "duration": 5,
    "start_time": "2022-02-21T16:52:40.035Z"
   },
   {
    "duration": 2,
    "start_time": "2022-02-21T16:52:40.639Z"
   },
   {
    "duration": 5,
    "start_time": "2022-02-21T16:52:41.230Z"
   },
   {
    "duration": 3,
    "start_time": "2022-02-21T16:52:41.759Z"
   },
   {
    "duration": 3,
    "start_time": "2022-02-21T16:52:42.280Z"
   },
   {
    "duration": 6,
    "start_time": "2022-02-21T16:52:42.829Z"
   },
   {
    "duration": 4,
    "start_time": "2022-02-21T16:52:43.594Z"
   },
   {
    "duration": 69,
    "start_time": "2022-02-21T17:29:19.872Z"
   },
   {
    "duration": 6,
    "start_time": "2022-02-21T17:29:29.032Z"
   },
   {
    "duration": 5,
    "start_time": "2022-02-21T17:29:39.748Z"
   },
   {
    "duration": 303,
    "start_time": "2022-02-21T17:30:01.453Z"
   },
   {
    "duration": 6,
    "start_time": "2022-02-21T17:30:13.918Z"
   },
   {
    "duration": 189,
    "start_time": "2022-02-21T17:31:37.720Z"
   },
   {
    "duration": 30,
    "start_time": "2022-02-21T17:31:45.130Z"
   },
   {
    "duration": 184,
    "start_time": "2022-02-21T17:31:45.853Z"
   },
   {
    "duration": 5,
    "start_time": "2022-02-21T17:31:55.883Z"
   },
   {
    "duration": 5,
    "start_time": "2022-02-21T17:32:07.792Z"
   },
   {
    "duration": 6,
    "start_time": "2022-02-21T17:32:12.767Z"
   },
   {
    "duration": 21,
    "start_time": "2022-02-21T17:32:32.064Z"
   },
   {
    "duration": 5,
    "start_time": "2022-02-21T17:32:43.094Z"
   },
   {
    "duration": 2593,
    "start_time": "2022-02-21T17:37:15.108Z"
   },
   {
    "duration": 67,
    "start_time": "2022-02-21T17:37:30.073Z"
   },
   {
    "duration": 235,
    "start_time": "2022-02-21T17:37:43.562Z"
   },
   {
    "duration": 175,
    "start_time": "2022-02-21T17:37:57.670Z"
   },
   {
    "duration": 8,
    "start_time": "2022-02-21T17:40:36.134Z"
   },
   {
    "duration": 264,
    "start_time": "2022-02-21T17:41:42.393Z"
   },
   {
    "duration": 192,
    "start_time": "2022-02-21T17:42:22.653Z"
   },
   {
    "duration": 206,
    "start_time": "2022-02-21T17:43:35.540Z"
   },
   {
    "duration": 9,
    "start_time": "2022-02-21T17:43:40.235Z"
   },
   {
    "duration": 9,
    "start_time": "2022-02-21T17:44:42.535Z"
   },
   {
    "duration": 189,
    "start_time": "2022-02-21T17:44:48.024Z"
   },
   {
    "duration": 205,
    "start_time": "2022-02-21T17:45:55.172Z"
   },
   {
    "duration": 9,
    "start_time": "2022-02-21T17:45:57.557Z"
   },
   {
    "duration": 201,
    "start_time": "2022-02-21T17:45:58.434Z"
   },
   {
    "duration": 183,
    "start_time": "2022-02-21T17:50:09.385Z"
   },
   {
    "duration": 185,
    "start_time": "2022-02-21T17:50:11.435Z"
   },
   {
    "duration": 8,
    "start_time": "2022-02-21T17:50:13.165Z"
   },
   {
    "duration": 205,
    "start_time": "2022-02-21T17:50:14.398Z"
   },
   {
    "duration": 1115,
    "start_time": "2022-02-21T17:51:29.954Z"
   },
   {
    "duration": 344,
    "start_time": "2022-02-21T17:51:31.071Z"
   },
   {
    "duration": 10,
    "start_time": "2022-02-21T17:51:31.417Z"
   },
   {
    "duration": 30,
    "start_time": "2022-02-21T17:51:31.429Z"
   },
   {
    "duration": 19,
    "start_time": "2022-02-21T17:51:31.460Z"
   },
   {
    "duration": 44,
    "start_time": "2022-02-21T17:51:31.480Z"
   },
   {
    "duration": 26,
    "start_time": "2022-02-21T17:51:31.526Z"
   },
   {
    "duration": 4,
    "start_time": "2022-02-21T17:51:31.554Z"
   },
   {
    "duration": 5,
    "start_time": "2022-02-21T17:51:31.560Z"
   },
   {
    "duration": 7,
    "start_time": "2022-02-21T17:51:31.567Z"
   },
   {
    "duration": 15,
    "start_time": "2022-02-21T17:51:31.575Z"
   },
   {
    "duration": 34,
    "start_time": "2022-02-21T17:51:31.591Z"
   },
   {
    "duration": 31,
    "start_time": "2022-02-21T17:51:31.627Z"
   },
   {
    "duration": 16,
    "start_time": "2022-02-21T17:51:31.659Z"
   },
   {
    "duration": 18,
    "start_time": "2022-02-21T17:51:31.676Z"
   },
   {
    "duration": 36,
    "start_time": "2022-02-21T17:51:31.696Z"
   },
   {
    "duration": 8,
    "start_time": "2022-02-21T17:51:31.734Z"
   },
   {
    "duration": 15,
    "start_time": "2022-02-21T17:51:31.743Z"
   },
   {
    "duration": 6,
    "start_time": "2022-02-21T17:51:31.759Z"
   },
   {
    "duration": 14,
    "start_time": "2022-02-21T17:51:31.766Z"
   },
   {
    "duration": 40,
    "start_time": "2022-02-21T17:51:31.782Z"
   },
   {
    "duration": 13,
    "start_time": "2022-02-21T17:51:31.824Z"
   },
   {
    "duration": 15,
    "start_time": "2022-02-21T17:51:31.841Z"
   },
   {
    "duration": 6,
    "start_time": "2022-02-21T17:51:31.858Z"
   },
   {
    "duration": 9,
    "start_time": "2022-02-21T17:51:31.866Z"
   },
   {
    "duration": 7,
    "start_time": "2022-02-21T17:51:31.876Z"
   },
   {
    "duration": 55,
    "start_time": "2022-02-21T17:51:31.885Z"
   },
   {
    "duration": 5,
    "start_time": "2022-02-21T17:51:31.942Z"
   },
   {
    "duration": 6,
    "start_time": "2022-02-21T17:51:31.948Z"
   },
   {
    "duration": 18,
    "start_time": "2022-02-21T17:51:31.955Z"
   },
   {
    "duration": 15,
    "start_time": "2022-02-21T17:51:31.974Z"
   },
   {
    "duration": 5,
    "start_time": "2022-02-21T17:51:31.991Z"
   },
   {
    "duration": 23,
    "start_time": "2022-02-21T17:51:31.998Z"
   },
   {
    "duration": 5,
    "start_time": "2022-02-21T17:51:32.023Z"
   },
   {
    "duration": 12,
    "start_time": "2022-02-21T17:51:32.029Z"
   },
   {
    "duration": 6,
    "start_time": "2022-02-21T17:51:32.043Z"
   },
   {
    "duration": 24,
    "start_time": "2022-02-21T17:51:32.050Z"
   },
   {
    "duration": 7,
    "start_time": "2022-02-21T17:51:32.075Z"
   },
   {
    "duration": 55,
    "start_time": "2022-02-21T17:51:32.083Z"
   },
   {
    "duration": 6,
    "start_time": "2022-02-21T17:51:32.140Z"
   },
   {
    "duration": 16,
    "start_time": "2022-02-21T17:51:32.148Z"
   },
   {
    "duration": 8,
    "start_time": "2022-02-21T17:51:32.165Z"
   },
   {
    "duration": 13,
    "start_time": "2022-02-21T17:51:32.174Z"
   },
   {
    "duration": 32,
    "start_time": "2022-02-21T17:51:32.188Z"
   },
   {
    "duration": 20,
    "start_time": "2022-02-21T17:51:32.222Z"
   },
   {
    "duration": 9,
    "start_time": "2022-02-21T17:51:32.243Z"
   },
   {
    "duration": 18,
    "start_time": "2022-02-21T17:51:32.253Z"
   },
   {
    "duration": 7,
    "start_time": "2022-02-21T17:51:32.272Z"
   },
   {
    "duration": 11,
    "start_time": "2022-02-21T17:51:32.280Z"
   },
   {
    "duration": 29,
    "start_time": "2022-02-21T17:51:32.293Z"
   },
   {
    "duration": 6,
    "start_time": "2022-02-21T17:51:32.324Z"
   },
   {
    "duration": 6,
    "start_time": "2022-02-21T17:51:32.332Z"
   },
   {
    "duration": 9,
    "start_time": "2022-02-21T17:51:32.339Z"
   },
   {
    "duration": 8,
    "start_time": "2022-02-21T17:51:32.349Z"
   },
   {
    "duration": 7,
    "start_time": "2022-02-21T17:51:32.358Z"
   },
   {
    "duration": 7,
    "start_time": "2022-02-21T17:51:32.366Z"
   },
   {
    "duration": 9,
    "start_time": "2022-02-21T17:51:32.375Z"
   },
   {
    "duration": 11,
    "start_time": "2022-02-21T17:51:32.418Z"
   },
   {
    "duration": 8,
    "start_time": "2022-02-21T17:51:32.430Z"
   },
   {
    "duration": 13,
    "start_time": "2022-02-21T17:51:32.440Z"
   },
   {
    "duration": 7,
    "start_time": "2022-02-21T17:51:32.455Z"
   },
   {
    "duration": 8,
    "start_time": "2022-02-21T17:51:32.463Z"
   },
   {
    "duration": 48,
    "start_time": "2022-02-21T17:51:32.473Z"
   },
   {
    "duration": 16,
    "start_time": "2022-02-21T17:51:32.522Z"
   },
   {
    "duration": 7,
    "start_time": "2022-02-21T17:51:32.540Z"
   },
   {
    "duration": 13,
    "start_time": "2022-02-21T17:51:32.548Z"
   },
   {
    "duration": 70,
    "start_time": "2022-02-21T17:51:32.562Z"
   },
   {
    "duration": 2,
    "start_time": "2022-02-21T17:51:32.637Z"
   },
   {
    "duration": 3,
    "start_time": "2022-02-21T17:51:32.642Z"
   },
   {
    "duration": 535,
    "start_time": "2022-02-21T17:51:32.647Z"
   },
   {
    "duration": 10,
    "start_time": "2022-02-21T17:51:33.184Z"
   },
   {
    "duration": 6,
    "start_time": "2022-02-21T17:51:33.196Z"
   },
   {
    "duration": 8,
    "start_time": "2022-02-21T17:51:33.218Z"
   },
   {
    "duration": 4,
    "start_time": "2022-02-21T17:51:33.227Z"
   },
   {
    "duration": 3,
    "start_time": "2022-02-21T17:51:33.233Z"
   },
   {
    "duration": 4,
    "start_time": "2022-02-21T17:51:33.238Z"
   },
   {
    "duration": 9,
    "start_time": "2022-02-21T17:51:33.243Z"
   },
   {
    "duration": 11,
    "start_time": "2022-02-21T17:51:33.254Z"
   },
   {
    "duration": 8,
    "start_time": "2022-02-21T17:51:33.267Z"
   },
   {
    "duration": 44,
    "start_time": "2022-02-21T17:51:33.276Z"
   },
   {
    "duration": 4,
    "start_time": "2022-02-21T17:51:33.321Z"
   },
   {
    "duration": 206,
    "start_time": "2022-02-21T17:51:33.326Z"
   },
   {
    "duration": 4,
    "start_time": "2022-02-21T17:51:33.533Z"
   },
   {
    "duration": 30,
    "start_time": "2022-02-21T17:51:33.539Z"
   },
   {
    "duration": 6,
    "start_time": "2022-02-21T17:51:33.570Z"
   },
   {
    "duration": 302,
    "start_time": "2022-02-21T17:51:33.577Z"
   },
   {
    "duration": 214,
    "start_time": "2022-02-21T17:51:33.882Z"
   },
   {
    "duration": 191,
    "start_time": "2022-02-21T17:51:34.098Z"
   },
   {
    "duration": 9,
    "start_time": "2022-02-21T17:51:34.291Z"
   },
   {
    "duration": 282,
    "start_time": "2022-02-21T17:51:34.302Z"
   },
   {
    "duration": 11,
    "start_time": "2022-02-21T17:51:34.586Z"
   },
   {
    "duration": 216,
    "start_time": "2022-02-21T17:51:34.599Z"
   },
   {
    "duration": 188,
    "start_time": "2022-02-21T17:51:34.816Z"
   },
   {
    "duration": 16,
    "start_time": "2022-02-21T17:51:35.006Z"
   },
   {
    "duration": 203,
    "start_time": "2022-02-21T17:51:35.024Z"
   },
   {
    "duration": 55,
    "start_time": "2022-02-21T17:51:35.229Z"
   },
   {
    "duration": 34,
    "start_time": "2022-02-21T17:51:35.286Z"
   },
   {
    "duration": 164,
    "start_time": "2022-02-21T17:51:35.322Z"
   },
   {
    "duration": 228,
    "start_time": "2022-02-21T17:51:35.488Z"
   },
   {
    "duration": 223,
    "start_time": "2022-02-21T17:51:35.718Z"
   },
   {
    "duration": 10,
    "start_time": "2022-02-21T17:51:35.943Z"
   },
   {
    "duration": 211,
    "start_time": "2022-02-21T17:51:35.954Z"
   },
   {
    "duration": 13,
    "start_time": "2022-02-21T17:51:36.167Z"
   },
   {
    "duration": 177,
    "start_time": "2022-02-21T17:51:36.182Z"
   },
   {
    "duration": 206,
    "start_time": "2022-02-21T17:51:36.361Z"
   },
   {
    "duration": 216,
    "start_time": "2022-02-21T17:51:36.569Z"
   },
   {
    "duration": 9,
    "start_time": "2022-02-21T17:51:36.786Z"
   },
   {
    "duration": 278,
    "start_time": "2022-02-21T17:51:36.797Z"
   },
   {
    "duration": 12,
    "start_time": "2022-02-21T17:51:37.077Z"
   },
   {
    "duration": 184,
    "start_time": "2022-02-21T17:51:37.090Z"
   },
   {
    "duration": 218,
    "start_time": "2022-02-21T17:51:37.276Z"
   },
   {
    "duration": 218,
    "start_time": "2022-02-21T17:51:37.496Z"
   },
   {
    "duration": 9,
    "start_time": "2022-02-21T17:51:37.716Z"
   },
   {
    "duration": 205,
    "start_time": "2022-02-21T17:51:37.727Z"
   },
   {
    "duration": 5,
    "start_time": "2022-02-21T17:51:37.934Z"
   },
   {
    "duration": 7,
    "start_time": "2022-02-21T17:51:37.940Z"
   },
   {
    "duration": 6,
    "start_time": "2022-02-21T17:51:37.948Z"
   },
   {
    "duration": 4,
    "start_time": "2022-02-21T17:51:37.955Z"
   },
   {
    "duration": 4,
    "start_time": "2022-02-21T17:51:37.961Z"
   },
   {
    "duration": 5,
    "start_time": "2022-02-21T17:51:37.966Z"
   },
   {
    "duration": 6,
    "start_time": "2022-02-21T17:51:37.972Z"
   },
   {
    "duration": 8,
    "start_time": "2022-02-21T17:51:37.979Z"
   },
   {
    "duration": 32,
    "start_time": "2022-02-21T17:51:37.988Z"
   },
   {
    "duration": 6,
    "start_time": "2022-02-21T17:51:38.022Z"
   },
   {
    "duration": 4,
    "start_time": "2022-02-21T17:51:38.030Z"
   },
   {
    "duration": 4,
    "start_time": "2022-02-21T17:51:38.036Z"
   },
   {
    "duration": 5,
    "start_time": "2022-02-21T17:51:38.041Z"
   },
   {
    "duration": 3,
    "start_time": "2022-02-21T17:51:38.048Z"
   },
   {
    "duration": 4,
    "start_time": "2022-02-21T17:51:38.052Z"
   },
   {
    "duration": 5,
    "start_time": "2022-02-21T17:51:38.058Z"
   },
   {
    "duration": 6,
    "start_time": "2022-02-21T17:51:38.065Z"
   },
   {
    "duration": 51,
    "start_time": "2022-02-21T17:56:38.295Z"
   },
   {
    "duration": 1150,
    "start_time": "2022-02-21T18:04:50.926Z"
   },
   {
    "duration": 367,
    "start_time": "2022-02-21T18:04:52.078Z"
   },
   {
    "duration": 12,
    "start_time": "2022-02-21T18:04:52.447Z"
   },
   {
    "duration": 32,
    "start_time": "2022-02-21T18:04:52.460Z"
   },
   {
    "duration": 25,
    "start_time": "2022-02-21T18:04:52.494Z"
   },
   {
    "duration": 25,
    "start_time": "2022-02-21T18:04:52.520Z"
   },
   {
    "duration": 27,
    "start_time": "2022-02-21T18:04:52.547Z"
   },
   {
    "duration": 5,
    "start_time": "2022-02-21T18:04:52.576Z"
   },
   {
    "duration": 7,
    "start_time": "2022-02-21T18:04:52.585Z"
   },
   {
    "duration": 30,
    "start_time": "2022-02-21T18:04:52.595Z"
   },
   {
    "duration": 19,
    "start_time": "2022-02-21T18:04:52.627Z"
   },
   {
    "duration": 9,
    "start_time": "2022-02-21T18:04:52.648Z"
   },
   {
    "duration": 37,
    "start_time": "2022-02-21T18:04:52.658Z"
   },
   {
    "duration": 31,
    "start_time": "2022-02-21T18:04:52.697Z"
   },
   {
    "duration": 19,
    "start_time": "2022-02-21T18:04:52.730Z"
   },
   {
    "duration": 33,
    "start_time": "2022-02-21T18:04:52.751Z"
   },
   {
    "duration": 34,
    "start_time": "2022-02-21T18:04:52.786Z"
   },
   {
    "duration": 27,
    "start_time": "2022-02-21T18:04:52.822Z"
   },
   {
    "duration": 8,
    "start_time": "2022-02-21T18:04:52.851Z"
   },
   {
    "duration": 18,
    "start_time": "2022-02-21T18:04:52.860Z"
   },
   {
    "duration": 13,
    "start_time": "2022-02-21T18:04:52.880Z"
   },
   {
    "duration": 36,
    "start_time": "2022-02-21T18:04:52.895Z"
   },
   {
    "duration": 20,
    "start_time": "2022-02-21T18:04:52.932Z"
   },
   {
    "duration": 7,
    "start_time": "2022-02-21T18:04:52.954Z"
   },
   {
    "duration": 10,
    "start_time": "2022-02-21T18:04:52.963Z"
   },
   {
    "duration": 13,
    "start_time": "2022-02-21T18:04:52.975Z"
   },
   {
    "duration": 44,
    "start_time": "2022-02-21T18:04:52.993Z"
   },
   {
    "duration": 6,
    "start_time": "2022-02-21T18:04:53.040Z"
   },
   {
    "duration": 5,
    "start_time": "2022-02-21T18:04:53.047Z"
   },
   {
    "duration": 12,
    "start_time": "2022-02-21T18:04:53.053Z"
   },
   {
    "duration": 24,
    "start_time": "2022-02-21T18:04:53.067Z"
   },
   {
    "duration": 31,
    "start_time": "2022-02-21T18:04:53.092Z"
   },
   {
    "duration": 16,
    "start_time": "2022-02-21T18:04:53.125Z"
   },
   {
    "duration": 7,
    "start_time": "2022-02-21T18:04:53.143Z"
   },
   {
    "duration": 13,
    "start_time": "2022-02-21T18:04:53.151Z"
   },
   {
    "duration": 7,
    "start_time": "2022-02-21T18:04:53.166Z"
   },
   {
    "duration": 30,
    "start_time": "2022-02-21T18:04:53.175Z"
   },
   {
    "duration": 16,
    "start_time": "2022-02-21T18:04:53.206Z"
   },
   {
    "duration": 30,
    "start_time": "2022-02-21T18:04:53.224Z"
   },
   {
    "duration": 6,
    "start_time": "2022-02-21T18:04:53.256Z"
   },
   {
    "duration": 25,
    "start_time": "2022-02-21T18:04:53.264Z"
   },
   {
    "duration": 7,
    "start_time": "2022-02-21T18:04:53.291Z"
   },
   {
    "duration": 14,
    "start_time": "2022-02-21T18:04:53.319Z"
   },
   {
    "duration": 7,
    "start_time": "2022-02-21T18:04:53.335Z"
   },
   {
    "duration": 18,
    "start_time": "2022-02-21T18:04:53.343Z"
   },
   {
    "duration": 8,
    "start_time": "2022-02-21T18:04:53.363Z"
   },
   {
    "duration": 17,
    "start_time": "2022-02-21T18:04:53.372Z"
   },
   {
    "duration": 31,
    "start_time": "2022-02-21T18:04:53.390Z"
   },
   {
    "duration": 9,
    "start_time": "2022-02-21T18:04:53.422Z"
   },
   {
    "duration": 6,
    "start_time": "2022-02-21T18:04:53.433Z"
   },
   {
    "duration": 8,
    "start_time": "2022-02-21T18:04:53.441Z"
   },
   {
    "duration": 7,
    "start_time": "2022-02-21T18:04:53.451Z"
   },
   {
    "duration": 9,
    "start_time": "2022-02-21T18:04:53.459Z"
   },
   {
    "duration": 7,
    "start_time": "2022-02-21T18:04:53.470Z"
   },
   {
    "duration": 41,
    "start_time": "2022-02-21T18:04:53.478Z"
   },
   {
    "duration": 8,
    "start_time": "2022-02-21T18:04:53.520Z"
   },
   {
    "duration": 10,
    "start_time": "2022-02-21T18:04:53.530Z"
   },
   {
    "duration": 9,
    "start_time": "2022-02-21T18:04:53.542Z"
   },
   {
    "duration": 9,
    "start_time": "2022-02-21T18:04:53.553Z"
   },
   {
    "duration": 13,
    "start_time": "2022-02-21T18:04:53.563Z"
   },
   {
    "duration": 6,
    "start_time": "2022-02-21T18:04:53.578Z"
   },
   {
    "duration": 39,
    "start_time": "2022-02-21T18:04:53.586Z"
   },
   {
    "duration": 19,
    "start_time": "2022-02-21T18:04:53.627Z"
   },
   {
    "duration": 17,
    "start_time": "2022-02-21T18:04:53.648Z"
   },
   {
    "duration": 8,
    "start_time": "2022-02-21T18:04:53.667Z"
   },
   {
    "duration": 14,
    "start_time": "2022-02-21T18:04:53.676Z"
   },
   {
    "duration": 46,
    "start_time": "2022-02-21T18:04:53.719Z"
   },
   {
    "duration": 3,
    "start_time": "2022-02-21T18:04:53.767Z"
   },
   {
    "duration": 8,
    "start_time": "2022-02-21T18:04:53.771Z"
   },
   {
    "duration": 589,
    "start_time": "2022-02-21T18:04:53.781Z"
   },
   {
    "duration": 15,
    "start_time": "2022-02-21T18:04:54.375Z"
   },
   {
    "duration": 7,
    "start_time": "2022-02-21T18:04:54.392Z"
   },
   {
    "duration": 17,
    "start_time": "2022-02-21T18:04:54.401Z"
   },
   {
    "duration": 3,
    "start_time": "2022-02-21T18:04:54.420Z"
   },
   {
    "duration": 8,
    "start_time": "2022-02-21T18:04:54.424Z"
   },
   {
    "duration": 6,
    "start_time": "2022-02-21T18:04:54.434Z"
   },
   {
    "duration": 11,
    "start_time": "2022-02-21T18:04:54.441Z"
   },
   {
    "duration": 11,
    "start_time": "2022-02-21T18:04:54.453Z"
   },
   {
    "duration": 9,
    "start_time": "2022-02-21T18:04:54.465Z"
   },
   {
    "duration": 16,
    "start_time": "2022-02-21T18:04:54.476Z"
   },
   {
    "duration": 20,
    "start_time": "2022-02-21T18:04:54.499Z"
   },
   {
    "duration": 209,
    "start_time": "2022-02-21T18:04:54.522Z"
   },
   {
    "duration": 4,
    "start_time": "2022-02-21T18:04:54.733Z"
   },
   {
    "duration": 31,
    "start_time": "2022-02-21T18:04:54.738Z"
   },
   {
    "duration": 5,
    "start_time": "2022-02-21T18:04:54.770Z"
   },
   {
    "duration": 305,
    "start_time": "2022-02-21T18:04:54.777Z"
   },
   {
    "duration": 219,
    "start_time": "2022-02-21T18:04:55.084Z"
   },
   {
    "duration": 204,
    "start_time": "2022-02-21T18:04:55.304Z"
   },
   {
    "duration": 14,
    "start_time": "2022-02-21T18:04:55.510Z"
   },
   {
    "duration": 284,
    "start_time": "2022-02-21T18:04:55.526Z"
   },
   {
    "duration": 15,
    "start_time": "2022-02-21T18:04:55.812Z"
   },
   {
    "duration": 210,
    "start_time": "2022-02-21T18:04:55.829Z"
   },
   {
    "duration": 199,
    "start_time": "2022-02-21T18:04:56.041Z"
   },
   {
    "duration": 7,
    "start_time": "2022-02-21T18:04:56.242Z"
   },
   {
    "duration": 209,
    "start_time": "2022-02-21T18:04:56.250Z"
   },
   {
    "duration": 61,
    "start_time": "2022-02-21T18:04:56.461Z"
   },
   {
    "duration": 12,
    "start_time": "2022-02-21T18:04:56.524Z"
   },
   {
    "duration": 174,
    "start_time": "2022-02-21T18:04:56.537Z"
   },
   {
    "duration": 229,
    "start_time": "2022-02-21T18:04:56.713Z"
   },
   {
    "duration": 237,
    "start_time": "2022-02-21T18:04:56.944Z"
   },
   {
    "duration": 9,
    "start_time": "2022-02-21T18:04:57.183Z"
   },
   {
    "duration": 215,
    "start_time": "2022-02-21T18:04:57.194Z"
   },
   {
    "duration": 11,
    "start_time": "2022-02-21T18:04:57.419Z"
   },
   {
    "duration": 169,
    "start_time": "2022-02-21T18:04:57.432Z"
   },
   {
    "duration": 216,
    "start_time": "2022-02-21T18:04:57.603Z"
   },
   {
    "duration": 213,
    "start_time": "2022-02-21T18:04:57.821Z"
   },
   {
    "duration": 9,
    "start_time": "2022-02-21T18:04:58.036Z"
   },
   {
    "duration": 298,
    "start_time": "2022-02-21T18:04:58.047Z"
   },
   {
    "duration": 12,
    "start_time": "2022-02-21T18:04:58.347Z"
   },
   {
    "duration": 187,
    "start_time": "2022-02-21T18:04:58.361Z"
   },
   {
    "duration": 234,
    "start_time": "2022-02-21T18:04:58.550Z"
   },
   {
    "duration": 217,
    "start_time": "2022-02-21T18:04:58.785Z"
   },
   {
    "duration": 16,
    "start_time": "2022-02-21T18:04:59.004Z"
   },
   {
    "duration": 202,
    "start_time": "2022-02-21T18:04:59.022Z"
   },
   {
    "duration": 4,
    "start_time": "2022-02-21T18:04:59.226Z"
   },
   {
    "duration": 9,
    "start_time": "2022-02-21T18:04:59.232Z"
   },
   {
    "duration": 8,
    "start_time": "2022-02-21T18:04:59.243Z"
   },
   {
    "duration": 4,
    "start_time": "2022-02-21T18:04:59.253Z"
   },
   {
    "duration": 6,
    "start_time": "2022-02-21T18:04:59.259Z"
   },
   {
    "duration": 5,
    "start_time": "2022-02-21T18:04:59.267Z"
   },
   {
    "duration": 6,
    "start_time": "2022-02-21T18:04:59.273Z"
   },
   {
    "duration": 7,
    "start_time": "2022-02-21T18:04:59.280Z"
   },
   {
    "duration": 34,
    "start_time": "2022-02-21T18:04:59.289Z"
   },
   {
    "duration": 11,
    "start_time": "2022-02-21T18:04:59.325Z"
   },
   {
    "duration": 19,
    "start_time": "2022-02-21T18:04:59.338Z"
   },
   {
    "duration": 9,
    "start_time": "2022-02-21T18:04:59.359Z"
   },
   {
    "duration": 6,
    "start_time": "2022-02-21T18:04:59.370Z"
   },
   {
    "duration": 4,
    "start_time": "2022-02-21T18:04:59.378Z"
   },
   {
    "duration": 7,
    "start_time": "2022-02-21T18:04:59.384Z"
   },
   {
    "duration": 4,
    "start_time": "2022-02-21T18:04:59.393Z"
   },
   {
    "duration": 5,
    "start_time": "2022-02-21T18:04:59.399Z"
   },
   {
    "duration": 60,
    "start_time": "2022-02-21T18:04:59.405Z"
   },
   {
    "duration": 1141,
    "start_time": "2022-02-21T18:07:49.920Z"
   },
   {
    "duration": 359,
    "start_time": "2022-02-21T18:07:51.062Z"
   },
   {
    "duration": 11,
    "start_time": "2022-02-21T18:07:51.423Z"
   },
   {
    "duration": 33,
    "start_time": "2022-02-21T18:07:51.436Z"
   },
   {
    "duration": 21,
    "start_time": "2022-02-21T18:07:51.471Z"
   },
   {
    "duration": 41,
    "start_time": "2022-02-21T18:07:51.493Z"
   },
   {
    "duration": 26,
    "start_time": "2022-02-21T18:07:51.536Z"
   },
   {
    "duration": 5,
    "start_time": "2022-02-21T18:07:51.564Z"
   },
   {
    "duration": 10,
    "start_time": "2022-02-21T18:07:51.571Z"
   },
   {
    "duration": 10,
    "start_time": "2022-02-21T18:07:51.583Z"
   },
   {
    "duration": 40,
    "start_time": "2022-02-21T18:07:51.594Z"
   },
   {
    "duration": 9,
    "start_time": "2022-02-21T18:07:51.636Z"
   },
   {
    "duration": 31,
    "start_time": "2022-02-21T18:07:51.647Z"
   },
   {
    "duration": 42,
    "start_time": "2022-02-21T18:07:51.680Z"
   },
   {
    "duration": 17,
    "start_time": "2022-02-21T18:07:51.723Z"
   },
   {
    "duration": 22,
    "start_time": "2022-02-21T18:07:51.741Z"
   },
   {
    "duration": 9,
    "start_time": "2022-02-21T18:07:51.765Z"
   },
   {
    "duration": 16,
    "start_time": "2022-02-21T18:07:51.776Z"
   },
   {
    "duration": 32,
    "start_time": "2022-02-21T18:07:51.793Z"
   },
   {
    "duration": 12,
    "start_time": "2022-02-21T18:07:51.827Z"
   },
   {
    "duration": 14,
    "start_time": "2022-02-21T18:07:51.841Z"
   },
   {
    "duration": 13,
    "start_time": "2022-02-21T18:07:51.857Z"
   },
   {
    "duration": 46,
    "start_time": "2022-02-21T18:07:51.874Z"
   },
   {
    "duration": 8,
    "start_time": "2022-02-21T18:07:51.922Z"
   },
   {
    "duration": 9,
    "start_time": "2022-02-21T18:07:51.931Z"
   },
   {
    "duration": 7,
    "start_time": "2022-02-21T18:07:51.941Z"
   },
   {
    "duration": 31,
    "start_time": "2022-02-21T18:07:51.950Z"
   },
   {
    "duration": 6,
    "start_time": "2022-02-21T18:07:51.982Z"
   },
   {
    "duration": 31,
    "start_time": "2022-02-21T18:07:51.990Z"
   },
   {
    "duration": 11,
    "start_time": "2022-02-21T18:07:52.023Z"
   },
   {
    "duration": 15,
    "start_time": "2022-02-21T18:07:52.036Z"
   },
   {
    "duration": 7,
    "start_time": "2022-02-21T18:07:52.053Z"
   },
   {
    "duration": 4,
    "start_time": "2022-02-21T18:07:52.062Z"
   },
   {
    "duration": 6,
    "start_time": "2022-02-21T18:07:52.068Z"
   },
   {
    "duration": 51,
    "start_time": "2022-02-21T18:07:52.075Z"
   },
   {
    "duration": 8,
    "start_time": "2022-02-21T18:07:52.128Z"
   },
   {
    "duration": 25,
    "start_time": "2022-02-21T18:07:52.138Z"
   },
   {
    "duration": 9,
    "start_time": "2022-02-21T18:07:52.165Z"
   },
   {
    "duration": 58,
    "start_time": "2022-02-21T18:07:52.176Z"
   },
   {
    "duration": 9,
    "start_time": "2022-02-21T18:07:52.235Z"
   },
   {
    "duration": 17,
    "start_time": "2022-02-21T18:07:52.245Z"
   },
   {
    "duration": 8,
    "start_time": "2022-02-21T18:07:52.264Z"
   },
   {
    "duration": 16,
    "start_time": "2022-02-21T18:07:52.274Z"
   },
   {
    "duration": 34,
    "start_time": "2022-02-21T18:07:52.291Z"
   },
   {
    "duration": 18,
    "start_time": "2022-02-21T18:07:52.327Z"
   },
   {
    "duration": 10,
    "start_time": "2022-02-21T18:07:52.346Z"
   },
   {
    "duration": 18,
    "start_time": "2022-02-21T18:07:52.358Z"
   },
   {
    "duration": 42,
    "start_time": "2022-02-21T18:07:52.378Z"
   },
   {
    "duration": 8,
    "start_time": "2022-02-21T18:07:52.422Z"
   },
   {
    "duration": 7,
    "start_time": "2022-02-21T18:07:52.432Z"
   },
   {
    "duration": 7,
    "start_time": "2022-02-21T18:07:52.440Z"
   },
   {
    "duration": 6,
    "start_time": "2022-02-21T18:07:52.449Z"
   },
   {
    "duration": 12,
    "start_time": "2022-02-21T18:07:52.457Z"
   },
   {
    "duration": 6,
    "start_time": "2022-02-21T18:07:52.471Z"
   },
   {
    "duration": 45,
    "start_time": "2022-02-21T18:07:52.478Z"
   },
   {
    "duration": 9,
    "start_time": "2022-02-21T18:07:52.524Z"
   },
   {
    "duration": 9,
    "start_time": "2022-02-21T18:07:52.535Z"
   },
   {
    "duration": 10,
    "start_time": "2022-02-21T18:07:52.546Z"
   },
   {
    "duration": 8,
    "start_time": "2022-02-21T18:07:52.557Z"
   },
   {
    "duration": 14,
    "start_time": "2022-02-21T18:07:52.566Z"
   },
   {
    "duration": 45,
    "start_time": "2022-02-21T18:07:52.581Z"
   },
   {
    "duration": 8,
    "start_time": "2022-02-21T18:07:52.628Z"
   },
   {
    "duration": 17,
    "start_time": "2022-02-21T18:07:52.638Z"
   },
   {
    "duration": 16,
    "start_time": "2022-02-21T18:07:52.656Z"
   },
   {
    "duration": 9,
    "start_time": "2022-02-21T18:07:52.673Z"
   },
   {
    "duration": 47,
    "start_time": "2022-02-21T18:07:52.683Z"
   },
   {
    "duration": 46,
    "start_time": "2022-02-21T18:07:52.732Z"
   },
   {
    "duration": 3,
    "start_time": "2022-02-21T18:07:52.784Z"
   },
   {
    "duration": 5,
    "start_time": "2022-02-21T18:07:52.789Z"
   },
   {
    "duration": 567,
    "start_time": "2022-02-21T18:07:52.796Z"
   },
   {
    "duration": 10,
    "start_time": "2022-02-21T18:07:53.364Z"
   },
   {
    "duration": 7,
    "start_time": "2022-02-21T18:07:53.375Z"
   },
   {
    "duration": 9,
    "start_time": "2022-02-21T18:07:53.384Z"
   },
   {
    "duration": 4,
    "start_time": "2022-02-21T18:07:53.419Z"
   },
   {
    "duration": 7,
    "start_time": "2022-02-21T18:07:53.424Z"
   },
   {
    "duration": 7,
    "start_time": "2022-02-21T18:07:53.432Z"
   },
   {
    "duration": 4,
    "start_time": "2022-02-21T18:07:53.440Z"
   },
   {
    "duration": 8,
    "start_time": "2022-02-21T18:07:53.446Z"
   },
   {
    "duration": 6,
    "start_time": "2022-02-21T18:07:53.456Z"
   },
   {
    "duration": 15,
    "start_time": "2022-02-21T18:07:53.464Z"
   },
   {
    "duration": 4,
    "start_time": "2022-02-21T18:07:53.481Z"
   },
   {
    "duration": 237,
    "start_time": "2022-02-21T18:07:53.486Z"
   },
   {
    "duration": 4,
    "start_time": "2022-02-21T18:07:53.725Z"
   },
   {
    "duration": 34,
    "start_time": "2022-02-21T18:07:53.730Z"
   },
   {
    "duration": 5,
    "start_time": "2022-02-21T18:07:53.765Z"
   },
   {
    "duration": 310,
    "start_time": "2022-02-21T18:07:53.772Z"
   },
   {
    "duration": 198,
    "start_time": "2022-02-21T18:07:54.084Z"
   },
   {
    "duration": 187,
    "start_time": "2022-02-21T18:07:54.284Z"
   },
   {
    "duration": 8,
    "start_time": "2022-02-21T18:07:54.473Z"
   },
   {
    "duration": 273,
    "start_time": "2022-02-21T18:07:54.483Z"
   },
   {
    "duration": 11,
    "start_time": "2022-02-21T18:07:54.758Z"
   },
   {
    "duration": 215,
    "start_time": "2022-02-21T18:07:54.770Z"
   },
   {
    "duration": 186,
    "start_time": "2022-02-21T18:07:54.987Z"
   },
   {
    "duration": 7,
    "start_time": "2022-02-21T18:07:55.175Z"
   },
   {
    "duration": 207,
    "start_time": "2022-02-21T18:07:55.184Z"
   },
   {
    "duration": 59,
    "start_time": "2022-02-21T18:07:55.392Z"
   },
   {
    "duration": 10,
    "start_time": "2022-02-21T18:07:55.452Z"
   },
   {
    "duration": 177,
    "start_time": "2022-02-21T18:07:55.464Z"
   },
   {
    "duration": 208,
    "start_time": "2022-02-21T18:07:55.643Z"
   },
   {
    "duration": 212,
    "start_time": "2022-02-21T18:07:55.853Z"
   },
   {
    "duration": 8,
    "start_time": "2022-02-21T18:07:56.067Z"
   },
   {
    "duration": 204,
    "start_time": "2022-02-21T18:07:56.077Z"
   },
   {
    "duration": 11,
    "start_time": "2022-02-21T18:07:56.283Z"
   },
   {
    "duration": 170,
    "start_time": "2022-02-21T18:07:56.295Z"
   },
   {
    "duration": 202,
    "start_time": "2022-02-21T18:07:56.466Z"
   },
   {
    "duration": 214,
    "start_time": "2022-02-21T18:07:56.669Z"
   },
   {
    "duration": 8,
    "start_time": "2022-02-21T18:07:56.885Z"
   },
   {
    "duration": 280,
    "start_time": "2022-02-21T18:07:56.895Z"
   },
   {
    "duration": 12,
    "start_time": "2022-02-21T18:07:57.176Z"
   },
   {
    "duration": 180,
    "start_time": "2022-02-21T18:07:57.190Z"
   },
   {
    "duration": 206,
    "start_time": "2022-02-21T18:07:57.372Z"
   },
   {
    "duration": 196,
    "start_time": "2022-02-21T18:07:57.580Z"
   },
   {
    "duration": 8,
    "start_time": "2022-02-21T18:07:57.777Z"
   },
   {
    "duration": 207,
    "start_time": "2022-02-21T18:07:57.786Z"
   },
   {
    "duration": 4,
    "start_time": "2022-02-21T18:07:57.995Z"
   },
   {
    "duration": 20,
    "start_time": "2022-02-21T18:07:58.001Z"
   },
   {
    "duration": 8,
    "start_time": "2022-02-21T18:07:58.022Z"
   },
   {
    "duration": 18,
    "start_time": "2022-02-21T18:07:58.032Z"
   },
   {
    "duration": 22,
    "start_time": "2022-02-21T18:07:58.052Z"
   },
   {
    "duration": 12,
    "start_time": "2022-02-21T18:07:58.075Z"
   },
   {
    "duration": 14,
    "start_time": "2022-02-21T18:07:58.089Z"
   },
   {
    "duration": 19,
    "start_time": "2022-02-21T18:07:58.105Z"
   },
   {
    "duration": 34,
    "start_time": "2022-02-21T18:07:58.126Z"
   },
   {
    "duration": 22,
    "start_time": "2022-02-21T18:07:58.161Z"
   },
   {
    "duration": 19,
    "start_time": "2022-02-21T18:07:58.185Z"
   },
   {
    "duration": 9,
    "start_time": "2022-02-21T18:07:58.205Z"
   },
   {
    "duration": 26,
    "start_time": "2022-02-21T18:07:58.216Z"
   },
   {
    "duration": 17,
    "start_time": "2022-02-21T18:07:58.244Z"
   },
   {
    "duration": 5,
    "start_time": "2022-02-21T18:07:58.263Z"
   },
   {
    "duration": 20,
    "start_time": "2022-02-21T18:07:58.270Z"
   },
   {
    "duration": 12,
    "start_time": "2022-02-21T18:07:58.292Z"
   },
   {
    "duration": 1526,
    "start_time": "2022-03-03T17:44:53.734Z"
   },
   {
    "duration": 507,
    "start_time": "2022-03-03T17:44:55.263Z"
   },
   {
    "duration": 16,
    "start_time": "2022-03-03T17:44:55.773Z"
   },
   {
    "duration": 42,
    "start_time": "2022-03-03T17:44:55.792Z"
   },
   {
    "duration": 53,
    "start_time": "2022-03-03T17:44:55.836Z"
   },
   {
    "duration": 35,
    "start_time": "2022-03-03T17:44:55.891Z"
   },
   {
    "duration": 60,
    "start_time": "2022-03-03T17:44:55.928Z"
   },
   {
    "duration": 5,
    "start_time": "2022-03-03T17:44:55.991Z"
   },
   {
    "duration": 8,
    "start_time": "2022-03-03T17:44:56.000Z"
   },
   {
    "duration": 11,
    "start_time": "2022-03-03T17:44:56.011Z"
   },
   {
    "duration": 51,
    "start_time": "2022-03-03T17:44:56.024Z"
   },
   {
    "duration": 12,
    "start_time": "2022-03-03T17:44:56.077Z"
   },
   {
    "duration": 40,
    "start_time": "2022-03-03T17:44:56.091Z"
   },
   {
    "duration": 47,
    "start_time": "2022-03-03T17:44:56.134Z"
   },
   {
    "duration": 25,
    "start_time": "2022-03-03T17:44:56.184Z"
   },
   {
    "duration": 31,
    "start_time": "2022-03-03T17:44:56.211Z"
   },
   {
    "duration": 37,
    "start_time": "2022-03-03T17:44:56.245Z"
   },
   {
    "duration": 18,
    "start_time": "2022-03-03T17:44:56.284Z"
   },
   {
    "duration": 10,
    "start_time": "2022-03-03T17:44:56.305Z"
   },
   {
    "duration": 20,
    "start_time": "2022-03-03T17:44:56.318Z"
   },
   {
    "duration": 20,
    "start_time": "2022-03-03T17:44:56.374Z"
   },
   {
    "duration": 23,
    "start_time": "2022-03-03T17:44:56.397Z"
   },
   {
    "duration": 57,
    "start_time": "2022-03-03T17:44:56.423Z"
   },
   {
    "duration": 13,
    "start_time": "2022-03-03T17:44:56.483Z"
   },
   {
    "duration": 14,
    "start_time": "2022-03-03T17:44:56.499Z"
   },
   {
    "duration": 13,
    "start_time": "2022-03-03T17:44:56.516Z"
   },
   {
    "duration": 42,
    "start_time": "2022-03-03T17:44:56.575Z"
   },
   {
    "duration": 10,
    "start_time": "2022-03-03T17:44:56.621Z"
   },
   {
    "duration": 7,
    "start_time": "2022-03-03T17:44:56.633Z"
   },
   {
    "duration": 14,
    "start_time": "2022-03-03T17:44:56.674Z"
   },
   {
    "duration": 22,
    "start_time": "2022-03-03T17:44:56.691Z"
   },
   {
    "duration": 9,
    "start_time": "2022-03-03T17:44:56.715Z"
   },
   {
    "duration": 46,
    "start_time": "2022-03-03T17:44:56.727Z"
   },
   {
    "duration": 6,
    "start_time": "2022-03-03T17:44:56.776Z"
   },
   {
    "duration": 19,
    "start_time": "2022-03-03T17:44:56.785Z"
   },
   {
    "duration": 11,
    "start_time": "2022-03-03T17:44:56.806Z"
   },
   {
    "duration": 64,
    "start_time": "2022-03-03T17:44:56.819Z"
   },
   {
    "duration": 11,
    "start_time": "2022-03-03T17:44:56.886Z"
   },
   {
    "duration": 37,
    "start_time": "2022-03-03T17:44:56.900Z"
   },
   {
    "duration": 33,
    "start_time": "2022-03-03T17:44:56.940Z"
   },
   {
    "duration": 25,
    "start_time": "2022-03-03T17:44:56.976Z"
   },
   {
    "duration": 11,
    "start_time": "2022-03-03T17:44:57.004Z"
   },
   {
    "duration": 18,
    "start_time": "2022-03-03T17:44:57.018Z"
   },
   {
    "duration": 42,
    "start_time": "2022-03-03T17:44:57.038Z"
   },
   {
    "duration": 26,
    "start_time": "2022-03-03T17:44:57.083Z"
   },
   {
    "duration": 13,
    "start_time": "2022-03-03T17:44:57.111Z"
   },
   {
    "duration": 57,
    "start_time": "2022-03-03T17:44:57.126Z"
   },
   {
    "duration": 9,
    "start_time": "2022-03-03T17:44:57.186Z"
   },
   {
    "duration": 13,
    "start_time": "2022-03-03T17:44:57.197Z"
   },
   {
    "duration": 8,
    "start_time": "2022-03-03T17:44:57.213Z"
   },
   {
    "duration": 9,
    "start_time": "2022-03-03T17:44:57.223Z"
   },
   {
    "duration": 41,
    "start_time": "2022-03-03T17:44:57.234Z"
   },
   {
    "duration": 13,
    "start_time": "2022-03-03T17:44:57.278Z"
   },
   {
    "duration": 9,
    "start_time": "2022-03-03T17:44:57.293Z"
   },
   {
    "duration": 11,
    "start_time": "2022-03-03T17:44:57.305Z"
   },
   {
    "duration": 12,
    "start_time": "2022-03-03T17:44:57.318Z"
   },
   {
    "duration": 55,
    "start_time": "2022-03-03T17:44:57.332Z"
   },
   {
    "duration": 17,
    "start_time": "2022-03-03T17:44:57.389Z"
   },
   {
    "duration": 13,
    "start_time": "2022-03-03T17:44:57.408Z"
   },
   {
    "duration": 54,
    "start_time": "2022-03-03T17:44:57.423Z"
   },
   {
    "duration": 12,
    "start_time": "2022-03-03T17:44:57.480Z"
   },
   {
    "duration": 13,
    "start_time": "2022-03-03T17:44:57.494Z"
   },
   {
    "duration": 24,
    "start_time": "2022-03-03T17:44:57.509Z"
   },
   {
    "duration": 61,
    "start_time": "2022-03-03T17:44:57.535Z"
   },
   {
    "duration": 12,
    "start_time": "2022-03-03T17:44:57.598Z"
   },
   {
    "duration": 22,
    "start_time": "2022-03-03T17:44:57.612Z"
   },
   {
    "duration": 106,
    "start_time": "2022-03-03T17:44:57.636Z"
   },
   {
    "duration": 3,
    "start_time": "2022-03-03T17:44:57.744Z"
   },
   {
    "duration": 24,
    "start_time": "2022-03-03T17:44:57.749Z"
   },
   {
    "duration": 856,
    "start_time": "2022-03-03T17:44:57.776Z"
   },
   {
    "duration": 14,
    "start_time": "2022-03-03T17:44:58.635Z"
   },
   {
    "duration": 27,
    "start_time": "2022-03-03T17:44:58.651Z"
   },
   {
    "duration": 12,
    "start_time": "2022-03-03T17:44:58.681Z"
   },
   {
    "duration": 4,
    "start_time": "2022-03-03T17:44:58.696Z"
   },
   {
    "duration": 7,
    "start_time": "2022-03-03T17:44:58.702Z"
   },
   {
    "duration": 6,
    "start_time": "2022-03-03T17:44:58.712Z"
   },
   {
    "duration": 5,
    "start_time": "2022-03-03T17:44:58.721Z"
   },
   {
    "duration": 46,
    "start_time": "2022-03-03T17:44:58.729Z"
   },
   {
    "duration": 13,
    "start_time": "2022-03-03T17:44:58.778Z"
   },
   {
    "duration": 24,
    "start_time": "2022-03-03T17:44:58.793Z"
   },
   {
    "duration": 5,
    "start_time": "2022-03-03T17:44:58.827Z"
   },
   {
    "duration": 396,
    "start_time": "2022-03-03T17:44:58.835Z"
   },
   {
    "duration": 5,
    "start_time": "2022-03-03T17:44:59.234Z"
   },
   {
    "duration": 64,
    "start_time": "2022-03-03T17:44:59.241Z"
   },
   {
    "duration": 8,
    "start_time": "2022-03-03T17:44:59.307Z"
   },
   {
    "duration": 521,
    "start_time": "2022-03-03T17:44:59.317Z"
   },
   {
    "duration": 332,
    "start_time": "2022-03-03T17:44:59.841Z"
   },
   {
    "duration": 290,
    "start_time": "2022-03-03T17:45:00.175Z"
   },
   {
    "duration": 14,
    "start_time": "2022-03-03T17:45:00.468Z"
   },
   {
    "duration": 409,
    "start_time": "2022-03-03T17:45:00.484Z"
   },
   {
    "duration": 20,
    "start_time": "2022-03-03T17:45:00.896Z"
   },
   {
    "duration": 330,
    "start_time": "2022-03-03T17:45:00.918Z"
   },
   {
    "duration": 291,
    "start_time": "2022-03-03T17:45:01.251Z"
   },
   {
    "duration": 29,
    "start_time": "2022-03-03T17:45:01.544Z"
   },
   {
    "duration": 309,
    "start_time": "2022-03-03T17:45:01.576Z"
   },
   {
    "duration": 94,
    "start_time": "2022-03-03T17:45:01.888Z"
   },
   {
    "duration": 18,
    "start_time": "2022-03-03T17:45:01.985Z"
   },
   {
    "duration": 277,
    "start_time": "2022-03-03T17:45:02.005Z"
   },
   {
    "duration": 335,
    "start_time": "2022-03-03T17:45:02.285Z"
   },
   {
    "duration": 340,
    "start_time": "2022-03-03T17:45:02.623Z"
   },
   {
    "duration": 10,
    "start_time": "2022-03-03T17:45:02.974Z"
   },
   {
    "duration": 320,
    "start_time": "2022-03-03T17:45:02.987Z"
   },
   {
    "duration": 17,
    "start_time": "2022-03-03T17:45:03.310Z"
   },
   {
    "duration": 275,
    "start_time": "2022-03-03T17:45:03.329Z"
   },
   {
    "duration": 325,
    "start_time": "2022-03-03T17:45:03.607Z"
   },
   {
    "duration": 346,
    "start_time": "2022-03-03T17:45:03.935Z"
   },
   {
    "duration": 11,
    "start_time": "2022-03-03T17:45:04.284Z"
   },
   {
    "duration": 416,
    "start_time": "2022-03-03T17:45:04.297Z"
   },
   {
    "duration": 17,
    "start_time": "2022-03-03T17:45:04.716Z"
   },
   {
    "duration": 286,
    "start_time": "2022-03-03T17:45:04.736Z"
   },
   {
    "duration": 337,
    "start_time": "2022-03-03T17:45:05.024Z"
   },
   {
    "duration": 327,
    "start_time": "2022-03-03T17:45:05.363Z"
   },
   {
    "duration": 9,
    "start_time": "2022-03-03T17:45:05.693Z"
   },
   {
    "duration": 305,
    "start_time": "2022-03-03T17:45:05.705Z"
   },
   {
    "duration": 5,
    "start_time": "2022-03-03T17:45:06.013Z"
   },
   {
    "duration": 9,
    "start_time": "2022-03-03T17:45:06.021Z"
   },
   {
    "duration": 29,
    "start_time": "2022-03-03T17:45:06.033Z"
   },
   {
    "duration": 14,
    "start_time": "2022-03-03T17:45:06.064Z"
   },
   {
    "duration": 20,
    "start_time": "2022-03-03T17:45:06.080Z"
   },
   {
    "duration": 10,
    "start_time": "2022-03-03T17:45:06.102Z"
   },
   {
    "duration": 26,
    "start_time": "2022-03-03T17:45:06.115Z"
   },
   {
    "duration": 19,
    "start_time": "2022-03-03T17:45:06.143Z"
   },
   {
    "duration": 16,
    "start_time": "2022-03-03T17:45:06.165Z"
   },
   {
    "duration": 17,
    "start_time": "2022-03-03T17:45:06.183Z"
   },
   {
    "duration": 19,
    "start_time": "2022-03-03T17:45:06.203Z"
   },
   {
    "duration": 19,
    "start_time": "2022-03-03T17:45:06.225Z"
   },
   {
    "duration": 9,
    "start_time": "2022-03-03T17:45:06.247Z"
   },
   {
    "duration": 16,
    "start_time": "2022-03-03T17:45:06.258Z"
   },
   {
    "duration": 30,
    "start_time": "2022-03-03T17:45:06.276Z"
   },
   {
    "duration": 8,
    "start_time": "2022-03-03T17:45:06.308Z"
   },
   {
    "duration": 18,
    "start_time": "2022-03-03T17:45:06.319Z"
   },
   {
    "duration": 509,
    "start_time": "2022-03-03T17:55:51.140Z"
   },
   {
    "duration": 12,
    "start_time": "2022-03-03T17:55:52.082Z"
   },
   {
    "duration": 8,
    "start_time": "2022-03-03T17:56:02.483Z"
   },
   {
    "duration": 33,
    "start_time": "2022-03-03T17:56:38.046Z"
   },
   {
    "duration": 1525,
    "start_time": "2022-03-03T17:56:54.820Z"
   },
   {
    "duration": 505,
    "start_time": "2022-03-03T17:56:56.347Z"
   },
   {
    "duration": 15,
    "start_time": "2022-03-03T17:56:56.855Z"
   },
   {
    "duration": 44,
    "start_time": "2022-03-03T17:56:56.873Z"
   },
   {
    "duration": 26,
    "start_time": "2022-03-03T17:56:56.920Z"
   },
   {
    "duration": 55,
    "start_time": "2022-03-03T17:56:56.949Z"
   },
   {
    "duration": 39,
    "start_time": "2022-03-03T17:56:57.007Z"
   },
   {
    "duration": 24,
    "start_time": "2022-03-03T17:56:57.049Z"
   },
   {
    "duration": 7,
    "start_time": "2022-03-03T17:56:57.076Z"
   },
   {
    "duration": 11,
    "start_time": "2022-03-03T17:56:57.086Z"
   },
   {
    "duration": 25,
    "start_time": "2022-03-03T17:56:57.099Z"
   },
   {
    "duration": 49,
    "start_time": "2022-03-03T17:56:57.126Z"
   },
   {
    "duration": 42,
    "start_time": "2022-03-03T17:56:57.177Z"
   },
   {
    "duration": 23,
    "start_time": "2022-03-03T17:56:57.222Z"
   },
   {
    "duration": 44,
    "start_time": "2022-03-03T17:56:57.248Z"
   },
   {
    "duration": 31,
    "start_time": "2022-03-03T17:56:57.295Z"
   },
   {
    "duration": 12,
    "start_time": "2022-03-03T17:56:57.329Z"
   },
   {
    "duration": 41,
    "start_time": "2022-03-03T17:56:57.343Z"
   },
   {
    "duration": 10,
    "start_time": "2022-03-03T17:56:57.386Z"
   },
   {
    "duration": 18,
    "start_time": "2022-03-03T17:56:57.398Z"
   },
   {
    "duration": 19,
    "start_time": "2022-03-03T17:56:57.419Z"
   },
   {
    "duration": 20,
    "start_time": "2022-03-03T17:56:57.474Z"
   },
   {
    "duration": 23,
    "start_time": "2022-03-03T17:56:57.500Z"
   },
   {
    "duration": 10,
    "start_time": "2022-03-03T17:56:57.527Z"
   },
   {
    "duration": 41,
    "start_time": "2022-03-03T17:56:57.540Z"
   },
   {
    "duration": 11,
    "start_time": "2022-03-03T17:56:57.583Z"
   },
   {
    "duration": 42,
    "start_time": "2022-03-03T17:56:57.597Z"
   },
   {
    "duration": 39,
    "start_time": "2022-03-03T17:56:57.641Z"
   },
   {
    "duration": 8,
    "start_time": "2022-03-03T17:56:57.682Z"
   },
   {
    "duration": 17,
    "start_time": "2022-03-03T17:56:57.692Z"
   },
   {
    "duration": 21,
    "start_time": "2022-03-03T17:56:57.711Z"
   },
   {
    "duration": 41,
    "start_time": "2022-03-03T17:56:57.734Z"
   },
   {
    "duration": 8,
    "start_time": "2022-03-03T17:56:57.777Z"
   },
   {
    "duration": 8,
    "start_time": "2022-03-03T17:56:57.788Z"
   },
   {
    "duration": 19,
    "start_time": "2022-03-03T17:56:57.799Z"
   },
   {
    "duration": 12,
    "start_time": "2022-03-03T17:56:57.821Z"
   },
   {
    "duration": 70,
    "start_time": "2022-03-03T17:56:57.835Z"
   },
   {
    "duration": 13,
    "start_time": "2022-03-03T17:56:57.907Z"
   },
   {
    "duration": 85,
    "start_time": "2022-03-03T17:56:57.923Z"
   },
   {
    "duration": 11,
    "start_time": "2022-03-03T17:56:58.011Z"
   },
   {
    "duration": 22,
    "start_time": "2022-03-03T17:56:58.025Z"
   },
   {
    "duration": 29,
    "start_time": "2022-03-03T17:56:58.049Z"
   },
   {
    "duration": 21,
    "start_time": "2022-03-03T17:56:58.080Z"
   },
   {
    "duration": 9,
    "start_time": "2022-03-03T17:56:58.103Z"
   },
   {
    "duration": 29,
    "start_time": "2022-03-03T17:56:58.115Z"
   },
   {
    "duration": 13,
    "start_time": "2022-03-03T17:56:58.174Z"
   },
   {
    "duration": 26,
    "start_time": "2022-03-03T17:56:58.190Z"
   },
   {
    "duration": 9,
    "start_time": "2022-03-03T17:56:58.219Z"
   },
   {
    "duration": 41,
    "start_time": "2022-03-03T17:56:58.231Z"
   },
   {
    "duration": 8,
    "start_time": "2022-03-03T17:56:58.275Z"
   },
   {
    "duration": 14,
    "start_time": "2022-03-03T17:56:58.286Z"
   },
   {
    "duration": 9,
    "start_time": "2022-03-03T17:56:58.302Z"
   },
   {
    "duration": 18,
    "start_time": "2022-03-03T17:56:58.315Z"
   },
   {
    "duration": 43,
    "start_time": "2022-03-03T17:56:58.335Z"
   },
   {
    "duration": 13,
    "start_time": "2022-03-03T17:56:58.381Z"
   },
   {
    "duration": 14,
    "start_time": "2022-03-03T17:56:58.397Z"
   },
   {
    "duration": 15,
    "start_time": "2022-03-03T17:56:58.414Z"
   },
   {
    "duration": 55,
    "start_time": "2022-03-03T17:56:58.432Z"
   },
   {
    "duration": 15,
    "start_time": "2022-03-03T17:56:58.490Z"
   },
   {
    "duration": 23,
    "start_time": "2022-03-03T17:56:58.507Z"
   },
   {
    "duration": 51,
    "start_time": "2022-03-03T17:56:58.533Z"
   },
   {
    "duration": 14,
    "start_time": "2022-03-03T17:56:58.587Z"
   },
   {
    "duration": 27,
    "start_time": "2022-03-03T17:56:58.603Z"
   },
   {
    "duration": 64,
    "start_time": "2022-03-03T17:56:58.633Z"
   },
   {
    "duration": 15,
    "start_time": "2022-03-03T17:56:58.700Z"
   },
   {
    "duration": 23,
    "start_time": "2022-03-03T17:56:58.717Z"
   },
   {
    "duration": 72,
    "start_time": "2022-03-03T17:56:58.774Z"
   },
   {
    "duration": 3,
    "start_time": "2022-03-03T17:56:58.877Z"
   },
   {
    "duration": 8,
    "start_time": "2022-03-03T17:56:58.884Z"
   },
   {
    "duration": 822,
    "start_time": "2022-03-03T17:56:58.894Z"
   },
   {
    "duration": 17,
    "start_time": "2022-03-03T17:56:59.719Z"
   },
   {
    "duration": 9,
    "start_time": "2022-03-03T17:56:59.739Z"
   },
   {
    "duration": 11,
    "start_time": "2022-03-03T17:56:59.774Z"
   },
   {
    "duration": 11,
    "start_time": "2022-03-03T17:56:59.787Z"
   },
   {
    "duration": 11,
    "start_time": "2022-03-03T17:56:59.800Z"
   },
   {
    "duration": 18,
    "start_time": "2022-03-03T17:56:59.813Z"
   },
   {
    "duration": 12,
    "start_time": "2022-03-03T17:56:59.833Z"
   },
   {
    "duration": 28,
    "start_time": "2022-03-03T17:56:59.848Z"
   },
   {
    "duration": 14,
    "start_time": "2022-03-03T17:56:59.878Z"
   },
   {
    "duration": 25,
    "start_time": "2022-03-03T17:56:59.894Z"
   },
   {
    "duration": 9,
    "start_time": "2022-03-03T17:56:59.922Z"
   },
   {
    "duration": 381,
    "start_time": "2022-03-03T17:56:59.934Z"
   },
   {
    "duration": 5,
    "start_time": "2022-03-03T17:57:00.317Z"
   },
   {
    "duration": 57,
    "start_time": "2022-03-03T17:57:00.325Z"
   },
   {
    "duration": 10,
    "start_time": "2022-03-03T17:57:00.385Z"
   },
   {
    "duration": 519,
    "start_time": "2022-03-03T17:57:00.397Z"
   },
   {
    "duration": 326,
    "start_time": "2022-03-03T17:57:00.919Z"
   },
   {
    "duration": 300,
    "start_time": "2022-03-03T17:57:01.247Z"
   },
   {
    "duration": 29,
    "start_time": "2022-03-03T17:57:01.550Z"
   },
   {
    "duration": 398,
    "start_time": "2022-03-03T17:57:01.583Z"
   },
   {
    "duration": 18,
    "start_time": "2022-03-03T17:57:01.984Z"
   },
   {
    "duration": 338,
    "start_time": "2022-03-03T17:57:02.005Z"
   },
   {
    "duration": 294,
    "start_time": "2022-03-03T17:57:02.345Z"
   },
   {
    "duration": 11,
    "start_time": "2022-03-03T17:57:02.642Z"
   },
   {
    "duration": 320,
    "start_time": "2022-03-03T17:57:02.656Z"
   },
   {
    "duration": 100,
    "start_time": "2022-03-03T17:57:02.979Z"
   },
   {
    "duration": 17,
    "start_time": "2022-03-03T17:57:03.081Z"
   },
   {
    "duration": 276,
    "start_time": "2022-03-03T17:57:03.100Z"
   },
   {
    "duration": 344,
    "start_time": "2022-03-03T17:57:03.378Z"
   },
   {
    "duration": 361,
    "start_time": "2022-03-03T17:57:03.725Z"
   },
   {
    "duration": 12,
    "start_time": "2022-03-03T17:57:04.089Z"
   },
   {
    "duration": 335,
    "start_time": "2022-03-03T17:57:04.104Z"
   },
   {
    "duration": 33,
    "start_time": "2022-03-03T17:57:04.442Z"
   },
   {
    "duration": 267,
    "start_time": "2022-03-03T17:57:04.477Z"
   },
   {
    "duration": 330,
    "start_time": "2022-03-03T17:57:04.746Z"
   },
   {
    "duration": 342,
    "start_time": "2022-03-03T17:57:05.079Z"
   },
   {
    "duration": 12,
    "start_time": "2022-03-03T17:57:05.424Z"
   },
   {
    "duration": 451,
    "start_time": "2022-03-03T17:57:05.438Z"
   },
   {
    "duration": 18,
    "start_time": "2022-03-03T17:57:05.891Z"
   },
   {
    "duration": 292,
    "start_time": "2022-03-03T17:57:05.912Z"
   },
   {
    "duration": 368,
    "start_time": "2022-03-03T17:57:06.206Z"
   },
   {
    "duration": 337,
    "start_time": "2022-03-03T17:57:06.577Z"
   },
   {
    "duration": 11,
    "start_time": "2022-03-03T17:57:06.916Z"
   },
   {
    "duration": 337,
    "start_time": "2022-03-03T17:57:06.930Z"
   },
   {
    "duration": 7,
    "start_time": "2022-03-03T17:57:07.273Z"
   },
   {
    "duration": 8,
    "start_time": "2022-03-03T17:57:07.282Z"
   },
   {
    "duration": 11,
    "start_time": "2022-03-03T17:57:07.293Z"
   },
   {
    "duration": 9,
    "start_time": "2022-03-03T17:57:07.307Z"
   },
   {
    "duration": 7,
    "start_time": "2022-03-03T17:57:07.319Z"
   },
   {
    "duration": 8,
    "start_time": "2022-03-03T17:57:07.328Z"
   },
   {
    "duration": 42,
    "start_time": "2022-03-03T17:57:07.338Z"
   },
   {
    "duration": 8,
    "start_time": "2022-03-03T17:57:07.383Z"
   },
   {
    "duration": 14,
    "start_time": "2022-03-03T17:57:07.394Z"
   },
   {
    "duration": 9,
    "start_time": "2022-03-03T17:57:07.412Z"
   },
   {
    "duration": 9,
    "start_time": "2022-03-03T17:57:07.423Z"
   },
   {
    "duration": 41,
    "start_time": "2022-03-03T17:57:07.434Z"
   },
   {
    "duration": 12,
    "start_time": "2022-03-03T17:57:07.477Z"
   },
   {
    "duration": 5,
    "start_time": "2022-03-03T17:57:07.491Z"
   },
   {
    "duration": 7,
    "start_time": "2022-03-03T17:57:07.498Z"
   },
   {
    "duration": 9,
    "start_time": "2022-03-03T17:57:07.507Z"
   },
   {
    "duration": 9,
    "start_time": "2022-03-03T17:57:07.518Z"
   },
   {
    "duration": 6,
    "start_time": "2022-03-03T18:03:41.950Z"
   },
   {
    "duration": 6,
    "start_time": "2022-03-03T18:29:56.620Z"
   },
   {
    "duration": 6,
    "start_time": "2022-03-03T18:30:02.340Z"
   },
   {
    "duration": 6,
    "start_time": "2022-03-03T18:31:08.261Z"
   },
   {
    "duration": 5,
    "start_time": "2022-03-03T18:31:11.925Z"
   },
   {
    "duration": 390,
    "start_time": "2022-03-03T18:37:44.717Z"
   },
   {
    "duration": 7,
    "start_time": "2022-03-03T18:37:52.227Z"
   },
   {
    "duration": 6,
    "start_time": "2022-03-03T18:38:25.772Z"
   },
   {
    "duration": 6,
    "start_time": "2022-03-03T18:38:32.004Z"
   },
   {
    "duration": 6,
    "start_time": "2022-03-03T18:38:44.237Z"
   },
   {
    "duration": 6,
    "start_time": "2022-03-03T18:38:47.453Z"
   },
   {
    "duration": 5,
    "start_time": "2022-03-03T18:38:51.693Z"
   },
   {
    "duration": 6,
    "start_time": "2022-03-03T18:39:00.837Z"
   },
   {
    "duration": 7,
    "start_time": "2022-03-03T18:56:36.304Z"
   },
   {
    "duration": 46,
    "start_time": "2022-03-03T18:56:42.841Z"
   },
   {
    "duration": 1031,
    "start_time": "2022-03-04T08:12:27.492Z"
   },
   {
    "duration": 354,
    "start_time": "2022-03-04T08:12:28.525Z"
   },
   {
    "duration": 12,
    "start_time": "2022-03-04T08:12:28.881Z"
   },
   {
    "duration": 30,
    "start_time": "2022-03-04T08:12:28.894Z"
   },
   {
    "duration": 19,
    "start_time": "2022-03-04T08:12:28.925Z"
   },
   {
    "duration": 25,
    "start_time": "2022-03-04T08:12:28.946Z"
   },
   {
    "duration": 25,
    "start_time": "2022-03-04T08:12:28.973Z"
   },
   {
    "duration": 4,
    "start_time": "2022-03-04T08:12:29.001Z"
   },
   {
    "duration": 28,
    "start_time": "2022-03-04T08:12:29.007Z"
   },
   {
    "duration": 7,
    "start_time": "2022-03-04T08:12:29.036Z"
   },
   {
    "duration": 17,
    "start_time": "2022-03-04T08:12:29.045Z"
   },
   {
    "duration": 7,
    "start_time": "2022-03-04T08:12:29.063Z"
   },
   {
    "duration": 31,
    "start_time": "2022-03-04T08:12:29.072Z"
   },
   {
    "duration": 37,
    "start_time": "2022-03-04T08:12:29.104Z"
   },
   {
    "duration": 15,
    "start_time": "2022-03-04T08:12:29.142Z"
   },
   {
    "duration": 19,
    "start_time": "2022-03-04T08:12:29.159Z"
   },
   {
    "duration": 9,
    "start_time": "2022-03-04T08:12:29.179Z"
   },
   {
    "duration": 12,
    "start_time": "2022-03-04T08:12:29.189Z"
   },
   {
    "duration": 32,
    "start_time": "2022-03-04T08:12:29.203Z"
   },
   {
    "duration": 16,
    "start_time": "2022-03-04T08:12:29.236Z"
   },
   {
    "duration": 15,
    "start_time": "2022-03-04T08:12:29.254Z"
   },
   {
    "duration": 19,
    "start_time": "2022-03-04T08:12:29.270Z"
   },
   {
    "duration": 40,
    "start_time": "2022-03-04T08:12:29.293Z"
   },
   {
    "duration": 7,
    "start_time": "2022-03-04T08:12:29.336Z"
   },
   {
    "duration": 12,
    "start_time": "2022-03-04T08:12:29.345Z"
   },
   {
    "duration": 8,
    "start_time": "2022-03-04T08:12:29.358Z"
   },
   {
    "duration": 27,
    "start_time": "2022-03-04T08:12:29.368Z"
   },
   {
    "duration": 6,
    "start_time": "2022-03-04T08:12:29.396Z"
   },
   {
    "duration": 34,
    "start_time": "2022-03-04T08:12:29.404Z"
   },
   {
    "duration": 18,
    "start_time": "2022-03-04T08:12:29.439Z"
   },
   {
    "duration": 17,
    "start_time": "2022-03-04T08:12:29.459Z"
   },
   {
    "duration": 8,
    "start_time": "2022-03-04T08:12:29.478Z"
   },
   {
    "duration": 12,
    "start_time": "2022-03-04T08:12:29.488Z"
   },
   {
    "duration": 6,
    "start_time": "2022-03-04T08:12:29.502Z"
   },
   {
    "duration": 14,
    "start_time": "2022-03-04T08:12:29.509Z"
   },
   {
    "duration": 15,
    "start_time": "2022-03-04T08:12:29.524Z"
   },
   {
    "duration": 25,
    "start_time": "2022-03-04T08:12:29.541Z"
   },
   {
    "duration": 7,
    "start_time": "2022-03-04T08:12:29.568Z"
   },
   {
    "duration": 33,
    "start_time": "2022-03-04T08:12:29.576Z"
   },
   {
    "duration": 6,
    "start_time": "2022-03-04T08:12:29.611Z"
   },
   {
    "duration": 25,
    "start_time": "2022-03-04T08:12:29.618Z"
   },
   {
    "duration": 7,
    "start_time": "2022-03-04T08:12:29.644Z"
   },
   {
    "duration": 15,
    "start_time": "2022-03-04T08:12:29.653Z"
   },
   {
    "duration": 6,
    "start_time": "2022-03-04T08:12:29.669Z"
   },
   {
    "duration": 18,
    "start_time": "2022-03-04T08:12:29.676Z"
   },
   {
    "duration": 8,
    "start_time": "2022-03-04T08:12:29.696Z"
   },
   {
    "duration": 17,
    "start_time": "2022-03-04T08:12:29.733Z"
   },
   {
    "duration": 6,
    "start_time": "2022-03-04T08:12:29.752Z"
   },
   {
    "duration": 8,
    "start_time": "2022-03-04T08:12:29.759Z"
   },
   {
    "duration": 10,
    "start_time": "2022-03-04T08:12:29.769Z"
   },
   {
    "duration": 11,
    "start_time": "2022-03-04T08:12:29.780Z"
   },
   {
    "duration": 6,
    "start_time": "2022-03-04T08:12:29.793Z"
   },
   {
    "duration": 33,
    "start_time": "2022-03-04T08:12:29.801Z"
   },
   {
    "duration": 7,
    "start_time": "2022-03-04T08:12:29.835Z"
   },
   {
    "duration": 9,
    "start_time": "2022-03-04T08:12:29.843Z"
   },
   {
    "duration": 7,
    "start_time": "2022-03-04T08:12:29.853Z"
   },
   {
    "duration": 8,
    "start_time": "2022-03-04T08:12:29.862Z"
   },
   {
    "duration": 10,
    "start_time": "2022-03-04T08:12:29.871Z"
   },
   {
    "duration": 12,
    "start_time": "2022-03-04T08:12:29.883Z"
   },
   {
    "duration": 47,
    "start_time": "2022-03-04T08:12:29.896Z"
   },
   {
    "duration": 9,
    "start_time": "2022-03-04T08:12:29.945Z"
   },
   {
    "duration": 9,
    "start_time": "2022-03-04T08:12:29.956Z"
   },
   {
    "duration": 16,
    "start_time": "2022-03-04T08:12:29.967Z"
   },
   {
    "duration": 15,
    "start_time": "2022-03-04T08:12:29.985Z"
   },
   {
    "duration": 38,
    "start_time": "2022-03-04T08:12:30.002Z"
   },
   {
    "duration": 13,
    "start_time": "2022-03-04T08:12:30.042Z"
   },
   {
    "duration": 46,
    "start_time": "2022-03-04T08:12:30.057Z"
   },
   {
    "duration": 3,
    "start_time": "2022-03-04T08:12:30.133Z"
   },
   {
    "duration": 16,
    "start_time": "2022-03-04T08:12:30.138Z"
   },
   {
    "duration": 485,
    "start_time": "2022-03-04T08:12:30.156Z"
   },
   {
    "duration": 9,
    "start_time": "2022-03-04T08:12:30.643Z"
   },
   {
    "duration": 10,
    "start_time": "2022-03-04T08:12:30.654Z"
   },
   {
    "duration": 10,
    "start_time": "2022-03-04T08:12:30.666Z"
   },
   {
    "duration": 5,
    "start_time": "2022-03-04T08:12:30.678Z"
   },
   {
    "duration": 17,
    "start_time": "2022-03-04T08:12:30.684Z"
   },
   {
    "duration": 7,
    "start_time": "2022-03-04T08:12:30.703Z"
   },
   {
    "duration": 20,
    "start_time": "2022-03-04T08:12:30.711Z"
   },
   {
    "duration": 9,
    "start_time": "2022-03-04T08:12:30.733Z"
   },
   {
    "duration": 10,
    "start_time": "2022-03-04T08:12:30.744Z"
   },
   {
    "duration": 21,
    "start_time": "2022-03-04T08:12:30.756Z"
   },
   {
    "duration": 16,
    "start_time": "2022-03-04T08:12:30.779Z"
   },
   {
    "duration": 221,
    "start_time": "2022-03-04T08:12:30.797Z"
   },
   {
    "duration": 3,
    "start_time": "2022-03-04T08:12:31.021Z"
   },
   {
    "duration": 49,
    "start_time": "2022-03-04T08:12:31.026Z"
   },
   {
    "duration": 5,
    "start_time": "2022-03-04T08:12:31.077Z"
   },
   {
    "duration": 314,
    "start_time": "2022-03-04T08:12:31.084Z"
   },
   {
    "duration": 190,
    "start_time": "2022-03-04T08:12:31.400Z"
   },
   {
    "duration": 176,
    "start_time": "2022-03-04T08:12:31.591Z"
   },
   {
    "duration": 8,
    "start_time": "2022-03-04T08:12:31.769Z"
   },
   {
    "duration": 263,
    "start_time": "2022-03-04T08:12:31.778Z"
   },
   {
    "duration": 12,
    "start_time": "2022-03-04T08:12:32.043Z"
   },
   {
    "duration": 188,
    "start_time": "2022-03-04T08:12:32.057Z"
   },
   {
    "duration": 166,
    "start_time": "2022-03-04T08:12:32.246Z"
   },
   {
    "duration": 8,
    "start_time": "2022-03-04T08:12:32.413Z"
   },
   {
    "duration": 180,
    "start_time": "2022-03-04T08:12:32.422Z"
   },
   {
    "duration": 63,
    "start_time": "2022-03-04T08:12:32.604Z"
   },
   {
    "duration": 11,
    "start_time": "2022-03-04T08:12:32.669Z"
   },
   {
    "duration": 164,
    "start_time": "2022-03-04T08:12:32.682Z"
   },
   {
    "duration": 194,
    "start_time": "2022-03-04T08:12:32.848Z"
   },
   {
    "duration": 202,
    "start_time": "2022-03-04T08:12:33.044Z"
   },
   {
    "duration": 8,
    "start_time": "2022-03-04T08:12:33.247Z"
   },
   {
    "duration": 189,
    "start_time": "2022-03-04T08:12:33.256Z"
   },
   {
    "duration": 11,
    "start_time": "2022-03-04T08:12:33.447Z"
   },
   {
    "duration": 157,
    "start_time": "2022-03-04T08:12:33.459Z"
   },
   {
    "duration": 184,
    "start_time": "2022-03-04T08:12:33.618Z"
   },
   {
    "duration": 192,
    "start_time": "2022-03-04T08:12:33.804Z"
   },
   {
    "duration": 9,
    "start_time": "2022-03-04T08:12:33.998Z"
   },
   {
    "duration": 255,
    "start_time": "2022-03-04T08:12:34.009Z"
   },
   {
    "duration": 12,
    "start_time": "2022-03-04T08:12:34.266Z"
   },
   {
    "duration": 171,
    "start_time": "2022-03-04T08:12:34.280Z"
   },
   {
    "duration": 192,
    "start_time": "2022-03-04T08:12:34.453Z"
   },
   {
    "duration": 188,
    "start_time": "2022-03-04T08:12:34.647Z"
   },
   {
    "duration": 7,
    "start_time": "2022-03-04T08:12:34.837Z"
   },
   {
    "duration": 179,
    "start_time": "2022-03-04T08:12:34.845Z"
   },
   {
    "duration": 9,
    "start_time": "2022-03-04T08:12:35.026Z"
   },
   {
    "duration": 5,
    "start_time": "2022-03-04T08:12:35.036Z"
   },
   {
    "duration": 6,
    "start_time": "2022-03-04T08:12:35.043Z"
   },
   {
    "duration": 3,
    "start_time": "2022-03-04T08:12:35.051Z"
   },
   {
    "duration": 4,
    "start_time": "2022-03-04T08:12:35.056Z"
   },
   {
    "duration": 6,
    "start_time": "2022-03-04T08:12:35.061Z"
   },
   {
    "duration": 5,
    "start_time": "2022-03-04T08:12:35.069Z"
   },
   {
    "duration": 8,
    "start_time": "2022-03-04T08:12:35.075Z"
   },
   {
    "duration": 8,
    "start_time": "2022-03-04T08:12:35.084Z"
   },
   {
    "duration": 7,
    "start_time": "2022-03-04T08:12:35.093Z"
   },
   {
    "duration": 33,
    "start_time": "2022-03-04T08:12:35.101Z"
   },
   {
    "duration": 3,
    "start_time": "2022-03-04T08:12:35.135Z"
   },
   {
    "duration": 8,
    "start_time": "2022-03-04T08:12:35.139Z"
   },
   {
    "duration": 5,
    "start_time": "2022-03-04T08:12:35.149Z"
   },
   {
    "duration": 10,
    "start_time": "2022-03-04T08:12:35.155Z"
   },
   {
    "duration": 6,
    "start_time": "2022-03-04T08:12:35.166Z"
   },
   {
    "duration": 4,
    "start_time": "2022-03-04T08:12:35.173Z"
   },
   {
    "duration": 7,
    "start_time": "2022-03-04T08:24:18.599Z"
   },
   {
    "duration": 5,
    "start_time": "2022-03-04T08:24:19.863Z"
   },
   {
    "duration": 8,
    "start_time": "2022-03-04T08:24:21.528Z"
   },
   {
    "duration": 8,
    "start_time": "2022-03-04T08:24:32.934Z"
   },
   {
    "duration": 9,
    "start_time": "2022-03-04T08:43:50.169Z"
   },
   {
    "duration": 9,
    "start_time": "2022-03-04T08:43:57.070Z"
   },
   {
    "duration": 9,
    "start_time": "2022-03-04T08:44:01.760Z"
   },
   {
    "duration": 8,
    "start_time": "2022-03-04T08:44:14.320Z"
   },
   {
    "duration": 8,
    "start_time": "2022-03-04T08:44:15.687Z"
   },
   {
    "duration": 1010,
    "start_time": "2022-03-04T08:44:23.388Z"
   },
   {
    "duration": 404,
    "start_time": "2022-03-04T08:44:24.400Z"
   },
   {
    "duration": 11,
    "start_time": "2022-03-04T08:44:24.806Z"
   },
   {
    "duration": 32,
    "start_time": "2022-03-04T08:44:24.819Z"
   },
   {
    "duration": 19,
    "start_time": "2022-03-04T08:44:24.853Z"
   },
   {
    "duration": 23,
    "start_time": "2022-03-04T08:44:24.874Z"
   },
   {
    "duration": 44,
    "start_time": "2022-03-04T08:44:24.899Z"
   },
   {
    "duration": 5,
    "start_time": "2022-03-04T08:44:24.946Z"
   },
   {
    "duration": 10,
    "start_time": "2022-03-04T08:44:24.954Z"
   },
   {
    "duration": 11,
    "start_time": "2022-03-04T08:44:24.965Z"
   },
   {
    "duration": 17,
    "start_time": "2022-03-04T08:44:24.977Z"
   },
   {
    "duration": 8,
    "start_time": "2022-03-04T08:44:24.996Z"
   },
   {
    "duration": 52,
    "start_time": "2022-03-04T08:44:25.005Z"
   },
   {
    "duration": 15,
    "start_time": "2022-03-04T08:44:25.059Z"
   },
   {
    "duration": 14,
    "start_time": "2022-03-04T08:44:25.076Z"
   },
   {
    "duration": 26,
    "start_time": "2022-03-04T08:44:25.091Z"
   },
   {
    "duration": 9,
    "start_time": "2022-03-04T08:44:25.132Z"
   },
   {
    "duration": 13,
    "start_time": "2022-03-04T08:44:25.142Z"
   },
   {
    "duration": 6,
    "start_time": "2022-03-04T08:44:25.157Z"
   },
   {
    "duration": 14,
    "start_time": "2022-03-04T08:44:25.164Z"
   },
   {
    "duration": 13,
    "start_time": "2022-03-04T08:44:25.180Z"
   },
   {
    "duration": 42,
    "start_time": "2022-03-04T08:44:25.194Z"
   },
   {
    "duration": 15,
    "start_time": "2022-03-04T08:44:25.240Z"
   },
   {
    "duration": 6,
    "start_time": "2022-03-04T08:44:25.258Z"
   },
   {
    "duration": 9,
    "start_time": "2022-03-04T08:44:25.266Z"
   },
   {
    "duration": 7,
    "start_time": "2022-03-04T08:44:25.277Z"
   },
   {
    "duration": 51,
    "start_time": "2022-03-04T08:44:25.286Z"
   },
   {
    "duration": 6,
    "start_time": "2022-03-04T08:44:25.339Z"
   },
   {
    "duration": 5,
    "start_time": "2022-03-04T08:44:25.347Z"
   },
   {
    "duration": 16,
    "start_time": "2022-03-04T08:44:25.354Z"
   },
   {
    "duration": 15,
    "start_time": "2022-03-04T08:44:25.372Z"
   },
   {
    "duration": 7,
    "start_time": "2022-03-04T08:44:25.389Z"
   },
   {
    "duration": 35,
    "start_time": "2022-03-04T08:44:25.398Z"
   },
   {
    "duration": 6,
    "start_time": "2022-03-04T08:44:25.435Z"
   },
   {
    "duration": 14,
    "start_time": "2022-03-04T08:44:25.443Z"
   },
   {
    "duration": 6,
    "start_time": "2022-03-04T08:44:25.459Z"
   },
   {
    "duration": 21,
    "start_time": "2022-03-04T08:44:25.467Z"
   },
   {
    "duration": 8,
    "start_time": "2022-03-04T08:44:25.489Z"
   },
   {
    "duration": 49,
    "start_time": "2022-03-04T08:44:25.499Z"
   },
   {
    "duration": 7,
    "start_time": "2022-03-04T08:44:25.550Z"
   },
   {
    "duration": 22,
    "start_time": "2022-03-04T08:44:25.559Z"
   },
   {
    "duration": 9,
    "start_time": "2022-03-04T08:44:25.582Z"
   },
   {
    "duration": 14,
    "start_time": "2022-03-04T08:44:25.593Z"
   },
   {
    "duration": 7,
    "start_time": "2022-03-04T08:44:25.633Z"
   },
   {
    "duration": 18,
    "start_time": "2022-03-04T08:44:25.642Z"
   },
   {
    "duration": 9,
    "start_time": "2022-03-04T08:44:25.661Z"
   },
   {
    "duration": 18,
    "start_time": "2022-03-04T08:44:25.672Z"
   },
   {
    "duration": 6,
    "start_time": "2022-03-04T08:44:25.691Z"
   },
   {
    "duration": 37,
    "start_time": "2022-03-04T08:44:25.699Z"
   },
   {
    "duration": 6,
    "start_time": "2022-03-04T08:44:25.738Z"
   },
   {
    "duration": 8,
    "start_time": "2022-03-04T08:44:25.745Z"
   },
   {
    "duration": 6,
    "start_time": "2022-03-04T08:44:25.754Z"
   },
   {
    "duration": 7,
    "start_time": "2022-03-04T08:44:25.762Z"
   },
   {
    "duration": 6,
    "start_time": "2022-03-04T08:44:25.771Z"
   },
   {
    "duration": 9,
    "start_time": "2022-03-04T08:44:25.778Z"
   },
   {
    "duration": 8,
    "start_time": "2022-03-04T08:44:25.788Z"
   },
   {
    "duration": 41,
    "start_time": "2022-03-04T08:44:25.797Z"
   },
   {
    "duration": 10,
    "start_time": "2022-03-04T08:44:25.840Z"
   },
   {
    "duration": 8,
    "start_time": "2022-03-04T08:44:25.851Z"
   },
   {
    "duration": 12,
    "start_time": "2022-03-04T08:44:25.861Z"
   },
   {
    "duration": 8,
    "start_time": "2022-03-04T08:44:25.875Z"
   },
   {
    "duration": 8,
    "start_time": "2022-03-04T08:44:25.885Z"
   },
   {
    "duration": 50,
    "start_time": "2022-03-04T08:44:25.895Z"
   },
   {
    "duration": 15,
    "start_time": "2022-03-04T08:44:25.947Z"
   },
   {
    "duration": 10,
    "start_time": "2022-03-04T08:44:25.963Z"
   },
   {
    "duration": 14,
    "start_time": "2022-03-04T08:44:25.975Z"
   },
   {
    "duration": 72,
    "start_time": "2022-03-04T08:44:25.990Z"
   },
   {
    "duration": 2,
    "start_time": "2022-03-04T08:44:26.068Z"
   },
   {
    "duration": 4,
    "start_time": "2022-03-04T08:44:26.073Z"
   },
   {
    "duration": 543,
    "start_time": "2022-03-04T08:44:26.078Z"
   },
   {
    "duration": 14,
    "start_time": "2022-03-04T08:44:26.622Z"
   },
   {
    "duration": 7,
    "start_time": "2022-03-04T08:44:26.637Z"
   },
   {
    "duration": 8,
    "start_time": "2022-03-04T08:44:26.645Z"
   },
   {
    "duration": 3,
    "start_time": "2022-03-04T08:44:26.654Z"
   },
   {
    "duration": 5,
    "start_time": "2022-03-04T08:44:26.658Z"
   },
   {
    "duration": 5,
    "start_time": "2022-03-04T08:44:26.664Z"
   },
   {
    "duration": 6,
    "start_time": "2022-03-04T08:44:26.670Z"
   },
   {
    "duration": 8,
    "start_time": "2022-03-04T08:44:26.677Z"
   },
   {
    "duration": 7,
    "start_time": "2022-03-04T08:44:26.687Z"
   },
   {
    "duration": 15,
    "start_time": "2022-03-04T08:44:26.732Z"
   },
   {
    "duration": 6,
    "start_time": "2022-03-04T08:44:26.749Z"
   },
   {
    "duration": 208,
    "start_time": "2022-03-04T08:44:26.756Z"
   },
   {
    "duration": 4,
    "start_time": "2022-03-04T08:44:26.966Z"
   },
   {
    "duration": 30,
    "start_time": "2022-03-04T08:44:26.971Z"
   },
   {
    "duration": 6,
    "start_time": "2022-03-04T08:44:27.002Z"
   },
   {
    "duration": 308,
    "start_time": "2022-03-04T08:44:27.009Z"
   },
   {
    "duration": 183,
    "start_time": "2022-03-04T08:44:27.319Z"
   },
   {
    "duration": 165,
    "start_time": "2022-03-04T08:44:27.503Z"
   },
   {
    "duration": 7,
    "start_time": "2022-03-04T08:44:27.670Z"
   },
   {
    "duration": 260,
    "start_time": "2022-03-04T08:44:27.679Z"
   },
   {
    "duration": 12,
    "start_time": "2022-03-04T08:44:27.941Z"
   },
   {
    "duration": 194,
    "start_time": "2022-03-04T08:44:27.955Z"
   },
   {
    "duration": 164,
    "start_time": "2022-03-04T08:44:28.151Z"
   },
   {
    "duration": 16,
    "start_time": "2022-03-04T08:44:28.317Z"
   },
   {
    "duration": 164,
    "start_time": "2022-03-04T08:44:28.335Z"
   },
   {
    "duration": 54,
    "start_time": "2022-03-04T08:44:28.501Z"
   },
   {
    "duration": 11,
    "start_time": "2022-03-04T08:44:28.556Z"
   },
   {
    "duration": 159,
    "start_time": "2022-03-04T08:44:28.568Z"
   },
   {
    "duration": 189,
    "start_time": "2022-03-04T08:44:28.729Z"
   },
   {
    "duration": 191,
    "start_time": "2022-03-04T08:44:28.919Z"
   },
   {
    "duration": 8,
    "start_time": "2022-03-04T08:44:29.112Z"
   },
   {
    "duration": 178,
    "start_time": "2022-03-04T08:44:29.133Z"
   },
   {
    "duration": 20,
    "start_time": "2022-03-04T08:44:29.313Z"
   },
   {
    "duration": 146,
    "start_time": "2022-03-04T08:44:29.335Z"
   },
   {
    "duration": 177,
    "start_time": "2022-03-04T08:44:29.482Z"
   },
   {
    "duration": 192,
    "start_time": "2022-03-04T08:44:29.660Z"
   },
   {
    "duration": 7,
    "start_time": "2022-03-04T08:44:29.854Z"
   },
   {
    "duration": 270,
    "start_time": "2022-03-04T08:44:29.862Z"
   },
   {
    "duration": 11,
    "start_time": "2022-03-04T08:44:30.134Z"
   },
   {
    "duration": 165,
    "start_time": "2022-03-04T08:44:30.147Z"
   },
   {
    "duration": 191,
    "start_time": "2022-03-04T08:44:30.313Z"
   },
   {
    "duration": 198,
    "start_time": "2022-03-04T08:44:30.506Z"
   },
   {
    "duration": 8,
    "start_time": "2022-03-04T08:44:30.705Z"
   },
   {
    "duration": 178,
    "start_time": "2022-03-04T08:44:30.714Z"
   },
   {
    "duration": 4,
    "start_time": "2022-03-04T08:44:30.894Z"
   },
   {
    "duration": 24,
    "start_time": "2022-03-04T08:44:30.900Z"
   },
   {
    "duration": 8,
    "start_time": "2022-03-04T08:44:30.926Z"
   },
   {
    "duration": 12,
    "start_time": "2022-03-04T08:44:30.935Z"
   },
   {
    "duration": 27,
    "start_time": "2022-03-04T08:44:30.949Z"
   },
   {
    "duration": 19,
    "start_time": "2022-03-04T08:44:30.977Z"
   },
   {
    "duration": 8,
    "start_time": "2022-03-04T08:44:30.998Z"
   },
   {
    "duration": 33,
    "start_time": "2022-03-04T08:44:31.008Z"
   },
   {
    "duration": 25,
    "start_time": "2022-03-04T08:44:31.043Z"
   },
   {
    "duration": 17,
    "start_time": "2022-03-04T08:44:31.069Z"
   },
   {
    "duration": 28,
    "start_time": "2022-03-04T08:44:31.087Z"
   },
   {
    "duration": 17,
    "start_time": "2022-03-04T08:44:31.117Z"
   },
   {
    "duration": 14,
    "start_time": "2022-03-04T08:44:31.136Z"
   },
   {
    "duration": 7,
    "start_time": "2022-03-04T08:44:31.152Z"
   },
   {
    "duration": 13,
    "start_time": "2022-03-04T08:44:31.161Z"
   },
   {
    "duration": 8,
    "start_time": "2022-03-04T08:44:31.175Z"
   },
   {
    "duration": 9,
    "start_time": "2022-03-04T08:44:31.185Z"
   },
   {
    "duration": 1143,
    "start_time": "2022-03-04T09:22:30.712Z"
   },
   {
    "duration": 375,
    "start_time": "2022-03-04T09:22:31.857Z"
   },
   {
    "duration": 10,
    "start_time": "2022-03-04T09:22:32.234Z"
   },
   {
    "duration": 34,
    "start_time": "2022-03-04T09:22:32.246Z"
   },
   {
    "duration": 18,
    "start_time": "2022-03-04T09:22:32.282Z"
   },
   {
    "duration": 39,
    "start_time": "2022-03-04T09:22:32.302Z"
   },
   {
    "duration": 26,
    "start_time": "2022-03-04T09:22:32.343Z"
   },
   {
    "duration": 4,
    "start_time": "2022-03-04T09:22:32.370Z"
   },
   {
    "duration": 9,
    "start_time": "2022-03-04T09:22:32.376Z"
   },
   {
    "duration": 7,
    "start_time": "2022-03-04T09:22:32.388Z"
   },
   {
    "duration": 38,
    "start_time": "2022-03-04T09:22:32.397Z"
   },
   {
    "duration": 8,
    "start_time": "2022-03-04T09:22:32.437Z"
   },
   {
    "duration": 28,
    "start_time": "2022-03-04T09:22:32.446Z"
   },
   {
    "duration": 15,
    "start_time": "2022-03-04T09:22:32.475Z"
   },
   {
    "duration": 42,
    "start_time": "2022-03-04T09:22:32.492Z"
   },
   {
    "duration": 19,
    "start_time": "2022-03-04T09:22:32.536Z"
   },
   {
    "duration": 7,
    "start_time": "2022-03-04T09:22:32.557Z"
   },
   {
    "duration": 13,
    "start_time": "2022-03-04T09:22:32.565Z"
   },
   {
    "duration": 6,
    "start_time": "2022-03-04T09:22:32.580Z"
   },
   {
    "duration": 12,
    "start_time": "2022-03-04T09:22:32.587Z"
   },
   {
    "duration": 42,
    "start_time": "2022-03-04T09:22:32.601Z"
   },
   {
    "duration": 18,
    "start_time": "2022-03-04T09:22:32.645Z"
   },
   {
    "duration": 23,
    "start_time": "2022-03-04T09:22:32.669Z"
   },
   {
    "duration": 8,
    "start_time": "2022-03-04T09:22:32.694Z"
   },
   {
    "duration": 29,
    "start_time": "2022-03-04T09:22:32.704Z"
   },
   {
    "duration": 10,
    "start_time": "2022-03-04T09:22:32.735Z"
   },
   {
    "duration": 34,
    "start_time": "2022-03-04T09:22:32.750Z"
   },
   {
    "duration": 7,
    "start_time": "2022-03-04T09:22:32.787Z"
   },
   {
    "duration": 6,
    "start_time": "2022-03-04T09:22:32.795Z"
   },
   {
    "duration": 33,
    "start_time": "2022-03-04T09:22:32.802Z"
   },
   {
    "duration": 16,
    "start_time": "2022-03-04T09:22:32.837Z"
   },
   {
    "duration": 8,
    "start_time": "2022-03-04T09:22:32.854Z"
   },
   {
    "duration": 11,
    "start_time": "2022-03-04T09:22:32.863Z"
   },
   {
    "duration": 5,
    "start_time": "2022-03-04T09:22:32.876Z"
   },
   {
    "duration": 10,
    "start_time": "2022-03-04T09:22:32.883Z"
   },
   {
    "duration": 6,
    "start_time": "2022-03-04T09:22:32.895Z"
   },
   {
    "duration": 48,
    "start_time": "2022-03-04T09:22:32.902Z"
   },
   {
    "duration": 8,
    "start_time": "2022-03-04T09:22:32.951Z"
   },
   {
    "duration": 29,
    "start_time": "2022-03-04T09:22:32.960Z"
   },
   {
    "duration": 6,
    "start_time": "2022-03-04T09:22:32.990Z"
   },
   {
    "duration": 36,
    "start_time": "2022-03-04T09:22:32.998Z"
   },
   {
    "duration": 7,
    "start_time": "2022-03-04T09:22:33.036Z"
   },
   {
    "duration": 15,
    "start_time": "2022-03-04T09:22:33.044Z"
   },
   {
    "duration": 6,
    "start_time": "2022-03-04T09:22:33.060Z"
   },
   {
    "duration": 18,
    "start_time": "2022-03-04T09:22:33.067Z"
   },
   {
    "duration": 7,
    "start_time": "2022-03-04T09:22:33.087Z"
   },
   {
    "duration": 44,
    "start_time": "2022-03-04T09:22:33.096Z"
   },
   {
    "duration": 7,
    "start_time": "2022-03-04T09:22:33.142Z"
   },
   {
    "duration": 8,
    "start_time": "2022-03-04T09:22:33.150Z"
   },
   {
    "duration": 7,
    "start_time": "2022-03-04T09:22:33.160Z"
   },
   {
    "duration": 6,
    "start_time": "2022-03-04T09:22:33.169Z"
   },
   {
    "duration": 6,
    "start_time": "2022-03-04T09:22:33.177Z"
   },
   {
    "duration": 7,
    "start_time": "2022-03-04T09:22:33.185Z"
   },
   {
    "duration": 8,
    "start_time": "2022-03-04T09:22:33.193Z"
   },
   {
    "duration": 37,
    "start_time": "2022-03-04T09:22:33.202Z"
   },
   {
    "duration": 8,
    "start_time": "2022-03-04T09:22:33.240Z"
   },
   {
    "duration": 8,
    "start_time": "2022-03-04T09:22:33.249Z"
   },
   {
    "duration": 14,
    "start_time": "2022-03-04T09:22:33.259Z"
   },
   {
    "duration": 8,
    "start_time": "2022-03-04T09:22:33.275Z"
   },
   {
    "duration": 12,
    "start_time": "2022-03-04T09:22:33.285Z"
   },
   {
    "duration": 37,
    "start_time": "2022-03-04T09:22:33.299Z"
   },
   {
    "duration": 7,
    "start_time": "2022-03-04T09:22:33.338Z"
   },
   {
    "duration": 20,
    "start_time": "2022-03-04T09:22:33.346Z"
   },
   {
    "duration": 17,
    "start_time": "2022-03-04T09:22:33.367Z"
   },
   {
    "duration": 8,
    "start_time": "2022-03-04T09:22:33.385Z"
   },
   {
    "duration": 12,
    "start_time": "2022-03-04T09:22:33.394Z"
   },
   {
    "duration": 64,
    "start_time": "2022-03-04T09:22:33.408Z"
   },
   {
    "duration": 2,
    "start_time": "2022-03-04T09:22:33.473Z"
   },
   {
    "duration": 5,
    "start_time": "2022-03-04T09:22:33.477Z"
   },
   {
    "duration": 566,
    "start_time": "2022-03-04T09:22:33.484Z"
   },
   {
    "duration": 10,
    "start_time": "2022-03-04T09:22:34.051Z"
   },
   {
    "duration": 6,
    "start_time": "2022-03-04T09:22:34.063Z"
   },
   {
    "duration": 7,
    "start_time": "2022-03-04T09:22:34.071Z"
   },
   {
    "duration": 3,
    "start_time": "2022-03-04T09:22:34.079Z"
   },
   {
    "duration": 5,
    "start_time": "2022-03-04T09:22:34.084Z"
   },
   {
    "duration": 6,
    "start_time": "2022-03-04T09:22:34.090Z"
   },
   {
    "duration": 35,
    "start_time": "2022-03-04T09:22:34.098Z"
   },
   {
    "duration": 9,
    "start_time": "2022-03-04T09:22:34.135Z"
   },
   {
    "duration": 10,
    "start_time": "2022-03-04T09:22:34.146Z"
   },
   {
    "duration": 15,
    "start_time": "2022-03-04T09:22:34.157Z"
   },
   {
    "duration": 3,
    "start_time": "2022-03-04T09:22:34.179Z"
   },
   {
    "duration": 217,
    "start_time": "2022-03-04T09:22:34.185Z"
   },
   {
    "duration": 4,
    "start_time": "2022-03-04T09:22:34.404Z"
   },
   {
    "duration": 37,
    "start_time": "2022-03-04T09:22:34.410Z"
   },
   {
    "duration": 5,
    "start_time": "2022-03-04T09:22:34.449Z"
   },
   {
    "duration": 279,
    "start_time": "2022-03-04T09:22:34.456Z"
   },
   {
    "duration": 180,
    "start_time": "2022-03-04T09:22:34.737Z"
   },
   {
    "duration": 166,
    "start_time": "2022-03-04T09:22:34.919Z"
   },
   {
    "duration": 7,
    "start_time": "2022-03-04T09:22:35.086Z"
   },
   {
    "duration": 253,
    "start_time": "2022-03-04T09:22:35.095Z"
   },
   {
    "duration": 11,
    "start_time": "2022-03-04T09:22:35.350Z"
   },
   {
    "duration": 187,
    "start_time": "2022-03-04T09:22:35.362Z"
   },
   {
    "duration": 158,
    "start_time": "2022-03-04T09:22:35.550Z"
   },
   {
    "duration": 7,
    "start_time": "2022-03-04T09:22:35.710Z"
   },
   {
    "duration": 180,
    "start_time": "2022-03-04T09:22:35.719Z"
   },
   {
    "duration": 55,
    "start_time": "2022-03-04T09:22:35.901Z"
   },
   {
    "duration": 11,
    "start_time": "2022-03-04T09:22:35.958Z"
   },
   {
    "duration": 154,
    "start_time": "2022-03-04T09:22:35.970Z"
   },
   {
    "duration": 188,
    "start_time": "2022-03-04T09:22:36.126Z"
   },
   {
    "duration": 191,
    "start_time": "2022-03-04T09:22:36.316Z"
   },
   {
    "duration": 8,
    "start_time": "2022-03-04T09:22:36.509Z"
   },
   {
    "duration": 183,
    "start_time": "2022-03-04T09:22:36.518Z"
   },
   {
    "duration": 12,
    "start_time": "2022-03-04T09:22:36.703Z"
   },
   {
    "duration": 161,
    "start_time": "2022-03-04T09:22:36.717Z"
   },
   {
    "duration": 181,
    "start_time": "2022-03-04T09:22:36.880Z"
   },
   {
    "duration": 197,
    "start_time": "2022-03-04T09:22:37.063Z"
   },
   {
    "duration": 7,
    "start_time": "2022-03-04T09:22:37.262Z"
   },
   {
    "duration": 263,
    "start_time": "2022-03-04T09:22:37.271Z"
   },
   {
    "duration": 11,
    "start_time": "2022-03-04T09:22:37.536Z"
   },
   {
    "duration": 167,
    "start_time": "2022-03-04T09:22:37.548Z"
   },
   {
    "duration": 192,
    "start_time": "2022-03-04T09:22:37.717Z"
   },
   {
    "duration": 182,
    "start_time": "2022-03-04T09:22:37.911Z"
   },
   {
    "duration": 7,
    "start_time": "2022-03-04T09:22:38.095Z"
   },
   {
    "duration": 177,
    "start_time": "2022-03-04T09:22:38.103Z"
   },
   {
    "duration": 4,
    "start_time": "2022-03-04T09:22:38.282Z"
   },
   {
    "duration": 5,
    "start_time": "2022-03-04T09:22:38.287Z"
   },
   {
    "duration": 5,
    "start_time": "2022-03-04T09:22:38.294Z"
   },
   {
    "duration": 6,
    "start_time": "2022-03-04T09:22:38.300Z"
   },
   {
    "duration": 4,
    "start_time": "2022-03-04T09:22:38.308Z"
   },
   {
    "duration": 20,
    "start_time": "2022-03-04T09:22:38.313Z"
   },
   {
    "duration": 7,
    "start_time": "2022-03-04T09:22:38.334Z"
   },
   {
    "duration": 5,
    "start_time": "2022-03-04T09:22:38.342Z"
   },
   {
    "duration": 7,
    "start_time": "2022-03-04T09:22:38.348Z"
   },
   {
    "duration": 5,
    "start_time": "2022-03-04T09:22:38.357Z"
   },
   {
    "duration": 5,
    "start_time": "2022-03-04T09:22:38.364Z"
   },
   {
    "duration": 4,
    "start_time": "2022-03-04T09:22:38.370Z"
   },
   {
    "duration": 9,
    "start_time": "2022-03-04T09:22:38.376Z"
   },
   {
    "duration": 5,
    "start_time": "2022-03-04T09:22:38.386Z"
   },
   {
    "duration": 4,
    "start_time": "2022-03-04T09:22:38.392Z"
   },
   {
    "duration": 35,
    "start_time": "2022-03-04T09:22:38.398Z"
   },
   {
    "duration": 4,
    "start_time": "2022-03-04T09:22:38.434Z"
   },
   {
    "duration": 1588,
    "start_time": "2022-03-04T17:26:41.293Z"
   },
   {
    "duration": 529,
    "start_time": "2022-03-04T17:26:42.884Z"
   },
   {
    "duration": 17,
    "start_time": "2022-03-04T17:26:43.415Z"
   },
   {
    "duration": 41,
    "start_time": "2022-03-04T17:26:43.435Z"
   },
   {
    "duration": 43,
    "start_time": "2022-03-04T17:26:43.478Z"
   },
   {
    "duration": 35,
    "start_time": "2022-03-04T17:26:43.523Z"
   },
   {
    "duration": 63,
    "start_time": "2022-03-04T17:26:43.560Z"
   },
   {
    "duration": 6,
    "start_time": "2022-03-04T17:26:43.626Z"
   },
   {
    "duration": 8,
    "start_time": "2022-03-04T17:26:43.634Z"
   },
   {
    "duration": 11,
    "start_time": "2022-03-04T17:26:43.644Z"
   },
   {
    "duration": 51,
    "start_time": "2022-03-04T17:26:43.657Z"
   },
   {
    "duration": 12,
    "start_time": "2022-03-04T17:26:43.711Z"
   },
   {
    "duration": 68,
    "start_time": "2022-03-04T17:26:43.725Z"
   },
   {
    "duration": 32,
    "start_time": "2022-03-04T17:26:43.797Z"
   },
   {
    "duration": 25,
    "start_time": "2022-03-04T17:26:43.831Z"
   },
   {
    "duration": 59,
    "start_time": "2022-03-04T17:26:43.858Z"
   },
   {
    "duration": 11,
    "start_time": "2022-03-04T17:26:43.920Z"
   },
   {
    "duration": 18,
    "start_time": "2022-03-04T17:26:43.933Z"
   },
   {
    "duration": 46,
    "start_time": "2022-03-04T17:26:43.953Z"
   },
   {
    "duration": 27,
    "start_time": "2022-03-04T17:26:44.002Z"
   },
   {
    "duration": 19,
    "start_time": "2022-03-04T17:26:44.031Z"
   },
   {
    "duration": 45,
    "start_time": "2022-03-04T17:26:44.052Z"
   },
   {
    "duration": 23,
    "start_time": "2022-03-04T17:26:44.105Z"
   },
   {
    "duration": 10,
    "start_time": "2022-03-04T17:26:44.131Z"
   },
   {
    "duration": 11,
    "start_time": "2022-03-04T17:26:44.144Z"
   },
   {
    "duration": 15,
    "start_time": "2022-03-04T17:26:44.191Z"
   },
   {
    "duration": 59,
    "start_time": "2022-03-04T17:26:44.210Z"
   },
   {
    "duration": 21,
    "start_time": "2022-03-04T17:26:44.271Z"
   },
   {
    "duration": 14,
    "start_time": "2022-03-04T17:26:44.296Z"
   },
   {
    "duration": 22,
    "start_time": "2022-03-04T17:26:44.313Z"
   },
   {
    "duration": 23,
    "start_time": "2022-03-04T17:26:44.338Z"
   },
   {
    "duration": 29,
    "start_time": "2022-03-04T17:26:44.363Z"
   },
   {
    "duration": 13,
    "start_time": "2022-03-04T17:26:44.395Z"
   },
   {
    "duration": 8,
    "start_time": "2022-03-04T17:26:44.411Z"
   },
   {
    "duration": 21,
    "start_time": "2022-03-04T17:26:44.422Z"
   },
   {
    "duration": 9,
    "start_time": "2022-03-04T17:26:44.445Z"
   },
   {
    "duration": 64,
    "start_time": "2022-03-04T17:26:44.456Z"
   },
   {
    "duration": 12,
    "start_time": "2022-03-04T17:26:44.523Z"
   },
   {
    "duration": 74,
    "start_time": "2022-03-04T17:26:44.538Z"
   },
   {
    "duration": 10,
    "start_time": "2022-03-04T17:26:44.614Z"
   },
   {
    "duration": 22,
    "start_time": "2022-03-04T17:26:44.626Z"
   },
   {
    "duration": 11,
    "start_time": "2022-03-04T17:26:44.651Z"
   },
   {
    "duration": 24,
    "start_time": "2022-03-04T17:26:44.688Z"
   },
   {
    "duration": 10,
    "start_time": "2022-03-04T17:26:44.715Z"
   },
   {
    "duration": 59,
    "start_time": "2022-03-04T17:26:44.728Z"
   },
   {
    "duration": 16,
    "start_time": "2022-03-04T17:26:44.790Z"
   },
   {
    "duration": 21,
    "start_time": "2022-03-04T17:26:44.808Z"
   },
   {
    "duration": 9,
    "start_time": "2022-03-04T17:26:44.832Z"
   },
   {
    "duration": 10,
    "start_time": "2022-03-04T17:26:44.843Z"
   },
   {
    "duration": 11,
    "start_time": "2022-03-04T17:26:44.888Z"
   },
   {
    "duration": 15,
    "start_time": "2022-03-04T17:26:44.902Z"
   },
   {
    "duration": 12,
    "start_time": "2022-03-04T17:26:44.919Z"
   },
   {
    "duration": 14,
    "start_time": "2022-03-04T17:26:44.933Z"
   },
   {
    "duration": 43,
    "start_time": "2022-03-04T17:26:44.949Z"
   },
   {
    "duration": 40,
    "start_time": "2022-03-04T17:26:44.995Z"
   },
   {
    "duration": 20,
    "start_time": "2022-03-04T17:26:45.037Z"
   },
   {
    "duration": 13,
    "start_time": "2022-03-04T17:26:45.060Z"
   },
   {
    "duration": 34,
    "start_time": "2022-03-04T17:26:45.076Z"
   },
   {
    "duration": 15,
    "start_time": "2022-03-04T17:26:45.113Z"
   },
   {
    "duration": 20,
    "start_time": "2022-03-04T17:26:45.131Z"
   },
   {
    "duration": 13,
    "start_time": "2022-03-04T17:26:45.153Z"
   },
   {
    "duration": 31,
    "start_time": "2022-03-04T17:26:45.168Z"
   },
   {
    "duration": 29,
    "start_time": "2022-03-04T17:26:45.202Z"
   },
   {
    "duration": 24,
    "start_time": "2022-03-04T17:26:45.233Z"
   },
   {
    "duration": 41,
    "start_time": "2022-03-04T17:26:45.259Z"
   },
   {
    "duration": 22,
    "start_time": "2022-03-04T17:26:45.303Z"
   },
   {
    "duration": 110,
    "start_time": "2022-03-04T17:26:45.328Z"
   },
   {
    "duration": 4,
    "start_time": "2022-03-04T17:26:45.447Z"
   },
   {
    "duration": 4,
    "start_time": "2022-03-04T17:26:45.456Z"
   },
   {
    "duration": 812,
    "start_time": "2022-03-04T17:26:45.463Z"
   },
   {
    "duration": 18,
    "start_time": "2022-03-04T17:26:46.277Z"
   },
   {
    "duration": 13,
    "start_time": "2022-03-04T17:26:46.298Z"
   },
   {
    "duration": 13,
    "start_time": "2022-03-04T17:26:46.314Z"
   },
   {
    "duration": 5,
    "start_time": "2022-03-04T17:26:46.330Z"
   },
   {
    "duration": 55,
    "start_time": "2022-03-04T17:26:46.338Z"
   },
   {
    "duration": 13,
    "start_time": "2022-03-04T17:26:46.396Z"
   },
   {
    "duration": 7,
    "start_time": "2022-03-04T17:26:46.411Z"
   },
   {
    "duration": 12,
    "start_time": "2022-03-04T17:26:46.420Z"
   },
   {
    "duration": 12,
    "start_time": "2022-03-04T17:26:46.434Z"
   },
   {
    "duration": 64,
    "start_time": "2022-03-04T17:26:46.448Z"
   },
   {
    "duration": 7,
    "start_time": "2022-03-04T17:26:46.516Z"
   },
   {
    "duration": 414,
    "start_time": "2022-03-04T17:26:46.526Z"
   },
   {
    "duration": 6,
    "start_time": "2022-03-04T17:26:46.942Z"
   },
   {
    "duration": 69,
    "start_time": "2022-03-04T17:26:46.951Z"
   },
   {
    "duration": 9,
    "start_time": "2022-03-04T17:26:47.023Z"
   },
   {
    "duration": 526,
    "start_time": "2022-03-04T17:26:47.034Z"
   },
   {
    "duration": 342,
    "start_time": "2022-03-04T17:26:47.563Z"
   },
   {
    "duration": 303,
    "start_time": "2022-03-04T17:26:47.907Z"
   },
   {
    "duration": 11,
    "start_time": "2022-03-04T17:26:48.213Z"
   },
   {
    "duration": 419,
    "start_time": "2022-03-04T17:26:48.227Z"
   },
   {
    "duration": 21,
    "start_time": "2022-03-04T17:26:48.649Z"
   },
   {
    "duration": 399,
    "start_time": "2022-03-04T17:26:48.688Z"
   },
   {
    "duration": 302,
    "start_time": "2022-03-04T17:26:49.089Z"
   },
   {
    "duration": 14,
    "start_time": "2022-03-04T17:26:49.394Z"
   },
   {
    "duration": 439,
    "start_time": "2022-03-04T17:26:49.410Z"
   },
   {
    "duration": 97,
    "start_time": "2022-03-04T17:26:49.851Z"
   },
   {
    "duration": 17,
    "start_time": "2022-03-04T17:26:49.950Z"
   },
   {
    "duration": 380,
    "start_time": "2022-03-04T17:26:49.969Z"
   },
   {
    "duration": 351,
    "start_time": "2022-03-04T17:26:50.351Z"
   },
   {
    "duration": 362,
    "start_time": "2022-03-04T17:26:50.705Z"
   },
   {
    "duration": 26,
    "start_time": "2022-03-04T17:26:51.070Z"
   },
   {
    "duration": 336,
    "start_time": "2022-03-04T17:26:51.099Z"
   },
   {
    "duration": 16,
    "start_time": "2022-03-04T17:26:51.437Z"
   },
   {
    "duration": 280,
    "start_time": "2022-03-04T17:26:51.456Z"
   },
   {
    "duration": 331,
    "start_time": "2022-03-04T17:26:51.739Z"
   },
   {
    "duration": 362,
    "start_time": "2022-03-04T17:26:52.072Z"
   },
   {
    "duration": 10,
    "start_time": "2022-03-04T17:26:52.436Z"
   },
   {
    "duration": 425,
    "start_time": "2022-03-04T17:26:52.448Z"
   },
   {
    "duration": 29,
    "start_time": "2022-03-04T17:26:52.875Z"
   },
   {
    "duration": 389,
    "start_time": "2022-03-04T17:26:52.907Z"
   },
   {
    "duration": 358,
    "start_time": "2022-03-04T17:26:53.299Z"
   },
   {
    "duration": 341,
    "start_time": "2022-03-04T17:26:53.660Z"
   },
   {
    "duration": 11,
    "start_time": "2022-03-04T17:26:54.004Z"
   },
   {
    "duration": 345,
    "start_time": "2022-03-04T17:26:54.017Z"
   },
   {
    "duration": 22,
    "start_time": "2022-03-04T17:26:54.365Z"
   },
   {
    "duration": 4,
    "start_time": "2022-03-04T17:26:54.391Z"
   },
   {
    "duration": 13,
    "start_time": "2022-03-04T17:26:54.398Z"
   },
   {
    "duration": 6,
    "start_time": "2022-03-04T17:26:54.414Z"
   },
   {
    "duration": 7,
    "start_time": "2022-03-04T17:26:54.422Z"
   },
   {
    "duration": 7,
    "start_time": "2022-03-04T17:26:54.432Z"
   },
   {
    "duration": 48,
    "start_time": "2022-03-04T17:26:54.441Z"
   },
   {
    "duration": 11,
    "start_time": "2022-03-04T17:26:54.492Z"
   },
   {
    "duration": 12,
    "start_time": "2022-03-04T17:26:54.506Z"
   },
   {
    "duration": 10,
    "start_time": "2022-03-04T17:26:54.520Z"
   },
   {
    "duration": 8,
    "start_time": "2022-03-04T17:26:54.533Z"
   },
   {
    "duration": 7,
    "start_time": "2022-03-04T17:26:54.543Z"
   },
   {
    "duration": 42,
    "start_time": "2022-03-04T17:26:54.552Z"
   },
   {
    "duration": 17,
    "start_time": "2022-03-04T17:26:54.597Z"
   },
   {
    "duration": 6,
    "start_time": "2022-03-04T17:26:54.617Z"
   },
   {
    "duration": 10,
    "start_time": "2022-03-04T17:26:54.625Z"
   },
   {
    "duration": 8,
    "start_time": "2022-03-04T17:26:54.637Z"
   },
   {
    "duration": 5,
    "start_time": "2022-03-04T17:42:48.708Z"
   },
   {
    "duration": 5,
    "start_time": "2022-03-04T17:43:29.057Z"
   },
   {
    "duration": 5,
    "start_time": "2022-03-04T17:43:33.204Z"
   },
   {
    "duration": 5,
    "start_time": "2022-03-04T18:05:01.401Z"
   },
   {
    "duration": 252,
    "start_time": "2022-03-04T18:05:05.628Z"
   },
   {
    "duration": 213,
    "start_time": "2022-03-04T18:05:07.796Z"
   },
   {
    "duration": 1254,
    "start_time": "2022-03-04T18:05:19.841Z"
   },
   {
    "duration": 381,
    "start_time": "2022-03-04T18:05:21.097Z"
   },
   {
    "duration": 12,
    "start_time": "2022-03-04T18:05:21.481Z"
   },
   {
    "duration": 45,
    "start_time": "2022-03-04T18:05:21.495Z"
   },
   {
    "duration": 25,
    "start_time": "2022-03-04T18:05:21.542Z"
   },
   {
    "duration": 39,
    "start_time": "2022-03-04T18:05:21.569Z"
   },
   {
    "duration": 31,
    "start_time": "2022-03-04T18:05:21.611Z"
   },
   {
    "duration": 6,
    "start_time": "2022-03-04T18:05:21.645Z"
   },
   {
    "duration": 9,
    "start_time": "2022-03-04T18:05:21.653Z"
   },
   {
    "duration": 41,
    "start_time": "2022-03-04T18:05:21.664Z"
   },
   {
    "duration": 17,
    "start_time": "2022-03-04T18:05:21.708Z"
   },
   {
    "duration": 9,
    "start_time": "2022-03-04T18:05:21.727Z"
   },
   {
    "duration": 34,
    "start_time": "2022-03-04T18:05:21.737Z"
   },
   {
    "duration": 38,
    "start_time": "2022-03-04T18:05:21.773Z"
   },
   {
    "duration": 20,
    "start_time": "2022-03-04T18:05:21.813Z"
   },
   {
    "duration": 40,
    "start_time": "2022-03-04T18:05:21.835Z"
   },
   {
    "duration": 25,
    "start_time": "2022-03-04T18:05:21.877Z"
   },
   {
    "duration": 18,
    "start_time": "2022-03-04T18:05:21.903Z"
   },
   {
    "duration": 8,
    "start_time": "2022-03-04T18:05:21.923Z"
   },
   {
    "duration": 22,
    "start_time": "2022-03-04T18:05:21.933Z"
   },
   {
    "duration": 16,
    "start_time": "2022-03-04T18:05:21.957Z"
   },
   {
    "duration": 36,
    "start_time": "2022-03-04T18:05:21.975Z"
   },
   {
    "duration": 21,
    "start_time": "2022-03-04T18:05:22.016Z"
   },
   {
    "duration": 8,
    "start_time": "2022-03-04T18:05:22.040Z"
   },
   {
    "duration": 11,
    "start_time": "2022-03-04T18:05:22.050Z"
   },
   {
    "duration": 40,
    "start_time": "2022-03-04T18:05:22.063Z"
   },
   {
    "duration": 30,
    "start_time": "2022-03-04T18:05:22.105Z"
   },
   {
    "duration": 7,
    "start_time": "2022-03-04T18:05:22.137Z"
   },
   {
    "duration": 9,
    "start_time": "2022-03-04T18:05:22.145Z"
   },
   {
    "duration": 14,
    "start_time": "2022-03-04T18:05:22.155Z"
   },
   {
    "duration": 44,
    "start_time": "2022-03-04T18:05:22.171Z"
   },
   {
    "duration": 8,
    "start_time": "2022-03-04T18:05:22.218Z"
   },
   {
    "duration": 9,
    "start_time": "2022-03-04T18:05:22.228Z"
   },
   {
    "duration": 7,
    "start_time": "2022-03-04T18:05:22.239Z"
   },
   {
    "duration": 18,
    "start_time": "2022-03-04T18:05:22.248Z"
   },
   {
    "duration": 37,
    "start_time": "2022-03-04T18:05:22.268Z"
   },
   {
    "duration": 25,
    "start_time": "2022-03-04T18:05:22.308Z"
   },
   {
    "duration": 10,
    "start_time": "2022-03-04T18:05:22.335Z"
   },
   {
    "duration": 57,
    "start_time": "2022-03-04T18:05:22.347Z"
   },
   {
    "duration": 9,
    "start_time": "2022-03-04T18:05:22.406Z"
   },
   {
    "duration": 18,
    "start_time": "2022-03-04T18:05:22.418Z"
   },
   {
    "duration": 9,
    "start_time": "2022-03-04T18:05:22.438Z"
   },
   {
    "duration": 17,
    "start_time": "2022-03-04T18:05:22.450Z"
   },
   {
    "duration": 37,
    "start_time": "2022-03-04T18:05:22.469Z"
   },
   {
    "duration": 20,
    "start_time": "2022-03-04T18:05:22.508Z"
   },
   {
    "duration": 10,
    "start_time": "2022-03-04T18:05:22.530Z"
   },
   {
    "duration": 20,
    "start_time": "2022-03-04T18:05:22.543Z"
   },
   {
    "duration": 38,
    "start_time": "2022-03-04T18:05:22.565Z"
   },
   {
    "duration": 9,
    "start_time": "2022-03-04T18:05:22.605Z"
   },
   {
    "duration": 7,
    "start_time": "2022-03-04T18:05:22.616Z"
   },
   {
    "duration": 10,
    "start_time": "2022-03-04T18:05:22.626Z"
   },
   {
    "duration": 11,
    "start_time": "2022-03-04T18:05:22.638Z"
   },
   {
    "duration": 17,
    "start_time": "2022-03-04T18:05:22.651Z"
   },
   {
    "duration": 8,
    "start_time": "2022-03-04T18:05:22.702Z"
   },
   {
    "duration": 10,
    "start_time": "2022-03-04T18:05:22.712Z"
   },
   {
    "duration": 12,
    "start_time": "2022-03-04T18:05:22.725Z"
   },
   {
    "duration": 15,
    "start_time": "2022-03-04T18:05:22.739Z"
   },
   {
    "duration": 45,
    "start_time": "2022-03-04T18:05:22.756Z"
   },
   {
    "duration": 8,
    "start_time": "2022-03-04T18:05:22.803Z"
   },
   {
    "duration": 16,
    "start_time": "2022-03-04T18:05:22.813Z"
   },
   {
    "duration": 16,
    "start_time": "2022-03-04T18:05:22.831Z"
   },
   {
    "duration": 13,
    "start_time": "2022-03-04T18:05:22.849Z"
   },
   {
    "duration": 38,
    "start_time": "2022-03-04T18:05:22.864Z"
   },
   {
    "duration": 18,
    "start_time": "2022-03-04T18:05:22.904Z"
   },
   {
    "duration": 9,
    "start_time": "2022-03-04T18:05:22.924Z"
   },
   {
    "duration": 18,
    "start_time": "2022-03-04T18:05:22.936Z"
   },
   {
    "duration": 84,
    "start_time": "2022-03-04T18:05:22.956Z"
   },
   {
    "duration": 3,
    "start_time": "2022-03-04T18:05:23.046Z"
   },
   {
    "duration": 5,
    "start_time": "2022-03-04T18:05:23.052Z"
   },
   {
    "duration": 574,
    "start_time": "2022-03-04T18:05:23.059Z"
   },
   {
    "duration": 12,
    "start_time": "2022-03-04T18:05:23.635Z"
   },
   {
    "duration": 8,
    "start_time": "2022-03-04T18:05:23.649Z"
   },
   {
    "duration": 21,
    "start_time": "2022-03-04T18:05:23.659Z"
   },
   {
    "duration": 21,
    "start_time": "2022-03-04T18:05:23.682Z"
   },
   {
    "duration": 9,
    "start_time": "2022-03-04T18:05:23.705Z"
   },
   {
    "duration": 10,
    "start_time": "2022-03-04T18:05:23.716Z"
   },
   {
    "duration": 10,
    "start_time": "2022-03-04T18:05:23.728Z"
   },
   {
    "duration": 14,
    "start_time": "2022-03-04T18:05:23.741Z"
   },
   {
    "duration": 9,
    "start_time": "2022-03-04T18:05:23.757Z"
   },
   {
    "duration": 35,
    "start_time": "2022-03-04T18:05:23.768Z"
   },
   {
    "duration": 4,
    "start_time": "2022-03-04T18:05:23.805Z"
   },
   {
    "duration": 240,
    "start_time": "2022-03-04T18:05:23.811Z"
   },
   {
    "duration": 4,
    "start_time": "2022-03-04T18:05:24.054Z"
   },
   {
    "duration": 43,
    "start_time": "2022-03-04T18:05:24.060Z"
   },
   {
    "duration": 6,
    "start_time": "2022-03-04T18:05:24.105Z"
   },
   {
    "duration": 429,
    "start_time": "2022-03-04T18:05:24.113Z"
   },
   {
    "duration": 216,
    "start_time": "2022-03-04T18:05:24.544Z"
   },
   {
    "duration": 189,
    "start_time": "2022-03-04T18:05:24.761Z"
   },
   {
    "duration": 8,
    "start_time": "2022-03-04T18:05:24.952Z"
   },
   {
    "duration": 291,
    "start_time": "2022-03-04T18:05:24.962Z"
   },
   {
    "duration": 15,
    "start_time": "2022-03-04T18:05:25.255Z"
   },
   {
    "duration": 232,
    "start_time": "2022-03-04T18:05:25.272Z"
   },
   {
    "duration": 205,
    "start_time": "2022-03-04T18:05:25.506Z"
   },
   {
    "duration": 9,
    "start_time": "2022-03-04T18:05:25.714Z"
   },
   {
    "duration": 219,
    "start_time": "2022-03-04T18:05:25.724Z"
   },
   {
    "duration": 68,
    "start_time": "2022-03-04T18:05:25.946Z"
   },
   {
    "duration": 13,
    "start_time": "2022-03-04T18:05:26.016Z"
   },
   {
    "duration": 180,
    "start_time": "2022-03-04T18:05:26.031Z"
   },
   {
    "duration": 220,
    "start_time": "2022-03-04T18:05:26.213Z"
   },
   {
    "duration": 223,
    "start_time": "2022-03-04T18:05:26.435Z"
   },
   {
    "duration": 8,
    "start_time": "2022-03-04T18:05:26.661Z"
   },
   {
    "duration": 217,
    "start_time": "2022-03-04T18:05:26.671Z"
   },
   {
    "duration": 21,
    "start_time": "2022-03-04T18:05:26.890Z"
   },
   {
    "duration": 171,
    "start_time": "2022-03-04T18:05:26.913Z"
   },
   {
    "duration": 209,
    "start_time": "2022-03-04T18:05:27.086Z"
   },
   {
    "duration": 217,
    "start_time": "2022-03-04T18:05:27.301Z"
   },
   {
    "duration": 9,
    "start_time": "2022-03-04T18:05:27.520Z"
   },
   {
    "duration": 293,
    "start_time": "2022-03-04T18:05:27.530Z"
   },
   {
    "duration": 12,
    "start_time": "2022-03-04T18:05:27.825Z"
   },
   {
    "duration": 191,
    "start_time": "2022-03-04T18:05:27.839Z"
   },
   {
    "duration": 219,
    "start_time": "2022-03-04T18:05:28.032Z"
   },
   {
    "duration": 232,
    "start_time": "2022-03-04T18:05:28.253Z"
   },
   {
    "duration": 18,
    "start_time": "2022-03-04T18:05:28.487Z"
   },
   {
    "duration": 222,
    "start_time": "2022-03-04T18:05:28.507Z"
   },
   {
    "duration": 5,
    "start_time": "2022-03-04T18:05:28.731Z"
   },
   {
    "duration": 8,
    "start_time": "2022-03-04T18:05:28.738Z"
   },
   {
    "duration": 11,
    "start_time": "2022-03-04T18:05:28.748Z"
   },
   {
    "duration": 11,
    "start_time": "2022-03-04T18:05:28.761Z"
   },
   {
    "duration": 8,
    "start_time": "2022-03-04T18:05:28.774Z"
   },
   {
    "duration": 19,
    "start_time": "2022-03-04T18:05:28.783Z"
   },
   {
    "duration": 9,
    "start_time": "2022-03-04T18:05:28.804Z"
   },
   {
    "duration": 9,
    "start_time": "2022-03-04T18:05:28.815Z"
   },
   {
    "duration": 12,
    "start_time": "2022-03-04T18:05:28.826Z"
   },
   {
    "duration": 11,
    "start_time": "2022-03-04T18:05:28.840Z"
   },
   {
    "duration": 8,
    "start_time": "2022-03-04T18:05:28.852Z"
   },
   {
    "duration": 15,
    "start_time": "2022-03-04T18:05:28.862Z"
   },
   {
    "duration": 27,
    "start_time": "2022-03-04T18:05:28.879Z"
   },
   {
    "duration": 9,
    "start_time": "2022-03-04T18:05:28.908Z"
   },
   {
    "duration": 9,
    "start_time": "2022-03-04T18:05:28.918Z"
   },
   {
    "duration": 10,
    "start_time": "2022-03-04T18:05:28.929Z"
   },
   {
    "duration": 12,
    "start_time": "2022-03-04T18:05:28.941Z"
   },
   {
    "duration": 6,
    "start_time": "2022-03-04T18:06:40.609Z"
   },
   {
    "duration": 5,
    "start_time": "2022-03-04T18:07:18.486Z"
   },
   {
    "duration": 1295,
    "start_time": "2022-03-04T18:18:45.380Z"
   },
   {
    "duration": 394,
    "start_time": "2022-03-04T18:18:46.678Z"
   },
   {
    "duration": 13,
    "start_time": "2022-03-04T18:18:47.074Z"
   },
   {
    "duration": 46,
    "start_time": "2022-03-04T18:18:47.089Z"
   },
   {
    "duration": 24,
    "start_time": "2022-03-04T18:18:47.137Z"
   },
   {
    "duration": 41,
    "start_time": "2022-03-04T18:18:47.163Z"
   },
   {
    "duration": 36,
    "start_time": "2022-03-04T18:18:47.206Z"
   },
   {
    "duration": 5,
    "start_time": "2022-03-04T18:18:47.245Z"
   },
   {
    "duration": 13,
    "start_time": "2022-03-04T18:18:47.252Z"
   },
   {
    "duration": 9,
    "start_time": "2022-03-04T18:18:47.267Z"
   },
   {
    "duration": 32,
    "start_time": "2022-03-04T18:18:47.278Z"
   },
   {
    "duration": 9,
    "start_time": "2022-03-04T18:18:47.312Z"
   },
   {
    "duration": 37,
    "start_time": "2022-03-04T18:18:47.323Z"
   },
   {
    "duration": 44,
    "start_time": "2022-03-04T18:18:47.362Z"
   },
   {
    "duration": 37,
    "start_time": "2022-03-04T18:18:47.408Z"
   },
   {
    "duration": 28,
    "start_time": "2022-03-04T18:18:47.447Z"
   },
   {
    "duration": 11,
    "start_time": "2022-03-04T18:18:47.477Z"
   },
   {
    "duration": 21,
    "start_time": "2022-03-04T18:18:47.491Z"
   },
   {
    "duration": 8,
    "start_time": "2022-03-04T18:18:47.514Z"
   },
   {
    "duration": 18,
    "start_time": "2022-03-04T18:18:47.524Z"
   },
   {
    "duration": 16,
    "start_time": "2022-03-04T18:18:47.544Z"
   },
   {
    "duration": 45,
    "start_time": "2022-03-04T18:18:47.562Z"
   },
   {
    "duration": 28,
    "start_time": "2022-03-04T18:18:47.609Z"
   },
   {
    "duration": 8,
    "start_time": "2022-03-04T18:18:47.639Z"
   },
   {
    "duration": 53,
    "start_time": "2022-03-04T18:18:47.649Z"
   },
   {
    "duration": 10,
    "start_time": "2022-03-04T18:18:47.704Z"
   },
   {
    "duration": 38,
    "start_time": "2022-03-04T18:18:47.719Z"
   },
   {
    "duration": 10,
    "start_time": "2022-03-04T18:18:47.761Z"
   },
   {
    "duration": 12,
    "start_time": "2022-03-04T18:18:47.773Z"
   },
   {
    "duration": 24,
    "start_time": "2022-03-04T18:18:47.787Z"
   },
   {
    "duration": 26,
    "start_time": "2022-03-04T18:18:47.813Z"
   },
   {
    "duration": 8,
    "start_time": "2022-03-04T18:18:47.841Z"
   },
   {
    "duration": 19,
    "start_time": "2022-03-04T18:18:47.851Z"
   },
   {
    "duration": 13,
    "start_time": "2022-03-04T18:18:47.872Z"
   },
   {
    "duration": 23,
    "start_time": "2022-03-04T18:18:47.887Z"
   },
   {
    "duration": 9,
    "start_time": "2022-03-04T18:18:47.911Z"
   },
   {
    "duration": 34,
    "start_time": "2022-03-04T18:18:47.922Z"
   },
   {
    "duration": 8,
    "start_time": "2022-03-04T18:18:47.958Z"
   },
   {
    "duration": 54,
    "start_time": "2022-03-04T18:18:47.968Z"
   },
   {
    "duration": 7,
    "start_time": "2022-03-04T18:18:48.024Z"
   },
   {
    "duration": 21,
    "start_time": "2022-03-04T18:18:48.033Z"
   },
   {
    "duration": 8,
    "start_time": "2022-03-04T18:18:48.056Z"
   },
   {
    "duration": 35,
    "start_time": "2022-03-04T18:18:48.066Z"
   },
   {
    "duration": 7,
    "start_time": "2022-03-04T18:18:48.104Z"
   },
   {
    "duration": 23,
    "start_time": "2022-03-04T18:18:48.113Z"
   },
   {
    "duration": 10,
    "start_time": "2022-03-04T18:18:48.138Z"
   },
   {
    "duration": 19,
    "start_time": "2022-03-04T18:18:48.150Z"
   },
   {
    "duration": 37,
    "start_time": "2022-03-04T18:18:48.171Z"
   },
   {
    "duration": 12,
    "start_time": "2022-03-04T18:18:48.209Z"
   },
   {
    "duration": 11,
    "start_time": "2022-03-04T18:18:48.222Z"
   },
   {
    "duration": 18,
    "start_time": "2022-03-04T18:18:48.236Z"
   },
   {
    "duration": 16,
    "start_time": "2022-03-04T18:18:48.256Z"
   },
   {
    "duration": 34,
    "start_time": "2022-03-04T18:18:48.275Z"
   },
   {
    "duration": 7,
    "start_time": "2022-03-04T18:18:48.311Z"
   },
   {
    "duration": 17,
    "start_time": "2022-03-04T18:18:48.320Z"
   },
   {
    "duration": 15,
    "start_time": "2022-03-04T18:18:48.339Z"
   },
   {
    "duration": 13,
    "start_time": "2022-03-04T18:18:48.357Z"
   },
   {
    "duration": 38,
    "start_time": "2022-03-04T18:18:48.372Z"
   },
   {
    "duration": 9,
    "start_time": "2022-03-04T18:18:48.412Z"
   },
   {
    "duration": 15,
    "start_time": "2022-03-04T18:18:48.424Z"
   },
   {
    "duration": 40,
    "start_time": "2022-03-04T18:18:48.441Z"
   },
   {
    "duration": 21,
    "start_time": "2022-03-04T18:18:48.483Z"
   },
   {
    "duration": 22,
    "start_time": "2022-03-04T18:18:48.506Z"
   },
   {
    "duration": 24,
    "start_time": "2022-03-04T18:18:48.530Z"
   },
   {
    "duration": 10,
    "start_time": "2022-03-04T18:18:48.556Z"
   },
   {
    "duration": 34,
    "start_time": "2022-03-04T18:18:48.568Z"
   },
   {
    "duration": 50,
    "start_time": "2022-03-04T18:18:48.604Z"
   },
   {
    "duration": 3,
    "start_time": "2022-03-04T18:18:48.655Z"
   },
   {
    "duration": 10,
    "start_time": "2022-03-04T18:18:48.660Z"
   },
   {
    "duration": 554,
    "start_time": "2022-03-04T18:18:48.672Z"
   },
   {
    "duration": 10,
    "start_time": "2022-03-04T18:18:49.228Z"
   },
   {
    "duration": 9,
    "start_time": "2022-03-04T18:18:49.241Z"
   },
   {
    "duration": 10,
    "start_time": "2022-03-04T18:18:49.252Z"
   },
   {
    "duration": 36,
    "start_time": "2022-03-04T18:18:49.265Z"
   },
   {
    "duration": 9,
    "start_time": "2022-03-04T18:18:49.304Z"
   },
   {
    "duration": 6,
    "start_time": "2022-03-04T18:18:49.315Z"
   },
   {
    "duration": 6,
    "start_time": "2022-03-04T18:18:49.323Z"
   },
   {
    "duration": 10,
    "start_time": "2022-03-04T18:18:49.331Z"
   },
   {
    "duration": 16,
    "start_time": "2022-03-04T18:18:49.343Z"
   },
   {
    "duration": 42,
    "start_time": "2022-03-04T18:18:49.361Z"
   },
   {
    "duration": 4,
    "start_time": "2022-03-04T18:18:49.411Z"
   },
   {
    "duration": 237,
    "start_time": "2022-03-04T18:18:49.418Z"
   },
   {
    "duration": 5,
    "start_time": "2022-03-04T18:18:49.657Z"
   },
   {
    "duration": 48,
    "start_time": "2022-03-04T18:18:49.663Z"
   },
   {
    "duration": 6,
    "start_time": "2022-03-04T18:18:49.712Z"
   },
   {
    "duration": 395,
    "start_time": "2022-03-04T18:18:49.720Z"
   },
   {
    "duration": 208,
    "start_time": "2022-03-04T18:18:50.117Z"
   },
   {
    "duration": 190,
    "start_time": "2022-03-04T18:18:50.327Z"
   },
   {
    "duration": 10,
    "start_time": "2022-03-04T18:18:50.519Z"
   },
   {
    "duration": 291,
    "start_time": "2022-03-04T18:18:50.531Z"
   },
   {
    "duration": 15,
    "start_time": "2022-03-04T18:18:50.824Z"
   },
   {
    "duration": 214,
    "start_time": "2022-03-04T18:18:50.841Z"
   },
   {
    "duration": 294,
    "start_time": "2022-03-04T18:18:51.057Z"
   },
   {
    "duration": 8,
    "start_time": "2022-03-04T18:18:51.353Z"
   },
   {
    "duration": 198,
    "start_time": "2022-03-04T18:18:51.363Z"
   },
   {
    "duration": 68,
    "start_time": "2022-03-04T18:18:51.562Z"
   },
   {
    "duration": 13,
    "start_time": "2022-03-04T18:18:51.632Z"
   },
   {
    "duration": 179,
    "start_time": "2022-03-04T18:18:51.647Z"
   },
   {
    "duration": 208,
    "start_time": "2022-03-04T18:18:51.829Z"
   },
   {
    "duration": 221,
    "start_time": "2022-03-04T18:18:52.039Z"
   },
   {
    "duration": 9,
    "start_time": "2022-03-04T18:18:52.262Z"
   },
   {
    "duration": 212,
    "start_time": "2022-03-04T18:18:52.273Z"
   },
   {
    "duration": 22,
    "start_time": "2022-03-04T18:18:52.487Z"
   },
   {
    "duration": 170,
    "start_time": "2022-03-04T18:18:52.511Z"
   },
   {
    "duration": 203,
    "start_time": "2022-03-04T18:18:52.683Z"
   },
   {
    "duration": 216,
    "start_time": "2022-03-04T18:18:52.888Z"
   },
   {
    "duration": 8,
    "start_time": "2022-03-04T18:18:53.106Z"
   },
   {
    "duration": 311,
    "start_time": "2022-03-04T18:18:53.116Z"
   },
   {
    "duration": 12,
    "start_time": "2022-03-04T18:18:53.429Z"
   },
   {
    "duration": 193,
    "start_time": "2022-03-04T18:18:53.443Z"
   },
   {
    "duration": 235,
    "start_time": "2022-03-04T18:18:53.638Z"
   },
   {
    "duration": 214,
    "start_time": "2022-03-04T18:18:53.875Z"
   },
   {
    "duration": 16,
    "start_time": "2022-03-04T18:18:54.091Z"
   },
   {
    "duration": 207,
    "start_time": "2022-03-04T18:18:54.109Z"
   },
   {
    "duration": 5,
    "start_time": "2022-03-04T18:18:54.318Z"
   },
   {
    "duration": 8,
    "start_time": "2022-03-04T18:18:54.325Z"
   },
   {
    "duration": 13,
    "start_time": "2022-03-04T18:18:54.335Z"
   },
   {
    "duration": 5,
    "start_time": "2022-03-04T18:18:54.350Z"
   },
   {
    "duration": 6,
    "start_time": "2022-03-04T18:18:54.357Z"
   },
   {
    "duration": 7,
    "start_time": "2022-03-04T18:18:54.365Z"
   },
   {
    "duration": 27,
    "start_time": "2022-03-04T18:18:54.374Z"
   },
   {
    "duration": 6,
    "start_time": "2022-03-04T18:18:54.403Z"
   },
   {
    "duration": 14,
    "start_time": "2022-03-04T18:18:54.410Z"
   },
   {
    "duration": 9,
    "start_time": "2022-03-04T18:18:54.425Z"
   },
   {
    "duration": 11,
    "start_time": "2022-03-04T18:18:54.436Z"
   },
   {
    "duration": 6,
    "start_time": "2022-03-04T18:18:54.449Z"
   },
   {
    "duration": 10,
    "start_time": "2022-03-04T18:18:54.457Z"
   },
   {
    "duration": 9,
    "start_time": "2022-03-04T18:18:54.469Z"
   },
   {
    "duration": 24,
    "start_time": "2022-03-04T18:18:54.480Z"
   },
   {
    "duration": 11,
    "start_time": "2022-03-04T18:18:54.506Z"
   },
   {
    "duration": 8,
    "start_time": "2022-03-04T18:18:54.519Z"
   },
   {
    "duration": 1613,
    "start_time": "2022-03-04T18:32:59.340Z"
   },
   {
    "duration": 492,
    "start_time": "2022-03-04T18:33:00.956Z"
   },
   {
    "duration": 20,
    "start_time": "2022-03-04T18:33:01.452Z"
   },
   {
    "duration": 59,
    "start_time": "2022-03-04T18:33:01.475Z"
   },
   {
    "duration": 50,
    "start_time": "2022-03-04T18:33:01.537Z"
   },
   {
    "duration": 70,
    "start_time": "2022-03-04T18:33:01.590Z"
   },
   {
    "duration": 76,
    "start_time": "2022-03-04T18:33:01.663Z"
   },
   {
    "duration": 6,
    "start_time": "2022-03-04T18:33:01.742Z"
   },
   {
    "duration": 8,
    "start_time": "2022-03-04T18:33:01.754Z"
   },
   {
    "duration": 32,
    "start_time": "2022-03-04T18:33:01.766Z"
   },
   {
    "duration": 18,
    "start_time": "2022-03-04T18:33:01.801Z"
   },
   {
    "duration": 15,
    "start_time": "2022-03-04T18:33:01.822Z"
   },
   {
    "duration": 86,
    "start_time": "2022-03-04T18:33:01.840Z"
   },
   {
    "duration": 34,
    "start_time": "2022-03-04T18:33:01.929Z"
   },
   {
    "duration": 64,
    "start_time": "2022-03-04T18:33:01.966Z"
   },
   {
    "duration": 60,
    "start_time": "2022-03-04T18:33:02.033Z"
   },
   {
    "duration": 15,
    "start_time": "2022-03-04T18:33:02.095Z"
   },
   {
    "duration": 22,
    "start_time": "2022-03-04T18:33:02.113Z"
   },
   {
    "duration": 10,
    "start_time": "2022-03-04T18:33:02.137Z"
   },
   {
    "duration": 60,
    "start_time": "2022-03-04T18:33:02.149Z"
   },
   {
    "duration": 30,
    "start_time": "2022-03-04T18:33:02.211Z"
   },
   {
    "duration": 32,
    "start_time": "2022-03-04T18:33:02.244Z"
   },
   {
    "duration": 44,
    "start_time": "2022-03-04T18:33:02.278Z"
   },
   {
    "duration": 11,
    "start_time": "2022-03-04T18:33:02.325Z"
   },
   {
    "duration": 13,
    "start_time": "2022-03-04T18:33:02.339Z"
   },
   {
    "duration": 15,
    "start_time": "2022-03-04T18:33:02.355Z"
   },
   {
    "duration": 53,
    "start_time": "2022-03-04T18:33:02.395Z"
   },
   {
    "duration": 36,
    "start_time": "2022-03-04T18:33:02.453Z"
   },
   {
    "duration": 12,
    "start_time": "2022-03-04T18:33:02.491Z"
   },
   {
    "duration": 23,
    "start_time": "2022-03-04T18:33:02.506Z"
   },
   {
    "duration": 25,
    "start_time": "2022-03-04T18:33:02.532Z"
   },
   {
    "duration": 30,
    "start_time": "2022-03-04T18:33:02.560Z"
   },
   {
    "duration": 13,
    "start_time": "2022-03-04T18:33:02.592Z"
   },
   {
    "duration": 20,
    "start_time": "2022-03-04T18:33:02.608Z"
   },
   {
    "duration": 20,
    "start_time": "2022-03-04T18:33:02.630Z"
   },
   {
    "duration": 14,
    "start_time": "2022-03-04T18:33:02.652Z"
   },
   {
    "duration": 51,
    "start_time": "2022-03-04T18:33:02.669Z"
   },
   {
    "duration": 15,
    "start_time": "2022-03-04T18:33:02.723Z"
   },
   {
    "duration": 65,
    "start_time": "2022-03-04T18:33:02.741Z"
   },
   {
    "duration": 13,
    "start_time": "2022-03-04T18:33:02.808Z"
   },
   {
    "duration": 29,
    "start_time": "2022-03-04T18:33:02.823Z"
   },
   {
    "duration": 34,
    "start_time": "2022-03-04T18:33:02.855Z"
   },
   {
    "duration": 28,
    "start_time": "2022-03-04T18:33:02.891Z"
   },
   {
    "duration": 12,
    "start_time": "2022-03-04T18:33:02.921Z"
   },
   {
    "duration": 56,
    "start_time": "2022-03-04T18:33:02.936Z"
   },
   {
    "duration": 17,
    "start_time": "2022-03-04T18:33:02.995Z"
   },
   {
    "duration": 43,
    "start_time": "2022-03-04T18:33:03.015Z"
   },
   {
    "duration": 28,
    "start_time": "2022-03-04T18:33:03.061Z"
   },
   {
    "duration": 13,
    "start_time": "2022-03-04T18:33:03.093Z"
   },
   {
    "duration": 11,
    "start_time": "2022-03-04T18:33:03.109Z"
   },
   {
    "duration": 15,
    "start_time": "2022-03-04T18:33:03.123Z"
   },
   {
    "duration": 12,
    "start_time": "2022-03-04T18:33:03.141Z"
   },
   {
    "duration": 41,
    "start_time": "2022-03-04T18:33:03.155Z"
   },
   {
    "duration": 13,
    "start_time": "2022-03-04T18:33:03.199Z"
   },
   {
    "duration": 11,
    "start_time": "2022-03-04T18:33:03.214Z"
   },
   {
    "duration": 17,
    "start_time": "2022-03-04T18:33:03.227Z"
   },
   {
    "duration": 46,
    "start_time": "2022-03-04T18:33:03.246Z"
   },
   {
    "duration": 30,
    "start_time": "2022-03-04T18:33:03.295Z"
   },
   {
    "duration": 22,
    "start_time": "2022-03-04T18:33:03.327Z"
   },
   {
    "duration": 25,
    "start_time": "2022-03-04T18:33:03.351Z"
   },
   {
    "duration": 17,
    "start_time": "2022-03-04T18:33:03.378Z"
   },
   {
    "duration": 23,
    "start_time": "2022-03-04T18:33:03.397Z"
   },
   {
    "duration": 34,
    "start_time": "2022-03-04T18:33:03.422Z"
   },
   {
    "duration": 50,
    "start_time": "2022-03-04T18:33:03.458Z"
   },
   {
    "duration": 13,
    "start_time": "2022-03-04T18:33:03.511Z"
   },
   {
    "duration": 20,
    "start_time": "2022-03-04T18:33:03.527Z"
   },
   {
    "duration": 97,
    "start_time": "2022-03-04T18:33:03.551Z"
   },
   {
    "duration": 4,
    "start_time": "2022-03-04T18:33:03.650Z"
   },
   {
    "duration": 14,
    "start_time": "2022-03-04T18:33:03.662Z"
   },
   {
    "duration": 1046,
    "start_time": "2022-03-04T18:33:03.678Z"
   },
   {
    "duration": 15,
    "start_time": "2022-03-04T18:33:04.727Z"
   },
   {
    "duration": 10,
    "start_time": "2022-03-04T18:33:04.745Z"
   },
   {
    "duration": 39,
    "start_time": "2022-03-04T18:33:04.758Z"
   },
   {
    "duration": 5,
    "start_time": "2022-03-04T18:33:04.799Z"
   },
   {
    "duration": 10,
    "start_time": "2022-03-04T18:33:04.806Z"
   },
   {
    "duration": 11,
    "start_time": "2022-03-04T18:33:04.818Z"
   },
   {
    "duration": 8,
    "start_time": "2022-03-04T18:33:04.832Z"
   },
   {
    "duration": 46,
    "start_time": "2022-03-04T18:33:04.842Z"
   },
   {
    "duration": 12,
    "start_time": "2022-03-04T18:33:04.890Z"
   },
   {
    "duration": 25,
    "start_time": "2022-03-04T18:33:04.904Z"
   },
   {
    "duration": 6,
    "start_time": "2022-03-04T18:33:04.939Z"
   },
   {
    "duration": 406,
    "start_time": "2022-03-04T18:33:04.948Z"
   },
   {
    "duration": 5,
    "start_time": "2022-03-04T18:33:05.357Z"
   },
   {
    "duration": 68,
    "start_time": "2022-03-04T18:33:05.364Z"
   },
   {
    "duration": 8,
    "start_time": "2022-03-04T18:33:05.434Z"
   },
   {
    "duration": 525,
    "start_time": "2022-03-04T18:33:05.445Z"
   },
   {
    "duration": 322,
    "start_time": "2022-03-04T18:33:05.972Z"
   },
   {
    "duration": 282,
    "start_time": "2022-03-04T18:33:06.296Z"
   },
   {
    "duration": 15,
    "start_time": "2022-03-04T18:33:06.581Z"
   },
   {
    "duration": 390,
    "start_time": "2022-03-04T18:33:06.599Z"
   },
   {
    "duration": 17,
    "start_time": "2022-03-04T18:33:06.992Z"
   },
   {
    "duration": 325,
    "start_time": "2022-03-04T18:33:07.011Z"
   },
   {
    "duration": 285,
    "start_time": "2022-03-04T18:33:07.338Z"
   },
   {
    "duration": 11,
    "start_time": "2022-03-04T18:33:07.625Z"
   },
   {
    "duration": 312,
    "start_time": "2022-03-04T18:33:07.639Z"
   },
   {
    "duration": 88,
    "start_time": "2022-03-04T18:33:07.953Z"
   },
   {
    "duration": 16,
    "start_time": "2022-03-04T18:33:08.043Z"
   },
   {
    "duration": 261,
    "start_time": "2022-03-04T18:33:08.061Z"
   },
   {
    "duration": 323,
    "start_time": "2022-03-04T18:33:08.324Z"
   },
   {
    "duration": 342,
    "start_time": "2022-03-04T18:33:08.649Z"
   },
   {
    "duration": 10,
    "start_time": "2022-03-04T18:33:08.993Z"
   },
   {
    "duration": 309,
    "start_time": "2022-03-04T18:33:09.005Z"
   },
   {
    "duration": 18,
    "start_time": "2022-03-04T18:33:09.316Z"
   },
   {
    "duration": 261,
    "start_time": "2022-03-04T18:33:09.336Z"
   },
   {
    "duration": 314,
    "start_time": "2022-03-04T18:33:09.599Z"
   },
   {
    "duration": 320,
    "start_time": "2022-03-04T18:33:09.916Z"
   },
   {
    "duration": 11,
    "start_time": "2022-03-04T18:33:10.239Z"
   },
   {
    "duration": 396,
    "start_time": "2022-03-04T18:33:10.252Z"
   },
   {
    "duration": 17,
    "start_time": "2022-03-04T18:33:10.650Z"
   },
   {
    "duration": 285,
    "start_time": "2022-03-04T18:33:10.669Z"
   },
   {
    "duration": 333,
    "start_time": "2022-03-04T18:33:10.956Z"
   },
   {
    "duration": 318,
    "start_time": "2022-03-04T18:33:11.292Z"
   },
   {
    "duration": 11,
    "start_time": "2022-03-04T18:33:11.612Z"
   },
   {
    "duration": 310,
    "start_time": "2022-03-04T18:33:11.626Z"
   },
   {
    "duration": 6,
    "start_time": "2022-03-04T18:33:11.938Z"
   },
   {
    "duration": 8,
    "start_time": "2022-03-04T18:33:11.947Z"
   },
   {
    "duration": 30,
    "start_time": "2022-03-04T18:33:11.957Z"
   },
   {
    "duration": 4,
    "start_time": "2022-03-04T18:33:11.989Z"
   },
   {
    "duration": 7,
    "start_time": "2022-03-04T18:33:11.995Z"
   },
   {
    "duration": 11,
    "start_time": "2022-03-04T18:33:12.004Z"
   },
   {
    "duration": 8,
    "start_time": "2022-03-04T18:33:12.018Z"
   },
   {
    "duration": 11,
    "start_time": "2022-03-04T18:33:12.029Z"
   },
   {
    "duration": 46,
    "start_time": "2022-03-04T18:33:12.043Z"
   },
   {
    "duration": 10,
    "start_time": "2022-03-04T18:33:12.092Z"
   },
   {
    "duration": 6,
    "start_time": "2022-03-04T18:33:12.105Z"
   },
   {
    "duration": 5,
    "start_time": "2022-03-04T18:33:12.113Z"
   },
   {
    "duration": 9,
    "start_time": "2022-03-04T18:33:12.121Z"
   },
   {
    "duration": 5,
    "start_time": "2022-03-04T18:33:12.133Z"
   },
   {
    "duration": 8,
    "start_time": "2022-03-04T18:33:12.140Z"
   },
   {
    "duration": 41,
    "start_time": "2022-03-04T18:33:12.151Z"
   },
   {
    "duration": 8,
    "start_time": "2022-03-04T18:33:12.194Z"
   },
   {
    "duration": 5,
    "start_time": "2022-03-04T18:33:59.152Z"
   },
   {
    "duration": 1360,
    "start_time": "2022-03-17T11:04:49.869Z"
   },
   {
    "duration": 367,
    "start_time": "2022-03-17T11:04:51.231Z"
   },
   {
    "duration": 13,
    "start_time": "2022-03-17T11:04:51.599Z"
   },
   {
    "duration": 30,
    "start_time": "2022-03-17T11:04:51.614Z"
   },
   {
    "duration": 28,
    "start_time": "2022-03-17T11:04:51.647Z"
   },
   {
    "duration": 34,
    "start_time": "2022-03-17T11:04:51.677Z"
   },
   {
    "duration": 27,
    "start_time": "2022-03-17T11:04:51.713Z"
   },
   {
    "duration": 7,
    "start_time": "2022-03-17T11:04:51.741Z"
   },
   {
    "duration": 9,
    "start_time": "2022-03-17T11:04:51.749Z"
   },
   {
    "duration": 24,
    "start_time": "2022-03-17T11:04:51.759Z"
   },
   {
    "duration": 8,
    "start_time": "2022-03-17T11:04:51.785Z"
   },
   {
    "duration": 64,
    "start_time": "2022-03-17T11:04:51.794Z"
   },
   {
    "duration": 22,
    "start_time": "2022-03-17T11:04:51.859Z"
   },
   {
    "duration": 17,
    "start_time": "2022-03-17T11:04:51.884Z"
   },
   {
    "duration": 43,
    "start_time": "2022-03-17T11:04:51.903Z"
   },
   {
    "duration": 9,
    "start_time": "2022-03-17T11:04:51.948Z"
   },
   {
    "duration": 14,
    "start_time": "2022-03-17T11:04:51.958Z"
   },
   {
    "duration": 7,
    "start_time": "2022-03-17T11:04:51.974Z"
   },
   {
    "duration": 15,
    "start_time": "2022-03-17T11:04:51.982Z"
   },
   {
    "duration": 47,
    "start_time": "2022-03-17T11:04:51.999Z"
   },
   {
    "duration": 14,
    "start_time": "2022-03-17T11:04:52.048Z"
   },
   {
    "duration": 34,
    "start_time": "2022-03-17T11:04:52.064Z"
   },
   {
    "duration": 10,
    "start_time": "2022-03-17T11:04:52.099Z"
   },
   {
    "duration": 38,
    "start_time": "2022-03-17T11:04:52.111Z"
   },
   {
    "duration": 10,
    "start_time": "2022-03-17T11:04:52.151Z"
   },
   {
    "duration": 32,
    "start_time": "2022-03-17T11:04:52.163Z"
   },
   {
    "duration": 10,
    "start_time": "2022-03-17T11:04:52.196Z"
   },
   {
    "duration": 8,
    "start_time": "2022-03-17T11:04:52.207Z"
   },
   {
    "duration": 37,
    "start_time": "2022-03-17T11:04:52.216Z"
   },
   {
    "duration": 21,
    "start_time": "2022-03-17T11:04:52.255Z"
   },
   {
    "duration": 13,
    "start_time": "2022-03-17T11:04:52.278Z"
   },
   {
    "duration": 9,
    "start_time": "2022-03-17T11:04:52.293Z"
   },
   {
    "duration": 12,
    "start_time": "2022-03-17T11:04:52.303Z"
   },
   {
    "duration": 28,
    "start_time": "2022-03-17T11:04:52.317Z"
   },
   {
    "duration": 11,
    "start_time": "2022-03-17T11:04:52.347Z"
   },
   {
    "duration": 26,
    "start_time": "2022-03-17T11:04:52.360Z"
   },
   {
    "duration": 9,
    "start_time": "2022-03-17T11:04:52.388Z"
   },
   {
    "duration": 57,
    "start_time": "2022-03-17T11:04:52.399Z"
   },
   {
    "duration": 7,
    "start_time": "2022-03-17T11:04:52.457Z"
   },
   {
    "duration": 18,
    "start_time": "2022-03-17T11:04:52.466Z"
   },
   {
    "duration": 8,
    "start_time": "2022-03-17T11:04:52.490Z"
   },
   {
    "duration": 40,
    "start_time": "2022-03-17T11:04:52.500Z"
   },
   {
    "duration": 7,
    "start_time": "2022-03-17T11:04:52.542Z"
   },
   {
    "duration": 29,
    "start_time": "2022-03-17T11:04:52.550Z"
   },
   {
    "duration": 12,
    "start_time": "2022-03-17T11:04:52.580Z"
   },
   {
    "duration": 37,
    "start_time": "2022-03-17T11:04:52.594Z"
   },
   {
    "duration": 7,
    "start_time": "2022-03-17T11:04:52.634Z"
   },
   {
    "duration": 16,
    "start_time": "2022-03-17T11:04:52.643Z"
   },
   {
    "duration": 13,
    "start_time": "2022-03-17T11:04:52.662Z"
   },
   {
    "duration": 13,
    "start_time": "2022-03-17T11:04:52.677Z"
   },
   {
    "duration": 21,
    "start_time": "2022-03-17T11:04:52.692Z"
   },
   {
    "duration": 28,
    "start_time": "2022-03-17T11:04:52.715Z"
   },
   {
    "duration": 11,
    "start_time": "2022-03-17T11:04:52.745Z"
   },
   {
    "duration": 17,
    "start_time": "2022-03-17T11:04:52.758Z"
   },
   {
    "duration": 23,
    "start_time": "2022-03-17T11:04:52.777Z"
   },
   {
    "duration": 17,
    "start_time": "2022-03-17T11:04:52.802Z"
   },
   {
    "duration": 19,
    "start_time": "2022-03-17T11:04:52.821Z"
   },
   {
    "duration": 15,
    "start_time": "2022-03-17T11:04:52.842Z"
   },
   {
    "duration": 16,
    "start_time": "2022-03-17T11:04:52.858Z"
   },
   {
    "duration": 8,
    "start_time": "2022-03-17T11:04:52.875Z"
   },
   {
    "duration": 9,
    "start_time": "2022-03-17T11:04:52.885Z"
   },
   {
    "duration": 45,
    "start_time": "2022-03-17T11:04:52.896Z"
   },
   {
    "duration": 19,
    "start_time": "2022-03-17T11:04:52.942Z"
   },
   {
    "duration": 30,
    "start_time": "2022-03-17T11:04:52.962Z"
   },
   {
    "duration": 19,
    "start_time": "2022-03-17T11:04:52.994Z"
   },
   {
    "duration": 59,
    "start_time": "2022-03-17T11:04:53.015Z"
   },
   {
    "duration": 2,
    "start_time": "2022-03-17T11:04:53.076Z"
   },
   {
    "duration": 7,
    "start_time": "2022-03-17T11:04:53.080Z"
   },
   {
    "duration": 633,
    "start_time": "2022-03-17T11:04:53.088Z"
   },
   {
    "duration": 20,
    "start_time": "2022-03-17T11:04:53.723Z"
   },
   {
    "duration": 8,
    "start_time": "2022-03-17T11:04:53.744Z"
   },
   {
    "duration": 15,
    "start_time": "2022-03-17T11:04:53.754Z"
   },
   {
    "duration": 3,
    "start_time": "2022-03-17T11:04:53.771Z"
   },
   {
    "duration": 10,
    "start_time": "2022-03-17T11:04:53.775Z"
   },
   {
    "duration": 9,
    "start_time": "2022-03-17T11:04:53.786Z"
   },
   {
    "duration": 5,
    "start_time": "2022-03-17T11:04:53.797Z"
   },
   {
    "duration": 10,
    "start_time": "2022-03-17T11:04:53.803Z"
   },
   {
    "duration": 12,
    "start_time": "2022-03-17T11:04:53.838Z"
   },
   {
    "duration": 18,
    "start_time": "2022-03-17T11:04:53.852Z"
   },
   {
    "duration": 6,
    "start_time": "2022-03-17T11:04:53.871Z"
   },
   {
    "duration": 133,
    "start_time": "2022-03-17T11:04:53.878Z"
   },
   {
    "duration": 4,
    "start_time": "2022-03-17T11:04:54.013Z"
   },
   {
    "duration": 40,
    "start_time": "2022-03-17T11:04:54.018Z"
   },
   {
    "duration": 6,
    "start_time": "2022-03-17T11:04:54.059Z"
   },
   {
    "duration": 72,
    "start_time": "2022-03-17T11:04:54.067Z"
   },
   {
    "duration": 170,
    "start_time": "2022-03-17T11:04:54.141Z"
   },
   {
    "duration": 132,
    "start_time": "2022-03-17T11:04:54.313Z"
   },
   {
    "duration": 8,
    "start_time": "2022-03-17T11:04:54.447Z"
   },
   {
    "duration": 152,
    "start_time": "2022-03-17T11:04:54.457Z"
   },
   {
    "duration": 11,
    "start_time": "2022-03-17T11:04:54.611Z"
   },
   {
    "duration": 154,
    "start_time": "2022-03-17T11:04:54.637Z"
   },
   {
    "duration": 131,
    "start_time": "2022-03-17T11:04:54.793Z"
   },
   {
    "duration": 18,
    "start_time": "2022-03-17T11:04:54.925Z"
   },
   {
    "duration": 245,
    "start_time": "2022-03-17T11:04:54.946Z"
   },
   {
    "duration": 67,
    "start_time": "2022-03-17T11:04:55.194Z"
   },
   {
    "duration": 12,
    "start_time": "2022-03-17T11:04:55.263Z"
   },
   {
    "duration": 141,
    "start_time": "2022-03-17T11:04:55.278Z"
   },
   {
    "duration": 210,
    "start_time": "2022-03-17T11:04:55.421Z"
   },
   {
    "duration": 173,
    "start_time": "2022-03-17T11:04:55.633Z"
   },
   {
    "duration": 10,
    "start_time": "2022-03-17T11:04:55.808Z"
   },
   {
    "duration": 155,
    "start_time": "2022-03-17T11:04:55.819Z"
   },
   {
    "duration": 13,
    "start_time": "2022-03-17T11:04:55.976Z"
   },
   {
    "duration": 146,
    "start_time": "2022-03-17T11:04:55.991Z"
   },
   {
    "duration": 151,
    "start_time": "2022-03-17T11:04:56.139Z"
   },
   {
    "duration": 173,
    "start_time": "2022-03-17T11:04:56.292Z"
   },
   {
    "duration": 9,
    "start_time": "2022-03-17T11:04:56.467Z"
   },
   {
    "duration": 160,
    "start_time": "2022-03-17T11:04:56.477Z"
   },
   {
    "duration": 12,
    "start_time": "2022-03-17T11:04:56.639Z"
   },
   {
    "duration": 163,
    "start_time": "2022-03-17T11:04:56.653Z"
   },
   {
    "duration": 176,
    "start_time": "2022-03-17T11:04:56.818Z"
   },
   {
    "duration": 253,
    "start_time": "2022-03-17T11:04:56.996Z"
   },
   {
    "duration": 8,
    "start_time": "2022-03-17T11:04:57.251Z"
   },
   {
    "duration": 177,
    "start_time": "2022-03-17T11:04:57.261Z"
   },
   {
    "duration": 5,
    "start_time": "2022-03-17T11:04:57.440Z"
   },
   {
    "duration": 9,
    "start_time": "2022-03-17T11:04:57.446Z"
   },
   {
    "duration": 14,
    "start_time": "2022-03-17T11:04:57.457Z"
   },
   {
    "duration": 8,
    "start_time": "2022-03-17T11:04:57.474Z"
   },
   {
    "duration": 6,
    "start_time": "2022-03-17T11:04:57.484Z"
   },
   {
    "duration": 6,
    "start_time": "2022-03-17T11:04:57.492Z"
   },
   {
    "duration": 8,
    "start_time": "2022-03-17T11:04:57.500Z"
   },
   {
    "duration": 9,
    "start_time": "2022-03-17T11:04:57.510Z"
   },
   {
    "duration": 8,
    "start_time": "2022-03-17T11:04:57.539Z"
   },
   {
    "duration": 8,
    "start_time": "2022-03-17T11:04:57.549Z"
   },
   {
    "duration": 6,
    "start_time": "2022-03-17T11:04:57.559Z"
   },
   {
    "duration": 5,
    "start_time": "2022-03-17T11:04:57.569Z"
   },
   {
    "duration": 8,
    "start_time": "2022-03-17T11:04:57.576Z"
   },
   {
    "duration": 8,
    "start_time": "2022-03-17T11:04:57.586Z"
   },
   {
    "duration": 6,
    "start_time": "2022-03-17T11:04:57.596Z"
   },
   {
    "duration": 36,
    "start_time": "2022-03-17T11:04:57.604Z"
   },
   {
    "duration": 10,
    "start_time": "2022-03-17T11:04:57.642Z"
   },
   {
    "duration": 1188,
    "start_time": "2022-03-17T11:10:03.277Z"
   },
   {
    "duration": 395,
    "start_time": "2022-03-17T11:10:04.467Z"
   },
   {
    "duration": 13,
    "start_time": "2022-03-17T11:10:04.982Z"
   },
   {
    "duration": 31,
    "start_time": "2022-03-17T11:10:04.997Z"
   },
   {
    "duration": 29,
    "start_time": "2022-03-17T11:10:05.073Z"
   },
   {
    "duration": 34,
    "start_time": "2022-03-17T11:10:05.104Z"
   },
   {
    "duration": 6,
    "start_time": "2022-03-17T11:10:05.141Z"
   },
   {
    "duration": 6,
    "start_time": "2022-03-17T11:10:06.654Z"
   },
   {
    "duration": 27,
    "start_time": "2022-03-17T11:10:06.662Z"
   },
   {
    "duration": 26,
    "start_time": "2022-03-17T11:10:06.691Z"
   },
   {
    "duration": 11,
    "start_time": "2022-03-17T11:10:06.719Z"
   },
   {
    "duration": 40,
    "start_time": "2022-03-17T11:10:07.398Z"
   },
   {
    "duration": 37,
    "start_time": "2022-03-17T11:10:07.440Z"
   },
   {
    "duration": 30,
    "start_time": "2022-03-17T11:10:07.576Z"
   },
   {
    "duration": 42,
    "start_time": "2022-03-17T11:10:07.608Z"
   },
   {
    "duration": 11,
    "start_time": "2022-03-17T11:10:07.652Z"
   },
   {
    "duration": 39,
    "start_time": "2022-03-17T11:10:07.664Z"
   },
   {
    "duration": 9,
    "start_time": "2022-03-17T11:10:07.706Z"
   },
   {
    "duration": 32,
    "start_time": "2022-03-17T11:10:07.717Z"
   },
   {
    "duration": 44,
    "start_time": "2022-03-17T11:10:07.750Z"
   },
   {
    "duration": 26,
    "start_time": "2022-03-17T11:10:07.797Z"
   },
   {
    "duration": 43,
    "start_time": "2022-03-17T11:10:07.825Z"
   },
   {
    "duration": 17,
    "start_time": "2022-03-17T11:10:07.870Z"
   },
   {
    "duration": 26,
    "start_time": "2022-03-17T11:10:07.888Z"
   },
   {
    "duration": 11,
    "start_time": "2022-03-17T11:10:08.028Z"
   },
   {
    "duration": 41,
    "start_time": "2022-03-17T11:10:08.043Z"
   },
   {
    "duration": 11,
    "start_time": "2022-03-17T11:10:08.086Z"
   },
   {
    "duration": 32,
    "start_time": "2022-03-17T11:10:08.099Z"
   },
   {
    "duration": 27,
    "start_time": "2022-03-17T11:10:08.141Z"
   },
   {
    "duration": 26,
    "start_time": "2022-03-17T11:10:08.170Z"
   },
   {
    "duration": 24,
    "start_time": "2022-03-17T11:10:08.198Z"
   },
   {
    "duration": 6,
    "start_time": "2022-03-17T11:10:08.340Z"
   },
   {
    "duration": 20,
    "start_time": "2022-03-17T11:10:08.348Z"
   },
   {
    "duration": 12,
    "start_time": "2022-03-17T11:10:08.689Z"
   },
   {
    "duration": 26,
    "start_time": "2022-03-17T11:10:08.703Z"
   },
   {
    "duration": 43,
    "start_time": "2022-03-17T11:10:08.731Z"
   },
   {
    "duration": 12,
    "start_time": "2022-03-17T11:10:35.377Z"
   },
   {
    "duration": 49,
    "start_time": "2022-03-17T11:10:35.391Z"
   },
   {
    "duration": 8,
    "start_time": "2022-03-17T11:10:35.442Z"
   },
   {
    "duration": 19,
    "start_time": "2022-03-17T11:10:35.452Z"
   },
   {
    "duration": 9,
    "start_time": "2022-03-17T11:10:35.474Z"
   },
   {
    "duration": 22,
    "start_time": "2022-03-17T11:10:35.965Z"
   },
   {
    "duration": 8,
    "start_time": "2022-03-17T11:10:35.990Z"
   },
   {
    "duration": 23,
    "start_time": "2022-03-17T11:10:35.999Z"
   },
   {
    "duration": 10,
    "start_time": "2022-03-17T11:10:36.050Z"
   },
   {
    "duration": 27,
    "start_time": "2022-03-17T11:10:36.062Z"
   },
   {
    "duration": 9,
    "start_time": "2022-03-17T11:10:37.124Z"
   },
   {
    "duration": 9,
    "start_time": "2022-03-17T11:10:37.135Z"
   },
   {
    "duration": 17,
    "start_time": "2022-03-17T11:10:37.146Z"
   },
   {
    "duration": 10,
    "start_time": "2022-03-17T11:10:37.164Z"
   },
   {
    "duration": 13,
    "start_time": "2022-03-17T11:10:37.176Z"
   },
   {
    "duration": 8,
    "start_time": "2022-03-17T11:10:37.201Z"
   },
   {
    "duration": 27,
    "start_time": "2022-03-17T11:10:37.211Z"
   },
   {
    "duration": 10,
    "start_time": "2022-03-17T11:10:37.423Z"
   },
   {
    "duration": 10,
    "start_time": "2022-03-17T11:10:37.435Z"
   },
   {
    "duration": 12,
    "start_time": "2022-03-17T11:10:37.447Z"
   },
   {
    "duration": 14,
    "start_time": "2022-03-17T11:10:37.461Z"
   },
   {
    "duration": 10,
    "start_time": "2022-03-17T11:10:37.478Z"
   },
   {
    "duration": 16,
    "start_time": "2022-03-17T11:10:37.489Z"
   },
   {
    "duration": 40,
    "start_time": "2022-03-17T11:10:37.506Z"
   },
   {
    "duration": 9,
    "start_time": "2022-03-17T11:10:37.690Z"
   },
   {
    "duration": 20,
    "start_time": "2022-03-17T11:10:37.701Z"
   },
   {
    "duration": 17,
    "start_time": "2022-03-17T11:10:37.722Z"
   },
   {
    "duration": 18,
    "start_time": "2022-03-17T11:10:37.741Z"
   },
   {
    "duration": 15,
    "start_time": "2022-03-17T11:10:37.792Z"
   },
   {
    "duration": 64,
    "start_time": "2022-03-17T11:10:37.810Z"
   },
   {
    "duration": 3,
    "start_time": "2022-03-17T11:10:38.176Z"
   },
   {
    "duration": 5,
    "start_time": "2022-03-17T11:10:38.182Z"
   },
   {
    "duration": 593,
    "start_time": "2022-03-17T11:10:38.188Z"
   },
   {
    "duration": 14,
    "start_time": "2022-03-17T11:10:38.783Z"
   },
   {
    "duration": 11,
    "start_time": "2022-03-17T11:10:38.801Z"
   },
   {
    "duration": 30,
    "start_time": "2022-03-17T11:10:38.815Z"
   },
   {
    "duration": 4,
    "start_time": "2022-03-17T11:10:38.847Z"
   },
   {
    "duration": 6,
    "start_time": "2022-03-17T11:10:38.853Z"
   },
   {
    "duration": 8,
    "start_time": "2022-03-17T11:10:38.861Z"
   },
   {
    "duration": 7,
    "start_time": "2022-03-17T11:10:38.871Z"
   },
   {
    "duration": 9,
    "start_time": "2022-03-17T11:10:39.755Z"
   },
   {
    "duration": 14,
    "start_time": "2022-03-17T11:10:39.766Z"
   },
   {
    "duration": 16,
    "start_time": "2022-03-17T11:10:39.782Z"
   },
   {
    "duration": 8,
    "start_time": "2022-03-17T11:10:39.799Z"
   },
   {
    "duration": 120,
    "start_time": "2022-03-17T11:10:39.809Z"
   },
   {
    "duration": 7,
    "start_time": "2022-03-17T11:10:39.931Z"
   },
   {
    "duration": 30,
    "start_time": "2022-03-17T11:10:39.939Z"
   },
   {
    "duration": 6,
    "start_time": "2022-03-17T11:10:39.971Z"
   },
   {
    "duration": 64,
    "start_time": "2022-03-17T11:10:39.979Z"
   },
   {
    "duration": 162,
    "start_time": "2022-03-17T11:10:40.046Z"
   },
   {
    "duration": 141,
    "start_time": "2022-03-17T11:10:40.210Z"
   },
   {
    "duration": 9,
    "start_time": "2022-03-17T11:10:40.353Z"
   },
   {
    "duration": 158,
    "start_time": "2022-03-17T11:10:40.363Z"
   },
   {
    "duration": 19,
    "start_time": "2022-03-17T11:10:40.525Z"
   },
   {
    "duration": 155,
    "start_time": "2022-03-17T11:10:40.546Z"
   },
   {
    "duration": 142,
    "start_time": "2022-03-17T11:10:40.704Z"
   },
   {
    "duration": 10,
    "start_time": "2022-03-17T11:10:40.848Z"
   },
   {
    "duration": 154,
    "start_time": "2022-03-17T11:10:40.859Z"
   },
   {
    "duration": 145,
    "start_time": "2022-03-17T11:10:41.016Z"
   },
   {
    "duration": 11,
    "start_time": "2022-03-17T11:10:41.163Z"
   },
   {
    "duration": 148,
    "start_time": "2022-03-17T11:10:41.176Z"
   },
   {
    "duration": 165,
    "start_time": "2022-03-17T11:10:41.326Z"
   },
   {
    "duration": 185,
    "start_time": "2022-03-17T11:10:41.493Z"
   },
   {
    "duration": 9,
    "start_time": "2022-03-17T11:10:41.680Z"
   },
   {
    "duration": 162,
    "start_time": "2022-03-17T11:10:41.691Z"
   },
   {
    "duration": 12,
    "start_time": "2022-03-17T11:10:41.855Z"
   },
   {
    "duration": 135,
    "start_time": "2022-03-17T11:10:41.869Z"
   },
   {
    "duration": 163,
    "start_time": "2022-03-17T11:10:42.007Z"
   },
   {
    "duration": 153,
    "start_time": "2022-03-17T11:11:22.946Z"
   },
   {
    "duration": 9,
    "start_time": "2022-03-17T11:11:23.101Z"
   },
   {
    "duration": 150,
    "start_time": "2022-03-17T11:11:23.112Z"
   },
   {
    "duration": 11,
    "start_time": "2022-03-17T11:11:23.264Z"
   },
   {
    "duration": 152,
    "start_time": "2022-03-17T11:11:23.277Z"
   },
   {
    "duration": 189,
    "start_time": "2022-03-17T11:11:23.431Z"
   },
   {
    "duration": 164,
    "start_time": "2022-03-17T11:11:23.622Z"
   },
   {
    "duration": 10,
    "start_time": "2022-03-17T11:11:23.788Z"
   },
   {
    "duration": 260,
    "start_time": "2022-03-17T11:11:23.800Z"
   },
   {
    "duration": 6,
    "start_time": "2022-03-17T11:11:24.062Z"
   },
   {
    "duration": 7,
    "start_time": "2022-03-17T11:11:24.070Z"
   },
   {
    "duration": 12,
    "start_time": "2022-03-17T11:11:24.080Z"
   },
   {
    "duration": 3,
    "start_time": "2022-03-17T11:11:24.094Z"
   },
   {
    "duration": 3,
    "start_time": "2022-03-17T11:11:24.101Z"
   },
   {
    "duration": 6,
    "start_time": "2022-03-17T11:11:24.106Z"
   },
   {
    "duration": 5,
    "start_time": "2022-03-17T11:11:24.138Z"
   },
   {
    "duration": 8,
    "start_time": "2022-03-17T11:11:24.145Z"
   },
   {
    "duration": 8,
    "start_time": "2022-03-17T11:11:24.155Z"
   },
   {
    "duration": 7,
    "start_time": "2022-03-17T11:11:24.165Z"
   },
   {
    "duration": 13,
    "start_time": "2022-03-17T11:11:24.173Z"
   },
   {
    "duration": 8,
    "start_time": "2022-03-17T11:11:24.187Z"
   },
   {
    "duration": 8,
    "start_time": "2022-03-17T11:11:24.197Z"
   },
   {
    "duration": 33,
    "start_time": "2022-03-17T11:11:24.207Z"
   },
   {
    "duration": 5,
    "start_time": "2022-03-17T11:11:24.243Z"
   },
   {
    "duration": 6,
    "start_time": "2022-03-17T11:11:24.250Z"
   },
   {
    "duration": 7,
    "start_time": "2022-03-17T11:11:24.258Z"
   },
   {
    "duration": 15,
    "start_time": "2022-03-17T11:11:40.682Z"
   },
   {
    "duration": 314,
    "start_time": "2022-03-17T11:14:01.676Z"
   },
   {
    "duration": 251,
    "start_time": "2022-03-17T11:14:12.404Z"
   },
   {
    "duration": 319,
    "start_time": "2022-03-17T11:14:29.030Z"
   },
   {
    "duration": 148,
    "start_time": "2022-03-17T11:14:58.279Z"
   },
   {
    "duration": 309,
    "start_time": "2022-03-17T11:15:28.221Z"
   },
   {
    "duration": 171,
    "start_time": "2022-03-17T11:15:44.549Z"
   },
   {
    "duration": 460,
    "start_time": "2022-03-17T11:16:00.770Z"
   },
   {
    "duration": 340,
    "start_time": "2022-03-17T11:16:40.225Z"
   },
   {
    "duration": 410,
    "start_time": "2022-03-17T11:16:57.338Z"
   },
   {
    "duration": 1195,
    "start_time": "2022-03-17T11:18:06.450Z"
   },
   {
    "duration": 487,
    "start_time": "2022-03-17T11:18:07.647Z"
   },
   {
    "duration": 17,
    "start_time": "2022-03-17T11:18:08.136Z"
   },
   {
    "duration": 46,
    "start_time": "2022-03-17T11:18:08.156Z"
   },
   {
    "duration": 34,
    "start_time": "2022-03-17T11:18:08.204Z"
   },
   {
    "duration": 36,
    "start_time": "2022-03-17T11:18:08.240Z"
   },
   {
    "duration": 8,
    "start_time": "2022-03-17T11:18:08.278Z"
   },
   {
    "duration": 9,
    "start_time": "2022-03-17T11:18:08.287Z"
   },
   {
    "duration": 9,
    "start_time": "2022-03-17T11:18:08.298Z"
   },
   {
    "duration": 22,
    "start_time": "2022-03-17T11:18:08.340Z"
   },
   {
    "duration": 11,
    "start_time": "2022-03-17T11:18:08.364Z"
   },
   {
    "duration": 61,
    "start_time": "2022-03-17T11:18:08.377Z"
   },
   {
    "duration": 24,
    "start_time": "2022-03-17T11:18:08.440Z"
   },
   {
    "duration": 18,
    "start_time": "2022-03-17T11:18:08.466Z"
   },
   {
    "duration": 52,
    "start_time": "2022-03-17T11:18:08.486Z"
   },
   {
    "duration": 13,
    "start_time": "2022-03-17T11:18:08.540Z"
   },
   {
    "duration": 20,
    "start_time": "2022-03-17T11:18:08.555Z"
   },
   {
    "duration": 8,
    "start_time": "2022-03-17T11:18:08.577Z"
   },
   {
    "duration": 21,
    "start_time": "2022-03-17T11:18:08.587Z"
   },
   {
    "duration": 58,
    "start_time": "2022-03-17T11:18:08.610Z"
   },
   {
    "duration": 24,
    "start_time": "2022-03-17T11:18:08.670Z"
   },
   {
    "duration": 53,
    "start_time": "2022-03-17T11:18:08.698Z"
   },
   {
    "duration": 10,
    "start_time": "2022-03-17T11:18:08.753Z"
   },
   {
    "duration": 15,
    "start_time": "2022-03-17T11:18:08.765Z"
   },
   {
    "duration": 9,
    "start_time": "2022-03-17T11:18:08.782Z"
   },
   {
    "duration": 53,
    "start_time": "2022-03-17T11:18:08.793Z"
   },
   {
    "duration": 14,
    "start_time": "2022-03-17T11:18:08.849Z"
   },
   {
    "duration": 4,
    "start_time": "2022-03-17T11:18:08.869Z"
   },
   {
    "duration": 23,
    "start_time": "2022-03-17T11:18:08.875Z"
   },
   {
    "duration": 37,
    "start_time": "2022-03-17T11:18:08.900Z"
   },
   {
    "duration": 14,
    "start_time": "2022-03-17T11:18:08.939Z"
   },
   {
    "duration": 7,
    "start_time": "2022-03-17T11:18:08.955Z"
   },
   {
    "duration": 7,
    "start_time": "2022-03-17T11:18:08.964Z"
   },
   {
    "duration": 14,
    "start_time": "2022-03-17T11:18:08.974Z"
   },
   {
    "duration": 18,
    "start_time": "2022-03-17T11:18:08.990Z"
   },
   {
    "duration": 64,
    "start_time": "2022-03-17T11:18:09.010Z"
   },
   {
    "duration": 10,
    "start_time": "2022-03-17T11:18:09.076Z"
   },
   {
    "duration": 59,
    "start_time": "2022-03-17T11:18:09.088Z"
   },
   {
    "duration": 10,
    "start_time": "2022-03-17T11:18:09.149Z"
   },
   {
    "duration": 19,
    "start_time": "2022-03-17T11:18:09.161Z"
   },
   {
    "duration": 8,
    "start_time": "2022-03-17T11:18:09.181Z"
   },
   {
    "duration": 51,
    "start_time": "2022-03-17T11:18:09.191Z"
   },
   {
    "duration": 9,
    "start_time": "2022-03-17T11:18:09.245Z"
   },
   {
    "duration": 24,
    "start_time": "2022-03-17T11:18:09.257Z"
   },
   {
    "duration": 10,
    "start_time": "2022-03-17T11:18:09.283Z"
   },
   {
    "duration": 51,
    "start_time": "2022-03-17T11:18:09.294Z"
   },
   {
    "duration": 8,
    "start_time": "2022-03-17T11:18:09.347Z"
   },
   {
    "duration": 11,
    "start_time": "2022-03-17T11:18:09.372Z"
   },
   {
    "duration": 17,
    "start_time": "2022-03-17T11:18:09.384Z"
   },
   {
    "duration": 8,
    "start_time": "2022-03-17T11:18:09.403Z"
   },
   {
    "duration": 26,
    "start_time": "2022-03-17T11:18:09.412Z"
   },
   {
    "duration": 12,
    "start_time": "2022-03-17T11:18:09.440Z"
   },
   {
    "duration": 17,
    "start_time": "2022-03-17T11:18:09.454Z"
   },
   {
    "duration": 12,
    "start_time": "2022-03-17T11:18:09.474Z"
   },
   {
    "duration": 10,
    "start_time": "2022-03-17T11:18:09.488Z"
   },
   {
    "duration": 47,
    "start_time": "2022-03-17T11:18:09.500Z"
   },
   {
    "duration": 11,
    "start_time": "2022-03-17T11:18:09.548Z"
   },
   {
    "duration": 13,
    "start_time": "2022-03-17T11:18:09.561Z"
   },
   {
    "duration": 21,
    "start_time": "2022-03-17T11:18:09.577Z"
   },
   {
    "duration": 12,
    "start_time": "2022-03-17T11:18:09.600Z"
   },
   {
    "duration": 35,
    "start_time": "2022-03-17T11:18:09.613Z"
   },
   {
    "duration": 24,
    "start_time": "2022-03-17T11:18:09.651Z"
   },
   {
    "duration": 24,
    "start_time": "2022-03-17T11:18:09.677Z"
   },
   {
    "duration": 46,
    "start_time": "2022-03-17T11:18:09.703Z"
   },
   {
    "duration": 23,
    "start_time": "2022-03-17T11:18:09.752Z"
   },
   {
    "duration": 80,
    "start_time": "2022-03-17T11:18:09.777Z"
   },
   {
    "duration": 3,
    "start_time": "2022-03-17T11:18:09.860Z"
   },
   {
    "duration": 10,
    "start_time": "2022-03-17T11:18:09.865Z"
   },
   {
    "duration": 630,
    "start_time": "2022-03-17T11:18:09.877Z"
   },
   {
    "duration": 12,
    "start_time": "2022-03-17T11:18:10.509Z"
   },
   {
    "duration": 21,
    "start_time": "2022-03-17T11:18:10.523Z"
   },
   {
    "duration": 10,
    "start_time": "2022-03-17T11:18:10.546Z"
   },
   {
    "duration": 4,
    "start_time": "2022-03-17T11:18:10.558Z"
   },
   {
    "duration": 6,
    "start_time": "2022-03-17T11:18:10.564Z"
   },
   {
    "duration": 6,
    "start_time": "2022-03-17T11:18:10.572Z"
   },
   {
    "duration": 8,
    "start_time": "2022-03-17T11:18:10.580Z"
   },
   {
    "duration": 13,
    "start_time": "2022-03-17T11:18:10.590Z"
   },
   {
    "duration": 18,
    "start_time": "2022-03-17T11:18:10.639Z"
   },
   {
    "duration": 17,
    "start_time": "2022-03-17T11:18:10.659Z"
   },
   {
    "duration": 10,
    "start_time": "2022-03-17T11:18:10.678Z"
   },
   {
    "duration": 188,
    "start_time": "2022-03-17T11:18:10.690Z"
   },
   {
    "duration": 5,
    "start_time": "2022-03-17T11:18:10.884Z"
   },
   {
    "duration": 33,
    "start_time": "2022-03-17T11:18:10.891Z"
   },
   {
    "duration": 14,
    "start_time": "2022-03-17T11:18:10.926Z"
   },
   {
    "duration": 67,
    "start_time": "2022-03-17T11:18:10.942Z"
   },
   {
    "duration": 230,
    "start_time": "2022-03-17T11:18:11.011Z"
   },
   {
    "duration": 170,
    "start_time": "2022-03-17T11:18:11.243Z"
   },
   {
    "duration": 22,
    "start_time": "2022-03-17T11:18:11.415Z"
   },
   {
    "duration": 161,
    "start_time": "2022-03-17T11:18:11.439Z"
   },
   {
    "duration": 16,
    "start_time": "2022-03-17T11:18:11.602Z"
   },
   {
    "duration": 299,
    "start_time": "2022-03-17T11:18:11.620Z"
   },
   {
    "duration": 18,
    "start_time": "2022-03-17T11:18:11.921Z"
   },
   {
    "duration": 208,
    "start_time": "2022-03-17T11:18:11.941Z"
   },
   {
    "duration": 159,
    "start_time": "2022-03-17T11:18:12.151Z"
   },
   {
    "duration": 12,
    "start_time": "2022-03-17T11:18:12.312Z"
   },
   {
    "duration": 151,
    "start_time": "2022-03-17T11:18:12.325Z"
   },
   {
    "duration": 334,
    "start_time": "2022-03-17T11:18:12.478Z"
   },
   {
    "duration": 9,
    "start_time": "2022-03-17T11:18:12.814Z"
   },
   {
    "duration": 173,
    "start_time": "2022-03-17T11:18:12.825Z"
   },
   {
    "duration": 14,
    "start_time": "2022-03-17T11:18:13.000Z"
   },
   {
    "duration": 165,
    "start_time": "2022-03-17T11:18:13.016Z"
   },
   {
    "duration": 332,
    "start_time": "2022-03-17T11:18:13.183Z"
   },
   {
    "duration": 9,
    "start_time": "2022-03-17T11:18:13.517Z"
   },
   {
    "duration": 144,
    "start_time": "2022-03-17T11:18:13.538Z"
   },
   {
    "duration": 12,
    "start_time": "2022-03-17T11:18:13.684Z"
   },
   {
    "duration": 167,
    "start_time": "2022-03-17T11:18:13.699Z"
   },
   {
    "duration": 333,
    "start_time": "2022-03-17T11:18:13.868Z"
   },
   {
    "duration": 9,
    "start_time": "2022-03-17T11:18:14.203Z"
   },
   {
    "duration": 265,
    "start_time": "2022-03-17T11:18:14.214Z"
   },
   {
    "duration": 5,
    "start_time": "2022-03-17T11:18:14.481Z"
   },
   {
    "duration": 4,
    "start_time": "2022-03-17T11:18:14.488Z"
   },
   {
    "duration": 7,
    "start_time": "2022-03-17T11:18:14.494Z"
   },
   {
    "duration": 4,
    "start_time": "2022-03-17T11:18:14.503Z"
   },
   {
    "duration": 6,
    "start_time": "2022-03-17T11:18:14.509Z"
   },
   {
    "duration": 9,
    "start_time": "2022-03-17T11:18:14.539Z"
   },
   {
    "duration": 7,
    "start_time": "2022-03-17T11:18:14.550Z"
   },
   {
    "duration": 9,
    "start_time": "2022-03-17T11:18:14.559Z"
   },
   {
    "duration": 12,
    "start_time": "2022-03-17T11:18:14.570Z"
   },
   {
    "duration": 7,
    "start_time": "2022-03-17T11:18:14.584Z"
   },
   {
    "duration": 8,
    "start_time": "2022-03-17T11:18:14.593Z"
   },
   {
    "duration": 35,
    "start_time": "2022-03-17T11:18:14.603Z"
   },
   {
    "duration": 8,
    "start_time": "2022-03-17T11:18:14.640Z"
   },
   {
    "duration": 6,
    "start_time": "2022-03-17T11:18:14.650Z"
   },
   {
    "duration": 5,
    "start_time": "2022-03-17T11:18:14.658Z"
   },
   {
    "duration": 9,
    "start_time": "2022-03-17T11:18:14.665Z"
   },
   {
    "duration": 9,
    "start_time": "2022-03-17T11:18:14.676Z"
   },
   {
    "duration": 107,
    "start_time": "2022-03-17T11:20:35.487Z"
   },
   {
    "duration": 12,
    "start_time": "2022-03-17T11:20:54.991Z"
   },
   {
    "duration": 8,
    "start_time": "2022-03-17T11:21:01.349Z"
   },
   {
    "duration": 10,
    "start_time": "2022-03-17T11:21:06.172Z"
   },
   {
    "duration": 1405,
    "start_time": "2022-03-17T11:21:57.270Z"
   },
   {
    "duration": 397,
    "start_time": "2022-03-17T11:21:58.678Z"
   },
   {
    "duration": 13,
    "start_time": "2022-03-17T11:21:59.077Z"
   },
   {
    "duration": 41,
    "start_time": "2022-03-17T11:21:59.092Z"
   },
   {
    "duration": 45,
    "start_time": "2022-03-17T11:21:59.137Z"
   },
   {
    "duration": 32,
    "start_time": "2022-03-17T11:21:59.184Z"
   },
   {
    "duration": 21,
    "start_time": "2022-03-17T11:21:59.219Z"
   },
   {
    "duration": 8,
    "start_time": "2022-03-17T11:21:59.242Z"
   },
   {
    "duration": 12,
    "start_time": "2022-03-17T11:21:59.252Z"
   },
   {
    "duration": 27,
    "start_time": "2022-03-17T11:21:59.265Z"
   },
   {
    "duration": 9,
    "start_time": "2022-03-17T11:21:59.293Z"
   },
   {
    "duration": 65,
    "start_time": "2022-03-17T11:21:59.305Z"
   },
   {
    "duration": 24,
    "start_time": "2022-03-17T11:21:59.372Z"
   },
   {
    "duration": 19,
    "start_time": "2022-03-17T11:21:59.399Z"
   },
   {
    "duration": 24,
    "start_time": "2022-03-17T11:21:59.437Z"
   },
   {
    "duration": 10,
    "start_time": "2022-03-17T11:21:59.463Z"
   },
   {
    "duration": 19,
    "start_time": "2022-03-17T11:21:59.474Z"
   },
   {
    "duration": 10,
    "start_time": "2022-03-17T11:21:59.496Z"
   },
   {
    "duration": 44,
    "start_time": "2022-03-17T11:21:59.507Z"
   },
   {
    "duration": 22,
    "start_time": "2022-03-17T11:21:59.553Z"
   },
   {
    "duration": 14,
    "start_time": "2022-03-17T11:21:59.576Z"
   },
   {
    "duration": 46,
    "start_time": "2022-03-17T11:21:59.592Z"
   },
   {
    "duration": 8,
    "start_time": "2022-03-17T11:21:59.640Z"
   },
   {
    "duration": 15,
    "start_time": "2022-03-17T11:21:59.650Z"
   },
   {
    "duration": 8,
    "start_time": "2022-03-17T11:21:59.667Z"
   },
   {
    "duration": 30,
    "start_time": "2022-03-17T11:21:59.677Z"
   },
   {
    "duration": 15,
    "start_time": "2022-03-17T11:21:59.737Z"
   },
   {
    "duration": 15,
    "start_time": "2022-03-17T11:21:59.754Z"
   },
   {
    "duration": 16,
    "start_time": "2022-03-17T11:21:59.771Z"
   },
   {
    "duration": 36,
    "start_time": "2022-03-17T11:21:59.789Z"
   },
   {
    "duration": 22,
    "start_time": "2022-03-17T11:21:59.827Z"
   },
   {
    "duration": 18,
    "start_time": "2022-03-17T11:21:59.851Z"
   },
   {
    "duration": 10,
    "start_time": "2022-03-17T11:21:59.871Z"
   },
   {
    "duration": 19,
    "start_time": "2022-03-17T11:21:59.883Z"
   },
   {
    "duration": 15,
    "start_time": "2022-03-17T11:21:59.903Z"
   },
   {
    "duration": 28,
    "start_time": "2022-03-17T11:21:59.920Z"
   },
   {
    "duration": 9,
    "start_time": "2022-03-17T11:21:59.950Z"
   },
   {
    "duration": 42,
    "start_time": "2022-03-17T11:21:59.961Z"
   },
   {
    "duration": 8,
    "start_time": "2022-03-17T11:22:00.005Z"
   },
   {
    "duration": 38,
    "start_time": "2022-03-17T11:22:00.015Z"
   },
   {
    "duration": 10,
    "start_time": "2022-03-17T11:22:00.059Z"
   },
   {
    "duration": 27,
    "start_time": "2022-03-17T11:22:00.072Z"
   },
   {
    "duration": 36,
    "start_time": "2022-03-17T11:22:00.102Z"
   },
   {
    "duration": 22,
    "start_time": "2022-03-17T11:22:00.140Z"
   },
   {
    "duration": 10,
    "start_time": "2022-03-17T11:22:00.164Z"
   },
   {
    "duration": 25,
    "start_time": "2022-03-17T11:22:00.176Z"
   },
   {
    "duration": 9,
    "start_time": "2022-03-17T11:22:00.203Z"
   },
   {
    "duration": 32,
    "start_time": "2022-03-17T11:22:00.213Z"
   },
   {
    "duration": 20,
    "start_time": "2022-03-17T11:22:00.246Z"
   },
   {
    "duration": 33,
    "start_time": "2022-03-17T11:22:00.268Z"
   },
   {
    "duration": 25,
    "start_time": "2022-03-17T11:22:00.303Z"
   },
   {
    "duration": 15,
    "start_time": "2022-03-17T11:22:00.330Z"
   },
   {
    "duration": 15,
    "start_time": "2022-03-17T11:22:00.347Z"
   },
   {
    "duration": 13,
    "start_time": "2022-03-17T11:22:00.364Z"
   },
   {
    "duration": 14,
    "start_time": "2022-03-17T11:22:00.379Z"
   },
   {
    "duration": 12,
    "start_time": "2022-03-17T11:22:00.395Z"
   },
   {
    "duration": 33,
    "start_time": "2022-03-17T11:22:00.409Z"
   },
   {
    "duration": 24,
    "start_time": "2022-03-17T11:22:00.445Z"
   },
   {
    "duration": 21,
    "start_time": "2022-03-17T11:22:00.472Z"
   },
   {
    "duration": 28,
    "start_time": "2022-03-17T11:22:00.495Z"
   },
   {
    "duration": 12,
    "start_time": "2022-03-17T11:22:00.526Z"
   },
   {
    "duration": 25,
    "start_time": "2022-03-17T11:22:00.541Z"
   },
   {
    "duration": 22,
    "start_time": "2022-03-17T11:22:00.568Z"
   },
   {
    "duration": 36,
    "start_time": "2022-03-17T11:22:00.592Z"
   },
   {
    "duration": 27,
    "start_time": "2022-03-17T11:22:00.630Z"
   },
   {
    "duration": 41,
    "start_time": "2022-03-17T11:22:00.659Z"
   },
   {
    "duration": 3,
    "start_time": "2022-03-17T11:22:00.701Z"
   },
   {
    "duration": 9,
    "start_time": "2022-03-17T11:22:00.706Z"
   },
   {
    "duration": 638,
    "start_time": "2022-03-17T11:22:00.717Z"
   },
   {
    "duration": 12,
    "start_time": "2022-03-17T11:22:01.357Z"
   },
   {
    "duration": 8,
    "start_time": "2022-03-17T11:22:01.371Z"
   },
   {
    "duration": 29,
    "start_time": "2022-03-17T11:22:01.381Z"
   },
   {
    "duration": 10,
    "start_time": "2022-03-17T11:22:01.412Z"
   },
   {
    "duration": 5,
    "start_time": "2022-03-17T11:22:01.439Z"
   },
   {
    "duration": 26,
    "start_time": "2022-03-17T11:22:01.446Z"
   },
   {
    "duration": 15,
    "start_time": "2022-03-17T11:22:01.475Z"
   },
   {
    "duration": 17,
    "start_time": "2022-03-17T11:22:01.492Z"
   },
   {
    "duration": 24,
    "start_time": "2022-03-17T11:22:01.511Z"
   },
   {
    "duration": 23,
    "start_time": "2022-03-17T11:22:01.537Z"
   },
   {
    "duration": 12,
    "start_time": "2022-03-17T11:22:01.562Z"
   },
   {
    "duration": 135,
    "start_time": "2022-03-17T11:22:01.577Z"
   },
   {
    "duration": 6,
    "start_time": "2022-03-17T11:22:01.714Z"
   },
   {
    "duration": 65,
    "start_time": "2022-03-17T11:22:01.722Z"
   },
   {
    "duration": 8,
    "start_time": "2022-03-17T11:22:01.790Z"
   },
   {
    "duration": 72,
    "start_time": "2022-03-17T11:22:01.801Z"
   },
   {
    "duration": 215,
    "start_time": "2022-03-17T11:22:01.875Z"
   },
   {
    "duration": 148,
    "start_time": "2022-03-17T11:22:02.092Z"
   },
   {
    "duration": 11,
    "start_time": "2022-03-17T11:22:02.243Z"
   },
   {
    "duration": 162,
    "start_time": "2022-03-17T11:22:02.256Z"
   },
   {
    "duration": 20,
    "start_time": "2022-03-17T11:22:02.420Z"
   },
   {
    "duration": 286,
    "start_time": "2022-03-17T11:22:02.442Z"
   },
   {
    "duration": 13,
    "start_time": "2022-03-17T11:22:02.731Z"
   },
   {
    "duration": 232,
    "start_time": "2022-03-17T11:22:02.746Z"
   },
   {
    "duration": 62,
    "start_time": "2022-03-17T11:22:02.982Z"
   },
   {
    "duration": 13,
    "start_time": "2022-03-17T11:22:03.046Z"
   },
   {
    "duration": 170,
    "start_time": "2022-03-17T11:22:03.061Z"
   },
   {
    "duration": 324,
    "start_time": "2022-03-17T11:22:03.233Z"
   },
   {
    "duration": 9,
    "start_time": "2022-03-17T11:22:03.559Z"
   },
   {
    "duration": 168,
    "start_time": "2022-03-17T11:22:03.570Z"
   },
   {
    "duration": 14,
    "start_time": "2022-03-17T11:22:03.740Z"
   },
   {
    "duration": 183,
    "start_time": "2022-03-17T11:22:03.757Z"
   },
   {
    "duration": 313,
    "start_time": "2022-03-17T11:22:03.943Z"
   },
   {
    "duration": 10,
    "start_time": "2022-03-17T11:22:04.258Z"
   },
   {
    "duration": 157,
    "start_time": "2022-03-17T11:22:04.269Z"
   },
   {
    "duration": 17,
    "start_time": "2022-03-17T11:22:04.428Z"
   },
   {
    "duration": 159,
    "start_time": "2022-03-17T11:22:04.447Z"
   },
   {
    "duration": 420,
    "start_time": "2022-03-17T11:22:04.608Z"
   },
   {
    "duration": 14,
    "start_time": "2022-03-17T11:22:05.030Z"
   },
   {
    "duration": 148,
    "start_time": "2022-03-17T11:22:05.047Z"
   },
   {
    "duration": 5,
    "start_time": "2022-03-17T11:22:05.197Z"
   },
   {
    "duration": 10,
    "start_time": "2022-03-17T11:22:05.203Z"
   },
   {
    "duration": 22,
    "start_time": "2022-03-17T11:22:05.215Z"
   },
   {
    "duration": 17,
    "start_time": "2022-03-17T11:22:05.238Z"
   },
   {
    "duration": 9,
    "start_time": "2022-03-17T11:22:05.257Z"
   },
   {
    "duration": 11,
    "start_time": "2022-03-17T11:22:05.268Z"
   },
   {
    "duration": 11,
    "start_time": "2022-03-17T11:22:05.281Z"
   },
   {
    "duration": 15,
    "start_time": "2022-03-17T11:22:05.294Z"
   },
   {
    "duration": 7,
    "start_time": "2022-03-17T11:22:05.311Z"
   },
   {
    "duration": 8,
    "start_time": "2022-03-17T11:22:05.320Z"
   },
   {
    "duration": 8,
    "start_time": "2022-03-17T11:22:05.339Z"
   },
   {
    "duration": 6,
    "start_time": "2022-03-17T11:22:05.349Z"
   },
   {
    "duration": 6,
    "start_time": "2022-03-17T11:22:05.364Z"
   },
   {
    "duration": 8,
    "start_time": "2022-03-17T11:22:05.372Z"
   },
   {
    "duration": 7,
    "start_time": "2022-03-17T11:22:05.381Z"
   },
   {
    "duration": 9,
    "start_time": "2022-03-17T11:22:05.390Z"
   },
   {
    "duration": 5,
    "start_time": "2022-03-17T11:22:05.403Z"
   },
   {
    "duration": 1511,
    "start_time": "2022-03-29T09:38:42.863Z"
   },
   {
    "duration": 512,
    "start_time": "2022-03-29T09:38:44.377Z"
   },
   {
    "duration": 14,
    "start_time": "2022-03-29T09:38:44.891Z"
   },
   {
    "duration": 51,
    "start_time": "2022-03-29T09:38:44.907Z"
   },
   {
    "duration": 31,
    "start_time": "2022-03-29T09:38:44.960Z"
   },
   {
    "duration": 68,
    "start_time": "2022-03-29T09:38:44.993Z"
   },
   {
    "duration": 7,
    "start_time": "2022-03-29T09:38:45.064Z"
   },
   {
    "duration": 13,
    "start_time": "2022-03-29T09:38:45.074Z"
   },
   {
    "duration": 15,
    "start_time": "2022-03-29T09:38:45.089Z"
   },
   {
    "duration": 37,
    "start_time": "2022-03-29T09:38:45.107Z"
   },
   {
    "duration": 9,
    "start_time": "2022-03-29T09:38:45.146Z"
   },
   {
    "duration": 33,
    "start_time": "2022-03-29T09:38:45.157Z"
   },
   {
    "duration": 45,
    "start_time": "2022-03-29T09:38:45.192Z"
   },
   {
    "duration": 21,
    "start_time": "2022-03-29T09:38:45.241Z"
   },
   {
    "duration": 38,
    "start_time": "2022-03-29T09:38:45.264Z"
   },
   {
    "duration": 9,
    "start_time": "2022-03-29T09:38:45.304Z"
   },
   {
    "duration": 32,
    "start_time": "2022-03-29T09:38:45.315Z"
   },
   {
    "duration": 7,
    "start_time": "2022-03-29T09:38:45.349Z"
   },
   {
    "duration": 18,
    "start_time": "2022-03-29T09:38:45.358Z"
   },
   {
    "duration": 21,
    "start_time": "2022-03-29T09:38:45.377Z"
   },
   {
    "duration": 49,
    "start_time": "2022-03-29T09:38:45.400Z"
   },
   {
    "duration": 24,
    "start_time": "2022-03-29T09:38:45.451Z"
   },
   {
    "duration": 8,
    "start_time": "2022-03-29T09:38:45.477Z"
   },
   {
    "duration": 14,
    "start_time": "2022-03-29T09:38:45.486Z"
   },
   {
    "duration": 35,
    "start_time": "2022-03-29T09:38:45.502Z"
   },
   {
    "duration": 41,
    "start_time": "2022-03-29T09:38:45.539Z"
   },
   {
    "duration": 11,
    "start_time": "2022-03-29T09:38:45.581Z"
   },
   {
    "duration": 4,
    "start_time": "2022-03-29T09:38:45.597Z"
   },
   {
    "duration": 15,
    "start_time": "2022-03-29T09:38:45.602Z"
   },
   {
    "duration": 18,
    "start_time": "2022-03-29T09:38:45.635Z"
   },
   {
    "duration": 14,
    "start_time": "2022-03-29T09:38:45.655Z"
   },
   {
    "duration": 14,
    "start_time": "2022-03-29T09:38:45.671Z"
   },
   {
    "duration": 17,
    "start_time": "2022-03-29T09:38:45.687Z"
   },
   {
    "duration": 18,
    "start_time": "2022-03-29T09:38:45.705Z"
   },
   {
    "duration": 21,
    "start_time": "2022-03-29T09:38:45.736Z"
   },
   {
    "duration": 28,
    "start_time": "2022-03-29T09:38:45.759Z"
   },
   {
    "duration": 9,
    "start_time": "2022-03-29T09:38:45.789Z"
   },
   {
    "duration": 55,
    "start_time": "2022-03-29T09:38:45.799Z"
   },
   {
    "duration": 7,
    "start_time": "2022-03-29T09:38:45.856Z"
   },
   {
    "duration": 17,
    "start_time": "2022-03-29T09:38:45.865Z"
   },
   {
    "duration": 8,
    "start_time": "2022-03-29T09:38:45.884Z"
   },
   {
    "duration": 41,
    "start_time": "2022-03-29T09:38:45.894Z"
   },
   {
    "duration": 11,
    "start_time": "2022-03-29T09:38:45.937Z"
   },
   {
    "duration": 22,
    "start_time": "2022-03-29T09:38:45.950Z"
   },
   {
    "duration": 9,
    "start_time": "2022-03-29T09:38:45.974Z"
   },
   {
    "duration": 24,
    "start_time": "2022-03-29T09:38:45.985Z"
   },
   {
    "duration": 30,
    "start_time": "2022-03-29T09:38:46.010Z"
   },
   {
    "duration": 17,
    "start_time": "2022-03-29T09:38:46.042Z"
   },
   {
    "duration": 14,
    "start_time": "2022-03-29T09:38:46.060Z"
   },
   {
    "duration": 10,
    "start_time": "2022-03-29T09:38:46.075Z"
   },
   {
    "duration": 14,
    "start_time": "2022-03-29T09:38:46.086Z"
   },
   {
    "duration": 36,
    "start_time": "2022-03-29T09:38:46.102Z"
   },
   {
    "duration": 18,
    "start_time": "2022-03-29T09:38:46.141Z"
   },
   {
    "duration": 11,
    "start_time": "2022-03-29T09:38:46.162Z"
   },
   {
    "duration": 12,
    "start_time": "2022-03-29T09:38:46.176Z"
   },
   {
    "duration": 14,
    "start_time": "2022-03-29T09:38:46.190Z"
   },
   {
    "duration": 47,
    "start_time": "2022-03-29T09:38:46.205Z"
   },
   {
    "duration": 13,
    "start_time": "2022-03-29T09:38:46.254Z"
   },
   {
    "duration": 27,
    "start_time": "2022-03-29T09:38:46.269Z"
   },
   {
    "duration": 16,
    "start_time": "2022-03-29T09:38:46.298Z"
   },
   {
    "duration": 13,
    "start_time": "2022-03-29T09:38:46.335Z"
   },
   {
    "duration": 19,
    "start_time": "2022-03-29T09:38:46.350Z"
   },
   {
    "duration": 23,
    "start_time": "2022-03-29T09:38:46.372Z"
   },
   {
    "duration": 45,
    "start_time": "2022-03-29T09:38:46.397Z"
   },
   {
    "duration": 18,
    "start_time": "2022-03-29T09:38:46.444Z"
   },
   {
    "duration": 73,
    "start_time": "2022-03-29T09:38:46.464Z"
   },
   {
    "duration": 4,
    "start_time": "2022-03-29T09:38:46.539Z"
   },
   {
    "duration": 12,
    "start_time": "2022-03-29T09:38:46.545Z"
   },
   {
    "duration": 658,
    "start_time": "2022-03-29T09:38:46.559Z"
   },
   {
    "duration": 15,
    "start_time": "2022-03-29T09:38:47.218Z"
   },
   {
    "duration": 19,
    "start_time": "2022-03-29T09:38:47.235Z"
   },
   {
    "duration": 14,
    "start_time": "2022-03-29T09:38:47.256Z"
   },
   {
    "duration": 14,
    "start_time": "2022-03-29T09:38:47.272Z"
   },
   {
    "duration": 19,
    "start_time": "2022-03-29T09:38:47.288Z"
   },
   {
    "duration": 10,
    "start_time": "2022-03-29T09:38:47.309Z"
   },
   {
    "duration": 28,
    "start_time": "2022-03-29T09:38:47.321Z"
   },
   {
    "duration": 17,
    "start_time": "2022-03-29T09:38:47.351Z"
   },
   {
    "duration": 33,
    "start_time": "2022-03-29T09:38:47.370Z"
   },
   {
    "duration": 58,
    "start_time": "2022-03-29T09:38:47.405Z"
   },
   {
    "duration": 18,
    "start_time": "2022-03-29T09:38:47.464Z"
   },
   {
    "duration": 155,
    "start_time": "2022-03-29T09:38:47.484Z"
   },
   {
    "duration": 5,
    "start_time": "2022-03-29T09:38:47.646Z"
   },
   {
    "duration": 42,
    "start_time": "2022-03-29T09:38:47.652Z"
   },
   {
    "duration": 6,
    "start_time": "2022-03-29T09:38:47.696Z"
   },
   {
    "duration": 79,
    "start_time": "2022-03-29T09:38:47.704Z"
   },
   {
    "duration": 200,
    "start_time": "2022-03-29T09:38:47.785Z"
   },
   {
    "duration": 138,
    "start_time": "2022-03-29T09:38:47.987Z"
   },
   {
    "duration": 25,
    "start_time": "2022-03-29T09:38:48.131Z"
   },
   {
    "duration": 157,
    "start_time": "2022-03-29T09:38:48.158Z"
   },
   {
    "duration": 11,
    "start_time": "2022-03-29T09:38:48.317Z"
   },
   {
    "duration": 376,
    "start_time": "2022-03-29T09:38:48.336Z"
   },
   {
    "duration": 8,
    "start_time": "2022-03-29T09:38:48.714Z"
   },
   {
    "duration": 161,
    "start_time": "2022-03-29T09:38:48.732Z"
   },
   {
    "duration": 67,
    "start_time": "2022-03-29T09:38:48.895Z"
   },
   {
    "duration": 10,
    "start_time": "2022-03-29T09:38:48.964Z"
   },
   {
    "duration": 168,
    "start_time": "2022-03-29T09:38:48.976Z"
   },
   {
    "duration": 366,
    "start_time": "2022-03-29T09:38:49.146Z"
   },
   {
    "duration": 23,
    "start_time": "2022-03-29T09:38:49.513Z"
   },
   {
    "duration": 175,
    "start_time": "2022-03-29T09:38:49.538Z"
   },
   {
    "duration": 22,
    "start_time": "2022-03-29T09:38:49.715Z"
   },
   {
    "duration": 157,
    "start_time": "2022-03-29T09:38:49.739Z"
   },
   {
    "duration": 338,
    "start_time": "2022-03-29T09:38:49.898Z"
   },
   {
    "duration": 11,
    "start_time": "2022-03-29T09:38:50.239Z"
   },
   {
    "duration": 166,
    "start_time": "2022-03-29T09:38:50.252Z"
   },
   {
    "duration": 20,
    "start_time": "2022-03-29T09:38:50.420Z"
   },
   {
    "duration": 164,
    "start_time": "2022-03-29T09:38:50.448Z"
   },
   {
    "duration": 445,
    "start_time": "2022-03-29T09:38:50.615Z"
   },
   {
    "duration": 9,
    "start_time": "2022-03-29T09:38:51.062Z"
   },
   {
    "duration": 161,
    "start_time": "2022-03-29T09:38:51.073Z"
   },
   {
    "duration": 10,
    "start_time": "2022-03-29T09:38:51.236Z"
   },
   {
    "duration": 10,
    "start_time": "2022-03-29T09:38:51.248Z"
   },
   {
    "duration": 14,
    "start_time": "2022-03-29T09:38:51.260Z"
   },
   {
    "duration": 11,
    "start_time": "2022-03-29T09:38:51.276Z"
   },
   {
    "duration": 12,
    "start_time": "2022-03-29T09:38:51.289Z"
   },
   {
    "duration": 8,
    "start_time": "2022-03-29T09:38:51.302Z"
   },
   {
    "duration": 7,
    "start_time": "2022-03-29T09:38:51.312Z"
   },
   {
    "duration": 19,
    "start_time": "2022-03-29T09:38:51.320Z"
   },
   {
    "duration": 7,
    "start_time": "2022-03-29T09:38:51.343Z"
   },
   {
    "duration": 7,
    "start_time": "2022-03-29T09:38:51.352Z"
   },
   {
    "duration": 6,
    "start_time": "2022-03-29T09:38:51.360Z"
   },
   {
    "duration": 8,
    "start_time": "2022-03-29T09:38:51.367Z"
   },
   {
    "duration": 8,
    "start_time": "2022-03-29T09:38:51.376Z"
   },
   {
    "duration": 7,
    "start_time": "2022-03-29T09:38:51.385Z"
   },
   {
    "duration": 7,
    "start_time": "2022-03-29T09:38:51.393Z"
   },
   {
    "duration": 8,
    "start_time": "2022-03-29T09:38:51.401Z"
   },
   {
    "duration": 26,
    "start_time": "2022-03-29T09:38:51.410Z"
   },
   {
    "duration": 1780,
    "start_time": "2022-04-11T13:01:02.146Z"
   },
   {
    "duration": 470,
    "start_time": "2022-04-11T13:01:03.930Z"
   },
   {
    "duration": 18,
    "start_time": "2022-04-11T13:01:04.402Z"
   },
   {
    "duration": 42,
    "start_time": "2022-04-11T13:01:04.423Z"
   },
   {
    "duration": 37,
    "start_time": "2022-04-11T13:01:04.469Z"
   },
   {
    "duration": 68,
    "start_time": "2022-04-11T13:01:04.509Z"
   },
   {
    "duration": 7,
    "start_time": "2022-04-11T13:01:04.580Z"
   },
   {
    "duration": 10,
    "start_time": "2022-04-11T13:01:04.589Z"
   },
   {
    "duration": 18,
    "start_time": "2022-04-11T13:01:04.602Z"
   },
   {
    "duration": 65,
    "start_time": "2022-04-11T13:01:04.623Z"
   },
   {
    "duration": 13,
    "start_time": "2022-04-11T13:01:04.691Z"
   },
   {
    "duration": 39,
    "start_time": "2022-04-11T13:01:04.706Z"
   },
   {
    "duration": 64,
    "start_time": "2022-04-11T13:01:04.748Z"
   },
   {
    "duration": 67,
    "start_time": "2022-04-11T13:01:04.819Z"
   },
   {
    "duration": 42,
    "start_time": "2022-04-11T13:01:04.889Z"
   },
   {
    "duration": 12,
    "start_time": "2022-04-11T13:01:04.934Z"
   },
   {
    "duration": 43,
    "start_time": "2022-04-11T13:01:04.948Z"
   },
   {
    "duration": 23,
    "start_time": "2022-04-11T13:01:04.994Z"
   },
   {
    "duration": 42,
    "start_time": "2022-04-11T13:01:05.020Z"
   },
   {
    "duration": 38,
    "start_time": "2022-04-11T13:01:05.064Z"
   },
   {
    "duration": 48,
    "start_time": "2022-04-11T13:01:05.105Z"
   },
   {
    "duration": 40,
    "start_time": "2022-04-11T13:01:05.156Z"
   },
   {
    "duration": 11,
    "start_time": "2022-04-11T13:01:05.198Z"
   },
   {
    "duration": 38,
    "start_time": "2022-04-11T13:01:05.211Z"
   },
   {
    "duration": 36,
    "start_time": "2022-04-11T13:01:05.252Z"
   },
   {
    "duration": 66,
    "start_time": "2022-04-11T13:01:05.290Z"
   },
   {
    "duration": 22,
    "start_time": "2022-04-11T13:01:05.358Z"
   },
   {
    "duration": 12,
    "start_time": "2022-04-11T13:01:05.383Z"
   },
   {
    "duration": 37,
    "start_time": "2022-04-11T13:01:05.398Z"
   },
   {
    "duration": 25,
    "start_time": "2022-04-11T13:01:05.438Z"
   },
   {
    "duration": 18,
    "start_time": "2022-04-11T13:01:05.466Z"
   },
   {
    "duration": 9,
    "start_time": "2022-04-11T13:01:05.487Z"
   },
   {
    "duration": 14,
    "start_time": "2022-04-11T13:01:05.498Z"
   },
   {
    "duration": 24,
    "start_time": "2022-04-11T13:01:05.513Z"
   },
   {
    "duration": 38,
    "start_time": "2022-04-11T13:01:05.539Z"
   },
   {
    "duration": 52,
    "start_time": "2022-04-11T13:01:05.579Z"
   },
   {
    "duration": 12,
    "start_time": "2022-04-11T13:01:05.633Z"
   },
   {
    "duration": 67,
    "start_time": "2022-04-11T13:01:05.647Z"
   },
   {
    "duration": 13,
    "start_time": "2022-04-11T13:01:05.717Z"
   },
   {
    "duration": 43,
    "start_time": "2022-04-11T13:01:05.732Z"
   },
   {
    "duration": 13,
    "start_time": "2022-04-11T13:01:05.787Z"
   },
   {
    "duration": 33,
    "start_time": "2022-04-11T13:01:05.802Z"
   },
   {
    "duration": 11,
    "start_time": "2022-04-11T13:01:05.838Z"
   },
   {
    "duration": 32,
    "start_time": "2022-04-11T13:01:05.875Z"
   },
   {
    "duration": 16,
    "start_time": "2022-04-11T13:01:05.910Z"
   },
   {
    "duration": 69,
    "start_time": "2022-04-11T13:01:05.929Z"
   },
   {
    "duration": 13,
    "start_time": "2022-04-11T13:01:06.001Z"
   },
   {
    "duration": 22,
    "start_time": "2022-04-11T13:01:06.017Z"
   },
   {
    "duration": 33,
    "start_time": "2022-04-11T13:01:06.042Z"
   },
   {
    "duration": 34,
    "start_time": "2022-04-11T13:01:06.078Z"
   },
   {
    "duration": 37,
    "start_time": "2022-04-11T13:01:06.115Z"
   },
   {
    "duration": 19,
    "start_time": "2022-04-11T13:01:06.155Z"
   },
   {
    "duration": 20,
    "start_time": "2022-04-11T13:01:06.176Z"
   },
   {
    "duration": 14,
    "start_time": "2022-04-11T13:01:06.198Z"
   },
   {
    "duration": 15,
    "start_time": "2022-04-11T13:01:06.214Z"
   },
   {
    "duration": 44,
    "start_time": "2022-04-11T13:01:06.232Z"
   },
   {
    "duration": 24,
    "start_time": "2022-04-11T13:01:06.279Z"
   },
   {
    "duration": 20,
    "start_time": "2022-04-11T13:01:06.306Z"
   },
   {
    "duration": 35,
    "start_time": "2022-04-11T13:01:06.328Z"
   },
   {
    "duration": 18,
    "start_time": "2022-04-11T13:01:06.373Z"
   },
   {
    "duration": 32,
    "start_time": "2022-04-11T13:01:06.394Z"
   },
   {
    "duration": 39,
    "start_time": "2022-04-11T13:01:06.429Z"
   },
   {
    "duration": 32,
    "start_time": "2022-04-11T13:01:06.470Z"
   },
   {
    "duration": 23,
    "start_time": "2022-04-11T13:01:06.505Z"
   },
   {
    "duration": 22,
    "start_time": "2022-04-11T13:01:06.531Z"
   },
   {
    "duration": 69,
    "start_time": "2022-04-11T13:01:06.574Z"
   },
   {
    "duration": 4,
    "start_time": "2022-04-11T13:01:06.646Z"
   },
   {
    "duration": 26,
    "start_time": "2022-04-11T13:01:06.653Z"
   },
   {
    "duration": 947,
    "start_time": "2022-04-11T13:01:06.682Z"
   },
   {
    "duration": 21,
    "start_time": "2022-04-11T13:01:07.632Z"
   },
   {
    "duration": 22,
    "start_time": "2022-04-11T13:01:07.657Z"
   },
   {
    "duration": 34,
    "start_time": "2022-04-11T13:01:07.682Z"
   },
   {
    "duration": 15,
    "start_time": "2022-04-11T13:01:07.718Z"
   },
   {
    "duration": 10,
    "start_time": "2022-04-11T13:01:07.736Z"
   },
   {
    "duration": 19,
    "start_time": "2022-04-11T13:01:07.749Z"
   },
   {
    "duration": 26,
    "start_time": "2022-04-11T13:01:07.771Z"
   },
   {
    "duration": 24,
    "start_time": "2022-04-11T13:01:07.799Z"
   },
   {
    "duration": 22,
    "start_time": "2022-04-11T13:01:07.826Z"
   },
   {
    "duration": 25,
    "start_time": "2022-04-11T13:01:07.850Z"
   },
   {
    "duration": 16,
    "start_time": "2022-04-11T13:01:07.878Z"
   },
   {
    "duration": 199,
    "start_time": "2022-04-11T13:01:07.896Z"
   },
   {
    "duration": 5,
    "start_time": "2022-04-11T13:01:08.097Z"
   },
   {
    "duration": 56,
    "start_time": "2022-04-11T13:01:08.104Z"
   },
   {
    "duration": 10,
    "start_time": "2022-04-11T13:01:08.175Z"
   },
   {
    "duration": 118,
    "start_time": "2022-04-11T13:01:08.187Z"
   },
   {
    "duration": 248,
    "start_time": "2022-04-11T13:01:08.308Z"
   },
   {
    "duration": 203,
    "start_time": "2022-04-11T13:01:08.558Z"
   },
   {
    "duration": 21,
    "start_time": "2022-04-11T13:01:08.764Z"
   },
   {
    "duration": 324,
    "start_time": "2022-04-11T13:01:08.788Z"
   },
   {
    "duration": 18,
    "start_time": "2022-04-11T13:01:09.115Z"
   },
   {
    "duration": 755,
    "start_time": "2022-04-11T13:01:09.136Z"
   },
   {
    "duration": 14,
    "start_time": "2022-04-11T13:01:09.894Z"
   },
   {
    "duration": 222,
    "start_time": "2022-04-11T13:01:09.910Z"
   },
   {
    "duration": 116,
    "start_time": "2022-04-11T13:01:10.135Z"
   },
   {
    "duration": 27,
    "start_time": "2022-04-11T13:01:10.254Z"
   },
   {
    "duration": 293,
    "start_time": "2022-04-11T13:01:10.284Z"
   },
   {
    "duration": 718,
    "start_time": "2022-04-11T13:01:10.579Z"
   },
   {
    "duration": 14,
    "start_time": "2022-04-11T13:01:11.299Z"
   },
   {
    "duration": 325,
    "start_time": "2022-04-11T13:01:11.316Z"
   },
   {
    "duration": 30,
    "start_time": "2022-04-11T13:01:11.644Z"
   },
   {
    "duration": 281,
    "start_time": "2022-04-11T13:01:11.677Z"
   },
   {
    "duration": 559,
    "start_time": "2022-04-11T13:01:11.961Z"
   },
   {
    "duration": 11,
    "start_time": "2022-04-11T13:01:12.522Z"
   },
   {
    "duration": 339,
    "start_time": "2022-04-11T13:01:12.536Z"
   },
   {
    "duration": 19,
    "start_time": "2022-04-11T13:01:12.878Z"
   },
   {
    "duration": 325,
    "start_time": "2022-04-11T13:01:12.899Z"
   },
   {
    "duration": 834,
    "start_time": "2022-04-11T13:01:13.227Z"
   },
   {
    "duration": 18,
    "start_time": "2022-04-11T13:01:14.064Z"
   },
   {
    "duration": 283,
    "start_time": "2022-04-11T13:01:14.084Z"
   },
   {
    "duration": 7,
    "start_time": "2022-04-11T13:01:14.376Z"
   },
   {
    "duration": 21,
    "start_time": "2022-04-11T13:01:14.386Z"
   },
   {
    "duration": 8,
    "start_time": "2022-04-11T13:01:14.411Z"
   },
   {
    "duration": 7,
    "start_time": "2022-04-11T13:01:14.423Z"
   },
   {
    "duration": 6,
    "start_time": "2022-04-11T13:01:14.433Z"
   },
   {
    "duration": 8,
    "start_time": "2022-04-11T13:01:14.441Z"
   },
   {
    "duration": 7,
    "start_time": "2022-04-11T13:01:14.474Z"
   },
   {
    "duration": 18,
    "start_time": "2022-04-11T13:01:14.483Z"
   },
   {
    "duration": 11,
    "start_time": "2022-04-11T13:01:14.504Z"
   },
   {
    "duration": 10,
    "start_time": "2022-04-11T13:01:14.518Z"
   },
   {
    "duration": 7,
    "start_time": "2022-04-11T13:01:14.531Z"
   },
   {
    "duration": 9,
    "start_time": "2022-04-11T13:01:14.575Z"
   },
   {
    "duration": 7,
    "start_time": "2022-04-11T13:01:14.597Z"
   },
   {
    "duration": 16,
    "start_time": "2022-04-11T13:01:14.606Z"
   },
   {
    "duration": 10,
    "start_time": "2022-04-11T13:01:14.625Z"
   },
   {
    "duration": 9,
    "start_time": "2022-04-11T13:01:14.638Z"
   },
   {
    "duration": 23,
    "start_time": "2022-04-11T13:01:14.650Z"
   }
  ],
  "kernelspec": {
   "display_name": "Python 3 (ipykernel)",
   "language": "python",
   "name": "python3"
  },
  "language_info": {
   "codemirror_mode": {
    "name": "ipython",
    "version": 3
   },
   "file_extension": ".py",
   "mimetype": "text/x-python",
   "name": "python",
   "nbconvert_exporter": "python",
   "pygments_lexer": "ipython3",
   "version": "3.9.5"
  },
  "toc": {
   "base_numbering": 1,
   "nav_menu": {},
   "number_sections": true,
   "sideBar": true,
   "skip_h1_title": true,
   "title_cell": "Table of Contents",
   "title_sidebar": "Contents",
   "toc_cell": false,
   "toc_position": {
    "height": "calc(100% - 180px)",
    "left": "10px",
    "top": "150px",
    "width": "170.938px"
   },
   "toc_section_display": true,
   "toc_window_display": true
  }
 },
 "nbformat": 4,
 "nbformat_minor": 2
}
