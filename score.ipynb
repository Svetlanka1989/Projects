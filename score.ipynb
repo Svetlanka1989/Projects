{
 "cells": [
  {
   "cell_type": "markdown",
   "metadata": {},
   "source": [
    "# Исследование надёжности заёмщиков\n",
    "\n",
    "Заказчик — кредитный отдел банка. Нужно разобраться, влияет ли семейное положение и количество детей клиента на факт погашения кредита в срок. Входные данные от банка — статистика о платёжеспособности клиентов.\n",
    "\n",
    "Результаты исследования будут учтены при построении модели **кредитного скоринга** — специальной системы, которая оценивает способность потенциального заёмщика вернуть кредит банку."
   ]
  },
  {
   "cell_type": "markdown",
   "metadata": {},
   "source": [
    "##  Изучение общей информации\n",
    "\n",
    "Ход исследования\n",
    "\n",
    "Данные о заемщиках получаем из файла /datasets/data.csv. О качестве данных ничего не известно. Поэтому перед проверкой гипотез понадобится обзор данных.\n",
    "\n",
    "Проверяем данные на ошибки и оцениваем их влияние на исследование. Затем, на этапе предобработки ищем возможность исправить самые критичные ошибки данных.\n",
    "\n",
    "Таким образом, исследование пройдёт в три этапа:\n",
    "\n",
    "1. Обзор данных.\n",
    "2. Предобработка данных.\n",
    "3. Проверка гипотез.\n",
    "\n"
   ]
  },
  {
   "cell_type": "code",
   "execution_count": 1,
   "metadata": {},
   "outputs": [],
   "source": [
    "# импорт библиотеки pandas\n",
    "import pandas as pd"
   ]
  },
  {
   "cell_type": "code",
   "execution_count": 2,
   "metadata": {},
   "outputs": [],
   "source": [
    "# чтение файла с данными и сохранение в df\n",
    "df = pd.read_csv('/datasets/data.csv') "
   ]
  },
  {
   "cell_type": "code",
   "execution_count": 3,
   "metadata": {},
   "outputs": [
    {
     "data": {
      "text/html": [
       "<div>\n",
       "<style scoped>\n",
       "    .dataframe tbody tr th:only-of-type {\n",
       "        vertical-align: middle;\n",
       "    }\n",
       "\n",
       "    .dataframe tbody tr th {\n",
       "        vertical-align: top;\n",
       "    }\n",
       "\n",
       "    .dataframe thead th {\n",
       "        text-align: right;\n",
       "    }\n",
       "</style>\n",
       "<table border=\"1\" class=\"dataframe\">\n",
       "  <thead>\n",
       "    <tr style=\"text-align: right;\">\n",
       "      <th></th>\n",
       "      <th>children</th>\n",
       "      <th>days_employed</th>\n",
       "      <th>dob_years</th>\n",
       "      <th>education</th>\n",
       "      <th>education_id</th>\n",
       "      <th>family_status</th>\n",
       "      <th>family_status_id</th>\n",
       "      <th>gender</th>\n",
       "      <th>income_type</th>\n",
       "      <th>debt</th>\n",
       "      <th>total_income</th>\n",
       "      <th>purpose</th>\n",
       "    </tr>\n",
       "  </thead>\n",
       "  <tbody>\n",
       "    <tr>\n",
       "      <th>0</th>\n",
       "      <td>1</td>\n",
       "      <td>-8437.673028</td>\n",
       "      <td>42</td>\n",
       "      <td>высшее</td>\n",
       "      <td>0</td>\n",
       "      <td>женат / замужем</td>\n",
       "      <td>0</td>\n",
       "      <td>F</td>\n",
       "      <td>сотрудник</td>\n",
       "      <td>0</td>\n",
       "      <td>253875.639453</td>\n",
       "      <td>покупка жилья</td>\n",
       "    </tr>\n",
       "    <tr>\n",
       "      <th>1</th>\n",
       "      <td>1</td>\n",
       "      <td>-4024.803754</td>\n",
       "      <td>36</td>\n",
       "      <td>среднее</td>\n",
       "      <td>1</td>\n",
       "      <td>женат / замужем</td>\n",
       "      <td>0</td>\n",
       "      <td>F</td>\n",
       "      <td>сотрудник</td>\n",
       "      <td>0</td>\n",
       "      <td>112080.014102</td>\n",
       "      <td>приобретение автомобиля</td>\n",
       "    </tr>\n",
       "    <tr>\n",
       "      <th>2</th>\n",
       "      <td>0</td>\n",
       "      <td>-5623.422610</td>\n",
       "      <td>33</td>\n",
       "      <td>Среднее</td>\n",
       "      <td>1</td>\n",
       "      <td>женат / замужем</td>\n",
       "      <td>0</td>\n",
       "      <td>M</td>\n",
       "      <td>сотрудник</td>\n",
       "      <td>0</td>\n",
       "      <td>145885.952297</td>\n",
       "      <td>покупка жилья</td>\n",
       "    </tr>\n",
       "    <tr>\n",
       "      <th>3</th>\n",
       "      <td>3</td>\n",
       "      <td>-4124.747207</td>\n",
       "      <td>32</td>\n",
       "      <td>среднее</td>\n",
       "      <td>1</td>\n",
       "      <td>женат / замужем</td>\n",
       "      <td>0</td>\n",
       "      <td>M</td>\n",
       "      <td>сотрудник</td>\n",
       "      <td>0</td>\n",
       "      <td>267628.550329</td>\n",
       "      <td>дополнительное образование</td>\n",
       "    </tr>\n",
       "    <tr>\n",
       "      <th>4</th>\n",
       "      <td>0</td>\n",
       "      <td>340266.072047</td>\n",
       "      <td>53</td>\n",
       "      <td>среднее</td>\n",
       "      <td>1</td>\n",
       "      <td>гражданский брак</td>\n",
       "      <td>1</td>\n",
       "      <td>F</td>\n",
       "      <td>пенсионер</td>\n",
       "      <td>0</td>\n",
       "      <td>158616.077870</td>\n",
       "      <td>сыграть свадьбу</td>\n",
       "    </tr>\n",
       "    <tr>\n",
       "      <th>5</th>\n",
       "      <td>0</td>\n",
       "      <td>-926.185831</td>\n",
       "      <td>27</td>\n",
       "      <td>высшее</td>\n",
       "      <td>0</td>\n",
       "      <td>гражданский брак</td>\n",
       "      <td>1</td>\n",
       "      <td>M</td>\n",
       "      <td>компаньон</td>\n",
       "      <td>0</td>\n",
       "      <td>255763.565419</td>\n",
       "      <td>покупка жилья</td>\n",
       "    </tr>\n",
       "    <tr>\n",
       "      <th>6</th>\n",
       "      <td>0</td>\n",
       "      <td>-2879.202052</td>\n",
       "      <td>43</td>\n",
       "      <td>высшее</td>\n",
       "      <td>0</td>\n",
       "      <td>женат / замужем</td>\n",
       "      <td>0</td>\n",
       "      <td>F</td>\n",
       "      <td>компаньон</td>\n",
       "      <td>0</td>\n",
       "      <td>240525.971920</td>\n",
       "      <td>операции с жильем</td>\n",
       "    </tr>\n",
       "    <tr>\n",
       "      <th>7</th>\n",
       "      <td>0</td>\n",
       "      <td>-152.779569</td>\n",
       "      <td>50</td>\n",
       "      <td>СРЕДНЕЕ</td>\n",
       "      <td>1</td>\n",
       "      <td>женат / замужем</td>\n",
       "      <td>0</td>\n",
       "      <td>M</td>\n",
       "      <td>сотрудник</td>\n",
       "      <td>0</td>\n",
       "      <td>135823.934197</td>\n",
       "      <td>образование</td>\n",
       "    </tr>\n",
       "    <tr>\n",
       "      <th>8</th>\n",
       "      <td>2</td>\n",
       "      <td>-6929.865299</td>\n",
       "      <td>35</td>\n",
       "      <td>ВЫСШЕЕ</td>\n",
       "      <td>0</td>\n",
       "      <td>гражданский брак</td>\n",
       "      <td>1</td>\n",
       "      <td>F</td>\n",
       "      <td>сотрудник</td>\n",
       "      <td>0</td>\n",
       "      <td>95856.832424</td>\n",
       "      <td>на проведение свадьбы</td>\n",
       "    </tr>\n",
       "    <tr>\n",
       "      <th>9</th>\n",
       "      <td>0</td>\n",
       "      <td>-2188.756445</td>\n",
       "      <td>41</td>\n",
       "      <td>среднее</td>\n",
       "      <td>1</td>\n",
       "      <td>женат / замужем</td>\n",
       "      <td>0</td>\n",
       "      <td>M</td>\n",
       "      <td>сотрудник</td>\n",
       "      <td>0</td>\n",
       "      <td>144425.938277</td>\n",
       "      <td>покупка жилья для семьи</td>\n",
       "    </tr>\n",
       "  </tbody>\n",
       "</table>\n",
       "</div>"
      ],
      "text/plain": [
       "   children  days_employed  dob_years education  education_id  \\\n",
       "0         1   -8437.673028         42    высшее             0   \n",
       "1         1   -4024.803754         36   среднее             1   \n",
       "2         0   -5623.422610         33   Среднее             1   \n",
       "3         3   -4124.747207         32   среднее             1   \n",
       "4         0  340266.072047         53   среднее             1   \n",
       "5         0    -926.185831         27    высшее             0   \n",
       "6         0   -2879.202052         43    высшее             0   \n",
       "7         0    -152.779569         50   СРЕДНЕЕ             1   \n",
       "8         2   -6929.865299         35    ВЫСШЕЕ             0   \n",
       "9         0   -2188.756445         41   среднее             1   \n",
       "\n",
       "      family_status  family_status_id gender income_type  debt   total_income  \\\n",
       "0   женат / замужем                 0      F   сотрудник     0  253875.639453   \n",
       "1   женат / замужем                 0      F   сотрудник     0  112080.014102   \n",
       "2   женат / замужем                 0      M   сотрудник     0  145885.952297   \n",
       "3   женат / замужем                 0      M   сотрудник     0  267628.550329   \n",
       "4  гражданский брак                 1      F   пенсионер     0  158616.077870   \n",
       "5  гражданский брак                 1      M   компаньон     0  255763.565419   \n",
       "6   женат / замужем                 0      F   компаньон     0  240525.971920   \n",
       "7   женат / замужем                 0      M   сотрудник     0  135823.934197   \n",
       "8  гражданский брак                 1      F   сотрудник     0   95856.832424   \n",
       "9   женат / замужем                 0      M   сотрудник     0  144425.938277   \n",
       "\n",
       "                      purpose  \n",
       "0               покупка жилья  \n",
       "1     приобретение автомобиля  \n",
       "2               покупка жилья  \n",
       "3  дополнительное образование  \n",
       "4             сыграть свадьбу  \n",
       "5               покупка жилья  \n",
       "6           операции с жильем  \n",
       "7                 образование  \n",
       "8       на проведение свадьбы  \n",
       "9     покупка жилья для семьи  "
      ]
     },
     "execution_count": 3,
     "metadata": {},
     "output_type": "execute_result"
    }
   ],
   "source": [
    "# получение первых 10 строк таблицы df\n",
    "df.head(10) "
   ]
  },
  {
   "cell_type": "code",
   "execution_count": 4,
   "metadata": {},
   "outputs": [
    {
     "name": "stdout",
     "output_type": "stream",
     "text": [
      "<class 'pandas.core.frame.DataFrame'>\n",
      "RangeIndex: 21525 entries, 0 to 21524\n",
      "Data columns (total 12 columns):\n",
      " #   Column            Non-Null Count  Dtype  \n",
      "---  ------            --------------  -----  \n",
      " 0   children          21525 non-null  int64  \n",
      " 1   days_employed     19351 non-null  float64\n",
      " 2   dob_years         21525 non-null  int64  \n",
      " 3   education         21525 non-null  object \n",
      " 4   education_id      21525 non-null  int64  \n",
      " 5   family_status     21525 non-null  object \n",
      " 6   family_status_id  21525 non-null  int64  \n",
      " 7   gender            21525 non-null  object \n",
      " 8   income_type       21525 non-null  object \n",
      " 9   debt              21525 non-null  int64  \n",
      " 10  total_income      19351 non-null  float64\n",
      " 11  purpose           21525 non-null  object \n",
      "dtypes: float64(2), int64(5), object(5)\n",
      "memory usage: 2.0+ MB\n"
     ]
    }
   ],
   "source": [
    "# получение общей информации о данных в таблице df\n",
    "df.info() "
   ]
  },
  {
   "cell_type": "code",
   "execution_count": 5,
   "metadata": {},
   "outputs": [
    {
     "data": {
      "text/html": [
       "<div>\n",
       "<style scoped>\n",
       "    .dataframe tbody tr th:only-of-type {\n",
       "        vertical-align: middle;\n",
       "    }\n",
       "\n",
       "    .dataframe tbody tr th {\n",
       "        vertical-align: top;\n",
       "    }\n",
       "\n",
       "    .dataframe thead th {\n",
       "        text-align: right;\n",
       "    }\n",
       "</style>\n",
       "<table border=\"1\" class=\"dataframe\">\n",
       "  <thead>\n",
       "    <tr style=\"text-align: right;\">\n",
       "      <th></th>\n",
       "      <th>children</th>\n",
       "      <th>days_employed</th>\n",
       "      <th>dob_years</th>\n",
       "      <th>education_id</th>\n",
       "      <th>family_status_id</th>\n",
       "      <th>debt</th>\n",
       "      <th>total_income</th>\n",
       "    </tr>\n",
       "  </thead>\n",
       "  <tbody>\n",
       "    <tr>\n",
       "      <th>count</th>\n",
       "      <td>21525.000000</td>\n",
       "      <td>19351.000000</td>\n",
       "      <td>21525.000000</td>\n",
       "      <td>21525.000000</td>\n",
       "      <td>21525.000000</td>\n",
       "      <td>21525.000000</td>\n",
       "      <td>1.935100e+04</td>\n",
       "    </tr>\n",
       "    <tr>\n",
       "      <th>mean</th>\n",
       "      <td>0.538908</td>\n",
       "      <td>63046.497661</td>\n",
       "      <td>43.293380</td>\n",
       "      <td>0.817236</td>\n",
       "      <td>0.972544</td>\n",
       "      <td>0.080883</td>\n",
       "      <td>1.674223e+05</td>\n",
       "    </tr>\n",
       "    <tr>\n",
       "      <th>std</th>\n",
       "      <td>1.381587</td>\n",
       "      <td>140827.311974</td>\n",
       "      <td>12.574584</td>\n",
       "      <td>0.548138</td>\n",
       "      <td>1.420324</td>\n",
       "      <td>0.272661</td>\n",
       "      <td>1.029716e+05</td>\n",
       "    </tr>\n",
       "    <tr>\n",
       "      <th>min</th>\n",
       "      <td>-1.000000</td>\n",
       "      <td>-18388.949901</td>\n",
       "      <td>0.000000</td>\n",
       "      <td>0.000000</td>\n",
       "      <td>0.000000</td>\n",
       "      <td>0.000000</td>\n",
       "      <td>2.066726e+04</td>\n",
       "    </tr>\n",
       "    <tr>\n",
       "      <th>25%</th>\n",
       "      <td>0.000000</td>\n",
       "      <td>-2747.423625</td>\n",
       "      <td>33.000000</td>\n",
       "      <td>1.000000</td>\n",
       "      <td>0.000000</td>\n",
       "      <td>0.000000</td>\n",
       "      <td>1.030532e+05</td>\n",
       "    </tr>\n",
       "    <tr>\n",
       "      <th>50%</th>\n",
       "      <td>0.000000</td>\n",
       "      <td>-1203.369529</td>\n",
       "      <td>42.000000</td>\n",
       "      <td>1.000000</td>\n",
       "      <td>0.000000</td>\n",
       "      <td>0.000000</td>\n",
       "      <td>1.450179e+05</td>\n",
       "    </tr>\n",
       "    <tr>\n",
       "      <th>75%</th>\n",
       "      <td>1.000000</td>\n",
       "      <td>-291.095954</td>\n",
       "      <td>53.000000</td>\n",
       "      <td>1.000000</td>\n",
       "      <td>1.000000</td>\n",
       "      <td>0.000000</td>\n",
       "      <td>2.034351e+05</td>\n",
       "    </tr>\n",
       "    <tr>\n",
       "      <th>max</th>\n",
       "      <td>20.000000</td>\n",
       "      <td>401755.400475</td>\n",
       "      <td>75.000000</td>\n",
       "      <td>4.000000</td>\n",
       "      <td>4.000000</td>\n",
       "      <td>1.000000</td>\n",
       "      <td>2.265604e+06</td>\n",
       "    </tr>\n",
       "  </tbody>\n",
       "</table>\n",
       "</div>"
      ],
      "text/plain": [
       "           children  days_employed     dob_years  education_id  \\\n",
       "count  21525.000000   19351.000000  21525.000000  21525.000000   \n",
       "mean       0.538908   63046.497661     43.293380      0.817236   \n",
       "std        1.381587  140827.311974     12.574584      0.548138   \n",
       "min       -1.000000  -18388.949901      0.000000      0.000000   \n",
       "25%        0.000000   -2747.423625     33.000000      1.000000   \n",
       "50%        0.000000   -1203.369529     42.000000      1.000000   \n",
       "75%        1.000000    -291.095954     53.000000      1.000000   \n",
       "max       20.000000  401755.400475     75.000000      4.000000   \n",
       "\n",
       "       family_status_id          debt  total_income  \n",
       "count      21525.000000  21525.000000  1.935100e+04  \n",
       "mean           0.972544      0.080883  1.674223e+05  \n",
       "std            1.420324      0.272661  1.029716e+05  \n",
       "min            0.000000      0.000000  2.066726e+04  \n",
       "25%            0.000000      0.000000  1.030532e+05  \n",
       "50%            0.000000      0.000000  1.450179e+05  \n",
       "75%            1.000000      0.000000  2.034351e+05  \n",
       "max            4.000000      1.000000  2.265604e+06  "
      ]
     },
     "execution_count": 5,
     "metadata": {},
     "output_type": "execute_result"
    }
   ],
   "source": [
    "#проверим величины хранящиеся в таблице\n",
    "df.describe() "
   ]
  },
  {
   "cell_type": "markdown",
   "metadata": {},
   "source": [
    "**Вывод**\n",
    "\n",
    "Итак, в таблице двенадцать столбцов. Тип данных в 2 столбцах — float, в 5 столбцах - int, в 5 столбцах - object.\n",
    "\n",
    "Согласно документации к данным:\n",
    "\n",
    "* children — количество детей в семье,\n",
    "* days_employed — общий трудовой стаж в днях,\n",
    "* dob_years — возраст клиента в годах,\n",
    "* education — уровень образования клиента,\n",
    "* education_id — идентификатор уровня образования,\n",
    "* family_status — семейное положение,\n",
    "* family_status_id — идентификатор семейного положения,\n",
    "* gender — пол клиента,\n",
    "* income_type — тип занятости,\n",
    "* debt — имел ли задолженность по возврату кредитов,\n",
    "* total_income — ежемесячный доход,\n",
    "* purpose — цель получения кредита.\n",
    "\n",
    "В колоноках видны три нарушения стиля:\n",
    "\n",
    "* Строчные буквы сочетаются с прописными.\n",
    "* В колонке 'days_employed' встречаются отрицательные значения.\n",
    "* В 'total_income'  и 'days_employed' встречаются «нулевые», пропущенные значения, также тип данных не соотвествует действительности. "
   ]
  },
  {
   "cell_type": "markdown",
   "metadata": {},
   "source": [
    "В каждой строке таблицы — данные о заемщике,которые рассказывают о нем: его возраст, сколько у него детей, семейное положение и т.п. \n",
    "Предварительно можно утверждать, что, данных достаточно для проверки гипотез, но встречаются пропуски в данных.\n",
    "Чтобы двигаться дальше, нужно устранить проблемы в данных."
   ]
  },
  {
   "cell_type": "markdown",
   "metadata": {},
   "source": [
    "##  Предобработка данных"
   ]
  },
  {
   "cell_type": "markdown",
   "metadata": {},
   "source": [
    "### Обработка пропусков\n",
    "Сначала считаем, сколько в таблице пропущенных значений. Для этого достаточно двух методов pandas:"
   ]
  },
  {
   "cell_type": "code",
   "execution_count": 6,
   "metadata": {
    "scrolled": true
   },
   "outputs": [
    {
     "data": {
      "text/plain": [
       "children               0\n",
       "days_employed       2174\n",
       "dob_years              0\n",
       "education              0\n",
       "education_id           0\n",
       "family_status          0\n",
       "family_status_id       0\n",
       "gender                 0\n",
       "income_type            0\n",
       "debt                   0\n",
       "total_income        2174\n",
       "purpose                0\n",
       "dtype: int64"
      ]
     },
     "execution_count": 6,
     "metadata": {},
     "output_type": "execute_result"
    }
   ],
   "source": [
    "# подсчёт пропусков\n",
    "df.isna().sum() "
   ]
  },
  {
   "cell_type": "markdown",
   "metadata": {},
   "source": [
    "Не все пропущенные значения влияют на исследование. Так в 'days_employed' пропуски не важны для вашей работы. Достаточно заменить их явными обозначениями.\n",
    "\n",
    "Но пропуски в 'total_income' могут помешать исследованию. На практике было бы правильно установить причину пропусков и восстановить данные. Такой возможности нет в учебном проекте. \n",
    "Придётся:\n",
    "* заполнить и эти пропуски явными обозначениями,\n",
    "* оценить, насколько они повредят расчётам. "
   ]
  },
  {
   "cell_type": "markdown",
   "metadata": {},
   "source": [
    " Для расчетов нам понадобиться только столбец 'total_income', поэтому и начнем его изменять."
   ]
  },
  {
   "cell_type": "code",
   "execution_count": 7,
   "metadata": {},
   "outputs": [
    {
     "data": {
      "text/plain": [
       "children            0.000000\n",
       "days_employed       0.100999\n",
       "dob_years           0.000000\n",
       "education           0.000000\n",
       "education_id        0.000000\n",
       "family_status       0.000000\n",
       "family_status_id    0.000000\n",
       "gender              0.000000\n",
       "income_type         0.000000\n",
       "debt                0.000000\n",
       "total_income        0.100999\n",
       "purpose             0.000000\n",
       "dtype: float64"
      ]
     },
     "execution_count": 7,
     "metadata": {},
     "output_type": "execute_result"
    }
   ],
   "source": [
    "# считаем пропущенные значения методом isna()\n",
    "df.isna().mean() "
   ]
  },
  {
   "cell_type": "markdown",
   "metadata": {},
   "source": [
    "Для заполнения пропущенных значений в строке 'total_income', мы посчитаем медианные значения дохода по типам занятости, и заполним ими пропуски.Для замены строковых значений вызывают атрибут loc, он осуществляет логическую индексацию — выбор значений по заданному условию. Логическая индексация позволяет найти в столбце пропуски или другие значения типа str и заменить их.\n"
   ]
  },
  {
   "cell_type": "code",
   "execution_count": 8,
   "metadata": {},
   "outputs": [],
   "source": [
    "df['total_income'] = df['total_income'].fillna(df.groupby('income_type')['total_income'].transform(\"median\"))"
   ]
  },
  {
   "cell_type": "code",
   "execution_count": 9,
   "metadata": {},
   "outputs": [
    {
     "name": "stdout",
     "output_type": "stream",
     "text": [
      "<class 'pandas.core.frame.DataFrame'>\n",
      "RangeIndex: 21525 entries, 0 to 21524\n",
      "Data columns (total 12 columns):\n",
      " #   Column            Non-Null Count  Dtype  \n",
      "---  ------            --------------  -----  \n",
      " 0   children          21525 non-null  int64  \n",
      " 1   days_employed     19351 non-null  float64\n",
      " 2   dob_years         21525 non-null  int64  \n",
      " 3   education         21525 non-null  object \n",
      " 4   education_id      21525 non-null  int64  \n",
      " 5   family_status     21525 non-null  object \n",
      " 6   family_status_id  21525 non-null  int64  \n",
      " 7   gender            21525 non-null  object \n",
      " 8   income_type       21525 non-null  object \n",
      " 9   debt              21525 non-null  int64  \n",
      " 10  total_income      21525 non-null  float64\n",
      " 11  purpose           21525 non-null  object \n",
      "dtypes: float64(2), int64(5), object(5)\n",
      "memory usage: 2.0+ MB\n"
     ]
    }
   ],
   "source": [
    "# получение общей информации о данных в таблице df\n",
    "df.info()  "
   ]
  },
  {
   "cell_type": "markdown",
   "metadata": {},
   "source": [
    "**Вывод**\n",
    "\n",
    "В таблице были пропуски в показателях стажа и в показателях ежемесячного дохода,  которые были заменены медианным значением дохода.Больше никаких критических пропусков не выявлено, но лучше проверить аномалии для каждого столбца отдельно. "
   ]
  },
  {
   "cell_type": "markdown",
   "metadata": {},
   "source": [
    "### Замена типа данных"
   ]
  },
  {
   "cell_type": "code",
   "execution_count": 10,
   "metadata": {},
   "outputs": [],
   "source": [
    "# воспользовавшись методом 'astype', преобразовали столбец с общим доходом к целочисленному типу данных\n",
    "df['total_income'] = df['total_income'].astype('int') "
   ]
  },
  {
   "cell_type": "code",
   "execution_count": 11,
   "metadata": {
    "scrolled": true
   },
   "outputs": [
    {
     "name": "stdout",
     "output_type": "stream",
     "text": [
      "<class 'pandas.core.frame.DataFrame'>\n",
      "RangeIndex: 21525 entries, 0 to 21524\n",
      "Data columns (total 12 columns):\n",
      " #   Column            Non-Null Count  Dtype  \n",
      "---  ------            --------------  -----  \n",
      " 0   children          21525 non-null  int64  \n",
      " 1   days_employed     19351 non-null  float64\n",
      " 2   dob_years         21525 non-null  int64  \n",
      " 3   education         21525 non-null  object \n",
      " 4   education_id      21525 non-null  int64  \n",
      " 5   family_status     21525 non-null  object \n",
      " 6   family_status_id  21525 non-null  int64  \n",
      " 7   gender            21525 non-null  object \n",
      " 8   income_type       21525 non-null  object \n",
      " 9   debt              21525 non-null  int64  \n",
      " 10  total_income      21525 non-null  int64  \n",
      " 11  purpose           21525 non-null  object \n",
      "dtypes: float64(1), int64(6), object(5)\n",
      "memory usage: 2.0+ MB\n"
     ]
    }
   ],
   "source": [
    " # получение общей информации о данных в таблице df\n",
    "df.info() "
   ]
  },
  {
   "cell_type": "markdown",
   "metadata": {},
   "source": [
    "**Вывод**\n",
    "\n",
    "Воспользовавшись методом astype, преобразовали столбец с общим доходом  к целочисленному типу данных."
   ]
  },
  {
   "cell_type": "markdown",
   "metadata": {},
   "source": [
    "### Обработка дубликатов"
   ]
  },
  {
   "cell_type": "markdown",
   "metadata": {},
   "source": [
    "В столбце 'education' посчитаем количество дублей для каждого уровня образования клиента методом value_counts()."
   ]
  },
  {
   "cell_type": "code",
   "execution_count": 12,
   "metadata": {},
   "outputs": [
    {
     "data": {
      "text/plain": [
       "ВЫСШЕЕ                   274\n",
       "Высшее                   268\n",
       "НАЧАЛЬНОЕ                 17\n",
       "НЕОКОНЧЕННОЕ ВЫСШЕЕ       29\n",
       "Начальное                 15\n",
       "Неоконченное высшее       47\n",
       "СРЕДНЕЕ                  772\n",
       "Среднее                  711\n",
       "УЧЕНАЯ СТЕПЕНЬ             1\n",
       "Ученая степень             1\n",
       "высшее                  4718\n",
       "начальное                250\n",
       "неоконченное высшее      668\n",
       "среднее                13750\n",
       "ученая степень             4\n",
       "Name: education, dtype: int64"
      ]
     },
     "execution_count": 12,
     "metadata": {},
     "output_type": "execute_result"
    }
   ],
   "source": [
    "#посмотрим количество уникальных значений в столбце 'уровень образования клиента'\n",
    "df['education'].value_counts().sort_index() "
   ]
  },
  {
   "cell_type": "markdown",
   "metadata": {},
   "source": [
    "Из-за использования заглавных букв в названиях 'уровня образования клиента' образовались дубликаты значений. Приведем к нижнему регистру  методом str.lower()"
   ]
  },
  {
   "cell_type": "code",
   "execution_count": 13,
   "metadata": {},
   "outputs": [],
   "source": [
    " #приведем все названия в столбце 'уровень образования клиента' к нижнему регистру\n",
    "df['education'] = df['education'].str.lower()"
   ]
  },
  {
   "cell_type": "code",
   "execution_count": 14,
   "metadata": {},
   "outputs": [
    {
     "data": {
      "text/plain": [
       "21520"
      ]
     },
     "execution_count": 14,
     "metadata": {},
     "output_type": "execute_result"
    }
   ],
   "source": [
    "df['education'].duplicated().sum()"
   ]
  },
  {
   "cell_type": "code",
   "execution_count": 15,
   "metadata": {},
   "outputs": [
    {
     "data": {
      "text/plain": [
       "высшее                  5260\n",
       "начальное                282\n",
       "неоконченное высшее      744\n",
       "среднее                15233\n",
       "ученая степень             6\n",
       "Name: education, dtype: int64"
      ]
     },
     "execution_count": 15,
     "metadata": {},
     "output_type": "execute_result"
    }
   ],
   "source": [
    "#посмотрим количество уникальных значений в столбце 'уровень образования клиента'.\n",
    "df['education'].value_counts().sort_index() "
   ]
  },
  {
   "cell_type": "markdown",
   "metadata": {},
   "source": [
    "** Вывод**\n",
    "\n",
    "Удалив дубликаты в столбце 'уровень образования клиента'  мы теперь явно видим зависимость, заемщики со средним образованием в 3 раза чаще берут кредит, по сравнению с заемщиками закончившими ВУЗы. Также можем отметить, что всего чуть больше 1% заемщиков имеют начальное образование, что говорит о общей уровне образованности у клиентов банка."
   ]
  },
  {
   "cell_type": "markdown",
   "metadata": {},
   "source": [
    "В столбце 'education' посчитаем количество дублей для каждого 'уровня образования клиента' методом value_counts()."
   ]
  },
  {
   "cell_type": "code",
   "execution_count": 16,
   "metadata": {},
   "outputs": [
    {
     "data": {
      "text/plain": [
       "высшее                  5260\n",
       "начальное                282\n",
       "неоконченное высшее      744\n",
       "среднее                15233\n",
       "ученая степень             6\n",
       "Name: education, dtype: int64"
      ]
     },
     "execution_count": 16,
     "metadata": {},
     "output_type": "execute_result"
    }
   ],
   "source": [
    "#посмотрим количество уникальных значений в столбце 'уровень образования клиента'\n",
    "df['education'].value_counts().sort_index() "
   ]
  },
  {
   "cell_type": "code",
   "execution_count": 17,
   "metadata": {},
   "outputs": [
    {
     "data": {
      "text/plain": [
       "женат / замужем          12380\n",
       "гражданский брак          4177\n",
       "Не женат / не замужем     2813\n",
       "в разводе                 1195\n",
       "вдовец / вдова             960\n",
       "Name: family_status, dtype: int64"
      ]
     },
     "execution_count": 17,
     "metadata": {},
     "output_type": "execute_result"
    }
   ],
   "source": [
    "#посмотрим количество уникальных значений в столбце \"семейное положение\"\n",
    "df['family_status'].value_counts() "
   ]
  },
  {
   "cell_type": "code",
   "execution_count": 18,
   "metadata": {},
   "outputs": [],
   "source": [
    "#приведем все названия в столбце \"семейное положение\" к нижнему регистру\n",
    "df['family_status'] = df['family_status'].str.lower() "
   ]
  },
  {
   "cell_type": "code",
   "execution_count": 19,
   "metadata": {},
   "outputs": [
    {
     "data": {
      "text/plain": [
       "женат / замужем          12380\n",
       "гражданский брак          4177\n",
       "не женат / не замужем     2813\n",
       "в разводе                 1195\n",
       "вдовец / вдова             960\n",
       "Name: family_status, dtype: int64"
      ]
     },
     "execution_count": 19,
     "metadata": {},
     "output_type": "execute_result"
    }
   ],
   "source": [
    "#посмотрим количество уникальных значений в столбце \"семейное положение\"\n",
    "df['family_status'].value_counts() "
   ]
  },
  {
   "cell_type": "code",
   "execution_count": 20,
   "metadata": {},
   "outputs": [
    {
     "data": {
      "text/plain": [
       "F      14236\n",
       "M       7288\n",
       "XNA        1\n",
       "Name: gender, dtype: int64"
      ]
     },
     "execution_count": 20,
     "metadata": {},
     "output_type": "execute_result"
    }
   ],
   "source": [
    "#посмотрим количество уникальных значений в столбце \"пол клиента\"\n",
    "df['gender'].value_counts() "
   ]
  },
  {
   "cell_type": "markdown",
   "metadata": {},
   "source": [
    "Значение XNA в столбце 'gender'. Клиент не передал информацию о поле при выборе M и F. Это случайный характер ошибки."
   ]
  },
  {
   "cell_type": "code",
   "execution_count": 21,
   "metadata": {},
   "outputs": [
    {
     "data": {
      "text/html": [
       "<div>\n",
       "<style scoped>\n",
       "    .dataframe tbody tr th:only-of-type {\n",
       "        vertical-align: middle;\n",
       "    }\n",
       "\n",
       "    .dataframe tbody tr th {\n",
       "        vertical-align: top;\n",
       "    }\n",
       "\n",
       "    .dataframe thead th {\n",
       "        text-align: right;\n",
       "    }\n",
       "</style>\n",
       "<table border=\"1\" class=\"dataframe\">\n",
       "  <thead>\n",
       "    <tr style=\"text-align: right;\">\n",
       "      <th></th>\n",
       "      <th>children</th>\n",
       "      <th>days_employed</th>\n",
       "      <th>dob_years</th>\n",
       "      <th>education</th>\n",
       "      <th>education_id</th>\n",
       "      <th>family_status</th>\n",
       "      <th>family_status_id</th>\n",
       "      <th>gender</th>\n",
       "      <th>income_type</th>\n",
       "      <th>debt</th>\n",
       "      <th>total_income</th>\n",
       "      <th>purpose</th>\n",
       "    </tr>\n",
       "  </thead>\n",
       "  <tbody>\n",
       "    <tr>\n",
       "      <th>10701</th>\n",
       "      <td>0</td>\n",
       "      <td>-2358.600502</td>\n",
       "      <td>24</td>\n",
       "      <td>неоконченное высшее</td>\n",
       "      <td>2</td>\n",
       "      <td>гражданский брак</td>\n",
       "      <td>1</td>\n",
       "      <td>XNA</td>\n",
       "      <td>компаньон</td>\n",
       "      <td>0</td>\n",
       "      <td>203905</td>\n",
       "      <td>покупка недвижимости</td>\n",
       "    </tr>\n",
       "  </tbody>\n",
       "</table>\n",
       "</div>"
      ],
      "text/plain": [
       "       children  days_employed  dob_years            education  education_id  \\\n",
       "10701         0   -2358.600502         24  неоконченное высшее             2   \n",
       "\n",
       "          family_status  family_status_id gender income_type  debt  \\\n",
       "10701  гражданский брак                 1    XNA   компаньон     0   \n",
       "\n",
       "       total_income               purpose  \n",
       "10701        203905  покупка недвижимости  "
      ]
     },
     "execution_count": 21,
     "metadata": {},
     "output_type": "execute_result"
    }
   ],
   "source": [
    "df[df['gender'] == 'XNA'].head(10) "
   ]
  },
  {
   "cell_type": "markdown",
   "metadata": {},
   "source": [
    "Из таблицы видно,что заемщику 24 года, работает компаньоном, имеет неоконченное высшее образование и т.п. и мы не можем утверждать, что это Ж или М, то оставляем данное значение без изменений."
   ]
  },
  {
   "cell_type": "code",
   "execution_count": 22,
   "metadata": {},
   "outputs": [
    {
     "data": {
      "text/plain": [
       "-1        47\n",
       " 0     14149\n",
       " 1      4818\n",
       " 2      2055\n",
       " 3       330\n",
       " 4        41\n",
       " 5         9\n",
       " 20       76\n",
       "Name: children, dtype: int64"
      ]
     },
     "execution_count": 22,
     "metadata": {},
     "output_type": "execute_result"
    }
   ],
   "source": [
    "#посмотрим количество уникальных значений в столбце 'количество детей в семье'\n",
    "df['children'].value_counts().sort_index() "
   ]
  },
  {
   "cell_type": "markdown",
   "metadata": {},
   "source": [
    "Из данных видем, что имеется 2 ошибки (20,-1).Скорее всего это ошибка, где 20 - это 2,а -1 - это 0."
   ]
  },
  {
   "cell_type": "code",
   "execution_count": 23,
   "metadata": {},
   "outputs": [],
   "source": [
    "# 20 заменим на 2,т.к. это ошибка перевода в датасет. Человек подразумевал 2 ребенка\n",
    "df.loc[df['children'] == 20, 'children'] = 2 "
   ]
  },
  {
   "cell_type": "code",
   "execution_count": 24,
   "metadata": {},
   "outputs": [],
   "source": [
    "# -1 заменим на 0, т.к. скорей подразумевалось отсутсвие детей\n",
    "df.loc[df['children'] == -1, 'children'] = 0 "
   ]
  },
  {
   "cell_type": "code",
   "execution_count": 25,
   "metadata": {},
   "outputs": [
    {
     "data": {
      "text/plain": [
       "0    14196\n",
       "1     4818\n",
       "2     2131\n",
       "3      330\n",
       "4       41\n",
       "5        9\n",
       "Name: children, dtype: int64"
      ]
     },
     "execution_count": 25,
     "metadata": {},
     "output_type": "execute_result"
    }
   ],
   "source": [
    "#посмотрим количество уникальных значений в столбце 'количество детей в семье'\n",
    "df['children'].value_counts().sort_index() "
   ]
  },
  {
   "cell_type": "code",
   "execution_count": 26,
   "metadata": {},
   "outputs": [
    {
     "data": {
      "text/plain": [
       "0     101\n",
       "19     14\n",
       "20     51\n",
       "21    111\n",
       "22    183\n",
       "23    254\n",
       "24    264\n",
       "25    357\n",
       "26    408\n",
       "27    493\n",
       "28    503\n",
       "29    545\n",
       "30    540\n",
       "31    560\n",
       "32    510\n",
       "33    581\n",
       "34    603\n",
       "35    617\n",
       "36    555\n",
       "37    537\n",
       "38    598\n",
       "39    573\n",
       "40    609\n",
       "41    607\n",
       "42    597\n",
       "43    513\n",
       "44    547\n",
       "45    497\n",
       "46    475\n",
       "47    480\n",
       "48    538\n",
       "49    508\n",
       "50    514\n",
       "51    448\n",
       "52    484\n",
       "53    459\n",
       "54    479\n",
       "55    443\n",
       "56    487\n",
       "57    460\n",
       "58    461\n",
       "59    444\n",
       "60    377\n",
       "61    355\n",
       "62    352\n",
       "63    269\n",
       "64    265\n",
       "65    194\n",
       "66    183\n",
       "67    167\n",
       "68     99\n",
       "69     85\n",
       "70     65\n",
       "71     58\n",
       "72     33\n",
       "73      8\n",
       "74      6\n",
       "75      1\n",
       "Name: dob_years, dtype: int64"
      ]
     },
     "execution_count": 26,
     "metadata": {},
     "output_type": "execute_result"
    }
   ],
   "source": [
    " #посмотрим количество уникальных значений в столбце 'возраст клиента в годах'\n",
    "df['dob_years'].value_counts().sort_index()"
   ]
  },
  {
   "cell_type": "markdown",
   "metadata": {},
   "source": [
    "В колонке есть значение 0.Заполненим пропущенные значения в строке 'возраст клиента в годах' медианными значениями возраста. Медианый доход предпочли среднему доходу, чтобы исключить влияние на данные запредельных показателей."
   ]
  },
  {
   "cell_type": "code",
   "execution_count": 27,
   "metadata": {},
   "outputs": [],
   "source": [
    "df['dob_years'] = df['dob_years'].replace(0, int(df['dob_years'][df['dob_years'] != 0].median()))\n"
   ]
  },
  {
   "cell_type": "code",
   "execution_count": 28,
   "metadata": {},
   "outputs": [
    {
     "data": {
      "text/plain": [
       "0"
      ]
     },
     "execution_count": 28,
     "metadata": {},
     "output_type": "execute_result"
    }
   ],
   "source": [
    "df['dob_years'][df['dob_years'] == 0].count()"
   ]
  },
  {
   "cell_type": "code",
   "execution_count": 29,
   "metadata": {},
   "outputs": [
    {
     "data": {
      "text/plain": [
       "19     14\n",
       "20     51\n",
       "21    111\n",
       "22    183\n",
       "23    254\n",
       "24    264\n",
       "25    357\n",
       "26    408\n",
       "27    493\n",
       "28    503\n",
       "29    545\n",
       "30    540\n",
       "31    560\n",
       "32    510\n",
       "33    581\n",
       "34    603\n",
       "35    617\n",
       "36    555\n",
       "37    537\n",
       "38    598\n",
       "39    573\n",
       "40    609\n",
       "41    607\n",
       "42    597\n",
       "43    614\n",
       "44    547\n",
       "45    497\n",
       "46    475\n",
       "47    480\n",
       "48    538\n",
       "49    508\n",
       "50    514\n",
       "51    448\n",
       "52    484\n",
       "53    459\n",
       "54    479\n",
       "55    443\n",
       "56    487\n",
       "57    460\n",
       "58    461\n",
       "59    444\n",
       "60    377\n",
       "61    355\n",
       "62    352\n",
       "63    269\n",
       "64    265\n",
       "65    194\n",
       "66    183\n",
       "67    167\n",
       "68     99\n",
       "69     85\n",
       "70     65\n",
       "71     58\n",
       "72     33\n",
       "73      8\n",
       "74      6\n",
       "75      1\n",
       "Name: dob_years, dtype: int64"
      ]
     },
     "execution_count": 29,
     "metadata": {},
     "output_type": "execute_result"
    }
   ],
   "source": [
    "#посмотрим количество уникальных значений в столбце 'возраст клиента в годах'\n",
    "df['dob_years'].value_counts().sort_index() "
   ]
  },
  {
   "cell_type": "code",
   "execution_count": 30,
   "metadata": {},
   "outputs": [
    {
     "data": {
      "text/plain": [
       "сотрудник          11119\n",
       "компаньон           5085\n",
       "пенсионер           3856\n",
       "госслужащий         1459\n",
       "предприниматель        2\n",
       "безработный            2\n",
       "студент                1\n",
       "в декрете              1\n",
       "Name: income_type, dtype: int64"
      ]
     },
     "execution_count": 30,
     "metadata": {},
     "output_type": "execute_result"
    }
   ],
   "source": [
    "#посмотрим количество уникальных значений в столбце 'тип занятости'\n",
    "df['income_type'].value_counts()  "
   ]
  },
  {
   "cell_type": "code",
   "execution_count": 31,
   "metadata": {},
   "outputs": [
    {
     "data": {
      "text/plain": [
       "-327.685916     1\n",
       "-1580.622577    1\n",
       "-4122.460569    1\n",
       "-2828.237691    1\n",
       "-2636.090517    1\n",
       "               ..\n",
       "-7120.517564    1\n",
       "-2146.884040    1\n",
       "-881.454684     1\n",
       "-794.666350     1\n",
       "-3382.113891    1\n",
       "Name: days_employed, Length: 19351, dtype: int64"
      ]
     },
     "execution_count": 31,
     "metadata": {},
     "output_type": "execute_result"
    }
   ],
   "source": [
    "#посмотрим количество уникальных значений в столбце 'общий трудовой стаж в днях'\n",
    "df['days_employed'].value_counts() "
   ]
  },
  {
   "cell_type": "markdown",
   "metadata": {},
   "source": [
    "Отрицательное  количество дней стажа в днях необходимо перевести в положительные."
   ]
  },
  {
   "cell_type": "code",
   "execution_count": 32,
   "metadata": {},
   "outputs": [],
   "source": [
    "#используем функцию abs() для отрицательных значений, которая возвращает модуль от числа\n",
    "df['days_employed'] = abs(df['days_employed']) "
   ]
  },
  {
   "cell_type": "code",
   "execution_count": 33,
   "metadata": {},
   "outputs": [
    {
     "data": {
      "text/plain": [
       "142.276217       1\n",
       "1849.622944      1\n",
       "886.253127       1\n",
       "2539.534295      1\n",
       "390574.985524    1\n",
       "                ..\n",
       "1394.302246      1\n",
       "2325.720832      1\n",
       "4086.407828      1\n",
       "1259.497032      1\n",
       "1636.419775      1\n",
       "Name: days_employed, Length: 19351, dtype: int64"
      ]
     },
     "execution_count": 33,
     "metadata": {},
     "output_type": "execute_result"
    }
   ],
   "source": [
    "df['days_employed'].value_counts()"
   ]
  },
  {
   "cell_type": "code",
   "execution_count": 34,
   "metadata": {},
   "outputs": [
    {
     "data": {
      "text/plain": [
       "2174"
      ]
     },
     "execution_count": 34,
     "metadata": {},
     "output_type": "execute_result"
    }
   ],
   "source": [
    "len(df[df['days_employed'].isna()]) "
   ]
  },
  {
   "cell_type": "markdown",
   "metadata": {},
   "source": [
    "В колонке 10% значения Nan.Заполним пропущенные значения в строке 'общий трудовой стаж в днях' медианными значениями стажа. Медианый стаж предпочли среднему стажу, чтобы исключить влияние на данные запредельных показателей.Для заполнения пропущенных значений в строке 'общий трудовой стаж', мы посчитаем медианные значения дохода по типам занятости, и заполним ими пропуски. Медианый доход предпочли среднему доходу, чтобы исключить влияние на данные запредельных показателей.Для замены строковых значений вызывают атрибут loc, он осуществляет логическую индексацию — выбор значений по заданному условию. Логическая индексация позволяет найти в столбце пропуски или другие значения типа str и заменить их.\n"
   ]
  },
  {
   "cell_type": "code",
   "execution_count": 35,
   "metadata": {},
   "outputs": [],
   "source": [
    "df['days_employed'] = df['days_employed'].fillna(df.groupby('income_type')['days_employed'].transform(\"median\"))"
   ]
  },
  {
   "cell_type": "code",
   "execution_count": 36,
   "metadata": {},
   "outputs": [
    {
     "data": {
      "text/html": [
       "<div>\n",
       "<style scoped>\n",
       "    .dataframe tbody tr th:only-of-type {\n",
       "        vertical-align: middle;\n",
       "    }\n",
       "\n",
       "    .dataframe tbody tr th {\n",
       "        vertical-align: top;\n",
       "    }\n",
       "\n",
       "    .dataframe thead th {\n",
       "        text-align: right;\n",
       "    }\n",
       "</style>\n",
       "<table border=\"1\" class=\"dataframe\">\n",
       "  <thead>\n",
       "    <tr style=\"text-align: right;\">\n",
       "      <th></th>\n",
       "      <th>children</th>\n",
       "      <th>days_employed</th>\n",
       "      <th>dob_years</th>\n",
       "      <th>education</th>\n",
       "      <th>education_id</th>\n",
       "      <th>family_status</th>\n",
       "      <th>family_status_id</th>\n",
       "      <th>gender</th>\n",
       "      <th>income_type</th>\n",
       "      <th>debt</th>\n",
       "      <th>total_income</th>\n",
       "      <th>purpose</th>\n",
       "    </tr>\n",
       "  </thead>\n",
       "  <tbody>\n",
       "    <tr>\n",
       "      <th>0</th>\n",
       "      <td>1</td>\n",
       "      <td>8437.673028</td>\n",
       "      <td>42</td>\n",
       "      <td>высшее</td>\n",
       "      <td>0</td>\n",
       "      <td>женат / замужем</td>\n",
       "      <td>0</td>\n",
       "      <td>F</td>\n",
       "      <td>сотрудник</td>\n",
       "      <td>0</td>\n",
       "      <td>253875</td>\n",
       "      <td>покупка жилья</td>\n",
       "    </tr>\n",
       "    <tr>\n",
       "      <th>1</th>\n",
       "      <td>1</td>\n",
       "      <td>4024.803754</td>\n",
       "      <td>36</td>\n",
       "      <td>среднее</td>\n",
       "      <td>1</td>\n",
       "      <td>женат / замужем</td>\n",
       "      <td>0</td>\n",
       "      <td>F</td>\n",
       "      <td>сотрудник</td>\n",
       "      <td>0</td>\n",
       "      <td>112080</td>\n",
       "      <td>приобретение автомобиля</td>\n",
       "    </tr>\n",
       "    <tr>\n",
       "      <th>2</th>\n",
       "      <td>0</td>\n",
       "      <td>5623.422610</td>\n",
       "      <td>33</td>\n",
       "      <td>среднее</td>\n",
       "      <td>1</td>\n",
       "      <td>женат / замужем</td>\n",
       "      <td>0</td>\n",
       "      <td>M</td>\n",
       "      <td>сотрудник</td>\n",
       "      <td>0</td>\n",
       "      <td>145885</td>\n",
       "      <td>покупка жилья</td>\n",
       "    </tr>\n",
       "    <tr>\n",
       "      <th>3</th>\n",
       "      <td>3</td>\n",
       "      <td>4124.747207</td>\n",
       "      <td>32</td>\n",
       "      <td>среднее</td>\n",
       "      <td>1</td>\n",
       "      <td>женат / замужем</td>\n",
       "      <td>0</td>\n",
       "      <td>M</td>\n",
       "      <td>сотрудник</td>\n",
       "      <td>0</td>\n",
       "      <td>267628</td>\n",
       "      <td>дополнительное образование</td>\n",
       "    </tr>\n",
       "    <tr>\n",
       "      <th>4</th>\n",
       "      <td>0</td>\n",
       "      <td>340266.072047</td>\n",
       "      <td>53</td>\n",
       "      <td>среднее</td>\n",
       "      <td>1</td>\n",
       "      <td>гражданский брак</td>\n",
       "      <td>1</td>\n",
       "      <td>F</td>\n",
       "      <td>пенсионер</td>\n",
       "      <td>0</td>\n",
       "      <td>158616</td>\n",
       "      <td>сыграть свадьбу</td>\n",
       "    </tr>\n",
       "    <tr>\n",
       "      <th>5</th>\n",
       "      <td>0</td>\n",
       "      <td>926.185831</td>\n",
       "      <td>27</td>\n",
       "      <td>высшее</td>\n",
       "      <td>0</td>\n",
       "      <td>гражданский брак</td>\n",
       "      <td>1</td>\n",
       "      <td>M</td>\n",
       "      <td>компаньон</td>\n",
       "      <td>0</td>\n",
       "      <td>255763</td>\n",
       "      <td>покупка жилья</td>\n",
       "    </tr>\n",
       "    <tr>\n",
       "      <th>6</th>\n",
       "      <td>0</td>\n",
       "      <td>2879.202052</td>\n",
       "      <td>43</td>\n",
       "      <td>высшее</td>\n",
       "      <td>0</td>\n",
       "      <td>женат / замужем</td>\n",
       "      <td>0</td>\n",
       "      <td>F</td>\n",
       "      <td>компаньон</td>\n",
       "      <td>0</td>\n",
       "      <td>240525</td>\n",
       "      <td>операции с жильем</td>\n",
       "    </tr>\n",
       "    <tr>\n",
       "      <th>7</th>\n",
       "      <td>0</td>\n",
       "      <td>152.779569</td>\n",
       "      <td>50</td>\n",
       "      <td>среднее</td>\n",
       "      <td>1</td>\n",
       "      <td>женат / замужем</td>\n",
       "      <td>0</td>\n",
       "      <td>M</td>\n",
       "      <td>сотрудник</td>\n",
       "      <td>0</td>\n",
       "      <td>135823</td>\n",
       "      <td>образование</td>\n",
       "    </tr>\n",
       "    <tr>\n",
       "      <th>8</th>\n",
       "      <td>2</td>\n",
       "      <td>6929.865299</td>\n",
       "      <td>35</td>\n",
       "      <td>высшее</td>\n",
       "      <td>0</td>\n",
       "      <td>гражданский брак</td>\n",
       "      <td>1</td>\n",
       "      <td>F</td>\n",
       "      <td>сотрудник</td>\n",
       "      <td>0</td>\n",
       "      <td>95856</td>\n",
       "      <td>на проведение свадьбы</td>\n",
       "    </tr>\n",
       "    <tr>\n",
       "      <th>9</th>\n",
       "      <td>0</td>\n",
       "      <td>2188.756445</td>\n",
       "      <td>41</td>\n",
       "      <td>среднее</td>\n",
       "      <td>1</td>\n",
       "      <td>женат / замужем</td>\n",
       "      <td>0</td>\n",
       "      <td>M</td>\n",
       "      <td>сотрудник</td>\n",
       "      <td>0</td>\n",
       "      <td>144425</td>\n",
       "      <td>покупка жилья для семьи</td>\n",
       "    </tr>\n",
       "  </tbody>\n",
       "</table>\n",
       "</div>"
      ],
      "text/plain": [
       "   children  days_employed  dob_years education  education_id  \\\n",
       "0         1    8437.673028         42    высшее             0   \n",
       "1         1    4024.803754         36   среднее             1   \n",
       "2         0    5623.422610         33   среднее             1   \n",
       "3         3    4124.747207         32   среднее             1   \n",
       "4         0  340266.072047         53   среднее             1   \n",
       "5         0     926.185831         27    высшее             0   \n",
       "6         0    2879.202052         43    высшее             0   \n",
       "7         0     152.779569         50   среднее             1   \n",
       "8         2    6929.865299         35    высшее             0   \n",
       "9         0    2188.756445         41   среднее             1   \n",
       "\n",
       "      family_status  family_status_id gender income_type  debt  total_income  \\\n",
       "0   женат / замужем                 0      F   сотрудник     0        253875   \n",
       "1   женат / замужем                 0      F   сотрудник     0        112080   \n",
       "2   женат / замужем                 0      M   сотрудник     0        145885   \n",
       "3   женат / замужем                 0      M   сотрудник     0        267628   \n",
       "4  гражданский брак                 1      F   пенсионер     0        158616   \n",
       "5  гражданский брак                 1      M   компаньон     0        255763   \n",
       "6   женат / замужем                 0      F   компаньон     0        240525   \n",
       "7   женат / замужем                 0      M   сотрудник     0        135823   \n",
       "8  гражданский брак                 1      F   сотрудник     0         95856   \n",
       "9   женат / замужем                 0      M   сотрудник     0        144425   \n",
       "\n",
       "                      purpose  \n",
       "0               покупка жилья  \n",
       "1     приобретение автомобиля  \n",
       "2               покупка жилья  \n",
       "3  дополнительное образование  \n",
       "4             сыграть свадьбу  \n",
       "5               покупка жилья  \n",
       "6           операции с жильем  \n",
       "7                 образование  \n",
       "8       на проведение свадьбы  \n",
       "9     покупка жилья для семьи  "
      ]
     },
     "execution_count": 36,
     "metadata": {},
     "output_type": "execute_result"
    }
   ],
   "source": [
    "df.head(10)"
   ]
  },
  {
   "cell_type": "code",
   "execution_count": 37,
   "metadata": {},
   "outputs": [
    {
     "data": {
      "text/plain": [
       "свадьба                                   797\n",
       "на проведение свадьбы                     777\n",
       "сыграть свадьбу                           774\n",
       "операции с недвижимостью                  676\n",
       "покупка коммерческой недвижимости         664\n",
       "операции с жильем                         653\n",
       "покупка жилья для сдачи                   653\n",
       "операции с коммерческой недвижимостью     651\n",
       "жилье                                     647\n",
       "покупка жилья                             647\n",
       "покупка жилья для семьи                   641\n",
       "строительство собственной недвижимости    635\n",
       "недвижимость                              634\n",
       "операции со своей недвижимостью           630\n",
       "строительство жилой недвижимости          626\n",
       "покупка недвижимости                      624\n",
       "покупка своего жилья                      620\n",
       "строительство недвижимости                620\n",
       "ремонт жилью                              612\n",
       "покупка жилой недвижимости                607\n",
       "на покупку своего автомобиля              505\n",
       "заняться высшим образованием              496\n",
       "автомобиль                                495\n",
       "сделка с подержанным автомобилем          489\n",
       "свой автомобиль                           480\n",
       "на покупку подержанного автомобиля        479\n",
       "автомобили                                478\n",
       "на покупку автомобиля                     472\n",
       "дополнительное образование                462\n",
       "приобретение автомобиля                   462\n",
       "сделка с автомобилем                      455\n",
       "высшее образование                        453\n",
       "образование                               447\n",
       "получение дополнительного образования     447\n",
       "получение образования                     443\n",
       "профильное образование                    436\n",
       "получение высшего образования             426\n",
       "заняться образованием                     412\n",
       "Name: purpose, dtype: int64"
      ]
     },
     "execution_count": 37,
     "metadata": {},
     "output_type": "execute_result"
    }
   ],
   "source": [
    "#посмотрим количество уникальных значений в столбце 'цель получения кредита'\n",
    "df['purpose'].value_counts() "
   ]
  },
  {
   "cell_type": "markdown",
   "metadata": {},
   "source": [
    "**Вывод**\n",
    "\n",
    "Аномалиями, которые были решены:\n",
    "\n",
    "* Из-за использования заглавных букв в названиях 'education' образовались дубликаты значений\n",
    "* Пропуск в столбце 'gender'.\n",
    "* Отрицательные и большие положительные значения в столбце days_employed.\n",
    "* Пропуски в столбцах 'days_employed' и 'total_income'.\n",
    "* Нулевое значение в столбце 'dob_years'.\n",
    "\n",
    "Столбец 'purpose' требует выявления общих категорий для одного типа целей кредита."
   ]
  },
  {
   "cell_type": "code",
   "execution_count": 38,
   "metadata": {},
   "outputs": [
    {
     "data": {
      "text/plain": [
       "71"
      ]
     },
     "execution_count": 38,
     "metadata": {},
     "output_type": "execute_result"
    }
   ],
   "source": [
    "#найдем количество дубликатов\n",
    "df.duplicated().sum() "
   ]
  },
  {
   "cell_type": "code",
   "execution_count": 39,
   "metadata": {},
   "outputs": [],
   "source": [
    "#избавимся от них и восстановим индексы.\n",
    "df = df.drop_duplicates().reset_index(drop = True) "
   ]
  },
  {
   "cell_type": "code",
   "execution_count": 40,
   "metadata": {},
   "outputs": [
    {
     "data": {
      "text/plain": [
       "0"
      ]
     },
     "execution_count": 40,
     "metadata": {},
     "output_type": "execute_result"
    }
   ],
   "source": [
    "#проверим что у нас вышло\n",
    "df.duplicated().sum() "
   ]
  },
  {
   "cell_type": "markdown",
   "metadata": {},
   "source": [
    "**Вывод**\n",
    "\n",
    "\n",
    "\n",
    "* Был найден 71 дубликат от которго мы избавились.\n"
   ]
  },
  {
   "cell_type": "markdown",
   "metadata": {},
   "source": [
    "### Лемматизация"
   ]
  },
  {
   "cell_type": "code",
   "execution_count": 41,
   "metadata": {},
   "outputs": [],
   "source": [
    "# импортируем pymystem3 \n",
    "from pymystem3 import Mystem \n",
    "m = Mystem() "
   ]
  },
  {
   "cell_type": "code",
   "execution_count": 42,
   "metadata": {},
   "outputs": [],
   "source": [
    "lemmas = []"
   ]
  },
  {
   "cell_type": "code",
   "execution_count": 43,
   "metadata": {},
   "outputs": [],
   "source": [
    "purpos = df['purpose'].unique()"
   ]
  },
  {
   "cell_type": "code",
   "execution_count": 44,
   "metadata": {},
   "outputs": [],
   "source": [
    "for i in purpos:\n",
    "    lemma = m.lemmatize(i)\n",
    "    lemmas.append(lemma)"
   ]
  },
  {
   "cell_type": "code",
   "execution_count": 45,
   "metadata": {},
   "outputs": [
    {
     "data": {
      "text/plain": [
       "[['покупка', ' ', 'жилье', '\\n'],\n",
       " ['приобретение', ' ', 'автомобиль', '\\n'],\n",
       " ['дополнительный', ' ', 'образование', '\\n'],\n",
       " ['сыграть', ' ', 'свадьба', '\\n'],\n",
       " ['операция', ' ', 'с', ' ', 'жилье', '\\n'],\n",
       " ['образование', '\\n'],\n",
       " ['на', ' ', 'проведение', ' ', 'свадьба', '\\n'],\n",
       " ['покупка', ' ', 'жилье', ' ', 'для', ' ', 'семья', '\\n'],\n",
       " ['покупка', ' ', 'недвижимость', '\\n'],\n",
       " ['покупка', ' ', 'коммерческий', ' ', 'недвижимость', '\\n'],\n",
       " ['покупка', ' ', 'жилой', ' ', 'недвижимость', '\\n'],\n",
       " ['строительство', ' ', 'собственный', ' ', 'недвижимость', '\\n'],\n",
       " ['недвижимость', '\\n'],\n",
       " ['строительство', ' ', 'недвижимость', '\\n'],\n",
       " ['на', ' ', 'покупка', ' ', 'подержать', ' ', 'автомобиль', '\\n'],\n",
       " ['на', ' ', 'покупка', ' ', 'свой', ' ', 'автомобиль', '\\n'],\n",
       " ['операция', ' ', 'с', ' ', 'коммерческий', ' ', 'недвижимость', '\\n'],\n",
       " ['строительство', ' ', 'жилой', ' ', 'недвижимость', '\\n'],\n",
       " ['жилье', '\\n'],\n",
       " ['операция', ' ', 'со', ' ', 'свой', ' ', 'недвижимость', '\\n'],\n",
       " ['автомобиль', '\\n'],\n",
       " ['заниматься', ' ', 'образование', '\\n'],\n",
       " ['сделка', ' ', 'с', ' ', 'подержанный', ' ', 'автомобиль', '\\n'],\n",
       " ['получение', ' ', 'образование', '\\n'],\n",
       " ['автомобиль', '\\n'],\n",
       " ['свадьба', '\\n'],\n",
       " ['получение', ' ', 'дополнительный', ' ', 'образование', '\\n'],\n",
       " ['покупка', ' ', 'свой', ' ', 'жилье', '\\n'],\n",
       " ['операция', ' ', 'с', ' ', 'недвижимость', '\\n'],\n",
       " ['получение', ' ', 'высокий', ' ', 'образование', '\\n'],\n",
       " ['свой', ' ', 'автомобиль', '\\n'],\n",
       " ['сделка', ' ', 'с', ' ', 'автомобиль', '\\n'],\n",
       " ['профильный', ' ', 'образование', '\\n'],\n",
       " ['высокий', ' ', 'образование', '\\n'],\n",
       " ['покупка', ' ', 'жилье', ' ', 'для', ' ', 'сдача', '\\n'],\n",
       " ['на', ' ', 'покупка', ' ', 'автомобиль', '\\n'],\n",
       " ['ремонт', ' ', 'жилье', '\\n'],\n",
       " ['заниматься', ' ', 'высокий', ' ', 'образование', '\\n']]"
      ]
     },
     "execution_count": 45,
     "metadata": {},
     "output_type": "execute_result"
    }
   ],
   "source": [
    "lemmas"
   ]
  },
  {
   "cell_type": "markdown",
   "metadata": {},
   "source": [
    " Из полученных лемм видем, что можно выделить 4 категори, а именно: автомобиль, образование, свадьба, недвижимость."
   ]
  },
  {
   "cell_type": "code",
   "execution_count": 46,
   "metadata": {
    "scrolled": true
   },
   "outputs": [],
   "source": [
    "\n",
    "def purposes(purpose):\n",
    "    lemmas_row = lemma\n",
    "    for i in lemmas_row:\n",
    "        if 'авто' in purpose:\n",
    "            return 'автомобиль'\n",
    "        if 'недвижим' in purpose or 'жиль' in purpose:\n",
    "            return  'недвижимость'\n",
    "        if 'свадьб' in purpose:\n",
    "            return 'свадьба'\n",
    "        if 'образов' in purpose:\n",
    "            return 'образование'\n",
    "        return 'другое'\n",
    "df['purposes_list'] = df['purpose'].apply(purposes)   \n"
   ]
  },
  {
   "cell_type": "code",
   "execution_count": 47,
   "metadata": {},
   "outputs": [
    {
     "data": {
      "text/html": [
       "<div>\n",
       "<style scoped>\n",
       "    .dataframe tbody tr th:only-of-type {\n",
       "        vertical-align: middle;\n",
       "    }\n",
       "\n",
       "    .dataframe tbody tr th {\n",
       "        vertical-align: top;\n",
       "    }\n",
       "\n",
       "    .dataframe thead th {\n",
       "        text-align: right;\n",
       "    }\n",
       "</style>\n",
       "<table border=\"1\" class=\"dataframe\">\n",
       "  <thead>\n",
       "    <tr style=\"text-align: right;\">\n",
       "      <th></th>\n",
       "      <th>children</th>\n",
       "      <th>days_employed</th>\n",
       "      <th>dob_years</th>\n",
       "      <th>education</th>\n",
       "      <th>education_id</th>\n",
       "      <th>family_status</th>\n",
       "      <th>family_status_id</th>\n",
       "      <th>gender</th>\n",
       "      <th>income_type</th>\n",
       "      <th>debt</th>\n",
       "      <th>total_income</th>\n",
       "      <th>purpose</th>\n",
       "      <th>purposes_list</th>\n",
       "    </tr>\n",
       "  </thead>\n",
       "  <tbody>\n",
       "    <tr>\n",
       "      <th>0</th>\n",
       "      <td>1</td>\n",
       "      <td>8437.673028</td>\n",
       "      <td>42</td>\n",
       "      <td>высшее</td>\n",
       "      <td>0</td>\n",
       "      <td>женат / замужем</td>\n",
       "      <td>0</td>\n",
       "      <td>F</td>\n",
       "      <td>сотрудник</td>\n",
       "      <td>0</td>\n",
       "      <td>253875</td>\n",
       "      <td>покупка жилья</td>\n",
       "      <td>недвижимость</td>\n",
       "    </tr>\n",
       "    <tr>\n",
       "      <th>1</th>\n",
       "      <td>1</td>\n",
       "      <td>4024.803754</td>\n",
       "      <td>36</td>\n",
       "      <td>среднее</td>\n",
       "      <td>1</td>\n",
       "      <td>женат / замужем</td>\n",
       "      <td>0</td>\n",
       "      <td>F</td>\n",
       "      <td>сотрудник</td>\n",
       "      <td>0</td>\n",
       "      <td>112080</td>\n",
       "      <td>приобретение автомобиля</td>\n",
       "      <td>автомобиль</td>\n",
       "    </tr>\n",
       "    <tr>\n",
       "      <th>2</th>\n",
       "      <td>0</td>\n",
       "      <td>5623.422610</td>\n",
       "      <td>33</td>\n",
       "      <td>среднее</td>\n",
       "      <td>1</td>\n",
       "      <td>женат / замужем</td>\n",
       "      <td>0</td>\n",
       "      <td>M</td>\n",
       "      <td>сотрудник</td>\n",
       "      <td>0</td>\n",
       "      <td>145885</td>\n",
       "      <td>покупка жилья</td>\n",
       "      <td>недвижимость</td>\n",
       "    </tr>\n",
       "    <tr>\n",
       "      <th>3</th>\n",
       "      <td>3</td>\n",
       "      <td>4124.747207</td>\n",
       "      <td>32</td>\n",
       "      <td>среднее</td>\n",
       "      <td>1</td>\n",
       "      <td>женат / замужем</td>\n",
       "      <td>0</td>\n",
       "      <td>M</td>\n",
       "      <td>сотрудник</td>\n",
       "      <td>0</td>\n",
       "      <td>267628</td>\n",
       "      <td>дополнительное образование</td>\n",
       "      <td>образование</td>\n",
       "    </tr>\n",
       "    <tr>\n",
       "      <th>4</th>\n",
       "      <td>0</td>\n",
       "      <td>340266.072047</td>\n",
       "      <td>53</td>\n",
       "      <td>среднее</td>\n",
       "      <td>1</td>\n",
       "      <td>гражданский брак</td>\n",
       "      <td>1</td>\n",
       "      <td>F</td>\n",
       "      <td>пенсионер</td>\n",
       "      <td>0</td>\n",
       "      <td>158616</td>\n",
       "      <td>сыграть свадьбу</td>\n",
       "      <td>свадьба</td>\n",
       "    </tr>\n",
       "    <tr>\n",
       "      <th>5</th>\n",
       "      <td>0</td>\n",
       "      <td>926.185831</td>\n",
       "      <td>27</td>\n",
       "      <td>высшее</td>\n",
       "      <td>0</td>\n",
       "      <td>гражданский брак</td>\n",
       "      <td>1</td>\n",
       "      <td>M</td>\n",
       "      <td>компаньон</td>\n",
       "      <td>0</td>\n",
       "      <td>255763</td>\n",
       "      <td>покупка жилья</td>\n",
       "      <td>недвижимость</td>\n",
       "    </tr>\n",
       "    <tr>\n",
       "      <th>6</th>\n",
       "      <td>0</td>\n",
       "      <td>2879.202052</td>\n",
       "      <td>43</td>\n",
       "      <td>высшее</td>\n",
       "      <td>0</td>\n",
       "      <td>женат / замужем</td>\n",
       "      <td>0</td>\n",
       "      <td>F</td>\n",
       "      <td>компаньон</td>\n",
       "      <td>0</td>\n",
       "      <td>240525</td>\n",
       "      <td>операции с жильем</td>\n",
       "      <td>недвижимость</td>\n",
       "    </tr>\n",
       "    <tr>\n",
       "      <th>7</th>\n",
       "      <td>0</td>\n",
       "      <td>152.779569</td>\n",
       "      <td>50</td>\n",
       "      <td>среднее</td>\n",
       "      <td>1</td>\n",
       "      <td>женат / замужем</td>\n",
       "      <td>0</td>\n",
       "      <td>M</td>\n",
       "      <td>сотрудник</td>\n",
       "      <td>0</td>\n",
       "      <td>135823</td>\n",
       "      <td>образование</td>\n",
       "      <td>образование</td>\n",
       "    </tr>\n",
       "    <tr>\n",
       "      <th>8</th>\n",
       "      <td>2</td>\n",
       "      <td>6929.865299</td>\n",
       "      <td>35</td>\n",
       "      <td>высшее</td>\n",
       "      <td>0</td>\n",
       "      <td>гражданский брак</td>\n",
       "      <td>1</td>\n",
       "      <td>F</td>\n",
       "      <td>сотрудник</td>\n",
       "      <td>0</td>\n",
       "      <td>95856</td>\n",
       "      <td>на проведение свадьбы</td>\n",
       "      <td>свадьба</td>\n",
       "    </tr>\n",
       "    <tr>\n",
       "      <th>9</th>\n",
       "      <td>0</td>\n",
       "      <td>2188.756445</td>\n",
       "      <td>41</td>\n",
       "      <td>среднее</td>\n",
       "      <td>1</td>\n",
       "      <td>женат / замужем</td>\n",
       "      <td>0</td>\n",
       "      <td>M</td>\n",
       "      <td>сотрудник</td>\n",
       "      <td>0</td>\n",
       "      <td>144425</td>\n",
       "      <td>покупка жилья для семьи</td>\n",
       "      <td>недвижимость</td>\n",
       "    </tr>\n",
       "  </tbody>\n",
       "</table>\n",
       "</div>"
      ],
      "text/plain": [
       "   children  days_employed  dob_years education  education_id  \\\n",
       "0         1    8437.673028         42    высшее             0   \n",
       "1         1    4024.803754         36   среднее             1   \n",
       "2         0    5623.422610         33   среднее             1   \n",
       "3         3    4124.747207         32   среднее             1   \n",
       "4         0  340266.072047         53   среднее             1   \n",
       "5         0     926.185831         27    высшее             0   \n",
       "6         0    2879.202052         43    высшее             0   \n",
       "7         0     152.779569         50   среднее             1   \n",
       "8         2    6929.865299         35    высшее             0   \n",
       "9         0    2188.756445         41   среднее             1   \n",
       "\n",
       "      family_status  family_status_id gender income_type  debt  total_income  \\\n",
       "0   женат / замужем                 0      F   сотрудник     0        253875   \n",
       "1   женат / замужем                 0      F   сотрудник     0        112080   \n",
       "2   женат / замужем                 0      M   сотрудник     0        145885   \n",
       "3   женат / замужем                 0      M   сотрудник     0        267628   \n",
       "4  гражданский брак                 1      F   пенсионер     0        158616   \n",
       "5  гражданский брак                 1      M   компаньон     0        255763   \n",
       "6   женат / замужем                 0      F   компаньон     0        240525   \n",
       "7   женат / замужем                 0      M   сотрудник     0        135823   \n",
       "8  гражданский брак                 1      F   сотрудник     0         95856   \n",
       "9   женат / замужем                 0      M   сотрудник     0        144425   \n",
       "\n",
       "                      purpose purposes_list  \n",
       "0               покупка жилья  недвижимость  \n",
       "1     приобретение автомобиля    автомобиль  \n",
       "2               покупка жилья  недвижимость  \n",
       "3  дополнительное образование   образование  \n",
       "4             сыграть свадьбу       свадьба  \n",
       "5               покупка жилья  недвижимость  \n",
       "6           операции с жильем  недвижимость  \n",
       "7                 образование   образование  \n",
       "8       на проведение свадьбы       свадьба  \n",
       "9     покупка жилья для семьи  недвижимость  "
      ]
     },
     "execution_count": 47,
     "metadata": {},
     "output_type": "execute_result"
    }
   ],
   "source": [
    "df.head(10)"
   ]
  },
  {
   "cell_type": "code",
   "execution_count": 48,
   "metadata": {},
   "outputs": [
    {
     "data": {
      "text/plain": [
       "автомобиль       4306\n",
       "недвижимость    10811\n",
       "образование      4013\n",
       "свадьба          2324\n",
       "Name: purposes_list, dtype: int64"
      ]
     },
     "execution_count": 48,
     "metadata": {},
     "output_type": "execute_result"
    }
   ],
   "source": [
    "df['purposes_list'].value_counts().sort_index()"
   ]
  },
  {
   "cell_type": "markdown",
   "metadata": {},
   "source": [
    "**Вывод**\n",
    "\n",
    "Приведение целей получения кредита к общим категориям позволило выявить самые популярные цели,а именно около 50% кредитов на недвижимость, после по популярноти-кредиты на автомобиль и получение образования и на последнем месте - кредиты на свадьбу. Лемматизация позволила упростить категоризацию цели кредита для оценки гипотез. "
   ]
  },
  {
   "cell_type": "markdown",
   "metadata": {},
   "source": [
    "### Категоризация данных"
   ]
  },
  {
   "cell_type": "markdown",
   "metadata": {},
   "source": [
    "Сгруппируем данные по типу 'семейное положение', и посчитаем количество событий. "
   ]
  },
  {
   "cell_type": "code",
   "execution_count": 49,
   "metadata": {},
   "outputs": [
    {
     "data": {
      "text/plain": [
       "в разводе                 1195\n",
       "вдовец / вдова             959\n",
       "гражданский брак          4151\n",
       "женат / замужем          12339\n",
       "не женат / не замужем     2810\n",
       "Name: family_status, dtype: int64"
      ]
     },
     "execution_count": 49,
     "metadata": {},
     "output_type": "execute_result"
    }
   ],
   "source": [
    "df['family_status'].value_counts().sort_index() "
   ]
  },
  {
   "cell_type": "markdown",
   "metadata": {},
   "source": [
    "Из данных видно,что более 50% женат/замужем"
   ]
  },
  {
   "cell_type": "markdown",
   "metadata": {},
   "source": [
    "Сгруппируем данные по типу 'количество детей в семье', и посчитаем количество событий. "
   ]
  },
  {
   "cell_type": "code",
   "execution_count": 50,
   "metadata": {},
   "outputs": [
    {
     "data": {
      "text/plain": [
       "0    14138\n",
       "1     4808\n",
       "2     2128\n",
       "3      330\n",
       "4       41\n",
       "5        9\n",
       "Name: children, dtype: int64"
      ]
     },
     "execution_count": 50,
     "metadata": {},
     "output_type": "execute_result"
    }
   ],
   "source": [
    "df['children'].value_counts().sort_index()"
   ]
  },
  {
   "cell_type": "markdown",
   "metadata": {},
   "source": [
    "Из данных видно,что более 65% не имеют детей"
   ]
  },
  {
   "cell_type": "markdown",
   "metadata": {},
   "source": [
    "Сгруппируем данные по типу 'цель получения кредита', и посчитаем количество событий. "
   ]
  },
  {
   "cell_type": "code",
   "execution_count": 51,
   "metadata": {},
   "outputs": [
    {
     "data": {
      "text/plain": [
       "автомобиль       4306\n",
       "недвижимость    10811\n",
       "образование      4013\n",
       "свадьба          2324\n",
       "Name: purposes_list, dtype: int64"
      ]
     },
     "execution_count": 51,
     "metadata": {},
     "output_type": "execute_result"
    }
   ],
   "source": [
    "df['purposes_list'].value_counts().sort_index()"
   ]
  },
  {
   "cell_type": "markdown",
   "metadata": {},
   "source": [
    "Категории позволят упростить подтвержение или опровержение гипотезы.Добавим категории по возрасту и доходу"
   ]
  },
  {
   "cell_type": "code",
   "execution_count": 52,
   "metadata": {},
   "outputs": [],
   "source": [
    "def age_group(age):\n",
    "    if age < 31 :\n",
    "        return 'молодые'\n",
    "    if 31 <= age <= 60:\n",
    "        return 'средние'\n",
    "    if age > 60:\n",
    "        return 'пенсионеры'\n",
    "    return 'группа не определена'\n",
    "df['age_group'] = df['dob_years'].apply(age_group)\n"
   ]
  },
  {
   "cell_type": "code",
   "execution_count": 53,
   "metadata": {},
   "outputs": [
    {
     "data": {
      "text/plain": [
       "молодые        3717\n",
       "пенсионеры     2126\n",
       "средние       15611\n",
       "Name: age_group, dtype: int64"
      ]
     },
     "execution_count": 53,
     "metadata": {},
     "output_type": "execute_result"
    }
   ],
   "source": [
    "df['age_group'].value_counts().sort_index()"
   ]
  },
  {
   "cell_type": "markdown",
   "metadata": {},
   "source": [
    "Из данных видно,что более 70% в возрасте от 31 до 60 лет."
   ]
  },
  {
   "cell_type": "code",
   "execution_count": 54,
   "metadata": {},
   "outputs": [
    {
     "data": {
      "text/plain": [
       "142594    1070\n",
       "172357     502\n",
       "118514     387\n",
       "150447     145\n",
       "144533       3\n",
       "          ... \n",
       "179138       1\n",
       "61724        1\n",
       "99269        1\n",
       "151371       1\n",
       "126820       1\n",
       "Name: total_income, Length: 18608, dtype: int64"
      ]
     },
     "execution_count": 54,
     "metadata": {},
     "output_type": "execute_result"
    }
   ],
   "source": [
    "df['total_income'].value_counts()"
   ]
  },
  {
   "cell_type": "code",
   "execution_count": 55,
   "metadata": {},
   "outputs": [],
   "source": [
    "def income_group(income):\n",
    "    if income <= 120000 :\n",
    "        return 'низкий доход'\n",
    "    if 120000 < income <= 200000:\n",
    "        return 'средний доход'\n",
    "    if income > 200000:\n",
    "        return 'высокий доход'\n",
    "    return 'группа не определена'\n",
    "df['income_group'] = df['total_income'].apply(income_group)\n"
   ]
  },
  {
   "cell_type": "code",
   "execution_count": 56,
   "metadata": {},
   "outputs": [
    {
     "data": {
      "text/plain": [
       "высокий доход    5067\n",
       "низкий доход     7231\n",
       "средний доход    9156\n",
       "Name: income_group, dtype: int64"
      ]
     },
     "execution_count": 56,
     "metadata": {},
     "output_type": "execute_result"
    }
   ],
   "source": [
    "df['income_group'].value_counts().sort_index()"
   ]
  },
  {
   "cell_type": "markdown",
   "metadata": {},
   "source": [
    "Из данных видно,что боле 40 % зарабатывают более от 120000 до 200000 в месяц."
   ]
  },
  {
   "cell_type": "markdown",
   "metadata": {},
   "source": [
    "**Вывод**"
   ]
  },
  {
   "cell_type": "markdown",
   "metadata": {},
   "source": [
    "Из категоризации данных можно сделать вывод, что более 70%  заемщиков имеют средний возраст от 31 до 60 лет. Также с средним доходом составляют более 40% от общего количества, более 50% замужем/женаты и более 65% не имеют детей.  Это говорит о том, что кредиты берет платежеспособная часть населения с высоким доходом, состоящие в официальном браке и не имеющие детей."
   ]
  },
  {
   "cell_type": "markdown",
   "metadata": {},
   "source": [
    "## Ответ на вопросы"
   ]
  },
  {
   "cell_type": "markdown",
   "metadata": {},
   "source": [
    "- Есть ли зависимость между наличием детей и возвратом кредита в срок?"
   ]
  },
  {
   "cell_type": "code",
   "execution_count": 57,
   "metadata": {},
   "outputs": [
    {
     "data": {
      "text/html": [
       "<div>\n",
       "<style scoped>\n",
       "    .dataframe tbody tr th:only-of-type {\n",
       "        vertical-align: middle;\n",
       "    }\n",
       "\n",
       "    .dataframe tbody tr th {\n",
       "        vertical-align: top;\n",
       "    }\n",
       "\n",
       "    .dataframe thead th {\n",
       "        text-align: right;\n",
       "    }\n",
       "</style>\n",
       "<table border=\"1\" class=\"dataframe\">\n",
       "  <thead>\n",
       "    <tr style=\"text-align: right;\">\n",
       "      <th></th>\n",
       "      <th>debt</th>\n",
       "      <th>non_returned_debt</th>\n",
       "      <th>returned_debt</th>\n",
       "      <th>return_ratio</th>\n",
       "    </tr>\n",
       "    <tr>\n",
       "      <th>children</th>\n",
       "      <th></th>\n",
       "      <th></th>\n",
       "      <th></th>\n",
       "      <th></th>\n",
       "    </tr>\n",
       "  </thead>\n",
       "  <tbody>\n",
       "    <tr>\n",
       "      <th>0</th>\n",
       "      <td>14138</td>\n",
       "      <td>1064</td>\n",
       "      <td>13074</td>\n",
       "      <td>0.924742</td>\n",
       "    </tr>\n",
       "    <tr>\n",
       "      <th>1</th>\n",
       "      <td>4808</td>\n",
       "      <td>444</td>\n",
       "      <td>4364</td>\n",
       "      <td>0.907654</td>\n",
       "    </tr>\n",
       "    <tr>\n",
       "      <th>2</th>\n",
       "      <td>2128</td>\n",
       "      <td>202</td>\n",
       "      <td>1926</td>\n",
       "      <td>0.905075</td>\n",
       "    </tr>\n",
       "    <tr>\n",
       "      <th>3</th>\n",
       "      <td>330</td>\n",
       "      <td>27</td>\n",
       "      <td>303</td>\n",
       "      <td>0.918182</td>\n",
       "    </tr>\n",
       "    <tr>\n",
       "      <th>4</th>\n",
       "      <td>41</td>\n",
       "      <td>4</td>\n",
       "      <td>37</td>\n",
       "      <td>0.902439</td>\n",
       "    </tr>\n",
       "    <tr>\n",
       "      <th>5</th>\n",
       "      <td>9</td>\n",
       "      <td>0</td>\n",
       "      <td>9</td>\n",
       "      <td>1.000000</td>\n",
       "    </tr>\n",
       "  </tbody>\n",
       "</table>\n",
       "</div>"
      ],
      "text/plain": [
       "           debt  non_returned_debt  returned_debt  return_ratio\n",
       "children                                                       \n",
       "0         14138               1064          13074      0.924742\n",
       "1          4808                444           4364      0.907654\n",
       "2          2128                202           1926      0.905075\n",
       "3           330                 27            303      0.918182\n",
       "4            41                  4             37      0.902439\n",
       "5             9                  0              9      1.000000"
      ]
     },
     "execution_count": 57,
     "metadata": {},
     "output_type": "execute_result"
    }
   ],
   "source": [
    "table_1 = pd.pivot_table(df, index='children', values='debt', aggfunc='count')\n",
    "table_2 = pd.pivot_table(df, index='children', values='debt', aggfunc='sum')\n",
    "children= table_1\n",
    "children['non_returned_debt'] = table_2['debt']\n",
    "\n",
    "children['returned_debt'] = children['debt'] - children['non_returned_debt']\n",
    "children['return_ratio'] = children['returned_debt'] / children['debt']\n",
    "children.sort_index()"
   ]
  },
  {
   "cell_type": "markdown",
   "metadata": {},
   "source": [
    " Есть зависимость между наличием детей и возвратом кредита в срок.\n",
    "\n",
    " 1. Самый высокий процент показали \"5 детей\" - 100%\n",
    " 2. Следом категория \"без детей\" - 92,50%\n",
    " 3. Далее \"3 ребенка\" - 91,81%\n",
    " 4. \"1 ребенок\" - 90,78%\n",
    " 5. И \"4 ребенка\" - 90,24%\n",
    "\n",
    "**Вывод**\n",
    "\n",
    "Из выборки мы видем,что заемщики без детей реже других допускают просрочки по кредиту, заемщики с 4 детьми чаще всего задерживают оплату,заемщики с 5 детьми не задерживают оплату,но на этот показатель можно не обращать внимания,т.к. всего 9 человек из наших данных имеют такое количество детей. Если сравнивать наличие детей и полное их отстутсвие и возврат кредита в срок, то можно утверждать,что на вовзрат кредита наличие детей влияет, все категории граждан задерживают оплату с почти одинаковой частотой."
   ]
  },
  {
   "cell_type": "markdown",
   "metadata": {},
   "source": [
    "**- Есть ли зависимость между семейным положением и возвратом кредита в срок?**"
   ]
  },
  {
   "cell_type": "code",
   "execution_count": 58,
   "metadata": {},
   "outputs": [
    {
     "data": {
      "text/html": [
       "<div>\n",
       "<style scoped>\n",
       "    .dataframe tbody tr th:only-of-type {\n",
       "        vertical-align: middle;\n",
       "    }\n",
       "\n",
       "    .dataframe tbody tr th {\n",
       "        vertical-align: top;\n",
       "    }\n",
       "\n",
       "    .dataframe thead th {\n",
       "        text-align: right;\n",
       "    }\n",
       "</style>\n",
       "<table border=\"1\" class=\"dataframe\">\n",
       "  <thead>\n",
       "    <tr style=\"text-align: right;\">\n",
       "      <th></th>\n",
       "      <th>debt</th>\n",
       "      <th>non_returned_debt</th>\n",
       "      <th>returned_debt</th>\n",
       "      <th>return_ratio</th>\n",
       "    </tr>\n",
       "    <tr>\n",
       "      <th>family_status</th>\n",
       "      <th></th>\n",
       "      <th></th>\n",
       "      <th></th>\n",
       "      <th></th>\n",
       "    </tr>\n",
       "  </thead>\n",
       "  <tbody>\n",
       "    <tr>\n",
       "      <th>в разводе</th>\n",
       "      <td>1195</td>\n",
       "      <td>85</td>\n",
       "      <td>1110</td>\n",
       "      <td>0.928870</td>\n",
       "    </tr>\n",
       "    <tr>\n",
       "      <th>вдовец / вдова</th>\n",
       "      <td>959</td>\n",
       "      <td>63</td>\n",
       "      <td>896</td>\n",
       "      <td>0.934307</td>\n",
       "    </tr>\n",
       "    <tr>\n",
       "      <th>гражданский брак</th>\n",
       "      <td>4151</td>\n",
       "      <td>388</td>\n",
       "      <td>3763</td>\n",
       "      <td>0.906529</td>\n",
       "    </tr>\n",
       "    <tr>\n",
       "      <th>женат / замужем</th>\n",
       "      <td>12339</td>\n",
       "      <td>931</td>\n",
       "      <td>11408</td>\n",
       "      <td>0.924548</td>\n",
       "    </tr>\n",
       "    <tr>\n",
       "      <th>не женат / не замужем</th>\n",
       "      <td>2810</td>\n",
       "      <td>274</td>\n",
       "      <td>2536</td>\n",
       "      <td>0.902491</td>\n",
       "    </tr>\n",
       "  </tbody>\n",
       "</table>\n",
       "</div>"
      ],
      "text/plain": [
       "                        debt  non_returned_debt  returned_debt  return_ratio\n",
       "family_status                                                               \n",
       "в разводе               1195                 85           1110      0.928870\n",
       "вдовец / вдова           959                 63            896      0.934307\n",
       "гражданский брак        4151                388           3763      0.906529\n",
       "женат / замужем        12339                931          11408      0.924548\n",
       "не женат / не замужем   2810                274           2536      0.902491"
      ]
     },
     "execution_count": 58,
     "metadata": {},
     "output_type": "execute_result"
    }
   ],
   "source": [
    "table_1 = pd.pivot_table(df, index='family_status', values='debt', aggfunc='count')\n",
    "table_2 = pd.pivot_table(df, index='family_status', values='debt', aggfunc='sum')\n",
    "family= table_1\n",
    "family['non_returned_debt'] = table_2['debt']\n",
    "\n",
    "family['returned_debt'] = family['debt'] - family['non_returned_debt']\n",
    "family['return_ratio'] = family['returned_debt'] / family['debt']\n",
    "family"
   ]
  },
  {
   "cell_type": "markdown",
   "metadata": {},
   "source": [
    "Есть зависимость между семейным положением и возвратом кредита в срок.\n",
    "\n",
    "1. Самый высокий процент показали \"вдовец/вдова\" - 93,43%\n",
    "2. Следом категория \"в разводе\" - 92,88%\n",
    "3. Далее \"женат / замужем\" - 92,47%\n",
    "4. \"Гражданский брак\" - 90,7%\n",
    "5. И \"Не женат / не замужем\" - 90,25%\n",
    "\n",
    "**Вывод**\n",
    "\n",
    "\n",
    "Из выборки мы видем,что чаще всего допускают задержку кредита не женатые/не замужние,либо состоящие в гражданском браке,реже всего вдовцы/вдовы.Можно сделать вывод, что семейные и либо те, кто бывал в браке, более надежные."
   ]
  },
  {
   "cell_type": "markdown",
   "metadata": {},
   "source": [
    "**- Есть ли зависимость между уровнем дохода и возвратом кредита в срок?**"
   ]
  },
  {
   "cell_type": "code",
   "execution_count": 59,
   "metadata": {},
   "outputs": [
    {
     "data": {
      "text/html": [
       "<div>\n",
       "<style scoped>\n",
       "    .dataframe tbody tr th:only-of-type {\n",
       "        vertical-align: middle;\n",
       "    }\n",
       "\n",
       "    .dataframe tbody tr th {\n",
       "        vertical-align: top;\n",
       "    }\n",
       "\n",
       "    .dataframe thead th {\n",
       "        text-align: right;\n",
       "    }\n",
       "</style>\n",
       "<table border=\"1\" class=\"dataframe\">\n",
       "  <thead>\n",
       "    <tr style=\"text-align: right;\">\n",
       "      <th></th>\n",
       "      <th>debt</th>\n",
       "      <th>non_returned_debt</th>\n",
       "      <th>returned_debt</th>\n",
       "      <th>return_ratio</th>\n",
       "    </tr>\n",
       "    <tr>\n",
       "      <th>income_group</th>\n",
       "      <th></th>\n",
       "      <th></th>\n",
       "      <th></th>\n",
       "      <th></th>\n",
       "    </tr>\n",
       "  </thead>\n",
       "  <tbody>\n",
       "    <tr>\n",
       "      <th>высокий доход</th>\n",
       "      <td>5067</td>\n",
       "      <td>358</td>\n",
       "      <td>4709</td>\n",
       "      <td>0.929347</td>\n",
       "    </tr>\n",
       "    <tr>\n",
       "      <th>низкий доход</th>\n",
       "      <td>7231</td>\n",
       "      <td>586</td>\n",
       "      <td>6645</td>\n",
       "      <td>0.918960</td>\n",
       "    </tr>\n",
       "    <tr>\n",
       "      <th>средний доход</th>\n",
       "      <td>9156</td>\n",
       "      <td>797</td>\n",
       "      <td>8359</td>\n",
       "      <td>0.912953</td>\n",
       "    </tr>\n",
       "  </tbody>\n",
       "</table>\n",
       "</div>"
      ],
      "text/plain": [
       "               debt  non_returned_debt  returned_debt  return_ratio\n",
       "income_group                                                       \n",
       "высокий доход  5067                358           4709      0.929347\n",
       "низкий доход   7231                586           6645      0.918960\n",
       "средний доход  9156                797           8359      0.912953"
      ]
     },
     "execution_count": 59,
     "metadata": {},
     "output_type": "execute_result"
    }
   ],
   "source": [
    "table_1 = pd.pivot_table(df, index='income_group', values='debt', aggfunc='count')\n",
    "table_2 = pd.pivot_table(df, index='income_group', values='debt', aggfunc='sum')\n",
    "income= table_1\n",
    "income['non_returned_debt'] = table_2['debt']\n",
    "income['returned_debt'] = income['debt'] - income['non_returned_debt']\n",
    "income['return_ratio'] = income['returned_debt'] / income['debt']\n",
    "income.sort_index()"
   ]
  },
  {
   "cell_type": "markdown",
   "metadata": {},
   "source": [
    "Есть зависимость между уровнем дохода и возвратом кредита в срок.\n",
    "\n",
    "  1. На первом месте уровень дохода от 200000 - 92,93%\n",
    "  2. На втором уровень до 120000 - 91,92%\n",
    "  3. Потом доход от 120000 до 200000 - 91,33%\n",
    "\n",
    "**Вывод**\n",
    "\n",
    " Чаще всего задерживают кредиты заемщики с средним уровнем дохода, но не значительно чаще,чем с уровнем дохода ниже.\n",
    "Из этого следует сделать вывод, что уровень дохода влияет на возврат кредита.\n"
   ]
  },
  {
   "cell_type": "markdown",
   "metadata": {},
   "source": [
    "**- Как разные цели кредита влияют на его возврат в срок?**"
   ]
  },
  {
   "cell_type": "code",
   "execution_count": 60,
   "metadata": {},
   "outputs": [
    {
     "data": {
      "text/html": [
       "<div>\n",
       "<style scoped>\n",
       "    .dataframe tbody tr th:only-of-type {\n",
       "        vertical-align: middle;\n",
       "    }\n",
       "\n",
       "    .dataframe tbody tr th {\n",
       "        vertical-align: top;\n",
       "    }\n",
       "\n",
       "    .dataframe thead th {\n",
       "        text-align: right;\n",
       "    }\n",
       "</style>\n",
       "<table border=\"1\" class=\"dataframe\">\n",
       "  <thead>\n",
       "    <tr style=\"text-align: right;\">\n",
       "      <th></th>\n",
       "      <th>debt</th>\n",
       "      <th>non_returned_debt</th>\n",
       "      <th>returned_debt</th>\n",
       "      <th>return_ratio</th>\n",
       "    </tr>\n",
       "    <tr>\n",
       "      <th>purposes_list</th>\n",
       "      <th></th>\n",
       "      <th></th>\n",
       "      <th></th>\n",
       "      <th></th>\n",
       "    </tr>\n",
       "  </thead>\n",
       "  <tbody>\n",
       "    <tr>\n",
       "      <th>автомобиль</th>\n",
       "      <td>4306</td>\n",
       "      <td>403</td>\n",
       "      <td>3903</td>\n",
       "      <td>0.906410</td>\n",
       "    </tr>\n",
       "    <tr>\n",
       "      <th>недвижимость</th>\n",
       "      <td>10811</td>\n",
       "      <td>782</td>\n",
       "      <td>10029</td>\n",
       "      <td>0.927666</td>\n",
       "    </tr>\n",
       "    <tr>\n",
       "      <th>образование</th>\n",
       "      <td>4013</td>\n",
       "      <td>370</td>\n",
       "      <td>3643</td>\n",
       "      <td>0.907800</td>\n",
       "    </tr>\n",
       "    <tr>\n",
       "      <th>свадьба</th>\n",
       "      <td>2324</td>\n",
       "      <td>186</td>\n",
       "      <td>2138</td>\n",
       "      <td>0.919966</td>\n",
       "    </tr>\n",
       "  </tbody>\n",
       "</table>\n",
       "</div>"
      ],
      "text/plain": [
       "                debt  non_returned_debt  returned_debt  return_ratio\n",
       "purposes_list                                                       \n",
       "автомобиль      4306                403           3903      0.906410\n",
       "недвижимость   10811                782          10029      0.927666\n",
       "образование     4013                370           3643      0.907800\n",
       "свадьба         2324                186           2138      0.919966"
      ]
     },
     "execution_count": 60,
     "metadata": {},
     "output_type": "execute_result"
    }
   ],
   "source": [
    "table_1 = pd.pivot_table(df, index='purposes_list', values='debt', aggfunc='count')\n",
    "table_2 = pd.pivot_table(df, index='purposes_list', values='debt', aggfunc='sum')\n",
    "purposes_list = table_1\n",
    "purposes_list['non_returned_debt'] = table_2['debt']\n",
    "purposes_list['returned_debt'] = purposes_list['debt'] - purposes_list['non_returned_debt']\n",
    "purposes_list['return_ratio'] = purposes_list['returned_debt'] / purposes_list['debt']\n",
    "purposes_list.sort_index()"
   ]
  },
  {
   "cell_type": "markdown",
   "metadata": {},
   "source": [
    "Имеется зависимость между целью и возвратом кредита в срок.\n",
    "\n",
    " 1. Самый популярный тип кредита и самый возвращаемый - недвижимость - 92,78%\n",
    " 2. За ней свадьба - 92,07%\n",
    " 3. Образование - 90,80%\n",
    " 4. Автомобиль - 90,66%\n",
    " \n",
    " **Вывод**\n",
    " \n",
    " Реже всего возвращют вовемя кредит за автомобиль, чаще всего - за недвижимость."
   ]
  },
  {
   "cell_type": "markdown",
   "metadata": {},
   "source": [
    "##  Общий вывод"
   ]
  },
  {
   "cell_type": "markdown",
   "metadata": {},
   "source": [
    "Определим есть ли зависимость между типом занятости и возвратом кредита в срок?"
   ]
  },
  {
   "cell_type": "code",
   "execution_count": 61,
   "metadata": {},
   "outputs": [
    {
     "data": {
      "text/html": [
       "<div>\n",
       "<style scoped>\n",
       "    .dataframe tbody tr th:only-of-type {\n",
       "        vertical-align: middle;\n",
       "    }\n",
       "\n",
       "    .dataframe tbody tr th {\n",
       "        vertical-align: top;\n",
       "    }\n",
       "\n",
       "    .dataframe thead th {\n",
       "        text-align: right;\n",
       "    }\n",
       "</style>\n",
       "<table border=\"1\" class=\"dataframe\">\n",
       "  <thead>\n",
       "    <tr style=\"text-align: right;\">\n",
       "      <th></th>\n",
       "      <th>debt</th>\n",
       "      <th>non_returned_debt</th>\n",
       "      <th>returned_debt</th>\n",
       "      <th>return_ratio</th>\n",
       "    </tr>\n",
       "    <tr>\n",
       "      <th>income_type</th>\n",
       "      <th></th>\n",
       "      <th></th>\n",
       "      <th></th>\n",
       "      <th></th>\n",
       "    </tr>\n",
       "  </thead>\n",
       "  <tbody>\n",
       "    <tr>\n",
       "      <th>безработный</th>\n",
       "      <td>2</td>\n",
       "      <td>1</td>\n",
       "      <td>1</td>\n",
       "      <td>0.500000</td>\n",
       "    </tr>\n",
       "    <tr>\n",
       "      <th>в декрете</th>\n",
       "      <td>1</td>\n",
       "      <td>1</td>\n",
       "      <td>0</td>\n",
       "      <td>0.000000</td>\n",
       "    </tr>\n",
       "    <tr>\n",
       "      <th>госслужащий</th>\n",
       "      <td>1457</td>\n",
       "      <td>86</td>\n",
       "      <td>1371</td>\n",
       "      <td>0.940975</td>\n",
       "    </tr>\n",
       "    <tr>\n",
       "      <th>компаньон</th>\n",
       "      <td>5078</td>\n",
       "      <td>376</td>\n",
       "      <td>4702</td>\n",
       "      <td>0.925955</td>\n",
       "    </tr>\n",
       "    <tr>\n",
       "      <th>пенсионер</th>\n",
       "      <td>3829</td>\n",
       "      <td>216</td>\n",
       "      <td>3613</td>\n",
       "      <td>0.943588</td>\n",
       "    </tr>\n",
       "    <tr>\n",
       "      <th>предприниматель</th>\n",
       "      <td>2</td>\n",
       "      <td>0</td>\n",
       "      <td>2</td>\n",
       "      <td>1.000000</td>\n",
       "    </tr>\n",
       "    <tr>\n",
       "      <th>сотрудник</th>\n",
       "      <td>11084</td>\n",
       "      <td>1061</td>\n",
       "      <td>10023</td>\n",
       "      <td>0.904276</td>\n",
       "    </tr>\n",
       "    <tr>\n",
       "      <th>студент</th>\n",
       "      <td>1</td>\n",
       "      <td>0</td>\n",
       "      <td>1</td>\n",
       "      <td>1.000000</td>\n",
       "    </tr>\n",
       "  </tbody>\n",
       "</table>\n",
       "</div>"
      ],
      "text/plain": [
       "                  debt  non_returned_debt  returned_debt  return_ratio\n",
       "income_type                                                           \n",
       "безработный          2                  1              1      0.500000\n",
       "в декрете            1                  1              0      0.000000\n",
       "госслужащий       1457                 86           1371      0.940975\n",
       "компаньон         5078                376           4702      0.925955\n",
       "пенсионер         3829                216           3613      0.943588\n",
       "предприниматель      2                  0              2      1.000000\n",
       "сотрудник        11084               1061          10023      0.904276\n",
       "студент              1                  0              1      1.000000"
      ]
     },
     "execution_count": 61,
     "metadata": {},
     "output_type": "execute_result"
    }
   ],
   "source": [
    "\n",
    "table_1 = pd.pivot_table(df, index='income_type', values='debt', aggfunc='count')\n",
    "table_2 = pd.pivot_table(df, index='income_type', values='debt', aggfunc='sum')\n",
    "income_type = table_1\n",
    "income_type['non_returned_debt'] = table_2['debt']\n",
    "income_type['returned_debt'] = income_type['debt'] - income_type['non_returned_debt']\n",
    "income_type['return_ratio'] = income_type['returned_debt'] / income_type['debt']\n",
    "income_type.sort_index()"
   ]
  },
  {
   "cell_type": "markdown",
   "metadata": {},
   "source": [
    "Имеется зависимость между типом занятости и возвратом кредита в срок.\n",
    "\n",
    " 1. Чаще всего вовращают - преприниматели и студенты-100 %\n",
    " 2. За ними - госслужащие - 94,1 %\n",
    " 3. Пенсионеры - 94,39%\n",
    " 4. Компаньоны - 92,60%\n",
    " 5. Сотрудник - 90,45%\n",
    " 6. Безработный - 50 %\n",
    " 7. В декрете - 0 %\n",
    " \n",
    " \n",
    " **Вывод**\n",
    " \n",
    " Из данных можно сделать вывод, что чаще всего возращают кредит - госслужащие, а реже - сотрудники,т.к. в декрете, бузработных, предпринимателй и студентов мало в выборке (всего 6 человек).\n"
   ]
  },
  {
   "cell_type": "markdown",
   "metadata": {},
   "source": [
    "Определим есть ли зависимость между уровнем образования и возвратом кредита в срок ?"
   ]
  },
  {
   "cell_type": "code",
   "execution_count": 62,
   "metadata": {},
   "outputs": [
    {
     "data": {
      "text/html": [
       "<div>\n",
       "<style scoped>\n",
       "    .dataframe tbody tr th:only-of-type {\n",
       "        vertical-align: middle;\n",
       "    }\n",
       "\n",
       "    .dataframe tbody tr th {\n",
       "        vertical-align: top;\n",
       "    }\n",
       "\n",
       "    .dataframe thead th {\n",
       "        text-align: right;\n",
       "    }\n",
       "</style>\n",
       "<table border=\"1\" class=\"dataframe\">\n",
       "  <thead>\n",
       "    <tr style=\"text-align: right;\">\n",
       "      <th></th>\n",
       "      <th>debt</th>\n",
       "      <th>non_returned_debt</th>\n",
       "      <th>returned_debt</th>\n",
       "      <th>return_ratio</th>\n",
       "    </tr>\n",
       "    <tr>\n",
       "      <th>education</th>\n",
       "      <th></th>\n",
       "      <th></th>\n",
       "      <th></th>\n",
       "      <th></th>\n",
       "    </tr>\n",
       "  </thead>\n",
       "  <tbody>\n",
       "    <tr>\n",
       "      <th>высшее</th>\n",
       "      <td>5250</td>\n",
       "      <td>278</td>\n",
       "      <td>4972</td>\n",
       "      <td>0.947048</td>\n",
       "    </tr>\n",
       "    <tr>\n",
       "      <th>начальное</th>\n",
       "      <td>282</td>\n",
       "      <td>31</td>\n",
       "      <td>251</td>\n",
       "      <td>0.890071</td>\n",
       "    </tr>\n",
       "    <tr>\n",
       "      <th>неоконченное высшее</th>\n",
       "      <td>744</td>\n",
       "      <td>68</td>\n",
       "      <td>676</td>\n",
       "      <td>0.908602</td>\n",
       "    </tr>\n",
       "    <tr>\n",
       "      <th>среднее</th>\n",
       "      <td>15172</td>\n",
       "      <td>1364</td>\n",
       "      <td>13808</td>\n",
       "      <td>0.910098</td>\n",
       "    </tr>\n",
       "    <tr>\n",
       "      <th>ученая степень</th>\n",
       "      <td>6</td>\n",
       "      <td>0</td>\n",
       "      <td>6</td>\n",
       "      <td>1.000000</td>\n",
       "    </tr>\n",
       "  </tbody>\n",
       "</table>\n",
       "</div>"
      ],
      "text/plain": [
       "                      debt  non_returned_debt  returned_debt  return_ratio\n",
       "education                                                                 \n",
       "высшее                5250                278           4972      0.947048\n",
       "начальное              282                 31            251      0.890071\n",
       "неоконченное высшее    744                 68            676      0.908602\n",
       "среднее              15172               1364          13808      0.910098\n",
       "ученая степень           6                  0              6      1.000000"
      ]
     },
     "execution_count": 62,
     "metadata": {},
     "output_type": "execute_result"
    }
   ],
   "source": [
    "table_1 = pd.pivot_table(df, index='education', values='debt', aggfunc='count')\n",
    "table_2 = pd.pivot_table(df, index='education', values='debt', aggfunc='sum')\n",
    "education = table_1\n",
    "education['non_returned_debt'] = table_2['debt']\n",
    "education['returned_debt'] = education['debt'] - education['non_returned_debt']\n",
    "education['return_ratio'] = education['returned_debt'] / education['debt']\n",
    "education.sort_index()"
   ]
  },
  {
   "cell_type": "markdown",
   "metadata": {},
   "source": [
    "Имеется зависимость между уровнем образования и возвратом кредита в срок.\n",
    "\n",
    " 1. Чаще всего вовращают - с ученой степенью-100 %\n",
    " 2. За ними - с высшим образованием - 94,71 %\n",
    " 3. с средним - 91,04%\n",
    " 4. С неконченным высшим - 90,86%\n",
    " 5. С начальным - 89%\n",
    "\n",
    " \n",
    " \n",
    " **Вывод**\n",
    " \n",
    " Из данных можно сделать вывод, что чаще всего возращают кредит люди с ученой степенью,а реже с начальным образованием.\n"
   ]
  },
  {
   "cell_type": "markdown",
   "metadata": {},
   "source": [
    "Определим есть ли зависимость между возрастом и возвратом кредита в срок ?"
   ]
  },
  {
   "cell_type": "code",
   "execution_count": 63,
   "metadata": {},
   "outputs": [
    {
     "data": {
      "text/html": [
       "<div>\n",
       "<style scoped>\n",
       "    .dataframe tbody tr th:only-of-type {\n",
       "        vertical-align: middle;\n",
       "    }\n",
       "\n",
       "    .dataframe tbody tr th {\n",
       "        vertical-align: top;\n",
       "    }\n",
       "\n",
       "    .dataframe thead th {\n",
       "        text-align: right;\n",
       "    }\n",
       "</style>\n",
       "<table border=\"1\" class=\"dataframe\">\n",
       "  <thead>\n",
       "    <tr style=\"text-align: right;\">\n",
       "      <th></th>\n",
       "      <th>debt</th>\n",
       "      <th>non_returned_debt</th>\n",
       "      <th>returned_debt</th>\n",
       "      <th>return_ratio</th>\n",
       "    </tr>\n",
       "    <tr>\n",
       "      <th>age_group</th>\n",
       "      <th></th>\n",
       "      <th></th>\n",
       "      <th></th>\n",
       "      <th></th>\n",
       "    </tr>\n",
       "  </thead>\n",
       "  <tbody>\n",
       "    <tr>\n",
       "      <th>молодые</th>\n",
       "      <td>3717</td>\n",
       "      <td>403</td>\n",
       "      <td>3314</td>\n",
       "      <td>0.891579</td>\n",
       "    </tr>\n",
       "    <tr>\n",
       "      <th>пенсионеры</th>\n",
       "      <td>2126</td>\n",
       "      <td>101</td>\n",
       "      <td>2025</td>\n",
       "      <td>0.952493</td>\n",
       "    </tr>\n",
       "    <tr>\n",
       "      <th>средние</th>\n",
       "      <td>15611</td>\n",
       "      <td>1237</td>\n",
       "      <td>14374</td>\n",
       "      <td>0.920761</td>\n",
       "    </tr>\n",
       "  </tbody>\n",
       "</table>\n",
       "</div>"
      ],
      "text/plain": [
       "             debt  non_returned_debt  returned_debt  return_ratio\n",
       "age_group                                                        \n",
       "молодые      3717                403           3314      0.891579\n",
       "пенсионеры   2126                101           2025      0.952493\n",
       "средние     15611               1237          14374      0.920761"
      ]
     },
     "execution_count": 63,
     "metadata": {},
     "output_type": "execute_result"
    }
   ],
   "source": [
    "table_1 = pd.pivot_table(df, index='age_group', values='debt', aggfunc='count')\n",
    "table_2 = pd.pivot_table(df, index='age_group', values='debt', aggfunc='sum')\n",
    "age_group = table_1\n",
    "age_group['non_returned_debt'] = table_2['debt']\n",
    "age_group['returned_debt'] = age_group['debt'] - age_group['non_returned_debt']\n",
    "age_group['return_ratio'] = age_group['returned_debt'] / age_group['debt']\n",
    "age_group.sort_index()"
   ]
  },
  {
   "cell_type": "markdown",
   "metadata": {},
   "source": [
    "Имеется зависимость между возрастом и возвратом кредита в срок.\n",
    "\n",
    " 1. Чаще всего вовращают - пенсионеры -95,28 %\n",
    " 2. За ними -средние - 92,10 %\n",
    " 3. Реже всего- молодые - 89,17%\n",
    "\n",
    "\n",
    " \n",
    " \n",
    " **Вывод**\n",
    " \n",
    " Из данных можно сделать вывод, что чаще всего возращают пенсионеры и реже - молодые до 30 лет.\n"
   ]
  },
  {
   "cell_type": "markdown",
   "metadata": {},
   "source": [
    "Подводим итоги и делаем общий вывод.\n",
    "\n",
    "На основе всех вышеприведенных таблиц выявляем закономерности, а именно:\n",
    "- Чем выше образование, тем ответственнее понимание по возращнию кредита\n",
    "- Чем выше возраст, тем чаще возврат кредит и более ответственность\n",
    "- Чем выше дожность, чем больше возращаемость кредита\n",
    "- Высокий доход положительно влияет на возврат кредита\n",
    "- Наличие детей отрицательно влиятет на возрат кредита\n",
    "- Реже всего возрат кредита на автомобиль, чем на недвижимость\n",
    "- Семейные люди, либо те, кто был в браке чаще возращают кредит"
   ]
  },
  {
   "cell_type": "markdown",
   "metadata": {},
   "source": [
    "**Опишем положительного и отрицательного кандидата на получение кредита**\n",
    "\n",
    "Положительный:\n",
    "- Человек, который стал вдовцом/вдовой, который не имеет детей, с высшим образованием, доходом от 200000, преобретающий недвижимость.\n",
    "\n",
    "Отрицательный:\n",
    "- Человек, который не женат/не замужем, с начальным образованием, с доходом до 120000, покупающий автомобиль."
   ]
  }
 ],
 "metadata": {
  "ExecuteTimeLog": [
   {
    "duration": 602,
    "start_time": "2022-01-17T10:30:03.858Z"
   },
   {
    "duration": 55,
    "start_time": "2022-01-17T10:30:17.197Z"
   },
   {
    "duration": 62,
    "start_time": "2022-01-17T10:30:36.531Z"
   },
   {
    "duration": 54,
    "start_time": "2022-01-17T10:38:31.968Z"
   },
   {
    "duration": 69,
    "start_time": "2022-01-17T10:38:39.626Z"
   },
   {
    "duration": 57,
    "start_time": "2022-01-17T10:43:47.484Z"
   },
   {
    "duration": 53,
    "start_time": "2022-01-17T10:45:57.875Z"
   },
   {
    "duration": 3,
    "start_time": "2022-01-17T10:56:58.907Z"
   },
   {
    "duration": 47,
    "start_time": "2022-01-17T10:56:59.906Z"
   },
   {
    "duration": 13,
    "start_time": "2022-01-17T10:57:00.736Z"
   },
   {
    "duration": 12,
    "start_time": "2022-01-17T10:57:01.751Z"
   },
   {
    "duration": 9,
    "start_time": "2022-01-17T11:00:41.485Z"
   },
   {
    "duration": 9,
    "start_time": "2022-01-17T11:03:13.001Z"
   },
   {
    "duration": 7,
    "start_time": "2022-01-17T11:09:03.172Z"
   },
   {
    "duration": 12,
    "start_time": "2022-01-17T11:09:03.835Z"
   },
   {
    "duration": 11,
    "start_time": "2022-01-17T11:18:03.169Z"
   },
   {
    "duration": 13,
    "start_time": "2022-01-17T11:21:40.034Z"
   },
   {
    "duration": 5,
    "start_time": "2022-01-17T11:22:56.781Z"
   },
   {
    "duration": 84,
    "start_time": "2022-01-17T11:23:12.702Z"
   },
   {
    "duration": 92,
    "start_time": "2022-01-17T11:23:22.959Z"
   },
   {
    "duration": 77,
    "start_time": "2022-01-17T11:23:55.800Z"
   },
   {
    "duration": 85,
    "start_time": "2022-01-17T11:24:57.709Z"
   },
   {
    "duration": 319,
    "start_time": "2022-01-17T11:26:26.349Z"
   },
   {
    "duration": 5,
    "start_time": "2022-01-17T11:28:21.371Z"
   },
   {
    "duration": 10,
    "start_time": "2022-01-17T11:30:27.485Z"
   },
   {
    "duration": 5,
    "start_time": "2022-01-17T11:30:29.814Z"
   },
   {
    "duration": 40,
    "start_time": "2022-01-17T11:41:40.302Z"
   },
   {
    "duration": 41,
    "start_time": "2022-01-17T11:41:48.621Z"
   },
   {
    "duration": 13,
    "start_time": "2022-01-17T11:42:01.468Z"
   },
   {
    "duration": 1161,
    "start_time": "2022-01-17T11:44:25.333Z"
   },
   {
    "duration": 1593,
    "start_time": "2022-01-17T11:45:59.280Z"
   },
   {
    "duration": 4,
    "start_time": "2022-01-17T11:46:20.206Z"
   },
   {
    "duration": 13,
    "start_time": "2022-01-17T11:46:22.062Z"
   },
   {
    "duration": 8,
    "start_time": "2022-01-17T11:50:16.282Z"
   },
   {
    "duration": 7,
    "start_time": "2022-01-17T12:02:14.783Z"
   },
   {
    "duration": 11,
    "start_time": "2022-01-17T12:02:18.658Z"
   },
   {
    "duration": 8,
    "start_time": "2022-01-17T12:02:19.364Z"
   },
   {
    "duration": 4,
    "start_time": "2022-01-17T12:03:28.833Z"
   },
   {
    "duration": 12,
    "start_time": "2022-01-17T12:03:30.806Z"
   },
   {
    "duration": 14,
    "start_time": "2022-01-17T12:05:01.894Z"
   },
   {
    "duration": 10,
    "start_time": "2022-01-17T12:08:10.971Z"
   },
   {
    "duration": 9,
    "start_time": "2022-01-17T12:12:01.458Z"
   },
   {
    "duration": 14,
    "start_time": "2022-01-17T12:12:45.001Z"
   },
   {
    "duration": 9,
    "start_time": "2022-01-17T12:13:05.744Z"
   },
   {
    "duration": 8,
    "start_time": "2022-01-17T12:14:20.601Z"
   },
   {
    "duration": 6,
    "start_time": "2022-01-17T12:21:27.543Z"
   },
   {
    "duration": 6,
    "start_time": "2022-01-17T12:24:23.833Z"
   },
   {
    "duration": 4,
    "start_time": "2022-01-17T12:24:27.507Z"
   },
   {
    "duration": 264,
    "start_time": "2022-01-17T12:24:28.030Z"
   },
   {
    "duration": 6,
    "start_time": "2022-01-17T12:24:28.645Z"
   },
   {
    "duration": 5,
    "start_time": "2022-01-17T12:25:24.987Z"
   },
   {
    "duration": 7,
    "start_time": "2022-01-17T12:25:27.389Z"
   },
   {
    "duration": 11,
    "start_time": "2022-01-17T12:26:35.361Z"
   },
   {
    "duration": 6,
    "start_time": "2022-01-17T12:29:24.958Z"
   },
   {
    "duration": 8,
    "start_time": "2022-01-17T12:31:27.390Z"
   },
   {
    "duration": 5,
    "start_time": "2022-01-17T12:32:01.107Z"
   },
   {
    "duration": 6,
    "start_time": "2022-01-17T12:32:01.908Z"
   },
   {
    "duration": 6,
    "start_time": "2022-01-17T12:32:17.137Z"
   },
   {
    "duration": 269,
    "start_time": "2022-01-17T12:32:55.383Z"
   },
   {
    "duration": 6,
    "start_time": "2022-01-17T12:33:36.855Z"
   },
   {
    "duration": 7,
    "start_time": "2022-01-17T12:33:49.346Z"
   },
   {
    "duration": 7,
    "start_time": "2022-01-17T12:34:22.307Z"
   },
   {
    "duration": 4,
    "start_time": "2022-01-17T12:36:54.496Z"
   },
   {
    "duration": 12,
    "start_time": "2022-01-17T12:36:55.116Z"
   },
   {
    "duration": 11,
    "start_time": "2022-01-17T12:36:56.718Z"
   },
   {
    "duration": 47,
    "start_time": "2022-01-17T12:37:01.849Z"
   },
   {
    "duration": 13,
    "start_time": "2022-01-17T12:37:04.962Z"
   },
   {
    "duration": 4,
    "start_time": "2022-01-17T12:37:10.901Z"
   },
   {
    "duration": 1077,
    "start_time": "2022-01-17T12:37:11.945Z"
   },
   {
    "duration": 4,
    "start_time": "2022-01-17T12:37:40.046Z"
   },
   {
    "duration": 13,
    "start_time": "2022-01-17T12:37:41.593Z"
   },
   {
    "duration": 8,
    "start_time": "2022-01-17T12:37:45.831Z"
   },
   {
    "duration": 12,
    "start_time": "2022-01-17T12:37:47.315Z"
   },
   {
    "duration": 8,
    "start_time": "2022-01-17T12:37:48.177Z"
   },
   {
    "duration": 7,
    "start_time": "2022-01-17T12:37:49.062Z"
   },
   {
    "duration": 13,
    "start_time": "2022-01-17T12:37:52.063Z"
   },
   {
    "duration": 9,
    "start_time": "2022-01-17T12:37:52.709Z"
   },
   {
    "duration": 7,
    "start_time": "2022-01-17T12:37:53.646Z"
   },
   {
    "duration": 6,
    "start_time": "2022-01-17T12:37:54.644Z"
   },
   {
    "duration": 4,
    "start_time": "2022-01-17T12:37:55.803Z"
   },
   {
    "duration": 4,
    "start_time": "2022-01-17T12:37:57.875Z"
   },
   {
    "duration": 7,
    "start_time": "2022-01-17T12:37:58.554Z"
   },
   {
    "duration": 6,
    "start_time": "2022-01-17T12:38:00.705Z"
   },
   {
    "duration": 6,
    "start_time": "2022-01-17T12:38:01.908Z"
   },
   {
    "duration": 6,
    "start_time": "2022-01-17T12:38:02.744Z"
   },
   {
    "duration": 6,
    "start_time": "2022-01-17T12:38:03.878Z"
   },
   {
    "duration": 12,
    "start_time": "2022-01-17T12:42:40.226Z"
   },
   {
    "duration": 13,
    "start_time": "2022-01-17T12:43:37.596Z"
   },
   {
    "duration": 4,
    "start_time": "2022-01-17T12:43:38.463Z"
   },
   {
    "duration": 4,
    "start_time": "2022-01-17T12:43:39.395Z"
   },
   {
    "duration": 7,
    "start_time": "2022-01-17T12:43:40.585Z"
   },
   {
    "duration": 8,
    "start_time": "2022-01-17T12:44:24.762Z"
   },
   {
    "duration": 8,
    "start_time": "2022-01-17T12:49:29.725Z"
   },
   {
    "duration": 8,
    "start_time": "2022-01-17T12:51:33.598Z"
   },
   {
    "duration": 18,
    "start_time": "2022-01-17T12:58:24.732Z"
   },
   {
    "duration": 3,
    "start_time": "2022-01-17T13:01:57.906Z"
   },
   {
    "duration": 282,
    "start_time": "2022-01-17T13:02:35.818Z"
   },
   {
    "duration": 255,
    "start_time": "2022-01-17T13:02:36.380Z"
   },
   {
    "duration": 3,
    "start_time": "2022-01-17T13:03:13.735Z"
   },
   {
    "duration": 3,
    "start_time": "2022-01-17T13:05:48.647Z"
   },
   {
    "duration": 17,
    "start_time": "2022-01-17T13:05:58.775Z"
   },
   {
    "duration": 259,
    "start_time": "2022-01-17T13:08:18.557Z"
   },
   {
    "duration": 19,
    "start_time": "2022-01-17T13:08:19.127Z"
   },
   {
    "duration": 6,
    "start_time": "2022-01-17T13:10:18.786Z"
   },
   {
    "duration": 5,
    "start_time": "2022-01-17T13:10:19.489Z"
   },
   {
    "duration": 6,
    "start_time": "2022-01-17T13:10:22.768Z"
   },
   {
    "duration": 7,
    "start_time": "2022-01-17T13:10:23.878Z"
   },
   {
    "duration": 8,
    "start_time": "2022-01-17T13:10:25.270Z"
   },
   {
    "duration": 17,
    "start_time": "2022-01-17T13:10:27.130Z"
   },
   {
    "duration": 258,
    "start_time": "2022-01-17T13:15:46.570Z"
   },
   {
    "duration": 264,
    "start_time": "2022-01-17T13:16:22.043Z"
   },
   {
    "duration": 3,
    "start_time": "2022-01-17T13:16:31.524Z"
   },
   {
    "duration": 259,
    "start_time": "2022-01-17T13:16:32.067Z"
   },
   {
    "duration": 276,
    "start_time": "2022-01-17T13:16:34.376Z"
   },
   {
    "duration": 3,
    "start_time": "2022-01-17T13:17:00.201Z"
   },
   {
    "duration": 19,
    "start_time": "2022-01-17T13:17:02.157Z"
   },
   {
    "duration": 4,
    "start_time": "2022-01-17T13:18:06.330Z"
   },
   {
    "duration": 1356,
    "start_time": "2022-01-17T13:18:06.955Z"
   },
   {
    "duration": 12,
    "start_time": "2022-01-17T13:20:46.225Z"
   },
   {
    "duration": 1021,
    "start_time": "2022-01-17T13:20:47.252Z"
   },
   {
    "duration": -149,
    "start_time": "2022-01-17T13:20:48.424Z"
   },
   {
    "duration": 11,
    "start_time": "2022-01-17T13:21:43.528Z"
   },
   {
    "duration": 42,
    "start_time": "2022-01-17T13:21:50.410Z"
   },
   {
    "duration": 12,
    "start_time": "2022-01-17T13:22:03.691Z"
   },
   {
    "duration": 11,
    "start_time": "2022-01-17T13:22:09.357Z"
   },
   {
    "duration": 41,
    "start_time": "2022-01-17T13:22:13.141Z"
   },
   {
    "duration": 12,
    "start_time": "2022-01-17T13:22:18.840Z"
   },
   {
    "duration": 4,
    "start_time": "2022-01-17T13:22:29.071Z"
   },
   {
    "duration": 13,
    "start_time": "2022-01-17T13:22:29.555Z"
   },
   {
    "duration": 1355,
    "start_time": "2022-01-17T13:22:29.799Z"
   },
   {
    "duration": -119,
    "start_time": "2022-01-17T13:22:31.274Z"
   },
   {
    "duration": -141,
    "start_time": "2022-01-17T13:22:31.297Z"
   },
   {
    "duration": 13,
    "start_time": "2022-01-17T13:22:31.167Z"
   },
   {
    "duration": 9,
    "start_time": "2022-01-17T13:22:31.378Z"
   },
   {
    "duration": 8,
    "start_time": "2022-01-17T13:22:31.587Z"
   },
   {
    "duration": 14,
    "start_time": "2022-01-17T13:22:32.204Z"
   },
   {
    "duration": 9,
    "start_time": "2022-01-17T13:22:32.587Z"
   },
   {
    "duration": 7,
    "start_time": "2022-01-17T13:22:32.999Z"
   },
   {
    "duration": 8,
    "start_time": "2022-01-17T13:22:33.849Z"
   },
   {
    "duration": 4,
    "start_time": "2022-01-17T13:22:34.087Z"
   },
   {
    "duration": 4,
    "start_time": "2022-01-17T13:22:34.336Z"
   },
   {
    "duration": 7,
    "start_time": "2022-01-17T13:22:34.663Z"
   },
   {
    "duration": 6,
    "start_time": "2022-01-17T13:22:35.163Z"
   },
   {
    "duration": 4,
    "start_time": "2022-01-17T13:22:36.277Z"
   },
   {
    "duration": 3,
    "start_time": "2022-01-17T13:22:36.841Z"
   },
   {
    "duration": 6,
    "start_time": "2022-01-17T13:22:37.108Z"
   },
   {
    "duration": 7,
    "start_time": "2022-01-17T13:22:37.519Z"
   },
   {
    "duration": 5,
    "start_time": "2022-01-17T13:22:38.080Z"
   },
   {
    "duration": 5,
    "start_time": "2022-01-17T13:22:38.767Z"
   },
   {
    "duration": 6,
    "start_time": "2022-01-17T13:22:39.352Z"
   },
   {
    "duration": 7,
    "start_time": "2022-01-17T13:22:39.932Z"
   },
   {
    "duration": 8,
    "start_time": "2022-01-17T13:22:40.715Z"
   },
   {
    "duration": 18,
    "start_time": "2022-01-17T13:22:41.984Z"
   },
   {
    "duration": 3,
    "start_time": "2022-01-17T13:22:44.158Z"
   },
   {
    "duration": 1311,
    "start_time": "2022-01-17T13:22:44.980Z"
   },
   {
    "duration": 17,
    "start_time": "2022-01-17T13:22:47.353Z"
   },
   {
    "duration": 1381,
    "start_time": "2022-01-17T13:23:00.338Z"
   },
   {
    "duration": 10,
    "start_time": "2022-01-17T13:23:58.791Z"
   },
   {
    "duration": 11,
    "start_time": "2022-01-17T13:24:10.156Z"
   },
   {
    "duration": 42,
    "start_time": "2022-01-17T13:24:23.280Z"
   },
   {
    "duration": 12,
    "start_time": "2022-01-17T13:24:24.118Z"
   },
   {
    "duration": 4,
    "start_time": "2022-01-17T13:24:38.203Z"
   },
   {
    "duration": 14,
    "start_time": "2022-01-17T13:24:39.597Z"
   },
   {
    "duration": 262,
    "start_time": "2022-01-17T13:28:52.640Z"
   },
   {
    "duration": 19,
    "start_time": "2022-01-17T13:29:02.921Z"
   },
   {
    "duration": 12,
    "start_time": "2022-01-17T13:29:05.515Z"
   },
   {
    "duration": 11,
    "start_time": "2022-01-17T13:29:22.713Z"
   },
   {
    "duration": 6,
    "start_time": "2022-01-17T13:29:24.293Z"
   },
   {
    "duration": 12,
    "start_time": "2022-01-17T13:29:24.921Z"
   },
   {
    "duration": 8,
    "start_time": "2022-01-17T13:29:54.678Z"
   },
   {
    "duration": 13,
    "start_time": "2022-01-17T13:29:54.907Z"
   },
   {
    "duration": 8,
    "start_time": "2022-01-17T13:29:55.133Z"
   },
   {
    "duration": 8,
    "start_time": "2022-01-17T13:29:55.359Z"
   },
   {
    "duration": 14,
    "start_time": "2022-01-17T13:29:55.571Z"
   },
   {
    "duration": 9,
    "start_time": "2022-01-17T13:29:55.756Z"
   },
   {
    "duration": 7,
    "start_time": "2022-01-17T13:29:55.955Z"
   },
   {
    "duration": 10,
    "start_time": "2022-01-17T13:29:56.542Z"
   },
   {
    "duration": 5,
    "start_time": "2022-01-17T13:29:58.326Z"
   },
   {
    "duration": 5,
    "start_time": "2022-01-17T13:29:58.664Z"
   },
   {
    "duration": 8,
    "start_time": "2022-01-17T13:29:58.930Z"
   },
   {
    "duration": 6,
    "start_time": "2022-01-17T13:29:59.242Z"
   },
   {
    "duration": 4,
    "start_time": "2022-01-17T13:30:01.561Z"
   },
   {
    "duration": 36,
    "start_time": "2022-01-17T13:30:01.567Z"
   },
   {
    "duration": 10,
    "start_time": "2022-01-17T13:30:01.605Z"
   },
   {
    "duration": 16,
    "start_time": "2022-01-17T13:30:01.617Z"
   },
   {
    "duration": 6,
    "start_time": "2022-01-17T13:30:01.843Z"
   },
   {
    "duration": 5,
    "start_time": "2022-01-17T13:30:02.162Z"
   },
   {
    "duration": 9,
    "start_time": "2022-01-17T13:30:02.530Z"
   },
   {
    "duration": 7,
    "start_time": "2022-01-17T13:30:03.042Z"
   },
   {
    "duration": 7,
    "start_time": "2022-01-17T13:30:03.564Z"
   },
   {
    "duration": 16,
    "start_time": "2022-01-17T13:30:06.108Z"
   },
   {
    "duration": 3,
    "start_time": "2022-01-17T13:30:09.390Z"
   },
   {
    "duration": 1414,
    "start_time": "2022-01-17T13:30:10.179Z"
   },
   {
    "duration": 15,
    "start_time": "2022-01-17T13:30:11.835Z"
   },
   {
    "duration": 546,
    "start_time": "2022-01-18T14:52:31.675Z"
   },
   {
    "duration": 45,
    "start_time": "2022-01-18T14:52:32.821Z"
   },
   {
    "duration": 17,
    "start_time": "2022-01-18T14:52:34.951Z"
   },
   {
    "duration": 10,
    "start_time": "2022-01-18T14:52:36.567Z"
   },
   {
    "duration": 9,
    "start_time": "2022-01-18T14:53:30.493Z"
   },
   {
    "duration": 8,
    "start_time": "2022-01-18T14:53:54.491Z"
   },
   {
    "duration": 36,
    "start_time": "2022-01-18T14:54:17.891Z"
   },
   {
    "duration": 9,
    "start_time": "2022-01-18T14:54:19.478Z"
   },
   {
    "duration": 4,
    "start_time": "2022-01-18T14:54:31.402Z"
   },
   {
    "duration": 11,
    "start_time": "2022-01-18T14:54:39.002Z"
   },
   {
    "duration": 17,
    "start_time": "2022-01-18T14:54:40.468Z"
   },
   {
    "duration": 12,
    "start_time": "2022-01-18T14:54:43.626Z"
   },
   {
    "duration": 6,
    "start_time": "2022-01-18T14:54:54.383Z"
   },
   {
    "duration": 10,
    "start_time": "2022-01-18T14:54:59.901Z"
   },
   {
    "duration": 7,
    "start_time": "2022-01-18T14:55:02.854Z"
   },
   {
    "duration": 7,
    "start_time": "2022-01-18T14:55:11.183Z"
   },
   {
    "duration": 12,
    "start_time": "2022-01-18T14:55:19.321Z"
   },
   {
    "duration": 8,
    "start_time": "2022-01-18T14:55:19.930Z"
   },
   {
    "duration": 6,
    "start_time": "2022-01-18T14:55:28.606Z"
   },
   {
    "duration": 11,
    "start_time": "2022-01-18T14:55:44.334Z"
   },
   {
    "duration": 4,
    "start_time": "2022-01-18T15:00:05.161Z"
   },
   {
    "duration": 5,
    "start_time": "2022-01-18T15:00:06.080Z"
   },
   {
    "duration": 9,
    "start_time": "2022-01-18T15:00:07.035Z"
   },
   {
    "duration": 5,
    "start_time": "2022-01-18T15:00:12.110Z"
   },
   {
    "duration": 4,
    "start_time": "2022-01-18T15:01:28.770Z"
   },
   {
    "duration": 4,
    "start_time": "2022-01-18T15:01:30.039Z"
   },
   {
    "duration": 6,
    "start_time": "2022-01-18T15:01:30.840Z"
   },
   {
    "duration": 6,
    "start_time": "2022-01-18T15:02:08.926Z"
   },
   {
    "duration": 5,
    "start_time": "2022-01-18T15:05:24.539Z"
   },
   {
    "duration": 5,
    "start_time": "2022-01-18T15:05:25.341Z"
   },
   {
    "duration": 6,
    "start_time": "2022-01-18T15:05:40.791Z"
   },
   {
    "duration": 7,
    "start_time": "2022-01-18T15:05:52.253Z"
   },
   {
    "duration": 8,
    "start_time": "2022-01-18T15:05:57.340Z"
   },
   {
    "duration": 14,
    "start_time": "2022-01-18T15:06:20.113Z"
   },
   {
    "duration": 3,
    "start_time": "2022-01-18T15:06:22.563Z"
   },
   {
    "duration": 1687,
    "start_time": "2022-01-18T15:06:23.736Z"
   },
   {
    "duration": -126,
    "start_time": "2022-01-18T15:06:25.551Z"
   },
   {
    "duration": 3,
    "start_time": "2022-01-18T15:23:00.973Z"
   },
   {
    "duration": 50,
    "start_time": "2022-01-18T15:23:01.393Z"
   },
   {
    "duration": 12,
    "start_time": "2022-01-18T15:23:01.820Z"
   },
   {
    "duration": 10,
    "start_time": "2022-01-18T15:23:02.226Z"
   },
   {
    "duration": 8,
    "start_time": "2022-01-18T15:23:05.244Z"
   },
   {
    "duration": 9,
    "start_time": "2022-01-18T15:23:07.004Z"
   },
   {
    "duration": 36,
    "start_time": "2022-01-18T15:23:08.189Z"
   },
   {
    "duration": 9,
    "start_time": "2022-01-18T15:23:08.671Z"
   },
   {
    "duration": 4,
    "start_time": "2022-01-18T15:23:09.681Z"
   },
   {
    "duration": 10,
    "start_time": "2022-01-18T15:23:10.751Z"
   },
   {
    "duration": 7,
    "start_time": "2022-01-18T15:23:11.800Z"
   },
   {
    "duration": 10,
    "start_time": "2022-01-18T15:23:12.923Z"
   },
   {
    "duration": 7,
    "start_time": "2022-01-18T15:23:14.037Z"
   },
   {
    "duration": 7,
    "start_time": "2022-01-18T15:23:14.652Z"
   },
   {
    "duration": 12,
    "start_time": "2022-01-18T15:23:15.417Z"
   },
   {
    "duration": 7,
    "start_time": "2022-01-18T15:23:15.937Z"
   },
   {
    "duration": 7,
    "start_time": "2022-01-18T15:23:16.452Z"
   },
   {
    "duration": 12,
    "start_time": "2022-01-18T15:23:17.718Z"
   },
   {
    "duration": 3,
    "start_time": "2022-01-18T15:23:19.710Z"
   },
   {
    "duration": 4,
    "start_time": "2022-01-18T15:23:20.704Z"
   },
   {
    "duration": 6,
    "start_time": "2022-01-18T15:23:21.171Z"
   },
   {
    "duration": 6,
    "start_time": "2022-01-18T15:23:21.717Z"
   },
   {
    "duration": 3,
    "start_time": "2022-01-18T15:23:22.922Z"
   },
   {
    "duration": 3,
    "start_time": "2022-01-18T15:23:23.416Z"
   },
   {
    "duration": 6,
    "start_time": "2022-01-18T15:23:23.821Z"
   },
   {
    "duration": 6,
    "start_time": "2022-01-18T15:23:24.620Z"
   },
   {
    "duration": 6,
    "start_time": "2022-01-18T15:23:25.824Z"
   },
   {
    "duration": 5,
    "start_time": "2022-01-18T15:23:26.358Z"
   },
   {
    "duration": 6,
    "start_time": "2022-01-18T15:23:26.787Z"
   },
   {
    "duration": 8,
    "start_time": "2022-01-18T15:23:27.202Z"
   },
   {
    "duration": 6,
    "start_time": "2022-01-18T15:23:27.700Z"
   },
   {
    "duration": 7,
    "start_time": "2022-01-18T15:23:29.251Z"
   },
   {
    "duration": 3,
    "start_time": "2022-01-18T15:23:31.673Z"
   },
   {
    "duration": 8,
    "start_time": "2022-01-18T15:23:32.816Z"
   },
   {
    "duration": 7,
    "start_time": "2022-01-18T15:23:33.905Z"
   },
   {
    "duration": 5,
    "start_time": "2022-01-18T15:37:41.858Z"
   },
   {
    "duration": 7,
    "start_time": "2022-01-18T15:38:04.303Z"
   },
   {
    "duration": 6,
    "start_time": "2022-01-18T15:38:34.068Z"
   },
   {
    "duration": 7,
    "start_time": "2022-01-18T15:39:13.613Z"
   },
   {
    "duration": 7,
    "start_time": "2022-01-18T15:52:56.694Z"
   },
   {
    "duration": 6,
    "start_time": "2022-01-18T15:53:44.280Z"
   },
   {
    "duration": 8,
    "start_time": "2022-01-18T15:55:42.963Z"
   },
   {
    "duration": 6,
    "start_time": "2022-01-18T15:55:57.785Z"
   },
   {
    "duration": 406,
    "start_time": "2022-01-18T15:56:49.958Z"
   },
   {
    "duration": 6,
    "start_time": "2022-01-18T15:57:05.672Z"
   },
   {
    "duration": 6,
    "start_time": "2022-01-18T15:57:27.823Z"
   },
   {
    "duration": 6,
    "start_time": "2022-01-18T16:07:30.798Z"
   },
   {
    "duration": 7,
    "start_time": "2022-01-18T16:10:26.706Z"
   },
   {
    "duration": 5,
    "start_time": "2022-01-18T16:10:50.940Z"
   },
   {
    "duration": 7,
    "start_time": "2022-01-18T16:13:33.557Z"
   },
   {
    "duration": 6,
    "start_time": "2022-01-18T16:14:07.855Z"
   },
   {
    "duration": 6,
    "start_time": "2022-01-18T16:14:08.537Z"
   },
   {
    "duration": 5,
    "start_time": "2022-01-18T16:14:09.188Z"
   },
   {
    "duration": 5,
    "start_time": "2022-01-18T16:16:35.291Z"
   },
   {
    "duration": 555,
    "start_time": "2022-01-18T16:34:11.029Z"
   },
   {
    "duration": 403,
    "start_time": "2022-01-18T16:34:11.636Z"
   },
   {
    "duration": 194,
    "start_time": "2022-01-18T16:34:12.370Z"
   },
   {
    "duration": 333,
    "start_time": "2022-01-18T16:34:52.385Z"
   },
   {
    "duration": 7,
    "start_time": "2022-01-18T16:36:11.696Z"
   },
   {
    "duration": 347,
    "start_time": "2022-01-18T16:36:54.083Z"
   },
   {
    "duration": 5,
    "start_time": "2022-01-18T16:38:53.059Z"
   },
   {
    "duration": 4,
    "start_time": "2022-01-18T16:38:55.902Z"
   },
   {
    "duration": 4,
    "start_time": "2022-01-18T16:39:06.590Z"
   },
   {
    "duration": 3,
    "start_time": "2022-01-18T16:42:58.357Z"
   },
   {
    "duration": 3,
    "start_time": "2022-01-18T16:45:54.817Z"
   },
   {
    "duration": 3,
    "start_time": "2022-01-18T16:45:55.388Z"
   },
   {
    "duration": 3,
    "start_time": "2022-01-18T16:47:26.642Z"
   },
   {
    "duration": 2,
    "start_time": "2022-01-18T16:47:26.927Z"
   },
   {
    "duration": 354,
    "start_time": "2022-01-18T16:48:17.046Z"
   },
   {
    "duration": 2,
    "start_time": "2022-01-18T16:49:57.417Z"
   },
   {
    "duration": 3,
    "start_time": "2022-01-18T16:51:46.693Z"
   },
   {
    "duration": 2,
    "start_time": "2022-01-18T16:51:47.221Z"
   },
   {
    "duration": 2,
    "start_time": "2022-01-18T16:51:48.935Z"
   },
   {
    "duration": 3,
    "start_time": "2022-01-18T16:53:03.883Z"
   },
   {
    "duration": 3,
    "start_time": "2022-01-18T16:53:05.200Z"
   },
   {
    "duration": 383,
    "start_time": "2022-01-18T16:53:06.200Z"
   },
   {
    "duration": 341,
    "start_time": "2022-01-18T16:53:06.999Z"
   },
   {
    "duration": 2,
    "start_time": "2022-01-18T16:56:11.408Z"
   },
   {
    "duration": 2,
    "start_time": "2022-01-18T16:56:11.853Z"
   },
   {
    "duration": 2,
    "start_time": "2022-01-18T16:56:12.329Z"
   },
   {
    "duration": 331,
    "start_time": "2022-01-18T16:56:13.188Z"
   },
   {
    "duration": 7291,
    "start_time": "2022-01-18T17:02:03.501Z"
   },
   {
    "duration": 6545,
    "start_time": "2022-01-18T17:02:26.639Z"
   },
   {
    "duration": 4621,
    "start_time": "2022-01-18T17:05:05.775Z"
   },
   {
    "duration": -208,
    "start_time": "2022-01-18T17:05:10.606Z"
   },
   {
    "duration": 3,
    "start_time": "2022-01-18T17:05:32.360Z"
   },
   {
    "duration": 46,
    "start_time": "2022-01-18T17:05:32.771Z"
   },
   {
    "duration": 12,
    "start_time": "2022-01-18T17:05:33.040Z"
   },
   {
    "duration": 10,
    "start_time": "2022-01-18T17:05:33.319Z"
   },
   {
    "duration": 9,
    "start_time": "2022-01-18T17:05:35.556Z"
   },
   {
    "duration": 9,
    "start_time": "2022-01-18T17:05:37.022Z"
   },
   {
    "duration": 36,
    "start_time": "2022-01-18T17:05:38.907Z"
   },
   {
    "duration": 9,
    "start_time": "2022-01-18T17:05:38.945Z"
   },
   {
    "duration": 4,
    "start_time": "2022-01-18T17:05:39.414Z"
   },
   {
    "duration": 11,
    "start_time": "2022-01-18T17:05:40.885Z"
   },
   {
    "duration": 7,
    "start_time": "2022-01-18T17:05:42.709Z"
   },
   {
    "duration": 11,
    "start_time": "2022-01-18T17:05:44.452Z"
   },
   {
    "duration": 8,
    "start_time": "2022-01-18T17:05:47.050Z"
   },
   {
    "duration": 7,
    "start_time": "2022-01-18T17:05:49.080Z"
   },
   {
    "duration": 16,
    "start_time": "2022-01-18T17:05:49.872Z"
   },
   {
    "duration": 9,
    "start_time": "2022-01-18T17:05:50.569Z"
   },
   {
    "duration": 7,
    "start_time": "2022-01-18T17:05:51.118Z"
   },
   {
    "duration": 11,
    "start_time": "2022-01-18T17:05:52.537Z"
   },
   {
    "duration": 4,
    "start_time": "2022-01-18T17:05:54.246Z"
   },
   {
    "duration": 4,
    "start_time": "2022-01-18T17:05:54.796Z"
   },
   {
    "duration": 7,
    "start_time": "2022-01-18T17:05:55.583Z"
   },
   {
    "duration": 5,
    "start_time": "2022-01-18T17:05:56.379Z"
   },
   {
    "duration": 5,
    "start_time": "2022-01-18T17:05:58.203Z"
   },
   {
    "duration": 5,
    "start_time": "2022-01-18T17:05:58.643Z"
   },
   {
    "duration": 6,
    "start_time": "2022-01-18T17:05:59.099Z"
   },
   {
    "duration": 6,
    "start_time": "2022-01-18T17:05:59.930Z"
   },
   {
    "duration": 6,
    "start_time": "2022-01-18T17:06:01.602Z"
   },
   {
    "duration": 7,
    "start_time": "2022-01-18T17:06:02.116Z"
   },
   {
    "duration": 8,
    "start_time": "2022-01-18T17:06:02.971Z"
   },
   {
    "duration": 6,
    "start_time": "2022-01-18T17:06:03.663Z"
   },
   {
    "duration": 7,
    "start_time": "2022-01-18T17:06:04.679Z"
   },
   {
    "duration": 3,
    "start_time": "2022-01-18T17:06:06.601Z"
   },
   {
    "duration": 9,
    "start_time": "2022-01-18T17:06:07.116Z"
   },
   {
    "duration": 7,
    "start_time": "2022-01-18T17:06:07.645Z"
   },
   {
    "duration": 7,
    "start_time": "2022-01-18T17:06:08.068Z"
   },
   {
    "duration": 3,
    "start_time": "2022-01-18T17:06:12.193Z"
   },
   {
    "duration": 2,
    "start_time": "2022-01-18T17:06:12.745Z"
   },
   {
    "duration": 3,
    "start_time": "2022-01-18T17:06:13.282Z"
   },
   {
    "duration": 4580,
    "start_time": "2022-01-18T17:06:14.213Z"
   },
   {
    "duration": -209,
    "start_time": "2022-01-18T17:06:19.004Z"
   },
   {
    "duration": 3,
    "start_time": "2022-01-18T17:06:30.549Z"
   },
   {
    "duration": 3388,
    "start_time": "2022-01-18T17:06:31.460Z"
   },
   {
    "duration": 17,
    "start_time": "2022-01-18T17:06:34.930Z"
   },
   {
    "duration": 3,
    "start_time": "2022-01-18T17:06:35.165Z"
   },
   {
    "duration": 3398,
    "start_time": "2022-01-18T17:06:35.448Z"
   },
   {
    "duration": 15,
    "start_time": "2022-01-18T17:10:41.301Z"
   },
   {
    "duration": 590,
    "start_time": "2022-01-18T17:10:41.801Z"
   },
   {
    "duration": 4,
    "start_time": "2022-01-18T17:10:51.744Z"
   },
   {
    "duration": 447,
    "start_time": "2022-01-18T17:11:00.827Z"
   },
   {
    "duration": 3,
    "start_time": "2022-01-18T17:11:01.715Z"
   },
   {
    "duration": 347,
    "start_time": "2022-01-18T17:11:15.807Z"
   },
   {
    "duration": 4,
    "start_time": "2022-01-18T17:11:21.942Z"
   },
   {
    "duration": 361,
    "start_time": "2022-01-18T17:13:02.000Z"
   },
   {
    "duration": 3,
    "start_time": "2022-01-18T17:13:02.560Z"
   },
   {
    "duration": 3,
    "start_time": "2022-01-18T17:13:27.879Z"
   },
   {
    "duration": 495,
    "start_time": "2022-01-18T17:15:04.765Z"
   },
   {
    "duration": 4,
    "start_time": "2022-01-18T17:15:05.491Z"
   },
   {
    "duration": 4493,
    "start_time": "2022-01-18T17:15:38.917Z"
   },
   {
    "duration": -233,
    "start_time": "2022-01-18T17:15:43.644Z"
   },
   {
    "duration": 17,
    "start_time": "2022-01-18T17:15:49.610Z"
   },
   {
    "duration": 327,
    "start_time": "2022-01-18T17:15:50.012Z"
   },
   {
    "duration": 650,
    "start_time": "2022-01-18T17:15:55.142Z"
   },
   {
    "duration": 4,
    "start_time": "2022-01-18T17:15:59.086Z"
   },
   {
    "duration": 4,
    "start_time": "2022-01-18T17:15:59.460Z"
   },
   {
    "duration": 201,
    "start_time": "2022-01-18T17:16:51.706Z"
   },
   {
    "duration": 3,
    "start_time": "2022-01-18T17:16:52.255Z"
   },
   {
    "duration": 132,
    "start_time": "2022-01-18T17:17:21.746Z"
   },
   {
    "duration": 416,
    "start_time": "2022-01-18T17:20:03.062Z"
   },
   {
    "duration": 17,
    "start_time": "2022-01-18T17:20:11.773Z"
   },
   {
    "duration": 3,
    "start_time": "2022-01-18T17:20:12.240Z"
   },
   {
    "duration": 1311,
    "start_time": "2022-01-18T17:20:12.845Z"
   },
   {
    "duration": 4,
    "start_time": "2022-01-18T17:20:14.442Z"
   },
   {
    "duration": 612,
    "start_time": "2022-01-18T17:20:35.771Z"
   },
   {
    "duration": 4,
    "start_time": "2022-01-18T17:20:38.125Z"
   },
   {
    "duration": 361,
    "start_time": "2022-01-18T17:20:49.739Z"
   },
   {
    "duration": 3,
    "start_time": "2022-01-18T17:20:50.272Z"
   },
   {
    "duration": 5,
    "start_time": "2022-01-18T17:24:35.582Z"
   },
   {
    "duration": 419,
    "start_time": "2022-01-18T17:24:36.543Z"
   },
   {
    "duration": 3,
    "start_time": "2022-01-18T17:24:38.853Z"
   },
   {
    "duration": 4,
    "start_time": "2022-01-18T17:24:47.477Z"
   },
   {
    "duration": 4,
    "start_time": "2022-01-18T17:24:56.403Z"
   },
   {
    "duration": 4,
    "start_time": "2022-01-18T17:24:57.136Z"
   },
   {
    "duration": 361,
    "start_time": "2022-01-18T17:25:06.890Z"
   },
   {
    "duration": 109,
    "start_time": "2022-01-18T17:25:42.286Z"
   },
   {
    "duration": 3,
    "start_time": "2022-01-18T17:25:46.187Z"
   },
   {
    "duration": 7,
    "start_time": "2022-01-18T17:25:47.969Z"
   },
   {
    "duration": 379,
    "start_time": "2022-01-18T17:26:55.860Z"
   },
   {
    "duration": 4,
    "start_time": "2022-01-18T17:26:56.532Z"
   },
   {
    "duration": 4,
    "start_time": "2022-01-18T17:27:02.435Z"
   },
   {
    "duration": 342,
    "start_time": "2022-01-18T17:27:03.654Z"
   },
   {
    "duration": 4,
    "start_time": "2022-01-18T17:30:22.416Z"
   },
   {
    "duration": 493,
    "start_time": "2022-01-18T17:30:23.463Z"
   },
   {
    "duration": 4,
    "start_time": "2022-01-18T17:30:25.416Z"
   },
   {
    "duration": 389,
    "start_time": "2022-01-18T17:30:37.975Z"
   },
   {
    "duration": 3,
    "start_time": "2022-01-18T17:30:55.312Z"
   },
   {
    "duration": 4,
    "start_time": "2022-01-18T17:31:05.262Z"
   },
   {
    "duration": 3,
    "start_time": "2022-01-18T17:31:06.292Z"
   },
   {
    "duration": 3,
    "start_time": "2022-01-18T17:31:18.303Z"
   },
   {
    "duration": 4,
    "start_time": "2022-01-18T17:31:19.043Z"
   },
   {
    "duration": 4,
    "start_time": "2022-01-18T17:32:39.441Z"
   },
   {
    "duration": 441,
    "start_time": "2022-01-18T17:32:40.062Z"
   },
   {
    "duration": 342,
    "start_time": "2022-01-18T17:34:43.499Z"
   },
   {
    "duration": 3,
    "start_time": "2022-01-18T17:34:51.462Z"
   },
   {
    "duration": 3,
    "start_time": "2022-01-18T17:34:58.097Z"
   },
   {
    "duration": 4,
    "start_time": "2022-01-18T17:35:00.537Z"
   },
   {
    "duration": 2,
    "start_time": "2022-01-18T17:35:00.932Z"
   },
   {
    "duration": 3,
    "start_time": "2022-01-18T17:35:02.597Z"
   },
   {
    "duration": -136,
    "start_time": "2022-01-18T17:35:51.929Z"
   },
   {
    "duration": -139,
    "start_time": "2022-01-18T17:35:51.933Z"
   },
   {
    "duration": 4,
    "start_time": "2022-01-18T17:35:52.924Z"
   },
   {
    "duration": 3,
    "start_time": "2022-01-18T17:35:53.442Z"
   },
   {
    "duration": 3,
    "start_time": "2022-01-18T17:38:03.924Z"
   },
   {
    "duration": 138,
    "start_time": "2022-01-18T17:38:05.009Z"
   },
   {
    "duration": 355,
    "start_time": "2022-01-18T17:38:06.164Z"
   },
   {
    "duration": 4,
    "start_time": "2022-01-18T17:38:06.891Z"
   },
   {
    "duration": 3,
    "start_time": "2022-01-18T17:38:17.557Z"
   },
   {
    "duration": 4,
    "start_time": "2022-01-18T17:38:18.170Z"
   },
   {
    "duration": 115,
    "start_time": "2022-01-18T17:38:19.391Z"
   },
   {
    "duration": 350,
    "start_time": "2022-01-18T17:38:20.490Z"
   },
   {
    "duration": 4,
    "start_time": "2022-01-18T17:40:27.483Z"
   },
   {
    "duration": 10,
    "start_time": "2022-01-18T17:40:27.892Z"
   },
   {
    "duration": 4,
    "start_time": "2022-01-18T17:40:32.734Z"
   },
   {
    "duration": 8,
    "start_time": "2022-01-18T17:40:46.254Z"
   },
   {
    "duration": 325,
    "start_time": "2022-01-18T17:40:46.572Z"
   },
   {
    "duration": 6,
    "start_time": "2022-01-18T17:42:09.236Z"
   },
   {
    "duration": 8,
    "start_time": "2022-01-18T17:42:09.726Z"
   },
   {
    "duration": 4,
    "start_time": "2022-01-18T17:42:10.294Z"
   },
   {
    "duration": 8,
    "start_time": "2022-01-18T17:42:36.941Z"
   },
   {
    "duration": 4,
    "start_time": "2022-01-18T17:42:37.302Z"
   },
   {
    "duration": 8,
    "start_time": "2022-01-18T17:42:51.196Z"
   },
   {
    "duration": 4,
    "start_time": "2022-01-18T17:42:52.914Z"
   },
   {
    "duration": 5,
    "start_time": "2022-01-18T17:45:30.532Z"
   },
   {
    "duration": 620,
    "start_time": "2022-01-18T17:45:30.961Z"
   },
   {
    "duration": 106,
    "start_time": "2022-01-18T17:46:11.726Z"
   },
   {
    "duration": 4,
    "start_time": "2022-01-18T17:46:12.631Z"
   },
   {
    "duration": 116,
    "start_time": "2022-01-18T17:46:18.274Z"
   },
   {
    "duration": 334,
    "start_time": "2022-01-18T17:46:18.827Z"
   },
   {
    "duration": 3,
    "start_time": "2022-01-18T17:47:39.314Z"
   },
   {
    "duration": 4,
    "start_time": "2022-01-18T17:47:39.934Z"
   },
   {
    "duration": 127,
    "start_time": "2022-01-18T17:47:40.552Z"
   },
   {
    "duration": 5,
    "start_time": "2022-01-18T17:47:46.202Z"
   },
   {
    "duration": 11,
    "start_time": "2022-01-18T17:47:55.785Z"
   },
   {
    "duration": 2,
    "start_time": "2022-01-18T17:48:14.948Z"
   },
   {
    "duration": 2,
    "start_time": "2022-01-18T17:48:15.317Z"
   },
   {
    "duration": 4,
    "start_time": "2022-01-18T17:48:15.741Z"
   },
   {
    "duration": 979,
    "start_time": "2022-01-18T17:48:16.231Z"
   },
   {
    "duration": 2,
    "start_time": "2022-01-18T17:48:17.213Z"
   },
   {
    "duration": 3,
    "start_time": "2022-01-18T17:48:18.409Z"
   },
   {
    "duration": 4,
    "start_time": "2022-01-18T17:48:18.923Z"
   },
   {
    "duration": 3,
    "start_time": "2022-01-18T17:49:37.287Z"
   },
   {
    "duration": 4,
    "start_time": "2022-01-18T17:49:38.653Z"
   },
   {
    "duration": 9,
    "start_time": "2022-01-18T17:49:49.951Z"
   },
   {
    "duration": 4,
    "start_time": "2022-01-18T17:49:50.369Z"
   },
   {
    "duration": 8,
    "start_time": "2022-01-18T17:50:00.643Z"
   },
   {
    "duration": 950,
    "start_time": "2022-01-18T17:50:01.162Z"
   },
   {
    "duration": -157,
    "start_time": "2022-01-18T17:50:02.271Z"
   },
   {
    "duration": 4,
    "start_time": "2022-01-18T17:50:08.516Z"
   },
   {
    "duration": 3,
    "start_time": "2022-01-18T17:50:10.933Z"
   },
   {
    "duration": 4,
    "start_time": "2022-01-18T17:50:18.732Z"
   },
   {
    "duration": 4,
    "start_time": "2022-01-18T17:50:27.830Z"
   },
   {
    "duration": 4,
    "start_time": "2022-01-18T17:50:35.593Z"
   },
   {
    "duration": 114,
    "start_time": "2022-01-18T17:52:18.515Z"
   },
   {
    "duration": 4,
    "start_time": "2022-01-18T17:52:22.565Z"
   },
   {
    "duration": 2,
    "start_time": "2022-01-18T17:52:23.435Z"
   },
   {
    "duration": 5,
    "start_time": "2022-01-18T17:52:24.465Z"
   },
   {
    "duration": 5,
    "start_time": "2022-01-18T17:52:33.865Z"
   },
   {
    "duration": 3,
    "start_time": "2022-01-18T17:52:44.142Z"
   },
   {
    "duration": 2,
    "start_time": "2022-01-18T17:52:44.480Z"
   },
   {
    "duration": 3,
    "start_time": "2022-01-18T17:52:50.424Z"
   },
   {
    "duration": 6,
    "start_time": "2022-01-18T17:52:50.789Z"
   },
   {
    "duration": 10,
    "start_time": "2022-01-18T17:53:16.119Z"
   },
   {
    "duration": 3,
    "start_time": "2022-01-18T17:53:16.561Z"
   },
   {
    "duration": 4,
    "start_time": "2022-01-18T17:53:17.253Z"
   },
   {
    "duration": 360,
    "start_time": "2022-01-18T17:53:55.335Z"
   },
   {
    "duration": 2,
    "start_time": "2022-01-18T17:53:55.734Z"
   },
   {
    "duration": 5,
    "start_time": "2022-01-18T17:53:56.506Z"
   },
   {
    "duration": 4,
    "start_time": "2022-01-18T17:54:10.570Z"
   },
   {
    "duration": 4,
    "start_time": "2022-01-18T17:54:11.051Z"
   },
   {
    "duration": 4,
    "start_time": "2022-01-18T17:54:27.247Z"
   },
   {
    "duration": 8,
    "start_time": "2022-01-18T17:54:27.446Z"
   },
   {
    "duration": 3,
    "start_time": "2022-01-18T17:54:27.727Z"
   },
   {
    "duration": 340,
    "start_time": "2022-01-18T17:54:28.678Z"
   },
   {
    "duration": 3,
    "start_time": "2022-01-18T17:54:29.184Z"
   },
   {
    "duration": 2,
    "start_time": "2022-01-18T17:56:36.227Z"
   },
   {
    "duration": 4,
    "start_time": "2022-01-18T17:56:36.595Z"
   },
   {
    "duration": 7,
    "start_time": "2022-01-18T17:56:37.051Z"
   },
   {
    "duration": 6,
    "start_time": "2022-01-18T17:56:37.663Z"
   },
   {
    "duration": 14,
    "start_time": "2022-01-18T17:57:18.953Z"
   },
   {
    "duration": 4,
    "start_time": "2022-01-18T17:57:32.358Z"
   },
   {
    "duration": 10,
    "start_time": "2022-01-18T17:57:32.804Z"
   },
   {
    "duration": 12,
    "start_time": "2022-01-18T17:57:33.716Z"
   },
   {
    "duration": 12,
    "start_time": "2022-01-18T18:01:32.948Z"
   },
   {
    "duration": 13,
    "start_time": "2022-01-18T18:01:32.962Z"
   },
   {
    "duration": 4,
    "start_time": "2022-01-18T18:02:16.594Z"
   },
   {
    "duration": 18,
    "start_time": "2022-01-18T18:02:17.000Z"
   },
   {
    "duration": 13,
    "start_time": "2022-01-18T18:02:17.507Z"
   },
   {
    "duration": 558,
    "start_time": "2022-01-18T18:05:45.998Z"
   },
   {
    "duration": -84,
    "start_time": "2022-01-18T18:05:46.642Z"
   },
   {
    "duration": 17,
    "start_time": "2022-01-18T18:05:48.609Z"
   },
   {
    "duration": 2,
    "start_time": "2022-01-18T18:07:03.684Z"
   },
   {
    "duration": 590,
    "start_time": "2022-01-18T18:07:04.146Z"
   },
   {
    "duration": 1948,
    "start_time": "2022-01-18T18:07:05.120Z"
   },
   {
    "duration": 3,
    "start_time": "2022-01-18T18:09:08.371Z"
   },
   {
    "duration": 546,
    "start_time": "2022-01-18T18:09:08.854Z"
   },
   {
    "duration": 363,
    "start_time": "2022-01-18T18:09:09.895Z"
   },
   {
    "duration": 4,
    "start_time": "2022-01-18T18:10:52.857Z"
   },
   {
    "duration": 9,
    "start_time": "2022-01-18T18:10:52.863Z"
   },
   {
    "duration": 17,
    "start_time": "2022-01-18T18:10:52.873Z"
   },
   {
    "duration": 3,
    "start_time": "2022-01-18T18:10:54.074Z"
   },
   {
    "duration": 525,
    "start_time": "2022-01-18T18:10:54.875Z"
   },
   {
    "duration": 2,
    "start_time": "2022-01-18T18:13:22.798Z"
   },
   {
    "duration": 516,
    "start_time": "2022-01-18T18:13:23.254Z"
   },
   {
    "duration": 8,
    "start_time": "2022-01-18T18:13:30.450Z"
   },
   {
    "duration": 19,
    "start_time": "2022-01-18T18:13:30.905Z"
   },
   {
    "duration": 2,
    "start_time": "2022-01-18T18:13:35.049Z"
   },
   {
    "duration": 537,
    "start_time": "2022-01-18T18:13:36.083Z"
   },
   {
    "duration": 545,
    "start_time": "2022-01-18T18:14:26.240Z"
   },
   {
    "duration": 14,
    "start_time": "2022-01-18T18:14:28.024Z"
   },
   {
    "duration": 485,
    "start_time": "2022-01-18T18:14:55.203Z"
   },
   {
    "duration": 514,
    "start_time": "2022-01-18T18:14:56.218Z"
   },
   {
    "duration": 2748,
    "start_time": "2022-01-18T18:15:10.792Z"
   },
   {
    "duration": 14,
    "start_time": "2022-01-18T18:15:13.542Z"
   },
   {
    "duration": 2886,
    "start_time": "2022-01-18T18:16:52.605Z"
   },
   {
    "duration": 2966,
    "start_time": "2022-01-18T18:16:55.493Z"
   },
   {
    "duration": 2714,
    "start_time": "2022-01-18T18:17:11.444Z"
   },
   {
    "duration": 2914,
    "start_time": "2022-01-18T18:17:14.160Z"
   },
   {
    "duration": 2786,
    "start_time": "2022-01-18T18:17:40.616Z"
   },
   {
    "duration": 19,
    "start_time": "2022-01-18T18:17:48.282Z"
   },
   {
    "duration": 2740,
    "start_time": "2022-01-18T18:17:50.019Z"
   },
   {
    "duration": 2806,
    "start_time": "2022-01-18T18:20:18.943Z"
   },
   {
    "duration": 2770,
    "start_time": "2022-01-18T18:23:36.275Z"
   },
   {
    "duration": 17,
    "start_time": "2022-01-18T18:23:39.047Z"
   },
   {
    "duration": 2778,
    "start_time": "2022-01-18T18:24:24.732Z"
   },
   {
    "duration": 25,
    "start_time": "2022-01-18T18:24:27.512Z"
   },
   {
    "duration": 2720,
    "start_time": "2022-01-18T18:25:06.846Z"
   },
   {
    "duration": 15,
    "start_time": "2022-01-18T18:25:09.567Z"
   },
   {
    "duration": 2,
    "start_time": "2022-01-18T18:25:54.009Z"
   },
   {
    "duration": 48,
    "start_time": "2022-01-18T18:25:54.240Z"
   },
   {
    "duration": 19,
    "start_time": "2022-01-18T18:25:54.465Z"
   },
   {
    "duration": 10,
    "start_time": "2022-01-18T18:25:54.681Z"
   },
   {
    "duration": 9,
    "start_time": "2022-01-18T18:25:57.493Z"
   },
   {
    "duration": 9,
    "start_time": "2022-01-18T18:25:58.315Z"
   },
   {
    "duration": 37,
    "start_time": "2022-01-18T18:25:58.744Z"
   },
   {
    "duration": 9,
    "start_time": "2022-01-18T18:25:58.963Z"
   },
   {
    "duration": 4,
    "start_time": "2022-01-18T18:25:59.360Z"
   },
   {
    "duration": 10,
    "start_time": "2022-01-18T18:25:59.798Z"
   },
   {
    "duration": 6,
    "start_time": "2022-01-18T18:26:00.403Z"
   },
   {
    "duration": 10,
    "start_time": "2022-01-18T18:26:00.779Z"
   },
   {
    "duration": 9,
    "start_time": "2022-01-18T18:26:01.182Z"
   },
   {
    "duration": 6,
    "start_time": "2022-01-18T18:26:01.566Z"
   },
   {
    "duration": 12,
    "start_time": "2022-01-18T18:26:01.747Z"
   },
   {
    "duration": 23,
    "start_time": "2022-01-18T18:26:01.964Z"
   },
   {
    "duration": 7,
    "start_time": "2022-01-18T18:26:02.148Z"
   },
   {
    "duration": 12,
    "start_time": "2022-01-18T18:26:02.512Z"
   },
   {
    "duration": 4,
    "start_time": "2022-01-18T18:26:02.866Z"
   },
   {
    "duration": 4,
    "start_time": "2022-01-18T18:26:03.058Z"
   },
   {
    "duration": 6,
    "start_time": "2022-01-18T18:26:03.271Z"
   },
   {
    "duration": 5,
    "start_time": "2022-01-18T18:26:03.501Z"
   },
   {
    "duration": 6,
    "start_time": "2022-01-18T18:26:03.925Z"
   },
   {
    "duration": 7,
    "start_time": "2022-01-18T18:26:04.155Z"
   },
   {
    "duration": 5,
    "start_time": "2022-01-18T18:26:04.430Z"
   },
   {
    "duration": 5,
    "start_time": "2022-01-18T18:26:04.681Z"
   },
   {
    "duration": 5,
    "start_time": "2022-01-18T18:26:05.256Z"
   },
   {
    "duration": 5,
    "start_time": "2022-01-18T18:26:05.610Z"
   },
   {
    "duration": 5,
    "start_time": "2022-01-18T18:26:05.897Z"
   },
   {
    "duration": 6,
    "start_time": "2022-01-18T18:26:06.246Z"
   },
   {
    "duration": 7,
    "start_time": "2022-01-18T18:26:06.541Z"
   },
   {
    "duration": 2,
    "start_time": "2022-01-18T18:26:07.391Z"
   },
   {
    "duration": 9,
    "start_time": "2022-01-18T18:26:08.130Z"
   },
   {
    "duration": 7,
    "start_time": "2022-01-18T18:26:09.143Z"
   },
   {
    "duration": 7,
    "start_time": "2022-01-18T18:26:09.794Z"
   },
   {
    "duration": 2,
    "start_time": "2022-01-18T18:26:11.682Z"
   },
   {
    "duration": 2,
    "start_time": "2022-01-18T18:26:11.941Z"
   },
   {
    "duration": 15,
    "start_time": "2022-01-18T18:26:12.211Z"
   },
   {
    "duration": 2,
    "start_time": "2022-01-18T18:26:12.546Z"
   },
   {
    "duration": 4,
    "start_time": "2022-01-18T18:26:12.923Z"
   },
   {
    "duration": 600,
    "start_time": "2022-01-18T18:26:13.291Z"
   },
   {
    "duration": 7,
    "start_time": "2022-01-18T18:26:13.986Z"
   },
   {
    "duration": 2833,
    "start_time": "2022-01-18T18:26:15.729Z"
   },
   {
    "duration": 1575,
    "start_time": "2022-01-18T18:30:38.307Z"
   },
   {
    "duration": 14,
    "start_time": "2022-01-18T18:30:39.979Z"
   },
   {
    "duration": 2883,
    "start_time": "2022-01-18T18:30:51.889Z"
   },
   {
    "duration": 579,
    "start_time": "2022-01-18T18:32:20.758Z"
   },
   {
    "duration": 1306,
    "start_time": "2022-01-18T18:32:41.062Z"
   },
   {
    "duration": 3986,
    "start_time": "2022-01-18T18:36:00.827Z"
   },
   {
    "duration": -124,
    "start_time": "2022-01-18T18:36:04.939Z"
   },
   {
    "duration": -130,
    "start_time": "2022-01-18T18:36:04.946Z"
   },
   {
    "duration": 9,
    "start_time": "2022-01-18T18:36:20.814Z"
   },
   {
    "duration": 14,
    "start_time": "2022-01-18T18:36:22.085Z"
   },
   {
    "duration": 312,
    "start_time": "2022-01-18T18:36:53.305Z"
   },
   {
    "duration": 3466,
    "start_time": "2022-01-18T18:37:12.973Z"
   },
   {
    "duration": 2987,
    "start_time": "2022-01-18T18:37:24.572Z"
   },
   {
    "duration": 331,
    "start_time": "2022-01-18T18:38:10.914Z"
   },
   {
    "duration": 226,
    "start_time": "2022-01-18T18:38:19.365Z"
   },
   {
    "duration": 9,
    "start_time": "2022-01-18T18:39:44.653Z"
   },
   {
    "duration": 7,
    "start_time": "2022-01-18T18:39:45.921Z"
   },
   {
    "duration": 10,
    "start_time": "2022-01-18T18:40:03.401Z"
   },
   {
    "duration": 6,
    "start_time": "2022-01-18T18:40:15.431Z"
   },
   {
    "duration": 10,
    "start_time": "2022-01-18T18:42:54.351Z"
   },
   {
    "duration": 8,
    "start_time": "2022-01-18T18:42:55.041Z"
   },
   {
    "duration": 9,
    "start_time": "2022-01-18T18:43:04.265Z"
   },
   {
    "duration": 6,
    "start_time": "2022-01-18T18:43:05.484Z"
   },
   {
    "duration": 9,
    "start_time": "2022-01-18T18:43:17.263Z"
   },
   {
    "duration": 7,
    "start_time": "2022-01-18T18:43:17.966Z"
   },
   {
    "duration": 8,
    "start_time": "2022-01-18T18:43:41.215Z"
   },
   {
    "duration": 7,
    "start_time": "2022-01-18T18:43:42.146Z"
   },
   {
    "duration": 9,
    "start_time": "2022-01-18T18:43:51.199Z"
   },
   {
    "duration": 10,
    "start_time": "2022-01-18T18:43:51.209Z"
   },
   {
    "duration": 15,
    "start_time": "2022-01-18T18:44:30.574Z"
   },
   {
    "duration": 14,
    "start_time": "2022-01-18T18:45:11.455Z"
   },
   {
    "duration": 14,
    "start_time": "2022-01-18T18:45:12.185Z"
   },
   {
    "duration": 7,
    "start_time": "2022-01-18T18:45:13.514Z"
   },
   {
    "duration": 2,
    "start_time": "2022-01-18T18:45:25.282Z"
   },
   {
    "duration": 3,
    "start_time": "2022-01-18T18:45:25.582Z"
   },
   {
    "duration": 22,
    "start_time": "2022-01-18T18:45:25.922Z"
   },
   {
    "duration": 3,
    "start_time": "2022-01-18T18:45:26.283Z"
   },
   {
    "duration": 4,
    "start_time": "2022-01-18T18:45:27.094Z"
   },
   {
    "duration": 638,
    "start_time": "2022-01-18T18:45:29.913Z"
   },
   {
    "duration": 10,
    "start_time": "2022-01-18T18:45:30.780Z"
   },
   {
    "duration": 15,
    "start_time": "2022-01-18T18:45:34.924Z"
   },
   {
    "duration": 24,
    "start_time": "2022-01-18T18:45:36.357Z"
   },
   {
    "duration": 108,
    "start_time": "2022-01-18T18:46:14.058Z"
   },
   {
    "duration": 14,
    "start_time": "2022-01-18T18:46:14.892Z"
   },
   {
    "duration": 7,
    "start_time": "2022-01-18T18:46:15.994Z"
   },
   {
    "duration": 12,
    "start_time": "2022-01-18T18:48:20.311Z"
   },
   {
    "duration": 13,
    "start_time": "2022-01-18T18:48:21.173Z"
   },
   {
    "duration": 10,
    "start_time": "2022-01-18T18:48:37.027Z"
   },
   {
    "duration": 14,
    "start_time": "2022-01-18T18:48:37.891Z"
   },
   {
    "duration": 7,
    "start_time": "2022-01-18T18:48:59.269Z"
   },
   {
    "duration": 7,
    "start_time": "2022-01-18T18:49:24.865Z"
   },
   {
    "duration": 6,
    "start_time": "2022-01-18T18:49:31.417Z"
   },
   {
    "duration": 16,
    "start_time": "2022-01-18T18:49:51.348Z"
   },
   {
    "duration": 14,
    "start_time": "2022-01-18T18:56:45.532Z"
   },
   {
    "duration": 7,
    "start_time": "2022-01-18T18:56:48.150Z"
   },
   {
    "duration": 3,
    "start_time": "2022-01-18T19:08:11.325Z"
   },
   {
    "duration": 10,
    "start_time": "2022-01-18T19:08:11.948Z"
   },
   {
    "duration": 9,
    "start_time": "2022-01-18T19:08:12.692Z"
   },
   {
    "duration": 20,
    "start_time": "2022-01-18T19:09:02.988Z"
   },
   {
    "duration": 19,
    "start_time": "2022-01-18T19:12:24.562Z"
   },
   {
    "duration": 336,
    "start_time": "2022-01-18T19:15:05.507Z"
   },
   {
    "duration": 18,
    "start_time": "2022-01-18T19:15:06.244Z"
   },
   {
    "duration": 309,
    "start_time": "2022-01-18T19:15:40.131Z"
   },
   {
    "duration": 18,
    "start_time": "2022-01-18T19:15:43.102Z"
   },
   {
    "duration": 11,
    "start_time": "2022-01-18T19:20:18.860Z"
   },
   {
    "duration": 18,
    "start_time": "2022-01-18T19:20:23.354Z"
   },
   {
    "duration": 6,
    "start_time": "2022-01-18T19:20:29.546Z"
   },
   {
    "duration": 11,
    "start_time": "2022-01-18T19:21:43.317Z"
   },
   {
    "duration": 18,
    "start_time": "2022-01-18T19:21:43.825Z"
   },
   {
    "duration": 6,
    "start_time": "2022-01-18T19:21:44.629Z"
   },
   {
    "duration": 11,
    "start_time": "2022-01-18T19:32:04.072Z"
   },
   {
    "duration": 14,
    "start_time": "2022-01-18T19:32:04.825Z"
   },
   {
    "duration": 7,
    "start_time": "2022-01-18T19:32:06.587Z"
   },
   {
    "duration": 7,
    "start_time": "2022-01-18T19:42:29.309Z"
   },
   {
    "duration": 8,
    "start_time": "2022-01-18T19:42:54.082Z"
   },
   {
    "duration": 6,
    "start_time": "2022-01-18T19:43:19.138Z"
   },
   {
    "duration": 5,
    "start_time": "2022-01-18T19:43:33.962Z"
   },
   {
    "duration": 5,
    "start_time": "2022-01-18T19:44:27.718Z"
   },
   {
    "duration": 101,
    "start_time": "2022-01-18T19:45:43.967Z"
   },
   {
    "duration": 20,
    "start_time": "2022-01-18T19:45:59.276Z"
   },
   {
    "duration": 17,
    "start_time": "2022-01-18T19:47:03.136Z"
   },
   {
    "duration": 13,
    "start_time": "2022-01-18T19:47:27.450Z"
   },
   {
    "duration": 28,
    "start_time": "2022-01-18T19:48:13.910Z"
   },
   {
    "duration": 13,
    "start_time": "2022-01-18T19:48:23.959Z"
   },
   {
    "duration": 6,
    "start_time": "2022-01-18T19:49:19.352Z"
   },
   {
    "duration": 39,
    "start_time": "2022-01-18T20:06:54.946Z"
   },
   {
    "duration": 37,
    "start_time": "2022-01-18T20:07:01.493Z"
   },
   {
    "duration": 18,
    "start_time": "2022-01-18T20:07:03.033Z"
   },
   {
    "duration": 15,
    "start_time": "2022-01-18T20:07:36.015Z"
   },
   {
    "duration": 7,
    "start_time": "2022-01-18T20:07:40.150Z"
   },
   {
    "duration": 3,
    "start_time": "2022-01-18T20:07:44.346Z"
   },
   {
    "duration": 3,
    "start_time": "2022-01-18T20:07:44.749Z"
   },
   {
    "duration": 20,
    "start_time": "2022-01-18T20:07:45.235Z"
   },
   {
    "duration": 2,
    "start_time": "2022-01-18T20:07:45.489Z"
   },
   {
    "duration": 4,
    "start_time": "2022-01-18T20:07:45.907Z"
   },
   {
    "duration": 628,
    "start_time": "2022-01-18T20:07:46.369Z"
   },
   {
    "duration": 7,
    "start_time": "2022-01-18T20:07:46.999Z"
   },
   {
    "duration": 10,
    "start_time": "2022-01-18T20:09:00.515Z"
   },
   {
    "duration": 14,
    "start_time": "2022-01-18T20:09:01.123Z"
   },
   {
    "duration": 7,
    "start_time": "2022-01-18T20:09:02.590Z"
   },
   {
    "duration": 7,
    "start_time": "2022-01-18T20:11:39.104Z"
   },
   {
    "duration": 5,
    "start_time": "2022-01-18T20:11:39.415Z"
   },
   {
    "duration": 39,
    "start_time": "2022-01-18T20:11:40.668Z"
   },
   {
    "duration": 15,
    "start_time": "2022-01-18T20:11:41.586Z"
   },
   {
    "duration": 2,
    "start_time": "2022-01-18T20:12:12.291Z"
   },
   {
    "duration": 47,
    "start_time": "2022-01-18T20:12:12.482Z"
   },
   {
    "duration": 12,
    "start_time": "2022-01-18T20:12:12.699Z"
   },
   {
    "duration": 10,
    "start_time": "2022-01-18T20:12:12.918Z"
   },
   {
    "duration": 9,
    "start_time": "2022-01-18T20:12:13.778Z"
   },
   {
    "duration": 9,
    "start_time": "2022-01-18T20:12:14.333Z"
   },
   {
    "duration": 37,
    "start_time": "2022-01-18T20:12:14.695Z"
   },
   {
    "duration": 11,
    "start_time": "2022-01-18T20:12:14.866Z"
   },
   {
    "duration": 4,
    "start_time": "2022-01-18T20:12:15.247Z"
   },
   {
    "duration": 11,
    "start_time": "2022-01-18T20:12:15.583Z"
   },
   {
    "duration": 6,
    "start_time": "2022-01-18T20:12:16.131Z"
   },
   {
    "duration": 11,
    "start_time": "2022-01-18T20:12:16.475Z"
   },
   {
    "duration": 8,
    "start_time": "2022-01-18T20:12:16.841Z"
   },
   {
    "duration": 7,
    "start_time": "2022-01-18T20:12:17.235Z"
   },
   {
    "duration": 11,
    "start_time": "2022-01-18T20:12:17.422Z"
   },
   {
    "duration": 8,
    "start_time": "2022-01-18T20:12:17.593Z"
   },
   {
    "duration": 6,
    "start_time": "2022-01-18T20:12:17.796Z"
   },
   {
    "duration": 12,
    "start_time": "2022-01-18T20:12:18.195Z"
   },
   {
    "duration": 4,
    "start_time": "2022-01-18T20:12:18.634Z"
   },
   {
    "duration": 4,
    "start_time": "2022-01-18T20:12:18.867Z"
   },
   {
    "duration": 7,
    "start_time": "2022-01-18T20:12:19.069Z"
   },
   {
    "duration": 6,
    "start_time": "2022-01-18T20:12:19.285Z"
   },
   {
    "duration": 6,
    "start_time": "2022-01-18T20:12:19.711Z"
   },
   {
    "duration": 5,
    "start_time": "2022-01-18T20:12:19.933Z"
   },
   {
    "duration": 6,
    "start_time": "2022-01-18T20:12:20.152Z"
   },
   {
    "duration": 6,
    "start_time": "2022-01-18T20:12:20.351Z"
   },
   {
    "duration": 4,
    "start_time": "2022-01-18T20:12:20.788Z"
   },
   {
    "duration": 5,
    "start_time": "2022-01-18T20:12:21.259Z"
   },
   {
    "duration": 6,
    "start_time": "2022-01-18T20:12:21.483Z"
   },
   {
    "duration": 7,
    "start_time": "2022-01-18T20:12:21.717Z"
   },
   {
    "duration": 8,
    "start_time": "2022-01-18T20:12:21.967Z"
   },
   {
    "duration": 3,
    "start_time": "2022-01-18T20:12:22.706Z"
   },
   {
    "duration": 10,
    "start_time": "2022-01-18T20:12:22.955Z"
   },
   {
    "duration": 7,
    "start_time": "2022-01-18T20:12:23.363Z"
   },
   {
    "duration": 5,
    "start_time": "2022-01-18T20:12:23.708Z"
   },
   {
    "duration": 35,
    "start_time": "2022-01-18T20:12:24.478Z"
   },
   {
    "duration": 13,
    "start_time": "2022-01-18T20:12:24.727Z"
   },
   {
    "duration": 7,
    "start_time": "2022-01-18T20:12:25.225Z"
   },
   {
    "duration": 3,
    "start_time": "2022-01-18T20:12:26.994Z"
   },
   {
    "duration": 2,
    "start_time": "2022-01-18T20:12:27.175Z"
   },
   {
    "duration": 20,
    "start_time": "2022-01-18T20:12:27.379Z"
   },
   {
    "duration": 3,
    "start_time": "2022-01-18T20:12:27.549Z"
   },
   {
    "duration": 5,
    "start_time": "2022-01-18T20:12:27.721Z"
   },
   {
    "duration": 608,
    "start_time": "2022-01-18T20:12:28.051Z"
   },
   {
    "duration": 6,
    "start_time": "2022-01-18T20:12:28.662Z"
   },
   {
    "duration": 11,
    "start_time": "2022-01-18T20:12:28.869Z"
   },
   {
    "duration": 12,
    "start_time": "2022-01-18T20:12:29.284Z"
   },
   {
    "duration": 8,
    "start_time": "2022-01-18T20:12:30.232Z"
   },
   {
    "duration": 15,
    "start_time": "2022-01-18T20:13:28.226Z"
   },
   {
    "duration": 108,
    "start_time": "2022-01-18T20:14:31.644Z"
   },
   {
    "duration": 106,
    "start_time": "2022-01-18T20:16:29.223Z"
   },
   {
    "duration": 102,
    "start_time": "2022-01-18T20:17:33.035Z"
   },
   {
    "duration": 21,
    "start_time": "2022-01-18T20:17:45.431Z"
   },
   {
    "duration": 3,
    "start_time": "2022-01-18T20:17:45.808Z"
   },
   {
    "duration": 4,
    "start_time": "2022-01-18T20:17:46.295Z"
   },
   {
    "duration": 652,
    "start_time": "2022-01-18T20:17:46.561Z"
   },
   {
    "duration": 11,
    "start_time": "2022-01-18T20:17:47.216Z"
   },
   {
    "duration": 12,
    "start_time": "2022-01-18T20:17:48.244Z"
   },
   {
    "duration": 14,
    "start_time": "2022-01-18T20:17:49.428Z"
   },
   {
    "duration": 6,
    "start_time": "2022-01-18T20:17:51.363Z"
   },
   {
    "duration": 15,
    "start_time": "2022-01-18T20:24:47.111Z"
   },
   {
    "duration": 9,
    "start_time": "2022-01-18T20:24:59.346Z"
   },
   {
    "duration": 19,
    "start_time": "2022-01-18T20:27:12.087Z"
   },
   {
    "duration": 345,
    "start_time": "2022-01-18T20:27:30.248Z"
   },
   {
    "duration": 18,
    "start_time": "2022-01-18T20:27:49.833Z"
   },
   {
    "duration": 14,
    "start_time": "2022-01-18T20:28:01.589Z"
   },
   {
    "duration": 18,
    "start_time": "2022-01-18T20:28:17.377Z"
   },
   {
    "duration": 18,
    "start_time": "2022-01-18T20:31:08.633Z"
   },
   {
    "duration": 346,
    "start_time": "2022-01-18T20:36:53.701Z"
   },
   {
    "duration": 6,
    "start_time": "2022-01-18T20:37:20.152Z"
   },
   {
    "duration": 8,
    "start_time": "2022-01-18T20:37:48.465Z"
   },
   {
    "duration": 7,
    "start_time": "2022-01-18T20:41:44.802Z"
   },
   {
    "duration": 7,
    "start_time": "2022-01-18T20:49:39.198Z"
   },
   {
    "duration": 6,
    "start_time": "2022-01-18T20:49:58.991Z"
   },
   {
    "duration": 102,
    "start_time": "2022-01-18T20:51:02.446Z"
   },
   {
    "duration": 7,
    "start_time": "2022-01-18T20:51:06.499Z"
   },
   {
    "duration": 106,
    "start_time": "2022-01-18T20:51:45.622Z"
   },
   {
    "duration": 7,
    "start_time": "2022-01-18T20:51:52.945Z"
   },
   {
    "duration": 6,
    "start_time": "2022-01-18T20:52:30.440Z"
   },
   {
    "duration": 6,
    "start_time": "2022-01-18T20:53:59.272Z"
   },
   {
    "duration": 5,
    "start_time": "2022-01-18T20:53:59.970Z"
   },
   {
    "duration": 6,
    "start_time": "2022-01-18T20:54:23.599Z"
   },
   {
    "duration": 7,
    "start_time": "2022-01-18T20:54:23.972Z"
   },
   {
    "duration": 7,
    "start_time": "2022-01-18T20:54:24.299Z"
   },
   {
    "duration": 3,
    "start_time": "2022-01-18T20:54:25.800Z"
   },
   {
    "duration": 8,
    "start_time": "2022-01-18T20:54:26.465Z"
   },
   {
    "duration": 6,
    "start_time": "2022-01-18T20:54:27.619Z"
   },
   {
    "duration": 9,
    "start_time": "2022-01-18T20:54:28.309Z"
   },
   {
    "duration": 36,
    "start_time": "2022-01-18T20:54:29.486Z"
   },
   {
    "duration": 14,
    "start_time": "2022-01-18T20:54:29.925Z"
   },
   {
    "duration": 7,
    "start_time": "2022-01-18T20:54:30.873Z"
   },
   {
    "duration": 24,
    "start_time": "2022-01-18T20:54:32.930Z"
   },
   {
    "duration": 3,
    "start_time": "2022-01-18T20:54:33.177Z"
   },
   {
    "duration": 4,
    "start_time": "2022-01-18T20:54:33.405Z"
   },
   {
    "duration": 624,
    "start_time": "2022-01-18T20:54:33.632Z"
   },
   {
    "duration": 7,
    "start_time": "2022-01-18T20:54:34.258Z"
   },
   {
    "duration": 12,
    "start_time": "2022-01-18T20:54:34.398Z"
   },
   {
    "duration": 13,
    "start_time": "2022-01-18T20:54:34.752Z"
   },
   {
    "duration": 8,
    "start_time": "2022-01-18T20:54:35.500Z"
   },
   {
    "duration": 8,
    "start_time": "2022-01-18T20:54:38.005Z"
   },
   {
    "duration": 117,
    "start_time": "2022-01-18T20:54:39.975Z"
   },
   {
    "duration": 5,
    "start_time": "2022-01-18T20:55:02.849Z"
   },
   {
    "duration": 9,
    "start_time": "2022-01-18T20:55:05.472Z"
   },
   {
    "duration": 7,
    "start_time": "2022-01-18T20:55:07.186Z"
   },
   {
    "duration": 108,
    "start_time": "2022-01-18T20:55:10.155Z"
   },
   {
    "duration": 6,
    "start_time": "2022-01-18T20:55:18.011Z"
   },
   {
    "duration": 114,
    "start_time": "2022-01-18T20:56:39.240Z"
   },
   {
    "duration": 103,
    "start_time": "2022-01-18T20:56:50.842Z"
   },
   {
    "duration": 7,
    "start_time": "2022-01-18T20:56:58.825Z"
   },
   {
    "duration": 7,
    "start_time": "2022-01-18T20:57:00.470Z"
   },
   {
    "duration": 113,
    "start_time": "2022-01-18T20:57:32.780Z"
   },
   {
    "duration": 7,
    "start_time": "2022-01-18T20:57:37.914Z"
   },
   {
    "duration": 7,
    "start_time": "2022-01-18T20:57:39.600Z"
   },
   {
    "duration": 8,
    "start_time": "2022-01-18T20:58:29.809Z"
   },
   {
    "duration": 6,
    "start_time": "2022-01-18T20:58:30.410Z"
   },
   {
    "duration": 7,
    "start_time": "2022-01-18T20:59:05.567Z"
   },
   {
    "duration": 7,
    "start_time": "2022-01-18T20:59:06.174Z"
   },
   {
    "duration": 8,
    "start_time": "2022-01-18T21:00:57.505Z"
   },
   {
    "duration": 8,
    "start_time": "2022-01-18T21:04:50.582Z"
   },
   {
    "duration": 10,
    "start_time": "2022-01-18T21:04:51.252Z"
   },
   {
    "duration": 8,
    "start_time": "2022-01-18T21:04:52.301Z"
   },
   {
    "duration": 13,
    "start_time": "2022-01-18T21:16:50.911Z"
   },
   {
    "duration": 380,
    "start_time": "2022-01-18T21:17:04.852Z"
   },
   {
    "duration": 14,
    "start_time": "2022-01-18T21:18:11.775Z"
   },
   {
    "duration": 8,
    "start_time": "2022-01-18T21:26:22.818Z"
   },
   {
    "duration": 8,
    "start_time": "2022-01-18T21:27:22.457Z"
   },
   {
    "duration": 15,
    "start_time": "2022-01-18T21:27:23.070Z"
   },
   {
    "duration": 1828,
    "start_time": "2022-01-18T21:27:52.482Z"
   },
   {
    "duration": 7,
    "start_time": "2022-01-18T21:28:26.171Z"
   },
   {
    "duration": 10,
    "start_time": "2022-01-18T21:32:31.385Z"
   },
   {
    "duration": 10,
    "start_time": "2022-01-18T21:32:41.486Z"
   },
   {
    "duration": 7,
    "start_time": "2022-01-18T21:33:36.989Z"
   },
   {
    "duration": 7,
    "start_time": "2022-01-18T21:34:32.805Z"
   },
   {
    "duration": 7,
    "start_time": "2022-01-18T21:35:31.414Z"
   },
   {
    "duration": 7,
    "start_time": "2022-01-18T21:36:23.423Z"
   },
   {
    "duration": 3,
    "start_time": "2022-01-18T21:36:43.434Z"
   },
   {
    "duration": 48,
    "start_time": "2022-01-18T21:36:43.672Z"
   },
   {
    "duration": 11,
    "start_time": "2022-01-18T21:36:43.900Z"
   },
   {
    "duration": 12,
    "start_time": "2022-01-18T21:36:44.140Z"
   },
   {
    "duration": 9,
    "start_time": "2022-01-18T21:36:45.220Z"
   },
   {
    "duration": 9,
    "start_time": "2022-01-18T21:36:45.890Z"
   },
   {
    "duration": 38,
    "start_time": "2022-01-18T21:36:46.359Z"
   },
   {
    "duration": 10,
    "start_time": "2022-01-18T21:36:46.590Z"
   },
   {
    "duration": 4,
    "start_time": "2022-01-18T21:36:47.061Z"
   },
   {
    "duration": 11,
    "start_time": "2022-01-18T21:36:47.523Z"
   },
   {
    "duration": 10,
    "start_time": "2022-01-18T21:36:48.194Z"
   },
   {
    "duration": 11,
    "start_time": "2022-01-18T21:36:48.631Z"
   },
   {
    "duration": 8,
    "start_time": "2022-01-18T21:36:49.096Z"
   },
   {
    "duration": 7,
    "start_time": "2022-01-18T21:36:49.560Z"
   },
   {
    "duration": 13,
    "start_time": "2022-01-18T21:36:49.782Z"
   },
   {
    "duration": 8,
    "start_time": "2022-01-18T21:36:49.981Z"
   },
   {
    "duration": 8,
    "start_time": "2022-01-18T21:36:50.224Z"
   },
   {
    "duration": 12,
    "start_time": "2022-01-18T21:36:50.667Z"
   },
   {
    "duration": 4,
    "start_time": "2022-01-18T21:36:51.099Z"
   },
   {
    "duration": 4,
    "start_time": "2022-01-18T21:36:51.330Z"
   },
   {
    "duration": 8,
    "start_time": "2022-01-18T21:36:51.583Z"
   },
   {
    "duration": 7,
    "start_time": "2022-01-18T21:36:51.801Z"
   },
   {
    "duration": 6,
    "start_time": "2022-01-18T21:36:52.249Z"
   },
   {
    "duration": 6,
    "start_time": "2022-01-18T21:36:52.488Z"
   },
   {
    "duration": 6,
    "start_time": "2022-01-18T21:36:52.719Z"
   },
   {
    "duration": 6,
    "start_time": "2022-01-18T21:36:52.938Z"
   },
   {
    "duration": 6,
    "start_time": "2022-01-18T21:36:53.404Z"
   },
   {
    "duration": 5,
    "start_time": "2022-01-18T21:36:53.654Z"
   },
   {
    "duration": 6,
    "start_time": "2022-01-18T21:36:53.904Z"
   },
   {
    "duration": 7,
    "start_time": "2022-01-18T21:36:54.137Z"
   },
   {
    "duration": 8,
    "start_time": "2022-01-18T21:36:54.377Z"
   },
   {
    "duration": 3,
    "start_time": "2022-01-18T21:36:54.878Z"
   },
   {
    "duration": 10,
    "start_time": "2022-01-18T21:36:55.141Z"
   },
   {
    "duration": 7,
    "start_time": "2022-01-18T21:36:55.374Z"
   },
   {
    "duration": 6,
    "start_time": "2022-01-18T21:36:55.626Z"
   },
   {
    "duration": 36,
    "start_time": "2022-01-18T21:36:56.129Z"
   },
   {
    "duration": 13,
    "start_time": "2022-01-18T21:36:56.380Z"
   },
   {
    "duration": 8,
    "start_time": "2022-01-18T21:36:56.632Z"
   },
   {
    "duration": 26,
    "start_time": "2022-01-18T21:36:57.482Z"
   },
   {
    "duration": 3,
    "start_time": "2022-01-18T21:36:57.792Z"
   },
   {
    "duration": 4,
    "start_time": "2022-01-18T21:36:58.050Z"
   },
   {
    "duration": 716,
    "start_time": "2022-01-18T21:36:58.304Z"
   },
   {
    "duration": 6,
    "start_time": "2022-01-18T21:36:59.022Z"
   },
   {
    "duration": 12,
    "start_time": "2022-01-18T21:36:59.046Z"
   },
   {
    "duration": 13,
    "start_time": "2022-01-18T21:36:59.305Z"
   },
   {
    "duration": 6,
    "start_time": "2022-01-18T21:36:59.568Z"
   },
   {
    "duration": 8,
    "start_time": "2022-01-18T21:37:00.673Z"
   },
   {
    "duration": 6,
    "start_time": "2022-01-18T21:37:01.624Z"
   },
   {
    "duration": 7,
    "start_time": "2022-01-18T21:37:02.593Z"
   },
   {
    "duration": 8112,
    "start_time": "2022-01-18T21:37:03.442Z"
   },
   {
    "duration": -64,
    "start_time": "2022-01-18T21:37:11.619Z"
   },
   {
    "duration": -67,
    "start_time": "2022-01-18T21:37:11.623Z"
   },
   {
    "duration": -72,
    "start_time": "2022-01-18T21:37:11.629Z"
   },
   {
    "duration": 8801,
    "start_time": "2022-01-18T21:37:17.781Z"
   },
   {
    "duration": -65,
    "start_time": "2022-01-18T21:37:26.649Z"
   },
   {
    "duration": -69,
    "start_time": "2022-01-18T21:37:26.653Z"
   },
   {
    "duration": 8505,
    "start_time": "2022-01-18T21:37:37.844Z"
   },
   {
    "duration": -81,
    "start_time": "2022-01-18T21:37:46.433Z"
   },
   {
    "duration": -88,
    "start_time": "2022-01-18T21:37:46.441Z"
   },
   {
    "duration": -90,
    "start_time": "2022-01-18T21:37:46.445Z"
   },
   {
    "duration": -93,
    "start_time": "2022-01-18T21:37:46.449Z"
   },
   {
    "duration": -97,
    "start_time": "2022-01-18T21:37:46.454Z"
   },
   {
    "duration": 11,
    "start_time": "2022-01-18T21:37:48.109Z"
   },
   {
    "duration": 16,
    "start_time": "2022-01-18T21:37:48.326Z"
   },
   {
    "duration": 10,
    "start_time": "2022-01-18T21:37:51.468Z"
   },
   {
    "duration": 7,
    "start_time": "2022-01-18T21:39:28.092Z"
   },
   {
    "duration": 8,
    "start_time": "2022-01-18T21:39:29.586Z"
   },
   {
    "duration": 8,
    "start_time": "2022-01-18T21:39:30.440Z"
   },
   {
    "duration": 7,
    "start_time": "2022-01-18T21:39:36.413Z"
   },
   {
    "duration": 8,
    "start_time": "2022-01-18T21:39:38.416Z"
   },
   {
    "duration": 7,
    "start_time": "2022-01-18T21:39:39.765Z"
   },
   {
    "duration": 12,
    "start_time": "2022-01-18T21:39:45.801Z"
   },
   {
    "duration": 12,
    "start_time": "2022-01-18T21:39:46.363Z"
   },
   {
    "duration": 8,
    "start_time": "2022-01-18T21:39:49.058Z"
   },
   {
    "duration": 7,
    "start_time": "2022-01-18T21:39:56.325Z"
   },
   {
    "duration": 7,
    "start_time": "2022-01-18T21:40:00.409Z"
   },
   {
    "duration": 549,
    "start_time": "2022-01-19T15:22:03.003Z"
   },
   {
    "duration": 50,
    "start_time": "2022-01-19T15:22:03.979Z"
   },
   {
    "duration": 18,
    "start_time": "2022-01-19T15:22:04.688Z"
   },
   {
    "duration": 10,
    "start_time": "2022-01-19T15:22:04.922Z"
   },
   {
    "duration": 9,
    "start_time": "2022-01-19T15:22:08.487Z"
   },
   {
    "duration": 9,
    "start_time": "2022-01-19T15:22:09.139Z"
   },
   {
    "duration": 38,
    "start_time": "2022-01-19T15:22:09.536Z"
   },
   {
    "duration": 11,
    "start_time": "2022-01-19T15:22:09.722Z"
   },
   {
    "duration": 4,
    "start_time": "2022-01-19T15:22:10.097Z"
   },
   {
    "duration": 11,
    "start_time": "2022-01-19T15:22:10.453Z"
   },
   {
    "duration": 7,
    "start_time": "2022-01-19T15:22:11.019Z"
   },
   {
    "duration": 11,
    "start_time": "2022-01-19T15:22:11.597Z"
   },
   {
    "duration": 9,
    "start_time": "2022-01-19T15:22:11.980Z"
   },
   {
    "duration": 8,
    "start_time": "2022-01-19T15:22:12.372Z"
   },
   {
    "duration": 12,
    "start_time": "2022-01-19T15:22:12.601Z"
   },
   {
    "duration": 8,
    "start_time": "2022-01-19T15:22:12.785Z"
   },
   {
    "duration": 8,
    "start_time": "2022-01-19T15:22:12.970Z"
   },
   {
    "duration": 12,
    "start_time": "2022-01-19T15:22:13.369Z"
   },
   {
    "duration": 4,
    "start_time": "2022-01-19T15:22:13.747Z"
   },
   {
    "duration": 4,
    "start_time": "2022-01-19T15:22:13.967Z"
   },
   {
    "duration": 8,
    "start_time": "2022-01-19T15:22:14.168Z"
   },
   {
    "duration": 6,
    "start_time": "2022-01-19T15:22:14.386Z"
   },
   {
    "duration": 6,
    "start_time": "2022-01-19T15:22:14.784Z"
   },
   {
    "duration": 7,
    "start_time": "2022-01-19T15:22:14.979Z"
   },
   {
    "duration": 7,
    "start_time": "2022-01-19T15:22:15.185Z"
   },
   {
    "duration": 7,
    "start_time": "2022-01-19T15:22:15.400Z"
   },
   {
    "duration": 5,
    "start_time": "2022-01-19T15:22:15.760Z"
   },
   {
    "duration": 5,
    "start_time": "2022-01-19T15:22:15.968Z"
   },
   {
    "duration": 6,
    "start_time": "2022-01-19T15:22:16.169Z"
   },
   {
    "duration": 7,
    "start_time": "2022-01-19T15:22:16.353Z"
   },
   {
    "duration": 7,
    "start_time": "2022-01-19T15:22:16.555Z"
   },
   {
    "duration": 3,
    "start_time": "2022-01-19T15:22:16.964Z"
   },
   {
    "duration": 10,
    "start_time": "2022-01-19T15:22:17.152Z"
   },
   {
    "duration": 8,
    "start_time": "2022-01-19T15:22:17.340Z"
   },
   {
    "duration": 6,
    "start_time": "2022-01-19T15:22:17.553Z"
   },
   {
    "duration": 38,
    "start_time": "2022-01-19T15:22:17.950Z"
   },
   {
    "duration": 14,
    "start_time": "2022-01-19T15:22:18.149Z"
   },
   {
    "duration": 7,
    "start_time": "2022-01-19T15:22:18.347Z"
   },
   {
    "duration": 7,
    "start_time": "2022-01-19T15:22:18.898Z"
   },
   {
    "duration": 2,
    "start_time": "2022-01-19T15:22:19.085Z"
   },
   {
    "duration": 5,
    "start_time": "2022-01-19T15:22:19.268Z"
   },
   {
    "duration": 469,
    "start_time": "2022-01-19T15:22:19.485Z"
   },
   {
    "duration": -1511,
    "start_time": "2022-01-19T15:22:21.467Z"
   },
   {
    "duration": 1696,
    "start_time": "2022-01-19T15:22:20.078Z"
   },
   {
    "duration": -1403,
    "start_time": "2022-01-19T15:22:23.180Z"
   },
   {
    "duration": -1411,
    "start_time": "2022-01-19T15:22:23.189Z"
   },
   {
    "duration": -1414,
    "start_time": "2022-01-19T15:22:23.193Z"
   },
   {
    "duration": -1416,
    "start_time": "2022-01-19T15:22:23.197Z"
   },
   {
    "duration": 7935,
    "start_time": "2022-01-19T15:22:22.300Z"
   },
   {
    "duration": -1467,
    "start_time": "2022-01-19T15:22:31.705Z"
   },
   {
    "duration": -1470,
    "start_time": "2022-01-19T15:22:31.709Z"
   },
   {
    "duration": -1473,
    "start_time": "2022-01-19T15:22:31.713Z"
   },
   {
    "duration": -1483,
    "start_time": "2022-01-19T15:22:31.724Z"
   },
   {
    "duration": -1498,
    "start_time": "2022-01-19T15:22:31.740Z"
   },
   {
    "duration": -1501,
    "start_time": "2022-01-19T15:22:31.744Z"
   },
   {
    "duration": -1506,
    "start_time": "2022-01-19T15:22:31.749Z"
   },
   {
    "duration": -1525,
    "start_time": "2022-01-19T15:22:31.769Z"
   },
   {
    "duration": -1528,
    "start_time": "2022-01-19T15:22:31.773Z"
   },
   {
    "duration": -1531,
    "start_time": "2022-01-19T15:22:31.777Z"
   },
   {
    "duration": 4,
    "start_time": "2022-01-19T15:23:15.885Z"
   },
   {
    "duration": 617,
    "start_time": "2022-01-19T15:23:16.286Z"
   },
   {
    "duration": 6,
    "start_time": "2022-01-19T15:23:17.345Z"
   },
   {
    "duration": 12,
    "start_time": "2022-01-19T15:23:26.057Z"
   },
   {
    "duration": 13,
    "start_time": "2022-01-19T15:23:27.069Z"
   },
   {
    "duration": 7,
    "start_time": "2022-01-19T15:23:27.569Z"
   },
   {
    "duration": 8,
    "start_time": "2022-01-19T15:23:28.678Z"
   },
   {
    "duration": 6,
    "start_time": "2022-01-19T15:23:29.306Z"
   },
   {
    "duration": 7,
    "start_time": "2022-01-19T15:23:30.026Z"
   },
   {
    "duration": 8,
    "start_time": "2022-01-19T15:23:31.057Z"
   },
   {
    "duration": 9,
    "start_time": "2022-01-19T15:23:31.242Z"
   },
   {
    "duration": 7,
    "start_time": "2022-01-19T15:23:31.676Z"
   },
   {
    "duration": 10,
    "start_time": "2022-01-19T15:23:31.903Z"
   },
   {
    "duration": 7,
    "start_time": "2022-01-19T15:23:32.135Z"
   },
   {
    "duration": 13,
    "start_time": "2022-01-19T15:23:33.537Z"
   },
   {
    "duration": 16,
    "start_time": "2022-01-19T15:23:33.958Z"
   },
   {
    "duration": 9,
    "start_time": "2022-01-19T15:23:35.222Z"
   },
   {
    "duration": 8,
    "start_time": "2022-01-19T15:23:36.471Z"
   },
   {
    "duration": 8,
    "start_time": "2022-01-19T15:23:37.618Z"
   },
   {
    "duration": 333,
    "start_time": "2022-01-19T15:40:09.527Z"
   },
   {
    "duration": 569,
    "start_time": "2022-01-19T15:40:26.409Z"
   },
   {
    "duration": 7,
    "start_time": "2022-01-19T15:40:28.175Z"
   },
   {
    "duration": 14,
    "start_time": "2022-01-19T15:40:29.434Z"
   },
   {
    "duration": 106,
    "start_time": "2022-01-19T15:40:30.524Z"
   },
   {
    "duration": 14,
    "start_time": "2022-01-19T15:40:46.712Z"
   },
   {
    "duration": 102,
    "start_time": "2022-01-19T15:40:47.352Z"
   },
   {
    "duration": 14,
    "start_time": "2022-01-19T15:41:20.566Z"
   },
   {
    "duration": 97,
    "start_time": "2022-01-19T15:41:21.133Z"
   },
   {
    "duration": 567,
    "start_time": "2022-01-19T15:42:08.584Z"
   },
   {
    "duration": 414,
    "start_time": "2022-01-19T15:42:46.105Z"
   },
   {
    "duration": 601,
    "start_time": "2022-01-19T15:43:14.144Z"
   },
   {
    "duration": 16,
    "start_time": "2022-01-19T15:43:14.864Z"
   },
   {
    "duration": 394,
    "start_time": "2022-01-19T15:43:16.203Z"
   },
   {
    "duration": 610,
    "start_time": "2022-01-19T15:43:59.706Z"
   },
   {
    "duration": 587,
    "start_time": "2022-01-19T15:44:22.677Z"
   },
   {
    "duration": 677,
    "start_time": "2022-01-19T15:45:58.884Z"
   },
   {
    "duration": 7,
    "start_time": "2022-01-19T15:47:51.177Z"
   },
   {
    "duration": 627,
    "start_time": "2022-01-19T15:47:51.614Z"
   },
   {
    "duration": 2,
    "start_time": "2022-01-19T16:03:53.254Z"
   },
   {
    "duration": 66,
    "start_time": "2022-01-19T16:03:53.404Z"
   },
   {
    "duration": 30,
    "start_time": "2022-01-19T16:03:53.577Z"
   },
   {
    "duration": 25,
    "start_time": "2022-01-19T16:03:53.657Z"
   },
   {
    "duration": 9,
    "start_time": "2022-01-19T16:03:53.706Z"
   },
   {
    "duration": 13,
    "start_time": "2022-01-19T16:04:04.889Z"
   },
   {
    "duration": 5,
    "start_time": "2022-01-19T16:04:05.323Z"
   },
   {
    "duration": 4,
    "start_time": "2022-01-19T16:04:05.602Z"
   },
   {
    "duration": 7,
    "start_time": "2022-01-19T16:04:06.190Z"
   },
   {
    "duration": 6,
    "start_time": "2022-01-19T16:04:06.380Z"
   },
   {
    "duration": 6,
    "start_time": "2022-01-19T16:04:06.756Z"
   },
   {
    "duration": 5,
    "start_time": "2022-01-19T16:04:06.971Z"
   },
   {
    "duration": 6,
    "start_time": "2022-01-19T16:04:07.438Z"
   },
   {
    "duration": 7,
    "start_time": "2022-01-19T16:04:08.990Z"
   },
   {
    "duration": 5,
    "start_time": "2022-01-19T16:04:09.462Z"
   },
   {
    "duration": 5,
    "start_time": "2022-01-19T16:04:10.120Z"
   },
   {
    "duration": 6,
    "start_time": "2022-01-19T16:04:11.248Z"
   },
   {
    "duration": 7,
    "start_time": "2022-01-19T16:04:12.200Z"
   },
   {
    "duration": 8,
    "start_time": "2022-01-19T16:04:12.389Z"
   },
   {
    "duration": 3,
    "start_time": "2022-01-19T16:04:12.770Z"
   },
   {
    "duration": 10,
    "start_time": "2022-01-19T16:04:12.970Z"
   },
   {
    "duration": 8,
    "start_time": "2022-01-19T16:04:13.168Z"
   },
   {
    "duration": 5,
    "start_time": "2022-01-19T16:04:13.355Z"
   },
   {
    "duration": 39,
    "start_time": "2022-01-19T16:04:13.719Z"
   },
   {
    "duration": 15,
    "start_time": "2022-01-19T16:04:13.899Z"
   },
   {
    "duration": 7,
    "start_time": "2022-01-19T16:04:14.071Z"
   },
   {
    "duration": 17,
    "start_time": "2022-01-19T16:04:14.850Z"
   },
   {
    "duration": 3,
    "start_time": "2022-01-19T16:04:15.049Z"
   },
   {
    "duration": 5,
    "start_time": "2022-01-19T16:04:15.298Z"
   },
   {
    "duration": 694,
    "start_time": "2022-01-19T16:04:15.638Z"
   },
   {
    "duration": 6,
    "start_time": "2022-01-19T16:04:16.335Z"
   },
   {
    "duration": 13,
    "start_time": "2022-01-19T16:04:16.488Z"
   },
   {
    "duration": 14,
    "start_time": "2022-01-19T16:04:16.728Z"
   },
   {
    "duration": 7,
    "start_time": "2022-01-19T16:04:16.956Z"
   },
   {
    "duration": 3,
    "start_time": "2022-01-19T16:04:18.351Z"
   },
   {
    "duration": 8,
    "start_time": "2022-01-19T16:04:18.968Z"
   },
   {
    "duration": 576,
    "start_time": "2022-01-19T16:04:19.279Z"
   },
   {
    "duration": 6,
    "start_time": "2022-01-19T16:04:21.520Z"
   },
   {
    "duration": 8,
    "start_time": "2022-01-19T16:04:31.663Z"
   },
   {
    "duration": 9,
    "start_time": "2022-01-19T16:04:33.118Z"
   },
   {
    "duration": 7,
    "start_time": "2022-01-19T16:04:35.619Z"
   },
   {
    "duration": 8,
    "start_time": "2022-01-19T16:04:36.000Z"
   },
   {
    "duration": 11,
    "start_time": "2022-01-19T16:04:36.337Z"
   },
   {
    "duration": 7,
    "start_time": "2022-01-19T16:04:36.514Z"
   },
   {
    "duration": 11,
    "start_time": "2022-01-19T16:04:38.332Z"
   },
   {
    "duration": 580,
    "start_time": "2022-01-19T16:04:38.529Z"
   },
   {
    "duration": 15,
    "start_time": "2022-01-19T16:04:39.112Z"
   },
   {
    "duration": 399,
    "start_time": "2022-01-19T16:04:39.130Z"
   },
   {
    "duration": 373,
    "start_time": "2022-01-19T16:05:37.595Z"
   },
   {
    "duration": 605,
    "start_time": "2022-01-19T16:07:02.417Z"
   },
   {
    "duration": 320,
    "start_time": "2022-01-19T16:16:11.751Z"
   },
   {
    "duration": 8964,
    "start_time": "2022-01-19T16:16:23.789Z"
   },
   {
    "duration": 620,
    "start_time": "2022-01-19T16:16:35.645Z"
   },
   {
    "duration": 315,
    "start_time": "2022-01-19T16:18:01.532Z"
   },
   {
    "duration": 149,
    "start_time": "2022-01-19T16:22:07.676Z"
   },
   {
    "duration": 159,
    "start_time": "2022-01-19T16:25:30.939Z"
   },
   {
    "duration": 205,
    "start_time": "2022-01-19T16:26:19.287Z"
   },
   {
    "duration": 143,
    "start_time": "2022-01-19T16:26:29.131Z"
   },
   {
    "duration": 8,
    "start_time": "2022-01-19T16:27:06.891Z"
   },
   {
    "duration": 94,
    "start_time": "2022-01-19T16:47:53.854Z"
   },
   {
    "duration": 6,
    "start_time": "2022-01-19T16:48:06.848Z"
   },
   {
    "duration": 102,
    "start_time": "2022-01-19T16:48:07.226Z"
   },
   {
    "duration": 300,
    "start_time": "2022-01-19T16:48:55.544Z"
   },
   {
    "duration": 9,
    "start_time": "2022-01-19T16:49:50.527Z"
   },
   {
    "duration": 101,
    "start_time": "2022-01-19T17:04:00.585Z"
   },
   {
    "duration": 21,
    "start_time": "2022-01-19T17:04:13.005Z"
   },
   {
    "duration": 329,
    "start_time": "2022-01-19T17:09:59.685Z"
   },
   {
    "duration": 862,
    "start_time": "2022-01-19T17:10:15.670Z"
   },
   {
    "duration": -1420,
    "start_time": "2022-01-19T17:14:14.416Z"
   },
   {
    "duration": -1443,
    "start_time": "2022-01-19T17:14:14.440Z"
   },
   {
    "duration": -1453,
    "start_time": "2022-01-19T17:14:14.451Z"
   },
   {
    "duration": -1524,
    "start_time": "2022-01-19T17:14:14.523Z"
   },
   {
    "duration": -1530,
    "start_time": "2022-01-19T17:14:14.530Z"
   },
   {
    "duration": 4,
    "start_time": "2022-01-19T17:14:18.252Z"
   },
   {
    "duration": 49,
    "start_time": "2022-01-19T17:14:18.516Z"
   },
   {
    "duration": 16,
    "start_time": "2022-01-19T17:14:19.100Z"
   },
   {
    "duration": 11,
    "start_time": "2022-01-19T17:14:19.304Z"
   },
   {
    "duration": 9,
    "start_time": "2022-01-19T17:14:21.233Z"
   },
   {
    "duration": 10,
    "start_time": "2022-01-19T17:14:22.235Z"
   },
   {
    "duration": 37,
    "start_time": "2022-01-19T17:14:22.656Z"
   },
   {
    "duration": 12,
    "start_time": "2022-01-19T17:14:22.856Z"
   },
   {
    "duration": 3,
    "start_time": "2022-01-19T17:14:23.246Z"
   },
   {
    "duration": 11,
    "start_time": "2022-01-19T17:14:23.688Z"
   },
   {
    "duration": 8,
    "start_time": "2022-01-19T17:14:24.351Z"
   },
   {
    "duration": 10,
    "start_time": "2022-01-19T17:14:24.756Z"
   },
   {
    "duration": 10,
    "start_time": "2022-01-19T17:14:25.156Z"
   },
   {
    "duration": 7,
    "start_time": "2022-01-19T17:14:25.722Z"
   },
   {
    "duration": 13,
    "start_time": "2022-01-19T17:14:25.907Z"
   },
   {
    "duration": 9,
    "start_time": "2022-01-19T17:14:26.116Z"
   },
   {
    "duration": 7,
    "start_time": "2022-01-19T17:14:26.291Z"
   },
   {
    "duration": 12,
    "start_time": "2022-01-19T17:14:26.707Z"
   },
   {
    "duration": 4,
    "start_time": "2022-01-19T17:14:27.116Z"
   },
   {
    "duration": 4,
    "start_time": "2022-01-19T17:14:27.324Z"
   },
   {
    "duration": 7,
    "start_time": "2022-01-19T17:14:27.534Z"
   },
   {
    "duration": 6,
    "start_time": "2022-01-19T17:14:27.757Z"
   },
   {
    "duration": 6,
    "start_time": "2022-01-19T17:14:28.180Z"
   },
   {
    "duration": 7,
    "start_time": "2022-01-19T17:14:28.366Z"
   },
   {
    "duration": 6,
    "start_time": "2022-01-19T17:14:28.573Z"
   },
   {
    "duration": 6,
    "start_time": "2022-01-19T17:14:28.787Z"
   },
   {
    "duration": 6,
    "start_time": "2022-01-19T17:14:29.187Z"
   },
   {
    "duration": 5,
    "start_time": "2022-01-19T17:14:29.424Z"
   },
   {
    "duration": 5,
    "start_time": "2022-01-19T17:14:29.816Z"
   },
   {
    "duration": 8,
    "start_time": "2022-01-19T17:14:30.053Z"
   },
   {
    "duration": 9,
    "start_time": "2022-01-19T17:14:30.805Z"
   },
   {
    "duration": 3,
    "start_time": "2022-01-19T17:14:31.806Z"
   },
   {
    "duration": 10,
    "start_time": "2022-01-19T17:14:32.284Z"
   },
   {
    "duration": 9,
    "start_time": "2022-01-19T17:14:32.866Z"
   },
   {
    "duration": 6,
    "start_time": "2022-01-19T17:14:33.306Z"
   },
   {
    "duration": 39,
    "start_time": "2022-01-19T17:14:34.216Z"
   },
   {
    "duration": 15,
    "start_time": "2022-01-19T17:14:34.490Z"
   },
   {
    "duration": 7,
    "start_time": "2022-01-19T17:14:34.816Z"
   },
   {
    "duration": 21,
    "start_time": "2022-01-19T17:14:35.736Z"
   },
   {
    "duration": 3,
    "start_time": "2022-01-19T17:14:36.005Z"
   },
   {
    "duration": 5,
    "start_time": "2022-01-19T17:14:36.336Z"
   },
   {
    "duration": 685,
    "start_time": "2022-01-19T17:14:36.597Z"
   },
   {
    "duration": 7,
    "start_time": "2022-01-19T17:14:37.284Z"
   },
   {
    "duration": 11,
    "start_time": "2022-01-19T17:14:37.585Z"
   },
   {
    "duration": 14,
    "start_time": "2022-01-19T17:14:38.387Z"
   },
   {
    "duration": 7,
    "start_time": "2022-01-19T17:14:39.299Z"
   },
   {
    "duration": 2,
    "start_time": "2022-01-19T17:14:40.299Z"
   },
   {
    "duration": 8,
    "start_time": "2022-01-19T17:14:41.087Z"
   },
   {
    "duration": 6,
    "start_time": "2022-01-19T17:14:42.013Z"
   },
   {
    "duration": 8,
    "start_time": "2022-01-19T17:14:46.417Z"
   },
   {
    "duration": 9,
    "start_time": "2022-01-19T17:14:47.868Z"
   },
   {
    "duration": 7,
    "start_time": "2022-01-19T17:14:48.437Z"
   },
   {
    "duration": 12055,
    "start_time": "2022-01-19T17:14:49.116Z"
   },
   {
    "duration": 430,
    "start_time": "2022-01-19T17:15:21.849Z"
   },
   {
    "duration": 428,
    "start_time": "2022-01-19T17:16:18.876Z"
   },
   {
    "duration": 478,
    "start_time": "2022-01-19T17:17:36.014Z"
   },
   {
    "duration": 8,
    "start_time": "2022-01-19T17:18:26.069Z"
   },
   {
    "duration": 350,
    "start_time": "2022-01-19T17:21:49.095Z"
   },
   {
    "duration": 28,
    "start_time": "2022-01-19T17:22:52.686Z"
   },
   {
    "duration": 27,
    "start_time": "2022-01-19T17:24:55.156Z"
   },
   {
    "duration": 28,
    "start_time": "2022-01-19T17:25:27.190Z"
   },
   {
    "duration": 27,
    "start_time": "2022-01-19T17:25:38.006Z"
   },
   {
    "duration": 7732,
    "start_time": "2022-01-19T17:28:56.929Z"
   },
   {
    "duration": 27,
    "start_time": "2022-01-19T17:29:05.004Z"
   },
   {
    "duration": 324,
    "start_time": "2022-01-19T17:30:45.587Z"
   },
   {
    "duration": 28,
    "start_time": "2022-01-19T17:31:02.627Z"
   },
   {
    "duration": 28,
    "start_time": "2022-01-19T17:31:16.108Z"
   },
   {
    "duration": 298,
    "start_time": "2022-01-19T17:42:26.153Z"
   },
   {
    "duration": 468,
    "start_time": "2022-01-19T17:43:00.588Z"
   },
   {
    "duration": 33,
    "start_time": "2022-01-19T17:43:56.888Z"
   },
   {
    "duration": 314,
    "start_time": "2022-01-19T17:44:14.295Z"
   },
   {
    "duration": 315,
    "start_time": "2022-01-19T17:45:57.216Z"
   },
   {
    "duration": 311,
    "start_time": "2022-01-19T17:46:19.289Z"
   },
   {
    "duration": 3,
    "start_time": "2022-01-19T17:46:31.776Z"
   },
   {
    "duration": 48,
    "start_time": "2022-01-19T17:46:32.518Z"
   },
   {
    "duration": 14,
    "start_time": "2022-01-19T17:46:32.736Z"
   },
   {
    "duration": 14,
    "start_time": "2022-01-19T17:46:32.919Z"
   },
   {
    "duration": 10,
    "start_time": "2022-01-19T17:46:33.811Z"
   },
   {
    "duration": 10,
    "start_time": "2022-01-19T17:46:34.535Z"
   },
   {
    "duration": 41,
    "start_time": "2022-01-19T17:46:34.870Z"
   },
   {
    "duration": 11,
    "start_time": "2022-01-19T17:46:35.030Z"
   },
   {
    "duration": 4,
    "start_time": "2022-01-19T17:46:35.408Z"
   },
   {
    "duration": 12,
    "start_time": "2022-01-19T17:46:35.778Z"
   },
   {
    "duration": 9,
    "start_time": "2022-01-19T17:46:36.327Z"
   },
   {
    "duration": 11,
    "start_time": "2022-01-19T17:46:36.688Z"
   },
   {
    "duration": 8,
    "start_time": "2022-01-19T17:46:37.075Z"
   },
   {
    "duration": 7,
    "start_time": "2022-01-19T17:46:37.446Z"
   },
   {
    "duration": 12,
    "start_time": "2022-01-19T17:46:37.621Z"
   },
   {
    "duration": 8,
    "start_time": "2022-01-19T17:46:37.831Z"
   },
   {
    "duration": 7,
    "start_time": "2022-01-19T17:46:38.010Z"
   },
   {
    "duration": 12,
    "start_time": "2022-01-19T17:46:38.377Z"
   },
   {
    "duration": 4,
    "start_time": "2022-01-19T17:46:38.778Z"
   },
   {
    "duration": 5,
    "start_time": "2022-01-19T17:46:38.952Z"
   },
   {
    "duration": 7,
    "start_time": "2022-01-19T17:46:39.144Z"
   },
   {
    "duration": 6,
    "start_time": "2022-01-19T17:46:39.319Z"
   },
   {
    "duration": 6,
    "start_time": "2022-01-19T17:46:39.709Z"
   },
   {
    "duration": 6,
    "start_time": "2022-01-19T17:46:39.881Z"
   },
   {
    "duration": 7,
    "start_time": "2022-01-19T17:46:40.079Z"
   },
   {
    "duration": 7,
    "start_time": "2022-01-19T17:46:40.275Z"
   },
   {
    "duration": 6,
    "start_time": "2022-01-19T17:46:40.694Z"
   },
   {
    "duration": 6,
    "start_time": "2022-01-19T17:46:40.882Z"
   },
   {
    "duration": 6,
    "start_time": "2022-01-19T17:46:41.076Z"
   },
   {
    "duration": 7,
    "start_time": "2022-01-19T17:46:41.274Z"
   },
   {
    "duration": 8,
    "start_time": "2022-01-19T17:46:41.493Z"
   },
   {
    "duration": 3,
    "start_time": "2022-01-19T17:46:41.893Z"
   },
   {
    "duration": 9,
    "start_time": "2022-01-19T17:46:42.358Z"
   },
   {
    "duration": 8,
    "start_time": "2022-01-19T17:46:42.559Z"
   },
   {
    "duration": 7,
    "start_time": "2022-01-19T17:46:42.761Z"
   },
   {
    "duration": 43,
    "start_time": "2022-01-19T17:46:43.160Z"
   },
   {
    "duration": 15,
    "start_time": "2022-01-19T17:46:43.358Z"
   },
   {
    "duration": 8,
    "start_time": "2022-01-19T17:46:43.543Z"
   },
   {
    "duration": 20,
    "start_time": "2022-01-19T17:46:44.168Z"
   },
   {
    "duration": 2,
    "start_time": "2022-01-19T17:46:44.395Z"
   },
   {
    "duration": 4,
    "start_time": "2022-01-19T17:46:44.593Z"
   },
   {
    "duration": 743,
    "start_time": "2022-01-19T17:46:44.769Z"
   },
   {
    "duration": 7,
    "start_time": "2022-01-19T17:46:45.514Z"
   },
   {
    "duration": 12,
    "start_time": "2022-01-19T17:46:45.523Z"
   },
   {
    "duration": 13,
    "start_time": "2022-01-19T17:46:45.536Z"
   },
   {
    "duration": 8,
    "start_time": "2022-01-19T17:46:45.693Z"
   },
   {
    "duration": 2,
    "start_time": "2022-01-19T17:46:46.293Z"
   },
   {
    "duration": 9,
    "start_time": "2022-01-19T17:46:46.865Z"
   },
   {
    "duration": 6,
    "start_time": "2022-01-19T17:46:47.518Z"
   },
   {
    "duration": 7,
    "start_time": "2022-01-19T17:46:48.194Z"
   },
   {
    "duration": 9,
    "start_time": "2022-01-19T17:46:48.657Z"
   },
   {
    "duration": 7,
    "start_time": "2022-01-19T17:46:48.869Z"
   },
   {
    "duration": 9,
    "start_time": "2022-01-19T17:46:49.469Z"
   },
   {
    "duration": 9,
    "start_time": "2022-01-19T17:46:49.690Z"
   },
   {
    "duration": 7,
    "start_time": "2022-01-19T17:46:49.919Z"
   },
   {
    "duration": 12,
    "start_time": "2022-01-19T17:46:51.607Z"
   },
   {
    "duration": 589,
    "start_time": "2022-01-19T17:46:52.069Z"
   },
   {
    "duration": 20,
    "start_time": "2022-01-19T17:46:52.660Z"
   },
   {
    "duration": 6,
    "start_time": "2022-01-19T17:47:01.634Z"
   },
   {
    "duration": 575,
    "start_time": "2022-01-19T17:47:01.899Z"
   },
   {
    "duration": 13,
    "start_time": "2022-01-19T17:47:02.549Z"
   },
   {
    "duration": 411,
    "start_time": "2022-01-19T17:47:03.026Z"
   },
   {
    "duration": 595,
    "start_time": "2022-01-19T17:47:10.369Z"
   },
   {
    "duration": 26,
    "start_time": "2022-01-19T17:47:11.322Z"
   },
   {
    "duration": 8,
    "start_time": "2022-01-19T17:47:16.032Z"
   },
   {
    "duration": 714,
    "start_time": "2022-01-19T17:47:17.048Z"
   },
   {
    "duration": 25,
    "start_time": "2022-01-19T17:47:17.838Z"
   },
   {
    "duration": 110,
    "start_time": "2022-01-19T17:57:14.906Z"
   },
   {
    "duration": 692,
    "start_time": "2022-01-19T17:57:29.241Z"
   },
   {
    "duration": 25,
    "start_time": "2022-01-19T17:57:30.937Z"
   },
   {
    "duration": 101,
    "start_time": "2022-01-19T17:57:33.039Z"
   },
   {
    "duration": 21,
    "start_time": "2022-01-19T18:01:51.878Z"
   },
   {
    "duration": 584,
    "start_time": "2022-01-19T18:10:40.158Z"
   },
   {
    "duration": 21,
    "start_time": "2022-01-19T18:10:41.156Z"
   },
   {
    "duration": 619,
    "start_time": "2022-01-19T18:17:16.270Z"
   },
   {
    "duration": 14,
    "start_time": "2022-01-19T18:17:18.769Z"
   },
   {
    "duration": 389,
    "start_time": "2022-01-19T18:17:19.447Z"
   },
   {
    "duration": 22,
    "start_time": "2022-01-19T18:17:21.319Z"
   },
   {
    "duration": 24,
    "start_time": "2022-01-19T18:22:14.699Z"
   },
   {
    "duration": 40,
    "start_time": "2022-01-19T18:38:24.260Z"
   },
   {
    "duration": 132,
    "start_time": "2022-01-19T18:38:38.288Z"
   },
   {
    "duration": 98,
    "start_time": "2022-01-19T18:38:44.881Z"
   },
   {
    "duration": 39,
    "start_time": "2022-01-19T18:39:00.929Z"
   },
   {
    "duration": 14,
    "start_time": "2022-01-19T18:39:04.008Z"
   },
   {
    "duration": 90,
    "start_time": "2022-01-19T18:45:25.635Z"
   },
   {
    "duration": 4,
    "start_time": "2022-01-19T18:45:58.292Z"
   },
   {
    "duration": 16,
    "start_time": "2022-01-19T18:54:57.335Z"
   },
   {
    "duration": 15,
    "start_time": "2022-01-19T18:55:02.227Z"
   },
   {
    "duration": 20,
    "start_time": "2022-01-19T19:05:34.392Z"
   },
   {
    "duration": 3,
    "start_time": "2022-01-19T19:05:35.003Z"
   },
   {
    "duration": 5,
    "start_time": "2022-01-19T19:05:36.155Z"
   },
   {
    "duration": 2,
    "start_time": "2022-01-19T19:18:45.610Z"
   },
   {
    "duration": 49,
    "start_time": "2022-01-19T19:18:46.203Z"
   },
   {
    "duration": 13,
    "start_time": "2022-01-19T19:18:46.756Z"
   },
   {
    "duration": 11,
    "start_time": "2022-01-19T19:18:47.625Z"
   },
   {
    "duration": 10,
    "start_time": "2022-01-19T19:18:52.141Z"
   },
   {
    "duration": 10,
    "start_time": "2022-01-19T19:18:54.535Z"
   },
   {
    "duration": 38,
    "start_time": "2022-01-19T19:18:56.375Z"
   },
   {
    "duration": 10,
    "start_time": "2022-01-19T19:18:57.135Z"
   },
   {
    "duration": 4,
    "start_time": "2022-01-19T19:18:59.440Z"
   },
   {
    "duration": 12,
    "start_time": "2022-01-19T19:19:01.419Z"
   },
   {
    "duration": 8,
    "start_time": "2022-01-19T19:19:04.918Z"
   },
   {
    "duration": 12,
    "start_time": "2022-01-19T19:19:07.955Z"
   },
   {
    "duration": 11,
    "start_time": "2022-01-19T19:19:10.286Z"
   },
   {
    "duration": 7,
    "start_time": "2022-01-19T19:19:11.590Z"
   },
   {
    "duration": 11,
    "start_time": "2022-01-19T19:19:12.351Z"
   },
   {
    "duration": 9,
    "start_time": "2022-01-19T19:19:12.923Z"
   },
   {
    "duration": 7,
    "start_time": "2022-01-19T19:19:13.874Z"
   },
   {
    "duration": 12,
    "start_time": "2022-01-19T19:19:15.638Z"
   },
   {
    "duration": 4,
    "start_time": "2022-01-19T19:19:16.966Z"
   },
   {
    "duration": 5,
    "start_time": "2022-01-19T19:19:17.485Z"
   },
   {
    "duration": 8,
    "start_time": "2022-01-19T19:19:18.165Z"
   },
   {
    "duration": 5,
    "start_time": "2022-01-19T19:19:18.904Z"
   },
   {
    "duration": 7,
    "start_time": "2022-01-19T19:19:20.254Z"
   },
   {
    "duration": 6,
    "start_time": "2022-01-19T19:19:20.869Z"
   },
   {
    "duration": 6,
    "start_time": "2022-01-19T19:19:21.688Z"
   },
   {
    "duration": 6,
    "start_time": "2022-01-19T19:19:22.505Z"
   },
   {
    "duration": 6,
    "start_time": "2022-01-19T19:19:24.261Z"
   },
   {
    "duration": 6,
    "start_time": "2022-01-19T19:19:24.804Z"
   },
   {
    "duration": 6,
    "start_time": "2022-01-19T19:19:25.572Z"
   },
   {
    "duration": 9,
    "start_time": "2022-01-19T19:19:26.295Z"
   },
   {
    "duration": 7,
    "start_time": "2022-01-19T19:19:27.005Z"
   },
   {
    "duration": 3,
    "start_time": "2022-01-19T19:19:28.285Z"
   },
   {
    "duration": 10,
    "start_time": "2022-01-19T19:19:28.900Z"
   },
   {
    "duration": 8,
    "start_time": "2022-01-19T19:19:30.067Z"
   },
   {
    "duration": 6,
    "start_time": "2022-01-19T19:19:31.035Z"
   },
   {
    "duration": 42,
    "start_time": "2022-01-19T19:19:34.838Z"
   },
   {
    "duration": 12,
    "start_time": "2022-01-19T19:19:35.595Z"
   },
   {
    "duration": 7,
    "start_time": "2022-01-19T19:19:36.526Z"
   },
   {
    "duration": 3,
    "start_time": "2022-01-19T19:19:38.488Z"
   },
   {
    "duration": 3,
    "start_time": "2022-01-19T19:19:38.813Z"
   },
   {
    "duration": 4,
    "start_time": "2022-01-19T19:19:39.268Z"
   },
   {
    "duration": 694,
    "start_time": "2022-01-19T19:19:39.725Z"
   },
   {
    "duration": 7,
    "start_time": "2022-01-19T19:19:40.421Z"
   },
   {
    "duration": 13,
    "start_time": "2022-01-19T19:19:41.996Z"
   },
   {
    "duration": 15,
    "start_time": "2022-01-19T19:19:42.725Z"
   },
   {
    "duration": 11,
    "start_time": "2022-01-19T19:19:43.580Z"
   },
   {
    "duration": 8,
    "start_time": "2022-01-19T19:19:46.914Z"
   },
   {
    "duration": 8,
    "start_time": "2022-01-19T19:19:49.079Z"
   },
   {
    "duration": 7,
    "start_time": "2022-01-19T19:19:51.046Z"
   },
   {
    "duration": 9,
    "start_time": "2022-01-19T19:19:52.451Z"
   },
   {
    "duration": 8,
    "start_time": "2022-01-19T19:19:53.064Z"
   },
   {
    "duration": 8,
    "start_time": "2022-01-19T19:19:54.279Z"
   },
   {
    "duration": 10,
    "start_time": "2022-01-19T19:19:55.001Z"
   },
   {
    "duration": 8,
    "start_time": "2022-01-19T19:19:55.562Z"
   },
   {
    "duration": 2,
    "start_time": "2022-01-19T19:20:01.745Z"
   },
   {
    "duration": 583,
    "start_time": "2022-01-19T19:20:02.266Z"
   },
   {
    "duration": 22,
    "start_time": "2022-01-19T19:20:03.064Z"
   },
   {
    "duration": 397,
    "start_time": "2022-01-19T19:20:03.799Z"
   },
   {
    "duration": 21,
    "start_time": "2022-01-19T19:20:04.465Z"
   },
   {
    "duration": 609,
    "start_time": "2022-01-19T19:20:08.065Z"
   },
   {
    "duration": 26,
    "start_time": "2022-01-19T19:20:09.913Z"
   },
   {
    "duration": 701,
    "start_time": "2022-01-19T19:20:12.731Z"
   },
   {
    "duration": 23,
    "start_time": "2022-01-19T19:20:13.434Z"
   },
   {
    "duration": 7,
    "start_time": "2022-01-19T19:20:15.913Z"
   },
   {
    "duration": 624,
    "start_time": "2022-01-19T19:20:17.044Z"
   },
   {
    "duration": 26,
    "start_time": "2022-01-19T19:20:17.679Z"
   },
   {
    "duration": 660,
    "start_time": "2022-01-19T19:20:37.996Z"
   },
   {
    "duration": 31,
    "start_time": "2022-01-19T19:20:38.658Z"
   },
   {
    "duration": 8,
    "start_time": "2022-01-19T19:20:40.262Z"
   },
   {
    "duration": 611,
    "start_time": "2022-01-19T19:20:40.486Z"
   },
   {
    "duration": 35,
    "start_time": "2022-01-19T19:20:41.100Z"
   },
   {
    "duration": 9,
    "start_time": "2022-01-19T19:35:31.149Z"
   },
   {
    "duration": 7,
    "start_time": "2022-01-19T19:35:31.715Z"
   },
   {
    "duration": 10,
    "start_time": "2022-01-19T19:38:18.439Z"
   },
   {
    "duration": 4,
    "start_time": "2022-01-19T19:38:20.722Z"
   },
   {
    "duration": 648,
    "start_time": "2022-01-19T19:38:21.126Z"
   },
   {
    "duration": 20,
    "start_time": "2022-01-19T19:38:22.207Z"
   },
   {
    "duration": 401,
    "start_time": "2022-01-19T19:38:23.228Z"
   },
   {
    "duration": 22,
    "start_time": "2022-01-19T19:38:24.727Z"
   },
   {
    "duration": 666,
    "start_time": "2022-01-19T19:38:27.360Z"
   },
   {
    "duration": 26,
    "start_time": "2022-01-19T19:38:28.291Z"
   },
   {
    "duration": 588,
    "start_time": "2022-01-19T19:38:31.157Z"
   },
   {
    "duration": 31,
    "start_time": "2022-01-19T19:38:31.746Z"
   },
   {
    "duration": 7,
    "start_time": "2022-01-19T19:38:33.924Z"
   },
   {
    "duration": 583,
    "start_time": "2022-01-19T19:38:34.621Z"
   },
   {
    "duration": 24,
    "start_time": "2022-01-19T19:38:35.236Z"
   },
   {
    "duration": 550,
    "start_time": "2022-01-19T19:43:35.635Z"
   },
   {
    "duration": 24,
    "start_time": "2022-01-19T19:43:36.186Z"
   },
   {
    "duration": 5,
    "start_time": "2022-01-19T19:56:16.390Z"
   },
   {
    "duration": 5,
    "start_time": "2022-01-19T19:56:53.051Z"
   },
   {
    "duration": 4,
    "start_time": "2022-01-19T19:57:02.795Z"
   },
   {
    "duration": 315,
    "start_time": "2022-01-19T19:58:06.043Z"
   },
   {
    "duration": 4,
    "start_time": "2022-01-19T19:58:30.036Z"
   },
   {
    "duration": 5,
    "start_time": "2022-01-19T20:00:13.631Z"
   },
   {
    "duration": 857,
    "start_time": "2022-01-21T12:16:36.703Z"
   },
   {
    "duration": 65,
    "start_time": "2022-01-21T12:16:37.566Z"
   },
   {
    "duration": 33,
    "start_time": "2022-01-21T12:16:37.634Z"
   },
   {
    "duration": 20,
    "start_time": "2022-01-21T12:16:37.670Z"
   },
   {
    "duration": 14,
    "start_time": "2022-01-21T12:16:41.037Z"
   },
   {
    "duration": 15,
    "start_time": "2022-01-21T12:16:41.673Z"
   },
   {
    "duration": 63,
    "start_time": "2022-01-21T12:16:42.155Z"
   },
   {
    "duration": 15,
    "start_time": "2022-01-21T12:16:42.310Z"
   },
   {
    "duration": 5,
    "start_time": "2022-01-21T12:16:42.791Z"
   },
   {
    "duration": 16,
    "start_time": "2022-01-21T12:16:43.201Z"
   },
   {
    "duration": 10,
    "start_time": "2022-01-21T12:16:44.016Z"
   },
   {
    "duration": 15,
    "start_time": "2022-01-21T12:16:44.421Z"
   },
   {
    "duration": 10,
    "start_time": "2022-01-21T12:16:44.840Z"
   },
   {
    "duration": 11,
    "start_time": "2022-01-21T12:16:45.250Z"
   },
   {
    "duration": 16,
    "start_time": "2022-01-21T12:16:45.405Z"
   },
   {
    "duration": 11,
    "start_time": "2022-01-21T12:16:45.599Z"
   },
   {
    "duration": 10,
    "start_time": "2022-01-21T12:16:45.787Z"
   },
   {
    "duration": 27,
    "start_time": "2022-01-21T12:16:46.348Z"
   },
   {
    "duration": 7,
    "start_time": "2022-01-21T12:16:46.774Z"
   },
   {
    "duration": 8,
    "start_time": "2022-01-21T12:16:46.986Z"
   },
   {
    "duration": 29,
    "start_time": "2022-01-21T12:16:47.174Z"
   },
   {
    "duration": 23,
    "start_time": "2022-01-21T12:16:47.358Z"
   },
   {
    "duration": 10,
    "start_time": "2022-01-21T12:16:47.759Z"
   },
   {
    "duration": 11,
    "start_time": "2022-01-21T12:16:47.945Z"
   },
   {
    "duration": 10,
    "start_time": "2022-01-21T12:16:48.134Z"
   },
   {
    "duration": 9,
    "start_time": "2022-01-21T12:16:48.320Z"
   },
   {
    "duration": 8,
    "start_time": "2022-01-21T12:16:48.686Z"
   },
   {
    "duration": 8,
    "start_time": "2022-01-21T12:16:48.893Z"
   },
   {
    "duration": 9,
    "start_time": "2022-01-21T12:16:49.085Z"
   },
   {
    "duration": 11,
    "start_time": "2022-01-21T12:16:49.278Z"
   },
   {
    "duration": 13,
    "start_time": "2022-01-21T12:16:49.436Z"
   },
   {
    "duration": 5,
    "start_time": "2022-01-21T12:16:49.786Z"
   },
   {
    "duration": 19,
    "start_time": "2022-01-21T12:16:49.978Z"
   },
   {
    "duration": 16,
    "start_time": "2022-01-21T12:16:50.187Z"
   },
   {
    "duration": 9,
    "start_time": "2022-01-21T12:16:50.385Z"
   },
   {
    "duration": 56,
    "start_time": "2022-01-21T12:16:50.780Z"
   },
   {
    "duration": 20,
    "start_time": "2022-01-21T12:16:50.952Z"
   },
   {
    "duration": 10,
    "start_time": "2022-01-21T12:16:51.137Z"
   },
   {
    "duration": 11,
    "start_time": "2022-01-21T12:16:51.701Z"
   },
   {
    "duration": 4,
    "start_time": "2022-01-21T12:16:51.900Z"
   },
   {
    "duration": 8,
    "start_time": "2022-01-21T12:16:52.070Z"
   },
   {
    "duration": 972,
    "start_time": "2022-01-21T12:16:52.281Z"
   },
   {
    "duration": 14,
    "start_time": "2022-01-21T12:16:53.264Z"
   },
   {
    "duration": 47,
    "start_time": "2022-01-21T12:16:53.282Z"
   },
   {
    "duration": 35,
    "start_time": "2022-01-21T12:16:53.332Z"
   },
   {
    "duration": 34,
    "start_time": "2022-01-21T12:16:53.371Z"
   },
   {
    "duration": 15,
    "start_time": "2022-01-21T12:16:53.987Z"
   },
   {
    "duration": 9,
    "start_time": "2022-01-21T12:16:54.650Z"
   },
   {
    "duration": 10,
    "start_time": "2022-01-21T12:16:55.208Z"
   },
   {
    "duration": 15,
    "start_time": "2022-01-21T12:16:55.576Z"
   },
   {
    "duration": 13,
    "start_time": "2022-01-21T12:16:55.777Z"
   },
   {
    "duration": 10,
    "start_time": "2022-01-21T12:16:56.152Z"
   },
   {
    "duration": 14,
    "start_time": "2022-01-21T12:16:56.334Z"
   },
   {
    "duration": 11,
    "start_time": "2022-01-21T12:16:56.531Z"
   },
   {
    "duration": 933,
    "start_time": "2022-01-21T12:16:57.788Z"
   },
   {
    "duration": 1247,
    "start_time": "2022-01-21T12:16:58.724Z"
   },
   {
    "duration": 47,
    "start_time": "2022-01-21T12:16:59.976Z"
   },
   {
    "duration": 862,
    "start_time": "2022-01-21T12:17:00.027Z"
   },
   {
    "duration": 64,
    "start_time": "2022-01-21T12:17:00.893Z"
   },
   {
    "duration": 1204,
    "start_time": "2022-01-21T12:17:00.960Z"
   },
   {
    "duration": 50,
    "start_time": "2022-01-21T12:17:02.168Z"
   },
   {
    "duration": 1113,
    "start_time": "2022-01-21T12:17:02.222Z"
   },
   {
    "duration": 66,
    "start_time": "2022-01-21T12:17:03.338Z"
   },
   {
    "duration": 14,
    "start_time": "2022-01-21T12:17:06.453Z"
   },
   {
    "duration": 1059,
    "start_time": "2022-01-21T12:17:06.655Z"
   },
   {
    "duration": 54,
    "start_time": "2022-01-21T12:17:07.717Z"
   },
   {
    "duration": 792,
    "start_time": "2022-01-23T14:43:22.470Z"
   },
   {
    "duration": 64,
    "start_time": "2022-01-23T14:43:23.265Z"
   },
   {
    "duration": 32,
    "start_time": "2022-01-23T14:43:23.332Z"
   },
   {
    "duration": 16,
    "start_time": "2022-01-23T14:43:23.367Z"
   },
   {
    "duration": 13,
    "start_time": "2022-01-23T14:43:25.037Z"
   },
   {
    "duration": 14,
    "start_time": "2022-01-23T14:43:25.572Z"
   },
   {
    "duration": 55,
    "start_time": "2022-01-23T14:43:25.911Z"
   },
   {
    "duration": 14,
    "start_time": "2022-01-23T14:43:26.065Z"
   },
   {
    "duration": 5,
    "start_time": "2022-01-23T14:43:26.540Z"
   },
   {
    "duration": 16,
    "start_time": "2022-01-23T14:43:26.840Z"
   },
   {
    "duration": 10,
    "start_time": "2022-01-23T14:43:27.426Z"
   },
   {
    "duration": 16,
    "start_time": "2022-01-23T14:43:27.758Z"
   },
   {
    "duration": 12,
    "start_time": "2022-01-23T14:43:28.239Z"
   },
   {
    "duration": 12,
    "start_time": "2022-01-23T14:43:28.586Z"
   },
   {
    "duration": 17,
    "start_time": "2022-01-23T14:43:28.776Z"
   },
   {
    "duration": 11,
    "start_time": "2022-01-23T14:43:28.959Z"
   },
   {
    "duration": 9,
    "start_time": "2022-01-23T14:43:29.139Z"
   },
   {
    "duration": 18,
    "start_time": "2022-01-23T14:43:29.542Z"
   },
   {
    "duration": 5,
    "start_time": "2022-01-23T14:43:29.959Z"
   },
   {
    "duration": 6,
    "start_time": "2022-01-23T14:43:30.159Z"
   },
   {
    "duration": 10,
    "start_time": "2022-01-23T14:43:30.359Z"
   },
   {
    "duration": 8,
    "start_time": "2022-01-23T14:43:30.560Z"
   },
   {
    "duration": 8,
    "start_time": "2022-01-23T14:43:31.331Z"
   },
   {
    "duration": 9,
    "start_time": "2022-01-23T14:43:31.521Z"
   },
   {
    "duration": 8,
    "start_time": "2022-01-23T14:43:31.709Z"
   },
   {
    "duration": 8,
    "start_time": "2022-01-23T14:43:31.926Z"
   },
   {
    "duration": 7,
    "start_time": "2022-01-23T14:43:32.475Z"
   },
   {
    "duration": 7,
    "start_time": "2022-01-23T14:43:32.819Z"
   },
   {
    "duration": 9,
    "start_time": "2022-01-23T14:43:33.101Z"
   },
   {
    "duration": 10,
    "start_time": "2022-01-23T14:43:33.460Z"
   },
   {
    "duration": 11,
    "start_time": "2022-01-23T14:43:33.858Z"
   },
   {
    "duration": 5,
    "start_time": "2022-01-23T14:43:34.589Z"
   },
   {
    "duration": 16,
    "start_time": "2022-01-23T14:43:34.942Z"
   },
   {
    "duration": 12,
    "start_time": "2022-01-23T14:43:35.301Z"
   },
   {
    "duration": 9,
    "start_time": "2022-01-23T14:43:39.090Z"
   },
   {
    "duration": 61,
    "start_time": "2022-01-23T14:43:39.772Z"
   },
   {
    "duration": 21,
    "start_time": "2022-01-23T14:43:40.138Z"
   },
   {
    "duration": 11,
    "start_time": "2022-01-23T14:43:44.651Z"
   },
   {
    "duration": 11,
    "start_time": "2022-01-23T14:43:45.921Z"
   },
   {
    "duration": 4,
    "start_time": "2022-01-23T14:43:46.338Z"
   },
   {
    "duration": 5,
    "start_time": "2022-01-23T14:43:47.970Z"
   },
   {
    "duration": 930,
    "start_time": "2022-01-23T14:43:48.522Z"
   },
   {
    "duration": 15,
    "start_time": "2022-01-23T14:43:49.455Z"
   },
   {
    "duration": 18,
    "start_time": "2022-01-23T14:43:51.753Z"
   },
   {
    "duration": 22,
    "start_time": "2022-01-23T14:43:52.093Z"
   },
   {
    "duration": 11,
    "start_time": "2022-01-23T14:43:53.132Z"
   },
   {
    "duration": 11,
    "start_time": "2022-01-23T14:43:57.636Z"
   },
   {
    "duration": 8,
    "start_time": "2022-01-23T14:44:02.438Z"
   },
   {
    "duration": 10,
    "start_time": "2022-01-23T14:44:04.105Z"
   },
   {
    "duration": 14,
    "start_time": "2022-01-23T14:44:07.155Z"
   },
   {
    "duration": 10,
    "start_time": "2022-01-23T14:44:08.548Z"
   },
   {
    "duration": 14,
    "start_time": "2022-01-23T14:44:15.871Z"
   },
   {
    "duration": 13,
    "start_time": "2022-01-23T14:44:24.701Z"
   },
   {
    "duration": 15,
    "start_time": "2022-01-23T14:44:25.286Z"
   },
   {
    "duration": 833,
    "start_time": "2022-01-23T14:44:32.787Z"
   },
   {
    "duration": 981,
    "start_time": "2022-01-23T14:44:33.623Z"
   },
   {
    "duration": 30,
    "start_time": "2022-01-23T14:44:34.607Z"
   },
   {
    "duration": 675,
    "start_time": "2022-01-23T14:44:36.640Z"
   },
   {
    "duration": 54,
    "start_time": "2022-01-23T14:44:37.318Z"
   },
   {
    "duration": 959,
    "start_time": "2022-01-23T14:44:43.201Z"
   },
   {
    "duration": 39,
    "start_time": "2022-01-23T14:44:44.162Z"
   },
   {
    "duration": 911,
    "start_time": "2022-01-23T14:44:46.136Z"
   },
   {
    "duration": 38,
    "start_time": "2022-01-23T14:45:16.324Z"
   },
   {
    "duration": 11,
    "start_time": "2022-01-23T14:45:23.637Z"
   },
   {
    "duration": 963,
    "start_time": "2022-01-23T14:45:24.006Z"
   },
   {
    "duration": 38,
    "start_time": "2022-01-23T14:45:24.972Z"
   },
   {
    "duration": 56,
    "start_time": "2022-01-23T14:56:22.095Z"
   },
   {
    "duration": 41,
    "start_time": "2022-01-23T14:56:25.826Z"
   },
   {
    "duration": 37,
    "start_time": "2022-01-23T14:57:28.952Z"
   },
   {
    "duration": 999,
    "start_time": "2022-01-23T14:57:30.537Z"
   },
   {
    "duration": 38,
    "start_time": "2022-01-23T14:57:31.683Z"
   },
   {
    "duration": 36,
    "start_time": "2022-01-23T15:11:39.377Z"
   },
   {
    "duration": 36,
    "start_time": "2022-01-23T15:18:21.801Z"
   },
   {
    "duration": 37,
    "start_time": "2022-01-23T15:21:08.922Z"
   },
   {
    "duration": 995,
    "start_time": "2022-01-23T15:21:11.193Z"
   },
   {
    "duration": 37,
    "start_time": "2022-01-23T15:21:12.191Z"
   },
   {
    "duration": 59,
    "start_time": "2022-01-23T15:21:12.231Z"
   },
   {
    "duration": 36,
    "start_time": "2022-01-23T15:21:12.984Z"
   },
   {
    "duration": 96,
    "start_time": "2022-01-23T15:21:14.217Z"
   },
   {
    "duration": 4,
    "start_time": "2022-01-23T15:21:51.998Z"
   },
   {
    "duration": 146,
    "start_time": "2022-01-23T15:22:07.807Z"
   },
   {
    "duration": 9,
    "start_time": "2022-01-23T16:04:18.172Z"
   },
   {
    "duration": 8,
    "start_time": "2022-01-23T16:04:27.686Z"
   },
   {
    "duration": 9,
    "start_time": "2022-01-23T16:04:34.192Z"
   },
   {
    "duration": 9,
    "start_time": "2022-01-23T16:04:40.864Z"
   },
   {
    "duration": 9,
    "start_time": "2022-01-23T16:04:45.424Z"
   },
   {
    "duration": 10,
    "start_time": "2022-01-23T16:04:51.324Z"
   },
   {
    "duration": 11,
    "start_time": "2022-01-23T16:06:16.394Z"
   },
   {
    "duration": 13,
    "start_time": "2022-01-23T16:06:27.478Z"
   },
   {
    "duration": 22,
    "start_time": "2022-01-23T16:07:03.766Z"
   },
   {
    "duration": 20,
    "start_time": "2022-01-23T16:07:10.711Z"
   },
   {
    "duration": 1082,
    "start_time": "2022-01-23T16:07:23.924Z"
   },
   {
    "duration": 5,
    "start_time": "2022-01-23T16:09:10.736Z"
   },
   {
    "duration": 13,
    "start_time": "2022-01-23T16:09:11.175Z"
   },
   {
    "duration": 11,
    "start_time": "2022-01-23T16:09:11.893Z"
   },
   {
    "duration": 11,
    "start_time": "2022-01-23T16:09:43.921Z"
   },
   {
    "duration": 43,
    "start_time": "2022-01-23T16:12:38.633Z"
   },
   {
    "duration": 39,
    "start_time": "2022-01-23T16:12:49.914Z"
   },
   {
    "duration": 44,
    "start_time": "2022-01-23T16:12:57.863Z"
   },
   {
    "duration": 37,
    "start_time": "2022-01-23T16:13:35.104Z"
   },
   {
    "duration": 34,
    "start_time": "2022-01-23T16:13:46.533Z"
   },
   {
    "duration": 11,
    "start_time": "2022-01-23T16:13:55.206Z"
   },
   {
    "duration": 11,
    "start_time": "2022-01-23T16:14:12.018Z"
   },
   {
    "duration": 3,
    "start_time": "2022-01-23T16:15:18.129Z"
   },
   {
    "duration": 65,
    "start_time": "2022-01-23T16:15:18.553Z"
   },
   {
    "duration": 19,
    "start_time": "2022-01-23T16:15:19.461Z"
   },
   {
    "duration": 16,
    "start_time": "2022-01-23T16:15:20.061Z"
   },
   {
    "duration": 15,
    "start_time": "2022-01-23T16:15:25.325Z"
   },
   {
    "duration": 15,
    "start_time": "2022-01-23T16:15:29.680Z"
   },
   {
    "duration": 57,
    "start_time": "2022-01-23T16:15:34.590Z"
   },
   {
    "duration": 16,
    "start_time": "2022-01-23T16:15:35.149Z"
   },
   {
    "duration": 6,
    "start_time": "2022-01-23T16:15:38.807Z"
   },
   {
    "duration": 16,
    "start_time": "2022-01-23T16:15:39.959Z"
   },
   {
    "duration": 11,
    "start_time": "2022-01-23T16:15:43.891Z"
   },
   {
    "duration": 14,
    "start_time": "2022-01-23T16:15:53.499Z"
   },
   {
    "duration": 16,
    "start_time": "2022-01-23T16:16:00.889Z"
   },
   {
    "duration": 12,
    "start_time": "2022-01-23T16:16:07.839Z"
   },
   {
    "duration": 11,
    "start_time": "2022-01-23T16:16:23.031Z"
   },
   {
    "duration": 18,
    "start_time": "2022-01-23T16:16:28.503Z"
   },
   {
    "duration": 11,
    "start_time": "2022-01-23T16:16:29.087Z"
   },
   {
    "duration": 10,
    "start_time": "2022-01-23T16:16:29.868Z"
   },
   {
    "duration": 20,
    "start_time": "2022-01-23T16:16:32.067Z"
   },
   {
    "duration": 5,
    "start_time": "2022-01-23T16:16:34.919Z"
   },
   {
    "duration": 7,
    "start_time": "2022-01-23T16:16:36.186Z"
   },
   {
    "duration": 12,
    "start_time": "2022-01-23T16:16:36.711Z"
   },
   {
    "duration": 10,
    "start_time": "2022-01-23T16:16:37.564Z"
   },
   {
    "duration": 8,
    "start_time": "2022-01-23T16:16:42.634Z"
   },
   {
    "duration": 8,
    "start_time": "2022-01-23T16:16:43.210Z"
   },
   {
    "duration": 11,
    "start_time": "2022-01-23T16:16:43.696Z"
   },
   {
    "duration": 10,
    "start_time": "2022-01-23T16:16:45.194Z"
   },
   {
    "duration": 8,
    "start_time": "2022-01-23T16:16:51.233Z"
   },
   {
    "duration": 8,
    "start_time": "2022-01-23T16:16:51.831Z"
   },
   {
    "duration": 10,
    "start_time": "2022-01-23T16:16:52.845Z"
   },
   {
    "duration": 10,
    "start_time": "2022-01-23T16:16:53.850Z"
   },
   {
    "duration": 12,
    "start_time": "2022-01-23T16:16:54.243Z"
   },
   {
    "duration": 5,
    "start_time": "2022-01-23T16:16:55.949Z"
   },
   {
    "duration": 15,
    "start_time": "2022-01-23T16:16:56.565Z"
   },
   {
    "duration": 12,
    "start_time": "2022-01-23T16:16:57.193Z"
   },
   {
    "duration": 8,
    "start_time": "2022-01-23T16:16:57.749Z"
   },
   {
    "duration": 55,
    "start_time": "2022-01-23T16:17:08.048Z"
   },
   {
    "duration": 20,
    "start_time": "2022-01-23T16:17:08.848Z"
   },
   {
    "duration": 11,
    "start_time": "2022-01-23T16:17:12.413Z"
   },
   {
    "duration": 22,
    "start_time": "2022-01-23T16:17:14.375Z"
   },
   {
    "duration": 3,
    "start_time": "2022-01-23T16:17:14.628Z"
   },
   {
    "duration": 6,
    "start_time": "2022-01-23T16:17:14.964Z"
   },
   {
    "duration": 891,
    "start_time": "2022-01-23T16:17:15.220Z"
   },
   {
    "duration": 11,
    "start_time": "2022-01-23T16:17:16.114Z"
   },
   {
    "duration": 18,
    "start_time": "2022-01-23T16:17:16.764Z"
   },
   {
    "duration": 21,
    "start_time": "2022-01-23T16:17:17.296Z"
   },
   {
    "duration": 12,
    "start_time": "2022-01-23T16:17:17.849Z"
   },
   {
    "duration": 12,
    "start_time": "2022-01-23T16:17:19.415Z"
   },
   {
    "duration": 10,
    "start_time": "2022-01-23T16:17:20.929Z"
   },
   {
    "duration": 11,
    "start_time": "2022-01-23T16:17:22.429Z"
   },
   {
    "duration": 13,
    "start_time": "2022-01-23T16:17:23.922Z"
   },
   {
    "duration": 11,
    "start_time": "2022-01-23T16:17:24.493Z"
   },
   {
    "duration": 12,
    "start_time": "2022-01-23T16:17:25.468Z"
   },
   {
    "duration": 14,
    "start_time": "2022-01-23T16:17:25.776Z"
   },
   {
    "duration": 10,
    "start_time": "2022-01-23T16:17:26.109Z"
   },
   {
    "duration": 41,
    "start_time": "2022-01-23T16:17:29.207Z"
   },
   {
    "duration": 40,
    "start_time": "2022-01-23T16:17:30.795Z"
   },
   {
    "duration": 43,
    "start_time": "2022-01-23T16:17:33.592Z"
   },
   {
    "duration": 38,
    "start_time": "2022-01-23T16:17:37.109Z"
   },
   {
    "duration": 36,
    "start_time": "2022-01-23T16:17:42.944Z"
   },
   {
    "duration": 41,
    "start_time": "2022-01-23T16:17:51.494Z"
   },
   {
    "duration": 39,
    "start_time": "2022-01-23T16:17:53.769Z"
   },
   {
    "duration": 629,
    "start_time": "2022-01-30T06:53:59.384Z"
   },
   {
    "duration": 59,
    "start_time": "2022-01-30T06:54:00.016Z"
   },
   {
    "duration": 22,
    "start_time": "2022-01-30T06:54:00.078Z"
   },
   {
    "duration": 13,
    "start_time": "2022-01-30T06:54:00.107Z"
   },
   {
    "duration": 13,
    "start_time": "2022-01-30T06:54:00.122Z"
   },
   {
    "duration": 15,
    "start_time": "2022-01-30T06:54:00.138Z"
   },
   {
    "duration": 65,
    "start_time": "2022-01-30T06:54:00.155Z"
   },
   {
    "duration": 14,
    "start_time": "2022-01-30T06:54:00.222Z"
   },
   {
    "duration": 4,
    "start_time": "2022-01-30T06:54:00.240Z"
   },
   {
    "duration": 15,
    "start_time": "2022-01-30T06:54:00.246Z"
   },
   {
    "duration": 13,
    "start_time": "2022-01-30T06:54:00.263Z"
   },
   {
    "duration": 37,
    "start_time": "2022-01-30T06:54:00.278Z"
   },
   {
    "duration": 14,
    "start_time": "2022-01-30T06:54:00.317Z"
   },
   {
    "duration": 17,
    "start_time": "2022-01-30T06:54:00.333Z"
   },
   {
    "duration": 21,
    "start_time": "2022-01-30T06:54:00.352Z"
   },
   {
    "duration": 12,
    "start_time": "2022-01-30T06:54:00.375Z"
   },
   {
    "duration": 25,
    "start_time": "2022-01-30T06:54:00.389Z"
   },
   {
    "duration": 30,
    "start_time": "2022-01-30T06:54:00.416Z"
   },
   {
    "duration": 18,
    "start_time": "2022-01-30T06:54:00.447Z"
   },
   {
    "duration": 25,
    "start_time": "2022-01-30T06:54:00.467Z"
   },
   {
    "duration": 20,
    "start_time": "2022-01-30T06:54:00.494Z"
   },
   {
    "duration": 20,
    "start_time": "2022-01-30T06:54:00.516Z"
   },
   {
    "duration": 9,
    "start_time": "2022-01-30T06:54:00.538Z"
   },
   {
    "duration": 14,
    "start_time": "2022-01-30T06:54:00.549Z"
   },
   {
    "duration": 29,
    "start_time": "2022-01-30T06:54:00.565Z"
   },
   {
    "duration": 17,
    "start_time": "2022-01-30T06:54:00.596Z"
   },
   {
    "duration": 14,
    "start_time": "2022-01-30T06:54:00.617Z"
   },
   {
    "duration": 34,
    "start_time": "2022-01-30T06:54:00.634Z"
   },
   {
    "duration": 33,
    "start_time": "2022-01-30T06:54:00.670Z"
   },
   {
    "duration": 15,
    "start_time": "2022-01-30T06:54:00.705Z"
   },
   {
    "duration": 19,
    "start_time": "2022-01-30T06:54:00.722Z"
   },
   {
    "duration": 9,
    "start_time": "2022-01-30T06:54:00.743Z"
   },
   {
    "duration": 24,
    "start_time": "2022-01-30T06:54:00.754Z"
   },
   {
    "duration": 13,
    "start_time": "2022-01-30T06:54:00.780Z"
   },
   {
    "duration": 14,
    "start_time": "2022-01-30T06:54:00.795Z"
   },
   {
    "duration": 51,
    "start_time": "2022-01-30T06:54:00.811Z"
   },
   {
    "duration": 13,
    "start_time": "2022-01-30T06:54:00.864Z"
   },
   {
    "duration": 12,
    "start_time": "2022-01-30T06:54:00.879Z"
   },
   {
    "duration": 21,
    "start_time": "2022-01-30T06:54:00.893Z"
   },
   {
    "duration": 9,
    "start_time": "2022-01-30T06:54:00.916Z"
   },
   {
    "duration": 13,
    "start_time": "2022-01-30T06:54:00.927Z"
   },
   {
    "duration": 710,
    "start_time": "2022-01-30T06:54:00.942Z"
   },
   {
    "duration": 8,
    "start_time": "2022-01-30T06:54:01.654Z"
   },
   {
    "duration": 24,
    "start_time": "2022-01-30T06:54:01.664Z"
   },
   {
    "duration": 36,
    "start_time": "2022-01-30T06:54:01.691Z"
   },
   {
    "duration": 32,
    "start_time": "2022-01-30T06:54:01.730Z"
   },
   {
    "duration": 15,
    "start_time": "2022-01-30T06:54:01.764Z"
   },
   {
    "duration": 13,
    "start_time": "2022-01-30T06:54:01.781Z"
   },
   {
    "duration": 29,
    "start_time": "2022-01-30T06:54:01.796Z"
   },
   {
    "duration": 17,
    "start_time": "2022-01-30T06:54:01.827Z"
   },
   {
    "duration": 16,
    "start_time": "2022-01-30T06:54:01.846Z"
   },
   {
    "duration": 16,
    "start_time": "2022-01-30T06:54:01.864Z"
   },
   {
    "duration": 17,
    "start_time": "2022-01-30T06:54:01.883Z"
   },
   {
    "duration": 23,
    "start_time": "2022-01-30T06:54:01.902Z"
   },
   {
    "duration": 48,
    "start_time": "2022-01-30T06:54:01.928Z"
   },
   {
    "duration": 35,
    "start_time": "2022-01-30T06:54:01.979Z"
   },
   {
    "duration": 36,
    "start_time": "2022-01-30T06:54:02.016Z"
   },
   {
    "duration": 34,
    "start_time": "2022-01-30T06:54:02.055Z"
   },
   {
    "duration": 49,
    "start_time": "2022-01-30T06:54:02.091Z"
   },
   {
    "duration": 37,
    "start_time": "2022-01-30T06:54:02.142Z"
   },
   {
    "duration": 40,
    "start_time": "2022-01-30T06:54:02.181Z"
   },
   {
    "duration": 17,
    "start_time": "2022-01-30T06:55:06.587Z"
   },
   {
    "duration": 24,
    "start_time": "2022-01-30T06:57:41.296Z"
   },
   {
    "duration": 229,
    "start_time": "2022-01-31T08:37:26.401Z"
   },
   {
    "duration": 2213,
    "start_time": "2022-01-31T08:41:01.862Z"
   },
   {
    "duration": 47,
    "start_time": "2022-01-31T08:41:04.077Z"
   },
   {
    "duration": 19,
    "start_time": "2022-01-31T08:41:04.125Z"
   },
   {
    "duration": 12,
    "start_time": "2022-01-31T08:41:04.907Z"
   },
   {
    "duration": 32,
    "start_time": "2022-01-31T08:41:05.985Z"
   },
   {
    "duration": 4,
    "start_time": "2022-01-31T08:43:41.756Z"
   },
   {
    "duration": 657,
    "start_time": "2022-01-31T09:30:07.985Z"
   },
   {
    "duration": 46,
    "start_time": "2022-01-31T09:30:08.644Z"
   },
   {
    "duration": 17,
    "start_time": "2022-01-31T09:30:08.691Z"
   },
   {
    "duration": 10,
    "start_time": "2022-01-31T09:30:08.712Z"
   },
   {
    "duration": 30,
    "start_time": "2022-01-31T09:30:08.724Z"
   },
   {
    "duration": 8,
    "start_time": "2022-01-31T09:30:08.756Z"
   },
   {
    "duration": 9,
    "start_time": "2022-01-31T09:30:08.765Z"
   },
   {
    "duration": 73,
    "start_time": "2022-01-31T09:30:08.775Z"
   },
   {
    "duration": 11,
    "start_time": "2022-01-31T09:30:08.851Z"
   },
   {
    "duration": 6,
    "start_time": "2022-01-31T09:30:08.864Z"
   },
   {
    "duration": 260,
    "start_time": "2022-01-31T09:30:08.872Z"
   },
   {
    "duration": -5036,
    "start_time": "2022-01-31T09:30:14.172Z"
   },
   {
    "duration": -5041,
    "start_time": "2022-01-31T09:30:14.178Z"
   },
   {
    "duration": -5046,
    "start_time": "2022-01-31T09:30:14.183Z"
   },
   {
    "duration": -5049,
    "start_time": "2022-01-31T09:30:14.188Z"
   },
   {
    "duration": -5054,
    "start_time": "2022-01-31T09:30:14.193Z"
   },
   {
    "duration": -5057,
    "start_time": "2022-01-31T09:30:14.198Z"
   },
   {
    "duration": -5071,
    "start_time": "2022-01-31T09:30:14.213Z"
   },
   {
    "duration": -5076,
    "start_time": "2022-01-31T09:30:14.218Z"
   },
   {
    "duration": -5080,
    "start_time": "2022-01-31T09:30:14.223Z"
   },
   {
    "duration": -5086,
    "start_time": "2022-01-31T09:30:14.230Z"
   },
   {
    "duration": -5090,
    "start_time": "2022-01-31T09:30:14.235Z"
   },
   {
    "duration": -5094,
    "start_time": "2022-01-31T09:30:14.240Z"
   },
   {
    "duration": -5098,
    "start_time": "2022-01-31T09:30:14.245Z"
   },
   {
    "duration": -5101,
    "start_time": "2022-01-31T09:30:14.249Z"
   },
   {
    "duration": -5105,
    "start_time": "2022-01-31T09:30:14.254Z"
   },
   {
    "duration": -5109,
    "start_time": "2022-01-31T09:30:14.259Z"
   },
   {
    "duration": -5113,
    "start_time": "2022-01-31T09:30:14.264Z"
   },
   {
    "duration": -5117,
    "start_time": "2022-01-31T09:30:14.269Z"
   },
   {
    "duration": -5122,
    "start_time": "2022-01-31T09:30:14.275Z"
   },
   {
    "duration": -5125,
    "start_time": "2022-01-31T09:30:14.279Z"
   },
   {
    "duration": -5129,
    "start_time": "2022-01-31T09:30:14.284Z"
   },
   {
    "duration": -5133,
    "start_time": "2022-01-31T09:30:14.289Z"
   },
   {
    "duration": -5138,
    "start_time": "2022-01-31T09:30:14.295Z"
   },
   {
    "duration": -5141,
    "start_time": "2022-01-31T09:30:14.299Z"
   },
   {
    "duration": -5145,
    "start_time": "2022-01-31T09:30:14.304Z"
   },
   {
    "duration": -5158,
    "start_time": "2022-01-31T09:30:14.319Z"
   },
   {
    "duration": -5163,
    "start_time": "2022-01-31T09:30:14.324Z"
   },
   {
    "duration": -5167,
    "start_time": "2022-01-31T09:30:14.330Z"
   },
   {
    "duration": -5171,
    "start_time": "2022-01-31T09:30:14.335Z"
   },
   {
    "duration": -5175,
    "start_time": "2022-01-31T09:30:14.339Z"
   },
   {
    "duration": -5179,
    "start_time": "2022-01-31T09:30:14.344Z"
   },
   {
    "duration": -5183,
    "start_time": "2022-01-31T09:30:14.349Z"
   },
   {
    "duration": -5187,
    "start_time": "2022-01-31T09:30:14.354Z"
   },
   {
    "duration": -5190,
    "start_time": "2022-01-31T09:30:14.358Z"
   },
   {
    "duration": -5195,
    "start_time": "2022-01-31T09:30:14.364Z"
   },
   {
    "duration": -5198,
    "start_time": "2022-01-31T09:30:14.368Z"
   },
   {
    "duration": -5202,
    "start_time": "2022-01-31T09:30:14.373Z"
   },
   {
    "duration": -5206,
    "start_time": "2022-01-31T09:30:14.378Z"
   },
   {
    "duration": -5210,
    "start_time": "2022-01-31T09:30:14.383Z"
   },
   {
    "duration": -5213,
    "start_time": "2022-01-31T09:30:14.387Z"
   },
   {
    "duration": -5218,
    "start_time": "2022-01-31T09:30:14.392Z"
   },
   {
    "duration": -5222,
    "start_time": "2022-01-31T09:30:14.397Z"
   },
   {
    "duration": -5192,
    "start_time": "2022-01-31T09:30:14.403Z"
   },
   {
    "duration": -5195,
    "start_time": "2022-01-31T09:30:14.407Z"
   },
   {
    "duration": -5220,
    "start_time": "2022-01-31T09:30:14.433Z"
   },
   {
    "duration": -5227,
    "start_time": "2022-01-31T09:30:14.441Z"
   },
   {
    "duration": -5234,
    "start_time": "2022-01-31T09:30:14.449Z"
   },
   {
    "duration": -5238,
    "start_time": "2022-01-31T09:30:14.454Z"
   },
   {
    "duration": -5243,
    "start_time": "2022-01-31T09:30:14.459Z"
   },
   {
    "duration": -5246,
    "start_time": "2022-01-31T09:30:14.463Z"
   },
   {
    "duration": 4,
    "start_time": "2022-01-31T09:30:51.531Z"
   },
   {
    "duration": 273,
    "start_time": "2022-01-31T09:30:52.842Z"
   },
   {
    "duration": 4,
    "start_time": "2022-01-31T09:30:55.231Z"
   },
   {
    "duration": 197,
    "start_time": "2022-01-31T09:30:56.209Z"
   },
   {
    "duration": 8,
    "start_time": "2022-01-31T09:31:45.212Z"
   },
   {
    "duration": 11,
    "start_time": "2022-01-31T09:31:46.456Z"
   },
   {
    "duration": 6,
    "start_time": "2022-01-31T09:31:46.972Z"
   },
   {
    "duration": 571,
    "start_time": "2022-01-31T09:31:54.616Z"
   },
   {
    "duration": 47,
    "start_time": "2022-01-31T09:31:55.189Z"
   },
   {
    "duration": 18,
    "start_time": "2022-01-31T09:31:55.238Z"
   },
   {
    "duration": 12,
    "start_time": "2022-01-31T09:31:55.258Z"
   },
   {
    "duration": 45,
    "start_time": "2022-01-31T09:31:55.271Z"
   },
   {
    "duration": 9,
    "start_time": "2022-01-31T09:31:55.317Z"
   },
   {
    "duration": 9,
    "start_time": "2022-01-31T09:31:55.327Z"
   },
   {
    "duration": 39,
    "start_time": "2022-01-31T09:31:55.337Z"
   },
   {
    "duration": 34,
    "start_time": "2022-01-31T09:31:55.378Z"
   },
   {
    "duration": 4,
    "start_time": "2022-01-31T09:31:55.414Z"
   },
   {
    "duration": 16,
    "start_time": "2022-01-31T09:31:55.419Z"
   },
   {
    "duration": 8,
    "start_time": "2022-01-31T09:31:55.437Z"
   },
   {
    "duration": 11,
    "start_time": "2022-01-31T09:31:55.446Z"
   },
   {
    "duration": 7,
    "start_time": "2022-01-31T09:31:55.458Z"
   },
   {
    "duration": 8,
    "start_time": "2022-01-31T09:31:55.466Z"
   },
   {
    "duration": 40,
    "start_time": "2022-01-31T09:31:55.475Z"
   },
   {
    "duration": 13,
    "start_time": "2022-01-31T09:31:55.517Z"
   },
   {
    "duration": 8,
    "start_time": "2022-01-31T09:31:55.531Z"
   },
   {
    "duration": 9,
    "start_time": "2022-01-31T09:31:55.541Z"
   },
   {
    "duration": 12,
    "start_time": "2022-01-31T09:31:55.551Z"
   },
   {
    "duration": 6,
    "start_time": "2022-01-31T09:31:55.564Z"
   },
   {
    "duration": 5,
    "start_time": "2022-01-31T09:31:55.572Z"
   },
   {
    "duration": 37,
    "start_time": "2022-01-31T09:31:55.578Z"
   },
   {
    "duration": 6,
    "start_time": "2022-01-31T09:31:55.616Z"
   },
   {
    "duration": 7,
    "start_time": "2022-01-31T09:31:55.623Z"
   },
   {
    "duration": 5,
    "start_time": "2022-01-31T09:31:55.631Z"
   },
   {
    "duration": 5,
    "start_time": "2022-01-31T09:31:55.639Z"
   },
   {
    "duration": 7,
    "start_time": "2022-01-31T09:31:55.646Z"
   },
   {
    "duration": 7,
    "start_time": "2022-01-31T09:31:55.654Z"
   },
   {
    "duration": 9,
    "start_time": "2022-01-31T09:31:55.662Z"
   },
   {
    "duration": 41,
    "start_time": "2022-01-31T09:31:55.672Z"
   },
   {
    "duration": 247,
    "start_time": "2022-01-31T09:31:55.715Z"
   },
   {
    "duration": -4522,
    "start_time": "2022-01-31T09:32:00.486Z"
   },
   {
    "duration": -4527,
    "start_time": "2022-01-31T09:32:00.491Z"
   },
   {
    "duration": -4530,
    "start_time": "2022-01-31T09:32:00.495Z"
   },
   {
    "duration": -4550,
    "start_time": "2022-01-31T09:32:00.516Z"
   },
   {
    "duration": -4557,
    "start_time": "2022-01-31T09:32:00.524Z"
   },
   {
    "duration": -4562,
    "start_time": "2022-01-31T09:32:00.530Z"
   },
   {
    "duration": -4566,
    "start_time": "2022-01-31T09:32:00.535Z"
   },
   {
    "duration": -4570,
    "start_time": "2022-01-31T09:32:00.539Z"
   },
   {
    "duration": -4574,
    "start_time": "2022-01-31T09:32:00.544Z"
   },
   {
    "duration": -4577,
    "start_time": "2022-01-31T09:32:00.548Z"
   },
   {
    "duration": -4581,
    "start_time": "2022-01-31T09:32:00.553Z"
   },
   {
    "duration": -4584,
    "start_time": "2022-01-31T09:32:00.557Z"
   },
   {
    "duration": -4589,
    "start_time": "2022-01-31T09:32:00.562Z"
   },
   {
    "duration": -4592,
    "start_time": "2022-01-31T09:32:00.566Z"
   },
   {
    "duration": -4595,
    "start_time": "2022-01-31T09:32:00.570Z"
   },
   {
    "duration": -4598,
    "start_time": "2022-01-31T09:32:00.574Z"
   },
   {
    "duration": -4602,
    "start_time": "2022-01-31T09:32:00.579Z"
   },
   {
    "duration": -4605,
    "start_time": "2022-01-31T09:32:00.583Z"
   },
   {
    "duration": -4609,
    "start_time": "2022-01-31T09:32:00.588Z"
   },
   {
    "duration": -4615,
    "start_time": "2022-01-31T09:32:00.595Z"
   },
   {
    "duration": -4619,
    "start_time": "2022-01-31T09:32:00.600Z"
   },
   {
    "duration": -4622,
    "start_time": "2022-01-31T09:32:00.604Z"
   },
   {
    "duration": -4625,
    "start_time": "2022-01-31T09:32:00.608Z"
   },
   {
    "duration": -4629,
    "start_time": "2022-01-31T09:32:00.613Z"
   },
   {
    "duration": -4643,
    "start_time": "2022-01-31T09:32:00.628Z"
   },
   {
    "duration": -4645,
    "start_time": "2022-01-31T09:32:00.632Z"
   },
   {
    "duration": -4646,
    "start_time": "2022-01-31T09:32:00.636Z"
   },
   {
    "duration": -4651,
    "start_time": "2022-01-31T09:32:00.642Z"
   },
   {
    "duration": 3,
    "start_time": "2022-01-31T09:39:33.600Z"
   },
   {
    "duration": 9,
    "start_time": "2022-01-31T09:39:36.416Z"
   },
   {
    "duration": 6,
    "start_time": "2022-01-31T09:39:47.084Z"
   },
   {
    "duration": 40,
    "start_time": "2022-01-31T09:39:53.294Z"
   },
   {
    "duration": 13,
    "start_time": "2022-01-31T09:39:53.824Z"
   },
   {
    "duration": 7,
    "start_time": "2022-01-31T09:40:02.247Z"
   },
   {
    "duration": 5,
    "start_time": "2022-01-31T09:40:08.026Z"
   },
   {
    "duration": 2,
    "start_time": "2022-01-31T09:40:08.454Z"
   },
   {
    "duration": 4,
    "start_time": "2022-01-31T09:40:08.835Z"
   },
   {
    "duration": 653,
    "start_time": "2022-01-31T09:40:09.064Z"
   },
   {
    "duration": 6,
    "start_time": "2022-01-31T09:40:09.719Z"
   },
   {
    "duration": 13,
    "start_time": "2022-01-31T09:40:09.892Z"
   },
   {
    "duration": 16,
    "start_time": "2022-01-31T09:40:10.813Z"
   },
   {
    "duration": 8,
    "start_time": "2022-01-31T09:40:11.681Z"
   },
   {
    "duration": 9,
    "start_time": "2022-01-31T09:40:19.342Z"
   },
   {
    "duration": 7,
    "start_time": "2022-01-31T09:40:21.388Z"
   },
   {
    "duration": 7,
    "start_time": "2022-01-31T09:40:26.508Z"
   },
   {
    "duration": 8,
    "start_time": "2022-01-31T09:40:28.037Z"
   },
   {
    "duration": 8,
    "start_time": "2022-01-31T09:40:28.544Z"
   },
   {
    "duration": 8,
    "start_time": "2022-01-31T09:40:34.176Z"
   },
   {
    "duration": 9,
    "start_time": "2022-01-31T09:40:37.789Z"
   },
   {
    "duration": 8,
    "start_time": "2022-01-31T09:40:40.121Z"
   },
   {
    "duration": 31,
    "start_time": "2022-01-31T09:40:49.691Z"
   },
   {
    "duration": 26,
    "start_time": "2022-01-31T09:40:53.191Z"
   },
   {
    "duration": 23,
    "start_time": "2022-01-31T09:41:00.517Z"
   },
   {
    "duration": 23,
    "start_time": "2022-01-31T09:41:35.636Z"
   },
   {
    "duration": 23,
    "start_time": "2022-01-31T09:41:41.605Z"
   },
   {
    "duration": 26,
    "start_time": "2022-01-31T09:41:48.763Z"
   },
   {
    "duration": 23,
    "start_time": "2022-01-31T09:41:54.700Z"
   },
   {
    "duration": 3,
    "start_time": "2022-01-31T09:42:59.843Z"
   },
   {
    "duration": 8,
    "start_time": "2022-01-31T09:43:04.566Z"
   },
   {
    "duration": 4,
    "start_time": "2022-01-31T09:43:05.333Z"
   },
   {
    "duration": 8,
    "start_time": "2022-01-31T09:43:09.945Z"
   },
   {
    "duration": 5,
    "start_time": "2022-01-31T09:45:10.292Z"
   },
   {
    "duration": 27,
    "start_time": "2022-01-31T09:46:13.357Z"
   },
   {
    "duration": 6,
    "start_time": "2022-01-31T09:46:29.194Z"
   },
   {
    "duration": 21,
    "start_time": "2022-01-31T09:47:00.960Z"
   },
   {
    "duration": 7,
    "start_time": "2022-01-31T09:47:13.704Z"
   },
   {
    "duration": 6,
    "start_time": "2022-01-31T09:47:18.888Z"
   },
   {
    "duration": 5,
    "start_time": "2022-01-31T09:47:19.263Z"
   },
   {
    "duration": 7,
    "start_time": "2022-01-31T09:47:31.105Z"
   },
   {
    "duration": 8,
    "start_time": "2022-01-31T09:47:39.202Z"
   },
   {
    "duration": 5,
    "start_time": "2022-01-31T09:48:58.528Z"
   },
   {
    "duration": 5,
    "start_time": "2022-01-31T09:48:58.925Z"
   },
   {
    "duration": 7,
    "start_time": "2022-01-31T09:49:02.904Z"
   },
   {
    "duration": 6,
    "start_time": "2022-01-31T09:49:03.930Z"
   },
   {
    "duration": 5,
    "start_time": "2022-01-31T09:49:04.479Z"
   },
   {
    "duration": 10,
    "start_time": "2022-01-31T09:50:05.745Z"
   },
   {
    "duration": 609,
    "start_time": "2022-01-31T09:50:17.286Z"
   },
   {
    "duration": 49,
    "start_time": "2022-01-31T09:50:17.897Z"
   },
   {
    "duration": 19,
    "start_time": "2022-01-31T09:50:17.948Z"
   },
   {
    "duration": 12,
    "start_time": "2022-01-31T09:50:17.969Z"
   },
   {
    "duration": 60,
    "start_time": "2022-01-31T09:50:17.982Z"
   },
   {
    "duration": 10,
    "start_time": "2022-01-31T09:50:18.044Z"
   },
   {
    "duration": 9,
    "start_time": "2022-01-31T09:50:18.056Z"
   },
   {
    "duration": 65,
    "start_time": "2022-01-31T09:50:18.067Z"
   },
   {
    "duration": 10,
    "start_time": "2022-01-31T09:50:18.135Z"
   },
   {
    "duration": 3,
    "start_time": "2022-01-31T09:50:18.148Z"
   },
   {
    "duration": 13,
    "start_time": "2022-01-31T09:50:18.153Z"
   },
   {
    "duration": 8,
    "start_time": "2022-01-31T09:50:18.168Z"
   },
   {
    "duration": 41,
    "start_time": "2022-01-31T09:50:18.178Z"
   },
   {
    "duration": 7,
    "start_time": "2022-01-31T09:50:18.221Z"
   },
   {
    "duration": 9,
    "start_time": "2022-01-31T09:50:18.230Z"
   },
   {
    "duration": 8,
    "start_time": "2022-01-31T09:50:18.241Z"
   },
   {
    "duration": 15,
    "start_time": "2022-01-31T09:50:18.251Z"
   },
   {
    "duration": 9,
    "start_time": "2022-01-31T09:50:18.268Z"
   },
   {
    "duration": 7,
    "start_time": "2022-01-31T09:50:18.313Z"
   },
   {
    "duration": 17,
    "start_time": "2022-01-31T09:50:18.322Z"
   },
   {
    "duration": 8,
    "start_time": "2022-01-31T09:50:18.341Z"
   },
   {
    "duration": 12,
    "start_time": "2022-01-31T09:50:18.351Z"
   },
   {
    "duration": 10,
    "start_time": "2022-01-31T09:50:18.365Z"
   },
   {
    "duration": 7,
    "start_time": "2022-01-31T09:50:18.376Z"
   },
   {
    "duration": 28,
    "start_time": "2022-01-31T09:50:18.385Z"
   },
   {
    "duration": 10,
    "start_time": "2022-01-31T09:50:18.415Z"
   },
   {
    "duration": 6,
    "start_time": "2022-01-31T09:50:18.428Z"
   },
   {
    "duration": 7,
    "start_time": "2022-01-31T09:50:18.436Z"
   },
   {
    "duration": 7,
    "start_time": "2022-01-31T09:50:18.445Z"
   },
   {
    "duration": 14,
    "start_time": "2022-01-31T09:50:18.454Z"
   },
   {
    "duration": 4,
    "start_time": "2022-01-31T09:50:18.469Z"
   },
   {
    "duration": 10,
    "start_time": "2022-01-31T09:50:18.475Z"
   },
   {
    "duration": 6,
    "start_time": "2022-01-31T09:50:18.512Z"
   },
   {
    "duration": 43,
    "start_time": "2022-01-31T09:50:18.520Z"
   },
   {
    "duration": 12,
    "start_time": "2022-01-31T09:50:18.565Z"
   },
   {
    "duration": 8,
    "start_time": "2022-01-31T09:50:18.579Z"
   },
   {
    "duration": 23,
    "start_time": "2022-01-31T09:50:18.589Z"
   },
   {
    "duration": 2,
    "start_time": "2022-01-31T09:50:18.614Z"
   },
   {
    "duration": 7,
    "start_time": "2022-01-31T09:50:18.618Z"
   },
   {
    "duration": 677,
    "start_time": "2022-01-31T09:50:18.626Z"
   },
   {
    "duration": 15,
    "start_time": "2022-01-31T09:50:19.305Z"
   },
   {
    "duration": 19,
    "start_time": "2022-01-31T09:50:19.322Z"
   },
   {
    "duration": 17,
    "start_time": "2022-01-31T09:50:19.343Z"
   },
   {
    "duration": 8,
    "start_time": "2022-01-31T09:50:19.362Z"
   },
   {
    "duration": 9,
    "start_time": "2022-01-31T09:50:19.372Z"
   },
   {
    "duration": 6,
    "start_time": "2022-01-31T09:50:19.412Z"
   },
   {
    "duration": 7,
    "start_time": "2022-01-31T09:50:19.420Z"
   },
   {
    "duration": 7,
    "start_time": "2022-01-31T09:50:19.429Z"
   },
   {
    "duration": 8,
    "start_time": "2022-01-31T09:50:19.438Z"
   },
   {
    "duration": 7,
    "start_time": "2022-01-31T09:50:19.448Z"
   },
   {
    "duration": 8,
    "start_time": "2022-01-31T09:50:19.457Z"
   },
   {
    "duration": 49,
    "start_time": "2022-01-31T09:50:19.467Z"
   },
   {
    "duration": 30,
    "start_time": "2022-01-31T09:50:19.518Z"
   },
   {
    "duration": 25,
    "start_time": "2022-01-31T09:50:19.550Z"
   },
   {
    "duration": 56,
    "start_time": "2022-01-31T09:50:19.577Z"
   },
   {
    "duration": 23,
    "start_time": "2022-01-31T09:50:19.635Z"
   },
   {
    "duration": 24,
    "start_time": "2022-01-31T09:50:19.659Z"
   },
   {
    "duration": 49,
    "start_time": "2022-01-31T09:50:19.685Z"
   },
   {
    "duration": 22,
    "start_time": "2022-01-31T09:50:19.735Z"
   },
   {
    "duration": 20,
    "start_time": "2022-01-31T09:57:46.190Z"
   },
   {
    "duration": 5,
    "start_time": "2022-01-31T09:59:32.629Z"
   },
   {
    "duration": 5,
    "start_time": "2022-01-31T10:00:36.091Z"
   },
   {
    "duration": 5,
    "start_time": "2022-01-31T10:00:45.702Z"
   },
   {
    "duration": 6,
    "start_time": "2022-01-31T10:00:46.142Z"
   },
   {
    "duration": 8,
    "start_time": "2022-01-31T10:01:01.924Z"
   },
   {
    "duration": 39,
    "start_time": "2022-01-31T10:11:08.538Z"
   },
   {
    "duration": 6,
    "start_time": "2022-01-31T10:14:48.924Z"
   },
   {
    "duration": 40,
    "start_time": "2022-01-31T10:14:53.014Z"
   },
   {
    "duration": 255,
    "start_time": "2022-01-31T10:15:42.819Z"
   },
   {
    "duration": 6,
    "start_time": "2022-01-31T10:15:43.521Z"
   },
   {
    "duration": 6,
    "start_time": "2022-01-31T10:15:51.252Z"
   },
   {
    "duration": 231,
    "start_time": "2022-01-31T10:15:52.384Z"
   },
   {
    "duration": 5,
    "start_time": "2022-01-31T10:15:59.906Z"
   },
   {
    "duration": 5,
    "start_time": "2022-01-31T10:16:04.965Z"
   },
   {
    "duration": 5,
    "start_time": "2022-01-31T10:16:58.677Z"
   },
   {
    "duration": 6,
    "start_time": "2022-01-31T10:16:59.228Z"
   },
   {
    "duration": 6,
    "start_time": "2022-01-31T10:18:05.770Z"
   },
   {
    "duration": 7,
    "start_time": "2022-01-31T10:18:07.446Z"
   },
   {
    "duration": 5,
    "start_time": "2022-01-31T10:18:58.158Z"
   },
   {
    "duration": 8,
    "start_time": "2022-01-31T10:18:58.404Z"
   },
   {
    "duration": 1335,
    "start_time": "2022-01-31T10:19:59.648Z"
   },
   {
    "duration": 49,
    "start_time": "2022-01-31T10:20:00.986Z"
   },
   {
    "duration": 18,
    "start_time": "2022-01-31T10:20:01.037Z"
   },
   {
    "duration": 10,
    "start_time": "2022-01-31T10:20:01.057Z"
   },
   {
    "duration": 49,
    "start_time": "2022-01-31T10:20:01.069Z"
   },
   {
    "duration": 9,
    "start_time": "2022-01-31T10:20:01.120Z"
   },
   {
    "duration": 14,
    "start_time": "2022-01-31T10:20:01.130Z"
   },
   {
    "duration": 43,
    "start_time": "2022-01-31T10:20:01.145Z"
   },
   {
    "duration": 21,
    "start_time": "2022-01-31T10:20:01.191Z"
   },
   {
    "duration": 4,
    "start_time": "2022-01-31T10:20:01.214Z"
   },
   {
    "duration": 14,
    "start_time": "2022-01-31T10:20:01.219Z"
   },
   {
    "duration": 7,
    "start_time": "2022-01-31T10:20:01.235Z"
   },
   {
    "duration": 14,
    "start_time": "2022-01-31T10:20:01.244Z"
   },
   {
    "duration": 6,
    "start_time": "2022-01-31T10:20:01.259Z"
   },
   {
    "duration": 13,
    "start_time": "2022-01-31T10:20:01.266Z"
   },
   {
    "duration": 40,
    "start_time": "2022-01-31T10:20:01.281Z"
   },
   {
    "duration": 6,
    "start_time": "2022-01-31T10:20:01.323Z"
   },
   {
    "duration": 8,
    "start_time": "2022-01-31T10:20:01.331Z"
   },
   {
    "duration": 8,
    "start_time": "2022-01-31T10:20:01.341Z"
   },
   {
    "duration": 14,
    "start_time": "2022-01-31T10:20:01.350Z"
   },
   {
    "duration": 9,
    "start_time": "2022-01-31T10:20:01.366Z"
   },
   {
    "duration": 37,
    "start_time": "2022-01-31T10:20:01.377Z"
   },
   {
    "duration": 13,
    "start_time": "2022-01-31T10:20:01.416Z"
   },
   {
    "duration": 8,
    "start_time": "2022-01-31T10:20:01.431Z"
   },
   {
    "duration": 8,
    "start_time": "2022-01-31T10:20:01.440Z"
   },
   {
    "duration": 10,
    "start_time": "2022-01-31T10:20:01.449Z"
   },
   {
    "duration": 5,
    "start_time": "2022-01-31T10:20:01.463Z"
   },
   {
    "duration": 8,
    "start_time": "2022-01-31T10:20:01.470Z"
   },
   {
    "duration": 35,
    "start_time": "2022-01-31T10:20:01.480Z"
   },
   {
    "duration": 8,
    "start_time": "2022-01-31T10:20:01.517Z"
   },
   {
    "duration": 9,
    "start_time": "2022-01-31T10:20:01.527Z"
   },
   {
    "duration": 8,
    "start_time": "2022-01-31T10:20:01.537Z"
   },
   {
    "duration": 10,
    "start_time": "2022-01-31T10:20:01.546Z"
   },
   {
    "duration": 3,
    "start_time": "2022-01-31T10:20:01.558Z"
   },
   {
    "duration": 8,
    "start_time": "2022-01-31T10:20:01.563Z"
   },
   {
    "duration": 4,
    "start_time": "2022-01-31T10:20:01.573Z"
   },
   {
    "duration": 66,
    "start_time": "2022-01-31T10:20:01.579Z"
   },
   {
    "duration": 11,
    "start_time": "2022-01-31T10:20:01.647Z"
   },
   {
    "duration": 14,
    "start_time": "2022-01-31T10:20:01.659Z"
   },
   {
    "duration": 16,
    "start_time": "2022-01-31T10:20:01.674Z"
   },
   {
    "duration": 8,
    "start_time": "2022-01-31T10:20:01.692Z"
   },
   {
    "duration": 11,
    "start_time": "2022-01-31T10:20:01.701Z"
   },
   {
    "duration": 666,
    "start_time": "2022-01-31T10:20:01.713Z"
   },
   {
    "duration": 7,
    "start_time": "2022-01-31T10:20:02.383Z"
   },
   {
    "duration": 21,
    "start_time": "2022-01-31T10:20:02.391Z"
   },
   {
    "duration": 15,
    "start_time": "2022-01-31T10:20:02.413Z"
   },
   {
    "duration": 21,
    "start_time": "2022-01-31T10:20:02.429Z"
   },
   {
    "duration": 20,
    "start_time": "2022-01-31T10:20:02.451Z"
   },
   {
    "duration": 18,
    "start_time": "2022-01-31T10:20:02.472Z"
   },
   {
    "duration": 8,
    "start_time": "2022-01-31T10:20:02.491Z"
   },
   {
    "duration": 12,
    "start_time": "2022-01-31T10:20:02.500Z"
   },
   {
    "duration": 27,
    "start_time": "2022-01-31T10:20:02.514Z"
   },
   {
    "duration": 11,
    "start_time": "2022-01-31T10:20:02.543Z"
   },
   {
    "duration": 11,
    "start_time": "2022-01-31T10:20:02.555Z"
   },
   {
    "duration": 23,
    "start_time": "2022-01-31T10:20:02.567Z"
   },
   {
    "duration": 32,
    "start_time": "2022-01-31T10:20:02.591Z"
   },
   {
    "duration": 25,
    "start_time": "2022-01-31T10:20:02.624Z"
   },
   {
    "duration": 22,
    "start_time": "2022-01-31T10:20:02.651Z"
   },
   {
    "duration": 41,
    "start_time": "2022-01-31T10:20:02.674Z"
   },
   {
    "duration": 22,
    "start_time": "2022-01-31T10:20:02.716Z"
   },
   {
    "duration": 21,
    "start_time": "2022-01-31T10:20:02.740Z"
   },
   {
    "duration": 21,
    "start_time": "2022-01-31T10:20:02.762Z"
   },
   {
    "duration": 7,
    "start_time": "2022-01-31T10:20:50.480Z"
   },
   {
    "duration": 7,
    "start_time": "2022-01-31T10:21:39.176Z"
   },
   {
    "duration": 73,
    "start_time": "2022-01-31T10:21:39.868Z"
   },
   {
    "duration": 7,
    "start_time": "2022-01-31T10:22:13.055Z"
   },
   {
    "duration": 521,
    "start_time": "2022-01-31T10:24:42.560Z"
   },
   {
    "duration": 47,
    "start_time": "2022-01-31T10:24:43.083Z"
   },
   {
    "duration": 18,
    "start_time": "2022-01-31T10:24:43.132Z"
   },
   {
    "duration": 11,
    "start_time": "2022-01-31T10:24:43.152Z"
   },
   {
    "duration": 51,
    "start_time": "2022-01-31T10:24:43.164Z"
   },
   {
    "duration": 8,
    "start_time": "2022-01-31T10:24:43.216Z"
   },
   {
    "duration": 10,
    "start_time": "2022-01-31T10:24:43.226Z"
   },
   {
    "duration": 39,
    "start_time": "2022-01-31T10:24:43.238Z"
   },
   {
    "duration": 10,
    "start_time": "2022-01-31T10:24:43.280Z"
   },
   {
    "duration": 4,
    "start_time": "2022-01-31T10:24:43.312Z"
   },
   {
    "duration": 13,
    "start_time": "2022-01-31T10:24:43.317Z"
   },
   {
    "duration": 8,
    "start_time": "2022-01-31T10:24:43.331Z"
   },
   {
    "duration": 12,
    "start_time": "2022-01-31T10:24:43.341Z"
   },
   {
    "duration": 6,
    "start_time": "2022-01-31T10:24:43.355Z"
   },
   {
    "duration": 8,
    "start_time": "2022-01-31T10:24:43.362Z"
   },
   {
    "duration": 42,
    "start_time": "2022-01-31T10:24:43.372Z"
   },
   {
    "duration": 6,
    "start_time": "2022-01-31T10:24:43.415Z"
   },
   {
    "duration": 12,
    "start_time": "2022-01-31T10:24:43.423Z"
   },
   {
    "duration": 11,
    "start_time": "2022-01-31T10:24:43.436Z"
   },
   {
    "duration": 8,
    "start_time": "2022-01-31T10:24:43.449Z"
   },
   {
    "duration": 13,
    "start_time": "2022-01-31T10:24:43.459Z"
   },
   {
    "duration": 6,
    "start_time": "2022-01-31T10:24:43.473Z"
   },
   {
    "duration": 32,
    "start_time": "2022-01-31T10:24:43.480Z"
   },
   {
    "duration": 7,
    "start_time": "2022-01-31T10:24:43.514Z"
   },
   {
    "duration": 8,
    "start_time": "2022-01-31T10:24:43.523Z"
   },
   {
    "duration": 6,
    "start_time": "2022-01-31T10:24:43.532Z"
   },
   {
    "duration": 5,
    "start_time": "2022-01-31T10:24:43.542Z"
   },
   {
    "duration": 4,
    "start_time": "2022-01-31T10:24:43.549Z"
   },
   {
    "duration": 6,
    "start_time": "2022-01-31T10:24:43.554Z"
   },
   {
    "duration": 7,
    "start_time": "2022-01-31T10:24:43.562Z"
   },
   {
    "duration": 44,
    "start_time": "2022-01-31T10:24:43.570Z"
   },
   {
    "duration": 3,
    "start_time": "2022-01-31T10:24:43.615Z"
   },
   {
    "duration": 9,
    "start_time": "2022-01-31T10:24:43.620Z"
   },
   {
    "duration": 5,
    "start_time": "2022-01-31T10:24:43.630Z"
   },
   {
    "duration": 41,
    "start_time": "2022-01-31T10:24:43.637Z"
   },
   {
    "duration": 39,
    "start_time": "2022-01-31T10:24:43.679Z"
   },
   {
    "duration": 11,
    "start_time": "2022-01-31T10:24:43.720Z"
   },
   {
    "duration": 6,
    "start_time": "2022-01-31T10:24:43.733Z"
   },
   {
    "duration": 3,
    "start_time": "2022-01-31T10:24:43.740Z"
   },
   {
    "duration": 6,
    "start_time": "2022-01-31T10:24:43.744Z"
   },
   {
    "duration": 668,
    "start_time": "2022-01-31T10:24:43.752Z"
   },
   {
    "duration": 7,
    "start_time": "2022-01-31T10:24:44.422Z"
   },
   {
    "duration": 13,
    "start_time": "2022-01-31T10:24:44.431Z"
   },
   {
    "duration": 15,
    "start_time": "2022-01-31T10:24:44.446Z"
   },
   {
    "duration": 9,
    "start_time": "2022-01-31T10:24:44.462Z"
   },
   {
    "duration": 45,
    "start_time": "2022-01-31T10:24:44.473Z"
   },
   {
    "duration": 6,
    "start_time": "2022-01-31T10:24:44.520Z"
   },
   {
    "duration": 8,
    "start_time": "2022-01-31T10:24:44.528Z"
   },
   {
    "duration": 8,
    "start_time": "2022-01-31T10:24:44.538Z"
   },
   {
    "duration": 7,
    "start_time": "2022-01-31T10:24:44.548Z"
   },
   {
    "duration": 8,
    "start_time": "2022-01-31T10:24:44.557Z"
   },
   {
    "duration": 50,
    "start_time": "2022-01-31T10:24:44.567Z"
   },
   {
    "duration": 9,
    "start_time": "2022-01-31T10:24:44.619Z"
   },
   {
    "duration": 31,
    "start_time": "2022-01-31T10:24:44.629Z"
   },
   {
    "duration": 27,
    "start_time": "2022-01-31T10:24:44.662Z"
   },
   {
    "duration": 23,
    "start_time": "2022-01-31T10:24:44.713Z"
   },
   {
    "duration": 23,
    "start_time": "2022-01-31T10:24:44.738Z"
   },
   {
    "duration": 22,
    "start_time": "2022-01-31T10:24:44.762Z"
   },
   {
    "duration": 49,
    "start_time": "2022-01-31T10:24:44.786Z"
   },
   {
    "duration": 22,
    "start_time": "2022-01-31T10:24:44.837Z"
   },
   {
    "duration": 1512,
    "start_time": "2022-01-31T10:34:26.235Z"
   },
   {
    "duration": 5,
    "start_time": "2022-01-31T10:34:27.749Z"
   },
   {
    "duration": 532,
    "start_time": "2022-01-31T10:35:04.157Z"
   },
   {
    "duration": 48,
    "start_time": "2022-01-31T10:35:04.691Z"
   },
   {
    "duration": 18,
    "start_time": "2022-01-31T10:35:04.741Z"
   },
   {
    "duration": 13,
    "start_time": "2022-01-31T10:35:04.761Z"
   },
   {
    "duration": 46,
    "start_time": "2022-01-31T10:35:04.776Z"
   },
   {
    "duration": 8,
    "start_time": "2022-01-31T10:35:04.824Z"
   },
   {
    "duration": 10,
    "start_time": "2022-01-31T10:35:04.834Z"
   },
   {
    "duration": 38,
    "start_time": "2022-01-31T10:35:04.845Z"
   },
   {
    "duration": 30,
    "start_time": "2022-01-31T10:35:04.886Z"
   },
   {
    "duration": 4,
    "start_time": "2022-01-31T10:35:04.918Z"
   },
   {
    "duration": 12,
    "start_time": "2022-01-31T10:35:04.923Z"
   },
   {
    "duration": 8,
    "start_time": "2022-01-31T10:35:04.936Z"
   },
   {
    "duration": 12,
    "start_time": "2022-01-31T10:35:04.945Z"
   },
   {
    "duration": 8,
    "start_time": "2022-01-31T10:35:04.958Z"
   },
   {
    "duration": 991,
    "start_time": "2022-01-31T10:35:04.968Z"
   },
   {
    "duration": 7,
    "start_time": "2022-01-31T10:35:05.961Z"
   },
   {
    "duration": 12,
    "start_time": "2022-01-31T10:35:05.970Z"
   },
   {
    "duration": 8,
    "start_time": "2022-01-31T10:35:05.984Z"
   },
   {
    "duration": 22,
    "start_time": "2022-01-31T10:35:05.994Z"
   },
   {
    "duration": 15,
    "start_time": "2022-01-31T10:35:06.017Z"
   },
   {
    "duration": 13,
    "start_time": "2022-01-31T10:35:06.033Z"
   },
   {
    "duration": 12,
    "start_time": "2022-01-31T10:35:06.048Z"
   },
   {
    "duration": 8,
    "start_time": "2022-01-31T10:35:06.061Z"
   },
   {
    "duration": 5,
    "start_time": "2022-01-31T10:35:06.071Z"
   },
   {
    "duration": 8,
    "start_time": "2022-01-31T10:35:06.078Z"
   },
   {
    "duration": 9,
    "start_time": "2022-01-31T10:35:06.088Z"
   },
   {
    "duration": 19,
    "start_time": "2022-01-31T10:35:06.101Z"
   },
   {
    "duration": 6,
    "start_time": "2022-01-31T10:35:06.122Z"
   },
   {
    "duration": 6,
    "start_time": "2022-01-31T10:35:06.130Z"
   },
   {
    "duration": 9,
    "start_time": "2022-01-31T10:35:06.138Z"
   },
   {
    "duration": 11,
    "start_time": "2022-01-31T10:35:06.149Z"
   },
   {
    "duration": 10,
    "start_time": "2022-01-31T10:35:06.162Z"
   },
   {
    "duration": 7,
    "start_time": "2022-01-31T10:35:06.173Z"
   },
   {
    "duration": 7,
    "start_time": "2022-01-31T10:35:06.182Z"
   },
   {
    "duration": 23,
    "start_time": "2022-01-31T10:35:06.190Z"
   },
   {
    "duration": 9,
    "start_time": "2022-01-31T10:35:06.215Z"
   },
   {
    "duration": 13,
    "start_time": "2022-01-31T10:35:06.225Z"
   },
   {
    "duration": 7,
    "start_time": "2022-01-31T10:35:06.240Z"
   },
   {
    "duration": 5,
    "start_time": "2022-01-31T10:35:06.249Z"
   },
   {
    "duration": 3,
    "start_time": "2022-01-31T10:35:06.255Z"
   },
   {
    "duration": 6,
    "start_time": "2022-01-31T10:35:06.259Z"
   },
   {
    "duration": 722,
    "start_time": "2022-01-31T10:35:06.266Z"
   },
   {
    "duration": 4,
    "start_time": "2022-01-31T10:35:06.990Z"
   },
   {
    "duration": 16,
    "start_time": "2022-01-31T10:35:06.996Z"
   },
   {
    "duration": 17,
    "start_time": "2022-01-31T10:35:07.014Z"
   },
   {
    "duration": 7,
    "start_time": "2022-01-31T10:35:07.032Z"
   },
   {
    "duration": 6,
    "start_time": "2022-01-31T10:35:07.041Z"
   },
   {
    "duration": 6,
    "start_time": "2022-01-31T10:35:07.049Z"
   },
   {
    "duration": 6,
    "start_time": "2022-01-31T10:35:07.057Z"
   },
   {
    "duration": 5,
    "start_time": "2022-01-31T10:35:07.065Z"
   },
   {
    "duration": 7,
    "start_time": "2022-01-31T10:35:07.072Z"
   },
   {
    "duration": 33,
    "start_time": "2022-01-31T10:35:07.081Z"
   },
   {
    "duration": 5,
    "start_time": "2022-01-31T10:35:07.115Z"
   },
   {
    "duration": 8,
    "start_time": "2022-01-31T10:35:07.121Z"
   },
   {
    "duration": 29,
    "start_time": "2022-01-31T10:35:07.130Z"
   },
   {
    "duration": 20,
    "start_time": "2022-01-31T10:35:07.160Z"
   },
   {
    "duration": 51,
    "start_time": "2022-01-31T10:35:07.182Z"
   },
   {
    "duration": 21,
    "start_time": "2022-01-31T10:35:07.234Z"
   },
   {
    "duration": 21,
    "start_time": "2022-01-31T10:35:07.257Z"
   },
   {
    "duration": 44,
    "start_time": "2022-01-31T10:35:07.280Z"
   },
   {
    "duration": 24,
    "start_time": "2022-01-31T10:35:07.326Z"
   },
   {
    "duration": 18,
    "start_time": "2022-01-31T10:36:28.277Z"
   },
   {
    "duration": 21,
    "start_time": "2022-01-31T10:38:54.438Z"
   },
   {
    "duration": 6,
    "start_time": "2022-01-31T10:39:18.186Z"
   },
   {
    "duration": 23,
    "start_time": "2022-01-31T10:40:37.375Z"
   },
   {
    "duration": 5,
    "start_time": "2022-01-31T10:40:42.190Z"
   },
   {
    "duration": 13,
    "start_time": "2022-01-31T10:41:31.336Z"
   },
   {
    "duration": 15,
    "start_time": "2022-01-31T10:41:57.191Z"
   },
   {
    "duration": 24,
    "start_time": "2022-01-31T10:42:10.454Z"
   },
   {
    "duration": 22,
    "start_time": "2022-01-31T10:42:43.647Z"
   },
   {
    "duration": 16,
    "start_time": "2022-01-31T10:42:54.797Z"
   },
   {
    "duration": 6,
    "start_time": "2022-01-31T10:42:55.806Z"
   },
   {
    "duration": 6,
    "start_time": "2022-01-31T10:43:08.154Z"
   },
   {
    "duration": 562,
    "start_time": "2022-01-31T10:43:15.830Z"
   },
   {
    "duration": 47,
    "start_time": "2022-01-31T10:43:16.394Z"
   },
   {
    "duration": 18,
    "start_time": "2022-01-31T10:43:16.444Z"
   },
   {
    "duration": 9,
    "start_time": "2022-01-31T10:43:16.464Z"
   },
   {
    "duration": 48,
    "start_time": "2022-01-31T10:43:16.475Z"
   },
   {
    "duration": 9,
    "start_time": "2022-01-31T10:43:16.524Z"
   },
   {
    "duration": 9,
    "start_time": "2022-01-31T10:43:16.535Z"
   },
   {
    "duration": 39,
    "start_time": "2022-01-31T10:43:16.547Z"
   },
   {
    "duration": 33,
    "start_time": "2022-01-31T10:43:16.588Z"
   },
   {
    "duration": 4,
    "start_time": "2022-01-31T10:43:16.623Z"
   },
   {
    "duration": 12,
    "start_time": "2022-01-31T10:43:16.629Z"
   },
   {
    "duration": 7,
    "start_time": "2022-01-31T10:43:16.643Z"
   },
   {
    "duration": 15,
    "start_time": "2022-01-31T10:43:16.652Z"
   },
   {
    "duration": 9,
    "start_time": "2022-01-31T10:43:16.668Z"
   },
   {
    "duration": 36,
    "start_time": "2022-01-31T10:43:16.679Z"
   },
   {
    "duration": 8,
    "start_time": "2022-01-31T10:43:16.716Z"
   },
   {
    "duration": 10,
    "start_time": "2022-01-31T10:43:16.726Z"
   },
   {
    "duration": 14,
    "start_time": "2022-01-31T10:43:16.737Z"
   },
   {
    "duration": 10,
    "start_time": "2022-01-31T10:43:16.753Z"
   },
   {
    "duration": 9,
    "start_time": "2022-01-31T10:43:16.765Z"
   },
   {
    "duration": 45,
    "start_time": "2022-01-31T10:43:16.775Z"
   },
   {
    "duration": 7,
    "start_time": "2022-01-31T10:43:16.822Z"
   },
   {
    "duration": 6,
    "start_time": "2022-01-31T10:43:16.830Z"
   },
   {
    "duration": 6,
    "start_time": "2022-01-31T10:43:16.838Z"
   },
   {
    "duration": 8,
    "start_time": "2022-01-31T10:43:16.846Z"
   },
   {
    "duration": 6,
    "start_time": "2022-01-31T10:43:16.857Z"
   },
   {
    "duration": 7,
    "start_time": "2022-01-31T10:43:16.865Z"
   },
   {
    "duration": 40,
    "start_time": "2022-01-31T10:43:16.874Z"
   },
   {
    "duration": 7,
    "start_time": "2022-01-31T10:43:16.915Z"
   },
   {
    "duration": 7,
    "start_time": "2022-01-31T10:43:16.924Z"
   },
   {
    "duration": 7,
    "start_time": "2022-01-31T10:43:16.933Z"
   },
   {
    "duration": 3,
    "start_time": "2022-01-31T10:43:16.942Z"
   },
   {
    "duration": 8,
    "start_time": "2022-01-31T10:43:16.947Z"
   },
   {
    "duration": 5,
    "start_time": "2022-01-31T10:43:16.957Z"
   },
   {
    "duration": 81,
    "start_time": "2022-01-31T10:43:16.964Z"
   },
   {
    "duration": 11,
    "start_time": "2022-01-31T10:43:17.047Z"
   },
   {
    "duration": 9,
    "start_time": "2022-01-31T10:43:17.060Z"
   },
   {
    "duration": 6,
    "start_time": "2022-01-31T10:43:17.071Z"
   },
   {
    "duration": 4,
    "start_time": "2022-01-31T10:43:17.079Z"
   },
   {
    "duration": 8,
    "start_time": "2022-01-31T10:43:17.084Z"
   },
   {
    "duration": 697,
    "start_time": "2022-01-31T10:43:17.093Z"
   },
   {
    "duration": 7,
    "start_time": "2022-01-31T10:43:17.792Z"
   },
   {
    "duration": 17,
    "start_time": "2022-01-31T10:43:17.801Z"
   },
   {
    "duration": 18,
    "start_time": "2022-01-31T10:43:17.819Z"
   },
   {
    "duration": 8,
    "start_time": "2022-01-31T10:43:17.839Z"
   },
   {
    "duration": 10,
    "start_time": "2022-01-31T10:43:17.848Z"
   },
   {
    "duration": 6,
    "start_time": "2022-01-31T10:43:17.859Z"
   },
   {
    "duration": 7,
    "start_time": "2022-01-31T10:43:17.867Z"
   },
   {
    "duration": 38,
    "start_time": "2022-01-31T10:43:17.875Z"
   },
   {
    "duration": 9,
    "start_time": "2022-01-31T10:43:17.915Z"
   },
   {
    "duration": 8,
    "start_time": "2022-01-31T10:43:17.925Z"
   },
   {
    "duration": 8,
    "start_time": "2022-01-31T10:43:17.935Z"
   },
   {
    "duration": 9,
    "start_time": "2022-01-31T10:43:17.945Z"
   },
   {
    "duration": 57,
    "start_time": "2022-01-31T10:43:17.956Z"
   },
   {
    "duration": 27,
    "start_time": "2022-01-31T10:43:18.015Z"
   },
   {
    "duration": 23,
    "start_time": "2022-01-31T10:43:18.043Z"
   },
   {
    "duration": 22,
    "start_time": "2022-01-31T10:43:18.068Z"
   },
   {
    "duration": 24,
    "start_time": "2022-01-31T10:43:18.112Z"
   },
   {
    "duration": 25,
    "start_time": "2022-01-31T10:43:18.137Z"
   },
   {
    "duration": 49,
    "start_time": "2022-01-31T10:43:18.164Z"
   },
   {
    "duration": 25,
    "start_time": "2022-01-31T10:58:26.323Z"
   },
   {
    "duration": 27,
    "start_time": "2022-01-31T10:58:27.318Z"
   },
   {
    "duration": 21,
    "start_time": "2022-01-31T10:58:28.031Z"
   },
   {
    "duration": 576,
    "start_time": "2022-01-31T11:01:31.500Z"
   },
   {
    "duration": 49,
    "start_time": "2022-01-31T11:01:32.078Z"
   },
   {
    "duration": 18,
    "start_time": "2022-01-31T11:01:32.129Z"
   },
   {
    "duration": 10,
    "start_time": "2022-01-31T11:01:32.149Z"
   },
   {
    "duration": 32,
    "start_time": "2022-01-31T11:01:32.160Z"
   },
   {
    "duration": 27,
    "start_time": "2022-01-31T11:01:32.193Z"
   },
   {
    "duration": 10,
    "start_time": "2022-01-31T11:01:32.221Z"
   },
   {
    "duration": 40,
    "start_time": "2022-01-31T11:01:32.233Z"
   },
   {
    "duration": 36,
    "start_time": "2022-01-31T11:01:32.276Z"
   },
   {
    "duration": 3,
    "start_time": "2022-01-31T11:01:32.315Z"
   },
   {
    "duration": 16,
    "start_time": "2022-01-31T11:01:32.320Z"
   },
   {
    "duration": 8,
    "start_time": "2022-01-31T11:01:32.338Z"
   },
   {
    "duration": 14,
    "start_time": "2022-01-31T11:01:32.348Z"
   },
   {
    "duration": 8,
    "start_time": "2022-01-31T11:01:32.364Z"
   },
   {
    "duration": 11,
    "start_time": "2022-01-31T11:01:32.373Z"
   },
   {
    "duration": 33,
    "start_time": "2022-01-31T11:01:32.386Z"
   },
   {
    "duration": 10,
    "start_time": "2022-01-31T11:01:32.420Z"
   },
   {
    "duration": 18,
    "start_time": "2022-01-31T11:01:32.431Z"
   },
   {
    "duration": 12,
    "start_time": "2022-01-31T11:01:32.451Z"
   },
   {
    "duration": 9,
    "start_time": "2022-01-31T11:01:32.465Z"
   },
   {
    "duration": 15,
    "start_time": "2022-01-31T11:01:32.475Z"
   },
   {
    "duration": 26,
    "start_time": "2022-01-31T11:01:32.491Z"
   },
   {
    "duration": 9,
    "start_time": "2022-01-31T11:01:32.519Z"
   },
   {
    "duration": 8,
    "start_time": "2022-01-31T11:01:32.530Z"
   },
   {
    "duration": 8,
    "start_time": "2022-01-31T11:01:32.540Z"
   },
   {
    "duration": 7,
    "start_time": "2022-01-31T11:01:32.549Z"
   },
   {
    "duration": 4,
    "start_time": "2022-01-31T11:01:32.560Z"
   },
   {
    "duration": 20,
    "start_time": "2022-01-31T11:01:32.566Z"
   },
   {
    "duration": 13,
    "start_time": "2022-01-31T11:01:32.588Z"
   },
   {
    "duration": 7,
    "start_time": "2022-01-31T11:01:32.612Z"
   },
   {
    "duration": 11,
    "start_time": "2022-01-31T11:01:32.621Z"
   },
   {
    "duration": 4,
    "start_time": "2022-01-31T11:01:32.634Z"
   },
   {
    "duration": 19,
    "start_time": "2022-01-31T11:01:32.639Z"
   },
   {
    "duration": 6,
    "start_time": "2022-01-31T11:01:32.660Z"
   },
   {
    "duration": 60,
    "start_time": "2022-01-31T11:01:32.668Z"
   },
   {
    "duration": 13,
    "start_time": "2022-01-31T11:01:32.729Z"
   },
   {
    "duration": 10,
    "start_time": "2022-01-31T11:01:32.743Z"
   },
   {
    "duration": 23,
    "start_time": "2022-01-31T11:01:32.755Z"
   },
   {
    "duration": 38,
    "start_time": "2022-01-31T11:01:32.780Z"
   },
   {
    "duration": 15,
    "start_time": "2022-01-31T11:01:32.820Z"
   },
   {
    "duration": 4,
    "start_time": "2022-01-31T11:01:32.837Z"
   },
   {
    "duration": 5,
    "start_time": "2022-01-31T11:01:32.842Z"
   },
   {
    "duration": 7,
    "start_time": "2022-01-31T11:01:32.849Z"
   },
   {
    "duration": 684,
    "start_time": "2022-01-31T11:01:32.857Z"
   },
   {
    "duration": 6,
    "start_time": "2022-01-31T11:01:33.543Z"
   },
   {
    "duration": 14,
    "start_time": "2022-01-31T11:01:33.551Z"
   },
   {
    "duration": 13,
    "start_time": "2022-01-31T11:01:33.567Z"
   },
   {
    "duration": 9,
    "start_time": "2022-01-31T11:01:33.582Z"
   },
   {
    "duration": 8,
    "start_time": "2022-01-31T11:01:33.612Z"
   },
   {
    "duration": 9,
    "start_time": "2022-01-31T11:01:33.622Z"
   },
   {
    "duration": 8,
    "start_time": "2022-01-31T11:01:33.632Z"
   },
   {
    "duration": 9,
    "start_time": "2022-01-31T11:01:33.641Z"
   },
   {
    "duration": 9,
    "start_time": "2022-01-31T11:01:33.652Z"
   },
   {
    "duration": 9,
    "start_time": "2022-01-31T11:01:33.662Z"
   },
   {
    "duration": 8,
    "start_time": "2022-01-31T11:01:33.673Z"
   },
   {
    "duration": 31,
    "start_time": "2022-01-31T11:01:33.683Z"
   },
   {
    "duration": 27,
    "start_time": "2022-01-31T11:01:33.716Z"
   },
   {
    "duration": 23,
    "start_time": "2022-01-31T11:01:33.745Z"
   },
   {
    "duration": 50,
    "start_time": "2022-01-31T11:01:33.769Z"
   },
   {
    "duration": 23,
    "start_time": "2022-01-31T11:01:33.820Z"
   },
   {
    "duration": 22,
    "start_time": "2022-01-31T11:01:33.844Z"
   },
   {
    "duration": 22,
    "start_time": "2022-01-31T11:01:33.867Z"
   },
   {
    "duration": 23,
    "start_time": "2022-01-31T11:01:33.912Z"
   },
   {
    "duration": 61,
    "start_time": "2022-01-31T11:03:53.329Z"
   },
   {
    "duration": 604,
    "start_time": "2022-01-31T11:04:07.297Z"
   },
   {
    "duration": 53,
    "start_time": "2022-01-31T11:04:07.903Z"
   },
   {
    "duration": 21,
    "start_time": "2022-01-31T11:04:07.958Z"
   },
   {
    "duration": 12,
    "start_time": "2022-01-31T11:04:07.981Z"
   },
   {
    "duration": 34,
    "start_time": "2022-01-31T11:04:08.013Z"
   },
   {
    "duration": 11,
    "start_time": "2022-01-31T11:04:08.049Z"
   },
   {
    "duration": 11,
    "start_time": "2022-01-31T11:04:08.062Z"
   },
   {
    "duration": 74,
    "start_time": "2022-01-31T11:04:08.075Z"
   },
   {
    "duration": 12,
    "start_time": "2022-01-31T11:04:08.152Z"
   },
   {
    "duration": 4,
    "start_time": "2022-01-31T11:04:08.166Z"
   },
   {
    "duration": 17,
    "start_time": "2022-01-31T11:04:08.172Z"
   },
   {
    "duration": 26,
    "start_time": "2022-01-31T11:04:08.190Z"
   },
   {
    "duration": 16,
    "start_time": "2022-01-31T11:04:08.218Z"
   },
   {
    "duration": 11,
    "start_time": "2022-01-31T11:04:08.236Z"
   },
   {
    "duration": 11,
    "start_time": "2022-01-31T11:04:08.249Z"
   },
   {
    "duration": 74,
    "start_time": "2022-01-31T11:04:08.262Z"
   },
   {
    "duration": -4759,
    "start_time": "2022-01-31T11:04:13.098Z"
   },
   {
    "duration": -4784,
    "start_time": "2022-01-31T11:04:13.124Z"
   },
   {
    "duration": -4791,
    "start_time": "2022-01-31T11:04:13.132Z"
   },
   {
    "duration": -4794,
    "start_time": "2022-01-31T11:04:13.136Z"
   },
   {
    "duration": -4798,
    "start_time": "2022-01-31T11:04:13.141Z"
   },
   {
    "duration": -4804,
    "start_time": "2022-01-31T11:04:13.148Z"
   },
   {
    "duration": -4810,
    "start_time": "2022-01-31T11:04:13.155Z"
   },
   {
    "duration": -4813,
    "start_time": "2022-01-31T11:04:13.159Z"
   },
   {
    "duration": -4817,
    "start_time": "2022-01-31T11:04:13.164Z"
   },
   {
    "duration": -4821,
    "start_time": "2022-01-31T11:04:13.169Z"
   },
   {
    "duration": -4824,
    "start_time": "2022-01-31T11:04:13.173Z"
   },
   {
    "duration": -4828,
    "start_time": "2022-01-31T11:04:13.178Z"
   },
   {
    "duration": -4832,
    "start_time": "2022-01-31T11:04:13.183Z"
   },
   {
    "duration": -4835,
    "start_time": "2022-01-31T11:04:13.187Z"
   },
   {
    "duration": -4838,
    "start_time": "2022-01-31T11:04:13.191Z"
   },
   {
    "duration": -4842,
    "start_time": "2022-01-31T11:04:13.196Z"
   },
   {
    "duration": -4845,
    "start_time": "2022-01-31T11:04:13.200Z"
   },
   {
    "duration": -4849,
    "start_time": "2022-01-31T11:04:13.205Z"
   },
   {
    "duration": -4856,
    "start_time": "2022-01-31T11:04:13.213Z"
   },
   {
    "duration": -4870,
    "start_time": "2022-01-31T11:04:13.228Z"
   },
   {
    "duration": -4893,
    "start_time": "2022-01-31T11:04:13.252Z"
   },
   {
    "duration": -4920,
    "start_time": "2022-01-31T11:04:13.280Z"
   },
   {
    "duration": -4929,
    "start_time": "2022-01-31T11:04:13.289Z"
   },
   {
    "duration": -4934,
    "start_time": "2022-01-31T11:04:13.295Z"
   },
   {
    "duration": -5154,
    "start_time": "2022-01-31T11:04:13.516Z"
   },
   {
    "duration": -5158,
    "start_time": "2022-01-31T11:04:13.521Z"
   },
   {
    "duration": -5163,
    "start_time": "2022-01-31T11:04:13.528Z"
   },
   {
    "duration": -5166,
    "start_time": "2022-01-31T11:04:13.532Z"
   },
   {
    "duration": -5170,
    "start_time": "2022-01-31T11:04:13.537Z"
   },
   {
    "duration": -5199,
    "start_time": "2022-01-31T11:04:13.566Z"
   },
   {
    "duration": -5213,
    "start_time": "2022-01-31T11:04:13.582Z"
   },
   {
    "duration": -5218,
    "start_time": "2022-01-31T11:04:13.587Z"
   },
   {
    "duration": -5222,
    "start_time": "2022-01-31T11:04:13.592Z"
   },
   {
    "duration": -5242,
    "start_time": "2022-01-31T11:04:13.613Z"
   },
   {
    "duration": -5246,
    "start_time": "2022-01-31T11:04:13.618Z"
   },
   {
    "duration": -5250,
    "start_time": "2022-01-31T11:04:13.623Z"
   },
   {
    "duration": -5257,
    "start_time": "2022-01-31T11:04:13.631Z"
   },
   {
    "duration": -5274,
    "start_time": "2022-01-31T11:04:13.649Z"
   },
   {
    "duration": -5278,
    "start_time": "2022-01-31T11:04:13.654Z"
   },
   {
    "duration": -5246,
    "start_time": "2022-01-31T11:04:13.658Z"
   },
   {
    "duration": -5267,
    "start_time": "2022-01-31T11:04:13.680Z"
   },
   {
    "duration": -5270,
    "start_time": "2022-01-31T11:04:13.684Z"
   },
   {
    "duration": -5274,
    "start_time": "2022-01-31T11:04:13.689Z"
   },
   {
    "duration": -5280,
    "start_time": "2022-01-31T11:04:13.696Z"
   },
   {
    "duration": -5298,
    "start_time": "2022-01-31T11:04:13.715Z"
   },
   {
    "duration": -5302,
    "start_time": "2022-01-31T11:04:13.719Z"
   },
   {
    "duration": -5306,
    "start_time": "2022-01-31T11:04:13.724Z"
   },
   {
    "duration": -5312,
    "start_time": "2022-01-31T11:04:13.731Z"
   },
   {
    "duration": 281,
    "start_time": "2022-01-31T11:04:35.897Z"
   },
   {
    "duration": 606,
    "start_time": "2022-01-31T11:04:47.128Z"
   },
   {
    "duration": 51,
    "start_time": "2022-01-31T11:04:47.736Z"
   },
   {
    "duration": 24,
    "start_time": "2022-01-31T11:04:47.789Z"
   },
   {
    "duration": 11,
    "start_time": "2022-01-31T11:04:47.815Z"
   },
   {
    "duration": 34,
    "start_time": "2022-01-31T11:04:47.827Z"
   },
   {
    "duration": 9,
    "start_time": "2022-01-31T11:04:47.863Z"
   },
   {
    "duration": 42,
    "start_time": "2022-01-31T11:04:47.874Z"
   },
   {
    "duration": 40,
    "start_time": "2022-01-31T11:04:47.919Z"
   },
   {
    "duration": 9,
    "start_time": "2022-01-31T11:04:47.961Z"
   },
   {
    "duration": 3,
    "start_time": "2022-01-31T11:04:47.972Z"
   },
   {
    "duration": 36,
    "start_time": "2022-01-31T11:04:47.977Z"
   },
   {
    "duration": 8,
    "start_time": "2022-01-31T11:04:48.014Z"
   },
   {
    "duration": 12,
    "start_time": "2022-01-31T11:04:48.023Z"
   },
   {
    "duration": 7,
    "start_time": "2022-01-31T11:04:48.036Z"
   },
   {
    "duration": 9,
    "start_time": "2022-01-31T11:04:48.044Z"
   },
   {
    "duration": 66,
    "start_time": "2022-01-31T11:04:48.054Z"
   },
   {
    "duration": -4547,
    "start_time": "2022-01-31T11:04:52.670Z"
   },
   {
    "duration": -4566,
    "start_time": "2022-01-31T11:04:52.690Z"
   },
   {
    "duration": -4570,
    "start_time": "2022-01-31T11:04:52.695Z"
   },
   {
    "duration": -4573,
    "start_time": "2022-01-31T11:04:52.699Z"
   },
   {
    "duration": -4578,
    "start_time": "2022-01-31T11:04:52.705Z"
   },
   {
    "duration": -4598,
    "start_time": "2022-01-31T11:04:52.726Z"
   },
   {
    "duration": -4603,
    "start_time": "2022-01-31T11:04:52.731Z"
   },
   {
    "duration": -4609,
    "start_time": "2022-01-31T11:04:52.738Z"
   },
   {
    "duration": -4628,
    "start_time": "2022-01-31T11:04:52.758Z"
   },
   {
    "duration": -4631,
    "start_time": "2022-01-31T11:04:52.762Z"
   },
   {
    "duration": -4636,
    "start_time": "2022-01-31T11:04:52.768Z"
   },
   {
    "duration": -4643,
    "start_time": "2022-01-31T11:04:52.776Z"
   },
   {
    "duration": -4672,
    "start_time": "2022-01-31T11:04:52.806Z"
   },
   {
    "duration": -4677,
    "start_time": "2022-01-31T11:04:52.812Z"
   },
   {
    "duration": -4681,
    "start_time": "2022-01-31T11:04:52.817Z"
   },
   {
    "duration": -4685,
    "start_time": "2022-01-31T11:04:52.822Z"
   },
   {
    "duration": -4690,
    "start_time": "2022-01-31T11:04:52.828Z"
   },
   {
    "duration": -4693,
    "start_time": "2022-01-31T11:04:52.832Z"
   },
   {
    "duration": -4880,
    "start_time": "2022-01-31T11:04:53.020Z"
   },
   {
    "duration": -4946,
    "start_time": "2022-01-31T11:04:53.087Z"
   },
   {
    "duration": -4953,
    "start_time": "2022-01-31T11:04:53.095Z"
   },
   {
    "duration": -4957,
    "start_time": "2022-01-31T11:04:53.100Z"
   },
   {
    "duration": -4963,
    "start_time": "2022-01-31T11:04:53.107Z"
   },
   {
    "duration": -4977,
    "start_time": "2022-01-31T11:04:53.122Z"
   },
   {
    "duration": -4984,
    "start_time": "2022-01-31T11:04:53.130Z"
   },
   {
    "duration": -4989,
    "start_time": "2022-01-31T11:04:53.135Z"
   },
   {
    "duration": -4995,
    "start_time": "2022-01-31T11:04:53.142Z"
   },
   {
    "duration": -4998,
    "start_time": "2022-01-31T11:04:53.146Z"
   },
   {
    "duration": -5002,
    "start_time": "2022-01-31T11:04:53.151Z"
   },
   {
    "duration": -5006,
    "start_time": "2022-01-31T11:04:53.156Z"
   },
   {
    "duration": -5010,
    "start_time": "2022-01-31T11:04:53.161Z"
   },
   {
    "duration": -5048,
    "start_time": "2022-01-31T11:04:53.200Z"
   },
   {
    "duration": -5088,
    "start_time": "2022-01-31T11:04:53.241Z"
   },
   {
    "duration": -5105,
    "start_time": "2022-01-31T11:04:53.259Z"
   },
   {
    "duration": -5112,
    "start_time": "2022-01-31T11:04:53.267Z"
   },
   {
    "duration": -5130,
    "start_time": "2022-01-31T11:04:53.286Z"
   },
   {
    "duration": -5138,
    "start_time": "2022-01-31T11:04:53.295Z"
   },
   {
    "duration": -5284,
    "start_time": "2022-01-31T11:04:53.442Z"
   },
   {
    "duration": -5289,
    "start_time": "2022-01-31T11:04:53.448Z"
   },
   {
    "duration": -5242,
    "start_time": "2022-01-31T11:04:53.453Z"
   },
   {
    "duration": -5245,
    "start_time": "2022-01-31T11:04:53.458Z"
   },
   {
    "duration": -5247,
    "start_time": "2022-01-31T11:04:53.462Z"
   },
   {
    "duration": -5252,
    "start_time": "2022-01-31T11:04:53.468Z"
   },
   {
    "duration": -5255,
    "start_time": "2022-01-31T11:04:53.473Z"
   },
   {
    "duration": -5258,
    "start_time": "2022-01-31T11:04:53.478Z"
   },
   {
    "duration": -5262,
    "start_time": "2022-01-31T11:04:53.483Z"
   },
   {
    "duration": -5277,
    "start_time": "2022-01-31T11:04:53.499Z"
   },
   {
    "duration": -5284,
    "start_time": "2022-01-31T11:04:53.508Z"
   },
   {
    "duration": 67,
    "start_time": "2022-01-31T11:05:08.265Z"
   },
   {
    "duration": 72,
    "start_time": "2022-01-31T11:05:24.563Z"
   },
   {
    "duration": 58,
    "start_time": "2022-01-31T11:05:55.986Z"
   },
   {
    "duration": 73,
    "start_time": "2022-01-31T11:06:04.736Z"
   },
   {
    "duration": 546,
    "start_time": "2022-01-31T11:06:43.377Z"
   },
   {
    "duration": 50,
    "start_time": "2022-01-31T11:06:43.924Z"
   },
   {
    "duration": 18,
    "start_time": "2022-01-31T11:06:43.976Z"
   },
   {
    "duration": 23,
    "start_time": "2022-01-31T11:06:43.996Z"
   },
   {
    "duration": 31,
    "start_time": "2022-01-31T11:06:44.020Z"
   },
   {
    "duration": 9,
    "start_time": "2022-01-31T11:06:44.053Z"
   },
   {
    "duration": 13,
    "start_time": "2022-01-31T11:06:44.063Z"
   },
   {
    "duration": 62,
    "start_time": "2022-01-31T11:06:44.077Z"
   },
   {
    "duration": 9,
    "start_time": "2022-01-31T11:06:44.142Z"
   },
   {
    "duration": 5,
    "start_time": "2022-01-31T11:06:44.153Z"
   },
   {
    "duration": 17,
    "start_time": "2022-01-31T11:06:44.159Z"
   },
   {
    "duration": 7,
    "start_time": "2022-01-31T11:06:44.177Z"
   },
   {
    "duration": 29,
    "start_time": "2022-01-31T11:06:44.186Z"
   },
   {
    "duration": 13,
    "start_time": "2022-01-31T11:06:44.217Z"
   },
   {
    "duration": 9,
    "start_time": "2022-01-31T11:06:44.231Z"
   },
   {
    "duration": 8,
    "start_time": "2022-01-31T11:06:44.242Z"
   },
   {
    "duration": 8,
    "start_time": "2022-01-31T11:06:44.252Z"
   },
   {
    "duration": 14,
    "start_time": "2022-01-31T11:06:44.262Z"
   },
   {
    "duration": 11,
    "start_time": "2022-01-31T11:06:44.277Z"
   },
   {
    "duration": 24,
    "start_time": "2022-01-31T11:06:44.289Z"
   },
   {
    "duration": 35,
    "start_time": "2022-01-31T11:06:44.315Z"
   },
   {
    "duration": 10,
    "start_time": "2022-01-31T11:06:44.352Z"
   },
   {
    "duration": 8,
    "start_time": "2022-01-31T11:06:44.364Z"
   },
   {
    "duration": 7,
    "start_time": "2022-01-31T11:06:44.374Z"
   },
   {
    "duration": 14,
    "start_time": "2022-01-31T11:06:44.382Z"
   },
   {
    "duration": 8,
    "start_time": "2022-01-31T11:06:44.397Z"
   },
   {
    "duration": 7,
    "start_time": "2022-01-31T11:06:44.409Z"
   },
   {
    "duration": 28,
    "start_time": "2022-01-31T11:06:44.418Z"
   },
   {
    "duration": 20,
    "start_time": "2022-01-31T11:06:44.447Z"
   },
   {
    "duration": 9,
    "start_time": "2022-01-31T11:06:44.468Z"
   },
   {
    "duration": 15,
    "start_time": "2022-01-31T11:06:44.478Z"
   },
   {
    "duration": 3,
    "start_time": "2022-01-31T11:06:44.495Z"
   },
   {
    "duration": 12,
    "start_time": "2022-01-31T11:06:44.499Z"
   },
   {
    "duration": 5,
    "start_time": "2022-01-31T11:06:44.513Z"
   },
   {
    "duration": 42,
    "start_time": "2022-01-31T11:06:44.519Z"
   },
   {
    "duration": 11,
    "start_time": "2022-01-31T11:06:44.563Z"
   },
   {
    "duration": 9,
    "start_time": "2022-01-31T11:06:44.575Z"
   },
   {
    "duration": 41,
    "start_time": "2022-01-31T11:06:44.585Z"
   },
   {
    "duration": 18,
    "start_time": "2022-01-31T11:06:44.628Z"
   },
   {
    "duration": 15,
    "start_time": "2022-01-31T11:06:44.648Z"
   },
   {
    "duration": 3,
    "start_time": "2022-01-31T11:06:44.665Z"
   },
   {
    "duration": 3,
    "start_time": "2022-01-31T11:06:44.670Z"
   },
   {
    "duration": 6,
    "start_time": "2022-01-31T11:06:44.675Z"
   },
   {
    "duration": 691,
    "start_time": "2022-01-31T11:06:44.682Z"
   },
   {
    "duration": 7,
    "start_time": "2022-01-31T11:06:45.375Z"
   },
   {
    "duration": 14,
    "start_time": "2022-01-31T11:06:45.383Z"
   },
   {
    "duration": 26,
    "start_time": "2022-01-31T11:06:45.398Z"
   },
   {
    "duration": 8,
    "start_time": "2022-01-31T11:06:45.426Z"
   },
   {
    "duration": 10,
    "start_time": "2022-01-31T11:06:45.436Z"
   },
   {
    "duration": 6,
    "start_time": "2022-01-31T11:06:45.448Z"
   },
   {
    "duration": 6,
    "start_time": "2022-01-31T11:06:45.456Z"
   },
   {
    "duration": 10,
    "start_time": "2022-01-31T11:06:45.463Z"
   },
   {
    "duration": 39,
    "start_time": "2022-01-31T11:06:45.474Z"
   },
   {
    "duration": 11,
    "start_time": "2022-01-31T11:06:45.515Z"
   },
   {
    "duration": 9,
    "start_time": "2022-01-31T11:06:45.527Z"
   },
   {
    "duration": 10,
    "start_time": "2022-01-31T11:06:45.537Z"
   },
   {
    "duration": 28,
    "start_time": "2022-01-31T11:06:45.548Z"
   },
   {
    "duration": 48,
    "start_time": "2022-01-31T11:06:45.578Z"
   },
   {
    "duration": 23,
    "start_time": "2022-01-31T11:06:45.627Z"
   },
   {
    "duration": 25,
    "start_time": "2022-01-31T11:06:45.652Z"
   },
   {
    "duration": 45,
    "start_time": "2022-01-31T11:06:45.678Z"
   },
   {
    "duration": 23,
    "start_time": "2022-01-31T11:06:45.724Z"
   },
   {
    "duration": 21,
    "start_time": "2022-01-31T11:06:45.749Z"
   },
   {
    "duration": 68,
    "start_time": "2022-01-31T11:09:04.346Z"
   },
   {
    "duration": 568,
    "start_time": "2022-01-31T11:14:38.324Z"
   },
   {
    "duration": 49,
    "start_time": "2022-01-31T11:14:38.893Z"
   },
   {
    "duration": 18,
    "start_time": "2022-01-31T11:14:38.944Z"
   },
   {
    "duration": 10,
    "start_time": "2022-01-31T11:14:38.964Z"
   },
   {
    "duration": 48,
    "start_time": "2022-01-31T11:14:38.975Z"
   },
   {
    "duration": 9,
    "start_time": "2022-01-31T11:14:39.025Z"
   },
   {
    "duration": 10,
    "start_time": "2022-01-31T11:14:39.035Z"
   },
   {
    "duration": 65,
    "start_time": "2022-01-31T11:14:39.047Z"
   },
   {
    "duration": 10,
    "start_time": "2022-01-31T11:14:39.115Z"
   },
   {
    "duration": 5,
    "start_time": "2022-01-31T11:14:39.127Z"
   },
   {
    "duration": 13,
    "start_time": "2022-01-31T11:14:39.134Z"
   },
   {
    "duration": 8,
    "start_time": "2022-01-31T11:14:39.148Z"
   },
   {
    "duration": 13,
    "start_time": "2022-01-31T11:14:39.157Z"
   },
   {
    "duration": 8,
    "start_time": "2022-01-31T11:14:39.172Z"
   },
   {
    "duration": 38,
    "start_time": "2022-01-31T11:14:39.181Z"
   },
   {
    "duration": 12,
    "start_time": "2022-01-31T11:14:39.221Z"
   },
   {
    "duration": 10,
    "start_time": "2022-01-31T11:14:39.235Z"
   },
   {
    "duration": 14,
    "start_time": "2022-01-31T11:14:39.247Z"
   },
   {
    "duration": 10,
    "start_time": "2022-01-31T11:14:39.262Z"
   },
   {
    "duration": 8,
    "start_time": "2022-01-31T11:14:39.273Z"
   },
   {
    "duration": 13,
    "start_time": "2022-01-31T11:14:39.312Z"
   },
   {
    "duration": 7,
    "start_time": "2022-01-31T11:14:39.327Z"
   },
   {
    "duration": 6,
    "start_time": "2022-01-31T11:14:39.338Z"
   },
   {
    "duration": 6,
    "start_time": "2022-01-31T11:14:39.346Z"
   },
   {
    "duration": 6,
    "start_time": "2022-01-31T11:14:39.354Z"
   },
   {
    "duration": 6,
    "start_time": "2022-01-31T11:14:39.362Z"
   },
   {
    "duration": 6,
    "start_time": "2022-01-31T11:14:39.413Z"
   },
   {
    "duration": 6,
    "start_time": "2022-01-31T11:14:39.421Z"
   },
   {
    "duration": 13,
    "start_time": "2022-01-31T11:14:39.429Z"
   },
   {
    "duration": 7,
    "start_time": "2022-01-31T11:14:39.443Z"
   },
   {
    "duration": 8,
    "start_time": "2022-01-31T11:14:39.452Z"
   },
   {
    "duration": 3,
    "start_time": "2022-01-31T11:14:39.461Z"
   },
   {
    "duration": 7,
    "start_time": "2022-01-31T11:14:39.466Z"
   },
   {
    "duration": 41,
    "start_time": "2022-01-31T11:14:39.475Z"
   },
   {
    "duration": 40,
    "start_time": "2022-01-31T11:14:39.518Z"
   },
   {
    "duration": 13,
    "start_time": "2022-01-31T11:14:39.560Z"
   },
   {
    "duration": 10,
    "start_time": "2022-01-31T11:14:39.575Z"
   },
   {
    "duration": 46,
    "start_time": "2022-01-31T11:14:39.587Z"
   },
   {
    "duration": 21,
    "start_time": "2022-01-31T11:14:39.635Z"
   },
   {
    "duration": 16,
    "start_time": "2022-01-31T11:14:39.657Z"
   },
   {
    "duration": 4,
    "start_time": "2022-01-31T11:14:39.675Z"
   },
   {
    "duration": 32,
    "start_time": "2022-01-31T11:14:39.681Z"
   },
   {
    "duration": 7,
    "start_time": "2022-01-31T11:14:39.715Z"
   },
   {
    "duration": 673,
    "start_time": "2022-01-31T11:14:39.723Z"
   },
   {
    "duration": 6,
    "start_time": "2022-01-31T11:14:40.399Z"
   },
   {
    "duration": 15,
    "start_time": "2022-01-31T11:14:40.407Z"
   },
   {
    "duration": 18,
    "start_time": "2022-01-31T11:14:40.424Z"
   },
   {
    "duration": 7,
    "start_time": "2022-01-31T11:14:40.444Z"
   },
   {
    "duration": 11,
    "start_time": "2022-01-31T11:14:40.453Z"
   },
   {
    "duration": 7,
    "start_time": "2022-01-31T11:14:40.466Z"
   },
   {
    "duration": 6,
    "start_time": "2022-01-31T11:14:40.475Z"
   },
   {
    "duration": 37,
    "start_time": "2022-01-31T11:14:40.483Z"
   },
   {
    "duration": 9,
    "start_time": "2022-01-31T11:14:40.521Z"
   },
   {
    "duration": 15,
    "start_time": "2022-01-31T11:14:40.532Z"
   },
   {
    "duration": 8,
    "start_time": "2022-01-31T11:14:40.549Z"
   },
   {
    "duration": 8,
    "start_time": "2022-01-31T11:14:40.559Z"
   },
   {
    "duration": 47,
    "start_time": "2022-01-31T11:14:40.569Z"
   },
   {
    "duration": 25,
    "start_time": "2022-01-31T11:14:40.618Z"
   },
   {
    "duration": 23,
    "start_time": "2022-01-31T11:14:40.644Z"
   },
   {
    "duration": 45,
    "start_time": "2022-01-31T11:14:40.668Z"
   },
   {
    "duration": 23,
    "start_time": "2022-01-31T11:14:40.715Z"
   },
   {
    "duration": 24,
    "start_time": "2022-01-31T11:14:40.740Z"
   },
   {
    "duration": 47,
    "start_time": "2022-01-31T11:14:40.766Z"
   },
   {
    "duration": 554,
    "start_time": "2022-03-21T18:25:17.613Z"
   },
   {
    "duration": 950,
    "start_time": "2022-03-21T18:25:18.170Z"
   },
   {
    "duration": 32,
    "start_time": "2022-03-21T18:25:19.122Z"
   },
   {
    "duration": 23,
    "start_time": "2022-03-21T18:25:19.157Z"
   },
   {
    "duration": 70,
    "start_time": "2022-03-21T18:25:19.183Z"
   },
   {
    "duration": 14,
    "start_time": "2022-03-21T18:25:19.255Z"
   },
   {
    "duration": 13,
    "start_time": "2022-03-21T18:25:19.272Z"
   },
   {
    "duration": 95,
    "start_time": "2022-03-21T18:25:19.288Z"
   },
   {
    "duration": 23,
    "start_time": "2022-03-21T18:25:19.386Z"
   },
   {
    "duration": 5,
    "start_time": "2022-03-21T18:25:19.413Z"
   },
   {
    "duration": 23,
    "start_time": "2022-03-21T18:25:19.443Z"
   },
   {
    "duration": 11,
    "start_time": "2022-03-21T18:25:19.469Z"
   },
   {
    "duration": 20,
    "start_time": "2022-03-21T18:25:19.482Z"
   },
   {
    "duration": 42,
    "start_time": "2022-03-21T18:25:19.505Z"
   },
   {
    "duration": 16,
    "start_time": "2022-03-21T18:25:19.550Z"
   },
   {
    "duration": 15,
    "start_time": "2022-03-21T18:25:19.569Z"
   },
   {
    "duration": 19,
    "start_time": "2022-03-21T18:25:19.587Z"
   },
   {
    "duration": 51,
    "start_time": "2022-03-21T18:25:19.608Z"
   },
   {
    "duration": 16,
    "start_time": "2022-03-21T18:25:19.661Z"
   },
   {
    "duration": 19,
    "start_time": "2022-03-21T18:25:19.680Z"
   },
   {
    "duration": 50,
    "start_time": "2022-03-21T18:25:19.701Z"
   },
   {
    "duration": 11,
    "start_time": "2022-03-21T18:25:19.753Z"
   },
   {
    "duration": 16,
    "start_time": "2022-03-21T18:25:19.766Z"
   },
   {
    "duration": 7,
    "start_time": "2022-03-21T18:25:19.784Z"
   },
   {
    "duration": 10,
    "start_time": "2022-03-21T18:25:19.793Z"
   },
   {
    "duration": 43,
    "start_time": "2022-03-21T18:25:19.806Z"
   },
   {
    "duration": 8,
    "start_time": "2022-03-21T18:25:19.852Z"
   },
   {
    "duration": 7,
    "start_time": "2022-03-21T18:25:19.867Z"
   },
   {
    "duration": 15,
    "start_time": "2022-03-21T18:25:19.876Z"
   },
   {
    "duration": 51,
    "start_time": "2022-03-21T18:25:19.893Z"
   },
   {
    "duration": 16,
    "start_time": "2022-03-21T18:25:19.947Z"
   },
   {
    "duration": 7,
    "start_time": "2022-03-21T18:25:19.965Z"
   },
   {
    "duration": 14,
    "start_time": "2022-03-21T18:25:19.974Z"
   },
   {
    "duration": 8,
    "start_time": "2022-03-21T18:25:19.990Z"
   },
   {
    "duration": 94,
    "start_time": "2022-03-21T18:25:20.000Z"
   },
   {
    "duration": 19,
    "start_time": "2022-03-21T18:25:20.096Z"
   },
   {
    "duration": 34,
    "start_time": "2022-03-21T18:25:20.118Z"
   },
   {
    "duration": 36,
    "start_time": "2022-03-21T18:25:20.155Z"
   },
   {
    "duration": 63,
    "start_time": "2022-03-21T18:25:20.194Z"
   },
   {
    "duration": 29,
    "start_time": "2022-03-21T18:25:20.259Z"
   },
   {
    "duration": 8,
    "start_time": "2022-03-21T18:25:20.290Z"
   },
   {
    "duration": 5,
    "start_time": "2022-03-21T18:25:20.300Z"
   },
   {
    "duration": 52,
    "start_time": "2022-03-21T18:25:20.344Z"
   },
   {
    "duration": 962,
    "start_time": "2022-03-21T18:25:20.398Z"
   },
   {
    "duration": 10,
    "start_time": "2022-03-21T18:25:21.363Z"
   },
   {
    "duration": 17,
    "start_time": "2022-03-21T18:25:21.375Z"
   },
   {
    "duration": 49,
    "start_time": "2022-03-21T18:25:21.394Z"
   },
   {
    "duration": 11,
    "start_time": "2022-03-21T18:25:21.445Z"
   },
   {
    "duration": 16,
    "start_time": "2022-03-21T18:25:21.458Z"
   },
   {
    "duration": 9,
    "start_time": "2022-03-21T18:25:21.476Z"
   },
   {
    "duration": 11,
    "start_time": "2022-03-21T18:25:21.488Z"
   },
   {
    "duration": 55,
    "start_time": "2022-03-21T18:25:21.502Z"
   },
   {
    "duration": 15,
    "start_time": "2022-03-21T18:25:21.560Z"
   },
   {
    "duration": 12,
    "start_time": "2022-03-21T18:25:21.579Z"
   },
   {
    "duration": 51,
    "start_time": "2022-03-21T18:25:21.594Z"
   },
   {
    "duration": 14,
    "start_time": "2022-03-21T18:25:21.648Z"
   },
   {
    "duration": 43,
    "start_time": "2022-03-21T18:25:21.665Z"
   },
   {
    "duration": 78,
    "start_time": "2022-03-21T18:25:21.711Z"
   },
   {
    "duration": 69,
    "start_time": "2022-03-21T18:25:21.792Z"
   },
   {
    "duration": 37,
    "start_time": "2022-03-21T18:25:21.864Z"
   },
   {
    "duration": 61,
    "start_time": "2022-03-21T18:25:21.903Z"
   },
   {
    "duration": 38,
    "start_time": "2022-03-21T18:25:21.966Z"
   },
   {
    "duration": 60,
    "start_time": "2022-03-21T18:25:22.006Z"
   },
   {
    "duration": 11,
    "start_time": "2022-03-21T18:25:51.457Z"
   },
   {
    "duration": 5,
    "start_time": "2022-03-21T18:26:00.345Z"
   },
   {
    "duration": 9,
    "start_time": "2022-03-21T18:28:40.492Z"
   },
   {
    "duration": 541,
    "start_time": "2022-03-21T18:29:44.423Z"
   },
   {
    "duration": 81,
    "start_time": "2022-03-21T18:29:44.966Z"
   },
   {
    "duration": 32,
    "start_time": "2022-03-21T18:29:45.049Z"
   },
   {
    "duration": 21,
    "start_time": "2022-03-21T18:29:45.084Z"
   },
   {
    "duration": 68,
    "start_time": "2022-03-21T18:29:45.107Z"
   },
   {
    "duration": 13,
    "start_time": "2022-03-21T18:29:45.177Z"
   },
   {
    "duration": 16,
    "start_time": "2022-03-21T18:29:45.191Z"
   },
   {
    "duration": 34,
    "start_time": "2022-03-21T18:29:45.209Z"
   },
   {
    "duration": 20,
    "start_time": "2022-03-21T18:29:45.245Z"
   },
   {
    "duration": 5,
    "start_time": "2022-03-21T18:29:45.270Z"
   },
   {
    "duration": 29,
    "start_time": "2022-03-21T18:29:45.277Z"
   },
   {
    "duration": 36,
    "start_time": "2022-03-21T18:29:45.308Z"
   },
   {
    "duration": 16,
    "start_time": "2022-03-21T18:29:45.346Z"
   },
   {
    "duration": 25,
    "start_time": "2022-03-21T18:29:45.364Z"
   },
   {
    "duration": 25,
    "start_time": "2022-03-21T18:29:45.391Z"
   },
   {
    "duration": 16,
    "start_time": "2022-03-21T18:29:45.418Z"
   },
   {
    "duration": 14,
    "start_time": "2022-03-21T18:29:45.443Z"
   },
   {
    "duration": 19,
    "start_time": "2022-03-21T18:29:45.460Z"
   },
   {
    "duration": 23,
    "start_time": "2022-03-21T18:29:45.481Z"
   },
   {
    "duration": 10,
    "start_time": "2022-03-21T18:29:45.506Z"
   },
   {
    "duration": 52,
    "start_time": "2022-03-21T18:29:45.518Z"
   },
   {
    "duration": 11,
    "start_time": "2022-03-21T18:29:45.572Z"
   },
   {
    "duration": 20,
    "start_time": "2022-03-21T18:29:45.585Z"
   },
   {
    "duration": 6,
    "start_time": "2022-03-21T18:29:45.607Z"
   },
   {
    "duration": 29,
    "start_time": "2022-03-21T18:29:45.615Z"
   },
   {
    "duration": 9,
    "start_time": "2022-03-21T18:29:45.646Z"
   },
   {
    "duration": 12,
    "start_time": "2022-03-21T18:29:45.658Z"
   },
   {
    "duration": 10,
    "start_time": "2022-03-21T18:29:45.675Z"
   },
   {
    "duration": 17,
    "start_time": "2022-03-21T18:29:45.687Z"
   },
   {
    "duration": 38,
    "start_time": "2022-03-21T18:29:45.706Z"
   },
   {
    "duration": 19,
    "start_time": "2022-03-21T18:29:45.746Z"
   },
   {
    "duration": 7,
    "start_time": "2022-03-21T18:29:45.768Z"
   },
   {
    "duration": 20,
    "start_time": "2022-03-21T18:29:45.777Z"
   },
   {
    "duration": 7,
    "start_time": "2022-03-21T18:29:45.799Z"
   },
   {
    "duration": 14,
    "start_time": "2022-03-21T18:29:45.808Z"
   },
   {
    "duration": 36,
    "start_time": "2022-03-21T18:29:45.824Z"
   },
   {
    "duration": 15,
    "start_time": "2022-03-21T18:29:45.862Z"
   },
   {
    "duration": 36,
    "start_time": "2022-03-21T18:29:45.880Z"
   },
   {
    "duration": 54,
    "start_time": "2022-03-21T18:29:45.919Z"
   },
   {
    "duration": 27,
    "start_time": "2022-03-21T18:29:45.976Z"
   },
   {
    "duration": 6,
    "start_time": "2022-03-21T18:29:46.005Z"
   },
   {
    "duration": 32,
    "start_time": "2022-03-21T18:29:46.013Z"
   },
   {
    "duration": 17,
    "start_time": "2022-03-21T18:29:46.048Z"
   },
   {
    "duration": 945,
    "start_time": "2022-03-21T18:29:46.067Z"
   },
   {
    "duration": 11,
    "start_time": "2022-03-21T18:29:47.015Z"
   },
   {
    "duration": 21,
    "start_time": "2022-03-21T18:29:47.044Z"
   },
   {
    "duration": 24,
    "start_time": "2022-03-21T18:29:47.067Z"
   },
   {
    "duration": 12,
    "start_time": "2022-03-21T18:29:47.093Z"
   },
   {
    "duration": 13,
    "start_time": "2022-03-21T18:29:47.143Z"
   },
   {
    "duration": 9,
    "start_time": "2022-03-21T18:29:47.158Z"
   },
   {
    "duration": 10,
    "start_time": "2022-03-21T18:29:47.169Z"
   },
   {
    "duration": 17,
    "start_time": "2022-03-21T18:29:47.182Z"
   },
   {
    "duration": 47,
    "start_time": "2022-03-21T18:29:47.202Z"
   },
   {
    "duration": 12,
    "start_time": "2022-03-21T18:29:47.251Z"
   },
   {
    "duration": 13,
    "start_time": "2022-03-21T18:29:47.265Z"
   },
   {
    "duration": 12,
    "start_time": "2022-03-21T18:29:47.280Z"
   },
   {
    "duration": 76,
    "start_time": "2022-03-21T18:29:47.294Z"
   },
   {
    "duration": 37,
    "start_time": "2022-03-21T18:29:47.372Z"
   },
   {
    "duration": 57,
    "start_time": "2022-03-21T18:29:47.412Z"
   },
   {
    "duration": 36,
    "start_time": "2022-03-21T18:29:47.471Z"
   },
   {
    "duration": 62,
    "start_time": "2022-03-21T18:29:47.509Z"
   },
   {
    "duration": 38,
    "start_time": "2022-03-21T18:29:47.573Z"
   },
   {
    "duration": 58,
    "start_time": "2022-03-21T18:29:47.613Z"
   },
   {
    "duration": 20,
    "start_time": "2022-03-21T18:31:51.788Z"
   },
   {
    "duration": 20,
    "start_time": "2022-03-21T18:31:59.175Z"
   },
   {
    "duration": 21,
    "start_time": "2022-03-21T18:32:02.535Z"
   },
   {
    "duration": 19,
    "start_time": "2022-03-21T18:32:06.640Z"
   },
   {
    "duration": 19,
    "start_time": "2022-03-21T18:32:15.805Z"
   },
   {
    "duration": 21,
    "start_time": "2022-03-21T18:32:52.647Z"
   },
   {
    "duration": 19,
    "start_time": "2022-03-21T18:33:11.056Z"
   },
   {
    "duration": 18,
    "start_time": "2022-03-21T18:33:22.686Z"
   },
   {
    "duration": 570,
    "start_time": "2022-03-21T18:33:29.505Z"
   },
   {
    "duration": 87,
    "start_time": "2022-03-21T18:33:30.079Z"
   },
   {
    "duration": 32,
    "start_time": "2022-03-21T18:33:30.168Z"
   },
   {
    "duration": 51,
    "start_time": "2022-03-21T18:33:30.203Z"
   },
   {
    "duration": 51,
    "start_time": "2022-03-21T18:33:30.258Z"
   },
   {
    "duration": 39,
    "start_time": "2022-03-21T18:33:30.311Z"
   },
   {
    "duration": 18,
    "start_time": "2022-03-21T18:33:30.353Z"
   },
   {
    "duration": 18,
    "start_time": "2022-03-21T18:33:30.374Z"
   },
   {
    "duration": 30,
    "start_time": "2022-03-21T18:33:30.395Z"
   },
   {
    "duration": 24,
    "start_time": "2022-03-21T18:33:30.427Z"
   },
   {
    "duration": 30,
    "start_time": "2022-03-21T18:33:30.454Z"
   },
   {
    "duration": 13,
    "start_time": "2022-03-21T18:33:30.487Z"
   },
   {
    "duration": 120,
    "start_time": "2022-03-21T18:33:30.503Z"
   },
   {
    "duration": 16,
    "start_time": "2022-03-21T18:33:30.628Z"
   },
   {
    "duration": 27,
    "start_time": "2022-03-21T18:33:30.646Z"
   },
   {
    "duration": 21,
    "start_time": "2022-03-21T18:33:30.676Z"
   },
   {
    "duration": 39,
    "start_time": "2022-03-21T18:33:30.699Z"
   },
   {
    "duration": 38,
    "start_time": "2022-03-21T18:33:30.740Z"
   },
   {
    "duration": 25,
    "start_time": "2022-03-21T18:33:30.781Z"
   },
   {
    "duration": 25,
    "start_time": "2022-03-21T18:33:30.808Z"
   },
   {
    "duration": 26,
    "start_time": "2022-03-21T18:33:30.835Z"
   },
   {
    "duration": 9,
    "start_time": "2022-03-21T18:33:30.863Z"
   },
   {
    "duration": 13,
    "start_time": "2022-03-21T18:33:30.874Z"
   },
   {
    "duration": 27,
    "start_time": "2022-03-21T18:33:30.889Z"
   },
   {
    "duration": 37,
    "start_time": "2022-03-21T18:33:30.919Z"
   },
   {
    "duration": 16,
    "start_time": "2022-03-21T18:33:30.959Z"
   },
   {
    "duration": 10,
    "start_time": "2022-03-21T18:33:30.977Z"
   },
   {
    "duration": 18,
    "start_time": "2022-03-21T18:33:30.989Z"
   },
   {
    "duration": 26,
    "start_time": "2022-03-21T18:33:31.010Z"
   },
   {
    "duration": 21,
    "start_time": "2022-03-21T18:33:31.044Z"
   },
   {
    "duration": 23,
    "start_time": "2022-03-21T18:33:31.067Z"
   },
   {
    "duration": 13,
    "start_time": "2022-03-21T18:33:31.092Z"
   },
   {
    "duration": 20,
    "start_time": "2022-03-21T18:33:31.108Z"
   },
   {
    "duration": 27,
    "start_time": "2022-03-21T18:33:31.130Z"
   },
   {
    "duration": 26,
    "start_time": "2022-03-21T18:33:31.160Z"
   },
   {
    "duration": 25,
    "start_time": "2022-03-21T18:33:31.188Z"
   },
   {
    "duration": 17,
    "start_time": "2022-03-21T18:33:31.215Z"
   },
   {
    "duration": 47,
    "start_time": "2022-03-21T18:33:31.234Z"
   },
   {
    "duration": 32,
    "start_time": "2022-03-21T18:33:31.284Z"
   },
   {
    "duration": 50,
    "start_time": "2022-03-21T18:33:31.319Z"
   },
   {
    "duration": 7,
    "start_time": "2022-03-21T18:33:31.377Z"
   },
   {
    "duration": 34,
    "start_time": "2022-03-21T18:33:31.387Z"
   },
   {
    "duration": 14,
    "start_time": "2022-03-21T18:33:31.423Z"
   },
   {
    "duration": 1204,
    "start_time": "2022-03-21T18:33:31.439Z"
   },
   {
    "duration": 14,
    "start_time": "2022-03-21T18:33:32.646Z"
   },
   {
    "duration": 210,
    "start_time": "2022-03-21T18:33:32.662Z"
   },
   {
    "duration": 38,
    "start_time": "2022-03-21T18:33:32.874Z"
   },
   {
    "duration": 18,
    "start_time": "2022-03-21T18:33:32.914Z"
   },
   {
    "duration": 18,
    "start_time": "2022-03-21T18:33:32.934Z"
   },
   {
    "duration": 49,
    "start_time": "2022-03-21T18:33:32.955Z"
   },
   {
    "duration": 15,
    "start_time": "2022-03-21T18:33:33.006Z"
   },
   {
    "duration": 20,
    "start_time": "2022-03-21T18:33:33.024Z"
   },
   {
    "duration": 24,
    "start_time": "2022-03-21T18:33:33.047Z"
   },
   {
    "duration": 12,
    "start_time": "2022-03-21T18:33:33.073Z"
   },
   {
    "duration": 14,
    "start_time": "2022-03-21T18:33:33.088Z"
   },
   {
    "duration": 18,
    "start_time": "2022-03-21T18:33:33.104Z"
   },
   {
    "duration": 58,
    "start_time": "2022-03-21T18:33:33.124Z"
   },
   {
    "duration": 62,
    "start_time": "2022-03-21T18:33:33.185Z"
   },
   {
    "duration": 36,
    "start_time": "2022-03-21T18:33:33.249Z"
   },
   {
    "duration": 79,
    "start_time": "2022-03-21T18:33:33.288Z"
   },
   {
    "duration": 55,
    "start_time": "2022-03-21T18:33:33.370Z"
   },
   {
    "duration": 39,
    "start_time": "2022-03-21T18:33:33.443Z"
   },
   {
    "duration": 59,
    "start_time": "2022-03-21T18:33:33.484Z"
   },
   {
    "duration": 547,
    "start_time": "2022-03-21T18:40:30.872Z"
   },
   {
    "duration": 94,
    "start_time": "2022-03-21T18:40:31.421Z"
   },
   {
    "duration": 34,
    "start_time": "2022-03-21T18:40:31.517Z"
   },
   {
    "duration": 24,
    "start_time": "2022-03-21T18:40:31.553Z"
   },
   {
    "duration": 70,
    "start_time": "2022-03-21T18:40:31.581Z"
   },
   {
    "duration": 14,
    "start_time": "2022-03-21T18:40:31.653Z"
   },
   {
    "duration": 19,
    "start_time": "2022-03-21T18:40:31.669Z"
   },
   {
    "duration": 9,
    "start_time": "2022-03-21T18:40:31.690Z"
   },
   {
    "duration": 57,
    "start_time": "2022-03-21T18:40:31.702Z"
   },
   {
    "duration": 5,
    "start_time": "2022-03-21T18:40:31.764Z"
   },
   {
    "duration": 30,
    "start_time": "2022-03-21T18:40:31.772Z"
   },
   {
    "duration": 37,
    "start_time": "2022-03-21T18:40:31.805Z"
   },
   {
    "duration": 15,
    "start_time": "2022-03-21T18:40:31.845Z"
   },
   {
    "duration": 8,
    "start_time": "2022-03-21T18:40:31.866Z"
   },
   {
    "duration": 14,
    "start_time": "2022-03-21T18:40:31.876Z"
   },
   {
    "duration": 50,
    "start_time": "2022-03-21T18:40:31.892Z"
   },
   {
    "duration": 10,
    "start_time": "2022-03-21T18:40:31.945Z"
   },
   {
    "duration": 23,
    "start_time": "2022-03-21T18:40:31.957Z"
   },
   {
    "duration": 11,
    "start_time": "2022-03-21T18:40:31.983Z"
   },
   {
    "duration": 11,
    "start_time": "2022-03-21T18:40:31.996Z"
   },
   {
    "duration": 47,
    "start_time": "2022-03-21T18:40:32.009Z"
   },
   {
    "duration": 8,
    "start_time": "2022-03-21T18:40:32.059Z"
   },
   {
    "duration": 20,
    "start_time": "2022-03-21T18:40:32.070Z"
   },
   {
    "duration": 6,
    "start_time": "2022-03-21T18:40:32.093Z"
   },
   {
    "duration": 42,
    "start_time": "2022-03-21T18:40:32.101Z"
   },
   {
    "duration": 10,
    "start_time": "2022-03-21T18:40:32.145Z"
   },
   {
    "duration": 11,
    "start_time": "2022-03-21T18:40:32.157Z"
   },
   {
    "duration": 6,
    "start_time": "2022-03-21T18:40:32.170Z"
   },
   {
    "duration": 9,
    "start_time": "2022-03-21T18:40:32.178Z"
   },
   {
    "duration": 10,
    "start_time": "2022-03-21T18:40:32.189Z"
   },
   {
    "duration": 10,
    "start_time": "2022-03-21T18:40:32.243Z"
   },
   {
    "duration": 4,
    "start_time": "2022-03-21T18:40:32.256Z"
   },
   {
    "duration": 12,
    "start_time": "2022-03-21T18:40:32.263Z"
   },
   {
    "duration": 7,
    "start_time": "2022-03-21T18:40:32.279Z"
   },
   {
    "duration": 55,
    "start_time": "2022-03-21T18:40:32.289Z"
   },
   {
    "duration": 23,
    "start_time": "2022-03-21T18:40:32.346Z"
   },
   {
    "duration": 17,
    "start_time": "2022-03-21T18:40:32.372Z"
   },
   {
    "duration": 71,
    "start_time": "2022-03-21T18:40:32.392Z"
   },
   {
    "duration": 33,
    "start_time": "2022-03-21T18:40:32.466Z"
   },
   {
    "duration": 54,
    "start_time": "2022-03-21T18:40:32.501Z"
   },
   {
    "duration": 6,
    "start_time": "2022-03-21T18:40:32.563Z"
   },
   {
    "duration": 6,
    "start_time": "2022-03-21T18:40:32.571Z"
   },
   {
    "duration": 11,
    "start_time": "2022-03-21T18:40:32.579Z"
   },
   {
    "duration": 1083,
    "start_time": "2022-03-21T18:40:32.592Z"
   },
   {
    "duration": 11,
    "start_time": "2022-03-21T18:40:33.678Z"
   },
   {
    "duration": 18,
    "start_time": "2022-03-21T18:40:33.691Z"
   },
   {
    "duration": 55,
    "start_time": "2022-03-21T18:40:33.711Z"
   },
   {
    "duration": 21,
    "start_time": "2022-03-21T18:40:33.769Z"
   },
   {
    "duration": 12,
    "start_time": "2022-03-21T18:40:33.793Z"
   },
   {
    "duration": 9,
    "start_time": "2022-03-21T18:40:33.807Z"
   },
   {
    "duration": 16,
    "start_time": "2022-03-21T18:40:33.844Z"
   },
   {
    "duration": 13,
    "start_time": "2022-03-21T18:40:33.863Z"
   },
   {
    "duration": 10,
    "start_time": "2022-03-21T18:40:33.879Z"
   },
   {
    "duration": 17,
    "start_time": "2022-03-21T18:40:33.891Z"
   },
   {
    "duration": 14,
    "start_time": "2022-03-21T18:40:33.942Z"
   },
   {
    "duration": 17,
    "start_time": "2022-03-21T18:40:33.958Z"
   },
   {
    "duration": 40,
    "start_time": "2022-03-21T18:40:33.977Z"
   },
   {
    "duration": 37,
    "start_time": "2022-03-21T18:40:34.042Z"
   },
   {
    "duration": 35,
    "start_time": "2022-03-21T18:40:34.081Z"
   },
   {
    "duration": 57,
    "start_time": "2022-03-21T18:40:34.118Z"
   },
   {
    "duration": 35,
    "start_time": "2022-03-21T18:40:34.177Z"
   },
   {
    "duration": 61,
    "start_time": "2022-03-21T18:40:34.214Z"
   },
   {
    "duration": 40,
    "start_time": "2022-03-21T18:40:34.278Z"
   },
   {
    "duration": 447,
    "start_time": "2022-03-29T08:32:40.833Z"
   },
   {
    "duration": 68,
    "start_time": "2022-03-29T08:32:41.283Z"
   },
   {
    "duration": 23,
    "start_time": "2022-03-29T08:32:41.353Z"
   },
   {
    "duration": 18,
    "start_time": "2022-03-29T08:32:41.378Z"
   },
   {
    "duration": 58,
    "start_time": "2022-03-29T08:32:41.398Z"
   },
   {
    "duration": 11,
    "start_time": "2022-03-29T08:32:41.458Z"
   },
   {
    "duration": 12,
    "start_time": "2022-03-29T08:32:41.471Z"
   },
   {
    "duration": 7,
    "start_time": "2022-03-29T08:32:41.485Z"
   },
   {
    "duration": 42,
    "start_time": "2022-03-29T08:32:41.494Z"
   },
   {
    "duration": 4,
    "start_time": "2022-03-29T08:32:41.538Z"
   },
   {
    "duration": 19,
    "start_time": "2022-03-29T08:32:41.543Z"
   },
   {
    "duration": 8,
    "start_time": "2022-03-29T08:32:41.564Z"
   },
   {
    "duration": 18,
    "start_time": "2022-03-29T08:32:41.573Z"
   },
   {
    "duration": 7,
    "start_time": "2022-03-29T08:32:41.594Z"
   },
   {
    "duration": 32,
    "start_time": "2022-03-29T08:32:41.603Z"
   },
   {
    "duration": 12,
    "start_time": "2022-03-29T08:32:41.637Z"
   },
   {
    "duration": 13,
    "start_time": "2022-03-29T08:32:41.650Z"
   },
   {
    "duration": 19,
    "start_time": "2022-03-29T08:32:41.665Z"
   },
   {
    "duration": 11,
    "start_time": "2022-03-29T08:32:41.686Z"
   },
   {
    "duration": 9,
    "start_time": "2022-03-29T08:32:41.699Z"
   },
   {
    "duration": 15,
    "start_time": "2022-03-29T08:32:41.732Z"
   },
   {
    "duration": 6,
    "start_time": "2022-03-29T08:32:41.748Z"
   },
   {
    "duration": 10,
    "start_time": "2022-03-29T08:32:41.755Z"
   },
   {
    "duration": 5,
    "start_time": "2022-03-29T08:32:41.766Z"
   },
   {
    "duration": 8,
    "start_time": "2022-03-29T08:32:41.773Z"
   },
   {
    "duration": 13,
    "start_time": "2022-03-29T08:32:41.783Z"
   },
   {
    "duration": 9,
    "start_time": "2022-03-29T08:32:41.797Z"
   },
   {
    "duration": 6,
    "start_time": "2022-03-29T08:32:41.832Z"
   },
   {
    "duration": 15,
    "start_time": "2022-03-29T08:32:41.839Z"
   },
   {
    "duration": 11,
    "start_time": "2022-03-29T08:32:41.856Z"
   },
   {
    "duration": 11,
    "start_time": "2022-03-29T08:32:41.869Z"
   },
   {
    "duration": 4,
    "start_time": "2022-03-29T08:32:41.882Z"
   },
   {
    "duration": 12,
    "start_time": "2022-03-29T08:32:41.887Z"
   },
   {
    "duration": 6,
    "start_time": "2022-03-29T08:32:41.901Z"
   },
   {
    "duration": 7,
    "start_time": "2022-03-29T08:32:41.932Z"
   },
   {
    "duration": 14,
    "start_time": "2022-03-29T08:32:41.941Z"
   },
   {
    "duration": 12,
    "start_time": "2022-03-29T08:32:41.956Z"
   },
   {
    "duration": 29,
    "start_time": "2022-03-29T08:32:41.969Z"
   },
   {
    "duration": 38,
    "start_time": "2022-03-29T08:32:42.000Z"
   },
   {
    "duration": 18,
    "start_time": "2022-03-29T08:32:42.040Z"
   },
   {
    "duration": 4,
    "start_time": "2022-03-29T08:32:42.063Z"
   },
   {
    "duration": 7,
    "start_time": "2022-03-29T08:32:42.069Z"
   },
   {
    "duration": 14,
    "start_time": "2022-03-29T08:32:42.078Z"
   },
   {
    "duration": 703,
    "start_time": "2022-03-29T08:32:42.094Z"
   },
   {
    "duration": 8,
    "start_time": "2022-03-29T08:32:42.799Z"
   },
   {
    "duration": 23,
    "start_time": "2022-03-29T08:32:42.808Z"
   },
   {
    "duration": 15,
    "start_time": "2022-03-29T08:32:42.833Z"
   },
   {
    "duration": 10,
    "start_time": "2022-03-29T08:32:42.850Z"
   },
   {
    "duration": 14,
    "start_time": "2022-03-29T08:32:42.862Z"
   },
   {
    "duration": 9,
    "start_time": "2022-03-29T08:32:42.878Z"
   },
   {
    "duration": 16,
    "start_time": "2022-03-29T08:32:42.889Z"
   },
   {
    "duration": 35,
    "start_time": "2022-03-29T08:32:42.907Z"
   },
   {
    "duration": 12,
    "start_time": "2022-03-29T08:32:42.944Z"
   },
   {
    "duration": 10,
    "start_time": "2022-03-29T08:32:42.958Z"
   },
   {
    "duration": 9,
    "start_time": "2022-03-29T08:32:42.970Z"
   },
   {
    "duration": 15,
    "start_time": "2022-03-29T08:32:42.980Z"
   },
   {
    "duration": 46,
    "start_time": "2022-03-29T08:32:42.997Z"
   },
   {
    "duration": 27,
    "start_time": "2022-03-29T08:32:43.045Z"
   },
   {
    "duration": 25,
    "start_time": "2022-03-29T08:32:43.074Z"
   },
   {
    "duration": 48,
    "start_time": "2022-03-29T08:32:43.101Z"
   },
   {
    "duration": 26,
    "start_time": "2022-03-29T08:32:43.150Z"
   },
   {
    "duration": 27,
    "start_time": "2022-03-29T08:32:43.177Z"
   },
   {
    "duration": 48,
    "start_time": "2022-03-29T08:32:43.206Z"
   },
   {
    "duration": 427,
    "start_time": "2022-03-29T08:33:09.691Z"
   },
   {
    "duration": 67,
    "start_time": "2022-03-29T08:33:10.120Z"
   },
   {
    "duration": 21,
    "start_time": "2022-03-29T08:33:10.189Z"
   },
   {
    "duration": 27,
    "start_time": "2022-03-29T08:33:10.212Z"
   },
   {
    "duration": 35,
    "start_time": "2022-03-29T08:33:10.242Z"
   },
   {
    "duration": 11,
    "start_time": "2022-03-29T08:33:10.278Z"
   },
   {
    "duration": 15,
    "start_time": "2022-03-29T08:33:10.290Z"
   },
   {
    "duration": 30,
    "start_time": "2022-03-29T08:33:10.307Z"
   },
   {
    "duration": 19,
    "start_time": "2022-03-29T08:33:10.339Z"
   },
   {
    "duration": 3,
    "start_time": "2022-03-29T08:33:10.360Z"
   },
   {
    "duration": 17,
    "start_time": "2022-03-29T08:33:10.365Z"
   },
   {
    "duration": 9,
    "start_time": "2022-03-29T08:33:10.384Z"
   },
   {
    "duration": 45,
    "start_time": "2022-03-29T08:33:10.395Z"
   },
   {
    "duration": 6,
    "start_time": "2022-03-29T08:33:10.444Z"
   },
   {
    "duration": 14,
    "start_time": "2022-03-29T08:33:10.452Z"
   },
   {
    "duration": 13,
    "start_time": "2022-03-29T08:33:10.467Z"
   },
   {
    "duration": 9,
    "start_time": "2022-03-29T08:33:10.482Z"
   },
   {
    "duration": 41,
    "start_time": "2022-03-29T08:33:10.493Z"
   },
   {
    "duration": 10,
    "start_time": "2022-03-29T08:33:10.536Z"
   },
   {
    "duration": 10,
    "start_time": "2022-03-29T08:33:10.547Z"
   },
   {
    "duration": 15,
    "start_time": "2022-03-29T08:33:10.559Z"
   },
   {
    "duration": 7,
    "start_time": "2022-03-29T08:33:10.576Z"
   },
   {
    "duration": 8,
    "start_time": "2022-03-29T08:33:10.584Z"
   },
   {
    "duration": 39,
    "start_time": "2022-03-29T08:33:10.593Z"
   },
   {
    "duration": 13,
    "start_time": "2022-03-29T08:33:10.634Z"
   },
   {
    "duration": 9,
    "start_time": "2022-03-29T08:33:10.649Z"
   },
   {
    "duration": 10,
    "start_time": "2022-03-29T08:33:10.660Z"
   },
   {
    "duration": 7,
    "start_time": "2022-03-29T08:33:10.672Z"
   },
   {
    "duration": 10,
    "start_time": "2022-03-29T08:33:10.681Z"
   },
   {
    "duration": 10,
    "start_time": "2022-03-29T08:33:10.693Z"
   },
   {
    "duration": 29,
    "start_time": "2022-03-29T08:33:10.705Z"
   },
   {
    "duration": 4,
    "start_time": "2022-03-29T08:33:10.736Z"
   },
   {
    "duration": 11,
    "start_time": "2022-03-29T08:33:10.742Z"
   },
   {
    "duration": 7,
    "start_time": "2022-03-29T08:33:10.754Z"
   },
   {
    "duration": 9,
    "start_time": "2022-03-29T08:33:10.763Z"
   },
   {
    "duration": 14,
    "start_time": "2022-03-29T08:33:10.774Z"
   },
   {
    "duration": 44,
    "start_time": "2022-03-29T08:33:10.790Z"
   },
   {
    "duration": 24,
    "start_time": "2022-03-29T08:33:10.836Z"
   },
   {
    "duration": 23,
    "start_time": "2022-03-29T08:33:10.862Z"
   },
   {
    "duration": 44,
    "start_time": "2022-03-29T08:33:10.887Z"
   },
   {
    "duration": 5,
    "start_time": "2022-03-29T08:33:10.936Z"
   },
   {
    "duration": 4,
    "start_time": "2022-03-29T08:33:10.943Z"
   },
   {
    "duration": 8,
    "start_time": "2022-03-29T08:33:10.949Z"
   },
   {
    "duration": 708,
    "start_time": "2022-03-29T08:33:10.958Z"
   },
   {
    "duration": 7,
    "start_time": "2022-03-29T08:33:11.669Z"
   },
   {
    "duration": 15,
    "start_time": "2022-03-29T08:33:11.677Z"
   },
   {
    "duration": 17,
    "start_time": "2022-03-29T08:33:11.694Z"
   },
   {
    "duration": 26,
    "start_time": "2022-03-29T08:33:11.712Z"
   },
   {
    "duration": 15,
    "start_time": "2022-03-29T08:33:11.740Z"
   },
   {
    "duration": 12,
    "start_time": "2022-03-29T08:33:11.757Z"
   },
   {
    "duration": 13,
    "start_time": "2022-03-29T08:33:11.770Z"
   },
   {
    "duration": 16,
    "start_time": "2022-03-29T08:33:11.785Z"
   },
   {
    "duration": 13,
    "start_time": "2022-03-29T08:33:11.802Z"
   },
   {
    "duration": 20,
    "start_time": "2022-03-29T08:33:11.817Z"
   },
   {
    "duration": 10,
    "start_time": "2022-03-29T08:33:11.839Z"
   },
   {
    "duration": 10,
    "start_time": "2022-03-29T08:33:11.850Z"
   },
   {
    "duration": 30,
    "start_time": "2022-03-29T08:33:11.862Z"
   },
   {
    "duration": 52,
    "start_time": "2022-03-29T08:33:11.894Z"
   },
   {
    "duration": 26,
    "start_time": "2022-03-29T08:33:11.948Z"
   },
   {
    "duration": 25,
    "start_time": "2022-03-29T08:33:11.975Z"
   },
   {
    "duration": 52,
    "start_time": "2022-03-29T08:33:12.001Z"
   },
   {
    "duration": 25,
    "start_time": "2022-03-29T08:33:12.055Z"
   },
   {
    "duration": 26,
    "start_time": "2022-03-29T08:33:12.081Z"
   }
  ],
  "kernelspec": {
   "display_name": "Python 3 (ipykernel)",
   "language": "python",
   "name": "python3"
  },
  "language_info": {
   "codemirror_mode": {
    "name": "ipython",
    "version": 3
   },
   "file_extension": ".py",
   "mimetype": "text/x-python",
   "name": "python",
   "nbconvert_exporter": "python",
   "pygments_lexer": "ipython3",
   "version": "3.9.5"
  },
  "toc": {
   "base_numbering": 1,
   "nav_menu": {},
   "number_sections": true,
   "sideBar": true,
   "skip_h1_title": true,
   "title_cell": "Table of Contents",
   "title_sidebar": "Contents",
   "toc_cell": false,
   "toc_position": {},
   "toc_section_display": true,
   "toc_window_display": false
  }
 },
 "nbformat": 4,
 "nbformat_minor": 2
}
